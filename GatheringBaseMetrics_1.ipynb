{
  "nbformat": 4,
  "nbformat_minor": 0,
  "metadata": {
    "colab": {
      "name": "GatheringBaseMetrics_1.ipynb",
      "provenance": [],
      "collapsed_sections": [],
      "toc_visible": true,
      "authorship_tag": "ABX9TyP48vfXfoBUAttPp9lOhtoM",
      "include_colab_link": true
    },
    "kernelspec": {
      "name": "python3",
      "display_name": "Python 3"
    }
  },
  "cells": [
    {
      "cell_type": "markdown",
      "metadata": {
        "id": "view-in-github",
        "colab_type": "text"
      },
      "source": [
        "<a href=\"https://colab.research.google.com/github/curtiscu/LYIT/blob/master/GatheringBaseMetrics_1.ipynb\" target=\"_parent\"><img src=\"https://colab.research.google.com/assets/colab-badge.svg\" alt=\"Open In Colab\"/></a>"
      ]
    },
    {
      "cell_type": "markdown",
      "metadata": {
        "id": "7wWIAOlVg-FN",
        "colab_type": "text"
      },
      "source": [
        "# Gathering Metrics"
      ]
    },
    {
      "cell_type": "markdown",
      "metadata": {
        "id": "wuc7ITqGhKjw",
        "colab_type": "text"
      },
      "source": [
        ""
      ]
    },
    {
      "cell_type": "markdown",
      "metadata": {
        "id": "NybvOG9ssS26",
        "colab_type": "text"
      },
      "source": [
        "# Setup env\n"
      ]
    },
    {
      "cell_type": "code",
      "metadata": {
        "id": "juZFbd9RttvQ",
        "colab_type": "code",
        "colab": {}
      },
      "source": [
        "# print all cell output\n",
        "from IPython.core.interactiveshell import InteractiveShell\n",
        "InteractiveShell.ast_node_interactivity = \"all\"\n"
      ],
      "execution_count": 0,
      "outputs": []
    },
    {
      "cell_type": "markdown",
      "metadata": {
        "id": "yEXZFoA4t9de",
        "colab_type": "text"
      },
      "source": [
        "## Google drive access"
      ]
    },
    {
      "cell_type": "code",
      "metadata": {
        "id": "uRELmgI2mvEK",
        "colab_type": "code",
        "outputId": "8c951f3e-acfc-46b8-bf08-20cb687ebfa3",
        "colab": {
          "base_uri": "https://localhost:8080/",
          "height": 125
        }
      },
      "source": [
        "# mount google drive\n",
        "\n",
        "from google.colab import drive\n",
        "drive.mount('/content/drive', force_remount=True)\n"
      ],
      "execution_count": 0,
      "outputs": [
        {
          "output_type": "stream",
          "text": [
            "Go to this URL in a browser: https://accounts.google.com/o/oauth2/auth?client_id=947318989803-6bn6qk8qdgf4n4g3pfee6491hc0brc4i.apps.googleusercontent.com&redirect_uri=urn%3aietf%3awg%3aoauth%3a2.0%3aoob&response_type=code&scope=email%20https%3a%2f%2fwww.googleapis.com%2fauth%2fdocs.test%20https%3a%2f%2fwww.googleapis.com%2fauth%2fdrive%20https%3a%2f%2fwww.googleapis.com%2fauth%2fdrive.photos.readonly%20https%3a%2f%2fwww.googleapis.com%2fauth%2fpeopleapi.readonly\n",
            "\n",
            "Enter your authorization code:\n",
            "··········\n",
            "Mounted at /content/drive\n"
          ],
          "name": "stdout"
        }
      ]
    },
    {
      "cell_type": "code",
      "metadata": {
        "id": "Yk2_ztH9uKat",
        "colab_type": "code",
        "outputId": "e6775ebe-715c-43fa-fce4-4af7cbcbbe7c",
        "colab": {
          "base_uri": "https://localhost:8080/",
          "height": 283
        }
      },
      "source": [
        "# test, peek at data\n",
        "! ls -al '/content/drive/My Drive/groove-v1.0.0-midionly/groove/drummer1/eval_session/'\n",
        "\n",
        "# test, modules from local  'E:\\Google Drive\\LYIT\\Dissertation\\modules'\n",
        "! ls -al '/content/drive/My Drive/LYIT/Dissertation/modules/'"
      ],
      "execution_count": 0,
      "outputs": [
        {
          "output_type": "stream",
          "text": [
            "total 35\n",
            "-rw------- 1 root root 2589 Apr 27 12:01 10_soul-groove10_102_beat_4-4.mid\n",
            "-rw------- 1 root root 4793 Apr 27 12:01 1_funk-groove1_138_beat_4-4.mid\n",
            "-rw------- 1 root root 3243 Apr 27 12:01 2_funk-groove2_105_beat_4-4.mid\n",
            "-rw------- 1 root root 4466 Apr 27 12:01 3_soul-groove3_86_beat_4-4.mid\n",
            "-rw------- 1 root root 2551 Apr 27 12:01 4_soul-groove4_80_beat_4-4.mid\n",
            "-rw------- 1 root root 3798 Apr 27 12:01 5_funk-groove5_84_beat_4-4.mid\n",
            "-rw------- 1 root root 3760 Apr 27 12:01 6_hiphop-groove6_87_beat_4-4.mid\n",
            "-rw------- 1 root root 1894 Apr 27 12:01 7_pop-groove7_138_beat_4-4.mid\n",
            "-rw------- 1 root root 2437 Apr 27 12:01 8_rock-groove8_65_beat_4-4.mid\n",
            "-rw------- 1 root root 3448 Apr 27 12:01 9_soul-groove9_105_beat_4-4.mid\n",
            "total 34\n",
            "-rw------- 1 root root 21727 Jun  4 19:53 data_prep.py\n",
            "drwx------ 2 root root  4096 May 10 13:31 __pycache__\n",
            "-rw------- 1 root root  8416 Jun  2 21:24 visualizations.py\n"
          ],
          "name": "stdout"
        }
      ]
    },
    {
      "cell_type": "markdown",
      "metadata": {
        "id": "SBKOdMxXFygn",
        "colab_type": "text"
      },
      "source": [
        "## Auto reload module\n",
        "\n",
        "Now using library code I've created and saved to google drive which is automatically pushed to the cloud and made available to the colab env. The autoreload stuff below should help imports to 'reimport' to load changes to the library code.\n",
        "\n",
        "It's not the quickest/ most reliable, so if in a hurry, brute force loading of changes by restarting the runtime."
      ]
    },
    {
      "cell_type": "code",
      "metadata": {
        "id": "jErvkusO6D01",
        "colab_type": "code",
        "colab": {}
      },
      "source": [
        "# tool to auto reload modules.\n",
        "%load_ext autoreload\n",
        "\n",
        "# config to auto-reload all modules, handy to make \n",
        "# writing and testing modules much easier.\n",
        "%autoreload 2"
      ],
      "execution_count": 0,
      "outputs": []
    },
    {
      "cell_type": "markdown",
      "metadata": {
        "id": "2qR3tjMl4bv2",
        "colab_type": "text"
      },
      "source": [
        "## Imports and accessing lib functions"
      ]
    },
    {
      "cell_type": "code",
      "metadata": {
        "id": "U6Yjj8jC4gQr",
        "colab_type": "code",
        "outputId": "77d59e9c-8cba-4b14-dbba-222d4b0c8095",
        "colab": {
          "base_uri": "https://localhost:8080/",
          "height": 125
        }
      },
      "source": [
        "# install required libs\n",
        "!pip install mido"
      ],
      "execution_count": 0,
      "outputs": [
        {
          "output_type": "stream",
          "text": [
            "Collecting mido\n",
            "\u001b[?25l  Downloading https://files.pythonhosted.org/packages/20/0a/81beb587b1ae832ea6a1901dc7c6faa380e8dd154e0a862f0a9f3d2afab9/mido-1.2.9-py2.py3-none-any.whl (52kB)\n",
            "\r\u001b[K     |██████▎                         | 10kB 16.9MB/s eta 0:00:01\r\u001b[K     |████████████▌                   | 20kB 5.9MB/s eta 0:00:01\r\u001b[K     |██████████████████▊             | 30kB 6.5MB/s eta 0:00:01\r\u001b[K     |█████████████████████████       | 40kB 7.9MB/s eta 0:00:01\r\u001b[K     |███████████████████████████████▏| 51kB 6.4MB/s eta 0:00:01\r\u001b[K     |████████████████████████████████| 61kB 4.2MB/s \n",
            "\u001b[?25hInstalling collected packages: mido\n",
            "Successfully installed mido-1.2.9\n"
          ],
          "name": "stdout"
        }
      ]
    },
    {
      "cell_type": "code",
      "metadata": {
        "id": "DQ0sg10tzufp",
        "colab_type": "code",
        "colab": {}
      },
      "source": [
        "# import my modules\n",
        "import sys\n",
        "sys.path.append('/content/drive/My Drive/LYIT/Dissertation/modules/')\n",
        "import data_prep as dp"
      ],
      "execution_count": 0,
      "outputs": []
    },
    {
      "cell_type": "code",
      "metadata": {
        "id": "rjqCavr4sz4x",
        "colab_type": "code",
        "colab": {}
      },
      "source": [
        "# imports\n",
        "import pandas as pd\n",
        "import math\n",
        "import matplotlib.pyplot as plt\n",
        "import numpy as np\n",
        "\n",
        "\n",
        "# object that provides colours for charts\n",
        "from itertools import cycle\n",
        "\n"
      ],
      "execution_count": 0,
      "outputs": []
    },
    {
      "cell_type": "code",
      "metadata": {
        "id": "oPKVwQibzS7t",
        "colab_type": "code",
        "outputId": "9959dda3-f666-4c90-8ad2-317ba3c637d1",
        "colab": {
          "base_uri": "https://localhost:8080/",
          "height": 34
        }
      },
      "source": [
        "# testing auto reload of modules \n",
        "dp.test_function_call('bling')"
      ],
      "execution_count": 12,
      "outputs": [
        {
          "output_type": "stream",
          "text": [
            "Test function called worked! when: 2020-06-11 14:05:13.399089,  param:bling\n"
          ],
          "name": "stdout"
        }
      ]
    },
    {
      "cell_type": "markdown",
      "metadata": {
        "id": "lBT_BaeD4o8L",
        "colab_type": "text"
      },
      "source": [
        "## Pandas display options"
      ]
    },
    {
      "cell_type": "code",
      "metadata": {
        "id": "KkLdwFFAAotC",
        "colab_type": "code",
        "colab": {}
      },
      "source": [
        "def set_pandas_display_options() -> None:\n",
        "    # Ref: https://stackoverflow.com/a/52432757/\n",
        "    display = pd.options.display\n",
        "\n",
        "    display.max_columns = 1000\n",
        "    display.max_rows = 2000\n",
        "    display.max_colwidth = 1000\n",
        "    display.width = None\n",
        "    # display.precision = 2  # set as needed\n",
        "\n",
        "set_pandas_display_options()\n",
        "#pd.reset_option('all')\n"
      ],
      "execution_count": 0,
      "outputs": []
    },
    {
      "cell_type": "markdown",
      "metadata": {
        "id": "G-AXcKgvo0VB",
        "colab_type": "text"
      },
      "source": [
        "# Load some data"
      ]
    },
    {
      "cell_type": "code",
      "metadata": {
        "id": "U1FcFadAsm_k",
        "colab_type": "code",
        "colab": {}
      },
      "source": [
        ""
      ],
      "execution_count": 0,
      "outputs": []
    },
    {
      "cell_type": "code",
      "metadata": {
        "id": "ZAwEbZGio6Kx",
        "colab_type": "code",
        "colab": {
          "base_uri": "https://localhost:8080/",
          "height": 232
        },
        "outputId": "9e35ef5c-0948-4ac6-a163-c557c77231ec"
      },
      "source": [
        "\n",
        "file_1 = '/content/drive/My Drive/groove-v1.0.0-midionly/groove/drummer1/eval_session/1_funk-groove1_138_beat_4-4.mid'\n",
        "file_7 = '/content/drive/My Drive/groove-v1.0.0-midionly/groove/drummer7/eval_session/1_funk-groove1_138_beat_4-4.mid'\n",
        "\n",
        "file_df, f, mtt = dp.load_file(file_7)  # load data"
      ],
      "execution_count": 13,
      "outputs": [
        {
          "output_type": "stream",
          "text": [
            "FILE name: /content/drive/My Drive/groove-v1.0.0-midionly/groove/drummer7/eval_session/1_funk-groove1_138_beat_4-4.mid\n",
            "    loaded file: <midi file '/content/drive/My Drive/groove-v1.0.0-midionly/groove/drummer7/eval_session/1_funk-groove1_138_beat_4-4.mid' type 0, 1 tracks, 521 messages>\n",
            "    time sig: <meta message time_signature numerator=4 denominator=4 clocks_per_click=24 notated_32nd_notes_per_beat=8 time=0>\n",
            "    tempo: <meta message set_tempo tempo=434783 time=0>\n",
            "    track count: 1, tracks: [<midi track 'Midi Drums' 521 messages>]\n",
            "    MIDI file type: 0\n",
            "    > processing track: <midi track 'Midi Drums' 521 messages>\n",
            "    note_on span - first tick: 0 , last tick: 30493 \n",
            "    good instruments: 4, {36.0: 'Bass Drum 1 (36)', 38.0: 'Acoustic Snare (38)', 49.0: 'Crash Cymbal 1 (49)', 51.0: 'Ride Cymbal 1 (51)'}\n",
            "    bar info - bars in file: 16, bar quantize level: 16.0\n",
            "    tick info - ticks per time sig beat: 480.0, ticks per quantize bin: 120\n"
          ],
          "name": "stdout"
        }
      ]
    },
    {
      "cell_type": "code",
      "metadata": {
        "id": "GMHzJYHmtEBY",
        "colab_type": "code",
        "colab": {
          "base_uri": "https://localhost:8080/",
          "height": 494
        },
        "outputId": "5097b0c7-72e2-4aa1-c604-3b3f564e264f"
      },
      "source": [
        "file_df.head()\n",
        "file_df.info()"
      ],
      "execution_count": 14,
      "outputs": [
        {
          "output_type": "execute_result",
          "data": {
            "text/html": [
              "<div>\n",
              "<style scoped>\n",
              "    .dataframe tbody tr th:only-of-type {\n",
              "        vertical-align: middle;\n",
              "    }\n",
              "\n",
              "    .dataframe tbody tr th {\n",
              "        vertical-align: top;\n",
              "    }\n",
              "\n",
              "    .dataframe thead th {\n",
              "        text-align: right;\n",
              "    }\n",
              "</style>\n",
              "<table border=\"1\" class=\"dataframe\">\n",
              "  <thead>\n",
              "    <tr style=\"text-align: right;\">\n",
              "      <th></th>\n",
              "      <th></th>\n",
              "      <th></th>\n",
              "      <th>track_msg_num</th>\n",
              "      <th>total_ticks</th>\n",
              "      <th>note</th>\n",
              "      <th>velocity</th>\n",
              "      <th>beat_offset</th>\n",
              "      <th>beat_center</th>\n",
              "      <th>bar_number</th>\n",
              "      <th>bar_beat_number</th>\n",
              "    </tr>\n",
              "    <tr>\n",
              "      <th>bar_number</th>\n",
              "      <th>bar_beat_number</th>\n",
              "      <th>note</th>\n",
              "      <th></th>\n",
              "      <th></th>\n",
              "      <th></th>\n",
              "      <th></th>\n",
              "      <th></th>\n",
              "      <th></th>\n",
              "      <th></th>\n",
              "      <th></th>\n",
              "    </tr>\n",
              "  </thead>\n",
              "  <tbody>\n",
              "    <tr>\n",
              "      <th rowspan=\"5\" valign=\"top\">1</th>\n",
              "      <th rowspan=\"2\" valign=\"top\">1</th>\n",
              "      <th>36</th>\n",
              "      <td>0:6</td>\n",
              "      <td>0</td>\n",
              "      <td>36</td>\n",
              "      <td>47</td>\n",
              "      <td>0</td>\n",
              "      <td>0</td>\n",
              "      <td>1</td>\n",
              "      <td>1</td>\n",
              "    </tr>\n",
              "    <tr>\n",
              "      <th>51</th>\n",
              "      <td>0:7</td>\n",
              "      <td>0</td>\n",
              "      <td>51</td>\n",
              "      <td>113</td>\n",
              "      <td>0</td>\n",
              "      <td>0</td>\n",
              "      <td>1</td>\n",
              "      <td>1</td>\n",
              "    </tr>\n",
              "    <tr>\n",
              "      <th rowspan=\"2\" valign=\"top\">3</th>\n",
              "      <th>51</th>\n",
              "      <td>0:10</td>\n",
              "      <td>241</td>\n",
              "      <td>51</td>\n",
              "      <td>55</td>\n",
              "      <td>1</td>\n",
              "      <td>240</td>\n",
              "      <td>1</td>\n",
              "      <td>3</td>\n",
              "    </tr>\n",
              "    <tr>\n",
              "      <th>36</th>\n",
              "      <td>0:11</td>\n",
              "      <td>245</td>\n",
              "      <td>36</td>\n",
              "      <td>43</td>\n",
              "      <td>5</td>\n",
              "      <td>240</td>\n",
              "      <td>1</td>\n",
              "      <td>3</td>\n",
              "    </tr>\n",
              "    <tr>\n",
              "      <th>5</th>\n",
              "      <th>38</th>\n",
              "      <td>0:14</td>\n",
              "      <td>505</td>\n",
              "      <td>38</td>\n",
              "      <td>108</td>\n",
              "      <td>25</td>\n",
              "      <td>480</td>\n",
              "      <td>1</td>\n",
              "      <td>5</td>\n",
              "    </tr>\n",
              "  </tbody>\n",
              "</table>\n",
              "</div>"
            ],
            "text/plain": [
              "                                track_msg_num  total_ticks  note  velocity  \\\n",
              "bar_number bar_beat_number note                                              \n",
              "1          1               36             0:6            0    36        47   \n",
              "                           51             0:7            0    51       113   \n",
              "           3               51            0:10          241    51        55   \n",
              "                           36            0:11          245    36        43   \n",
              "           5               38            0:14          505    38       108   \n",
              "\n",
              "                                 beat_offset beat_center  bar_number  \\\n",
              "bar_number bar_beat_number note                                        \n",
              "1          1               36              0           0           1   \n",
              "                           51              0           0           1   \n",
              "           3               51              1         240           1   \n",
              "                           36              5         240           1   \n",
              "           5               38             25         480           1   \n",
              "\n",
              "                                 bar_beat_number  \n",
              "bar_number bar_beat_number note                   \n",
              "1          1               36                  1  \n",
              "                           51                  1  \n",
              "           3               51                  3  \n",
              "                           36                  3  \n",
              "           5               38                  5  "
            ]
          },
          "metadata": {
            "tags": []
          },
          "execution_count": 14
        },
        {
          "output_type": "stream",
          "text": [
            "<class 'pandas.core.frame.DataFrame'>\n",
            "MultiIndex: 257 entries, (1, 1, 36) to (16, 15, 51)\n",
            "Data columns (total 8 columns):\n",
            " #   Column           Non-Null Count  Dtype   \n",
            "---  ------           --------------  -----   \n",
            " 0   track_msg_num    257 non-null    string  \n",
            " 1   total_ticks      257 non-null    int64   \n",
            " 2   note             257 non-null    int64   \n",
            " 3   velocity         257 non-null    int64   \n",
            " 4   beat_offset      257 non-null    int64   \n",
            " 5   beat_center      257 non-null    category\n",
            " 6   bar_number       257 non-null    int64   \n",
            " 7   bar_beat_number  257 non-null    int64   \n",
            "dtypes: category(1), int64(6), string(1)\n",
            "memory usage: 16.5 KB\n"
          ],
          "name": "stdout"
        }
      ]
    },
    {
      "cell_type": "code",
      "metadata": {
        "id": "tfgPO51QwV_w",
        "colab_type": "code",
        "colab": {}
      },
      "source": [
        "tmp_df = file_df.copy()\n"
      ],
      "execution_count": 0,
      "outputs": []
    },
    {
      "cell_type": "markdown",
      "metadata": {
        "id": "7YPvj7Kz2jTJ",
        "colab_type": "text"
      },
      "source": [
        "# GroupBy tests"
      ]
    },
    {
      "cell_type": "markdown",
      "metadata": {
        "id": "-Ig6k4Er2lG-",
        "colab_type": "text"
      },
      "source": [
        "Very good info on using DataFrame groupby operations...\n",
        "* https://pandas.pydata.org/pandas-docs/stable/user_guide/groupby.html\n",
        "* https://www.shanelynn.ie/summarising-aggregation-and-grouping-data-in-python-pandas/\n",
        "* https://jakevdp.github.io/PythonDataScienceHandbook/03.08-aggregation-and-grouping.html\n",
        "* https://chrisalbon.com/python/data_wrangling/pandas_apply_operations_to_groups/\n",
        "* https://stackoverflow.com/a/51231000\n",
        "* http://www.gregreda.com/2013/10/26/working-with-pandas-dataframes/\n",
        "\n"
      ]
    },
    {
      "cell_type": "code",
      "metadata": {
        "id": "xp1CIf01wbDS",
        "colab_type": "code",
        "colab": {}
      },
      "source": [
        "# calculate number of hits per metric position \n",
        "op = tmp_df.groupby(level=1)['note'].count()  "
      ],
      "execution_count": 0,
      "outputs": []
    },
    {
      "cell_type": "code",
      "metadata": {
        "id": "xKnxC4oIwm1b",
        "colab_type": "code",
        "colab": {
          "base_uri": "https://localhost:8080/",
          "height": 301
        },
        "outputId": "668404f3-a980-488c-b82f-9755a93c9ca1"
      },
      "source": [
        "print(str(op))"
      ],
      "execution_count": 23,
      "outputs": [
        {
          "output_type": "stream",
          "text": [
            "bar_beat_number\n",
            "1     28\n",
            "2      4\n",
            "3     32\n",
            "4      4\n",
            "5     32\n",
            "7     16\n",
            "8     16\n",
            "9     16\n",
            "10    12\n",
            "11    32\n",
            "12     8\n",
            "13    25\n",
            "15    24\n",
            "16     8\n",
            "Name: note, dtype: int64\n"
          ],
          "name": "stdout"
        }
      ]
    },
    {
      "cell_type": "markdown",
      "metadata": {
        "id": "63ZkI2oU7n7d",
        "colab_type": "text"
      },
      "source": [
        "We have duplicate columns & index names, need to drop some stuff to explore more."
      ]
    },
    {
      "cell_type": "code",
      "metadata": {
        "id": "p4zw--rZ7l0Q",
        "colab_type": "code",
        "colab": {}
      },
      "source": [
        "tmp2 = tmp_df.drop(columns=['bar_beat_number', 'note'])"
      ],
      "execution_count": 0,
      "outputs": []
    },
    {
      "cell_type": "code",
      "metadata": {
        "id": "HblYK59-8E3l",
        "colab_type": "code",
        "colab": {
          "base_uri": "https://localhost:8080/",
          "height": 247
        },
        "outputId": "00ce3449-63f0-4d26-fbb8-08599f9862ea"
      },
      "source": [
        "tmp2.info()"
      ],
      "execution_count": 28,
      "outputs": [
        {
          "output_type": "stream",
          "text": [
            "<class 'pandas.core.frame.DataFrame'>\n",
            "MultiIndex: 257 entries, (1, 1, 36) to (16, 15, 51)\n",
            "Data columns (total 6 columns):\n",
            " #   Column         Non-Null Count  Dtype   \n",
            "---  ------         --------------  -----   \n",
            " 0   track_msg_num  257 non-null    string  \n",
            " 1   total_ticks    257 non-null    int64   \n",
            " 2   velocity       257 non-null    int64   \n",
            " 3   beat_offset    257 non-null    int64   \n",
            " 4   beat_center    257 non-null    category\n",
            " 5   bar_number     257 non-null    int64   \n",
            "dtypes: category(1), int64(4), string(1)\n",
            "memory usage: 12.5 KB\n"
          ],
          "name": "stdout"
        }
      ]
    },
    {
      "cell_type": "code",
      "metadata": {
        "id": "uM1JmrLUxQ7h",
        "colab_type": "code",
        "colab": {}
      },
      "source": [
        "# calculate number of hits per instrument, per metric position \n",
        "op2 = tmp2.groupby(by=['bar_beat_number', 'note'])['velocity'].count()"
      ],
      "execution_count": 0,
      "outputs": []
    },
    {
      "cell_type": "code",
      "metadata": {
        "id": "Fo9LGSLbGytf",
        "colab_type": "code",
        "colab": {
          "base_uri": "https://localhost:8080/",
          "height": 425
        },
        "outputId": "d3e45550-36b2-409e-9b18-8231b2ba7ab4"
      },
      "source": [
        "op2"
      ],
      "execution_count": 62,
      "outputs": [
        {
          "output_type": "execute_result",
          "data": {
            "text/plain": [
              "bar_beat_number  note\n",
              "1                36      12\n",
              "                 51      16\n",
              "2                38       4\n",
              "3                36      16\n",
              "                 51      16\n",
              "4                36       4\n",
              "5                38      16\n",
              "                 51      16\n",
              "7                51      16\n",
              "8                38      16\n",
              "9                51      16\n",
              "10               38      12\n",
              "11               36      16\n",
              "                 49       4\n",
              "                 51      12\n",
              "12               36       8\n",
              "13               38       8\n",
              "                 51      17\n",
              "15               38       8\n",
              "                 51      16\n",
              "16               38       8\n",
              "Name: velocity, dtype: int64"
            ]
          },
          "metadata": {
            "tags": []
          },
          "execution_count": 62
        }
      ]
    },
    {
      "cell_type": "code",
      "metadata": {
        "id": "eX4WrwAb8NgE",
        "colab_type": "code",
        "colab": {}
      },
      "source": [
        "op3 = pd.DataFrame(op2)"
      ],
      "execution_count": 0,
      "outputs": []
    },
    {
      "cell_type": "code",
      "metadata": {
        "id": "LzhE1bXyIk4H",
        "colab_type": "code",
        "colab": {}
      },
      "source": [
        "op3.columns = ['hit_count']"
      ],
      "execution_count": 0,
      "outputs": []
    },
    {
      "cell_type": "markdown",
      "metadata": {
        "id": "WzYM2aEdLsF1",
        "colab_type": "text"
      },
      "source": [
        "# Frequency table"
      ]
    },
    {
      "cell_type": "markdown",
      "metadata": {
        "id": "jRpqgZBrMccV",
        "colab_type": "text"
      },
      "source": [
        "Handy to know..\n",
        "* https://pandas.pydata.org/pandas-docs/stable/user_guide/reshaping.html"
      ]
    },
    {
      "cell_type": "code",
      "metadata": {
        "id": "3gSXcGG_JieM",
        "colab_type": "code",
        "colab": {
          "base_uri": "https://localhost:8080/",
          "height": 707
        },
        "outputId": "6f53cccd-9d26-4b40-960b-d37dc965ff94"
      },
      "source": [
        "op3"
      ],
      "execution_count": 69,
      "outputs": [
        {
          "output_type": "execute_result",
          "data": {
            "text/html": [
              "<div>\n",
              "<style scoped>\n",
              "    .dataframe tbody tr th:only-of-type {\n",
              "        vertical-align: middle;\n",
              "    }\n",
              "\n",
              "    .dataframe tbody tr th {\n",
              "        vertical-align: top;\n",
              "    }\n",
              "\n",
              "    .dataframe thead th {\n",
              "        text-align: right;\n",
              "    }\n",
              "</style>\n",
              "<table border=\"1\" class=\"dataframe\">\n",
              "  <thead>\n",
              "    <tr style=\"text-align: right;\">\n",
              "      <th></th>\n",
              "      <th></th>\n",
              "      <th>hit_count</th>\n",
              "    </tr>\n",
              "    <tr>\n",
              "      <th>bar_beat_number</th>\n",
              "      <th>note</th>\n",
              "      <th></th>\n",
              "    </tr>\n",
              "  </thead>\n",
              "  <tbody>\n",
              "    <tr>\n",
              "      <th rowspan=\"2\" valign=\"top\">1</th>\n",
              "      <th>36</th>\n",
              "      <td>12</td>\n",
              "    </tr>\n",
              "    <tr>\n",
              "      <th>51</th>\n",
              "      <td>16</td>\n",
              "    </tr>\n",
              "    <tr>\n",
              "      <th>2</th>\n",
              "      <th>38</th>\n",
              "      <td>4</td>\n",
              "    </tr>\n",
              "    <tr>\n",
              "      <th rowspan=\"2\" valign=\"top\">3</th>\n",
              "      <th>36</th>\n",
              "      <td>16</td>\n",
              "    </tr>\n",
              "    <tr>\n",
              "      <th>51</th>\n",
              "      <td>16</td>\n",
              "    </tr>\n",
              "    <tr>\n",
              "      <th>4</th>\n",
              "      <th>36</th>\n",
              "      <td>4</td>\n",
              "    </tr>\n",
              "    <tr>\n",
              "      <th rowspan=\"2\" valign=\"top\">5</th>\n",
              "      <th>38</th>\n",
              "      <td>16</td>\n",
              "    </tr>\n",
              "    <tr>\n",
              "      <th>51</th>\n",
              "      <td>16</td>\n",
              "    </tr>\n",
              "    <tr>\n",
              "      <th>7</th>\n",
              "      <th>51</th>\n",
              "      <td>16</td>\n",
              "    </tr>\n",
              "    <tr>\n",
              "      <th>8</th>\n",
              "      <th>38</th>\n",
              "      <td>16</td>\n",
              "    </tr>\n",
              "    <tr>\n",
              "      <th>9</th>\n",
              "      <th>51</th>\n",
              "      <td>16</td>\n",
              "    </tr>\n",
              "    <tr>\n",
              "      <th>10</th>\n",
              "      <th>38</th>\n",
              "      <td>12</td>\n",
              "    </tr>\n",
              "    <tr>\n",
              "      <th rowspan=\"3\" valign=\"top\">11</th>\n",
              "      <th>36</th>\n",
              "      <td>16</td>\n",
              "    </tr>\n",
              "    <tr>\n",
              "      <th>49</th>\n",
              "      <td>4</td>\n",
              "    </tr>\n",
              "    <tr>\n",
              "      <th>51</th>\n",
              "      <td>12</td>\n",
              "    </tr>\n",
              "    <tr>\n",
              "      <th>12</th>\n",
              "      <th>36</th>\n",
              "      <td>8</td>\n",
              "    </tr>\n",
              "    <tr>\n",
              "      <th rowspan=\"2\" valign=\"top\">13</th>\n",
              "      <th>38</th>\n",
              "      <td>8</td>\n",
              "    </tr>\n",
              "    <tr>\n",
              "      <th>51</th>\n",
              "      <td>17</td>\n",
              "    </tr>\n",
              "    <tr>\n",
              "      <th rowspan=\"2\" valign=\"top\">15</th>\n",
              "      <th>38</th>\n",
              "      <td>8</td>\n",
              "    </tr>\n",
              "    <tr>\n",
              "      <th>51</th>\n",
              "      <td>16</td>\n",
              "    </tr>\n",
              "    <tr>\n",
              "      <th>16</th>\n",
              "      <th>38</th>\n",
              "      <td>8</td>\n",
              "    </tr>\n",
              "  </tbody>\n",
              "</table>\n",
              "</div>"
            ],
            "text/plain": [
              "                      hit_count\n",
              "bar_beat_number note           \n",
              "1               36           12\n",
              "                51           16\n",
              "2               38            4\n",
              "3               36           16\n",
              "                51           16\n",
              "4               36            4\n",
              "5               38           16\n",
              "                51           16\n",
              "7               51           16\n",
              "8               38           16\n",
              "9               51           16\n",
              "10              38           12\n",
              "11              36           16\n",
              "                49            4\n",
              "                51           12\n",
              "12              36            8\n",
              "13              38            8\n",
              "                51           17\n",
              "15              38            8\n",
              "                51           16\n",
              "16              38            8"
            ]
          },
          "metadata": {
            "tags": []
          },
          "execution_count": 69
        }
      ]
    },
    {
      "cell_type": "code",
      "metadata": {
        "id": "qdwsVkeoGdiK",
        "colab_type": "code",
        "colab": {}
      },
      "source": [
        "# flip things around, fill with '0' instead of NaN, then convert to int\n",
        "op4 = op3.unstack(0).fillna(0).astype('int32')"
      ],
      "execution_count": 0,
      "outputs": []
    },
    {
      "cell_type": "code",
      "metadata": {
        "id": "VL375g7NLciP",
        "colab_type": "code",
        "colab": {
          "base_uri": "https://localhost:8080/",
          "height": 227
        },
        "outputId": "c3979221-b9f1-467f-c0c1-eb8a9c34ba63"
      },
      "source": [
        "op4"
      ],
      "execution_count": 76,
      "outputs": [
        {
          "output_type": "execute_result",
          "data": {
            "text/html": [
              "<div>\n",
              "<style scoped>\n",
              "    .dataframe tbody tr th:only-of-type {\n",
              "        vertical-align: middle;\n",
              "    }\n",
              "\n",
              "    .dataframe tbody tr th {\n",
              "        vertical-align: top;\n",
              "    }\n",
              "\n",
              "    .dataframe thead tr th {\n",
              "        text-align: left;\n",
              "    }\n",
              "\n",
              "    .dataframe thead tr:last-of-type th {\n",
              "        text-align: right;\n",
              "    }\n",
              "</style>\n",
              "<table border=\"1\" class=\"dataframe\">\n",
              "  <thead>\n",
              "    <tr>\n",
              "      <th></th>\n",
              "      <th colspan=\"14\" halign=\"left\">hit_count</th>\n",
              "    </tr>\n",
              "    <tr>\n",
              "      <th>bar_beat_number</th>\n",
              "      <th>1</th>\n",
              "      <th>2</th>\n",
              "      <th>3</th>\n",
              "      <th>4</th>\n",
              "      <th>5</th>\n",
              "      <th>7</th>\n",
              "      <th>8</th>\n",
              "      <th>9</th>\n",
              "      <th>10</th>\n",
              "      <th>11</th>\n",
              "      <th>12</th>\n",
              "      <th>13</th>\n",
              "      <th>15</th>\n",
              "      <th>16</th>\n",
              "    </tr>\n",
              "    <tr>\n",
              "      <th>note</th>\n",
              "      <th></th>\n",
              "      <th></th>\n",
              "      <th></th>\n",
              "      <th></th>\n",
              "      <th></th>\n",
              "      <th></th>\n",
              "      <th></th>\n",
              "      <th></th>\n",
              "      <th></th>\n",
              "      <th></th>\n",
              "      <th></th>\n",
              "      <th></th>\n",
              "      <th></th>\n",
              "      <th></th>\n",
              "    </tr>\n",
              "  </thead>\n",
              "  <tbody>\n",
              "    <tr>\n",
              "      <th>36</th>\n",
              "      <td>12</td>\n",
              "      <td>0</td>\n",
              "      <td>16</td>\n",
              "      <td>4</td>\n",
              "      <td>0</td>\n",
              "      <td>0</td>\n",
              "      <td>0</td>\n",
              "      <td>0</td>\n",
              "      <td>0</td>\n",
              "      <td>16</td>\n",
              "      <td>8</td>\n",
              "      <td>0</td>\n",
              "      <td>0</td>\n",
              "      <td>0</td>\n",
              "    </tr>\n",
              "    <tr>\n",
              "      <th>38</th>\n",
              "      <td>0</td>\n",
              "      <td>4</td>\n",
              "      <td>0</td>\n",
              "      <td>0</td>\n",
              "      <td>16</td>\n",
              "      <td>0</td>\n",
              "      <td>16</td>\n",
              "      <td>0</td>\n",
              "      <td>12</td>\n",
              "      <td>0</td>\n",
              "      <td>0</td>\n",
              "      <td>8</td>\n",
              "      <td>8</td>\n",
              "      <td>8</td>\n",
              "    </tr>\n",
              "    <tr>\n",
              "      <th>49</th>\n",
              "      <td>0</td>\n",
              "      <td>0</td>\n",
              "      <td>0</td>\n",
              "      <td>0</td>\n",
              "      <td>0</td>\n",
              "      <td>0</td>\n",
              "      <td>0</td>\n",
              "      <td>0</td>\n",
              "      <td>0</td>\n",
              "      <td>4</td>\n",
              "      <td>0</td>\n",
              "      <td>0</td>\n",
              "      <td>0</td>\n",
              "      <td>0</td>\n",
              "    </tr>\n",
              "    <tr>\n",
              "      <th>51</th>\n",
              "      <td>16</td>\n",
              "      <td>0</td>\n",
              "      <td>16</td>\n",
              "      <td>0</td>\n",
              "      <td>16</td>\n",
              "      <td>16</td>\n",
              "      <td>0</td>\n",
              "      <td>16</td>\n",
              "      <td>0</td>\n",
              "      <td>12</td>\n",
              "      <td>0</td>\n",
              "      <td>17</td>\n",
              "      <td>16</td>\n",
              "      <td>0</td>\n",
              "    </tr>\n",
              "  </tbody>\n",
              "</table>\n",
              "</div>"
            ],
            "text/plain": [
              "                hit_count                                                \n",
              "bar_beat_number        1  2   3  4   5   7   8   9   10  11 12  13  15 16\n",
              "note                                                                     \n",
              "36                     12  0  16  4   0   0   0   0   0  16  8   0   0  0\n",
              "38                      0  4   0  0  16   0  16   0  12   0  0   8   8  8\n",
              "49                      0  0   0  0   0   0   0   0   0   4  0   0   0  0\n",
              "51                     16  0  16  0  16  16   0  16   0  12  0  17  16  0"
            ]
          },
          "metadata": {
            "tags": []
          },
          "execution_count": 76
        }
      ]
    },
    {
      "cell_type": "markdown",
      "metadata": {
        "id": "-UTcNmwtNdxb",
        "colab_type": "text"
      },
      "source": [
        "# Detect multiple hits in quantize bucket\n",
        "\n",
        "This detects multiple hits of the same instrument, within our quantize window - this is a problem. Need to decide what to do here, maybe ignore all these hits by pre-filtering?"
      ]
    },
    {
      "cell_type": "code",
      "metadata": {
        "id": "7mtvGFG6NhMS",
        "colab_type": "code",
        "colab": {}
      },
      "source": [
        "m_hits = file_df.copy()"
      ],
      "execution_count": 0,
      "outputs": []
    },
    {
      "cell_type": "code",
      "metadata": {
        "id": "CwSThNvSOpUZ",
        "colab_type": "code",
        "colab": {}
      },
      "source": [
        "m_hits.drop(columns=['note'], inplace=True)"
      ],
      "execution_count": 0,
      "outputs": []
    },
    {
      "cell_type": "code",
      "metadata": {
        "id": "_8Z3za4oNnSm",
        "colab_type": "code",
        "colab": {
          "base_uri": "https://localhost:8080/",
          "height": 677
        },
        "outputId": "71260bb6-fd47-4ab2-a65f-8b2b53c536aa"
      },
      "source": [
        "m_hits.groupby(['beat_center','note']).count().head(20)"
      ],
      "execution_count": 99,
      "outputs": [
        {
          "output_type": "execute_result",
          "data": {
            "text/html": [
              "<div>\n",
              "<style scoped>\n",
              "    .dataframe tbody tr th:only-of-type {\n",
              "        vertical-align: middle;\n",
              "    }\n",
              "\n",
              "    .dataframe tbody tr th {\n",
              "        vertical-align: top;\n",
              "    }\n",
              "\n",
              "    .dataframe thead th {\n",
              "        text-align: right;\n",
              "    }\n",
              "</style>\n",
              "<table border=\"1\" class=\"dataframe\">\n",
              "  <thead>\n",
              "    <tr style=\"text-align: right;\">\n",
              "      <th></th>\n",
              "      <th></th>\n",
              "      <th>track_msg_num</th>\n",
              "      <th>total_ticks</th>\n",
              "      <th>velocity</th>\n",
              "      <th>beat_offset</th>\n",
              "      <th>bar_number</th>\n",
              "      <th>bar_beat_number</th>\n",
              "    </tr>\n",
              "    <tr>\n",
              "      <th>beat_center</th>\n",
              "      <th>note</th>\n",
              "      <th></th>\n",
              "      <th></th>\n",
              "      <th></th>\n",
              "      <th></th>\n",
              "      <th></th>\n",
              "      <th></th>\n",
              "    </tr>\n",
              "  </thead>\n",
              "  <tbody>\n",
              "    <tr>\n",
              "      <th rowspan=\"4\" valign=\"top\">0</th>\n",
              "      <th>36</th>\n",
              "      <td>1.0</td>\n",
              "      <td>1.0</td>\n",
              "      <td>1.0</td>\n",
              "      <td>1.0</td>\n",
              "      <td>1.0</td>\n",
              "      <td>1.0</td>\n",
              "    </tr>\n",
              "    <tr>\n",
              "      <th>38</th>\n",
              "      <td>NaN</td>\n",
              "      <td>NaN</td>\n",
              "      <td>NaN</td>\n",
              "      <td>NaN</td>\n",
              "      <td>NaN</td>\n",
              "      <td>NaN</td>\n",
              "    </tr>\n",
              "    <tr>\n",
              "      <th>49</th>\n",
              "      <td>NaN</td>\n",
              "      <td>NaN</td>\n",
              "      <td>NaN</td>\n",
              "      <td>NaN</td>\n",
              "      <td>NaN</td>\n",
              "      <td>NaN</td>\n",
              "    </tr>\n",
              "    <tr>\n",
              "      <th>51</th>\n",
              "      <td>1.0</td>\n",
              "      <td>1.0</td>\n",
              "      <td>1.0</td>\n",
              "      <td>1.0</td>\n",
              "      <td>1.0</td>\n",
              "      <td>1.0</td>\n",
              "    </tr>\n",
              "    <tr>\n",
              "      <th rowspan=\"4\" valign=\"top\">120</th>\n",
              "      <th>36</th>\n",
              "      <td>NaN</td>\n",
              "      <td>NaN</td>\n",
              "      <td>NaN</td>\n",
              "      <td>NaN</td>\n",
              "      <td>NaN</td>\n",
              "      <td>NaN</td>\n",
              "    </tr>\n",
              "    <tr>\n",
              "      <th>38</th>\n",
              "      <td>NaN</td>\n",
              "      <td>NaN</td>\n",
              "      <td>NaN</td>\n",
              "      <td>NaN</td>\n",
              "      <td>NaN</td>\n",
              "      <td>NaN</td>\n",
              "    </tr>\n",
              "    <tr>\n",
              "      <th>49</th>\n",
              "      <td>NaN</td>\n",
              "      <td>NaN</td>\n",
              "      <td>NaN</td>\n",
              "      <td>NaN</td>\n",
              "      <td>NaN</td>\n",
              "      <td>NaN</td>\n",
              "    </tr>\n",
              "    <tr>\n",
              "      <th>51</th>\n",
              "      <td>NaN</td>\n",
              "      <td>NaN</td>\n",
              "      <td>NaN</td>\n",
              "      <td>NaN</td>\n",
              "      <td>NaN</td>\n",
              "      <td>NaN</td>\n",
              "    </tr>\n",
              "    <tr>\n",
              "      <th rowspan=\"4\" valign=\"top\">240</th>\n",
              "      <th>36</th>\n",
              "      <td>1.0</td>\n",
              "      <td>1.0</td>\n",
              "      <td>1.0</td>\n",
              "      <td>1.0</td>\n",
              "      <td>1.0</td>\n",
              "      <td>1.0</td>\n",
              "    </tr>\n",
              "    <tr>\n",
              "      <th>38</th>\n",
              "      <td>NaN</td>\n",
              "      <td>NaN</td>\n",
              "      <td>NaN</td>\n",
              "      <td>NaN</td>\n",
              "      <td>NaN</td>\n",
              "      <td>NaN</td>\n",
              "    </tr>\n",
              "    <tr>\n",
              "      <th>49</th>\n",
              "      <td>NaN</td>\n",
              "      <td>NaN</td>\n",
              "      <td>NaN</td>\n",
              "      <td>NaN</td>\n",
              "      <td>NaN</td>\n",
              "      <td>NaN</td>\n",
              "    </tr>\n",
              "    <tr>\n",
              "      <th>51</th>\n",
              "      <td>1.0</td>\n",
              "      <td>1.0</td>\n",
              "      <td>1.0</td>\n",
              "      <td>1.0</td>\n",
              "      <td>1.0</td>\n",
              "      <td>1.0</td>\n",
              "    </tr>\n",
              "    <tr>\n",
              "      <th rowspan=\"4\" valign=\"top\">360</th>\n",
              "      <th>36</th>\n",
              "      <td>NaN</td>\n",
              "      <td>NaN</td>\n",
              "      <td>NaN</td>\n",
              "      <td>NaN</td>\n",
              "      <td>NaN</td>\n",
              "      <td>NaN</td>\n",
              "    </tr>\n",
              "    <tr>\n",
              "      <th>38</th>\n",
              "      <td>NaN</td>\n",
              "      <td>NaN</td>\n",
              "      <td>NaN</td>\n",
              "      <td>NaN</td>\n",
              "      <td>NaN</td>\n",
              "      <td>NaN</td>\n",
              "    </tr>\n",
              "    <tr>\n",
              "      <th>49</th>\n",
              "      <td>NaN</td>\n",
              "      <td>NaN</td>\n",
              "      <td>NaN</td>\n",
              "      <td>NaN</td>\n",
              "      <td>NaN</td>\n",
              "      <td>NaN</td>\n",
              "    </tr>\n",
              "    <tr>\n",
              "      <th>51</th>\n",
              "      <td>NaN</td>\n",
              "      <td>NaN</td>\n",
              "      <td>NaN</td>\n",
              "      <td>NaN</td>\n",
              "      <td>NaN</td>\n",
              "      <td>NaN</td>\n",
              "    </tr>\n",
              "    <tr>\n",
              "      <th rowspan=\"4\" valign=\"top\">480</th>\n",
              "      <th>36</th>\n",
              "      <td>NaN</td>\n",
              "      <td>NaN</td>\n",
              "      <td>NaN</td>\n",
              "      <td>NaN</td>\n",
              "      <td>NaN</td>\n",
              "      <td>NaN</td>\n",
              "    </tr>\n",
              "    <tr>\n",
              "      <th>38</th>\n",
              "      <td>1.0</td>\n",
              "      <td>1.0</td>\n",
              "      <td>1.0</td>\n",
              "      <td>1.0</td>\n",
              "      <td>1.0</td>\n",
              "      <td>1.0</td>\n",
              "    </tr>\n",
              "    <tr>\n",
              "      <th>49</th>\n",
              "      <td>NaN</td>\n",
              "      <td>NaN</td>\n",
              "      <td>NaN</td>\n",
              "      <td>NaN</td>\n",
              "      <td>NaN</td>\n",
              "      <td>NaN</td>\n",
              "    </tr>\n",
              "    <tr>\n",
              "      <th>51</th>\n",
              "      <td>1.0</td>\n",
              "      <td>1.0</td>\n",
              "      <td>1.0</td>\n",
              "      <td>1.0</td>\n",
              "      <td>1.0</td>\n",
              "      <td>1.0</td>\n",
              "    </tr>\n",
              "  </tbody>\n",
              "</table>\n",
              "</div>"
            ],
            "text/plain": [
              "                  track_msg_num  total_ticks  velocity  beat_offset  \\\n",
              "beat_center note                                                      \n",
              "0           36              1.0          1.0       1.0          1.0   \n",
              "            38              NaN          NaN       NaN          NaN   \n",
              "            49              NaN          NaN       NaN          NaN   \n",
              "            51              1.0          1.0       1.0          1.0   \n",
              "120         36              NaN          NaN       NaN          NaN   \n",
              "            38              NaN          NaN       NaN          NaN   \n",
              "            49              NaN          NaN       NaN          NaN   \n",
              "            51              NaN          NaN       NaN          NaN   \n",
              "240         36              1.0          1.0       1.0          1.0   \n",
              "            38              NaN          NaN       NaN          NaN   \n",
              "            49              NaN          NaN       NaN          NaN   \n",
              "            51              1.0          1.0       1.0          1.0   \n",
              "360         36              NaN          NaN       NaN          NaN   \n",
              "            38              NaN          NaN       NaN          NaN   \n",
              "            49              NaN          NaN       NaN          NaN   \n",
              "            51              NaN          NaN       NaN          NaN   \n",
              "480         36              NaN          NaN       NaN          NaN   \n",
              "            38              1.0          1.0       1.0          1.0   \n",
              "            49              NaN          NaN       NaN          NaN   \n",
              "            51              1.0          1.0       1.0          1.0   \n",
              "\n",
              "                  bar_number  bar_beat_number  \n",
              "beat_center note                               \n",
              "0           36           1.0              1.0  \n",
              "            38           NaN              NaN  \n",
              "            49           NaN              NaN  \n",
              "            51           1.0              1.0  \n",
              "120         36           NaN              NaN  \n",
              "            38           NaN              NaN  \n",
              "            49           NaN              NaN  \n",
              "            51           NaN              NaN  \n",
              "240         36           1.0              1.0  \n",
              "            38           NaN              NaN  \n",
              "            49           NaN              NaN  \n",
              "            51           1.0              1.0  \n",
              "360         36           NaN              NaN  \n",
              "            38           NaN              NaN  \n",
              "            49           NaN              NaN  \n",
              "            51           NaN              NaN  \n",
              "480         36           NaN              NaN  \n",
              "            38           1.0              1.0  \n",
              "            49           NaN              NaN  \n",
              "            51           1.0              1.0  "
            ]
          },
          "metadata": {
            "tags": []
          },
          "execution_count": 99
        }
      ]
    },
    {
      "cell_type": "markdown",
      "metadata": {
        "id": "iFnwYqeeUMQO",
        "colab_type": "text"
      },
      "source": [
        "Handy filter functions..\n",
        "* https://pandas.pydata.org/pandas-docs/stable/user_guide/groupby.html#filtration"
      ]
    },
    {
      "cell_type": "code",
      "metadata": {
        "id": "G_saBSkzSsiD",
        "colab_type": "code",
        "colab": {
          "base_uri": "https://localhost:8080/",
          "height": 137
        },
        "outputId": "39d86513-aa66-4022-d98e-d230093ad138"
      },
      "source": [
        "m_hits.groupby(['beat_center','note']).filter(lambda a_group: len(a_group) > 1)"
      ],
      "execution_count": 102,
      "outputs": [
        {
          "output_type": "execute_result",
          "data": {
            "text/html": [
              "<div>\n",
              "<style scoped>\n",
              "    .dataframe tbody tr th:only-of-type {\n",
              "        vertical-align: middle;\n",
              "    }\n",
              "\n",
              "    .dataframe tbody tr th {\n",
              "        vertical-align: top;\n",
              "    }\n",
              "\n",
              "    .dataframe thead th {\n",
              "        text-align: right;\n",
              "    }\n",
              "</style>\n",
              "<table border=\"1\" class=\"dataframe\">\n",
              "  <thead>\n",
              "    <tr style=\"text-align: right;\">\n",
              "      <th></th>\n",
              "      <th></th>\n",
              "      <th></th>\n",
              "      <th>track_msg_num</th>\n",
              "      <th>total_ticks</th>\n",
              "      <th>velocity</th>\n",
              "      <th>beat_offset</th>\n",
              "      <th>beat_center</th>\n",
              "      <th>bar_number</th>\n",
              "      <th>bar_beat_number</th>\n",
              "    </tr>\n",
              "    <tr>\n",
              "      <th>bar_number</th>\n",
              "      <th>bar_beat_number</th>\n",
              "      <th>note</th>\n",
              "      <th></th>\n",
              "      <th></th>\n",
              "      <th></th>\n",
              "      <th></th>\n",
              "      <th></th>\n",
              "      <th></th>\n",
              "      <th></th>\n",
              "    </tr>\n",
              "  </thead>\n",
              "  <tbody>\n",
              "    <tr>\n",
              "      <th rowspan=\"2\" valign=\"top\">10</th>\n",
              "      <th rowspan=\"2\" valign=\"top\">13</th>\n",
              "      <th>51</th>\n",
              "      <td>0:323</td>\n",
              "      <td>18761</td>\n",
              "      <td>55</td>\n",
              "      <td>41</td>\n",
              "      <td>18720</td>\n",
              "      <td>10</td>\n",
              "      <td>13</td>\n",
              "    </tr>\n",
              "    <tr>\n",
              "      <th>51</th>\n",
              "      <td>0:324</td>\n",
              "      <td>18764</td>\n",
              "      <td>127</td>\n",
              "      <td>44</td>\n",
              "      <td>18720</td>\n",
              "      <td>10</td>\n",
              "      <td>13</td>\n",
              "    </tr>\n",
              "  </tbody>\n",
              "</table>\n",
              "</div>"
            ],
            "text/plain": [
              "                                track_msg_num  total_ticks  velocity  \\\n",
              "bar_number bar_beat_number note                                        \n",
              "10         13              51           0:323        18761        55   \n",
              "                           51           0:324        18764       127   \n",
              "\n",
              "                                 beat_offset beat_center  bar_number  \\\n",
              "bar_number bar_beat_number note                                        \n",
              "10         13              51             41       18720          10   \n",
              "                           51             44       18720          10   \n",
              "\n",
              "                                 bar_beat_number  \n",
              "bar_number bar_beat_number note                   \n",
              "10         13              51                 13  \n",
              "                           51                 13  "
            ]
          },
          "metadata": {
            "tags": []
          },
          "execution_count": 102
        }
      ]
    }
  ]
}