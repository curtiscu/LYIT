{
  "nbformat": 4,
  "nbformat_minor": 0,
  "metadata": {
    "colab": {
      "name": "Visualizations.ipynb",
      "provenance": [],
      "collapsed_sections": [],
      "toc_visible": true,
      "authorship_tag": "ABX9TyNVA4tpEytZZ61jh4z37Nll",
      "include_colab_link": true
    },
    "kernelspec": {
      "name": "python3",
      "display_name": "Python 3"
    }
  },
  "cells": [
    {
      "cell_type": "markdown",
      "metadata": {
        "id": "view-in-github",
        "colab_type": "text"
      },
      "source": [
        "<a href=\"https://colab.research.google.com/github/curtiscu/LYIT/blob/master/Visualizations.ipynb\" target=\"_parent\"><img src=\"https://colab.research.google.com/assets/colab-badge.svg\" alt=\"Open In Colab\"/></a>"
      ]
    },
    {
      "cell_type": "markdown",
      "metadata": {
        "id": "-nl2J-ztY_6a",
        "colab_type": "text"
      },
      "source": [
        "# Gathering visualizations ideas"
      ]
    },
    {
      "cell_type": "markdown",
      "metadata": {
        "id": "NybvOG9ssS26",
        "colab_type": "text"
      },
      "source": [
        "# Setup env\n"
      ]
    },
    {
      "cell_type": "code",
      "metadata": {
        "id": "juZFbd9RttvQ",
        "colab_type": "code",
        "colab": {}
      },
      "source": [
        "# print all cell output\n",
        "from IPython.core.interactiveshell import InteractiveShell\n",
        "InteractiveShell.ast_node_interactivity = \"all\"\n"
      ],
      "execution_count": 0,
      "outputs": []
    },
    {
      "cell_type": "markdown",
      "metadata": {
        "id": "yEXZFoA4t9de",
        "colab_type": "text"
      },
      "source": [
        "## Google drive access"
      ]
    },
    {
      "cell_type": "code",
      "metadata": {
        "id": "uRELmgI2mvEK",
        "colab_type": "code",
        "outputId": "07cc6a22-0ae4-4a0f-ebf6-6158c44b26a1",
        "colab": {
          "base_uri": "https://localhost:8080/",
          "height": 34
        }
      },
      "source": [
        "# mount google drive\n",
        "\n",
        "from google.colab import drive\n",
        "drive.mount('/content/drive', force_remount=True)\n"
      ],
      "execution_count": 2,
      "outputs": [
        {
          "output_type": "stream",
          "text": [
            "Mounted at /content/drive\n"
          ],
          "name": "stdout"
        }
      ]
    },
    {
      "cell_type": "code",
      "metadata": {
        "id": "Yk2_ztH9uKat",
        "colab_type": "code",
        "outputId": "2d9cef33-a002-4656-cfbb-6402a88a2db9",
        "colab": {
          "base_uri": "https://localhost:8080/",
          "height": 255
        }
      },
      "source": [
        "# test, peek at data\n",
        "! ls -al '/content/drive/My Drive/groove-v1.0.0-midionly/groove/drummer1/eval_session/'\n",
        "\n",
        "# test, modules from local  'E:\\Google Drive\\LYIT\\Dissertation\\modules'\n",
        "! ls -al '/content/drive/My Drive/LYIT/Dissertation/modules/'"
      ],
      "execution_count": 3,
      "outputs": [
        {
          "output_type": "stream",
          "text": [
            "total 35\n",
            "-rw------- 1 root root 2589 Apr 27 12:01 10_soul-groove10_102_beat_4-4.mid\n",
            "-rw------- 1 root root 4793 Apr 27 12:01 1_funk-groove1_138_beat_4-4.mid\n",
            "-rw------- 1 root root 3243 Apr 27 12:01 2_funk-groove2_105_beat_4-4.mid\n",
            "-rw------- 1 root root 4466 Apr 27 12:01 3_soul-groove3_86_beat_4-4.mid\n",
            "-rw------- 1 root root 2551 Apr 27 12:01 4_soul-groove4_80_beat_4-4.mid\n",
            "-rw------- 1 root root 3798 Apr 27 12:01 5_funk-groove5_84_beat_4-4.mid\n",
            "-rw------- 1 root root 3760 Apr 27 12:01 6_hiphop-groove6_87_beat_4-4.mid\n",
            "-rw------- 1 root root 1894 Apr 27 12:01 7_pop-groove7_138_beat_4-4.mid\n",
            "-rw------- 1 root root 2437 Apr 27 12:01 8_rock-groove8_65_beat_4-4.mid\n",
            "-rw------- 1 root root 3448 Apr 27 12:01 9_soul-groove9_105_beat_4-4.mid\n",
            "total 20\n",
            "-rw------- 1 root root 15416 May 22 19:20 data_prep.py\n",
            "drwx------ 2 root root  4096 May 22 19:21 __pycache__\n"
          ],
          "name": "stdout"
        }
      ]
    },
    {
      "cell_type": "markdown",
      "metadata": {
        "id": "SBKOdMxXFygn",
        "colab_type": "text"
      },
      "source": [
        "## Auto reload module\n",
        "\n",
        "I'm now using a module edited and saved to google drive which is automatically pushed to the cloud and made available to the colab env. Changes need time to propagate, and imports don't 'reimport' to load changes, so trying the following...\n",
        "\n",
        "Note the code below is not very reliable, it seems to work occasionally, after some time, but haven't been able to work out the pattern to it. \n",
        "\n",
        "If in a hurry, brute force loading of changes by restarting the runtime."
      ]
    },
    {
      "cell_type": "code",
      "metadata": {
        "id": "jErvkusO6D01",
        "colab_type": "code",
        "colab": {}
      },
      "source": [
        "# tool to auto reload modules.\n",
        "%load_ext autoreload\n",
        "\n",
        "# config to auto-reload all modules, handy to make \n",
        "# writing and testing modules much easier.\n",
        "%autoreload 2"
      ],
      "execution_count": 0,
      "outputs": []
    },
    {
      "cell_type": "markdown",
      "metadata": {
        "id": "2qR3tjMl4bv2",
        "colab_type": "text"
      },
      "source": [
        "## Imports and accessing lib functions"
      ]
    },
    {
      "cell_type": "code",
      "metadata": {
        "id": "U6Yjj8jC4gQr",
        "colab_type": "code",
        "outputId": "785455e4-01cf-4699-8fd0-0c4ed33f26e6",
        "colab": {
          "base_uri": "https://localhost:8080/",
          "height": 34
        }
      },
      "source": [
        "# install required libs\n",
        "!pip install mido"
      ],
      "execution_count": 5,
      "outputs": [
        {
          "output_type": "stream",
          "text": [
            "Requirement already satisfied: mido in /usr/local/lib/python3.6/dist-packages (1.2.9)\n"
          ],
          "name": "stdout"
        }
      ]
    },
    {
      "cell_type": "code",
      "metadata": {
        "id": "rjqCavr4sz4x",
        "colab_type": "code",
        "outputId": "d69ff020-efb3-4314-e16e-2e7059420e6e",
        "colab": {
          "base_uri": "https://localhost:8080/",
          "height": 34
        }
      },
      "source": [
        "# imports\n",
        "import pandas as pd\n",
        "import math\n",
        "\n",
        "# import my modules\n",
        "import sys\n",
        "sys.path.append('/content/drive/My Drive/LYIT/Dissertation/modules/')\n",
        "import data_prep\n",
        "\n",
        "import matplotlib.pyplot as plt\n"
      ],
      "execution_count": 6,
      "outputs": [
        {
          "output_type": "stream",
          "text": [
            "LOADING - data_prep.py module name is: data_prep\n"
          ],
          "name": "stdout"
        }
      ]
    },
    {
      "cell_type": "code",
      "metadata": {
        "id": "oPKVwQibzS7t",
        "colab_type": "code",
        "outputId": "3b533302-2014-436e-e5fb-57943bf3efef",
        "colab": {
          "base_uri": "https://localhost:8080/",
          "height": 34
        }
      },
      "source": [
        "# testing auto reload of modules \n",
        "data_prep.test_function_call('bling')"
      ],
      "execution_count": 7,
      "outputs": [
        {
          "output_type": "stream",
          "text": [
            "test function called worked! :)  bling\n"
          ],
          "name": "stdout"
        }
      ]
    },
    {
      "cell_type": "markdown",
      "metadata": {
        "id": "lBT_BaeD4o8L",
        "colab_type": "text"
      },
      "source": [
        "## Pandas display options"
      ]
    },
    {
      "cell_type": "code",
      "metadata": {
        "id": "KkLdwFFAAotC",
        "colab_type": "code",
        "colab": {}
      },
      "source": [
        "def set_pandas_display_options() -> None:\n",
        "    # Ref: https://stackoverflow.com/a/52432757/\n",
        "    display = pd.options.display\n",
        "\n",
        "    display.max_columns = 1000\n",
        "    display.max_rows = 200\n",
        "    display.max_colwidth = 1000\n",
        "    display.width = None\n",
        "    # display.precision = 2  # set as needed\n",
        "\n",
        "set_pandas_display_options()\n",
        "#pd.reset_option('all')\n"
      ],
      "execution_count": 0,
      "outputs": []
    },
    {
      "cell_type": "markdown",
      "metadata": {
        "id": "8DbIvTwPGpMU",
        "colab_type": "text"
      },
      "source": [
        "## Test creating object from custom module"
      ]
    },
    {
      "cell_type": "code",
      "metadata": {
        "id": "Vtkaryf-ICz_",
        "colab_type": "code",
        "colab": {}
      },
      "source": [
        "gmt = data_prep.GrooveMidiTools"
      ],
      "execution_count": 0,
      "outputs": []
    },
    {
      "cell_type": "code",
      "metadata": {
        "id": "rCG0bT0RH5gP",
        "colab_type": "code",
        "outputId": "0b9b2f85-0e2d-46ee-a088-7914d718a228",
        "colab": {
          "base_uri": "https://localhost:8080/",
          "height": 119
        }
      },
      "source": [
        "file_name = '/content/drive/My Drive/groove-v1.0.0-midionly/groove/drummer5/eval_session/1_funk-groove1_138_beat_4-4.mid'\n",
        "midi_file = data_prep.MIDI_File_Wrapper(file_name, gmt.mappings)"
      ],
      "execution_count": 10,
      "outputs": [
        {
          "output_type": "stream",
          "text": [
            "FILE: /content/drive/My Drive/groove-v1.0.0-midionly/groove/drummer5/eval_session/1_funk-groove1_138_beat_4-4.mid\n",
            "    tracks: [<midi track 'Base Midi' 1037 messages>]\n",
            "    time sig: <meta message time_signature numerator=4 denominator=4 clocks_per_click=24 notated_32nd_notes_per_beat=8 time=0>\n",
            "    tempo: <meta message set_tempo tempo=434783 time=0>\n",
            "    last note_on: 30634\n",
            "    good instruments: 4, {36.0: 'Bass Drum 1', 38.0: 'Acoustic Snare', 42.0: 'Closed Hi Hat', 51.0: 'Ride Cymbal 1'}\n"
          ],
          "name": "stdout"
        }
      ]
    },
    {
      "cell_type": "markdown",
      "metadata": {
        "id": "VspeXMsHH6Q3",
        "colab_type": "text"
      },
      "source": [
        "... the above verifies I'm able to create custom objects from custom code, great!\n"
      ]
    },
    {
      "cell_type": "markdown",
      "metadata": {
        "id": "F3TkTV3Uduiv",
        "colab_type": "text"
      },
      "source": [
        "# Visualization code: broken_barh"
      ]
    },
    {
      "cell_type": "markdown",
      "metadata": {
        "id": "JHE7xLY_uZqg",
        "colab_type": "text"
      },
      "source": [
        "### Setup file to chart"
      ]
    },
    {
      "cell_type": "code",
      "metadata": {
        "id": "CzoW1hysQF_T",
        "colab_type": "code",
        "colab": {
          "base_uri": "https://localhost:8080/",
          "height": 119
        },
        "outputId": "80d21ea5-85ae-4ead-9377-96a9140696d2"
      },
      "source": [
        "file_name = '/content/drive/My Drive/groove-v1.0.0-midionly/groove/drummer5/eval_session/1_funk-groove1_138_beat_4-4.mid'\n",
        "midi_file = data_prep.MIDI_File_Wrapper(file_name, gmt.mappings)\n",
        "f = midi_file\n"
      ],
      "execution_count": 211,
      "outputs": [
        {
          "output_type": "stream",
          "text": [
            "FILE: /content/drive/My Drive/groove-v1.0.0-midionly/groove/drummer5/eval_session/1_funk-groove1_138_beat_4-4.mid\n",
            "    tracks: [<midi track 'Base Midi' 1037 messages>]\n",
            "    time sig: <meta message time_signature numerator=4 denominator=4 clocks_per_click=24 notated_32nd_notes_per_beat=8 time=0>\n",
            "    tempo: <meta message set_tempo tempo=434783 time=0>\n",
            "    last note_on: 30634\n",
            "    good instruments: 4, {36.0: 'Bass Drum 1 (36)', 38.0: 'Acoustic Snare (38)', 42.0: 'Closed Hi Hat (42)', 51.0: 'Ride Cymbal 1 (51)'}\n"
          ],
          "name": "stdout"
        }
      ]
    },
    {
      "cell_type": "markdown",
      "metadata": {
        "id": "pKIyNJKfJHhx",
        "colab_type": "text"
      },
      "source": [
        "### Setup timing info"
      ]
    },
    {
      "cell_type": "code",
      "metadata": {
        "id": "wrWq66gRB1WZ",
        "colab_type": "code",
        "colab": {}
      },
      "source": [
        "# capture timing data in df\n",
        "\n",
        "mtt = data_prep.MidiTimingTools(file_name, f.ticks(), f.tempo_us(), f.ts_num(), f.ts_denom(), f.last_hit())\n",
        "# print(mtt)\n",
        "\n",
        "f_df = f.df_midi_data\n",
        "f_df = f_df[f_df['msg_type'] == 'note_on'].copy() # we only care about 'note_on' events\n",
        "beats_col, offsets_col = mtt.get_offsets(f_df[f.cum_ticks_col])\n",
        "f_df['offset'] = offsets_col\n",
        "f_df['beat'] = beats_col"
      ],
      "execution_count": 0,
      "outputs": []
    },
    {
      "cell_type": "markdown",
      "metadata": {
        "id": "AYD2g_EsvpPr",
        "colab_type": "text"
      },
      "source": [
        "### Specify start bar and number of bars to chart\n",
        "The next cell is all you need, put in what bar to start at and how many bars to print and hit the go button and it should do the rest ..."
      ]
    },
    {
      "cell_type": "code",
      "metadata": {
        "id": "VrA_UO3RDQX1",
        "colab_type": "code",
        "colab": {}
      },
      "source": [
        "# specify what bar to start chart\n",
        "bar_to_start=7\n",
        "\n",
        "# specify how many bars to include\n",
        "bars_to_render=1\n",
        "\n",
        "# instrument filter\n",
        "# leave empty to chart all in file, otherwise instruments filtered\n",
        "# to this list, and will be ordered from bottom to top y-axis.\n",
        "#instruments_to_render=[]  # good empty list\n",
        "instruments_to_render=[36, 38, 51]  # good empty list\n",
        "# instruments_to_render=[38, 36, 42]  # good list\n",
        "# instruments_to_render=[33, 32, 49, 999]  # broken list\n",
        "\n"
      ],
      "execution_count": 0,
      "outputs": []
    },
    {
      "cell_type": "markdown",
      "metadata": {
        "id": "CGkxiTYsvvKr",
        "colab_type": "text"
      },
      "source": [
        "### Chart calculations"
      ]
    },
    {
      "cell_type": "code",
      "metadata": {
        "id": "LEYX839PvkmP",
        "colab_type": "code",
        "colab": {
          "base_uri": "https://localhost:8080/",
          "height": 51
        },
        "outputId": "740bca65-5a02-482c-b59a-c66fbfd8a1cc"
      },
      "source": [
        "# time filtering the df here...\n",
        "\n",
        "ts_num = f.ts_num()\n",
        "ts_den = f.ts_denom()\n",
        "ticks_per_bar=mtt.ticks_per_bar()\n",
        "\n",
        "# workout ticks\n",
        "start_tick, end_tick = mtt.get_tick_range(bar_to_start, bars_to_render)\n",
        "print('start tick: {}, end tick: {}'.format(start_tick, end_tick))\n",
        "print('total to print, ticks: {}, bars: {}'.format(end_tick - start_tick, (end_tick - start_tick) /ticks_per_bar))\n",
        "\n",
        "# filter our events to render\n",
        "time_filtered_df = f_df[f_df.total_ticks >= start_tick]  # chop off early ones\n",
        "time_filtered_df = time_filtered_df[time_filtered_df.total_ticks < end_tick] # chop off later ones"
      ],
      "execution_count": 225,
      "outputs": [
        {
          "output_type": "stream",
          "text": [
            "start tick: 11460.0, end tick: 13380.0\n",
            "total to print, ticks: 1920.0, bars: 1.0\n"
          ],
          "name": "stdout"
        }
      ]
    },
    {
      "cell_type": "code",
      "metadata": {
        "id": "wYFLFe8Vw1Sy",
        "colab_type": "code",
        "colab": {
          "base_uri": "https://localhost:8080/",
          "height": 85
        },
        "outputId": "c60b7af7-1c30-4ac5-dbf4-e7d5d4f9bb30"
      },
      "source": [
        "instr_in_file = time_filtered_df.note.unique()\n",
        "print('instruments in file: {}, names: {}'.format(instr_in_file, data_prep.MidiTools.getInstruments(instr_in_file)))\n",
        "#names = data_prep.MidiTools.getInstruments(instruments_to_render)\n",
        "#print('specified instrument filter: {}, names: {}'.format(instruments_to_render, names ))\n",
        "\n",
        "instr_time_filtered_df = None \n",
        "\n",
        "# instrument filtering the df here ...\n",
        "if len(instruments_to_render) == 0:\n",
        "  instr_time_filtered_df = time_filtered_df[time_filtered_df['note'] != None]\n",
        "  instruments_to_render = instr_time_filtered_df.note.unique().sort()\n",
        "else:\n",
        "  instr_time_filtered_df = time_filtered_df[time_filtered_df['note'].isin(instruments_to_render)]\n",
        "\n",
        "names = data_prep.MidiTools.getInstruments(instruments_to_render)\n",
        "print('final instruments: {}, names: {}'.format(instruments_to_render, names ))\n"
      ],
      "execution_count": 226,
      "outputs": [
        {
          "output_type": "stream",
          "text": [
            "been asked to work with this: [42. 51. 36. 38.]\n",
            "instruments in file: [42. 51. 36. 38.], names: ['Closed Hi Hat (42)', 'Ride Cymbal 1 (51)', 'Bass Drum 1 (36)', 'Acoustic Snare (38)']\n",
            "been asked to work with this: [36, 38, 51]\n",
            "final instruments: [36, 38, 51], names: ['Bass Drum 1 (36)', 'Acoustic Snare (38)', 'Ride Cymbal 1 (51)']\n"
          ],
          "name": "stdout"
        }
      ]
    },
    {
      "cell_type": "markdown",
      "metadata": {
        "id": "U-5MdwzB1lTr",
        "colab_type": "text"
      },
      "source": [
        "### Build data structure required by broken_barh"
      ]
    },
    {
      "cell_type": "code",
      "metadata": {
        "id": "oPWuNRWXxPfw",
        "colab_type": "code",
        "colab": {
          "base_uri": "https://localhost:8080/",
          "height": 54
        },
        "outputId": "f43de16d-740c-477e-ceec-452d78537725"
      },
      "source": [
        "bag_of_instruments = {}\n",
        "for i in instruments_to_render:\n",
        "  instrument_hits = instr_time_filtered_df.loc[instr_time_filtered_df['note'] == i, 'total_ticks']\n",
        "  instrument_hit_duples = []\n",
        "  for i_time in instrument_hits:\n",
        "    instrument_hit_duples.append((i_time, 10))\n",
        "\n",
        "  bag_of_instruments[i] = instrument_hit_duples\n",
        "\n",
        "\n",
        "print('bag_of_instruments: {}'.format(bag_of_instruments))"
      ],
      "execution_count": 227,
      "outputs": [
        {
          "output_type": "stream",
          "text": [
            "bag_of_instruments: {36: [(11527, 10), (11766, 10), (12723, 10), (12830, 10)], 38: [(11642, 10), (12022, 10), (12381, 10), (12627, 10), (12731, 10), (13193, 10), (13288, 10)], 51: [(11524, 10), (11765, 10), (12016, 10), (12268, 10), (12519, 10), (12761, 10), (12931, 10), (13189, 10)]}\n"
          ],
          "name": "stdout"
        }
      ]
    },
    {
      "cell_type": "code",
      "metadata": {
        "id": "KHZMsZwqGeya",
        "colab_type": "code",
        "colab": {}
      },
      "source": [
        "from itertools import cycle\n",
        "cycol = cycle('bgrcmykw')  # use this for colours\n"
      ],
      "execution_count": 0,
      "outputs": []
    },
    {
      "cell_type": "markdown",
      "metadata": {
        "id": "sGGllGXvMNGp",
        "colab_type": "text"
      },
      "source": [
        "### Plot the broken_barh chart\n",
        "\n",
        "\n",
        "\n"
      ]
    },
    {
      "cell_type": "code",
      "metadata": {
        "id": "72h7MXg3IxIk",
        "colab_type": "code",
        "colab": {
          "base_uri": "https://localhost:8080/",
          "height": 279
        },
        "outputId": "2db4f4f9-ee01-43a0-8250-5732e627c392"
      },
      "source": [
        "\n",
        "#############################################\n",
        "## Show plot\n",
        "#############################################\n",
        " \n",
        "fig, ax = plt.subplots()\n",
        "fig.set_size_inches(12*bars_to_render, 1+num_instruments, forward=True)\n",
        " \n",
        "# loop for each instrument\n",
        "y_axis = 0\n",
        "for i in instruments_to_render:\n",
        "  y_axis += 10\n",
        "  ax.broken_barh(bag_of_instruments[int(i)], (y_axis, 9), facecolors=next(cycol));\n",
        "\n",
        "\n",
        "ax.set_ylim(5, (num_instruments*10)+10);\n",
        "ax.set_xlim(start_tick, end_tick);\n",
        "ax.set_xlabel('ticks since start');\n",
        "ax.set_yticks(list(range(15, ((num_instruments+1)*10)+5, 10)));\n",
        "ax.set_yticklabels(names);\n",
        "bin_size = mtt.bin_size();\n",
        "ax.set_xticks(list(range(int(start_tick) + int(bin_size/2), int(end_tick), mtt.bin_size())));\n",
        "#ax.set_xticks(list(range(0, int(end_tick), mtt.bin_size())))\n",
        "ax.grid(True);\n",
        " \n",
        "plt.show();"
      ],
      "execution_count": 231,
      "outputs": [
        {
          "output_type": "display_data",
          "data": {
            "image/png": "[encoded data removed]",
            "text/plain": [
              "<Figure size 864x288 with 1 Axes>"
            ]
          },
          "metadata": {
            "tags": [],
            "needs_background": "light"
          }
        }
      ]
    },
    {
      "cell_type": "markdown",
      "metadata": {
        "id": "G6XvQQ-JgJaA",
        "colab_type": "text"
      },
      "source": [
        "\n",
        "# Visualization: offset chart  (TODO)\n",
        "\n",
        "\n"
      ]
    },
    {
      "cell_type": "markdown",
      "metadata": {
        "id": "PXoKPW-SuDKa",
        "colab_type": "text"
      },
      "source": [
        "\n",
        "## Scratchpad \n",
        "\n",
        "```\n",
        "\n",
        "\n",
        "#############################################\n",
        "## Setup\n",
        "#############################################\n",
        "\n",
        "def get_hit_times_array():\n",
        "  \n",
        "  hh = [] # hi hats\n",
        "  for t in kic_sn_hats_df.loc[kic_sn_hats_df[midi_file.note_col] == 51, midi_file.cum_ticks_col]:\n",
        "    hh.append(t)\n",
        "  print('hat times: {} - {}'.format(len(hh), hh))\n",
        "\n",
        "  sn = [] # snare drum\n",
        "  for t in kic_sn_hats_df.loc[kic_sn_hats_df[midi_file.note_col] == 38, midi_file.cum_ticks_col]:\n",
        "    sn.append(t)\n",
        "  print('snare times: {} - {}'.format(len(sn), sn))\n",
        "\n",
        "  k = [] # kick/ bass drum\n",
        "  for t in kic_sn_hats_df.loc[kic_sn_hats_df[midi_file.note_col] == 36, midi_file.cum_ticks_col]:\n",
        "    k.append(t)\n",
        "  print('kick times: {} - {}'.format(len(k), k))\n",
        "\n",
        "  return np.array(hh), np.array(k), np.array(sn)\n",
        "\n",
        "def get_offset_times_array():\n",
        "  hats = [] # hi-hats\n",
        "  for t in kic_sn_hats_df.loc[kic_sn_hats_df[midi_file.note_col] == 51, 'beat_offset']:\n",
        "    hats.append(t)\n",
        "  print('hat offsets: {} - {}'.format(len(hats), hats))\n",
        "\n",
        "  snares = [] # snare offsets\n",
        "  for t in kic_sn_hats_df.loc[kic_sn_hats_df[midi_file.note_col] == 38, 'beat_offset']:\n",
        "    snares.append(t)\n",
        "  print('snare offset: {} - {}'.format(len(snares), snares))\n",
        "\n",
        "  kicks = [] # kick offsets\n",
        "  for t in kic_sn_hats_df.loc[kic_sn_hats_df[midi_file.note_col] == 36, 'beat_offset']:\n",
        "    kicks.append(t)\n",
        "  print('kick offset: {} - {}'.format(len(kicks), kicks))\n",
        "\n",
        "  return np.array(hats), np.array(kicks), np.array(snares)\n",
        "\n",
        "# gather times of notes strikes of performance\n",
        "hh_hits, kick_hits, sn_hits = get_hit_times_array()  \n",
        "\n",
        "# gather list of strike offsets, i.e. how far the strikes were ahead/ behind the beat\n",
        "hh_offsets, kick_offsets, sn_offsets = get_offset_times_array()\n",
        "\n",
        "#############################################\n",
        "## Show plot\n",
        "#############################################\n",
        "\n",
        "x_ticks = [*range(0, int(ticks_to_render), int(ticks_per_16))]\n",
        "print(x_ticks)\n",
        "len(x_ticks)\n",
        "\n",
        "fig, ax = plt.subplots()\n",
        "\n",
        "fig.set_size_inches(24, 6, forward=True)\n",
        "\n",
        "ax.plot(hh_hits, hh_offsets, '-o', ms= 10, label='hats offsets')\n",
        "ax.plot(kick_hits, kick_offsets, '-o', ms= 10, label='kick offsets')\n",
        "ax.plot(sn_hits, sn_offsets, '-o', ms= 10,label='snare offsets')\n",
        "\n",
        "\n",
        "\n",
        "ax.set(xlabel='time (ticks)', ylabel='offset (ticks)',\n",
        "       title='kick, sn, hats timing offset data')\n",
        "\n",
        "#Add horizontal and vertical lines\n",
        "plt.axhline(0, color='black', linestyle='dotted', linewidth=4)  #horizontal line\n",
        "\n",
        "# for xc in x_ticks:\n",
        "#  plt.axvline(x=xc, color='black', linestyle='dotted')\n",
        "\n",
        "ax.set_xticks(range(0, int(ticks_to_render), int(ticks_per_16)))\n",
        "\n",
        "#ax.grid(axis='y')\n",
        "ax.grid()\n",
        "ax.legend()\n",
        "\n",
        "#fig.savefig(\"test.png\")\n",
        "plt.show()\n",
        "\n",
        "\n",
        "```"
      ]
    }
  ]
}