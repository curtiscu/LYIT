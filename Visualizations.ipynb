{
  "nbformat": 4,
  "nbformat_minor": 0,
  "metadata": {
    "colab": {
      "name": "Visualizations.ipynb",
      "provenance": [],
      "collapsed_sections": [],
      "toc_visible": true,
      "authorship_tag": "ABX9TyML/dOjUsmbKqf0yRD54reg",
      "include_colab_link": true
    },
    "kernelspec": {
      "name": "python3",
      "display_name": "Python 3"
    }
  },
  "cells": [
    {
      "cell_type": "markdown",
      "metadata": {
        "id": "view-in-github",
        "colab_type": "text"
      },
      "source": [
        "<a href=\"https://colab.research.google.com/github/curtiscu/LYIT/blob/master/Visualizations.ipynb\" target=\"_parent\"><img src=\"https://colab.research.google.com/assets/colab-badge.svg\" alt=\"Open In Colab\"/></a>"
      ]
    },
    {
      "cell_type": "markdown",
      "metadata": {
        "id": "-nl2J-ztY_6a",
        "colab_type": "text"
      },
      "source": [
        "# Gathering visualizations ideas"
      ]
    },
    {
      "cell_type": "markdown",
      "metadata": {
        "id": "NybvOG9ssS26",
        "colab_type": "text"
      },
      "source": [
        "# Setup env\n"
      ]
    },
    {
      "cell_type": "code",
      "metadata": {
        "id": "juZFbd9RttvQ",
        "colab_type": "code",
        "colab": {}
      },
      "source": [
        "# print all cell output\n",
        "from IPython.core.interactiveshell import InteractiveShell\n",
        "InteractiveShell.ast_node_interactivity = \"all\"\n"
      ],
      "execution_count": 0,
      "outputs": []
    },
    {
      "cell_type": "markdown",
      "metadata": {
        "id": "yEXZFoA4t9de",
        "colab_type": "text"
      },
      "source": [
        "## Google drive access"
      ]
    },
    {
      "cell_type": "code",
      "metadata": {
        "id": "uRELmgI2mvEK",
        "colab_type": "code",
        "outputId": "f67cebc8-226f-4633-a009-c7866171298b",
        "colab": {
          "base_uri": "https://localhost:8080/",
          "height": 122
        }
      },
      "source": [
        "# mount google drive\n",
        "\n",
        "from google.colab import drive\n",
        "drive.mount('/content/drive', force_remount=True)\n"
      ],
      "execution_count": 2,
      "outputs": [
        {
          "output_type": "stream",
          "text": [
            "Go to this URL in a browser: https://accounts.google.com/o/oauth2/auth?client_id=947318989803-6bn6qk8qdgf4n4g3pfee6491hc0brc4i.apps.googleusercontent.com&redirect_uri=urn%3aietf%3awg%3aoauth%3a2.0%3aoob&response_type=code&scope=email%20https%3a%2f%2fwww.googleapis.com%2fauth%2fdocs.test%20https%3a%2f%2fwww.googleapis.com%2fauth%2fdrive%20https%3a%2f%2fwww.googleapis.com%2fauth%2fdrive.photos.readonly%20https%3a%2f%2fwww.googleapis.com%2fauth%2fpeopleapi.readonly\n",
            "\n",
            "Enter your authorization code:\n",
            "··········\n",
            "Mounted at /content/drive\n"
          ],
          "name": "stdout"
        }
      ]
    },
    {
      "cell_type": "code",
      "metadata": {
        "id": "Yk2_ztH9uKat",
        "colab_type": "code",
        "outputId": "6b8ece5d-b7d2-40d2-d4a5-4e9d869deb1b",
        "colab": {
          "base_uri": "https://localhost:8080/",
          "height": 255
        }
      },
      "source": [
        "# test, peek at data\n",
        "! ls -al '/content/drive/My Drive/groove-v1.0.0-midionly/groove/drummer1/eval_session/'\n",
        "\n",
        "# test, modules from local  'E:\\Google Drive\\LYIT\\Dissertation\\modules'\n",
        "! ls -al '/content/drive/My Drive/LYIT/Dissertation/modules/'"
      ],
      "execution_count": 3,
      "outputs": [
        {
          "output_type": "stream",
          "text": [
            "total 35\n",
            "-rw------- 1 root root 2589 Apr 27 12:01 10_soul-groove10_102_beat_4-4.mid\n",
            "-rw------- 1 root root 4793 Apr 27 12:01 1_funk-groove1_138_beat_4-4.mid\n",
            "-rw------- 1 root root 3243 Apr 27 12:01 2_funk-groove2_105_beat_4-4.mid\n",
            "-rw------- 1 root root 4466 Apr 27 12:01 3_soul-groove3_86_beat_4-4.mid\n",
            "-rw------- 1 root root 2551 Apr 27 12:01 4_soul-groove4_80_beat_4-4.mid\n",
            "-rw------- 1 root root 3798 Apr 27 12:01 5_funk-groove5_84_beat_4-4.mid\n",
            "-rw------- 1 root root 3760 Apr 27 12:01 6_hiphop-groove6_87_beat_4-4.mid\n",
            "-rw------- 1 root root 1894 Apr 27 12:01 7_pop-groove7_138_beat_4-4.mid\n",
            "-rw------- 1 root root 2437 Apr 27 12:01 8_rock-groove8_65_beat_4-4.mid\n",
            "-rw------- 1 root root 3448 Apr 27 12:01 9_soul-groove9_105_beat_4-4.mid\n",
            "total 20\n",
            "-rw------- 1 root root 15739 May 23 00:39 data_prep.py\n",
            "drwx------ 2 root root  4096 May 10 13:31 __pycache__\n"
          ],
          "name": "stdout"
        }
      ]
    },
    {
      "cell_type": "markdown",
      "metadata": {
        "id": "SBKOdMxXFygn",
        "colab_type": "text"
      },
      "source": [
        "## Auto reload module\n",
        "\n",
        "I'm now using a module edited and saved to google drive which is automatically pushed to the cloud and made available to the colab env. Changes need time to propagate, and imports don't 'reimport' to load changes, so trying the following...\n",
        "\n",
        "Note the code below is not very reliable, it seems to work occasionally, after some time, but haven't been able to work out the pattern to it. \n",
        "\n",
        "If in a hurry, brute force loading of changes by restarting the runtime."
      ]
    },
    {
      "cell_type": "code",
      "metadata": {
        "id": "jErvkusO6D01",
        "colab_type": "code",
        "colab": {}
      },
      "source": [
        "# tool to auto reload modules.\n",
        "%load_ext autoreload\n",
        "\n",
        "# config to auto-reload all modules, handy to make \n",
        "# writing and testing modules much easier.\n",
        "%autoreload 2"
      ],
      "execution_count": 0,
      "outputs": []
    },
    {
      "cell_type": "markdown",
      "metadata": {
        "id": "2qR3tjMl4bv2",
        "colab_type": "text"
      },
      "source": [
        "## Imports and accessing lib functions"
      ]
    },
    {
      "cell_type": "code",
      "metadata": {
        "id": "U6Yjj8jC4gQr",
        "colab_type": "code",
        "outputId": "dd127e81-26a7-43eb-fd95-2eaf35fda2ac",
        "colab": {
          "base_uri": "https://localhost:8080/",
          "height": 102
        }
      },
      "source": [
        "# install required libs\n",
        "!pip install mido"
      ],
      "execution_count": 5,
      "outputs": [
        {
          "output_type": "stream",
          "text": [
            "Collecting mido\n",
            "\u001b[?25l  Downloading https://files.pythonhosted.org/packages/20/0a/81beb587b1ae832ea6a1901dc7c6faa380e8dd154e0a862f0a9f3d2afab9/mido-1.2.9-py2.py3-none-any.whl (52kB)\n",
            "\r\u001b[K     |██████▎                         | 10kB 17.2MB/s eta 0:00:01\r\u001b[K     |████████████▌                   | 20kB 1.7MB/s eta 0:00:01\r\u001b[K     |██████████████████▊             | 30kB 2.1MB/s eta 0:00:01\r\u001b[K     |█████████████████████████       | 40kB 2.4MB/s eta 0:00:01\r\u001b[K     |███████████████████████████████▏| 51kB 2.0MB/s eta 0:00:01\r\u001b[K     |████████████████████████████████| 61kB 1.9MB/s \n",
            "\u001b[?25hInstalling collected packages: mido\n",
            "Successfully installed mido-1.2.9\n"
          ],
          "name": "stdout"
        }
      ]
    },
    {
      "cell_type": "code",
      "metadata": {
        "id": "rjqCavr4sz4x",
        "colab_type": "code",
        "outputId": "9a1468d5-e6f0-4896-934f-03378da4dff9",
        "colab": {
          "base_uri": "https://localhost:8080/",
          "height": 34
        }
      },
      "source": [
        "# imports\n",
        "import pandas as pd\n",
        "import math\n",
        "\n",
        "# import my modules\n",
        "import sys\n",
        "sys.path.append('/content/drive/My Drive/LYIT/Dissertation/modules/')\n",
        "import data_prep\n",
        "\n",
        "import matplotlib.pyplot as plt\n"
      ],
      "execution_count": 6,
      "outputs": [
        {
          "output_type": "stream",
          "text": [
            "LOADING - data_prep.py module name is: data_prep\n"
          ],
          "name": "stdout"
        }
      ]
    },
    {
      "cell_type": "code",
      "metadata": {
        "id": "oPKVwQibzS7t",
        "colab_type": "code",
        "outputId": "ff215aa3-8974-496f-a65a-8e16037f8cb0",
        "colab": {
          "base_uri": "https://localhost:8080/",
          "height": 34
        }
      },
      "source": [
        "# testing auto reload of modules \n",
        "data_prep.test_function_call('bling')"
      ],
      "execution_count": 7,
      "outputs": [
        {
          "output_type": "stream",
          "text": [
            "test function called worked! :)  bling\n"
          ],
          "name": "stdout"
        }
      ]
    },
    {
      "cell_type": "markdown",
      "metadata": {
        "id": "lBT_BaeD4o8L",
        "colab_type": "text"
      },
      "source": [
        "## Pandas display options"
      ]
    },
    {
      "cell_type": "code",
      "metadata": {
        "id": "KkLdwFFAAotC",
        "colab_type": "code",
        "colab": {}
      },
      "source": [
        "def set_pandas_display_options() -> None:\n",
        "    # Ref: https://stackoverflow.com/a/52432757/\n",
        "    display = pd.options.display\n",
        "\n",
        "    display.max_columns = 1000\n",
        "    display.max_rows = 200\n",
        "    display.max_colwidth = 1000\n",
        "    display.width = None\n",
        "    # display.precision = 2  # set as needed\n",
        "\n",
        "set_pandas_display_options()\n",
        "#pd.reset_option('all')\n"
      ],
      "execution_count": 0,
      "outputs": []
    },
    {
      "cell_type": "markdown",
      "metadata": {
        "id": "8DbIvTwPGpMU",
        "colab_type": "text"
      },
      "source": [
        "## Test creating object from custom module"
      ]
    },
    {
      "cell_type": "code",
      "metadata": {
        "id": "Vtkaryf-ICz_",
        "colab_type": "code",
        "colab": {}
      },
      "source": [
        "gmt = data_prep.GrooveMidiTools"
      ],
      "execution_count": 0,
      "outputs": []
    },
    {
      "cell_type": "code",
      "metadata": {
        "id": "rCG0bT0RH5gP",
        "colab_type": "code",
        "outputId": "160ce5d8-7caf-42db-8d85-d3fb4acbf43f",
        "colab": {
          "base_uri": "https://localhost:8080/",
          "height": 119
        }
      },
      "source": [
        "file_name = '/content/drive/My Drive/groove-v1.0.0-midionly/groove/drummer5/eval_session/1_funk-groove1_138_beat_4-4.mid'\n",
        "midi_file = data_prep.MIDI_File_Wrapper(file_name, gmt.mappings)"
      ],
      "execution_count": 10,
      "outputs": [
        {
          "output_type": "stream",
          "text": [
            "FILE: /content/drive/My Drive/groove-v1.0.0-midionly/groove/drummer5/eval_session/1_funk-groove1_138_beat_4-4.mid\n",
            "    tracks: [<midi track 'Base Midi' 1037 messages>]\n",
            "    time sig: <meta message time_signature numerator=4 denominator=4 clocks_per_click=24 notated_32nd_notes_per_beat=8 time=0>\n",
            "    tempo: <meta message set_tempo tempo=434783 time=0>\n",
            "    last note_on: 30634\n",
            "    good instruments: 4, {36.0: 'Bass Drum 1 (36)', 38.0: 'Acoustic Snare (38)', 42.0: 'Closed Hi Hat (42)', 51.0: 'Ride Cymbal 1 (51)'}\n"
          ],
          "name": "stdout"
        }
      ]
    },
    {
      "cell_type": "markdown",
      "metadata": {
        "id": "VspeXMsHH6Q3",
        "colab_type": "text"
      },
      "source": [
        "... the above verifies I'm able to create custom objects from custom code, great!\n"
      ]
    },
    {
      "cell_type": "markdown",
      "metadata": {
        "id": "F3TkTV3Uduiv",
        "colab_type": "text"
      },
      "source": [
        "# Visualization code: prepping/ gathering vars"
      ]
    },
    {
      "cell_type": "markdown",
      "metadata": {
        "id": "JHE7xLY_uZqg",
        "colab_type": "text"
      },
      "source": [
        "## Setup file to chart"
      ]
    },
    {
      "cell_type": "code",
      "metadata": {
        "id": "CzoW1hysQF_T",
        "colab_type": "code",
        "outputId": "f1251233-5347-4e67-d9a4-3f6f842337e5",
        "colab": {
          "base_uri": "https://localhost:8080/",
          "height": 119
        }
      },
      "source": [
        "file_name = '/content/drive/My Drive/groove-v1.0.0-midionly/groove/drummer5/eval_session/1_funk-groove1_138_beat_4-4.mid'\n",
        "midi_file = data_prep.MIDI_File_Wrapper(file_name, gmt.mappings)\n",
        "f = midi_file\n"
      ],
      "execution_count": 11,
      "outputs": [
        {
          "output_type": "stream",
          "text": [
            "FILE: /content/drive/My Drive/groove-v1.0.0-midionly/groove/drummer5/eval_session/1_funk-groove1_138_beat_4-4.mid\n",
            "    tracks: [<midi track 'Base Midi' 1037 messages>]\n",
            "    time sig: <meta message time_signature numerator=4 denominator=4 clocks_per_click=24 notated_32nd_notes_per_beat=8 time=0>\n",
            "    tempo: <meta message set_tempo tempo=434783 time=0>\n",
            "    last note_on: 30634\n",
            "    good instruments: 4, {36.0: 'Bass Drum 1 (36)', 38.0: 'Acoustic Snare (38)', 42.0: 'Closed Hi Hat (42)', 51.0: 'Ride Cymbal 1 (51)'}\n"
          ],
          "name": "stdout"
        }
      ]
    },
    {
      "cell_type": "markdown",
      "metadata": {
        "id": "pKIyNJKfJHhx",
        "colab_type": "text"
      },
      "source": [
        "## Gather timing data from MidiTimingTools"
      ]
    },
    {
      "cell_type": "code",
      "metadata": {
        "id": "wrWq66gRB1WZ",
        "colab_type": "code",
        "outputId": "874699f3-1ec2-4660-c64b-de0dcc7c9e73",
        "colab": {
          "base_uri": "https://localhost:8080/",
          "height": 170
        }
      },
      "source": [
        "# capture timing data in df\n",
        "\n",
        "mtt = data_prep.MidiTimingTools(file_name, f.ticks(), f.tempo_us(), f.ts_num(), f.ts_denom(), f.last_hit())\n",
        "print(mtt)\n",
        "\n",
        "f_df = f.df_midi_data\n",
        "f_df = f_df[f_df['msg_type'] == 'note_on'].copy() # we only care about 'note_on' events\n",
        "beats_col, offsets_col = mtt.get_offsets(f_df[f.cum_ticks_col])\n",
        "f_df['offset'] = offsets_col\n",
        "f_df['beat'] = beats_col"
      ],
      "execution_count": 12,
      "outputs": [
        {
          "output_type": "stream",
          "text": [
            "LABEL: /content/drive/My Drive/groove-v1.0.0-midionly/groove/drummer5/eval_session/1_funk-groove1_138_beat_4-4.mid \n",
            "  Ticks p/beat: 480 \n",
            "  BPM: 137.99987580011177 \n",
            "  time sig: 4/ 4 \n",
            "  bars in file: 16 \n",
            "  beats in file: 64 \n",
            "  ticks in file: 30720 \n",
            "  bins: range(-60, 30840, 120) \n",
            "  beats: range(0, 30840, 120)\n"
          ],
          "name": "stdout"
        }
      ]
    },
    {
      "cell_type": "markdown",
      "metadata": {
        "id": "AYD2g_EsvpPr",
        "colab_type": "text"
      },
      "source": [
        "## Specify start bar and number of bars to chart\n",
        "The next cell is all you need, put in what bar to start at and how many bars to print and hit the go button and it should do the rest ..."
      ]
    },
    {
      "cell_type": "code",
      "metadata": {
        "id": "VrA_UO3RDQX1",
        "colab_type": "code",
        "colab": {}
      },
      "source": [
        "# specify what bar to start chart\n",
        "bar_to_start=4\n",
        "\n",
        "# specify how many bars to include\n",
        "bars_to_render=2\n",
        "\n",
        "# instrument filter\n",
        "# leave empty to chart all in file, otherwise instruments filtered\n",
        "# to this list, and will be ordered from bottom to top y-axis.\n",
        "#instruments_to_render=[]  # good empty list\n",
        "instruments_to_render=[36, 38, 51]  # good empty list\n",
        "# instruments_to_render=[38, 36, 42]  # good list\n",
        "# instruments_to_render=[33, 32, 49, 999]  # broken list\n",
        "\n"
      ],
      "execution_count": 0,
      "outputs": []
    },
    {
      "cell_type": "markdown",
      "metadata": {
        "id": "CGkxiTYsvvKr",
        "colab_type": "text"
      },
      "source": [
        "## Filter data for plotting"
      ]
    },
    {
      "cell_type": "code",
      "metadata": {
        "id": "LEYX839PvkmP",
        "colab_type": "code",
        "outputId": "33b0441b-0837-4415-dab6-692167b7d40f",
        "colab": {
          "base_uri": "https://localhost:8080/",
          "height": 51
        }
      },
      "source": [
        "# time filtering the df here to only \n",
        "# events within the range to plot\n",
        "\n",
        "ts_num = f.ts_num()\n",
        "ts_den = f.ts_denom()\n",
        "ticks_per_bar=mtt.ticks_per_bar()\n",
        "\n",
        "# workout ticks\n",
        "start_tick, end_tick = mtt.get_tick_range(bar_to_start, bars_to_render)\n",
        "print('start tick: {}, end tick: {}'.format(start_tick, end_tick))\n",
        "print('total to print, ticks: {}, bars: {}'.format(end_tick - start_tick, (end_tick - start_tick) /ticks_per_bar))\n",
        "\n",
        "# filter our events to render\n",
        "time_filtered_df = f_df[f_df.total_ticks >= start_tick]  # chop off early ones\n",
        "time_filtered_df = time_filtered_df[time_filtered_df.total_ticks < end_tick] # chop off later ones"
      ],
      "execution_count": 27,
      "outputs": [
        {
          "output_type": "stream",
          "text": [
            "start tick: 5700.0, end tick: 9540.0\n",
            "total to print, ticks: 3840.0, bars: 2.0\n"
          ],
          "name": "stdout"
        }
      ]
    },
    {
      "cell_type": "code",
      "metadata": {
        "id": "wYFLFe8Vw1Sy",
        "colab_type": "code",
        "outputId": "6249da37-84db-479a-f9bb-8d9ff8fd40e7",
        "colab": {
          "base_uri": "https://localhost:8080/",
          "height": 51
        }
      },
      "source": [
        "# filter/ order instruments to include in chart\n",
        "# if given in params above...\n",
        "\n",
        "instr_in_file = time_filtered_df.note.unique()\n",
        "print('instruments in file: {}, names: {}'.format(instr_in_file, data_prep.MidiTools.getInstruments(instr_in_file)))\n",
        "\n",
        "instr_time_filtered_df = None \n",
        "\n",
        "# instrument filtering the df here ...\n",
        "if len(instruments_to_render) == 0:\n",
        "  instr_time_filtered_df = time_filtered_df[time_filtered_df['note'] != None]\n",
        "  instruments_to_render = instr_time_filtered_df.note.unique().sort()\n",
        "else:\n",
        "  instr_time_filtered_df = time_filtered_df[time_filtered_df['note'].isin(instruments_to_render)]\n",
        "\n",
        "num_instruments = len(instruments_to_render)\n",
        "\n",
        "names = data_prep.MidiTools.getInstruments(instruments_to_render)\n",
        "print('final instruments: {}, names: {}'.format(instruments_to_render, names ))\n"
      ],
      "execution_count": 28,
      "outputs": [
        {
          "output_type": "stream",
          "text": [
            "instruments in file: [51. 42. 38. 36.], names: ['Ride Cymbal 1 (51)', 'Closed Hi Hat (42)', 'Acoustic Snare (38)', 'Bass Drum 1 (36)']\n",
            "final instruments: [36, 38, 51], names: ['Bass Drum 1 (36)', 'Acoustic Snare (38)', 'Ride Cymbal 1 (51)']\n"
          ],
          "name": "stdout"
        }
      ]
    },
    {
      "cell_type": "markdown",
      "metadata": {
        "id": "SGzIXd0-8I0V",
        "colab_type": "text"
      },
      "source": [
        "# Visualization code: broken_barh"
      ]
    },
    {
      "cell_type": "markdown",
      "metadata": {
        "id": "U-5MdwzB1lTr",
        "colab_type": "text"
      },
      "source": [
        "## Build data structure required by broken_barh"
      ]
    },
    {
      "cell_type": "code",
      "metadata": {
        "id": "oPWuNRWXxPfw",
        "colab_type": "code",
        "outputId": "19464b7b-5751-41ca-bc83-63239b388361",
        "colab": {
          "base_uri": "https://localhost:8080/",
          "height": 54
        }
      },
      "source": [
        "bag_of_instruments = {}\n",
        "for i in instruments_to_render:\n",
        "  instrument_hits = instr_time_filtered_df.loc[instr_time_filtered_df['note'] == i, 'total_ticks']\n",
        "  instrument_hit_duples = []\n",
        "  for i_time in instrument_hits:\n",
        "    instrument_hit_duples.append((i_time, 10))\n",
        "\n",
        "  bag_of_instruments[i] = instrument_hit_duples\n",
        "\n",
        "\n",
        "print('bag_of_instruments: {}'.format(bag_of_instruments))"
      ],
      "execution_count": 29,
      "outputs": [
        {
          "output_type": "stream",
          "text": [
            "bag_of_instruments: {36: [(5994, 10), (6121, 10), (6727, 10), (6978, 10), (7043, 10), (7658, 10), (7889, 10), (8860, 10), (8981, 10)], 38: [(5874, 10), (6245, 10), (6351, 10), (6595, 10), (6842, 10), (7435, 10), (7776, 10), (7840, 10), (8161, 10), (8515, 10), (8759, 10), (9119, 10), (9472, 10)], 51: [(5767, 10), (6024, 10), (6240, 10), (6486, 10), (6725, 10), (6961, 10), (7202, 10), (7426, 10), (7663, 10), (7909, 10), (8150, 10), (8401, 10), (8652, 10), (8904, 10), (9112, 10), (9356, 10)]}\n"
          ],
          "name": "stdout"
        }
      ]
    },
    {
      "cell_type": "code",
      "metadata": {
        "id": "KHZMsZwqGeya",
        "colab_type": "code",
        "colab": {}
      },
      "source": [
        "# object that provides colours for chart\n",
        "from itertools import cycle\n",
        "cycol = cycle('bgrcmykw')  \n"
      ],
      "execution_count": 0,
      "outputs": []
    },
    {
      "cell_type": "code",
      "metadata": {
        "id": "cop_yBBN5qgN",
        "colab_type": "code",
        "colab": {}
      },
      "source": [
        "# create list for x-axis markers in plot\n",
        "bin_size = mtt.bin_size();\n",
        "my_xticks = list(range(int(start_tick) + int(bin_size/2), int(end_tick), bin_size))"
      ],
      "execution_count": 0,
      "outputs": []
    },
    {
      "cell_type": "markdown",
      "metadata": {
        "id": "sGGllGXvMNGp",
        "colab_type": "text"
      },
      "source": [
        "## Plot the broken_barh chart\n",
        "\n",
        "\n",
        "\n"
      ]
    },
    {
      "cell_type": "code",
      "metadata": {
        "id": "72h7MXg3IxIk",
        "colab_type": "code",
        "outputId": "df9cc1ce-23b4-4034-b9ff-5575dd9b254b",
        "colab": {
          "base_uri": "https://localhost:8080/",
          "height": 260
        }
      },
      "source": [
        "\n",
        "#############################################\n",
        "## Show plot\n",
        "#############################################\n",
        " \n",
        "fig, ax = plt.subplots()\n",
        "fig.set_size_inches(12*bars_to_render, 1+num_instruments, forward=True)\n",
        " \n",
        "# loop for each instrument\n",
        "y_axis = 0\n",
        "for i in instruments_to_render:\n",
        "  y_axis += 10\n",
        "  ax.broken_barh(bag_of_instruments[int(i)], (y_axis, 9), facecolors=next(cycol));\n",
        "\n",
        "\n",
        "ax.set_ylim(5, (num_instruments*10)+10);\n",
        "ax.set_xlim(start_tick, end_tick);\n",
        "ax.set_xlabel('Plot for bars {} - {}'.format(bar_to_start, bar_to_start+ bars_to_render-1));\n",
        "ax.set_yticks(list(range(15, ((num_instruments+1)*10)+5, 10)));\n",
        "ax.set_yticklabels(names);\n",
        "\n",
        "ax.set_xticks(my_xticks);\n",
        "ax.grid(True);\n",
        " \n",
        "plt.show();"
      ],
      "execution_count": 32,
      "outputs": [
        {
          "output_type": "display_data",
          "data": {
            "image/png": "[encoded data removed]",
            "text/plain": [
              "<Figure size 1728x288 with 1 Axes>"
            ]
          },
          "metadata": {
            "tags": [],
            "needs_background": "light"
          }
        }
      ]
    },
    {
      "cell_type": "markdown",
      "metadata": {
        "id": "G6XvQQ-JgJaA",
        "colab_type": "text"
      },
      "source": [
        "\n",
        "# Visualization: offset chart\n",
        "\n",
        "\n"
      ]
    },
    {
      "cell_type": "markdown",
      "metadata": {
        "id": "NeSqeWNV7EkR",
        "colab_type": "text"
      },
      "source": [
        "## Building data structures for plot"
      ]
    },
    {
      "cell_type": "code",
      "metadata": {
        "id": "XO42Qu6p2KmB",
        "colab_type": "code",
        "outputId": "59fecd2a-9ee2-4280-aca5-3f413ea82388",
        "colab": {
          "base_uri": "https://localhost:8080/",
          "height": 71
        }
      },
      "source": [
        "bag_of_instrument_hits = {}\n",
        "for i in instruments_to_render:\n",
        "  instrument_hits = instr_time_filtered_df.loc[instr_time_filtered_df['note'] == i, 'total_ticks']\n",
        "  instrument_hit_array = []\n",
        "  for i_time in instrument_hits:\n",
        "    instrument_hit_array.append(i_time)\n",
        "\n",
        "  bag_of_instrument_hits[i] = instrument_hit_array\n",
        "\n",
        "\n",
        "print('bag_of_instrument_hits: {}'.format(bag_of_instrument_hits))\n",
        "\n",
        "bag_of_instrument_offsets = {}\n",
        "for i in instruments_to_render:\n",
        "  instrument_offsets = instr_time_filtered_df.loc[instr_time_filtered_df['note'] == i, 'offset']\n",
        "  instrument_offset_array = []\n",
        "  for i_time in instrument_offsets:\n",
        "    instrument_offset_array.append(i_time)\n",
        "\n",
        "  bag_of_instrument_offsets[i] = instrument_offset_array\n",
        "\n",
        "\n",
        "print('bag_of_instrument_offsets: {}'.format(bag_of_instrument_offsets))"
      ],
      "execution_count": 33,
      "outputs": [
        {
          "output_type": "stream",
          "text": [
            "bag_of_instrument_hits: {36: [5994, 6121, 6727, 6978, 7043, 7658, 7889, 8860, 8981], 38: [5874, 6245, 6351, 6595, 6842, 7435, 7776, 7840, 8161, 8515, 8759, 9119, 9472], 51: [5767, 6024, 6240, 6486, 6725, 6961, 7202, 7426, 7663, 7909, 8150, 8401, 8652, 8904, 9112, 9356]}\n",
            "bag_of_instrument_offsets: {36: [-6, 1, 7, 18, -37, -22, -31, -20, -19], 38: [-6, 5, -9, -5, 2, -5, -24, 40, 1, -5, -1, -1, -8], 51: [7, 24, 0, 6, 5, 1, 2, -14, -17, -11, -10, 1, 12, 24, -8, -4]}\n"
          ],
          "name": "stdout"
        }
      ]
    },
    {
      "cell_type": "markdown",
      "metadata": {
        "id": "XXS_xMQw7NXP",
        "colab_type": "text"
      },
      "source": [
        "## Do to plot thing"
      ]
    },
    {
      "cell_type": "code",
      "metadata": {
        "id": "PmQNK6vU60UH",
        "colab_type": "code",
        "outputId": "38572c40-7dc4-457a-8652-6d20b16c66a8",
        "colab": {
          "base_uri": "https://localhost:8080/",
          "height": 287
        }
      },
      "source": [
        "\n",
        "fig, ax = plt.subplots();\n",
        "fig.set_size_inches(12*bars_to_render, 1+num_instruments, forward=True);\n",
        " \n",
        "\n",
        "# loop for each instrument\n",
        "for i in instruments_to_render:\n",
        "  ax.plot(bag_of_instrument_hits[i], bag_of_instrument_offsets[i], '-o', ms= 10, label=data_prep.MidiTools.mapInstrument(i));\n",
        "\n",
        "ax.set(xlabel='Plot for bars {} - {}'.format(bar_to_start, bar_to_start+ bars_to_render-1), ylabel='Beat offset from norm (ticks)', title='timing offset data');\n",
        "\n",
        "#Add horizontal and vertical lines\n",
        "plt.axhline(0, color='black', linestyle='dotted', linewidth=4);  #horizontal line\n",
        "\n",
        "ax.set_xticks(my_xticks);\n",
        "\n",
        "#ax.grid(axis='y')\n",
        "ax.grid();\n",
        "ax.legend();\n",
        "\n",
        "#fig.savefig(\"test.png\")\n",
        "plt.show();"
      ],
      "execution_count": 34,
      "outputs": [
        {
          "output_type": "display_data",
          "data": {
            "image/png": "[encoded data removed]",
            "text/plain": [
              "<Figure size 1728x288 with 1 Axes>"
            ]
          },
          "metadata": {
            "tags": [],
            "needs_background": "light"
          }
        }
      ]
    }
  ]
}