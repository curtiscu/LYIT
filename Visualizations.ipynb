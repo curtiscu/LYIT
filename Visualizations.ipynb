{
  "nbformat": 4,
  "nbformat_minor": 0,
  "metadata": {
    "colab": {
      "name": "Visualizations.ipynb",
      "provenance": [],
      "collapsed_sections": [],
      "toc_visible": true,
      "authorship_tag": "ABX9TyProCtJzKHBrRpdfyK2w5yY",
      "include_colab_link": true
    },
    "kernelspec": {
      "name": "python3",
      "display_name": "Python 3"
    }
  },
  "cells": [
    {
      "cell_type": "markdown",
      "metadata": {
        "id": "view-in-github",
        "colab_type": "text"
      },
      "source": [
        "<a href=\"https://colab.research.google.com/github/curtiscu/LYIT/blob/master/Visualizations.ipynb\" target=\"_parent\"><img src=\"https://colab.research.google.com/assets/colab-badge.svg\" alt=\"Open In Colab\"/></a>"
      ]
    },
    {
      "cell_type": "markdown",
      "metadata": {
        "id": "-nl2J-ztY_6a",
        "colab_type": "text"
      },
      "source": [
        "# Gathering visualizations ideas"
      ]
    },
    {
      "cell_type": "markdown",
      "metadata": {
        "id": "NybvOG9ssS26",
        "colab_type": "text"
      },
      "source": [
        "# Setup env\n"
      ]
    },
    {
      "cell_type": "code",
      "metadata": {
        "id": "juZFbd9RttvQ",
        "colab_type": "code",
        "colab": {}
      },
      "source": [
        "# print all cell output\n",
        "from IPython.core.interactiveshell import InteractiveShell\n",
        "InteractiveShell.ast_node_interactivity = \"all\"\n"
      ],
      "execution_count": 0,
      "outputs": []
    },
    {
      "cell_type": "markdown",
      "metadata": {
        "id": "yEXZFoA4t9de",
        "colab_type": "text"
      },
      "source": [
        "## Google drive access"
      ]
    },
    {
      "cell_type": "code",
      "metadata": {
        "id": "uRELmgI2mvEK",
        "colab_type": "code",
        "outputId": "28776f65-4181-4455-d356-6334cbf81ce1",
        "colab": {
          "base_uri": "https://localhost:8080/",
          "height": 34
        }
      },
      "source": [
        "# mount google drive\n",
        "\n",
        "from google.colab import drive\n",
        "drive.mount('/content/drive', force_remount=True)\n"
      ],
      "execution_count": 2,
      "outputs": [
        {
          "output_type": "stream",
          "text": [
            "Mounted at /content/drive\n"
          ],
          "name": "stdout"
        }
      ]
    },
    {
      "cell_type": "code",
      "metadata": {
        "id": "Yk2_ztH9uKat",
        "colab_type": "code",
        "outputId": "7b144744-d413-4ae0-bed0-86f89e1d5546",
        "colab": {
          "base_uri": "https://localhost:8080/",
          "height": 255
        }
      },
      "source": [
        "# test, peek at data\n",
        "! ls -al '/content/drive/My Drive/groove-v1.0.0-midionly/groove/drummer1/eval_session/'\n",
        "\n",
        "# test, modules from local  'E:\\Google Drive\\LYIT\\Dissertation\\modules'\n",
        "! ls -al '/content/drive/My Drive/LYIT/Dissertation/modules/'"
      ],
      "execution_count": 3,
      "outputs": [
        {
          "output_type": "stream",
          "text": [
            "total 35\n",
            "-rw------- 1 root root 2589 Apr 27 12:01 10_soul-groove10_102_beat_4-4.mid\n",
            "-rw------- 1 root root 4793 Apr 27 12:01 1_funk-groove1_138_beat_4-4.mid\n",
            "-rw------- 1 root root 3243 Apr 27 12:01 2_funk-groove2_105_beat_4-4.mid\n",
            "-rw------- 1 root root 4466 Apr 27 12:01 3_soul-groove3_86_beat_4-4.mid\n",
            "-rw------- 1 root root 2551 Apr 27 12:01 4_soul-groove4_80_beat_4-4.mid\n",
            "-rw------- 1 root root 3798 Apr 27 12:01 5_funk-groove5_84_beat_4-4.mid\n",
            "-rw------- 1 root root 3760 Apr 27 12:01 6_hiphop-groove6_87_beat_4-4.mid\n",
            "-rw------- 1 root root 1894 Apr 27 12:01 7_pop-groove7_138_beat_4-4.mid\n",
            "-rw------- 1 root root 2437 Apr 27 12:01 8_rock-groove8_65_beat_4-4.mid\n",
            "-rw------- 1 root root 3448 Apr 27 12:01 9_soul-groove9_105_beat_4-4.mid\n",
            "total 20\n",
            "-rw------- 1 root root 15416 May 22 19:20 data_prep.py\n",
            "drwx------ 2 root root  4096 May 22 19:21 __pycache__\n"
          ],
          "name": "stdout"
        }
      ]
    },
    {
      "cell_type": "markdown",
      "metadata": {
        "id": "SBKOdMxXFygn",
        "colab_type": "text"
      },
      "source": [
        "## Auto reload module\n",
        "\n",
        "I'm now using a module edited and saved to google drive which is automatically pushed to the cloud and made available to the colab env. Changes need time to propagate, and imports don't 'reimport' to load changes, so trying the following...\n",
        "\n",
        "Note the code below is not very reliable, it seems to work occasionally, after some time, but haven't been able to work out the pattern to it. \n",
        "\n",
        "If in a hurry, brute force loading of changes by restarting the runtime."
      ]
    },
    {
      "cell_type": "code",
      "metadata": {
        "id": "jErvkusO6D01",
        "colab_type": "code",
        "colab": {}
      },
      "source": [
        "# tool to auto reload modules.\n",
        "%load_ext autoreload\n",
        "\n",
        "# config to auto-reload all modules, handy to make \n",
        "# writing and testing modules much easier.\n",
        "%autoreload 2"
      ],
      "execution_count": 0,
      "outputs": []
    },
    {
      "cell_type": "markdown",
      "metadata": {
        "id": "2qR3tjMl4bv2",
        "colab_type": "text"
      },
      "source": [
        "## Imports and accessing lib functions"
      ]
    },
    {
      "cell_type": "code",
      "metadata": {
        "id": "U6Yjj8jC4gQr",
        "colab_type": "code",
        "outputId": "4e9ec290-ef58-4a4f-9341-5a45e919d953",
        "colab": {
          "base_uri": "https://localhost:8080/",
          "height": 34
        }
      },
      "source": [
        "# install required libs\n",
        "!pip install mido"
      ],
      "execution_count": 5,
      "outputs": [
        {
          "output_type": "stream",
          "text": [
            "Requirement already satisfied: mido in /usr/local/lib/python3.6/dist-packages (1.2.9)\n"
          ],
          "name": "stdout"
        }
      ]
    },
    {
      "cell_type": "code",
      "metadata": {
        "id": "rjqCavr4sz4x",
        "colab_type": "code",
        "outputId": "54efcc6e-65be-450f-8879-330fe9431e6c",
        "colab": {
          "base_uri": "https://localhost:8080/",
          "height": 34
        }
      },
      "source": [
        "# imports\n",
        "import pandas as pd\n",
        "import math\n",
        "\n",
        "# import my modules\n",
        "import sys\n",
        "sys.path.append('/content/drive/My Drive/LYIT/Dissertation/modules/')\n",
        "import data_prep\n",
        "\n"
      ],
      "execution_count": 6,
      "outputs": [
        {
          "output_type": "stream",
          "text": [
            "LOADING - data_prep.py module name is: data_prep\n"
          ],
          "name": "stdout"
        }
      ]
    },
    {
      "cell_type": "code",
      "metadata": {
        "id": "oPKVwQibzS7t",
        "colab_type": "code",
        "outputId": "8fe0d2ec-faf5-4250-8373-f7038aab0c3b",
        "colab": {
          "base_uri": "https://localhost:8080/",
          "height": 34
        }
      },
      "source": [
        "# testing auto reload of modules \n",
        "data_prep.test_function_call('bling')"
      ],
      "execution_count": 7,
      "outputs": [
        {
          "output_type": "stream",
          "text": [
            "test function called worked! :)  bling\n"
          ],
          "name": "stdout"
        }
      ]
    },
    {
      "cell_type": "markdown",
      "metadata": {
        "id": "lBT_BaeD4o8L",
        "colab_type": "text"
      },
      "source": [
        "## Pandas display options"
      ]
    },
    {
      "cell_type": "code",
      "metadata": {
        "id": "KkLdwFFAAotC",
        "colab_type": "code",
        "colab": {}
      },
      "source": [
        "def set_pandas_display_options() -> None:\n",
        "    # Ref: https://stackoverflow.com/a/52432757/\n",
        "    display = pd.options.display\n",
        "\n",
        "    display.max_columns = 1000\n",
        "    display.max_rows = 200\n",
        "    display.max_colwidth = 1000\n",
        "    display.width = None\n",
        "    # display.precision = 2  # set as needed\n",
        "\n",
        "set_pandas_display_options()\n",
        "#pd.reset_option('all')\n"
      ],
      "execution_count": 0,
      "outputs": []
    },
    {
      "cell_type": "markdown",
      "metadata": {
        "id": "8DbIvTwPGpMU",
        "colab_type": "text"
      },
      "source": [
        "## Test creating object from custom module"
      ]
    },
    {
      "cell_type": "code",
      "metadata": {
        "id": "Vtkaryf-ICz_",
        "colab_type": "code",
        "colab": {}
      },
      "source": [
        "gmt = data_prep.GrooveMidiTools"
      ],
      "execution_count": 0,
      "outputs": []
    },
    {
      "cell_type": "code",
      "metadata": {
        "id": "rCG0bT0RH5gP",
        "colab_type": "code",
        "outputId": "f2f83bd3-1a03-4458-b391-433ca520a6b1",
        "colab": {
          "base_uri": "https://localhost:8080/",
          "height": 119
        }
      },
      "source": [
        "file_name = '/content/drive/My Drive/groove-v1.0.0-midionly/groove/drummer5/eval_session/1_funk-groove1_138_beat_4-4.mid'\n",
        "midi_file = data_prep.MIDI_File_Wrapper(file_name, gmt.mappings)"
      ],
      "execution_count": 10,
      "outputs": [
        {
          "output_type": "stream",
          "text": [
            "FILE: /content/drive/My Drive/groove-v1.0.0-midionly/groove/drummer5/eval_session/1_funk-groove1_138_beat_4-4.mid\n",
            "    tracks: [<midi track 'Base Midi' 1037 messages>]\n",
            "    time sig: <meta message time_signature numerator=4 denominator=4 clocks_per_click=24 notated_32nd_notes_per_beat=8 time=0>\n",
            "    tempo: <meta message set_tempo tempo=434783 time=0>\n",
            "    last note_on: 30634\n",
            "    good instruments: 4, {36.0: 'Bass Drum 1', 38.0: 'Acoustic Snare', 42.0: 'Closed Hi Hat', 51.0: 'Ride Cymbal 1'}\n"
          ],
          "name": "stdout"
        }
      ]
    },
    {
      "cell_type": "markdown",
      "metadata": {
        "id": "VspeXMsHH6Q3",
        "colab_type": "text"
      },
      "source": [
        "... the above verifies I'm able to create custom objects from custom code, great!\n"
      ]
    },
    {
      "cell_type": "markdown",
      "metadata": {
        "id": "F3TkTV3Uduiv",
        "colab_type": "text"
      },
      "source": [
        "# Visualization class"
      ]
    },
    {
      "cell_type": "markdown",
      "metadata": {
        "id": "e-5lPU5FJ9oP",
        "colab_type": "text"
      },
      "source": [
        "Don't think I'm going to be using this, it's getting too complex and I'm getting nowhere..."
      ]
    },
    {
      "cell_type": "code",
      "metadata": {
        "id": "S-ZpZyLqdyWo",
        "colab_type": "code",
        "colab": {}
      },
      "source": [
        "\n",
        "import matplotlib\n",
        "import matplotlib.pyplot as plt\n",
        "import numpy as np\n",
        "\n",
        "class DataVis:\n",
        "  '''\n",
        "  Class to collect come visualizations created so far\n",
        "\n",
        "  Attributes:\n",
        "      < stuff from __init__ >\n",
        "\n",
        "  '''\n",
        "\n",
        "  def __init__(self):\n",
        "    pass\n",
        "\n",
        "  # might want to just use something like this method to configure\n",
        "  # things then call the chart I want.\n",
        "  def setup():\n",
        "    pass\n",
        "\n",
        "  # uses broken_barh\n",
        "  def score_plot(self, ts_num, ts_denom, start_tick, end_tick, s_notes, s_cum_ticks, s_offset_ticks, instruments=None):\n",
        "    ''' \n",
        "    Print horizontal bar chart, somewhat resembles music score layout\n",
        "\n",
        "    s_notes (MIDI note numbers), s_cum_ticks (cumulative tick position), s_offset_ticks (offset of MIDI event) should\n",
        "    be series of aligned values, a row in one series relates to a row in the other series. These could be pulled\n",
        "    from the same DataFrame holding (in order) the list of MIDI events load from a file.\n",
        "\n",
        "    The expectation is that only 'note_on' events are passed in.\n",
        "\n",
        "    Parameters:\n",
        "      ts_num (int): time signature numerator\n",
        "      ts_denom (int): time signature denominator\n",
        "      start_tick (int): position to start printing from\n",
        "      end_tick (int): click to print to\n",
        "      s_notes (Series): Series of notes to print\n",
        "      s_cum_ticks (Series): Series of cumulative tick counts to print\n",
        "      s_offset_ticks (Series): Series of offsets to print\n",
        "      instruments (array): array of instruments to display, can be a subset of those passed in which will filter\n",
        "        the printed events. array order indicates chart order y-axis from low to high. empty array prints all.\n",
        "\n",
        "    '''\n",
        "\n",
        "    if ( s_notes.size != s_cum_ticks.size or s_cum_ticks.size != s_offset_ticks.size):\n",
        "      raise ValueError('ERROR! s_notes ({}), s_cum_ticks({}), and s_offset_ticks({}) must all be the same size!'.format(s_notes, s_cum_ticks, s_offset_ticks))\n",
        "    \n",
        "    frame_data = {'note':s_notes, 'tick':s_cum_ticks, 'offset':s_offset_ticks}\n",
        "\n",
        "    data_df = pd.DataFrame(frame_data)\n",
        "\n",
        "    # filter to tick range\n",
        "    time_limited_df = data_df[data_df.tick >= start_tick]\n",
        "    time_limited_df = data_df[time_limited_df.tick < end_tick]\n",
        "\n",
        "    if instruments is None:\n",
        "      instruments = data_df.note.unique()\n",
        "\n",
        "\n",
        "    for i in instruments:\n",
        "      instrument_hits = []\n",
        "      for i_time in time_limited_df.loc[time_limited_df[time_limited_df.note] == i, time_limited_df.tick]:\n",
        "        instrument_hits.append((i_time, 10))\n",
        "\n",
        "      print('instrument {}: {}'.format(i, instrument_hits))\n",
        "    \n",
        "\n",
        "\n",
        "  def time_offsets():\n",
        "    pass\n",
        "\n",
        "\n",
        "\n"
      ],
      "execution_count": 0,
      "outputs": []
    },
    {
      "cell_type": "markdown",
      "metadata": {
        "id": "Mw3F-IH_dx6u",
        "colab_type": "text"
      },
      "source": [
        "\n",
        "## Scratchpad for horitzonal broken_barh\n",
        "\n",
        "```\n",
        "\n",
        "\n",
        "#############################################\n",
        "## Setup steps\n",
        "#############################################\n",
        "\n",
        "# number bars to render\n",
        "ticks_to_render = ticks_per_bar * 2\n",
        "\n",
        "print('will render bars: {}, total ticks: {}'.format(int(ticks_to_render/ ticks_per_bar), ticks_to_render))\n",
        "\n",
        "# filter to first bar\n",
        "limited_df = df[df.total_ticks < ticks_to_render]\n",
        "\n",
        "# filter to only note_ons\n",
        "df_ons_only = limited_df[limited_df[midi_file.type_col] == 'note_on']\n",
        "\n",
        "# filter to selected instruments...\n",
        "kic_sn_hats_df = df_ons_only[df_ons_only[midi_file.note_col].isin([36, 38, 51] )] \n",
        "\n",
        "# check just the specified notes...\n",
        "kic_sn_hats_df.note.unique()\n",
        "\n",
        "def get_hit_times_tuple():\n",
        "  \n",
        "  hh = [] # hi hats\n",
        "  for t in kic_sn_hats_df.loc[kic_sn_hats_df[midi_file.note_col] == 51, midi_file.cum_ticks_col]:\n",
        "    hh.append((t, 10))\n",
        "  print('hat times: {}'.format(hh))\n",
        "\n",
        "  sn = [] # snare drum\n",
        "  for t in kic_sn_hats_df.loc[kic_sn_hats_df[midi_file.note_col] == 38, midi_file.cum_ticks_col]:\n",
        "    sn.append((t, 10))\n",
        "  print('snare times: {}'.format(sn))\n",
        "\n",
        "  k = [] # kick/ bass drum\n",
        "  for t in kic_sn_hats_df.loc[kic_sn_hats_df[midi_file.note_col] == 36, midi_file.cum_ticks_col]:\n",
        "    k.append((t, 10))\n",
        "  print('kick times: {}'.format(k))\n",
        "\n",
        "  return hh, k, sn\n",
        "\n",
        "hats, kicks, snares = get_hit_times_tuple()  \n",
        "\n",
        "#############################################\n",
        "## Show plot\n",
        "#############################################\n",
        "\n",
        "fig, ax = plt.subplots()\n",
        "fig.set_size_inches(24, 4, forward=True)\n",
        "\n",
        "ax.broken_barh(hats, (30, 9), facecolors='tab:green')\n",
        "\n",
        "# do snares\n",
        "ax.broken_barh(snares, (20, 9), facecolors='tab:blue')\n",
        "\n",
        "# do kicks\n",
        "ax.broken_barh(kicks, (10, 9), \n",
        "               facecolors='tab:red')\n",
        "\n",
        "\n",
        "ax.set_ylim(5, 45)\n",
        "ax.set_xlim(0, ticks_to_render) \n",
        "ax.set_xlabel('ticks since start')\n",
        "ax.set_yticks([15, 25, 35])\n",
        "ax.set_yticklabels(['Kick', 'Snare', 'Hats'])\n",
        "ax.set_xticks(range(0, int(ticks_to_render), int(ticks_per_16)))\n",
        "ax.grid(True)\n",
        "\n",
        "plt.show()\n",
        "```\n",
        "\n",
        "\n"
      ]
    },
    {
      "cell_type": "markdown",
      "metadata": {
        "id": "pKIyNJKfJHhx",
        "colab_type": "text"
      },
      "source": [
        "### Testing - Setup timing info"
      ]
    },
    {
      "cell_type": "code",
      "metadata": {
        "id": "CzoW1hysQF_T",
        "colab_type": "code",
        "colab": {
          "base_uri": "https://localhost:8080/",
          "height": 119
        },
        "outputId": "d870df79-f5c4-4f35-bbf8-d7d56c6cb455"
      },
      "source": [
        "file_name = '/content/drive/My Drive/groove-v1.0.0-midionly/groove/drummer5/eval_session/1_funk-groove1_138_beat_4-4.mid'\n",
        "midi_file = data_prep.MIDI_File_Wrapper(file_name, gmt.mappings)\n",
        "f = midi_file\n"
      ],
      "execution_count": 42,
      "outputs": [
        {
          "output_type": "stream",
          "text": [
            "FILE: /content/drive/My Drive/groove-v1.0.0-midionly/groove/drummer5/eval_session/1_funk-groove1_138_beat_4-4.mid\n",
            "    tracks: [<midi track 'Base Midi' 1037 messages>]\n",
            "    time sig: <meta message time_signature numerator=4 denominator=4 clocks_per_click=24 notated_32nd_notes_per_beat=8 time=0>\n",
            "    tempo: <meta message set_tempo tempo=434783 time=0>\n",
            "    last note_on: 30634\n",
            "    good instruments: 4, {36.0: 'Bass Drum 1', 38.0: 'Acoustic Snare', 42.0: 'Closed Hi Hat', 51.0: 'Ride Cymbal 1'}\n"
          ],
          "name": "stdout"
        }
      ]
    },
    {
      "cell_type": "code",
      "metadata": {
        "id": "wrWq66gRB1WZ",
        "colab_type": "code",
        "colab": {}
      },
      "source": [
        "# capture timing data in df\n",
        "\n",
        "mtt = data_prep.MidiTimingTools(file_name, f.ticks(), f.tempo_us(), f.ts_num(), f.ts_denom(), f.last_hit())\n",
        "# print(mtt)\n",
        "\n",
        "f_df = f.df_midi_data\n",
        "f_df = f_df[f_df['msg_type'] == 'note_on'].copy() # we only care about 'note_on' events\n",
        "beats_col, offsets_col = mtt.get_offsets(f_df[f.cum_ticks_col])\n",
        "f_df['offset'] = offsets_col\n",
        "f_df['beat'] = beats_col"
      ],
      "execution_count": 0,
      "outputs": []
    },
    {
      "cell_type": "markdown",
      "metadata": {
        "id": "AYD2g_EsvpPr",
        "colab_type": "text"
      },
      "source": [
        "### Testing - specify/ configure what to print\n",
        "The next cell is all you need, put in what bar to start at and how many bars to print and hit the go button and it should do the rest ..."
      ]
    },
    {
      "cell_type": "code",
      "metadata": {
        "id": "VrA_UO3RDQX1",
        "colab_type": "code",
        "colab": {}
      },
      "source": [
        "# specify what bar to start chart\n",
        "bar_to_start=15\n",
        "\n",
        "# specify how many bars to include\n",
        "bars_to_render=2\n",
        "\n",
        "# instrument filter\n",
        "# if you leave empty, all instruments will be\n",
        "# rendered, otherwise filtered to this list, will\n",
        "# be ordered from bottom to top y-axis.\n",
        "\n",
        "instruments_to_render=[]  # good empty list\n",
        "# instruments_to_render=[38, 36, 42]  # good list\n",
        "# instruments_to_render=[33, 32, 49, 999]  # broken list\n",
        "\n"
      ],
      "execution_count": 0,
      "outputs": []
    },
    {
      "cell_type": "markdown",
      "metadata": {
        "id": "CGkxiTYsvvKr",
        "colab_type": "text"
      },
      "source": [
        "### Testing - do the required calculations and print"
      ]
    },
    {
      "cell_type": "code",
      "metadata": {
        "id": "LEYX839PvkmP",
        "colab_type": "code",
        "colab": {
          "base_uri": "https://localhost:8080/",
          "height": 51
        },
        "outputId": "f6a00d91-0172-454a-9618-9545b4e4af1e"
      },
      "source": [
        "# time filtering the df here...\n",
        "\n",
        "ts_num = f.ts_num()\n",
        "ts_den = f.ts_denom()\n",
        "ticks_per_bar=mtt.ticks_per_bar()\n",
        "\n",
        "# workout ticks\n",
        "start_tick, end_tick = mtt.get_tick_range(bar_to_start, bars_to_render)\n",
        "print('start tick: {}, end tick: {}'.format(start_tick, end_tick))\n",
        "print('total to print, ticks: {}, bars: {}'.format(end_tick - start_tick, (end_tick - start_tick) /ticks_per_bar))\n",
        "\n",
        "# filter our events to render\n",
        "time_filtered_df = f_df[f_df.total_ticks >= start_tick]  # chop off early ones\n",
        "time_filtered_df = time_filtered_df[time_filtered_df.total_ticks < end_tick] # chop off later ones"
      ],
      "execution_count": 46,
      "outputs": [
        {
          "output_type": "stream",
          "text": [
            "start tick: 26820.0, end tick: 30660.0\n",
            "total to print, ticks: 3840.0, bars: 2.0\n"
          ],
          "name": "stdout"
        }
      ]
    },
    {
      "cell_type": "code",
      "metadata": {
        "id": "wYFLFe8Vw1Sy",
        "colab_type": "code",
        "colab": {
          "base_uri": "https://localhost:8080/",
          "height": 51
        },
        "outputId": "17491413-3a01-475d-96e9-596121c8af51"
      },
      "source": [
        "names = data_prep.MidiTools.getInstruments(instruments_to_render)\n",
        "print('provided instrument filter: {}, names: {}'.format(instruments_to_render, names ))\n",
        "\n",
        "instr_time_filtered_df = None \n",
        "\n",
        "# instrument filtering the df here ...\n",
        "if len(instruments_to_render) == 0:\n",
        "  instr_time_filtered_df = time_filtered_df[time_filtered_df['note'] != None]\n",
        "else:\n",
        "  instr_time_filtered_df = time_filtered_df[time_filtered_df['note'].isin(instruments_to_render)]\n",
        "\n",
        "\n",
        "final_instruments_to_render = instr_time_filtered_df.note.unique()\n",
        "names = data_prep.MidiTools.getInstruments(final_instruments_to_render)\n",
        "print('final instruments: {}, names: {}'.format(final_instruments_to_render, names ))\n"
      ],
      "execution_count": 47,
      "outputs": [
        {
          "output_type": "stream",
          "text": [
            "provided instrument filter: [], names: []\n",
            "final instruments: [36. 42. 51. 38.], names: ['Bass Drum 1', 'Closed Hi Hat', 'Ride Cymbal 1', 'Acoustic Snare']\n"
          ],
          "name": "stdout"
        }
      ]
    },
    {
      "cell_type": "markdown",
      "metadata": {
        "id": "U-5MdwzB1lTr",
        "colab_type": "text"
      },
      "source": [
        "### Build data structure required by broken_barh"
      ]
    },
    {
      "cell_type": "code",
      "metadata": {
        "id": "oPWuNRWXxPfw",
        "colab_type": "code",
        "colab": {
          "base_uri": "https://localhost:8080/",
          "height": 54
        },
        "outputId": "5493a867-0743-4bfe-97fd-240b98f1a032"
      },
      "source": [
        "bag_of_instruments = {}\n",
        "for i in final_instruments_to_render:\n",
        "  instrument_hits = instr_time_filtered_df.loc[instr_time_filtered_df['note'] == i, 'total_ticks']\n",
        "  instrument_hit_duples = []\n",
        "  for i_time in instrument_hits:\n",
        "    instrument_hit_duples.append((i_time, 10))\n",
        "\n",
        "  bag_of_instruments[i] = instrument_hit_duples\n",
        "\n",
        "\n",
        "print('bag_of_instruments: {}'.format(bag_of_instruments))"
      ],
      "execution_count": 60,
      "outputs": [
        {
          "output_type": "stream",
          "text": [
            "bag_of_instruments: {36.0: [(26894, 10), (27123, 10), (28095, 10), (28232, 10), (28811, 10), (29032, 10), (30001, 10), (30121, 10)], 42.0: [(26897, 10), (27353, 10), (27863, 10), (28286, 10), (28808, 10), (29281, 10), (29799, 10), (30230, 10)], 51.0: [(26903, 10), (27135, 10), (27394, 10), (27621, 10), (27867, 10), (28112, 10), (28334, 10), (28584, 10), (28819, 10), (29059, 10), (29315, 10), (29538, 10), (29781, 10), (30026, 10), (30256, 10), (30511, 10)], 38.0: [(27020, 10), (27091, 10), (27138, 10), (27629, 10), (27967, 10), (28064, 10), (28341, 10), (28442, 10), (28692, 10), (28958, 10), (29015, 10), (29542, 10), (29877, 10), (30004, 10), (30263, 10), (30634, 10)]}\n"
          ],
          "name": "stdout"
        }
      ]
    },
    {
      "cell_type": "markdown",
      "metadata": {
        "id": "sGGllGXvMNGp",
        "colab_type": "text"
      },
      "source": [
        "### work out some numbers for plotting"
      ]
    },
    {
      "cell_type": "code",
      "metadata": {
        "id": "Y7p3NHMxE_Hh",
        "colab_type": "code",
        "colab": {
          "base_uri": "https://localhost:8080/",
          "height": 34
        },
        "outputId": "d2004ec7-9c04-415f-9f3e-0fbc386e0d29"
      },
      "source": [
        "\n",
        "num_instruments = len(bag_of_instruments.keys())"
      ],
      "execution_count": 75,
      "outputs": [
        {
          "output_type": "execute_result",
          "data": {
            "text/plain": [
              "dict_keys([36.0, 42.0, 51.0, 38.0])"
            ]
          },
          "metadata": {
            "tags": []
          },
          "execution_count": 75
        }
      ]
    },
    {
      "cell_type": "code",
      "metadata": {
        "id": "KHZMsZwqGeya",
        "colab_type": "code",
        "colab": {}
      },
      "source": [
        "from itertools import cycle\n",
        "cycol = cycle('bgrcmykw')  # use this for colours\n"
      ],
      "execution_count": 0,
      "outputs": []
    },
    {
      "cell_type": "code",
      "metadata": {
        "id": "72h7MXg3IxIk",
        "colab_type": "code",
        "colab": {}
      },
      "source": [
        "\n",
        "#############################################\n",
        "## Show plot\n",
        "#############################################\n",
        " \n",
        "fig, ax = plt.subplots()\n",
        "fig.set_size_inches(12*bars_to_render, 1+num_instruments, forward=True)\n",
        " \n",
        "# loop for each instrument\n",
        "y_axis = 0\n",
        "for i in bag_of_instruments.keys():\n",
        "  y_axis += 10\n",
        "  ax.broken_barh(bag_of_instruments[i], (y_axis, 9), facecolors=cycol)\n",
        "\n",
        "\n",
        "ax.set_ylim(5, (num_instruments*10)+10)\n",
        "ax.set_xlim(start_tick, end_tick) \n",
        "ax.set_xlabel('ticks since start')\n",
        "ax.set_yticks([15, 25, 35])\n",
        "ax.set_yticklabels(['Kick', 'Snare', 'Hats'])\n",
        "ax.set_xticks(range(0, int(ticks_to_render), int(ticks_per_16)))\n",
        "ax.grid(True)\n",
        " \n",
        "plt.show()"
      ],
      "execution_count": 0,
      "outputs": []
    },
    {
      "cell_type": "markdown",
      "metadata": {
        "id": "G6XvQQ-JgJaA",
        "colab_type": "text"
      },
      "source": [
        "\n",
        "## Scratchpad for offset chart\n",
        "\n",
        "\n",
        "```\n",
        "\n",
        "\n",
        "#############################################\n",
        "## Setup\n",
        "#############################################\n",
        "\n",
        "def get_hit_times_array():\n",
        "  \n",
        "  hh = [] # hi hats\n",
        "  for t in kic_sn_hats_df.loc[kic_sn_hats_df[midi_file.note_col] == 51, midi_file.cum_ticks_col]:\n",
        "    hh.append(t)\n",
        "  print('hat times: {} - {}'.format(len(hh), hh))\n",
        "\n",
        "  sn = [] # snare drum\n",
        "  for t in kic_sn_hats_df.loc[kic_sn_hats_df[midi_file.note_col] == 38, midi_file.cum_ticks_col]:\n",
        "    sn.append(t)\n",
        "  print('snare times: {} - {}'.format(len(sn), sn))\n",
        "\n",
        "  k = [] # kick/ bass drum\n",
        "  for t in kic_sn_hats_df.loc[kic_sn_hats_df[midi_file.note_col] == 36, midi_file.cum_ticks_col]:\n",
        "    k.append(t)\n",
        "  print('kick times: {} - {}'.format(len(k), k))\n",
        "\n",
        "  return np.array(hh), np.array(k), np.array(sn)\n",
        "\n",
        "def get_offset_times_array():\n",
        "  hats = [] # hi-hats\n",
        "  for t in kic_sn_hats_df.loc[kic_sn_hats_df[midi_file.note_col] == 51, 'beat_offset']:\n",
        "    hats.append(t)\n",
        "  print('hat offsets: {} - {}'.format(len(hats), hats))\n",
        "\n",
        "  snares = [] # snare offsets\n",
        "  for t in kic_sn_hats_df.loc[kic_sn_hats_df[midi_file.note_col] == 38, 'beat_offset']:\n",
        "    snares.append(t)\n",
        "  print('snare offset: {} - {}'.format(len(snares), snares))\n",
        "\n",
        "  kicks = [] # kick offsets\n",
        "  for t in kic_sn_hats_df.loc[kic_sn_hats_df[midi_file.note_col] == 36, 'beat_offset']:\n",
        "    kicks.append(t)\n",
        "  print('kick offset: {} - {}'.format(len(kicks), kicks))\n",
        "\n",
        "  return np.array(hats), np.array(kicks), np.array(snares)\n",
        "\n",
        "# gather times of notes strikes of performance\n",
        "hh_hits, kick_hits, sn_hits = get_hit_times_array()  \n",
        "\n",
        "# gather list of strike offsets, i.e. how far the strikes were ahead/ behind the beat\n",
        "hh_offsets, kick_offsets, sn_offsets = get_offset_times_array()\n",
        "\n",
        "#############################################\n",
        "## Show plot\n",
        "#############################################\n",
        "\n",
        "x_ticks = [*range(0, int(ticks_to_render), int(ticks_per_16))]\n",
        "print(x_ticks)\n",
        "len(x_ticks)\n",
        "\n",
        "fig, ax = plt.subplots()\n",
        "\n",
        "fig.set_size_inches(24, 6, forward=True)\n",
        "\n",
        "ax.plot(hh_hits, hh_offsets, '-o', ms= 10, label='hats offsets')\n",
        "ax.plot(kick_hits, kick_offsets, '-o', ms= 10, label='kick offsets')\n",
        "ax.plot(sn_hits, sn_offsets, '-o', ms= 10,label='snare offsets')\n",
        "\n",
        "\n",
        "\n",
        "ax.set(xlabel='time (ticks)', ylabel='offset (ticks)',\n",
        "       title='kick, sn, hats timing offset data')\n",
        "\n",
        "#Add horizontal and vertical lines\n",
        "plt.axhline(0, color='black', linestyle='dotted', linewidth=4)  #horizontal line\n",
        "\n",
        "# for xc in x_ticks:\n",
        "#  plt.axvline(x=xc, color='black', linestyle='dotted')\n",
        "\n",
        "ax.set_xticks(range(0, int(ticks_to_render), int(ticks_per_16)))\n",
        "\n",
        "#ax.grid(axis='y')\n",
        "ax.grid()\n",
        "ax.legend()\n",
        "\n",
        "#fig.savefig(\"test.png\")\n",
        "plt.show()\n",
        "\n",
        "\n",
        "```\n"
      ]
    }
  ]
}