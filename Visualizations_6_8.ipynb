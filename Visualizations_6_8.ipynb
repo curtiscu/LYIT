{
  "nbformat": 4,
  "nbformat_minor": 0,
  "metadata": {
    "colab": {
      "name": "Visualizations 6-8.ipynb",
      "provenance": [],
      "collapsed_sections": [],
      "authorship_tag": "ABX9TyNz2qvukC+ymgERpO7NAJKA",
      "include_colab_link": true
    },
    "kernelspec": {
      "name": "python3",
      "display_name": "Python 3"
    }
  },
  "cells": [
    {
      "cell_type": "markdown",
      "metadata": {
        "id": "view-in-github",
        "colab_type": "text"
      },
      "source": [
        "<a href=\"https://colab.research.google.com/github/curtiscu/LYIT/blob/master/Visualizations_6_8.ipynb\" target=\"_parent\"><img src=\"https://colab.research.google.com/assets/colab-badge.svg\" alt=\"Open In Colab\"/></a>"
      ]
    },
    {
      "cell_type": "markdown",
      "metadata": {
        "id": "-nl2J-ztY_6a",
        "colab_type": "text"
      },
      "source": [
        "# Gathering visualizations ideas"
      ]
    },
    {
      "cell_type": "markdown",
      "metadata": {
        "id": "NybvOG9ssS26",
        "colab_type": "text"
      },
      "source": [
        "# Setup env\n"
      ]
    },
    {
      "cell_type": "code",
      "metadata": {
        "id": "juZFbd9RttvQ",
        "colab_type": "code",
        "colab": {}
      },
      "source": [
        "# print all cell output\n",
        "from IPython.core.interactiveshell import InteractiveShell\n",
        "InteractiveShell.ast_node_interactivity = \"all\"\n"
      ],
      "execution_count": 1,
      "outputs": []
    },
    {
      "cell_type": "markdown",
      "metadata": {
        "id": "yEXZFoA4t9de",
        "colab_type": "text"
      },
      "source": [
        "## Google drive access"
      ]
    },
    {
      "cell_type": "code",
      "metadata": {
        "id": "uRELmgI2mvEK",
        "colab_type": "code",
        "colab": {
          "base_uri": "https://localhost:8080/",
          "height": 127
        },
        "outputId": "4fae9143-8bae-4580-eb0d-cc96ff5543c1"
      },
      "source": [
        "# mount google drive\n",
        "\n",
        "from google.colab import drive\n",
        "drive.mount('/content/drive', force_remount=True)\n"
      ],
      "execution_count": 2,
      "outputs": [
        {
          "output_type": "stream",
          "text": [
            "Go to this URL in a browser: https://accounts.google.com/o/oauth2/auth?client_id=947318989803-6bn6qk8qdgf4n4g3pfee6491hc0brc4i.apps.googleusercontent.com&redirect_uri=urn%3aietf%3awg%3aoauth%3a2.0%3aoob&response_type=code&scope=email%20https%3a%2f%2fwww.googleapis.com%2fauth%2fdocs.test%20https%3a%2f%2fwww.googleapis.com%2fauth%2fdrive%20https%3a%2f%2fwww.googleapis.com%2fauth%2fdrive.photos.readonly%20https%3a%2f%2fwww.googleapis.com%2fauth%2fpeopleapi.readonly\n",
            "\n",
            "Enter your authorization code:\n",
            "··········\n",
            "Mounted at /content/drive\n"
          ],
          "name": "stdout"
        }
      ]
    },
    {
      "cell_type": "code",
      "metadata": {
        "id": "Yk2_ztH9uKat",
        "colab_type": "code",
        "colab": {
          "base_uri": "https://localhost:8080/",
          "height": 305
        },
        "outputId": "2601719a-ed93-4aaf-d2d2-27de73868739"
      },
      "source": [
        "# test, peek at data\n",
        "! ls -al '/content/drive/My Drive/groove-v1.0.0-midionly/groove/drummer1/eval_session/'\n",
        "\n",
        "# test, modules from local  'E:\\Google Drive\\LYIT\\Dissertation\\modules'\n",
        "! ls -al '/content/drive/My Drive/LYIT/Dissertation/modules/'"
      ],
      "execution_count": 3,
      "outputs": [
        {
          "output_type": "stream",
          "text": [
            "total 35\n",
            "-rw------- 1 root root 2589 Apr 27 12:01 10_soul-groove10_102_beat_4-4.mid\n",
            "-rw------- 1 root root 4793 Apr 27 12:01 1_funk-groove1_138_beat_4-4.mid\n",
            "-rw------- 1 root root 3243 Apr 27 12:01 2_funk-groove2_105_beat_4-4.mid\n",
            "-rw------- 1 root root 4466 Apr 27 12:01 3_soul-groove3_86_beat_4-4.mid\n",
            "-rw------- 1 root root 2551 Apr 27 12:01 4_soul-groove4_80_beat_4-4.mid\n",
            "-rw------- 1 root root 3798 Apr 27 12:01 5_funk-groove5_84_beat_4-4.mid\n",
            "-rw------- 1 root root 3760 Apr 27 12:01 6_hiphop-groove6_87_beat_4-4.mid\n",
            "-rw------- 1 root root 1894 Apr 27 12:01 7_pop-groove7_138_beat_4-4.mid\n",
            "-rw------- 1 root root 2437 Apr 27 12:01 8_rock-groove8_65_beat_4-4.mid\n",
            "-rw------- 1 root root 3448 Apr 27 12:01 9_soul-groove9_105_beat_4-4.mid\n",
            "total 42\n",
            "-rw------- 1 root root 21765 Jun 26 11:24 data_prep.py\n",
            "drwx------ 2 root root  4096 May 10 13:31 __pycache__\n",
            "-rw------- 1 root root  7272 Jun 26 14:53 stats_n_features.py\n",
            "-rw------- 1 root root  8416 Jun  2 21:24 visualizations.py\n"
          ],
          "name": "stdout"
        }
      ]
    },
    {
      "cell_type": "markdown",
      "metadata": {
        "id": "SBKOdMxXFygn",
        "colab_type": "text"
      },
      "source": [
        "## Auto reload module\n",
        "\n",
        "Now using library code I've created and saved to google drive which is automatically pushed to the cloud and made available to the colab env. The autoreload stuff below should help imports to 'reimport' to load changes to the library code.\n",
        "\n",
        "It's not the quickest/ most reliable, so if in a hurry, brute force loading of changes by restarting the runtime."
      ]
    },
    {
      "cell_type": "code",
      "metadata": {
        "id": "jErvkusO6D01",
        "colab_type": "code",
        "colab": {}
      },
      "source": [
        "# tool to auto reload modules.\n",
        "%load_ext autoreload\n",
        "\n",
        "# config to auto-reload all modules, handy to make \n",
        "# writing and testing modules much easier.\n",
        "%autoreload 2"
      ],
      "execution_count": 4,
      "outputs": []
    },
    {
      "cell_type": "markdown",
      "metadata": {
        "id": "2qR3tjMl4bv2",
        "colab_type": "text"
      },
      "source": [
        "## Imports and accessing lib functions"
      ]
    },
    {
      "cell_type": "code",
      "metadata": {
        "id": "U6Yjj8jC4gQr",
        "colab_type": "code",
        "colab": {
          "base_uri": "https://localhost:8080/",
          "height": 127
        },
        "outputId": "7585f06d-fc50-440f-c46f-eff740309a86"
      },
      "source": [
        "# install required libs\n",
        "!pip install mido"
      ],
      "execution_count": 5,
      "outputs": [
        {
          "output_type": "stream",
          "text": [
            "Collecting mido\n",
            "\u001b[?25l  Downloading https://files.pythonhosted.org/packages/20/0a/81beb587b1ae832ea6a1901dc7c6faa380e8dd154e0a862f0a9f3d2afab9/mido-1.2.9-py2.py3-none-any.whl (52kB)\n",
            "\r\u001b[K     |██████▎                         | 10kB 18.6MB/s eta 0:00:01\r\u001b[K     |████████████▌                   | 20kB 1.8MB/s eta 0:00:01\r\u001b[K     |██████████████████▊             | 30kB 2.2MB/s eta 0:00:01\r\u001b[K     |█████████████████████████       | 40kB 2.5MB/s eta 0:00:01\r\u001b[K     |███████████████████████████████▏| 51kB 2.0MB/s eta 0:00:01\r\u001b[K     |████████████████████████████████| 61kB 1.9MB/s \n",
            "\u001b[?25hInstalling collected packages: mido\n",
            "Successfully installed mido-1.2.9\n"
          ],
          "name": "stdout"
        }
      ]
    },
    {
      "cell_type": "code",
      "metadata": {
        "id": "rjqCavr4sz4x",
        "colab_type": "code",
        "colab": {
          "base_uri": "https://localhost:8080/",
          "height": 35
        },
        "outputId": "5680d7e5-24ee-411c-9857-538c5b6e0f2d"
      },
      "source": [
        "# imports\n",
        "import pandas as pd\n",
        "import math\n",
        "\n",
        "# object that provides colours for charts\n",
        "from itertools import cycle\n",
        "\n",
        "# import my modules\n",
        "import sys\n",
        "sys.path.append('/content/drive/My Drive/LYIT/Dissertation/modules/')\n",
        "import data_prep\n",
        "\n",
        "import matplotlib.pyplot as plt\n"
      ],
      "execution_count": 6,
      "outputs": [
        {
          "output_type": "stream",
          "text": [
            ">> LOADING custom module, when: 2020-06-26 23:26:38.228558, module name: data_prep\n"
          ],
          "name": "stdout"
        }
      ]
    },
    {
      "cell_type": "code",
      "metadata": {
        "id": "oPKVwQibzS7t",
        "colab_type": "code",
        "colab": {
          "base_uri": "https://localhost:8080/",
          "height": 35
        },
        "outputId": "8a42552d-f12e-41e3-d003-82b97f6bdc6f"
      },
      "source": [
        "# testing auto reload of modules \n",
        "data_prep.test_function_call('bling')"
      ],
      "execution_count": 7,
      "outputs": [
        {
          "output_type": "stream",
          "text": [
            "Test function in data_prep.py called and worked! when: 2020-06-26 23:26:38.250589,  param:bling\n"
          ],
          "name": "stdout"
        }
      ]
    },
    {
      "cell_type": "markdown",
      "metadata": {
        "id": "lBT_BaeD4o8L",
        "colab_type": "text"
      },
      "source": [
        "## Pandas display options"
      ]
    },
    {
      "cell_type": "code",
      "metadata": {
        "id": "KkLdwFFAAotC",
        "colab_type": "code",
        "colab": {}
      },
      "source": [
        "def set_pandas_display_options() -> None:\n",
        "    # Ref: https://stackoverflow.com/a/52432757/\n",
        "    display = pd.options.display\n",
        "\n",
        "    display.max_columns = 1000\n",
        "    display.max_rows = 200\n",
        "    display.max_colwidth = 1000\n",
        "    display.width = None\n",
        "    # display.precision = 2  # set as needed\n",
        "\n",
        "set_pandas_display_options()\n",
        "#pd.reset_option('all')\n"
      ],
      "execution_count": 8,
      "outputs": []
    },
    {
      "cell_type": "markdown",
      "metadata": {
        "id": "8DbIvTwPGpMU",
        "colab_type": "text"
      },
      "source": [
        "## Test creating object from custom module"
      ]
    },
    {
      "cell_type": "code",
      "metadata": {
        "id": "rCG0bT0RH5gP",
        "colab_type": "code",
        "colab": {
          "base_uri": "https://localhost:8080/",
          "height": 199
        },
        "outputId": "0d29a3d8-ae2f-4cec-97c7-d15cd63aa88e"
      },
      "source": [
        "file_name = '/content/drive/My Drive/groove-v1.0.0-midionly/groove/drummer5/eval_session/1_funk-groove1_138_beat_4-4.mid'\n",
        "\n",
        "file_2 = '/content/drive/My Drive/groove-v1.0.0-midionly/groove/drummer6/session1/1_rock_70_beat_6-8.mid'\n",
        "\n",
        "midi_file = data_prep.MIDI_File_Wrapper(file_2, data_prep.simplified_mapping)"
      ],
      "execution_count": 11,
      "outputs": [
        {
          "output_type": "stream",
          "text": [
            "FILE name: /content/drive/My Drive/groove-v1.0.0-midionly/groove/drummer6/session1/1_rock_70_beat_6-8.mid\n",
            "    loaded file: <midi file '/content/drive/My Drive/groove-v1.0.0-midionly/groove/drummer6/session1/1_rock_70_beat_6-8.mid' type 0, 1 tracks, 624 messages>\n",
            "    time sig: <meta message time_signature numerator=6 denominator=8 clocks_per_click=24 notated_32nd_notes_per_beat=8 time=0>\n",
            "    tempo: <meta message set_tempo tempo=857143 time=0>\n",
            "    track count: 1, tracks: [<midi track 'Midi Drums' 624 messages>]\n",
            "    MIDI file type: 0\n",
            "    > processing track: <midi track 'Midi Drums' 624 messages>\n",
            "    note_on span - first tick: 0 , last tick: 19946 \n",
            "    good instruments: 9, {36.0: 'Bass Drum 1 (36)', 38.0: 'Acoustic Snare (38)', 42.0: 'Closed Hi Hat (42)', 43.0: 'High Floor Tom (43)', 46.0: 'Open Hi-Hat (46)', 47.0: 'Low-Mid Tom (47)', 49.0: 'Crash Cymbal 1 (49)', 50.0: 'High Tom (50)', 51.0: 'Ride Cymbal 1 (51)'}\n"
          ],
          "name": "stdout"
        }
      ]
    },
    {
      "cell_type": "markdown",
      "metadata": {
        "id": "VspeXMsHH6Q3",
        "colab_type": "text"
      },
      "source": [
        "... the above verifies I'm able to create custom objects from custom code, great!\n"
      ]
    },
    {
      "cell_type": "markdown",
      "metadata": {
        "id": "F3TkTV3Uduiv",
        "colab_type": "text"
      },
      "source": [
        "# Visualization code: prepping/ gathering vars"
      ]
    },
    {
      "cell_type": "markdown",
      "metadata": {
        "id": "JHE7xLY_uZqg",
        "colab_type": "text"
      },
      "source": [
        "## Setup file to chart"
      ]
    },
    {
      "cell_type": "code",
      "metadata": {
        "id": "8aIE5RfULu7i",
        "colab_type": "code",
        "colab": {}
      },
      "source": [
        "# setup globals\n",
        "file_name = ''  \n",
        "f = None      # data_prep.MIDI_File_Wrapper\n",
        "mtt = None    # data_prep.MidiTimingTools\n",
        "f_df = None   # DataFrame loaded by 'f'\n"
      ],
      "execution_count": 12,
      "outputs": []
    },
    {
      "cell_type": "markdown",
      "metadata": {
        "id": "qosLcgUeH0uD",
        "colab_type": "text"
      },
      "source": [
        "## def load_file(file_to_load)"
      ]
    },
    {
      "cell_type": "code",
      "metadata": {
        "id": "CzoW1hysQF_T",
        "colab_type": "code",
        "colab": {}
      },
      "source": [
        "\n",
        "# load file to chart\n",
        "\n",
        "def load_file(file_to_load):\n",
        "  global file_name\n",
        "  global f\n",
        "  global mtt\n",
        "  global f_df\n",
        "\n",
        "  file_name = file_to_load\n",
        "  midi_file = data_prep.MIDI_File_Wrapper(file_name, data_prep.simplified_mapping)\n",
        "  f = midi_file\n",
        "\n",
        "    # capture timing data from MidiTimingTools in df...\n",
        "  mtt = data_prep.MidiTimingTools(file_name, f.ticks(), f.tempo_us(), f.ts_num(), f.ts_denom(), f.last_hit())\n",
        "\n",
        "  f_df = f.df_midi_data\n",
        "\n",
        "  beats_col, offsets_col = mtt.get_offsets(f_df[f.cum_ticks_col])\n",
        "  f_df['offset'] = offsets_col\n",
        "  f_df['beat'] = beats_col\n",
        "  \n",
        "  # we only care about 'note_on' events\n",
        "  f_df = f_df[f_df['msg_type'] == 'note_on'].copy() \n",
        "\n",
        "  #print('f_df: {}'.format(f_df))\n"
      ],
      "execution_count": 13,
      "outputs": []
    },
    {
      "cell_type": "markdown",
      "metadata": {
        "id": "CGkxiTYsvvKr",
        "colab_type": "text"
      },
      "source": [
        "## Filter data for plotting"
      ]
    },
    {
      "cell_type": "code",
      "metadata": {
        "id": "vIYPK2CgMM9V",
        "colab_type": "code",
        "colab": {}
      },
      "source": [
        "# setup globals/ defaults\n",
        "\n",
        "bar_to_start=4  # specify what bar to start chart\n",
        "bars_to_render=2  # specify how many bars to include\n",
        "instruments_to_render=[36, 38, 51]  # instrument filter\n",
        "\n",
        "start_tick = 0 \n",
        "end_tick = 0\n",
        "instr_time_filtered_df = None\n",
        "num_instruments = 0\n",
        "names = ''\n"
      ],
      "execution_count": 14,
      "outputs": []
    },
    {
      "cell_type": "markdown",
      "metadata": {
        "id": "-a8rBi89Hw1l",
        "colab_type": "text"
      },
      "source": [
        "## def configure_plot(start_plot_at, plot_for, plot_these_instruments)"
      ]
    },
    {
      "cell_type": "code",
      "metadata": {
        "id": "LEYX839PvkmP",
        "colab_type": "code",
        "colab": {}
      },
      "source": [
        "\n",
        "def configure_plot(start_plot_at, plot_for, plot_these_instruments):\n",
        "  global bar_to_start\n",
        "  global bars_to_render\n",
        "  global instruments_to_render\n",
        "\n",
        "  global start_tick\n",
        "  global end_tick\n",
        "  global names\n",
        "  global instr_time_filtered_df\n",
        "  global num_instruments\n",
        "\n",
        "  bar_to_start = start_plot_at\n",
        "  bars_to_render = plot_for\n",
        "  instruments_to_render = plot_these_instruments\n",
        "\n",
        "\n",
        "  # time filtering the df here to only \n",
        "  # events within the range to plot\n",
        "\n",
        "  ticks_per_bar=mtt.ticks_per_bar()\n",
        "\n",
        "  # workout ticks\n",
        "  start_tick, end_tick = mtt.get_tick_range(bar_to_start, bars_to_render)\n",
        "  #print('start tick: {}, end tick: {}'.format(start_tick, end_tick))\n",
        "  #print('total to print, ticks: {}, bars: {}'.format(end_tick - start_tick, (end_tick - start_tick) /ticks_per_bar))\n",
        "\n",
        "  # filter our events to render\n",
        "  time_filtered_df = f_df[f_df.total_ticks >= start_tick]  # chop off early ones\n",
        "  time_filtered_df = time_filtered_df[time_filtered_df.total_ticks < end_tick] # chop off later ones\n",
        "\n",
        "  # filter/ order instruments to include in chart\n",
        "  # if given in params above...\n",
        "\n",
        "  instr_in_file = time_filtered_df.note.unique()\n",
        "  #print('instruments in file: {}, names: {}'.format(instr_in_file, data_prep.MidiTools.getInstruments(instr_in_file)))\n",
        "\n",
        "  instr_time_filtered_df = None \n",
        "\n",
        "  # instrument filtering the df here ...\n",
        "  if instruments_to_render is None:\n",
        "    instr_time_filtered_df = time_filtered_df[time_filtered_df['note'] != None]\n",
        "    instruments_to_render = instr_time_filtered_df.note.unique()\n",
        "    instruments_to_render.sort()\n",
        "  else:\n",
        "    instr_time_filtered_df = time_filtered_df[time_filtered_df['note'].isin(instruments_to_render)]\n",
        "\n",
        "  num_instruments = len(instruments_to_render)\n",
        "\n",
        "  names = data_prep.MidiTools.getInstruments(instruments_to_render)\n",
        "  #print('selected instruments: {}, names: {}'.format(instruments_to_render, names ))\n"
      ],
      "execution_count": 15,
      "outputs": []
    },
    {
      "cell_type": "markdown",
      "metadata": {
        "id": "SGzIXd0-8I0V",
        "colab_type": "text"
      },
      "source": [
        "# Plot: def do_broken_barh_plot()"
      ]
    },
    {
      "cell_type": "code",
      "metadata": {
        "id": "72h7MXg3IxIk",
        "colab_type": "code",
        "colab": {}
      },
      "source": [
        "\n",
        "def do_broken_barh_plot():\n",
        "\n",
        "  # Build data structure required by broken_barh\n",
        "\n",
        "  bag_of_instruments = {}\n",
        "  for i in instruments_to_render:\n",
        "    instrument_hits = instr_time_filtered_df.loc[instr_time_filtered_df['note'] == i, 'total_ticks']\n",
        "    instrument_hit_duples = []\n",
        "    for i_time in instrument_hits:\n",
        "      instrument_hit_duples.append((i_time, 10))\n",
        "\n",
        "    bag_of_instruments[i] = instrument_hit_duples\n",
        "\n",
        "  #print('bag_of_instruments: {}'.format(bag_of_instruments))\n",
        "\n",
        "  # object that provides colours for charts\n",
        "  cycol = cycle('bgrcmykw')  \n",
        "\n",
        "  # create list for x-axis markers in plot\n",
        "  bin_size = mtt.bin_size();\n",
        "  my_xticks = list(range(int(start_tick) + int(bin_size/2), int(end_tick), bin_size))\n",
        "\n",
        "  # setup beat/ bar indicators\n",
        "  small_beat_ticks = list(range(int(start_tick) + int(bin_size/2), int(end_tick), bin_size))\n",
        "  big_beat_ticks = small_beat_ticks[:: int(mtt.bins_per_bar()/ f.ts_num())]\n",
        "  bar_ticks = big_beat_ticks[::f.ts_num()]\n",
        "\n",
        "  #############################################\n",
        "  ## Show plot\n",
        "  #############################################\n",
        "  \n",
        "  fig, ax = plt.subplots()\n",
        "  fig.set_size_inches(12*bars_to_render, 1+num_instruments, forward=True)\n",
        "  \n",
        "  # loop for each instrument\n",
        "  y_axis = 0\n",
        "  for i in instruments_to_render:\n",
        "    y_axis += 10\n",
        "    ax.broken_barh(bag_of_instruments[int(i)], (y_axis, 9), facecolors=next(cycol));\n",
        "\n",
        "\n",
        "  ax.set_ylim(5, (num_instruments*10)+10);\n",
        "  ax.set_xlim(start_tick, end_tick);\n",
        "  ax.set_xlabel('Plot for bars {} - {}'.format(bar_to_start, bar_to_start+ bars_to_render-1));\n",
        "  ax.set_yticks(list(range(15, ((num_instruments+1)*10)+5, 10)));\n",
        "  ax.set_yticklabels(names);\n",
        "\n",
        "  #Add lines for beats and bars\n",
        "  for next_beat_marker in big_beat_ticks:\n",
        "    ax.axvline(next_beat_marker, color='black', linestyle='dotted', linewidth=2); \n",
        "  for next_bar_marker in bar_ticks:\n",
        "    ax.axvline(next_bar_marker, color='black', linestyle='solid', linewidth=2); \n",
        "\n",
        "  ax.set_xticks(my_xticks);\n",
        "  ax.grid(True);\n",
        "  \n",
        "    #Add horizontal and vertical lines\n",
        "  plt.axhline(0, color='black', linestyle='dotted', linewidth=2);  #horizontal line\n",
        "\n",
        "  plt.show();\n",
        "\n"
      ],
      "execution_count": 16,
      "outputs": []
    },
    {
      "cell_type": "markdown",
      "metadata": {
        "id": "G6XvQQ-JgJaA",
        "colab_type": "text"
      },
      "source": [
        "\n",
        "# Plot: def do_offset_plot()\n",
        "\n",
        "\n"
      ]
    },
    {
      "cell_type": "code",
      "metadata": {
        "id": "PmQNK6vU60UH",
        "colab_type": "code",
        "colab": {}
      },
      "source": [
        "\n",
        "\n",
        "def do_offset_plot():\n",
        "\n",
        "  # Building data structures for plot\n",
        "  bag_of_instrument_hits = {}\n",
        "  for i in instruments_to_render:\n",
        "    instrument_hits = instr_time_filtered_df.loc[instr_time_filtered_df['note'] == i, 'total_ticks']\n",
        "    instrument_hit_array = []\n",
        "    for i_time in instrument_hits:\n",
        "      instrument_hit_array.append(i_time)\n",
        "\n",
        "    bag_of_instrument_hits[i] = instrument_hit_array\n",
        "\n",
        "\n",
        "  #print('bag_of_instrument_hits: {}'.format(bag_of_instrument_hits))\n",
        "\n",
        "  bag_of_instrument_offsets = {}\n",
        "  for i in instruments_to_render:\n",
        "    instrument_offsets = instr_time_filtered_df.loc[instr_time_filtered_df['note'] == i, 'offset']\n",
        "    instrument_offset_array = []\n",
        "    for i_time in instrument_offsets:\n",
        "      instrument_offset_array.append(i_time)\n",
        "\n",
        "    bag_of_instrument_offsets[i] = instrument_offset_array\n",
        "\n",
        "  #print('bag_of_instrument_offsets: {}'.format(bag_of_instrument_offsets))\n",
        "\n",
        "  # create list for x-axis markers in plot\n",
        "  bin_size = mtt.bin_size();\n",
        "  my_xticks = list(range(int(start_tick) + int(bin_size/2), int(end_tick), bin_size))\n",
        "\n",
        "\n",
        "\n",
        "  fig, ax = plt.subplots();\n",
        "  fig.set_size_inches(12*bars_to_render, 1+num_instruments, forward=True);\n",
        "  \n",
        "\n",
        "  # loop for each instrument\n",
        "  for i in instruments_to_render:\n",
        "    ax.plot(bag_of_instrument_hits[i], bag_of_instrument_offsets[i], '-o', ms= 10, label=data_prep.MidiTools.mapInstrument(i));\n",
        "\n",
        "  ax.set(xlabel='Plot for bars {} - {}'.format(bar_to_start, bar_to_start+ bars_to_render-1), ylabel='Beat offset from norm (ticks)', title='timing offset data');\n",
        "\n",
        "  #####################################\n",
        "  # Add horizontal and vertical lines\n",
        "  \n",
        "  ax.axhline(0, color='black', linestyle='dotted', linewidth=2);  #horizontal line\n",
        "  \n",
        "  # setup beat/ bar indicators\n",
        "  small_beat_ticks = list(range(int(start_tick) + int(bin_size/2), int(end_tick), bin_size))\n",
        "  big_beat_ticks = small_beat_ticks[:: int(mtt.bins_per_bar()/ f.ts_num())]\n",
        "  bar_ticks = big_beat_ticks[::f.ts_num()]\n",
        "\n",
        "  for next_beat_marker in big_beat_ticks:\n",
        "    ax.axvline(next_beat_marker, color='black', linestyle='dotted', linewidth=2); \n",
        "  for next_bar_marker in bar_ticks:\n",
        "    ax.axvline(next_bar_marker, color='black', linestyle='solid', linewidth=2); \n",
        "\n",
        "  \n",
        "\n",
        "  ax.set_xticks(my_xticks);\n",
        "\n",
        "  #ax.grid(axis='y')\n",
        "  ax.grid();\n",
        "  ax.legend();\n",
        "\n",
        "  #fig.savefig(\"test.png\")\n",
        "  plt.show();\n"
      ],
      "execution_count": 17,
      "outputs": []
    },
    {
      "cell_type": "markdown",
      "metadata": {
        "id": "zsTCWNC7PMXG",
        "colab_type": "text"
      },
      "source": [
        "# Testing plots"
      ]
    },
    {
      "cell_type": "markdown",
      "metadata": {
        "id": "1v7ieD6wPS1G",
        "colab_type": "text"
      },
      "source": [
        "## Single file"
      ]
    },
    {
      "cell_type": "code",
      "metadata": {
        "id": "dvG73s8IPWh7",
        "colab_type": "code",
        "colab": {
          "base_uri": "https://localhost:8080/",
          "height": 199
        },
        "outputId": "272d7e28-8e51-49c7-a589-32561e1f0515"
      },
      "source": [
        "test_file_to_load = '/content/drive/My Drive/groove-v1.0.0-midionly/groove/drummer5/eval_session/1_funk-groove1_138_beat_4-4.mid'\n",
        "load_file(file_2)\n"
      ],
      "execution_count": 18,
      "outputs": [
        {
          "output_type": "stream",
          "text": [
            "FILE name: /content/drive/My Drive/groove-v1.0.0-midionly/groove/drummer6/session1/1_rock_70_beat_6-8.mid\n",
            "    loaded file: <midi file '/content/drive/My Drive/groove-v1.0.0-midionly/groove/drummer6/session1/1_rock_70_beat_6-8.mid' type 0, 1 tracks, 624 messages>\n",
            "    time sig: <meta message time_signature numerator=6 denominator=8 clocks_per_click=24 notated_32nd_notes_per_beat=8 time=0>\n",
            "    tempo: <meta message set_tempo tempo=857143 time=0>\n",
            "    track count: 1, tracks: [<midi track 'Midi Drums' 624 messages>]\n",
            "    MIDI file type: 0\n",
            "    > processing track: <midi track 'Midi Drums' 624 messages>\n",
            "    note_on span - first tick: 0 , last tick: 19946 \n",
            "    good instruments: 9, {36.0: 'Bass Drum 1 (36)', 38.0: 'Acoustic Snare (38)', 42.0: 'Closed Hi Hat (42)', 43.0: 'High Floor Tom (43)', 46.0: 'Open Hi-Hat (46)', 47.0: 'Low-Mid Tom (47)', 49.0: 'Crash Cymbal 1 (49)', 50.0: 'High Tom (50)', 51.0: 'Ride Cymbal 1 (51)'}\n"
          ],
          "name": "stdout"
        }
      ]
    },
    {
      "cell_type": "code",
      "metadata": {
        "id": "jcOOwMb5d5--",
        "colab_type": "code",
        "colab": {
          "base_uri": "https://localhost:8080/",
          "height": 617
        },
        "outputId": "641f6bf2-248a-4808-a0e4-8ae1efea7b40"
      },
      "source": [
        "#configure_plot(start_plot_at=3, plot_for=2, plot_these_instruments=[36, 38, 51, 42])\n",
        "configure_plot(start_plot_at=3, plot_for=2, plot_these_instruments=None)\n",
        "do_broken_barh_plot()\n",
        "do_offset_plot()\n"
      ],
      "execution_count": 19,
      "outputs": [
        {
          "output_type": "display_data",
          "data": {
            "image/png": "[encoded data removed]",
            "text/plain": [
              "<Figure size 1728x504 with 1 Axes>"
            ]
          },
          "metadata": {
            "tags": [],
            "needs_background": "light"
          }
        },
        {
          "output_type": "display_data",
          "data": {
            "image/png": "[encoded data removed]",
            "text/plain": [
              "<Figure size 1728x504 with 1 Axes>"
            ]
          },
          "metadata": {
            "tags": [],
            "needs_background": "light"
          }
        }
      ]
    },
    {
      "cell_type": "markdown",
      "metadata": {
        "id": "mSfz0kPeNkWD",
        "colab_type": "text"
      },
      "source": [
        "## Multiple files/ drummers"
      ]
    },
    {
      "cell_type": "markdown",
      "metadata": {
        "id": "PGWyETfINozh",
        "colab_type": "text"
      },
      "source": [
        ""
      ]
    },
    {
      "cell_type": "code",
      "metadata": {
        "id": "ck_AO1T-Nq8g",
        "colab_type": "code",
        "colab": {}
      },
      "source": [
        "\n",
        "my_files = []\n",
        "my_files.append('/content/drive/My Drive/groove-v1.0.0-midionly/groove/drummer1/eval_session/1_funk-groove1_138_beat_4-4.mid')\n",
        "my_files.append('/content/drive/My Drive/groove-v1.0.0-midionly/groove/drummer5/eval_session/1_funk-groove1_138_beat_4-4.mid')\n",
        "my_files.append('/content/drive/My Drive/groove-v1.0.0-midionly/groove/drummer7/eval_session/1_funk-groove1_138_beat_4-4.mid')\n",
        "my_files.append('/content/drive/My Drive/groove-v1.0.0-midionly/groove/drummer8/eval_session/1_funk-groove1_138_beat_4-4.mid')\n",
        "\n",
        "# next file very different than previous, it's MIDI type 1, created in Cubasis on iOS\n",
        "# worth noting previous files from TD11, MIDI type 0. Cubasis file very different\n",
        "# setup, significantly lower timing resolutions...\n",
        "my_files.append('/content/drive/My Drive/LYIT/Dissertation/Midi/Midi drums.mid')\n",
        "\n",
        "for f in my_files:\n",
        "  load_file(f)\n",
        "  configure_plot(start_plot_at=1, plot_for=2, plot_these_instruments=[36, 38, 51, 42])\n",
        "  #configure_plot(start_plot_at=1, plot_for=2, plot_these_instruments=[])\n",
        "  #print('### timing info: {}'.format(mtt))\n",
        "  do_broken_barh_plot()\n",
        "  do_offset_plot()\n",
        "\n",
        "\n"
      ],
      "execution_count": null,
      "outputs": []
    }
  ]
}