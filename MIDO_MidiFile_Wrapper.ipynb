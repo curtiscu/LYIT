{
  "nbformat": 4,
  "nbformat_minor": 0,
  "metadata": {
    "colab": {
      "name": "MIDO_MidiFile_Wrapper.ipynb",
      "provenance": [],
      "collapsed_sections": [],
      "authorship_tag": "ABX9TyNWNwSSaWJShS0NbS4bdbbG",
      "include_colab_link": true
    },
    "kernelspec": {
      "name": "python3",
      "display_name": "Python 3"
    }
  },
  "cells": [
    {
      "cell_type": "markdown",
      "metadata": {
        "id": "view-in-github",
        "colab_type": "text"
      },
      "source": [
        "<a href=\"https://colab.research.google.com/github/curtiscu/LYIT/blob/master/MIDO_MidiFile_Wrapper.ipynb\" target=\"_parent\"><img src=\"https://colab.research.google.com/assets/colab-badge.svg\" alt=\"Open In Colab\"/></a>"
      ]
    },
    {
      "cell_type": "markdown",
      "metadata": {
        "id": "pbngqRVgFm4H",
        "colab_type": "text"
      },
      "source": [
        "# Feature Extraction Work\n",
        "\n",
        "Re-write of MIDO MIDI file work using python objects"
      ]
    },
    {
      "cell_type": "markdown",
      "metadata": {
        "id": "6BZ2zuQZIDtE",
        "colab_type": "text"
      },
      "source": [
        "# Setup notebook env"
      ]
    },
    {
      "cell_type": "code",
      "metadata": {
        "id": "nFo6ACFEHxxm",
        "colab_type": "code",
        "colab": {
          "base_uri": "https://localhost:8080/",
          "height": 309
        },
        "outputId": "5dfc244c-dd2b-41da-8f27-2ac4177b6a3a"
      },
      "source": [
        "# mount google drive\n",
        "\n",
        "from google.colab import drive\n",
        "drive.mount('/content/drive', force_remount=True)\n",
        "\n",
        "# test ..\n",
        "! ls -al '/content/drive/My Drive/groove-v1.0.0-midionly/groove/drummer1/eval_session/'"
      ],
      "execution_count": 3,
      "outputs": [
        {
          "output_type": "stream",
          "text": [
            "Go to this URL in a browser: https://accounts.google.com/o/oauth2/auth?client_id=947318989803-6bn6qk8qdgf4n4g3pfee6491hc0brc4i.apps.googleusercontent.com&redirect_uri=urn%3aietf%3awg%3aoauth%3a2.0%3aoob&response_type=code&scope=email%20https%3a%2f%2fwww.googleapis.com%2fauth%2fdocs.test%20https%3a%2f%2fwww.googleapis.com%2fauth%2fdrive%20https%3a%2f%2fwww.googleapis.com%2fauth%2fdrive.photos.readonly%20https%3a%2f%2fwww.googleapis.com%2fauth%2fpeopleapi.readonly\n",
            "\n",
            "Enter your authorization code:\n",
            "··········\n",
            "Mounted at /content/drive\n",
            "total 35\n",
            "-rw------- 1 root root 2589 Apr 27 12:01 10_soul-groove10_102_beat_4-4.mid\n",
            "-rw------- 1 root root 4793 Apr 27 12:01 1_funk-groove1_138_beat_4-4.mid\n",
            "-rw------- 1 root root 3243 Apr 27 12:01 2_funk-groove2_105_beat_4-4.mid\n",
            "-rw------- 1 root root 4466 Apr 27 12:01 3_soul-groove3_86_beat_4-4.mid\n",
            "-rw------- 1 root root 2551 Apr 27 12:01 4_soul-groove4_80_beat_4-4.mid\n",
            "-rw------- 1 root root 3798 Apr 27 12:01 5_funk-groove5_84_beat_4-4.mid\n",
            "-rw------- 1 root root 3760 Apr 27 12:01 6_hiphop-groove6_87_beat_4-4.mid\n",
            "-rw------- 1 root root 1894 Apr 27 12:01 7_pop-groove7_138_beat_4-4.mid\n",
            "-rw------- 1 root root 2437 Apr 27 12:01 8_rock-groove8_65_beat_4-4.mid\n",
            "-rw------- 1 root root 3448 Apr 27 12:01 9_soul-groove9_105_beat_4-4.mid\n"
          ],
          "name": "stdout"
        }
      ]
    },
    {
      "cell_type": "code",
      "metadata": {
        "id": "gBzxZXkIHI0q",
        "colab_type": "code",
        "colab": {
          "base_uri": "https://localhost:8080/",
          "height": 122
        },
        "outputId": "ef7b2894-4d2a-45db-a8ed-e31a71dbdeb4"
      },
      "source": [
        "# install required libs\n",
        "!pip install mido\n"
      ],
      "execution_count": 1,
      "outputs": [
        {
          "output_type": "stream",
          "text": [
            "Collecting mido\n",
            "\u001b[?25l  Downloading https://files.pythonhosted.org/packages/20/0a/81beb587b1ae832ea6a1901dc7c6faa380e8dd154e0a862f0a9f3d2afab9/mido-1.2.9-py2.py3-none-any.whl (52kB)\n",
            "\r\u001b[K     |██████▎                         | 10kB 18.7MB/s eta 0:00:01\r\u001b[K     |████████████▌                   | 20kB 3.1MB/s eta 0:00:01\r\u001b[K     |██████████████████▊             | 30kB 4.5MB/s eta 0:00:01\r\u001b[K     |█████████████████████████       | 40kB 3.0MB/s eta 0:00:01\r\u001b[K     |███████████████████████████████▏| 51kB 3.7MB/s eta 0:00:01\r\u001b[K     |████████████████████████████████| 61kB 3.1MB/s \n",
            "\u001b[?25hInstalling collected packages: mido\n",
            "Successfully installed mido-1.2.9\n"
          ],
          "name": "stdout"
        }
      ]
    },
    {
      "cell_type": "code",
      "metadata": {
        "id": "ue_PXcc8FYCD",
        "colab_type": "code",
        "colab": {}
      },
      "source": [
        "\n",
        "# print all cell output\n",
        "from IPython.core.interactiveshell import InteractiveShell\n",
        "InteractiveShell.ast_node_interactivity = \"all\"\n",
        "\n",
        "# imports\n",
        "import pandas as pd\n",
        "import mido \n",
        "from mido import MidiFile\n",
        "\n"
      ],
      "execution_count": 0,
      "outputs": []
    },
    {
      "cell_type": "code",
      "metadata": {
        "id": "q86OPH-mIAub",
        "colab_type": "code",
        "colab": {}
      },
      "source": [
        ""
      ],
      "execution_count": 0,
      "outputs": []
    },
    {
      "cell_type": "markdown",
      "metadata": {
        "id": "_kAhoZpvIOVS",
        "colab_type": "text"
      },
      "source": [
        "# Python class to wrapper mido.MidiFile objects\n",
        "\n",
        "Need to clean up code, make it re-usable for parsing multiple MIDI file performance files."
      ]
    },
    {
      "cell_type": "markdown",
      "metadata": {
        "id": "akFbOhujJpI3",
        "colab_type": "text"
      },
      "source": [
        "\n",
        "\n",
        "- time signature gathered from MIDI message within file, meta 'time_signature'\n",
        "- typically 96 - 480 ticks per beat, from 'mido.MidiFile.ticks_per_beat' attribute\n",
        "- tempo in microseconds per beat, gathered from 'set_tempo' MIDI message in file, converted using mido.tempo2bpm/ bpm2tempo, e.g. 434783 is 138 bpm\n",
        "- conversion from ticks to seconds -> e.g. mido.tick2second(34, 480, 434783)\n",
        "microseconds per tick = microseconds per quarter note / ticks per quarter note\n",
        "\n",
        "\n"
      ]
    },
    {
      "cell_type": "code",
      "metadata": {
        "id": "uLzYTHf5FoRs",
        "colab_type": "code",
        "colab": {}
      },
      "source": [
        "class MIDI_File_Wrapper:\n",
        "  ''' utility wrapper for loading, parsding a mido.MidiFile object'''\n",
        "\n",
        "  def __init__(self, file_name):\n",
        "    self.my_file_name = file_name\n",
        "    self.my_file_midi = None    \n",
        "    self.my_tempo = None  # stored as mido.Message instance\n",
        "    self.my_time_sig = None # stored as mido.Message instance\n",
        "\n",
        "\n",
        "    # load & configure file info...\n",
        "    self.parse_file()\n",
        "\n",
        "  # For call to str(). Prints readable form \n",
        "  def __str__(self): \n",
        "    return str('file: {}'.format(self.my_file_midi))\n",
        "    \n",
        "  \n",
        "  def parse_file(self):\n",
        "    ''' file must be: MIDI type 0 only;  one and only one tempo and time_sig meta messages in file. '''\n",
        "\n",
        "    print('Loading file: {}'.format(self.my_file_name))\n",
        "\n",
        "    # load file\n",
        "    midi_file = MidiFile(self.my_file_name)\n",
        "    self.my_file_midi = midi_file \n",
        "\n",
        "    # check it's the right type ..\n",
        "    if midi_file.type != 0:\n",
        "      raise ValueError('ERROR! Can only process type 0 files, this file is type: {}'.format(midi_file.type))\n",
        "\n",
        "\n",
        "    # parse messages for time_sig and tempo info ..\n",
        "    for msg in midi_file:\n",
        "\n",
        "      if msg.type == 'time_signature':\n",
        "        print('time sig: {}'.format(msg))\n",
        "\n",
        "        # make sure no time sig changes\n",
        "        if self.my_time_sig != None:\n",
        "          raise ValueError('ERROR! more than one time sig: {}, {}'.format(self.my_time_sig, msg))\n",
        "      \n",
        "        self.my_time_sig = msg\n",
        "\n",
        "      elif msg.type == 'set_tempo':\n",
        "\n",
        "        print('tempo: {}'.format(msg))\n",
        "\n",
        "        # make sure no tempo changes\n",
        "        if self.my_tempo != None:\n",
        "          raise ValueError('ERROR! more than one tempo: {}, {}'.format(self.my_tempo, msg))\n",
        "        \n",
        "        self.my_tempo = msg\n",
        "\n",
        "    # now check we actually have tempo and time_sig set, or complain...\n",
        "    if self.my_time_sig is None:\n",
        "      raise ValueError('ERROR! no time signature found: {}'.format(midi_file))\n",
        "    if self.my_tempo is None:\n",
        "      raise ValueError('ERROR! no tempo found: {}'.format(midi_file))\n",
        "\n",
        "    # load messages into DF\n",
        "\n",
        "    # additional processing, e.g. cum_sum for clicks, milliseconds from start, etc\n",
        "\n",
        "\n",
        "  def my_ticks(self):\n",
        "    ''' Returns number of MIDI ticks configured in this file'''\n",
        "    return self.my_file_midi.ticks_per_beat\n",
        "\n",
        "  def my_length(self):\n",
        "    ''' returns running time in seconds'''\n",
        "    return self.my_file_midi.length\n",
        "\n",
        "\n"
      ],
      "execution_count": 0,
      "outputs": []
    },
    {
      "cell_type": "markdown",
      "metadata": {
        "id": "kKbh1NOfQNQf",
        "colab_type": "text"
      },
      "source": [
        "## Testing the above class...\n"
      ]
    },
    {
      "cell_type": "code",
      "metadata": {
        "id": "G4CdPV2gQMth",
        "colab_type": "code",
        "colab": {
          "base_uri": "https://localhost:8080/",
          "height": 68
        },
        "outputId": "38199b96-681d-4b82-8091-322947f91b9b"
      },
      "source": [
        "\n",
        "file_1 = '/content/drive/My Drive/groove-v1.0.0-midionly/groove/drummer1/eval_session/1_funk-groove1_138_beat_4-4.mid'\n",
        "\n",
        "mfw = MIDI_File_Wrapper(file_1)\n"
      ],
      "execution_count": 118,
      "outputs": [
        {
          "output_type": "stream",
          "text": [
            "Loading file: /content/drive/My Drive/groove-v1.0.0-midionly/groove/drummer1/eval_session/1_funk-groove1_138_beat_4-4.mid\n",
            "time sig: <meta message time_signature numerator=4 denominator=4 clocks_per_click=24 notated_32nd_notes_per_beat=8 time=0>\n",
            "tempo: <meta message set_tempo tempo=434783 time=0>\n"
          ],
          "name": "stdout"
        }
      ]
    },
    {
      "cell_type": "markdown",
      "metadata": {
        "id": "lVz_YlgT6ASh",
        "colab_type": "text"
      },
      "source": [
        "## Test loading lots of files, creating lots of custom objects..\n",
        "\n"
      ]
    },
    {
      "cell_type": "code",
      "metadata": {
        "id": "iK8tGsJy337K",
        "colab_type": "code",
        "colab": {
          "base_uri": "https://localhost:8080/",
          "height": 85
        },
        "outputId": "ebd1e265-aa3f-4efd-ed55-ce040d932d2b"
      },
      "source": [
        "# testing parsing sub directory..\n",
        "\n",
        "# reminder: /content/drive/My Drive/groove-v1.0.0-midionly/groove/drummer1/eval_session/\n",
        "\n",
        "import os\n",
        "\n",
        "for dirpath, dirs, files in os.walk('/content/drive/My Drive/groove-v1.0.0-midionly/groove/drummer1/'):\n",
        "  for f in files:\n",
        "    print('in subdir: {}, first file: {}'.format(dirpath, f)) \n",
        "    break\n",
        "\n",
        " "
      ],
      "execution_count": 151,
      "outputs": [
        {
          "output_type": "stream",
          "text": [
            "in subdir: /content/drive/My Drive/groove-v1.0.0-midionly/groove/drummer1/session2, first file: 4_jazz_120_beat_3-4.mid\n",
            "in subdir: /content/drive/My Drive/groove-v1.0.0-midionly/groove/drummer1/session3, first file: 6_dance-disco_120_beat_4-4.mid\n",
            "in subdir: /content/drive/My Drive/groove-v1.0.0-midionly/groove/drummer1/eval_session, first file: 1_funk-groove1_138_beat_4-4.mid\n",
            "in subdir: /content/drive/My Drive/groove-v1.0.0-midionly/groove/drummer1/session1, first file: 123_funk_95_fill_4-4.mid\n"
          ],
          "name": "stdout"
        }
      ]
    },
    {
      "cell_type": "code",
      "metadata": {
        "id": "1KzIWC5o5Zg8",
        "colab_type": "code",
        "colab": {
          "base_uri": "https://localhost:8080/",
          "height": 204
        },
        "outputId": "95aa3a81-4896-4653-905a-c20d183b9c81"
      },
      "source": [
        "import glob\n",
        "\n",
        "root_dir = '/content/drive/My Drive/groove-v1.0.0-midionly/groove/drummer1/eval_session/'\n",
        "\n",
        "# recursively find all MIDI files..\n",
        "my_files = []\n",
        "for filename in glob.iglob(root_dir + '**/*.mid', recursive=True):\n",
        "  my_files.append(filename)\n",
        "\n",
        "# show what I found\n",
        "my_files\n",
        "print()\n",
        "print('total # {}'.format(len(my_files)))\n"
      ],
      "execution_count": 152,
      "outputs": [
        {
          "output_type": "execute_result",
          "data": {
            "text/plain": [
              "['/content/drive/My Drive/groove-v1.0.0-midionly/groove/drummer1/eval_session/1_funk-groove1_138_beat_4-4.mid',\n",
              " '/content/drive/My Drive/groove-v1.0.0-midionly/groove/drummer1/eval_session/2_funk-groove2_105_beat_4-4.mid',\n",
              " '/content/drive/My Drive/groove-v1.0.0-midionly/groove/drummer1/eval_session/10_soul-groove10_102_beat_4-4.mid',\n",
              " '/content/drive/My Drive/groove-v1.0.0-midionly/groove/drummer1/eval_session/4_soul-groove4_80_beat_4-4.mid',\n",
              " '/content/drive/My Drive/groove-v1.0.0-midionly/groove/drummer1/eval_session/6_hiphop-groove6_87_beat_4-4.mid',\n",
              " '/content/drive/My Drive/groove-v1.0.0-midionly/groove/drummer1/eval_session/8_rock-groove8_65_beat_4-4.mid',\n",
              " '/content/drive/My Drive/groove-v1.0.0-midionly/groove/drummer1/eval_session/3_soul-groove3_86_beat_4-4.mid',\n",
              " '/content/drive/My Drive/groove-v1.0.0-midionly/groove/drummer1/eval_session/9_soul-groove9_105_beat_4-4.mid',\n",
              " '/content/drive/My Drive/groove-v1.0.0-midionly/groove/drummer1/eval_session/5_funk-groove5_84_beat_4-4.mid',\n",
              " '/content/drive/My Drive/groove-v1.0.0-midionly/groove/drummer1/eval_session/7_pop-groove7_138_beat_4-4.mid']"
            ]
          },
          "metadata": {
            "tags": []
          },
          "execution_count": 152
        },
        {
          "output_type": "stream",
          "text": [
            "\n",
            "total # 10\n"
          ],
          "name": "stdout"
        }
      ]
    },
    {
      "cell_type": "markdown",
      "metadata": {
        "id": "SsGBVjL_92nL",
        "colab_type": "text"
      },
      "source": [
        "## Test creating lots of custom objects.."
      ]
    },
    {
      "cell_type": "markdown",
      "metadata": {
        "id": "WtN103Ae9XpP",
        "colab_type": "text"
      },
      "source": [
        "On creating a MIDI_File_Wrapper instance, a bunch of testing is performed, so the following is a good test to check a whole bunch of files at once to verify they meet pre-conditions..."
      ]
    },
    {
      "cell_type": "code",
      "metadata": {
        "id": "Na0o_8N795OL",
        "colab_type": "code",
        "colab": {}
      },
      "source": [
        ""
      ],
      "execution_count": 0,
      "outputs": []
    },
    {
      "cell_type": "code",
      "metadata": {
        "id": "VYkE4unu7AMG",
        "colab_type": "code",
        "colab": {
          "base_uri": "https://localhost:8080/",
          "height": 544
        },
        "outputId": "a80901f9-9de8-46b4-d8bd-dece39b3d8f0"
      },
      "source": [
        "\n",
        "my_midi_files = []\n",
        "\n",
        "for f in my_files:\n",
        "  my_midi_files.append(MIDI_File_Wrapper(f))\n",
        "\n",
        "print('number objects create: {}'.format(len(my_midi_files)))"
      ],
      "execution_count": 143,
      "outputs": [
        {
          "output_type": "stream",
          "text": [
            "Loading file: /content/drive/My Drive/groove-v1.0.0-midionly/groove/drummer1/eval_session/1_funk-groove1_138_beat_4-4.mid\n",
            "time sig: <meta message time_signature numerator=4 denominator=4 clocks_per_click=24 notated_32nd_notes_per_beat=8 time=0>\n",
            "tempo: <meta message set_tempo tempo=434783 time=0>\n",
            "Loading file: /content/drive/My Drive/groove-v1.0.0-midionly/groove/drummer1/eval_session/2_funk-groove2_105_beat_4-4.mid\n",
            "time sig: <meta message time_signature numerator=4 denominator=4 clocks_per_click=24 notated_32nd_notes_per_beat=8 time=0>\n",
            "tempo: <meta message set_tempo tempo=571429 time=0>\n",
            "Loading file: /content/drive/My Drive/groove-v1.0.0-midionly/groove/drummer1/eval_session/10_soul-groove10_102_beat_4-4.mid\n",
            "time sig: <meta message time_signature numerator=4 denominator=4 clocks_per_click=24 notated_32nd_notes_per_beat=8 time=0>\n",
            "tempo: <meta message set_tempo tempo=588235 time=0>\n",
            "Loading file: /content/drive/My Drive/groove-v1.0.0-midionly/groove/drummer1/eval_session/4_soul-groove4_80_beat_4-4.mid\n",
            "time sig: <meta message time_signature numerator=4 denominator=4 clocks_per_click=24 notated_32nd_notes_per_beat=8 time=0>\n",
            "tempo: <meta message set_tempo tempo=750000 time=0>\n",
            "Loading file: /content/drive/My Drive/groove-v1.0.0-midionly/groove/drummer1/eval_session/6_hiphop-groove6_87_beat_4-4.mid\n",
            "time sig: <meta message time_signature numerator=4 denominator=4 clocks_per_click=24 notated_32nd_notes_per_beat=8 time=0>\n",
            "tempo: <meta message set_tempo tempo=689655 time=0>\n",
            "Loading file: /content/drive/My Drive/groove-v1.0.0-midionly/groove/drummer1/eval_session/8_rock-groove8_65_beat_4-4.mid\n",
            "time sig: <meta message time_signature numerator=4 denominator=4 clocks_per_click=24 notated_32nd_notes_per_beat=8 time=0>\n",
            "tempo: <meta message set_tempo tempo=923077 time=0>\n",
            "Loading file: /content/drive/My Drive/groove-v1.0.0-midionly/groove/drummer1/eval_session/3_soul-groove3_86_beat_4-4.mid\n",
            "time sig: <meta message time_signature numerator=4 denominator=4 clocks_per_click=24 notated_32nd_notes_per_beat=8 time=0>\n",
            "tempo: <meta message set_tempo tempo=697674 time=0>\n",
            "Loading file: /content/drive/My Drive/groove-v1.0.0-midionly/groove/drummer1/eval_session/9_soul-groove9_105_beat_4-4.mid\n",
            "time sig: <meta message time_signature numerator=4 denominator=4 clocks_per_click=24 notated_32nd_notes_per_beat=8 time=0>\n",
            "tempo: <meta message set_tempo tempo=571429 time=0>\n",
            "Loading file: /content/drive/My Drive/groove-v1.0.0-midionly/groove/drummer1/eval_session/5_funk-groove5_84_beat_4-4.mid\n",
            "time sig: <meta message time_signature numerator=4 denominator=4 clocks_per_click=24 notated_32nd_notes_per_beat=8 time=0>\n",
            "tempo: <meta message set_tempo tempo=714286 time=0>\n",
            "Loading file: /content/drive/My Drive/groove-v1.0.0-midionly/groove/drummer1/eval_session/7_pop-groove7_138_beat_4-4.mid\n",
            "time sig: <meta message time_signature numerator=4 denominator=4 clocks_per_click=24 notated_32nd_notes_per_beat=8 time=0>\n",
            "tempo: <meta message set_tempo tempo=434783 time=0>\n",
            "number objects create: 10\n"
          ],
          "name": "stdout"
        }
      ]
    }
  ]
}