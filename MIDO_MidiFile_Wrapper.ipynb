{
  "nbformat": 4,
  "nbformat_minor": 0,
  "metadata": {
    "colab": {
      "name": "MIDO_MidiFile_Wrapper.ipynb",
      "provenance": [],
      "collapsed_sections": [],
      "toc_visible": true,
      "authorship_tag": "ABX9TyNUc/ZGk5KOVg063Hna7i8p",
      "include_colab_link": true
    },
    "kernelspec": {
      "name": "python3",
      "display_name": "Python 3"
    }
  },
  "cells": [
    {
      "cell_type": "markdown",
      "metadata": {
        "id": "view-in-github",
        "colab_type": "text"
      },
      "source": [
        "<a href=\"https://colab.research.google.com/github/curtiscu/LYIT/blob/master/MIDO_MidiFile_Wrapper.ipynb\" target=\"_parent\"><img src=\"https://colab.research.google.com/assets/colab-badge.svg\" alt=\"Open In Colab\"/></a>"
      ]
    },
    {
      "cell_type": "markdown",
      "metadata": {
        "id": "pbngqRVgFm4H",
        "colab_type": "text"
      },
      "source": [
        "# Bulk file loading using MIDO library\n",
        "\n",
        "Re-write of MIDO MIDI file work using python objects"
      ]
    },
    {
      "cell_type": "markdown",
      "metadata": {
        "id": "6BZ2zuQZIDtE",
        "colab_type": "text"
      },
      "source": [
        "# Setup notebook env"
      ]
    },
    {
      "cell_type": "code",
      "metadata": {
        "id": "nFo6ACFEHxxm",
        "colab_type": "code",
        "outputId": "9cfae745-f908-4e01-f4ea-4f4e3d36c13e",
        "colab": {
          "base_uri": "https://localhost:8080/",
          "height": 221
        }
      },
      "source": [
        "# mount google drive\n",
        "\n",
        "from google.colab import drive\n",
        "drive.mount('/content/drive', force_remount=True)\n",
        "\n",
        "# test ..\n",
        "! ls -al '/content/drive/My Drive/groove-v1.0.0-midionly/groove/drummer1/eval_session/'"
      ],
      "execution_count": 1,
      "outputs": [
        {
          "output_type": "stream",
          "text": [
            "Mounted at /content/drive\n",
            "total 35\n",
            "-rw------- 1 root root 2589 Apr 27 12:01 10_soul-groove10_102_beat_4-4.mid\n",
            "-rw------- 1 root root 4793 Apr 27 12:01 1_funk-groove1_138_beat_4-4.mid\n",
            "-rw------- 1 root root 3243 Apr 27 12:01 2_funk-groove2_105_beat_4-4.mid\n",
            "-rw------- 1 root root 4466 Apr 27 12:01 3_soul-groove3_86_beat_4-4.mid\n",
            "-rw------- 1 root root 2551 Apr 27 12:01 4_soul-groove4_80_beat_4-4.mid\n",
            "-rw------- 1 root root 3798 Apr 27 12:01 5_funk-groove5_84_beat_4-4.mid\n",
            "-rw------- 1 root root 3760 Apr 27 12:01 6_hiphop-groove6_87_beat_4-4.mid\n",
            "-rw------- 1 root root 1894 Apr 27 12:01 7_pop-groove7_138_beat_4-4.mid\n",
            "-rw------- 1 root root 2437 Apr 27 12:01 8_rock-groove8_65_beat_4-4.mid\n",
            "-rw------- 1 root root 3448 Apr 27 12:01 9_soul-groove9_105_beat_4-4.mid\n"
          ],
          "name": "stdout"
        }
      ]
    },
    {
      "cell_type": "code",
      "metadata": {
        "id": "gBzxZXkIHI0q",
        "colab_type": "code",
        "outputId": "be5e93b3-8afd-4bbb-a87c-ea4131be1996",
        "colab": {
          "base_uri": "https://localhost:8080/",
          "height": 34
        }
      },
      "source": [
        "# install required libs\n",
        "!pip install mido\n"
      ],
      "execution_count": 2,
      "outputs": [
        {
          "output_type": "stream",
          "text": [
            "Requirement already satisfied: mido in /usr/local/lib/python3.6/dist-packages (1.2.9)\n"
          ],
          "name": "stdout"
        }
      ]
    },
    {
      "cell_type": "code",
      "metadata": {
        "id": "ue_PXcc8FYCD",
        "colab_type": "code",
        "colab": {}
      },
      "source": [
        "\n",
        "# print all cell output\n",
        "from IPython.core.interactiveshell import InteractiveShell\n",
        "InteractiveShell.ast_node_interactivity = \"all\"\n",
        "\n",
        "# imports\n",
        "import pandas as pd\n",
        "import mido \n",
        "from mido import MidiFile\n",
        "\n"
      ],
      "execution_count": 0,
      "outputs": []
    },
    {
      "cell_type": "code",
      "metadata": {
        "id": "q86OPH-mIAub",
        "colab_type": "code",
        "colab": {}
      },
      "source": [
        ""
      ],
      "execution_count": 0,
      "outputs": []
    },
    {
      "cell_type": "markdown",
      "metadata": {
        "id": "_kAhoZpvIOVS",
        "colab_type": "text"
      },
      "source": [
        "# Python class to wrapper mido.MidiFile objects\n",
        "\n",
        "Need to clean up code, make it re-usable for parsing multiple MIDI file performance files."
      ]
    },
    {
      "cell_type": "markdown",
      "metadata": {
        "id": "akFbOhujJpI3",
        "colab_type": "text"
      },
      "source": [
        "\n",
        "\n",
        "- time signature gathered from MIDI message within file, meta 'time_signature'\n",
        "- typically 96 - 480 ticks per beat, from 'mido.MidiFile.ticks_per_beat' attribute\n",
        "- tempo in microseconds per beat, gathered from 'set_tempo' MIDI message in file, converted using mido.tempo2bpm/ bpm2tempo, e.g. 434783 is 138 bpm\n",
        "- conversion from ticks to seconds -> e.g. mido.tick2second(34, 480, 434783)\n",
        "microseconds per tick = microseconds per quarter note / ticks per quarter note\n",
        "\n",
        "\n"
      ]
    },
    {
      "cell_type": "markdown",
      "metadata": {
        "id": "NZrJshvgjsMp",
        "colab_type": "text"
      },
      "source": [
        "## Class code"
      ]
    },
    {
      "cell_type": "markdown",
      "metadata": {
        "id": "tfIepGq7GHWr",
        "colab_type": "text"
      },
      "source": [
        "NOTE: this next cell is the bulk of the work for this notebook, the rest of the cells are mostly testing for it."
      ]
    },
    {
      "cell_type": "code",
      "metadata": {
        "id": "uLzYTHf5FoRs",
        "colab_type": "code",
        "colab": {}
      },
      "source": [
        "class MIDI_File_Wrapper:\n",
        "  ''' utility wrapper for loading, parsding a mido.MidiFile object'''\n",
        "\n",
        "  # column headers for internal data frame\n",
        "  vel_col = 'velocity'\n",
        "  note_col = 'note'\n",
        "  type_col = 'msg_type'\n",
        "  time_col = 'delta_ticks'\n",
        "  cum_ticks_col = 'total_ticks'\n",
        "  raw_col = 'raw_data'\n",
        "  cum_ms_col = 'total_seconds'\n",
        "\n",
        "  __column_in_order = [type_col, time_col, cum_ticks_col, cum_ms_col, note_col, vel_col, raw_col]\n",
        "\n",
        "  def __init__(self, file_name):\n",
        "    self.my_file_name = file_name\n",
        "    self.my_file_midi = None    \n",
        "    self.my_tempo = None  # stored as mido.Message instance\n",
        "    self.my_time_sig = None # stored as mido.Message instance\n",
        "    self.df_midi_data = None\n",
        "\n",
        "\n",
        "    # load & configure file info...\n",
        "    self.parse_file()\n",
        "\n",
        "  # For call to str(). Prints readable form \n",
        "  def __str__(self): \n",
        "    return str('file: {}'.format(self.my_file_midi))\n",
        "    \n",
        "  \n",
        "  def parse_file(self):\n",
        "    ''' file must be: MIDI type 0 only;  one and only one tempo and time_sig meta messages in file. '''\n",
        "\n",
        "    print('__ FILE: {}'.format(self.my_file_name))\n",
        "\n",
        "    # load file\n",
        "    midi_file = MidiFile(self.my_file_name)\n",
        "    self.my_file_midi = midi_file \n",
        "\n",
        "    # make sure it's MIDI type 0 (single track) ...\n",
        "    if midi_file.type != 0:\n",
        "      raise ValueError('ERROR! Can only process type 0 files, this file is type: {}'.format(midi_file.type))\n",
        "\n",
        "    print('tracks: {}'.format(midi_file.tracks))\n",
        "\n",
        "    # another check for single track ...\n",
        "    if len(midi_file.tracks) != 1:\n",
        "      raise ValueError('ERROR! Need a single MIDI track, this file has: {}, {}'.format(midi_file.tracks, midi_file))\n",
        "\n",
        "    # parse messages for time_sig and tempo info ..\n",
        "    for msg in midi_file:\n",
        "\n",
        "      if msg.type == 'time_signature':\n",
        "        print('time sig: {}'.format(msg))\n",
        "\n",
        "        # make sure no time sig changes\n",
        "        if self.my_time_sig != None:\n",
        "          raise ValueError('ERROR! more than one time sig: {}, {}'.format(self.my_time_sig, msg))\n",
        "      \n",
        "        self.my_time_sig = msg\n",
        "\n",
        "      elif msg.type == 'set_tempo':\n",
        "\n",
        "        print('tempo: {}'.format(msg))\n",
        "\n",
        "        # make sure no tempo changes\n",
        "        if self.my_tempo != None:\n",
        "          raise ValueError('ERROR! more than one tempo: {}, {}'.format(self.my_tempo, msg))\n",
        "        \n",
        "        self.my_tempo = msg\n",
        "\n",
        "    # now check we actually have tempo and time_sig set, or complain...\n",
        "    if self.my_time_sig is None:\n",
        "      raise ValueError('ERROR! no time signature found: {}'.format(midi_file))\n",
        "    if self.my_tempo is None:\n",
        "      raise ValueError('ERROR! no tempo found: {}'.format(midi_file))\n",
        "\n",
        "    # load messages into DF\n",
        "    self.load_df()\n",
        "\n",
        "    # additional processing, e.g. cum_sum for clicks, milliseconds from start, etc\n",
        "\n",
        "  def tempo_us(self):\n",
        "    \"\"\"returns tempo in microseconds\"\"\"\n",
        "    return self.my_tempo.tempo\n",
        "\n",
        "  def tempo_bpm(self):\n",
        "    return mido.tempo2bpm(self.tempo_us())\n",
        "\n",
        "  def ticks(self):\n",
        "    ''' Returns number of MIDI ticks configured in this file'''\n",
        "    return self.my_file_midi.ticks_per_beat\n",
        "\n",
        "  def length(self):\n",
        "    ''' returns running time in seconds'''\n",
        "    return self.my_file_midi.length\n",
        "\n",
        "  def msg_counts(self):\n",
        "    ''' handy for debug '''\n",
        "    return self.df_midi_data['msg_type'].value_counts()\n",
        "\n",
        "  def ts_num(self):\n",
        "    return self.my_time_sig.numerator\n",
        "\n",
        "  def ts_denom(self):\n",
        "    return self.my_time_sig.denominator\n",
        "\n",
        "  def calculate_seconds(self, ticks_since_start):\n",
        "    \"\"\"takes elapsed ticks since start of files, returns \n",
        "        position in file in seconds\"\"\"\n",
        "    # ticks and tempo saved from file loading time..\n",
        "    return mido.tick2second(ticks_since_start, self.ticks(), self.tempo_us())\n",
        "\n",
        "\n",
        "  def __row_to_seconds(self, row):\n",
        "    return self.calculate_seconds(row[self.cum_ticks_col])\n",
        "\n",
        "\n",
        "  def load_df(self):\n",
        "    df_setup = []\n",
        "\n",
        "    for msg in self.my_file_midi.tracks[0]:\n",
        "      df_setup.append(\n",
        "          {\n",
        "              self.type_col: msg.dict()['type'],\n",
        "              self.time_col: msg.dict()['time'],\n",
        "              self.note_col: None if 'note' not in msg.dict() else msg.dict()['note'],\n",
        "              self.vel_col: None if 'velocity' not in msg.dict() else msg.dict()['velocity'],\n",
        "              self.raw_col:  str(msg.dict())\n",
        "          } \n",
        "      )\n",
        "      \n",
        "    df_tmp = pd.DataFrame(df_setup)\n",
        "\n",
        "    # tweak data types, change from 'object' columns to 'string'  ...\n",
        "    df_tmp[self.type_col] = df_tmp[self.type_col].astype('string')\n",
        "    df_tmp[self.raw_col] = df_tmp[self.raw_col].astype('string')\n",
        "    \n",
        "\n",
        "    # add cumulative tick count column, used to store a running total\n",
        "    # giving time a message appears in the performance/ MIDI file.\n",
        "    df_tmp[self.cum_ticks_col] = df_tmp[self.time_col].cumsum()\n",
        "\n",
        "    # add cumulative milliseconds from start of file\n",
        "    # NOTE: this timing needs to be recalculated if the tempo\n",
        "    #         is ever changed!!!\n",
        "    df_tmp[self.cum_ms_col] = df_tmp.apply(self.__row_to_seconds, axis=1)\n",
        "\n",
        "    # rearrange column order\n",
        "    df_tmp = df_tmp[MIDI_File_Wrapper.__column_in_order]\n",
        "  \n",
        "    # store final df\n",
        "    self.df_midi_data = df_tmp\n",
        "\n",
        "    \n"
      ],
      "execution_count": 0,
      "outputs": []
    },
    {
      "cell_type": "markdown",
      "metadata": {
        "id": "kKbh1NOfQNQf",
        "colab_type": "text"
      },
      "source": [
        "## Testing the above class...\n"
      ]
    },
    {
      "cell_type": "code",
      "metadata": {
        "id": "rSZgPqlZ1cZA",
        "colab_type": "code",
        "outputId": "94a2bd25-a8de-4adf-edd9-cb30c0793be8",
        "colab": {
          "base_uri": "https://localhost:8080/",
          "height": 85
        }
      },
      "source": [
        "# test loading single file..\n",
        "file_1 = '/content/drive/My Drive/groove-v1.0.0-midionly/groove/drummer1/eval_session/1_funk-groove1_138_beat_4-4.mid'\n",
        "mfw = MIDI_File_Wrapper(file_1)\n"
      ],
      "execution_count": 5,
      "outputs": [
        {
          "output_type": "stream",
          "text": [
            "__ FILE: /content/drive/My Drive/groove-v1.0.0-midionly/groove/drummer1/eval_session/1_funk-groove1_138_beat_4-4.mid\n",
            "tracks: [<midi track 'MIDI' 1300 messages>]\n",
            "time sig: <meta message time_signature numerator=4 denominator=4 clocks_per_click=24 notated_32nd_notes_per_beat=8 time=0>\n",
            "tempo: <meta message set_tempo tempo=434783 time=0>\n"
          ],
          "name": "stdout"
        }
      ]
    },
    {
      "cell_type": "code",
      "metadata": {
        "id": "G4CdPV2gQMth",
        "colab_type": "code",
        "outputId": "7cfff772-3409-43df-8983-ee7f81910202",
        "colab": {
          "base_uri": "https://localhost:8080/",
          "height": 1000
        }
      },
      "source": [
        "# take a look at what we got..\n",
        "mfw.df_midi_data.info()\n",
        "mfw.df_midi_data.tail(10)\n",
        "mfw.df_midi_data\n",
        "print('file length in seconds: {}'.format(mfw.length()))\n",
        "print('tempo in ms: {}'.format(mfw.tempo_us()))\n",
        "print('tempo in bpm: {}'.format(mfw.tempo_bpm()))\n"
      ],
      "execution_count": 6,
      "outputs": [
        {
          "output_type": "stream",
          "text": [
            "<class 'pandas.core.frame.DataFrame'>\n",
            "RangeIndex: 1300 entries, 0 to 1299\n",
            "Data columns (total 7 columns):\n",
            " #   Column         Non-Null Count  Dtype  \n",
            "---  ------         --------------  -----  \n",
            " 0   msg_type       1300 non-null   string \n",
            " 1   delta_ticks    1300 non-null   int64  \n",
            " 2   total_ticks    1300 non-null   int64  \n",
            " 3   total_seconds  1300 non-null   float64\n",
            " 4   note           820 non-null    float64\n",
            " 5   velocity       820 non-null    float64\n",
            " 6   raw_data       1300 non-null   string \n",
            "dtypes: float64(3), int64(2), string(2)\n",
            "memory usage: 71.2 KB\n"
          ],
          "name": "stdout"
        },
        {
          "output_type": "execute_result",
          "data": {
            "text/html": [
              "<div>\n",
              "<style scoped>\n",
              "    .dataframe tbody tr th:only-of-type {\n",
              "        vertical-align: middle;\n",
              "    }\n",
              "\n",
              "    .dataframe tbody tr th {\n",
              "        vertical-align: top;\n",
              "    }\n",
              "\n",
              "    .dataframe thead th {\n",
              "        text-align: right;\n",
              "    }\n",
              "</style>\n",
              "<table border=\"1\" class=\"dataframe\">\n",
              "  <thead>\n",
              "    <tr style=\"text-align: right;\">\n",
              "      <th></th>\n",
              "      <th>msg_type</th>\n",
              "      <th>delta_ticks</th>\n",
              "      <th>total_ticks</th>\n",
              "      <th>total_seconds</th>\n",
              "      <th>note</th>\n",
              "      <th>velocity</th>\n",
              "      <th>raw_data</th>\n",
              "    </tr>\n",
              "  </thead>\n",
              "  <tbody>\n",
              "    <tr>\n",
              "      <th>1290</th>\n",
              "      <td>note_on</td>\n",
              "      <td>106</td>\n",
              "      <td>30448</td>\n",
              "      <td>27.579735</td>\n",
              "      <td>38.0</td>\n",
              "      <td>116.0</td>\n",
              "      <td>{'type': 'note_on', 'time': 106, 'note': 38, '...</td>\n",
              "    </tr>\n",
              "    <tr>\n",
              "      <th>1291</th>\n",
              "      <td>note_on</td>\n",
              "      <td>4</td>\n",
              "      <td>30452</td>\n",
              "      <td>27.583358</td>\n",
              "      <td>51.0</td>\n",
              "      <td>74.0</td>\n",
              "      <td>{'type': 'note_on', 'time': 4, 'note': 51, 've...</td>\n",
              "    </tr>\n",
              "    <tr>\n",
              "      <th>1292</th>\n",
              "      <td>note_off</td>\n",
              "      <td>107</td>\n",
              "      <td>30559</td>\n",
              "      <td>27.680279</td>\n",
              "      <td>38.0</td>\n",
              "      <td>64.0</td>\n",
              "      <td>{'type': 'note_off', 'time': 107, 'note': 38, ...</td>\n",
              "    </tr>\n",
              "    <tr>\n",
              "      <th>1293</th>\n",
              "      <td>note_off</td>\n",
              "      <td>4</td>\n",
              "      <td>30563</td>\n",
              "      <td>27.683902</td>\n",
              "      <td>51.0</td>\n",
              "      <td>64.0</td>\n",
              "      <td>{'type': 'note_off', 'time': 4, 'note': 51, 'v...</td>\n",
              "    </tr>\n",
              "    <tr>\n",
              "      <th>1294</th>\n",
              "      <td>control_change</td>\n",
              "      <td>51</td>\n",
              "      <td>30614</td>\n",
              "      <td>27.730097</td>\n",
              "      <td>NaN</td>\n",
              "      <td>NaN</td>\n",
              "      <td>{'type': 'control_change', 'time': 51, 'contro...</td>\n",
              "    </tr>\n",
              "    <tr>\n",
              "      <th>1295</th>\n",
              "      <td>control_change</td>\n",
              "      <td>44</td>\n",
              "      <td>30658</td>\n",
              "      <td>27.769953</td>\n",
              "      <td>NaN</td>\n",
              "      <td>NaN</td>\n",
              "      <td>{'type': 'control_change', 'time': 44, 'contro...</td>\n",
              "    </tr>\n",
              "    <tr>\n",
              "      <th>1296</th>\n",
              "      <td>note_on</td>\n",
              "      <td>0</td>\n",
              "      <td>30658</td>\n",
              "      <td>27.769953</td>\n",
              "      <td>44.0</td>\n",
              "      <td>25.0</td>\n",
              "      <td>{'type': 'note_on', 'time': 0, 'note': 44, 've...</td>\n",
              "    </tr>\n",
              "    <tr>\n",
              "      <th>1297</th>\n",
              "      <td>control_change</td>\n",
              "      <td>36</td>\n",
              "      <td>30694</td>\n",
              "      <td>27.802561</td>\n",
              "      <td>NaN</td>\n",
              "      <td>NaN</td>\n",
              "      <td>{'type': 'control_change', 'time': 36, 'contro...</td>\n",
              "    </tr>\n",
              "    <tr>\n",
              "      <th>1298</th>\n",
              "      <td>note_off</td>\n",
              "      <td>77</td>\n",
              "      <td>30771</td>\n",
              "      <td>27.872308</td>\n",
              "      <td>44.0</td>\n",
              "      <td>64.0</td>\n",
              "      <td>{'type': 'note_off', 'time': 77, 'note': 44, '...</td>\n",
              "    </tr>\n",
              "    <tr>\n",
              "      <th>1299</th>\n",
              "      <td>end_of_track</td>\n",
              "      <td>0</td>\n",
              "      <td>30771</td>\n",
              "      <td>27.872308</td>\n",
              "      <td>NaN</td>\n",
              "      <td>NaN</td>\n",
              "      <td>{'type': 'end_of_track', 'time': 0}</td>\n",
              "    </tr>\n",
              "  </tbody>\n",
              "</table>\n",
              "</div>"
            ],
            "text/plain": [
              "            msg_type  ...                                           raw_data\n",
              "1290         note_on  ...  {'type': 'note_on', 'time': 106, 'note': 38, '...\n",
              "1291         note_on  ...  {'type': 'note_on', 'time': 4, 'note': 51, 've...\n",
              "1292        note_off  ...  {'type': 'note_off', 'time': 107, 'note': 38, ...\n",
              "1293        note_off  ...  {'type': 'note_off', 'time': 4, 'note': 51, 'v...\n",
              "1294  control_change  ...  {'type': 'control_change', 'time': 51, 'contro...\n",
              "1295  control_change  ...  {'type': 'control_change', 'time': 44, 'contro...\n",
              "1296         note_on  ...  {'type': 'note_on', 'time': 0, 'note': 44, 've...\n",
              "1297  control_change  ...  {'type': 'control_change', 'time': 36, 'contro...\n",
              "1298        note_off  ...  {'type': 'note_off', 'time': 77, 'note': 44, '...\n",
              "1299    end_of_track  ...                {'type': 'end_of_track', 'time': 0}\n",
              "\n",
              "[10 rows x 7 columns]"
            ]
          },
          "metadata": {
            "tags": []
          },
          "execution_count": 6
        },
        {
          "output_type": "execute_result",
          "data": {
            "text/html": [
              "<div>\n",
              "<style scoped>\n",
              "    .dataframe tbody tr th:only-of-type {\n",
              "        vertical-align: middle;\n",
              "    }\n",
              "\n",
              "    .dataframe tbody tr th {\n",
              "        vertical-align: top;\n",
              "    }\n",
              "\n",
              "    .dataframe thead th {\n",
              "        text-align: right;\n",
              "    }\n",
              "</style>\n",
              "<table border=\"1\" class=\"dataframe\">\n",
              "  <thead>\n",
              "    <tr style=\"text-align: right;\">\n",
              "      <th></th>\n",
              "      <th>msg_type</th>\n",
              "      <th>delta_ticks</th>\n",
              "      <th>total_ticks</th>\n",
              "      <th>total_seconds</th>\n",
              "      <th>note</th>\n",
              "      <th>velocity</th>\n",
              "      <th>raw_data</th>\n",
              "    </tr>\n",
              "  </thead>\n",
              "  <tbody>\n",
              "    <tr>\n",
              "      <th>0</th>\n",
              "      <td>track_name</td>\n",
              "      <td>0</td>\n",
              "      <td>0</td>\n",
              "      <td>0.000000</td>\n",
              "      <td>NaN</td>\n",
              "      <td>NaN</td>\n",
              "      <td>{'type': 'track_name', 'name': 'MIDI', 'time': 0}</td>\n",
              "    </tr>\n",
              "    <tr>\n",
              "      <th>1</th>\n",
              "      <td>instrument_name</td>\n",
              "      <td>0</td>\n",
              "      <td>0</td>\n",
              "      <td>0.000000</td>\n",
              "      <td>NaN</td>\n",
              "      <td>NaN</td>\n",
              "      <td>{'type': 'instrument_name', 'name': 'Brooklyn'...</td>\n",
              "    </tr>\n",
              "    <tr>\n",
              "      <th>2</th>\n",
              "      <td>time_signature</td>\n",
              "      <td>0</td>\n",
              "      <td>0</td>\n",
              "      <td>0.000000</td>\n",
              "      <td>NaN</td>\n",
              "      <td>NaN</td>\n",
              "      <td>{'type': 'time_signature', 'numerator': 4, 'de...</td>\n",
              "    </tr>\n",
              "    <tr>\n",
              "      <th>3</th>\n",
              "      <td>key_signature</td>\n",
              "      <td>0</td>\n",
              "      <td>0</td>\n",
              "      <td>0.000000</td>\n",
              "      <td>NaN</td>\n",
              "      <td>NaN</td>\n",
              "      <td>{'type': 'key_signature', 'key': 'C', 'time': 0}</td>\n",
              "    </tr>\n",
              "    <tr>\n",
              "      <th>4</th>\n",
              "      <td>smpte_offset</td>\n",
              "      <td>0</td>\n",
              "      <td>0</td>\n",
              "      <td>0.000000</td>\n",
              "      <td>NaN</td>\n",
              "      <td>NaN</td>\n",
              "      <td>{'type': 'smpte_offset', 'frame_rate': 24, 'ho...</td>\n",
              "    </tr>\n",
              "    <tr>\n",
              "      <th>...</th>\n",
              "      <td>...</td>\n",
              "      <td>...</td>\n",
              "      <td>...</td>\n",
              "      <td>...</td>\n",
              "      <td>...</td>\n",
              "      <td>...</td>\n",
              "      <td>...</td>\n",
              "    </tr>\n",
              "    <tr>\n",
              "      <th>1295</th>\n",
              "      <td>control_change</td>\n",
              "      <td>44</td>\n",
              "      <td>30658</td>\n",
              "      <td>27.769953</td>\n",
              "      <td>NaN</td>\n",
              "      <td>NaN</td>\n",
              "      <td>{'type': 'control_change', 'time': 44, 'contro...</td>\n",
              "    </tr>\n",
              "    <tr>\n",
              "      <th>1296</th>\n",
              "      <td>note_on</td>\n",
              "      <td>0</td>\n",
              "      <td>30658</td>\n",
              "      <td>27.769953</td>\n",
              "      <td>44.0</td>\n",
              "      <td>25.0</td>\n",
              "      <td>{'type': 'note_on', 'time': 0, 'note': 44, 've...</td>\n",
              "    </tr>\n",
              "    <tr>\n",
              "      <th>1297</th>\n",
              "      <td>control_change</td>\n",
              "      <td>36</td>\n",
              "      <td>30694</td>\n",
              "      <td>27.802561</td>\n",
              "      <td>NaN</td>\n",
              "      <td>NaN</td>\n",
              "      <td>{'type': 'control_change', 'time': 36, 'contro...</td>\n",
              "    </tr>\n",
              "    <tr>\n",
              "      <th>1298</th>\n",
              "      <td>note_off</td>\n",
              "      <td>77</td>\n",
              "      <td>30771</td>\n",
              "      <td>27.872308</td>\n",
              "      <td>44.0</td>\n",
              "      <td>64.0</td>\n",
              "      <td>{'type': 'note_off', 'time': 77, 'note': 44, '...</td>\n",
              "    </tr>\n",
              "    <tr>\n",
              "      <th>1299</th>\n",
              "      <td>end_of_track</td>\n",
              "      <td>0</td>\n",
              "      <td>30771</td>\n",
              "      <td>27.872308</td>\n",
              "      <td>NaN</td>\n",
              "      <td>NaN</td>\n",
              "      <td>{'type': 'end_of_track', 'time': 0}</td>\n",
              "    </tr>\n",
              "  </tbody>\n",
              "</table>\n",
              "<p>1300 rows × 7 columns</p>\n",
              "</div>"
            ],
            "text/plain": [
              "             msg_type  ...                                           raw_data\n",
              "0          track_name  ...  {'type': 'track_name', 'name': 'MIDI', 'time': 0}\n",
              "1     instrument_name  ...  {'type': 'instrument_name', 'name': 'Brooklyn'...\n",
              "2      time_signature  ...  {'type': 'time_signature', 'numerator': 4, 'de...\n",
              "3       key_signature  ...   {'type': 'key_signature', 'key': 'C', 'time': 0}\n",
              "4        smpte_offset  ...  {'type': 'smpte_offset', 'frame_rate': 24, 'ho...\n",
              "...               ...  ...                                                ...\n",
              "1295   control_change  ...  {'type': 'control_change', 'time': 44, 'contro...\n",
              "1296          note_on  ...  {'type': 'note_on', 'time': 0, 'note': 44, 've...\n",
              "1297   control_change  ...  {'type': 'control_change', 'time': 36, 'contro...\n",
              "1298         note_off  ...  {'type': 'note_off', 'time': 77, 'note': 44, '...\n",
              "1299     end_of_track  ...                {'type': 'end_of_track', 'time': 0}\n",
              "\n",
              "[1300 rows x 7 columns]"
            ]
          },
          "metadata": {
            "tags": []
          },
          "execution_count": 6
        },
        {
          "output_type": "stream",
          "text": [
            "file length in seconds: 27.872307693749978\n",
            "tempo in ms: 434783\n",
            "tempo in bpm: 137.99987580011177\n"
          ],
          "name": "stdout"
        }
      ]
    },
    {
      "cell_type": "markdown",
      "metadata": {
        "id": "lVz_YlgT6ASh",
        "colab_type": "text"
      },
      "source": [
        "## Test loading lots of files, creating lots of custom objects..\n",
        "\n"
      ]
    },
    {
      "cell_type": "code",
      "metadata": {
        "id": "iK8tGsJy337K",
        "colab_type": "code",
        "outputId": "2f6dbc9b-a924-4994-983e-d88fc1112cff",
        "colab": {
          "base_uri": "https://localhost:8080/",
          "height": 85
        }
      },
      "source": [
        "# testing parsing sub directory..\n",
        "\n",
        "# reminder: /content/drive/My Drive/groove-v1.0.0-midionly/groove/drummer1/eval_session/\n",
        "\n",
        "import os\n",
        "\n",
        "for dirpath, dirs, files in os.walk('/content/drive/My Drive/groove-v1.0.0-midionly/groove/drummer1/'):\n",
        "  for f in files:\n",
        "    print('in subdir: {}, first file: {}'.format(dirpath, f)) \n",
        "    break\n",
        "\n",
        " "
      ],
      "execution_count": 7,
      "outputs": [
        {
          "output_type": "stream",
          "text": [
            "in subdir: /content/drive/My Drive/groove-v1.0.0-midionly/groove/drummer1/session2, first file: 4_jazz_120_beat_3-4.mid\n",
            "in subdir: /content/drive/My Drive/groove-v1.0.0-midionly/groove/drummer1/session3, first file: 6_dance-disco_120_beat_4-4.mid\n",
            "in subdir: /content/drive/My Drive/groove-v1.0.0-midionly/groove/drummer1/eval_session, first file: 1_funk-groove1_138_beat_4-4.mid\n",
            "in subdir: /content/drive/My Drive/groove-v1.0.0-midionly/groove/drummer1/session1, first file: 123_funk_95_fill_4-4.mid\n"
          ],
          "name": "stdout"
        }
      ]
    },
    {
      "cell_type": "code",
      "metadata": {
        "id": "1KzIWC5o5Zg8",
        "colab_type": "code",
        "outputId": "1ff823e5-0b20-4950-dda1-e9ef6c3e7d61",
        "colab": {
          "base_uri": "https://localhost:8080/",
          "height": 204
        }
      },
      "source": [
        "import glob\n",
        "\n",
        "root_dir = '/content/drive/My Drive/groove-v1.0.0-midionly/groove/drummer1/eval_session/'\n",
        "#root_dir = '/content/drive/My Drive/groove-v1.0.0-midionly/groove/drummer1/session1/'\n",
        "\n",
        "# recursively find all MIDI files..\n",
        "my_files = []\n",
        "for filename in glob.iglob(root_dir + '**/*.mid', recursive=True):\n",
        "  my_files.append(filename)\n",
        "\n",
        "# show what I found\n",
        "my_files\n",
        "print()\n",
        "print('total # files: {}'.format(len(my_files)))\n"
      ],
      "execution_count": 8,
      "outputs": [
        {
          "output_type": "execute_result",
          "data": {
            "text/plain": [
              "['/content/drive/My Drive/groove-v1.0.0-midionly/groove/drummer1/eval_session/1_funk-groove1_138_beat_4-4.mid',\n",
              " '/content/drive/My Drive/groove-v1.0.0-midionly/groove/drummer1/eval_session/2_funk-groove2_105_beat_4-4.mid',\n",
              " '/content/drive/My Drive/groove-v1.0.0-midionly/groove/drummer1/eval_session/10_soul-groove10_102_beat_4-4.mid',\n",
              " '/content/drive/My Drive/groove-v1.0.0-midionly/groove/drummer1/eval_session/4_soul-groove4_80_beat_4-4.mid',\n",
              " '/content/drive/My Drive/groove-v1.0.0-midionly/groove/drummer1/eval_session/6_hiphop-groove6_87_beat_4-4.mid',\n",
              " '/content/drive/My Drive/groove-v1.0.0-midionly/groove/drummer1/eval_session/8_rock-groove8_65_beat_4-4.mid',\n",
              " '/content/drive/My Drive/groove-v1.0.0-midionly/groove/drummer1/eval_session/3_soul-groove3_86_beat_4-4.mid',\n",
              " '/content/drive/My Drive/groove-v1.0.0-midionly/groove/drummer1/eval_session/9_soul-groove9_105_beat_4-4.mid',\n",
              " '/content/drive/My Drive/groove-v1.0.0-midionly/groove/drummer1/eval_session/5_funk-groove5_84_beat_4-4.mid',\n",
              " '/content/drive/My Drive/groove-v1.0.0-midionly/groove/drummer1/eval_session/7_pop-groove7_138_beat_4-4.mid']"
            ]
          },
          "metadata": {
            "tags": []
          },
          "execution_count": 8
        },
        {
          "output_type": "stream",
          "text": [
            "\n",
            "total # files: 10\n"
          ],
          "name": "stdout"
        }
      ]
    },
    {
      "cell_type": "markdown",
      "metadata": {
        "id": "SsGBVjL_92nL",
        "colab_type": "text"
      },
      "source": [
        "## Test creating lots of custom objects.."
      ]
    },
    {
      "cell_type": "markdown",
      "metadata": {
        "id": "WtN103Ae9XpP",
        "colab_type": "text"
      },
      "source": [
        "On creating a MIDI_File_Wrapper instance, a bunch of testing is performed, so the following is a good test to check a whole bunch of files at once to confirm bulk loading works, and to verify the files themselves meet criteria checked during loading.."
      ]
    },
    {
      "cell_type": "code",
      "metadata": {
        "id": "VYkE4unu7AMG",
        "colab_type": "code",
        "outputId": "263a001d-2d1a-4dd1-d5bb-67858a9dd0ce",
        "colab": {
          "base_uri": "https://localhost:8080/",
          "height": 731
        }
      },
      "source": [
        "\n",
        "my_midi_files = []\n",
        "\n",
        "for f in my_files:\n",
        "  next_midi = MIDI_File_Wrapper(f)\n",
        "  #print(next_midi.df_midi_data.info())\n",
        "  my_midi_files.append(next_midi)\n",
        "  \n",
        "print('')\n",
        "print('TOTAL NUM OBJECTS CREATED: {}'.format(len(my_midi_files)))"
      ],
      "execution_count": 9,
      "outputs": [
        {
          "output_type": "stream",
          "text": [
            "__ FILE: /content/drive/My Drive/groove-v1.0.0-midionly/groove/drummer1/eval_session/1_funk-groove1_138_beat_4-4.mid\n",
            "tracks: [<midi track 'MIDI' 1300 messages>]\n",
            "time sig: <meta message time_signature numerator=4 denominator=4 clocks_per_click=24 notated_32nd_notes_per_beat=8 time=0>\n",
            "tempo: <meta message set_tempo tempo=434783 time=0>\n",
            "__ FILE: /content/drive/My Drive/groove-v1.0.0-midionly/groove/drummer1/eval_session/2_funk-groove2_105_beat_4-4.mid\n",
            "tracks: [<midi track 'MIDI' 829 messages>]\n",
            "time sig: <meta message time_signature numerator=4 denominator=4 clocks_per_click=24 notated_32nd_notes_per_beat=8 time=0>\n",
            "tempo: <meta message set_tempo tempo=571429 time=0>\n",
            "__ FILE: /content/drive/My Drive/groove-v1.0.0-midionly/groove/drummer1/eval_session/10_soul-groove10_102_beat_4-4.mid\n",
            "tracks: [<midi track 'MIDI' 639 messages>]\n",
            "time sig: <meta message time_signature numerator=4 denominator=4 clocks_per_click=24 notated_32nd_notes_per_beat=8 time=0>\n",
            "tempo: <meta message set_tempo tempo=588235 time=0>\n",
            "__ FILE: /content/drive/My Drive/groove-v1.0.0-midionly/groove/drummer1/eval_session/4_soul-groove4_80_beat_4-4.mid\n",
            "tracks: [<midi track 'MIDI' 626 messages>]\n",
            "time sig: <meta message time_signature numerator=4 denominator=4 clocks_per_click=24 notated_32nd_notes_per_beat=8 time=0>\n",
            "tempo: <meta message set_tempo tempo=750000 time=0>\n",
            "__ FILE: /content/drive/My Drive/groove-v1.0.0-midionly/groove/drummer1/eval_session/6_hiphop-groove6_87_beat_4-4.mid\n",
            "tracks: [<midi track 'MIDI' 971 messages>]\n",
            "time sig: <meta message time_signature numerator=4 denominator=4 clocks_per_click=24 notated_32nd_notes_per_beat=8 time=0>\n",
            "tempo: <meta message set_tempo tempo=689655 time=0>\n",
            "__ FILE: /content/drive/My Drive/groove-v1.0.0-midionly/groove/drummer1/eval_session/8_rock-groove8_65_beat_4-4.mid\n",
            "tracks: [<midi track 'MIDI' 600 messages>]\n",
            "time sig: <meta message time_signature numerator=4 denominator=4 clocks_per_click=24 notated_32nd_notes_per_beat=8 time=0>\n",
            "tempo: <meta message set_tempo tempo=923077 time=0>\n",
            "__ FILE: /content/drive/My Drive/groove-v1.0.0-midionly/groove/drummer1/eval_session/3_soul-groove3_86_beat_4-4.mid\n",
            "tracks: [<midi track 'MIDI' 1179 messages>]\n",
            "time sig: <meta message time_signature numerator=4 denominator=4 clocks_per_click=24 notated_32nd_notes_per_beat=8 time=0>\n",
            "tempo: <meta message set_tempo tempo=697674 time=0>\n",
            "__ FILE: /content/drive/My Drive/groove-v1.0.0-midionly/groove/drummer1/eval_session/9_soul-groove9_105_beat_4-4.mid\n",
            "tracks: [<midi track 'MIDI' 937 messages>]\n",
            "time sig: <meta message time_signature numerator=4 denominator=4 clocks_per_click=24 notated_32nd_notes_per_beat=8 time=0>\n",
            "tempo: <meta message set_tempo tempo=571429 time=0>\n",
            "__ FILE: /content/drive/My Drive/groove-v1.0.0-midionly/groove/drummer1/eval_session/5_funk-groove5_84_beat_4-4.mid\n",
            "tracks: [<midi track 'MIDI' 984 messages>]\n",
            "time sig: <meta message time_signature numerator=4 denominator=4 clocks_per_click=24 notated_32nd_notes_per_beat=8 time=0>\n",
            "tempo: <meta message set_tempo tempo=714286 time=0>\n",
            "__ FILE: /content/drive/My Drive/groove-v1.0.0-midionly/groove/drummer1/eval_session/7_pop-groove7_138_beat_4-4.mid\n",
            "tracks: [<midi track 'MIDI' 491 messages>]\n",
            "time sig: <meta message time_signature numerator=4 denominator=4 clocks_per_click=24 notated_32nd_notes_per_beat=8 time=0>\n",
            "tempo: <meta message set_tempo tempo=434783 time=0>\n",
            "\n",
            "TOTAL NUM OBJECTS CREATED: 10\n"
          ],
          "name": "stdout"
        }
      ]
    },
    {
      "cell_type": "markdown",
      "metadata": {
        "id": "NpCARkB80W93",
        "colab_type": "text"
      },
      "source": [
        "# Some MIDI tools"
      ]
    },
    {
      "cell_type": "markdown",
      "metadata": {
        "id": "OpyblKIbjSxi",
        "colab_type": "text"
      },
      "source": [
        "## MIDI note mapping to percussion instruments"
      ]
    },
    {
      "cell_type": "code",
      "metadata": {
        "id": "VuZfMNLgjkfx",
        "colab_type": "code",
        "colab": {
          "base_uri": "https://localhost:8080/",
          "height": 1000
        },
        "outputId": "19533b6e-8cf7-4c88-9289-c8075e7c6c8b"
      },
      "source": [
        "\n",
        "class MidiTools:\n",
        "  '''\n",
        "  Convert to/ from MIDI notes to percussion instruments\n",
        "\n",
        "  As per http://www.midi.org/techspecs/gm1sound.php\n",
        "   \n",
        "  '''\n",
        "\n",
        "  note2Instrument = { 35: \"Acoustic Bass Drum\",\n",
        "                36: \"Bass Drum 1\",\n",
        "                37: \"Side Stick\", \n",
        "                38: \"Acoustic Snare\",\n",
        "                39: \"Hand Clap\",\n",
        "                40: \"Electric Snare\",\n",
        "                41: \"Low Floor Tom\",\n",
        "                42: \"Closed Hi Hat\",\n",
        "                43: \"High Floor Tom\",\n",
        "                44: \"Pedal Hi-Hat\",\n",
        "                45: \"Low Tom\",\n",
        "                46: \"Open Hi-Hat\",\n",
        "                47: \"Low-Mid Tom\",\n",
        "                48: \"Hi-Mid Tom\",\n",
        "                49: \"Crash Cymbal 1\",\n",
        "                50: \"High Tom\",\n",
        "                51: \"Ride Cymbal 1\",\n",
        "                52: \"Chinese Cymbal\",\n",
        "                53: \"Ride Bell\",\n",
        "                54: \"Tambourine\",\n",
        "                55: \"Splash Cymbal\",\n",
        "                56: \"Cowbell\",\n",
        "                57: \"Crash Cymbal 2\",\n",
        "                58: \"Vibraslap\",\n",
        "                59: \"Ride Cymbal 2\",\n",
        "                60: \"Hi Bongo\",\n",
        "                61: \"Low Bongo\",\n",
        "                62: \"Mute Hi Conga\",\n",
        "                63: \"Open Hi Conga\",\n",
        "                64: \"Low Conga\",\n",
        "                65: \"High Timbale\",\n",
        "                66: \"Low Timbale\",\n",
        "                67: \"High Agogo\",\n",
        "                68: \"Low Agogo\",\n",
        "                69: \"Cabasa\",\n",
        "                70: \"Maracas\",\n",
        "                71: \"Short Whistle\",\n",
        "                72: \"Long Whistle\",\n",
        "                73: \"Short Guiro\",\n",
        "                74: \"Long Guiro\",\n",
        "                75: \"Claves\",\n",
        "                76: \"Hi Wood Block\",\n",
        "                77: \"Low Wood Block\",\n",
        "                78: \"Mute Cuica\",\n",
        "                79: \"Open Cuica\",\n",
        "                80: \"Mute Triangle\",\n",
        "                81: \"Open Triangle\" }\n",
        "  \n",
        "  def getInstrument(midi_note):\n",
        "    '''\n",
        "    Takes MIDI note number, returns None if not found, otherwise \n",
        "    returns a string name of the percussion instrument\n",
        "    '''\n",
        "    answer = None\n",
        "    if midi_note in MidiTools.note2Instrument:\n",
        "      answer = MidiTools.note2Instrument[midi_note]\n",
        "\n",
        "    return answer\n",
        "\n",
        "  def getInstruments():\n",
        "    pass\n",
        "\n",
        "#    return None if midi_note not in PercussionMapper.noteToPerc else PercussionMapper.noteToPerc[midi_note]\n",
        "\n",
        "# take a look at what's we've done so far..\n",
        "dir(MidiTools)\n",
        "print('')\n",
        "display(MidiTools.note2Instrument)\n"
      ],
      "execution_count": 10,
      "outputs": [
        {
          "output_type": "execute_result",
          "data": {
            "text/plain": [
              "['__class__',\n",
              " '__delattr__',\n",
              " '__dict__',\n",
              " '__dir__',\n",
              " '__doc__',\n",
              " '__eq__',\n",
              " '__format__',\n",
              " '__ge__',\n",
              " '__getattribute__',\n",
              " '__gt__',\n",
              " '__hash__',\n",
              " '__init__',\n",
              " '__init_subclass__',\n",
              " '__le__',\n",
              " '__lt__',\n",
              " '__module__',\n",
              " '__ne__',\n",
              " '__new__',\n",
              " '__reduce__',\n",
              " '__reduce_ex__',\n",
              " '__repr__',\n",
              " '__setattr__',\n",
              " '__sizeof__',\n",
              " '__str__',\n",
              " '__subclasshook__',\n",
              " '__weakref__',\n",
              " 'getInstrument',\n",
              " 'getInstruments',\n",
              " 'note2Instrument']"
            ]
          },
          "metadata": {
            "tags": []
          },
          "execution_count": 10
        },
        {
          "output_type": "stream",
          "text": [
            "\n"
          ],
          "name": "stdout"
        },
        {
          "output_type": "display_data",
          "data": {
            "text/plain": [
              "{35: 'Acoustic Bass Drum',\n",
              " 36: 'Bass Drum 1',\n",
              " 37: 'Side Stick',\n",
              " 38: 'Acoustic Snare',\n",
              " 39: 'Hand Clap',\n",
              " 40: 'Electric Snare',\n",
              " 41: 'Low Floor Tom',\n",
              " 42: 'Closed Hi Hat',\n",
              " 43: 'High Floor Tom',\n",
              " 44: 'Pedal Hi-Hat',\n",
              " 45: 'Low Tom',\n",
              " 46: 'Open Hi-Hat',\n",
              " 47: 'Low-Mid Tom',\n",
              " 48: 'Hi-Mid Tom',\n",
              " 49: 'Crash Cymbal 1',\n",
              " 50: 'High Tom',\n",
              " 51: 'Ride Cymbal 1',\n",
              " 52: 'Chinese Cymbal',\n",
              " 53: 'Ride Bell',\n",
              " 54: 'Tambourine',\n",
              " 55: 'Splash Cymbal',\n",
              " 56: 'Cowbell',\n",
              " 57: 'Crash Cymbal 2',\n",
              " 58: 'Vibraslap',\n",
              " 59: 'Ride Cymbal 2',\n",
              " 60: 'Hi Bongo',\n",
              " 61: 'Low Bongo',\n",
              " 62: 'Mute Hi Conga',\n",
              " 63: 'Open Hi Conga',\n",
              " 64: 'Low Conga',\n",
              " 65: 'High Timbale',\n",
              " 66: 'Low Timbale',\n",
              " 67: 'High Agogo',\n",
              " 68: 'Low Agogo',\n",
              " 69: 'Cabasa',\n",
              " 70: 'Maracas',\n",
              " 71: 'Short Whistle',\n",
              " 72: 'Long Whistle',\n",
              " 73: 'Short Guiro',\n",
              " 74: 'Long Guiro',\n",
              " 75: 'Claves',\n",
              " 76: 'Hi Wood Block',\n",
              " 77: 'Low Wood Block',\n",
              " 78: 'Mute Cuica',\n",
              " 79: 'Open Cuica',\n",
              " 80: 'Mute Triangle',\n",
              " 81: 'Open Triangle'}"
            ]
          },
          "metadata": {
            "tags": []
          }
        }
      ]
    },
    {
      "cell_type": "code",
      "metadata": {
        "id": "m6J4FMcLzs5K",
        "colab_type": "code",
        "colab": {
          "base_uri": "https://localhost:8080/",
          "height": 34
        },
        "outputId": "26770d60-b9e4-4964-d52d-8ca2ea4320bb"
      },
      "source": [
        "# testing method\n",
        "note = 52.0\n",
        "print('Testing, check perc table for {}: {}'. format(note, MidiTools.getInstrument(note)))"
      ],
      "execution_count": 11,
      "outputs": [
        {
          "output_type": "stream",
          "text": [
            "Testing, check perc table for 52.0: Chinese Cymbal\n"
          ],
          "name": "stdout"
        }
      ]
    },
    {
      "cell_type": "markdown",
      "metadata": {
        "id": "vRy_7KrA98eK",
        "colab_type": "text"
      },
      "source": [
        "## Testing mapper with real data\n"
      ]
    },
    {
      "cell_type": "code",
      "metadata": {
        "id": "JDZ_kvEM-Hzf",
        "colab_type": "code",
        "colab": {
          "base_uri": "https://localhost:8080/",
          "height": 34
        },
        "outputId": "64a4dc1a-f49d-40b2-fb94-378ebf33157b"
      },
      "source": [
        "# mfw.df_midi_data[mfw.type_col] == 'note_on'\n",
        "mfw.my_file_name\n",
        "#df_ons = mfw.df_midi_data\n",
        "df_ons = mfw.df_midi_data[mfw.df_midi_data['msg_type'] == 'note_on']"
      ],
      "execution_count": 12,
      "outputs": [
        {
          "output_type": "execute_result",
          "data": {
            "text/plain": [
              "'/content/drive/My Drive/groove-v1.0.0-midionly/groove/drummer1/eval_session/1_funk-groove1_138_beat_4-4.mid'"
            ]
          },
          "metadata": {
            "tags": []
          },
          "execution_count": 12
        }
      ]
    },
    {
      "cell_type": "code",
      "metadata": {
        "id": "tmKxh8GSJJ7r",
        "colab_type": "code",
        "colab": {
          "base_uri": "https://localhost:8080/",
          "height": 34
        },
        "outputId": "b3230445-9d7b-4c55-bfc1-e257d570993a"
      },
      "source": [
        "# sanity check, company same value in float and int to test behavior\n",
        "wun = 5\n",
        "too = 5.00000000000000\n",
        "wun == too"
      ],
      "execution_count": 13,
      "outputs": [
        {
          "output_type": "execute_result",
          "data": {
            "text/plain": [
              "True"
            ]
          },
          "metadata": {
            "tags": []
          },
          "execution_count": 13
        }
      ]
    },
    {
      "cell_type": "code",
      "metadata": {
        "id": "UYKrOssc_lZq",
        "colab_type": "code",
        "colab": {
          "base_uri": "https://localhost:8080/",
          "height": 419
        },
        "outputId": "d597ad1a-7c7e-4f0f-ebf9-28bdcf525635"
      },
      "source": [
        "df_ons"
      ],
      "execution_count": 14,
      "outputs": [
        {
          "output_type": "execute_result",
          "data": {
            "text/html": [
              "<div>\n",
              "<style scoped>\n",
              "    .dataframe tbody tr th:only-of-type {\n",
              "        vertical-align: middle;\n",
              "    }\n",
              "\n",
              "    .dataframe tbody tr th {\n",
              "        vertical-align: top;\n",
              "    }\n",
              "\n",
              "    .dataframe thead th {\n",
              "        text-align: right;\n",
              "    }\n",
              "</style>\n",
              "<table border=\"1\" class=\"dataframe\">\n",
              "  <thead>\n",
              "    <tr style=\"text-align: right;\">\n",
              "      <th></th>\n",
              "      <th>msg_type</th>\n",
              "      <th>delta_ticks</th>\n",
              "      <th>total_ticks</th>\n",
              "      <th>total_seconds</th>\n",
              "      <th>note</th>\n",
              "      <th>velocity</th>\n",
              "      <th>raw_data</th>\n",
              "    </tr>\n",
              "  </thead>\n",
              "  <tbody>\n",
              "    <tr>\n",
              "      <th>6</th>\n",
              "      <td>note_on</td>\n",
              "      <td>3</td>\n",
              "      <td>3</td>\n",
              "      <td>0.002717</td>\n",
              "      <td>55.0</td>\n",
              "      <td>60.0</td>\n",
              "      <td>{'type': 'note_on', 'time': 3, 'note': 55, 've...</td>\n",
              "    </tr>\n",
              "    <tr>\n",
              "      <th>7</th>\n",
              "      <td>note_on</td>\n",
              "      <td>4</td>\n",
              "      <td>7</td>\n",
              "      <td>0.006341</td>\n",
              "      <td>51.0</td>\n",
              "      <td>55.0</td>\n",
              "      <td>{'type': 'note_on', 'time': 4, 'note': 51, 've...</td>\n",
              "    </tr>\n",
              "    <tr>\n",
              "      <th>8</th>\n",
              "      <td>note_on</td>\n",
              "      <td>3</td>\n",
              "      <td>10</td>\n",
              "      <td>0.009058</td>\n",
              "      <td>36.0</td>\n",
              "      <td>64.0</td>\n",
              "      <td>{'type': 'note_on', 'time': 3, 'note': 36, 've...</td>\n",
              "    </tr>\n",
              "    <tr>\n",
              "      <th>14</th>\n",
              "      <td>note_on</td>\n",
              "      <td>22</td>\n",
              "      <td>211</td>\n",
              "      <td>0.191123</td>\n",
              "      <td>36.0</td>\n",
              "      <td>57.0</td>\n",
              "      <td>{'type': 'note_on', 'time': 22, 'note': 36, 'v...</td>\n",
              "    </tr>\n",
              "    <tr>\n",
              "      <th>16</th>\n",
              "      <td>note_on</td>\n",
              "      <td>17</td>\n",
              "      <td>238</td>\n",
              "      <td>0.215580</td>\n",
              "      <td>51.0</td>\n",
              "      <td>31.0</td>\n",
              "      <td>{'type': 'note_on', 'time': 17, 'note': 51, 'v...</td>\n",
              "    </tr>\n",
              "    <tr>\n",
              "      <th>...</th>\n",
              "      <td>...</td>\n",
              "      <td>...</td>\n",
              "      <td>...</td>\n",
              "      <td>...</td>\n",
              "      <td>...</td>\n",
              "      <td>...</td>\n",
              "      <td>...</td>\n",
              "    </tr>\n",
              "    <tr>\n",
              "      <th>1285</th>\n",
              "      <td>note_on</td>\n",
              "      <td>0</td>\n",
              "      <td>30190</td>\n",
              "      <td>27.346039</td>\n",
              "      <td>44.0</td>\n",
              "      <td>77.0</td>\n",
              "      <td>{'type': 'note_on', 'time': 0, 'note': 44, 've...</td>\n",
              "    </tr>\n",
              "    <tr>\n",
              "      <th>1287</th>\n",
              "      <td>note_on</td>\n",
              "      <td>5</td>\n",
              "      <td>30231</td>\n",
              "      <td>27.383177</td>\n",
              "      <td>51.0</td>\n",
              "      <td>33.0</td>\n",
              "      <td>{'type': 'note_on', 'time': 5, 'note': 51, 've...</td>\n",
              "    </tr>\n",
              "    <tr>\n",
              "      <th>1290</th>\n",
              "      <td>note_on</td>\n",
              "      <td>106</td>\n",
              "      <td>30448</td>\n",
              "      <td>27.579735</td>\n",
              "      <td>38.0</td>\n",
              "      <td>116.0</td>\n",
              "      <td>{'type': 'note_on', 'time': 106, 'note': 38, '...</td>\n",
              "    </tr>\n",
              "    <tr>\n",
              "      <th>1291</th>\n",
              "      <td>note_on</td>\n",
              "      <td>4</td>\n",
              "      <td>30452</td>\n",
              "      <td>27.583358</td>\n",
              "      <td>51.0</td>\n",
              "      <td>74.0</td>\n",
              "      <td>{'type': 'note_on', 'time': 4, 'note': 51, 've...</td>\n",
              "    </tr>\n",
              "    <tr>\n",
              "      <th>1296</th>\n",
              "      <td>note_on</td>\n",
              "      <td>0</td>\n",
              "      <td>30658</td>\n",
              "      <td>27.769953</td>\n",
              "      <td>44.0</td>\n",
              "      <td>25.0</td>\n",
              "      <td>{'type': 'note_on', 'time': 0, 'note': 44, 've...</td>\n",
              "    </tr>\n",
              "  </tbody>\n",
              "</table>\n",
              "<p>412 rows × 7 columns</p>\n",
              "</div>"
            ],
            "text/plain": [
              "     msg_type  ...                                           raw_data\n",
              "6     note_on  ...  {'type': 'note_on', 'time': 3, 'note': 55, 've...\n",
              "7     note_on  ...  {'type': 'note_on', 'time': 4, 'note': 51, 've...\n",
              "8     note_on  ...  {'type': 'note_on', 'time': 3, 'note': 36, 've...\n",
              "14    note_on  ...  {'type': 'note_on', 'time': 22, 'note': 36, 'v...\n",
              "16    note_on  ...  {'type': 'note_on', 'time': 17, 'note': 51, 'v...\n",
              "...       ...  ...                                                ...\n",
              "1285  note_on  ...  {'type': 'note_on', 'time': 0, 'note': 44, 've...\n",
              "1287  note_on  ...  {'type': 'note_on', 'time': 5, 'note': 51, 've...\n",
              "1290  note_on  ...  {'type': 'note_on', 'time': 106, 'note': 38, '...\n",
              "1291  note_on  ...  {'type': 'note_on', 'time': 4, 'note': 51, 've...\n",
              "1296  note_on  ...  {'type': 'note_on', 'time': 0, 'note': 44, 've...\n",
              "\n",
              "[412 rows x 7 columns]"
            ]
          },
          "metadata": {
            "tags": []
          },
          "execution_count": 14
        }
      ]
    }
  ]
}