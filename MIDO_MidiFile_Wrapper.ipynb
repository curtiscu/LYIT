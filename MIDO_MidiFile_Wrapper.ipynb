{
  "nbformat": 4,
  "nbformat_minor": 0,
  "metadata": {
    "colab": {
      "name": "MIDO_MidiFile_Wrapper.ipynb",
      "provenance": [],
      "collapsed_sections": [],
      "authorship_tag": "ABX9TyMXRg83ZijpMdsb4yEM/H5M",
      "include_colab_link": true
    },
    "kernelspec": {
      "name": "python3",
      "display_name": "Python 3"
    }
  },
  "cells": [
    {
      "cell_type": "markdown",
      "metadata": {
        "id": "view-in-github",
        "colab_type": "text"
      },
      "source": [
        "<a href=\"https://colab.research.google.com/github/curtiscu/LYIT/blob/master/MIDO_MidiFile_Wrapper.ipynb\" target=\"_parent\"><img src=\"https://colab.research.google.com/assets/colab-badge.svg\" alt=\"Open In Colab\"/></a>"
      ]
    },
    {
      "cell_type": "markdown",
      "metadata": {
        "id": "pbngqRVgFm4H",
        "colab_type": "text"
      },
      "source": [
        "# Feature Extraction Work\n",
        "\n",
        "Re-write of MIDO MIDI file work using python objects"
      ]
    },
    {
      "cell_type": "markdown",
      "metadata": {
        "id": "6BZ2zuQZIDtE",
        "colab_type": "text"
      },
      "source": [
        "# Setup notebook env"
      ]
    },
    {
      "cell_type": "code",
      "metadata": {
        "id": "nFo6ACFEHxxm",
        "colab_type": "code",
        "colab": {
          "base_uri": "https://localhost:8080/",
          "height": 309
        },
        "outputId": "5dfc244c-dd2b-41da-8f27-2ac4177b6a3a"
      },
      "source": [
        "# mount google drive\n",
        "\n",
        "from google.colab import drive\n",
        "drive.mount('/content/drive', force_remount=True)\n",
        "\n",
        "# test ..\n",
        "! ls -al '/content/drive/My Drive/groove-v1.0.0-midionly/groove/drummer1/eval_session/'"
      ],
      "execution_count": 3,
      "outputs": [
        {
          "output_type": "stream",
          "text": [
            "Go to this URL in a browser: https://accounts.google.com/o/oauth2/auth?client_id=947318989803-6bn6qk8qdgf4n4g3pfee6491hc0brc4i.apps.googleusercontent.com&redirect_uri=urn%3aietf%3awg%3aoauth%3a2.0%3aoob&response_type=code&scope=email%20https%3a%2f%2fwww.googleapis.com%2fauth%2fdocs.test%20https%3a%2f%2fwww.googleapis.com%2fauth%2fdrive%20https%3a%2f%2fwww.googleapis.com%2fauth%2fdrive.photos.readonly%20https%3a%2f%2fwww.googleapis.com%2fauth%2fpeopleapi.readonly\n",
            "\n",
            "Enter your authorization code:\n",
            "··········\n",
            "Mounted at /content/drive\n",
            "total 35\n",
            "-rw------- 1 root root 2589 Apr 27 12:01 10_soul-groove10_102_beat_4-4.mid\n",
            "-rw------- 1 root root 4793 Apr 27 12:01 1_funk-groove1_138_beat_4-4.mid\n",
            "-rw------- 1 root root 3243 Apr 27 12:01 2_funk-groove2_105_beat_4-4.mid\n",
            "-rw------- 1 root root 4466 Apr 27 12:01 3_soul-groove3_86_beat_4-4.mid\n",
            "-rw------- 1 root root 2551 Apr 27 12:01 4_soul-groove4_80_beat_4-4.mid\n",
            "-rw------- 1 root root 3798 Apr 27 12:01 5_funk-groove5_84_beat_4-4.mid\n",
            "-rw------- 1 root root 3760 Apr 27 12:01 6_hiphop-groove6_87_beat_4-4.mid\n",
            "-rw------- 1 root root 1894 Apr 27 12:01 7_pop-groove7_138_beat_4-4.mid\n",
            "-rw------- 1 root root 2437 Apr 27 12:01 8_rock-groove8_65_beat_4-4.mid\n",
            "-rw------- 1 root root 3448 Apr 27 12:01 9_soul-groove9_105_beat_4-4.mid\n"
          ],
          "name": "stdout"
        }
      ]
    },
    {
      "cell_type": "code",
      "metadata": {
        "id": "gBzxZXkIHI0q",
        "colab_type": "code",
        "colab": {
          "base_uri": "https://localhost:8080/",
          "height": 122
        },
        "outputId": "ef7b2894-4d2a-45db-a8ed-e31a71dbdeb4"
      },
      "source": [
        "# install required libs\n",
        "!pip install mido\n"
      ],
      "execution_count": 1,
      "outputs": [
        {
          "output_type": "stream",
          "text": [
            "Collecting mido\n",
            "\u001b[?25l  Downloading https://files.pythonhosted.org/packages/20/0a/81beb587b1ae832ea6a1901dc7c6faa380e8dd154e0a862f0a9f3d2afab9/mido-1.2.9-py2.py3-none-any.whl (52kB)\n",
            "\r\u001b[K     |██████▎                         | 10kB 18.7MB/s eta 0:00:01\r\u001b[K     |████████████▌                   | 20kB 3.1MB/s eta 0:00:01\r\u001b[K     |██████████████████▊             | 30kB 4.5MB/s eta 0:00:01\r\u001b[K     |█████████████████████████       | 40kB 3.0MB/s eta 0:00:01\r\u001b[K     |███████████████████████████████▏| 51kB 3.7MB/s eta 0:00:01\r\u001b[K     |████████████████████████████████| 61kB 3.1MB/s \n",
            "\u001b[?25hInstalling collected packages: mido\n",
            "Successfully installed mido-1.2.9\n"
          ],
          "name": "stdout"
        }
      ]
    },
    {
      "cell_type": "code",
      "metadata": {
        "id": "ue_PXcc8FYCD",
        "colab_type": "code",
        "colab": {}
      },
      "source": [
        "\n",
        "# print all cell output\n",
        "from IPython.core.interactiveshell import InteractiveShell\n",
        "InteractiveShell.ast_node_interactivity = \"all\"\n",
        "\n",
        "# imports\n",
        "import pandas as pd\n",
        "import mido \n",
        "from mido import MidiFile\n",
        "\n"
      ],
      "execution_count": 0,
      "outputs": []
    },
    {
      "cell_type": "code",
      "metadata": {
        "id": "q86OPH-mIAub",
        "colab_type": "code",
        "colab": {}
      },
      "source": [
        ""
      ],
      "execution_count": 0,
      "outputs": []
    },
    {
      "cell_type": "markdown",
      "metadata": {
        "id": "_kAhoZpvIOVS",
        "colab_type": "text"
      },
      "source": [
        "# Python class to wrapper mido.MidiFile objects\n",
        "\n",
        "Need to clean up code, make it re-usable for parsing multiple MIDI file performance files."
      ]
    },
    {
      "cell_type": "markdown",
      "metadata": {
        "id": "akFbOhujJpI3",
        "colab_type": "text"
      },
      "source": [
        "\n",
        "\n",
        "- time signature gathered from MIDI message within file, meta 'time_signature'\n",
        "- typically 96 - 480 ticks per beat, from 'mido.MidiFile.ticks_per_beat' attribute\n",
        "- tempo in microseconds per beat, gathered from 'set_tempo' MIDI message in file, converted using mido.tempo2bpm/ bpm2tempo, e.g. 434783 is 138 bpm\n",
        "- conversion from ticks to seconds -> e.g. mido.tick2second(34, 480, 434783)\n",
        "microseconds per tick = microseconds per quarter note / ticks per quarter note\n",
        "\n",
        "\n"
      ]
    },
    {
      "cell_type": "code",
      "metadata": {
        "id": "uLzYTHf5FoRs",
        "colab_type": "code",
        "colab": {}
      },
      "source": [
        "class MIDI_File_Wrapper:\n",
        "  ''' utility wrapper for loading, parsding a mido.MidiFile object'''\n",
        "\n",
        "  def __init__(self, file_name):\n",
        "    self.my_file_name = file_name\n",
        "    self.my_file_midi = None    \n",
        "    self.my_tempo = None  # stored as mido.Message instance\n",
        "    self.my_time_sig = None # stored as mido.Message instance\n",
        "\n",
        "\n",
        "    # load & configure file info...\n",
        "    self.parse_file()\n",
        "\n",
        "  # For call to str(). Prints readable form \n",
        "  def __str__(self): \n",
        "    return str('file: {}'.format(self.my_file_midi))\n",
        "    \n",
        "  \n",
        "  def parse_file(self):\n",
        "    ''' file must be: MIDI type 0 only;  one and only one tempo and time_sig meta messages in file. '''\n",
        "\n",
        "    print('Loading file: {}'.format(self.my_file_name))\n",
        "\n",
        "    # load file\n",
        "    midi_file = MidiFile(self.my_file_name)\n",
        "    self.my_file_midi = midi_file \n",
        "\n",
        "    # check it's the right type ..\n",
        "    if midi_file.type != 0:\n",
        "      raise ValueError('ERROR! Can only process type 0 files, this file is type: {}'.format(midi_file.type))\n",
        "\n",
        "\n",
        "    # parse messages for time_sig and tempo info ..\n",
        "    for msg in midi_file:\n",
        "\n",
        "      if msg.type == 'time_signature':\n",
        "        print('time sig: {}'.format(msg))\n",
        "\n",
        "        # make sure no time sig changes\n",
        "        if self.my_time_sig != None:\n",
        "          raise ValueError('ERROR! more than one time sig: {}, {}'.format(self.my_time_sig, msg))\n",
        "      \n",
        "        self.my_time_sig = msg\n",
        "\n",
        "      elif msg.type == 'set_tempo':\n",
        "\n",
        "        print('tempo: {}'.format(msg))\n",
        "\n",
        "        # make sure no tempo changes\n",
        "        if self.my_tempo != None:\n",
        "          raise ValueError('ERROR! more than one tempo: {}, {}'.format(self.my_tempo, msg))\n",
        "        \n",
        "        self.my_tempo = msg\n",
        "\n",
        "    # now check we actually have tempo and time_sig set, or complain...\n",
        "    if self.my_time_sig is None:\n",
        "      raise ValueError('ERROR! no time signature found: {}'.format(midi_file))\n",
        "    if self.my_tempo is None:\n",
        "      raise ValueError('ERROR! no tempo found: {}'.format(midi_file))\n",
        "\n",
        "    # load messages into DF\n",
        "\n",
        "    # additional processing, e.g. cum_sum for clicks, milliseconds from start, etc\n",
        "\n",
        "\n",
        "  def my_ticks(self):\n",
        "    ''' Returns number of MIDI ticks configured in this file'''\n",
        "    return self.my_file_midi.ticks_per_beat\n",
        "\n",
        "  def my_length(self):\n",
        "    ''' returns running time in seconds'''\n",
        "    return self.my_file_midi.length\n",
        "\n",
        "\n"
      ],
      "execution_count": 0,
      "outputs": []
    },
    {
      "cell_type": "markdown",
      "metadata": {
        "id": "kKbh1NOfQNQf",
        "colab_type": "text"
      },
      "source": [
        "## Testing the above class...\n"
      ]
    },
    {
      "cell_type": "code",
      "metadata": {
        "id": "G4CdPV2gQMth",
        "colab_type": "code",
        "colab": {
          "base_uri": "https://localhost:8080/",
          "height": 68
        },
        "outputId": "38199b96-681d-4b82-8091-322947f91b9b"
      },
      "source": [
        "\n",
        "file_1 = '/content/drive/My Drive/groove-v1.0.0-midionly/groove/drummer1/eval_session/1_funk-groove1_138_beat_4-4.mid'\n",
        "\n",
        "mfw = MIDI_File_Wrapper(file_1)\n"
      ],
      "execution_count": 118,
      "outputs": [
        {
          "output_type": "stream",
          "text": [
            "Loading file: /content/drive/My Drive/groove-v1.0.0-midionly/groove/drummer1/eval_session/1_funk-groove1_138_beat_4-4.mid\n",
            "time sig: <meta message time_signature numerator=4 denominator=4 clocks_per_click=24 notated_32nd_notes_per_beat=8 time=0>\n",
            "tempo: <meta message set_tempo tempo=434783 time=0>\n"
          ],
          "name": "stdout"
        }
      ]
    },
    {
      "cell_type": "markdown",
      "metadata": {
        "id": "lVz_YlgT6ASh",
        "colab_type": "text"
      },
      "source": [
        "## test blasting it with a load of files..\n"
      ]
    },
    {
      "cell_type": "code",
      "metadata": {
        "id": "iK8tGsJy337K",
        "colab_type": "code",
        "colab": {
          "base_uri": "https://localhost:8080/",
          "height": 122
        },
        "outputId": "7638af9c-4dcc-43b2-e0d3-236af7ba1c59"
      },
      "source": [
        "# testing parsing sub directory..\n",
        "\n",
        "# reminder: /content/drive/My Drive/groove-v1.0.0-midionly/groove/drummer1/eval_session/\n",
        "\n",
        "import os\n",
        "\n",
        "for dirpath, dirs, files in os.walk('/content/drive/My Drive/groove-v1.0.0-midionly/groove/drummer1/'):\n",
        "  print(files)\n",
        "\n",
        " "
      ],
      "execution_count": 128,
      "outputs": [
        {
          "output_type": "stream",
          "text": [
            "[]\n",
            "['4_jazz_120_beat_3-4.mid', '100_funk-rock_92_fill_4-4.mid', '12_country_114_fill_4-4.mid', '108_funk-rock_92_fill_4-4.mid', '133_afrocuban-bembe_122_fill_4-4.mid', '192_rock_115_fill_4-4.mid', '78_punk_144_fill_4-4.mid', '93_funk-rock_92_fill_4-4.mid', '25_country_114_fill_4-4.mid', '151_gospel_120_fill_4-4.mid', '137_afrocuban-bembe_122_fill_4-4.mid', '66_punk_144_fill_4-4.mid', '70_punk_144_fill_4-4.mid', '128_afrocuban-bembe_122_fill_4-4.mid', '160_gospel_120_fill_4-4.mid', '5_jazz_200_beat_3-4.mid', '29_country_114_fill_4-4.mid', '39_punk_128_fill_4-4.mid', '117_afrocuban-bembe_122_fill_4-4.mid', '184_rock_115_fill_4-4.mid', '86_punk_144_fill_4-4.mid', '55_punk_128_fill_4-4.mid', '84_punk_144_fill_4-4.mid', '124_afrocuban-bembe_122_fill_4-4.mid', '62_punk_144_beat_4-4.mid', '173_afrocuban-rhumba_110_fill_4-4.mid', '155_gospel_120_fill_4-4.mid', '94_funk-rock_92_fill_4-4.mid', '16_country_114_fill_4-4.mid', '7_jazz-march_88_beat_4-4.mid', '113_afrocuban-bembe_122_fill_4-4.mid', '21_country_114_fill_4-4.mid', '171_afrocuban-rhumba_110_fill_4-4.mid', '162_afrocuban-rhumba_110_fill_4-4.mid', '57_punk_128_fill_4-4.mid', '37_punk_128_beat_4-4.mid', '190_rock_115_fill_4-4.mid', '43_punk_128_fill_4-4.mid', '120_afrocuban-bembe_122_fill_4-4.mid', '49_punk_128_fill_4-4.mid', '41_punk_128_fill_4-4.mid', '35_punk_128_beat_4-4.mid', '110_rock-prog_190_beat_4-4.mid', '149_gospel_120_fill_4-4.mid', '198_rock_115_fill_4-4.mid', '88_punk_144_fill_4-4.mid', '102_funk-rock_92_fill_4-4.mid', '161_afrocuban-rhumba_110_beat_4-4.mid', '123_afrocuban-bembe_122_fill_4-4.mid', '99_funk-rock_92_fill_4-4.mid', '180_rock_50_beat_4-4.mid', '138_afrocuban-bembe_122_fill_4-4.mid', '107_funk-rock_92_fill_4-4.mid', '59_punk_128_fill_4-4.mid', '146_gospel_120_fill_4-4.mid', '159_gospel_120_fill_4-4.mid', '74_punk_144_fill_4-4.mid', '3_latin-chacarera_118_beat_4-4.mid', '156_gospel_120_fill_4-4.mid', '114_afrocuban-bembe_122_fill_4-4.mid', '51_punk_128_fill_4-4.mid', '72_punk_144_fill_4-4.mid', '145_gospel_120_fill_4-4.mid', '127_afrocuban-bembe_122_fill_4-4.mid', '47_punk_128_fill_4-4.mid', '186_rock_115_fill_4-4.mid', '91_funk-rock_92_fill_4-4.mid', '80_punk_144_fill_4-4.mid', '188_rock_115_fill_4-4.mid', '64_punk_144_fill_4-4.mid', '6_rock_102_beat_3-4.mid', '170_afrocuban-rhumba_110_fill_4-4.mid', '196_rock_115_fill_4-4.mid', '68_punk_144_fill_4-4.mid', '24_country_114_fill_4-4.mid', '82_punk_144_fill_4-4.mid', '147_gospel_120_fill_4-4.mid', '142_gospel_120_beat_4-4.mid', '45_punk_128_fill_4-4.mid', '67_punk_144_fill_4-4.mid', '152_gospel_120_fill_4-4.mid', '13_country_114_fill_4-4.mid', '28_country_114_fill_4-4.mid', '61_punk_128_fill_4-4.mid', '194_rock_115_fill_4-4.mid', '96_funk-rock_92_fill_4-4.mid', '172_afrocuban-rhumba_110_fill_4-4.mid', '163_afrocuban-rhumba_110_fill_4-4.mid', '8_jazz-march_176_beat_4-4.mid', '53_punk_128_fill_4-4.mid', '118_afrocuban-bembe_122_fill_4-4.mid', '182_rock_115_fill_4-4.mid', '20_country_114_fill_4-4.mid', '134_afrocuban-bembe_122_fill_4-4.mid', '33_punk_128_beat_4-4.mid', '141_afrocuban-bembe_122_fill_4-4.mid', '17_country_114_fill_4-4.mid', '104_funk-rock_92_fill_4-4.mid', '105_funk-rock_92_fill_4-4.mid', '1_latin-chacarera_157_beat_3-4.mid', '76_punk_144_fill_4-4.mid', '130_afrocuban-bembe_122_fill_4-4.mid', '121_afrocuban-bembe_122_fill_4-4.mid', '10_country_114_beat_4-4.mid', '79_punk_144_fill_4-4.mid', '132_afrocuban-bembe_122_fill_4-4.mid', '193_rock_115_fill_4-4.mid', '42_punk_128_fill_4-4.mid', '165_afrocuban-rhumba_110_fill_4-4.mid', '97_funk-rock_92_fill_4-4.mid', '187_rock_115_fill_4-4.mid', '154_gospel_120_fill_4-4.mid', '30_country_114_fill_4-4.mid', '125_afrocuban-bembe_122_fill_4-4.mid', '56_punk_128_fill_4-4.mid', '148_gospel_120_fill_4-4.mid', '85_punk_144_fill_4-4.mid', '11_country_114_fill_4-4.mid', '54_punk_128_fill_4-4.mid', '116_afrocuban-bembe_122_fill_4-4.mid', '40_punk_128_fill_4-4.mid', '87_punk_144_fill_4-4.mid', '26_country_114_fill_4-4.mid', '191_rock_115_fill_4-4.mid', '179_afrocuban-rhumba_110_fill_4-4.mid', '71_punk_144_fill_4-4.mid', '168_afrocuban-rhumba_110_fill_4-4.mid', '185_rock_115_fill_4-4.mid', '34_punk_128_beat_4-4.mid', '174_afrocuban-rhumba_110_fill_4-4.mid', '38_punk_128_fill_4-4.mid', '36_punk_128_beat_4-4.mid', '119_afrocuban-bembe_122_fill_4-4.mid', '131_afrocuban-bembe_122_fill_4-4.mid', '140_afrocuban-bembe_122_fill_4-4.mid', '23_country_114_fill_4-4.mid', '176_afrocuban-rhumba_110_fill_4-4.mid', '89_punk_144_fill_4-4.mid', '181_rock_115_beat_4-4.mid', '167_afrocuban-rhumba_110_fill_4-4.mid', '58_punk_128_fill_4-4.mid', '169_afrocuban-rhumba_110_fill_4-4.mid', '19_country_114_fill_4-4.mid', '106_funk-rock_92_fill_4-4.mid', '22_country_114_fill_4-4.mid', '32_punk_140_beat_4-4.mid', '14_country_114_fill_4-4.mid', '111_rock-prog_110_beat_5-4.mid', '98_funk-rock_92_fill_4-4.mid', '103_funk-rock_92_fill_4-4.mid', '48_punk_128_fill_4-4.mid', '90_funk-rock_92_beat_4-4.mid', '15_country_114_fill_4-4.mid', '136_afrocuban-bembe_122_fill_4-4.mid', '150_gospel_120_fill_4-4.mid', '129_afrocuban-bembe_122_fill_4-4.mid', '27_country_114_fill_4-4.mid', '143_gospel_120_fill_4-4.mid', '153_gospel_120_fill_4-4.mid', '65_punk_144_fill_4-4.mid', '73_punk_144_fill_4-4.mid', '157_gospel_120_fill_4-4.mid', '81_punk_144_fill_4-4.mid', '183_rock_115_fill_4-4.mid', '52_punk_128_fill_4-4.mid', '95_funk-rock_92_fill_4-4.mid', '9_jazz-march_120_beat_4-4.mid', '31_country_114_fill_4-4.mid', '83_punk_144_fill_4-4.mid', '135_afrocuban-bembe_122_fill_4-4.mid', '189_rock_115_fill_4-4.mid', '44_punk_128_fill_4-4.mid', '164_afrocuban-rhumba_110_fill_4-4.mid', '46_punk_128_fill_4-4.mid', '158_gospel_120_fill_4-4.mid', '18_country_114_fill_4-4.mid', '178_afrocuban-rhumba_110_fill_4-4.mid', '144_gospel_120_fill_4-4.mid', '92_funk-rock_92_fill_4-4.mid', '63_punk_144_fill_4-4.mid', '166_afrocuban-rhumba_110_fill_4-4.mid', '197_rock_115_fill_4-4.mid', '115_afrocuban-bembe_122_fill_4-4.mid', '50_punk_128_fill_4-4.mid', '75_punk_144_fill_4-4.mid', '177_afrocuban-rhumba_110_fill_4-4.mid', '122_afrocuban-bembe_122_fill_4-4.mid', '60_punk_128_fill_4-4.mid', '175_afrocuban-rhumba_110_fill_4-4.mid', '2_latin-chacarera_118_beat_4-4.mid', '69_punk_144_fill_4-4.mid', '126_afrocuban-bembe_122_fill_4-4.mid', '195_rock_115_fill_4-4.mid', '139_afrocuban-bembe_122_fill_4-4.mid', '101_funk-rock_92_fill_4-4.mid', '77_punk_144_fill_4-4.mid', '109_funk-rock_92_fill_4-4.mid', '112_afrocuban-bembe_122_beat_4-4.mid']\n",
            "['6_dance-disco_120_beat_4-4.mid', '2_jazz-swing_185_beat_4-4.mid', '11_afrobeat_94_beat_4-4.mid', '3_rock-rockabilly_200_beat_4-4.mid', '8_rock_135_beat_4-4.mid', '14_rock_94_beat_4-4.mid', '1_rock-prog_125_beat_4-4.mid', '18_rock_128_beat_4-4.mid', '17_afrocuban-calypso_108_beat_4-4.mid', '5_jazz-linear_128_beat_4-4.mid', '13_rock_115_beat_4-4.mid', '10_rock-folk_90_beat_4-4.mid', '15_funk_117_beat_4-4.mid', '16_funk_117_beat_4-4.mid', '12_latin-bomba_96_beat_4-4.mid', '4_jazz-linear_182_beat_4-4.mid', '7_dance-disco_120_beat_4-4.mid', '9_rock_135_beat_4-4.mid']\n",
            "['1_funk-groove1_138_beat_4-4.mid', '2_funk-groove2_105_beat_4-4.mid', '10_soul-groove10_102_beat_4-4.mid', '4_soul-groove4_80_beat_4-4.mid', '6_hiphop-groove6_87_beat_4-4.mid', '8_rock-groove8_65_beat_4-4.mid', '3_soul-groove3_86_beat_4-4.mid', '9_soul-groove9_105_beat_4-4.mid', '5_funk-groove5_84_beat_4-4.mid', '7_pop-groove7_138_beat_4-4.mid']\n",
            "['123_funk_95_fill_4-4.mid', '129_funk-fast_125_fill_4-4.mid', '99_neworleans-funk_84_fill_4-4.mid', '133_funk-fast_125_fill_4-4.mid', '33_latin-samba_116_fill_4-4.mid', '206_rock-halftime_140_fill_4-4.mid', '2_funk_80_beat_4-4.mid', '213_rock-halftime_140_fill_4-4.mid', '215_rock-halftime_140_fill_4-4.mid', '60_jazz_125_fill_4-4.mid', '259_funk-purdieshuffle_130_fill_4-4.mid', '79_latin-reggaeton_90_beat_4-4.mid', '187_reggae_78_fill_4-4.mid', '245_funk-purdieshuffle_130_fill_4-4.mid', '83_neworleans-funk_84_fill_4-4.mid', '43_latin-samba_116_fill_4-4.mid', '12_jazz-funk_116_fill_4-4.mid', '231_rock-halftime_140_fill_4-4.mid', '140_funk-fast_125_fill_4-4.mid', '27_jazz-funk_116_fill_4-4.mid', '68_jazz_125_fill_4-4.mid', '74_jazz_125_fill_4-4.mid', '40_latin-samba_116_fill_4-4.mid', '111_funk_95_fill_4-4.mid', '261_funk-purdieshuffle_130_fill_4-4.mid', '47_jazz_102_beat_4-4.mid', '114_funk_95_fill_4-4.mid', '256_funk-purdieshuffle_130_fill_4-4.mid', '77_jazz-mediumfast_180_beat_4-4.mid', '102_funk_95_beat_4-4.mid', '106_funk_95_fill_4-4.mid', '8_jazz-funk_116_fill_4-4.mid', '237_rock-halftime_140_fill_4-4.mid', '91_neworleans-funk_84_fill_4-4.mid', '62_jazz_125_fill_4-4.mid', '5_jazz-funk_116_beat_4-4.mid', '20_jazz-funk_116_fill_4-4.mid', '58_jazz_125_fill_4-4.mid', '219_rock-halftime_140_fill_4-4.mid', '15_jazz-funk_116_fill_4-4.mid', '224_rock-halftime_140_fill_4-4.mid', '48_jazz_93_beat_4-4.mid', '262_funk-purdieshuffle_130_fill_4-4.mid', '148_latin-brazilian-baiao_95_fill_4-4.mid', '56_jazz_125_fill_4-4.mid', '134_funk-fast_125_fill_4-4.mid', '149_latin-brazilian-baiao_95_fill_4-4.mid', '110_funk_95_fill_4-4.mid', '103_funk_95_fill_4-4.mid', '86_neworleans-funk_84_fill_4-4.mid', '38_latin-samba_116_beat_4-4.mid', '189_reggae_78_fill_4-4.mid', '255_funk-purdieshuffle_130_fill_4-4.mid', '201_reggae-slow_64_beat_4-4.mid', '109_funk_95_fill_4-4.mid', '81_dance-breakbeat_170_beat_4-4.mid', '94_neworleans-funk_84_fill_4-4.mid', '181_afrocuban_105_fill_4-4.mid', '228_rock-halftime_140_fill_4-4.mid', '222_rock-halftime_140_fill_4-4.mid', '246_funk-purdieshuffle_130_fill_4-4.mid', '249_funk-purdieshuffle_130_fill_4-4.mid', '162_latin-brazilian-baiao_95_fill_4-4.mid', '155_latin-brazilian-baiao_95_fill_4-4.mid', '30_latin-samba_116_fill_4-4.mid', '92_neworleans-funk_84_fill_4-4.mid', '239_funk-purdieshuffle_130_beat_4-4.mid', '207_rock-halftime_140_fill_4-4.mid', '138_funk-fast_125_fill_4-4.mid', '19_jazz-funk_116_fill_4-4.mid', '154_latin-brazilian-baiao_95_fill_4-4.mid', '166_latin-brazilian-baiao_95_fill_4-4.mid', '115_funk_95_fill_4-4.mid', '50_jazz_125_beat_4-4.mid', '21_jazz-funk_116_fill_4-4.mid', '156_latin-brazilian-baiao_95_fill_4-4.mid', '214_rock-halftime_140_fill_4-4.mid', '135_funk-fast_125_fill_4-4.mid', '78_jazz-fast_290_beat_4-4.mid', '243_funk-purdieshuffle_130_fill_4-4.mid', '212_rock-halftime_140_fill_4-4.mid', '157_latin-brazilian-baiao_95_fill_4-4.mid', '161_latin-brazilian-baiao_95_fill_4-4.mid', '188_reggae_78_fill_4-4.mid', '97_neworleans-funk_84_fill_4-4.mid', '160_latin-brazilian-baiao_95_fill_4-4.mid', '218_rock-halftime_140_fill_4-4.mid', '122_funk_95_fill_4-4.mid', '139_funk-fast_125_fill_4-4.mid', '150_latin-brazilian-baiao_95_fill_4-4.mid', '167_latin-brazilian-baiao_95_fill_4-4.mid', '45_latin-samba_116_fill_4-4.mid', '163_latin-brazilian-baiao_95_fill_4-4.mid', '18_jazz-funk_116_fill_4-4.mid', '3_funk_80_beat_4-4.mid', '268_funk-purdieshuffle_130_fill_4-4.mid', '184_reggae_78_beat_4-4.mid', '14_jazz-funk_116_fill_4-4.mid', '72_jazz_125_fill_4-4.mid', '128_funk-fast_125_fill_4-4.mid', '230_rock-halftime_140_fill_4-4.mid', '164_latin-brazilian-baiao_95_fill_4-4.mid', '152_latin-brazilian-baiao_95_fill_4-4.mid', '267_funk-purdieshuffle_130_fill_4-4.mid', '223_rock-halftime_140_fill_4-4.mid', '88_neworleans-funk_84_fill_4-4.mid', '250_funk-purdieshuffle_130_fill_4-4.mid', '165_latin-brazilian-baiao_95_fill_4-4.mid', '177_afrocuban_105_fill_4-4.mid', '151_latin-brazilian-baiao_95_fill_4-4.mid', '36_latin-samba_116_fill_4-4.mid', '64_jazz_125_fill_4-4.mid', '108_funk_95_fill_4-4.mid', '85_neworleans-funk_84_fill_4-4.mid', '186_reggae_78_fill_4-4.mid', '132_funk-fast_125_fill_4-4.mid', '236_rock-halftime_140_fill_4-4.mid', '28_latin-samba_116_beat_4-4.mid', '35_latin-samba_116_fill_4-4.mid', '176_afrocuban_105_beat_4-4.mid', '70_jazz_125_fill_4-4.mid', '240_funk-purdieshuffle_130_fill_4-4.mid', '153_latin-brazilian-baiao_95_fill_4-4.mid', '225_rock-halftime_140_fill_4-4.mid', '54_jazz_125_fill_4-4.mid', '180_afrocuban_105_fill_4-4.mid', '185_reggae_78_fill_4-4.mid', '84_neworleans-funk_84_fill_4-4.mid', '107_funk_95_fill_4-4.mid', '193_reggae_78_fill_4-4.mid', '141_funk-fast_125_fill_4-4.mid', '104_funk_95_fill_4-4.mid', '264_funk-purdieshuffle_130_fill_4-4.mid', '208_rock-halftime_140_fill_4-4.mid', '52_jazz_125_beat_4-4.mid', '211_rock-halftime_140_fill_4-4.mid', '13_jazz-funk_116_fill_4-4.mid', '26_jazz-funk_116_fill_4-4.mid', '258_funk-purdieshuffle_130_fill_4-4.mid', '23_jazz-funk_116_fill_4-4.mid', '179_afrocuban_105_fill_4-4.mid', '260_funk-purdieshuffle_130_fill_4-4.mid', '16_jazz-funk_116_fill_4-4.mid', '199_reggae_78_fill_4-4.mid', '9_jazz-funk_116_fill_4-4.mid', '96_neworleans-funk_84_fill_4-4.mid', '101_dance-disco_120_beat_4-4.mid', '46_latin-samba_116_fill_4-4.mid', '144_funk-fast_125_fill_4-4.mid', '4_jazz-funk_116_beat_4-4.mid', '66_jazz_125_fill_4-4.mid', '34_latin-samba_116_fill_4-4.mid', '229_rock-halftime_140_fill_4-4.mid', '253_funk-purdieshuffle_130_fill_4-4.mid', '257_funk-purdieshuffle_130_fill_4-4.mid', '69_jazz_125_fill_4-4.mid', '53_jazz_125_fill_4-4.mid', '44_latin-samba_116_fill_4-4.mid', '119_funk_95_fill_4-4.mid', '51_rock-shuffle_125_beat_4-4.mid', '197_reggae_78_fill_4-4.mid', '82_neworleans-funk_84_beat_4-4.mid', '183_afrocuban_105_beat_4-4.mid', '63_jazz_125_fill_4-4.mid', '137_funk-fast_125_fill_4-4.mid', '130_funk-fast_125_fill_4-4.mid', '116_funk_95_fill_4-4.mid', '217_rock-halftime_140_fill_4-4.mid', '182_afrocuban_105_fill_4-4.mid', '175_latin-brazilian-baiao_95_fill_4-4.mid', '173_latin-brazilian-baiao_95_fill_4-4.mid', '174_latin-brazilian-baiao_95_fill_4-4.mid', '93_neworleans-funk_84_fill_4-4.mid', '76_jazz-mediumfast_180_beat_4-4.mid', '61_jazz_125_fill_4-4.mid', '204_rock-halftime_140_fill_4-4.mid', '226_rock-halftime_140_fill_4-4.mid', '248_funk-purdieshuffle_130_fill_4-4.mid', '49_jazz_125_beat_4-4.mid', '194_reggae_78_fill_4-4.mid', '235_rock-halftime_140_fill_4-4.mid', '89_neworleans-funk_84_fill_4-4.mid', '244_funk-purdieshuffle_130_fill_4-4.mid', '254_funk-purdieshuffle_130_fill_4-4.mid', '121_funk_95_fill_4-4.mid', '124_funk_95_fill_4-4.mid', '191_reggae_78_fill_4-4.mid', '233_rock-halftime_140_fill_4-4.mid', '172_latin-brazilian-baiao_95_fill_4-4.mid', '126_funk-fast_125_beat_4-4.mid', '73_jazz_125_fill_4-4.mid', '59_jazz_125_fill_4-4.mid', '37_latin-samba_116_fill_4-4.mid', '159_latin-brazilian-baiao_95_fill_4-4.mid', '171_latin-brazilian-baiao_95_fill_4-4.mid', '190_reggae_78_fill_4-4.mid', '209_rock-halftime_140_fill_4-4.mid', '24_jazz-funk_116_fill_4-4.mid', '65_jazz_125_fill_4-4.mid', '113_funk_95_fill_4-4.mid', '220_rock-halftime_140_fill_4-4.mid', '7_jazz-funk_116_fill_4-4.mid', '100_neworleans-secondline_94_beat_4-4.mid', '247_funk-purdieshuffle_130_fill_4-4.mid', '11_jazz-funk_116_fill_4-4.mid', '127_funk-fast_125_fill_4-4.mid', '42_latin-samba_116_fill_4-4.mid', '158_latin-brazilian-baiao_95_fill_4-4.mid', '143_funk-fast_125_fill_4-4.mid', '147_latin-brazilian-baiao_95_fill_4-4.mid', '39_latin-samba_116_fill_4-4.mid', '263_funk-purdieshuffle_130_fill_4-4.mid', '170_latin-brazilian-baiao_95_fill_4-4.mid', '131_funk-fast_125_fill_4-4.mid', '22_jazz-funk_116_fill_4-4.mid', '142_funk-fast_125_fill_4-4.mid', '17_jazz-funk_116_fill_4-4.mid', '216_rock-halftime_140_fill_4-4.mid', '98_neworleans-funk_84_fill_4-4.mid', '169_latin-brazilian-baiao_95_fill_4-4.mid', '10_jazz-funk_116_fill_4-4.mid', '57_jazz_125_fill_4-4.mid', '6_jazz-funk_116_fill_4-4.mid', '168_latin-brazilian-baiao_95_fill_4-4.mid', '146_latin-brazilian-baiao_95_beat_4-4.mid', '195_reggae_78_fill_4-4.mid', '71_jazz_125_fill_4-4.mid', '251_funk-purdieshuffle_130_fill_4-4.mid', '266_funk-purdieshuffle_130_fill_4-4.mid', '117_funk_95_fill_4-4.mid', '75_jazz_125_beat_4-4.mid', '105_funk_95_fill_4-4.mid', '25_jazz-funk_116_fill_4-4.mid', '200_reggae_78_fill_4-4.mid', '145_latin-brazilian-baiao_95_beat_4-4.mid', '210_rock-halftime_140_fill_4-4.mid', '87_neworleans-funk_84_fill_4-4.mid', '31_latin-samba_116_fill_4-4.mid', '67_jazz_125_fill_4-4.mid', '242_funk-purdieshuffle_130_fill_4-4.mid', '205_rock-halftime_140_fill_4-4.mid', '203_rock-halftime_140_fill_4-4.mid', '196_reggae_78_fill_4-4.mid', '80_dance-breakbeat_170_beat_4-4.mid', '265_funk-purdieshuffle_130_fill_4-4.mid', '120_funk_95_fill_4-4.mid', '55_jazz_125_fill_4-4.mid', '90_neworleans-funk_84_fill_4-4.mid', '118_funk_95_fill_4-4.mid', '125_funk_95_fill_4-4.mid', '1_funk_80_beat_4-4.mid', '95_neworleans-funk_84_fill_4-4.mid', '198_reggae_78_fill_4-4.mid', '238_rock-halftime_140_fill_4-4.mid', '112_funk_95_fill_4-4.mid', '136_funk-fast_125_fill_4-4.mid', '29_latin-samba_116_fill_4-4.mid', '32_latin-samba_116_fill_4-4.mid', '232_rock-halftime_140_fill_4-4.mid', '234_rock-halftime_140_fill_4-4.mid', '221_rock-halftime_140_fill_4-4.mid', '252_funk-purdieshuffle_130_fill_4-4.mid', '178_afrocuban_105_fill_4-4.mid', '192_reggae_78_fill_4-4.mid', '41_latin-samba_116_fill_4-4.mid', '202_rock-halftime_140_beat_4-4.mid', '227_rock-halftime_140_fill_4-4.mid', '241_funk-purdieshuffle_130_fill_4-4.mid']\n"
          ],
          "name": "stdout"
        }
      ]
    },
    {
      "cell_type": "code",
      "metadata": {
        "id": "1KzIWC5o5Zg8",
        "colab_type": "code",
        "colab": {
          "base_uri": "https://localhost:8080/",
          "height": 204
        },
        "outputId": "de73c687-c180-471c-8c8c-2c5a25424b7b"
      },
      "source": [
        "import glob\n",
        "\n",
        "root_dir = '/content/drive/My Drive/groove-v1.0.0-midionly/groove/drummer1/eval_session/'\n",
        "\n",
        "# recursively find all MIDI files..\n",
        "my_files = []\n",
        "for filename in glob.iglob(root_dir + '**/*.mid', recursive=True):\n",
        "  my_files.append(filename)\n",
        "\n",
        "# show what I found\n",
        "(my_files)\n",
        "print()\n",
        "print('total # {}'.format(len(my_files)))\n"
      ],
      "execution_count": 142,
      "outputs": [
        {
          "output_type": "execute_result",
          "data": {
            "text/plain": [
              "['/content/drive/My Drive/groove-v1.0.0-midionly/groove/drummer1/eval_session/1_funk-groove1_138_beat_4-4.mid',\n",
              " '/content/drive/My Drive/groove-v1.0.0-midionly/groove/drummer1/eval_session/2_funk-groove2_105_beat_4-4.mid',\n",
              " '/content/drive/My Drive/groove-v1.0.0-midionly/groove/drummer1/eval_session/10_soul-groove10_102_beat_4-4.mid',\n",
              " '/content/drive/My Drive/groove-v1.0.0-midionly/groove/drummer1/eval_session/4_soul-groove4_80_beat_4-4.mid',\n",
              " '/content/drive/My Drive/groove-v1.0.0-midionly/groove/drummer1/eval_session/6_hiphop-groove6_87_beat_4-4.mid',\n",
              " '/content/drive/My Drive/groove-v1.0.0-midionly/groove/drummer1/eval_session/8_rock-groove8_65_beat_4-4.mid',\n",
              " '/content/drive/My Drive/groove-v1.0.0-midionly/groove/drummer1/eval_session/3_soul-groove3_86_beat_4-4.mid',\n",
              " '/content/drive/My Drive/groove-v1.0.0-midionly/groove/drummer1/eval_session/9_soul-groove9_105_beat_4-4.mid',\n",
              " '/content/drive/My Drive/groove-v1.0.0-midionly/groove/drummer1/eval_session/5_funk-groove5_84_beat_4-4.mid',\n",
              " '/content/drive/My Drive/groove-v1.0.0-midionly/groove/drummer1/eval_session/7_pop-groove7_138_beat_4-4.mid']"
            ]
          },
          "metadata": {
            "tags": []
          },
          "execution_count": 142
        },
        {
          "output_type": "stream",
          "text": [
            "\n",
            "total # 10\n"
          ],
          "name": "stdout"
        }
      ]
    },
    {
      "cell_type": "code",
      "metadata": {
        "id": "VYkE4unu7AMG",
        "colab_type": "code",
        "colab": {
          "base_uri": "https://localhost:8080/",
          "height": 544
        },
        "outputId": "a80901f9-9de8-46b4-d8bd-dece39b3d8f0"
      },
      "source": [
        "\n",
        "my_midi_files = []\n",
        "\n",
        "for f in my_files:\n",
        "  my_midi_files.append(MIDI_File_Wrapper(f))\n",
        "\n",
        "print('number objects create: {}'.format(len(my_midi_files)))"
      ],
      "execution_count": 143,
      "outputs": [
        {
          "output_type": "stream",
          "text": [
            "Loading file: /content/drive/My Drive/groove-v1.0.0-midionly/groove/drummer1/eval_session/1_funk-groove1_138_beat_4-4.mid\n",
            "time sig: <meta message time_signature numerator=4 denominator=4 clocks_per_click=24 notated_32nd_notes_per_beat=8 time=0>\n",
            "tempo: <meta message set_tempo tempo=434783 time=0>\n",
            "Loading file: /content/drive/My Drive/groove-v1.0.0-midionly/groove/drummer1/eval_session/2_funk-groove2_105_beat_4-4.mid\n",
            "time sig: <meta message time_signature numerator=4 denominator=4 clocks_per_click=24 notated_32nd_notes_per_beat=8 time=0>\n",
            "tempo: <meta message set_tempo tempo=571429 time=0>\n",
            "Loading file: /content/drive/My Drive/groove-v1.0.0-midionly/groove/drummer1/eval_session/10_soul-groove10_102_beat_4-4.mid\n",
            "time sig: <meta message time_signature numerator=4 denominator=4 clocks_per_click=24 notated_32nd_notes_per_beat=8 time=0>\n",
            "tempo: <meta message set_tempo tempo=588235 time=0>\n",
            "Loading file: /content/drive/My Drive/groove-v1.0.0-midionly/groove/drummer1/eval_session/4_soul-groove4_80_beat_4-4.mid\n",
            "time sig: <meta message time_signature numerator=4 denominator=4 clocks_per_click=24 notated_32nd_notes_per_beat=8 time=0>\n",
            "tempo: <meta message set_tempo tempo=750000 time=0>\n",
            "Loading file: /content/drive/My Drive/groove-v1.0.0-midionly/groove/drummer1/eval_session/6_hiphop-groove6_87_beat_4-4.mid\n",
            "time sig: <meta message time_signature numerator=4 denominator=4 clocks_per_click=24 notated_32nd_notes_per_beat=8 time=0>\n",
            "tempo: <meta message set_tempo tempo=689655 time=0>\n",
            "Loading file: /content/drive/My Drive/groove-v1.0.0-midionly/groove/drummer1/eval_session/8_rock-groove8_65_beat_4-4.mid\n",
            "time sig: <meta message time_signature numerator=4 denominator=4 clocks_per_click=24 notated_32nd_notes_per_beat=8 time=0>\n",
            "tempo: <meta message set_tempo tempo=923077 time=0>\n",
            "Loading file: /content/drive/My Drive/groove-v1.0.0-midionly/groove/drummer1/eval_session/3_soul-groove3_86_beat_4-4.mid\n",
            "time sig: <meta message time_signature numerator=4 denominator=4 clocks_per_click=24 notated_32nd_notes_per_beat=8 time=0>\n",
            "tempo: <meta message set_tempo tempo=697674 time=0>\n",
            "Loading file: /content/drive/My Drive/groove-v1.0.0-midionly/groove/drummer1/eval_session/9_soul-groove9_105_beat_4-4.mid\n",
            "time sig: <meta message time_signature numerator=4 denominator=4 clocks_per_click=24 notated_32nd_notes_per_beat=8 time=0>\n",
            "tempo: <meta message set_tempo tempo=571429 time=0>\n",
            "Loading file: /content/drive/My Drive/groove-v1.0.0-midionly/groove/drummer1/eval_session/5_funk-groove5_84_beat_4-4.mid\n",
            "time sig: <meta message time_signature numerator=4 denominator=4 clocks_per_click=24 notated_32nd_notes_per_beat=8 time=0>\n",
            "tempo: <meta message set_tempo tempo=714286 time=0>\n",
            "Loading file: /content/drive/My Drive/groove-v1.0.0-midionly/groove/drummer1/eval_session/7_pop-groove7_138_beat_4-4.mid\n",
            "time sig: <meta message time_signature numerator=4 denominator=4 clocks_per_click=24 notated_32nd_notes_per_beat=8 time=0>\n",
            "tempo: <meta message set_tempo tempo=434783 time=0>\n",
            "number objects create: 10\n"
          ],
          "name": "stdout"
        }
      ]
    }
  ]
}