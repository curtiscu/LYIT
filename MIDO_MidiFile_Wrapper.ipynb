{
  "nbformat": 4,
  "nbformat_minor": 0,
  "metadata": {
    "colab": {
      "name": "MIDO_MidiFile_Wrapper.ipynb",
      "provenance": [],
      "collapsed_sections": [],
      "toc_visible": true,
      "authorship_tag": "ABX9TyOwcDMC9tfSgXy0nHEexqbv",
      "include_colab_link": true
    },
    "kernelspec": {
      "name": "python3",
      "display_name": "Python 3"
    }
  },
  "cells": [
    {
      "cell_type": "markdown",
      "metadata": {
        "id": "view-in-github",
        "colab_type": "text"
      },
      "source": [
        "<a href=\"https://colab.research.google.com/github/curtiscu/LYIT/blob/master/MIDO_MidiFile_Wrapper.ipynb\" target=\"_parent\"><img src=\"https://colab.research.google.com/assets/colab-badge.svg\" alt=\"Open In Colab\"/></a>"
      ]
    },
    {
      "cell_type": "markdown",
      "metadata": {
        "id": "pbngqRVgFm4H",
        "colab_type": "text"
      },
      "source": [
        "# Bulk file loading using MIDO library\n",
        "\n",
        "Re-write of MIDO MIDI file work using python objects"
      ]
    },
    {
      "cell_type": "markdown",
      "metadata": {
        "id": "6BZ2zuQZIDtE",
        "colab_type": "text"
      },
      "source": [
        "# Setup notebook env"
      ]
    },
    {
      "cell_type": "code",
      "metadata": {
        "id": "nFo6ACFEHxxm",
        "colab_type": "code",
        "outputId": "50f12028-638b-4137-bd87-e93fdf96e3a9",
        "colab": {
          "base_uri": "https://localhost:8080/",
          "height": 309
        }
      },
      "source": [
        "# mount google drive\n",
        "\n",
        "from google.colab import drive\n",
        "drive.mount('/content/drive', force_remount=True)\n",
        "\n",
        "# test ..\n",
        "! ls -al '/content/drive/My Drive/groove-v1.0.0-midionly/groove/drummer1/eval_session/'"
      ],
      "execution_count": 1,
      "outputs": [
        {
          "output_type": "stream",
          "text": [
            "Go to this URL in a browser: https://accounts.google.com/o/oauth2/auth?client_id=947318989803-6bn6qk8qdgf4n4g3pfee6491hc0brc4i.apps.googleusercontent.com&redirect_uri=urn%3aietf%3awg%3aoauth%3a2.0%3aoob&response_type=code&scope=email%20https%3a%2f%2fwww.googleapis.com%2fauth%2fdocs.test%20https%3a%2f%2fwww.googleapis.com%2fauth%2fdrive%20https%3a%2f%2fwww.googleapis.com%2fauth%2fdrive.photos.readonly%20https%3a%2f%2fwww.googleapis.com%2fauth%2fpeopleapi.readonly\n",
            "\n",
            "Enter your authorization code:\n",
            "··········\n",
            "Mounted at /content/drive\n",
            "total 35\n",
            "-rw------- 1 root root 2589 Apr 27 12:01 10_soul-groove10_102_beat_4-4.mid\n",
            "-rw------- 1 root root 4793 Apr 27 12:01 1_funk-groove1_138_beat_4-4.mid\n",
            "-rw------- 1 root root 3243 Apr 27 12:01 2_funk-groove2_105_beat_4-4.mid\n",
            "-rw------- 1 root root 4466 Apr 27 12:01 3_soul-groove3_86_beat_4-4.mid\n",
            "-rw------- 1 root root 2551 Apr 27 12:01 4_soul-groove4_80_beat_4-4.mid\n",
            "-rw------- 1 root root 3798 Apr 27 12:01 5_funk-groove5_84_beat_4-4.mid\n",
            "-rw------- 1 root root 3760 Apr 27 12:01 6_hiphop-groove6_87_beat_4-4.mid\n",
            "-rw------- 1 root root 1894 Apr 27 12:01 7_pop-groove7_138_beat_4-4.mid\n",
            "-rw------- 1 root root 2437 Apr 27 12:01 8_rock-groove8_65_beat_4-4.mid\n",
            "-rw------- 1 root root 3448 Apr 27 12:01 9_soul-groove9_105_beat_4-4.mid\n"
          ],
          "name": "stdout"
        }
      ]
    },
    {
      "cell_type": "code",
      "metadata": {
        "id": "gBzxZXkIHI0q",
        "colab_type": "code",
        "outputId": "1b9c6e63-43ec-4c05-89b2-27f8e3e23383",
        "colab": {
          "base_uri": "https://localhost:8080/",
          "height": 122
        }
      },
      "source": [
        "# install required libs\n",
        "!pip install mido\n"
      ],
      "execution_count": 2,
      "outputs": [
        {
          "output_type": "stream",
          "text": [
            "Collecting mido\n",
            "\u001b[?25l  Downloading https://files.pythonhosted.org/packages/20/0a/81beb587b1ae832ea6a1901dc7c6faa380e8dd154e0a862f0a9f3d2afab9/mido-1.2.9-py2.py3-none-any.whl (52kB)\n",
            "\r\u001b[K     |██████▎                         | 10kB 16.7MB/s eta 0:00:01\r\u001b[K     |████████████▌                   | 20kB 1.8MB/s eta 0:00:01\r\u001b[K     |██████████████████▊             | 30kB 2.7MB/s eta 0:00:01\r\u001b[K     |█████████████████████████       | 40kB 3.5MB/s eta 0:00:01\r\u001b[K     |███████████████████████████████▏| 51kB 2.2MB/s eta 0:00:01\r\u001b[K     |████████████████████████████████| 61kB 2.0MB/s \n",
            "\u001b[?25hInstalling collected packages: mido\n",
            "Successfully installed mido-1.2.9\n"
          ],
          "name": "stdout"
        }
      ]
    },
    {
      "cell_type": "code",
      "metadata": {
        "id": "ue_PXcc8FYCD",
        "colab_type": "code",
        "colab": {}
      },
      "source": [
        "\n",
        "# print all cell output\n",
        "from IPython.core.interactiveshell import InteractiveShell\n",
        "InteractiveShell.ast_node_interactivity = \"all\"\n",
        "\n",
        "# imports\n",
        "import pandas as pd\n",
        "import mido \n",
        "from mido import MidiFile\n",
        "\n"
      ],
      "execution_count": 0,
      "outputs": []
    },
    {
      "cell_type": "code",
      "metadata": {
        "id": "q86OPH-mIAub",
        "colab_type": "code",
        "colab": {}
      },
      "source": [
        ""
      ],
      "execution_count": 0,
      "outputs": []
    },
    {
      "cell_type": "markdown",
      "metadata": {
        "id": "_kAhoZpvIOVS",
        "colab_type": "text"
      },
      "source": [
        "# Python class to wrapper mido.MidiFile objects\n",
        "\n",
        "Need to clean up code, make it re-usable for parsing multiple MIDI file performance files."
      ]
    },
    {
      "cell_type": "markdown",
      "metadata": {
        "id": "akFbOhujJpI3",
        "colab_type": "text"
      },
      "source": [
        "\n",
        "\n",
        "- time signature gathered from MIDI message within file, meta 'time_signature'\n",
        "- typically 96 - 480 ticks per beat, from 'mido.MidiFile.ticks_per_beat' attribute\n",
        "- tempo in microseconds per beat, gathered from 'set_tempo' MIDI message in file, converted using mido.tempo2bpm/ bpm2tempo, e.g. 434783 is 138 bpm\n",
        "- conversion from ticks to seconds -> e.g. mido.tick2second(34, 480, 434783)\n",
        "microseconds per tick = microseconds per quarter note / ticks per quarter note\n",
        "\n",
        "\n"
      ]
    },
    {
      "cell_type": "markdown",
      "metadata": {
        "id": "tfIepGq7GHWr",
        "colab_type": "text"
      },
      "source": [
        "NOTE: this next cell is the bulk of the work for this notebook, the rest of the cells are mostly testing for it."
      ]
    },
    {
      "cell_type": "code",
      "metadata": {
        "id": "uLzYTHf5FoRs",
        "colab_type": "code",
        "colab": {}
      },
      "source": [
        "class MIDI_File_Wrapper:\n",
        "  ''' utility wrapper for loading, parsding a mido.MidiFile object'''\n",
        "\n",
        "  # column headers for internal data frame\n",
        "  type_col = 'msg_type'\n",
        "  time_col = 'delta_time'\n",
        "  cum_ticks_col = 'ticks_since_start'\n",
        "  raw_col = 'raw_data'\n",
        "  cum_ms_col = 'seconds_since_start'\n",
        "\n",
        "\n",
        "  def __init__(self, file_name):\n",
        "    self.my_file_name = file_name\n",
        "    self.my_file_midi = None    \n",
        "    self.my_tempo = None  # stored as mido.Message instance\n",
        "    self.my_time_sig = None # stored as mido.Message instance\n",
        "    self.df_midi_data = None\n",
        "\n",
        "\n",
        "    # load & configure file info...\n",
        "    self.parse_file()\n",
        "\n",
        "  # For call to str(). Prints readable form \n",
        "  def __str__(self): \n",
        "    return str('file: {}'.format(self.my_file_midi))\n",
        "    \n",
        "  \n",
        "  def parse_file(self):\n",
        "    ''' file must be: MIDI type 0 only;  one and only one tempo and time_sig meta messages in file. '''\n",
        "\n",
        "    print('__ FILE: {}'.format(self.my_file_name))\n",
        "\n",
        "    # load file\n",
        "    midi_file = MidiFile(self.my_file_name)\n",
        "    self.my_file_midi = midi_file \n",
        "\n",
        "    # make sure it's MIDI type 0 (single track) ...\n",
        "    if midi_file.type != 0:\n",
        "      raise ValueError('ERROR! Can only process type 0 files, this file is type: {}'.format(midi_file.type))\n",
        "\n",
        "    print('tracks: {}'.format(midi_file.tracks))\n",
        "\n",
        "    # another check for single track ...\n",
        "    if len(midi_file.tracks) != 1:\n",
        "      raise ValueError('ERROR! Need a single MIDI track, this file has: {}, {}'.format(midi_file.tracks, midi_file))\n",
        "\n",
        "    # parse messages for time_sig and tempo info ..\n",
        "    for msg in midi_file:\n",
        "\n",
        "      if msg.type == 'time_signature':\n",
        "        print('time sig: {}'.format(msg))\n",
        "\n",
        "        # make sure no time sig changes\n",
        "        if self.my_time_sig != None:\n",
        "          raise ValueError('ERROR! more than one time sig: {}, {}'.format(self.my_time_sig, msg))\n",
        "      \n",
        "        self.my_time_sig = msg\n",
        "\n",
        "      elif msg.type == 'set_tempo':\n",
        "\n",
        "        print('tempo: {}'.format(msg))\n",
        "\n",
        "        # make sure no tempo changes\n",
        "        if self.my_tempo != None:\n",
        "          raise ValueError('ERROR! more than one tempo: {}, {}'.format(self.my_tempo, msg))\n",
        "        \n",
        "        self.my_tempo = msg\n",
        "\n",
        "    # now check we actually have tempo and time_sig set, or complain...\n",
        "    if self.my_time_sig is None:\n",
        "      raise ValueError('ERROR! no time signature found: {}'.format(midi_file))\n",
        "    if self.my_tempo is None:\n",
        "      raise ValueError('ERROR! no tempo found: {}'.format(midi_file))\n",
        "\n",
        "    # load messages into DF\n",
        "    self.load_df()\n",
        "\n",
        "    # additional processing, e.g. cum_sum for clicks, milliseconds from start, etc\n",
        "\n",
        "  def tempo_ms(self):\n",
        "    \"\"\"returns tempo in milliseconds\"\"\"\n",
        "    return self.my_tempo.tempo\n",
        "\n",
        "  def tempo_bpm(self):\n",
        "    return mido.tempo2bpm(self.tempo_ms())\n",
        "\n",
        "  def ticks(self):\n",
        "    ''' Returns number of MIDI ticks configured in this file'''\n",
        "    return self.my_file_midi.ticks_per_beat\n",
        "\n",
        "  def length(self):\n",
        "    ''' returns running time in seconds'''\n",
        "    return self.my_file_midi.length\n",
        "\n",
        "  def msg_counts(self):\n",
        "    ''' handy for debug '''\n",
        "    return self.df_midi_data['msg_type'].value_counts()\n",
        "\n",
        "\n",
        "  def calculate_seconds(self, ticks_since_start):\n",
        "    \"\"\"takes elapsed ticks since start of files, returns \n",
        "        position in file in seconds\"\"\"\n",
        "    # ticks and tempo saved from file loading time..\n",
        "    return mido.tick2second(ticks_since_start, self.ticks(), self.tempo_ms())\n",
        "\n",
        "\n",
        "  def __row_to_seconds(self, row):\n",
        "    return self.calculate_seconds(row[self.cum_ticks_col])\n",
        "\n",
        "\n",
        "  def load_df(self):\n",
        "    df_setup = []\n",
        "\n",
        "    for msg in self.my_file_midi.tracks[0]:\n",
        "      df_setup.append(\n",
        "          {\n",
        "              self.type_col: msg.dict()['type'],\n",
        "              self.time_col: msg.dict()['time'],\n",
        "              self.raw_col:  str(msg.dict())\n",
        "          } \n",
        "      )\n",
        "      \n",
        "    df_tmp = pd.DataFrame(df_setup)\n",
        "\n",
        "    # tweak data types, change from 'object' columns to 'string'  ...\n",
        "    df_tmp[self.type_col] = df_tmp[self.type_col].astype('string')\n",
        "    df_tmp[self.raw_col] = df_tmp[self.raw_col].astype('string')\n",
        "\n",
        "    # add cumulative tick count column, used to store a running total\n",
        "    # giving time a message appears in the performance/ MIDI file.\n",
        "    df_tmp[self.cum_ticks_col] = df_tmp[self.time_col].cumsum()\n",
        "\n",
        "    # add cumulative milliseconds from start of file\n",
        "    # NOTE: this timing needs to be recalculated if the tempo\n",
        "    #         is ever changed!!!\n",
        "    df_tmp[self.cum_ms_col] = df_tmp.apply(self.__row_to_seconds, axis=1)\n",
        "  \n",
        "    # store final df\n",
        "    self.df_midi_data = df_tmp\n",
        "\n",
        "    \n"
      ],
      "execution_count": 0,
      "outputs": []
    },
    {
      "cell_type": "markdown",
      "metadata": {
        "id": "kKbh1NOfQNQf",
        "colab_type": "text"
      },
      "source": [
        "## Testing the above class...\n"
      ]
    },
    {
      "cell_type": "code",
      "metadata": {
        "id": "rSZgPqlZ1cZA",
        "colab_type": "code",
        "outputId": "94497c6b-32e0-42d6-a605-6cb8087f27cc",
        "colab": {
          "base_uri": "https://localhost:8080/",
          "height": 85
        }
      },
      "source": [
        "# test loading single file..\n",
        "file_1 = '/content/drive/My Drive/groove-v1.0.0-midionly/groove/drummer1/eval_session/1_funk-groove1_138_beat_4-4.mid'\n",
        "mfw = MIDI_File_Wrapper(file_1)\n"
      ],
      "execution_count": 5,
      "outputs": [
        {
          "output_type": "stream",
          "text": [
            "__ FILE: /content/drive/My Drive/groove-v1.0.0-midionly/groove/drummer1/eval_session/1_funk-groove1_138_beat_4-4.mid\n",
            "tracks: [<midi track 'MIDI' 1300 messages>]\n",
            "time sig: <meta message time_signature numerator=4 denominator=4 clocks_per_click=24 notated_32nd_notes_per_beat=8 time=0>\n",
            "tempo: <meta message set_tempo tempo=434783 time=0>\n"
          ],
          "name": "stdout"
        }
      ]
    },
    {
      "cell_type": "code",
      "metadata": {
        "id": "G4CdPV2gQMth",
        "colab_type": "code",
        "outputId": "08518a8c-741d-4c17-d419-affa4678740c",
        "colab": {
          "base_uri": "https://localhost:8080/",
          "height": 1000
        }
      },
      "source": [
        "# take a look at what we got..\n",
        "mfw.df_midi_data.info()\n",
        "mfw.df_midi_data.tail(10)\n",
        "mfw.df_midi_data\n",
        "print('file length in seconds: {}'.format(mfw.length()))\n",
        "print('tempo in ms: {}'.format(mfw.tempo_ms()))\n",
        "print('tempo in bpm: {}'.format(mfw.tempo_bpm()))\n"
      ],
      "execution_count": 6,
      "outputs": [
        {
          "output_type": "stream",
          "text": [
            "<class 'pandas.core.frame.DataFrame'>\n",
            "RangeIndex: 1300 entries, 0 to 1299\n",
            "Data columns (total 5 columns):\n",
            " #   Column               Non-Null Count  Dtype  \n",
            "---  ------               --------------  -----  \n",
            " 0   msg_type             1300 non-null   string \n",
            " 1   delta_time           1300 non-null   int64  \n",
            " 2   raw_data             1300 non-null   string \n",
            " 3   ticks_since_start    1300 non-null   int64  \n",
            " 4   seconds_since_start  1300 non-null   float64\n",
            "dtypes: float64(1), int64(2), string(2)\n",
            "memory usage: 50.9 KB\n"
          ],
          "name": "stdout"
        },
        {
          "output_type": "execute_result",
          "data": {
            "text/html": [
              "<div>\n",
              "<style scoped>\n",
              "    .dataframe tbody tr th:only-of-type {\n",
              "        vertical-align: middle;\n",
              "    }\n",
              "\n",
              "    .dataframe tbody tr th {\n",
              "        vertical-align: top;\n",
              "    }\n",
              "\n",
              "    .dataframe thead th {\n",
              "        text-align: right;\n",
              "    }\n",
              "</style>\n",
              "<table border=\"1\" class=\"dataframe\">\n",
              "  <thead>\n",
              "    <tr style=\"text-align: right;\">\n",
              "      <th></th>\n",
              "      <th>msg_type</th>\n",
              "      <th>delta_time</th>\n",
              "      <th>raw_data</th>\n",
              "      <th>ticks_since_start</th>\n",
              "      <th>seconds_since_start</th>\n",
              "    </tr>\n",
              "  </thead>\n",
              "  <tbody>\n",
              "    <tr>\n",
              "      <th>1290</th>\n",
              "      <td>note_on</td>\n",
              "      <td>106</td>\n",
              "      <td>{'type': 'note_on', 'time': 106, 'note': 38, '...</td>\n",
              "      <td>30448</td>\n",
              "      <td>27.579735</td>\n",
              "    </tr>\n",
              "    <tr>\n",
              "      <th>1291</th>\n",
              "      <td>note_on</td>\n",
              "      <td>4</td>\n",
              "      <td>{'type': 'note_on', 'time': 4, 'note': 51, 've...</td>\n",
              "      <td>30452</td>\n",
              "      <td>27.583358</td>\n",
              "    </tr>\n",
              "    <tr>\n",
              "      <th>1292</th>\n",
              "      <td>note_off</td>\n",
              "      <td>107</td>\n",
              "      <td>{'type': 'note_off', 'time': 107, 'note': 38, ...</td>\n",
              "      <td>30559</td>\n",
              "      <td>27.680279</td>\n",
              "    </tr>\n",
              "    <tr>\n",
              "      <th>1293</th>\n",
              "      <td>note_off</td>\n",
              "      <td>4</td>\n",
              "      <td>{'type': 'note_off', 'time': 4, 'note': 51, 'v...</td>\n",
              "      <td>30563</td>\n",
              "      <td>27.683902</td>\n",
              "    </tr>\n",
              "    <tr>\n",
              "      <th>1294</th>\n",
              "      <td>control_change</td>\n",
              "      <td>51</td>\n",
              "      <td>{'type': 'control_change', 'time': 51, 'contro...</td>\n",
              "      <td>30614</td>\n",
              "      <td>27.730097</td>\n",
              "    </tr>\n",
              "    <tr>\n",
              "      <th>1295</th>\n",
              "      <td>control_change</td>\n",
              "      <td>44</td>\n",
              "      <td>{'type': 'control_change', 'time': 44, 'contro...</td>\n",
              "      <td>30658</td>\n",
              "      <td>27.769953</td>\n",
              "    </tr>\n",
              "    <tr>\n",
              "      <th>1296</th>\n",
              "      <td>note_on</td>\n",
              "      <td>0</td>\n",
              "      <td>{'type': 'note_on', 'time': 0, 'note': 44, 've...</td>\n",
              "      <td>30658</td>\n",
              "      <td>27.769953</td>\n",
              "    </tr>\n",
              "    <tr>\n",
              "      <th>1297</th>\n",
              "      <td>control_change</td>\n",
              "      <td>36</td>\n",
              "      <td>{'type': 'control_change', 'time': 36, 'contro...</td>\n",
              "      <td>30694</td>\n",
              "      <td>27.802561</td>\n",
              "    </tr>\n",
              "    <tr>\n",
              "      <th>1298</th>\n",
              "      <td>note_off</td>\n",
              "      <td>77</td>\n",
              "      <td>{'type': 'note_off', 'time': 77, 'note': 44, '...</td>\n",
              "      <td>30771</td>\n",
              "      <td>27.872308</td>\n",
              "    </tr>\n",
              "    <tr>\n",
              "      <th>1299</th>\n",
              "      <td>end_of_track</td>\n",
              "      <td>0</td>\n",
              "      <td>{'type': 'end_of_track', 'time': 0}</td>\n",
              "      <td>30771</td>\n",
              "      <td>27.872308</td>\n",
              "    </tr>\n",
              "  </tbody>\n",
              "</table>\n",
              "</div>"
            ],
            "text/plain": [
              "            msg_type  delta_time  ... ticks_since_start  seconds_since_start\n",
              "1290         note_on         106  ...             30448            27.579735\n",
              "1291         note_on           4  ...             30452            27.583358\n",
              "1292        note_off         107  ...             30559            27.680279\n",
              "1293        note_off           4  ...             30563            27.683902\n",
              "1294  control_change          51  ...             30614            27.730097\n",
              "1295  control_change          44  ...             30658            27.769953\n",
              "1296         note_on           0  ...             30658            27.769953\n",
              "1297  control_change          36  ...             30694            27.802561\n",
              "1298        note_off          77  ...             30771            27.872308\n",
              "1299    end_of_track           0  ...             30771            27.872308\n",
              "\n",
              "[10 rows x 5 columns]"
            ]
          },
          "metadata": {
            "tags": []
          },
          "execution_count": 6
        },
        {
          "output_type": "execute_result",
          "data": {
            "text/html": [
              "<div>\n",
              "<style scoped>\n",
              "    .dataframe tbody tr th:only-of-type {\n",
              "        vertical-align: middle;\n",
              "    }\n",
              "\n",
              "    .dataframe tbody tr th {\n",
              "        vertical-align: top;\n",
              "    }\n",
              "\n",
              "    .dataframe thead th {\n",
              "        text-align: right;\n",
              "    }\n",
              "</style>\n",
              "<table border=\"1\" class=\"dataframe\">\n",
              "  <thead>\n",
              "    <tr style=\"text-align: right;\">\n",
              "      <th></th>\n",
              "      <th>msg_type</th>\n",
              "      <th>delta_time</th>\n",
              "      <th>raw_data</th>\n",
              "      <th>ticks_since_start</th>\n",
              "      <th>seconds_since_start</th>\n",
              "    </tr>\n",
              "  </thead>\n",
              "  <tbody>\n",
              "    <tr>\n",
              "      <th>0</th>\n",
              "      <td>track_name</td>\n",
              "      <td>0</td>\n",
              "      <td>{'type': 'track_name', 'name': 'MIDI', 'time': 0}</td>\n",
              "      <td>0</td>\n",
              "      <td>0.000000</td>\n",
              "    </tr>\n",
              "    <tr>\n",
              "      <th>1</th>\n",
              "      <td>instrument_name</td>\n",
              "      <td>0</td>\n",
              "      <td>{'type': 'instrument_name', 'name': 'Brooklyn'...</td>\n",
              "      <td>0</td>\n",
              "      <td>0.000000</td>\n",
              "    </tr>\n",
              "    <tr>\n",
              "      <th>2</th>\n",
              "      <td>time_signature</td>\n",
              "      <td>0</td>\n",
              "      <td>{'type': 'time_signature', 'numerator': 4, 'de...</td>\n",
              "      <td>0</td>\n",
              "      <td>0.000000</td>\n",
              "    </tr>\n",
              "    <tr>\n",
              "      <th>3</th>\n",
              "      <td>key_signature</td>\n",
              "      <td>0</td>\n",
              "      <td>{'type': 'key_signature', 'key': 'C', 'time': 0}</td>\n",
              "      <td>0</td>\n",
              "      <td>0.000000</td>\n",
              "    </tr>\n",
              "    <tr>\n",
              "      <th>4</th>\n",
              "      <td>smpte_offset</td>\n",
              "      <td>0</td>\n",
              "      <td>{'type': 'smpte_offset', 'frame_rate': 24, 'ho...</td>\n",
              "      <td>0</td>\n",
              "      <td>0.000000</td>\n",
              "    </tr>\n",
              "    <tr>\n",
              "      <th>...</th>\n",
              "      <td>...</td>\n",
              "      <td>...</td>\n",
              "      <td>...</td>\n",
              "      <td>...</td>\n",
              "      <td>...</td>\n",
              "    </tr>\n",
              "    <tr>\n",
              "      <th>1295</th>\n",
              "      <td>control_change</td>\n",
              "      <td>44</td>\n",
              "      <td>{'type': 'control_change', 'time': 44, 'contro...</td>\n",
              "      <td>30658</td>\n",
              "      <td>27.769953</td>\n",
              "    </tr>\n",
              "    <tr>\n",
              "      <th>1296</th>\n",
              "      <td>note_on</td>\n",
              "      <td>0</td>\n",
              "      <td>{'type': 'note_on', 'time': 0, 'note': 44, 've...</td>\n",
              "      <td>30658</td>\n",
              "      <td>27.769953</td>\n",
              "    </tr>\n",
              "    <tr>\n",
              "      <th>1297</th>\n",
              "      <td>control_change</td>\n",
              "      <td>36</td>\n",
              "      <td>{'type': 'control_change', 'time': 36, 'contro...</td>\n",
              "      <td>30694</td>\n",
              "      <td>27.802561</td>\n",
              "    </tr>\n",
              "    <tr>\n",
              "      <th>1298</th>\n",
              "      <td>note_off</td>\n",
              "      <td>77</td>\n",
              "      <td>{'type': 'note_off', 'time': 77, 'note': 44, '...</td>\n",
              "      <td>30771</td>\n",
              "      <td>27.872308</td>\n",
              "    </tr>\n",
              "    <tr>\n",
              "      <th>1299</th>\n",
              "      <td>end_of_track</td>\n",
              "      <td>0</td>\n",
              "      <td>{'type': 'end_of_track', 'time': 0}</td>\n",
              "      <td>30771</td>\n",
              "      <td>27.872308</td>\n",
              "    </tr>\n",
              "  </tbody>\n",
              "</table>\n",
              "<p>1300 rows × 5 columns</p>\n",
              "</div>"
            ],
            "text/plain": [
              "             msg_type  delta_time  ... ticks_since_start  seconds_since_start\n",
              "0          track_name           0  ...                 0             0.000000\n",
              "1     instrument_name           0  ...                 0             0.000000\n",
              "2      time_signature           0  ...                 0             0.000000\n",
              "3       key_signature           0  ...                 0             0.000000\n",
              "4        smpte_offset           0  ...                 0             0.000000\n",
              "...               ...         ...  ...               ...                  ...\n",
              "1295   control_change          44  ...             30658            27.769953\n",
              "1296          note_on           0  ...             30658            27.769953\n",
              "1297   control_change          36  ...             30694            27.802561\n",
              "1298         note_off          77  ...             30771            27.872308\n",
              "1299     end_of_track           0  ...             30771            27.872308\n",
              "\n",
              "[1300 rows x 5 columns]"
            ]
          },
          "metadata": {
            "tags": []
          },
          "execution_count": 6
        },
        {
          "output_type": "stream",
          "text": [
            "file length in seconds: 27.872307693749978\n",
            "tempo in ms: 434783\n",
            "tempo in bpm: 137.99987580011177\n"
          ],
          "name": "stdout"
        }
      ]
    },
    {
      "cell_type": "markdown",
      "metadata": {
        "id": "lVz_YlgT6ASh",
        "colab_type": "text"
      },
      "source": [
        "## Test loading lots of files, creating lots of custom objects..\n",
        "\n"
      ]
    },
    {
      "cell_type": "code",
      "metadata": {
        "id": "iK8tGsJy337K",
        "colab_type": "code",
        "outputId": "0280389e-51bf-4c51-efb7-22dbce6d2b75",
        "colab": {
          "base_uri": "https://localhost:8080/",
          "height": 85
        }
      },
      "source": [
        "# testing parsing sub directory..\n",
        "\n",
        "# reminder: /content/drive/My Drive/groove-v1.0.0-midionly/groove/drummer1/eval_session/\n",
        "\n",
        "import os\n",
        "\n",
        "for dirpath, dirs, files in os.walk('/content/drive/My Drive/groove-v1.0.0-midionly/groove/drummer1/'):\n",
        "  for f in files:\n",
        "    print('in subdir: {}, first file: {}'.format(dirpath, f)) \n",
        "    break\n",
        "\n",
        " "
      ],
      "execution_count": 7,
      "outputs": [
        {
          "output_type": "stream",
          "text": [
            "in subdir: /content/drive/My Drive/groove-v1.0.0-midionly/groove/drummer1/session2, first file: 4_jazz_120_beat_3-4.mid\n",
            "in subdir: /content/drive/My Drive/groove-v1.0.0-midionly/groove/drummer1/session3, first file: 6_dance-disco_120_beat_4-4.mid\n",
            "in subdir: /content/drive/My Drive/groove-v1.0.0-midionly/groove/drummer1/eval_session, first file: 1_funk-groove1_138_beat_4-4.mid\n",
            "in subdir: /content/drive/My Drive/groove-v1.0.0-midionly/groove/drummer1/session1, first file: 123_funk_95_fill_4-4.mid\n"
          ],
          "name": "stdout"
        }
      ]
    },
    {
      "cell_type": "code",
      "metadata": {
        "id": "1KzIWC5o5Zg8",
        "colab_type": "code",
        "outputId": "a62396f8-3211-4551-808a-f7c855b8b671",
        "colab": {
          "base_uri": "https://localhost:8080/",
          "height": 204
        }
      },
      "source": [
        "import glob\n",
        "\n",
        "root_dir = '/content/drive/My Drive/groove-v1.0.0-midionly/groove/drummer1/eval_session/'\n",
        "#root_dir = '/content/drive/My Drive/groove-v1.0.0-midionly/groove/drummer1/session1/'\n",
        "\n",
        "# recursively find all MIDI files..\n",
        "my_files = []\n",
        "for filename in glob.iglob(root_dir + '**/*.mid', recursive=True):\n",
        "  my_files.append(filename)\n",
        "\n",
        "# show what I found\n",
        "my_files\n",
        "print()\n",
        "print('total # files: {}'.format(len(my_files)))\n"
      ],
      "execution_count": 8,
      "outputs": [
        {
          "output_type": "execute_result",
          "data": {
            "text/plain": [
              "['/content/drive/My Drive/groove-v1.0.0-midionly/groove/drummer1/eval_session/1_funk-groove1_138_beat_4-4.mid',\n",
              " '/content/drive/My Drive/groove-v1.0.0-midionly/groove/drummer1/eval_session/2_funk-groove2_105_beat_4-4.mid',\n",
              " '/content/drive/My Drive/groove-v1.0.0-midionly/groove/drummer1/eval_session/10_soul-groove10_102_beat_4-4.mid',\n",
              " '/content/drive/My Drive/groove-v1.0.0-midionly/groove/drummer1/eval_session/4_soul-groove4_80_beat_4-4.mid',\n",
              " '/content/drive/My Drive/groove-v1.0.0-midionly/groove/drummer1/eval_session/6_hiphop-groove6_87_beat_4-4.mid',\n",
              " '/content/drive/My Drive/groove-v1.0.0-midionly/groove/drummer1/eval_session/8_rock-groove8_65_beat_4-4.mid',\n",
              " '/content/drive/My Drive/groove-v1.0.0-midionly/groove/drummer1/eval_session/3_soul-groove3_86_beat_4-4.mid',\n",
              " '/content/drive/My Drive/groove-v1.0.0-midionly/groove/drummer1/eval_session/9_soul-groove9_105_beat_4-4.mid',\n",
              " '/content/drive/My Drive/groove-v1.0.0-midionly/groove/drummer1/eval_session/5_funk-groove5_84_beat_4-4.mid',\n",
              " '/content/drive/My Drive/groove-v1.0.0-midionly/groove/drummer1/eval_session/7_pop-groove7_138_beat_4-4.mid']"
            ]
          },
          "metadata": {
            "tags": []
          },
          "execution_count": 8
        },
        {
          "output_type": "stream",
          "text": [
            "\n",
            "total # files: 10\n"
          ],
          "name": "stdout"
        }
      ]
    },
    {
      "cell_type": "markdown",
      "metadata": {
        "id": "SsGBVjL_92nL",
        "colab_type": "text"
      },
      "source": [
        "## Test creating lots of custom objects.."
      ]
    },
    {
      "cell_type": "markdown",
      "metadata": {
        "id": "WtN103Ae9XpP",
        "colab_type": "text"
      },
      "source": [
        "On creating a MIDI_File_Wrapper instance, a bunch of testing is performed, so the following is a good test to check a whole bunch of files at once to confirm bulk loading works, and to verify the files themselves meet criteria checked during loading.."
      ]
    },
    {
      "cell_type": "code",
      "metadata": {
        "id": "VYkE4unu7AMG",
        "colab_type": "code",
        "outputId": "028675d7-d5d3-4ad4-9d5b-9da7613b4717",
        "colab": {
          "base_uri": "https://localhost:8080/",
          "height": 731
        }
      },
      "source": [
        "\n",
        "my_midi_files = []\n",
        "\n",
        "for f in my_files:\n",
        "  next_midi = MIDI_File_Wrapper(f)\n",
        "  #print(next_midi.df_midi_data.info())\n",
        "  my_midi_files.append(next_midi)\n",
        "  \n",
        "print('')\n",
        "print('TOTAL NUM OBJECTS CREATED: {}'.format(len(my_midi_files)))"
      ],
      "execution_count": 9,
      "outputs": [
        {
          "output_type": "stream",
          "text": [
            "__ FILE: /content/drive/My Drive/groove-v1.0.0-midionly/groove/drummer1/eval_session/1_funk-groove1_138_beat_4-4.mid\n",
            "tracks: [<midi track 'MIDI' 1300 messages>]\n",
            "time sig: <meta message time_signature numerator=4 denominator=4 clocks_per_click=24 notated_32nd_notes_per_beat=8 time=0>\n",
            "tempo: <meta message set_tempo tempo=434783 time=0>\n",
            "__ FILE: /content/drive/My Drive/groove-v1.0.0-midionly/groove/drummer1/eval_session/2_funk-groove2_105_beat_4-4.mid\n",
            "tracks: [<midi track 'MIDI' 829 messages>]\n",
            "time sig: <meta message time_signature numerator=4 denominator=4 clocks_per_click=24 notated_32nd_notes_per_beat=8 time=0>\n",
            "tempo: <meta message set_tempo tempo=571429 time=0>\n",
            "__ FILE: /content/drive/My Drive/groove-v1.0.0-midionly/groove/drummer1/eval_session/10_soul-groove10_102_beat_4-4.mid\n",
            "tracks: [<midi track 'MIDI' 639 messages>]\n",
            "time sig: <meta message time_signature numerator=4 denominator=4 clocks_per_click=24 notated_32nd_notes_per_beat=8 time=0>\n",
            "tempo: <meta message set_tempo tempo=588235 time=0>\n",
            "__ FILE: /content/drive/My Drive/groove-v1.0.0-midionly/groove/drummer1/eval_session/4_soul-groove4_80_beat_4-4.mid\n",
            "tracks: [<midi track 'MIDI' 626 messages>]\n",
            "time sig: <meta message time_signature numerator=4 denominator=4 clocks_per_click=24 notated_32nd_notes_per_beat=8 time=0>\n",
            "tempo: <meta message set_tempo tempo=750000 time=0>\n",
            "__ FILE: /content/drive/My Drive/groove-v1.0.0-midionly/groove/drummer1/eval_session/6_hiphop-groove6_87_beat_4-4.mid\n",
            "tracks: [<midi track 'MIDI' 971 messages>]\n",
            "time sig: <meta message time_signature numerator=4 denominator=4 clocks_per_click=24 notated_32nd_notes_per_beat=8 time=0>\n",
            "tempo: <meta message set_tempo tempo=689655 time=0>\n",
            "__ FILE: /content/drive/My Drive/groove-v1.0.0-midionly/groove/drummer1/eval_session/8_rock-groove8_65_beat_4-4.mid\n",
            "tracks: [<midi track 'MIDI' 600 messages>]\n",
            "time sig: <meta message time_signature numerator=4 denominator=4 clocks_per_click=24 notated_32nd_notes_per_beat=8 time=0>\n",
            "tempo: <meta message set_tempo tempo=923077 time=0>\n",
            "__ FILE: /content/drive/My Drive/groove-v1.0.0-midionly/groove/drummer1/eval_session/3_soul-groove3_86_beat_4-4.mid\n",
            "tracks: [<midi track 'MIDI' 1179 messages>]\n",
            "time sig: <meta message time_signature numerator=4 denominator=4 clocks_per_click=24 notated_32nd_notes_per_beat=8 time=0>\n",
            "tempo: <meta message set_tempo tempo=697674 time=0>\n",
            "__ FILE: /content/drive/My Drive/groove-v1.0.0-midionly/groove/drummer1/eval_session/9_soul-groove9_105_beat_4-4.mid\n",
            "tracks: [<midi track 'MIDI' 937 messages>]\n",
            "time sig: <meta message time_signature numerator=4 denominator=4 clocks_per_click=24 notated_32nd_notes_per_beat=8 time=0>\n",
            "tempo: <meta message set_tempo tempo=571429 time=0>\n",
            "__ FILE: /content/drive/My Drive/groove-v1.0.0-midionly/groove/drummer1/eval_session/5_funk-groove5_84_beat_4-4.mid\n",
            "tracks: [<midi track 'MIDI' 984 messages>]\n",
            "time sig: <meta message time_signature numerator=4 denominator=4 clocks_per_click=24 notated_32nd_notes_per_beat=8 time=0>\n",
            "tempo: <meta message set_tempo tempo=714286 time=0>\n",
            "__ FILE: /content/drive/My Drive/groove-v1.0.0-midionly/groove/drummer1/eval_session/7_pop-groove7_138_beat_4-4.mid\n",
            "tracks: [<midi track 'MIDI' 491 messages>]\n",
            "time sig: <meta message time_signature numerator=4 denominator=4 clocks_per_click=24 notated_32nd_notes_per_beat=8 time=0>\n",
            "tempo: <meta message set_tempo tempo=434783 time=0>\n",
            "\n",
            "TOTAL NUM OBJECTS CREATED: 10\n"
          ],
          "name": "stdout"
        }
      ]
    }
  ]
}