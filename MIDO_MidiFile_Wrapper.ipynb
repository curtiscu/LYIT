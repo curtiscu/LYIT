{
  "nbformat": 4,
  "nbformat_minor": 0,
  "metadata": {
    "colab": {
      "name": "MIDO_MidiFile_Wrapper.ipynb",
      "provenance": [],
      "collapsed_sections": [],
      "authorship_tag": "ABX9TyMwINH74x539ebF3bo3DQQT",
      "include_colab_link": true
    },
    "kernelspec": {
      "name": "python3",
      "display_name": "Python 3"
    }
  },
  "cells": [
    {
      "cell_type": "markdown",
      "metadata": {
        "id": "view-in-github",
        "colab_type": "text"
      },
      "source": [
        "<a href=\"https://colab.research.google.com/github/curtiscu/LYIT/blob/master/MIDO_MidiFile_Wrapper.ipynb\" target=\"_parent\"><img src=\"https://colab.research.google.com/assets/colab-badge.svg\" alt=\"Open In Colab\"/></a>"
      ]
    },
    {
      "cell_type": "markdown",
      "metadata": {
        "id": "pbngqRVgFm4H",
        "colab_type": "text"
      },
      "source": [
        "# Feature extraction work\n",
        "\n",
        "Re-write of MIDO MIDI file work using python objects"
      ]
    },
    {
      "cell_type": "code",
      "metadata": {
        "id": "gBzxZXkIHI0q",
        "colab_type": "code",
        "colab": {}
      },
      "source": [
        "# install required libs\n",
        "!pip install mido\n"
      ],
      "execution_count": 0,
      "outputs": []
    },
    {
      "cell_type": "code",
      "metadata": {
        "id": "ue_PXcc8FYCD",
        "colab_type": "code",
        "colab": {}
      },
      "source": [
        "# setup env\n",
        "\n",
        "# print all cell output\n",
        "from IPython.core.interactiveshell import InteractiveShell\n",
        "InteractiveShell.ast_node_interactivity = \"all\"\n",
        "\n",
        "# imports\n",
        "import pandas as pd\n",
        "import mido \n",
        "from mido import MidiFile\n",
        "\n"
      ],
      "execution_count": 0,
      "outputs": []
    },
    {
      "cell_type": "code",
      "metadata": {
        "id": "uLzYTHf5FoRs",
        "colab_type": "code",
        "colab": {}
      },
      "source": [
        "class MIDI_File_Wrapper:\n",
        "\n",
        "  def __init__(self, file_name):\n",
        "    self.my_file = file_name\n",
        "    "
      ],
      "execution_count": 0,
      "outputs": []
    }
  ]
}