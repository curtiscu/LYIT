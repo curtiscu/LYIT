{
  "nbformat": 4,
  "nbformat_minor": 0,
  "metadata": {
    "colab": {
      "name": "MIDO_MidiFile_Wrapper.ipynb",
      "provenance": [],
      "collapsed_sections": [],
      "toc_visible": true,
      "authorship_tag": "ABX9TyPsbPYfErthLLzATv0pEqk0",
      "include_colab_link": true
    },
    "kernelspec": {
      "name": "python3",
      "display_name": "Python 3"
    }
  },
  "cells": [
    {
      "cell_type": "markdown",
      "metadata": {
        "id": "view-in-github",
        "colab_type": "text"
      },
      "source": [
        "<a href=\"https://colab.research.google.com/github/curtiscu/LYIT/blob/master/MIDO_MidiFile_Wrapper.ipynb\" target=\"_parent\"><img src=\"https://colab.research.google.com/assets/colab-badge.svg\" alt=\"Open In Colab\"/></a>"
      ]
    },
    {
      "cell_type": "markdown",
      "metadata": {
        "id": "pbngqRVgFm4H",
        "colab_type": "text"
      },
      "source": [
        "# MIDI tools, and file loading using MIDO library\n",
        "\n",
        "Re-write of MIDO MIDI file work using python objects"
      ]
    },
    {
      "cell_type": "markdown",
      "metadata": {
        "id": "6BZ2zuQZIDtE",
        "colab_type": "text"
      },
      "source": [
        "# Setup notebook env"
      ]
    },
    {
      "cell_type": "code",
      "metadata": {
        "id": "nFo6ACFEHxxm",
        "colab_type": "code",
        "outputId": "ee23a69c-af13-45d1-acfd-103a732bfd75",
        "colab": {
          "base_uri": "https://localhost:8080/",
          "height": 309
        }
      },
      "source": [
        "# mount google drive\n",
        "\n",
        "from google.colab import drive\n",
        "drive.mount('/content/drive', force_remount=True)\n",
        "\n",
        "# test ..\n",
        "! ls -al '/content/drive/My Drive/groove-v1.0.0-midionly/groove/drummer1/eval_session/'"
      ],
      "execution_count": 1,
      "outputs": [
        {
          "output_type": "stream",
          "text": [
            "Go to this URL in a browser: https://accounts.google.com/o/oauth2/auth?client_id=947318989803-6bn6qk8qdgf4n4g3pfee6491hc0brc4i.apps.googleusercontent.com&redirect_uri=urn%3aietf%3awg%3aoauth%3a2.0%3aoob&response_type=code&scope=email%20https%3a%2f%2fwww.googleapis.com%2fauth%2fdocs.test%20https%3a%2f%2fwww.googleapis.com%2fauth%2fdrive%20https%3a%2f%2fwww.googleapis.com%2fauth%2fdrive.photos.readonly%20https%3a%2f%2fwww.googleapis.com%2fauth%2fpeopleapi.readonly\n",
            "\n",
            "Enter your authorization code:\n",
            "··········\n",
            "Mounted at /content/drive\n",
            "total 35\n",
            "-rw------- 1 root root 2589 Apr 27 12:01 10_soul-groove10_102_beat_4-4.mid\n",
            "-rw------- 1 root root 4793 Apr 27 12:01 1_funk-groove1_138_beat_4-4.mid\n",
            "-rw------- 1 root root 3243 Apr 27 12:01 2_funk-groove2_105_beat_4-4.mid\n",
            "-rw------- 1 root root 4466 Apr 27 12:01 3_soul-groove3_86_beat_4-4.mid\n",
            "-rw------- 1 root root 2551 Apr 27 12:01 4_soul-groove4_80_beat_4-4.mid\n",
            "-rw------- 1 root root 3798 Apr 27 12:01 5_funk-groove5_84_beat_4-4.mid\n",
            "-rw------- 1 root root 3760 Apr 27 12:01 6_hiphop-groove6_87_beat_4-4.mid\n",
            "-rw------- 1 root root 1894 Apr 27 12:01 7_pop-groove7_138_beat_4-4.mid\n",
            "-rw------- 1 root root 2437 Apr 27 12:01 8_rock-groove8_65_beat_4-4.mid\n",
            "-rw------- 1 root root 3448 Apr 27 12:01 9_soul-groove9_105_beat_4-4.mid\n"
          ],
          "name": "stdout"
        }
      ]
    },
    {
      "cell_type": "code",
      "metadata": {
        "id": "gBzxZXkIHI0q",
        "colab_type": "code",
        "outputId": "f588ea8f-828e-45c3-bffe-12c5997768e9",
        "colab": {
          "base_uri": "https://localhost:8080/",
          "height": 122
        }
      },
      "source": [
        "# install required libs\n",
        "!pip install mido\n"
      ],
      "execution_count": 2,
      "outputs": [
        {
          "output_type": "stream",
          "text": [
            "Collecting mido\n",
            "\u001b[?25l  Downloading https://files.pythonhosted.org/packages/20/0a/81beb587b1ae832ea6a1901dc7c6faa380e8dd154e0a862f0a9f3d2afab9/mido-1.2.9-py2.py3-none-any.whl (52kB)\n",
            "\r\u001b[K     |██████▎                         | 10kB 16.5MB/s eta 0:00:01\r\u001b[K     |████████████▌                   | 20kB 2.2MB/s eta 0:00:01\r\u001b[K     |██████████████████▊             | 30kB 3.2MB/s eta 0:00:01\r\u001b[K     |█████████████████████████       | 40kB 3.8MB/s eta 0:00:01\r\u001b[K     |███████████████████████████████▏| 51kB 2.7MB/s eta 0:00:01\r\u001b[K     |████████████████████████████████| 61kB 2.3MB/s \n",
            "\u001b[?25hInstalling collected packages: mido\n",
            "Successfully installed mido-1.2.9\n"
          ],
          "name": "stdout"
        }
      ]
    },
    {
      "cell_type": "code",
      "metadata": {
        "id": "ue_PXcc8FYCD",
        "colab_type": "code",
        "colab": {}
      },
      "source": [
        "\n",
        "# print all cell output\n",
        "from IPython.core.interactiveshell import InteractiveShell\n",
        "InteractiveShell.ast_node_interactivity = \"all\"\n",
        "\n",
        "# imports\n",
        "import pandas as pd\n",
        "import mido \n",
        "from mido import MidiFile\n"
      ],
      "execution_count": 0,
      "outputs": []
    },
    {
      "cell_type": "markdown",
      "metadata": {
        "id": "NpCARkB80W93",
        "colab_type": "text"
      },
      "source": [
        "# Some MIDI tools"
      ]
    },
    {
      "cell_type": "markdown",
      "metadata": {
        "id": "OpyblKIbjSxi",
        "colab_type": "text"
      },
      "source": [
        "## Note mapping to MIDI GM percussion instruments"
      ]
    },
    {
      "cell_type": "code",
      "metadata": {
        "id": "VuZfMNLgjkfx",
        "colab_type": "code",
        "outputId": "aeb72a1f-c36f-410f-f54a-c5da523a7896",
        "colab": {
          "base_uri": "https://localhost:8080/",
          "height": 853
        }
      },
      "source": [
        "''''\n",
        "this code deployed, make sure to add any changes here ...\n",
        "https://github.com/curtiscu/LYIT/blob/master/data_prep.py\n",
        "'''\n",
        "class MidiTools:\n",
        "  '''\n",
        "  Convert to/ from MIDI notes to percussion instrumentz\n",
        "  As per..\n",
        "    * http://www.midi.org/techspecs/gm1sound.php\n",
        "    * https://en.wikipedia.org/wiki/General_MIDI#Percussion\n",
        "  '''\n",
        "\n",
        "  note2Instrument = { 35: \"Acoustic Bass Drum\",\n",
        "                36: \"Bass Drum 1\",\n",
        "                37: \"Side Stick\", \n",
        "                38: \"Acoustic Snare\",\n",
        "                39: \"Hand Clap\",\n",
        "                40: \"Electric Snare\",\n",
        "                41: \"Low Floor Tom\",\n",
        "                42: \"Closed Hi Hat\",\n",
        "                43: \"High Floor Tom\",\n",
        "                44: \"Pedal Hi-Hat\",\n",
        "                45: \"Low Tom\",\n",
        "                46: \"Open Hi-Hat\",\n",
        "                47: \"Low-Mid Tom\",\n",
        "                48: \"Hi-Mid Tom\",\n",
        "                49: \"Crash Cymbal 1\",\n",
        "                50: \"High Tom\",\n",
        "                51: \"Ride Cymbal 1\",\n",
        "                52: \"Chinese Cymbal\",\n",
        "                53: \"Ride Bell\",\n",
        "                54: \"Tambourine\",\n",
        "                55: \"Splash Cymbal\",\n",
        "                56: \"Cowbell\",\n",
        "                57: \"Crash Cymbal 2\",\n",
        "                58: \"Vibraslap\",\n",
        "                59: \"Ride Cymbal 2\",\n",
        "                60: \"Hi Bongo\",\n",
        "                61: \"Low Bongo\",\n",
        "                62: \"Mute Hi Conga\",\n",
        "                63: \"Open Hi Conga\",\n",
        "                64: \"Low Conga\",\n",
        "                65: \"High Timbale\",\n",
        "                66: \"Low Timbale\",\n",
        "                67: \"High Agogo\",\n",
        "                68: \"Low Agogo\",\n",
        "                69: \"Cabasa\",\n",
        "                70: \"Maracas\",\n",
        "                71: \"Short Whistle\",\n",
        "                72: \"Long Whistle\",\n",
        "                73: \"Short Guiro\",\n",
        "                74: \"Long Guiro\",\n",
        "                75: \"Claves\",\n",
        "                76: \"Hi Wood Block\",\n",
        "                77: \"Low Wood Block\",\n",
        "                78: \"Mute Cuica\",\n",
        "                79: \"Open Cuica\",\n",
        "                80: \"Mute Triangle\",\n",
        "                81: \"Open Triangle\" }\n",
        "  \n",
        "  def mapInstrument(midi_note):\n",
        "    '''\n",
        "    Takes MIDI note number, returns None if not found, otherwise \n",
        "    returns a string name of the percussion instrument\n",
        "    '''\n",
        "    answer = None\n",
        "    if midi_note in MidiTools.note2Instrument:\n",
        "      answer = MidiTools.note2Instrument[midi_note]\n",
        "\n",
        "    return answer\n",
        "\n",
        "  def getInstruments(instrument_list):\n",
        "    '''\n",
        "    Takes a list of MIDI numeric notes, returns a list\n",
        "    of string names of instruments played on this track\n",
        "    '''\n",
        "    # NOTE: concise notation copied from https://stackoverflow.com/a/38702484\n",
        "    return [*map(MidiTools.mapInstrument, instrument_list)]\n",
        "    \n",
        "  def getInstruments2(instrument_list):\n",
        "\n",
        "    good = {}\n",
        "    bad = []\n",
        "\n",
        "    for next in instrument_list:\n",
        "      if next in MidiTools.note2Instrument:\n",
        "        good[next] = MidiTools.note2Instrument[next]\n",
        "      else:\n",
        "        bad.append(next)\n",
        "\n",
        "    return good, bad\n",
        "\n",
        "\n",
        "# take a look at what's we've done so far..\n",
        "display(MidiTools.note2Instrument)\n"
      ],
      "execution_count": 4,
      "outputs": [
        {
          "output_type": "execute_result",
          "data": {
            "text/plain": [
              "\"'\\nthis code deployed, make sure to add any changes here ...\\nhttps://github.com/curtiscu/LYIT/blob/master/data_prep.py\\n\""
            ]
          },
          "metadata": {
            "tags": []
          },
          "execution_count": 4
        },
        {
          "output_type": "display_data",
          "data": {
            "text/plain": [
              "{35: 'Acoustic Bass Drum',\n",
              " 36: 'Bass Drum 1',\n",
              " 37: 'Side Stick',\n",
              " 38: 'Acoustic Snare',\n",
              " 39: 'Hand Clap',\n",
              " 40: 'Electric Snare',\n",
              " 41: 'Low Floor Tom',\n",
              " 42: 'Closed Hi Hat',\n",
              " 43: 'High Floor Tom',\n",
              " 44: 'Pedal Hi-Hat',\n",
              " 45: 'Low Tom',\n",
              " 46: 'Open Hi-Hat',\n",
              " 47: 'Low-Mid Tom',\n",
              " 48: 'Hi-Mid Tom',\n",
              " 49: 'Crash Cymbal 1',\n",
              " 50: 'High Tom',\n",
              " 51: 'Ride Cymbal 1',\n",
              " 52: 'Chinese Cymbal',\n",
              " 53: 'Ride Bell',\n",
              " 54: 'Tambourine',\n",
              " 55: 'Splash Cymbal',\n",
              " 56: 'Cowbell',\n",
              " 57: 'Crash Cymbal 2',\n",
              " 58: 'Vibraslap',\n",
              " 59: 'Ride Cymbal 2',\n",
              " 60: 'Hi Bongo',\n",
              " 61: 'Low Bongo',\n",
              " 62: 'Mute Hi Conga',\n",
              " 63: 'Open Hi Conga',\n",
              " 64: 'Low Conga',\n",
              " 65: 'High Timbale',\n",
              " 66: 'Low Timbale',\n",
              " 67: 'High Agogo',\n",
              " 68: 'Low Agogo',\n",
              " 69: 'Cabasa',\n",
              " 70: 'Maracas',\n",
              " 71: 'Short Whistle',\n",
              " 72: 'Long Whistle',\n",
              " 73: 'Short Guiro',\n",
              " 74: 'Long Guiro',\n",
              " 75: 'Claves',\n",
              " 76: 'Hi Wood Block',\n",
              " 77: 'Low Wood Block',\n",
              " 78: 'Mute Cuica',\n",
              " 79: 'Open Cuica',\n",
              " 80: 'Mute Triangle',\n",
              " 81: 'Open Triangle'}"
            ]
          },
          "metadata": {
            "tags": []
          }
        }
      ]
    },
    {
      "cell_type": "code",
      "metadata": {
        "id": "m6J4FMcLzs5K",
        "colab_type": "code",
        "outputId": "6af853ef-490e-4c66-996c-fdc3239150a0",
        "colab": {
          "base_uri": "https://localhost:8080/",
          "height": 34
        }
      },
      "source": [
        "# testing method\n",
        "note = 52.0\n",
        "print('Testing, check perc table for {}: {}'. format(note, MidiTools.mapInstrument(note)))"
      ],
      "execution_count": 5,
      "outputs": [
        {
          "output_type": "stream",
          "text": [
            "Testing, check perc table for 52.0: Chinese Cymbal\n"
          ],
          "name": "stdout"
        }
      ]
    },
    {
      "cell_type": "markdown",
      "metadata": {
        "id": "vDX150-2lGGa",
        "colab_type": "text"
      },
      "source": [
        "## MIDI Dataset note mapping\n",
        "\n",
        "From: https://magenta.tensorflow.org/datasets/groove#drum-mapping\n",
        "\n",
        "\"The Groove MIDI Dataset (GMD) is composed of 13.6 hours of aligned MIDI and (synthesized) audio of human-performed, tempo-aligned expressive drumming. .. The Roland TD-11 used to record the performances in MIDI uses some pitch values that differ from the General MIDI (GM) Specifications. Below we show how the Roland mapping compares to GM. Please take note of these discrepancies during playback and training. The final column shows the simplified mapping we used ...\"\n",
        "\n",
        "The changes to MIDI note mapping required for the 'Groove MIDI' dataset are as follows...\n",
        "- MIDI note #22 and #26 used for hi-hat strikes, these are outside the MIDI spec\n",
        "- multiple notes used to capture different surfaces of the same instrument, e.g. 5 for hi hat, and 3 for snare. "
      ]
    },
    {
      "cell_type": "code",
      "metadata": {
        "id": "ZCaYh9mEotUs",
        "colab_type": "code",
        "colab": {}
      },
      "source": [
        "web_tables = pd.read_html(\"https://magenta.tensorflow.org/datasets/groove#drum-mapping\")"
      ],
      "execution_count": 0,
      "outputs": []
    },
    {
      "cell_type": "code",
      "metadata": {
        "id": "_7WGvq_ioKLr",
        "colab_type": "code",
        "outputId": "1e8f5987-9c7f-4ffe-9726-785f5dc62942",
        "colab": {
          "base_uri": "https://localhost:8080/",
          "height": 442
        }
      },
      "source": [
        "print('number of tables: {}'.format(len(web_tables)))\n",
        "print(\"here's #1 ...\")\n",
        "print(web_tables[1])"
      ],
      "execution_count": 7,
      "outputs": [
        {
          "output_type": "stream",
          "text": [
            "number of tables: 3\n",
            "here's #1 ...\n",
            "    Pitch    Roland Mapping      GM Mapping        Paper Mapping  Frequency\n",
            "0      36              Kick     Bass Drum 1            Bass (36)      88067\n",
            "1      38      Snare (Head)  Acoustic Snare           Snare (38)     102787\n",
            "2      40       Snare (Rim)  Electric Snare           Snare (38)      22262\n",
            "3      37     Snare X-Stick      Side Stick           Snare (38)       9696\n",
            "4      48             Tom 1      Hi-Mid Tom        High Tom (50)      13145\n",
            "5      50       Tom 1 (Rim)        High Tom        High Tom (50)       1561\n",
            "6      45             Tom 2         Low Tom     Low-Mid Tom (47)       3935\n",
            "7      47       Tom 2 (Rim)     Low-Mid Tom     Low-Mid Tom (47)       1322\n",
            "8      43      Tom 3 (Head)  High Floor Tom  High Floor Tom (43)      11260\n",
            "9      58       Tom 3 (Rim)       Vibraslap  High Floor Tom (43)       1003\n",
            "10     46     HH Open (Bow)     Open Hi-Hat     Open Hi-Hat (46)       3905\n",
            "11     26    HH Open (Edge)             NaN     Open Hi-Hat (46)      10243\n",
            "12     42   HH Closed (Bow)   Closed Hi-Hat   Closed Hi-Hat (42)      31691\n",
            "13     22  HH Closed (Edge)             NaN   Closed Hi-Hat (42)      34764\n",
            "14     44          HH Pedal    Pedal Hi-Hat   Closed Hi-Hat (42)      52343\n",
            "15     49     Crash 1 (Bow)  Crash Cymbal 1    Crash Cymbal (49)        720\n",
            "16     55    Crash 1 (Edge)   Splash Cymbal    Crash Cymbal (49)       5567\n",
            "17     57     Crash 2 (Bow)  Crash Cymbal 2    Crash Cymbal (49)       1832\n",
            "18     52    Crash 2 (Edge)  Chinese Cymbal    Crash Cymbal (49)       1046\n",
            "19     51        Ride (Bow)   Ride Cymbal 1     Ride Cymbal (51)      43847\n",
            "20     59       Ride (Edge)   Ride Cymbal 2     Ride Cymbal (51)       2220\n",
            "21     53       Ride (Bell)       Ride Bell     Ride Cymbal (51)       5567\n"
          ],
          "name": "stdout"
        }
      ]
    },
    {
      "cell_type": "markdown",
      "metadata": {
        "id": "-1rbU6eArXl8",
        "colab_type": "text"
      },
      "source": [
        "Was handy to grab using excel and do a bit of data wrangling splitting 'MapTo..' column..\n"
      ]
    },
    {
      "cell_type": "code",
      "metadata": {
        "id": "jpRcg6orqoUQ",
        "colab_type": "code",
        "outputId": "1e05983f-a8ce-4659-d25f-7230a2d4ceb3",
        "colab": {
          "base_uri": "https://localhost:8080/",
          "height": 731
        }
      },
      "source": [
        "mappings_df = pd.read_csv('/content/drive/My Drive/groove-v1.0.0-midionly/groove/GrooveMidiMappings.csv')\n",
        "mappings_df"
      ],
      "execution_count": 8,
      "outputs": [
        {
          "output_type": "execute_result",
          "data": {
            "text/html": [
              "<div>\n",
              "<style scoped>\n",
              "    .dataframe tbody tr th:only-of-type {\n",
              "        vertical-align: middle;\n",
              "    }\n",
              "\n",
              "    .dataframe tbody tr th {\n",
              "        vertical-align: top;\n",
              "    }\n",
              "\n",
              "    .dataframe thead th {\n",
              "        text-align: right;\n",
              "    }\n",
              "</style>\n",
              "<table border=\"1\" class=\"dataframe\">\n",
              "  <thead>\n",
              "    <tr style=\"text-align: right;\">\n",
              "      <th></th>\n",
              "      <th>Pitch</th>\n",
              "      <th>Roland Mapping</th>\n",
              "      <th>GM Mapping</th>\n",
              "      <th>MapToName</th>\n",
              "      <th>MapToNote</th>\n",
              "    </tr>\n",
              "  </thead>\n",
              "  <tbody>\n",
              "    <tr>\n",
              "      <th>0</th>\n",
              "      <td>36</td>\n",
              "      <td>Kick</td>\n",
              "      <td>Bass Drum 1</td>\n",
              "      <td>Bass</td>\n",
              "      <td>36</td>\n",
              "    </tr>\n",
              "    <tr>\n",
              "      <th>1</th>\n",
              "      <td>38</td>\n",
              "      <td>Snare (Head)</td>\n",
              "      <td>Acoustic Snare</td>\n",
              "      <td>Snare</td>\n",
              "      <td>38</td>\n",
              "    </tr>\n",
              "    <tr>\n",
              "      <th>2</th>\n",
              "      <td>40</td>\n",
              "      <td>Snare (Rim)</td>\n",
              "      <td>Electric Snare</td>\n",
              "      <td>Snare</td>\n",
              "      <td>38</td>\n",
              "    </tr>\n",
              "    <tr>\n",
              "      <th>3</th>\n",
              "      <td>37</td>\n",
              "      <td>Snare X-Stick</td>\n",
              "      <td>Side Stick</td>\n",
              "      <td>Snare</td>\n",
              "      <td>38</td>\n",
              "    </tr>\n",
              "    <tr>\n",
              "      <th>4</th>\n",
              "      <td>48</td>\n",
              "      <td>Tom 1</td>\n",
              "      <td>Hi-Mid Tom</td>\n",
              "      <td>High Tom</td>\n",
              "      <td>50</td>\n",
              "    </tr>\n",
              "    <tr>\n",
              "      <th>5</th>\n",
              "      <td>50</td>\n",
              "      <td>Tom 1 (Rim)</td>\n",
              "      <td>High Tom</td>\n",
              "      <td>High Tom</td>\n",
              "      <td>50</td>\n",
              "    </tr>\n",
              "    <tr>\n",
              "      <th>6</th>\n",
              "      <td>45</td>\n",
              "      <td>Tom 2</td>\n",
              "      <td>Low Tom</td>\n",
              "      <td>Low-Mid Tom</td>\n",
              "      <td>47</td>\n",
              "    </tr>\n",
              "    <tr>\n",
              "      <th>7</th>\n",
              "      <td>47</td>\n",
              "      <td>Tom 2 (Rim)</td>\n",
              "      <td>Low-Mid Tom</td>\n",
              "      <td>Low-Mid Tom</td>\n",
              "      <td>47</td>\n",
              "    </tr>\n",
              "    <tr>\n",
              "      <th>8</th>\n",
              "      <td>43</td>\n",
              "      <td>Tom 3 (Head)</td>\n",
              "      <td>High Floor Tom</td>\n",
              "      <td>High Floor Tom</td>\n",
              "      <td>43</td>\n",
              "    </tr>\n",
              "    <tr>\n",
              "      <th>9</th>\n",
              "      <td>58</td>\n",
              "      <td>Tom 3 (Rim)</td>\n",
              "      <td>Vibraslap</td>\n",
              "      <td>High Floor Tom</td>\n",
              "      <td>43</td>\n",
              "    </tr>\n",
              "    <tr>\n",
              "      <th>10</th>\n",
              "      <td>46</td>\n",
              "      <td>HH Open (Bow)</td>\n",
              "      <td>Open Hi-Hat</td>\n",
              "      <td>Open Hi-Hat</td>\n",
              "      <td>46</td>\n",
              "    </tr>\n",
              "    <tr>\n",
              "      <th>11</th>\n",
              "      <td>26</td>\n",
              "      <td>HH Open (Edge)</td>\n",
              "      <td>NaN</td>\n",
              "      <td>Open Hi-Hat</td>\n",
              "      <td>46</td>\n",
              "    </tr>\n",
              "    <tr>\n",
              "      <th>12</th>\n",
              "      <td>42</td>\n",
              "      <td>HH Closed (Bow)</td>\n",
              "      <td>Closed Hi-Hat</td>\n",
              "      <td>Closed Hi-Hat</td>\n",
              "      <td>42</td>\n",
              "    </tr>\n",
              "    <tr>\n",
              "      <th>13</th>\n",
              "      <td>22</td>\n",
              "      <td>HH Closed (Edge)</td>\n",
              "      <td>NaN</td>\n",
              "      <td>Closed Hi-Hat</td>\n",
              "      <td>42</td>\n",
              "    </tr>\n",
              "    <tr>\n",
              "      <th>14</th>\n",
              "      <td>44</td>\n",
              "      <td>HH Pedal</td>\n",
              "      <td>Pedal Hi-Hat</td>\n",
              "      <td>Closed Hi-Hat</td>\n",
              "      <td>42</td>\n",
              "    </tr>\n",
              "    <tr>\n",
              "      <th>15</th>\n",
              "      <td>49</td>\n",
              "      <td>Crash 1 (Bow)</td>\n",
              "      <td>Crash Cymbal 1</td>\n",
              "      <td>Crash Cymbal</td>\n",
              "      <td>49</td>\n",
              "    </tr>\n",
              "    <tr>\n",
              "      <th>16</th>\n",
              "      <td>55</td>\n",
              "      <td>Crash 1 (Edge)</td>\n",
              "      <td>Splash Cymbal</td>\n",
              "      <td>Crash Cymbal</td>\n",
              "      <td>49</td>\n",
              "    </tr>\n",
              "    <tr>\n",
              "      <th>17</th>\n",
              "      <td>57</td>\n",
              "      <td>Crash 2 (Bow)</td>\n",
              "      <td>Crash Cymbal 2</td>\n",
              "      <td>Crash Cymbal</td>\n",
              "      <td>49</td>\n",
              "    </tr>\n",
              "    <tr>\n",
              "      <th>18</th>\n",
              "      <td>52</td>\n",
              "      <td>Crash 2 (Edge)</td>\n",
              "      <td>Chinese Cymbal</td>\n",
              "      <td>Crash Cymbal</td>\n",
              "      <td>49</td>\n",
              "    </tr>\n",
              "    <tr>\n",
              "      <th>19</th>\n",
              "      <td>51</td>\n",
              "      <td>Ride (Bow)</td>\n",
              "      <td>Ride Cymbal 1</td>\n",
              "      <td>Ride Cymbal</td>\n",
              "      <td>51</td>\n",
              "    </tr>\n",
              "    <tr>\n",
              "      <th>20</th>\n",
              "      <td>59</td>\n",
              "      <td>Ride (Edge)</td>\n",
              "      <td>Ride Cymbal 2</td>\n",
              "      <td>Ride Cymbal</td>\n",
              "      <td>51</td>\n",
              "    </tr>\n",
              "    <tr>\n",
              "      <th>21</th>\n",
              "      <td>53</td>\n",
              "      <td>Ride (Bell)</td>\n",
              "      <td>Ride Bell</td>\n",
              "      <td>Ride Cymbal</td>\n",
              "      <td>51</td>\n",
              "    </tr>\n",
              "  </tbody>\n",
              "</table>\n",
              "</div>"
            ],
            "text/plain": [
              "    Pitch    Roland Mapping      GM Mapping        MapToName  MapToNote\n",
              "0      36              Kick     Bass Drum 1            Bass          36\n",
              "1      38      Snare (Head)  Acoustic Snare           Snare          38\n",
              "2      40       Snare (Rim)  Electric Snare           Snare          38\n",
              "3      37     Snare X-Stick      Side Stick           Snare          38\n",
              "4      48             Tom 1      Hi-Mid Tom        High Tom          50\n",
              "5      50       Tom 1 (Rim)        High Tom        High Tom          50\n",
              "6      45             Tom 2         Low Tom     Low-Mid Tom          47\n",
              "7      47       Tom 2 (Rim)     Low-Mid Tom     Low-Mid Tom          47\n",
              "8      43      Tom 3 (Head)  High Floor Tom  High Floor Tom          43\n",
              "9      58       Tom 3 (Rim)       Vibraslap  High Floor Tom          43\n",
              "10     46     HH Open (Bow)     Open Hi-Hat     Open Hi-Hat          46\n",
              "11     26    HH Open (Edge)             NaN     Open Hi-Hat          46\n",
              "12     42   HH Closed (Bow)   Closed Hi-Hat   Closed Hi-Hat          42\n",
              "13     22  HH Closed (Edge)             NaN   Closed Hi-Hat          42\n",
              "14     44          HH Pedal    Pedal Hi-Hat   Closed Hi-Hat          42\n",
              "15     49     Crash 1 (Bow)  Crash Cymbal 1    Crash Cymbal          49\n",
              "16     55    Crash 1 (Edge)   Splash Cymbal    Crash Cymbal          49\n",
              "17     57     Crash 2 (Bow)  Crash Cymbal 2    Crash Cymbal          49\n",
              "18     52    Crash 2 (Edge)  Chinese Cymbal    Crash Cymbal          49\n",
              "19     51        Ride (Bow)   Ride Cymbal 1     Ride Cymbal          51\n",
              "20     59       Ride (Edge)   Ride Cymbal 2     Ride Cymbal          51\n",
              "21     53       Ride (Bell)       Ride Bell     Ride Cymbal          51"
            ]
          },
          "metadata": {
            "tags": []
          },
          "execution_count": 8
        }
      ]
    },
    {
      "cell_type": "markdown",
      "metadata": {
        "id": "NusMpMErz3RX",
        "colab_type": "text"
      },
      "source": [
        "## Note mapping structure"
      ]
    },
    {
      "cell_type": "markdown",
      "metadata": {
        "id": "4r_nPP6tsGhQ",
        "colab_type": "text"
      },
      "source": [
        "Remapping appears to be so common...\n",
        "* https://stackoverflow.com/a/41678874\n",
        "* https://stackoverflow.com/a/49259581\n"
      ]
    },
    {
      "cell_type": "code",
      "metadata": {
        "id": "mKe5HHWLsVIo",
        "colab_type": "code",
        "outputId": "6de01c6b-f559-45a8-b7e6-55a5d14d518e",
        "colab": {
          "base_uri": "https://localhost:8080/",
          "height": 391
        }
      },
      "source": [
        "# extract just the 2 columns we need\n",
        "mappings_filtered_df = mappings_df[['Pitch','MapToNote']]\n",
        "\n",
        "# create a dictionary from df columns..\n",
        "mappings_dict = mappings_filtered_df.set_index('Pitch').to_dict()['MapToNote']\n",
        "\n",
        "mappings_dict"
      ],
      "execution_count": 9,
      "outputs": [
        {
          "output_type": "execute_result",
          "data": {
            "text/plain": [
              "{22: 42,\n",
              " 26: 46,\n",
              " 36: 36,\n",
              " 37: 38,\n",
              " 38: 38,\n",
              " 40: 38,\n",
              " 42: 42,\n",
              " 43: 43,\n",
              " 44: 42,\n",
              " 45: 47,\n",
              " 46: 46,\n",
              " 47: 47,\n",
              " 48: 50,\n",
              " 49: 49,\n",
              " 50: 50,\n",
              " 51: 51,\n",
              " 52: 49,\n",
              " 53: 51,\n",
              " 55: 49,\n",
              " 57: 49,\n",
              " 58: 43,\n",
              " 59: 51}"
            ]
          },
          "metadata": {
            "tags": []
          },
          "execution_count": 9
        }
      ]
    },
    {
      "cell_type": "markdown",
      "metadata": {
        "id": "qBnsqxVu0dK2",
        "colab_type": "text"
      },
      "source": [
        "Should now be able to call the following and get the data mapped...\n",
        "`midi_file_wrapper_instance['note'].map(mappings_dict) `"
      ]
    },
    {
      "cell_type": "markdown",
      "metadata": {
        "id": "N8Zaauh_A5YU",
        "colab_type": "text"
      },
      "source": [
        "## GrooveMidiTools class"
      ]
    },
    {
      "cell_type": "code",
      "metadata": {
        "id": "ii7DHISm_2cf",
        "colab_type": "code",
        "colab": {
          "base_uri": "https://localhost:8080/",
          "height": 54
        },
        "outputId": "7ed9c98d-4df1-4c43-a33e-89428b1b9c1f"
      },
      "source": [
        "''''\n",
        "this code deployed, make sure to add any changes here ...\n",
        "https://github.com/curtiscu/LYIT/blob/master/data_prep.py\n",
        "'''\n",
        "class GrooveMidiTools:\n",
        "  '''\n",
        "  tools specifically for working with this dataset\n",
        "  https://magenta.tensorflow.org/datasets/\n",
        "  '''\n",
        "\n",
        "  # mappings taken from https://magenta.tensorflow.org/datasets/groove#drum-mapping\n",
        "  mappings = {22: 42,\n",
        "              26: 46,\n",
        "              36: 36,\n",
        "              37: 38,\n",
        "              38: 38,\n",
        "              40: 38,\n",
        "              42: 42,\n",
        "              43: 43,\n",
        "              44: 42,\n",
        "              45: 47,\n",
        "              46: 46,\n",
        "              47: 47,\n",
        "              48: 50,\n",
        "              49: 49,\n",
        "              50: 50,\n",
        "              51: 51,\n",
        "              52: 49,\n",
        "              53: 51,\n",
        "              55: 49,\n",
        "              57: 49,\n",
        "              58: 43,\n",
        "              59: 51}\n",
        "\n"
      ],
      "execution_count": 10,
      "outputs": [
        {
          "output_type": "execute_result",
          "data": {
            "text/plain": [
              "\"'\\nthis code deployed, make sure to add any changes here ...\\nhttps://github.com/curtiscu/LYIT/blob/master/data_prep.py\\n\""
            ]
          },
          "metadata": {
            "tags": []
          },
          "execution_count": 10
        }
      ]
    },
    {
      "cell_type": "markdown",
      "metadata": {
        "id": "_kAhoZpvIOVS",
        "colab_type": "text"
      },
      "source": [
        "# Python class to wrapper mido.MidiFile objects\n",
        "\n",
        "Need to clean up code, make it re-usable for parsing multiple MIDI file performance files."
      ]
    },
    {
      "cell_type": "markdown",
      "metadata": {
        "id": "NZrJshvgjsMp",
        "colab_type": "text"
      },
      "source": [
        "## Class code: MIDI_File_Wrapper"
      ]
    },
    {
      "cell_type": "markdown",
      "metadata": {
        "id": "tfIepGq7GHWr",
        "colab_type": "text"
      },
      "source": [
        "NOTE: this next cell is the bulk of the work for this notebook, the rest of the cells are mostly testing for it."
      ]
    },
    {
      "cell_type": "code",
      "metadata": {
        "id": "uLzYTHf5FoRs",
        "colab_type": "code",
        "colab": {
          "base_uri": "https://localhost:8080/",
          "height": 54
        },
        "outputId": "2d2ee2b3-cbb2-44a2-d524-3a7dfbdb80c4"
      },
      "source": [
        "''''\n",
        "this code deployed, make sure to add any changes here ...\n",
        "https://github.com/curtiscu/LYIT/blob/master/data_prep.py\n",
        "'''\n",
        "class MIDI_File_Wrapper:\n",
        "  '''\n",
        "  Utility wrapper for loading, parsding a mido.MidiFile object\n",
        "  '''\n",
        "\n",
        "  # column headers for internal data frame \n",
        "  # containing MIDI messages loaded from file\n",
        "  vel_col = 'velocity'\n",
        "  note_col = 'note'\n",
        "  type_col = 'msg_type'\n",
        "  time_col = 'delta_ticks'\n",
        "  cum_ticks_col = 'total_ticks'\n",
        "  raw_col = 'raw_data'\n",
        "  cum_ms_col = 'total_seconds'\n",
        "\n",
        "  # used for setting order of columns in data model df\n",
        "  __column_in_order = [type_col, time_col, cum_ticks_col, cum_ms_col, note_col, vel_col, raw_col]\n",
        "\n",
        "  def __init__(self, file_name, note_map = None):\n",
        "    self.my_file_name = file_name   # string filename\n",
        "    self.my_file_midi = None        # mido.MidiFile instance   \n",
        "    self.my_tempo = None            # stored as mido.Message instance\n",
        "    self.my_time_sig = None         # stored as mido.Message instance\n",
        "    self.df_midi_data = None        # DataFrame holding MIDI messages\n",
        "    self.instruments = None         # list of instruments played in file\n",
        "    self.note_map = note_map        # changes event notes on load\n",
        "\n",
        "    # load file and gather data...\n",
        "    self.parse_file()\n",
        "\n",
        "\n",
        "  # For call to str(). Prints readable form \n",
        "  def __str__(self): \n",
        "    return str('file: {}'.format(self.my_file_midi))\n",
        "\n",
        "  def reset_content(self):\n",
        "    '''\n",
        "    Reloads MIDI file and recreates object, EXCEPT, it doesn't \n",
        "    reset the filters set during object creation\n",
        "    '''\n",
        "    self.my_file_midi = None        # mido.MidiFile instance   \n",
        "    self.my_tempo = None            # stored as mido.Message instance\n",
        "    self.my_time_sig = None         # stored as mido.Message instance\n",
        "    self.df_midi_data = None        # DataFrame holding MIDI messages\n",
        "    self.instruments = None         # list of instruments played in file\n",
        "\n",
        "    # load file and gather data...\n",
        "    self.parse_file()\n",
        "  \n",
        "  def parse_file(self):\n",
        "    '''\n",
        "    File must be: MIDI type 0 only;  one and only one tempo and time_sig meta messages in file. \n",
        "    '''\n",
        "\n",
        "    print('FILE: {}'.format(self.my_file_name))\n",
        "\n",
        "    # load file\n",
        "    midi_file = MidiFile(self.my_file_name)\n",
        "    self.my_file_midi = midi_file \n",
        "\n",
        "    # make sure it's MIDI type 0 (single track) ...\n",
        "    if midi_file.type != 0:\n",
        "      raise ValueError('ERROR! Can only process type 0 files, this file is type: {}'.format(midi_file.type))\n",
        "\n",
        "    print('    tracks: {}'.format(midi_file.tracks))\n",
        "\n",
        "    # another check for single track ...\n",
        "    if len(midi_file.tracks) != 1:\n",
        "      raise ValueError('ERROR! Need a single MIDI track, this file has: {}, {}'.format(midi_file.tracks, midi_file))\n",
        "\n",
        "    # parse messages for time_sig and tempo info ..\n",
        "    for msg in midi_file:\n",
        "\n",
        "      if msg.type == 'time_signature':\n",
        "        print('    time sig: {}'.format(msg))\n",
        "\n",
        "        # make sure no time sig changes\n",
        "        if self.my_time_sig != None:\n",
        "          raise ValueError('ERROR! more than one time sig: {}, {}'.format(self.my_time_sig, msg))\n",
        "      \n",
        "        self.my_time_sig = msg\n",
        "\n",
        "      elif msg.type == 'set_tempo':\n",
        "\n",
        "        print('    tempo: {}'.format(msg))\n",
        "\n",
        "        # make sure no tempo changes\n",
        "        if self.my_tempo != None:\n",
        "          raise ValueError('ERROR! more than one tempo: {}, {}'.format(self.my_tempo, msg))\n",
        "        \n",
        "        self.my_tempo = msg\n",
        "\n",
        "    # now check we actually have tempo and time_sig set, or complain...\n",
        "    if self.my_time_sig is None:\n",
        "      raise ValueError('ERROR! no time signature found: {}'.format(midi_file))\n",
        "    if self.my_tempo is None:\n",
        "      raise ValueError('ERROR! no tempo found: {}'.format(midi_file))\n",
        "\n",
        "    # load MIDI messages from file into DF\n",
        "    self.__load_df()\n",
        "\n",
        "    # quick debug to show instruments in file\n",
        "    good, bad = MidiTools.getInstruments2(self.instruments)\n",
        "    print('    good instruments: {}, {}'.format(len(good), good))\n",
        "    if len(bad) > 0:\n",
        "      print('    ____ ERR! INVALID PERCUSSION INSTRUMENTS: {}, {}'.format(len(bad),bad))\n",
        "\n",
        "\n",
        "  def tempo_us(self):\n",
        "    ''' Tempo in microseconds'''\n",
        "    return self.my_tempo.tempo\n",
        "\n",
        "  def tempo_bpm(self):\n",
        "    ''' Tempo in bpm'''\n",
        "    return mido.tempo2bpm(self.tempo_us())\n",
        "\n",
        "  def ticks(self):\n",
        "    ''' Returns number of MIDI ticks configured in this file'''\n",
        "    return self.my_file_midi.ticks_per_beat\n",
        "\n",
        "  def length(self):\n",
        "    ''' returns running time in seconds'''\n",
        "    return self.my_file_midi.length\n",
        "\n",
        "  def msg_counts(self):\n",
        "    ''' handy for debug '''\n",
        "    return self.df_midi_data['msg_type'].value_counts()\n",
        "\n",
        "  def ts_num(self):\n",
        "    ''' Time signature numerator (top number)'''\n",
        "    return self.my_time_sig.numerator\n",
        "\n",
        "  def ts_denom(self):\n",
        "    ''' Time signature denominator (bottom number) '''\n",
        "    return self.my_time_sig.denominator\n",
        "\n",
        "  def calculate_seconds(self, ticks_since_start):\n",
        "    ''' \n",
        "    Takes elapsed ticks since start of files, returns \n",
        "        position in file in absolute seconds'''\n",
        "\n",
        "    # uses ticks and tempo saved from file loading time..\n",
        "    return mido.tick2second(ticks_since_start, self.ticks(), self.tempo_us())\n",
        "\n",
        "\n",
        "\n",
        "  def __row_to_seconds(self, row):\n",
        "    return self.calculate_seconds(row[self.cum_ticks_col])\n",
        "\n",
        "\n",
        "  def __load_df(self):\n",
        "    df_setup = []\n",
        "\n",
        "    # build df structure from the MIDI file...\n",
        "    for msg in self.my_file_midi.tracks[0]:\n",
        "      df_setup.append(\n",
        "          {\n",
        "              self.type_col: msg.dict()['type'],\n",
        "              self.time_col: msg.dict()['time'],\n",
        "              self.note_col: None if 'note' not in msg.dict() else msg.dict()['note'],\n",
        "              self.vel_col: None if 'velocity' not in msg.dict() else msg.dict()['velocity'],\n",
        "              self.raw_col:  str(msg.dict()) # saves whole message in case needed later\n",
        "          } \n",
        "      )\n",
        "\n",
        "    df_tmp = pd.DataFrame(df_setup)\n",
        "\n",
        "    # tweak data types, change from 'object' columns to 'string'  ...\n",
        "    df_tmp[self.type_col] = df_tmp[self.type_col].astype('string')\n",
        "    df_tmp[self.raw_col] = df_tmp[self.raw_col].astype('string')\n",
        "    \n",
        "    # add cumulative tick count column, used to store a running total\n",
        "    # giving time a message appears in the performance/ MIDI file.\n",
        "    df_tmp[self.cum_ticks_col] = df_tmp[self.time_col].cumsum()\n",
        "\n",
        "    # add cumulative milliseconds from start of file\n",
        "    # NOTE: this timing needs to be recalculated if the tempo\n",
        "    #         is ever changed!!!\n",
        "    df_tmp[self.cum_ms_col] = df_tmp.apply(self.__row_to_seconds, axis=1)\n",
        "\n",
        "    # apply note mappings, store in new column\n",
        "    if self.note_map != None:\n",
        "      df_tmp[self.note_col] = df_tmp[self.note_col].map(self.note_map, na_action='ignore')\n",
        "\n",
        "    # grab list of instruments used in file\n",
        "    drum_stuff = df_tmp.note.unique()\n",
        "    drum_stuff.sort()\n",
        "    self.instruments = drum_stuff[pd.notnull(drum_stuff)]  # filters NaN \n",
        "\n",
        "    # set column order\n",
        "    df_tmp = df_tmp[self.__column_in_order]\n",
        "  \n",
        "    # store final df\n",
        "    self.df_midi_data = df_tmp\n"
      ],
      "execution_count": 11,
      "outputs": [
        {
          "output_type": "execute_result",
          "data": {
            "text/plain": [
              "\"'\\nthis code deployed, make sure to add any changes here ...\\nhttps://github.com/curtiscu/LYIT/blob/master/data_prep.py\\n\""
            ]
          },
          "metadata": {
            "tags": []
          },
          "execution_count": 11
        }
      ]
    },
    {
      "cell_type": "markdown",
      "metadata": {
        "id": "kKbh1NOfQNQf",
        "colab_type": "text"
      },
      "source": [
        "## Test 'MIDI_File_Wrapper' with single file\n",
        "\n",
        "\n"
      ]
    },
    {
      "cell_type": "code",
      "metadata": {
        "id": "rSZgPqlZ1cZA",
        "colab_type": "code",
        "outputId": "3d857414-593e-4878-d041-6089e4fc6a7f",
        "colab": {
          "base_uri": "https://localhost:8080/",
          "height": 207
        }
      },
      "source": [
        "# test loading single file..\n",
        "file_1 = '/content/drive/My Drive/groove-v1.0.0-midionly/groove/drummer1/eval_session/1_funk-groove1_138_beat_4-4.mid'\n",
        "mfw_unmapped = MIDI_File_Wrapper(file_1) # create without mapping\n",
        "mfw = MIDI_File_Wrapper(file_1, GrooveMidiTools.mappings) # create with mapping\n"
      ],
      "execution_count": 12,
      "outputs": [
        {
          "output_type": "stream",
          "text": [
            "FILE: /content/drive/My Drive/groove-v1.0.0-midionly/groove/drummer1/eval_session/1_funk-groove1_138_beat_4-4.mid\n",
            "    tracks: [<midi track 'MIDI' 1300 messages>]\n",
            "    time sig: <meta message time_signature numerator=4 denominator=4 clocks_per_click=24 notated_32nd_notes_per_beat=8 time=0>\n",
            "    tempo: <meta message set_tempo tempo=434783 time=0>\n",
            "    good instruments: 10, {36.0: 'Bass Drum 1', 37.0: 'Side Stick', 38.0: 'Acoustic Snare', 40.0: 'Electric Snare', 43.0: 'High Floor Tom', 44.0: 'Pedal Hi-Hat', 51.0: 'Ride Cymbal 1', 52.0: 'Chinese Cymbal', 53.0: 'Ride Bell', 55.0: 'Splash Cymbal'}\n",
            "FILE: /content/drive/My Drive/groove-v1.0.0-midionly/groove/drummer1/eval_session/1_funk-groove1_138_beat_4-4.mid\n",
            "    tracks: [<midi track 'MIDI' 1300 messages>]\n",
            "    time sig: <meta message time_signature numerator=4 denominator=4 clocks_per_click=24 notated_32nd_notes_per_beat=8 time=0>\n",
            "    tempo: <meta message set_tempo tempo=434783 time=0>\n",
            "    good instruments: 6, {36.0: 'Bass Drum 1', 38.0: 'Acoustic Snare', 42.0: 'Closed Hi Hat', 43.0: 'High Floor Tom', 49.0: 'Crash Cymbal 1', 51.0: 'Ride Cymbal 1'}\n"
          ],
          "name": "stdout"
        }
      ]
    },
    {
      "cell_type": "code",
      "metadata": {
        "id": "tTFfXHC0DD_E",
        "colab_type": "code",
        "outputId": "dc8dfc6e-0659-43fa-91cb-179dddfa9c4e",
        "colab": {
          "base_uri": "https://localhost:8080/",
          "height": 589
        }
      },
      "source": [
        "mfw.df_midi_data"
      ],
      "execution_count": 13,
      "outputs": [
        {
          "output_type": "execute_result",
          "data": {
            "text/html": [
              "<div>\n",
              "<style scoped>\n",
              "    .dataframe tbody tr th:only-of-type {\n",
              "        vertical-align: middle;\n",
              "    }\n",
              "\n",
              "    .dataframe tbody tr th {\n",
              "        vertical-align: top;\n",
              "    }\n",
              "\n",
              "    .dataframe thead th {\n",
              "        text-align: right;\n",
              "    }\n",
              "</style>\n",
              "<table border=\"1\" class=\"dataframe\">\n",
              "  <thead>\n",
              "    <tr style=\"text-align: right;\">\n",
              "      <th></th>\n",
              "      <th>msg_type</th>\n",
              "      <th>delta_ticks</th>\n",
              "      <th>total_ticks</th>\n",
              "      <th>total_seconds</th>\n",
              "      <th>note</th>\n",
              "      <th>velocity</th>\n",
              "      <th>raw_data</th>\n",
              "    </tr>\n",
              "  </thead>\n",
              "  <tbody>\n",
              "    <tr>\n",
              "      <th>0</th>\n",
              "      <td>track_name</td>\n",
              "      <td>0</td>\n",
              "      <td>0</td>\n",
              "      <td>0.000000</td>\n",
              "      <td>NaN</td>\n",
              "      <td>NaN</td>\n",
              "      <td>{'type': 'track_name', 'name': 'MIDI', 'time': 0}</td>\n",
              "    </tr>\n",
              "    <tr>\n",
              "      <th>1</th>\n",
              "      <td>instrument_name</td>\n",
              "      <td>0</td>\n",
              "      <td>0</td>\n",
              "      <td>0.000000</td>\n",
              "      <td>NaN</td>\n",
              "      <td>NaN</td>\n",
              "      <td>{'type': 'instrument_name', 'name': 'Brooklyn'...</td>\n",
              "    </tr>\n",
              "    <tr>\n",
              "      <th>2</th>\n",
              "      <td>time_signature</td>\n",
              "      <td>0</td>\n",
              "      <td>0</td>\n",
              "      <td>0.000000</td>\n",
              "      <td>NaN</td>\n",
              "      <td>NaN</td>\n",
              "      <td>{'type': 'time_signature', 'numerator': 4, 'de...</td>\n",
              "    </tr>\n",
              "    <tr>\n",
              "      <th>3</th>\n",
              "      <td>key_signature</td>\n",
              "      <td>0</td>\n",
              "      <td>0</td>\n",
              "      <td>0.000000</td>\n",
              "      <td>NaN</td>\n",
              "      <td>NaN</td>\n",
              "      <td>{'type': 'key_signature', 'key': 'C', 'time': 0}</td>\n",
              "    </tr>\n",
              "    <tr>\n",
              "      <th>4</th>\n",
              "      <td>smpte_offset</td>\n",
              "      <td>0</td>\n",
              "      <td>0</td>\n",
              "      <td>0.000000</td>\n",
              "      <td>NaN</td>\n",
              "      <td>NaN</td>\n",
              "      <td>{'type': 'smpte_offset', 'frame_rate': 24, 'ho...</td>\n",
              "    </tr>\n",
              "    <tr>\n",
              "      <th>...</th>\n",
              "      <td>...</td>\n",
              "      <td>...</td>\n",
              "      <td>...</td>\n",
              "      <td>...</td>\n",
              "      <td>...</td>\n",
              "      <td>...</td>\n",
              "      <td>...</td>\n",
              "    </tr>\n",
              "    <tr>\n",
              "      <th>1295</th>\n",
              "      <td>control_change</td>\n",
              "      <td>44</td>\n",
              "      <td>30658</td>\n",
              "      <td>27.769953</td>\n",
              "      <td>NaN</td>\n",
              "      <td>NaN</td>\n",
              "      <td>{'type': 'control_change', 'time': 44, 'contro...</td>\n",
              "    </tr>\n",
              "    <tr>\n",
              "      <th>1296</th>\n",
              "      <td>note_on</td>\n",
              "      <td>0</td>\n",
              "      <td>30658</td>\n",
              "      <td>27.769953</td>\n",
              "      <td>42.0</td>\n",
              "      <td>25.0</td>\n",
              "      <td>{'type': 'note_on', 'time': 0, 'note': 44, 've...</td>\n",
              "    </tr>\n",
              "    <tr>\n",
              "      <th>1297</th>\n",
              "      <td>control_change</td>\n",
              "      <td>36</td>\n",
              "      <td>30694</td>\n",
              "      <td>27.802561</td>\n",
              "      <td>NaN</td>\n",
              "      <td>NaN</td>\n",
              "      <td>{'type': 'control_change', 'time': 36, 'contro...</td>\n",
              "    </tr>\n",
              "    <tr>\n",
              "      <th>1298</th>\n",
              "      <td>note_off</td>\n",
              "      <td>77</td>\n",
              "      <td>30771</td>\n",
              "      <td>27.872308</td>\n",
              "      <td>42.0</td>\n",
              "      <td>64.0</td>\n",
              "      <td>{'type': 'note_off', 'time': 77, 'note': 44, '...</td>\n",
              "    </tr>\n",
              "    <tr>\n",
              "      <th>1299</th>\n",
              "      <td>end_of_track</td>\n",
              "      <td>0</td>\n",
              "      <td>30771</td>\n",
              "      <td>27.872308</td>\n",
              "      <td>NaN</td>\n",
              "      <td>NaN</td>\n",
              "      <td>{'type': 'end_of_track', 'time': 0}</td>\n",
              "    </tr>\n",
              "  </tbody>\n",
              "</table>\n",
              "<p>1300 rows × 7 columns</p>\n",
              "</div>"
            ],
            "text/plain": [
              "             msg_type  ...                                           raw_data\n",
              "0          track_name  ...  {'type': 'track_name', 'name': 'MIDI', 'time': 0}\n",
              "1     instrument_name  ...  {'type': 'instrument_name', 'name': 'Brooklyn'...\n",
              "2      time_signature  ...  {'type': 'time_signature', 'numerator': 4, 'de...\n",
              "3       key_signature  ...   {'type': 'key_signature', 'key': 'C', 'time': 0}\n",
              "4        smpte_offset  ...  {'type': 'smpte_offset', 'frame_rate': 24, 'ho...\n",
              "...               ...  ...                                                ...\n",
              "1295   control_change  ...  {'type': 'control_change', 'time': 44, 'contro...\n",
              "1296          note_on  ...  {'type': 'note_on', 'time': 0, 'note': 44, 've...\n",
              "1297   control_change  ...  {'type': 'control_change', 'time': 36, 'contro...\n",
              "1298         note_off  ...  {'type': 'note_off', 'time': 77, 'note': 44, '...\n",
              "1299     end_of_track  ...                {'type': 'end_of_track', 'time': 0}\n",
              "\n",
              "[1300 rows x 7 columns]"
            ]
          },
          "metadata": {
            "tags": []
          },
          "execution_count": 13
        }
      ]
    },
    {
      "cell_type": "code",
      "metadata": {
        "id": "PNllLwDy8389",
        "colab_type": "code",
        "outputId": "996d3d54-40ee-4d84-a20e-cbb91b9ad06f",
        "colab": {
          "base_uri": "https://localhost:8080/",
          "height": 122
        }
      },
      "source": [
        "# test reset function\n",
        "mfw.reset_content()"
      ],
      "execution_count": 14,
      "outputs": [
        {
          "output_type": "stream",
          "text": [
            "FILE: /content/drive/My Drive/groove-v1.0.0-midionly/groove/drummer1/eval_session/1_funk-groove1_138_beat_4-4.mid\n",
            "    tracks: [<midi track 'MIDI' 1300 messages>]\n",
            "    time sig: <meta message time_signature numerator=4 denominator=4 clocks_per_click=24 notated_32nd_notes_per_beat=8 time=0>\n",
            "    tempo: <meta message set_tempo tempo=434783 time=0>\n",
            "    good instruments: 6, {36.0: 'Bass Drum 1', 38.0: 'Acoustic Snare', 42.0: 'Closed Hi Hat', 43.0: 'High Floor Tom', 49.0: 'Crash Cymbal 1', 51.0: 'Ride Cymbal 1'}\n"
          ],
          "name": "stdout"
        }
      ]
    },
    {
      "cell_type": "code",
      "metadata": {
        "id": "f6k2gzZ0DOBk",
        "colab_type": "code",
        "outputId": "f92d7870-be38-4a58-cfcc-685571034f52",
        "colab": {
          "base_uri": "https://localhost:8080/",
          "height": 54
        }
      },
      "source": [
        "# use MidiTools to look at pretty list of instruments\n",
        "print( MidiTools.getInstruments(mfw.instruments))\n"
      ],
      "execution_count": 15,
      "outputs": [
        {
          "output_type": "stream",
          "text": [
            "['Bass Drum 1', 'Acoustic Snare', 'Closed Hi Hat', 'High Floor Tom', 'Crash Cymbal 1', 'Ride Cymbal 1']\n"
          ],
          "name": "stdout"
        }
      ]
    },
    {
      "cell_type": "code",
      "metadata": {
        "id": "G4CdPV2gQMth",
        "colab_type": "code",
        "outputId": "2751e687-68a3-4c56-a1ea-9a991688292b",
        "colab": {
          "base_uri": "https://localhost:8080/",
          "height": 1000
        }
      },
      "source": [
        "# take a look at what we got..\n",
        "mfw.df_midi_data.info()\n",
        "mfw.df_midi_data.tail(10)\n",
        "mfw.df_midi_data\n",
        "print('file length in seconds: {}'.format(mfw.length()))\n",
        "print('tempo in ms: {}'.format(mfw.tempo_us()))\n",
        "print('tempo in bpm: {}'.format(mfw.tempo_bpm()))\n"
      ],
      "execution_count": 16,
      "outputs": [
        {
          "output_type": "stream",
          "text": [
            "<class 'pandas.core.frame.DataFrame'>\n",
            "RangeIndex: 1300 entries, 0 to 1299\n",
            "Data columns (total 7 columns):\n",
            " #   Column         Non-Null Count  Dtype  \n",
            "---  ------         --------------  -----  \n",
            " 0   msg_type       1300 non-null   string \n",
            " 1   delta_ticks    1300 non-null   int64  \n",
            " 2   total_ticks    1300 non-null   int64  \n",
            " 3   total_seconds  1300 non-null   float64\n",
            " 4   note           820 non-null    float64\n",
            " 5   velocity       820 non-null    float64\n",
            " 6   raw_data       1300 non-null   string \n",
            "dtypes: float64(3), int64(2), string(2)\n",
            "memory usage: 71.2 KB\n"
          ],
          "name": "stdout"
        },
        {
          "output_type": "execute_result",
          "data": {
            "text/html": [
              "<div>\n",
              "<style scoped>\n",
              "    .dataframe tbody tr th:only-of-type {\n",
              "        vertical-align: middle;\n",
              "    }\n",
              "\n",
              "    .dataframe tbody tr th {\n",
              "        vertical-align: top;\n",
              "    }\n",
              "\n",
              "    .dataframe thead th {\n",
              "        text-align: right;\n",
              "    }\n",
              "</style>\n",
              "<table border=\"1\" class=\"dataframe\">\n",
              "  <thead>\n",
              "    <tr style=\"text-align: right;\">\n",
              "      <th></th>\n",
              "      <th>msg_type</th>\n",
              "      <th>delta_ticks</th>\n",
              "      <th>total_ticks</th>\n",
              "      <th>total_seconds</th>\n",
              "      <th>note</th>\n",
              "      <th>velocity</th>\n",
              "      <th>raw_data</th>\n",
              "    </tr>\n",
              "  </thead>\n",
              "  <tbody>\n",
              "    <tr>\n",
              "      <th>1290</th>\n",
              "      <td>note_on</td>\n",
              "      <td>106</td>\n",
              "      <td>30448</td>\n",
              "      <td>27.579735</td>\n",
              "      <td>38.0</td>\n",
              "      <td>116.0</td>\n",
              "      <td>{'type': 'note_on', 'time': 106, 'note': 38, '...</td>\n",
              "    </tr>\n",
              "    <tr>\n",
              "      <th>1291</th>\n",
              "      <td>note_on</td>\n",
              "      <td>4</td>\n",
              "      <td>30452</td>\n",
              "      <td>27.583358</td>\n",
              "      <td>51.0</td>\n",
              "      <td>74.0</td>\n",
              "      <td>{'type': 'note_on', 'time': 4, 'note': 51, 've...</td>\n",
              "    </tr>\n",
              "    <tr>\n",
              "      <th>1292</th>\n",
              "      <td>note_off</td>\n",
              "      <td>107</td>\n",
              "      <td>30559</td>\n",
              "      <td>27.680279</td>\n",
              "      <td>38.0</td>\n",
              "      <td>64.0</td>\n",
              "      <td>{'type': 'note_off', 'time': 107, 'note': 38, ...</td>\n",
              "    </tr>\n",
              "    <tr>\n",
              "      <th>1293</th>\n",
              "      <td>note_off</td>\n",
              "      <td>4</td>\n",
              "      <td>30563</td>\n",
              "      <td>27.683902</td>\n",
              "      <td>51.0</td>\n",
              "      <td>64.0</td>\n",
              "      <td>{'type': 'note_off', 'time': 4, 'note': 51, 'v...</td>\n",
              "    </tr>\n",
              "    <tr>\n",
              "      <th>1294</th>\n",
              "      <td>control_change</td>\n",
              "      <td>51</td>\n",
              "      <td>30614</td>\n",
              "      <td>27.730097</td>\n",
              "      <td>NaN</td>\n",
              "      <td>NaN</td>\n",
              "      <td>{'type': 'control_change', 'time': 51, 'contro...</td>\n",
              "    </tr>\n",
              "    <tr>\n",
              "      <th>1295</th>\n",
              "      <td>control_change</td>\n",
              "      <td>44</td>\n",
              "      <td>30658</td>\n",
              "      <td>27.769953</td>\n",
              "      <td>NaN</td>\n",
              "      <td>NaN</td>\n",
              "      <td>{'type': 'control_change', 'time': 44, 'contro...</td>\n",
              "    </tr>\n",
              "    <tr>\n",
              "      <th>1296</th>\n",
              "      <td>note_on</td>\n",
              "      <td>0</td>\n",
              "      <td>30658</td>\n",
              "      <td>27.769953</td>\n",
              "      <td>42.0</td>\n",
              "      <td>25.0</td>\n",
              "      <td>{'type': 'note_on', 'time': 0, 'note': 44, 've...</td>\n",
              "    </tr>\n",
              "    <tr>\n",
              "      <th>1297</th>\n",
              "      <td>control_change</td>\n",
              "      <td>36</td>\n",
              "      <td>30694</td>\n",
              "      <td>27.802561</td>\n",
              "      <td>NaN</td>\n",
              "      <td>NaN</td>\n",
              "      <td>{'type': 'control_change', 'time': 36, 'contro...</td>\n",
              "    </tr>\n",
              "    <tr>\n",
              "      <th>1298</th>\n",
              "      <td>note_off</td>\n",
              "      <td>77</td>\n",
              "      <td>30771</td>\n",
              "      <td>27.872308</td>\n",
              "      <td>42.0</td>\n",
              "      <td>64.0</td>\n",
              "      <td>{'type': 'note_off', 'time': 77, 'note': 44, '...</td>\n",
              "    </tr>\n",
              "    <tr>\n",
              "      <th>1299</th>\n",
              "      <td>end_of_track</td>\n",
              "      <td>0</td>\n",
              "      <td>30771</td>\n",
              "      <td>27.872308</td>\n",
              "      <td>NaN</td>\n",
              "      <td>NaN</td>\n",
              "      <td>{'type': 'end_of_track', 'time': 0}</td>\n",
              "    </tr>\n",
              "  </tbody>\n",
              "</table>\n",
              "</div>"
            ],
            "text/plain": [
              "            msg_type  ...                                           raw_data\n",
              "1290         note_on  ...  {'type': 'note_on', 'time': 106, 'note': 38, '...\n",
              "1291         note_on  ...  {'type': 'note_on', 'time': 4, 'note': 51, 've...\n",
              "1292        note_off  ...  {'type': 'note_off', 'time': 107, 'note': 38, ...\n",
              "1293        note_off  ...  {'type': 'note_off', 'time': 4, 'note': 51, 'v...\n",
              "1294  control_change  ...  {'type': 'control_change', 'time': 51, 'contro...\n",
              "1295  control_change  ...  {'type': 'control_change', 'time': 44, 'contro...\n",
              "1296         note_on  ...  {'type': 'note_on', 'time': 0, 'note': 44, 've...\n",
              "1297  control_change  ...  {'type': 'control_change', 'time': 36, 'contro...\n",
              "1298        note_off  ...  {'type': 'note_off', 'time': 77, 'note': 44, '...\n",
              "1299    end_of_track  ...                {'type': 'end_of_track', 'time': 0}\n",
              "\n",
              "[10 rows x 7 columns]"
            ]
          },
          "metadata": {
            "tags": []
          },
          "execution_count": 16
        },
        {
          "output_type": "execute_result",
          "data": {
            "text/html": [
              "<div>\n",
              "<style scoped>\n",
              "    .dataframe tbody tr th:only-of-type {\n",
              "        vertical-align: middle;\n",
              "    }\n",
              "\n",
              "    .dataframe tbody tr th {\n",
              "        vertical-align: top;\n",
              "    }\n",
              "\n",
              "    .dataframe thead th {\n",
              "        text-align: right;\n",
              "    }\n",
              "</style>\n",
              "<table border=\"1\" class=\"dataframe\">\n",
              "  <thead>\n",
              "    <tr style=\"text-align: right;\">\n",
              "      <th></th>\n",
              "      <th>msg_type</th>\n",
              "      <th>delta_ticks</th>\n",
              "      <th>total_ticks</th>\n",
              "      <th>total_seconds</th>\n",
              "      <th>note</th>\n",
              "      <th>velocity</th>\n",
              "      <th>raw_data</th>\n",
              "    </tr>\n",
              "  </thead>\n",
              "  <tbody>\n",
              "    <tr>\n",
              "      <th>0</th>\n",
              "      <td>track_name</td>\n",
              "      <td>0</td>\n",
              "      <td>0</td>\n",
              "      <td>0.000000</td>\n",
              "      <td>NaN</td>\n",
              "      <td>NaN</td>\n",
              "      <td>{'type': 'track_name', 'name': 'MIDI', 'time': 0}</td>\n",
              "    </tr>\n",
              "    <tr>\n",
              "      <th>1</th>\n",
              "      <td>instrument_name</td>\n",
              "      <td>0</td>\n",
              "      <td>0</td>\n",
              "      <td>0.000000</td>\n",
              "      <td>NaN</td>\n",
              "      <td>NaN</td>\n",
              "      <td>{'type': 'instrument_name', 'name': 'Brooklyn'...</td>\n",
              "    </tr>\n",
              "    <tr>\n",
              "      <th>2</th>\n",
              "      <td>time_signature</td>\n",
              "      <td>0</td>\n",
              "      <td>0</td>\n",
              "      <td>0.000000</td>\n",
              "      <td>NaN</td>\n",
              "      <td>NaN</td>\n",
              "      <td>{'type': 'time_signature', 'numerator': 4, 'de...</td>\n",
              "    </tr>\n",
              "    <tr>\n",
              "      <th>3</th>\n",
              "      <td>key_signature</td>\n",
              "      <td>0</td>\n",
              "      <td>0</td>\n",
              "      <td>0.000000</td>\n",
              "      <td>NaN</td>\n",
              "      <td>NaN</td>\n",
              "      <td>{'type': 'key_signature', 'key': 'C', 'time': 0}</td>\n",
              "    </tr>\n",
              "    <tr>\n",
              "      <th>4</th>\n",
              "      <td>smpte_offset</td>\n",
              "      <td>0</td>\n",
              "      <td>0</td>\n",
              "      <td>0.000000</td>\n",
              "      <td>NaN</td>\n",
              "      <td>NaN</td>\n",
              "      <td>{'type': 'smpte_offset', 'frame_rate': 24, 'ho...</td>\n",
              "    </tr>\n",
              "    <tr>\n",
              "      <th>...</th>\n",
              "      <td>...</td>\n",
              "      <td>...</td>\n",
              "      <td>...</td>\n",
              "      <td>...</td>\n",
              "      <td>...</td>\n",
              "      <td>...</td>\n",
              "      <td>...</td>\n",
              "    </tr>\n",
              "    <tr>\n",
              "      <th>1295</th>\n",
              "      <td>control_change</td>\n",
              "      <td>44</td>\n",
              "      <td>30658</td>\n",
              "      <td>27.769953</td>\n",
              "      <td>NaN</td>\n",
              "      <td>NaN</td>\n",
              "      <td>{'type': 'control_change', 'time': 44, 'contro...</td>\n",
              "    </tr>\n",
              "    <tr>\n",
              "      <th>1296</th>\n",
              "      <td>note_on</td>\n",
              "      <td>0</td>\n",
              "      <td>30658</td>\n",
              "      <td>27.769953</td>\n",
              "      <td>42.0</td>\n",
              "      <td>25.0</td>\n",
              "      <td>{'type': 'note_on', 'time': 0, 'note': 44, 've...</td>\n",
              "    </tr>\n",
              "    <tr>\n",
              "      <th>1297</th>\n",
              "      <td>control_change</td>\n",
              "      <td>36</td>\n",
              "      <td>30694</td>\n",
              "      <td>27.802561</td>\n",
              "      <td>NaN</td>\n",
              "      <td>NaN</td>\n",
              "      <td>{'type': 'control_change', 'time': 36, 'contro...</td>\n",
              "    </tr>\n",
              "    <tr>\n",
              "      <th>1298</th>\n",
              "      <td>note_off</td>\n",
              "      <td>77</td>\n",
              "      <td>30771</td>\n",
              "      <td>27.872308</td>\n",
              "      <td>42.0</td>\n",
              "      <td>64.0</td>\n",
              "      <td>{'type': 'note_off', 'time': 77, 'note': 44, '...</td>\n",
              "    </tr>\n",
              "    <tr>\n",
              "      <th>1299</th>\n",
              "      <td>end_of_track</td>\n",
              "      <td>0</td>\n",
              "      <td>30771</td>\n",
              "      <td>27.872308</td>\n",
              "      <td>NaN</td>\n",
              "      <td>NaN</td>\n",
              "      <td>{'type': 'end_of_track', 'time': 0}</td>\n",
              "    </tr>\n",
              "  </tbody>\n",
              "</table>\n",
              "<p>1300 rows × 7 columns</p>\n",
              "</div>"
            ],
            "text/plain": [
              "             msg_type  ...                                           raw_data\n",
              "0          track_name  ...  {'type': 'track_name', 'name': 'MIDI', 'time': 0}\n",
              "1     instrument_name  ...  {'type': 'instrument_name', 'name': 'Brooklyn'...\n",
              "2      time_signature  ...  {'type': 'time_signature', 'numerator': 4, 'de...\n",
              "3       key_signature  ...   {'type': 'key_signature', 'key': 'C', 'time': 0}\n",
              "4        smpte_offset  ...  {'type': 'smpte_offset', 'frame_rate': 24, 'ho...\n",
              "...               ...  ...                                                ...\n",
              "1295   control_change  ...  {'type': 'control_change', 'time': 44, 'contro...\n",
              "1296          note_on  ...  {'type': 'note_on', 'time': 0, 'note': 44, 've...\n",
              "1297   control_change  ...  {'type': 'control_change', 'time': 36, 'contro...\n",
              "1298         note_off  ...  {'type': 'note_off', 'time': 77, 'note': 44, '...\n",
              "1299     end_of_track  ...                {'type': 'end_of_track', 'time': 0}\n",
              "\n",
              "[1300 rows x 7 columns]"
            ]
          },
          "metadata": {
            "tags": []
          },
          "execution_count": 16
        },
        {
          "output_type": "stream",
          "text": [
            "file length in seconds: 27.872307693749978\n",
            "tempo in ms: 434783\n",
            "tempo in bpm: 137.99987580011177\n"
          ],
          "name": "stdout"
        }
      ]
    },
    {
      "cell_type": "markdown",
      "metadata": {
        "id": "lVz_YlgT6ASh",
        "colab_type": "text"
      },
      "source": [
        "## Test 'MIDI_File_Wrapper' by loading lots of files\n",
        "\n"
      ]
    },
    {
      "cell_type": "markdown",
      "metadata": {
        "id": "dpgOEoJUMi70",
        "colab_type": "text"
      },
      "source": [
        "## Build file list"
      ]
    },
    {
      "cell_type": "code",
      "metadata": {
        "id": "iK8tGsJy337K",
        "colab_type": "code",
        "outputId": "60cb117f-fd9b-4ee3-b140-161cbba9511d",
        "colab": {
          "base_uri": "https://localhost:8080/",
          "height": 105
        }
      },
      "source": [
        "# testing parsing sub directory..\n",
        "\n",
        "# reminder: /content/drive/My Drive/groove-v1.0.0-midionly/groove/drummer1/eval_session/\n",
        "\n",
        "import os\n",
        "\n",
        "for dirpath, dirs, files in os.walk('/content/drive/My Drive/groove-v1.0.0-midionly/groove/drummer1/'):\n",
        "  for f in files:\n",
        "    print('in subdir: {}, first file: {}'.format(dirpath, f)) \n",
        "    break"
      ],
      "execution_count": 17,
      "outputs": [
        {
          "output_type": "stream",
          "text": [
            "in subdir: /content/drive/My Drive/groove-v1.0.0-midionly/groove/drummer1/session2, first file: 4_jazz_120_beat_3-4.mid\n",
            "in subdir: /content/drive/My Drive/groove-v1.0.0-midionly/groove/drummer1/session3, first file: 6_dance-disco_120_beat_4-4.mid\n",
            "in subdir: /content/drive/My Drive/groove-v1.0.0-midionly/groove/drummer1/eval_session, first file: 1_funk-groove1_138_beat_4-4.mid\n",
            "in subdir: /content/drive/My Drive/groove-v1.0.0-midionly/groove/drummer1/session1, first file: 123_funk_95_fill_4-4.mid\n"
          ],
          "name": "stdout"
        }
      ]
    },
    {
      "cell_type": "code",
      "metadata": {
        "id": "1KzIWC5o5Zg8",
        "colab_type": "code",
        "outputId": "8fbd0244-fd6f-4d82-ab86-f8be6bcab80c",
        "colab": {
          "base_uri": "https://localhost:8080/",
          "height": 241
        }
      },
      "source": [
        "import glob\n",
        "\n",
        "root_dir = '/content/drive/My Drive/groove-v1.0.0-midionly/groove/drummer1/eval_session/'\n",
        "#root_dir = '/content/drive/My Drive/groove-v1.0.0-midionly/groove/drummer1/session1/'\n",
        "\n",
        "# recursively find all MIDI files..\n",
        "my_files = []\n",
        "for filename in glob.iglob(root_dir + '**/*.mid', recursive=True):\n",
        "  my_files.append(filename)\n",
        "\n",
        "# show what I found\n",
        "my_files\n",
        "print()\n",
        "print('total # files: {}'.format(len(my_files)))\n"
      ],
      "execution_count": 18,
      "outputs": [
        {
          "output_type": "execute_result",
          "data": {
            "text/plain": [
              "['/content/drive/My Drive/groove-v1.0.0-midionly/groove/drummer1/eval_session/1_funk-groove1_138_beat_4-4.mid',\n",
              " '/content/drive/My Drive/groove-v1.0.0-midionly/groove/drummer1/eval_session/2_funk-groove2_105_beat_4-4.mid',\n",
              " '/content/drive/My Drive/groove-v1.0.0-midionly/groove/drummer1/eval_session/10_soul-groove10_102_beat_4-4.mid',\n",
              " '/content/drive/My Drive/groove-v1.0.0-midionly/groove/drummer1/eval_session/4_soul-groove4_80_beat_4-4.mid',\n",
              " '/content/drive/My Drive/groove-v1.0.0-midionly/groove/drummer1/eval_session/6_hiphop-groove6_87_beat_4-4.mid',\n",
              " '/content/drive/My Drive/groove-v1.0.0-midionly/groove/drummer1/eval_session/8_rock-groove8_65_beat_4-4.mid',\n",
              " '/content/drive/My Drive/groove-v1.0.0-midionly/groove/drummer1/eval_session/3_soul-groove3_86_beat_4-4.mid',\n",
              " '/content/drive/My Drive/groove-v1.0.0-midionly/groove/drummer1/eval_session/9_soul-groove9_105_beat_4-4.mid',\n",
              " '/content/drive/My Drive/groove-v1.0.0-midionly/groove/drummer1/eval_session/5_funk-groove5_84_beat_4-4.mid',\n",
              " '/content/drive/My Drive/groove-v1.0.0-midionly/groove/drummer1/eval_session/7_pop-groove7_138_beat_4-4.mid']"
            ]
          },
          "metadata": {
            "tags": []
          },
          "execution_count": 18
        },
        {
          "output_type": "stream",
          "text": [
            "\n",
            "total # files: 10\n"
          ],
          "name": "stdout"
        }
      ]
    },
    {
      "cell_type": "markdown",
      "metadata": {
        "id": "SsGBVjL_92nL",
        "colab_type": "text"
      },
      "source": [
        "## Bulk object creation\n"
      ]
    },
    {
      "cell_type": "markdown",
      "metadata": {
        "id": "WtN103Ae9XpP",
        "colab_type": "text"
      },
      "source": [
        "On creating a MIDI_File_Wrapper instance, a bunch of testing is performed, so the following is a good test to check a whole bunch of files at once to confirm bulk loading works, and to verify the files themselves meet criteria checked during loading.."
      ]
    },
    {
      "cell_type": "code",
      "metadata": {
        "id": "VYkE4unu7AMG",
        "colab_type": "code",
        "outputId": "2f9acb10-294b-4247-ec43-dbc0ef02aa4a",
        "colab": {
          "base_uri": "https://localhost:8080/",
          "height": 921
        }
      },
      "source": [
        "my_midi_files = []\n",
        "\n",
        "for f in my_files:\n",
        "  next_midi = MIDI_File_Wrapper(f, GrooveMidiTools.mappings)\n",
        "  #print(next_midi.df_midi_data.info())\n",
        "  my_midi_files.append(next_midi)\n",
        "  \n",
        "print('')\n",
        "print('TOTAL NUM OBJECTS CREATED: {}'.format(len(my_midi_files)))"
      ],
      "execution_count": 19,
      "outputs": [
        {
          "output_type": "stream",
          "text": [
            "FILE: /content/drive/My Drive/groove-v1.0.0-midionly/groove/drummer1/eval_session/1_funk-groove1_138_beat_4-4.mid\n",
            "    tracks: [<midi track 'MIDI' 1300 messages>]\n",
            "    time sig: <meta message time_signature numerator=4 denominator=4 clocks_per_click=24 notated_32nd_notes_per_beat=8 time=0>\n",
            "    tempo: <meta message set_tempo tempo=434783 time=0>\n",
            "    good instruments: 6, {36.0: 'Bass Drum 1', 38.0: 'Acoustic Snare', 42.0: 'Closed Hi Hat', 43.0: 'High Floor Tom', 49.0: 'Crash Cymbal 1', 51.0: 'Ride Cymbal 1'}\n",
            "FILE: /content/drive/My Drive/groove-v1.0.0-midionly/groove/drummer1/eval_session/2_funk-groove2_105_beat_4-4.mid\n",
            "    tracks: [<midi track 'MIDI' 829 messages>]\n",
            "    time sig: <meta message time_signature numerator=4 denominator=4 clocks_per_click=24 notated_32nd_notes_per_beat=8 time=0>\n",
            "    tempo: <meta message set_tempo tempo=571429 time=0>\n",
            "    good instruments: 5, {36.0: 'Bass Drum 1', 38.0: 'Acoustic Snare', 42.0: 'Closed Hi Hat', 46.0: 'Open Hi-Hat', 49.0: 'Crash Cymbal 1'}\n",
            "FILE: /content/drive/My Drive/groove-v1.0.0-midionly/groove/drummer1/eval_session/10_soul-groove10_102_beat_4-4.mid\n",
            "    tracks: [<midi track 'MIDI' 639 messages>]\n",
            "    time sig: <meta message time_signature numerator=4 denominator=4 clocks_per_click=24 notated_32nd_notes_per_beat=8 time=0>\n",
            "    tempo: <meta message set_tempo tempo=588235 time=0>\n",
            "    good instruments: 6, {36.0: 'Bass Drum 1', 38.0: 'Acoustic Snare', 42.0: 'Closed Hi Hat', 43.0: 'High Floor Tom', 46.0: 'Open Hi-Hat', 50.0: 'High Tom'}\n",
            "FILE: /content/drive/My Drive/groove-v1.0.0-midionly/groove/drummer1/eval_session/4_soul-groove4_80_beat_4-4.mid\n",
            "    tracks: [<midi track 'MIDI' 626 messages>]\n",
            "    time sig: <meta message time_signature numerator=4 denominator=4 clocks_per_click=24 notated_32nd_notes_per_beat=8 time=0>\n",
            "    tempo: <meta message set_tempo tempo=750000 time=0>\n",
            "    good instruments: 4, {36.0: 'Bass Drum 1', 38.0: 'Acoustic Snare', 42.0: 'Closed Hi Hat', 46.0: 'Open Hi-Hat'}\n",
            "FILE: /content/drive/My Drive/groove-v1.0.0-midionly/groove/drummer1/eval_session/6_hiphop-groove6_87_beat_4-4.mid\n",
            "    tracks: [<midi track 'MIDI' 971 messages>]\n",
            "    time sig: <meta message time_signature numerator=4 denominator=4 clocks_per_click=24 notated_32nd_notes_per_beat=8 time=0>\n",
            "    tempo: <meta message set_tempo tempo=689655 time=0>\n",
            "    good instruments: 4, {36.0: 'Bass Drum 1', 38.0: 'Acoustic Snare', 42.0: 'Closed Hi Hat', 46.0: 'Open Hi-Hat'}\n",
            "FILE: /content/drive/My Drive/groove-v1.0.0-midionly/groove/drummer1/eval_session/8_rock-groove8_65_beat_4-4.mid\n",
            "    tracks: [<midi track 'MIDI' 600 messages>]\n",
            "    time sig: <meta message time_signature numerator=4 denominator=4 clocks_per_click=24 notated_32nd_notes_per_beat=8 time=0>\n",
            "    tempo: <meta message set_tempo tempo=923077 time=0>\n",
            "    good instruments: 4, {36.0: 'Bass Drum 1', 38.0: 'Acoustic Snare', 42.0: 'Closed Hi Hat', 46.0: 'Open Hi-Hat'}\n",
            "FILE: /content/drive/My Drive/groove-v1.0.0-midionly/groove/drummer1/eval_session/3_soul-groove3_86_beat_4-4.mid\n",
            "    tracks: [<midi track 'MIDI' 1179 messages>]\n",
            "    time sig: <meta message time_signature numerator=4 denominator=4 clocks_per_click=24 notated_32nd_notes_per_beat=8 time=0>\n",
            "    tempo: <meta message set_tempo tempo=697674 time=0>\n",
            "    good instruments: 4, {36.0: 'Bass Drum 1', 38.0: 'Acoustic Snare', 42.0: 'Closed Hi Hat', 46.0: 'Open Hi-Hat'}\n",
            "FILE: /content/drive/My Drive/groove-v1.0.0-midionly/groove/drummer1/eval_session/9_soul-groove9_105_beat_4-4.mid\n",
            "    tracks: [<midi track 'MIDI' 937 messages>]\n",
            "    time sig: <meta message time_signature numerator=4 denominator=4 clocks_per_click=24 notated_32nd_notes_per_beat=8 time=0>\n",
            "    tempo: <meta message set_tempo tempo=571429 time=0>\n",
            "    good instruments: 3, {36.0: 'Bass Drum 1', 38.0: 'Acoustic Snare', 42.0: 'Closed Hi Hat'}\n",
            "FILE: /content/drive/My Drive/groove-v1.0.0-midionly/groove/drummer1/eval_session/5_funk-groove5_84_beat_4-4.mid\n",
            "    tracks: [<midi track 'MIDI' 984 messages>]\n",
            "    time sig: <meta message time_signature numerator=4 denominator=4 clocks_per_click=24 notated_32nd_notes_per_beat=8 time=0>\n",
            "    tempo: <meta message set_tempo tempo=714286 time=0>\n",
            "    good instruments: 4, {36.0: 'Bass Drum 1', 38.0: 'Acoustic Snare', 42.0: 'Closed Hi Hat', 46.0: 'Open Hi-Hat'}\n",
            "FILE: /content/drive/My Drive/groove-v1.0.0-midionly/groove/drummer1/eval_session/7_pop-groove7_138_beat_4-4.mid\n",
            "    tracks: [<midi track 'MIDI' 491 messages>]\n",
            "    time sig: <meta message time_signature numerator=4 denominator=4 clocks_per_click=24 notated_32nd_notes_per_beat=8 time=0>\n",
            "    tempo: <meta message set_tempo tempo=434783 time=0>\n",
            "    good instruments: 3, {36.0: 'Bass Drum 1', 38.0: 'Acoustic Snare', 42.0: 'Closed Hi Hat'}\n",
            "\n",
            "TOTAL NUM OBJECTS CREATED: 10\n"
          ],
          "name": "stdout"
        }
      ]
    },
    {
      "cell_type": "markdown",
      "metadata": {
        "id": "80li-RznxmL3",
        "colab_type": "text"
      },
      "source": [
        "...done for the night, 2020-05-13, 3.04 am ...\n",
        ".. and 2020-05-14, 1.37am..."
      ]
    }
  ]
}