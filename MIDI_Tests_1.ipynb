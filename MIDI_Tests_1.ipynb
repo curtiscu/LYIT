{
  "nbformat": 4,
  "nbformat_minor": 0,
  "metadata": {
    "colab": {
      "name": "MIDI Tests_1.ipynb",
      "provenance": [],
      "collapsed_sections": [],
      "toc_visible": true,
      "authorship_tag": "ABX9TyPaSZYLiXxnAAuFGcxnIYHp",
      "include_colab_link": true
    },
    "kernelspec": {
      "name": "python3",
      "display_name": "Python 3"
    }
  },
  "cells": [
    {
      "cell_type": "markdown",
      "metadata": {
        "id": "view-in-github",
        "colab_type": "text"
      },
      "source": [
        "<a href=\"https://colab.research.google.com/github/curtiscu/LYIT/blob/master/MIDI_Tests_1.ipynb\" target=\"_parent\"><img src=\"https://colab.research.google.com/assets/colab-badge.svg\" alt=\"Open In Colab\"/></a>"
      ]
    },
    {
      "cell_type": "markdown",
      "metadata": {
        "id": "r872As6NlaYo",
        "colab_type": "text"
      },
      "source": [
        "# MIDI Tests\n",
        "\n",
        "Using this colab to test loading MIDI files and examining/ exploring their contents."
      ]
    },
    {
      "cell_type": "markdown",
      "metadata": {
        "id": "TL0HvcllmlT0",
        "colab_type": "text"
      },
      "source": [
        "## APIs\n",
        "\n",
        "APIs I'll be testing ..\n",
        "\n",
        "* MIDO - https://mido.readthedocs.io/en/latest/\n",
        "* Music21 (MIT) - http://web.mit.edu/music21/doc/"
      ]
    },
    {
      "cell_type": "markdown",
      "metadata": {
        "id": "YcZS6uk0ldAz",
        "colab_type": "text"
      },
      "source": [
        "## Data/ Files\n",
        "\n",
        "Using this data...\n",
        "* https://magenta.tensorflow.org/datasets/groove#download\n",
        "\n",
        "Folders with files that look useful...\n",
        "\n",
        "* /content/drive/My Drive/groove-v1.0.0-midionly/groove/drummer1/eval_session\n",
        "* /content/drive/My Drive/groove-v1.0.0-midionly/groove/drummer5/eval_session\n",
        "* /content/drive/My Drive/groove-v1.0.0-midionly/groove/drummer7/eval_session\n",
        "* /content/drive/My Drive/groove-v1.0.0-midionly/groove/drummer8/eval_session\n",
        "\n"
      ]
    },
    {
      "cell_type": "markdown",
      "metadata": {
        "id": "6TO7hakKqE_Y",
        "colab_type": "text"
      },
      "source": [
        "# Env setup\n",
        "\n",
        "Handy doc on setting up your notebook ...\n",
        "* https://ipython.readthedocs.io/en/stable/config/options/terminal.html\n",
        "* https://www.dataquest.io/blog/jupyter-notebook-tips-tricks-shortcuts/"
      ]
    },
    {
      "cell_type": "code",
      "metadata": {
        "id": "I3nvJFAipYQ4",
        "colab_type": "code",
        "colab": {}
      },
      "source": [
        "# print all cell output\n",
        "\n",
        "from IPython.core.interactiveshell import InteractiveShell\n",
        "InteractiveShell.ast_node_interactivity = \"all\"\n"
      ],
      "execution_count": 0,
      "outputs": []
    },
    {
      "cell_type": "code",
      "metadata": {
        "id": "C2sGxTX62u99",
        "colab_type": "code",
        "colab": {
          "base_uri": "https://localhost:8080/",
          "height": 122
        },
        "outputId": "bd7f631c-2788-42ae-c692-b47e90e79538"
      },
      "source": [
        "# mount google drive\n",
        "from google.colab import drive\n",
        "drive.mount('/content/drive')"
      ],
      "execution_count": 2,
      "outputs": [
        {
          "output_type": "stream",
          "text": [
            "Go to this URL in a browser: https://accounts.google.com/o/oauth2/auth?client_id=947318989803-6bn6qk8qdgf4n4g3pfee6491hc0brc4i.apps.googleusercontent.com&redirect_uri=urn%3aietf%3awg%3aoauth%3a2.0%3aoob&response_type=code&scope=email%20https%3a%2f%2fwww.googleapis.com%2fauth%2fdocs.test%20https%3a%2f%2fwww.googleapis.com%2fauth%2fdrive%20https%3a%2f%2fwww.googleapis.com%2fauth%2fdrive.photos.readonly%20https%3a%2f%2fwww.googleapis.com%2fauth%2fpeopleapi.readonly\n",
            "\n",
            "Enter your authorization code:\n",
            "··········\n",
            "Mounted at /content/drive\n"
          ],
          "name": "stdout"
        }
      ]
    },
    {
      "cell_type": "code",
      "metadata": {
        "id": "Oyd44VgN1pgd",
        "colab_type": "code",
        "colab": {
          "base_uri": "https://localhost:8080/",
          "height": 119
        },
        "outputId": "880ea41f-ed4c-4d99-f1b9-c02bd0c91544"
      },
      "source": [
        "# /content/drive/My Drive/groove-v1.0.0-midionly/groove/drummer1/eval_session\n",
        "! ls -al '/content/drive/My Drive/groove-v1.0.0-midionly/groove/drummer1/'"
      ],
      "execution_count": 8,
      "outputs": [
        {
          "output_type": "stream",
          "text": [
            "total 17\n",
            "drwx------ 2 root root 4096 Apr 27 12:01 eval_session\n",
            "-rw------- 1 root root   19 Apr 27 13:40 foopp.txt\n",
            "drwx------ 2 root root 4096 Apr 27 12:01 session1\n",
            "drwx------ 2 root root 4096 Apr 27 12:01 session2\n",
            "drwx------ 2 root root 4096 Apr 27 12:01 __session3\n"
          ],
          "name": "stdout"
        }
      ]
    },
    {
      "cell_type": "code",
      "metadata": {
        "id": "F9LcIrNb0oG0",
        "colab_type": "code",
        "colab": {
          "base_uri": "https://localhost:8080/",
          "height": 34
        },
        "outputId": "d4c39468-e23b-4a86-f5da-a36094f1afcc"
      },
      "source": [
        "# testing opening file..\n",
        "\n",
        "# '/content/drive/My Drive/test.txt'\n",
        "\n",
        "test_file = open('/content/drive/My Drive/foo.txt', 'r')\n",
        "test_file"
      ],
      "execution_count": 28,
      "outputs": [
        {
          "output_type": "execute_result",
          "data": {
            "text/plain": [
              "<_io.TextIOWrapper name='/content/drive/My Drive/foo.txt' mode='r' encoding='UTF-8'>"
            ]
          },
          "metadata": {
            "tags": []
          },
          "execution_count": 28
        }
      ]
    },
    {
      "cell_type": "code",
      "metadata": {
        "id": "WAvjqtFC1DTR",
        "colab_type": "code",
        "colab": {
          "base_uri": "https://localhost:8080/",
          "height": 34
        },
        "outputId": "4f267716-243b-44a2-a37d-711b0b18009f"
      },
      "source": [
        "with open('/content/drive/My Drive/groove-v1.0.0-midionly/groove/drummer1/eval_session/stuff2.txt', 'a+') as f:\n",
        "  f.write('Hello Google Drive-alicious!')\n",
        "!cat '/content/drive/My Drive/groove-v1.0.0-midionly/groove/drummer1/eval_session/stuff2.txt'"
      ],
      "execution_count": 16,
      "outputs": [
        {
          "output_type": "execute_result",
          "data": {
            "text/plain": [
              "28"
            ]
          },
          "metadata": {
            "tags": []
          },
          "execution_count": 16
        },
        {
          "output_type": "stream",
          "text": [
            "Hello Google Drive-alicious!Hello Google Drive-alicious!"
          ],
          "name": "stdout"
        }
      ]
    },
    {
      "cell_type": "code",
      "metadata": {
        "id": "NfeRpoHg32bp",
        "colab_type": "code",
        "colab": {
          "base_uri": "https://localhost:8080/",
          "height": 54
        },
        "outputId": "a8c26f25-6246-45da-933b-91f8952ad853"
      },
      "source": [
        "!cat '/content/drive/My Drive/groove-v1.0.0-midionly/groove/drummer1/eval_session/stuff1.txt'"
      ],
      "execution_count": 18,
      "outputs": [
        {
          "output_type": "stream",
          "text": [
            "cat: '/content/drive/My Drive/groove-v1.0.0-midionly/groove/drummer1/eval_session/stuff1.txt': No such file or directory\n"
          ],
          "name": "stdout"
        }
      ]
    },
    {
      "cell_type": "markdown",
      "metadata": {
        "id": "pKAMwBxfoDTO",
        "colab_type": "text"
      },
      "source": [
        "# MIDO"
      ]
    },
    {
      "cell_type": "code",
      "metadata": {
        "id": "AsShH5h6fCd8",
        "colab_type": "code",
        "colab": {
          "base_uri": "https://localhost:8080/",
          "height": 122
        },
        "outputId": "25f1761b-eafb-43cf-d835-7fc064b8815f"
      },
      "source": [
        "!pip install mido\n",
        "\n",
        "import mido"
      ],
      "execution_count": 3,
      "outputs": [
        {
          "output_type": "stream",
          "text": [
            "Collecting mido\n",
            "\u001b[?25l  Downloading https://files.pythonhosted.org/packages/20/0a/81beb587b1ae832ea6a1901dc7c6faa380e8dd154e0a862f0a9f3d2afab9/mido-1.2.9-py2.py3-none-any.whl (52kB)\n",
            "\r\u001b[K     |██████▎                         | 10kB 17.0MB/s eta 0:00:01\r\u001b[K     |████████████▌                   | 20kB 1.7MB/s eta 0:00:01\r\u001b[K     |██████████████████▊             | 30kB 2.2MB/s eta 0:00:01\r\u001b[K     |█████████████████████████       | 40kB 2.5MB/s eta 0:00:01\r\u001b[K     |███████████████████████████████▏| 51kB 2.0MB/s eta 0:00:01\r\u001b[K     |████████████████████████████████| 61kB 1.9MB/s \n",
            "\u001b[?25hInstalling collected packages: mido\n",
            "Successfully installed mido-1.2.9\n"
          ],
          "name": "stdout"
        }
      ]
    },
    {
      "cell_type": "code",
      "metadata": {
        "id": "LeXt3V4to5cS",
        "colab_type": "code",
        "colab": {
          "base_uri": "https://localhost:8080/",
          "height": 85
        },
        "outputId": "e8ec48e4-c4fd-4272-e9d2-0dd25a246527"
      },
      "source": [
        "msg = mido.Message('note_on', note=60)\n",
        "print('Type: {}'.format(msg.type))\n",
        "print('Note: {}'.format(msg.note))\n",
        "print('Bytes: {}'.format(msg.bytes()))\n",
        "print('Copied note info: {}'.format(msg.copy(channel=2)))\n",
        "\n"
      ],
      "execution_count": 18,
      "outputs": [
        {
          "output_type": "stream",
          "text": [
            "Type: note_on\n",
            "Note: 60\n",
            "Bytes: [144, 60, 64]\n",
            "Copied note info: note_on channel=2 note=60 velocity=64 time=0\n"
          ],
          "name": "stdout"
        }
      ]
    },
    {
      "cell_type": "code",
      "metadata": {
        "id": "L4PvI_fxyg50",
        "colab_type": "code",
        "colab": {
          "base_uri": "https://localhost:8080/",
          "height": 370
        },
        "outputId": "51e417e1-914e-442b-f663-73144bdb7c2a"
      },
      "source": [
        "from mido import MidiFile\n",
        "\n",
        "mid = MidiFile('/content/drive/My Drive/groove-v1.0.0-midionly/groove/drummer1/eval_session/1_funk-groove1_138_beat_4-4.mid')\n",
        "\n",
        "# /content/drive/My Drive/groove-v1.0.0-midionly/groove/drummer1/eval_session/1_funk-groove1_138_beat_4-4.mid"
      ],
      "execution_count": 23,
      "outputs": [
        {
          "output_type": "error",
          "ename": "FileNotFoundError",
          "evalue": "ignored",
          "traceback": [
            "\u001b[0;31m---------------------------------------------------------------------------\u001b[0m",
            "\u001b[0;31mFileNotFoundError\u001b[0m                         Traceback (most recent call last)",
            "\u001b[0;32m<ipython-input-23-08ca44dba1d5>\u001b[0m in \u001b[0;36m<module>\u001b[0;34m()\u001b[0m\n\u001b[1;32m      1\u001b[0m \u001b[0;32mfrom\u001b[0m \u001b[0mmido\u001b[0m \u001b[0;32mimport\u001b[0m \u001b[0mMidiFile\u001b[0m\u001b[0;34m\u001b[0m\u001b[0;34m\u001b[0m\u001b[0m\n\u001b[1;32m      2\u001b[0m \u001b[0;34m\u001b[0m\u001b[0m\n\u001b[0;32m----> 3\u001b[0;31m \u001b[0mmid\u001b[0m \u001b[0;34m=\u001b[0m \u001b[0mMidiFile\u001b[0m\u001b[0;34m(\u001b[0m\u001b[0;34m'/content/drive/My Drive/groove-v1.0.0-midionly/groove/drummer1/eval_session/1_funk-groove1_138_beat_4-4.mid'\u001b[0m\u001b[0;34m)\u001b[0m\u001b[0;34m\u001b[0m\u001b[0;34m\u001b[0m\u001b[0m\n\u001b[0m\u001b[1;32m      4\u001b[0m \u001b[0;34m\u001b[0m\u001b[0m\n\u001b[1;32m      5\u001b[0m \u001b[0;31m# /content/drive/My Drive/groove-v1.0.0-midionly/groove/drummer1/eval_session/1_funk-groove1_138_beat_4-4.mid\u001b[0m\u001b[0;34m\u001b[0m\u001b[0;34m\u001b[0m\u001b[0;34m\u001b[0m\u001b[0m\n",
            "\u001b[0;32m/usr/local/lib/python3.6/dist-packages/mido/midifiles/midifiles.py\u001b[0m in \u001b[0;36m__init__\u001b[0;34m(self, filename, file, type, ticks_per_beat, charset, debug, clip)\u001b[0m\n\u001b[1;32m    313\u001b[0m             \u001b[0mself\u001b[0m\u001b[0;34m.\u001b[0m\u001b[0m_load\u001b[0m\u001b[0;34m(\u001b[0m\u001b[0mfile\u001b[0m\u001b[0;34m)\u001b[0m\u001b[0;34m\u001b[0m\u001b[0;34m\u001b[0m\u001b[0m\n\u001b[1;32m    314\u001b[0m         \u001b[0;32melif\u001b[0m \u001b[0mself\u001b[0m\u001b[0;34m.\u001b[0m\u001b[0mfilename\u001b[0m \u001b[0;32mis\u001b[0m \u001b[0;32mnot\u001b[0m \u001b[0;32mNone\u001b[0m\u001b[0;34m:\u001b[0m\u001b[0;34m\u001b[0m\u001b[0;34m\u001b[0m\u001b[0m\n\u001b[0;32m--> 315\u001b[0;31m             \u001b[0;32mwith\u001b[0m \u001b[0mio\u001b[0m\u001b[0;34m.\u001b[0m\u001b[0mopen\u001b[0m\u001b[0;34m(\u001b[0m\u001b[0mfilename\u001b[0m\u001b[0;34m,\u001b[0m \u001b[0;34m'rb'\u001b[0m\u001b[0;34m)\u001b[0m \u001b[0;32mas\u001b[0m \u001b[0mfile\u001b[0m\u001b[0;34m:\u001b[0m\u001b[0;34m\u001b[0m\u001b[0;34m\u001b[0m\u001b[0m\n\u001b[0m\u001b[1;32m    316\u001b[0m                 \u001b[0mself\u001b[0m\u001b[0;34m.\u001b[0m\u001b[0m_load\u001b[0m\u001b[0;34m(\u001b[0m\u001b[0mfile\u001b[0m\u001b[0;34m)\u001b[0m\u001b[0;34m\u001b[0m\u001b[0;34m\u001b[0m\u001b[0m\n\u001b[1;32m    317\u001b[0m \u001b[0;34m\u001b[0m\u001b[0m\n",
            "\u001b[0;31mFileNotFoundError\u001b[0m: [Errno 2] No such file or directory: '/content/drive/My Drive/groove-v1.0.0-midionly/groove/drummer1/eval_session/1_funk-groove1_138_beat_4-4.mid'"
          ]
        }
      ]
    }
  ]
}