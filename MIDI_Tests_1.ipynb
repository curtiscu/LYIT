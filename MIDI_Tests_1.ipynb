{
  "nbformat": 4,
  "nbformat_minor": 0,
  "metadata": {
    "colab": {
      "name": "MIDI Tests_1.ipynb",
      "provenance": [],
      "collapsed_sections": [],
      "toc_visible": true,
      "mount_file_id": "1Klosn_3VNX4p34tcYz0-cbrotnw8wdTv",
      "authorship_tag": "ABX9TyOWbVc94cTpZYsqjJGkAjwD",
      "include_colab_link": true
    },
    "kernelspec": {
      "name": "python3",
      "display_name": "Python 3"
    }
  },
  "cells": [
    {
      "cell_type": "markdown",
      "metadata": {
        "id": "view-in-github",
        "colab_type": "text"
      },
      "source": [
        "<a href=\"https://colab.research.google.com/github/curtiscu/LYIT/blob/master/MIDI_Tests_1.ipynb\" target=\"_parent\"><img src=\"https://colab.research.google.com/assets/colab-badge.svg\" alt=\"Open In Colab\"/></a>"
      ]
    },
    {
      "cell_type": "markdown",
      "metadata": {
        "id": "r872As6NlaYo",
        "colab_type": "text"
      },
      "source": [
        "# MIDI Tests\n",
        "\n",
        "Using this colab to test loading MIDI files and examining/ exploring their contents."
      ]
    },
    {
      "cell_type": "markdown",
      "metadata": {
        "id": "TL0HvcllmlT0",
        "colab_type": "text"
      },
      "source": [
        "## APIs\n",
        "\n",
        "APIs I'll be testing ..\n",
        "\n",
        "* MIDO - https://mido.readthedocs.io/en/latest/\n",
        "* Music21 (MIT) - http://web.mit.edu/music21/doc/"
      ]
    },
    {
      "cell_type": "markdown",
      "metadata": {
        "id": "YcZS6uk0ldAz",
        "colab_type": "text"
      },
      "source": [
        "## Data/ Files\n",
        "\n",
        "Using this data...\n",
        "* https://magenta.tensorflow.org/datasets/groove#download\n",
        "\n",
        "Folders with files that look useful...\n",
        "\n",
        "* /content/drive/My Drive/groove-v1.0.0-midionly/groove/drummer1/eval_session\n",
        "* /content/drive/My Drive/groove-v1.0.0-midionly/groove/drummer5/eval_session\n",
        "* /content/drive/My Drive/groove-v1.0.0-midionly/groove/drummer7/eval_session\n",
        "* /content/drive/My Drive/groove-v1.0.0-midionly/groove/drummer8/eval_session\n",
        "\n"
      ]
    },
    {
      "cell_type": "markdown",
      "metadata": {
        "id": "6TO7hakKqE_Y",
        "colab_type": "text"
      },
      "source": [
        "# Env setup\n",
        "\n",
        "Handy doc on setting up your notebook ...\n",
        "* https://ipython.readthedocs.io/en/stable/config/options/terminal.html\n",
        "* https://www.dataquest.io/blog/jupyter-notebook-tips-tricks-shortcuts/"
      ]
    },
    {
      "cell_type": "code",
      "metadata": {
        "id": "I3nvJFAipYQ4",
        "colab_type": "code",
        "colab": {}
      },
      "source": [
        "# print all cell output\n",
        "\n",
        "from IPython.core.interactiveshell import InteractiveShell\n",
        "InteractiveShell.ast_node_interactivity = \"all\"\n"
      ],
      "execution_count": 0,
      "outputs": []
    },
    {
      "cell_type": "code",
      "metadata": {
        "id": "C2sGxTX62u99",
        "colab_type": "code",
        "colab": {
          "base_uri": "https://localhost:8080/",
          "height": 34
        },
        "outputId": "663697c6-8291-4b7e-f5c2-a2437100b676"
      },
      "source": [
        "# mount google drive\n",
        "from google.colab import drive\n",
        "drive.mount('/content/drive', force_remount=True)"
      ],
      "execution_count": 42,
      "outputs": [
        {
          "output_type": "stream",
          "text": [
            "Mounted at /content/drive\n"
          ],
          "name": "stdout"
        }
      ]
    },
    {
      "cell_type": "code",
      "metadata": {
        "id": "Oyd44VgN1pgd",
        "colab_type": "code",
        "colab": {
          "base_uri": "https://localhost:8080/",
          "height": 204
        },
        "outputId": "d01ea83c-d78c-4066-d2b7-472a195e412d"
      },
      "source": [
        "# /content/drive/My Drive/groove-v1.0.0-midionly/groove/drummer1/eval_session\n",
        "! ls -al '/content/drive/My Drive/groove-v1.0.0-midionly/groove/drummer1/eval_session/'"
      ],
      "execution_count": 46,
      "outputs": [
        {
          "output_type": "stream",
          "text": [
            "total 35\n",
            "-rw------- 1 root root 2589 Apr 27 12:01 10_soul-groove10_102_beat_4-4.mid\n",
            "-rw------- 1 root root 4793 Apr 27 12:01 1_funk-groove1_138_beat_4-4.mid\n",
            "-rw------- 1 root root 3243 Apr 27 12:01 2_funk-groove2_105_beat_4-4.mid\n",
            "-rw------- 1 root root 4466 Apr 27 12:01 3_soul-groove3_86_beat_4-4.mid\n",
            "-rw------- 1 root root 2551 Apr 27 12:01 4_soul-groove4_80_beat_4-4.mid\n",
            "-rw------- 1 root root 3798 Apr 27 12:01 5_funk-groove5_84_beat_4-4.mid\n",
            "-rw------- 1 root root 3760 Apr 27 12:01 6_hiphop-groove6_87_beat_4-4.mid\n",
            "-rw------- 1 root root 1894 Apr 27 12:01 7_pop-groove7_138_beat_4-4.mid\n",
            "-rw------- 1 root root 2437 Apr 27 12:01 8_rock-groove8_65_beat_4-4.mid\n",
            "-rw------- 1 root root 3448 Apr 27 12:01 9_soul-groove9_105_beat_4-4.mid\n"
          ],
          "name": "stdout"
        }
      ]
    },
    {
      "cell_type": "markdown",
      "metadata": {
        "id": "pKAMwBxfoDTO",
        "colab_type": "text"
      },
      "source": [
        "# MIDO"
      ]
    },
    {
      "cell_type": "code",
      "metadata": {
        "id": "AsShH5h6fCd8",
        "colab_type": "code",
        "colab": {
          "base_uri": "https://localhost:8080/",
          "height": 122
        },
        "outputId": "b996ada8-6a64-4aac-92f9-e105c7908abb"
      },
      "source": [
        "!pip install mido\n"
      ],
      "execution_count": 49,
      "outputs": [
        {
          "output_type": "stream",
          "text": [
            "Collecting mido\n",
            "\u001b[?25l  Downloading https://files.pythonhosted.org/packages/20/0a/81beb587b1ae832ea6a1901dc7c6faa380e8dd154e0a862f0a9f3d2afab9/mido-1.2.9-py2.py3-none-any.whl (52kB)\n",
            "\r\u001b[K     |██████▎                         | 10kB 17.0MB/s eta 0:00:01\r\u001b[K     |████████████▌                   | 20kB 1.8MB/s eta 0:00:01\r\u001b[K     |██████████████████▊             | 30kB 2.3MB/s eta 0:00:01\r\u001b[K     |█████████████████████████       | 40kB 2.6MB/s eta 0:00:01\r\u001b[K     |███████████████████████████████▏| 51kB 2.0MB/s eta 0:00:01\r\u001b[K     |████████████████████████████████| 61kB 2.0MB/s \n",
            "\u001b[?25hInstalling collected packages: mido\n",
            "Successfully installed mido-1.2.9\n"
          ],
          "name": "stdout"
        }
      ]
    },
    {
      "cell_type": "code",
      "metadata": {
        "id": "9OmfdW7aA-x5",
        "colab_type": "code",
        "colab": {}
      },
      "source": [
        "import mido"
      ],
      "execution_count": 0,
      "outputs": []
    },
    {
      "cell_type": "code",
      "metadata": {
        "id": "LeXt3V4to5cS",
        "colab_type": "code",
        "colab": {
          "base_uri": "https://localhost:8080/",
          "height": 85
        },
        "outputId": "c48d46c3-c1da-40d2-b89b-a3e2e9393ce3"
      },
      "source": [
        "msg = mido.Message('note_on', note=60)\n",
        "print('Type: {}'.format(msg.type))\n",
        "print('Note: {}'.format(msg.note))\n",
        "print('Bytes: {}'.format(msg.bytes()))\n",
        "print('Copied note info: {}'.format(msg.copy(channel=2)))\n",
        "\n"
      ],
      "execution_count": 51,
      "outputs": [
        {
          "output_type": "stream",
          "text": [
            "Type: note_on\n",
            "Note: 60\n",
            "Bytes: [144, 60, 64]\n",
            "Copied note info: note_on channel=2 note=60 velocity=64 time=0\n"
          ],
          "name": "stdout"
        }
      ]
    },
    {
      "cell_type": "code",
      "metadata": {
        "id": "L4PvI_fxyg50",
        "colab_type": "code",
        "colab": {}
      },
      "source": [
        "from mido import MidiFile\n",
        "\n",
        "mid = MidiFile('/content/drive/My Drive/groove-v1.0.0-midionly/groove/drummer1/eval_session/1_funk-groove1_138_beat_4-4.mid')\n"
      ],
      "execution_count": 0,
      "outputs": []
    },
    {
      "cell_type": "code",
      "metadata": {
        "id": "OpKSLnDiBTAH",
        "colab_type": "code",
        "colab": {}
      },
      "source": [
        "for i, track in enumerate(mid.tracks):\n",
        "    print('Track {}: {}'.format(i, track.name))\n",
        "    for msg in track:\n",
        "        print(msg)"
      ],
      "execution_count": 0,
      "outputs": []
    }
  ]
}