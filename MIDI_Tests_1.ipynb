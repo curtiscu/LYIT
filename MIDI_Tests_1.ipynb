{
  "nbformat": 4,
  "nbformat_minor": 0,
  "metadata": {
    "colab": {
      "name": "MIDI Tests_1.ipynb",
      "provenance": [],
      "collapsed_sections": [],
      "mount_file_id": "1Klosn_3VNX4p34tcYz0-cbrotnw8wdTv",
      "authorship_tag": "ABX9TyPvF+Zwl5IH88Zo+FHZqZNO",
      "include_colab_link": true
    },
    "kernelspec": {
      "name": "python3",
      "display_name": "Python 3"
    }
  },
  "cells": [
    {
      "cell_type": "markdown",
      "metadata": {
        "id": "view-in-github",
        "colab_type": "text"
      },
      "source": [
        "<a href=\"https://colab.research.google.com/github/curtiscu/LYIT/blob/master/MIDI_Tests_1.ipynb\" target=\"_parent\"><img src=\"https://colab.research.google.com/assets/colab-badge.svg\" alt=\"Open In Colab\"/></a>"
      ]
    },
    {
      "cell_type": "markdown",
      "metadata": {
        "id": "r872As6NlaYo",
        "colab_type": "text"
      },
      "source": [
        "# MIDI Tests\n",
        "\n",
        "Using this colab to test loading MIDI files and examining/ exploring their contents."
      ]
    },
    {
      "cell_type": "markdown",
      "metadata": {
        "id": "TL0HvcllmlT0",
        "colab_type": "text"
      },
      "source": [
        "## APIs\n",
        "\n",
        "APIs I'll be testing ..\n",
        "\n",
        "* MIDO - https://mido.readthedocs.io/en/latest/\n",
        "* Music21 (MIT) - http://web.mit.edu/music21/doc/"
      ]
    },
    {
      "cell_type": "markdown",
      "metadata": {
        "id": "YcZS6uk0ldAz",
        "colab_type": "text"
      },
      "source": [
        "## Files\n",
        "\n",
        "Files that look useful...\n",
        "\n",
        "\n",
        "* /content/drive/My Drive/groove-v1.0.0-midionly/groove/drummer1/eval_session\n",
        "* /content/drive/My Drive/groove-v1.0.0-midionly/groove/drummer5/eval_session\n",
        "* /content/drive/My Drive/groove-v1.0.0-midionly/groove/drummer7/eval_session\n",
        "* /content/drive/My Drive/groove-v1.0.0-midionly/groove/drummer8/eval_session\n",
        "\n"
      ]
    },
    {
      "cell_type": "code",
      "metadata": {
        "id": "AsShH5h6fCd8",
        "colab_type": "code",
        "colab": {}
      },
      "source": [
        ""
      ],
      "execution_count": 0,
      "outputs": []
    }
  ]
}