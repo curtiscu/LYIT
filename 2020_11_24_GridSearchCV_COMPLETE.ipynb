{
  "nbformat": 4,
  "nbformat_minor": 0,
  "metadata": {
    "colab": {
      "name": "2020-11-24_GridSearchCV_COMPLETE.ipynb",
      "provenance": [],
      "collapsed_sections": [
        "lBT_BaeD4o8L",
        "K3JlPpTjIlYg"
      ],
      "toc_visible": true,
      "authorship_tag": "ABX9TyPJhXAIfASGhbggp7g/UgsQ",
      "include_colab_link": true
    },
    "kernelspec": {
      "name": "python3",
      "display_name": "Python 3"
    }
  },
  "cells": [
    {
      "cell_type": "markdown",
      "metadata": {
        "id": "view-in-github",
        "colab_type": "text"
      },
      "source": [
        "<a href=\"https://colab.research.google.com/github/curtiscu/LYIT/blob/master/2020_11_24_GridSearchCV_COMPLETE.ipynb\" target=\"_parent\"><img src=\"https://colab.research.google.com/assets/colab-badge.svg\" alt=\"Open In Colab\"/></a>"
      ]
    },
    {
      "cell_type": "code",
      "metadata": {
        "id": "fzsDDd2nVeXB"
      },
      "source": [
        ""
      ],
      "execution_count": null,
      "outputs": []
    },
    {
      "cell_type": "markdown",
      "metadata": {
        "id": "bvErVZS5sa6V"
      },
      "source": [
        "# !!DONE!! no more changes here, there's a lot of meat to this one and I need to use it to generate results for report, can't afford to break it!!"
      ]
    },
    {
      "cell_type": "markdown",
      "metadata": {
        "id": "NybvOG9ssS26"
      },
      "source": [
        "# Setup Colab env\n"
      ]
    },
    {
      "cell_type": "code",
      "metadata": {
        "id": "UliwyDDMjY8U",
        "colab": {
          "base_uri": "https://localhost:8080/"
        },
        "outputId": "1c6f88bb-2a80-4c05-996a-6c0c6944b8ec"
      },
      "source": [
        "\n",
        "import sklearn\n",
        "sklearn.__version__\n",
        "#!pip uninstall scikit-learn -y\n",
        "#!pip install scikit-learn\n",
        "!pip install --upgrade scikit-learn"
      ],
      "execution_count": 1,
      "outputs": [
        {
          "output_type": "stream",
          "text": [
            "Requirement already up-to-date: scikit-learn in /usr/local/lib/python3.6/dist-packages (0.23.2)\n",
            "Requirement already satisfied, skipping upgrade: scipy>=0.19.1 in /usr/local/lib/python3.6/dist-packages (from scikit-learn) (1.4.1)\n",
            "Requirement already satisfied, skipping upgrade: joblib>=0.11 in /usr/local/lib/python3.6/dist-packages (from scikit-learn) (0.17.0)\n",
            "Requirement already satisfied, skipping upgrade: numpy>=1.13.3 in /usr/local/lib/python3.6/dist-packages (from scikit-learn) (1.18.5)\n",
            "Requirement already satisfied, skipping upgrade: threadpoolctl>=2.0.0 in /usr/local/lib/python3.6/dist-packages (from scikit-learn) (2.1.0)\n"
          ],
          "name": "stdout"
        }
      ]
    },
    {
      "cell_type": "code",
      "metadata": {
        "id": "juZFbd9RttvQ"
      },
      "source": [
        "# print all cell output\n",
        "from IPython.core.interactiveshell import InteractiveShell\n",
        "InteractiveShell.ast_node_interactivity = \"all\"\n"
      ],
      "execution_count": 2,
      "outputs": []
    },
    {
      "cell_type": "markdown",
      "metadata": {
        "id": "yEXZFoA4t9de"
      },
      "source": [
        "## Google drive access"
      ]
    },
    {
      "cell_type": "code",
      "metadata": {
        "id": "uRELmgI2mvEK",
        "colab": {
          "base_uri": "https://localhost:8080/"
        },
        "outputId": "6a1e9b96-c26d-43db-bb2f-63d8cdc98e41"
      },
      "source": [
        "# mount google drive\n",
        "\n",
        "from google.colab import drive\n",
        "drive.mount('/content/drive', force_remount=True)\n"
      ],
      "execution_count": 3,
      "outputs": [
        {
          "output_type": "stream",
          "text": [
            "Mounted at /content/drive\n"
          ],
          "name": "stdout"
        }
      ]
    },
    {
      "cell_type": "code",
      "metadata": {
        "id": "Yk2_ztH9uKat",
        "colab": {
          "base_uri": "https://localhost:8080/"
        },
        "outputId": "6a7a7bb5-03f6-4951-b181-9f930f6e3355"
      },
      "source": [
        "# peek at data\n",
        "! ls -al '/content/drive/My Drive/groove-v1.0.0-midionly/groove/drummer1/eval_session/'\n",
        "\n",
        "# peek at modules from local  'E:\\Google Drive\\LYIT\\Dissertation\\modules'\n",
        "! ls -al '/content/drive/My Drive/LYIT/Dissertation/modules/'"
      ],
      "execution_count": 4,
      "outputs": [
        {
          "output_type": "stream",
          "text": [
            "total 35\n",
            "-rw------- 1 root root 2589 Apr 27  2020 10_soul-groove10_102_beat_4-4.mid\n",
            "-rw------- 1 root root 4793 Apr 27  2020 1_funk-groove1_138_beat_4-4.mid\n",
            "-rw------- 1 root root 3243 Apr 27  2020 2_funk-groove2_105_beat_4-4.mid\n",
            "-rw------- 1 root root 4466 Apr 27  2020 3_soul-groove3_86_beat_4-4.mid\n",
            "-rw------- 1 root root 2551 Apr 27  2020 4_soul-groove4_80_beat_4-4.mid\n",
            "-rw------- 1 root root 3798 Apr 27  2020 5_funk-groove5_84_beat_4-4.mid\n",
            "-rw------- 1 root root 3760 Apr 27  2020 6_hiphop-groove6_87_beat_4-4.mid\n",
            "-rw------- 1 root root 1894 Apr 27  2020 7_pop-groove7_138_beat_4-4.mid\n",
            "-rw------- 1 root root 2437 Apr 27  2020 8_rock-groove8_65_beat_4-4.mid\n",
            "-rw------- 1 root root 3448 Apr 27  2020 9_soul-groove9_105_beat_4-4.mid\n",
            "total 52\n",
            "-rw------- 1 root root 28586 Aug 18 21:35 data_prep.py\n",
            "-rw------- 1 root root  2904 Nov 18 21:57 pipeline_utils.py\n",
            "drwx------ 2 root root  4096 May 10  2020 __pycache__\n",
            "-rw------- 1 root root  7847 Aug 18 22:09 stats_n_features.py\n",
            "-rw------- 1 root root  8459 Aug 18 22:03 visualizations.py\n"
          ],
          "name": "stdout"
        }
      ]
    },
    {
      "cell_type": "markdown",
      "metadata": {
        "id": "SBKOdMxXFygn"
      },
      "source": [
        "## Auto reload module\n",
        "\n",
        "Now using library code I've created and saved to google drive which is automatically pushed to the cloud and made available to the colab env. The autoreload stuff below should help imports to 'reimport' to load changes to the library code.\n",
        "\n",
        "It's not the quickest/ most reliable, so if in a hurry, brute force loading of changes by restarting the runtime."
      ]
    },
    {
      "cell_type": "code",
      "metadata": {
        "id": "jErvkusO6D01"
      },
      "source": [
        "# tool to auto reload modules.\n",
        "%load_ext autoreload\n",
        "\n",
        "# config to auto-reload all modules, handy to make \n",
        "# writing and testing modules much easier.\n",
        "%autoreload 2"
      ],
      "execution_count": 5,
      "outputs": []
    },
    {
      "cell_type": "markdown",
      "metadata": {
        "id": "2qR3tjMl4bv2"
      },
      "source": [
        "## Imports and accessing lib functions"
      ]
    },
    {
      "cell_type": "code",
      "metadata": {
        "id": "rjqCavr4sz4x"
      },
      "source": [
        "# regular imports\n",
        "import pandas as pd\n",
        "import math\n",
        "import matplotlib.pyplot as plt\n",
        "import numpy as np\n",
        "\n",
        "# object that provides colours for charts\n",
        "from itertools import cycle\n",
        "\n",
        "# sklearn imports\n",
        "from sklearn.metrics import classification_report\n",
        "from sklearn.metrics import confusion_matrix\n",
        "from sklearn.metrics import accuracy_score\n",
        "from sklearn.neighbors import KNeighborsClassifier\n",
        "from sklearn import svm\n",
        "from sklearn.model_selection import train_test_split\n",
        "from sklearn.preprocessing import MinMaxScaler, RobustScaler, OneHotEncoder\n",
        "from sklearn.compose import ColumnTransformer\n",
        "\n",
        "from sklearn.base import BaseEstimator, TransformerMixin\n",
        "from sklearn.pipeline import Pipeline\n",
        "\n",
        "import matplotlib.pyplot as plt\n",
        "import seaborn as sns\n",
        "%matplotlib inline"
      ],
      "execution_count": 6,
      "outputs": []
    },
    {
      "cell_type": "code",
      "metadata": {
        "id": "OlF0_jtDVS7I"
      },
      "source": [
        "from scipy import stats"
      ],
      "execution_count": 144,
      "outputs": []
    },
    {
      "cell_type": "code",
      "metadata": {
        "colab": {
          "base_uri": "https://localhost:8080/"
        },
        "id": "-i6pGULtLiXb",
        "outputId": "02f45e68-fe08-4cfc-caa3-971fdca7a79e"
      },
      "source": [
        "# install required libs\n",
        "!pip install mido"
      ],
      "execution_count": 7,
      "outputs": [
        {
          "output_type": "stream",
          "text": [
            "Collecting mido\n",
            "\u001b[?25l  Downloading https://files.pythonhosted.org/packages/20/0a/81beb587b1ae832ea6a1901dc7c6faa380e8dd154e0a862f0a9f3d2afab9/mido-1.2.9-py2.py3-none-any.whl (52kB)\n",
            "\r\u001b[K     |██████▎                         | 10kB 15.7MB/s eta 0:00:01\r\u001b[K     |████████████▌                   | 20kB 20.9MB/s eta 0:00:01\r\u001b[K     |██████████████████▊             | 30kB 11.5MB/s eta 0:00:01\r\u001b[K     |█████████████████████████       | 40kB 8.4MB/s eta 0:00:01\r\u001b[K     |███████████████████████████████▏| 51kB 4.4MB/s eta 0:00:01\r\u001b[K     |████████████████████████████████| 61kB 3.1MB/s \n",
            "\u001b[?25hInstalling collected packages: mido\n",
            "Successfully installed mido-1.2.9\n"
          ],
          "name": "stdout"
        }
      ]
    },
    {
      "cell_type": "code",
      "metadata": {
        "id": "DQ0sg10tzufp",
        "colab": {
          "base_uri": "https://localhost:8080/"
        },
        "outputId": "1a9816b7-9451-4777-c8cd-1246d3fead48"
      },
      "source": [
        "# import my modules\n",
        "import sys\n",
        "sys.path.append('/content/drive/My Drive/LYIT/Dissertation/modules/')\n",
        "import data_prep as dp\n",
        "import pipeline_utils as pu\n",
        "import stats_n_features as sf"
      ],
      "execution_count": 8,
      "outputs": [
        {
          "output_type": "stream",
          "text": [
            ">> LOADING custom module, when: 2020-11-24 13:32:25.454444, module name: stats_n_features\n",
            ">> LOADING custom module, when: 2020-11-24 13:32:25.455536, module name: data_prep\n",
            ">> LOADING custom module, when: 2020-11-24 13:32:25.702439, module name: pipeline_utils\n"
          ],
          "name": "stdout"
        }
      ]
    },
    {
      "cell_type": "code",
      "metadata": {
        "colab": {
          "base_uri": "https://localhost:8080/"
        },
        "id": "8sJrzgLAYHdB",
        "outputId": "a6d3cf49-46e5-4370-aa80-98c2f1f4d432"
      },
      "source": [
        "# test module function calls..\n",
        "dp.test_function_call('bling')\n",
        "sf.test_function_call('hello')"
      ],
      "execution_count": 9,
      "outputs": [
        {
          "output_type": "stream",
          "text": [
            "Test function in data_prep.py called and worked! when: 2020-11-24 13:32:25.735726,  param:bling\n",
            "Test function in stats_n_features called and worked! when: 2020-11-24 13:32:25.735927,  param:hello\n"
          ],
          "name": "stdout"
        }
      ]
    },
    {
      "cell_type": "markdown",
      "metadata": {
        "id": "lBT_BaeD4o8L"
      },
      "source": [
        "## Pandas display options"
      ]
    },
    {
      "cell_type": "code",
      "metadata": {
        "id": "KkLdwFFAAotC"
      },
      "source": [
        "def set_pandas_display_options() -> None:\n",
        "    # Ref: https://stackoverflow.com/a/52432757/\n",
        "    display = pd.options.display\n",
        "\n",
        "    display.max_columns = 1000\n",
        "    display.max_rows = 2000\n",
        "    display.max_colwidth = 1000\n",
        "    display.width = None\n",
        "    # display.precision = 2  # set as needed\n",
        "\n",
        "set_pandas_display_options()\n",
        "#pd.reset_option('all')\n"
      ],
      "execution_count": 10,
      "outputs": []
    },
    {
      "cell_type": "markdown",
      "metadata": {
        "id": "c3onp99QayAH"
      },
      "source": [
        "# Load & filter data..."
      ]
    },
    {
      "cell_type": "code",
      "metadata": {
        "colab": {
          "base_uri": "https://localhost:8080/",
          "height": 1000
        },
        "id": "0vKT1X98Zc7L",
        "outputId": "9a9addd8-191d-4d29-e525-085ab9ba000e"
      },
      "source": [
        "##################################\n",
        "######## LOAD\n",
        "\n",
        "my_data = dp.load_all_data()\n",
        "all_drummer_data = my_data.copy()\n",
        ";"
      ],
      "execution_count": 11,
      "outputs": [
        {
          "output_type": "stream",
          "text": [
            "BULK LOAD: drummer1, drummer1/eval_session/1_funk-groove1_138_beat_4-4.mid\n",
            "FILE name: /content/drive/My Drive/groove-v1.0.0-midionly/groove/drummer1/eval_session/1_funk-groove1_138_beat_4-4.mid\n",
            "    loaded file: <midi file '/content/drive/My Drive/groove-v1.0.0-midionly/groove/drummer1/eval_session/1_funk-groove1_138_beat_4-4.mid' type 0, 1 tracks, 1300 messages>\n",
            "    time sig: <meta message time_signature numerator=4 denominator=4 clocks_per_click=24 notated_32nd_notes_per_beat=8 time=0>\n",
            "    tempo: <meta message set_tempo tempo=434783 time=0>\n",
            "    track count: 1, tracks: [<midi track 'MIDI' 1300 messages>]\n",
            "    MIDI file type: 0\n",
            "    > processing track: <midi track 'MIDI' 1300 messages>\n",
            "    __notes pre-filter: [36. 37. 38. 40. 43. 44. 51. 52. 53. 55.]\n",
            "    __applying filter: [44]\n",
            "    __notes post filter: [36. 37. 38. 40. 43. 51. 52. 53. 55.]\n",
            "    note_on span - first tick: 3 , last tick: 30658 \n",
            "    good instruments: 5, {36.0: 'Bass Drum 1 (36)', 38.0: 'Acoustic Snare (38)', 43.0: 'High Floor Tom (43)', 49.0: 'Crash Cymbal 1 (49)', 51.0: 'Ride Cymbal 1 (51)'}\n",
            "    bar info - bars in file: 16, bar quantize level: 16.0\n",
            "    tick info - ticks per time sig beat: 480.0, ticks per quantize bin: 120\n",
            "    > checking for errs...\n",
            "    __ tmp_df before: (288, 8)\n",
            "    __ err_buckets removed: (24, 7)\n",
            "    __ tmp_df after: (264, 8)\n",
            "   > raw instruments: [49 51 36 38 43]\n",
            "   ['Crash Cymbal 1 (49)', 'Ride Cymbal 1 (51)', 'Bass Drum 1 (36)', 'Acoustic Snare (38)', 'High Floor Tom (43)']\n",
            "   counts before final filter: note\n",
            "36     54\n",
            "38     79\n",
            "43      1\n",
            "49      4\n",
            "51    126\n",
            "Name: note, dtype: int64\n",
            "   counts after final filter: note\n",
            "36     54\n",
            "38     79\n",
            "51    126\n",
            "Name: note, dtype: int64\n",
            "    counts after final merge: note\n",
            "hh       126\n",
            "kick      54\n",
            "snare     79\n",
            "Name: note, dtype: int64\n",
            "BULK LOAD: drummer1, drummer1/eval_session/3_soul-groove3_86_beat_4-4.mid\n",
            "FILE name: /content/drive/My Drive/groove-v1.0.0-midionly/groove/drummer1/eval_session/3_soul-groove3_86_beat_4-4.mid\n",
            "    loaded file: <midi file '/content/drive/My Drive/groove-v1.0.0-midionly/groove/drummer1/eval_session/3_soul-groove3_86_beat_4-4.mid' type 0, 1 tracks, 1179 messages>\n",
            "    time sig: <meta message time_signature numerator=4 denominator=4 clocks_per_click=24 notated_32nd_notes_per_beat=8 time=0>\n",
            "    tempo: <meta message set_tempo tempo=697674 time=0>\n",
            "    track count: 1, tracks: [<midi track 'MIDI' 1179 messages>]\n",
            "    MIDI file type: 0\n",
            "    > processing track: <midi track 'MIDI' 1179 messages>\n",
            "    __notes pre-filter: [22. 26. 36. 37. 38. 40. 42. 44. 46.]\n",
            "    __applying filter: [44]\n",
            "    __notes post filter: [22. 26. 36. 37. 38. 40. 42. 46.]\n",
            "    note_on span - first tick: 0 , last tick: 30696 \n",
            "    good instruments: 4, {36.0: 'Bass Drum 1 (36)', 38.0: 'Acoustic Snare (38)', 42.0: 'Closed Hi Hat (42)', 46.0: 'Open Hi-Hat (46)'}\n",
            "    bar info - bars in file: 16, bar quantize level: 16.0\n",
            "    tick info - ticks per time sig beat: 480.0, ticks per quantize bin: 120\n",
            "    > checking for errs...\n",
            "    __ tmp_df before: (455, 8)\n",
            "    __ err_buckets removed: (8, 7)\n",
            "    __ tmp_df after: (447, 8)\n",
            "   > raw instruments: [42 36 38 46]\n",
            "   ['Closed Hi Hat (42)', 'Bass Drum 1 (36)', 'Acoustic Snare (38)', 'Open Hi-Hat (46)']\n",
            "   counts before final filter: note\n",
            "36     80\n",
            "38    115\n",
            "42    249\n",
            "46      3\n",
            "Name: note, dtype: int64\n",
            "   counts after final filter: note\n",
            "36     80\n",
            "38    115\n",
            "42    249\n",
            "46      3\n",
            "Name: note, dtype: int64\n",
            "    counts after final merge: note\n",
            "hh       252\n",
            "kick      80\n",
            "snare    115\n",
            "Name: note, dtype: int64\n",
            "BULK LOAD: drummer1, drummer1/eval_session/4_soul-groove4_80_beat_4-4.mid\n",
            "FILE name: /content/drive/My Drive/groove-v1.0.0-midionly/groove/drummer1/eval_session/4_soul-groove4_80_beat_4-4.mid\n",
            "    loaded file: <midi file '/content/drive/My Drive/groove-v1.0.0-midionly/groove/drummer1/eval_session/4_soul-groove4_80_beat_4-4.mid' type 0, 1 tracks, 626 messages>\n",
            "    time sig: <meta message time_signature numerator=4 denominator=4 clocks_per_click=24 notated_32nd_notes_per_beat=8 time=0>\n",
            "    tempo: <meta message set_tempo tempo=750000 time=0>\n",
            "    track count: 1, tracks: [<midi track 'MIDI' 626 messages>]\n",
            "    MIDI file type: 0\n",
            "    > processing track: <midi track 'MIDI' 626 messages>\n",
            "    __notes pre-filter: [22. 26. 36. 38. 40. 42. 44.]\n",
            "    __applying filter: [44]\n",
            "    __notes post filter: [22. 26. 36. 38. 40. 42.]\n",
            "    note_on span - first tick: 0 , last tick: 30470 \n",
            "    good instruments: 4, {36.0: 'Bass Drum 1 (36)', 38.0: 'Acoustic Snare (38)', 42.0: 'Closed Hi Hat (42)', 46.0: 'Open Hi-Hat (46)'}\n",
            "    bar info - bars in file: 16, bar quantize level: 16.0\n",
            "    tick info - ticks per time sig beat: 480.0, ticks per quantize bin: 120\n",
            "    > checking for errs...\n",
            "    ...no errors to see here\n",
            "   > raw instruments: [36 42 38 46]\n",
            "   ['Bass Drum 1 (36)', 'Closed Hi Hat (42)', 'Acoustic Snare (38)', 'Open Hi-Hat (46)']\n",
            "   counts before final filter: note\n",
            "36     32\n",
            "38     32\n",
            "42    144\n",
            "46      8\n",
            "Name: note, dtype: int64\n",
            "   counts after final filter: note\n",
            "36     32\n",
            "38     32\n",
            "42    144\n",
            "46      8\n",
            "Name: note, dtype: int64\n",
            "    counts after final merge: note\n",
            "hh       152\n",
            "kick      32\n",
            "snare     32\n",
            "Name: note, dtype: int64\n",
            "BULK LOAD: drummer1, drummer1/eval_session/6_hiphop-groove6_87_beat_4-4.mid\n",
            "FILE name: /content/drive/My Drive/groove-v1.0.0-midionly/groove/drummer1/eval_session/6_hiphop-groove6_87_beat_4-4.mid\n",
            "    loaded file: <midi file '/content/drive/My Drive/groove-v1.0.0-midionly/groove/drummer1/eval_session/6_hiphop-groove6_87_beat_4-4.mid' type 0, 1 tracks, 971 messages>\n",
            "    time sig: <meta message time_signature numerator=4 denominator=4 clocks_per_click=24 notated_32nd_notes_per_beat=8 time=0>\n",
            "    tempo: <meta message set_tempo tempo=689655 time=0>\n",
            "    track count: 1, tracks: [<midi track 'MIDI' 971 messages>]\n",
            "    MIDI file type: 0\n",
            "    > processing track: <midi track 'MIDI' 971 messages>\n",
            "    __notes pre-filter: [22. 26. 36. 37. 38. 40. 42. 44.]\n",
            "    __applying filter: [44]\n",
            "    __notes post filter: [22. 26. 36. 37. 38. 40. 42.]\n",
            "    note_on span - first tick: 0 , last tick: 30474 \n",
            "    good instruments: 4, {36.0: 'Bass Drum 1 (36)', 38.0: 'Acoustic Snare (38)', 42.0: 'Closed Hi Hat (42)', 46.0: 'Open Hi-Hat (46)'}\n",
            "    bar info - bars in file: 16, bar quantize level: 16.0\n",
            "    tick info - ticks per time sig beat: 480.0, ticks per quantize bin: 120\n",
            "    > checking for errs...\n",
            "    ...no errors to see here\n",
            "   > raw instruments: [36 42 38 46]\n",
            "   ['Bass Drum 1 (36)', 'Closed Hi Hat (42)', 'Acoustic Snare (38)', 'Open Hi-Hat (46)']\n",
            "   counts before final filter: note\n",
            "36    105\n",
            "38     33\n",
            "42    217\n",
            "46      5\n",
            "Name: note, dtype: int64\n",
            "   counts after final filter: note\n",
            "36    105\n",
            "38     33\n",
            "42    217\n",
            "46      5\n",
            "Name: note, dtype: int64\n",
            "    counts after final merge: note\n",
            "hh       222\n",
            "kick     105\n",
            "snare     33\n",
            "Name: note, dtype: int64\n",
            "BULK LOAD: drummer1, drummer1/eval_session/8_rock-groove8_65_beat_4-4.mid\n",
            "FILE name: /content/drive/My Drive/groove-v1.0.0-midionly/groove/drummer1/eval_session/8_rock-groove8_65_beat_4-4.mid\n",
            "    loaded file: <midi file '/content/drive/My Drive/groove-v1.0.0-midionly/groove/drummer1/eval_session/8_rock-groove8_65_beat_4-4.mid' type 0, 1 tracks, 600 messages>\n",
            "    time sig: <meta message time_signature numerator=4 denominator=4 clocks_per_click=24 notated_32nd_notes_per_beat=8 time=0>\n",
            "    tempo: <meta message set_tempo tempo=923077 time=0>\n",
            "    track count: 1, tracks: [<midi track 'MIDI' 600 messages>]\n",
            "    MIDI file type: 0\n",
            "    > processing track: <midi track 'MIDI' 600 messages>\n",
            "    __notes pre-filter: [22. 26. 36. 37. 38. 40. 42. 44. 46.]\n",
            "    __applying filter: [44]\n",
            "    __notes post filter: [22. 26. 36. 37. 38. 40. 42. 46.]\n",
            "    note_on span - first tick: 0 , last tick: 30370 \n",
            "    good instruments: 4, {36.0: 'Bass Drum 1 (36)', 38.0: 'Acoustic Snare (38)', 42.0: 'Closed Hi Hat (42)', 46.0: 'Open Hi-Hat (46)'}\n",
            "    bar info - bars in file: 16, bar quantize level: 16.0\n",
            "    tick info - ticks per time sig beat: 480.0, ticks per quantize bin: 120\n",
            "    > checking for errs...\n",
            "    __ tmp_df before: (218, 8)\n",
            "    __ err_buckets removed: (2, 7)\n",
            "    __ tmp_df after: (216, 8)\n",
            "   > raw instruments: [36 42 38 46]\n",
            "   ['Bass Drum 1 (36)', 'Closed Hi Hat (42)', 'Acoustic Snare (38)', 'Open Hi-Hat (46)']\n",
            "   counts before final filter: note\n",
            "36     56\n",
            "38     40\n",
            "42    111\n",
            "46      9\n",
            "Name: note, dtype: int64\n",
            "   counts after final filter: note\n",
            "36     56\n",
            "38     40\n",
            "42    111\n",
            "46      9\n",
            "Name: note, dtype: int64\n",
            "    counts after final merge: note\n",
            "hh       120\n",
            "kick      56\n",
            "snare     40\n",
            "Name: note, dtype: int64\n",
            "BULK LOAD: drummer5, drummer5/eval_session/1_funk-groove1_138_beat_4-4.mid\n",
            "FILE name: /content/drive/My Drive/groove-v1.0.0-midionly/groove/drummer5/eval_session/1_funk-groove1_138_beat_4-4.mid\n",
            "    loaded file: <midi file '/content/drive/My Drive/groove-v1.0.0-midionly/groove/drummer5/eval_session/1_funk-groove1_138_beat_4-4.mid' type 0, 1 tracks, 1037 messages>\n",
            "    time sig: <meta message time_signature numerator=4 denominator=4 clocks_per_click=24 notated_32nd_notes_per_beat=8 time=0>\n",
            "    tempo: <meta message set_tempo tempo=434783 time=0>\n",
            "    track count: 1, tracks: [<midi track 'Base Midi' 1037 messages>]\n",
            "    MIDI file type: 0\n",
            "    > processing track: <midi track 'Base Midi' 1037 messages>\n",
            "    __notes pre-filter: [36. 38. 40. 44. 51.]\n",
            "    __applying filter: [44]\n",
            "    __notes post filter: [36. 38. 40. 51.]\n",
            "    note_on span - first tick: 5 , last tick: 30634 \n",
            "    good instruments: 3, {36.0: 'Bass Drum 1 (36)', 38.0: 'Acoustic Snare (38)', 51.0: 'Ride Cymbal 1 (51)'}\n",
            "    bar info - bars in file: 16, bar quantize level: 16.0\n",
            "    tick info - ticks per time sig beat: 480.0, ticks per quantize bin: 120\n",
            "    > checking for errs...\n",
            "    __ tmp_df before: (309, 8)\n",
            "    __ err_buckets removed: (12, 7)\n",
            "    __ tmp_df after: (297, 8)\n",
            "   > raw instruments: [36 51 38]\n",
            "   ['Bass Drum 1 (36)', 'Ride Cymbal 1 (51)', 'Acoustic Snare (38)']\n",
            "   counts before final filter: note\n",
            "36     68\n",
            "38    101\n",
            "51    128\n",
            "Name: note, dtype: int64\n",
            "   counts after final filter: note\n",
            "36     68\n",
            "38    101\n",
            "51    128\n",
            "Name: note, dtype: int64\n",
            "    counts after final merge: note\n",
            "hh       128\n",
            "kick      68\n",
            "snare    101\n",
            "Name: note, dtype: int64\n",
            "BULK LOAD: drummer5, drummer5/eval_session/3_soul-groove3_86_beat_4-4.mid\n",
            "FILE name: /content/drive/My Drive/groove-v1.0.0-midionly/groove/drummer5/eval_session/3_soul-groove3_86_beat_4-4.mid\n",
            "    loaded file: <midi file '/content/drive/My Drive/groove-v1.0.0-midionly/groove/drummer5/eval_session/3_soul-groove3_86_beat_4-4.mid' type 0, 1 tracks, 1146 messages>\n",
            "    time sig: <meta message time_signature numerator=4 denominator=4 clocks_per_click=24 notated_32nd_notes_per_beat=8 time=0>\n",
            "    tempo: <meta message set_tempo tempo=697674 time=0>\n",
            "    track count: 1, tracks: [<midi track 'Base Midi' 1146 messages>]\n",
            "    MIDI file type: 0\n",
            "    > processing track: <midi track 'Base Midi' 1146 messages>\n",
            "    __notes pre-filter: [22. 26. 36. 37. 38. 40. 42.]\n",
            "    __applying filter: [44]\n",
            "    __notes post filter: [22. 26. 36. 37. 38. 40. 42.]\n",
            "    note_on span - first tick: 0 , last tick: 30587 \n",
            "    good instruments: 4, {36.0: 'Bass Drum 1 (36)', 38.0: 'Acoustic Snare (38)', 42.0: 'Closed Hi Hat (42)', 46.0: 'Open Hi-Hat (46)'}\n",
            "    bar info - bars in file: 16, bar quantize level: 16.0\n",
            "    tick info - ticks per time sig beat: 480.0, ticks per quantize bin: 120\n",
            "    > checking for errs...\n",
            "    __ tmp_df before: (433, 8)\n",
            "    __ err_buckets removed: (14, 7)\n",
            "    __ tmp_df after: (419, 8)\n",
            "   > raw instruments: [42 36 38 46]\n",
            "   ['Closed Hi Hat (42)', 'Bass Drum 1 (36)', 'Acoustic Snare (38)', 'Open Hi-Hat (46)']\n",
            "   counts before final filter: note\n",
            "36    111\n",
            "38     53\n",
            "42    249\n",
            "46      6\n",
            "Name: note, dtype: int64\n",
            "   counts after final filter: note\n",
            "36    111\n",
            "38     53\n",
            "42    249\n",
            "46      6\n",
            "Name: note, dtype: int64\n",
            "    counts after final merge: note\n",
            "hh       255\n",
            "kick     111\n",
            "snare     53\n",
            "Name: note, dtype: int64\n",
            "BULK LOAD: drummer5, drummer5/eval_session/4_soul-groove4_80_beat_4-4.mid\n",
            "FILE name: /content/drive/My Drive/groove-v1.0.0-midionly/groove/drummer5/eval_session/4_soul-groove4_80_beat_4-4.mid\n",
            "    loaded file: <midi file '/content/drive/My Drive/groove-v1.0.0-midionly/groove/drummer5/eval_session/4_soul-groove4_80_beat_4-4.mid' type 0, 1 tracks, 606 messages>\n",
            "    time sig: <meta message time_signature numerator=4 denominator=4 clocks_per_click=24 notated_32nd_notes_per_beat=8 time=0>\n",
            "    tempo: <meta message set_tempo tempo=750000 time=0>\n",
            "    track count: 1, tracks: [<midi track 'Base Midi' 606 messages>]\n",
            "    MIDI file type: 0\n",
            "    > processing track: <midi track 'Base Midi' 606 messages>\n",
            "    __notes pre-filter: [22. 26. 36. 37. 38. 40. 42. 44.]\n",
            "    __applying filter: [44]\n",
            "    __notes post filter: [22. 26. 36. 37. 38. 40. 42.]\n",
            "    note_on span - first tick: 0 , last tick: 30476 \n",
            "    good instruments: 4, {36.0: 'Bass Drum 1 (36)', 38.0: 'Acoustic Snare (38)', 42.0: 'Closed Hi Hat (42)', 46.0: 'Open Hi-Hat (46)'}\n",
            "    bar info - bars in file: 16, bar quantize level: 16.0\n",
            "    tick info - ticks per time sig beat: 480.0, ticks per quantize bin: 120\n",
            "    > checking for errs...\n",
            "    __ tmp_df before: (196, 8)\n",
            "    __ err_buckets removed: (2, 7)\n",
            "    __ tmp_df after: (194, 8)\n",
            "   > raw instruments: [36 42 38 46]\n",
            "   ['Bass Drum 1 (36)', 'Closed Hi Hat (42)', 'Acoustic Snare (38)', 'Open Hi-Hat (46)']\n",
            "   counts before final filter: note\n",
            "36     32\n",
            "38     52\n",
            "42    101\n",
            "46      9\n",
            "Name: note, dtype: int64\n",
            "   counts after final filter: note\n",
            "36     32\n",
            "38     52\n",
            "42    101\n",
            "46      9\n",
            "Name: note, dtype: int64\n",
            "    counts after final merge: note\n",
            "hh       110\n",
            "kick      32\n",
            "snare     52\n",
            "Name: note, dtype: int64\n",
            "BULK LOAD: drummer5, drummer5/eval_session/6_hiphop-groove6_87_beat_4-4.mid\n",
            "FILE name: /content/drive/My Drive/groove-v1.0.0-midionly/groove/drummer5/eval_session/6_hiphop-groove6_87_beat_4-4.mid\n",
            "    loaded file: <midi file '/content/drive/My Drive/groove-v1.0.0-midionly/groove/drummer5/eval_session/6_hiphop-groove6_87_beat_4-4.mid' type 0, 1 tracks, 625 messages>\n",
            "    time sig: <meta message time_signature numerator=4 denominator=4 clocks_per_click=24 notated_32nd_notes_per_beat=8 time=0>\n",
            "    tempo: <meta message set_tempo tempo=689655 time=0>\n",
            "    track count: 1, tracks: [<midi track 'Base Midi' 625 messages>]\n",
            "    MIDI file type: 0\n",
            "    > processing track: <midi track 'Base Midi' 625 messages>\n",
            "    __notes pre-filter: [22. 36. 38. 40. 42.]\n",
            "    __applying filter: [44]\n",
            "    __notes post filter: [22. 36. 38. 40. 42.]\n",
            "    note_on span - first tick: 0 , last tick: 30442 \n",
            "    good instruments: 3, {36.0: 'Bass Drum 1 (36)', 38.0: 'Acoustic Snare (38)', 42.0: 'Closed Hi Hat (42)'}\n",
            "    bar info - bars in file: 16, bar quantize level: 16.0\n",
            "    tick info - ticks per time sig beat: 480.0, ticks per quantize bin: 120\n",
            "    > checking for errs...\n",
            "    __ tmp_df before: (248, 8)\n",
            "    __ err_buckets removed: (12, 7)\n",
            "    __ tmp_df after: (236, 8)\n",
            "   > raw instruments: [42 36 38]\n",
            "   ['Closed Hi Hat (42)', 'Bass Drum 1 (36)', 'Acoustic Snare (38)']\n",
            "   counts before final filter: note\n",
            "36     88\n",
            "38     28\n",
            "42    120\n",
            "Name: note, dtype: int64\n",
            "   counts after final filter: note\n",
            "36     88\n",
            "38     28\n",
            "42    120\n",
            "Name: note, dtype: int64\n",
            "    counts after final merge: note\n",
            "hh       120\n",
            "kick      88\n",
            "snare     28\n",
            "Name: note, dtype: int64\n",
            "BULK LOAD: drummer5, drummer5/eval_session/8_rock-groove8_65_beat_4-4.mid\n",
            "FILE name: /content/drive/My Drive/groove-v1.0.0-midionly/groove/drummer5/eval_session/8_rock-groove8_65_beat_4-4.mid\n",
            "    loaded file: <midi file '/content/drive/My Drive/groove-v1.0.0-midionly/groove/drummer5/eval_session/8_rock-groove8_65_beat_4-4.mid' type 0, 1 tracks, 679 messages>\n",
            "    time sig: <meta message time_signature numerator=4 denominator=4 clocks_per_click=24 notated_32nd_notes_per_beat=8 time=0>\n",
            "    tempo: <meta message set_tempo tempo=923077 time=0>\n",
            "    track count: 1, tracks: [<midi track 'Base Midi' 679 messages>]\n",
            "    MIDI file type: 0\n",
            "    > processing track: <midi track 'Base Midi' 679 messages>\n",
            "    __notes pre-filter: [22. 26. 36. 37. 38. 40. 42. 44. 46.]\n",
            "    __applying filter: [44]\n",
            "    __notes post filter: [22. 26. 36. 37. 38. 40. 42. 46.]\n",
            "    note_on span - first tick: 0 , last tick: 30359 \n",
            "    good instruments: 4, {36.0: 'Bass Drum 1 (36)', 38.0: 'Acoustic Snare (38)', 42.0: 'Closed Hi Hat (42)', 46.0: 'Open Hi-Hat (46)'}\n",
            "    bar info - bars in file: 16, bar quantize level: 16.0\n",
            "    tick info - ticks per time sig beat: 480.0, ticks per quantize bin: 120\n",
            "    > checking for errs...\n",
            "    __ tmp_df before: (261, 8)\n",
            "    __ err_buckets removed: (71, 7)\n",
            "    __ tmp_df after: (190, 8)\n",
            "   > raw instruments: [42 36 38 46]\n",
            "   ['Closed Hi Hat (42)', 'Bass Drum 1 (36)', 'Acoustic Snare (38)', 'Open Hi-Hat (46)']\n",
            "   counts before final filter: note\n",
            "36     32\n",
            "38     39\n",
            "42    110\n",
            "46      9\n",
            "Name: note, dtype: int64\n",
            "   counts after final filter: note\n",
            "36     32\n",
            "38     39\n",
            "42    110\n",
            "46      9\n",
            "Name: note, dtype: int64\n",
            "    counts after final merge: note\n",
            "hh       119\n",
            "kick      32\n",
            "snare     39\n",
            "Name: note, dtype: int64\n",
            "BULK LOAD: drummer7, drummer7/eval_session/1_funk-groove1_138_beat_4-4.mid\n",
            "FILE name: /content/drive/My Drive/groove-v1.0.0-midionly/groove/drummer7/eval_session/1_funk-groove1_138_beat_4-4.mid\n",
            "    loaded file: <midi file '/content/drive/My Drive/groove-v1.0.0-midionly/groove/drummer7/eval_session/1_funk-groove1_138_beat_4-4.mid' type 0, 1 tracks, 521 messages>\n",
            "    time sig: <meta message time_signature numerator=4 denominator=4 clocks_per_click=24 notated_32nd_notes_per_beat=8 time=0>\n",
            "    tempo: <meta message set_tempo tempo=434783 time=0>\n",
            "    track count: 1, tracks: [<midi track 'Midi Drums' 521 messages>]\n",
            "    MIDI file type: 0\n",
            "    > processing track: <midi track 'Midi Drums' 521 messages>\n",
            "    __notes pre-filter: [36. 37. 38. 40. 51. 53. 55.]\n",
            "    __applying filter: [44]\n",
            "    __notes post filter: [36. 37. 38. 40. 51. 53. 55.]\n",
            "    note_on span - first tick: 0 , last tick: 30493 \n",
            "    good instruments: 4, {36.0: 'Bass Drum 1 (36)', 38.0: 'Acoustic Snare (38)', 49.0: 'Crash Cymbal 1 (49)', 51.0: 'Ride Cymbal 1 (51)'}\n",
            "    bar info - bars in file: 16, bar quantize level: 16.0\n",
            "    tick info - ticks per time sig beat: 480.0, ticks per quantize bin: 120\n",
            "    > checking for errs...\n",
            "    __ tmp_df before: (257, 8)\n",
            "    __ err_buckets removed: (2, 7)\n",
            "    __ tmp_df after: (255, 8)\n",
            "   > raw instruments: [36 51 38 49]\n",
            "   ['Bass Drum 1 (36)', 'Ride Cymbal 1 (51)', 'Acoustic Snare (38)', 'Crash Cymbal 1 (49)']\n",
            "   counts before final filter: note\n",
            "36     56\n",
            "38     72\n",
            "49      4\n",
            "51    123\n",
            "Name: note, dtype: int64\n",
            "   counts after final filter: note\n",
            "36     56\n",
            "38     72\n",
            "51    123\n",
            "Name: note, dtype: int64\n",
            "    counts after final merge: note\n",
            "hh       123\n",
            "kick      56\n",
            "snare     72\n",
            "Name: note, dtype: int64\n",
            "BULK LOAD: drummer7, drummer7/eval_session/3_soul-groove3_86_beat_4-4.mid\n",
            "FILE name: /content/drive/My Drive/groove-v1.0.0-midionly/groove/drummer7/eval_session/3_soul-groove3_86_beat_4-4.mid\n",
            "    loaded file: <midi file '/content/drive/My Drive/groove-v1.0.0-midionly/groove/drummer7/eval_session/3_soul-groove3_86_beat_4-4.mid' type 0, 1 tracks, 1095 messages>\n",
            "    time sig: <meta message time_signature numerator=4 denominator=4 clocks_per_click=24 notated_32nd_notes_per_beat=8 time=0>\n",
            "    tempo: <meta message set_tempo tempo=697674 time=0>\n",
            "    track count: 1, tracks: [<midi track 'Midi Drums' 1095 messages>]\n",
            "    MIDI file type: 0\n",
            "    > processing track: <midi track 'Midi Drums' 1095 messages>\n",
            "    __notes pre-filter: [22. 36. 38. 40. 42.]\n",
            "    __applying filter: [44]\n",
            "    __notes post filter: [22. 36. 38. 40. 42.]\n",
            "    note_on span - first tick: 0 , last tick: 30597 \n",
            "    good instruments: 3, {36.0: 'Bass Drum 1 (36)', 38.0: 'Acoustic Snare (38)', 42.0: 'Closed Hi Hat (42)'}\n",
            "    bar info - bars in file: 16, bar quantize level: 16.0\n",
            "    tick info - ticks per time sig beat: 480.0, ticks per quantize bin: 120\n",
            "    > checking for errs...\n",
            "    __ tmp_df before: (415, 8)\n",
            "    __ err_buckets removed: (4, 7)\n",
            "    __ tmp_df after: (411, 8)\n",
            "   > raw instruments: [42 36 38]\n",
            "   ['Closed Hi Hat (42)', 'Bass Drum 1 (36)', 'Acoustic Snare (38)']\n",
            "   counts before final filter: note\n",
            "36     95\n",
            "38     60\n",
            "42    256\n",
            "Name: note, dtype: int64\n",
            "   counts after final filter: note\n",
            "36     95\n",
            "38     60\n",
            "42    256\n",
            "Name: note, dtype: int64\n",
            "    counts after final merge: note\n",
            "hh       256\n",
            "kick      95\n",
            "snare     60\n",
            "Name: note, dtype: int64\n",
            "BULK LOAD: drummer7, drummer7/eval_session/4_soul-groove4_80_beat_4-4.mid\n",
            "FILE name: /content/drive/My Drive/groove-v1.0.0-midionly/groove/drummer7/eval_session/4_soul-groove4_80_beat_4-4.mid\n",
            "    loaded file: <midi file '/content/drive/My Drive/groove-v1.0.0-midionly/groove/drummer7/eval_session/4_soul-groove4_80_beat_4-4.mid' type 0, 1 tracks, 514 messages>\n",
            "    time sig: <meta message time_signature numerator=4 denominator=4 clocks_per_click=24 notated_32nd_notes_per_beat=8 time=0>\n",
            "    tempo: <meta message set_tempo tempo=750000 time=0>\n",
            "    track count: 1, tracks: [<midi track 'Midi Drums' 514 messages>]\n",
            "    MIDI file type: 0\n",
            "    > processing track: <midi track 'Midi Drums' 514 messages>\n",
            "    __notes pre-filter: [22. 26. 36. 38. 40. 42. 44. 46.]\n",
            "    __applying filter: [44]\n",
            "    __notes post filter: [22. 26. 36. 38. 40. 42. 46.]\n",
            "    note_on span - first tick: 0 , last tick: 30484 \n",
            "    good instruments: 4, {36.0: 'Bass Drum 1 (36)', 38.0: 'Acoustic Snare (38)', 42.0: 'Closed Hi Hat (42)', 46.0: 'Open Hi-Hat (46)'}\n",
            "    bar info - bars in file: 16, bar quantize level: 16.0\n",
            "    tick info - ticks per time sig beat: 480.0, ticks per quantize bin: 120\n",
            "    > checking for errs...\n",
            "    ...no errors to see here\n",
            "   > raw instruments: [42 38 36 46]\n",
            "   ['Closed Hi Hat (42)', 'Acoustic Snare (38)', 'Bass Drum 1 (36)', 'Open Hi-Hat (46)']\n",
            "   counts before final filter: note\n",
            "36     31\n",
            "38     33\n",
            "42    107\n",
            "46      9\n",
            "Name: note, dtype: int64\n",
            "   counts after final filter: note\n",
            "36     31\n",
            "38     33\n",
            "42    107\n",
            "46      9\n",
            "Name: note, dtype: int64\n",
            "    counts after final merge: note\n",
            "hh       116\n",
            "kick      31\n",
            "snare     33\n",
            "Name: note, dtype: int64\n",
            "BULK LOAD: drummer7, drummer7/eval_session/6_hiphop-groove6_87_beat_4-4.mid\n",
            "FILE name: /content/drive/My Drive/groove-v1.0.0-midionly/groove/drummer7/eval_session/6_hiphop-groove6_87_beat_4-4.mid\n",
            "    loaded file: <midi file '/content/drive/My Drive/groove-v1.0.0-midionly/groove/drummer7/eval_session/6_hiphop-groove6_87_beat_4-4.mid' type 0, 1 tracks, 844 messages>\n",
            "    time sig: <meta message time_signature numerator=4 denominator=4 clocks_per_click=24 notated_32nd_notes_per_beat=8 time=0>\n",
            "    tempo: <meta message set_tempo tempo=689655 time=0>\n",
            "    track count: 1, tracks: [<midi track 'Midi Drums' 844 messages>]\n",
            "    MIDI file type: 0\n",
            "    > processing track: <midi track 'Midi Drums' 844 messages>\n",
            "    __notes pre-filter: [22. 36. 37. 38. 40. 42.]\n",
            "    __applying filter: [44]\n",
            "    __notes post filter: [22. 36. 37. 38. 40. 42.]\n",
            "    note_on span - first tick: 2 , last tick: 30441 \n",
            "    good instruments: 3, {36.0: 'Bass Drum 1 (36)', 38.0: 'Acoustic Snare (38)', 42.0: 'Closed Hi Hat (42)'}\n",
            "    bar info - bars in file: 16, bar quantize level: 16.0\n",
            "    tick info - ticks per time sig beat: 480.0, ticks per quantize bin: 120\n",
            "    > checking for errs...\n",
            "    __ tmp_df before: (323, 8)\n",
            "    __ err_buckets removed: (6, 7)\n",
            "    __ tmp_df after: (317, 8)\n",
            "   > raw instruments: [36 38 42]\n",
            "   ['Bass Drum 1 (36)', 'Acoustic Snare (38)', 'Closed Hi Hat (42)']\n",
            "   counts before final filter: note\n",
            "36     99\n",
            "38     32\n",
            "42    186\n",
            "Name: note, dtype: int64\n",
            "   counts after final filter: note\n",
            "36     99\n",
            "38     32\n",
            "42    186\n",
            "Name: note, dtype: int64\n",
            "    counts after final merge: note\n",
            "hh       186\n",
            "kick      99\n",
            "snare     32\n",
            "Name: note, dtype: int64\n",
            "BULK LOAD: drummer7, drummer7/eval_session/8_rock-groove8_65_beat_4-4.mid\n",
            "FILE name: /content/drive/My Drive/groove-v1.0.0-midionly/groove/drummer7/eval_session/8_rock-groove8_65_beat_4-4.mid\n",
            "    loaded file: <midi file '/content/drive/My Drive/groove-v1.0.0-midionly/groove/drummer7/eval_session/8_rock-groove8_65_beat_4-4.mid' type 0, 1 tracks, 557 messages>\n",
            "    time sig: <meta message time_signature numerator=4 denominator=4 clocks_per_click=24 notated_32nd_notes_per_beat=8 time=0>\n",
            "    tempo: <meta message set_tempo tempo=923077 time=0>\n",
            "    track count: 1, tracks: [<midi track 'Midi Drums' 557 messages>]\n",
            "    MIDI file type: 0\n",
            "    > processing track: <midi track 'Midi Drums' 557 messages>\n",
            "    __notes pre-filter: [22. 26. 36. 38. 40. 42. 44.]\n",
            "    __applying filter: [44]\n",
            "    __notes post filter: [22. 26. 36. 38. 40. 42.]\n",
            "    note_on span - first tick: 0 , last tick: 30367 \n",
            "    good instruments: 4, {36.0: 'Bass Drum 1 (36)', 38.0: 'Acoustic Snare (38)', 42.0: 'Closed Hi Hat (42)', 46.0: 'Open Hi-Hat (46)'}\n",
            "    bar info - bars in file: 16, bar quantize level: 16.0\n",
            "    tick info - ticks per time sig beat: 480.0, ticks per quantize bin: 120\n",
            "    > checking for errs...\n",
            "    __ tmp_df before: (215, 8)\n",
            "    __ err_buckets removed: (2, 7)\n",
            "    __ tmp_df after: (213, 8)\n",
            "   > raw instruments: [42 38 36 46]\n",
            "   ['Closed Hi Hat (42)', 'Acoustic Snare (38)', 'Bass Drum 1 (36)', 'Open Hi-Hat (46)']\n",
            "   counts before final filter: note\n",
            "36     49\n",
            "38     44\n",
            "42    112\n",
            "46      8\n",
            "Name: note, dtype: int64\n",
            "   counts after final filter: note\n",
            "36     49\n",
            "38     44\n",
            "42    112\n",
            "46      8\n",
            "Name: note, dtype: int64\n",
            "    counts after final merge: note\n",
            "hh       120\n",
            "kick      49\n",
            "snare     44\n",
            "Name: note, dtype: int64\n",
            "BULK LOAD: drummer8, drummer8/eval_session/1_funk-groove1_138_beat_4-4.mid\n",
            "FILE name: /content/drive/My Drive/groove-v1.0.0-midionly/groove/drummer8/eval_session/1_funk-groove1_138_beat_4-4.mid\n",
            "    loaded file: <midi file '/content/drive/My Drive/groove-v1.0.0-midionly/groove/drummer8/eval_session/1_funk-groove1_138_beat_4-4.mid' type 0, 1 tracks, 728 messages>\n",
            "    time sig: <meta message time_signature numerator=4 denominator=4 clocks_per_click=24 notated_32nd_notes_per_beat=8 time=0>\n",
            "    tempo: <meta message set_tempo tempo=434783 time=0>\n",
            "    track count: 1, tracks: [<midi track 'Base Midi' 728 messages>]\n",
            "    MIDI file type: 0\n",
            "    > processing track: <midi track 'Base Midi' 728 messages>\n",
            "    __notes pre-filter: [22. 36. 37. 38. 40. 42.]\n",
            "    __applying filter: [44]\n",
            "    __notes post filter: [22. 36. 37. 38. 40. 42.]\n",
            "    note_on span - first tick: 0 , last tick: 30476 \n",
            "    good instruments: 3, {36.0: 'Bass Drum 1 (36)', 38.0: 'Acoustic Snare (38)', 42.0: 'Closed Hi Hat (42)'}\n",
            "    bar info - bars in file: 16, bar quantize level: 16.0\n",
            "    tick info - ticks per time sig beat: 480.0, ticks per quantize bin: 120\n",
            "    > checking for errs...\n",
            "    __ tmp_df before: (297, 8)\n",
            "    __ err_buckets removed: (18, 7)\n",
            "    __ tmp_df after: (279, 8)\n",
            "   > raw instruments: [36 42 38]\n",
            "   ['Bass Drum 1 (36)', 'Closed Hi Hat (42)', 'Acoustic Snare (38)']\n",
            "   counts before final filter: note\n",
            "36     56\n",
            "38     96\n",
            "42    127\n",
            "Name: note, dtype: int64\n",
            "   counts after final filter: note\n",
            "36     56\n",
            "38     96\n",
            "42    127\n",
            "Name: note, dtype: int64\n",
            "    counts after final merge: note\n",
            "hh       127\n",
            "kick      56\n",
            "snare     96\n",
            "Name: note, dtype: int64\n",
            "BULK LOAD: drummer8, drummer8/eval_session/3_soul-groove3_86_beat_4-4.mid\n",
            "FILE name: /content/drive/My Drive/groove-v1.0.0-midionly/groove/drummer8/eval_session/3_soul-groove3_86_beat_4-4.mid\n",
            "    loaded file: <midi file '/content/drive/My Drive/groove-v1.0.0-midionly/groove/drummer8/eval_session/3_soul-groove3_86_beat_4-4.mid' type 0, 1 tracks, 1063 messages>\n",
            "    time sig: <meta message time_signature numerator=4 denominator=4 clocks_per_click=24 notated_32nd_notes_per_beat=8 time=0>\n",
            "    tempo: <meta message set_tempo tempo=697674 time=0>\n",
            "    track count: 1, tracks: [<midi track 'Base Midi' 1063 messages>]\n",
            "    MIDI file type: 0\n",
            "    > processing track: <midi track 'Base Midi' 1063 messages>\n",
            "    __notes pre-filter: [36. 38. 40. 42.]\n",
            "    __applying filter: [44]\n",
            "    __notes post filter: [36. 38. 40. 42.]\n",
            "    note_on span - first tick: 5 , last tick: 30594 \n",
            "    good instruments: 3, {36.0: 'Bass Drum 1 (36)', 38.0: 'Acoustic Snare (38)', 42.0: 'Closed Hi Hat (42)'}\n",
            "    bar info - bars in file: 16, bar quantize level: 16.0\n",
            "    tick info - ticks per time sig beat: 480.0, ticks per quantize bin: 120\n",
            "    > checking for errs...\n",
            "    ...no errors to see here\n",
            "   > raw instruments: [36 42 38]\n",
            "   ['Bass Drum 1 (36)', 'Closed Hi Hat (42)', 'Acoustic Snare (38)']\n",
            "   counts before final filter: note\n",
            "36     96\n",
            "38     49\n",
            "42    255\n",
            "Name: note, dtype: int64\n",
            "   counts after final filter: note\n",
            "36     96\n",
            "38     49\n",
            "42    255\n",
            "Name: note, dtype: int64\n",
            "    counts after final merge: note\n",
            "hh       255\n",
            "kick      96\n",
            "snare     49\n",
            "Name: note, dtype: int64\n",
            "BULK LOAD: drummer8, drummer8/eval_session/4_soul-groove4_80_beat_4-4.mid\n",
            "FILE name: /content/drive/My Drive/groove-v1.0.0-midionly/groove/drummer8/eval_session/4_soul-groove4_80_beat_4-4.mid\n",
            "    loaded file: <midi file '/content/drive/My Drive/groove-v1.0.0-midionly/groove/drummer8/eval_session/4_soul-groove4_80_beat_4-4.mid' type 0, 1 tracks, 610 messages>\n",
            "    time sig: <meta message time_signature numerator=4 denominator=4 clocks_per_click=24 notated_32nd_notes_per_beat=8 time=0>\n",
            "    tempo: <meta message set_tempo tempo=750000 time=0>\n",
            "    track count: 1, tracks: [<midi track 'Base Midi' 610 messages>]\n",
            "    MIDI file type: 0\n",
            "    > processing track: <midi track 'Base Midi' 610 messages>\n",
            "    __notes pre-filter: [22. 36. 38. 42.]\n",
            "    __applying filter: [44]\n",
            "    __notes post filter: [22. 36. 38. 42.]\n",
            "    note_on span - first tick: 0 , last tick: 30601 \n",
            "    good instruments: 3, {36.0: 'Bass Drum 1 (36)', 38.0: 'Acoustic Snare (38)', 42.0: 'Closed Hi Hat (42)'}\n",
            "    bar info - bars in file: 16, bar quantize level: 16.0\n",
            "    tick info - ticks per time sig beat: 480.0, ticks per quantize bin: 120\n",
            "    > checking for errs...\n",
            "    ...no errors to see here\n",
            "   > raw instruments: [36 42 38]\n",
            "   ['Bass Drum 1 (36)', 'Closed Hi Hat (42)', 'Acoustic Snare (38)']\n",
            "   counts before final filter: note\n",
            "36     32\n",
            "38     32\n",
            "42    158\n",
            "Name: note, dtype: int64\n",
            "   counts after final filter: note\n",
            "36     32\n",
            "38     32\n",
            "42    158\n",
            "Name: note, dtype: int64\n",
            "    counts after final merge: note\n",
            "hh       158\n",
            "kick      32\n",
            "snare     32\n",
            "Name: note, dtype: int64\n",
            "BULK LOAD: drummer8, drummer8/eval_session/6_hiphop-groove6_87_beat_4-4.mid\n",
            "FILE name: /content/drive/My Drive/groove-v1.0.0-midionly/groove/drummer8/eval_session/6_hiphop-groove6_87_beat_4-4.mid\n",
            "    loaded file: <midi file '/content/drive/My Drive/groove-v1.0.0-midionly/groove/drummer8/eval_session/6_hiphop-groove6_87_beat_4-4.mid' type 0, 1 tracks, 803 messages>\n",
            "    time sig: <meta message time_signature numerator=4 denominator=4 clocks_per_click=24 notated_32nd_notes_per_beat=8 time=0>\n",
            "    tempo: <meta message set_tempo tempo=689655 time=0>\n",
            "    track count: 1, tracks: [<midi track 'Base Midi' 803 messages>]\n",
            "    MIDI file type: 0\n",
            "    > processing track: <midi track 'Base Midi' 803 messages>\n",
            "    __notes pre-filter: [36. 37. 38. 40. 42. 50.]\n",
            "    __applying filter: [44]\n",
            "    __notes post filter: [36. 37. 38. 40. 42. 50.]\n",
            "    note_on span - first tick: 15 , last tick: 30461 \n",
            "    good instruments: 4, {36.0: 'Bass Drum 1 (36)', 38.0: 'Acoustic Snare (38)', 42.0: 'Closed Hi Hat (42)', 50.0: 'High Tom (50)'}\n",
            "    bar info - bars in file: 16, bar quantize level: 16.0\n",
            "    tick info - ticks per time sig beat: 480.0, ticks per quantize bin: 120\n",
            "    > checking for errs...\n",
            "    __ tmp_df before: (313, 8)\n",
            "    __ err_buckets removed: (2, 7)\n",
            "    __ tmp_df after: (311, 8)\n",
            "   > raw instruments: [36 38 42 50]\n",
            "   ['Bass Drum 1 (36)', 'Acoustic Snare (38)', 'Closed Hi Hat (42)', 'High Tom (50)']\n",
            "   counts before final filter: note\n",
            "36    107\n",
            "38     31\n",
            "42    170\n",
            "50      3\n",
            "Name: note, dtype: int64\n",
            "   counts after final filter: note\n",
            "36    107\n",
            "38     31\n",
            "42    170\n",
            "Name: note, dtype: int64\n",
            "    counts after final merge: note\n",
            "hh       170\n",
            "kick     107\n",
            "snare     31\n",
            "Name: note, dtype: int64\n",
            "BULK LOAD: drummer8, drummer8/eval_session/8_rock-groove8_65_beat_4-4.mid\n",
            "FILE name: /content/drive/My Drive/groove-v1.0.0-midionly/groove/drummer8/eval_session/8_rock-groove8_65_beat_4-4.mid\n",
            "    loaded file: <midi file '/content/drive/My Drive/groove-v1.0.0-midionly/groove/drummer8/eval_session/8_rock-groove8_65_beat_4-4.mid' type 0, 1 tracks, 603 messages>\n",
            "    time sig: <meta message time_signature numerator=4 denominator=4 clocks_per_click=24 notated_32nd_notes_per_beat=8 time=0>\n",
            "    tempo: <meta message set_tempo tempo=923077 time=0>\n",
            "    track count: 1, tracks: [<midi track 'Base Midi' 603 messages>]\n",
            "    MIDI file type: 0\n",
            "    > processing track: <midi track 'Base Midi' 603 messages>\n",
            "    __notes pre-filter: [26. 36. 38. 40. 42. 44.]\n",
            "    __applying filter: [44]\n",
            "    __notes post filter: [26. 36. 38. 40. 42.]\n",
            "    note_on span - first tick: 0 , last tick: 30354 \n",
            "    good instruments: 4, {36.0: 'Bass Drum 1 (36)', 38.0: 'Acoustic Snare (38)', 42.0: 'Closed Hi Hat (42)', 46.0: 'Open Hi-Hat (46)'}\n",
            "    bar info - bars in file: 16, bar quantize level: 16.0\n",
            "    tick info - ticks per time sig beat: 480.0, ticks per quantize bin: 120\n",
            "    > checking for errs...\n",
            "    ...no errors to see here\n",
            "   > raw instruments: [36 42 38 46]\n",
            "   ['Bass Drum 1 (36)', 'Closed Hi Hat (42)', 'Acoustic Snare (38)', 'Open Hi-Hat (46)']\n",
            "   counts before final filter: note\n",
            "36     56\n",
            "38     40\n",
            "42    112\n",
            "46      8\n",
            "Name: note, dtype: int64\n",
            "   counts after final filter: note\n",
            "36     56\n",
            "38     40\n",
            "42    112\n",
            "46      8\n",
            "Name: note, dtype: int64\n",
            "    counts after final merge: note\n",
            "hh       120\n",
            "kick      56\n",
            "snare     40\n",
            "Name: note, dtype: int64\n"
          ],
          "name": "stdout"
        },
        {
          "output_type": "execute_result",
          "data": {
            "application/vnd.google.colaboratory.intrinsic+json": {
              "type": "string"
            },
            "text/plain": [
              "''"
            ]
          },
          "metadata": {
            "tags": []
          },
          "execution_count": 11
        }
      ]
    },
    {
      "cell_type": "markdown",
      "metadata": {
        "id": "oqqkKvSSZkfz"
      },
      "source": [
        "## Single file tests.."
      ]
    },
    {
      "cell_type": "code",
      "metadata": {
        "colab": {
          "base_uri": "https://localhost:8080/",
          "height": 564
        },
        "id": "Rt2gXzJvZnWL",
        "outputId": "467c3944-fdd6-4518-a97e-d6d4ecb6f9ae"
      },
      "source": [
        "##################################\n",
        "######## EXPLORE SINGLE FILE\n",
        "\n",
        "# experimenting on a single file here ...\n",
        "key1 = '/content/drive/My Drive/groove-v1.0.0-midionly/groove/drummer1/eval_session/1_funk-groove1_138_beat_4-4.mid'\n",
        "#key2 = '/content/drive/My Drive/groove-v1.0.0-midionly/groove/drummer5/eval_session/1_funk-groove1_138_beat_4-4.mid'\n",
        "\n",
        "test_data = all_drummer_data[key1]\n",
        "df1 = test_data.tight_df.copy()\n",
        "df1.head()\n",
        "\n",
        "print('stats for: {}'.format(key1))\n",
        "df1['beat_offset'].groupby(df1['note']).describe()\n",
        "df1['velocity'].groupby(df1['note']).describe()\n"
      ],
      "execution_count": 12,
      "outputs": [
        {
          "output_type": "execute_result",
          "data": {
            "text/html": [
              "<div>\n",
              "<style scoped>\n",
              "    .dataframe tbody tr th:only-of-type {\n",
              "        vertical-align: middle;\n",
              "    }\n",
              "\n",
              "    .dataframe tbody tr th {\n",
              "        vertical-align: top;\n",
              "    }\n",
              "\n",
              "    .dataframe thead th {\n",
              "        text-align: right;\n",
              "    }\n",
              "</style>\n",
              "<table border=\"1\" class=\"dataframe\">\n",
              "  <thead>\n",
              "    <tr style=\"text-align: right;\">\n",
              "      <th></th>\n",
              "      <th></th>\n",
              "      <th>note</th>\n",
              "      <th>velocity</th>\n",
              "      <th>beat_offset</th>\n",
              "      <th>bar_beat_number</th>\n",
              "    </tr>\n",
              "    <tr>\n",
              "      <th>bar_number</th>\n",
              "      <th>bar_beat_number</th>\n",
              "      <th></th>\n",
              "      <th></th>\n",
              "      <th></th>\n",
              "      <th></th>\n",
              "    </tr>\n",
              "  </thead>\n",
              "  <tbody>\n",
              "    <tr>\n",
              "      <th rowspan=\"5\" valign=\"top\">1</th>\n",
              "      <th>1</th>\n",
              "      <td>hh</td>\n",
              "      <td>55</td>\n",
              "      <td>7</td>\n",
              "      <td>1</td>\n",
              "    </tr>\n",
              "    <tr>\n",
              "      <th>1</th>\n",
              "      <td>kick</td>\n",
              "      <td>64</td>\n",
              "      <td>10</td>\n",
              "      <td>1</td>\n",
              "    </tr>\n",
              "    <tr>\n",
              "      <th>3</th>\n",
              "      <td>kick</td>\n",
              "      <td>57</td>\n",
              "      <td>-29</td>\n",
              "      <td>3</td>\n",
              "    </tr>\n",
              "    <tr>\n",
              "      <th>3</th>\n",
              "      <td>hh</td>\n",
              "      <td>31</td>\n",
              "      <td>-2</td>\n",
              "      <td>3</td>\n",
              "    </tr>\n",
              "    <tr>\n",
              "      <th>5</th>\n",
              "      <td>hh</td>\n",
              "      <td>54</td>\n",
              "      <td>-13</td>\n",
              "      <td>5</td>\n",
              "    </tr>\n",
              "  </tbody>\n",
              "</table>\n",
              "</div>"
            ],
            "text/plain": [
              "                            note  velocity  beat_offset  bar_beat_number\n",
              "bar_number bar_beat_number                                              \n",
              "1          1                  hh        55            7                1\n",
              "           1                kick        64           10                1\n",
              "           3                kick        57          -29                3\n",
              "           3                  hh        31           -2                3\n",
              "           5                  hh        54          -13                5"
            ]
          },
          "metadata": {
            "tags": []
          },
          "execution_count": 12
        },
        {
          "output_type": "stream",
          "text": [
            "stats for: /content/drive/My Drive/groove-v1.0.0-midionly/groove/drummer1/eval_session/1_funk-groove1_138_beat_4-4.mid\n"
          ],
          "name": "stdout"
        },
        {
          "output_type": "execute_result",
          "data": {
            "text/html": [
              "<div>\n",
              "<style scoped>\n",
              "    .dataframe tbody tr th:only-of-type {\n",
              "        vertical-align: middle;\n",
              "    }\n",
              "\n",
              "    .dataframe tbody tr th {\n",
              "        vertical-align: top;\n",
              "    }\n",
              "\n",
              "    .dataframe thead th {\n",
              "        text-align: right;\n",
              "    }\n",
              "</style>\n",
              "<table border=\"1\" class=\"dataframe\">\n",
              "  <thead>\n",
              "    <tr style=\"text-align: right;\">\n",
              "      <th></th>\n",
              "      <th>count</th>\n",
              "      <th>mean</th>\n",
              "      <th>std</th>\n",
              "      <th>min</th>\n",
              "      <th>25%</th>\n",
              "      <th>50%</th>\n",
              "      <th>75%</th>\n",
              "      <th>max</th>\n",
              "    </tr>\n",
              "    <tr>\n",
              "      <th>note</th>\n",
              "      <th></th>\n",
              "      <th></th>\n",
              "      <th></th>\n",
              "      <th></th>\n",
              "      <th></th>\n",
              "      <th></th>\n",
              "      <th></th>\n",
              "      <th></th>\n",
              "    </tr>\n",
              "  </thead>\n",
              "  <tbody>\n",
              "    <tr>\n",
              "      <th>hh</th>\n",
              "      <td>126.0</td>\n",
              "      <td>-4.674603</td>\n",
              "      <td>13.097071</td>\n",
              "      <td>-41.0</td>\n",
              "      <td>-12.00</td>\n",
              "      <td>-3.5</td>\n",
              "      <td>4.0</td>\n",
              "      <td>27.0</td>\n",
              "    </tr>\n",
              "    <tr>\n",
              "      <th>kick</th>\n",
              "      <td>54.0</td>\n",
              "      <td>-14.777778</td>\n",
              "      <td>15.486655</td>\n",
              "      <td>-54.0</td>\n",
              "      <td>-24.75</td>\n",
              "      <td>-13.0</td>\n",
              "      <td>-4.0</td>\n",
              "      <td>10.0</td>\n",
              "    </tr>\n",
              "    <tr>\n",
              "      <th>snare</th>\n",
              "      <td>79.0</td>\n",
              "      <td>-9.924051</td>\n",
              "      <td>20.791253</td>\n",
              "      <td>-58.0</td>\n",
              "      <td>-21.00</td>\n",
              "      <td>-8.0</td>\n",
              "      <td>0.5</td>\n",
              "      <td>55.0</td>\n",
              "    </tr>\n",
              "  </tbody>\n",
              "</table>\n",
              "</div>"
            ],
            "text/plain": [
              "       count       mean        std   min    25%   50%  75%   max\n",
              "note                                                            \n",
              "hh     126.0  -4.674603  13.097071 -41.0 -12.00  -3.5  4.0  27.0\n",
              "kick    54.0 -14.777778  15.486655 -54.0 -24.75 -13.0 -4.0  10.0\n",
              "snare   79.0  -9.924051  20.791253 -58.0 -21.00  -8.0  0.5  55.0"
            ]
          },
          "metadata": {
            "tags": []
          },
          "execution_count": 12
        },
        {
          "output_type": "execute_result",
          "data": {
            "text/html": [
              "<div>\n",
              "<style scoped>\n",
              "    .dataframe tbody tr th:only-of-type {\n",
              "        vertical-align: middle;\n",
              "    }\n",
              "\n",
              "    .dataframe tbody tr th {\n",
              "        vertical-align: top;\n",
              "    }\n",
              "\n",
              "    .dataframe thead th {\n",
              "        text-align: right;\n",
              "    }\n",
              "</style>\n",
              "<table border=\"1\" class=\"dataframe\">\n",
              "  <thead>\n",
              "    <tr style=\"text-align: right;\">\n",
              "      <th></th>\n",
              "      <th>count</th>\n",
              "      <th>mean</th>\n",
              "      <th>std</th>\n",
              "      <th>min</th>\n",
              "      <th>25%</th>\n",
              "      <th>50%</th>\n",
              "      <th>75%</th>\n",
              "      <th>max</th>\n",
              "    </tr>\n",
              "    <tr>\n",
              "      <th>note</th>\n",
              "      <th></th>\n",
              "      <th></th>\n",
              "      <th></th>\n",
              "      <th></th>\n",
              "      <th></th>\n",
              "      <th></th>\n",
              "      <th></th>\n",
              "      <th></th>\n",
              "    </tr>\n",
              "  </thead>\n",
              "  <tbody>\n",
              "    <tr>\n",
              "      <th>hh</th>\n",
              "      <td>126.0</td>\n",
              "      <td>50.436508</td>\n",
              "      <td>9.891003</td>\n",
              "      <td>30.0</td>\n",
              "      <td>44.0</td>\n",
              "      <td>49.0</td>\n",
              "      <td>56.00</td>\n",
              "      <td>83.0</td>\n",
              "    </tr>\n",
              "    <tr>\n",
              "      <th>kick</th>\n",
              "      <td>54.0</td>\n",
              "      <td>60.796296</td>\n",
              "      <td>15.543463</td>\n",
              "      <td>42.0</td>\n",
              "      <td>52.0</td>\n",
              "      <td>59.5</td>\n",
              "      <td>63.75</td>\n",
              "      <td>127.0</td>\n",
              "    </tr>\n",
              "    <tr>\n",
              "      <th>snare</th>\n",
              "      <td>79.0</td>\n",
              "      <td>71.506329</td>\n",
              "      <td>35.822523</td>\n",
              "      <td>8.0</td>\n",
              "      <td>33.0</td>\n",
              "      <td>90.0</td>\n",
              "      <td>102.00</td>\n",
              "      <td>117.0</td>\n",
              "    </tr>\n",
              "  </tbody>\n",
              "</table>\n",
              "</div>"
            ],
            "text/plain": [
              "       count       mean        std   min   25%   50%     75%    max\n",
              "note                                                               \n",
              "hh     126.0  50.436508   9.891003  30.0  44.0  49.0   56.00   83.0\n",
              "kick    54.0  60.796296  15.543463  42.0  52.0  59.5   63.75  127.0\n",
              "snare   79.0  71.506329  35.822523   8.0  33.0  90.0  102.00  117.0"
            ]
          },
          "metadata": {
            "tags": []
          },
          "execution_count": 12
        }
      ]
    },
    {
      "cell_type": "code",
      "metadata": {
        "colab": {
          "base_uri": "https://localhost:8080/",
          "height": 1000
        },
        "id": "C7V5dgDffyxv",
        "outputId": "1650e71d-8384-49e0-d9cb-4da2d11eaf3a"
      },
      "source": [
        "# pull out notes in named bars...\n",
        "display(df1.xs(1, level='bar_number')) \n",
        "display(df1.xs(2, level='bar_number')) "
      ],
      "execution_count": 13,
      "outputs": [
        {
          "output_type": "display_data",
          "data": {
            "text/html": [
              "<div>\n",
              "<style scoped>\n",
              "    .dataframe tbody tr th:only-of-type {\n",
              "        vertical-align: middle;\n",
              "    }\n",
              "\n",
              "    .dataframe tbody tr th {\n",
              "        vertical-align: top;\n",
              "    }\n",
              "\n",
              "    .dataframe thead th {\n",
              "        text-align: right;\n",
              "    }\n",
              "</style>\n",
              "<table border=\"1\" class=\"dataframe\">\n",
              "  <thead>\n",
              "    <tr style=\"text-align: right;\">\n",
              "      <th></th>\n",
              "      <th>note</th>\n",
              "      <th>velocity</th>\n",
              "      <th>beat_offset</th>\n",
              "      <th>bar_beat_number</th>\n",
              "    </tr>\n",
              "    <tr>\n",
              "      <th>bar_beat_number</th>\n",
              "      <th></th>\n",
              "      <th></th>\n",
              "      <th></th>\n",
              "      <th></th>\n",
              "    </tr>\n",
              "  </thead>\n",
              "  <tbody>\n",
              "    <tr>\n",
              "      <th>1</th>\n",
              "      <td>hh</td>\n",
              "      <td>55</td>\n",
              "      <td>7</td>\n",
              "      <td>1</td>\n",
              "    </tr>\n",
              "    <tr>\n",
              "      <th>1</th>\n",
              "      <td>kick</td>\n",
              "      <td>64</td>\n",
              "      <td>10</td>\n",
              "      <td>1</td>\n",
              "    </tr>\n",
              "    <tr>\n",
              "      <th>3</th>\n",
              "      <td>kick</td>\n",
              "      <td>57</td>\n",
              "      <td>-29</td>\n",
              "      <td>3</td>\n",
              "    </tr>\n",
              "    <tr>\n",
              "      <th>3</th>\n",
              "      <td>hh</td>\n",
              "      <td>31</td>\n",
              "      <td>-2</td>\n",
              "      <td>3</td>\n",
              "    </tr>\n",
              "    <tr>\n",
              "      <th>5</th>\n",
              "      <td>hh</td>\n",
              "      <td>54</td>\n",
              "      <td>-13</td>\n",
              "      <td>5</td>\n",
              "    </tr>\n",
              "    <tr>\n",
              "      <th>5</th>\n",
              "      <td>snare</td>\n",
              "      <td>93</td>\n",
              "      <td>-5</td>\n",
              "      <td>5</td>\n",
              "    </tr>\n",
              "    <tr>\n",
              "      <th>7</th>\n",
              "      <td>hh</td>\n",
              "      <td>42</td>\n",
              "      <td>-16</td>\n",
              "      <td>7</td>\n",
              "    </tr>\n",
              "    <tr>\n",
              "      <th>8</th>\n",
              "      <td>snare</td>\n",
              "      <td>33</td>\n",
              "      <td>-12</td>\n",
              "      <td>8</td>\n",
              "    </tr>\n",
              "    <tr>\n",
              "      <th>10</th>\n",
              "      <td>snare</td>\n",
              "      <td>33</td>\n",
              "      <td>-14</td>\n",
              "      <td>10</td>\n",
              "    </tr>\n",
              "    <tr>\n",
              "      <th>11</th>\n",
              "      <td>kick</td>\n",
              "      <td>59</td>\n",
              "      <td>-37</td>\n",
              "      <td>11</td>\n",
              "    </tr>\n",
              "    <tr>\n",
              "      <th>11</th>\n",
              "      <td>hh</td>\n",
              "      <td>42</td>\n",
              "      <td>-32</td>\n",
              "      <td>11</td>\n",
              "    </tr>\n",
              "    <tr>\n",
              "      <th>13</th>\n",
              "      <td>hh</td>\n",
              "      <td>64</td>\n",
              "      <td>-18</td>\n",
              "      <td>13</td>\n",
              "    </tr>\n",
              "    <tr>\n",
              "      <th>13</th>\n",
              "      <td>snare</td>\n",
              "      <td>114</td>\n",
              "      <td>7</td>\n",
              "      <td>13</td>\n",
              "    </tr>\n",
              "    <tr>\n",
              "      <th>15</th>\n",
              "      <td>hh</td>\n",
              "      <td>44</td>\n",
              "      <td>-1</td>\n",
              "      <td>15</td>\n",
              "    </tr>\n",
              "    <tr>\n",
              "      <th>16</th>\n",
              "      <td>snare</td>\n",
              "      <td>30</td>\n",
              "      <td>-3</td>\n",
              "      <td>16</td>\n",
              "    </tr>\n",
              "  </tbody>\n",
              "</table>\n",
              "</div>"
            ],
            "text/plain": [
              "                  note  velocity  beat_offset  bar_beat_number\n",
              "bar_beat_number                                               \n",
              "1                   hh        55            7                1\n",
              "1                 kick        64           10                1\n",
              "3                 kick        57          -29                3\n",
              "3                   hh        31           -2                3\n",
              "5                   hh        54          -13                5\n",
              "5                snare        93           -5                5\n",
              "7                   hh        42          -16                7\n",
              "8                snare        33          -12                8\n",
              "10               snare        33          -14               10\n",
              "11                kick        59          -37               11\n",
              "11                  hh        42          -32               11\n",
              "13                  hh        64          -18               13\n",
              "13               snare       114            7               13\n",
              "15                  hh        44           -1               15\n",
              "16               snare        30           -3               16"
            ]
          },
          "metadata": {
            "tags": []
          }
        },
        {
          "output_type": "display_data",
          "data": {
            "text/html": [
              "<div>\n",
              "<style scoped>\n",
              "    .dataframe tbody tr th:only-of-type {\n",
              "        vertical-align: middle;\n",
              "    }\n",
              "\n",
              "    .dataframe tbody tr th {\n",
              "        vertical-align: top;\n",
              "    }\n",
              "\n",
              "    .dataframe thead th {\n",
              "        text-align: right;\n",
              "    }\n",
              "</style>\n",
              "<table border=\"1\" class=\"dataframe\">\n",
              "  <thead>\n",
              "    <tr style=\"text-align: right;\">\n",
              "      <th></th>\n",
              "      <th>note</th>\n",
              "      <th>velocity</th>\n",
              "      <th>beat_offset</th>\n",
              "      <th>bar_beat_number</th>\n",
              "    </tr>\n",
              "    <tr>\n",
              "      <th>bar_beat_number</th>\n",
              "      <th></th>\n",
              "      <th></th>\n",
              "      <th></th>\n",
              "      <th></th>\n",
              "    </tr>\n",
              "  </thead>\n",
              "  <tbody>\n",
              "    <tr>\n",
              "      <th>1</th>\n",
              "      <td>hh</td>\n",
              "      <td>42</td>\n",
              "      <td>-7</td>\n",
              "      <td>1</td>\n",
              "    </tr>\n",
              "    <tr>\n",
              "      <th>1</th>\n",
              "      <td>kick</td>\n",
              "      <td>55</td>\n",
              "      <td>-5</td>\n",
              "      <td>1</td>\n",
              "    </tr>\n",
              "    <tr>\n",
              "      <th>3</th>\n",
              "      <td>kick</td>\n",
              "      <td>62</td>\n",
              "      <td>-10</td>\n",
              "      <td>3</td>\n",
              "    </tr>\n",
              "    <tr>\n",
              "      <th>3</th>\n",
              "      <td>hh</td>\n",
              "      <td>41</td>\n",
              "      <td>3</td>\n",
              "      <td>3</td>\n",
              "    </tr>\n",
              "    <tr>\n",
              "      <th>5</th>\n",
              "      <td>snare</td>\n",
              "      <td>94</td>\n",
              "      <td>4</td>\n",
              "      <td>5</td>\n",
              "    </tr>\n",
              "    <tr>\n",
              "      <th>5</th>\n",
              "      <td>hh</td>\n",
              "      <td>51</td>\n",
              "      <td>5</td>\n",
              "      <td>5</td>\n",
              "    </tr>\n",
              "    <tr>\n",
              "      <th>7</th>\n",
              "      <td>hh</td>\n",
              "      <td>45</td>\n",
              "      <td>7</td>\n",
              "      <td>7</td>\n",
              "    </tr>\n",
              "    <tr>\n",
              "      <th>8</th>\n",
              "      <td>snare</td>\n",
              "      <td>32</td>\n",
              "      <td>7</td>\n",
              "      <td>8</td>\n",
              "    </tr>\n",
              "    <tr>\n",
              "      <th>9</th>\n",
              "      <td>hh</td>\n",
              "      <td>43</td>\n",
              "      <td>2</td>\n",
              "      <td>9</td>\n",
              "    </tr>\n",
              "    <tr>\n",
              "      <th>10</th>\n",
              "      <td>snare</td>\n",
              "      <td>24</td>\n",
              "      <td>-5</td>\n",
              "      <td>10</td>\n",
              "    </tr>\n",
              "    <tr>\n",
              "      <th>11</th>\n",
              "      <td>kick</td>\n",
              "      <td>47</td>\n",
              "      <td>-46</td>\n",
              "      <td>11</td>\n",
              "    </tr>\n",
              "    <tr>\n",
              "      <th>11</th>\n",
              "      <td>hh</td>\n",
              "      <td>36</td>\n",
              "      <td>2</td>\n",
              "      <td>11</td>\n",
              "    </tr>\n",
              "    <tr>\n",
              "      <th>12</th>\n",
              "      <td>kick</td>\n",
              "      <td>54</td>\n",
              "      <td>-21</td>\n",
              "      <td>12</td>\n",
              "    </tr>\n",
              "    <tr>\n",
              "      <th>13</th>\n",
              "      <td>snare</td>\n",
              "      <td>89</td>\n",
              "      <td>-13</td>\n",
              "      <td>13</td>\n",
              "    </tr>\n",
              "    <tr>\n",
              "      <th>13</th>\n",
              "      <td>hh</td>\n",
              "      <td>54</td>\n",
              "      <td>0</td>\n",
              "      <td>13</td>\n",
              "    </tr>\n",
              "    <tr>\n",
              "      <th>15</th>\n",
              "      <td>hh</td>\n",
              "      <td>39</td>\n",
              "      <td>7</td>\n",
              "      <td>15</td>\n",
              "    </tr>\n",
              "  </tbody>\n",
              "</table>\n",
              "</div>"
            ],
            "text/plain": [
              "                  note  velocity  beat_offset  bar_beat_number\n",
              "bar_beat_number                                               \n",
              "1                   hh        42           -7                1\n",
              "1                 kick        55           -5                1\n",
              "3                 kick        62          -10                3\n",
              "3                   hh        41            3                3\n",
              "5                snare        94            4                5\n",
              "5                   hh        51            5                5\n",
              "7                   hh        45            7                7\n",
              "8                snare        32            7                8\n",
              "9                   hh        43            2                9\n",
              "10               snare        24           -5               10\n",
              "11                kick        47          -46               11\n",
              "11                  hh        36            2               11\n",
              "12                kick        54          -21               12\n",
              "13               snare        89          -13               13\n",
              "13                  hh        54            0               13\n",
              "15                  hh        39            7               15"
            ]
          },
          "metadata": {
            "tags": []
          }
        }
      ]
    },
    {
      "cell_type": "markdown",
      "metadata": {
        "id": "u9yXJCSEa7bO"
      },
      "source": [
        "## Filter songs..."
      ]
    },
    {
      "cell_type": "markdown",
      "metadata": {
        "id": "qjcKzDPgR1sK"
      },
      "source": [
        "Take a look at all file names in the complete data set..."
      ]
    },
    {
      "cell_type": "code",
      "metadata": {
        "colab": {
          "base_uri": "https://localhost:8080/"
        },
        "id": "TX8d6C3cRUv1",
        "outputId": "a4efeffb-2c0a-46b1-86f0-0e79293feb22"
      },
      "source": [
        "list(all_drummer_data.keys())"
      ],
      "execution_count": 238,
      "outputs": [
        {
          "output_type": "execute_result",
          "data": {
            "text/plain": [
              "['/content/drive/My Drive/groove-v1.0.0-midionly/groove/drummer1/eval_session/1_funk-groove1_138_beat_4-4.mid',\n",
              " '/content/drive/My Drive/groove-v1.0.0-midionly/groove/drummer1/eval_session/3_soul-groove3_86_beat_4-4.mid',\n",
              " '/content/drive/My Drive/groove-v1.0.0-midionly/groove/drummer1/eval_session/4_soul-groove4_80_beat_4-4.mid',\n",
              " '/content/drive/My Drive/groove-v1.0.0-midionly/groove/drummer1/eval_session/6_hiphop-groove6_87_beat_4-4.mid',\n",
              " '/content/drive/My Drive/groove-v1.0.0-midionly/groove/drummer1/eval_session/8_rock-groove8_65_beat_4-4.mid',\n",
              " '/content/drive/My Drive/groove-v1.0.0-midionly/groove/drummer5/eval_session/1_funk-groove1_138_beat_4-4.mid',\n",
              " '/content/drive/My Drive/groove-v1.0.0-midionly/groove/drummer5/eval_session/3_soul-groove3_86_beat_4-4.mid',\n",
              " '/content/drive/My Drive/groove-v1.0.0-midionly/groove/drummer5/eval_session/4_soul-groove4_80_beat_4-4.mid',\n",
              " '/content/drive/My Drive/groove-v1.0.0-midionly/groove/drummer5/eval_session/6_hiphop-groove6_87_beat_4-4.mid',\n",
              " '/content/drive/My Drive/groove-v1.0.0-midionly/groove/drummer5/eval_session/8_rock-groove8_65_beat_4-4.mid',\n",
              " '/content/drive/My Drive/groove-v1.0.0-midionly/groove/drummer7/eval_session/1_funk-groove1_138_beat_4-4.mid',\n",
              " '/content/drive/My Drive/groove-v1.0.0-midionly/groove/drummer7/eval_session/3_soul-groove3_86_beat_4-4.mid',\n",
              " '/content/drive/My Drive/groove-v1.0.0-midionly/groove/drummer7/eval_session/4_soul-groove4_80_beat_4-4.mid',\n",
              " '/content/drive/My Drive/groove-v1.0.0-midionly/groove/drummer7/eval_session/6_hiphop-groove6_87_beat_4-4.mid',\n",
              " '/content/drive/My Drive/groove-v1.0.0-midionly/groove/drummer7/eval_session/8_rock-groove8_65_beat_4-4.mid',\n",
              " '/content/drive/My Drive/groove-v1.0.0-midionly/groove/drummer8/eval_session/1_funk-groove1_138_beat_4-4.mid',\n",
              " '/content/drive/My Drive/groove-v1.0.0-midionly/groove/drummer8/eval_session/3_soul-groove3_86_beat_4-4.mid',\n",
              " '/content/drive/My Drive/groove-v1.0.0-midionly/groove/drummer8/eval_session/4_soul-groove4_80_beat_4-4.mid',\n",
              " '/content/drive/My Drive/groove-v1.0.0-midionly/groove/drummer8/eval_session/6_hiphop-groove6_87_beat_4-4.mid',\n",
              " '/content/drive/My Drive/groove-v1.0.0-midionly/groove/drummer8/eval_session/8_rock-groove8_65_beat_4-4.mid']"
            ]
          },
          "metadata": {
            "tags": []
          },
          "execution_count": 238
        }
      ]
    },
    {
      "cell_type": "markdown",
      "metadata": {
        "id": "PaGGCcrSR9lh"
      },
      "source": [
        "Code to pull out data to test, based on selected songs. Also add 'y' (target/ observation) label."
      ]
    },
    {
      "cell_type": "code",
      "metadata": {
        "colab": {
          "base_uri": "https://localhost:8080/",
          "height": 306
        },
        "id": "Wv1ZPml3a-NW",
        "outputId": "464c8a67-dd43-4a09-8832-c80c9b3c184c"
      },
      "source": [
        "\n",
        "# FILTER SONGS BEING TESTED, ADD LABEL\n",
        "\n",
        "def addLabelCol(df, label):\n",
        "  '''\n",
        "  Input: data_prep.PerformanceData.tight_df\n",
        "  Return: df with additional colum for Y/ label called 'drummer_ID'\n",
        "  '''\n",
        "  df.insert(0, 'drummer_ID', label) # add it as first col\n",
        "  return df\n",
        "\n",
        "def load_songs(style_filter=[]):\n",
        "\n",
        "  songs_data = []\n",
        "\n",
        "  if len(style_filter) == 0:\n",
        "    print('>>>> Loading all songs ...')\n",
        "    for next_file in all_drummer_data.keys():\n",
        "      perf_data = all_drummer_data[next_file]\n",
        "      file_name = perf_data.file_wrapper.my_file_name\n",
        "      print('  __{}'.format(file_name))\n",
        "      df1 = perf_data.tight_df.copy()\n",
        "      df2 = addLabelCol(df1, perf_data.drummer_id)  \n",
        "      df2.reset_index(drop=True, inplace=True)\n",
        "      songs_data.append(df2)\n",
        "    print('>>>> DONE loading all songs.')\n",
        "  else:\n",
        "    for next_style in style_filter:\n",
        "      print('>>>> Loading songs in style: {} ...'.format(next_style))\n",
        "\n",
        "      # iterate through loaded files, extract songs\n",
        "      # matching the any styles set in 'next_filter'\n",
        "      for next_file in all_drummer_data.keys():\n",
        "        perf_data = all_drummer_data[next_file]\n",
        "        file_name = perf_data.file_wrapper.my_file_name\n",
        "        if next_style in file_name:\n",
        "          print('  __{}'.format(file_name))\n",
        "          df1 = perf_data.tight_df.copy()\n",
        "          df2 = addLabelCol(df1, perf_data.drummer_id)  \n",
        "          df2.reset_index(drop=True, inplace=True)\n",
        "          songs_data.append(df2)\n",
        "        else:\n",
        "          #print('  ... ignoring: {}'.format(file_name))\n",
        "          pass\n",
        "    print('>>>> DONE loading songs: {}'.format(style_filter))\n",
        "\n",
        "  return songs_data\n",
        "\n",
        "# specify style being processed\n",
        "# 1_funk-groove1\n",
        "# 3_soul-groove3\n",
        "# 4_soul-groove4\n",
        "# 6_hiphop-groove6\n",
        "# 8_rock-groove8\n",
        "\n",
        "#style_filter = \"1_funk-groove1\"  \n",
        "#style_filter = \"3_soul-groove3\" \n",
        "#style_filter = \"4_soul-groove4\"\n",
        "#style_filter = \"6_hiphop-groove6\"\n",
        "#style_filter = \"8_rock-groove8\"\n",
        "\n",
        "filtered_songs = load_songs(style_filter=[\"3_soul-groove3\"])\n",
        "\n",
        "# load ALL songs ...\n",
        "#working_songs = load_songs()\n",
        "\n",
        "# merge all into single df, drop indexes, reset default index\n",
        "working_data = pd.concat(filtered_songs)\n",
        "working_data.reset_index(inplace=True, drop=True)\n",
        "\n",
        "# .. at this point, df 'working_data' is a collection\n",
        "# of data for the same song, across all drummers, with\n",
        "# DrummerID label\n",
        "\n",
        "working_data.head(5)\n"
      ],
      "execution_count": 245,
      "outputs": [
        {
          "output_type": "stream",
          "text": [
            ">>>> Loading songs in style: 3_soul-groove3 ...\n",
            "  __/content/drive/My Drive/groove-v1.0.0-midionly/groove/drummer1/eval_session/3_soul-groove3_86_beat_4-4.mid\n",
            "  __/content/drive/My Drive/groove-v1.0.0-midionly/groove/drummer5/eval_session/3_soul-groove3_86_beat_4-4.mid\n",
            "  __/content/drive/My Drive/groove-v1.0.0-midionly/groove/drummer7/eval_session/3_soul-groove3_86_beat_4-4.mid\n",
            "  __/content/drive/My Drive/groove-v1.0.0-midionly/groove/drummer8/eval_session/3_soul-groove3_86_beat_4-4.mid\n",
            ">>>> DONE loading songs: ['3_soul-groove3']\n"
          ],
          "name": "stdout"
        },
        {
          "output_type": "execute_result",
          "data": {
            "text/html": [
              "<div>\n",
              "<style scoped>\n",
              "    .dataframe tbody tr th:only-of-type {\n",
              "        vertical-align: middle;\n",
              "    }\n",
              "\n",
              "    .dataframe tbody tr th {\n",
              "        vertical-align: top;\n",
              "    }\n",
              "\n",
              "    .dataframe thead th {\n",
              "        text-align: right;\n",
              "    }\n",
              "</style>\n",
              "<table border=\"1\" class=\"dataframe\">\n",
              "  <thead>\n",
              "    <tr style=\"text-align: right;\">\n",
              "      <th></th>\n",
              "      <th>drummer_ID</th>\n",
              "      <th>note</th>\n",
              "      <th>velocity</th>\n",
              "      <th>beat_offset</th>\n",
              "      <th>bar_beat_number</th>\n",
              "    </tr>\n",
              "  </thead>\n",
              "  <tbody>\n",
              "    <tr>\n",
              "      <th>0</th>\n",
              "      <td>drummer1</td>\n",
              "      <td>hh</td>\n",
              "      <td>32</td>\n",
              "      <td>0</td>\n",
              "      <td>1</td>\n",
              "    </tr>\n",
              "    <tr>\n",
              "      <th>1</th>\n",
              "      <td>drummer1</td>\n",
              "      <td>kick</td>\n",
              "      <td>60</td>\n",
              "      <td>0</td>\n",
              "      <td>1</td>\n",
              "    </tr>\n",
              "    <tr>\n",
              "      <th>2</th>\n",
              "      <td>drummer1</td>\n",
              "      <td>snare</td>\n",
              "      <td>15</td>\n",
              "      <td>1</td>\n",
              "      <td>1</td>\n",
              "    </tr>\n",
              "    <tr>\n",
              "      <th>3</th>\n",
              "      <td>drummer1</td>\n",
              "      <td>hh</td>\n",
              "      <td>18</td>\n",
              "      <td>0</td>\n",
              "      <td>2</td>\n",
              "    </tr>\n",
              "    <tr>\n",
              "      <th>4</th>\n",
              "      <td>drummer1</td>\n",
              "      <td>hh</td>\n",
              "      <td>60</td>\n",
              "      <td>3</td>\n",
              "      <td>3</td>\n",
              "    </tr>\n",
              "  </tbody>\n",
              "</table>\n",
              "</div>"
            ],
            "text/plain": [
              "  drummer_ID   note  velocity  beat_offset  bar_beat_number\n",
              "0   drummer1     hh        32            0                1\n",
              "1   drummer1   kick        60            0                1\n",
              "2   drummer1  snare        15            1                1\n",
              "3   drummer1     hh        18            0                2\n",
              "4   drummer1     hh        60            3                3"
            ]
          },
          "metadata": {
            "tags": []
          },
          "execution_count": 245
        }
      ]
    },
    {
      "cell_type": "markdown",
      "metadata": {
        "id": "5bC-Ly7h_9LV"
      },
      "source": [
        "# Setup pipelines"
      ]
    },
    {
      "cell_type": "markdown",
      "metadata": {
        "id": "0PsIAz0QYtbk"
      },
      "source": [
        "## X, y split"
      ]
    },
    {
      "cell_type": "markdown",
      "metadata": {
        "id": "ArftiVcD-2fe"
      },
      "source": [
        "Break into X, y before continuing ..."
      ]
    },
    {
      "cell_type": "code",
      "metadata": {
        "id": "7_dNfV_NxVRu"
      },
      "source": [
        "# BREAK INTO X, y\n",
        "y = working_data['drummer_ID'].to_numpy()\n",
        "X = working_data.drop(['drummer_ID' ], axis=1) #.to_numpy()"
      ],
      "execution_count": 246,
      "outputs": []
    },
    {
      "cell_type": "code",
      "metadata": {
        "colab": {
          "base_uri": "https://localhost:8080/",
          "height": 359
        },
        "id": "L2gSJXZwxq7E",
        "outputId": "35689ac6-5ec8-4548-e057-05363eaf1e66"
      },
      "source": [
        "X.head(10)"
      ],
      "execution_count": 242,
      "outputs": [
        {
          "output_type": "execute_result",
          "data": {
            "text/html": [
              "<div>\n",
              "<style scoped>\n",
              "    .dataframe tbody tr th:only-of-type {\n",
              "        vertical-align: middle;\n",
              "    }\n",
              "\n",
              "    .dataframe tbody tr th {\n",
              "        vertical-align: top;\n",
              "    }\n",
              "\n",
              "    .dataframe thead th {\n",
              "        text-align: right;\n",
              "    }\n",
              "</style>\n",
              "<table border=\"1\" class=\"dataframe\">\n",
              "  <thead>\n",
              "    <tr style=\"text-align: right;\">\n",
              "      <th></th>\n",
              "      <th>note</th>\n",
              "      <th>velocity</th>\n",
              "      <th>beat_offset</th>\n",
              "      <th>bar_beat_number</th>\n",
              "    </tr>\n",
              "  </thead>\n",
              "  <tbody>\n",
              "    <tr>\n",
              "      <th>0</th>\n",
              "      <td>kick</td>\n",
              "      <td>116</td>\n",
              "      <td>0</td>\n",
              "      <td>1</td>\n",
              "    </tr>\n",
              "    <tr>\n",
              "      <th>1</th>\n",
              "      <td>hh</td>\n",
              "      <td>102</td>\n",
              "      <td>0</td>\n",
              "      <td>1</td>\n",
              "    </tr>\n",
              "    <tr>\n",
              "      <th>2</th>\n",
              "      <td>hh</td>\n",
              "      <td>79</td>\n",
              "      <td>3</td>\n",
              "      <td>3</td>\n",
              "    </tr>\n",
              "    <tr>\n",
              "      <th>3</th>\n",
              "      <td>snare</td>\n",
              "      <td>118</td>\n",
              "      <td>0</td>\n",
              "      <td>5</td>\n",
              "    </tr>\n",
              "    <tr>\n",
              "      <th>4</th>\n",
              "      <td>hh</td>\n",
              "      <td>95</td>\n",
              "      <td>3</td>\n",
              "      <td>5</td>\n",
              "    </tr>\n",
              "    <tr>\n",
              "      <th>5</th>\n",
              "      <td>hh</td>\n",
              "      <td>84</td>\n",
              "      <td>-3</td>\n",
              "      <td>7</td>\n",
              "    </tr>\n",
              "    <tr>\n",
              "      <th>6</th>\n",
              "      <td>kick</td>\n",
              "      <td>56</td>\n",
              "      <td>-14</td>\n",
              "      <td>8</td>\n",
              "    </tr>\n",
              "    <tr>\n",
              "      <th>7</th>\n",
              "      <td>kick</td>\n",
              "      <td>97</td>\n",
              "      <td>-12</td>\n",
              "      <td>9</td>\n",
              "    </tr>\n",
              "    <tr>\n",
              "      <th>8</th>\n",
              "      <td>hh</td>\n",
              "      <td>76</td>\n",
              "      <td>-6</td>\n",
              "      <td>9</td>\n",
              "    </tr>\n",
              "    <tr>\n",
              "      <th>9</th>\n",
              "      <td>hh</td>\n",
              "      <td>111</td>\n",
              "      <td>-11</td>\n",
              "      <td>11</td>\n",
              "    </tr>\n",
              "  </tbody>\n",
              "</table>\n",
              "</div>"
            ],
            "text/plain": [
              "    note  velocity  beat_offset  bar_beat_number\n",
              "0   kick       116            0                1\n",
              "1     hh       102            0                1\n",
              "2     hh        79            3                3\n",
              "3  snare       118            0                5\n",
              "4     hh        95            3                5\n",
              "5     hh        84           -3                7\n",
              "6   kick        56          -14                8\n",
              "7   kick        97          -12                9\n",
              "8     hh        76           -6                9\n",
              "9     hh       111          -11               11"
            ]
          },
          "metadata": {
            "tags": []
          },
          "execution_count": 242
        }
      ]
    },
    {
      "cell_type": "markdown",
      "metadata": {
        "id": "kfJf5jPs8x8o"
      },
      "source": [
        "## Create transformers"
      ]
    },
    {
      "cell_type": "code",
      "metadata": {
        "colab": {
          "base_uri": "https://localhost:8080/"
        },
        "id": "Gi0ZRXN2mH7o",
        "outputId": "2321a8e6-b20c-4f0b-f709-9fd589deea1b"
      },
      "source": [
        "beat_pos_cats = list(np.arange(1, 17))\n",
        "beat_pos_cats"
      ],
      "execution_count": 207,
      "outputs": [
        {
          "output_type": "execute_result",
          "data": {
            "text/plain": [
              "[1, 2, 3, 4, 5, 6, 7, 8, 9, 10, 11, 12, 13, 14, 15, 16]"
            ]
          },
          "metadata": {
            "tags": []
          },
          "execution_count": 207
        }
      ]
    },
    {
      "cell_type": "code",
      "metadata": {
        "id": "5PNptdKrgx7b"
      },
      "source": [
        "\n",
        "\n",
        "t_one_hot_beat_pos = OneHotEncoder(drop='first', categories=[beat_pos_cats])    # beat_pos\n",
        "\n",
        "t_one_hot = OneHotEncoder(drop='first')    # instrument\n",
        "t_scaler_robust = RobustScaler(quantile_range=(25, 75))  # velocity & offset\n",
        "t_scaler_mm_1 = MinMaxScaler(feature_range=(0, 1))       # velocity\n",
        "t_scaler_mm_2 = MinMaxScaler(feature_range=(-0.5, 0.5))  # offset\n",
        "\n",
        "# col indexes, 0-3: note, velocity, beat_offset, bar_beat_number\n",
        "\n",
        "# robust scaling of vel & offset, one hot for instrument  \n",
        "t_v0_robust = [('t_scaler_robust', t_scaler_robust, [1, 2]), ('t_one_hot', t_one_hot, [0])]\n",
        "ct_v0 = ColumnTransformer(transformers=t_v0_robust, remainder='passthrough', sparse_threshold=0)\n",
        " \n",
        "\n",
        "# this should be equivalent to previous pipeline for KNN\n",
        "# MinMax scaling of vel & offset, one hot for instrument & beat_pos\n",
        "t_v1_mm = [('t_scaler_mm_1', t_scaler_mm_1, [1]), # velocity \n",
        "               ('t_scaler_mm_2', t_scaler_mm_2, [2]),  # offset\n",
        "               ('t_one_hot', t_one_hot, [0]),  # instrument\n",
        "               ('t_one_hot_beat_pos', t_one_hot_beat_pos, [3])]  # beat_pos \n",
        "ct_v1 = ColumnTransformer(transformers=t_v1_mm, remainder='passthrough', sparse_threshold=0)\n",
        "\n",
        "# MinMax scaling of vel & offset, one hot for instrument\n",
        "t_v2_mm = [('t_scaler_mm_1', t_scaler_mm_1, [1]), # velocity \n",
        "               ('t_scaler_mm_2', t_scaler_mm_2, [2]),  # offset\n",
        "               ('t_one_hot', t_one_hot, [0])]  # instrument\n",
        "ct_v2 = ColumnTransformer(transformers=t_v2_mm, remainder='passthrough', sparse_threshold=0)\n",
        "\n",
        "\n",
        "# MinMax scaling of vel & offset, one hot for note\n",
        "t_v3_mm = [('t_scaler_mm_1', t_scaler_mm_1, [1, 2]), ('t_one_hot', t_one_hot, [0])]\n",
        "ct_v3 = ColumnTransformer(transformers=t_v3_mm, remainder='passthrough', sparse_threshold=0)\n"
      ],
      "execution_count": 211,
      "outputs": []
    },
    {
      "cell_type": "code",
      "metadata": {
        "id": "zkrGgygvyICq"
      },
      "source": [
        "from sklearn import set_config\n",
        "set_config(display='diagram')   \n",
        "# diplays HTML representation in a jupyter context\n"
      ],
      "execution_count": 19,
      "outputs": []
    },
    {
      "cell_type": "code",
      "metadata": {
        "colab": {
          "base_uri": "https://localhost:8080/",
          "height": 356
        },
        "id": "cNJ7yWl9y9Nd",
        "outputId": "fc7c0b36-a997-49e7-87ac-d00c0caeef46"
      },
      "source": [
        "ct_v0\n",
        "ct_v1\n",
        "ct_v2\n",
        "ct_v3"
      ],
      "execution_count": 86,
      "outputs": [
        {
          "output_type": "execute_result",
          "data": {
            "text/html": [
              "<style>div.sk-top-container {color: black;background-color: white;}div.sk-toggleable {background-color: white;}label.sk-toggleable__label {cursor: pointer;display: block;width: 100%;margin-bottom: 0;padding: 0.2em 0.3em;box-sizing: border-box;text-align: center;}div.sk-toggleable__content {max-height: 0;max-width: 0;overflow: hidden;text-align: left;background-color: #f0f8ff;}div.sk-toggleable__content pre {margin: 0.2em;color: black;border-radius: 0.25em;background-color: #f0f8ff;}input.sk-toggleable__control:checked~div.sk-toggleable__content {max-height: 200px;max-width: 100%;overflow: auto;}div.sk-estimator input.sk-toggleable__control:checked~label.sk-toggleable__label {background-color: #d4ebff;}div.sk-label input.sk-toggleable__control:checked~label.sk-toggleable__label {background-color: #d4ebff;}input.sk-hidden--visually {border: 0;clip: rect(1px 1px 1px 1px);clip: rect(1px, 1px, 1px, 1px);height: 1px;margin: -1px;overflow: hidden;padding: 0;position: absolute;width: 1px;}div.sk-estimator {font-family: monospace;background-color: #f0f8ff;margin: 0.25em 0.25em;border: 1px dotted black;border-radius: 0.25em;box-sizing: border-box;}div.sk-estimator:hover {background-color: #d4ebff;}div.sk-parallel-item::after {content: \"\";width: 100%;border-bottom: 1px solid gray;flex-grow: 1;}div.sk-label:hover label.sk-toggleable__label {background-color: #d4ebff;}div.sk-serial::before {content: \"\";position: absolute;border-left: 1px solid gray;box-sizing: border-box;top: 2em;bottom: 0;left: 50%;}div.sk-serial {display: flex;flex-direction: column;align-items: center;background-color: white;}div.sk-item {z-index: 1;}div.sk-parallel {display: flex;align-items: stretch;justify-content: center;background-color: white;}div.sk-parallel-item {display: flex;flex-direction: column;position: relative;background-color: white;}div.sk-parallel-item:first-child::after {align-self: flex-end;width: 50%;}div.sk-parallel-item:last-child::after {align-self: flex-start;width: 50%;}div.sk-parallel-item:only-child::after {width: 0;}div.sk-dashed-wrapped {border: 1px dashed gray;margin: 0.2em;box-sizing: border-box;padding-bottom: 0.1em;background-color: white;position: relative;}div.sk-label label {font-family: monospace;font-weight: bold;background-color: white;display: inline-block;line-height: 1.2em;}div.sk-label-container {position: relative;z-index: 2;text-align: center;}div.sk-container {display: inline-block;position: relative;}</style><div class=\"sk-top-container\"><div class=\"sk-container\"><div class=\"sk-item sk-dashed-wrapped\"><div class=\"sk-label-container\"><div class=\"sk-label sk-toggleable\"><input class=\"sk-toggleable__control sk-hidden--visually\" id=\"5a7c50e0-3350-4093-94d6-8fc745c66932\" type=\"checkbox\" ><label class=\"sk-toggleable__label\" for=\"5a7c50e0-3350-4093-94d6-8fc745c66932\">ColumnTransformer</label><div class=\"sk-toggleable__content\"><pre>ColumnTransformer(remainder='passthrough', sparse_threshold=0,\n",
              "                  transformers=[('t_scaler_robust',\n",
              "                                 RobustScaler(quantile_range=(25, 75)),\n",
              "                                 [1, 2]),\n",
              "                                ('t_one_hot', OneHotEncoder(drop='first'),\n",
              "                                 [0])])</pre></div></div></div><div class=\"sk-parallel\"><div class=\"sk-parallel-item\"><div class=\"sk-item\"><div class=\"sk-label-container\"><div class=\"sk-label sk-toggleable\"><input class=\"sk-toggleable__control sk-hidden--visually\" id=\"b64b89e9-1557-42d5-b52b-32192738dd6d\" type=\"checkbox\" ><label class=\"sk-toggleable__label\" for=\"b64b89e9-1557-42d5-b52b-32192738dd6d\">t_scaler_robust</label><div class=\"sk-toggleable__content\"><pre>[1, 2]</pre></div></div></div><div class=\"sk-serial\"><div class=\"sk-item\"><div class=\"sk-estimator sk-toggleable\"><input class=\"sk-toggleable__control sk-hidden--visually\" id=\"5678454b-4533-48b4-8a75-0cac3f549ee7\" type=\"checkbox\" ><label class=\"sk-toggleable__label\" for=\"5678454b-4533-48b4-8a75-0cac3f549ee7\">RobustScaler</label><div class=\"sk-toggleable__content\"><pre>RobustScaler(quantile_range=(25, 75))</pre></div></div></div></div></div></div><div class=\"sk-parallel-item\"><div class=\"sk-item\"><div class=\"sk-label-container\"><div class=\"sk-label sk-toggleable\"><input class=\"sk-toggleable__control sk-hidden--visually\" id=\"01f6c119-554c-4a79-bc1c-0a904c6d9fe3\" type=\"checkbox\" ><label class=\"sk-toggleable__label\" for=\"01f6c119-554c-4a79-bc1c-0a904c6d9fe3\">t_one_hot</label><div class=\"sk-toggleable__content\"><pre>[0]</pre></div></div></div><div class=\"sk-serial\"><div class=\"sk-item\"><div class=\"sk-estimator sk-toggleable\"><input class=\"sk-toggleable__control sk-hidden--visually\" id=\"b9e02ce4-9b75-49de-879c-24beceef9fd0\" type=\"checkbox\" ><label class=\"sk-toggleable__label\" for=\"b9e02ce4-9b75-49de-879c-24beceef9fd0\">OneHotEncoder</label><div class=\"sk-toggleable__content\"><pre>OneHotEncoder(drop='first')</pre></div></div></div></div></div></div></div></div></div></div>"
            ],
            "text/plain": [
              "ColumnTransformer(remainder='passthrough', sparse_threshold=0,\n",
              "                  transformers=[('t_scaler_robust',\n",
              "                                 RobustScaler(quantile_range=(25, 75)),\n",
              "                                 [1, 2]),\n",
              "                                ('t_one_hot', OneHotEncoder(drop='first'),\n",
              "                                 [0])])"
            ]
          },
          "metadata": {
            "tags": []
          },
          "execution_count": 86
        },
        {
          "output_type": "execute_result",
          "data": {
            "text/html": [
              "<style>div.sk-top-container {color: black;background-color: white;}div.sk-toggleable {background-color: white;}label.sk-toggleable__label {cursor: pointer;display: block;width: 100%;margin-bottom: 0;padding: 0.2em 0.3em;box-sizing: border-box;text-align: center;}div.sk-toggleable__content {max-height: 0;max-width: 0;overflow: hidden;text-align: left;background-color: #f0f8ff;}div.sk-toggleable__content pre {margin: 0.2em;color: black;border-radius: 0.25em;background-color: #f0f8ff;}input.sk-toggleable__control:checked~div.sk-toggleable__content {max-height: 200px;max-width: 100%;overflow: auto;}div.sk-estimator input.sk-toggleable__control:checked~label.sk-toggleable__label {background-color: #d4ebff;}div.sk-label input.sk-toggleable__control:checked~label.sk-toggleable__label {background-color: #d4ebff;}input.sk-hidden--visually {border: 0;clip: rect(1px 1px 1px 1px);clip: rect(1px, 1px, 1px, 1px);height: 1px;margin: -1px;overflow: hidden;padding: 0;position: absolute;width: 1px;}div.sk-estimator {font-family: monospace;background-color: #f0f8ff;margin: 0.25em 0.25em;border: 1px dotted black;border-radius: 0.25em;box-sizing: border-box;}div.sk-estimator:hover {background-color: #d4ebff;}div.sk-parallel-item::after {content: \"\";width: 100%;border-bottom: 1px solid gray;flex-grow: 1;}div.sk-label:hover label.sk-toggleable__label {background-color: #d4ebff;}div.sk-serial::before {content: \"\";position: absolute;border-left: 1px solid gray;box-sizing: border-box;top: 2em;bottom: 0;left: 50%;}div.sk-serial {display: flex;flex-direction: column;align-items: center;background-color: white;}div.sk-item {z-index: 1;}div.sk-parallel {display: flex;align-items: stretch;justify-content: center;background-color: white;}div.sk-parallel-item {display: flex;flex-direction: column;position: relative;background-color: white;}div.sk-parallel-item:first-child::after {align-self: flex-end;width: 50%;}div.sk-parallel-item:last-child::after {align-self: flex-start;width: 50%;}div.sk-parallel-item:only-child::after {width: 0;}div.sk-dashed-wrapped {border: 1px dashed gray;margin: 0.2em;box-sizing: border-box;padding-bottom: 0.1em;background-color: white;position: relative;}div.sk-label label {font-family: monospace;font-weight: bold;background-color: white;display: inline-block;line-height: 1.2em;}div.sk-label-container {position: relative;z-index: 2;text-align: center;}div.sk-container {display: inline-block;position: relative;}</style><div class=\"sk-top-container\"><div class=\"sk-container\"><div class=\"sk-item sk-dashed-wrapped\"><div class=\"sk-label-container\"><div class=\"sk-label sk-toggleable\"><input class=\"sk-toggleable__control sk-hidden--visually\" id=\"f5c0546d-d46d-447c-8c65-0628e19058a0\" type=\"checkbox\" ><label class=\"sk-toggleable__label\" for=\"f5c0546d-d46d-447c-8c65-0628e19058a0\">ColumnTransformer</label><div class=\"sk-toggleable__content\"><pre>ColumnTransformer(remainder='passthrough', sparse_threshold=0,\n",
              "                  transformers=[('t_scaler_mm_1', MinMaxScaler(), [1]),\n",
              "                                ('t_scaler_mm_2',\n",
              "                                 MinMaxScaler(feature_range=(-0.5, 0.5)), [2]),\n",
              "                                ('t_one_hot', OneHotEncoder(drop='first'),\n",
              "                                 [0, 3])])</pre></div></div></div><div class=\"sk-parallel\"><div class=\"sk-parallel-item\"><div class=\"sk-item\"><div class=\"sk-label-container\"><div class=\"sk-label sk-toggleable\"><input class=\"sk-toggleable__control sk-hidden--visually\" id=\"e2d81999-09b2-4487-b5dd-14200f72c2de\" type=\"checkbox\" ><label class=\"sk-toggleable__label\" for=\"e2d81999-09b2-4487-b5dd-14200f72c2de\">t_scaler_mm_1</label><div class=\"sk-toggleable__content\"><pre>[1]</pre></div></div></div><div class=\"sk-serial\"><div class=\"sk-item\"><div class=\"sk-estimator sk-toggleable\"><input class=\"sk-toggleable__control sk-hidden--visually\" id=\"80fd617d-da89-421f-bf12-2cecd790020e\" type=\"checkbox\" ><label class=\"sk-toggleable__label\" for=\"80fd617d-da89-421f-bf12-2cecd790020e\">MinMaxScaler</label><div class=\"sk-toggleable__content\"><pre>MinMaxScaler()</pre></div></div></div></div></div></div><div class=\"sk-parallel-item\"><div class=\"sk-item\"><div class=\"sk-label-container\"><div class=\"sk-label sk-toggleable\"><input class=\"sk-toggleable__control sk-hidden--visually\" id=\"747b4b0d-c88e-4892-841d-7e7499ca8933\" type=\"checkbox\" ><label class=\"sk-toggleable__label\" for=\"747b4b0d-c88e-4892-841d-7e7499ca8933\">t_scaler_mm_2</label><div class=\"sk-toggleable__content\"><pre>[2]</pre></div></div></div><div class=\"sk-serial\"><div class=\"sk-item\"><div class=\"sk-estimator sk-toggleable\"><input class=\"sk-toggleable__control sk-hidden--visually\" id=\"c076c5e0-69f2-4aa4-b444-cb1b6cda1406\" type=\"checkbox\" ><label class=\"sk-toggleable__label\" for=\"c076c5e0-69f2-4aa4-b444-cb1b6cda1406\">MinMaxScaler</label><div class=\"sk-toggleable__content\"><pre>MinMaxScaler(feature_range=(-0.5, 0.5))</pre></div></div></div></div></div></div><div class=\"sk-parallel-item\"><div class=\"sk-item\"><div class=\"sk-label-container\"><div class=\"sk-label sk-toggleable\"><input class=\"sk-toggleable__control sk-hidden--visually\" id=\"106b1f04-ad0e-4cb6-92a1-fc9d86965882\" type=\"checkbox\" ><label class=\"sk-toggleable__label\" for=\"106b1f04-ad0e-4cb6-92a1-fc9d86965882\">t_one_hot</label><div class=\"sk-toggleable__content\"><pre>[0, 3]</pre></div></div></div><div class=\"sk-serial\"><div class=\"sk-item\"><div class=\"sk-estimator sk-toggleable\"><input class=\"sk-toggleable__control sk-hidden--visually\" id=\"e9aaa9e0-1529-4ee7-92a8-945f2dd2ff11\" type=\"checkbox\" ><label class=\"sk-toggleable__label\" for=\"e9aaa9e0-1529-4ee7-92a8-945f2dd2ff11\">OneHotEncoder</label><div class=\"sk-toggleable__content\"><pre>OneHotEncoder(drop='first')</pre></div></div></div></div></div></div></div></div></div></div>"
            ],
            "text/plain": [
              "ColumnTransformer(remainder='passthrough', sparse_threshold=0,\n",
              "                  transformers=[('t_scaler_mm_1', MinMaxScaler(), [1]),\n",
              "                                ('t_scaler_mm_2',\n",
              "                                 MinMaxScaler(feature_range=(-0.5, 0.5)), [2]),\n",
              "                                ('t_one_hot', OneHotEncoder(drop='first'),\n",
              "                                 [0, 3])])"
            ]
          },
          "metadata": {
            "tags": []
          },
          "execution_count": 86
        },
        {
          "output_type": "execute_result",
          "data": {
            "text/html": [
              "<style>div.sk-top-container {color: black;background-color: white;}div.sk-toggleable {background-color: white;}label.sk-toggleable__label {cursor: pointer;display: block;width: 100%;margin-bottom: 0;padding: 0.2em 0.3em;box-sizing: border-box;text-align: center;}div.sk-toggleable__content {max-height: 0;max-width: 0;overflow: hidden;text-align: left;background-color: #f0f8ff;}div.sk-toggleable__content pre {margin: 0.2em;color: black;border-radius: 0.25em;background-color: #f0f8ff;}input.sk-toggleable__control:checked~div.sk-toggleable__content {max-height: 200px;max-width: 100%;overflow: auto;}div.sk-estimator input.sk-toggleable__control:checked~label.sk-toggleable__label {background-color: #d4ebff;}div.sk-label input.sk-toggleable__control:checked~label.sk-toggleable__label {background-color: #d4ebff;}input.sk-hidden--visually {border: 0;clip: rect(1px 1px 1px 1px);clip: rect(1px, 1px, 1px, 1px);height: 1px;margin: -1px;overflow: hidden;padding: 0;position: absolute;width: 1px;}div.sk-estimator {font-family: monospace;background-color: #f0f8ff;margin: 0.25em 0.25em;border: 1px dotted black;border-radius: 0.25em;box-sizing: border-box;}div.sk-estimator:hover {background-color: #d4ebff;}div.sk-parallel-item::after {content: \"\";width: 100%;border-bottom: 1px solid gray;flex-grow: 1;}div.sk-label:hover label.sk-toggleable__label {background-color: #d4ebff;}div.sk-serial::before {content: \"\";position: absolute;border-left: 1px solid gray;box-sizing: border-box;top: 2em;bottom: 0;left: 50%;}div.sk-serial {display: flex;flex-direction: column;align-items: center;background-color: white;}div.sk-item {z-index: 1;}div.sk-parallel {display: flex;align-items: stretch;justify-content: center;background-color: white;}div.sk-parallel-item {display: flex;flex-direction: column;position: relative;background-color: white;}div.sk-parallel-item:first-child::after {align-self: flex-end;width: 50%;}div.sk-parallel-item:last-child::after {align-self: flex-start;width: 50%;}div.sk-parallel-item:only-child::after {width: 0;}div.sk-dashed-wrapped {border: 1px dashed gray;margin: 0.2em;box-sizing: border-box;padding-bottom: 0.1em;background-color: white;position: relative;}div.sk-label label {font-family: monospace;font-weight: bold;background-color: white;display: inline-block;line-height: 1.2em;}div.sk-label-container {position: relative;z-index: 2;text-align: center;}div.sk-container {display: inline-block;position: relative;}</style><div class=\"sk-top-container\"><div class=\"sk-container\"><div class=\"sk-item sk-dashed-wrapped\"><div class=\"sk-label-container\"><div class=\"sk-label sk-toggleable\"><input class=\"sk-toggleable__control sk-hidden--visually\" id=\"ddd9c18d-7759-4d2a-be6f-2eded27ca769\" type=\"checkbox\" ><label class=\"sk-toggleable__label\" for=\"ddd9c18d-7759-4d2a-be6f-2eded27ca769\">ColumnTransformer</label><div class=\"sk-toggleable__content\"><pre>ColumnTransformer(remainder='passthrough', sparse_threshold=0,\n",
              "                  transformers=[('t_scaler_mm_1', MinMaxScaler(), [1]),\n",
              "                                ('t_scaler_mm_2',\n",
              "                                 MinMaxScaler(feature_range=(-0.5, 0.5)), [2]),\n",
              "                                ('t_one_hot', OneHotEncoder(drop='first'),\n",
              "                                 [0])])</pre></div></div></div><div class=\"sk-parallel\"><div class=\"sk-parallel-item\"><div class=\"sk-item\"><div class=\"sk-label-container\"><div class=\"sk-label sk-toggleable\"><input class=\"sk-toggleable__control sk-hidden--visually\" id=\"17840e33-985c-4741-b3cd-bf62691f26ad\" type=\"checkbox\" ><label class=\"sk-toggleable__label\" for=\"17840e33-985c-4741-b3cd-bf62691f26ad\">t_scaler_mm_1</label><div class=\"sk-toggleable__content\"><pre>[1]</pre></div></div></div><div class=\"sk-serial\"><div class=\"sk-item\"><div class=\"sk-estimator sk-toggleable\"><input class=\"sk-toggleable__control sk-hidden--visually\" id=\"3916796b-9ce1-414e-82f6-89b9333f7035\" type=\"checkbox\" ><label class=\"sk-toggleable__label\" for=\"3916796b-9ce1-414e-82f6-89b9333f7035\">MinMaxScaler</label><div class=\"sk-toggleable__content\"><pre>MinMaxScaler()</pre></div></div></div></div></div></div><div class=\"sk-parallel-item\"><div class=\"sk-item\"><div class=\"sk-label-container\"><div class=\"sk-label sk-toggleable\"><input class=\"sk-toggleable__control sk-hidden--visually\" id=\"c5696279-edcb-4cf7-87a7-40cbe40703cf\" type=\"checkbox\" ><label class=\"sk-toggleable__label\" for=\"c5696279-edcb-4cf7-87a7-40cbe40703cf\">t_scaler_mm_2</label><div class=\"sk-toggleable__content\"><pre>[2]</pre></div></div></div><div class=\"sk-serial\"><div class=\"sk-item\"><div class=\"sk-estimator sk-toggleable\"><input class=\"sk-toggleable__control sk-hidden--visually\" id=\"0cd285f7-1bd4-4b95-bc26-c53c8adb780a\" type=\"checkbox\" ><label class=\"sk-toggleable__label\" for=\"0cd285f7-1bd4-4b95-bc26-c53c8adb780a\">MinMaxScaler</label><div class=\"sk-toggleable__content\"><pre>MinMaxScaler(feature_range=(-0.5, 0.5))</pre></div></div></div></div></div></div><div class=\"sk-parallel-item\"><div class=\"sk-item\"><div class=\"sk-label-container\"><div class=\"sk-label sk-toggleable\"><input class=\"sk-toggleable__control sk-hidden--visually\" id=\"bb5f9f82-2eb2-4e81-8b23-a26a964e4d95\" type=\"checkbox\" ><label class=\"sk-toggleable__label\" for=\"bb5f9f82-2eb2-4e81-8b23-a26a964e4d95\">t_one_hot</label><div class=\"sk-toggleable__content\"><pre>[0]</pre></div></div></div><div class=\"sk-serial\"><div class=\"sk-item\"><div class=\"sk-estimator sk-toggleable\"><input class=\"sk-toggleable__control sk-hidden--visually\" id=\"93eccc5c-61fe-473d-ba34-598342eeb5b8\" type=\"checkbox\" ><label class=\"sk-toggleable__label\" for=\"93eccc5c-61fe-473d-ba34-598342eeb5b8\">OneHotEncoder</label><div class=\"sk-toggleable__content\"><pre>OneHotEncoder(drop='first')</pre></div></div></div></div></div></div></div></div></div></div>"
            ],
            "text/plain": [
              "ColumnTransformer(remainder='passthrough', sparse_threshold=0,\n",
              "                  transformers=[('t_scaler_mm_1', MinMaxScaler(), [1]),\n",
              "                                ('t_scaler_mm_2',\n",
              "                                 MinMaxScaler(feature_range=(-0.5, 0.5)), [2]),\n",
              "                                ('t_one_hot', OneHotEncoder(drop='first'),\n",
              "                                 [0])])"
            ]
          },
          "metadata": {
            "tags": []
          },
          "execution_count": 86
        },
        {
          "output_type": "execute_result",
          "data": {
            "text/html": [
              "<style>div.sk-top-container {color: black;background-color: white;}div.sk-toggleable {background-color: white;}label.sk-toggleable__label {cursor: pointer;display: block;width: 100%;margin-bottom: 0;padding: 0.2em 0.3em;box-sizing: border-box;text-align: center;}div.sk-toggleable__content {max-height: 0;max-width: 0;overflow: hidden;text-align: left;background-color: #f0f8ff;}div.sk-toggleable__content pre {margin: 0.2em;color: black;border-radius: 0.25em;background-color: #f0f8ff;}input.sk-toggleable__control:checked~div.sk-toggleable__content {max-height: 200px;max-width: 100%;overflow: auto;}div.sk-estimator input.sk-toggleable__control:checked~label.sk-toggleable__label {background-color: #d4ebff;}div.sk-label input.sk-toggleable__control:checked~label.sk-toggleable__label {background-color: #d4ebff;}input.sk-hidden--visually {border: 0;clip: rect(1px 1px 1px 1px);clip: rect(1px, 1px, 1px, 1px);height: 1px;margin: -1px;overflow: hidden;padding: 0;position: absolute;width: 1px;}div.sk-estimator {font-family: monospace;background-color: #f0f8ff;margin: 0.25em 0.25em;border: 1px dotted black;border-radius: 0.25em;box-sizing: border-box;}div.sk-estimator:hover {background-color: #d4ebff;}div.sk-parallel-item::after {content: \"\";width: 100%;border-bottom: 1px solid gray;flex-grow: 1;}div.sk-label:hover label.sk-toggleable__label {background-color: #d4ebff;}div.sk-serial::before {content: \"\";position: absolute;border-left: 1px solid gray;box-sizing: border-box;top: 2em;bottom: 0;left: 50%;}div.sk-serial {display: flex;flex-direction: column;align-items: center;background-color: white;}div.sk-item {z-index: 1;}div.sk-parallel {display: flex;align-items: stretch;justify-content: center;background-color: white;}div.sk-parallel-item {display: flex;flex-direction: column;position: relative;background-color: white;}div.sk-parallel-item:first-child::after {align-self: flex-end;width: 50%;}div.sk-parallel-item:last-child::after {align-self: flex-start;width: 50%;}div.sk-parallel-item:only-child::after {width: 0;}div.sk-dashed-wrapped {border: 1px dashed gray;margin: 0.2em;box-sizing: border-box;padding-bottom: 0.1em;background-color: white;position: relative;}div.sk-label label {font-family: monospace;font-weight: bold;background-color: white;display: inline-block;line-height: 1.2em;}div.sk-label-container {position: relative;z-index: 2;text-align: center;}div.sk-container {display: inline-block;position: relative;}</style><div class=\"sk-top-container\"><div class=\"sk-container\"><div class=\"sk-item sk-dashed-wrapped\"><div class=\"sk-label-container\"><div class=\"sk-label sk-toggleable\"><input class=\"sk-toggleable__control sk-hidden--visually\" id=\"bd22d06a-a45f-4d0a-9b7a-e32ef5512400\" type=\"checkbox\" ><label class=\"sk-toggleable__label\" for=\"bd22d06a-a45f-4d0a-9b7a-e32ef5512400\">ColumnTransformer</label><div class=\"sk-toggleable__content\"><pre>ColumnTransformer(remainder='passthrough', sparse_threshold=0,\n",
              "                  transformers=[('t_scaler_mm_1', MinMaxScaler(), [1, 2]),\n",
              "                                ('t_one_hot', OneHotEncoder(drop='first'),\n",
              "                                 [0])])</pre></div></div></div><div class=\"sk-parallel\"><div class=\"sk-parallel-item\"><div class=\"sk-item\"><div class=\"sk-label-container\"><div class=\"sk-label sk-toggleable\"><input class=\"sk-toggleable__control sk-hidden--visually\" id=\"96f14962-3bd3-45ca-8c37-94a4300d4c9c\" type=\"checkbox\" ><label class=\"sk-toggleable__label\" for=\"96f14962-3bd3-45ca-8c37-94a4300d4c9c\">t_scaler_mm_1</label><div class=\"sk-toggleable__content\"><pre>[1, 2]</pre></div></div></div><div class=\"sk-serial\"><div class=\"sk-item\"><div class=\"sk-estimator sk-toggleable\"><input class=\"sk-toggleable__control sk-hidden--visually\" id=\"8e56ef2a-9553-452e-82c1-3c951ba03401\" type=\"checkbox\" ><label class=\"sk-toggleable__label\" for=\"8e56ef2a-9553-452e-82c1-3c951ba03401\">MinMaxScaler</label><div class=\"sk-toggleable__content\"><pre>MinMaxScaler()</pre></div></div></div></div></div></div><div class=\"sk-parallel-item\"><div class=\"sk-item\"><div class=\"sk-label-container\"><div class=\"sk-label sk-toggleable\"><input class=\"sk-toggleable__control sk-hidden--visually\" id=\"78e14c6b-2d49-4d26-8039-6a1230dcd860\" type=\"checkbox\" ><label class=\"sk-toggleable__label\" for=\"78e14c6b-2d49-4d26-8039-6a1230dcd860\">t_one_hot</label><div class=\"sk-toggleable__content\"><pre>[0]</pre></div></div></div><div class=\"sk-serial\"><div class=\"sk-item\"><div class=\"sk-estimator sk-toggleable\"><input class=\"sk-toggleable__control sk-hidden--visually\" id=\"036e198c-ddb8-4211-a1e8-8c5ec4f40144\" type=\"checkbox\" ><label class=\"sk-toggleable__label\" for=\"036e198c-ddb8-4211-a1e8-8c5ec4f40144\">OneHotEncoder</label><div class=\"sk-toggleable__content\"><pre>OneHotEncoder(drop='first')</pre></div></div></div></div></div></div></div></div></div></div>"
            ],
            "text/plain": [
              "ColumnTransformer(remainder='passthrough', sparse_threshold=0,\n",
              "                  transformers=[('t_scaler_mm_1', MinMaxScaler(), [1, 2]),\n",
              "                                ('t_one_hot', OneHotEncoder(drop='first'),\n",
              "                                 [0])])"
            ]
          },
          "metadata": {
            "tags": []
          },
          "execution_count": 86
        }
      ]
    },
    {
      "cell_type": "markdown",
      "metadata": {
        "id": "K3JlPpTjIlYg"
      },
      "source": [
        "## Sanity checking ..\n"
      ]
    },
    {
      "cell_type": "markdown",
      "metadata": {
        "id": "AMt3mRRkItZw"
      },
      "source": [
        "Try a transformer, peek at the outputs..."
      ]
    },
    {
      "cell_type": "code",
      "metadata": {
        "id": "Sm2Kwbjx-PU0"
      },
      "source": [
        "output1 = ct_v1.fit_transform(X)\n",
        "output2 = ct_v2.fit_transform(X)\n",
        "output3 = ct_v3.fit_transform(X)"
      ],
      "execution_count": 21,
      "outputs": []
    },
    {
      "cell_type": "code",
      "metadata": {
        "id": "gMaayZMOQfgw"
      },
      "source": [
        ""
      ],
      "execution_count": 21,
      "outputs": []
    },
    {
      "cell_type": "code",
      "metadata": {
        "colab": {
          "base_uri": "https://localhost:8080/",
          "height": 221
        },
        "id": "Bay0kX4dzAX4",
        "outputId": "a82831c4-0027-4ecf-e275-1475a1808ef0"
      },
      "source": [
        "output1.shape\n",
        "pd.DataFrame(output1).head()"
      ],
      "execution_count": 22,
      "outputs": [
        {
          "output_type": "execute_result",
          "data": {
            "text/plain": [
              "(1677, 19)"
            ]
          },
          "metadata": {
            "tags": []
          },
          "execution_count": 22
        },
        {
          "output_type": "execute_result",
          "data": {
            "text/html": [
              "<div>\n",
              "<style scoped>\n",
              "    .dataframe tbody tr th:only-of-type {\n",
              "        vertical-align: middle;\n",
              "    }\n",
              "\n",
              "    .dataframe tbody tr th {\n",
              "        vertical-align: top;\n",
              "    }\n",
              "\n",
              "    .dataframe thead th {\n",
              "        text-align: right;\n",
              "    }\n",
              "</style>\n",
              "<table border=\"1\" class=\"dataframe\">\n",
              "  <thead>\n",
              "    <tr style=\"text-align: right;\">\n",
              "      <th></th>\n",
              "      <th>0</th>\n",
              "      <th>1</th>\n",
              "      <th>2</th>\n",
              "      <th>3</th>\n",
              "      <th>4</th>\n",
              "      <th>5</th>\n",
              "      <th>6</th>\n",
              "      <th>7</th>\n",
              "      <th>8</th>\n",
              "      <th>9</th>\n",
              "      <th>10</th>\n",
              "      <th>11</th>\n",
              "      <th>12</th>\n",
              "      <th>13</th>\n",
              "      <th>14</th>\n",
              "      <th>15</th>\n",
              "      <th>16</th>\n",
              "      <th>17</th>\n",
              "      <th>18</th>\n",
              "    </tr>\n",
              "  </thead>\n",
              "  <tbody>\n",
              "    <tr>\n",
              "      <th>0</th>\n",
              "      <td>0.221311</td>\n",
              "      <td>0.004202</td>\n",
              "      <td>0.0</td>\n",
              "      <td>0.0</td>\n",
              "      <td>0.0</td>\n",
              "      <td>0.0</td>\n",
              "      <td>0.0</td>\n",
              "      <td>0.0</td>\n",
              "      <td>0.0</td>\n",
              "      <td>0.0</td>\n",
              "      <td>0.0</td>\n",
              "      <td>0.0</td>\n",
              "      <td>0.0</td>\n",
              "      <td>0.0</td>\n",
              "      <td>0.0</td>\n",
              "      <td>0.0</td>\n",
              "      <td>0.0</td>\n",
              "      <td>0.0</td>\n",
              "      <td>0.0</td>\n",
              "    </tr>\n",
              "    <tr>\n",
              "      <th>1</th>\n",
              "      <td>0.450820</td>\n",
              "      <td>0.004202</td>\n",
              "      <td>1.0</td>\n",
              "      <td>0.0</td>\n",
              "      <td>0.0</td>\n",
              "      <td>0.0</td>\n",
              "      <td>0.0</td>\n",
              "      <td>0.0</td>\n",
              "      <td>0.0</td>\n",
              "      <td>0.0</td>\n",
              "      <td>0.0</td>\n",
              "      <td>0.0</td>\n",
              "      <td>0.0</td>\n",
              "      <td>0.0</td>\n",
              "      <td>0.0</td>\n",
              "      <td>0.0</td>\n",
              "      <td>0.0</td>\n",
              "      <td>0.0</td>\n",
              "      <td>0.0</td>\n",
              "    </tr>\n",
              "    <tr>\n",
              "      <th>2</th>\n",
              "      <td>0.081967</td>\n",
              "      <td>0.012605</td>\n",
              "      <td>0.0</td>\n",
              "      <td>1.0</td>\n",
              "      <td>0.0</td>\n",
              "      <td>0.0</td>\n",
              "      <td>0.0</td>\n",
              "      <td>0.0</td>\n",
              "      <td>0.0</td>\n",
              "      <td>0.0</td>\n",
              "      <td>0.0</td>\n",
              "      <td>0.0</td>\n",
              "      <td>0.0</td>\n",
              "      <td>0.0</td>\n",
              "      <td>0.0</td>\n",
              "      <td>0.0</td>\n",
              "      <td>0.0</td>\n",
              "      <td>0.0</td>\n",
              "      <td>0.0</td>\n",
              "    </tr>\n",
              "    <tr>\n",
              "      <th>3</th>\n",
              "      <td>0.106557</td>\n",
              "      <td>0.004202</td>\n",
              "      <td>0.0</td>\n",
              "      <td>0.0</td>\n",
              "      <td>1.0</td>\n",
              "      <td>0.0</td>\n",
              "      <td>0.0</td>\n",
              "      <td>0.0</td>\n",
              "      <td>0.0</td>\n",
              "      <td>0.0</td>\n",
              "      <td>0.0</td>\n",
              "      <td>0.0</td>\n",
              "      <td>0.0</td>\n",
              "      <td>0.0</td>\n",
              "      <td>0.0</td>\n",
              "      <td>0.0</td>\n",
              "      <td>0.0</td>\n",
              "      <td>0.0</td>\n",
              "      <td>0.0</td>\n",
              "    </tr>\n",
              "    <tr>\n",
              "      <th>4</th>\n",
              "      <td>0.450820</td>\n",
              "      <td>0.029412</td>\n",
              "      <td>0.0</td>\n",
              "      <td>0.0</td>\n",
              "      <td>0.0</td>\n",
              "      <td>1.0</td>\n",
              "      <td>0.0</td>\n",
              "      <td>0.0</td>\n",
              "      <td>0.0</td>\n",
              "      <td>0.0</td>\n",
              "      <td>0.0</td>\n",
              "      <td>0.0</td>\n",
              "      <td>0.0</td>\n",
              "      <td>0.0</td>\n",
              "      <td>0.0</td>\n",
              "      <td>0.0</td>\n",
              "      <td>0.0</td>\n",
              "      <td>0.0</td>\n",
              "      <td>0.0</td>\n",
              "    </tr>\n",
              "  </tbody>\n",
              "</table>\n",
              "</div>"
            ],
            "text/plain": [
              "         0         1    2    3    4    5    6    7    8    9    10   11   12  \\\n",
              "0  0.221311  0.004202  0.0  0.0  0.0  0.0  0.0  0.0  0.0  0.0  0.0  0.0  0.0   \n",
              "1  0.450820  0.004202  1.0  0.0  0.0  0.0  0.0  0.0  0.0  0.0  0.0  0.0  0.0   \n",
              "2  0.081967  0.012605  0.0  1.0  0.0  0.0  0.0  0.0  0.0  0.0  0.0  0.0  0.0   \n",
              "3  0.106557  0.004202  0.0  0.0  1.0  0.0  0.0  0.0  0.0  0.0  0.0  0.0  0.0   \n",
              "4  0.450820  0.029412  0.0  0.0  0.0  1.0  0.0  0.0  0.0  0.0  0.0  0.0  0.0   \n",
              "\n",
              "    13   14   15   16   17   18  \n",
              "0  0.0  0.0  0.0  0.0  0.0  0.0  \n",
              "1  0.0  0.0  0.0  0.0  0.0  0.0  \n",
              "2  0.0  0.0  0.0  0.0  0.0  0.0  \n",
              "3  0.0  0.0  0.0  0.0  0.0  0.0  \n",
              "4  0.0  0.0  0.0  0.0  0.0  0.0  "
            ]
          },
          "metadata": {
            "tags": []
          },
          "execution_count": 22
        }
      ]
    },
    {
      "cell_type": "code",
      "metadata": {
        "colab": {
          "base_uri": "https://localhost:8080/",
          "height": 221
        },
        "id": "YgwkxqUzNRr5",
        "outputId": "9e2b8e72-146b-46db-a99f-675f63f5cb9e"
      },
      "source": [
        "output2.shape\n",
        "pd.DataFrame(output2).head()\n"
      ],
      "execution_count": 23,
      "outputs": [
        {
          "output_type": "execute_result",
          "data": {
            "text/plain": [
              "(1677, 5)"
            ]
          },
          "metadata": {
            "tags": []
          },
          "execution_count": 23
        },
        {
          "output_type": "execute_result",
          "data": {
            "text/html": [
              "<div>\n",
              "<style scoped>\n",
              "    .dataframe tbody tr th:only-of-type {\n",
              "        vertical-align: middle;\n",
              "    }\n",
              "\n",
              "    .dataframe tbody tr th {\n",
              "        vertical-align: top;\n",
              "    }\n",
              "\n",
              "    .dataframe thead th {\n",
              "        text-align: right;\n",
              "    }\n",
              "</style>\n",
              "<table border=\"1\" class=\"dataframe\">\n",
              "  <thead>\n",
              "    <tr style=\"text-align: right;\">\n",
              "      <th></th>\n",
              "      <th>0</th>\n",
              "      <th>1</th>\n",
              "      <th>2</th>\n",
              "      <th>3</th>\n",
              "      <th>4</th>\n",
              "    </tr>\n",
              "  </thead>\n",
              "  <tbody>\n",
              "    <tr>\n",
              "      <th>0</th>\n",
              "      <td>0.221311</td>\n",
              "      <td>0.004202</td>\n",
              "      <td>0.0</td>\n",
              "      <td>0.0</td>\n",
              "      <td>1.0</td>\n",
              "    </tr>\n",
              "    <tr>\n",
              "      <th>1</th>\n",
              "      <td>0.450820</td>\n",
              "      <td>0.004202</td>\n",
              "      <td>1.0</td>\n",
              "      <td>0.0</td>\n",
              "      <td>1.0</td>\n",
              "    </tr>\n",
              "    <tr>\n",
              "      <th>2</th>\n",
              "      <td>0.081967</td>\n",
              "      <td>0.012605</td>\n",
              "      <td>0.0</td>\n",
              "      <td>1.0</td>\n",
              "      <td>1.0</td>\n",
              "    </tr>\n",
              "    <tr>\n",
              "      <th>3</th>\n",
              "      <td>0.106557</td>\n",
              "      <td>0.004202</td>\n",
              "      <td>0.0</td>\n",
              "      <td>0.0</td>\n",
              "      <td>2.0</td>\n",
              "    </tr>\n",
              "    <tr>\n",
              "      <th>4</th>\n",
              "      <td>0.450820</td>\n",
              "      <td>0.029412</td>\n",
              "      <td>0.0</td>\n",
              "      <td>0.0</td>\n",
              "      <td>3.0</td>\n",
              "    </tr>\n",
              "  </tbody>\n",
              "</table>\n",
              "</div>"
            ],
            "text/plain": [
              "          0         1    2    3    4\n",
              "0  0.221311  0.004202  0.0  0.0  1.0\n",
              "1  0.450820  0.004202  1.0  0.0  1.0\n",
              "2  0.081967  0.012605  0.0  1.0  1.0\n",
              "3  0.106557  0.004202  0.0  0.0  2.0\n",
              "4  0.450820  0.029412  0.0  0.0  3.0"
            ]
          },
          "metadata": {
            "tags": []
          },
          "execution_count": 23
        }
      ]
    },
    {
      "cell_type": "code",
      "metadata": {
        "colab": {
          "base_uri": "https://localhost:8080/",
          "height": 221
        },
        "id": "W_pV4i3aQjKw",
        "outputId": "26c4f6b9-6219-442b-a2eb-6905c3e4581c"
      },
      "source": [
        "output3.shape\n",
        "pd.DataFrame(output3).head()"
      ],
      "execution_count": 24,
      "outputs": [
        {
          "output_type": "execute_result",
          "data": {
            "text/plain": [
              "(1677, 5)"
            ]
          },
          "metadata": {
            "tags": []
          },
          "execution_count": 24
        },
        {
          "output_type": "execute_result",
          "data": {
            "text/html": [
              "<div>\n",
              "<style scoped>\n",
              "    .dataframe tbody tr th:only-of-type {\n",
              "        vertical-align: middle;\n",
              "    }\n",
              "\n",
              "    .dataframe tbody tr th {\n",
              "        vertical-align: top;\n",
              "    }\n",
              "\n",
              "    .dataframe thead th {\n",
              "        text-align: right;\n",
              "    }\n",
              "</style>\n",
              "<table border=\"1\" class=\"dataframe\">\n",
              "  <thead>\n",
              "    <tr style=\"text-align: right;\">\n",
              "      <th></th>\n",
              "      <th>0</th>\n",
              "      <th>1</th>\n",
              "      <th>2</th>\n",
              "      <th>3</th>\n",
              "      <th>4</th>\n",
              "    </tr>\n",
              "  </thead>\n",
              "  <tbody>\n",
              "    <tr>\n",
              "      <th>0</th>\n",
              "      <td>0.221311</td>\n",
              "      <td>0.504202</td>\n",
              "      <td>0.0</td>\n",
              "      <td>0.0</td>\n",
              "      <td>1.0</td>\n",
              "    </tr>\n",
              "    <tr>\n",
              "      <th>1</th>\n",
              "      <td>0.450820</td>\n",
              "      <td>0.504202</td>\n",
              "      <td>1.0</td>\n",
              "      <td>0.0</td>\n",
              "      <td>1.0</td>\n",
              "    </tr>\n",
              "    <tr>\n",
              "      <th>2</th>\n",
              "      <td>0.081967</td>\n",
              "      <td>0.512605</td>\n",
              "      <td>0.0</td>\n",
              "      <td>1.0</td>\n",
              "      <td>1.0</td>\n",
              "    </tr>\n",
              "    <tr>\n",
              "      <th>3</th>\n",
              "      <td>0.106557</td>\n",
              "      <td>0.504202</td>\n",
              "      <td>0.0</td>\n",
              "      <td>0.0</td>\n",
              "      <td>2.0</td>\n",
              "    </tr>\n",
              "    <tr>\n",
              "      <th>4</th>\n",
              "      <td>0.450820</td>\n",
              "      <td>0.529412</td>\n",
              "      <td>0.0</td>\n",
              "      <td>0.0</td>\n",
              "      <td>3.0</td>\n",
              "    </tr>\n",
              "  </tbody>\n",
              "</table>\n",
              "</div>"
            ],
            "text/plain": [
              "          0         1    2    3    4\n",
              "0  0.221311  0.504202  0.0  0.0  1.0\n",
              "1  0.450820  0.504202  1.0  0.0  1.0\n",
              "2  0.081967  0.512605  0.0  1.0  1.0\n",
              "3  0.106557  0.504202  0.0  0.0  2.0\n",
              "4  0.450820  0.529412  0.0  0.0  3.0"
            ]
          },
          "metadata": {
            "tags": []
          },
          "execution_count": 24
        }
      ]
    },
    {
      "cell_type": "markdown",
      "metadata": {
        "id": "59UQ-svnbFhm"
      },
      "source": [
        "## Train/ test split..."
      ]
    },
    {
      "cell_type": "code",
      "metadata": {
        "id": "MH7XbxUEbHtI"
      },
      "source": [
        "# TEST/ TRAIN SPLIT\n",
        "X_train, X_test, y_train, y_test = train_test_split(X, y, test_size=0.20, random_state=27)\n"
      ],
      "execution_count": 87,
      "outputs": []
    },
    {
      "cell_type": "code",
      "metadata": {
        "id": "KJvqSrMYL3by",
        "colab": {
          "base_uri": "https://localhost:8080/",
          "height": 142
        },
        "outputId": "729a5a4e-d82c-41b6-f25a-b5fbb027e85e"
      },
      "source": [
        "X_train.head(3)"
      ],
      "execution_count": 26,
      "outputs": [
        {
          "output_type": "execute_result",
          "data": {
            "text/html": [
              "<div>\n",
              "<style scoped>\n",
              "    .dataframe tbody tr th:only-of-type {\n",
              "        vertical-align: middle;\n",
              "    }\n",
              "\n",
              "    .dataframe tbody tr th {\n",
              "        vertical-align: top;\n",
              "    }\n",
              "\n",
              "    .dataframe thead th {\n",
              "        text-align: right;\n",
              "    }\n",
              "</style>\n",
              "<table border=\"1\" class=\"dataframe\">\n",
              "  <thead>\n",
              "    <tr style=\"text-align: right;\">\n",
              "      <th></th>\n",
              "      <th>note</th>\n",
              "      <th>velocity</th>\n",
              "      <th>beat_offset</th>\n",
              "      <th>bar_beat_number</th>\n",
              "    </tr>\n",
              "  </thead>\n",
              "  <tbody>\n",
              "    <tr>\n",
              "      <th>1295</th>\n",
              "      <td>snare</td>\n",
              "      <td>113</td>\n",
              "      <td>12</td>\n",
              "      <td>13</td>\n",
              "    </tr>\n",
              "    <tr>\n",
              "      <th>179</th>\n",
              "      <td>hh</td>\n",
              "      <td>43</td>\n",
              "      <td>-6</td>\n",
              "      <td>5</td>\n",
              "    </tr>\n",
              "    <tr>\n",
              "      <th>559</th>\n",
              "      <td>hh</td>\n",
              "      <td>23</td>\n",
              "      <td>-12</td>\n",
              "      <td>6</td>\n",
              "    </tr>\n",
              "  </tbody>\n",
              "</table>\n",
              "</div>"
            ],
            "text/plain": [
              "       note  velocity  beat_offset  bar_beat_number\n",
              "1295  snare       113           12               13\n",
              "179      hh        43           -6                5\n",
              "559      hh        23          -12                6"
            ]
          },
          "metadata": {
            "tags": []
          },
          "execution_count": 26
        }
      ]
    },
    {
      "cell_type": "code",
      "metadata": {
        "colab": {
          "base_uri": "https://localhost:8080/",
          "height": 577
        },
        "id": "YZWV7Mhc6qll",
        "outputId": "bbf55068-c5a8-43ff-8564-eea763ea23b3"
      },
      "source": [
        "X_train.describe()\n",
        "X_test.describe()"
      ],
      "execution_count": 89,
      "outputs": [
        {
          "output_type": "execute_result",
          "data": {
            "text/html": [
              "<div>\n",
              "<style scoped>\n",
              "    .dataframe tbody tr th:only-of-type {\n",
              "        vertical-align: middle;\n",
              "    }\n",
              "\n",
              "    .dataframe tbody tr th {\n",
              "        vertical-align: top;\n",
              "    }\n",
              "\n",
              "    .dataframe thead th {\n",
              "        text-align: right;\n",
              "    }\n",
              "</style>\n",
              "<table border=\"1\" class=\"dataframe\">\n",
              "  <thead>\n",
              "    <tr style=\"text-align: right;\">\n",
              "      <th></th>\n",
              "      <th>velocity</th>\n",
              "      <th>beat_offset</th>\n",
              "      <th>bar_beat_number</th>\n",
              "    </tr>\n",
              "  </thead>\n",
              "  <tbody>\n",
              "    <tr>\n",
              "      <th>count</th>\n",
              "      <td>4504.000000</td>\n",
              "      <td>4504.000000</td>\n",
              "      <td>4504.000000</td>\n",
              "    </tr>\n",
              "    <tr>\n",
              "      <th>mean</th>\n",
              "      <td>68.417629</td>\n",
              "      <td>-5.131217</td>\n",
              "      <td>8.306394</td>\n",
              "    </tr>\n",
              "    <tr>\n",
              "      <th>std</th>\n",
              "      <td>33.920867</td>\n",
              "      <td>14.422401</td>\n",
              "      <td>4.602213</td>\n",
              "    </tr>\n",
              "    <tr>\n",
              "      <th>min</th>\n",
              "      <td>5.000000</td>\n",
              "      <td>-59.000000</td>\n",
              "      <td>1.000000</td>\n",
              "    </tr>\n",
              "    <tr>\n",
              "      <th>25%</th>\n",
              "      <td>41.000000</td>\n",
              "      <td>-14.000000</td>\n",
              "      <td>5.000000</td>\n",
              "    </tr>\n",
              "    <tr>\n",
              "      <th>50%</th>\n",
              "      <td>62.000000</td>\n",
              "      <td>-5.000000</td>\n",
              "      <td>8.000000</td>\n",
              "    </tr>\n",
              "    <tr>\n",
              "      <th>75%</th>\n",
              "      <td>96.000000</td>\n",
              "      <td>3.000000</td>\n",
              "      <td>12.000000</td>\n",
              "    </tr>\n",
              "    <tr>\n",
              "      <th>max</th>\n",
              "      <td>127.000000</td>\n",
              "      <td>59.000000</td>\n",
              "      <td>16.000000</td>\n",
              "    </tr>\n",
              "  </tbody>\n",
              "</table>\n",
              "</div>"
            ],
            "text/plain": [
              "          velocity  beat_offset  bar_beat_number\n",
              "count  4504.000000  4504.000000      4504.000000\n",
              "mean     68.417629    -5.131217         8.306394\n",
              "std      33.920867    14.422401         4.602213\n",
              "min       5.000000   -59.000000         1.000000\n",
              "25%      41.000000   -14.000000         5.000000\n",
              "50%      62.000000    -5.000000         8.000000\n",
              "75%      96.000000     3.000000        12.000000\n",
              "max     127.000000    59.000000        16.000000"
            ]
          },
          "metadata": {
            "tags": []
          },
          "execution_count": 89
        },
        {
          "output_type": "execute_result",
          "data": {
            "text/html": [
              "<div>\n",
              "<style scoped>\n",
              "    .dataframe tbody tr th:only-of-type {\n",
              "        vertical-align: middle;\n",
              "    }\n",
              "\n",
              "    .dataframe tbody tr th {\n",
              "        vertical-align: top;\n",
              "    }\n",
              "\n",
              "    .dataframe thead th {\n",
              "        text-align: right;\n",
              "    }\n",
              "</style>\n",
              "<table border=\"1\" class=\"dataframe\">\n",
              "  <thead>\n",
              "    <tr style=\"text-align: right;\">\n",
              "      <th></th>\n",
              "      <th>velocity</th>\n",
              "      <th>beat_offset</th>\n",
              "      <th>bar_beat_number</th>\n",
              "    </tr>\n",
              "  </thead>\n",
              "  <tbody>\n",
              "    <tr>\n",
              "      <th>count</th>\n",
              "      <td>1127.000000</td>\n",
              "      <td>1127.000000</td>\n",
              "      <td>1127.000000</td>\n",
              "    </tr>\n",
              "    <tr>\n",
              "      <th>mean</th>\n",
              "      <td>66.603372</td>\n",
              "      <td>-5.244898</td>\n",
              "      <td>8.378882</td>\n",
              "    </tr>\n",
              "    <tr>\n",
              "      <th>std</th>\n",
              "      <td>33.673014</td>\n",
              "      <td>14.462250</td>\n",
              "      <td>4.462317</td>\n",
              "    </tr>\n",
              "    <tr>\n",
              "      <th>min</th>\n",
              "      <td>4.000000</td>\n",
              "      <td>-60.000000</td>\n",
              "      <td>1.000000</td>\n",
              "    </tr>\n",
              "    <tr>\n",
              "      <th>25%</th>\n",
              "      <td>40.000000</td>\n",
              "      <td>-15.000000</td>\n",
              "      <td>5.000000</td>\n",
              "    </tr>\n",
              "    <tr>\n",
              "      <th>50%</th>\n",
              "      <td>59.000000</td>\n",
              "      <td>-6.000000</td>\n",
              "      <td>8.000000</td>\n",
              "    </tr>\n",
              "    <tr>\n",
              "      <th>75%</th>\n",
              "      <td>93.000000</td>\n",
              "      <td>4.000000</td>\n",
              "      <td>12.000000</td>\n",
              "    </tr>\n",
              "    <tr>\n",
              "      <th>max</th>\n",
              "      <td>127.000000</td>\n",
              "      <td>58.000000</td>\n",
              "      <td>16.000000</td>\n",
              "    </tr>\n",
              "  </tbody>\n",
              "</table>\n",
              "</div>"
            ],
            "text/plain": [
              "          velocity  beat_offset  bar_beat_number\n",
              "count  1127.000000  1127.000000      1127.000000\n",
              "mean     66.603372    -5.244898         8.378882\n",
              "std      33.673014    14.462250         4.462317\n",
              "min       4.000000   -60.000000         1.000000\n",
              "25%      40.000000   -15.000000         5.000000\n",
              "50%      59.000000    -6.000000         8.000000\n",
              "75%      93.000000     4.000000        12.000000\n",
              "max     127.000000    58.000000        16.000000"
            ]
          },
          "metadata": {
            "tags": []
          },
          "execution_count": 89
        }
      ]
    },
    {
      "cell_type": "markdown",
      "metadata": {
        "id": "8XFdCcrwOzST"
      },
      "source": [
        "## Some pipelines"
      ]
    },
    {
      "cell_type": "code",
      "metadata": {
        "id": "9WN7AkGUJD_Q"
      },
      "source": [
        "# setup our pre-processing and modelling pipeline\n",
        "pipe_v0 = Pipeline(steps=[('prep',ct_v0), ('knn', KNeighborsClassifier(7))])\n",
        "pipe_v1 = Pipeline(steps=[('prep',ct_v1), ('knn', KNeighborsClassifier(7))])\n",
        "pipe_v2 = Pipeline(steps=[('prep',ct_v2), ('knn', KNeighborsClassifier(7))])\n",
        "pipe_v3 = Pipeline(steps=[('prep',ct_v3), ('knn', KNeighborsClassifier(7))])\n"
      ],
      "execution_count": 27,
      "outputs": []
    },
    {
      "cell_type": "markdown",
      "metadata": {
        "id": "DLHxPVtEHxVX"
      },
      "source": [
        "# Test pipelines"
      ]
    },
    {
      "cell_type": "markdown",
      "metadata": {
        "id": "2nEqru7CZGvV"
      },
      "source": [
        "## Util functions\n"
      ]
    },
    {
      "cell_type": "code",
      "metadata": {
        "id": "Ygf_kwUR2MwK"
      },
      "source": [
        "\n",
        "def KNN_predict(X_train, y_train, X_test, n=5):\n",
        "  # Fit model, do predictions\n",
        "\n",
        "  KNN_model = KNeighborsClassifier(n)\n",
        "  display(KNN_model)\n",
        "  KNN_model.fit(X_train, y_train)\n",
        "  return KNN_model.predict(X_test)\n",
        "\n",
        "def KNN_results(pred, test, labels):\n",
        "  # evaluate results\n",
        "\n",
        "  print('\\nKNN Accuracy score...')\n",
        "  print('  KNN: {}'.format(accuracy_score(pred, test)))\n",
        "\n",
        "  print('\\nKNN classification report...')\n",
        "  print(classification_report(pred, test))\n",
        "\n",
        "def c_matrix(pred, test, labels):\n",
        "  # plot results\n",
        "\n",
        "  print('\\nConfusion matrix...')\n",
        "  matrix2 = confusion_matrix(pred, test)\n",
        "  m_df = pd.DataFrame(matrix2, index=labels, columns=labels)\n",
        "  _ = plt.figure(figsize=(6, 6))\n",
        "  sns.heatmap(m_df, annot=True, cbar=None, cmap=\"Reds\")\n",
        "  plt.title(\"Confusion Matrix\")\n",
        "  plt.tight_layout()\n",
        "  plt.ylabel(\"Actual\")\n",
        "  plt.xlabel(\"Predicted\")\n",
        "  plt.show()\n",
        "\n"
      ],
      "execution_count": 28,
      "outputs": []
    },
    {
      "cell_type": "markdown",
      "metadata": {
        "id": "oPUP9jL7KSGM"
      },
      "source": [
        "## Manual fit model, do predictions"
      ]
    },
    {
      "cell_type": "markdown",
      "metadata": {
        "id": "KHuvjM3BaprE"
      },
      "source": [
        "Testing single model by hand"
      ]
    },
    {
      "cell_type": "code",
      "metadata": {
        "id": "AisUCAVmPjP4",
        "colab": {
          "base_uri": "https://localhost:8080/",
          "height": 198
        },
        "outputId": "e459688b-43fa-4886-8769-4a7ad8eedabe"
      },
      "source": [
        "print('fitting the pipeline ...')\n",
        "pipe_v3.fit(X_train, y_train)\n",
        "\n",
        "print('predicting ...')\n",
        "predictions_1 = pipe_v3.predict(X_test)"
      ],
      "execution_count": 90,
      "outputs": [
        {
          "output_type": "stream",
          "text": [
            "fitting the pipeline ...\n"
          ],
          "name": "stdout"
        },
        {
          "output_type": "execute_result",
          "data": {
            "text/html": [
              "<style>div.sk-top-container {color: black;background-color: white;}div.sk-toggleable {background-color: white;}label.sk-toggleable__label {cursor: pointer;display: block;width: 100%;margin-bottom: 0;padding: 0.2em 0.3em;box-sizing: border-box;text-align: center;}div.sk-toggleable__content {max-height: 0;max-width: 0;overflow: hidden;text-align: left;background-color: #f0f8ff;}div.sk-toggleable__content pre {margin: 0.2em;color: black;border-radius: 0.25em;background-color: #f0f8ff;}input.sk-toggleable__control:checked~div.sk-toggleable__content {max-height: 200px;max-width: 100%;overflow: auto;}div.sk-estimator input.sk-toggleable__control:checked~label.sk-toggleable__label {background-color: #d4ebff;}div.sk-label input.sk-toggleable__control:checked~label.sk-toggleable__label {background-color: #d4ebff;}input.sk-hidden--visually {border: 0;clip: rect(1px 1px 1px 1px);clip: rect(1px, 1px, 1px, 1px);height: 1px;margin: -1px;overflow: hidden;padding: 0;position: absolute;width: 1px;}div.sk-estimator {font-family: monospace;background-color: #f0f8ff;margin: 0.25em 0.25em;border: 1px dotted black;border-radius: 0.25em;box-sizing: border-box;}div.sk-estimator:hover {background-color: #d4ebff;}div.sk-parallel-item::after {content: \"\";width: 100%;border-bottom: 1px solid gray;flex-grow: 1;}div.sk-label:hover label.sk-toggleable__label {background-color: #d4ebff;}div.sk-serial::before {content: \"\";position: absolute;border-left: 1px solid gray;box-sizing: border-box;top: 2em;bottom: 0;left: 50%;}div.sk-serial {display: flex;flex-direction: column;align-items: center;background-color: white;}div.sk-item {z-index: 1;}div.sk-parallel {display: flex;align-items: stretch;justify-content: center;background-color: white;}div.sk-parallel-item {display: flex;flex-direction: column;position: relative;background-color: white;}div.sk-parallel-item:first-child::after {align-self: flex-end;width: 50%;}div.sk-parallel-item:last-child::after {align-self: flex-start;width: 50%;}div.sk-parallel-item:only-child::after {width: 0;}div.sk-dashed-wrapped {border: 1px dashed gray;margin: 0.2em;box-sizing: border-box;padding-bottom: 0.1em;background-color: white;position: relative;}div.sk-label label {font-family: monospace;font-weight: bold;background-color: white;display: inline-block;line-height: 1.2em;}div.sk-label-container {position: relative;z-index: 2;text-align: center;}div.sk-container {display: inline-block;position: relative;}</style><div class=\"sk-top-container\"><div class=\"sk-container\"><div class=\"sk-item sk-dashed-wrapped\"><div class=\"sk-label-container\"><div class=\"sk-label sk-toggleable\"><input class=\"sk-toggleable__control sk-hidden--visually\" id=\"7851fd17-7086-4caa-948e-9b450d7aa5aa\" type=\"checkbox\" ><label class=\"sk-toggleable__label\" for=\"7851fd17-7086-4caa-948e-9b450d7aa5aa\">Pipeline</label><div class=\"sk-toggleable__content\"><pre>Pipeline(steps=[('prep',\n",
              "                 ColumnTransformer(remainder='passthrough', sparse_threshold=0,\n",
              "                                   transformers=[('t_scaler_mm_1',\n",
              "                                                  MinMaxScaler(), [1, 2]),\n",
              "                                                 ('t_one_hot',\n",
              "                                                  OneHotEncoder(drop='first'),\n",
              "                                                  [0])])),\n",
              "                ('knn', KNeighborsClassifier(n_neighbors=7))])</pre></div></div></div><div class=\"sk-serial\"><div class=\"sk-item sk-dashed-wrapped\"><div class=\"sk-label-container\"><div class=\"sk-label sk-toggleable\"><input class=\"sk-toggleable__control sk-hidden--visually\" id=\"4daf7a9e-f958-4495-8514-de040e0e8473\" type=\"checkbox\" ><label class=\"sk-toggleable__label\" for=\"4daf7a9e-f958-4495-8514-de040e0e8473\">prep: ColumnTransformer</label><div class=\"sk-toggleable__content\"><pre>ColumnTransformer(remainder='passthrough', sparse_threshold=0,\n",
              "                  transformers=[('t_scaler_mm_1', MinMaxScaler(), [1, 2]),\n",
              "                                ('t_one_hot', OneHotEncoder(drop='first'),\n",
              "                                 [0])])</pre></div></div></div><div class=\"sk-parallel\"><div class=\"sk-parallel-item\"><div class=\"sk-item\"><div class=\"sk-label-container\"><div class=\"sk-label sk-toggleable\"><input class=\"sk-toggleable__control sk-hidden--visually\" id=\"27d0da9e-019a-4206-ae98-bf3e5547f8dc\" type=\"checkbox\" ><label class=\"sk-toggleable__label\" for=\"27d0da9e-019a-4206-ae98-bf3e5547f8dc\">t_scaler_mm_1</label><div class=\"sk-toggleable__content\"><pre>[1, 2]</pre></div></div></div><div class=\"sk-serial\"><div class=\"sk-item\"><div class=\"sk-estimator sk-toggleable\"><input class=\"sk-toggleable__control sk-hidden--visually\" id=\"2667aadd-63a5-487b-b918-762af930743f\" type=\"checkbox\" ><label class=\"sk-toggleable__label\" for=\"2667aadd-63a5-487b-b918-762af930743f\">MinMaxScaler</label><div class=\"sk-toggleable__content\"><pre>MinMaxScaler()</pre></div></div></div></div></div></div><div class=\"sk-parallel-item\"><div class=\"sk-item\"><div class=\"sk-label-container\"><div class=\"sk-label sk-toggleable\"><input class=\"sk-toggleable__control sk-hidden--visually\" id=\"c30bf76f-2caa-49fd-9c43-d3395f8d8145\" type=\"checkbox\" ><label class=\"sk-toggleable__label\" for=\"c30bf76f-2caa-49fd-9c43-d3395f8d8145\">t_one_hot</label><div class=\"sk-toggleable__content\"><pre>[0]</pre></div></div></div><div class=\"sk-serial\"><div class=\"sk-item\"><div class=\"sk-estimator sk-toggleable\"><input class=\"sk-toggleable__control sk-hidden--visually\" id=\"223c6871-41f2-4ced-bfc3-9a591595d920\" type=\"checkbox\" ><label class=\"sk-toggleable__label\" for=\"223c6871-41f2-4ced-bfc3-9a591595d920\">OneHotEncoder</label><div class=\"sk-toggleable__content\"><pre>OneHotEncoder(drop='first')</pre></div></div></div></div></div></div></div></div><div class=\"sk-item\"><div class=\"sk-estimator sk-toggleable\"><input class=\"sk-toggleable__control sk-hidden--visually\" id=\"36d47130-660d-4d40-8fe4-5319ff06bb25\" type=\"checkbox\" ><label class=\"sk-toggleable__label\" for=\"36d47130-660d-4d40-8fe4-5319ff06bb25\">KNeighborsClassifier</label><div class=\"sk-toggleable__content\"><pre>KNeighborsClassifier(n_neighbors=7)</pre></div></div></div></div></div></div></div>"
            ],
            "text/plain": [
              "Pipeline(steps=[('prep',\n",
              "                 ColumnTransformer(remainder='passthrough', sparse_threshold=0,\n",
              "                                   transformers=[('t_scaler_mm_1',\n",
              "                                                  MinMaxScaler(), [1, 2]),\n",
              "                                                 ('t_one_hot',\n",
              "                                                  OneHotEncoder(drop='first'),\n",
              "                                                  [0])])),\n",
              "                ('knn', KNeighborsClassifier(n_neighbors=7))])"
            ]
          },
          "metadata": {
            "tags": []
          },
          "execution_count": 90
        },
        {
          "output_type": "stream",
          "text": [
            "predicting ...\n"
          ],
          "name": "stdout"
        }
      ]
    },
    {
      "cell_type": "markdown",
      "metadata": {
        "id": "GFxhC5v1KWi0"
      },
      "source": [
        "## Evaluate model results"
      ]
    },
    {
      "cell_type": "code",
      "metadata": {
        "id": "5wC7EHjBP1BY",
        "colab": {
          "base_uri": "https://localhost:8080/",
          "height": 763
        },
        "outputId": "e0f565f4-db06-4046-9d9c-28a63e40afab"
      },
      "source": [
        "# y = list of all y values from dataset\n",
        "classes = np.unique(y)\n",
        "KNN_results(predictions_1, y_test, classes)\n",
        "c_matrix(predictions_1, y_test, classes)"
      ],
      "execution_count": 91,
      "outputs": [
        {
          "output_type": "stream",
          "text": [
            "\n",
            "KNN Accuracy score...\n",
            "  KNN: 0.5394853593611357\n",
            "\n",
            "KNN classification report...\n",
            "              precision    recall  f1-score   support\n",
            "\n",
            "    drummer1       0.53      0.45      0.49       356\n",
            "    drummer5       0.60      0.59      0.60       281\n",
            "    drummer7       0.41      0.53      0.46       204\n",
            "    drummer8       0.61      0.60      0.61       286\n",
            "\n",
            "    accuracy                           0.54      1127\n",
            "   macro avg       0.54      0.54      0.54      1127\n",
            "weighted avg       0.55      0.54      0.54      1127\n",
            "\n",
            "\n",
            "Confusion matrix...\n"
          ],
          "name": "stdout"
        },
        {
          "output_type": "display_data",
          "data": {
            "image/png": "[encoded data removed]",
            "text/plain": [
              "<Figure size 432x432 with 1 Axes>"
            ]
          },
          "metadata": {
            "tags": [],
            "image/png": {
              "width": 440,
              "height": 440
            }
          }
        }
      ]
    },
    {
      "cell_type": "code",
      "metadata": {
        "id": "N632ydS7S0Lx"
      },
      "source": [
        ""
      ],
      "execution_count": null,
      "outputs": []
    },
    {
      "cell_type": "markdown",
      "metadata": {
        "id": "lWH12kcMSoRC"
      },
      "source": [
        "# K-fold CV"
      ]
    },
    {
      "cell_type": "code",
      "metadata": {
        "id": "6exPok9QIIAu",
        "colab": {
          "base_uri": "https://localhost:8080/"
        },
        "outputId": "5e0194af-5c45-42bc-fef7-ec9cc26a27fd"
      },
      "source": [
        "from sklearn.model_selection import KFold, cross_val_score\n",
        "from sklearn.pipeline import make_pipeline\n",
        "\n",
        "# list of ColumnTransformers setup earlier ..\n",
        "cts = [ct_v0, ct_v1, ct_v2, ct_v3]\n",
        "\n",
        "\n",
        "results = []\n",
        "best_score = 0\n",
        "best_info = ''\n",
        "\n",
        "kf = KFold(n_splits=10, shuffle=True, random_state=27)\n",
        "\n",
        "for idx, ct in enumerate(cts):\n",
        "  print(\"\\n_______________________________________________________\")\n",
        "  print(\"\\n>>>> pipe #{}.. \\n\".format(idx))\n",
        "  \n",
        "  # Calculating error for K values between 1 and 20\n",
        "  for next_k in range(1, 20):\n",
        "    next_pipe = Pipeline(steps=[('prep',ct), ('knn', KNeighborsClassifier(next_k))])\n",
        "    cv_results = cross_val_score(next_pipe, X, y, cv=kf, scoring=\"accuracy\", n_jobs=-1 )\n",
        "    results.append(cv_results)\n",
        "\n",
        "    # print out put of this run.\n",
        "    this_mean = cv_results.mean()\n",
        "    this_run = \"pipe #{}, k={}, mean:{}\".format(idx, next_k, this_mean)\n",
        "    print('\\n\\n ___ '+this_run)\n",
        "    cv_results\n",
        "\n",
        "    # check for best\n",
        "    if this_mean > best_score:\n",
        "      best_score = this_mean\n",
        "      best_info = this_run\n",
        "    \n",
        "print(\"\\n\\nBest score was > {}\".format(best_score))\n",
        "print(best_info)\n",
        "\n"
      ],
      "execution_count": 92,
      "outputs": [
        {
          "output_type": "stream",
          "text": [
            "\n",
            "_______________________________________________________\n",
            "\n",
            ">>>> pipe #0.. \n",
            "\n",
            "\n",
            "\n",
            " ___ pipe #0, k=1, mean:0.49582530264666236\n"
          ],
          "name": "stdout"
        },
        {
          "output_type": "execute_result",
          "data": {
            "text/plain": [
              "array([0.5035461 , 0.49023091, 0.4973357 , 0.5026643 , 0.51687389,\n",
              "       0.5026643 , 0.5079929 , 0.46536412, 0.48490231, 0.48667851])"
            ]
          },
          "metadata": {
            "tags": []
          },
          "execution_count": 92
        },
        {
          "output_type": "stream",
          "text": [
            "\n",
            "\n",
            " ___ pipe #0, k=2, mean:0.4841077434715242\n"
          ],
          "name": "stdout"
        },
        {
          "output_type": "execute_result",
          "data": {
            "text/plain": [
              "array([0.47340426, 0.4955595 , 0.5008881 , 0.47069272, 0.4991119 ,\n",
              "       0.48845471, 0.4991119 , 0.44227353, 0.47246892, 0.4991119 ])"
            ]
          },
          "metadata": {
            "tags": []
          },
          "execution_count": 92
        },
        {
          "output_type": "stream",
          "text": [
            "\n",
            "\n",
            " ___ pipe #0, k=3, mean:0.5027553128503583\n"
          ],
          "name": "stdout"
        },
        {
          "output_type": "execute_result",
          "data": {
            "text/plain": [
              "array([0.48758865, 0.5008881 , 0.52220249, 0.48845471, 0.52220249,\n",
              "       0.51332149, 0.4920071 , 0.49023091, 0.5008881 , 0.50976909])"
            ]
          },
          "metadata": {
            "tags": []
          },
          "execution_count": 92
        },
        {
          "output_type": "stream",
          "text": [
            "\n",
            "\n",
            " ___ pipe #0, k=4, mean:0.5139437914918811\n"
          ],
          "name": "stdout"
        },
        {
          "output_type": "execute_result",
          "data": {
            "text/plain": [
              "array([0.4964539 , 0.51332149, 0.52575488, 0.4920071 , 0.54529307,\n",
              "       0.52397869, 0.52397869, 0.5079929 , 0.48490231, 0.52575488])"
            ]
          },
          "metadata": {
            "tags": []
          },
          "execution_count": 92
        },
        {
          "output_type": "stream",
          "text": [
            "\n",
            "\n",
            " ___ pipe #0, k=5, mean:0.5151836665280978\n"
          ],
          "name": "stdout"
        },
        {
          "output_type": "execute_result",
          "data": {
            "text/plain": [
              "array([0.51595745, 0.51154529, 0.52930728, 0.4920071 , 0.52930728,\n",
              "       0.5026643 , 0.52397869, 0.52575488, 0.49023091, 0.53108348])"
            ]
          },
          "metadata": {
            "tags": []
          },
          "execution_count": 92
        },
        {
          "output_type": "stream",
          "text": [
            "\n",
            "\n",
            " ___ pipe #0, k=6, mean:0.5160739704974617\n"
          ],
          "name": "stdout"
        },
        {
          "output_type": "execute_result",
          "data": {
            "text/plain": [
              "array([0.5035461 , 0.52042629, 0.53108348, 0.48667851, 0.52575488,\n",
              "       0.51332149, 0.51687389, 0.52397869, 0.5044405 , 0.53463588])"
            ]
          },
          "metadata": {
            "tags": []
          },
          "execution_count": 92
        },
        {
          "output_type": "stream",
          "text": [
            "\n",
            "\n",
            " ___ pipe #0, k=7, mean:0.5178445007117393\n"
          ],
          "name": "stdout"
        },
        {
          "output_type": "execute_result",
          "data": {
            "text/plain": [
              "array([0.53546099, 0.52930728, 0.51865009, 0.47602131, 0.51154529,\n",
              "       0.5062167 , 0.52753108, 0.52930728, 0.4973357 , 0.54706927])"
            ]
          },
          "metadata": {
            "tags": []
          },
          "execution_count": 92
        },
        {
          "output_type": "stream",
          "text": [
            "\n",
            "\n",
            " ___ pipe #0, k=8, mean:0.5093240996183062\n"
          ],
          "name": "stdout"
        },
        {
          "output_type": "execute_result",
          "data": {
            "text/plain": [
              "array([0.50531915, 0.5044405 , 0.52575488, 0.47069272, 0.51332149,\n",
              "       0.51332149, 0.5079929 , 0.53108348, 0.48134991, 0.53996448])"
            ]
          },
          "metadata": {
            "tags": []
          },
          "execution_count": 92
        },
        {
          "output_type": "stream",
          "text": [
            "\n",
            "\n",
            " ___ pipe #0, k=9, mean:0.5105683836589698\n"
          ],
          "name": "stdout"
        },
        {
          "output_type": "execute_result",
          "data": {
            "text/plain": [
              "array([0.5       , 0.51687389, 0.52042629, 0.47957371, 0.52220249,\n",
              "       0.5044405 , 0.52042629, 0.52220249, 0.48490231, 0.53463588])"
            ]
          },
          "metadata": {
            "tags": []
          },
          "execution_count": 92
        },
        {
          "output_type": "stream",
          "text": [
            "\n",
            "\n",
            " ___ pipe #0, k=10, mean:0.5157193605683836\n"
          ],
          "name": "stdout"
        },
        {
          "output_type": "execute_result",
          "data": {
            "text/plain": [
              "array([0.5       , 0.5062167 , 0.52930728, 0.48667851, 0.52220249,\n",
              "       0.51865009, 0.52042629, 0.54351687, 0.5008881 , 0.52930728])"
            ]
          },
          "metadata": {
            "tags": []
          },
          "execution_count": 92
        },
        {
          "output_type": "stream",
          "text": [
            "\n",
            "\n",
            " ___ pipe #0, k=11, mean:0.5134096720960406\n"
          ],
          "name": "stdout"
        },
        {
          "output_type": "execute_result",
          "data": {
            "text/plain": [
              "array([0.5035461 , 0.52042629, 0.52042629, 0.47602131, 0.52930728,\n",
              "       0.5079929 , 0.51154529, 0.53996448, 0.4973357 , 0.52753108])"
            ]
          },
          "metadata": {
            "tags": []
          },
          "execution_count": 92
        },
        {
          "output_type": "stream",
          "text": [
            "\n",
            "\n",
            " ___ pipe #0, k=12, mean:0.5107441139790635\n"
          ],
          "name": "stdout"
        },
        {
          "output_type": "execute_result",
          "data": {
            "text/plain": [
              "array([0.5106383 , 0.51332149, 0.51154529, 0.47602131, 0.51865009,\n",
              "       0.51687389, 0.5062167 , 0.52753108, 0.4973357 , 0.52930728])"
            ]
          },
          "metadata": {
            "tags": []
          },
          "execution_count": 92
        },
        {
          "output_type": "stream",
          "text": [
            "\n",
            "\n",
            " ___ pipe #0, k=13, mean:0.5050590176738092\n"
          ],
          "name": "stdout"
        },
        {
          "output_type": "execute_result",
          "data": {
            "text/plain": [
              "array([0.5177305 , 0.51154529, 0.51332149, 0.46714032, 0.52575488,\n",
              "       0.51154529, 0.5008881 , 0.5062167 , 0.48490231, 0.51154529])"
            ]
          },
          "metadata": {
            "tags": []
          },
          "execution_count": 92
        },
        {
          "output_type": "stream",
          "text": [
            "\n",
            "\n",
            " ___ pipe #0, k=14, mean:0.506836161394757\n"
          ],
          "name": "stdout"
        },
        {
          "output_type": "execute_result",
          "data": {
            "text/plain": [
              "array([0.51241135, 0.52575488, 0.52042629, 0.47779751, 0.52220249,\n",
              "       0.51687389, 0.4991119 , 0.5044405 , 0.48490231, 0.5044405 ])"
            ]
          },
          "metadata": {
            "tags": []
          },
          "execution_count": 92
        },
        {
          "output_type": "stream",
          "text": [
            "\n",
            "\n",
            " ___ pipe #0, k=15, mean:0.5093228399027498\n"
          ],
          "name": "stdout"
        },
        {
          "output_type": "execute_result",
          "data": {
            "text/plain": [
              "array([0.51241135, 0.5008881 , 0.52397869, 0.47779751, 0.53463588,\n",
              "       0.52575488, 0.4920071 , 0.51687389, 0.48845471, 0.52042629])"
            ]
          },
          "metadata": {
            "tags": []
          },
          "execution_count": 92
        },
        {
          "output_type": "stream",
          "text": [
            "\n",
            "\n",
            " ___ pipe #0, k=16, mean:0.5054189813940012\n"
          ],
          "name": "stdout"
        },
        {
          "output_type": "execute_result",
          "data": {
            "text/plain": [
              "array([0.49113475, 0.5026643 , 0.52575488, 0.48667851, 0.53285968,\n",
              "       0.52220249, 0.4955595 , 0.48845471, 0.47957371, 0.52930728])"
            ]
          },
          "metadata": {
            "tags": []
          },
          "execution_count": 92
        },
        {
          "output_type": "stream",
          "text": [
            "\n",
            "\n",
            " ___ pipe #0, k=17, mean:0.5041753272111157\n"
          ],
          "name": "stdout"
        },
        {
          "output_type": "execute_result",
          "data": {
            "text/plain": [
              "array([0.4929078 , 0.4937833 , 0.51509769, 0.47957371, 0.52042629,\n",
              "       0.51332149, 0.5008881 , 0.51865009, 0.48312611, 0.52397869])"
            ]
          },
          "metadata": {
            "tags": []
          },
          "execution_count": 92
        },
        {
          "output_type": "stream",
          "text": [
            "\n",
            "\n",
            " ___ pipe #0, k=18, mean:0.5059515261453963\n"
          ],
          "name": "stdout"
        },
        {
          "output_type": "execute_result",
          "data": {
            "text/plain": [
              "array([0.4929078 , 0.5079929 , 0.52753108, 0.48312611, 0.52042629,\n",
              "       0.5062167 , 0.48845471, 0.52220249, 0.48312611, 0.52753108])"
            ]
          },
          "metadata": {
            "tags": []
          },
          "execution_count": 92
        },
        {
          "output_type": "stream",
          "text": [
            "\n",
            "\n",
            " ___ pipe #0, k=19, mean:0.5000919592356046\n"
          ],
          "name": "stdout"
        },
        {
          "output_type": "execute_result",
          "data": {
            "text/plain": [
              "array([0.4822695 , 0.4955595 , 0.50976909, 0.47602131, 0.52753108,\n",
              "       0.5044405 , 0.4937833 , 0.51154529, 0.47246892, 0.52753108])"
            ]
          },
          "metadata": {
            "tags": []
          },
          "execution_count": 92
        },
        {
          "output_type": "stream",
          "text": [
            "\n",
            "_______________________________________________________\n",
            "\n",
            ">>>> pipe #1.. \n",
            "\n",
            "\n",
            "\n",
            " ___ pipe #1, k=1, mean:0.5054139425317763\n"
          ],
          "name": "stdout"
        },
        {
          "output_type": "execute_result",
          "data": {
            "text/plain": [
              "array([0.51950355, 0.5026643 , 0.48312611, 0.48845471, 0.54351687,\n",
              "       0.52220249, 0.53285968, 0.47957371, 0.48845471, 0.4937833 ])"
            ]
          },
          "metadata": {
            "tags": []
          },
          "execution_count": 92
        },
        {
          "output_type": "stream",
          "text": [
            "\n",
            "\n",
            " ___ pipe #1, k=2, mean:0.5011516949472808\n"
          ],
          "name": "stdout"
        },
        {
          "output_type": "execute_result",
          "data": {
            "text/plain": [
              "array([0.51595745, 0.48312611, 0.50976909, 0.47957371, 0.53285968,\n",
              "       0.5079929 , 0.5044405 , 0.46891652, 0.5044405 , 0.5044405 ])"
            ]
          },
          "metadata": {
            "tags": []
          },
          "execution_count": 92
        },
        {
          "output_type": "stream",
          "text": [
            "\n",
            "\n",
            " ___ pipe #1, k=3, mean:0.5299235982515149\n"
          ],
          "name": "stdout"
        },
        {
          "output_type": "execute_result",
          "data": {
            "text/plain": [
              "array([0.53014184, 0.50976909, 0.53108348, 0.5044405 , 0.58792185,\n",
              "       0.53285968, 0.54706927, 0.5026643 , 0.53818828, 0.51509769])"
            ]
          },
          "metadata": {
            "tags": []
          },
          "execution_count": 92
        },
        {
          "output_type": "stream",
          "text": [
            "\n",
            "\n",
            " ___ pipe #1, k=4, mean:0.5308098081453207\n"
          ],
          "name": "stdout"
        },
        {
          "output_type": "execute_result",
          "data": {
            "text/plain": [
              "array([0.54078014, 0.51154529, 0.53996448, 0.52575488, 0.61101243,\n",
              "       0.51509769, 0.52753108, 0.5062167 , 0.51154529, 0.51865009])"
            ]
          },
          "metadata": {
            "tags": []
          },
          "execution_count": 92
        },
        {
          "output_type": "stream",
          "text": [
            "\n",
            "\n",
            " ___ pipe #1, k=5, mean:0.5340060214403588\n"
          ],
          "name": "stdout"
        },
        {
          "output_type": "execute_result",
          "data": {
            "text/plain": [
              "array([0.54609929, 0.51154529, 0.54884547, 0.5044405 , 0.59325044,\n",
              "       0.53463588, 0.53996448, 0.52575488, 0.5079929 , 0.52753108])"
            ]
          },
          "metadata": {
            "tags": []
          },
          "execution_count": 92
        },
        {
          "output_type": "stream",
          "text": [
            "\n",
            "\n",
            " ___ pipe #1, k=6, mean:0.5403990778882128\n"
          ],
          "name": "stdout"
        },
        {
          "output_type": "execute_result",
          "data": {
            "text/plain": [
              "array([0.55319149, 0.53996448, 0.55239787, 0.50976909, 0.59680284,\n",
              "       0.55239787, 0.53108348, 0.53641208, 0.51332149, 0.51865009])"
            ]
          },
          "metadata": {
            "tags": []
          },
          "execution_count": 92
        },
        {
          "output_type": "stream",
          "text": [
            "\n",
            "\n",
            " ___ pipe #1, k=7, mean:0.5453721199753095\n"
          ],
          "name": "stdout"
        },
        {
          "output_type": "execute_result",
          "data": {
            "text/plain": [
              "array([0.55496454, 0.54351687, 0.55239787, 0.5079929 , 0.59502664,\n",
              "       0.55239787, 0.53108348, 0.55595027, 0.53463588, 0.52575488])"
            ]
          },
          "metadata": {
            "tags": []
          },
          "execution_count": 92
        },
        {
          "output_type": "stream",
          "text": [
            "\n",
            "\n",
            " ___ pipe #1, k=8, mean:0.5460829144779109\n"
          ],
          "name": "stdout"
        },
        {
          "output_type": "execute_result",
          "data": {
            "text/plain": [
              "array([0.55319149, 0.55062167, 0.56127886, 0.52042629, 0.58081705,\n",
              "       0.53463588, 0.54351687, 0.55417407, 0.52930728, 0.53285968])"
            ]
          },
          "metadata": {
            "tags": []
          },
          "execution_count": 92
        },
        {
          "output_type": "stream",
          "text": [
            "\n",
            "\n",
            " ___ pipe #1, k=9, mean:0.552121360996687\n"
          ],
          "name": "stdout"
        },
        {
          "output_type": "execute_result",
          "data": {
            "text/plain": [
              "array([0.55673759, 0.55772647, 0.56483126, 0.5062167 , 0.58259325,\n",
              "       0.54529307, 0.54884547, 0.55950266, 0.56483126, 0.53463588])"
            ]
          },
          "metadata": {
            "tags": []
          },
          "execution_count": 92
        },
        {
          "output_type": "stream",
          "text": [
            "\n",
            "\n",
            " ___ pipe #1, k=10, mean:0.5483926029502538\n"
          ],
          "name": "stdout"
        },
        {
          "output_type": "execute_result",
          "data": {
            "text/plain": [
              "array([0.54964539, 0.55062167, 0.57193606, 0.52575488, 0.58792185,\n",
              "       0.52753108, 0.53641208, 0.55772647, 0.55595027, 0.52042629])"
            ]
          },
          "metadata": {
            "tags": []
          },
          "execution_count": 92
        },
        {
          "output_type": "stream",
          "text": [
            "\n",
            "\n",
            " ___ pipe #1, k=11, mean:0.5483944925235881\n"
          ],
          "name": "stdout"
        },
        {
          "output_type": "execute_result",
          "data": {
            "text/plain": [
              "array([0.53900709, 0.55239787, 0.56483126, 0.51509769, 0.58259325,\n",
              "       0.52930728, 0.55417407, 0.56305506, 0.55595027, 0.52753108])"
            ]
          },
          "metadata": {
            "tags": []
          },
          "execution_count": 92
        },
        {
          "output_type": "stream",
          "text": [
            "\n",
            "\n",
            " ___ pipe #1, k=12, mean:0.546970384087273\n"
          ],
          "name": "stdout"
        },
        {
          "output_type": "execute_result",
          "data": {
            "text/plain": [
              "array([0.55673759, 0.56483126, 0.56483126, 0.51154529, 0.57371226,\n",
              "       0.52220249, 0.53996448, 0.56127886, 0.54351687, 0.53108348])"
            ]
          },
          "metadata": {
            "tags": []
          },
          "execution_count": 92
        },
        {
          "output_type": "stream",
          "text": [
            "\n",
            "\n",
            " ___ pipe #1, k=13, mean:0.5451948150107706\n"
          ],
          "name": "stdout"
        },
        {
          "output_type": "execute_result",
          "data": {
            "text/plain": [
              "array([0.55319149, 0.55062167, 0.54174067, 0.52220249, 0.58259325,\n",
              "       0.51154529, 0.54174067, 0.56660746, 0.54884547, 0.53285968])"
            ]
          },
          "metadata": {
            "tags": []
          },
          "execution_count": 92
        },
        {
          "output_type": "stream",
          "text": [
            "\n",
            "\n",
            " ___ pipe #1, k=14, mean:0.5467952836249576\n"
          ],
          "name": "stdout"
        },
        {
          "output_type": "execute_result",
          "data": {
            "text/plain": [
              "array([0.54255319, 0.54884547, 0.54706927, 0.53108348, 0.58969805,\n",
              "       0.51687389, 0.53641208, 0.55595027, 0.55772647, 0.54174067])"
            ]
          },
          "metadata": {
            "tags": []
          },
          "execution_count": 92
        },
        {
          "output_type": "stream",
          "text": [
            "\n",
            "\n",
            " ___ pipe #1, k=15, mean:0.5404050615371049\n"
          ],
          "name": "stdout"
        },
        {
          "output_type": "execute_result",
          "data": {
            "text/plain": [
              "array([0.51950355, 0.54174067, 0.54529307, 0.51154529, 0.58792185,\n",
              "       0.52753108, 0.52575488, 0.55595027, 0.55950266, 0.52930728])"
            ]
          },
          "metadata": {
            "tags": []
          },
          "execution_count": 92
        },
        {
          "output_type": "stream",
          "text": [
            "\n",
            "\n",
            " ___ pipe #1, k=16, mean:0.5423547862892558\n"
          ],
          "name": "stdout"
        },
        {
          "output_type": "execute_result",
          "data": {
            "text/plain": [
              "array([0.54255319, 0.54884547, 0.54529307, 0.51865009, 0.58081705,\n",
              "       0.52930728, 0.52220249, 0.55239787, 0.55062167, 0.53285968])"
            ]
          },
          "metadata": {
            "tags": []
          },
          "execution_count": 92
        },
        {
          "output_type": "stream",
          "text": [
            "\n",
            "\n",
            " ___ pipe #1, k=17, mean:0.5361393497348299\n"
          ],
          "name": "stdout"
        },
        {
          "output_type": "execute_result",
          "data": {
            "text/plain": [
              "array([0.53546099, 0.52753108, 0.53641208, 0.52042629, 0.59857904,\n",
              "       0.51865009, 0.52397869, 0.53463588, 0.55062167, 0.51509769])"
            ]
          },
          "metadata": {
            "tags": []
          },
          "execution_count": 92
        },
        {
          "output_type": "stream",
          "text": [
            "\n",
            "\n",
            " ___ pipe #1, k=18, mean:0.538272678029301\n"
          ],
          "name": "stdout"
        },
        {
          "output_type": "execute_result",
          "data": {
            "text/plain": [
              "array([0.5248227 , 0.54174067, 0.53463588, 0.53285968, 0.58436945,\n",
              "       0.52397869, 0.53108348, 0.54174067, 0.54529307, 0.52220249])"
            ]
          },
          "metadata": {
            "tags": []
          },
          "execution_count": 92
        },
        {
          "output_type": "stream",
          "text": [
            "\n",
            "\n",
            " ___ pipe #1, k=19, mean:0.5377388735623496\n"
          ],
          "name": "stdout"
        },
        {
          "output_type": "execute_result",
          "data": {
            "text/plain": [
              "array([0.53014184, 0.52220249, 0.54174067, 0.52753108, 0.58969805,\n",
              "       0.52220249, 0.53818828, 0.54351687, 0.53996448, 0.52220249])"
            ]
          },
          "metadata": {
            "tags": []
          },
          "execution_count": 92
        },
        {
          "output_type": "stream",
          "text": [
            "\n",
            "_______________________________________________________\n",
            "\n",
            ">>>> pipe #2.. \n",
            "\n",
            "\n",
            "\n",
            " ___ pipe #2, k=1, mean:0.5078993613242131\n"
          ],
          "name": "stdout"
        },
        {
          "output_type": "execute_result",
          "data": {
            "text/plain": [
              "array([0.52659574, 0.4955595 , 0.4973357 , 0.4920071 , 0.55239787,\n",
              "       0.51332149, 0.53463588, 0.47957371, 0.4955595 , 0.4920071 ])"
            ]
          },
          "metadata": {
            "tags": []
          },
          "execution_count": 92
        },
        {
          "output_type": "stream",
          "text": [
            "\n",
            "\n",
            " ___ pipe #2, k=2, mean:0.501329629769598\n"
          ],
          "name": "stdout"
        },
        {
          "output_type": "execute_result",
          "data": {
            "text/plain": [
              "array([0.5141844 , 0.48667851, 0.5062167 , 0.48312611, 0.53463588,\n",
              "       0.50976909, 0.5062167 , 0.46891652, 0.5079929 , 0.4955595 ])"
            ]
          },
          "metadata": {
            "tags": []
          },
          "execution_count": 92
        },
        {
          "output_type": "stream",
          "text": [
            "\n",
            "\n",
            " ___ pipe #2, k=3, mean:0.5276132799213937\n"
          ],
          "name": "stdout"
        },
        {
          "output_type": "execute_result",
          "data": {
            "text/plain": [
              "array([0.53723404, 0.5062167 , 0.52575488, 0.5079929 , 0.57904085,\n",
              "       0.52930728, 0.53996448, 0.4973357 , 0.53641208, 0.51687389])"
            ]
          },
          "metadata": {
            "tags": []
          },
          "execution_count": 92
        },
        {
          "output_type": "stream",
          "text": [
            "\n",
            "\n",
            " ___ pipe #2, k=4, mean:0.5308098081453207\n"
          ],
          "name": "stdout"
        },
        {
          "output_type": "execute_result",
          "data": {
            "text/plain": [
              "array([0.54078014, 0.5079929 , 0.54351687, 0.52753108, 0.61101243,\n",
              "       0.51865009, 0.52930728, 0.4991119 , 0.50976909, 0.52042629])"
            ]
          },
          "metadata": {
            "tags": []
          },
          "execution_count": 92
        },
        {
          "output_type": "stream",
          "text": [
            "\n",
            "\n",
            " ___ pipe #2, k=5, mean:0.5345382512628649\n"
          ],
          "name": "stdout"
        },
        {
          "output_type": "execute_result",
          "data": {
            "text/plain": [
              "array([0.54964539, 0.50976909, 0.55239787, 0.5079929 , 0.59325044,\n",
              "       0.53641208, 0.54174067, 0.52575488, 0.4991119 , 0.52930728])"
            ]
          },
          "metadata": {
            "tags": []
          },
          "execution_count": 92
        },
        {
          "output_type": "stream",
          "text": [
            "\n",
            "\n",
            " ___ pipe #2, k=6, mean:0.5398665331368178\n"
          ],
          "name": "stdout"
        },
        {
          "output_type": "execute_result",
          "data": {
            "text/plain": [
              "array([0.55141844, 0.53818828, 0.55772647, 0.5079929 , 0.59325044,\n",
              "       0.55239787, 0.53641208, 0.53818828, 0.50976909, 0.51332149])"
            ]
          },
          "metadata": {
            "tags": []
          },
          "execution_count": 92
        },
        {
          "output_type": "stream",
          "text": [
            "\n",
            "\n",
            " ___ pipe #2, k=7, mean:0.546260534371339\n"
          ],
          "name": "stdout"
        },
        {
          "output_type": "execute_result",
          "data": {
            "text/plain": [
              "array([0.55319149, 0.54351687, 0.55417407, 0.51332149, 0.59502664,\n",
              "       0.55239787, 0.53285968, 0.55239787, 0.53996448, 0.52575488])"
            ]
          },
          "metadata": {
            "tags": []
          },
          "execution_count": 92
        },
        {
          "output_type": "stream",
          "text": [
            "\n",
            "\n",
            " ___ pipe #2, k=8, mean:0.5443067155436301\n"
          ],
          "name": "stdout"
        },
        {
          "output_type": "execute_result",
          "data": {
            "text/plain": [
              "array([0.55319149, 0.54706927, 0.55062167, 0.52042629, 0.57904085,\n",
              "       0.53818828, 0.54529307, 0.55062167, 0.52397869, 0.53463588])"
            ]
          },
          "metadata": {
            "tags": []
          },
          "execution_count": 92
        },
        {
          "output_type": "stream",
          "text": [
            "\n",
            "\n",
            " ___ pipe #2, k=9, mean:0.5517651764231636\n"
          ],
          "name": "stdout"
        },
        {
          "output_type": "execute_result",
          "data": {
            "text/plain": [
              "array([0.56205674, 0.56127886, 0.55595027, 0.50976909, 0.58081705,\n",
              "       0.54529307, 0.54706927, 0.55950266, 0.55950266, 0.53641208])"
            ]
          },
          "metadata": {
            "tags": []
          },
          "execution_count": 92
        },
        {
          "output_type": "stream",
          "text": [
            "\n",
            "\n",
            " ___ pipe #2, k=10, mean:0.5492800725596161\n"
          ],
          "name": "stdout"
        },
        {
          "output_type": "execute_result",
          "data": {
            "text/plain": [
              "array([0.55319149, 0.55239787, 0.57015986, 0.52397869, 0.59325044,\n",
              "       0.52753108, 0.53285968, 0.55950266, 0.55772647, 0.52220249])"
            ]
          },
          "metadata": {
            "tags": []
          },
          "execution_count": 92
        },
        {
          "output_type": "stream",
          "text": [
            "\n",
            "\n",
            " ___ pipe #2, k=11, mean:0.5489270372749833\n"
          ],
          "name": "stdout"
        },
        {
          "output_type": "execute_result",
          "data": {
            "text/plain": [
              "array([0.54078014, 0.55595027, 0.56660746, 0.51332149, 0.58259325,\n",
              "       0.52753108, 0.55417407, 0.56305506, 0.55595027, 0.52930728])"
            ]
          },
          "metadata": {
            "tags": []
          },
          "execution_count": 92
        },
        {
          "output_type": "stream",
          "text": [
            "\n",
            "\n",
            " ___ pipe #2, k=12, mean:0.5473256238741293\n"
          ],
          "name": "stdout"
        },
        {
          "output_type": "execute_result",
          "data": {
            "text/plain": [
              "array([0.55673759, 0.56305506, 0.56660746, 0.51509769, 0.57193606,\n",
              "       0.52220249, 0.53641208, 0.56305506, 0.54529307, 0.53285968])"
            ]
          },
          "metadata": {
            "tags": []
          },
          "execution_count": 92
        },
        {
          "output_type": "stream",
          "text": [
            "\n",
            "\n",
            " ___ pipe #2, k=13, mean:0.5443070304725193\n"
          ],
          "name": "stdout"
        },
        {
          "output_type": "execute_result",
          "data": {
            "text/plain": [
              "array([0.55141844, 0.54884547, 0.54351687, 0.51865009, 0.58614565,\n",
              "       0.51509769, 0.53818828, 0.56305506, 0.54351687, 0.53463588])"
            ]
          },
          "metadata": {
            "tags": []
          },
          "execution_count": 92
        },
        {
          "output_type": "stream",
          "text": [
            "\n",
            "\n",
            " ___ pipe #2, k=14, mean:0.5455525742287393\n"
          ],
          "name": "stdout"
        },
        {
          "output_type": "execute_result",
          "data": {
            "text/plain": [
              "array([0.53900709, 0.55062167, 0.54351687, 0.53108348, 0.58792185,\n",
              "       0.51509769, 0.53285968, 0.55417407, 0.55595027, 0.54529307])"
            ]
          },
          "metadata": {
            "tags": []
          },
          "execution_count": 92
        },
        {
          "output_type": "stream",
          "text": [
            "\n",
            "\n",
            " ___ pipe #2, k=15, mean:0.5396939521056145\n"
          ],
          "name": "stdout"
        },
        {
          "output_type": "execute_result",
          "data": {
            "text/plain": [
              "array([0.52304965, 0.54174067, 0.54174067, 0.51154529, 0.58614565,\n",
              "       0.52930728, 0.52930728, 0.55417407, 0.55062167, 0.52930728])"
            ]
          },
          "metadata": {
            "tags": []
          },
          "execution_count": 92
        },
        {
          "output_type": "stream",
          "text": [
            "\n",
            "\n",
            " ___ pipe #2, k=16, mean:0.5409341420707203\n"
          ],
          "name": "stdout"
        },
        {
          "output_type": "execute_result",
          "data": {
            "text/plain": [
              "array([0.54078014, 0.54884547, 0.54706927, 0.51687389, 0.58259325,\n",
              "       0.52930728, 0.52042629, 0.55062167, 0.54529307, 0.52753108])"
            ]
          },
          "metadata": {
            "tags": []
          },
          "execution_count": 92
        },
        {
          "output_type": "stream",
          "text": [
            "\n",
            "\n",
            " ___ pipe #2, k=17, mean:0.5352506204099114\n"
          ],
          "name": "stdout"
        },
        {
          "output_type": "execute_result",
          "data": {
            "text/plain": [
              "array([0.53900709, 0.51865009, 0.53463588, 0.51865009, 0.59680284,\n",
              "       0.52042629, 0.52397869, 0.53641208, 0.54884547, 0.51509769])"
            ]
          },
          "metadata": {
            "tags": []
          },
          "execution_count": 92
        },
        {
          "output_type": "stream",
          "text": [
            "\n",
            "\n",
            " ___ pipe #2, k=18, mean:0.5366737840595593\n"
          ],
          "name": "stdout"
        },
        {
          "output_type": "execute_result",
          "data": {
            "text/plain": [
              "array([0.52659574, 0.53996448, 0.53463588, 0.53108348, 0.58436945,\n",
              "       0.52220249, 0.52930728, 0.54174067, 0.54174067, 0.51509769])"
            ]
          },
          "metadata": {
            "tags": []
          },
          "execution_count": 92
        },
        {
          "output_type": "stream",
          "text": [
            "\n",
            "\n",
            " ___ pipe #2, k=19, mean:0.5368504591663202\n"
          ],
          "name": "stdout"
        },
        {
          "output_type": "execute_result",
          "data": {
            "text/plain": [
              "array([0.53191489, 0.51509769, 0.53818828, 0.52397869, 0.58969805,\n",
              "       0.52397869, 0.53818828, 0.54529307, 0.53996448, 0.52220249])"
            ]
          },
          "metadata": {
            "tags": []
          },
          "execution_count": 92
        },
        {
          "output_type": "stream",
          "text": [
            "\n",
            "_______________________________________________________\n",
            "\n",
            ">>>> pipe #3.. \n",
            "\n",
            "\n",
            "\n",
            " ___ pipe #3, k=1, mean:0.5078987314664349\n"
          ],
          "name": "stdout"
        },
        {
          "output_type": "execute_result",
          "data": {
            "text/plain": [
              "array([0.53014184, 0.4937833 , 0.4991119 , 0.4920071 , 0.55417407,\n",
              "       0.51509769, 0.52753108, 0.48667851, 0.4920071 , 0.48845471])"
            ]
          },
          "metadata": {
            "tags": []
          },
          "execution_count": 92
        },
        {
          "output_type": "stream",
          "text": [
            "\n",
            "\n",
            " ___ pipe #3, k=2, mean:0.5023944043434992\n"
          ],
          "name": "stdout"
        },
        {
          "output_type": "execute_result",
          "data": {
            "text/plain": [
              "array([0.51950355, 0.48845471, 0.5062167 , 0.47779751, 0.53641208,\n",
              "       0.51154529, 0.5062167 , 0.47069272, 0.5079929 , 0.4991119 ])"
            ]
          },
          "metadata": {
            "tags": []
          },
          "execution_count": 92
        },
        {
          "output_type": "stream",
          "text": [
            "\n",
            "\n",
            " ___ pipe #3, k=3, mean:0.5276132799213938\n"
          ],
          "name": "stdout"
        },
        {
          "output_type": "execute_result",
          "data": {
            "text/plain": [
              "array([0.53723404, 0.5079929 , 0.52753108, 0.5079929 , 0.57904085,\n",
              "       0.52930728, 0.53818828, 0.4973357 , 0.53641208, 0.51509769])"
            ]
          },
          "metadata": {
            "tags": []
          },
          "execution_count": 92
        },
        {
          "output_type": "stream",
          "text": [
            "\n",
            "\n",
            " ___ pipe #3, k=4, mean:0.5316969628257938\n"
          ],
          "name": "stdout"
        },
        {
          "output_type": "execute_result",
          "data": {
            "text/plain": [
              "array([0.54609929, 0.51154529, 0.54351687, 0.52930728, 0.61101243,\n",
              "       0.52220249, 0.52930728, 0.4973357 , 0.5062167 , 0.52042629])"
            ]
          },
          "metadata": {
            "tags": []
          },
          "execution_count": 92
        },
        {
          "output_type": "stream",
          "text": [
            "\n",
            "\n",
            " ___ pipe #3, k=5, mean:0.5370246148419687\n"
          ],
          "name": "stdout"
        },
        {
          "output_type": "execute_result",
          "data": {
            "text/plain": [
              "array([0.55141844, 0.51332149, 0.55062167, 0.5079929 , 0.59325044,\n",
              "       0.53996448, 0.54351687, 0.52753108, 0.5044405 , 0.53818828])"
            ]
          },
          "metadata": {
            "tags": []
          },
          "execution_count": 92
        },
        {
          "output_type": "stream",
          "text": [
            "\n",
            "\n",
            " ___ pipe #3, k=6, mean:0.5402217729236739\n"
          ],
          "name": "stdout"
        },
        {
          "output_type": "execute_result",
          "data": {
            "text/plain": [
              "array([0.55141844, 0.54174067, 0.55595027, 0.5079929 , 0.59147425,\n",
              "       0.55062167, 0.53285968, 0.53818828, 0.51154529, 0.52042629])"
            ]
          },
          "metadata": {
            "tags": []
          },
          "execution_count": 92
        },
        {
          "output_type": "stream",
          "text": [
            "\n",
            "\n",
            " ___ pipe #3, k=7, mean:0.5448392602950253\n"
          ],
          "name": "stdout"
        },
        {
          "output_type": "execute_result",
          "data": {
            "text/plain": [
              "array([0.55496454, 0.54706927, 0.55595027, 0.51154529, 0.59147425,\n",
              "       0.54884547, 0.53108348, 0.54884547, 0.53463588, 0.52397869])"
            ]
          },
          "metadata": {
            "tags": []
          },
          "execution_count": 92
        },
        {
          "output_type": "stream",
          "text": [
            "\n",
            "\n",
            " ___ pipe #3, k=8, mean:0.5444840205081691\n"
          ],
          "name": "stdout"
        },
        {
          "output_type": "execute_result",
          "data": {
            "text/plain": [
              "array([0.55496454, 0.54706927, 0.54884547, 0.52042629, 0.57904085,\n",
              "       0.53818828, 0.54351687, 0.55417407, 0.52397869, 0.53463588])"
            ]
          },
          "metadata": {
            "tags": []
          },
          "execution_count": 92
        },
        {
          "output_type": "stream",
          "text": [
            "\n",
            "\n",
            " ___ pipe #3, k=9, mean:0.5521201012811308\n"
          ],
          "name": "stdout"
        },
        {
          "output_type": "execute_result",
          "data": {
            "text/plain": [
              "array([0.56382979, 0.56127886, 0.56305506, 0.5079929 , 0.57904085,\n",
              "       0.54529307, 0.54706927, 0.55950266, 0.55950266, 0.53463588])"
            ]
          },
          "metadata": {
            "tags": []
          },
          "execution_count": 92
        },
        {
          "output_type": "stream",
          "text": [
            "\n",
            "\n",
            " ___ pipe #3, k=10, mean:0.549102452666188\n"
          ],
          "name": "stdout"
        },
        {
          "output_type": "execute_result",
          "data": {
            "text/plain": [
              "array([0.55319149, 0.55239787, 0.57015986, 0.52220249, 0.59502664,\n",
              "       0.52397869, 0.53285968, 0.55772647, 0.56127886, 0.52220249])"
            ]
          },
          "metadata": {
            "tags": []
          },
          "execution_count": 92
        },
        {
          "output_type": "stream",
          "text": [
            "\n",
            "\n",
            " ___ pipe #3, k=11, mean:0.5496372019198065\n"
          ],
          "name": "stdout"
        },
        {
          "output_type": "execute_result",
          "data": {
            "text/plain": [
              "array([0.54255319, 0.55595027, 0.57015986, 0.51332149, 0.58614565,\n",
              "       0.52753108, 0.55239787, 0.56305506, 0.55772647, 0.52753108])"
            ]
          },
          "metadata": {
            "tags": []
          },
          "execution_count": 92
        },
        {
          "output_type": "stream",
          "text": [
            "\n",
            "\n",
            " ___ pipe #3, k=12, mean:0.5476811785898745\n"
          ],
          "name": "stdout"
        },
        {
          "output_type": "execute_result",
          "data": {
            "text/plain": [
              "array([0.55496454, 0.56127886, 0.56483126, 0.51509769, 0.57193606,\n",
              "       0.52575488, 0.54174067, 0.56305506, 0.54706927, 0.53108348])"
            ]
          },
          "metadata": {
            "tags": []
          },
          "execution_count": 92
        },
        {
          "output_type": "stream",
          "text": [
            "\n",
            "\n",
            " ___ pipe #3, k=13, mean:0.5443067155436302\n"
          ],
          "name": "stdout"
        },
        {
          "output_type": "execute_result",
          "data": {
            "text/plain": [
              "array([0.55319149, 0.54884547, 0.54529307, 0.51865009, 0.58259325,\n",
              "       0.51865009, 0.53463588, 0.56305506, 0.54174067, 0.53641208])"
            ]
          },
          "metadata": {
            "tags": []
          },
          "execution_count": 92
        },
        {
          "output_type": "stream",
          "text": [
            "\n",
            "\n",
            " ___ pipe #3, k=14, mean:0.5462627388735624\n"
          ],
          "name": "stdout"
        },
        {
          "output_type": "execute_result",
          "data": {
            "text/plain": [
              "array([0.54078014, 0.55062167, 0.54529307, 0.53108348, 0.59147425,\n",
              "       0.51687389, 0.53108348, 0.55417407, 0.55772647, 0.54351687])"
            ]
          },
          "metadata": {
            "tags": []
          },
          "execution_count": 92
        },
        {
          "output_type": "stream",
          "text": [
            "\n",
            "\n",
            " ___ pipe #3, k=15, mean:0.5402264968570096\n"
          ],
          "name": "stdout"
        },
        {
          "output_type": "execute_result",
          "data": {
            "text/plain": [
              "array([0.5248227 , 0.54174067, 0.54174067, 0.51154529, 0.58614565,\n",
              "       0.52930728, 0.52930728, 0.55772647, 0.55062167, 0.52930728])"
            ]
          },
          "metadata": {
            "tags": []
          },
          "execution_count": 92
        },
        {
          "output_type": "stream",
          "text": [
            "\n",
            "\n",
            " ___ pipe #3, k=16, mean:0.5405789022838643\n"
          ],
          "name": "stdout"
        },
        {
          "output_type": "execute_result",
          "data": {
            "text/plain": [
              "array([0.54078014, 0.55062167, 0.54529307, 0.51332149, 0.58259325,\n",
              "       0.52930728, 0.52042629, 0.55062167, 0.54351687, 0.52930728])"
            ]
          },
          "metadata": {
            "tags": []
          },
          "execution_count": 92
        },
        {
          "output_type": "stream",
          "text": [
            "\n",
            "\n",
            " ___ pipe #3, k=17, mean:0.5352506204099114\n"
          ],
          "name": "stdout"
        },
        {
          "output_type": "execute_result",
          "data": {
            "text/plain": [
              "array([0.53900709, 0.52042629, 0.53463588, 0.51865009, 0.59502664,\n",
              "       0.52220249, 0.52042629, 0.53818828, 0.54884547, 0.51509769])"
            ]
          },
          "metadata": {
            "tags": []
          },
          "execution_count": 92
        },
        {
          "output_type": "stream",
          "text": [
            "\n",
            "\n",
            " ___ pipe #3, k=18, mean:0.5361406094503861\n"
          ],
          "name": "stdout"
        },
        {
          "output_type": "execute_result",
          "data": {
            "text/plain": [
              "array([0.52836879, 0.53996448, 0.53463588, 0.53108348, 0.58436945,\n",
              "       0.52042629, 0.52753108, 0.54351687, 0.53818828, 0.51332149])"
            ]
          },
          "metadata": {
            "tags": []
          },
          "execution_count": 92
        },
        {
          "output_type": "stream",
          "text": [
            "\n",
            "\n",
            " ___ pipe #3, k=19, mean:0.53596235969918\n"
          ],
          "name": "stdout"
        },
        {
          "output_type": "execute_result",
          "data": {
            "text/plain": [
              "array([0.53191489, 0.51154529, 0.53818828, 0.52397869, 0.58969805,\n",
              "       0.52397869, 0.53641208, 0.54351687, 0.53818828, 0.52220249])"
            ]
          },
          "metadata": {
            "tags": []
          },
          "execution_count": 92
        },
        {
          "output_type": "stream",
          "text": [
            "\n",
            "\n",
            "Best score was > 0.552121360996687\n",
            "pipe #1, k=9, mean:0.552121360996687\n"
          ],
          "name": "stdout"
        }
      ]
    },
    {
      "cell_type": "markdown",
      "metadata": {
        "id": "Sgr7P3oc8n0W"
      },
      "source": [
        "# Stats on data being analysed"
      ]
    },
    {
      "cell_type": "markdown",
      "metadata": {
        "id": "JCyQK62SWfpr"
      },
      "source": [
        "Quick review of stats of the data we're about to use in the model search..."
      ]
    },
    {
      "cell_type": "code",
      "metadata": {
        "colab": {
          "base_uri": "https://localhost:8080/",
          "height": 487
        },
        "id": "B0AONZGHU02Y",
        "outputId": "cdde4b11-3ab8-49b2-b367-cc6ca01149b6"
      },
      "source": [
        "X.describe()\n",
        "pd.DataFrame(y).describe()\n",
        "print('Drummers: {}'.format(np.unique(y)))\n",
        "print('Beat positions: {}'.format(np.unique(X.bar_beat_number)))"
      ],
      "execution_count": 247,
      "outputs": [
        {
          "output_type": "execute_result",
          "data": {
            "text/html": [
              "<div>\n",
              "<style scoped>\n",
              "    .dataframe tbody tr th:only-of-type {\n",
              "        vertical-align: middle;\n",
              "    }\n",
              "\n",
              "    .dataframe tbody tr th {\n",
              "        vertical-align: top;\n",
              "    }\n",
              "\n",
              "    .dataframe thead th {\n",
              "        text-align: right;\n",
              "    }\n",
              "</style>\n",
              "<table border=\"1\" class=\"dataframe\">\n",
              "  <thead>\n",
              "    <tr style=\"text-align: right;\">\n",
              "      <th></th>\n",
              "      <th>velocity</th>\n",
              "      <th>beat_offset</th>\n",
              "      <th>bar_beat_number</th>\n",
              "    </tr>\n",
              "  </thead>\n",
              "  <tbody>\n",
              "    <tr>\n",
              "      <th>count</th>\n",
              "      <td>1677.000000</td>\n",
              "      <td>1677.000000</td>\n",
              "      <td>1677.000000</td>\n",
              "    </tr>\n",
              "    <tr>\n",
              "      <th>mean</th>\n",
              "      <td>55.196780</td>\n",
              "      <td>-8.725104</td>\n",
              "      <td>8.616577</td>\n",
              "    </tr>\n",
              "    <tr>\n",
              "      <th>std</th>\n",
              "      <td>32.221221</td>\n",
              "      <td>12.490194</td>\n",
              "      <td>4.697944</td>\n",
              "    </tr>\n",
              "    <tr>\n",
              "      <th>min</th>\n",
              "      <td>5.000000</td>\n",
              "      <td>-60.000000</td>\n",
              "      <td>1.000000</td>\n",
              "    </tr>\n",
              "    <tr>\n",
              "      <th>25%</th>\n",
              "      <td>31.000000</td>\n",
              "      <td>-16.000000</td>\n",
              "      <td>4.000000</td>\n",
              "    </tr>\n",
              "    <tr>\n",
              "      <th>50%</th>\n",
              "      <td>44.000000</td>\n",
              "      <td>-9.000000</td>\n",
              "      <td>9.000000</td>\n",
              "    </tr>\n",
              "    <tr>\n",
              "      <th>75%</th>\n",
              "      <td>75.000000</td>\n",
              "      <td>-1.000000</td>\n",
              "      <td>13.000000</td>\n",
              "    </tr>\n",
              "    <tr>\n",
              "      <th>max</th>\n",
              "      <td>127.000000</td>\n",
              "      <td>59.000000</td>\n",
              "      <td>16.000000</td>\n",
              "    </tr>\n",
              "  </tbody>\n",
              "</table>\n",
              "</div>"
            ],
            "text/plain": [
              "          velocity  beat_offset  bar_beat_number\n",
              "count  1677.000000  1677.000000      1677.000000\n",
              "mean     55.196780    -8.725104         8.616577\n",
              "std      32.221221    12.490194         4.697944\n",
              "min       5.000000   -60.000000         1.000000\n",
              "25%      31.000000   -16.000000         4.000000\n",
              "50%      44.000000    -9.000000         9.000000\n",
              "75%      75.000000    -1.000000        13.000000\n",
              "max     127.000000    59.000000        16.000000"
            ]
          },
          "metadata": {
            "tags": []
          },
          "execution_count": 247
        },
        {
          "output_type": "execute_result",
          "data": {
            "text/html": [
              "<div>\n",
              "<style scoped>\n",
              "    .dataframe tbody tr th:only-of-type {\n",
              "        vertical-align: middle;\n",
              "    }\n",
              "\n",
              "    .dataframe tbody tr th {\n",
              "        vertical-align: top;\n",
              "    }\n",
              "\n",
              "    .dataframe thead th {\n",
              "        text-align: right;\n",
              "    }\n",
              "</style>\n",
              "<table border=\"1\" class=\"dataframe\">\n",
              "  <thead>\n",
              "    <tr style=\"text-align: right;\">\n",
              "      <th></th>\n",
              "      <th>0</th>\n",
              "    </tr>\n",
              "  </thead>\n",
              "  <tbody>\n",
              "    <tr>\n",
              "      <th>count</th>\n",
              "      <td>1677</td>\n",
              "    </tr>\n",
              "    <tr>\n",
              "      <th>unique</th>\n",
              "      <td>4</td>\n",
              "    </tr>\n",
              "    <tr>\n",
              "      <th>top</th>\n",
              "      <td>drummer1</td>\n",
              "    </tr>\n",
              "    <tr>\n",
              "      <th>freq</th>\n",
              "      <td>447</td>\n",
              "    </tr>\n",
              "  </tbody>\n",
              "</table>\n",
              "</div>"
            ],
            "text/plain": [
              "               0\n",
              "count       1677\n",
              "unique         4\n",
              "top     drummer1\n",
              "freq         447"
            ]
          },
          "metadata": {
            "tags": []
          },
          "execution_count": 247
        },
        {
          "output_type": "stream",
          "text": [
            "Drummers: ['drummer1' 'drummer5' 'drummer7' 'drummer8']\n",
            "Beat positions: [ 1  2  3  4  5  6  7  8  9 10 11 12 13 14 15 16]\n"
          ],
          "name": "stdout"
        }
      ]
    },
    {
      "cell_type": "markdown",
      "metadata": {
        "id": "SF1oMzRp4zd0"
      },
      "source": [
        "... and some more useful numbers to review ..."
      ]
    },
    {
      "cell_type": "code",
      "metadata": {
        "colab": {
          "base_uri": "https://localhost:8080/"
        },
        "id": "-3z43MOi42wl",
        "outputId": "dc07c361-e8e9-45c8-c37b-a409df7a55fa"
      },
      "source": [
        "print('DataFrame shape: {}\\n'.format(working_data.shape))\n",
        "print('Total notes per drummer...')\n",
        "working_data.groupby(['drummer_ID'])['drummer_ID'].count() #describe() #['count']\n",
        "\n",
        "print('\\n\\nTotal notes per drummer, per instrument...')\n",
        "working_data.groupby(['drummer_ID', 'note'])['note'].count() #describe() #['count']\n",
        "#working_data.groupby(['drummer_ID', 'note'])['note'].describe() #['count']"
      ],
      "execution_count": 248,
      "outputs": [
        {
          "output_type": "stream",
          "text": [
            "DataFrame shape: (1677, 5)\n",
            "\n",
            "Total notes per drummer...\n"
          ],
          "name": "stdout"
        },
        {
          "output_type": "execute_result",
          "data": {
            "text/plain": [
              "drummer_ID\n",
              "drummer1    447\n",
              "drummer5    419\n",
              "drummer7    411\n",
              "drummer8    400\n",
              "Name: drummer_ID, dtype: int64"
            ]
          },
          "metadata": {
            "tags": []
          },
          "execution_count": 248
        },
        {
          "output_type": "stream",
          "text": [
            "\n",
            "\n",
            "Total notes per drummer, per instrument...\n"
          ],
          "name": "stdout"
        },
        {
          "output_type": "execute_result",
          "data": {
            "text/plain": [
              "drummer_ID  note \n",
              "drummer1    hh       252\n",
              "            kick      80\n",
              "            snare    115\n",
              "drummer5    hh       255\n",
              "            kick     111\n",
              "            snare     53\n",
              "drummer7    hh       256\n",
              "            kick      95\n",
              "            snare     60\n",
              "drummer8    hh       255\n",
              "            kick      96\n",
              "            snare     49\n",
              "Name: note, dtype: int64"
            ]
          },
          "metadata": {
            "tags": []
          },
          "execution_count": 248
        }
      ]
    },
    {
      "cell_type": "code",
      "metadata": {
        "colab": {
          "base_uri": "https://localhost:8080/",
          "height": 483
        },
        "id": "CB4ZYFYw7u2b",
        "outputId": "2a91c853-6bb5-4bda-d1a1-93b19f5eebbe"
      },
      "source": [
        "working_data.groupby(['drummer_ID', 'note'])[['velocity', 'beat_offset']].describe() #['count']\n"
      ],
      "execution_count": 258,
      "outputs": [
        {
          "output_type": "execute_result",
          "data": {
            "text/html": [
              "<div>\n",
              "<style scoped>\n",
              "    .dataframe tbody tr th:only-of-type {\n",
              "        vertical-align: middle;\n",
              "    }\n",
              "\n",
              "    .dataframe tbody tr th {\n",
              "        vertical-align: top;\n",
              "    }\n",
              "\n",
              "    .dataframe thead tr th {\n",
              "        text-align: left;\n",
              "    }\n",
              "\n",
              "    .dataframe thead tr:last-of-type th {\n",
              "        text-align: right;\n",
              "    }\n",
              "</style>\n",
              "<table border=\"1\" class=\"dataframe\">\n",
              "  <thead>\n",
              "    <tr>\n",
              "      <th></th>\n",
              "      <th></th>\n",
              "      <th colspan=\"8\" halign=\"left\">velocity</th>\n",
              "      <th colspan=\"8\" halign=\"left\">beat_offset</th>\n",
              "    </tr>\n",
              "    <tr>\n",
              "      <th></th>\n",
              "      <th></th>\n",
              "      <th>count</th>\n",
              "      <th>mean</th>\n",
              "      <th>std</th>\n",
              "      <th>min</th>\n",
              "      <th>25%</th>\n",
              "      <th>50%</th>\n",
              "      <th>75%</th>\n",
              "      <th>max</th>\n",
              "      <th>count</th>\n",
              "      <th>mean</th>\n",
              "      <th>std</th>\n",
              "      <th>min</th>\n",
              "      <th>25%</th>\n",
              "      <th>50%</th>\n",
              "      <th>75%</th>\n",
              "      <th>max</th>\n",
              "    </tr>\n",
              "    <tr>\n",
              "      <th>drummer_ID</th>\n",
              "      <th>note</th>\n",
              "      <th></th>\n",
              "      <th></th>\n",
              "      <th></th>\n",
              "      <th></th>\n",
              "      <th></th>\n",
              "      <th></th>\n",
              "      <th></th>\n",
              "      <th></th>\n",
              "      <th></th>\n",
              "      <th></th>\n",
              "      <th></th>\n",
              "      <th></th>\n",
              "      <th></th>\n",
              "      <th></th>\n",
              "      <th></th>\n",
              "      <th></th>\n",
              "    </tr>\n",
              "  </thead>\n",
              "  <tbody>\n",
              "    <tr>\n",
              "      <th rowspan=\"3\" valign=\"top\">drummer1</th>\n",
              "      <th>hh</th>\n",
              "      <td>252.0</td>\n",
              "      <td>35.952381</td>\n",
              "      <td>9.225685</td>\n",
              "      <td>12.0</td>\n",
              "      <td>30.0</td>\n",
              "      <td>36.0</td>\n",
              "      <td>41.00</td>\n",
              "      <td>68.0</td>\n",
              "      <td>252.0</td>\n",
              "      <td>-12.753968</td>\n",
              "      <td>9.298234</td>\n",
              "      <td>-41.0</td>\n",
              "      <td>-19.0</td>\n",
              "      <td>-13.0</td>\n",
              "      <td>-7.0</td>\n",
              "      <td>13.0</td>\n",
              "    </tr>\n",
              "    <tr>\n",
              "      <th>kick</th>\n",
              "      <td>80.0</td>\n",
              "      <td>54.562500</td>\n",
              "      <td>7.287659</td>\n",
              "      <td>25.0</td>\n",
              "      <td>52.0</td>\n",
              "      <td>57.0</td>\n",
              "      <td>58.25</td>\n",
              "      <td>75.0</td>\n",
              "      <td>80.0</td>\n",
              "      <td>-14.125000</td>\n",
              "      <td>12.583267</td>\n",
              "      <td>-44.0</td>\n",
              "      <td>-24.0</td>\n",
              "      <td>-14.0</td>\n",
              "      <td>-6.0</td>\n",
              "      <td>15.0</td>\n",
              "    </tr>\n",
              "    <tr>\n",
              "      <th>snare</th>\n",
              "      <td>115.0</td>\n",
              "      <td>44.452174</td>\n",
              "      <td>32.639241</td>\n",
              "      <td>5.0</td>\n",
              "      <td>25.0</td>\n",
              "      <td>30.0</td>\n",
              "      <td>81.00</td>\n",
              "      <td>121.0</td>\n",
              "      <td>115.0</td>\n",
              "      <td>-13.104348</td>\n",
              "      <td>14.659512</td>\n",
              "      <td>-48.0</td>\n",
              "      <td>-21.0</td>\n",
              "      <td>-13.0</td>\n",
              "      <td>-6.0</td>\n",
              "      <td>58.0</td>\n",
              "    </tr>\n",
              "    <tr>\n",
              "      <th rowspan=\"3\" valign=\"top\">drummer5</th>\n",
              "      <th>hh</th>\n",
              "      <td>255.0</td>\n",
              "      <td>41.039216</td>\n",
              "      <td>18.766448</td>\n",
              "      <td>10.0</td>\n",
              "      <td>26.0</td>\n",
              "      <td>36.0</td>\n",
              "      <td>59.00</td>\n",
              "      <td>88.0</td>\n",
              "      <td>255.0</td>\n",
              "      <td>-13.815686</td>\n",
              "      <td>8.331786</td>\n",
              "      <td>-37.0</td>\n",
              "      <td>-19.0</td>\n",
              "      <td>-14.0</td>\n",
              "      <td>-9.0</td>\n",
              "      <td>15.0</td>\n",
              "    </tr>\n",
              "    <tr>\n",
              "      <th>kick</th>\n",
              "      <td>111.0</td>\n",
              "      <td>28.675676</td>\n",
              "      <td>6.965058</td>\n",
              "      <td>13.0</td>\n",
              "      <td>21.5</td>\n",
              "      <td>31.0</td>\n",
              "      <td>34.00</td>\n",
              "      <td>40.0</td>\n",
              "      <td>111.0</td>\n",
              "      <td>-9.333333</td>\n",
              "      <td>11.171663</td>\n",
              "      <td>-42.0</td>\n",
              "      <td>-16.5</td>\n",
              "      <td>-8.0</td>\n",
              "      <td>-2.0</td>\n",
              "      <td>14.0</td>\n",
              "    </tr>\n",
              "    <tr>\n",
              "      <th>snare</th>\n",
              "      <td>53.0</td>\n",
              "      <td>58.716981</td>\n",
              "      <td>40.465264</td>\n",
              "      <td>5.0</td>\n",
              "      <td>9.0</td>\n",
              "      <td>85.0</td>\n",
              "      <td>93.00</td>\n",
              "      <td>124.0</td>\n",
              "      <td>53.0</td>\n",
              "      <td>-11.358491</td>\n",
              "      <td>23.034334</td>\n",
              "      <td>-60.0</td>\n",
              "      <td>-26.0</td>\n",
              "      <td>-8.0</td>\n",
              "      <td>-2.0</td>\n",
              "      <td>55.0</td>\n",
              "    </tr>\n",
              "    <tr>\n",
              "      <th rowspan=\"3\" valign=\"top\">drummer7</th>\n",
              "      <th>hh</th>\n",
              "      <td>256.0</td>\n",
              "      <td>57.949219</td>\n",
              "      <td>35.628934</td>\n",
              "      <td>7.0</td>\n",
              "      <td>33.0</td>\n",
              "      <td>43.5</td>\n",
              "      <td>71.00</td>\n",
              "      <td>127.0</td>\n",
              "      <td>256.0</td>\n",
              "      <td>-3.324219</td>\n",
              "      <td>10.848347</td>\n",
              "      <td>-32.0</td>\n",
              "      <td>-11.0</td>\n",
              "      <td>-2.5</td>\n",
              "      <td>4.0</td>\n",
              "      <td>24.0</td>\n",
              "    </tr>\n",
              "    <tr>\n",
              "      <th>kick</th>\n",
              "      <td>95.0</td>\n",
              "      <td>35.400000</td>\n",
              "      <td>10.311530</td>\n",
              "      <td>11.0</td>\n",
              "      <td>25.0</td>\n",
              "      <td>39.0</td>\n",
              "      <td>44.00</td>\n",
              "      <td>52.0</td>\n",
              "      <td>95.0</td>\n",
              "      <td>-6.894737</td>\n",
              "      <td>14.802583</td>\n",
              "      <td>-44.0</td>\n",
              "      <td>-17.0</td>\n",
              "      <td>-6.0</td>\n",
              "      <td>2.5</td>\n",
              "      <td>45.0</td>\n",
              "    </tr>\n",
              "    <tr>\n",
              "      <th>snare</th>\n",
              "      <td>60.0</td>\n",
              "      <td>67.133333</td>\n",
              "      <td>32.167183</td>\n",
              "      <td>5.0</td>\n",
              "      <td>62.0</td>\n",
              "      <td>79.5</td>\n",
              "      <td>89.00</td>\n",
              "      <td>107.0</td>\n",
              "      <td>60.0</td>\n",
              "      <td>-5.150000</td>\n",
              "      <td>18.218844</td>\n",
              "      <td>-51.0</td>\n",
              "      <td>-12.0</td>\n",
              "      <td>-4.0</td>\n",
              "      <td>3.0</td>\n",
              "      <td>59.0</td>\n",
              "    </tr>\n",
              "    <tr>\n",
              "      <th rowspan=\"3\" valign=\"top\">drummer8</th>\n",
              "      <th>hh</th>\n",
              "      <td>255.0</td>\n",
              "      <td>93.662745</td>\n",
              "      <td>25.050736</td>\n",
              "      <td>40.0</td>\n",
              "      <td>74.0</td>\n",
              "      <td>93.0</td>\n",
              "      <td>119.50</td>\n",
              "      <td>127.0</td>\n",
              "      <td>255.0</td>\n",
              "      <td>-3.807843</td>\n",
              "      <td>9.536004</td>\n",
              "      <td>-26.0</td>\n",
              "      <td>-11.0</td>\n",
              "      <td>-4.0</td>\n",
              "      <td>2.5</td>\n",
              "      <td>25.0</td>\n",
              "    </tr>\n",
              "    <tr>\n",
              "      <th>kick</th>\n",
              "      <td>96.0</td>\n",
              "      <td>58.364583</td>\n",
              "      <td>13.657556</td>\n",
              "      <td>38.0</td>\n",
              "      <td>44.0</td>\n",
              "      <td>57.5</td>\n",
              "      <td>72.25</td>\n",
              "      <td>85.0</td>\n",
              "      <td>96.0</td>\n",
              "      <td>-5.677083</td>\n",
              "      <td>12.126087</td>\n",
              "      <td>-29.0</td>\n",
              "      <td>-14.0</td>\n",
              "      <td>-5.0</td>\n",
              "      <td>1.0</td>\n",
              "      <td>39.0</td>\n",
              "    </tr>\n",
              "    <tr>\n",
              "      <th>snare</th>\n",
              "      <td>49.0</td>\n",
              "      <td>113.367347</td>\n",
              "      <td>16.430021</td>\n",
              "      <td>16.0</td>\n",
              "      <td>110.0</td>\n",
              "      <td>114.0</td>\n",
              "      <td>122.00</td>\n",
              "      <td>127.0</td>\n",
              "      <td>49.0</td>\n",
              "      <td>-5.897959</td>\n",
              "      <td>10.104135</td>\n",
              "      <td>-31.0</td>\n",
              "      <td>-12.0</td>\n",
              "      <td>-8.0</td>\n",
              "      <td>-1.0</td>\n",
              "      <td>20.0</td>\n",
              "    </tr>\n",
              "  </tbody>\n",
              "</table>\n",
              "</div>"
            ],
            "text/plain": [
              "                 velocity                                                     \\\n",
              "                    count        mean        std   min    25%    50%     75%   \n",
              "drummer_ID note                                                                \n",
              "drummer1   hh       252.0   35.952381   9.225685  12.0   30.0   36.0   41.00   \n",
              "           kick      80.0   54.562500   7.287659  25.0   52.0   57.0   58.25   \n",
              "           snare    115.0   44.452174  32.639241   5.0   25.0   30.0   81.00   \n",
              "drummer5   hh       255.0   41.039216  18.766448  10.0   26.0   36.0   59.00   \n",
              "           kick     111.0   28.675676   6.965058  13.0   21.5   31.0   34.00   \n",
              "           snare     53.0   58.716981  40.465264   5.0    9.0   85.0   93.00   \n",
              "drummer7   hh       256.0   57.949219  35.628934   7.0   33.0   43.5   71.00   \n",
              "           kick      95.0   35.400000  10.311530  11.0   25.0   39.0   44.00   \n",
              "           snare     60.0   67.133333  32.167183   5.0   62.0   79.5   89.00   \n",
              "drummer8   hh       255.0   93.662745  25.050736  40.0   74.0   93.0  119.50   \n",
              "           kick      96.0   58.364583  13.657556  38.0   44.0   57.5   72.25   \n",
              "           snare     49.0  113.367347  16.430021  16.0  110.0  114.0  122.00   \n",
              "\n",
              "                        beat_offset                                          \\\n",
              "                    max       count       mean        std   min   25%   50%   \n",
              "drummer_ID note                                                               \n",
              "drummer1   hh      68.0       252.0 -12.753968   9.298234 -41.0 -19.0 -13.0   \n",
              "           kick    75.0        80.0 -14.125000  12.583267 -44.0 -24.0 -14.0   \n",
              "           snare  121.0       115.0 -13.104348  14.659512 -48.0 -21.0 -13.0   \n",
              "drummer5   hh      88.0       255.0 -13.815686   8.331786 -37.0 -19.0 -14.0   \n",
              "           kick    40.0       111.0  -9.333333  11.171663 -42.0 -16.5  -8.0   \n",
              "           snare  124.0        53.0 -11.358491  23.034334 -60.0 -26.0  -8.0   \n",
              "drummer7   hh     127.0       256.0  -3.324219  10.848347 -32.0 -11.0  -2.5   \n",
              "           kick    52.0        95.0  -6.894737  14.802583 -44.0 -17.0  -6.0   \n",
              "           snare  107.0        60.0  -5.150000  18.218844 -51.0 -12.0  -4.0   \n",
              "drummer8   hh     127.0       255.0  -3.807843   9.536004 -26.0 -11.0  -4.0   \n",
              "           kick    85.0        96.0  -5.677083  12.126087 -29.0 -14.0  -5.0   \n",
              "           snare  127.0        49.0  -5.897959  10.104135 -31.0 -12.0  -8.0   \n",
              "\n",
              "                             \n",
              "                  75%   max  \n",
              "drummer_ID note              \n",
              "drummer1   hh    -7.0  13.0  \n",
              "           kick  -6.0  15.0  \n",
              "           snare -6.0  58.0  \n",
              "drummer5   hh    -9.0  15.0  \n",
              "           kick  -2.0  14.0  \n",
              "           snare -2.0  55.0  \n",
              "drummer7   hh     4.0  24.0  \n",
              "           kick   2.5  45.0  \n",
              "           snare  3.0  59.0  \n",
              "drummer8   hh     2.5  25.0  \n",
              "           kick   1.0  39.0  \n",
              "           snare -1.0  20.0  "
            ]
          },
          "metadata": {
            "tags": []
          },
          "execution_count": 258
        }
      ]
    },
    {
      "cell_type": "markdown",
      "metadata": {
        "id": "UjW5HVrYtnVq"
      },
      "source": [
        "# GridSearch"
      ]
    },
    {
      "cell_type": "markdown",
      "metadata": {
        "id": "UiMIcvv6tvyG"
      },
      "source": [
        "Good links!\n",
        "* https://www.featureranking.com/tutorials/machine-learning-tutorials/sk-part-3-cross-validation-and-hyperparameter-tuning/ \n",
        "* https://scikit-learn.org/stable/modules/generated/sklearn.model_selection.GridSearchCV.html\n",
        "* https://scikit-learn.org/stable/modules/compose.html \n",
        "* https://scikit-learn.org/stable/modules/generated/sklearn.neighbors.NearestNeighbors.html#sklearn.neighbors.NearestNeighbors"
      ]
    },
    {
      "cell_type": "markdown",
      "metadata": {
        "id": "3Cfy6qAN5q1s"
      },
      "source": [
        "NOTE: tested initially on this song filter ..\n",
        "* style_filter = \"3_soul-groove3\"   \n",
        "\n",
        ".. where was able to get 0.72 score!!"
      ]
    },
    {
      "cell_type": "code",
      "metadata": {
        "id": "Pykn52VJtqlN",
        "colab": {
          "base_uri": "https://localhost:8080/",
          "height": 35
        },
        "outputId": "7c53df80-a688-4dd6-fbb9-18e7bdbd22e4"
      },
      "source": [
        "from  sklearn.model_selection import KFold\n",
        "from sklearn.model_selection import GridSearchCV\n",
        "sklearn.__version__  # should be 0.23.2\n"
      ],
      "execution_count": 51,
      "outputs": [
        {
          "output_type": "execute_result",
          "data": {
            "application/vnd.google.colaboratory.intrinsic+json": {
              "type": "string"
            },
            "text/plain": [
              "'0.23.2'"
            ]
          },
          "metadata": {
            "tags": []
          },
          "execution_count": 51
        }
      ]
    },
    {
      "cell_type": "code",
      "metadata": {
        "colab": {
          "base_uri": "https://localhost:8080/",
          "height": 686
        },
        "id": "l56csAzvfkhv",
        "outputId": "c5d3aa9c-0ab9-400c-c9a2-de61bcfc1ce0"
      },
      "source": [
        "# note: 'grid_cts' is list of ColumnTransformers from earlier.\n",
        "# list of ColumnTransformers setup earlier ..\n",
        "grid_cts = [ct_v0, ct_v1, ct_v2, ct_v3]\n",
        "\n",
        "\n",
        "param_grid = dict(knn__n_neighbors=np.arange(1, 20), # knn neighbours\n",
        "     knn__p=[1, 2, 5], # knn distance functions to test\n",
        "     prep=grid_cts # list of ColTransformers to search\n",
        ")\n",
        "\n",
        "my_pipe = Pipeline(steps=[('prep',ct), ('knn', KNeighborsClassifier())])\n",
        "grid_search = GridSearchCV(my_pipe, param_grid=param_grid, cv=10, verbose=1)\n",
        "\n",
        "print('\\n>>>>FITTING ....\\n')\n",
        "grid_search.fit(X,y)\n",
        "\n",
        "# capture results in df\n",
        "results_df = pd.DataFrame.from_dict(grid_search.cv_results_)\n",
        "# display(results_df)\n",
        "\n",
        "print('\\n___BEST ESTIMATOR\\n')\n",
        "display(grid_search.best_estimator_)\n",
        "\n",
        "print('\\n___BEST SCORE\\n')\n",
        "display(grid_search.best_score_)\n",
        "\n",
        "print('\\n___BEST PARAMS\\n')\n",
        "display(grid_search.best_params_)\n",
        "\n",
        "\n"
      ],
      "execution_count": 249,
      "outputs": [
        {
          "output_type": "stream",
          "text": [
            "\n",
            ">>>>FITTING ....\n",
            "\n",
            "Fitting 10 folds for each of 228 candidates, totalling 2280 fits\n"
          ],
          "name": "stdout"
        },
        {
          "output_type": "stream",
          "text": [
            "[Parallel(n_jobs=1)]: Using backend SequentialBackend with 1 concurrent workers.\n",
            "[Parallel(n_jobs=1)]: Done 2280 out of 2280 | elapsed:  1.3min finished\n"
          ],
          "name": "stderr"
        },
        {
          "output_type": "execute_result",
          "data": {
            "text/html": [
              "<style>div.sk-top-container {color: black;background-color: white;}div.sk-toggleable {background-color: white;}label.sk-toggleable__label {cursor: pointer;display: block;width: 100%;margin-bottom: 0;padding: 0.2em 0.3em;box-sizing: border-box;text-align: center;}div.sk-toggleable__content {max-height: 0;max-width: 0;overflow: hidden;text-align: left;background-color: #f0f8ff;}div.sk-toggleable__content pre {margin: 0.2em;color: black;border-radius: 0.25em;background-color: #f0f8ff;}input.sk-toggleable__control:checked~div.sk-toggleable__content {max-height: 200px;max-width: 100%;overflow: auto;}div.sk-estimator input.sk-toggleable__control:checked~label.sk-toggleable__label {background-color: #d4ebff;}div.sk-label input.sk-toggleable__control:checked~label.sk-toggleable__label {background-color: #d4ebff;}input.sk-hidden--visually {border: 0;clip: rect(1px 1px 1px 1px);clip: rect(1px, 1px, 1px, 1px);height: 1px;margin: -1px;overflow: hidden;padding: 0;position: absolute;width: 1px;}div.sk-estimator {font-family: monospace;background-color: #f0f8ff;margin: 0.25em 0.25em;border: 1px dotted black;border-radius: 0.25em;box-sizing: border-box;}div.sk-estimator:hover {background-color: #d4ebff;}div.sk-parallel-item::after {content: \"\";width: 100%;border-bottom: 1px solid gray;flex-grow: 1;}div.sk-label:hover label.sk-toggleable__label {background-color: #d4ebff;}div.sk-serial::before {content: \"\";position: absolute;border-left: 1px solid gray;box-sizing: border-box;top: 2em;bottom: 0;left: 50%;}div.sk-serial {display: flex;flex-direction: column;align-items: center;background-color: white;}div.sk-item {z-index: 1;}div.sk-parallel {display: flex;align-items: stretch;justify-content: center;background-color: white;}div.sk-parallel-item {display: flex;flex-direction: column;position: relative;background-color: white;}div.sk-parallel-item:first-child::after {align-self: flex-end;width: 50%;}div.sk-parallel-item:last-child::after {align-self: flex-start;width: 50%;}div.sk-parallel-item:only-child::after {width: 0;}div.sk-dashed-wrapped {border: 1px dashed gray;margin: 0.2em;box-sizing: border-box;padding-bottom: 0.1em;background-color: white;position: relative;}div.sk-label label {font-family: monospace;font-weight: bold;background-color: white;display: inline-block;line-height: 1.2em;}div.sk-label-container {position: relative;z-index: 2;text-align: center;}div.sk-container {display: inline-block;position: relative;}</style><div class=\"sk-top-container\"><div class=\"sk-container\"><div class=\"sk-item sk-dashed-wrapped\"><div class=\"sk-label-container\"><div class=\"sk-label sk-toggleable\"><input class=\"sk-toggleable__control sk-hidden--visually\" id=\"b9b67829-c19e-4378-bfa2-fc62a0bd2e15\" type=\"checkbox\" ><label class=\"sk-toggleable__label\" for=\"b9b67829-c19e-4378-bfa2-fc62a0bd2e15\">GridSearchCV</label><div class=\"sk-toggleable__content\"><pre>GridSearchCV(cv=10,\n",
              "             estimator=Pipeline(steps=[('prep',\n",
              "                                        ColumnTransformer(remainder='passthrough',\n",
              "                                                          sparse_threshold=0,\n",
              "                                                          transformers=[('t_scaler_mm_1',\n",
              "                                                                         MinMaxScaler(),\n",
              "                                                                         [1,\n",
              "                                                                          2]),\n",
              "                                                                        ('t_one_hot',\n",
              "                                                                         OneHotEncoder(drop='first'),\n",
              "                                                                         [0])])),\n",
              "                                       ('knn', KNeighborsClassifier())]),\n",
              "             param_grid={'knn__n_neighbors': array([ 1,  2,  3,  4,  5,  6,  7,  8,  9, 10, 11, 12, 13, 14, 15, 16, 17,\n",
              "       18, 19]),\n",
              "                         'knn__p': [1, 2...\n",
              "                                                    sparse_threshold=0,\n",
              "                                                    transformers=[('t_scaler_mm_1',\n",
              "                                                                   MinMaxScaler(),\n",
              "                                                                   [1]),\n",
              "                                                                  ('t_scaler_mm_2',\n",
              "                                                                   MinMaxScaler(feature_range=(-0.5,\n",
              "                                                                                               0.5)),\n",
              "                                                                   [2]),\n",
              "                                                                  ('t_one_hot',\n",
              "                                                                   OneHotEncoder(drop='first'),\n",
              "                                                                   [0])]),\n",
              "                                  ColumnTransformer(remainder='passthrough',\n",
              "                                                    sparse_threshold=0,\n",
              "                                                    transformers=[('t_scaler_mm_1',\n",
              "                                                                   MinMaxScaler(),\n",
              "                                                                   [1, 2]),\n",
              "                                                                  ('t_one_hot',\n",
              "                                                                   OneHotEncoder(drop='first'),\n",
              "                                                                   [0])])]},\n",
              "             verbose=1)</pre></div></div></div><div class=\"sk-parallel\"><div class=\"sk-parallel-item\"><div class=\"sk-item\"><div class=\"sk-serial\"><div class=\"sk-item\"><div class=\"sk-serial\"><div class=\"sk-item sk-dashed-wrapped\"><div class=\"sk-label-container\"><div class=\"sk-label sk-toggleable\"><input class=\"sk-toggleable__control sk-hidden--visually\" id=\"cc0d6e75-b9cb-422d-b2ff-cc8917c490b3\" type=\"checkbox\" ><label class=\"sk-toggleable__label\" for=\"cc0d6e75-b9cb-422d-b2ff-cc8917c490b3\">prep: ColumnTransformer</label><div class=\"sk-toggleable__content\"><pre>ColumnTransformer(remainder='passthrough', sparse_threshold=0,\n",
              "                  transformers=[('t_scaler_mm_1', MinMaxScaler(), [1, 2]),\n",
              "                                ('t_one_hot', OneHotEncoder(drop='first'),\n",
              "                                 [0])])</pre></div></div></div><div class=\"sk-parallel\"><div class=\"sk-parallel-item\"><div class=\"sk-item\"><div class=\"sk-label-container\"><div class=\"sk-label sk-toggleable\"><input class=\"sk-toggleable__control sk-hidden--visually\" id=\"8ad29526-5249-4f24-ae63-51be36063085\" type=\"checkbox\" ><label class=\"sk-toggleable__label\" for=\"8ad29526-5249-4f24-ae63-51be36063085\">t_scaler_mm_1</label><div class=\"sk-toggleable__content\"><pre>[1, 2]</pre></div></div></div><div class=\"sk-serial\"><div class=\"sk-item\"><div class=\"sk-estimator sk-toggleable\"><input class=\"sk-toggleable__control sk-hidden--visually\" id=\"042826ac-5111-4083-b01c-b0bc2cee5e7d\" type=\"checkbox\" ><label class=\"sk-toggleable__label\" for=\"042826ac-5111-4083-b01c-b0bc2cee5e7d\">MinMaxScaler</label><div class=\"sk-toggleable__content\"><pre>MinMaxScaler()</pre></div></div></div></div></div></div><div class=\"sk-parallel-item\"><div class=\"sk-item\"><div class=\"sk-label-container\"><div class=\"sk-label sk-toggleable\"><input class=\"sk-toggleable__control sk-hidden--visually\" id=\"1118fe06-2148-427d-803c-2e1aea4c25fe\" type=\"checkbox\" ><label class=\"sk-toggleable__label\" for=\"1118fe06-2148-427d-803c-2e1aea4c25fe\">t_one_hot</label><div class=\"sk-toggleable__content\"><pre>[0]</pre></div></div></div><div class=\"sk-serial\"><div class=\"sk-item\"><div class=\"sk-estimator sk-toggleable\"><input class=\"sk-toggleable__control sk-hidden--visually\" id=\"1d2d61f7-396d-407b-9772-9b0ee0b2ffbf\" type=\"checkbox\" ><label class=\"sk-toggleable__label\" for=\"1d2d61f7-396d-407b-9772-9b0ee0b2ffbf\">OneHotEncoder</label><div class=\"sk-toggleable__content\"><pre>OneHotEncoder(drop='first')</pre></div></div></div></div></div></div></div></div><div class=\"sk-item\"><div class=\"sk-estimator sk-toggleable\"><input class=\"sk-toggleable__control sk-hidden--visually\" id=\"09e2091f-21cf-4f0b-bb8b-2900a0879d8d\" type=\"checkbox\" ><label class=\"sk-toggleable__label\" for=\"09e2091f-21cf-4f0b-bb8b-2900a0879d8d\">KNeighborsClassifier</label><div class=\"sk-toggleable__content\"><pre>KNeighborsClassifier()</pre></div></div></div></div></div></div></div></div></div></div></div></div>"
            ],
            "text/plain": [
              "GridSearchCV(cv=10,\n",
              "             estimator=Pipeline(steps=[('prep',\n",
              "                                        ColumnTransformer(remainder='passthrough',\n",
              "                                                          sparse_threshold=0,\n",
              "                                                          transformers=[('t_scaler_mm_1',\n",
              "                                                                         MinMaxScaler(),\n",
              "                                                                         [1,\n",
              "                                                                          2]),\n",
              "                                                                        ('t_one_hot',\n",
              "                                                                         OneHotEncoder(drop='first'),\n",
              "                                                                         [0])])),\n",
              "                                       ('knn', KNeighborsClassifier())]),\n",
              "             param_grid={'knn__n_neighbors': array([ 1,  2,  3,  4,  5,  6,  7,  8,  9, 10, 11, 12, 13, 14, 15, 16, 17,\n",
              "       18, 19]),\n",
              "                         'knn__p': [1, 2...\n",
              "                                                    sparse_threshold=0,\n",
              "                                                    transformers=[('t_scaler_mm_1',\n",
              "                                                                   MinMaxScaler(),\n",
              "                                                                   [1]),\n",
              "                                                                  ('t_scaler_mm_2',\n",
              "                                                                   MinMaxScaler(feature_range=(-0.5,\n",
              "                                                                                               0.5)),\n",
              "                                                                   [2]),\n",
              "                                                                  ('t_one_hot',\n",
              "                                                                   OneHotEncoder(drop='first'),\n",
              "                                                                   [0])]),\n",
              "                                  ColumnTransformer(remainder='passthrough',\n",
              "                                                    sparse_threshold=0,\n",
              "                                                    transformers=[('t_scaler_mm_1',\n",
              "                                                                   MinMaxScaler(),\n",
              "                                                                   [1, 2]),\n",
              "                                                                  ('t_one_hot',\n",
              "                                                                   OneHotEncoder(drop='first'),\n",
              "                                                                   [0])])]},\n",
              "             verbose=1)"
            ]
          },
          "metadata": {
            "tags": []
          },
          "execution_count": 249
        },
        {
          "output_type": "stream",
          "text": [
            "\n",
            "___BEST ESTIMATOR\n",
            "\n"
          ],
          "name": "stdout"
        },
        {
          "output_type": "display_data",
          "data": {
            "text/html": [
              "<style>div.sk-top-container {color: black;background-color: white;}div.sk-toggleable {background-color: white;}label.sk-toggleable__label {cursor: pointer;display: block;width: 100%;margin-bottom: 0;padding: 0.2em 0.3em;box-sizing: border-box;text-align: center;}div.sk-toggleable__content {max-height: 0;max-width: 0;overflow: hidden;text-align: left;background-color: #f0f8ff;}div.sk-toggleable__content pre {margin: 0.2em;color: black;border-radius: 0.25em;background-color: #f0f8ff;}input.sk-toggleable__control:checked~div.sk-toggleable__content {max-height: 200px;max-width: 100%;overflow: auto;}div.sk-estimator input.sk-toggleable__control:checked~label.sk-toggleable__label {background-color: #d4ebff;}div.sk-label input.sk-toggleable__control:checked~label.sk-toggleable__label {background-color: #d4ebff;}input.sk-hidden--visually {border: 0;clip: rect(1px 1px 1px 1px);clip: rect(1px, 1px, 1px, 1px);height: 1px;margin: -1px;overflow: hidden;padding: 0;position: absolute;width: 1px;}div.sk-estimator {font-family: monospace;background-color: #f0f8ff;margin: 0.25em 0.25em;border: 1px dotted black;border-radius: 0.25em;box-sizing: border-box;}div.sk-estimator:hover {background-color: #d4ebff;}div.sk-parallel-item::after {content: \"\";width: 100%;border-bottom: 1px solid gray;flex-grow: 1;}div.sk-label:hover label.sk-toggleable__label {background-color: #d4ebff;}div.sk-serial::before {content: \"\";position: absolute;border-left: 1px solid gray;box-sizing: border-box;top: 2em;bottom: 0;left: 50%;}div.sk-serial {display: flex;flex-direction: column;align-items: center;background-color: white;}div.sk-item {z-index: 1;}div.sk-parallel {display: flex;align-items: stretch;justify-content: center;background-color: white;}div.sk-parallel-item {display: flex;flex-direction: column;position: relative;background-color: white;}div.sk-parallel-item:first-child::after {align-self: flex-end;width: 50%;}div.sk-parallel-item:last-child::after {align-self: flex-start;width: 50%;}div.sk-parallel-item:only-child::after {width: 0;}div.sk-dashed-wrapped {border: 1px dashed gray;margin: 0.2em;box-sizing: border-box;padding-bottom: 0.1em;background-color: white;position: relative;}div.sk-label label {font-family: monospace;font-weight: bold;background-color: white;display: inline-block;line-height: 1.2em;}div.sk-label-container {position: relative;z-index: 2;text-align: center;}div.sk-container {display: inline-block;position: relative;}</style><div class=\"sk-top-container\"><div class=\"sk-container\"><div class=\"sk-item sk-dashed-wrapped\"><div class=\"sk-label-container\"><div class=\"sk-label sk-toggleable\"><input class=\"sk-toggleable__control sk-hidden--visually\" id=\"0e45777c-23fe-4396-aaa3-d85b7ff500e2\" type=\"checkbox\" ><label class=\"sk-toggleable__label\" for=\"0e45777c-23fe-4396-aaa3-d85b7ff500e2\">Pipeline</label><div class=\"sk-toggleable__content\"><pre>Pipeline(steps=[('prep',\n",
              "                 ColumnTransformer(remainder='passthrough', sparse_threshold=0,\n",
              "                                   transformers=[('t_scaler_mm_1',\n",
              "                                                  MinMaxScaler(), [1, 2]),\n",
              "                                                 ('t_one_hot',\n",
              "                                                  OneHotEncoder(drop='first'),\n",
              "                                                  [0])])),\n",
              "                ('knn', KNeighborsClassifier(p=1))])</pre></div></div></div><div class=\"sk-serial\"><div class=\"sk-item sk-dashed-wrapped\"><div class=\"sk-label-container\"><div class=\"sk-label sk-toggleable\"><input class=\"sk-toggleable__control sk-hidden--visually\" id=\"eb341415-6860-4266-a39e-90d736ac544d\" type=\"checkbox\" ><label class=\"sk-toggleable__label\" for=\"eb341415-6860-4266-a39e-90d736ac544d\">prep: ColumnTransformer</label><div class=\"sk-toggleable__content\"><pre>ColumnTransformer(remainder='passthrough', sparse_threshold=0,\n",
              "                  transformers=[('t_scaler_mm_1', MinMaxScaler(), [1, 2]),\n",
              "                                ('t_one_hot', OneHotEncoder(drop='first'),\n",
              "                                 [0])])</pre></div></div></div><div class=\"sk-parallel\"><div class=\"sk-parallel-item\"><div class=\"sk-item\"><div class=\"sk-label-container\"><div class=\"sk-label sk-toggleable\"><input class=\"sk-toggleable__control sk-hidden--visually\" id=\"2cee3b06-5f51-4e86-98ef-8239e1d0c126\" type=\"checkbox\" ><label class=\"sk-toggleable__label\" for=\"2cee3b06-5f51-4e86-98ef-8239e1d0c126\">t_scaler_mm_1</label><div class=\"sk-toggleable__content\"><pre>[1, 2]</pre></div></div></div><div class=\"sk-serial\"><div class=\"sk-item\"><div class=\"sk-estimator sk-toggleable\"><input class=\"sk-toggleable__control sk-hidden--visually\" id=\"bbbc2a91-9712-4ac5-b2b0-700ba9226a65\" type=\"checkbox\" ><label class=\"sk-toggleable__label\" for=\"bbbc2a91-9712-4ac5-b2b0-700ba9226a65\">MinMaxScaler</label><div class=\"sk-toggleable__content\"><pre>MinMaxScaler()</pre></div></div></div></div></div></div><div class=\"sk-parallel-item\"><div class=\"sk-item\"><div class=\"sk-label-container\"><div class=\"sk-label sk-toggleable\"><input class=\"sk-toggleable__control sk-hidden--visually\" id=\"6f8ff04a-8ea8-4ae9-9011-650fcdab5f51\" type=\"checkbox\" ><label class=\"sk-toggleable__label\" for=\"6f8ff04a-8ea8-4ae9-9011-650fcdab5f51\">t_one_hot</label><div class=\"sk-toggleable__content\"><pre>[0]</pre></div></div></div><div class=\"sk-serial\"><div class=\"sk-item\"><div class=\"sk-estimator sk-toggleable\"><input class=\"sk-toggleable__control sk-hidden--visually\" id=\"9a911a43-27a4-4841-9098-326d80fe99bb\" type=\"checkbox\" ><label class=\"sk-toggleable__label\" for=\"9a911a43-27a4-4841-9098-326d80fe99bb\">OneHotEncoder</label><div class=\"sk-toggleable__content\"><pre>OneHotEncoder(drop='first')</pre></div></div></div></div></div></div></div></div><div class=\"sk-item\"><div class=\"sk-estimator sk-toggleable\"><input class=\"sk-toggleable__control sk-hidden--visually\" id=\"7c52b59c-0eee-408e-a2dd-c421972f3264\" type=\"checkbox\" ><label class=\"sk-toggleable__label\" for=\"7c52b59c-0eee-408e-a2dd-c421972f3264\">KNeighborsClassifier</label><div class=\"sk-toggleable__content\"><pre>KNeighborsClassifier(p=1)</pre></div></div></div></div></div></div></div>"
            ],
            "text/plain": [
              "Pipeline(steps=[('prep',\n",
              "                 ColumnTransformer(remainder='passthrough', sparse_threshold=0,\n",
              "                                   transformers=[('t_scaler_mm_1',\n",
              "                                                  MinMaxScaler(), [1, 2]),\n",
              "                                                 ('t_one_hot',\n",
              "                                                  OneHotEncoder(drop='first'),\n",
              "                                                  [0])])),\n",
              "                ('knn', KNeighborsClassifier(p=1))])"
            ]
          },
          "metadata": {
            "tags": []
          }
        },
        {
          "output_type": "stream",
          "text": [
            "\n",
            "___BEST SCORE\n",
            "\n"
          ],
          "name": "stdout"
        },
        {
          "output_type": "display_data",
          "data": {
            "text/plain": [
              "0.7202773025377815"
            ]
          },
          "metadata": {
            "tags": []
          }
        },
        {
          "output_type": "stream",
          "text": [
            "\n",
            "___BEST PARAMS\n",
            "\n"
          ],
          "name": "stdout"
        },
        {
          "output_type": "display_data",
          "data": {
            "text/plain": [
              "{'knn__n_neighbors': 5,\n",
              " 'knn__p': 1,\n",
              " 'prep': ColumnTransformer(remainder='passthrough', sparse_threshold=0,\n",
              "                   transformers=[('t_scaler_mm_1', MinMaxScaler(), [1, 2]),\n",
              "                                 ('t_one_hot', OneHotEncoder(drop='first'),\n",
              "                                  [0])])}"
            ]
          },
          "metadata": {
            "tags": []
          }
        }
      ]
    },
    {
      "cell_type": "markdown",
      "metadata": {
        "id": "XZ6c0-yv8_j3"
      },
      "source": [
        "## Chart results "
      ]
    },
    {
      "cell_type": "code",
      "metadata": {
        "colab": {
          "base_uri": "https://localhost:8080/",
          "height": 306
        },
        "id": "gTuxebfWobca",
        "outputId": "8489122c-d98f-4a50-9e26-2ee8f201779c"
      },
      "source": [
        "grid_results = pd.DataFrame(grid_search.cv_results_['params'])\n",
        "grid_results['test_score'] = grid_search.cv_results_['mean_test_score']\n",
        "grid_results['metric'] = grid_results['knn__p'].replace([1,2,5], [\"Manhattan\", \"Euclidean\", \"Minkowski\"])\n",
        "grid_results.head()"
      ],
      "execution_count": 250,
      "outputs": [
        {
          "output_type": "execute_result",
          "data": {
            "text/html": [
              "<div>\n",
              "<style scoped>\n",
              "    .dataframe tbody tr th:only-of-type {\n",
              "        vertical-align: middle;\n",
              "    }\n",
              "\n",
              "    .dataframe tbody tr th {\n",
              "        vertical-align: top;\n",
              "    }\n",
              "\n",
              "    .dataframe thead th {\n",
              "        text-align: right;\n",
              "    }\n",
              "</style>\n",
              "<table border=\"1\" class=\"dataframe\">\n",
              "  <thead>\n",
              "    <tr style=\"text-align: right;\">\n",
              "      <th></th>\n",
              "      <th>knn__n_neighbors</th>\n",
              "      <th>knn__p</th>\n",
              "      <th>prep</th>\n",
              "      <th>test_score</th>\n",
              "      <th>metric</th>\n",
              "    </tr>\n",
              "  </thead>\n",
              "  <tbody>\n",
              "    <tr>\n",
              "      <th>0</th>\n",
              "      <td>1</td>\n",
              "      <td>1</td>\n",
              "      <td>ColumnTransformer(remainder='passthrough', sparse_threshold=0,\\n                  transformers=[('t_scaler_robust',\\n                                 RobustScaler(quantile_range=(25, 75)),\\n                                 [1, 2]),\\n                                ('t_one_hot', OneHotEncoder(drop='first'),\\n                                 [0])])</td>\n",
              "      <td>0.661295</td>\n",
              "      <td>Manhattan</td>\n",
              "    </tr>\n",
              "    <tr>\n",
              "      <th>1</th>\n",
              "      <td>1</td>\n",
              "      <td>1</td>\n",
              "      <td>ColumnTransformer(remainder='passthrough', sparse_threshold=0,\\n                  transformers=[('t_scaler_mm_1', MinMaxScaler(), [1]),\\n                                ('t_scaler_mm_2',\\n                                 MinMaxScaler(feature_range=(-0.5, 0.5)), [2]),\\n                                ('t_one_hot', OneHotEncoder(drop='first'), [0]),\\n                                ('t_one_hot_beat_pos',\\n                                 OneHotEncoder(categories=[[1, 2, 3, 4, 5, 6, 7,\\n                                                            8, 9, 10, 11, 12,\\n                                                            13, 14, 15, 16]],\\n                                               drop='first'),\\n                                 [3])])</td>\n",
              "      <td>0.685162</td>\n",
              "      <td>Manhattan</td>\n",
              "    </tr>\n",
              "    <tr>\n",
              "      <th>2</th>\n",
              "      <td>1</td>\n",
              "      <td>1</td>\n",
              "      <td>ColumnTransformer(remainder='passthrough', sparse_threshold=0,\\n                  transformers=[('t_scaler_mm_1', MinMaxScaler(), [1]),\\n                                ('t_scaler_mm_2',\\n                                 MinMaxScaler(feature_range=(-0.5, 0.5)), [2]),\\n                                ('t_one_hot', OneHotEncoder(drop='first'),\\n                                 [0])])</td>\n",
              "      <td>0.687550</td>\n",
              "      <td>Manhattan</td>\n",
              "    </tr>\n",
              "    <tr>\n",
              "      <th>3</th>\n",
              "      <td>1</td>\n",
              "      <td>1</td>\n",
              "      <td>ColumnTransformer(remainder='passthrough', sparse_threshold=0,\\n                  transformers=[('t_scaler_mm_1', MinMaxScaler(), [1, 2]),\\n                                ('t_one_hot', OneHotEncoder(drop='first'),\\n                                 [0])])</td>\n",
              "      <td>0.688149</td>\n",
              "      <td>Manhattan</td>\n",
              "    </tr>\n",
              "    <tr>\n",
              "      <th>4</th>\n",
              "      <td>1</td>\n",
              "      <td>2</td>\n",
              "      <td>ColumnTransformer(remainder='passthrough', sparse_threshold=0,\\n                  transformers=[('t_scaler_robust',\\n                                 RobustScaler(quantile_range=(25, 75)),\\n                                 [1, 2]),\\n                                ('t_one_hot', OneHotEncoder(drop='first'),\\n                                 [0])])</td>\n",
              "      <td>0.661285</td>\n",
              "      <td>Euclidean</td>\n",
              "    </tr>\n",
              "  </tbody>\n",
              "</table>\n",
              "</div>"
            ],
            "text/plain": [
              "   knn__n_neighbors  knn__p  \\\n",
              "0                 1       1   \n",
              "1                 1       1   \n",
              "2                 1       1   \n",
              "3                 1       1   \n",
              "4                 1       2   \n",
              "\n",
              "                                                                                                                                                                                                                                                                                                                                                                                                                                                                                                                                                                                                                                                                                                                                                                            prep  \\\n",
              "0                                                                                                                                                                                                                                                                                                                                                                                                                   ColumnTransformer(remainder='passthrough', sparse_threshold=0,\\n                  transformers=[('t_scaler_robust',\\n                                 RobustScaler(quantile_range=(25, 75)),\\n                                 [1, 2]),\\n                                ('t_one_hot', OneHotEncoder(drop='first'),\\n                                 [0])])   \n",
              "1  ColumnTransformer(remainder='passthrough', sparse_threshold=0,\\n                  transformers=[('t_scaler_mm_1', MinMaxScaler(), [1]),\\n                                ('t_scaler_mm_2',\\n                                 MinMaxScaler(feature_range=(-0.5, 0.5)), [2]),\\n                                ('t_one_hot', OneHotEncoder(drop='first'), [0]),\\n                                ('t_one_hot_beat_pos',\\n                                 OneHotEncoder(categories=[[1, 2, 3, 4, 5, 6, 7,\\n                                                            8, 9, 10, 11, 12,\\n                                                            13, 14, 15, 16]],\\n                                               drop='first'),\\n                                 [3])])   \n",
              "2                                                                                                                                                                                                                                                                                                                                                                               ColumnTransformer(remainder='passthrough', sparse_threshold=0,\\n                  transformers=[('t_scaler_mm_1', MinMaxScaler(), [1]),\\n                                ('t_scaler_mm_2',\\n                                 MinMaxScaler(feature_range=(-0.5, 0.5)), [2]),\\n                                ('t_one_hot', OneHotEncoder(drop='first'),\\n                                 [0])])   \n",
              "3                                                                                                                                                                                                                                                                                                                                                                                                                                                                                                                ColumnTransformer(remainder='passthrough', sparse_threshold=0,\\n                  transformers=[('t_scaler_mm_1', MinMaxScaler(), [1, 2]),\\n                                ('t_one_hot', OneHotEncoder(drop='first'),\\n                                 [0])])   \n",
              "4                                                                                                                                                                                                                                                                                                                                                                                                                   ColumnTransformer(remainder='passthrough', sparse_threshold=0,\\n                  transformers=[('t_scaler_robust',\\n                                 RobustScaler(quantile_range=(25, 75)),\\n                                 [1, 2]),\\n                                ('t_one_hot', OneHotEncoder(drop='first'),\\n                                 [0])])   \n",
              "\n",
              "   test_score     metric  \n",
              "0    0.661295  Manhattan  \n",
              "1    0.685162  Manhattan  \n",
              "2    0.687550  Manhattan  \n",
              "3    0.688149  Manhattan  \n",
              "4    0.661285  Euclidean  "
            ]
          },
          "metadata": {
            "tags": []
          },
          "execution_count": 250
        }
      ]
    },
    {
      "cell_type": "code",
      "metadata": {
        "colab": {
          "base_uri": "https://localhost:8080/",
          "height": 624
        },
        "id": "eqqWZ03cuStm",
        "outputId": "821732c6-85bb-45c5-d440-bab6af17b7fd"
      },
      "source": [
        "\n",
        "import matplotlib.pyplot as plt\n",
        "\n",
        "%matplotlib inline \n",
        "%config InlineBackend.figure_format = 'retina'\n",
        "plt.style.use(\"ggplot\")\n",
        "plt.rcParams[\"figure.figsize\"] = (15,10)\n",
        "\n",
        "for i in [\"Manhattan\", \"Euclidean\", \"Minkowski\"]:\n",
        "    temp = grid_results[grid_results['metric'] == i]\n",
        "    _ = plt.plot(temp['knn__n_neighbors'], temp['test_score'], marker = '.', label = i)\n",
        "    \n",
        "_ = plt.legend()\n",
        "_ = plt.xlabel('Number of Neighbors')\n",
        "_ = plt.ylabel(\"Mean CV Score\")\n",
        "_ = plt.title(\"KNN Performance Comparison\")\n",
        "plt.show()"
      ],
      "execution_count": 251,
      "outputs": [
        {
          "output_type": "display_data",
          "data": {
            "image/png": "[encoded data removed]",
            "text/plain": [
              "<Figure size 1080x720 with 1 Axes>"
            ]
          },
          "metadata": {
            "tags": [],
            "image/png": {
              "width": 896,
              "height": 607
            }
          }
        }
      ]
    }
  ]
}