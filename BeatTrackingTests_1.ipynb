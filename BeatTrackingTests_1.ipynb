{
  "nbformat": 4,
  "nbformat_minor": 0,
  "metadata": {
    "colab": {
      "name": "BeatTrackingTests_1.ipynb",
      "provenance": [],
      "collapsed_sections": [],
      "toc_visible": true,
      "authorship_tag": "ABX9TyNRiRKwS37/7g0sx0AxrHdw",
      "include_colab_link": true
    },
    "kernelspec": {
      "name": "python3",
      "display_name": "Python 3"
    }
  },
  "cells": [
    {
      "cell_type": "markdown",
      "metadata": {
        "id": "view-in-github",
        "colab_type": "text"
      },
      "source": [
        "<a href=\"https://colab.research.google.com/github/curtiscu/LYIT/blob/master/BeatTrackingTests_1.ipynb\" target=\"_parent\"><img src=\"https://colab.research.google.com/assets/colab-badge.svg\" alt=\"Open In Colab\"/></a>"
      ]
    },
    {
      "cell_type": "markdown",
      "metadata": {
        "id": "C9ImNuDBsWU9",
        "colab_type": "text"
      },
      "source": [
        "# Work out beats, timings, etc for loaded data"
      ]
    },
    {
      "cell_type": "markdown",
      "metadata": {
        "id": "SEGg94Ioz0Xy",
        "colab_type": "text"
      },
      "source": [
        "Doc that came in handy creating this notebook..\n",
        "\n",
        "* https://stackoverflow.com/questions/48905127/importing-py-files-in-google-colab\n",
        "* https://ipython.org/ipython-doc/stable/config/extensions/autoreload.html\n",
        "* https://switowski.com/blog/ipython-autoreload\n"
      ]
    },
    {
      "cell_type": "markdown",
      "metadata": {
        "id": "NybvOG9ssS26",
        "colab_type": "text"
      },
      "source": [
        "# Setup env\n"
      ]
    },
    {
      "cell_type": "code",
      "metadata": {
        "id": "KkLdwFFAAotC",
        "colab_type": "code",
        "colab": {}
      },
      "source": [
        "def set_pandas_display_options() -> None:\n",
        "    # Ref: https://stackoverflow.com/a/52432757/\n",
        "    display = pd.options.display\n",
        "\n",
        "    display.max_columns = 1000\n",
        "    display.max_rows = 100\n",
        "    display.max_colwidth = 199\n",
        "    display.width = None\n",
        "    # display.precision = 2  # set as needed\n",
        "\n",
        "set_pandas_display_options()"
      ],
      "execution_count": 0,
      "outputs": []
    },
    {
      "cell_type": "code",
      "metadata": {
        "id": "juZFbd9RttvQ",
        "colab_type": "code",
        "outputId": "b4aff7f1-b1d0-4072-a878-a8b0817b56ad",
        "colab": {
          "base_uri": "https://localhost:8080/",
          "height": 51
        }
      },
      "source": [
        "# print all cell output\n",
        "from IPython.core.interactiveshell import InteractiveShell\n",
        "InteractiveShell.ast_node_interactivity = \"all\"\n",
        "\n",
        "# install required libs\n",
        "!pip install mido\n"
      ],
      "execution_count": 63,
      "outputs": [
        {
          "output_type": "stream",
          "text": [
            "LOADING - data_prep.py module name is: data_prep\n",
            "Requirement already satisfied: mido in /usr/local/lib/python3.6/dist-packages (1.2.9)\n"
          ],
          "name": "stdout"
        }
      ]
    },
    {
      "cell_type": "markdown",
      "metadata": {
        "id": "yEXZFoA4t9de",
        "colab_type": "text"
      },
      "source": [
        ""
      ]
    },
    {
      "cell_type": "code",
      "metadata": {
        "id": "uRELmgI2mvEK",
        "colab_type": "code",
        "outputId": "384f031a-93c0-41d1-f81d-cca19a864bfc",
        "colab": {
          "base_uri": "https://localhost:8080/",
          "height": 34
        }
      },
      "source": [
        "# mount google drive\n",
        "\n",
        "from google.colab import drive\n",
        "drive.mount('/content/drive', force_remount=True)\n"
      ],
      "execution_count": 64,
      "outputs": [
        {
          "output_type": "stream",
          "text": [
            "Mounted at /content/drive\n"
          ],
          "name": "stdout"
        }
      ]
    },
    {
      "cell_type": "code",
      "metadata": {
        "id": "Yk2_ztH9uKat",
        "colab_type": "code",
        "outputId": "6e0e31eb-b70b-4fdb-a91d-68e3b5ad3163",
        "colab": {
          "base_uri": "https://localhost:8080/",
          "height": 255
        }
      },
      "source": [
        "# test, peek at data\n",
        "! ls -al '/content/drive/My Drive/groove-v1.0.0-midionly/groove/drummer1/eval_session/'\n",
        "\n",
        "# test, modules from local  'E:\\Google Drive\\LYIT\\Dissertation\\modules'\n",
        "! ls -al '/content/drive/My Drive/LYIT/Dissertation/modules/'"
      ],
      "execution_count": 65,
      "outputs": [
        {
          "output_type": "stream",
          "text": [
            "total 35\n",
            "-rw------- 1 root root 2589 Apr 27 12:01 10_soul-groove10_102_beat_4-4.mid\n",
            "-rw------- 1 root root 4793 Apr 27 12:01 1_funk-groove1_138_beat_4-4.mid\n",
            "-rw------- 1 root root 3243 Apr 27 12:01 2_funk-groove2_105_beat_4-4.mid\n",
            "-rw------- 1 root root 4466 Apr 27 12:01 3_soul-groove3_86_beat_4-4.mid\n",
            "-rw------- 1 root root 2551 Apr 27 12:01 4_soul-groove4_80_beat_4-4.mid\n",
            "-rw------- 1 root root 3798 Apr 27 12:01 5_funk-groove5_84_beat_4-4.mid\n",
            "-rw------- 1 root root 3760 Apr 27 12:01 6_hiphop-groove6_87_beat_4-4.mid\n",
            "-rw------- 1 root root 1894 Apr 27 12:01 7_pop-groove7_138_beat_4-4.mid\n",
            "-rw------- 1 root root 2437 Apr 27 12:01 8_rock-groove8_65_beat_4-4.mid\n",
            "-rw------- 1 root root 3448 Apr 27 12:01 9_soul-groove9_105_beat_4-4.mid\n",
            "total 10\n",
            "-rw------- 1 root root 5785 May 10 22:10 data_prep.py\n",
            "drwx------ 2 root root 4096 May 10 22:11 __pycache__\n"
          ],
          "name": "stdout"
        }
      ]
    },
    {
      "cell_type": "markdown",
      "metadata": {
        "id": "SBKOdMxXFygn",
        "colab_type": "text"
      },
      "source": [
        "## Auto reload module\n",
        "\n",
        "I'm now using a module edited and saved to google drive which is automatically pushed to the cloud and made available to the colab env. Changes need time to propagate, and imports don't 'reimport' to load changes, so trying the following...\n",
        "\n",
        "Note the code below is not very reliable, it seems to work occasionally, after some time, but haven't been able to work out the pattern to it. \n",
        "\n",
        "If in a hurry, brute force loading of changes by restarting the runtime."
      ]
    },
    {
      "cell_type": "code",
      "metadata": {
        "id": "jErvkusO6D01",
        "colab_type": "code",
        "colab": {
          "base_uri": "https://localhost:8080/",
          "height": 51
        },
        "outputId": "1048a10a-08a4-4111-e036-380836f1f1ac"
      },
      "source": [
        "# tool to auto reload modules.\n",
        "%load_ext autoreload\n",
        "\n",
        "# config to auto-reload all modules, handy to make \n",
        "# writing and testing modules much easier.\n",
        "%autoreload 2"
      ],
      "execution_count": 66,
      "outputs": [
        {
          "output_type": "stream",
          "text": [
            "The autoreload extension is already loaded. To reload it, use:\n",
            "  %reload_ext autoreload\n"
          ],
          "name": "stdout"
        }
      ]
    },
    {
      "cell_type": "code",
      "metadata": {
        "id": "rjqCavr4sz4x",
        "colab_type": "code",
        "colab": {}
      },
      "source": [
        "# imports\n",
        "import pandas as pd\n",
        "import mido \n",
        "from mido import MidiFile\n",
        "\n",
        "import datetime\n",
        "\n",
        "# import my modules\n",
        "import sys\n",
        "sys.path.append('/content/drive/My Drive/LYIT/Dissertation/modules/')\n",
        "import data_prep\n",
        "\n"
      ],
      "execution_count": 0,
      "outputs": []
    },
    {
      "cell_type": "code",
      "metadata": {
        "id": "0MMbo3wsI5gU",
        "colab_type": "code",
        "outputId": "81d8a64c-0c80-49c9-d8a4-3c88186b5223",
        "colab": {
          "base_uri": "https://localhost:8080/",
          "height": 34
        }
      },
      "source": [
        "print(datetime.datetime.now())"
      ],
      "execution_count": 68,
      "outputs": [
        {
          "output_type": "stream",
          "text": [
            "2020-05-10 22:11:25.317404\n"
          ],
          "name": "stdout"
        }
      ]
    },
    {
      "cell_type": "code",
      "metadata": {
        "id": "oPKVwQibzS7t",
        "colab_type": "code",
        "outputId": "4ac3bcbc-c57f-4635-d962-8c8f755b834c",
        "colab": {
          "base_uri": "https://localhost:8080/",
          "height": 34
        }
      },
      "source": [
        "# testing auto reload of modules \n",
        "data_prep.test_function_call('bling')"
      ],
      "execution_count": 69,
      "outputs": [
        {
          "output_type": "stream",
          "text": [
            "test function called worked! :)  bling\n"
          ],
          "name": "stdout"
        }
      ]
    },
    {
      "cell_type": "markdown",
      "metadata": {
        "id": "8DbIvTwPGpMU",
        "colab_type": "text"
      },
      "source": [
        "# Test creating object from custom module"
      ]
    },
    {
      "cell_type": "code",
      "metadata": {
        "id": "v9rxH3-9Gu64",
        "colab_type": "code",
        "outputId": "3f79d12f-b618-434d-e253-29a82776f178",
        "colab": {
          "base_uri": "https://localhost:8080/",
          "height": 85
        }
      },
      "source": [
        "midi_file = data_prep.MIDI_File_Wrapper('/content/drive/My Drive/groove-v1.0.0-midionly/groove/drummer1/eval_session/10_soul-groove10_102_beat_4-4.mid')"
      ],
      "execution_count": 70,
      "outputs": [
        {
          "output_type": "stream",
          "text": [
            "__ FILE: /content/drive/My Drive/groove-v1.0.0-midionly/groove/drummer1/eval_session/10_soul-groove10_102_beat_4-4.mid\n",
            "tracks: [<midi track 'MIDI' 639 messages>]\n",
            "time sig: <meta message time_signature numerator=4 denominator=4 clocks_per_click=24 notated_32nd_notes_per_beat=8 time=0>\n",
            "tempo: <meta message set_tempo tempo=588235 time=0>\n"
          ],
          "name": "stdout"
        }
      ]
    },
    {
      "cell_type": "markdown",
      "metadata": {
        "id": "VspeXMsHH6Q3",
        "colab_type": "text"
      },
      "source": [
        "... the above verifies I'm able to create custom objects from custom code, great!\n"
      ]
    },
    {
      "cell_type": "markdown",
      "metadata": {
        "id": "0VYbRPKaRu6H",
        "colab_type": "text"
      },
      "source": [
        "# Brainstorming ways to calculate beat times\n",
        "\n",
        "Things I might need to calculate..\n",
        "* start/ end times of bars\n",
        "* beat times for 1/4, 1/8, 1/16, 1/32 notes\n",
        "* shuffles in 4/4?\n",
        "\n",
        "Ways to go about it...\n",
        "* Take list of MIDI note_on, find what beat & bar to associate each beat with.\n",
        "* For a given musical beat, take the acceptable timing range for something to be considered related to it, filter all the MIDI notes against this range to see which if any fall into that range.\n",
        "\n",
        "Python code/ libs for ranges and splitting datasets..\n",
        "* python 'range', only works on integers\n",
        "* pandas.cut, pandas.qcut\n",
        "* numpy\n",
        "* itertools \n",
        "\n",
        "Some handy refs...\n",
        "* https://realpython.com/how-to-use-numpy-arange/\n",
        "* https://numpy.org/doc/stable/reference/generated/numpy.linspace.html\n",
        "* https://pbpython.com/pandas-qcut-cut.html < looks very promising!!!\n"
      ]
    },
    {
      "cell_type": "markdown",
      "metadata": {
        "id": "RN_HumVeJQrE",
        "colab_type": "text"
      },
      "source": [
        "## peek at example object data.."
      ]
    },
    {
      "cell_type": "code",
      "metadata": {
        "id": "ehfX9txCCnvy",
        "colab_type": "code",
        "outputId": "07ee279e-fa73-4160-be5f-efd08aeb602b",
        "colab": {
          "base_uri": "https://localhost:8080/",
          "height": 343
        }
      },
      "source": [
        "# take a peek inside what we've setup already...\n",
        "midi_file.__dict__"
      ],
      "execution_count": 71,
      "outputs": [
        {
          "output_type": "execute_result",
          "data": {
            "text/plain": [
              "{'df_midi_data':             msg_type  delta_time  ... ticks_since_start  seconds_since_start\n",
              " 0         track_name           0  ...                 0             0.000000\n",
              " 1    instrument_name           0  ...                 0             0.000000\n",
              " 2     time_signature           0  ...                 0             0.000000\n",
              " 3      key_signature           0  ...                 0             0.000000\n",
              " 4       smpte_offset           0  ...                 0             0.000000\n",
              " ..               ...         ...  ...               ...                  ...\n",
              " 634          note_on          37  ...             30566            37.458315\n",
              " 635         note_off          83  ...             30649            37.560030\n",
              " 636          note_on          24  ...             30673            37.589442\n",
              " 637         note_off          83  ...             30756            37.691158\n",
              " 638     end_of_track           0  ...             30756            37.691158\n",
              " \n",
              " [639 rows x 5 columns],\n",
              " 'my_file_midi': <midi file '/content/drive/My Drive/groove-v1.0.0-midionly/groove/drummer1/eval_session/10_soul-groove10_102_beat_4-4.mid' type 0, 1 tracks, 639 messages>,\n",
              " 'my_file_name': '/content/drive/My Drive/groove-v1.0.0-midionly/groove/drummer1/eval_session/10_soul-groove10_102_beat_4-4.mid',\n",
              " 'my_tempo': <meta message set_tempo tempo=588235 time=0>,\n",
              " 'my_time_sig': <meta message time_signature numerator=4 denominator=4 clocks_per_click=24 notated_32nd_notes_per_beat=8 time=0>}"
            ]
          },
          "metadata": {
            "tags": []
          },
          "execution_count": 71
        }
      ]
    },
    {
      "cell_type": "code",
      "metadata": {
        "id": "0syjtqCiDq14",
        "colab_type": "code",
        "outputId": "00897410-893a-47f1-c1ad-687368c0b28b",
        "colab": {
          "base_uri": "https://localhost:8080/",
          "height": 34
        }
      },
      "source": [
        "midi_file.__doc__"
      ],
      "execution_count": 72,
      "outputs": [
        {
          "output_type": "execute_result",
          "data": {
            "text/plain": [
              "' utility wrapper for loading, parsding a mido.MidiFile object'"
            ]
          },
          "metadata": {
            "tags": []
          },
          "execution_count": 72
        }
      ]
    },
    {
      "cell_type": "markdown",
      "metadata": {
        "id": "MnnGeqvqi1zu",
        "colab_type": "text"
      },
      "source": [
        "## Calulate some time metrics\n"
      ]
    },
    {
      "cell_type": "code",
      "metadata": {
        "id": "WKALKbTqp0D5",
        "colab_type": "code",
        "colab": {
          "base_uri": "https://localhost:8080/",
          "height": 85
        },
        "outputId": "fa4ecfd2-dfae-42ad-d973-d4949da1b256"
      },
      "source": [
        "print('file name: {}'.format(midi_file.my_file_name))\n",
        "print('ticks per quarter note: {}'.format(midi_file.ticks()))\n",
        "print('tempo (microseconds p/ quarter): {}'.format(midi_file.tempo_us()))\n",
        "print('tempo (bpm): {}'.format(midi_file.tempo_bpm()))"
      ],
      "execution_count": 91,
      "outputs": [
        {
          "output_type": "stream",
          "text": [
            "file name: /content/drive/My Drive/groove-v1.0.0-midionly/groove/drummer1/eval_session/10_soul-groove10_102_beat_4-4.mid\n",
            "ticks per quarter note: 480\n",
            "tempo (microseconds p/ quarter): 588235\n",
            "tempo (bpm): 102.0000510000255\n"
          ],
          "name": "stdout"
        }
      ]
    },
    {
      "cell_type": "code",
      "metadata": {
        "id": "nDqeLQgfi77p",
        "colab_type": "code",
        "colab": {
          "base_uri": "https://localhost:8080/",
          "height": 119
        },
        "outputId": "ec0ee73a-1b9a-4fd4-fa8c-76d341e86a1b"
      },
      "source": [
        "\n",
        "def calc_sec(ticks):\n",
        "  return mido.tick2second(ticks, midi_file.ticks(), midi_file.tempo_us() )\n",
        "\n",
        "# caluate absolute time in milliseconds\n",
        "# mido.tick2second(ticks, < ticks per quarter >, < tempo in microseconds> )\n",
        "print('seconds per tick (ticks2seconds): {}'.format(mido.tick2second(1, midi_file.ticks(), midi_file.tempo_us() )))\n",
        "\n",
        "# NOTE: calculate microseconds per tick\n",
        "# µs_per_tick  = ticks per qaurter beat / file time in microseconds\n",
        "us_per_tick =  midi_file.tempo_us()/ midi_file.ticks()\n",
        "print('microseconds per tick: {}'.format(us_per_tick))\n",
        "\n",
        "# NOTE: the following works for different time sigs, i.e. \n",
        "#   will handle 6/8  and  4/4 ok...\n",
        "# beat ticks = <ticks per quarter beat> x  ( 4/ < file time sig denominator > )\n",
        "ticks_per_beat = midi_file.ticks() * ( 4/ midi_file.ts_denom() )\n",
        "print('per beat: {}, ticks: {}, sec: {}'.format(midi_file.ts_denom(), ticks_per_beat, calc_sec(ticks_per_beat)))\n",
        "\n",
        "# NOTE: total ticks for a measure..\n",
        "# bar ticks = < beat ticks >  x < beats per bar >\n",
        "ticks_per_bar = ticks_per_beat * midi_file.ts_num()\n",
        "print('per bar - ticks: {}, sec: {}'.format(ticks_per_bar, calc_sec(ticks_per_bar)))\n",
        "\n",
        "# Ticks per 1/8 note\n",
        "ticks_per_8 = midi_file.ticks() * ( 4/ 8 )\n",
        "print('per 1/8 - ticks: {}, sec: {}'.format(ticks_per_8, calc_sec(ticks_per_8)))\n",
        "\n",
        "# Ticks per 1/16 note\n",
        "ticks_per_16 = midi_file.ticks() * ( 4/ 16 )\n",
        "print('per 1/16 - ticks: {}, sec: {}'.format(ticks_per_16, calc_sec(ticks_per_16)))\n"
      ],
      "execution_count": 95,
      "outputs": [
        {
          "output_type": "stream",
          "text": [
            "seconds per tick (ticks2seconds): 0.0012254895833333332\n",
            "microseconds per tick: 1225.4895833333333\n",
            "per beat: 4, ticks: 480.0, sec: 0.588235\n",
            "per bar - ticks: 1920.0, sec: 2.35294\n",
            "per 1/8 - ticks: 240.0, sec: 0.2941175\n",
            "per 1/16 - ticks: 120.0, sec: 0.14705875\n"
          ],
          "name": "stdout"
        }
      ]
    },
    {
      "cell_type": "markdown",
      "metadata": {
        "id": "4yPBR7kE57sh",
        "colab_type": "text"
      },
      "source": [
        "## Calculate number of bars in file \n"
      ]
    },
    {
      "cell_type": "code",
      "metadata": {
        "id": "3s193P_Y5WJe",
        "colab_type": "code",
        "colab": {
          "base_uri": "https://localhost:8080/",
          "height": 34
        },
        "outputId": "297b47d3-c308-4929-9008-93967233c4d0"
      },
      "source": [
        "\n",
        "# last note_on event in file, in seconds..\n",
        "#    event# 636, time(s): 37.589442\n",
        "# .. divided by length of bar in seconds\n",
        "total_bars = 37.589442 /2.35294\n",
        "print('number bars in file: {}'.format( total_bars))"
      ],
      "execution_count": 97,
      "outputs": [
        {
          "output_type": "stream",
          "text": [
            "number bars in file: 15.975520837760419\n"
          ],
          "name": "stdout"
        }
      ]
    },
    {
      "cell_type": "code",
      "metadata": {
        "id": "4q6x-_K97GB2",
        "colab_type": "code",
        "colab": {
          "base_uri": "https://localhost:8080/",
          "height": 34
        },
        "outputId": "30d98b85-65ef-4950-b6ef-c22c82bbcb0c"
      },
      "source": [
        "import math\n",
        "\n",
        "# round up number of bars\n",
        "total_bars = math.ceil(total_bars)\n",
        "\n",
        "print('# bars, rounded up: {}'.format(total_bars))"
      ],
      "execution_count": 103,
      "outputs": [
        {
          "output_type": "stream",
          "text": [
            "# bars, rounded up: 16\n"
          ],
          "name": "stdout"
        }
      ]
    },
    {
      "cell_type": "markdown",
      "metadata": {
        "id": "8CIdOoq-7vt6",
        "colab_type": "text"
      },
      "source": [
        "# Calculate number of beats in file"
      ]
    },
    {
      "cell_type": "code",
      "metadata": {
        "id": "1euNW9nl7tjV",
        "colab_type": "code",
        "colab": {
          "base_uri": "https://localhost:8080/",
          "height": 34
        },
        "outputId": "872de8b9-edce-45ba-da52-7a5abbc6045d"
      },
      "source": [
        "# number of beats in file\n",
        "total_beats = total_bars * midi_file.ts_num()\n",
        "print('total beatz: {}'.format(total_beats))\n"
      ],
      "execution_count": 104,
      "outputs": [
        {
          "output_type": "stream",
          "text": [
            "total beatz: 64\n"
          ],
          "name": "stdout"
        }
      ]
    },
    {
      "cell_type": "code",
      "metadata": {
        "id": "2-Y7GT-i-RJc",
        "colab_type": "code",
        "colab": {}
      },
      "source": [
        "# 1/16s in file\n",
        "\n",
        "# Ticks per 1/16 note\n",
        "ticks_per_16 = midi_file.ticks() * ( 4/ 16 )"
      ],
      "execution_count": 0,
      "outputs": []
    },
    {
      "cell_type": "markdown",
      "metadata": {
        "id": "ktiH7z-8JVCN",
        "colab_type": "text"
      },
      "source": [
        "# Splitting data\n",
        "\n",
        "\n"
      ]
    },
    {
      "cell_type": "markdown",
      "metadata": {
        "id": "qYmY3gdl7_TB",
        "colab_type": "text"
      },
      "source": [
        "## Testing pandas.cut\n",
        "\n",
        "* https://pandas.pydata.org/pandas-docs/stable/reference/api/pandas.cut.html\n"
      ]
    },
    {
      "cell_type": "code",
      "metadata": {
        "id": "dXDYt4Js1VAN",
        "colab_type": "code",
        "outputId": "e32beca9-3ed8-499f-d5bb-6250b0671b2a",
        "colab": {
          "base_uri": "https://localhost:8080/",
          "height": 419
        }
      },
      "source": [
        "# example usage -> pd.cut(df['ext price'], bins=4)\n",
        "display(pd.cut(midi_file.df_midi_data['ticks_since_start'], bins=64).to_frame())"
      ],
      "execution_count": 122,
      "outputs": [
        {
          "output_type": "display_data",
          "data": {
            "text/html": [
              "<div>\n",
              "<style scoped>\n",
              "    .dataframe tbody tr th:only-of-type {\n",
              "        vertical-align: middle;\n",
              "    }\n",
              "\n",
              "    .dataframe tbody tr th {\n",
              "        vertical-align: top;\n",
              "    }\n",
              "\n",
              "    .dataframe thead th {\n",
              "        text-align: right;\n",
              "    }\n",
              "</style>\n",
              "<table border=\"1\" class=\"dataframe\">\n",
              "  <thead>\n",
              "    <tr style=\"text-align: right;\">\n",
              "      <th></th>\n",
              "      <th>ticks_since_start</th>\n",
              "    </tr>\n",
              "  </thead>\n",
              "  <tbody>\n",
              "    <tr>\n",
              "      <th>0</th>\n",
              "      <td>(-30.756, 480.562]</td>\n",
              "    </tr>\n",
              "    <tr>\n",
              "      <th>1</th>\n",
              "      <td>(-30.756, 480.562]</td>\n",
              "    </tr>\n",
              "    <tr>\n",
              "      <th>2</th>\n",
              "      <td>(-30.756, 480.562]</td>\n",
              "    </tr>\n",
              "    <tr>\n",
              "      <th>3</th>\n",
              "      <td>(-30.756, 480.562]</td>\n",
              "    </tr>\n",
              "    <tr>\n",
              "      <th>4</th>\n",
              "      <td>(-30.756, 480.562]</td>\n",
              "    </tr>\n",
              "    <tr>\n",
              "      <th>...</th>\n",
              "      <td>...</td>\n",
              "    </tr>\n",
              "    <tr>\n",
              "      <th>634</th>\n",
              "      <td>(30275.438, 30756.0]</td>\n",
              "    </tr>\n",
              "    <tr>\n",
              "      <th>635</th>\n",
              "      <td>(30275.438, 30756.0]</td>\n",
              "    </tr>\n",
              "    <tr>\n",
              "      <th>636</th>\n",
              "      <td>(30275.438, 30756.0]</td>\n",
              "    </tr>\n",
              "    <tr>\n",
              "      <th>637</th>\n",
              "      <td>(30275.438, 30756.0]</td>\n",
              "    </tr>\n",
              "    <tr>\n",
              "      <th>638</th>\n",
              "      <td>(30275.438, 30756.0]</td>\n",
              "    </tr>\n",
              "  </tbody>\n",
              "</table>\n",
              "<p>639 rows × 1 columns</p>\n",
              "</div>"
            ],
            "text/plain": [
              "        ticks_since_start\n",
              "0      (-30.756, 480.562]\n",
              "1      (-30.756, 480.562]\n",
              "2      (-30.756, 480.562]\n",
              "3      (-30.756, 480.562]\n",
              "4      (-30.756, 480.562]\n",
              "..                    ...\n",
              "634  (30275.438, 30756.0]\n",
              "635  (30275.438, 30756.0]\n",
              "636  (30275.438, 30756.0]\n",
              "637  (30275.438, 30756.0]\n",
              "638  (30275.438, 30756.0]\n",
              "\n",
              "[639 rows x 1 columns]"
            ]
          },
          "metadata": {
            "tags": []
          }
        }
      ]
    },
    {
      "cell_type": "markdown",
      "metadata": {
        "id": "I5EqIEoiBKm9",
        "colab_type": "text"
      },
      "source": [
        "There's a problem using pd.cut above, note the last bucket ends at precisely the last numbered tick, but the first bucket has a start that's a negative! Looks like it works by segmenting from the high number/ end of the data down, therefore ends up -ve.\n"
      ]
    },
    {
      "cell_type": "markdown",
      "metadata": {
        "id": "JyU5aQrFDdv5",
        "colab_type": "text"
      },
      "source": [
        "Looks like there are additional params to 'cut' I can use to sort this out, more info here..\n",
        "* https://stackoverflow.com/a/57041772\n",
        "* https://pandas.pydata.org/pandas-docs/stable/reference/api/pandas.cut.html\n",
        "\n",
        "The above stack overflow link gives the following example..\n",
        "\n",
        "`df['score_range'] = pd.cut(x=df['score'], bins=range(0, 125, 25), right=False)`\n",
        "\n",
        "I need to use 'bins=range' ...\n",
        "\n",
        "* total_range = (ticks_per_beat x beats_per_bar x bars_in_file)\n",
        "* bin size = ticks_per_beat\n",
        "\n"
      ]
    },
    {
      "cell_type": "code",
      "metadata": {
        "id": "xdPpL5kDDkiX",
        "colab_type": "code",
        "colab": {
          "base_uri": "https://localhost:8080/",
          "height": 436
        },
        "outputId": "6b196838-1e42-48a9-a4e3-7de8b60da165"
      },
      "source": [
        "# df['score_range'] = pd.cut(x=df['score'], bins=range(0, 125, 25), right=False)\n",
        "\n",
        "file_range = int(ticks_per_beat * midi_file.ts_num() * total_bars)\n",
        "bin_size = int(ticks_per_beat)\n",
        "\n",
        "print('file_range: {}, bin_size: {}'.format(file_range, bin_size))\n",
        "\n",
        "df = midi_file.df_midi_data\n",
        "just_ons = df[df['msg_type'] == 'note_on']\n",
        "my_bins=range(0, file_range + bin_size, bin_size)\n",
        "\n",
        "display(pd.cut(just_ons['ticks_since_start'], bins=my_bins, right=False).to_frame())\n",
        "\n"
      ],
      "execution_count": 134,
      "outputs": [
        {
          "output_type": "stream",
          "text": [
            "file_range: 30720, bin_size: 480\n"
          ],
          "name": "stdout"
        },
        {
          "output_type": "display_data",
          "data": {
            "text/html": [
              "<div>\n",
              "<style scoped>\n",
              "    .dataframe tbody tr th:only-of-type {\n",
              "        vertical-align: middle;\n",
              "    }\n",
              "\n",
              "    .dataframe tbody tr th {\n",
              "        vertical-align: top;\n",
              "    }\n",
              "\n",
              "    .dataframe thead th {\n",
              "        text-align: right;\n",
              "    }\n",
              "</style>\n",
              "<table border=\"1\" class=\"dataframe\">\n",
              "  <thead>\n",
              "    <tr style=\"text-align: right;\">\n",
              "      <th></th>\n",
              "      <th>ticks_since_start</th>\n",
              "    </tr>\n",
              "  </thead>\n",
              "  <tbody>\n",
              "    <tr>\n",
              "      <th>7</th>\n",
              "      <td>[0, 480)</td>\n",
              "    </tr>\n",
              "    <tr>\n",
              "      <th>8</th>\n",
              "      <td>[0, 480)</td>\n",
              "    </tr>\n",
              "    <tr>\n",
              "      <th>12</th>\n",
              "      <td>[0, 480)</td>\n",
              "    </tr>\n",
              "    <tr>\n",
              "      <th>14</th>\n",
              "      <td>[0, 480)</td>\n",
              "    </tr>\n",
              "    <tr>\n",
              "      <th>16</th>\n",
              "      <td>[0, 480)</td>\n",
              "    </tr>\n",
              "    <tr>\n",
              "      <th>...</th>\n",
              "      <td>...</td>\n",
              "    </tr>\n",
              "    <tr>\n",
              "      <th>625</th>\n",
              "      <td>[30240, 30720)</td>\n",
              "    </tr>\n",
              "    <tr>\n",
              "      <th>629</th>\n",
              "      <td>[30240, 30720)</td>\n",
              "    </tr>\n",
              "    <tr>\n",
              "      <th>631</th>\n",
              "      <td>[30240, 30720)</td>\n",
              "    </tr>\n",
              "    <tr>\n",
              "      <th>634</th>\n",
              "      <td>[30240, 30720)</td>\n",
              "    </tr>\n",
              "    <tr>\n",
              "      <th>636</th>\n",
              "      <td>[30240, 30720)</td>\n",
              "    </tr>\n",
              "  </tbody>\n",
              "</table>\n",
              "<p>247 rows × 1 columns</p>\n",
              "</div>"
            ],
            "text/plain": [
              "    ticks_since_start\n",
              "7            [0, 480)\n",
              "8            [0, 480)\n",
              "12           [0, 480)\n",
              "14           [0, 480)\n",
              "16           [0, 480)\n",
              "..                ...\n",
              "625    [30240, 30720)\n",
              "629    [30240, 30720)\n",
              "631    [30240, 30720)\n",
              "634    [30240, 30720)\n",
              "636    [30240, 30720)\n",
              "\n",
              "[247 rows x 1 columns]"
            ]
          },
          "metadata": {
            "tags": []
          }
        }
      ]
    },
    {
      "cell_type": "markdown",
      "metadata": {
        "id": "QjgPxX-AJvHb",
        "colab_type": "text"
      },
      "source": [
        "BOOM! The above looks right :) "
      ]
    },
    {
      "cell_type": "markdown",
      "metadata": {
        "id": "BeECKp2kKQGI",
        "colab_type": "text"
      },
      "source": [
        "The next bit of code shows count of number of beats in each bucket.."
      ]
    },
    {
      "cell_type": "code",
      "metadata": {
        "id": "2YmP6lRhJ3r6",
        "colab_type": "code",
        "colab": {
          "base_uri": "https://localhost:8080/",
          "height": 1000
        },
        "outputId": "76a0add1-341d-4fa9-f42d-4a246700a762"
      },
      "source": [
        "\n",
        "pd.cut(just_ons['ticks_since_start'], bins=my_bins, right=False).value_counts()"
      ],
      "execution_count": 139,
      "outputs": [
        {
          "output_type": "execute_result",
          "data": {
            "text/plain": [
              "[1440, 1920)      7\n",
              "[25920, 26400)    6\n",
              "[18240, 18720)    6\n",
              "[14400, 14880)    6\n",
              "[20640, 21120)    6\n",
              "[11040, 11520)    5\n",
              "[18720, 19200)    5\n",
              "[16320, 16800)    5\n",
              "[29760, 30240)    5\n",
              "[12480, 12960)    5\n",
              "[30240, 30720)    5\n",
              "[10560, 11040)    5\n",
              "[8640, 9120)      5\n",
              "[7200, 7680)      5\n",
              "[6720, 7200)      5\n",
              "[5280, 5760)      5\n",
              "[4800, 5280)      5\n",
              "[20160, 20640)    5\n",
              "[0, 480)          5\n",
              "[22080, 22560)    5\n",
              "[28800, 29280)    5\n",
              "[27840, 28320)    5\n",
              "[24000, 24480)    5\n",
              "[24480, 24960)    5\n",
              "[26400, 26880)    4\n",
              "[12960, 13440)    4\n",
              "[1920, 2400)      4\n",
              "[2880, 3360)      4\n",
              "[3360, 3840)      4\n",
              "[4320, 4800)      4\n",
              "[27360, 27840)    4\n",
              "[8160, 8640)      4\n",
              "[9120, 9600)      4\n",
              "[21600, 22080)    4\n",
              "[14880, 15360)    4\n",
              "[16800, 17280)    4\n",
              "[23520, 24000)    4\n",
              "[22560, 23040)    4\n",
              "[23040, 23520)    4\n",
              "[17760, 18240)    4\n",
              "[29280, 29760)    3\n",
              "[19200, 19680)    3\n",
              "[3840, 4320)      3\n",
              "[5760, 6240)      3\n",
              "[960, 1440)       3\n",
              "[25440, 25920)    3\n",
              "[12000, 12480)    3\n",
              "[9600, 10080)     3\n",
              "[11520, 12000)    3\n",
              "[15840, 16320)    3\n",
              "[15360, 15840)    3\n",
              "[26880, 27360)    2\n",
              "[24960, 25440)    2\n",
              "[19680, 20160)    2\n",
              "[2400, 2880)      2\n",
              "[10080, 10560)    2\n",
              "[28320, 28800)    2\n",
              "[6240, 6720)      2\n",
              "[13920, 14400)    2\n",
              "[480, 960)        2\n",
              "[7680, 8160)      2\n",
              "[13440, 13920)    2\n",
              "[17280, 17760)    1\n",
              "[21120, 21600)    1\n",
              "Name: ticks_since_start, dtype: int64"
            ]
          },
          "metadata": {
            "tags": []
          },
          "execution_count": 139
        }
      ]
    },
    {
      "cell_type": "markdown",
      "metadata": {
        "id": "O5Dkz59SHIyr",
        "colab_type": "text"
      },
      "source": [
        "# DEBUG"
      ]
    },
    {
      "cell_type": "markdown",
      "metadata": {
        "id": "3kswfBOMJjJs",
        "colab_type": "text"
      },
      "source": [
        "Test filtering the df to just message type 'note_on'"
      ]
    },
    {
      "cell_type": "code",
      "metadata": {
        "id": "fw-c185mHH5d",
        "colab_type": "code",
        "colab": {
          "base_uri": "https://localhost:8080/",
          "height": 419
        },
        "outputId": "550ef149-e91e-4d39-8601-a8928a1d6add"
      },
      "source": [
        "df = midi_file.df_midi_data\n",
        "df[df['msg_type'] == 'note_on']"
      ],
      "execution_count": 135,
      "outputs": [
        {
          "output_type": "execute_result",
          "data": {
            "text/html": [
              "<div>\n",
              "<style scoped>\n",
              "    .dataframe tbody tr th:only-of-type {\n",
              "        vertical-align: middle;\n",
              "    }\n",
              "\n",
              "    .dataframe tbody tr th {\n",
              "        vertical-align: top;\n",
              "    }\n",
              "\n",
              "    .dataframe thead th {\n",
              "        text-align: right;\n",
              "    }\n",
              "</style>\n",
              "<table border=\"1\" class=\"dataframe\">\n",
              "  <thead>\n",
              "    <tr style=\"text-align: right;\">\n",
              "      <th></th>\n",
              "      <th>msg_type</th>\n",
              "      <th>delta_time</th>\n",
              "      <th>raw_data</th>\n",
              "      <th>ticks_since_start</th>\n",
              "      <th>seconds_since_start</th>\n",
              "    </tr>\n",
              "  </thead>\n",
              "  <tbody>\n",
              "    <tr>\n",
              "      <th>7</th>\n",
              "      <td>note_on</td>\n",
              "      <td>0</td>\n",
              "      <td>{'type': 'note_on', 'time': 0, 'note': 22, 'velocity': 99, 'channel': 9}</td>\n",
              "      <td>0</td>\n",
              "      <td>0.000000</td>\n",
              "    </tr>\n",
              "    <tr>\n",
              "      <th>8</th>\n",
              "      <td>note_on</td>\n",
              "      <td>0</td>\n",
              "      <td>{'type': 'note_on', 'time': 0, 'note': 36, 'velocity': 127, 'channel': 9}</td>\n",
              "      <td>0</td>\n",
              "      <td>0.000000</td>\n",
              "    </tr>\n",
              "    <tr>\n",
              "      <th>12</th>\n",
              "      <td>note_on</td>\n",
              "      <td>0</td>\n",
              "      <td>{'type': 'note_on', 'time': 0, 'note': 42, 'velocity': 21, 'channel': 9}</td>\n",
              "      <td>235</td>\n",
              "      <td>0.287990</td>\n",
              "    </tr>\n",
              "    <tr>\n",
              "      <th>14</th>\n",
              "      <td>note_on</td>\n",
              "      <td>144</td>\n",
              "      <td>{'type': 'note_on', 'time': 144, 'note': 40, 'velocity': 127, 'channel': 9}</td>\n",
              "      <td>461</td>\n",
              "      <td>0.564951</td>\n",
              "    </tr>\n",
              "    <tr>\n",
              "      <th>16</th>\n",
              "      <td>note_on</td>\n",
              "      <td>0</td>\n",
              "      <td>{'type': 'note_on', 'time': 0, 'note': 42, 'velocity': 75, 'channel': 9}</td>\n",
              "      <td>468</td>\n",
              "      <td>0.573529</td>\n",
              "    </tr>\n",
              "    <tr>\n",
              "      <th>...</th>\n",
              "      <td>...</td>\n",
              "      <td>...</td>\n",
              "      <td>...</td>\n",
              "      <td>...</td>\n",
              "      <td>...</td>\n",
              "    </tr>\n",
              "    <tr>\n",
              "      <th>625</th>\n",
              "      <td>note_on</td>\n",
              "      <td>33</td>\n",
              "      <td>{'type': 'note_on', 'time': 33, 'note': 43, 'velocity': 96, 'channel': 9}</td>\n",
              "      <td>30330</td>\n",
              "      <td>37.169099</td>\n",
              "    </tr>\n",
              "    <tr>\n",
              "      <th>629</th>\n",
              "      <td>note_on</td>\n",
              "      <td>6</td>\n",
              "      <td>{'type': 'note_on', 'time': 6, 'note': 44, 'velocity': 77, 'channel': 9}</td>\n",
              "      <td>30419</td>\n",
              "      <td>37.278168</td>\n",
              "    </tr>\n",
              "    <tr>\n",
              "      <th>631</th>\n",
              "      <td>note_on</td>\n",
              "      <td>2</td>\n",
              "      <td>{'type': 'note_on', 'time': 2, 'note': 43, 'velocity': 89, 'channel': 9}</td>\n",
              "      <td>30446</td>\n",
              "      <td>37.311256</td>\n",
              "    </tr>\n",
              "    <tr>\n",
              "      <th>634</th>\n",
              "      <td>note_on</td>\n",
              "      <td>37</td>\n",
              "      <td>{'type': 'note_on', 'time': 37, 'note': 43, 'velocity': 112, 'channel': 9}</td>\n",
              "      <td>30566</td>\n",
              "      <td>37.458315</td>\n",
              "    </tr>\n",
              "    <tr>\n",
              "      <th>636</th>\n",
              "      <td>note_on</td>\n",
              "      <td>24</td>\n",
              "      <td>{'type': 'note_on', 'time': 24, 'note': 36, 'velocity': 127, 'channel': 9}</td>\n",
              "      <td>30673</td>\n",
              "      <td>37.589442</td>\n",
              "    </tr>\n",
              "  </tbody>\n",
              "</table>\n",
              "<p>247 rows × 5 columns</p>\n",
              "</div>"
            ],
            "text/plain": [
              "    msg_type  delta_time  \\\n",
              "7    note_on           0   \n",
              "8    note_on           0   \n",
              "12   note_on           0   \n",
              "14   note_on         144   \n",
              "16   note_on           0   \n",
              "..       ...         ...   \n",
              "625  note_on          33   \n",
              "629  note_on           6   \n",
              "631  note_on           2   \n",
              "634  note_on          37   \n",
              "636  note_on          24   \n",
              "\n",
              "                                                                        raw_data  \\\n",
              "7       {'type': 'note_on', 'time': 0, 'note': 22, 'velocity': 99, 'channel': 9}   \n",
              "8      {'type': 'note_on', 'time': 0, 'note': 36, 'velocity': 127, 'channel': 9}   \n",
              "12      {'type': 'note_on', 'time': 0, 'note': 42, 'velocity': 21, 'channel': 9}   \n",
              "14   {'type': 'note_on', 'time': 144, 'note': 40, 'velocity': 127, 'channel': 9}   \n",
              "16      {'type': 'note_on', 'time': 0, 'note': 42, 'velocity': 75, 'channel': 9}   \n",
              "..                                                                           ...   \n",
              "625    {'type': 'note_on', 'time': 33, 'note': 43, 'velocity': 96, 'channel': 9}   \n",
              "629     {'type': 'note_on', 'time': 6, 'note': 44, 'velocity': 77, 'channel': 9}   \n",
              "631     {'type': 'note_on', 'time': 2, 'note': 43, 'velocity': 89, 'channel': 9}   \n",
              "634   {'type': 'note_on', 'time': 37, 'note': 43, 'velocity': 112, 'channel': 9}   \n",
              "636   {'type': 'note_on', 'time': 24, 'note': 36, 'velocity': 127, 'channel': 9}   \n",
              "\n",
              "     ticks_since_start  seconds_since_start  \n",
              "7                    0             0.000000  \n",
              "8                    0             0.000000  \n",
              "12                 235             0.287990  \n",
              "14                 461             0.564951  \n",
              "16                 468             0.573529  \n",
              "..                 ...                  ...  \n",
              "625              30330            37.169099  \n",
              "629              30419            37.278168  \n",
              "631              30446            37.311256  \n",
              "634              30566            37.458315  \n",
              "636              30673            37.589442  \n",
              "\n",
              "[247 rows x 5 columns]"
            ]
          },
          "metadata": {
            "tags": []
          },
          "execution_count": 135
        }
      ]
    }
  ]
}