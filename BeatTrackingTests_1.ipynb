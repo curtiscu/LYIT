{
  "nbformat": 4,
  "nbformat_minor": 0,
  "metadata": {
    "colab": {
      "name": "BeatTrackingTests_1.ipynb",
      "provenance": [],
      "collapsed_sections": [],
      "toc_visible": true,
      "authorship_tag": "ABX9TyNmBeiapYrTGWDs3Ditg4xN",
      "include_colab_link": true
    },
    "kernelspec": {
      "name": "python3",
      "display_name": "Python 3"
    }
  },
  "cells": [
    {
      "cell_type": "markdown",
      "metadata": {
        "id": "view-in-github",
        "colab_type": "text"
      },
      "source": [
        "<a href=\"https://colab.research.google.com/github/curtiscu/LYIT/blob/master/BeatTrackingTests_1.ipynb\" target=\"_parent\"><img src=\"https://colab.research.google.com/assets/colab-badge.svg\" alt=\"Open In Colab\"/></a>"
      ]
    },
    {
      "cell_type": "markdown",
      "metadata": {
        "id": "C9ImNuDBsWU9",
        "colab_type": "text"
      },
      "source": [
        "# Work out beats, timings, etc for loaded data"
      ]
    },
    {
      "cell_type": "markdown",
      "metadata": {
        "id": "SEGg94Ioz0Xy",
        "colab_type": "text"
      },
      "source": [
        "Doc that came in handy creating this notebook..\n",
        "\n",
        "* https://stackoverflow.com/questions/48905127/importing-py-files-in-google-colab\n",
        "* https://ipython.org/ipython-doc/stable/config/extensions/autoreload.html\n",
        "* https://switowski.com/blog/ipython-autoreload\n"
      ]
    },
    {
      "cell_type": "markdown",
      "metadata": {
        "id": "NybvOG9ssS26",
        "colab_type": "text"
      },
      "source": [
        "# Setup env\n"
      ]
    },
    {
      "cell_type": "code",
      "metadata": {
        "id": "juZFbd9RttvQ",
        "colab_type": "code",
        "outputId": "68ad784d-987b-4216-f300-831e43a8f15e",
        "colab": {
          "base_uri": "https://localhost:8080/",
          "height": 34
        }
      },
      "source": [
        "# print all cell output\n",
        "from IPython.core.interactiveshell import InteractiveShell\n",
        "InteractiveShell.ast_node_interactivity = \"all\"\n",
        "\n",
        "# install required libs\n",
        "!pip install mido\n"
      ],
      "execution_count": 1,
      "outputs": [
        {
          "output_type": "stream",
          "text": [
            "Requirement already satisfied: mido in /usr/local/lib/python3.6/dist-packages (1.2.9)\n"
          ],
          "name": "stdout"
        }
      ]
    },
    {
      "cell_type": "markdown",
      "metadata": {
        "id": "yEXZFoA4t9de",
        "colab_type": "text"
      },
      "source": [
        ""
      ]
    },
    {
      "cell_type": "code",
      "metadata": {
        "id": "uRELmgI2mvEK",
        "colab_type": "code",
        "outputId": "c33e0352-f34d-4893-83bb-13a05bbd87d1",
        "colab": {
          "base_uri": "https://localhost:8080/",
          "height": 34
        }
      },
      "source": [
        "# mount google drive\n",
        "\n",
        "from google.colab import drive\n",
        "drive.mount('/content/drive', force_remount=True)\n"
      ],
      "execution_count": 2,
      "outputs": [
        {
          "output_type": "stream",
          "text": [
            "Mounted at /content/drive\n"
          ],
          "name": "stdout"
        }
      ]
    },
    {
      "cell_type": "code",
      "metadata": {
        "id": "Yk2_ztH9uKat",
        "colab_type": "code",
        "outputId": "c3d2b800-6176-4c79-b543-afbc656e96e6",
        "colab": {
          "base_uri": "https://localhost:8080/",
          "height": 255
        }
      },
      "source": [
        "# test, peek at data\n",
        "! ls -al '/content/drive/My Drive/groove-v1.0.0-midionly/groove/drummer1/eval_session/'\n",
        "\n",
        "# test, modules from local  'E:\\Google Drive\\LYIT\\Dissertation\\modules'\n",
        "! ls -al '/content/drive/My Drive/LYIT/Dissertation/modules/'"
      ],
      "execution_count": 3,
      "outputs": [
        {
          "output_type": "stream",
          "text": [
            "total 35\n",
            "-rw------- 1 root root 2589 Apr 27 12:01 10_soul-groove10_102_beat_4-4.mid\n",
            "-rw------- 1 root root 4793 Apr 27 12:01 1_funk-groove1_138_beat_4-4.mid\n",
            "-rw------- 1 root root 3243 Apr 27 12:01 2_funk-groove2_105_beat_4-4.mid\n",
            "-rw------- 1 root root 4466 Apr 27 12:01 3_soul-groove3_86_beat_4-4.mid\n",
            "-rw------- 1 root root 2551 Apr 27 12:01 4_soul-groove4_80_beat_4-4.mid\n",
            "-rw------- 1 root root 3798 Apr 27 12:01 5_funk-groove5_84_beat_4-4.mid\n",
            "-rw------- 1 root root 3760 Apr 27 12:01 6_hiphop-groove6_87_beat_4-4.mid\n",
            "-rw------- 1 root root 1894 Apr 27 12:01 7_pop-groove7_138_beat_4-4.mid\n",
            "-rw------- 1 root root 2437 Apr 27 12:01 8_rock-groove8_65_beat_4-4.mid\n",
            "-rw------- 1 root root 3448 Apr 27 12:01 9_soul-groove9_105_beat_4-4.mid\n",
            "total 15\n",
            "-rw------- 1 root root 10781 May 13 18:11 data_prep.py\n",
            "drwx------ 2 root root  4096 May 10 13:31 __pycache__\n"
          ],
          "name": "stdout"
        }
      ]
    },
    {
      "cell_type": "markdown",
      "metadata": {
        "id": "SBKOdMxXFygn",
        "colab_type": "text"
      },
      "source": [
        "## Auto reload module\n",
        "\n",
        "I'm now using a module edited and saved to google drive which is automatically pushed to the cloud and made available to the colab env. Changes need time to propagate, and imports don't 'reimport' to load changes, so trying the following...\n",
        "\n",
        "Note the code below is not very reliable, it seems to work occasionally, after some time, but haven't been able to work out the pattern to it. \n",
        "\n",
        "If in a hurry, brute force loading of changes by restarting the runtime."
      ]
    },
    {
      "cell_type": "code",
      "metadata": {
        "id": "jErvkusO6D01",
        "colab_type": "code",
        "colab": {}
      },
      "source": [
        "# tool to auto reload modules.\n",
        "%load_ext autoreload\n",
        "\n",
        "# config to auto-reload all modules, handy to make \n",
        "# writing and testing modules much easier.\n",
        "%autoreload 2"
      ],
      "execution_count": 0,
      "outputs": []
    },
    {
      "cell_type": "code",
      "metadata": {
        "id": "rjqCavr4sz4x",
        "colab_type": "code",
        "outputId": "9a2dffda-5138-4123-9a4a-6b4071332c3d",
        "colab": {
          "base_uri": "https://localhost:8080/",
          "height": 34
        }
      },
      "source": [
        "# imports\n",
        "import pandas as pd\n",
        "import mido \n",
        "from mido import MidiFile\n",
        "\n",
        "import datetime\n",
        "\n",
        "import math\n",
        "\n",
        "# import my modules\n",
        "import sys\n",
        "sys.path.append('/content/drive/My Drive/LYIT/Dissertation/modules/')\n",
        "import data_prep\n",
        "\n"
      ],
      "execution_count": 5,
      "outputs": [
        {
          "output_type": "stream",
          "text": [
            "LOADING - data_prep.py module name is: data_prep\n"
          ],
          "name": "stdout"
        }
      ]
    },
    {
      "cell_type": "code",
      "metadata": {
        "id": "0MMbo3wsI5gU",
        "colab_type": "code",
        "outputId": "34dd6c26-bca0-447f-b404-05e5e483e22f",
        "colab": {
          "base_uri": "https://localhost:8080/",
          "height": 34
        }
      },
      "source": [
        "print(datetime.datetime.now())"
      ],
      "execution_count": 6,
      "outputs": [
        {
          "output_type": "stream",
          "text": [
            "2020-05-17 19:53:18.082471\n"
          ],
          "name": "stdout"
        }
      ]
    },
    {
      "cell_type": "code",
      "metadata": {
        "id": "oPKVwQibzS7t",
        "colab_type": "code",
        "outputId": "46bed97f-d74c-49ae-89b2-4cc33a04c919",
        "colab": {
          "base_uri": "https://localhost:8080/",
          "height": 34
        }
      },
      "source": [
        "# testing auto reload of modules \n",
        "data_prep.test_function_call('bling')"
      ],
      "execution_count": 7,
      "outputs": [
        {
          "output_type": "stream",
          "text": [
            "test function called worked! :)  bling\n"
          ],
          "name": "stdout"
        }
      ]
    },
    {
      "cell_type": "code",
      "metadata": {
        "id": "KkLdwFFAAotC",
        "colab_type": "code",
        "colab": {}
      },
      "source": [
        "def set_pandas_display_options() -> None:\n",
        "    # Ref: https://stackoverflow.com/a/52432757/\n",
        "    display = pd.options.display\n",
        "\n",
        "    display.max_columns = 1000\n",
        "    display.max_rows = 200\n",
        "    display.max_colwidth = 1000\n",
        "    display.width = None\n",
        "    # display.precision = 2  # set as needed\n",
        "\n",
        "set_pandas_display_options()\n",
        "#pd.reset_option('all')\n"
      ],
      "execution_count": 0,
      "outputs": []
    },
    {
      "cell_type": "code",
      "metadata": {
        "id": "-Cbjf2ACH_S_",
        "colab_type": "code",
        "colab": {}
      },
      "source": [
        ""
      ],
      "execution_count": 0,
      "outputs": []
    },
    {
      "cell_type": "markdown",
      "metadata": {
        "id": "8DbIvTwPGpMU",
        "colab_type": "text"
      },
      "source": [
        "# Test creating object from custom module"
      ]
    },
    {
      "cell_type": "code",
      "metadata": {
        "id": "Vtkaryf-ICz_",
        "colab_type": "code",
        "colab": {}
      },
      "source": [
        "gmt = data_prep.GrooveMidiTools"
      ],
      "execution_count": 0,
      "outputs": []
    },
    {
      "cell_type": "code",
      "metadata": {
        "id": "v9rxH3-9Gu64",
        "colab_type": "code",
        "outputId": "7ce94ef6-7dff-4c81-905e-8f6f1c752ff6",
        "colab": {
          "base_uri": "https://localhost:8080/",
          "height": 102
        }
      },
      "source": [
        "file_name2 = '/content/drive/My Drive/groove-v1.0.0-midionly/groove/drummer1/eval_session/10_soul-groove10_102_beat_4-4.mid'\n",
        "midi_file2 = data_prep.MIDI_File_Wrapper(file_name2, gmt.mappings)"
      ],
      "execution_count": 10,
      "outputs": [
        {
          "output_type": "stream",
          "text": [
            "FILE: /content/drive/My Drive/groove-v1.0.0-midionly/groove/drummer1/eval_session/10_soul-groove10_102_beat_4-4.mid\n",
            "    tracks: [<midi track 'MIDI' 639 messages>]\n",
            "    time sig: <meta message time_signature numerator=4 denominator=4 clocks_per_click=24 notated_32nd_notes_per_beat=8 time=0>\n",
            "    tempo: <meta message set_tempo tempo=588235 time=0>\n",
            "    good instruments: 6, {36.0: 'Bass Drum 1', 38.0: 'Acoustic Snare', 42.0: 'Closed Hi Hat', 43.0: 'High Floor Tom', 46.0: 'Open Hi-Hat', 50.0: 'High Tom'}\n"
          ],
          "name": "stdout"
        }
      ]
    },
    {
      "cell_type": "markdown",
      "metadata": {
        "id": "VspeXMsHH6Q3",
        "colab_type": "text"
      },
      "source": [
        "... the above verifies I'm able to create custom objects from custom code, great!\n"
      ]
    },
    {
      "cell_type": "code",
      "metadata": {
        "id": "rCG0bT0RH5gP",
        "colab_type": "code",
        "outputId": "3ea1ce46-0403-41c1-fb51-d71ce60390b1",
        "colab": {
          "base_uri": "https://localhost:8080/",
          "height": 102
        }
      },
      "source": [
        "file_name = '/content/drive/My Drive/groove-v1.0.0-midionly/groove/drummer5/eval_session/1_funk-groove1_138_beat_4-4.mid'\n",
        "midi_file = data_prep.MIDI_File_Wrapper(file_name, gmt.mappings)"
      ],
      "execution_count": 11,
      "outputs": [
        {
          "output_type": "stream",
          "text": [
            "FILE: /content/drive/My Drive/groove-v1.0.0-midionly/groove/drummer5/eval_session/1_funk-groove1_138_beat_4-4.mid\n",
            "    tracks: [<midi track 'Base Midi' 1037 messages>]\n",
            "    time sig: <meta message time_signature numerator=4 denominator=4 clocks_per_click=24 notated_32nd_notes_per_beat=8 time=0>\n",
            "    tempo: <meta message set_tempo tempo=434783 time=0>\n",
            "    good instruments: 4, {36.0: 'Bass Drum 1', 38.0: 'Acoustic Snare', 42.0: 'Closed Hi Hat', 51.0: 'Ride Cymbal 1'}\n"
          ],
          "name": "stdout"
        }
      ]
    },
    {
      "cell_type": "markdown",
      "metadata": {
        "id": "0VYbRPKaRu6H",
        "colab_type": "text"
      },
      "source": [
        "# Brainstorming ways to calculate beat times\n",
        "\n",
        "Things I might need to calculate..\n",
        "* start/ end times of bars\n",
        "* beat times for 1/4, 1/8, 1/16, 1/32 notes\n",
        "* shuffles in 4/4?\n",
        "\n",
        "Ways to go about it...\n",
        "* Take list of MIDI note_on, find what beat & bar to associate each beat with.\n",
        "* For a given musical beat, take the acceptable timing range for something to be considered related to it, filter all the MIDI notes against this range to see which if any fall into that range.\n",
        "\n",
        "Python code/ libs for ranges and splitting datasets..\n",
        "* python 'range', only works on integers\n",
        "* pandas.cut, pandas.qcut\n",
        "* numpy\n",
        "* itertools \n",
        "\n",
        "Some handy refs...\n",
        "* https://realpython.com/how-to-use-numpy-arange/\n",
        "* https://numpy.org/doc/stable/reference/generated/numpy.linspace.html\n",
        "* https://pbpython.com/pandas-qcut-cut.html < looks very promising!!!\n"
      ]
    },
    {
      "cell_type": "markdown",
      "metadata": {
        "id": "RN_HumVeJQrE",
        "colab_type": "text"
      },
      "source": [
        "## peek at example object data.."
      ]
    },
    {
      "cell_type": "code",
      "metadata": {
        "id": "ehfX9txCCnvy",
        "colab_type": "code",
        "outputId": "2d0944dc-72da-44f6-8dd0-668154a9e9c4",
        "colab": {
          "base_uri": "https://localhost:8080/",
          "height": 1000
        }
      },
      "source": [
        "# take a peek inside what we've setup already...\n",
        "midi_file.__dict__"
      ],
      "execution_count": 12,
      "outputs": [
        {
          "output_type": "execute_result",
          "data": {
            "text/plain": [
              "{'df_midi_data':              msg_type  delta_ticks  total_ticks  total_seconds  note  \\\n",
              " 0          track_name            0            0       0.000000   NaN   \n",
              " 1     instrument_name            0            0       0.000000   NaN   \n",
              " 2      time_signature            0            0       0.000000   NaN   \n",
              " 3       key_signature            0            0       0.000000   NaN   \n",
              " 4        smpte_offset            0            0       0.000000   NaN   \n",
              " ...               ...          ...          ...            ...   ...   \n",
              " 1032   control_change           31        30590      27.708358   NaN   \n",
              " 1033         note_off           32        30622      27.737344  51.0   \n",
              " 1034          note_on           12        30634      27.748213  38.0   \n",
              " 1035         note_off          111        30745      27.848757  38.0   \n",
              " 1036     end_of_track            0        30745      27.848757   NaN   \n",
              " \n",
              "       velocity  \\\n",
              " 0          NaN   \n",
              " 1          NaN   \n",
              " 2          NaN   \n",
              " 3          NaN   \n",
              " 4          NaN   \n",
              " ...        ...   \n",
              " 1032       NaN   \n",
              " 1033      64.0   \n",
              " 1034      60.0   \n",
              " 1035      64.0   \n",
              " 1036       NaN   \n",
              " \n",
              "                                                                                                                                raw_data  \n",
              " 0                                                                                {'type': 'track_name', 'name': 'Base Midi', 'time': 0}  \n",
              " 1                                                                            {'type': 'instrument_name', 'name': 'Brooklyn', 'time': 0}  \n",
              " 2     {'type': 'time_signature', 'numerator': 4, 'denominator': 4, 'clocks_per_click': 24, 'notated_32nd_notes_per_beat': 8, 'time': 0}  \n",
              " 3                                                                                      {'type': 'key_signature', 'key': 'C', 'time': 0}  \n",
              " 4       {'type': 'smpte_offset', 'frame_rate': 24, 'hours': 33, 'minutes': 1, 'seconds': 15, 'frames': 16, 'sub_frames': 24, 'time': 0}  \n",
              " ...                                                                                                                                 ...  \n",
              " 1032                                                     {'type': 'control_change', 'time': 31, 'control': 4, 'value': 0, 'channel': 9}  \n",
              " 1033                                                         {'type': 'note_off', 'time': 32, 'note': 51, 'velocity': 64, 'channel': 9}  \n",
              " 1034                                                          {'type': 'note_on', 'time': 12, 'note': 38, 'velocity': 60, 'channel': 9}  \n",
              " 1035                                                        {'type': 'note_off', 'time': 111, 'note': 38, 'velocity': 64, 'channel': 9}  \n",
              " 1036                                                                                                {'type': 'end_of_track', 'time': 0}  \n",
              " \n",
              " [1037 rows x 7 columns],\n",
              " 'instruments': array([36., 38., 42., 51.]),\n",
              " 'my_file_midi': <midi file '/content/drive/My Drive/groove-v1.0.0-midionly/groove/drummer5/eval_session/1_funk-groove1_138_beat_4-4.mid' type 0, 1 tracks, 1037 messages>,\n",
              " 'my_file_name': '/content/drive/My Drive/groove-v1.0.0-midionly/groove/drummer5/eval_session/1_funk-groove1_138_beat_4-4.mid',\n",
              " 'my_tempo': <meta message set_tempo tempo=434783 time=0>,\n",
              " 'my_time_sig': <meta message time_signature numerator=4 denominator=4 clocks_per_click=24 notated_32nd_notes_per_beat=8 time=0>,\n",
              " 'note_map': {22: 42,\n",
              "  26: 46,\n",
              "  36: 36,\n",
              "  37: 38,\n",
              "  38: 38,\n",
              "  40: 38,\n",
              "  42: 42,\n",
              "  43: 43,\n",
              "  44: 42,\n",
              "  45: 47,\n",
              "  46: 46,\n",
              "  47: 47,\n",
              "  48: 50,\n",
              "  49: 49,\n",
              "  50: 50,\n",
              "  51: 51,\n",
              "  52: 49,\n",
              "  53: 51,\n",
              "  55: 49,\n",
              "  57: 49,\n",
              "  58: 43,\n",
              "  59: 51}}"
            ]
          },
          "metadata": {
            "tags": []
          },
          "execution_count": 12
        }
      ]
    },
    {
      "cell_type": "code",
      "metadata": {
        "id": "0syjtqCiDq14",
        "colab_type": "code",
        "outputId": "adc6c4c0-4315-4ece-8723-d1390cf9694f",
        "colab": {
          "base_uri": "https://localhost:8080/",
          "height": 34
        }
      },
      "source": [
        "midi_file.__doc__"
      ],
      "execution_count": 13,
      "outputs": [
        {
          "output_type": "execute_result",
          "data": {
            "text/plain": [
              "'\\n  Utility wrapper for loading, parsding a mido.MidiFile object\\n  '"
            ]
          },
          "metadata": {
            "tags": []
          },
          "execution_count": 13
        }
      ]
    },
    {
      "cell_type": "markdown",
      "metadata": {
        "id": "MnnGeqvqi1zu",
        "colab_type": "text"
      },
      "source": [
        "## Calulate some time metrics\n"
      ]
    },
    {
      "cell_type": "code",
      "metadata": {
        "id": "WKALKbTqp0D5",
        "colab_type": "code",
        "outputId": "d0132592-6c9f-4c40-9316-2ff66836be61",
        "colab": {
          "base_uri": "https://localhost:8080/",
          "height": 85
        }
      },
      "source": [
        "print('file name: {}'.format(midi_file.my_file_name))\n",
        "print('ticks per quarter note: {}'.format(midi_file.ticks()))\n",
        "print('tempo (microseconds p/ quarter): {}'.format(midi_file.tempo_us()))\n",
        "print('tempo (bpm): {}'.format(midi_file.tempo_bpm()))"
      ],
      "execution_count": 14,
      "outputs": [
        {
          "output_type": "stream",
          "text": [
            "file name: /content/drive/My Drive/groove-v1.0.0-midionly/groove/drummer5/eval_session/1_funk-groove1_138_beat_4-4.mid\n",
            "ticks per quarter note: 480\n",
            "tempo (microseconds p/ quarter): 434783\n",
            "tempo (bpm): 137.99987580011177\n"
          ],
          "name": "stdout"
        }
      ]
    },
    {
      "cell_type": "code",
      "metadata": {
        "id": "nDqeLQgfi77p",
        "colab_type": "code",
        "outputId": "ec8f8017-4941-4477-ecf9-cac2e3c3eb3c",
        "colab": {
          "base_uri": "https://localhost:8080/",
          "height": 119
        }
      },
      "source": [
        "\n",
        "def calc_sec(ticks):\n",
        "  '''\n",
        "  Utility function: given MIDI ticks, caluate absolute time in milliseconds\n",
        "  '''\n",
        "  # mido.tick2second(ticks, < ticks per quarter >, < tempo in microseconds> )\n",
        "  return mido.tick2second(ticks, midi_file.ticks(), midi_file.tempo_us() )\n",
        "\n",
        "print('seconds per tick (ticks2seconds): {}'.format(calc_sec(1)))\n",
        "\n",
        "# NOTE: calculate microseconds per tick\n",
        "# µs_per_tick  = quarter note tempo (microseconds) / ticks per qaurter beat \n",
        "us_per_tick =  midi_file.tempo_us()/ midi_file.ticks()\n",
        "print('microseconds per tick: {}, rounded: {}'.format(us_per_tick, round(us_per_tick)))\n",
        "\n",
        "# NOTE: the following works for different time sigs, i.e. \n",
        "#   will handle 6/8  and  4/4 ok...\n",
        "# beat ticks = <ticks per quarter beat> x  ( 4/ < file time sig denominator > )\n",
        "ticks_per_beat = midi_file.ticks() * ( 4/ midi_file.ts_denom() )\n",
        "print('per beat: {}, ticks: {}, sec: {}'.format(midi_file.ts_denom(), ticks_per_beat, calc_sec(ticks_per_beat)))\n",
        "\n",
        "# NOTE: total ticks for a measure..\n",
        "# bar ticks = < beat ticks >  x < beats per bar >\n",
        "ticks_per_bar = ticks_per_beat * midi_file.ts_num()\n",
        "print('per bar - ticks: {}, sec: {}'.format(ticks_per_bar, calc_sec(ticks_per_bar)))\n",
        "\n",
        "# Ticks per 1/8 note\n",
        "ticks_per_8 = midi_file.ticks() * ( 4/ 8 )\n",
        "print('per 1/8 - ticks: {}, sec: {}'.format(ticks_per_8, calc_sec(ticks_per_8)))\n",
        "\n",
        "# Ticks per 1/16 note\n",
        "ticks_per_16 = midi_file.ticks() * ( 4/ 16 )\n",
        "print('per 1/16 - ticks: {}, sec: {}'.format(ticks_per_16, calc_sec(ticks_per_16)))\n"
      ],
      "execution_count": 15,
      "outputs": [
        {
          "output_type": "stream",
          "text": [
            "seconds per tick (ticks2seconds): 0.0009057979166666666\n",
            "microseconds per tick: 905.7979166666667, rounded: 906\n",
            "per beat: 4, ticks: 480.0, sec: 0.434783\n",
            "per bar - ticks: 1920.0, sec: 1.739132\n",
            "per 1/8 - ticks: 240.0, sec: 0.2173915\n",
            "per 1/16 - ticks: 120.0, sec: 0.10869575\n"
          ],
          "name": "stdout"
        }
      ]
    },
    {
      "cell_type": "markdown",
      "metadata": {
        "id": "4yPBR7kE57sh",
        "colab_type": "text"
      },
      "source": [
        "## Calculate number of bars in file \n"
      ]
    },
    {
      "cell_type": "code",
      "metadata": {
        "id": "3s193P_Y5WJe",
        "colab_type": "code",
        "outputId": "424b8858-99d4-47bf-aaf9-8665b4653a9b",
        "colab": {
          "base_uri": "https://localhost:8080/",
          "height": 34
        }
      },
      "source": [
        "# CALCULATE BARS USING TIMING INFO\n",
        "\n",
        "# last note_on event in file, in seconds..\n",
        "#    event# 636, time(s): 37.589442\n",
        "# .. divided by length of bar in seconds\n",
        "total_bars_using_time = 37.589442 /2.35294\n",
        "print('number bars in file, calculated using time: {}'.format( total_bars_using_time))"
      ],
      "execution_count": 16,
      "outputs": [
        {
          "output_type": "stream",
          "text": [
            "number bars in file, calculated using time: 15.975520837760419\n"
          ],
          "name": "stdout"
        }
      ]
    },
    {
      "cell_type": "code",
      "metadata": {
        "id": "npvLf5GaSLdS",
        "colab_type": "code",
        "outputId": "cbb1bfba-2dad-4da0-b60c-2743061d9f19",
        "colab": {
          "base_uri": "https://localhost:8080/",
          "height": 34
        }
      },
      "source": [
        "# round up number of bars\n",
        "total_bars_using_time = math.ceil(total_bars_using_time)\n",
        "\n",
        "print('# bars using calculated time, rounded up: {}'.format(total_bars_using_time))"
      ],
      "execution_count": 17,
      "outputs": [
        {
          "output_type": "stream",
          "text": [
            "# bars using calculated time, rounded up: 16\n"
          ],
          "name": "stdout"
        }
      ]
    },
    {
      "cell_type": "code",
      "metadata": {
        "id": "l3BUScWzQ98I",
        "colab_type": "code",
        "outputId": "13172fe8-2801-4c36-e3e3-31327593ef76",
        "colab": {
          "base_uri": "https://localhost:8080/",
          "height": 51
        }
      },
      "source": [
        "# CALCULATE BARS USING TICKS\n",
        "\n",
        "# last 'note_on'= event:636, ticks:30673, seconds:37.589442\n",
        "# total_bars_using_ticks = 30673/ ticks_per_bar\n",
        "\n",
        "file_df = midi_file.df_midi_data\n",
        "last_note_on = file_df[file_df[midi_file.type_col] == 'note_on'].tail(1)[midi_file.cum_ticks_col]\n",
        "total_bars_using_ticks = last_note_on / ticks_per_bar\n",
        "\n",
        "total_bars_using_ticks"
      ],
      "execution_count": 18,
      "outputs": [
        {
          "output_type": "execute_result",
          "data": {
            "text/plain": [
              "1034    15.955208\n",
              "Name: total_ticks, dtype: float64"
            ]
          },
          "metadata": {
            "tags": []
          },
          "execution_count": 18
        }
      ]
    },
    {
      "cell_type": "code",
      "metadata": {
        "id": "4q6x-_K97GB2",
        "colab_type": "code",
        "outputId": "0c98fe6d-1577-49fb-bcf8-112f991b2ecf",
        "colab": {
          "base_uri": "https://localhost:8080/",
          "height": 34
        }
      },
      "source": [
        "# round up number of bars\n",
        "total_bars_using_ticks = math.ceil(total_bars_using_ticks)\n",
        "\n",
        "print('# bars using MIDI ticks for calculation, rounded up: {}'.format(total_bars_using_ticks))"
      ],
      "execution_count": 19,
      "outputs": [
        {
          "output_type": "stream",
          "text": [
            "# bars using MIDI ticks for calculation, rounded up: 16\n"
          ],
          "name": "stdout"
        }
      ]
    },
    {
      "cell_type": "markdown",
      "metadata": {
        "id": "8CIdOoq-7vt6",
        "colab_type": "text"
      },
      "source": [
        "# Calculate number of beats in file"
      ]
    },
    {
      "cell_type": "code",
      "metadata": {
        "id": "1euNW9nl7tjV",
        "colab_type": "code",
        "outputId": "6977fa56-feb4-4d72-a0a0-27bb86972dec",
        "colab": {
          "base_uri": "https://localhost:8080/",
          "height": 34
        }
      },
      "source": [
        "# number of beats in file\n",
        "total_beats = total_bars_using_ticks * midi_file.ts_num()\n",
        "print('total beatz MIDI file spans: {}'.format(total_beats))\n"
      ],
      "execution_count": 20,
      "outputs": [
        {
          "output_type": "stream",
          "text": [
            "total beatz MIDI file spans: 64\n"
          ],
          "name": "stdout"
        }
      ]
    },
    {
      "cell_type": "code",
      "metadata": {
        "id": "CipvkR7-TgU7",
        "colab_type": "code",
        "colab": {}
      },
      "source": [
        "# for later in notebook\n",
        "total_bars = total_bars_using_ticks"
      ],
      "execution_count": 0,
      "outputs": []
    },
    {
      "cell_type": "markdown",
      "metadata": {
        "id": "ktiH7z-8JVCN",
        "colab_type": "text"
      },
      "source": [
        "# Splitting data\n",
        "\n",
        "\n"
      ]
    },
    {
      "cell_type": "markdown",
      "metadata": {
        "id": "qYmY3gdl7_TB",
        "colab_type": "text"
      },
      "source": [
        "## Testing pandas.cut\n",
        "\n",
        "* https://pandas.pydata.org/pandas-docs/stable/reference/api/pandas.cut.html\n"
      ]
    },
    {
      "cell_type": "code",
      "metadata": {
        "id": "dXDYt4Js1VAN",
        "colab_type": "code",
        "outputId": "c15dcb29-37c9-4f49-c48b-83ccecd2cfa4",
        "colab": {
          "base_uri": "https://localhost:8080/",
          "height": 419
        }
      },
      "source": [
        "# example usage -> pd.cut(df['ext price'], bins=4)\n",
        "display(pd.cut(midi_file.df_midi_data[midi_file.cum_ticks_col], bins=64).to_frame())"
      ],
      "execution_count": 22,
      "outputs": [
        {
          "output_type": "display_data",
          "data": {
            "text/html": [
              "<div>\n",
              "<style scoped>\n",
              "    .dataframe tbody tr th:only-of-type {\n",
              "        vertical-align: middle;\n",
              "    }\n",
              "\n",
              "    .dataframe tbody tr th {\n",
              "        vertical-align: top;\n",
              "    }\n",
              "\n",
              "    .dataframe thead th {\n",
              "        text-align: right;\n",
              "    }\n",
              "</style>\n",
              "<table border=\"1\" class=\"dataframe\">\n",
              "  <thead>\n",
              "    <tr style=\"text-align: right;\">\n",
              "      <th></th>\n",
              "      <th>total_ticks</th>\n",
              "    </tr>\n",
              "  </thead>\n",
              "  <tbody>\n",
              "    <tr>\n",
              "      <th>0</th>\n",
              "      <td>(-30.745, 480.391]</td>\n",
              "    </tr>\n",
              "    <tr>\n",
              "      <th>1</th>\n",
              "      <td>(-30.745, 480.391]</td>\n",
              "    </tr>\n",
              "    <tr>\n",
              "      <th>2</th>\n",
              "      <td>(-30.745, 480.391]</td>\n",
              "    </tr>\n",
              "    <tr>\n",
              "      <th>3</th>\n",
              "      <td>(-30.745, 480.391]</td>\n",
              "    </tr>\n",
              "    <tr>\n",
              "      <th>4</th>\n",
              "      <td>(-30.745, 480.391]</td>\n",
              "    </tr>\n",
              "    <tr>\n",
              "      <th>...</th>\n",
              "      <td>...</td>\n",
              "    </tr>\n",
              "    <tr>\n",
              "      <th>1032</th>\n",
              "      <td>(30264.609, 30745.0]</td>\n",
              "    </tr>\n",
              "    <tr>\n",
              "      <th>1033</th>\n",
              "      <td>(30264.609, 30745.0]</td>\n",
              "    </tr>\n",
              "    <tr>\n",
              "      <th>1034</th>\n",
              "      <td>(30264.609, 30745.0]</td>\n",
              "    </tr>\n",
              "    <tr>\n",
              "      <th>1035</th>\n",
              "      <td>(30264.609, 30745.0]</td>\n",
              "    </tr>\n",
              "    <tr>\n",
              "      <th>1036</th>\n",
              "      <td>(30264.609, 30745.0]</td>\n",
              "    </tr>\n",
              "  </tbody>\n",
              "</table>\n",
              "<p>1037 rows × 1 columns</p>\n",
              "</div>"
            ],
            "text/plain": [
              "               total_ticks\n",
              "0       (-30.745, 480.391]\n",
              "1       (-30.745, 480.391]\n",
              "2       (-30.745, 480.391]\n",
              "3       (-30.745, 480.391]\n",
              "4       (-30.745, 480.391]\n",
              "...                    ...\n",
              "1032  (30264.609, 30745.0]\n",
              "1033  (30264.609, 30745.0]\n",
              "1034  (30264.609, 30745.0]\n",
              "1035  (30264.609, 30745.0]\n",
              "1036  (30264.609, 30745.0]\n",
              "\n",
              "[1037 rows x 1 columns]"
            ]
          },
          "metadata": {
            "tags": []
          }
        }
      ]
    },
    {
      "cell_type": "markdown",
      "metadata": {
        "id": "I5EqIEoiBKm9",
        "colab_type": "text"
      },
      "source": [
        "There's a problem using pd.cut above, note the last bucket ends at precisely the last numbered tick, but the first bucket has a start that's a negative! Looks like it works by segmenting from the high number/ end of the data down, therefore ends up -ve.\n",
        "\n",
        "I've also included the entire set of MIDI events from the file, I really only need to use the 'note_on' events.\n"
      ]
    },
    {
      "cell_type": "markdown",
      "metadata": {
        "id": "JyU5aQrFDdv5",
        "colab_type": "text"
      },
      "source": [
        "Looks like there are additional params to 'cut' I can use to sort this out, more info here..\n",
        "* https://stackoverflow.com/a/57041772\n",
        "* https://pandas.pydata.org/pandas-docs/stable/reference/api/pandas.cut.html\n",
        "\n",
        "The above stack overflow link gives the following example..\n",
        "\n",
        "`df['score_range'] = pd.cut(x=df['score'], bins=range(0, 125, 25), right=False)`\n",
        "\n",
        "I need to pass in explicit list of bins to use, and this can be done using 'bins=range(< start >, < stop>, < interval>)' ...\n",
        "\n",
        "* total_range = (ticks_per_beat x beats_per_bar x bars_in_file)\n",
        "* bin size = ticks_per_beat_resolution\n",
        "\n"
      ]
    },
    {
      "cell_type": "code",
      "metadata": {
        "id": "xdPpL5kDDkiX",
        "colab_type": "code",
        "outputId": "1bd4e108-f0dc-4265-ea9f-f30f156719eb",
        "colab": {
          "base_uri": "https://localhost:8080/",
          "height": 436
        }
      },
      "source": [
        "# set to quantize/ beat alignment resolution\n",
        "ticks_per_beat_resolution = 120  # (i.e.  16th note = 480/4 )\n",
        "\n",
        "file_range = int(ticks_per_beat * midi_file.ts_num() * total_bars)\n",
        "bin_size = int(ticks_per_beat_resolution)\n",
        "\n",
        "print('file_range: {}, bin_size: {}'.format(file_range, bin_size))\n",
        "\n",
        "df = midi_file.df_midi_data  # shorten name\n",
        "# just_ons = df[df['msg_type'] == 'note_on']  # filter 'note_on' events\n",
        "just_ons = df  # debug, don't filter to ons, just to test\n",
        "\n",
        "# if you don't 'file_range + bin_size' you get one short\n",
        "my_bins=range(0, file_range + bin_size, bin_size)  \n",
        "\n",
        "pd.cut(just_ons[midi_file.cum_ticks_col], bins=my_bins, right=False).to_frame()\n"
      ],
      "execution_count": 23,
      "outputs": [
        {
          "output_type": "stream",
          "text": [
            "file_range: 30720, bin_size: 120\n"
          ],
          "name": "stdout"
        },
        {
          "output_type": "execute_result",
          "data": {
            "text/html": [
              "<div>\n",
              "<style scoped>\n",
              "    .dataframe tbody tr th:only-of-type {\n",
              "        vertical-align: middle;\n",
              "    }\n",
              "\n",
              "    .dataframe tbody tr th {\n",
              "        vertical-align: top;\n",
              "    }\n",
              "\n",
              "    .dataframe thead th {\n",
              "        text-align: right;\n",
              "    }\n",
              "</style>\n",
              "<table border=\"1\" class=\"dataframe\">\n",
              "  <thead>\n",
              "    <tr style=\"text-align: right;\">\n",
              "      <th></th>\n",
              "      <th>total_ticks</th>\n",
              "    </tr>\n",
              "  </thead>\n",
              "  <tbody>\n",
              "    <tr>\n",
              "      <th>0</th>\n",
              "      <td>[0.0, 120.0)</td>\n",
              "    </tr>\n",
              "    <tr>\n",
              "      <th>1</th>\n",
              "      <td>[0.0, 120.0)</td>\n",
              "    </tr>\n",
              "    <tr>\n",
              "      <th>2</th>\n",
              "      <td>[0.0, 120.0)</td>\n",
              "    </tr>\n",
              "    <tr>\n",
              "      <th>3</th>\n",
              "      <td>[0.0, 120.0)</td>\n",
              "    </tr>\n",
              "    <tr>\n",
              "      <th>4</th>\n",
              "      <td>[0.0, 120.0)</td>\n",
              "    </tr>\n",
              "    <tr>\n",
              "      <th>...</th>\n",
              "      <td>...</td>\n",
              "    </tr>\n",
              "    <tr>\n",
              "      <th>1032</th>\n",
              "      <td>[30480.0, 30600.0)</td>\n",
              "    </tr>\n",
              "    <tr>\n",
              "      <th>1033</th>\n",
              "      <td>[30600.0, 30720.0)</td>\n",
              "    </tr>\n",
              "    <tr>\n",
              "      <th>1034</th>\n",
              "      <td>[30600.0, 30720.0)</td>\n",
              "    </tr>\n",
              "    <tr>\n",
              "      <th>1035</th>\n",
              "      <td>NaN</td>\n",
              "    </tr>\n",
              "    <tr>\n",
              "      <th>1036</th>\n",
              "      <td>NaN</td>\n",
              "    </tr>\n",
              "  </tbody>\n",
              "</table>\n",
              "<p>1037 rows × 1 columns</p>\n",
              "</div>"
            ],
            "text/plain": [
              "             total_ticks\n",
              "0           [0.0, 120.0)\n",
              "1           [0.0, 120.0)\n",
              "2           [0.0, 120.0)\n",
              "3           [0.0, 120.0)\n",
              "4           [0.0, 120.0)\n",
              "...                  ...\n",
              "1032  [30480.0, 30600.0)\n",
              "1033  [30600.0, 30720.0)\n",
              "1034  [30600.0, 30720.0)\n",
              "1035                 NaN\n",
              "1036                 NaN\n",
              "\n",
              "[1037 rows x 1 columns]"
            ]
          },
          "metadata": {
            "tags": []
          },
          "execution_count": 23
        }
      ]
    },
    {
      "cell_type": "markdown",
      "metadata": {
        "id": "hKBw4iBDNcXA",
        "colab_type": "text"
      },
      "source": [
        "## Calculate bins\n"
      ]
    },
    {
      "cell_type": "markdown",
      "metadata": {
        "id": "LK7-FLX_Z9bP",
        "colab_type": "text"
      },
      "source": [
        "Recap...\n",
        "* Calculated bin sizes are the size of our notes we're going to detect, i.e. 16th notes.\n",
        "\n",
        "* Need to properly bin notes that are either early or late, to do this we assign notes to a bin that are up to half a bin/ note size early or late, so need to slide the window down by half a bin. This means we capture notes early/ late either side of the 16th note."
      ]
    },
    {
      "cell_type": "code",
      "metadata": {
        "id": "NlFH0fV33-4h",
        "colab_type": "code",
        "outputId": "e14e0c4a-c597-436d-fd00-1efa3a5de148",
        "colab": {
          "base_uri": "https://localhost:8080/",
          "height": 51
        }
      },
      "source": [
        "# recalcalculate bins sliding them down \n",
        "# by half a bin size...\n",
        "print('halfa bin: {}'.format (bin_size/2))\n",
        "\n",
        "my_bins=range(0 - (int(bin_size/ 2)), file_range + bin_size, bin_size)  # if you don't 'file_range + bin_size' you get one short\n",
        "my_bins\n"
      ],
      "execution_count": 24,
      "outputs": [
        {
          "output_type": "stream",
          "text": [
            "halfa bin: 60.0\n"
          ],
          "name": "stdout"
        },
        {
          "output_type": "execute_result",
          "data": {
            "text/plain": [
              "range(-60, 30840, 120)"
            ]
          },
          "metadata": {
            "tags": []
          },
          "execution_count": 24
        }
      ]
    },
    {
      "cell_type": "code",
      "metadata": {
        "id": "1vZqBJSDffJr",
        "colab_type": "code",
        "outputId": "9f29d3e2-f995-4ee7-f14e-d3fdb6ccbdfc",
        "colab": {
          "base_uri": "https://localhost:8080/",
          "height": 272
        }
      },
      "source": [
        "calculated_bins = pd.cut(just_ons[midi_file.cum_ticks_col], bins=my_bins, right=False)\n",
        "type(calculated_bins)\n",
        "print(calculated_bins)"
      ],
      "execution_count": 25,
      "outputs": [
        {
          "output_type": "execute_result",
          "data": {
            "text/plain": [
              "pandas.core.series.Series"
            ]
          },
          "metadata": {
            "tags": []
          },
          "execution_count": 25
        },
        {
          "output_type": "stream",
          "text": [
            "0            [-60, 60)\n",
            "1            [-60, 60)\n",
            "2            [-60, 60)\n",
            "3            [-60, 60)\n",
            "4            [-60, 60)\n",
            "             ...      \n",
            "1032    [30540, 30660)\n",
            "1033    [30540, 30660)\n",
            "1034    [30540, 30660)\n",
            "1035    [30660, 30780)\n",
            "1036    [30660, 30780)\n",
            "Name: total_ticks, Length: 1037, dtype: category\n",
            "Categories (257, interval[int64]): [[-60, 60) < [60, 180) < [180, 300) < [300, 420) < ... <\n",
            "                                    [30300, 30420) < [30420, 30540) < [30540, 30660) <\n",
            "                                    [30660, 30780)]\n"
          ],
          "name": "stdout"
        }
      ]
    },
    {
      "cell_type": "code",
      "metadata": {
        "id": "8ftXlz0JNVKq",
        "colab_type": "code",
        "outputId": "77cb8398-77e1-4238-fa8f-c4b5d203425e",
        "colab": {
          "base_uri": "https://localhost:8080/",
          "height": 238
        }
      },
      "source": [
        "beat_points = range(0, file_range + bin_size, bin_size)  # if you don't 'file_range + bin_size' you get one short\n",
        "assigned_beat_location = pd.cut(just_ons[midi_file.cum_ticks_col], bins=my_bins, right=False, labels=beat_points)\n",
        "assigned_beat_location\n"
      ],
      "execution_count": 26,
      "outputs": [
        {
          "output_type": "execute_result",
          "data": {
            "text/plain": [
              "0           0\n",
              "1           0\n",
              "2           0\n",
              "3           0\n",
              "4           0\n",
              "        ...  \n",
              "1032    30600\n",
              "1033    30600\n",
              "1034    30600\n",
              "1035    30720\n",
              "1036    30720\n",
              "Name: total_ticks, Length: 1037, dtype: category\n",
              "Categories (257, int64): [0 < 120 < 240 < 360 ... 30360 < 30480 < 30600 < 30720]"
            ]
          },
          "metadata": {
            "tags": []
          },
          "execution_count": 26
        }
      ]
    },
    {
      "cell_type": "code",
      "metadata": {
        "id": "ZhhrJhhXb2O-",
        "colab_type": "code",
        "colab": {}
      },
      "source": [
        "# Track where in the timeline each MIDI event happened\n",
        "# by adding calculted bin/ category as a new column\n",
        "df['bin_cat'] = calculated_bins\n",
        "\n",
        "# label events with nearest beat\n",
        "df['beat_cat'] = assigned_beat_location\n"
      ],
      "execution_count": 0,
      "outputs": []
    },
    {
      "cell_type": "code",
      "metadata": {
        "id": "c0mtYffVf5R7",
        "colab_type": "code",
        "outputId": "00974e05-6252-4e7d-f75a-bd5a58821e18",
        "colab": {
          "base_uri": "https://localhost:8080/",
          "height": 1000
        }
      },
      "source": [
        "df.head(20)\n",
        "df.tail(20)"
      ],
      "execution_count": 28,
      "outputs": [
        {
          "output_type": "execute_result",
          "data": {
            "text/html": [
              "<div>\n",
              "<style scoped>\n",
              "    .dataframe tbody tr th:only-of-type {\n",
              "        vertical-align: middle;\n",
              "    }\n",
              "\n",
              "    .dataframe tbody tr th {\n",
              "        vertical-align: top;\n",
              "    }\n",
              "\n",
              "    .dataframe thead th {\n",
              "        text-align: right;\n",
              "    }\n",
              "</style>\n",
              "<table border=\"1\" class=\"dataframe\">\n",
              "  <thead>\n",
              "    <tr style=\"text-align: right;\">\n",
              "      <th></th>\n",
              "      <th>msg_type</th>\n",
              "      <th>delta_ticks</th>\n",
              "      <th>total_ticks</th>\n",
              "      <th>total_seconds</th>\n",
              "      <th>note</th>\n",
              "      <th>velocity</th>\n",
              "      <th>raw_data</th>\n",
              "      <th>bin_cat</th>\n",
              "      <th>beat_cat</th>\n",
              "    </tr>\n",
              "  </thead>\n",
              "  <tbody>\n",
              "    <tr>\n",
              "      <th>0</th>\n",
              "      <td>track_name</td>\n",
              "      <td>0</td>\n",
              "      <td>0</td>\n",
              "      <td>0.000000</td>\n",
              "      <td>NaN</td>\n",
              "      <td>NaN</td>\n",
              "      <td>{'type': 'track_name', 'name': 'Base Midi', 'time': 0}</td>\n",
              "      <td>[-60, 60)</td>\n",
              "      <td>0</td>\n",
              "    </tr>\n",
              "    <tr>\n",
              "      <th>1</th>\n",
              "      <td>instrument_name</td>\n",
              "      <td>0</td>\n",
              "      <td>0</td>\n",
              "      <td>0.000000</td>\n",
              "      <td>NaN</td>\n",
              "      <td>NaN</td>\n",
              "      <td>{'type': 'instrument_name', 'name': 'Brooklyn', 'time': 0}</td>\n",
              "      <td>[-60, 60)</td>\n",
              "      <td>0</td>\n",
              "    </tr>\n",
              "    <tr>\n",
              "      <th>2</th>\n",
              "      <td>time_signature</td>\n",
              "      <td>0</td>\n",
              "      <td>0</td>\n",
              "      <td>0.000000</td>\n",
              "      <td>NaN</td>\n",
              "      <td>NaN</td>\n",
              "      <td>{'type': 'time_signature', 'numerator': 4, 'denominator': 4, 'clocks_per_click': 24, 'notated_32nd_notes_per_beat': 8, 'time': 0}</td>\n",
              "      <td>[-60, 60)</td>\n",
              "      <td>0</td>\n",
              "    </tr>\n",
              "    <tr>\n",
              "      <th>3</th>\n",
              "      <td>key_signature</td>\n",
              "      <td>0</td>\n",
              "      <td>0</td>\n",
              "      <td>0.000000</td>\n",
              "      <td>NaN</td>\n",
              "      <td>NaN</td>\n",
              "      <td>{'type': 'key_signature', 'key': 'C', 'time': 0}</td>\n",
              "      <td>[-60, 60)</td>\n",
              "      <td>0</td>\n",
              "    </tr>\n",
              "    <tr>\n",
              "      <th>4</th>\n",
              "      <td>smpte_offset</td>\n",
              "      <td>0</td>\n",
              "      <td>0</td>\n",
              "      <td>0.000000</td>\n",
              "      <td>NaN</td>\n",
              "      <td>NaN</td>\n",
              "      <td>{'type': 'smpte_offset', 'frame_rate': 24, 'hours': 33, 'minutes': 1, 'seconds': 15, 'frames': 16, 'sub_frames': 24, 'time': 0}</td>\n",
              "      <td>[-60, 60)</td>\n",
              "      <td>0</td>\n",
              "    </tr>\n",
              "    <tr>\n",
              "      <th>5</th>\n",
              "      <td>set_tempo</td>\n",
              "      <td>0</td>\n",
              "      <td>0</td>\n",
              "      <td>0.000000</td>\n",
              "      <td>NaN</td>\n",
              "      <td>NaN</td>\n",
              "      <td>{'type': 'set_tempo', 'tempo': 434783, 'time': 0}</td>\n",
              "      <td>[-60, 60)</td>\n",
              "      <td>0</td>\n",
              "    </tr>\n",
              "    <tr>\n",
              "      <th>6</th>\n",
              "      <td>control_change</td>\n",
              "      <td>4</td>\n",
              "      <td>4</td>\n",
              "      <td>0.003623</td>\n",
              "      <td>NaN</td>\n",
              "      <td>NaN</td>\n",
              "      <td>{'type': 'control_change', 'time': 4, 'control': 4, 'value': 77, 'channel': 9}</td>\n",
              "      <td>[-60, 60)</td>\n",
              "      <td>0</td>\n",
              "    </tr>\n",
              "    <tr>\n",
              "      <th>7</th>\n",
              "      <td>note_on</td>\n",
              "      <td>1</td>\n",
              "      <td>5</td>\n",
              "      <td>0.004529</td>\n",
              "      <td>42.0</td>\n",
              "      <td>55.0</td>\n",
              "      <td>{'type': 'note_on', 'time': 1, 'note': 44, 'velocity': 55, 'channel': 9}</td>\n",
              "      <td>[-60, 60)</td>\n",
              "      <td>0</td>\n",
              "    </tr>\n",
              "    <tr>\n",
              "      <th>8</th>\n",
              "      <td>note_on</td>\n",
              "      <td>4</td>\n",
              "      <td>9</td>\n",
              "      <td>0.008152</td>\n",
              "      <td>36.0</td>\n",
              "      <td>39.0</td>\n",
              "      <td>{'type': 'note_on', 'time': 4, 'note': 36, 'velocity': 39, 'channel': 9}</td>\n",
              "      <td>[-60, 60)</td>\n",
              "      <td>0</td>\n",
              "    </tr>\n",
              "    <tr>\n",
              "      <th>9</th>\n",
              "      <td>note_on</td>\n",
              "      <td>6</td>\n",
              "      <td>15</td>\n",
              "      <td>0.013587</td>\n",
              "      <td>51.0</td>\n",
              "      <td>67.0</td>\n",
              "      <td>{'type': 'note_on', 'time': 6, 'note': 51, 'velocity': 67, 'channel': 9}</td>\n",
              "      <td>[-60, 60)</td>\n",
              "      <td>0</td>\n",
              "    </tr>\n",
              "    <tr>\n",
              "      <th>10</th>\n",
              "      <td>control_change</td>\n",
              "      <td>24</td>\n",
              "      <td>39</td>\n",
              "      <td>0.035326</td>\n",
              "      <td>NaN</td>\n",
              "      <td>NaN</td>\n",
              "      <td>{'type': 'control_change', 'time': 24, 'control': 4, 'value': 90, 'channel': 9}</td>\n",
              "      <td>[-60, 60)</td>\n",
              "      <td>0</td>\n",
              "    </tr>\n",
              "    <tr>\n",
              "      <th>11</th>\n",
              "      <td>note_off</td>\n",
              "      <td>77</td>\n",
              "      <td>116</td>\n",
              "      <td>0.105073</td>\n",
              "      <td>42.0</td>\n",
              "      <td>64.0</td>\n",
              "      <td>{'type': 'note_off', 'time': 77, 'note': 44, 'velocity': 64, 'channel': 9}</td>\n",
              "      <td>[60, 180)</td>\n",
              "      <td>120</td>\n",
              "    </tr>\n",
              "    <tr>\n",
              "      <th>12</th>\n",
              "      <td>note_off</td>\n",
              "      <td>5</td>\n",
              "      <td>121</td>\n",
              "      <td>0.109602</td>\n",
              "      <td>36.0</td>\n",
              "      <td>64.0</td>\n",
              "      <td>{'type': 'note_off', 'time': 5, 'note': 36, 'velocity': 64, 'channel': 9}</td>\n",
              "      <td>[60, 180)</td>\n",
              "      <td>120</td>\n",
              "    </tr>\n",
              "    <tr>\n",
              "      <th>13</th>\n",
              "      <td>note_off</td>\n",
              "      <td>5</td>\n",
              "      <td>126</td>\n",
              "      <td>0.114131</td>\n",
              "      <td>51.0</td>\n",
              "      <td>64.0</td>\n",
              "      <td>{'type': 'note_off', 'time': 5, 'note': 51, 'velocity': 64, 'channel': 9}</td>\n",
              "      <td>[60, 180)</td>\n",
              "      <td>120</td>\n",
              "    </tr>\n",
              "    <tr>\n",
              "      <th>14</th>\n",
              "      <td>note_on</td>\n",
              "      <td>100</td>\n",
              "      <td>226</td>\n",
              "      <td>0.204710</td>\n",
              "      <td>36.0</td>\n",
              "      <td>41.0</td>\n",
              "      <td>{'type': 'note_on', 'time': 100, 'note': 36, 'velocity': 41, 'channel': 9}</td>\n",
              "      <td>[180, 300)</td>\n",
              "      <td>240</td>\n",
              "    </tr>\n",
              "    <tr>\n",
              "      <th>15</th>\n",
              "      <td>note_on</td>\n",
              "      <td>32</td>\n",
              "      <td>258</td>\n",
              "      <td>0.233696</td>\n",
              "      <td>51.0</td>\n",
              "      <td>58.0</td>\n",
              "      <td>{'type': 'note_on', 'time': 32, 'note': 51, 'velocity': 58, 'channel': 9}</td>\n",
              "      <td>[180, 300)</td>\n",
              "      <td>240</td>\n",
              "    </tr>\n",
              "    <tr>\n",
              "      <th>16</th>\n",
              "      <td>control_change</td>\n",
              "      <td>54</td>\n",
              "      <td>312</td>\n",
              "      <td>0.282609</td>\n",
              "      <td>NaN</td>\n",
              "      <td>NaN</td>\n",
              "      <td>{'type': 'control_change', 'time': 54, 'control': 4, 'value': 74, 'channel': 9}</td>\n",
              "      <td>[300, 420)</td>\n",
              "      <td>360</td>\n",
              "    </tr>\n",
              "    <tr>\n",
              "      <th>17</th>\n",
              "      <td>note_off</td>\n",
              "      <td>25</td>\n",
              "      <td>337</td>\n",
              "      <td>0.305254</td>\n",
              "      <td>36.0</td>\n",
              "      <td>64.0</td>\n",
              "      <td>{'type': 'note_off', 'time': 25, 'note': 36, 'velocity': 64, 'channel': 9}</td>\n",
              "      <td>[300, 420)</td>\n",
              "      <td>360</td>\n",
              "    </tr>\n",
              "    <tr>\n",
              "      <th>18</th>\n",
              "      <td>note_on</td>\n",
              "      <td>7</td>\n",
              "      <td>344</td>\n",
              "      <td>0.311594</td>\n",
              "      <td>36.0</td>\n",
              "      <td>6.0</td>\n",
              "      <td>{'type': 'note_on', 'time': 7, 'note': 36, 'velocity': 6, 'channel': 9}</td>\n",
              "      <td>[300, 420)</td>\n",
              "      <td>360</td>\n",
              "    </tr>\n",
              "    <tr>\n",
              "      <th>19</th>\n",
              "      <td>control_change</td>\n",
              "      <td>1</td>\n",
              "      <td>345</td>\n",
              "      <td>0.312500</td>\n",
              "      <td>NaN</td>\n",
              "      <td>NaN</td>\n",
              "      <td>{'type': 'control_change', 'time': 1, 'control': 4, 'value': 0, 'channel': 9}</td>\n",
              "      <td>[300, 420)</td>\n",
              "      <td>360</td>\n",
              "    </tr>\n",
              "  </tbody>\n",
              "</table>\n",
              "</div>"
            ],
            "text/plain": [
              "           msg_type  delta_ticks  total_ticks  total_seconds  note  velocity  \\\n",
              "0        track_name            0            0       0.000000   NaN       NaN   \n",
              "1   instrument_name            0            0       0.000000   NaN       NaN   \n",
              "2    time_signature            0            0       0.000000   NaN       NaN   \n",
              "3     key_signature            0            0       0.000000   NaN       NaN   \n",
              "4      smpte_offset            0            0       0.000000   NaN       NaN   \n",
              "5         set_tempo            0            0       0.000000   NaN       NaN   \n",
              "6    control_change            4            4       0.003623   NaN       NaN   \n",
              "7           note_on            1            5       0.004529  42.0      55.0   \n",
              "8           note_on            4            9       0.008152  36.0      39.0   \n",
              "9           note_on            6           15       0.013587  51.0      67.0   \n",
              "10   control_change           24           39       0.035326   NaN       NaN   \n",
              "11         note_off           77          116       0.105073  42.0      64.0   \n",
              "12         note_off            5          121       0.109602  36.0      64.0   \n",
              "13         note_off            5          126       0.114131  51.0      64.0   \n",
              "14          note_on          100          226       0.204710  36.0      41.0   \n",
              "15          note_on           32          258       0.233696  51.0      58.0   \n",
              "16   control_change           54          312       0.282609   NaN       NaN   \n",
              "17         note_off           25          337       0.305254  36.0      64.0   \n",
              "18          note_on            7          344       0.311594  36.0       6.0   \n",
              "19   control_change            1          345       0.312500   NaN       NaN   \n",
              "\n",
              "                                                                                                                             raw_data  \\\n",
              "0                                                                              {'type': 'track_name', 'name': 'Base Midi', 'time': 0}   \n",
              "1                                                                          {'type': 'instrument_name', 'name': 'Brooklyn', 'time': 0}   \n",
              "2   {'type': 'time_signature', 'numerator': 4, 'denominator': 4, 'clocks_per_click': 24, 'notated_32nd_notes_per_beat': 8, 'time': 0}   \n",
              "3                                                                                    {'type': 'key_signature', 'key': 'C', 'time': 0}   \n",
              "4     {'type': 'smpte_offset', 'frame_rate': 24, 'hours': 33, 'minutes': 1, 'seconds': 15, 'frames': 16, 'sub_frames': 24, 'time': 0}   \n",
              "5                                                                                   {'type': 'set_tempo', 'tempo': 434783, 'time': 0}   \n",
              "6                                                      {'type': 'control_change', 'time': 4, 'control': 4, 'value': 77, 'channel': 9}   \n",
              "7                                                            {'type': 'note_on', 'time': 1, 'note': 44, 'velocity': 55, 'channel': 9}   \n",
              "8                                                            {'type': 'note_on', 'time': 4, 'note': 36, 'velocity': 39, 'channel': 9}   \n",
              "9                                                            {'type': 'note_on', 'time': 6, 'note': 51, 'velocity': 67, 'channel': 9}   \n",
              "10                                                    {'type': 'control_change', 'time': 24, 'control': 4, 'value': 90, 'channel': 9}   \n",
              "11                                                         {'type': 'note_off', 'time': 77, 'note': 44, 'velocity': 64, 'channel': 9}   \n",
              "12                                                          {'type': 'note_off', 'time': 5, 'note': 36, 'velocity': 64, 'channel': 9}   \n",
              "13                                                          {'type': 'note_off', 'time': 5, 'note': 51, 'velocity': 64, 'channel': 9}   \n",
              "14                                                         {'type': 'note_on', 'time': 100, 'note': 36, 'velocity': 41, 'channel': 9}   \n",
              "15                                                          {'type': 'note_on', 'time': 32, 'note': 51, 'velocity': 58, 'channel': 9}   \n",
              "16                                                    {'type': 'control_change', 'time': 54, 'control': 4, 'value': 74, 'channel': 9}   \n",
              "17                                                         {'type': 'note_off', 'time': 25, 'note': 36, 'velocity': 64, 'channel': 9}   \n",
              "18                                                            {'type': 'note_on', 'time': 7, 'note': 36, 'velocity': 6, 'channel': 9}   \n",
              "19                                                      {'type': 'control_change', 'time': 1, 'control': 4, 'value': 0, 'channel': 9}   \n",
              "\n",
              "       bin_cat beat_cat  \n",
              "0    [-60, 60)        0  \n",
              "1    [-60, 60)        0  \n",
              "2    [-60, 60)        0  \n",
              "3    [-60, 60)        0  \n",
              "4    [-60, 60)        0  \n",
              "5    [-60, 60)        0  \n",
              "6    [-60, 60)        0  \n",
              "7    [-60, 60)        0  \n",
              "8    [-60, 60)        0  \n",
              "9    [-60, 60)        0  \n",
              "10   [-60, 60)        0  \n",
              "11   [60, 180)      120  \n",
              "12   [60, 180)      120  \n",
              "13   [60, 180)      120  \n",
              "14  [180, 300)      240  \n",
              "15  [180, 300)      240  \n",
              "16  [300, 420)      360  \n",
              "17  [300, 420)      360  \n",
              "18  [300, 420)      360  \n",
              "19  [300, 420)      360  "
            ]
          },
          "metadata": {
            "tags": []
          },
          "execution_count": 28
        },
        {
          "output_type": "execute_result",
          "data": {
            "text/html": [
              "<div>\n",
              "<style scoped>\n",
              "    .dataframe tbody tr th:only-of-type {\n",
              "        vertical-align: middle;\n",
              "    }\n",
              "\n",
              "    .dataframe tbody tr th {\n",
              "        vertical-align: top;\n",
              "    }\n",
              "\n",
              "    .dataframe thead th {\n",
              "        text-align: right;\n",
              "    }\n",
              "</style>\n",
              "<table border=\"1\" class=\"dataframe\">\n",
              "  <thead>\n",
              "    <tr style=\"text-align: right;\">\n",
              "      <th></th>\n",
              "      <th>msg_type</th>\n",
              "      <th>delta_ticks</th>\n",
              "      <th>total_ticks</th>\n",
              "      <th>total_seconds</th>\n",
              "      <th>note</th>\n",
              "      <th>velocity</th>\n",
              "      <th>raw_data</th>\n",
              "      <th>bin_cat</th>\n",
              "      <th>beat_cat</th>\n",
              "    </tr>\n",
              "  </thead>\n",
              "  <tbody>\n",
              "    <tr>\n",
              "      <th>1017</th>\n",
              "      <td>note_off</td>\n",
              "      <td>12</td>\n",
              "      <td>30113</td>\n",
              "      <td>27.276293</td>\n",
              "      <td>36.0</td>\n",
              "      <td>64.0</td>\n",
              "      <td>{'type': 'note_off', 'time': 12, 'note': 36, 'velocity': 64, 'channel': 9}</td>\n",
              "      <td>[30060, 30180)</td>\n",
              "      <td>30120</td>\n",
              "    </tr>\n",
              "    <tr>\n",
              "      <th>1018</th>\n",
              "      <td>note_off</td>\n",
              "      <td>2</td>\n",
              "      <td>30115</td>\n",
              "      <td>27.278104</td>\n",
              "      <td>38.0</td>\n",
              "      <td>64.0</td>\n",
              "      <td>{'type': 'note_off', 'time': 2, 'note': 38, 'velocity': 64, 'channel': 9}</td>\n",
              "      <td>[30060, 30180)</td>\n",
              "      <td>30120</td>\n",
              "    </tr>\n",
              "    <tr>\n",
              "      <th>1019</th>\n",
              "      <td>note_on</td>\n",
              "      <td>6</td>\n",
              "      <td>30121</td>\n",
              "      <td>27.283539</td>\n",
              "      <td>36.0</td>\n",
              "      <td>33.0</td>\n",
              "      <td>{'type': 'note_on', 'time': 6, 'note': 36, 'velocity': 33, 'channel': 9}</td>\n",
              "      <td>[30060, 30180)</td>\n",
              "      <td>30120</td>\n",
              "    </tr>\n",
              "    <tr>\n",
              "      <th>1020</th>\n",
              "      <td>note_off</td>\n",
              "      <td>17</td>\n",
              "      <td>30138</td>\n",
              "      <td>27.298938</td>\n",
              "      <td>51.0</td>\n",
              "      <td>64.0</td>\n",
              "      <td>{'type': 'note_off', 'time': 17, 'note': 51, 'velocity': 64, 'channel': 9}</td>\n",
              "      <td>[30060, 30180)</td>\n",
              "      <td>30120</td>\n",
              "    </tr>\n",
              "    <tr>\n",
              "      <th>1021</th>\n",
              "      <td>control_change</td>\n",
              "      <td>92</td>\n",
              "      <td>30230</td>\n",
              "      <td>27.382271</td>\n",
              "      <td>NaN</td>\n",
              "      <td>NaN</td>\n",
              "      <td>{'type': 'control_change', 'time': 92, 'control': 4, 'value': 77, 'channel': 9}</td>\n",
              "      <td>[30180, 30300)</td>\n",
              "      <td>30240</td>\n",
              "    </tr>\n",
              "    <tr>\n",
              "      <th>1022</th>\n",
              "      <td>note_on</td>\n",
              "      <td>0</td>\n",
              "      <td>30230</td>\n",
              "      <td>27.382271</td>\n",
              "      <td>42.0</td>\n",
              "      <td>42.0</td>\n",
              "      <td>{'type': 'note_on', 'time': 0, 'note': 44, 'velocity': 42, 'channel': 9}</td>\n",
              "      <td>[30180, 30300)</td>\n",
              "      <td>30240</td>\n",
              "    </tr>\n",
              "    <tr>\n",
              "      <th>1023</th>\n",
              "      <td>note_off</td>\n",
              "      <td>3</td>\n",
              "      <td>30233</td>\n",
              "      <td>27.384988</td>\n",
              "      <td>36.0</td>\n",
              "      <td>64.0</td>\n",
              "      <td>{'type': 'note_off', 'time': 3, 'note': 36, 'velocity': 64, 'channel': 9}</td>\n",
              "      <td>[30180, 30300)</td>\n",
              "      <td>30240</td>\n",
              "    </tr>\n",
              "    <tr>\n",
              "      <th>1024</th>\n",
              "      <td>note_on</td>\n",
              "      <td>23</td>\n",
              "      <td>30256</td>\n",
              "      <td>27.405822</td>\n",
              "      <td>51.0</td>\n",
              "      <td>96.0</td>\n",
              "      <td>{'type': 'note_on', 'time': 23, 'note': 51, 'velocity': 96, 'channel': 9}</td>\n",
              "      <td>[30180, 30300)</td>\n",
              "      <td>30240</td>\n",
              "    </tr>\n",
              "    <tr>\n",
              "      <th>1025</th>\n",
              "      <td>note_on</td>\n",
              "      <td>7</td>\n",
              "      <td>30263</td>\n",
              "      <td>27.412162</td>\n",
              "      <td>38.0</td>\n",
              "      <td>109.0</td>\n",
              "      <td>{'type': 'note_on', 'time': 7, 'note': 40, 'velocity': 109, 'channel': 9}</td>\n",
              "      <td>[30180, 30300)</td>\n",
              "      <td>30240</td>\n",
              "    </tr>\n",
              "    <tr>\n",
              "      <th>1026</th>\n",
              "      <td>control_change</td>\n",
              "      <td>2</td>\n",
              "      <td>30265</td>\n",
              "      <td>27.413974</td>\n",
              "      <td>NaN</td>\n",
              "      <td>NaN</td>\n",
              "      <td>{'type': 'control_change', 'time': 2, 'control': 4, 'value': 90, 'channel': 9}</td>\n",
              "      <td>[30180, 30300)</td>\n",
              "      <td>30240</td>\n",
              "    </tr>\n",
              "    <tr>\n",
              "      <th>1027</th>\n",
              "      <td>note_off</td>\n",
              "      <td>77</td>\n",
              "      <td>30342</td>\n",
              "      <td>27.483720</td>\n",
              "      <td>42.0</td>\n",
              "      <td>64.0</td>\n",
              "      <td>{'type': 'note_off', 'time': 77, 'note': 44, 'velocity': 64, 'channel': 9}</td>\n",
              "      <td>[30300, 30420)</td>\n",
              "      <td>30360</td>\n",
              "    </tr>\n",
              "    <tr>\n",
              "      <th>1028</th>\n",
              "      <td>note_off</td>\n",
              "      <td>26</td>\n",
              "      <td>30368</td>\n",
              "      <td>27.507271</td>\n",
              "      <td>51.0</td>\n",
              "      <td>64.0</td>\n",
              "      <td>{'type': 'note_off', 'time': 26, 'note': 51, 'velocity': 64, 'channel': 9}</td>\n",
              "      <td>[30300, 30420)</td>\n",
              "      <td>30360</td>\n",
              "    </tr>\n",
              "    <tr>\n",
              "      <th>1029</th>\n",
              "      <td>note_off</td>\n",
              "      <td>6</td>\n",
              "      <td>30374</td>\n",
              "      <td>27.512706</td>\n",
              "      <td>38.0</td>\n",
              "      <td>64.0</td>\n",
              "      <td>{'type': 'note_off', 'time': 6, 'note': 40, 'velocity': 64, 'channel': 9}</td>\n",
              "      <td>[30300, 30420)</td>\n",
              "      <td>30360</td>\n",
              "    </tr>\n",
              "    <tr>\n",
              "      <th>1030</th>\n",
              "      <td>note_on</td>\n",
              "      <td>137</td>\n",
              "      <td>30511</td>\n",
              "      <td>27.636800</td>\n",
              "      <td>51.0</td>\n",
              "      <td>43.0</td>\n",
              "      <td>{'type': 'note_on', 'time': 137, 'note': 51, 'velocity': 43, 'channel': 9}</td>\n",
              "      <td>[30420, 30540)</td>\n",
              "      <td>30480</td>\n",
              "    </tr>\n",
              "    <tr>\n",
              "      <th>1031</th>\n",
              "      <td>control_change</td>\n",
              "      <td>48</td>\n",
              "      <td>30559</td>\n",
              "      <td>27.680279</td>\n",
              "      <td>NaN</td>\n",
              "      <td>NaN</td>\n",
              "      <td>{'type': 'control_change', 'time': 48, 'control': 4, 'value': 57, 'channel': 9}</td>\n",
              "      <td>[30540, 30660)</td>\n",
              "      <td>30600</td>\n",
              "    </tr>\n",
              "    <tr>\n",
              "      <th>1032</th>\n",
              "      <td>control_change</td>\n",
              "      <td>31</td>\n",
              "      <td>30590</td>\n",
              "      <td>27.708358</td>\n",
              "      <td>NaN</td>\n",
              "      <td>NaN</td>\n",
              "      <td>{'type': 'control_change', 'time': 31, 'control': 4, 'value': 0, 'channel': 9}</td>\n",
              "      <td>[30540, 30660)</td>\n",
              "      <td>30600</td>\n",
              "    </tr>\n",
              "    <tr>\n",
              "      <th>1033</th>\n",
              "      <td>note_off</td>\n",
              "      <td>32</td>\n",
              "      <td>30622</td>\n",
              "      <td>27.737344</td>\n",
              "      <td>51.0</td>\n",
              "      <td>64.0</td>\n",
              "      <td>{'type': 'note_off', 'time': 32, 'note': 51, 'velocity': 64, 'channel': 9}</td>\n",
              "      <td>[30540, 30660)</td>\n",
              "      <td>30600</td>\n",
              "    </tr>\n",
              "    <tr>\n",
              "      <th>1034</th>\n",
              "      <td>note_on</td>\n",
              "      <td>12</td>\n",
              "      <td>30634</td>\n",
              "      <td>27.748213</td>\n",
              "      <td>38.0</td>\n",
              "      <td>60.0</td>\n",
              "      <td>{'type': 'note_on', 'time': 12, 'note': 38, 'velocity': 60, 'channel': 9}</td>\n",
              "      <td>[30540, 30660)</td>\n",
              "      <td>30600</td>\n",
              "    </tr>\n",
              "    <tr>\n",
              "      <th>1035</th>\n",
              "      <td>note_off</td>\n",
              "      <td>111</td>\n",
              "      <td>30745</td>\n",
              "      <td>27.848757</td>\n",
              "      <td>38.0</td>\n",
              "      <td>64.0</td>\n",
              "      <td>{'type': 'note_off', 'time': 111, 'note': 38, 'velocity': 64, 'channel': 9}</td>\n",
              "      <td>[30660, 30780)</td>\n",
              "      <td>30720</td>\n",
              "    </tr>\n",
              "    <tr>\n",
              "      <th>1036</th>\n",
              "      <td>end_of_track</td>\n",
              "      <td>0</td>\n",
              "      <td>30745</td>\n",
              "      <td>27.848757</td>\n",
              "      <td>NaN</td>\n",
              "      <td>NaN</td>\n",
              "      <td>{'type': 'end_of_track', 'time': 0}</td>\n",
              "      <td>[30660, 30780)</td>\n",
              "      <td>30720</td>\n",
              "    </tr>\n",
              "  </tbody>\n",
              "</table>\n",
              "</div>"
            ],
            "text/plain": [
              "            msg_type  delta_ticks  total_ticks  total_seconds  note  velocity  \\\n",
              "1017        note_off           12        30113      27.276293  36.0      64.0   \n",
              "1018        note_off            2        30115      27.278104  38.0      64.0   \n",
              "1019         note_on            6        30121      27.283539  36.0      33.0   \n",
              "1020        note_off           17        30138      27.298938  51.0      64.0   \n",
              "1021  control_change           92        30230      27.382271   NaN       NaN   \n",
              "1022         note_on            0        30230      27.382271  42.0      42.0   \n",
              "1023        note_off            3        30233      27.384988  36.0      64.0   \n",
              "1024         note_on           23        30256      27.405822  51.0      96.0   \n",
              "1025         note_on            7        30263      27.412162  38.0     109.0   \n",
              "1026  control_change            2        30265      27.413974   NaN       NaN   \n",
              "1027        note_off           77        30342      27.483720  42.0      64.0   \n",
              "1028        note_off           26        30368      27.507271  51.0      64.0   \n",
              "1029        note_off            6        30374      27.512706  38.0      64.0   \n",
              "1030         note_on          137        30511      27.636800  51.0      43.0   \n",
              "1031  control_change           48        30559      27.680279   NaN       NaN   \n",
              "1032  control_change           31        30590      27.708358   NaN       NaN   \n",
              "1033        note_off           32        30622      27.737344  51.0      64.0   \n",
              "1034         note_on           12        30634      27.748213  38.0      60.0   \n",
              "1035        note_off          111        30745      27.848757  38.0      64.0   \n",
              "1036    end_of_track            0        30745      27.848757   NaN       NaN   \n",
              "\n",
              "                                                                             raw_data  \\\n",
              "1017       {'type': 'note_off', 'time': 12, 'note': 36, 'velocity': 64, 'channel': 9}   \n",
              "1018        {'type': 'note_off', 'time': 2, 'note': 38, 'velocity': 64, 'channel': 9}   \n",
              "1019         {'type': 'note_on', 'time': 6, 'note': 36, 'velocity': 33, 'channel': 9}   \n",
              "1020       {'type': 'note_off', 'time': 17, 'note': 51, 'velocity': 64, 'channel': 9}   \n",
              "1021  {'type': 'control_change', 'time': 92, 'control': 4, 'value': 77, 'channel': 9}   \n",
              "1022         {'type': 'note_on', 'time': 0, 'note': 44, 'velocity': 42, 'channel': 9}   \n",
              "1023        {'type': 'note_off', 'time': 3, 'note': 36, 'velocity': 64, 'channel': 9}   \n",
              "1024        {'type': 'note_on', 'time': 23, 'note': 51, 'velocity': 96, 'channel': 9}   \n",
              "1025        {'type': 'note_on', 'time': 7, 'note': 40, 'velocity': 109, 'channel': 9}   \n",
              "1026   {'type': 'control_change', 'time': 2, 'control': 4, 'value': 90, 'channel': 9}   \n",
              "1027       {'type': 'note_off', 'time': 77, 'note': 44, 'velocity': 64, 'channel': 9}   \n",
              "1028       {'type': 'note_off', 'time': 26, 'note': 51, 'velocity': 64, 'channel': 9}   \n",
              "1029        {'type': 'note_off', 'time': 6, 'note': 40, 'velocity': 64, 'channel': 9}   \n",
              "1030       {'type': 'note_on', 'time': 137, 'note': 51, 'velocity': 43, 'channel': 9}   \n",
              "1031  {'type': 'control_change', 'time': 48, 'control': 4, 'value': 57, 'channel': 9}   \n",
              "1032   {'type': 'control_change', 'time': 31, 'control': 4, 'value': 0, 'channel': 9}   \n",
              "1033       {'type': 'note_off', 'time': 32, 'note': 51, 'velocity': 64, 'channel': 9}   \n",
              "1034        {'type': 'note_on', 'time': 12, 'note': 38, 'velocity': 60, 'channel': 9}   \n",
              "1035      {'type': 'note_off', 'time': 111, 'note': 38, 'velocity': 64, 'channel': 9}   \n",
              "1036                                              {'type': 'end_of_track', 'time': 0}   \n",
              "\n",
              "             bin_cat beat_cat  \n",
              "1017  [30060, 30180)    30120  \n",
              "1018  [30060, 30180)    30120  \n",
              "1019  [30060, 30180)    30120  \n",
              "1020  [30060, 30180)    30120  \n",
              "1021  [30180, 30300)    30240  \n",
              "1022  [30180, 30300)    30240  \n",
              "1023  [30180, 30300)    30240  \n",
              "1024  [30180, 30300)    30240  \n",
              "1025  [30180, 30300)    30240  \n",
              "1026  [30180, 30300)    30240  \n",
              "1027  [30300, 30420)    30360  \n",
              "1028  [30300, 30420)    30360  \n",
              "1029  [30300, 30420)    30360  \n",
              "1030  [30420, 30540)    30480  \n",
              "1031  [30540, 30660)    30600  \n",
              "1032  [30540, 30660)    30600  \n",
              "1033  [30540, 30660)    30600  \n",
              "1034  [30540, 30660)    30600  \n",
              "1035  [30660, 30780)    30720  \n",
              "1036  [30660, 30780)    30720  "
            ]
          },
          "metadata": {
            "tags": []
          },
          "execution_count": 28
        }
      ]
    },
    {
      "cell_type": "code",
      "metadata": {
        "id": "Q-88ybi8T9PM",
        "colab_type": "code",
        "outputId": "e69f19c7-323e-4f64-bb40-4df310e89e40",
        "colab": {
          "base_uri": "https://localhost:8080/",
          "height": 289
        }
      },
      "source": [
        "df.info()"
      ],
      "execution_count": 29,
      "outputs": [
        {
          "output_type": "stream",
          "text": [
            "<class 'pandas.core.frame.DataFrame'>\n",
            "RangeIndex: 1037 entries, 0 to 1036\n",
            "Data columns (total 9 columns):\n",
            " #   Column         Non-Null Count  Dtype   \n",
            "---  ------         --------------  -----   \n",
            " 0   msg_type       1037 non-null   string  \n",
            " 1   delta_ticks    1037 non-null   int64   \n",
            " 2   total_ticks    1037 non-null   int64   \n",
            " 3   total_seconds  1037 non-null   float64 \n",
            " 4   note           746 non-null    float64 \n",
            " 5   velocity       746 non-null    float64 \n",
            " 6   raw_data       1037 non-null   string  \n",
            " 7   bin_cat        1037 non-null   category\n",
            " 8   beat_cat       1037 non-null   category\n",
            "dtypes: category(2), float64(3), int64(2), string(2)\n",
            "memory usage: 75.0 KB\n"
          ],
          "name": "stdout"
        }
      ]
    },
    {
      "cell_type": "markdown",
      "metadata": {
        "id": "S4WLWu6IpVHx",
        "colab_type": "text"
      },
      "source": [
        "## Calculate message offset from calculated beat\n"
      ]
    },
    {
      "cell_type": "markdown",
      "metadata": {
        "id": "l-lhTIQBcBE1",
        "colab_type": "text"
      },
      "source": [
        "Got stuck with a 'Categorical' column type above when I just wanted the plain old number. This next bit is weird as I'm having to jump through hoops to get the category converted to an int - I need the int rather than the label as the int is the precise time of the beat and I need to work with that.\n",
        "\n",
        "More info here: https://stackoverflow.com/a/51102402"
      ]
    },
    {
      "cell_type": "code",
      "metadata": {
        "id": "gGPs65mQVUcv",
        "colab_type": "code",
        "outputId": "b5db1e34-d877-4982-f176-f96d46fe3072",
        "colab": {
          "base_uri": "https://localhost:8080/",
          "height": 54
        }
      },
      "source": [
        "tmp_dict = dict(enumerate(df.beat_cat.cat.categories))\n",
        "print(tmp_dict)\n"
      ],
      "execution_count": 30,
      "outputs": [
        {
          "output_type": "stream",
          "text": [
            "{0: 0, 1: 120, 2: 240, 3: 360, 4: 480, 5: 600, 6: 720, 7: 840, 8: 960, 9: 1080, 10: 1200, 11: 1320, 12: 1440, 13: 1560, 14: 1680, 15: 1800, 16: 1920, 17: 2040, 18: 2160, 19: 2280, 20: 2400, 21: 2520, 22: 2640, 23: 2760, 24: 2880, 25: 3000, 26: 3120, 27: 3240, 28: 3360, 29: 3480, 30: 3600, 31: 3720, 32: 3840, 33: 3960, 34: 4080, 35: 4200, 36: 4320, 37: 4440, 38: 4560, 39: 4680, 40: 4800, 41: 4920, 42: 5040, 43: 5160, 44: 5280, 45: 5400, 46: 5520, 47: 5640, 48: 5760, 49: 5880, 50: 6000, 51: 6120, 52: 6240, 53: 6360, 54: 6480, 55: 6600, 56: 6720, 57: 6840, 58: 6960, 59: 7080, 60: 7200, 61: 7320, 62: 7440, 63: 7560, 64: 7680, 65: 7800, 66: 7920, 67: 8040, 68: 8160, 69: 8280, 70: 8400, 71: 8520, 72: 8640, 73: 8760, 74: 8880, 75: 9000, 76: 9120, 77: 9240, 78: 9360, 79: 9480, 80: 9600, 81: 9720, 82: 9840, 83: 9960, 84: 10080, 85: 10200, 86: 10320, 87: 10440, 88: 10560, 89: 10680, 90: 10800, 91: 10920, 92: 11040, 93: 11160, 94: 11280, 95: 11400, 96: 11520, 97: 11640, 98: 11760, 99: 11880, 100: 12000, 101: 12120, 102: 12240, 103: 12360, 104: 12480, 105: 12600, 106: 12720, 107: 12840, 108: 12960, 109: 13080, 110: 13200, 111: 13320, 112: 13440, 113: 13560, 114: 13680, 115: 13800, 116: 13920, 117: 14040, 118: 14160, 119: 14280, 120: 14400, 121: 14520, 122: 14640, 123: 14760, 124: 14880, 125: 15000, 126: 15120, 127: 15240, 128: 15360, 129: 15480, 130: 15600, 131: 15720, 132: 15840, 133: 15960, 134: 16080, 135: 16200, 136: 16320, 137: 16440, 138: 16560, 139: 16680, 140: 16800, 141: 16920, 142: 17040, 143: 17160, 144: 17280, 145: 17400, 146: 17520, 147: 17640, 148: 17760, 149: 17880, 150: 18000, 151: 18120, 152: 18240, 153: 18360, 154: 18480, 155: 18600, 156: 18720, 157: 18840, 158: 18960, 159: 19080, 160: 19200, 161: 19320, 162: 19440, 163: 19560, 164: 19680, 165: 19800, 166: 19920, 167: 20040, 168: 20160, 169: 20280, 170: 20400, 171: 20520, 172: 20640, 173: 20760, 174: 20880, 175: 21000, 176: 21120, 177: 21240, 178: 21360, 179: 21480, 180: 21600, 181: 21720, 182: 21840, 183: 21960, 184: 22080, 185: 22200, 186: 22320, 187: 22440, 188: 22560, 189: 22680, 190: 22800, 191: 22920, 192: 23040, 193: 23160, 194: 23280, 195: 23400, 196: 23520, 197: 23640, 198: 23760, 199: 23880, 200: 24000, 201: 24120, 202: 24240, 203: 24360, 204: 24480, 205: 24600, 206: 24720, 207: 24840, 208: 24960, 209: 25080, 210: 25200, 211: 25320, 212: 25440, 213: 25560, 214: 25680, 215: 25800, 216: 25920, 217: 26040, 218: 26160, 219: 26280, 220: 26400, 221: 26520, 222: 26640, 223: 26760, 224: 26880, 225: 27000, 226: 27120, 227: 27240, 228: 27360, 229: 27480, 230: 27600, 231: 27720, 232: 27840, 233: 27960, 234: 28080, 235: 28200, 236: 28320, 237: 28440, 238: 28560, 239: 28680, 240: 28800, 241: 28920, 242: 29040, 243: 29160, 244: 29280, 245: 29400, 246: 29520, 247: 29640, 248: 29760, 249: 29880, 250: 30000, 251: 30120, 252: 30240, 253: 30360, 254: 30480, 255: 30600, 256: 30720}\n"
          ],
          "name": "stdout"
        }
      ]
    },
    {
      "cell_type": "code",
      "metadata": {
        "id": "aPgmZEwgbUCp",
        "colab_type": "code",
        "colab": {}
      },
      "source": [
        "df['code'] = df.beat_cat.cat.codes\n",
        "df['beat_int'] = df['code'].map(tmp_dict)\n"
      ],
      "execution_count": 0,
      "outputs": []
    },
    {
      "cell_type": "code",
      "metadata": {
        "id": "Jwos2_FOjz2E",
        "colab_type": "code",
        "outputId": "b0afe827-72ff-4557-b6ec-e2554e3cf688",
        "colab": {
          "base_uri": "https://localhost:8080/",
          "height": 1000
        }
      },
      "source": [
        "# label each event with offset from 'nearest_beat'\n",
        "# numbers in this column will be -ve if the message\n",
        "# was early, and +ve if the message was late. a value\n",
        "# of '0'  (zero) indicates the message was exactly on\n",
        "# the calculated beat\n",
        "df['beat_offset'] = df.total_ticks - df.beat_int \n",
        "df.head(15)\n",
        "df.tail(15)"
      ],
      "execution_count": 32,
      "outputs": [
        {
          "output_type": "execute_result",
          "data": {
            "text/html": [
              "<div>\n",
              "<style scoped>\n",
              "    .dataframe tbody tr th:only-of-type {\n",
              "        vertical-align: middle;\n",
              "    }\n",
              "\n",
              "    .dataframe tbody tr th {\n",
              "        vertical-align: top;\n",
              "    }\n",
              "\n",
              "    .dataframe thead th {\n",
              "        text-align: right;\n",
              "    }\n",
              "</style>\n",
              "<table border=\"1\" class=\"dataframe\">\n",
              "  <thead>\n",
              "    <tr style=\"text-align: right;\">\n",
              "      <th></th>\n",
              "      <th>msg_type</th>\n",
              "      <th>delta_ticks</th>\n",
              "      <th>total_ticks</th>\n",
              "      <th>total_seconds</th>\n",
              "      <th>note</th>\n",
              "      <th>velocity</th>\n",
              "      <th>raw_data</th>\n",
              "      <th>bin_cat</th>\n",
              "      <th>beat_cat</th>\n",
              "      <th>code</th>\n",
              "      <th>beat_int</th>\n",
              "      <th>beat_offset</th>\n",
              "    </tr>\n",
              "  </thead>\n",
              "  <tbody>\n",
              "    <tr>\n",
              "      <th>0</th>\n",
              "      <td>track_name</td>\n",
              "      <td>0</td>\n",
              "      <td>0</td>\n",
              "      <td>0.000000</td>\n",
              "      <td>NaN</td>\n",
              "      <td>NaN</td>\n",
              "      <td>{'type': 'track_name', 'name': 'Base Midi', 'time': 0}</td>\n",
              "      <td>[-60, 60)</td>\n",
              "      <td>0</td>\n",
              "      <td>0</td>\n",
              "      <td>0</td>\n",
              "      <td>0</td>\n",
              "    </tr>\n",
              "    <tr>\n",
              "      <th>1</th>\n",
              "      <td>instrument_name</td>\n",
              "      <td>0</td>\n",
              "      <td>0</td>\n",
              "      <td>0.000000</td>\n",
              "      <td>NaN</td>\n",
              "      <td>NaN</td>\n",
              "      <td>{'type': 'instrument_name', 'name': 'Brooklyn', 'time': 0}</td>\n",
              "      <td>[-60, 60)</td>\n",
              "      <td>0</td>\n",
              "      <td>0</td>\n",
              "      <td>0</td>\n",
              "      <td>0</td>\n",
              "    </tr>\n",
              "    <tr>\n",
              "      <th>2</th>\n",
              "      <td>time_signature</td>\n",
              "      <td>0</td>\n",
              "      <td>0</td>\n",
              "      <td>0.000000</td>\n",
              "      <td>NaN</td>\n",
              "      <td>NaN</td>\n",
              "      <td>{'type': 'time_signature', 'numerator': 4, 'denominator': 4, 'clocks_per_click': 24, 'notated_32nd_notes_per_beat': 8, 'time': 0}</td>\n",
              "      <td>[-60, 60)</td>\n",
              "      <td>0</td>\n",
              "      <td>0</td>\n",
              "      <td>0</td>\n",
              "      <td>0</td>\n",
              "    </tr>\n",
              "    <tr>\n",
              "      <th>3</th>\n",
              "      <td>key_signature</td>\n",
              "      <td>0</td>\n",
              "      <td>0</td>\n",
              "      <td>0.000000</td>\n",
              "      <td>NaN</td>\n",
              "      <td>NaN</td>\n",
              "      <td>{'type': 'key_signature', 'key': 'C', 'time': 0}</td>\n",
              "      <td>[-60, 60)</td>\n",
              "      <td>0</td>\n",
              "      <td>0</td>\n",
              "      <td>0</td>\n",
              "      <td>0</td>\n",
              "    </tr>\n",
              "    <tr>\n",
              "      <th>4</th>\n",
              "      <td>smpte_offset</td>\n",
              "      <td>0</td>\n",
              "      <td>0</td>\n",
              "      <td>0.000000</td>\n",
              "      <td>NaN</td>\n",
              "      <td>NaN</td>\n",
              "      <td>{'type': 'smpte_offset', 'frame_rate': 24, 'hours': 33, 'minutes': 1, 'seconds': 15, 'frames': 16, 'sub_frames': 24, 'time': 0}</td>\n",
              "      <td>[-60, 60)</td>\n",
              "      <td>0</td>\n",
              "      <td>0</td>\n",
              "      <td>0</td>\n",
              "      <td>0</td>\n",
              "    </tr>\n",
              "    <tr>\n",
              "      <th>5</th>\n",
              "      <td>set_tempo</td>\n",
              "      <td>0</td>\n",
              "      <td>0</td>\n",
              "      <td>0.000000</td>\n",
              "      <td>NaN</td>\n",
              "      <td>NaN</td>\n",
              "      <td>{'type': 'set_tempo', 'tempo': 434783, 'time': 0}</td>\n",
              "      <td>[-60, 60)</td>\n",
              "      <td>0</td>\n",
              "      <td>0</td>\n",
              "      <td>0</td>\n",
              "      <td>0</td>\n",
              "    </tr>\n",
              "    <tr>\n",
              "      <th>6</th>\n",
              "      <td>control_change</td>\n",
              "      <td>4</td>\n",
              "      <td>4</td>\n",
              "      <td>0.003623</td>\n",
              "      <td>NaN</td>\n",
              "      <td>NaN</td>\n",
              "      <td>{'type': 'control_change', 'time': 4, 'control': 4, 'value': 77, 'channel': 9}</td>\n",
              "      <td>[-60, 60)</td>\n",
              "      <td>0</td>\n",
              "      <td>0</td>\n",
              "      <td>0</td>\n",
              "      <td>4</td>\n",
              "    </tr>\n",
              "    <tr>\n",
              "      <th>7</th>\n",
              "      <td>note_on</td>\n",
              "      <td>1</td>\n",
              "      <td>5</td>\n",
              "      <td>0.004529</td>\n",
              "      <td>42.0</td>\n",
              "      <td>55.0</td>\n",
              "      <td>{'type': 'note_on', 'time': 1, 'note': 44, 'velocity': 55, 'channel': 9}</td>\n",
              "      <td>[-60, 60)</td>\n",
              "      <td>0</td>\n",
              "      <td>0</td>\n",
              "      <td>0</td>\n",
              "      <td>5</td>\n",
              "    </tr>\n",
              "    <tr>\n",
              "      <th>8</th>\n",
              "      <td>note_on</td>\n",
              "      <td>4</td>\n",
              "      <td>9</td>\n",
              "      <td>0.008152</td>\n",
              "      <td>36.0</td>\n",
              "      <td>39.0</td>\n",
              "      <td>{'type': 'note_on', 'time': 4, 'note': 36, 'velocity': 39, 'channel': 9}</td>\n",
              "      <td>[-60, 60)</td>\n",
              "      <td>0</td>\n",
              "      <td>0</td>\n",
              "      <td>0</td>\n",
              "      <td>9</td>\n",
              "    </tr>\n",
              "    <tr>\n",
              "      <th>9</th>\n",
              "      <td>note_on</td>\n",
              "      <td>6</td>\n",
              "      <td>15</td>\n",
              "      <td>0.013587</td>\n",
              "      <td>51.0</td>\n",
              "      <td>67.0</td>\n",
              "      <td>{'type': 'note_on', 'time': 6, 'note': 51, 'velocity': 67, 'channel': 9}</td>\n",
              "      <td>[-60, 60)</td>\n",
              "      <td>0</td>\n",
              "      <td>0</td>\n",
              "      <td>0</td>\n",
              "      <td>15</td>\n",
              "    </tr>\n",
              "    <tr>\n",
              "      <th>10</th>\n",
              "      <td>control_change</td>\n",
              "      <td>24</td>\n",
              "      <td>39</td>\n",
              "      <td>0.035326</td>\n",
              "      <td>NaN</td>\n",
              "      <td>NaN</td>\n",
              "      <td>{'type': 'control_change', 'time': 24, 'control': 4, 'value': 90, 'channel': 9}</td>\n",
              "      <td>[-60, 60)</td>\n",
              "      <td>0</td>\n",
              "      <td>0</td>\n",
              "      <td>0</td>\n",
              "      <td>39</td>\n",
              "    </tr>\n",
              "    <tr>\n",
              "      <th>11</th>\n",
              "      <td>note_off</td>\n",
              "      <td>77</td>\n",
              "      <td>116</td>\n",
              "      <td>0.105073</td>\n",
              "      <td>42.0</td>\n",
              "      <td>64.0</td>\n",
              "      <td>{'type': 'note_off', 'time': 77, 'note': 44, 'velocity': 64, 'channel': 9}</td>\n",
              "      <td>[60, 180)</td>\n",
              "      <td>120</td>\n",
              "      <td>1</td>\n",
              "      <td>120</td>\n",
              "      <td>-4</td>\n",
              "    </tr>\n",
              "    <tr>\n",
              "      <th>12</th>\n",
              "      <td>note_off</td>\n",
              "      <td>5</td>\n",
              "      <td>121</td>\n",
              "      <td>0.109602</td>\n",
              "      <td>36.0</td>\n",
              "      <td>64.0</td>\n",
              "      <td>{'type': 'note_off', 'time': 5, 'note': 36, 'velocity': 64, 'channel': 9}</td>\n",
              "      <td>[60, 180)</td>\n",
              "      <td>120</td>\n",
              "      <td>1</td>\n",
              "      <td>120</td>\n",
              "      <td>1</td>\n",
              "    </tr>\n",
              "    <tr>\n",
              "      <th>13</th>\n",
              "      <td>note_off</td>\n",
              "      <td>5</td>\n",
              "      <td>126</td>\n",
              "      <td>0.114131</td>\n",
              "      <td>51.0</td>\n",
              "      <td>64.0</td>\n",
              "      <td>{'type': 'note_off', 'time': 5, 'note': 51, 'velocity': 64, 'channel': 9}</td>\n",
              "      <td>[60, 180)</td>\n",
              "      <td>120</td>\n",
              "      <td>1</td>\n",
              "      <td>120</td>\n",
              "      <td>6</td>\n",
              "    </tr>\n",
              "    <tr>\n",
              "      <th>14</th>\n",
              "      <td>note_on</td>\n",
              "      <td>100</td>\n",
              "      <td>226</td>\n",
              "      <td>0.204710</td>\n",
              "      <td>36.0</td>\n",
              "      <td>41.0</td>\n",
              "      <td>{'type': 'note_on', 'time': 100, 'note': 36, 'velocity': 41, 'channel': 9}</td>\n",
              "      <td>[180, 300)</td>\n",
              "      <td>240</td>\n",
              "      <td>2</td>\n",
              "      <td>240</td>\n",
              "      <td>-14</td>\n",
              "    </tr>\n",
              "  </tbody>\n",
              "</table>\n",
              "</div>"
            ],
            "text/plain": [
              "           msg_type  delta_ticks  total_ticks  total_seconds  note  velocity  \\\n",
              "0        track_name            0            0       0.000000   NaN       NaN   \n",
              "1   instrument_name            0            0       0.000000   NaN       NaN   \n",
              "2    time_signature            0            0       0.000000   NaN       NaN   \n",
              "3     key_signature            0            0       0.000000   NaN       NaN   \n",
              "4      smpte_offset            0            0       0.000000   NaN       NaN   \n",
              "5         set_tempo            0            0       0.000000   NaN       NaN   \n",
              "6    control_change            4            4       0.003623   NaN       NaN   \n",
              "7           note_on            1            5       0.004529  42.0      55.0   \n",
              "8           note_on            4            9       0.008152  36.0      39.0   \n",
              "9           note_on            6           15       0.013587  51.0      67.0   \n",
              "10   control_change           24           39       0.035326   NaN       NaN   \n",
              "11         note_off           77          116       0.105073  42.0      64.0   \n",
              "12         note_off            5          121       0.109602  36.0      64.0   \n",
              "13         note_off            5          126       0.114131  51.0      64.0   \n",
              "14          note_on          100          226       0.204710  36.0      41.0   \n",
              "\n",
              "                                                                                                                             raw_data  \\\n",
              "0                                                                              {'type': 'track_name', 'name': 'Base Midi', 'time': 0}   \n",
              "1                                                                          {'type': 'instrument_name', 'name': 'Brooklyn', 'time': 0}   \n",
              "2   {'type': 'time_signature', 'numerator': 4, 'denominator': 4, 'clocks_per_click': 24, 'notated_32nd_notes_per_beat': 8, 'time': 0}   \n",
              "3                                                                                    {'type': 'key_signature', 'key': 'C', 'time': 0}   \n",
              "4     {'type': 'smpte_offset', 'frame_rate': 24, 'hours': 33, 'minutes': 1, 'seconds': 15, 'frames': 16, 'sub_frames': 24, 'time': 0}   \n",
              "5                                                                                   {'type': 'set_tempo', 'tempo': 434783, 'time': 0}   \n",
              "6                                                      {'type': 'control_change', 'time': 4, 'control': 4, 'value': 77, 'channel': 9}   \n",
              "7                                                            {'type': 'note_on', 'time': 1, 'note': 44, 'velocity': 55, 'channel': 9}   \n",
              "8                                                            {'type': 'note_on', 'time': 4, 'note': 36, 'velocity': 39, 'channel': 9}   \n",
              "9                                                            {'type': 'note_on', 'time': 6, 'note': 51, 'velocity': 67, 'channel': 9}   \n",
              "10                                                    {'type': 'control_change', 'time': 24, 'control': 4, 'value': 90, 'channel': 9}   \n",
              "11                                                         {'type': 'note_off', 'time': 77, 'note': 44, 'velocity': 64, 'channel': 9}   \n",
              "12                                                          {'type': 'note_off', 'time': 5, 'note': 36, 'velocity': 64, 'channel': 9}   \n",
              "13                                                          {'type': 'note_off', 'time': 5, 'note': 51, 'velocity': 64, 'channel': 9}   \n",
              "14                                                         {'type': 'note_on', 'time': 100, 'note': 36, 'velocity': 41, 'channel': 9}   \n",
              "\n",
              "       bin_cat beat_cat  code  beat_int  beat_offset  \n",
              "0    [-60, 60)        0     0         0            0  \n",
              "1    [-60, 60)        0     0         0            0  \n",
              "2    [-60, 60)        0     0         0            0  \n",
              "3    [-60, 60)        0     0         0            0  \n",
              "4    [-60, 60)        0     0         0            0  \n",
              "5    [-60, 60)        0     0         0            0  \n",
              "6    [-60, 60)        0     0         0            4  \n",
              "7    [-60, 60)        0     0         0            5  \n",
              "8    [-60, 60)        0     0         0            9  \n",
              "9    [-60, 60)        0     0         0           15  \n",
              "10   [-60, 60)        0     0         0           39  \n",
              "11   [60, 180)      120     1       120           -4  \n",
              "12   [60, 180)      120     1       120            1  \n",
              "13   [60, 180)      120     1       120            6  \n",
              "14  [180, 300)      240     2       240          -14  "
            ]
          },
          "metadata": {
            "tags": []
          },
          "execution_count": 32
        },
        {
          "output_type": "execute_result",
          "data": {
            "text/html": [
              "<div>\n",
              "<style scoped>\n",
              "    .dataframe tbody tr th:only-of-type {\n",
              "        vertical-align: middle;\n",
              "    }\n",
              "\n",
              "    .dataframe tbody tr th {\n",
              "        vertical-align: top;\n",
              "    }\n",
              "\n",
              "    .dataframe thead th {\n",
              "        text-align: right;\n",
              "    }\n",
              "</style>\n",
              "<table border=\"1\" class=\"dataframe\">\n",
              "  <thead>\n",
              "    <tr style=\"text-align: right;\">\n",
              "      <th></th>\n",
              "      <th>msg_type</th>\n",
              "      <th>delta_ticks</th>\n",
              "      <th>total_ticks</th>\n",
              "      <th>total_seconds</th>\n",
              "      <th>note</th>\n",
              "      <th>velocity</th>\n",
              "      <th>raw_data</th>\n",
              "      <th>bin_cat</th>\n",
              "      <th>beat_cat</th>\n",
              "      <th>code</th>\n",
              "      <th>beat_int</th>\n",
              "      <th>beat_offset</th>\n",
              "    </tr>\n",
              "  </thead>\n",
              "  <tbody>\n",
              "    <tr>\n",
              "      <th>1022</th>\n",
              "      <td>note_on</td>\n",
              "      <td>0</td>\n",
              "      <td>30230</td>\n",
              "      <td>27.382271</td>\n",
              "      <td>42.0</td>\n",
              "      <td>42.0</td>\n",
              "      <td>{'type': 'note_on', 'time': 0, 'note': 44, 'velocity': 42, 'channel': 9}</td>\n",
              "      <td>[30180, 30300)</td>\n",
              "      <td>30240</td>\n",
              "      <td>252</td>\n",
              "      <td>30240</td>\n",
              "      <td>-10</td>\n",
              "    </tr>\n",
              "    <tr>\n",
              "      <th>1023</th>\n",
              "      <td>note_off</td>\n",
              "      <td>3</td>\n",
              "      <td>30233</td>\n",
              "      <td>27.384988</td>\n",
              "      <td>36.0</td>\n",
              "      <td>64.0</td>\n",
              "      <td>{'type': 'note_off', 'time': 3, 'note': 36, 'velocity': 64, 'channel': 9}</td>\n",
              "      <td>[30180, 30300)</td>\n",
              "      <td>30240</td>\n",
              "      <td>252</td>\n",
              "      <td>30240</td>\n",
              "      <td>-7</td>\n",
              "    </tr>\n",
              "    <tr>\n",
              "      <th>1024</th>\n",
              "      <td>note_on</td>\n",
              "      <td>23</td>\n",
              "      <td>30256</td>\n",
              "      <td>27.405822</td>\n",
              "      <td>51.0</td>\n",
              "      <td>96.0</td>\n",
              "      <td>{'type': 'note_on', 'time': 23, 'note': 51, 'velocity': 96, 'channel': 9}</td>\n",
              "      <td>[30180, 30300)</td>\n",
              "      <td>30240</td>\n",
              "      <td>252</td>\n",
              "      <td>30240</td>\n",
              "      <td>16</td>\n",
              "    </tr>\n",
              "    <tr>\n",
              "      <th>1025</th>\n",
              "      <td>note_on</td>\n",
              "      <td>7</td>\n",
              "      <td>30263</td>\n",
              "      <td>27.412162</td>\n",
              "      <td>38.0</td>\n",
              "      <td>109.0</td>\n",
              "      <td>{'type': 'note_on', 'time': 7, 'note': 40, 'velocity': 109, 'channel': 9}</td>\n",
              "      <td>[30180, 30300)</td>\n",
              "      <td>30240</td>\n",
              "      <td>252</td>\n",
              "      <td>30240</td>\n",
              "      <td>23</td>\n",
              "    </tr>\n",
              "    <tr>\n",
              "      <th>1026</th>\n",
              "      <td>control_change</td>\n",
              "      <td>2</td>\n",
              "      <td>30265</td>\n",
              "      <td>27.413974</td>\n",
              "      <td>NaN</td>\n",
              "      <td>NaN</td>\n",
              "      <td>{'type': 'control_change', 'time': 2, 'control': 4, 'value': 90, 'channel': 9}</td>\n",
              "      <td>[30180, 30300)</td>\n",
              "      <td>30240</td>\n",
              "      <td>252</td>\n",
              "      <td>30240</td>\n",
              "      <td>25</td>\n",
              "    </tr>\n",
              "    <tr>\n",
              "      <th>1027</th>\n",
              "      <td>note_off</td>\n",
              "      <td>77</td>\n",
              "      <td>30342</td>\n",
              "      <td>27.483720</td>\n",
              "      <td>42.0</td>\n",
              "      <td>64.0</td>\n",
              "      <td>{'type': 'note_off', 'time': 77, 'note': 44, 'velocity': 64, 'channel': 9}</td>\n",
              "      <td>[30300, 30420)</td>\n",
              "      <td>30360</td>\n",
              "      <td>253</td>\n",
              "      <td>30360</td>\n",
              "      <td>-18</td>\n",
              "    </tr>\n",
              "    <tr>\n",
              "      <th>1028</th>\n",
              "      <td>note_off</td>\n",
              "      <td>26</td>\n",
              "      <td>30368</td>\n",
              "      <td>27.507271</td>\n",
              "      <td>51.0</td>\n",
              "      <td>64.0</td>\n",
              "      <td>{'type': 'note_off', 'time': 26, 'note': 51, 'velocity': 64, 'channel': 9}</td>\n",
              "      <td>[30300, 30420)</td>\n",
              "      <td>30360</td>\n",
              "      <td>253</td>\n",
              "      <td>30360</td>\n",
              "      <td>8</td>\n",
              "    </tr>\n",
              "    <tr>\n",
              "      <th>1029</th>\n",
              "      <td>note_off</td>\n",
              "      <td>6</td>\n",
              "      <td>30374</td>\n",
              "      <td>27.512706</td>\n",
              "      <td>38.0</td>\n",
              "      <td>64.0</td>\n",
              "      <td>{'type': 'note_off', 'time': 6, 'note': 40, 'velocity': 64, 'channel': 9}</td>\n",
              "      <td>[30300, 30420)</td>\n",
              "      <td>30360</td>\n",
              "      <td>253</td>\n",
              "      <td>30360</td>\n",
              "      <td>14</td>\n",
              "    </tr>\n",
              "    <tr>\n",
              "      <th>1030</th>\n",
              "      <td>note_on</td>\n",
              "      <td>137</td>\n",
              "      <td>30511</td>\n",
              "      <td>27.636800</td>\n",
              "      <td>51.0</td>\n",
              "      <td>43.0</td>\n",
              "      <td>{'type': 'note_on', 'time': 137, 'note': 51, 'velocity': 43, 'channel': 9}</td>\n",
              "      <td>[30420, 30540)</td>\n",
              "      <td>30480</td>\n",
              "      <td>254</td>\n",
              "      <td>30480</td>\n",
              "      <td>31</td>\n",
              "    </tr>\n",
              "    <tr>\n",
              "      <th>1031</th>\n",
              "      <td>control_change</td>\n",
              "      <td>48</td>\n",
              "      <td>30559</td>\n",
              "      <td>27.680279</td>\n",
              "      <td>NaN</td>\n",
              "      <td>NaN</td>\n",
              "      <td>{'type': 'control_change', 'time': 48, 'control': 4, 'value': 57, 'channel': 9}</td>\n",
              "      <td>[30540, 30660)</td>\n",
              "      <td>30600</td>\n",
              "      <td>255</td>\n",
              "      <td>30600</td>\n",
              "      <td>-41</td>\n",
              "    </tr>\n",
              "    <tr>\n",
              "      <th>1032</th>\n",
              "      <td>control_change</td>\n",
              "      <td>31</td>\n",
              "      <td>30590</td>\n",
              "      <td>27.708358</td>\n",
              "      <td>NaN</td>\n",
              "      <td>NaN</td>\n",
              "      <td>{'type': 'control_change', 'time': 31, 'control': 4, 'value': 0, 'channel': 9}</td>\n",
              "      <td>[30540, 30660)</td>\n",
              "      <td>30600</td>\n",
              "      <td>255</td>\n",
              "      <td>30600</td>\n",
              "      <td>-10</td>\n",
              "    </tr>\n",
              "    <tr>\n",
              "      <th>1033</th>\n",
              "      <td>note_off</td>\n",
              "      <td>32</td>\n",
              "      <td>30622</td>\n",
              "      <td>27.737344</td>\n",
              "      <td>51.0</td>\n",
              "      <td>64.0</td>\n",
              "      <td>{'type': 'note_off', 'time': 32, 'note': 51, 'velocity': 64, 'channel': 9}</td>\n",
              "      <td>[30540, 30660)</td>\n",
              "      <td>30600</td>\n",
              "      <td>255</td>\n",
              "      <td>30600</td>\n",
              "      <td>22</td>\n",
              "    </tr>\n",
              "    <tr>\n",
              "      <th>1034</th>\n",
              "      <td>note_on</td>\n",
              "      <td>12</td>\n",
              "      <td>30634</td>\n",
              "      <td>27.748213</td>\n",
              "      <td>38.0</td>\n",
              "      <td>60.0</td>\n",
              "      <td>{'type': 'note_on', 'time': 12, 'note': 38, 'velocity': 60, 'channel': 9}</td>\n",
              "      <td>[30540, 30660)</td>\n",
              "      <td>30600</td>\n",
              "      <td>255</td>\n",
              "      <td>30600</td>\n",
              "      <td>34</td>\n",
              "    </tr>\n",
              "    <tr>\n",
              "      <th>1035</th>\n",
              "      <td>note_off</td>\n",
              "      <td>111</td>\n",
              "      <td>30745</td>\n",
              "      <td>27.848757</td>\n",
              "      <td>38.0</td>\n",
              "      <td>64.0</td>\n",
              "      <td>{'type': 'note_off', 'time': 111, 'note': 38, 'velocity': 64, 'channel': 9}</td>\n",
              "      <td>[30660, 30780)</td>\n",
              "      <td>30720</td>\n",
              "      <td>256</td>\n",
              "      <td>30720</td>\n",
              "      <td>25</td>\n",
              "    </tr>\n",
              "    <tr>\n",
              "      <th>1036</th>\n",
              "      <td>end_of_track</td>\n",
              "      <td>0</td>\n",
              "      <td>30745</td>\n",
              "      <td>27.848757</td>\n",
              "      <td>NaN</td>\n",
              "      <td>NaN</td>\n",
              "      <td>{'type': 'end_of_track', 'time': 0}</td>\n",
              "      <td>[30660, 30780)</td>\n",
              "      <td>30720</td>\n",
              "      <td>256</td>\n",
              "      <td>30720</td>\n",
              "      <td>25</td>\n",
              "    </tr>\n",
              "  </tbody>\n",
              "</table>\n",
              "</div>"
            ],
            "text/plain": [
              "            msg_type  delta_ticks  total_ticks  total_seconds  note  velocity  \\\n",
              "1022         note_on            0        30230      27.382271  42.0      42.0   \n",
              "1023        note_off            3        30233      27.384988  36.0      64.0   \n",
              "1024         note_on           23        30256      27.405822  51.0      96.0   \n",
              "1025         note_on            7        30263      27.412162  38.0     109.0   \n",
              "1026  control_change            2        30265      27.413974   NaN       NaN   \n",
              "1027        note_off           77        30342      27.483720  42.0      64.0   \n",
              "1028        note_off           26        30368      27.507271  51.0      64.0   \n",
              "1029        note_off            6        30374      27.512706  38.0      64.0   \n",
              "1030         note_on          137        30511      27.636800  51.0      43.0   \n",
              "1031  control_change           48        30559      27.680279   NaN       NaN   \n",
              "1032  control_change           31        30590      27.708358   NaN       NaN   \n",
              "1033        note_off           32        30622      27.737344  51.0      64.0   \n",
              "1034         note_on           12        30634      27.748213  38.0      60.0   \n",
              "1035        note_off          111        30745      27.848757  38.0      64.0   \n",
              "1036    end_of_track            0        30745      27.848757   NaN       NaN   \n",
              "\n",
              "                                                                             raw_data  \\\n",
              "1022         {'type': 'note_on', 'time': 0, 'note': 44, 'velocity': 42, 'channel': 9}   \n",
              "1023        {'type': 'note_off', 'time': 3, 'note': 36, 'velocity': 64, 'channel': 9}   \n",
              "1024        {'type': 'note_on', 'time': 23, 'note': 51, 'velocity': 96, 'channel': 9}   \n",
              "1025        {'type': 'note_on', 'time': 7, 'note': 40, 'velocity': 109, 'channel': 9}   \n",
              "1026   {'type': 'control_change', 'time': 2, 'control': 4, 'value': 90, 'channel': 9}   \n",
              "1027       {'type': 'note_off', 'time': 77, 'note': 44, 'velocity': 64, 'channel': 9}   \n",
              "1028       {'type': 'note_off', 'time': 26, 'note': 51, 'velocity': 64, 'channel': 9}   \n",
              "1029        {'type': 'note_off', 'time': 6, 'note': 40, 'velocity': 64, 'channel': 9}   \n",
              "1030       {'type': 'note_on', 'time': 137, 'note': 51, 'velocity': 43, 'channel': 9}   \n",
              "1031  {'type': 'control_change', 'time': 48, 'control': 4, 'value': 57, 'channel': 9}   \n",
              "1032   {'type': 'control_change', 'time': 31, 'control': 4, 'value': 0, 'channel': 9}   \n",
              "1033       {'type': 'note_off', 'time': 32, 'note': 51, 'velocity': 64, 'channel': 9}   \n",
              "1034        {'type': 'note_on', 'time': 12, 'note': 38, 'velocity': 60, 'channel': 9}   \n",
              "1035      {'type': 'note_off', 'time': 111, 'note': 38, 'velocity': 64, 'channel': 9}   \n",
              "1036                                              {'type': 'end_of_track', 'time': 0}   \n",
              "\n",
              "             bin_cat beat_cat  code  beat_int  beat_offset  \n",
              "1022  [30180, 30300)    30240   252     30240          -10  \n",
              "1023  [30180, 30300)    30240   252     30240           -7  \n",
              "1024  [30180, 30300)    30240   252     30240           16  \n",
              "1025  [30180, 30300)    30240   252     30240           23  \n",
              "1026  [30180, 30300)    30240   252     30240           25  \n",
              "1027  [30300, 30420)    30360   253     30360          -18  \n",
              "1028  [30300, 30420)    30360   253     30360            8  \n",
              "1029  [30300, 30420)    30360   253     30360           14  \n",
              "1030  [30420, 30540)    30480   254     30480           31  \n",
              "1031  [30540, 30660)    30600   255     30600          -41  \n",
              "1032  [30540, 30660)    30600   255     30600          -10  \n",
              "1033  [30540, 30660)    30600   255     30600           22  \n",
              "1034  [30540, 30660)    30600   255     30600           34  \n",
              "1035  [30660, 30780)    30720   256     30720           25  \n",
              "1036  [30660, 30780)    30720   256     30720           25  "
            ]
          },
          "metadata": {
            "tags": []
          },
          "execution_count": 32
        }
      ]
    },
    {
      "cell_type": "code",
      "metadata": {
        "id": "FZlLsi_Asnvo",
        "colab_type": "code",
        "outputId": "485d76f3-2dde-4b54-abec-a25d5ed0a290",
        "colab": {
          "base_uri": "https://localhost:8080/",
          "height": 221
        }
      },
      "source": [
        "# number beats per bucket, sort in bucket order\n",
        "# i.e. this is showing number of beats in\n",
        "# each bucket, in timeline order...\n",
        "bucket_counts = calculated_bins.value_counts()\n",
        "bucket_counts.sort_index()"
      ],
      "execution_count": 33,
      "outputs": [
        {
          "output_type": "execute_result",
          "data": {
            "text/plain": [
              "[-60, 60)         11\n",
              "[60, 180)          3\n",
              "[180, 300)         2\n",
              "[300, 420)         5\n",
              "[420, 540)         6\n",
              "                  ..\n",
              "[30180, 30300)     6\n",
              "[30300, 30420)     3\n",
              "[30420, 30540)     1\n",
              "[30540, 30660)     4\n",
              "[30660, 30780)     2\n",
              "Name: total_ticks, Length: 257, dtype: int64"
            ]
          },
          "metadata": {
            "tags": []
          },
          "execution_count": 33
        }
      ]
    },
    {
      "cell_type": "markdown",
      "metadata": {
        "id": "8oFTIydvSnrq",
        "colab_type": "text"
      },
      "source": [
        "# Visualisations"
      ]
    },
    {
      "cell_type": "markdown",
      "metadata": {
        "id": "Z_dQUK1hhiyS",
        "colab_type": "text"
      },
      "source": [
        "## Examples"
      ]
    },
    {
      "cell_type": "markdown",
      "metadata": {
        "id": "EbEsW5ewSscC",
        "colab_type": "text"
      },
      "source": [
        "want to be able to plot MIDI data horizontally to get a visual of how onsets are looking. Useful looking links...\n",
        "* https://pbpython.com/effective-matplotlib.html (excellent tutorial!)\n",
        "* https://matplotlib.org/3.2.1/tutorials/introductory/lifecycle.html (another!)\n",
        "* https://matplotlib.org/gallery/lines_bars_and_markers/broken_barh.html\n"
      ]
    },
    {
      "cell_type": "markdown",
      "metadata": {
        "id": "Kv1y9pj1hkqr",
        "colab_type": "text"
      },
      "source": [
        "## Trying matplotlib broken_barh on drum data"
      ]
    },
    {
      "cell_type": "code",
      "metadata": {
        "id": "N83MQfZw0LsT",
        "colab_type": "code",
        "outputId": "7b650acf-a0ca-4037-fbab-d2bbff33f07b",
        "colab": {
          "base_uri": "https://localhost:8080/",
          "height": 725
        }
      },
      "source": [
        "print('number ticks in bar: {}'.format(ticks_per_bar))\n",
        "\n",
        "# number bars to render\n",
        "ticks_to_render = ticks_per_bar * 2\n",
        "\n",
        "print('will render bars: {}, total ticks: {}'.format(int(ticks_to_render/ ticks_per_bar), ticks_to_render))\n",
        "\n",
        "# filter to first bar\n",
        "limited_df = df[df.total_ticks < ticks_to_render]\n",
        "print('number events found: {}'.format(len(df)))\n",
        "df.head(500)"
      ],
      "execution_count": 34,
      "outputs": [
        {
          "output_type": "stream",
          "text": [
            "number ticks in bar: 1920.0\n",
            "will render bars: 2, total ticks: 3840.0\n",
            "number events found: 1037\n"
          ],
          "name": "stdout"
        },
        {
          "output_type": "execute_result",
          "data": {
            "text/html": [
              "<div>\n",
              "<style scoped>\n",
              "    .dataframe tbody tr th:only-of-type {\n",
              "        vertical-align: middle;\n",
              "    }\n",
              "\n",
              "    .dataframe tbody tr th {\n",
              "        vertical-align: top;\n",
              "    }\n",
              "\n",
              "    .dataframe thead th {\n",
              "        text-align: right;\n",
              "    }\n",
              "</style>\n",
              "<table border=\"1\" class=\"dataframe\">\n",
              "  <thead>\n",
              "    <tr style=\"text-align: right;\">\n",
              "      <th></th>\n",
              "      <th>msg_type</th>\n",
              "      <th>delta_ticks</th>\n",
              "      <th>total_ticks</th>\n",
              "      <th>total_seconds</th>\n",
              "      <th>note</th>\n",
              "      <th>velocity</th>\n",
              "      <th>raw_data</th>\n",
              "      <th>bin_cat</th>\n",
              "      <th>beat_cat</th>\n",
              "      <th>code</th>\n",
              "      <th>beat_int</th>\n",
              "      <th>beat_offset</th>\n",
              "    </tr>\n",
              "  </thead>\n",
              "  <tbody>\n",
              "    <tr>\n",
              "      <th>0</th>\n",
              "      <td>track_name</td>\n",
              "      <td>0</td>\n",
              "      <td>0</td>\n",
              "      <td>0.000000</td>\n",
              "      <td>NaN</td>\n",
              "      <td>NaN</td>\n",
              "      <td>{'type': 'track_name', 'name': 'Base Midi', 'time': 0}</td>\n",
              "      <td>[-60, 60)</td>\n",
              "      <td>0</td>\n",
              "      <td>0</td>\n",
              "      <td>0</td>\n",
              "      <td>0</td>\n",
              "    </tr>\n",
              "    <tr>\n",
              "      <th>1</th>\n",
              "      <td>instrument_name</td>\n",
              "      <td>0</td>\n",
              "      <td>0</td>\n",
              "      <td>0.000000</td>\n",
              "      <td>NaN</td>\n",
              "      <td>NaN</td>\n",
              "      <td>{'type': 'instrument_name', 'name': 'Brooklyn', 'time': 0}</td>\n",
              "      <td>[-60, 60)</td>\n",
              "      <td>0</td>\n",
              "      <td>0</td>\n",
              "      <td>0</td>\n",
              "      <td>0</td>\n",
              "    </tr>\n",
              "    <tr>\n",
              "      <th>2</th>\n",
              "      <td>time_signature</td>\n",
              "      <td>0</td>\n",
              "      <td>0</td>\n",
              "      <td>0.000000</td>\n",
              "      <td>NaN</td>\n",
              "      <td>NaN</td>\n",
              "      <td>{'type': 'time_signature', 'numerator': 4, 'denominator': 4, 'clocks_per_click': 24, 'notated_32nd_notes_per_beat': 8, 'time': 0}</td>\n",
              "      <td>[-60, 60)</td>\n",
              "      <td>0</td>\n",
              "      <td>0</td>\n",
              "      <td>0</td>\n",
              "      <td>0</td>\n",
              "    </tr>\n",
              "    <tr>\n",
              "      <th>3</th>\n",
              "      <td>key_signature</td>\n",
              "      <td>0</td>\n",
              "      <td>0</td>\n",
              "      <td>0.000000</td>\n",
              "      <td>NaN</td>\n",
              "      <td>NaN</td>\n",
              "      <td>{'type': 'key_signature', 'key': 'C', 'time': 0}</td>\n",
              "      <td>[-60, 60)</td>\n",
              "      <td>0</td>\n",
              "      <td>0</td>\n",
              "      <td>0</td>\n",
              "      <td>0</td>\n",
              "    </tr>\n",
              "    <tr>\n",
              "      <th>4</th>\n",
              "      <td>smpte_offset</td>\n",
              "      <td>0</td>\n",
              "      <td>0</td>\n",
              "      <td>0.000000</td>\n",
              "      <td>NaN</td>\n",
              "      <td>NaN</td>\n",
              "      <td>{'type': 'smpte_offset', 'frame_rate': 24, 'hours': 33, 'minutes': 1, 'seconds': 15, 'frames': 16, 'sub_frames': 24, 'time': 0}</td>\n",
              "      <td>[-60, 60)</td>\n",
              "      <td>0</td>\n",
              "      <td>0</td>\n",
              "      <td>0</td>\n",
              "      <td>0</td>\n",
              "    </tr>\n",
              "    <tr>\n",
              "      <th>...</th>\n",
              "      <td>...</td>\n",
              "      <td>...</td>\n",
              "      <td>...</td>\n",
              "      <td>...</td>\n",
              "      <td>...</td>\n",
              "      <td>...</td>\n",
              "      <td>...</td>\n",
              "      <td>...</td>\n",
              "      <td>...</td>\n",
              "      <td>...</td>\n",
              "      <td>...</td>\n",
              "      <td>...</td>\n",
              "    </tr>\n",
              "    <tr>\n",
              "      <th>495</th>\n",
              "      <td>note_off</td>\n",
              "      <td>21</td>\n",
              "      <td>14647</td>\n",
              "      <td>13.267222</td>\n",
              "      <td>38.0</td>\n",
              "      <td>64.0</td>\n",
              "      <td>{'type': 'note_off', 'time': 21, 'note': 38, 'velocity': 64, 'channel': 9}</td>\n",
              "      <td>[14580, 14700)</td>\n",
              "      <td>14640</td>\n",
              "      <td>122</td>\n",
              "      <td>14640</td>\n",
              "      <td>7</td>\n",
              "    </tr>\n",
              "    <tr>\n",
              "      <th>496</th>\n",
              "      <td>note_on</td>\n",
              "      <td>8</td>\n",
              "      <td>14655</td>\n",
              "      <td>13.274468</td>\n",
              "      <td>51.0</td>\n",
              "      <td>61.0</td>\n",
              "      <td>{'type': 'note_on', 'time': 8, 'note': 51, 'velocity': 61, 'channel': 9}</td>\n",
              "      <td>[14580, 14700)</td>\n",
              "      <td>14640</td>\n",
              "      <td>122</td>\n",
              "      <td>14640</td>\n",
              "      <td>15</td>\n",
              "    </tr>\n",
              "    <tr>\n",
              "      <th>497</th>\n",
              "      <td>control_change</td>\n",
              "      <td>47</td>\n",
              "      <td>14702</td>\n",
              "      <td>13.317041</td>\n",
              "      <td>NaN</td>\n",
              "      <td>NaN</td>\n",
              "      <td>{'type': 'control_change', 'time': 47, 'control': 4, 'value': 74, 'channel': 9}</td>\n",
              "      <td>[14700, 14820)</td>\n",
              "      <td>14760</td>\n",
              "      <td>123</td>\n",
              "      <td>14760</td>\n",
              "      <td>-58</td>\n",
              "    </tr>\n",
              "    <tr>\n",
              "      <th>498</th>\n",
              "      <td>control_change</td>\n",
              "      <td>34</td>\n",
              "      <td>14736</td>\n",
              "      <td>13.347838</td>\n",
              "      <td>NaN</td>\n",
              "      <td>NaN</td>\n",
              "      <td>{'type': 'control_change', 'time': 34, 'control': 4, 'value': 0, 'channel': 9}</td>\n",
              "      <td>[14700, 14820)</td>\n",
              "      <td>14760</td>\n",
              "      <td>123</td>\n",
              "      <td>14760</td>\n",
              "      <td>-24</td>\n",
              "    </tr>\n",
              "    <tr>\n",
              "      <th>499</th>\n",
              "      <td>note_off</td>\n",
              "      <td>1</td>\n",
              "      <td>14737</td>\n",
              "      <td>13.348744</td>\n",
              "      <td>36.0</td>\n",
              "      <td>64.0</td>\n",
              "      <td>{'type': 'note_off', 'time': 1, 'note': 36, 'velocity': 64, 'channel': 9}</td>\n",
              "      <td>[14700, 14820)</td>\n",
              "      <td>14760</td>\n",
              "      <td>123</td>\n",
              "      <td>14760</td>\n",
              "      <td>-23</td>\n",
              "    </tr>\n",
              "  </tbody>\n",
              "</table>\n",
              "<p>500 rows × 12 columns</p>\n",
              "</div>"
            ],
            "text/plain": [
              "            msg_type  delta_ticks  total_ticks  total_seconds  note  velocity  \\\n",
              "0         track_name            0            0       0.000000   NaN       NaN   \n",
              "1    instrument_name            0            0       0.000000   NaN       NaN   \n",
              "2     time_signature            0            0       0.000000   NaN       NaN   \n",
              "3      key_signature            0            0       0.000000   NaN       NaN   \n",
              "4       smpte_offset            0            0       0.000000   NaN       NaN   \n",
              "..               ...          ...          ...            ...   ...       ...   \n",
              "495         note_off           21        14647      13.267222  38.0      64.0   \n",
              "496          note_on            8        14655      13.274468  51.0      61.0   \n",
              "497   control_change           47        14702      13.317041   NaN       NaN   \n",
              "498   control_change           34        14736      13.347838   NaN       NaN   \n",
              "499         note_off            1        14737      13.348744  36.0      64.0   \n",
              "\n",
              "                                                                                                                              raw_data  \\\n",
              "0                                                                               {'type': 'track_name', 'name': 'Base Midi', 'time': 0}   \n",
              "1                                                                           {'type': 'instrument_name', 'name': 'Brooklyn', 'time': 0}   \n",
              "2    {'type': 'time_signature', 'numerator': 4, 'denominator': 4, 'clocks_per_click': 24, 'notated_32nd_notes_per_beat': 8, 'time': 0}   \n",
              "3                                                                                     {'type': 'key_signature', 'key': 'C', 'time': 0}   \n",
              "4      {'type': 'smpte_offset', 'frame_rate': 24, 'hours': 33, 'minutes': 1, 'seconds': 15, 'frames': 16, 'sub_frames': 24, 'time': 0}   \n",
              "..                                                                                                                                 ...   \n",
              "495                                                         {'type': 'note_off', 'time': 21, 'note': 38, 'velocity': 64, 'channel': 9}   \n",
              "496                                                           {'type': 'note_on', 'time': 8, 'note': 51, 'velocity': 61, 'channel': 9}   \n",
              "497                                                    {'type': 'control_change', 'time': 47, 'control': 4, 'value': 74, 'channel': 9}   \n",
              "498                                                     {'type': 'control_change', 'time': 34, 'control': 4, 'value': 0, 'channel': 9}   \n",
              "499                                                          {'type': 'note_off', 'time': 1, 'note': 36, 'velocity': 64, 'channel': 9}   \n",
              "\n",
              "            bin_cat beat_cat  code  beat_int  beat_offset  \n",
              "0         [-60, 60)        0     0         0            0  \n",
              "1         [-60, 60)        0     0         0            0  \n",
              "2         [-60, 60)        0     0         0            0  \n",
              "3         [-60, 60)        0     0         0            0  \n",
              "4         [-60, 60)        0     0         0            0  \n",
              "..              ...      ...   ...       ...          ...  \n",
              "495  [14580, 14700)    14640   122     14640            7  \n",
              "496  [14580, 14700)    14640   122     14640           15  \n",
              "497  [14700, 14820)    14760   123     14760          -58  \n",
              "498  [14700, 14820)    14760   123     14760          -24  \n",
              "499  [14700, 14820)    14760   123     14760          -23  \n",
              "\n",
              "[500 rows x 12 columns]"
            ]
          },
          "metadata": {
            "tags": []
          },
          "execution_count": 34
        }
      ]
    },
    {
      "cell_type": "code",
      "metadata": {
        "id": "8WO3gIZaw7gv",
        "colab_type": "code",
        "outputId": "0c6dff2f-1109-486a-e8be-ce5ce1b115b3",
        "colab": {
          "base_uri": "https://localhost:8080/",
          "height": 1000
        }
      },
      "source": [
        "\n",
        "\n",
        "# filter to only note_ons\n",
        "df_ons_only = limited_df[limited_df[midi_file.type_col] == 'note_on']\n",
        "\n",
        "# filter to selected instruments...\n",
        "kic_sn_hats_df = df_ons_only[df_ons_only[midi_file.note_col].isin([36, 38, 51] )] \n",
        "\n",
        "# take a look at all...\n",
        "kic_sn_hats_df\n",
        "print('number instrument hits found: {}'.format(len(kic_sn_hats_df)))\n",
        "\n",
        "# check just the specified notes...\n",
        "kic_sn_hats_df.note.unique()"
      ],
      "execution_count": 35,
      "outputs": [
        {
          "output_type": "execute_result",
          "data": {
            "text/html": [
              "<div>\n",
              "<style scoped>\n",
              "    .dataframe tbody tr th:only-of-type {\n",
              "        vertical-align: middle;\n",
              "    }\n",
              "\n",
              "    .dataframe tbody tr th {\n",
              "        vertical-align: top;\n",
              "    }\n",
              "\n",
              "    .dataframe thead th {\n",
              "        text-align: right;\n",
              "    }\n",
              "</style>\n",
              "<table border=\"1\" class=\"dataframe\">\n",
              "  <thead>\n",
              "    <tr style=\"text-align: right;\">\n",
              "      <th></th>\n",
              "      <th>msg_type</th>\n",
              "      <th>delta_ticks</th>\n",
              "      <th>total_ticks</th>\n",
              "      <th>total_seconds</th>\n",
              "      <th>note</th>\n",
              "      <th>velocity</th>\n",
              "      <th>raw_data</th>\n",
              "      <th>bin_cat</th>\n",
              "      <th>beat_cat</th>\n",
              "      <th>code</th>\n",
              "      <th>beat_int</th>\n",
              "      <th>beat_offset</th>\n",
              "    </tr>\n",
              "  </thead>\n",
              "  <tbody>\n",
              "    <tr>\n",
              "      <th>8</th>\n",
              "      <td>note_on</td>\n",
              "      <td>4</td>\n",
              "      <td>9</td>\n",
              "      <td>0.008152</td>\n",
              "      <td>36.0</td>\n",
              "      <td>39.0</td>\n",
              "      <td>{'type': 'note_on', 'time': 4, 'note': 36, 'velocity': 39, 'channel': 9}</td>\n",
              "      <td>[-60, 60)</td>\n",
              "      <td>0</td>\n",
              "      <td>0</td>\n",
              "      <td>0</td>\n",
              "      <td>9</td>\n",
              "    </tr>\n",
              "    <tr>\n",
              "      <th>9</th>\n",
              "      <td>note_on</td>\n",
              "      <td>6</td>\n",
              "      <td>15</td>\n",
              "      <td>0.013587</td>\n",
              "      <td>51.0</td>\n",
              "      <td>67.0</td>\n",
              "      <td>{'type': 'note_on', 'time': 6, 'note': 51, 'velocity': 67, 'channel': 9}</td>\n",
              "      <td>[-60, 60)</td>\n",
              "      <td>0</td>\n",
              "      <td>0</td>\n",
              "      <td>0</td>\n",
              "      <td>15</td>\n",
              "    </tr>\n",
              "    <tr>\n",
              "      <th>14</th>\n",
              "      <td>note_on</td>\n",
              "      <td>100</td>\n",
              "      <td>226</td>\n",
              "      <td>0.204710</td>\n",
              "      <td>36.0</td>\n",
              "      <td>41.0</td>\n",
              "      <td>{'type': 'note_on', 'time': 100, 'note': 36, 'velocity': 41, 'channel': 9}</td>\n",
              "      <td>[180, 300)</td>\n",
              "      <td>240</td>\n",
              "      <td>2</td>\n",
              "      <td>240</td>\n",
              "      <td>-14</td>\n",
              "    </tr>\n",
              "    <tr>\n",
              "      <th>15</th>\n",
              "      <td>note_on</td>\n",
              "      <td>32</td>\n",
              "      <td>258</td>\n",
              "      <td>0.233696</td>\n",
              "      <td>51.0</td>\n",
              "      <td>58.0</td>\n",
              "      <td>{'type': 'note_on', 'time': 32, 'note': 51, 'velocity': 58, 'channel': 9}</td>\n",
              "      <td>[180, 300)</td>\n",
              "      <td>240</td>\n",
              "      <td>2</td>\n",
              "      <td>240</td>\n",
              "      <td>18</td>\n",
              "    </tr>\n",
              "    <tr>\n",
              "      <th>18</th>\n",
              "      <td>note_on</td>\n",
              "      <td>7</td>\n",
              "      <td>344</td>\n",
              "      <td>0.311594</td>\n",
              "      <td>36.0</td>\n",
              "      <td>6.0</td>\n",
              "      <td>{'type': 'note_on', 'time': 7, 'note': 36, 'velocity': 6, 'channel': 9}</td>\n",
              "      <td>[300, 420)</td>\n",
              "      <td>360</td>\n",
              "      <td>3</td>\n",
              "      <td>360</td>\n",
              "      <td>-16</td>\n",
              "    </tr>\n",
              "    <tr>\n",
              "      <th>24</th>\n",
              "      <td>note_on</td>\n",
              "      <td>17</td>\n",
              "      <td>495</td>\n",
              "      <td>0.448370</td>\n",
              "      <td>51.0</td>\n",
              "      <td>119.0</td>\n",
              "      <td>{'type': 'note_on', 'time': 17, 'note': 51, 'velocity': 119, 'channel': 9}</td>\n",
              "      <td>[420, 540)</td>\n",
              "      <td>480</td>\n",
              "      <td>4</td>\n",
              "      <td>480</td>\n",
              "      <td>15</td>\n",
              "    </tr>\n",
              "    <tr>\n",
              "      <th>26</th>\n",
              "      <td>note_on</td>\n",
              "      <td>0</td>\n",
              "      <td>513</td>\n",
              "      <td>0.464674</td>\n",
              "      <td>38.0</td>\n",
              "      <td>106.0</td>\n",
              "      <td>{'type': 'note_on', 'time': 0, 'note': 40, 'velocity': 106, 'channel': 9}</td>\n",
              "      <td>[420, 540)</td>\n",
              "      <td>480</td>\n",
              "      <td>4</td>\n",
              "      <td>480</td>\n",
              "      <td>33</td>\n",
              "    </tr>\n",
              "    <tr>\n",
              "      <th>30</th>\n",
              "      <td>note_on</td>\n",
              "      <td>122</td>\n",
              "      <td>746</td>\n",
              "      <td>0.675725</td>\n",
              "      <td>51.0</td>\n",
              "      <td>45.0</td>\n",
              "      <td>{'type': 'note_on', 'time': 122, 'note': 51, 'velocity': 45, 'channel': 9}</td>\n",
              "      <td>[660, 780)</td>\n",
              "      <td>720</td>\n",
              "      <td>6</td>\n",
              "      <td>720</td>\n",
              "      <td>26</td>\n",
              "    </tr>\n",
              "    <tr>\n",
              "      <th>34</th>\n",
              "      <td>note_on</td>\n",
              "      <td>6</td>\n",
              "      <td>863</td>\n",
              "      <td>0.781704</td>\n",
              "      <td>38.0</td>\n",
              "      <td>50.0</td>\n",
              "      <td>{'type': 'note_on', 'time': 6, 'note': 38, 'velocity': 50, 'channel': 9}</td>\n",
              "      <td>[780, 900)</td>\n",
              "      <td>840</td>\n",
              "      <td>7</td>\n",
              "      <td>840</td>\n",
              "      <td>23</td>\n",
              "    </tr>\n",
              "    <tr>\n",
              "      <th>38</th>\n",
              "      <td>note_on</td>\n",
              "      <td>5</td>\n",
              "      <td>996</td>\n",
              "      <td>0.902175</td>\n",
              "      <td>51.0</td>\n",
              "      <td>53.0</td>\n",
              "      <td>{'type': 'note_on', 'time': 5, 'note': 51, 'velocity': 53, 'channel': 9}</td>\n",
              "      <td>[900, 1020)</td>\n",
              "      <td>960</td>\n",
              "      <td>8</td>\n",
              "      <td>960</td>\n",
              "      <td>36</td>\n",
              "    </tr>\n",
              "    <tr>\n",
              "      <th>43</th>\n",
              "      <td>note_on</td>\n",
              "      <td>8</td>\n",
              "      <td>1116</td>\n",
              "      <td>1.010870</td>\n",
              "      <td>38.0</td>\n",
              "      <td>55.0</td>\n",
              "      <td>{'type': 'note_on', 'time': 8, 'note': 38, 'velocity': 55, 'channel': 9}</td>\n",
              "      <td>[1020, 1140)</td>\n",
              "      <td>1080</td>\n",
              "      <td>9</td>\n",
              "      <td>1080</td>\n",
              "      <td>36</td>\n",
              "    </tr>\n",
              "    <tr>\n",
              "      <th>45</th>\n",
              "      <td>note_on</td>\n",
              "      <td>40</td>\n",
              "      <td>1195</td>\n",
              "      <td>1.082429</td>\n",
              "      <td>36.0</td>\n",
              "      <td>15.0</td>\n",
              "      <td>{'type': 'note_on', 'time': 40, 'note': 36, 'velocity': 15, 'channel': 9}</td>\n",
              "      <td>[1140, 1260)</td>\n",
              "      <td>1200</td>\n",
              "      <td>10</td>\n",
              "      <td>1200</td>\n",
              "      <td>-5</td>\n",
              "    </tr>\n",
              "    <tr>\n",
              "      <th>47</th>\n",
              "      <td>note_on</td>\n",
              "      <td>8</td>\n",
              "      <td>1236</td>\n",
              "      <td>1.119566</td>\n",
              "      <td>51.0</td>\n",
              "      <td>59.0</td>\n",
              "      <td>{'type': 'note_on', 'time': 8, 'note': 51, 'velocity': 59, 'channel': 9}</td>\n",
              "      <td>[1140, 1260)</td>\n",
              "      <td>1200</td>\n",
              "      <td>10</td>\n",
              "      <td>1200</td>\n",
              "      <td>36</td>\n",
              "    </tr>\n",
              "    <tr>\n",
              "      <th>49</th>\n",
              "      <td>note_on</td>\n",
              "      <td>8</td>\n",
              "      <td>1314</td>\n",
              "      <td>1.190218</td>\n",
              "      <td>36.0</td>\n",
              "      <td>34.0</td>\n",
              "      <td>{'type': 'note_on', 'time': 8, 'note': 36, 'velocity': 34, 'channel': 9}</td>\n",
              "      <td>[1260, 1380)</td>\n",
              "      <td>1320</td>\n",
              "      <td>11</td>\n",
              "      <td>1320</td>\n",
              "      <td>-6</td>\n",
              "    </tr>\n",
              "    <tr>\n",
              "      <th>55</th>\n",
              "      <td>note_on</td>\n",
              "      <td>5</td>\n",
              "      <td>1465</td>\n",
              "      <td>1.326994</td>\n",
              "      <td>51.0</td>\n",
              "      <td>96.0</td>\n",
              "      <td>{'type': 'note_on', 'time': 5, 'note': 51, 'velocity': 96, 'channel': 9}</td>\n",
              "      <td>[1380, 1500)</td>\n",
              "      <td>1440</td>\n",
              "      <td>12</td>\n",
              "      <td>1440</td>\n",
              "      <td>25</td>\n",
              "    </tr>\n",
              "    <tr>\n",
              "      <th>56</th>\n",
              "      <td>note_on</td>\n",
              "      <td>3</td>\n",
              "      <td>1468</td>\n",
              "      <td>1.329711</td>\n",
              "      <td>38.0</td>\n",
              "      <td>103.0</td>\n",
              "      <td>{'type': 'note_on', 'time': 3, 'note': 40, 'velocity': 103, 'channel': 9}</td>\n",
              "      <td>[1380, 1500)</td>\n",
              "      <td>1440</td>\n",
              "      <td>12</td>\n",
              "      <td>1440</td>\n",
              "      <td>28</td>\n",
              "    </tr>\n",
              "    <tr>\n",
              "      <th>61</th>\n",
              "      <td>note_on</td>\n",
              "      <td>122</td>\n",
              "      <td>1702</td>\n",
              "      <td>1.541668</td>\n",
              "      <td>51.0</td>\n",
              "      <td>38.0</td>\n",
              "      <td>{'type': 'note_on', 'time': 122, 'note': 51, 'velocity': 38, 'channel': 9}</td>\n",
              "      <td>[1620, 1740)</td>\n",
              "      <td>1680</td>\n",
              "      <td>14</td>\n",
              "      <td>1680</td>\n",
              "      <td>22</td>\n",
              "    </tr>\n",
              "    <tr>\n",
              "      <th>63</th>\n",
              "      <td>note_on</td>\n",
              "      <td>30</td>\n",
              "      <td>1808</td>\n",
              "      <td>1.637683</td>\n",
              "      <td>38.0</td>\n",
              "      <td>56.0</td>\n",
              "      <td>{'type': 'note_on', 'time': 30, 'note': 38, 'velocity': 56, 'channel': 9}</td>\n",
              "      <td>[1740, 1860)</td>\n",
              "      <td>1800</td>\n",
              "      <td>15</td>\n",
              "      <td>1800</td>\n",
              "      <td>8</td>\n",
              "    </tr>\n",
              "    <tr>\n",
              "      <th>67</th>\n",
              "      <td>note_on</td>\n",
              "      <td>16</td>\n",
              "      <td>1935</td>\n",
              "      <td>1.752719</td>\n",
              "      <td>51.0</td>\n",
              "      <td>67.0</td>\n",
              "      <td>{'type': 'note_on', 'time': 16, 'note': 51, 'velocity': 67, 'channel': 9}</td>\n",
              "      <td>[1860, 1980)</td>\n",
              "      <td>1920</td>\n",
              "      <td>16</td>\n",
              "      <td>1920</td>\n",
              "      <td>15</td>\n",
              "    </tr>\n",
              "    <tr>\n",
              "      <th>68</th>\n",
              "      <td>note_on</td>\n",
              "      <td>3</td>\n",
              "      <td>1938</td>\n",
              "      <td>1.755436</td>\n",
              "      <td>36.0</td>\n",
              "      <td>43.0</td>\n",
              "      <td>{'type': 'note_on', 'time': 3, 'note': 36, 'velocity': 43, 'channel': 9}</td>\n",
              "      <td>[1860, 1980)</td>\n",
              "      <td>1920</td>\n",
              "      <td>16</td>\n",
              "      <td>1920</td>\n",
              "      <td>18</td>\n",
              "    </tr>\n",
              "    <tr>\n",
              "      <th>74</th>\n",
              "      <td>note_on</td>\n",
              "      <td>2</td>\n",
              "      <td>2051</td>\n",
              "      <td>1.857792</td>\n",
              "      <td>38.0</td>\n",
              "      <td>40.0</td>\n",
              "      <td>{'type': 'note_on', 'time': 2, 'note': 38, 'velocity': 40, 'channel': 9}</td>\n",
              "      <td>[1980, 2100)</td>\n",
              "      <td>2040</td>\n",
              "      <td>17</td>\n",
              "      <td>2040</td>\n",
              "      <td>11</td>\n",
              "    </tr>\n",
              "    <tr>\n",
              "      <th>76</th>\n",
              "      <td>note_on</td>\n",
              "      <td>100</td>\n",
              "      <td>2156</td>\n",
              "      <td>1.952900</td>\n",
              "      <td>36.0</td>\n",
              "      <td>44.0</td>\n",
              "      <td>{'type': 'note_on', 'time': 100, 'note': 36, 'velocity': 44, 'channel': 9}</td>\n",
              "      <td>[2100, 2220)</td>\n",
              "      <td>2160</td>\n",
              "      <td>18</td>\n",
              "      <td>2160</td>\n",
              "      <td>-4</td>\n",
              "    </tr>\n",
              "    <tr>\n",
              "      <th>77</th>\n",
              "      <td>note_on</td>\n",
              "      <td>3</td>\n",
              "      <td>2159</td>\n",
              "      <td>1.955618</td>\n",
              "      <td>51.0</td>\n",
              "      <td>54.0</td>\n",
              "      <td>{'type': 'note_on', 'time': 3, 'note': 51, 'velocity': 54, 'channel': 9}</td>\n",
              "      <td>[2100, 2220)</td>\n",
              "      <td>2160</td>\n",
              "      <td>18</td>\n",
              "      <td>2160</td>\n",
              "      <td>-1</td>\n",
              "    </tr>\n",
              "    <tr>\n",
              "      <th>85</th>\n",
              "      <td>note_on</td>\n",
              "      <td>15</td>\n",
              "      <td>2407</td>\n",
              "      <td>2.180256</td>\n",
              "      <td>51.0</td>\n",
              "      <td>100.0</td>\n",
              "      <td>{'type': 'note_on', 'time': 15, 'note': 51, 'velocity': 100, 'channel': 9}</td>\n",
              "      <td>[2340, 2460)</td>\n",
              "      <td>2400</td>\n",
              "      <td>20</td>\n",
              "      <td>2400</td>\n",
              "      <td>7</td>\n",
              "    </tr>\n",
              "    <tr>\n",
              "      <th>86</th>\n",
              "      <td>note_on</td>\n",
              "      <td>10</td>\n",
              "      <td>2417</td>\n",
              "      <td>2.189314</td>\n",
              "      <td>38.0</td>\n",
              "      <td>127.0</td>\n",
              "      <td>{'type': 'note_on', 'time': 10, 'note': 40, 'velocity': 127, 'channel': 9}</td>\n",
              "      <td>[2340, 2460)</td>\n",
              "      <td>2400</td>\n",
              "      <td>20</td>\n",
              "      <td>2400</td>\n",
              "      <td>17</td>\n",
              "    </tr>\n",
              "    <tr>\n",
              "      <th>91</th>\n",
              "      <td>note_on</td>\n",
              "      <td>132</td>\n",
              "      <td>2661</td>\n",
              "      <td>2.410328</td>\n",
              "      <td>51.0</td>\n",
              "      <td>45.0</td>\n",
              "      <td>{'type': 'note_on', 'time': 132, 'note': 51, 'velocity': 45, 'channel': 9}</td>\n",
              "      <td>[2580, 2700)</td>\n",
              "      <td>2640</td>\n",
              "      <td>22</td>\n",
              "      <td>2640</td>\n",
              "      <td>21</td>\n",
              "    </tr>\n",
              "    <tr>\n",
              "      <th>94</th>\n",
              "      <td>note_on</td>\n",
              "      <td>13</td>\n",
              "      <td>2768</td>\n",
              "      <td>2.507249</td>\n",
              "      <td>38.0</td>\n",
              "      <td>45.0</td>\n",
              "      <td>{'type': 'note_on', 'time': 13, 'note': 38, 'velocity': 45, 'channel': 9}</td>\n",
              "      <td>[2700, 2820)</td>\n",
              "      <td>2760</td>\n",
              "      <td>23</td>\n",
              "      <td>2760</td>\n",
              "      <td>8</td>\n",
              "    </tr>\n",
              "    <tr>\n",
              "      <th>97</th>\n",
              "      <td>note_on</td>\n",
              "      <td>24</td>\n",
              "      <td>2902</td>\n",
              "      <td>2.628626</td>\n",
              "      <td>51.0</td>\n",
              "      <td>50.0</td>\n",
              "      <td>{'type': 'note_on', 'time': 24, 'note': 51, 'velocity': 50, 'channel': 9}</td>\n",
              "      <td>[2820, 2940)</td>\n",
              "      <td>2880</td>\n",
              "      <td>24</td>\n",
              "      <td>2880</td>\n",
              "      <td>22</td>\n",
              "    </tr>\n",
              "    <tr>\n",
              "      <th>104</th>\n",
              "      <td>note_on</td>\n",
              "      <td>4</td>\n",
              "      <td>3024</td>\n",
              "      <td>2.739133</td>\n",
              "      <td>38.0</td>\n",
              "      <td>52.0</td>\n",
              "      <td>{'type': 'note_on', 'time': 4, 'note': 38, 'velocity': 52, 'channel': 9}</td>\n",
              "      <td>[2940, 3060)</td>\n",
              "      <td>3000</td>\n",
              "      <td>25</td>\n",
              "      <td>3000</td>\n",
              "      <td>24</td>\n",
              "    </tr>\n",
              "    <tr>\n",
              "      <th>107</th>\n",
              "      <td>note_on</td>\n",
              "      <td>37</td>\n",
              "      <td>3111</td>\n",
              "      <td>2.817937</td>\n",
              "      <td>36.0</td>\n",
              "      <td>30.0</td>\n",
              "      <td>{'type': 'note_on', 'time': 37, 'note': 36, 'velocity': 30, 'channel': 9}</td>\n",
              "      <td>[3060, 3180)</td>\n",
              "      <td>3120</td>\n",
              "      <td>26</td>\n",
              "      <td>3120</td>\n",
              "      <td>-9</td>\n",
              "    </tr>\n",
              "    <tr>\n",
              "      <th>109</th>\n",
              "      <td>note_on</td>\n",
              "      <td>12</td>\n",
              "      <td>3148</td>\n",
              "      <td>2.851452</td>\n",
              "      <td>51.0</td>\n",
              "      <td>62.0</td>\n",
              "      <td>{'type': 'note_on', 'time': 12, 'note': 51, 'velocity': 62, 'channel': 9}</td>\n",
              "      <td>[3060, 3180)</td>\n",
              "      <td>3120</td>\n",
              "      <td>26</td>\n",
              "      <td>3120</td>\n",
              "      <td>28</td>\n",
              "    </tr>\n",
              "    <tr>\n",
              "      <th>112</th>\n",
              "      <td>note_on</td>\n",
              "      <td>14</td>\n",
              "      <td>3254</td>\n",
              "      <td>2.947466</td>\n",
              "      <td>36.0</td>\n",
              "      <td>43.0</td>\n",
              "      <td>{'type': 'note_on', 'time': 14, 'note': 36, 'velocity': 43, 'channel': 9}</td>\n",
              "      <td>[3180, 3300)</td>\n",
              "      <td>3240</td>\n",
              "      <td>27</td>\n",
              "      <td>3240</td>\n",
              "      <td>14</td>\n",
              "    </tr>\n",
              "    <tr>\n",
              "      <th>117</th>\n",
              "      <td>note_on</td>\n",
              "      <td>12</td>\n",
              "      <td>3377</td>\n",
              "      <td>3.058880</td>\n",
              "      <td>51.0</td>\n",
              "      <td>108.0</td>\n",
              "      <td>{'type': 'note_on', 'time': 12, 'note': 51, 'velocity': 108, 'channel': 9}</td>\n",
              "      <td>[3300, 3420)</td>\n",
              "      <td>3360</td>\n",
              "      <td>28</td>\n",
              "      <td>3360</td>\n",
              "      <td>17</td>\n",
              "    </tr>\n",
              "    <tr>\n",
              "      <th>118</th>\n",
              "      <td>note_on</td>\n",
              "      <td>4</td>\n",
              "      <td>3381</td>\n",
              "      <td>3.062503</td>\n",
              "      <td>38.0</td>\n",
              "      <td>113.0</td>\n",
              "      <td>{'type': 'note_on', 'time': 4, 'note': 40, 'velocity': 113, 'channel': 9}</td>\n",
              "      <td>[3300, 3420)</td>\n",
              "      <td>3360</td>\n",
              "      <td>28</td>\n",
              "      <td>3360</td>\n",
              "      <td>21</td>\n",
              "    </tr>\n",
              "    <tr>\n",
              "      <th>123</th>\n",
              "      <td>note_on</td>\n",
              "      <td>125</td>\n",
              "      <td>3617</td>\n",
              "      <td>3.276271</td>\n",
              "      <td>51.0</td>\n",
              "      <td>40.0</td>\n",
              "      <td>{'type': 'note_on', 'time': 125, 'note': 51, 'velocity': 40, 'channel': 9}</td>\n",
              "      <td>[3540, 3660)</td>\n",
              "      <td>3600</td>\n",
              "      <td>30</td>\n",
              "      <td>3600</td>\n",
              "      <td>17</td>\n",
              "    </tr>\n",
              "    <tr>\n",
              "      <th>125</th>\n",
              "      <td>note_on</td>\n",
              "      <td>29</td>\n",
              "      <td>3711</td>\n",
              "      <td>3.361416</td>\n",
              "      <td>38.0</td>\n",
              "      <td>38.0</td>\n",
              "      <td>{'type': 'note_on', 'time': 29, 'note': 38, 'velocity': 38, 'channel': 9}</td>\n",
              "      <td>[3660, 3780)</td>\n",
              "      <td>3720</td>\n",
              "      <td>31</td>\n",
              "      <td>3720</td>\n",
              "      <td>-9</td>\n",
              "    </tr>\n",
              "  </tbody>\n",
              "</table>\n",
              "</div>"
            ],
            "text/plain": [
              "    msg_type  delta_ticks  total_ticks  total_seconds  note  velocity  \\\n",
              "8    note_on            4            9       0.008152  36.0      39.0   \n",
              "9    note_on            6           15       0.013587  51.0      67.0   \n",
              "14   note_on          100          226       0.204710  36.0      41.0   \n",
              "15   note_on           32          258       0.233696  51.0      58.0   \n",
              "18   note_on            7          344       0.311594  36.0       6.0   \n",
              "24   note_on           17          495       0.448370  51.0     119.0   \n",
              "26   note_on            0          513       0.464674  38.0     106.0   \n",
              "30   note_on          122          746       0.675725  51.0      45.0   \n",
              "34   note_on            6          863       0.781704  38.0      50.0   \n",
              "38   note_on            5          996       0.902175  51.0      53.0   \n",
              "43   note_on            8         1116       1.010870  38.0      55.0   \n",
              "45   note_on           40         1195       1.082429  36.0      15.0   \n",
              "47   note_on            8         1236       1.119566  51.0      59.0   \n",
              "49   note_on            8         1314       1.190218  36.0      34.0   \n",
              "55   note_on            5         1465       1.326994  51.0      96.0   \n",
              "56   note_on            3         1468       1.329711  38.0     103.0   \n",
              "61   note_on          122         1702       1.541668  51.0      38.0   \n",
              "63   note_on           30         1808       1.637683  38.0      56.0   \n",
              "67   note_on           16         1935       1.752719  51.0      67.0   \n",
              "68   note_on            3         1938       1.755436  36.0      43.0   \n",
              "74   note_on            2         2051       1.857792  38.0      40.0   \n",
              "76   note_on          100         2156       1.952900  36.0      44.0   \n",
              "77   note_on            3         2159       1.955618  51.0      54.0   \n",
              "85   note_on           15         2407       2.180256  51.0     100.0   \n",
              "86   note_on           10         2417       2.189314  38.0     127.0   \n",
              "91   note_on          132         2661       2.410328  51.0      45.0   \n",
              "94   note_on           13         2768       2.507249  38.0      45.0   \n",
              "97   note_on           24         2902       2.628626  51.0      50.0   \n",
              "104  note_on            4         3024       2.739133  38.0      52.0   \n",
              "107  note_on           37         3111       2.817937  36.0      30.0   \n",
              "109  note_on           12         3148       2.851452  51.0      62.0   \n",
              "112  note_on           14         3254       2.947466  36.0      43.0   \n",
              "117  note_on           12         3377       3.058880  51.0     108.0   \n",
              "118  note_on            4         3381       3.062503  38.0     113.0   \n",
              "123  note_on          125         3617       3.276271  51.0      40.0   \n",
              "125  note_on           29         3711       3.361416  38.0      38.0   \n",
              "\n",
              "                                                                       raw_data  \\\n",
              "8      {'type': 'note_on', 'time': 4, 'note': 36, 'velocity': 39, 'channel': 9}   \n",
              "9      {'type': 'note_on', 'time': 6, 'note': 51, 'velocity': 67, 'channel': 9}   \n",
              "14   {'type': 'note_on', 'time': 100, 'note': 36, 'velocity': 41, 'channel': 9}   \n",
              "15    {'type': 'note_on', 'time': 32, 'note': 51, 'velocity': 58, 'channel': 9}   \n",
              "18      {'type': 'note_on', 'time': 7, 'note': 36, 'velocity': 6, 'channel': 9}   \n",
              "24   {'type': 'note_on', 'time': 17, 'note': 51, 'velocity': 119, 'channel': 9}   \n",
              "26    {'type': 'note_on', 'time': 0, 'note': 40, 'velocity': 106, 'channel': 9}   \n",
              "30   {'type': 'note_on', 'time': 122, 'note': 51, 'velocity': 45, 'channel': 9}   \n",
              "34     {'type': 'note_on', 'time': 6, 'note': 38, 'velocity': 50, 'channel': 9}   \n",
              "38     {'type': 'note_on', 'time': 5, 'note': 51, 'velocity': 53, 'channel': 9}   \n",
              "43     {'type': 'note_on', 'time': 8, 'note': 38, 'velocity': 55, 'channel': 9}   \n",
              "45    {'type': 'note_on', 'time': 40, 'note': 36, 'velocity': 15, 'channel': 9}   \n",
              "47     {'type': 'note_on', 'time': 8, 'note': 51, 'velocity': 59, 'channel': 9}   \n",
              "49     {'type': 'note_on', 'time': 8, 'note': 36, 'velocity': 34, 'channel': 9}   \n",
              "55     {'type': 'note_on', 'time': 5, 'note': 51, 'velocity': 96, 'channel': 9}   \n",
              "56    {'type': 'note_on', 'time': 3, 'note': 40, 'velocity': 103, 'channel': 9}   \n",
              "61   {'type': 'note_on', 'time': 122, 'note': 51, 'velocity': 38, 'channel': 9}   \n",
              "63    {'type': 'note_on', 'time': 30, 'note': 38, 'velocity': 56, 'channel': 9}   \n",
              "67    {'type': 'note_on', 'time': 16, 'note': 51, 'velocity': 67, 'channel': 9}   \n",
              "68     {'type': 'note_on', 'time': 3, 'note': 36, 'velocity': 43, 'channel': 9}   \n",
              "74     {'type': 'note_on', 'time': 2, 'note': 38, 'velocity': 40, 'channel': 9}   \n",
              "76   {'type': 'note_on', 'time': 100, 'note': 36, 'velocity': 44, 'channel': 9}   \n",
              "77     {'type': 'note_on', 'time': 3, 'note': 51, 'velocity': 54, 'channel': 9}   \n",
              "85   {'type': 'note_on', 'time': 15, 'note': 51, 'velocity': 100, 'channel': 9}   \n",
              "86   {'type': 'note_on', 'time': 10, 'note': 40, 'velocity': 127, 'channel': 9}   \n",
              "91   {'type': 'note_on', 'time': 132, 'note': 51, 'velocity': 45, 'channel': 9}   \n",
              "94    {'type': 'note_on', 'time': 13, 'note': 38, 'velocity': 45, 'channel': 9}   \n",
              "97    {'type': 'note_on', 'time': 24, 'note': 51, 'velocity': 50, 'channel': 9}   \n",
              "104    {'type': 'note_on', 'time': 4, 'note': 38, 'velocity': 52, 'channel': 9}   \n",
              "107   {'type': 'note_on', 'time': 37, 'note': 36, 'velocity': 30, 'channel': 9}   \n",
              "109   {'type': 'note_on', 'time': 12, 'note': 51, 'velocity': 62, 'channel': 9}   \n",
              "112   {'type': 'note_on', 'time': 14, 'note': 36, 'velocity': 43, 'channel': 9}   \n",
              "117  {'type': 'note_on', 'time': 12, 'note': 51, 'velocity': 108, 'channel': 9}   \n",
              "118   {'type': 'note_on', 'time': 4, 'note': 40, 'velocity': 113, 'channel': 9}   \n",
              "123  {'type': 'note_on', 'time': 125, 'note': 51, 'velocity': 40, 'channel': 9}   \n",
              "125   {'type': 'note_on', 'time': 29, 'note': 38, 'velocity': 38, 'channel': 9}   \n",
              "\n",
              "          bin_cat beat_cat  code  beat_int  beat_offset  \n",
              "8       [-60, 60)        0     0         0            9  \n",
              "9       [-60, 60)        0     0         0           15  \n",
              "14     [180, 300)      240     2       240          -14  \n",
              "15     [180, 300)      240     2       240           18  \n",
              "18     [300, 420)      360     3       360          -16  \n",
              "24     [420, 540)      480     4       480           15  \n",
              "26     [420, 540)      480     4       480           33  \n",
              "30     [660, 780)      720     6       720           26  \n",
              "34     [780, 900)      840     7       840           23  \n",
              "38    [900, 1020)      960     8       960           36  \n",
              "43   [1020, 1140)     1080     9      1080           36  \n",
              "45   [1140, 1260)     1200    10      1200           -5  \n",
              "47   [1140, 1260)     1200    10      1200           36  \n",
              "49   [1260, 1380)     1320    11      1320           -6  \n",
              "55   [1380, 1500)     1440    12      1440           25  \n",
              "56   [1380, 1500)     1440    12      1440           28  \n",
              "61   [1620, 1740)     1680    14      1680           22  \n",
              "63   [1740, 1860)     1800    15      1800            8  \n",
              "67   [1860, 1980)     1920    16      1920           15  \n",
              "68   [1860, 1980)     1920    16      1920           18  \n",
              "74   [1980, 2100)     2040    17      2040           11  \n",
              "76   [2100, 2220)     2160    18      2160           -4  \n",
              "77   [2100, 2220)     2160    18      2160           -1  \n",
              "85   [2340, 2460)     2400    20      2400            7  \n",
              "86   [2340, 2460)     2400    20      2400           17  \n",
              "91   [2580, 2700)     2640    22      2640           21  \n",
              "94   [2700, 2820)     2760    23      2760            8  \n",
              "97   [2820, 2940)     2880    24      2880           22  \n",
              "104  [2940, 3060)     3000    25      3000           24  \n",
              "107  [3060, 3180)     3120    26      3120           -9  \n",
              "109  [3060, 3180)     3120    26      3120           28  \n",
              "112  [3180, 3300)     3240    27      3240           14  \n",
              "117  [3300, 3420)     3360    28      3360           17  \n",
              "118  [3300, 3420)     3360    28      3360           21  \n",
              "123  [3540, 3660)     3600    30      3600           17  \n",
              "125  [3660, 3780)     3720    31      3720           -9  "
            ]
          },
          "metadata": {
            "tags": []
          },
          "execution_count": 35
        },
        {
          "output_type": "stream",
          "text": [
            "number instrument hits found: 36\n"
          ],
          "name": "stdout"
        },
        {
          "output_type": "execute_result",
          "data": {
            "text/plain": [
              "array([36., 51., 38.])"
            ]
          },
          "metadata": {
            "tags": []
          },
          "execution_count": 35
        }
      ]
    },
    {
      "cell_type": "markdown",
      "metadata": {
        "id": "G0bnhfu17oxh",
        "colab_type": "text"
      },
      "source": [
        "Need to extract value of one column based on value of another, details here:\n",
        "* https://stackoverflow.com/a/36685531"
      ]
    },
    {
      "cell_type": "code",
      "metadata": {
        "id": "ShUeCkbw3TwC",
        "colab_type": "code",
        "outputId": "033ac10a-1c85-457c-c0f5-86199050072d",
        "colab": {
          "base_uri": "https://localhost:8080/",
          "height": 88
        }
      },
      "source": [
        "\n",
        "def get_hit_times_tuple():\n",
        "  \n",
        "  hh = [] # hi hats\n",
        "  for t in kic_sn_hats_df.loc[kic_sn_hats_df[midi_file.note_col] == 51, midi_file.cum_ticks_col]:\n",
        "    hh.append((t, 10))\n",
        "  print('hat times: {}'.format(hh))\n",
        "\n",
        "  sn = [] # snare drum\n",
        "  for t in kic_sn_hats_df.loc[kic_sn_hats_df[midi_file.note_col] == 38, midi_file.cum_ticks_col]:\n",
        "    sn.append((t, 10))\n",
        "  print('snare times: {}'.format(sn))\n",
        "\n",
        "  k = [] # kick/ bass drum\n",
        "  for t in kic_sn_hats_df.loc[kic_sn_hats_df[midi_file.note_col] == 36, midi_file.cum_ticks_col]:\n",
        "    k.append((t, 10))\n",
        "  print('kick times: {}'.format(k))\n",
        "\n",
        "  return hh, k, sn\n",
        "\n",
        "hats, kicks, snares = get_hit_times_tuple()  \n",
        "\n"
      ],
      "execution_count": 36,
      "outputs": [
        {
          "output_type": "stream",
          "text": [
            "hat times: [(15, 10), (258, 10), (495, 10), (746, 10), (996, 10), (1236, 10), (1465, 10), (1702, 10), (1935, 10), (2159, 10), (2407, 10), (2661, 10), (2902, 10), (3148, 10), (3377, 10), (3617, 10)]\n",
            "snare times: [(513, 10), (863, 10), (1116, 10), (1468, 10), (1808, 10), (2051, 10), (2417, 10), (2768, 10), (3024, 10), (3381, 10), (3711, 10)]\n",
            "kick times: [(9, 10), (226, 10), (344, 10), (1195, 10), (1314, 10), (1938, 10), (2156, 10), (3111, 10), (3254, 10)]\n"
          ],
          "name": "stdout"
        }
      ]
    },
    {
      "cell_type": "code",
      "metadata": {
        "id": "c2MAxc-SxKZX",
        "colab_type": "code",
        "colab": {}
      },
      "source": [
        "import matplotlib\n",
        "import matplotlib.pyplot as plt\n",
        "import numpy as np\n",
        "\n"
      ],
      "execution_count": 0,
      "outputs": []
    },
    {
      "cell_type": "code",
      "metadata": {
        "id": "jvyP2K9euyZe",
        "colab_type": "code",
        "outputId": "ee5c3aa9-2fcd-4af1-81ec-67eb517c2c0a",
        "colab": {
          "base_uri": "https://localhost:8080/",
          "height": 856
        }
      },
      "source": [
        "fig, ax = plt.subplots()\n",
        "fig.set_size_inches(24, 4, forward=True)\n",
        "\n",
        "ax.broken_barh(hats, (30, 9), facecolors='tab:green')\n",
        "\n",
        "# do snares\n",
        "ax.broken_barh(snares, (20, 9), facecolors='tab:blue')\n",
        "\n",
        "# do kicks\n",
        "ax.broken_barh(kicks, (10, 9), \n",
        "               facecolors='tab:red')\n",
        "\n",
        "\n",
        "ax.set_ylim(5, 45)\n",
        "ax.set_xlim(0, ticks_to_render) \n",
        "ax.set_xlabel('ticks since start')\n",
        "ax.set_yticks([15, 25, 35])\n",
        "ax.set_yticklabels(['Kick', 'Snare', 'Hats'])\n",
        "ax.set_xticks(range(0, int(ticks_to_render), int(ticks_per_16)))\n",
        "ax.grid(True)\n",
        "\n",
        "plt.show()"
      ],
      "execution_count": 38,
      "outputs": [
        {
          "output_type": "execute_result",
          "data": {
            "text/plain": [
              "<matplotlib.collections.BrokenBarHCollection at 0x7fbcd9421550>"
            ]
          },
          "metadata": {
            "tags": []
          },
          "execution_count": 38
        },
        {
          "output_type": "execute_result",
          "data": {
            "text/plain": [
              "<matplotlib.collections.BrokenBarHCollection at 0x7fbcd94beeb8>"
            ]
          },
          "metadata": {
            "tags": []
          },
          "execution_count": 38
        },
        {
          "output_type": "execute_result",
          "data": {
            "text/plain": [
              "<matplotlib.collections.BrokenBarHCollection at 0x7fbcd94bebe0>"
            ]
          },
          "metadata": {
            "tags": []
          },
          "execution_count": 38
        },
        {
          "output_type": "execute_result",
          "data": {
            "text/plain": [
              "(5.0, 45.0)"
            ]
          },
          "metadata": {
            "tags": []
          },
          "execution_count": 38
        },
        {
          "output_type": "execute_result",
          "data": {
            "text/plain": [
              "(0.0, 3840.0)"
            ]
          },
          "metadata": {
            "tags": []
          },
          "execution_count": 38
        },
        {
          "output_type": "execute_result",
          "data": {
            "text/plain": [
              "Text(0.5, 0, 'ticks since start')"
            ]
          },
          "metadata": {
            "tags": []
          },
          "execution_count": 38
        },
        {
          "output_type": "execute_result",
          "data": {
            "text/plain": [
              "[<matplotlib.axis.YTick at 0x7fbcd9400048>,\n",
              " <matplotlib.axis.YTick at 0x7fbcd946f9e8>,\n",
              " <matplotlib.axis.YTick at 0x7fbcd9460dd8>]"
            ]
          },
          "metadata": {
            "tags": []
          },
          "execution_count": 38
        },
        {
          "output_type": "execute_result",
          "data": {
            "text/plain": [
              "[Text(0, 0, 'Kick'), Text(0, 0, 'Snare'), Text(0, 0, 'Hats')]"
            ]
          },
          "metadata": {
            "tags": []
          },
          "execution_count": 38
        },
        {
          "output_type": "execute_result",
          "data": {
            "text/plain": [
              "[<matplotlib.axis.XTick at 0x7fbcd946f3c8>,\n",
              " <matplotlib.axis.XTick at 0x7fbcd946f390>,\n",
              " <matplotlib.axis.XTick at 0x7fbcd9460f98>,\n",
              " <matplotlib.axis.XTick at 0x7fbcd9439dd8>,\n",
              " <matplotlib.axis.XTick at 0x7fbcd6bc92b0>,\n",
              " <matplotlib.axis.XTick at 0x7fbcd6bc9748>,\n",
              " <matplotlib.axis.XTick at 0x7fbcd6bc9be0>,\n",
              " <matplotlib.axis.XTick at 0x7fbcd94399e8>,\n",
              " <matplotlib.axis.XTick at 0x7fbcd6bc9278>,\n",
              " <matplotlib.axis.XTick at 0x7fbcd6bce358>,\n",
              " <matplotlib.axis.XTick at 0x7fbcd6bce7f0>,\n",
              " <matplotlib.axis.XTick at 0x7fbcd6bcec88>,\n",
              " <matplotlib.axis.XTick at 0x7fbcd6bd7198>,\n",
              " <matplotlib.axis.XTick at 0x7fbcd6bd75f8>,\n",
              " <matplotlib.axis.XTick at 0x7fbcd6bd7a90>,\n",
              " <matplotlib.axis.XTick at 0x7fbcd6bd7f28>,\n",
              " <matplotlib.axis.XTick at 0x7fbcd6bdf400>,\n",
              " <matplotlib.axis.XTick at 0x7fbcd6bd79e8>,\n",
              " <matplotlib.axis.XTick at 0x7fbcd6bce7b8>,\n",
              " <matplotlib.axis.XTick at 0x7fbcd6bdf550>,\n",
              " <matplotlib.axis.XTick at 0x7fbcd6bdf9b0>,\n",
              " <matplotlib.axis.XTick at 0x7fbcd6bdfe48>,\n",
              " <matplotlib.axis.XTick at 0x7fbcd6be7320>,\n",
              " <matplotlib.axis.XTick at 0x7fbcd6be77b8>,\n",
              " <matplotlib.axis.XTick at 0x7fbcd6be7c50>,\n",
              " <matplotlib.axis.XTick at 0x7fbcd6bef160>,\n",
              " <matplotlib.axis.XTick at 0x7fbcd6bef5c0>,\n",
              " <matplotlib.axis.XTick at 0x7fbcd6be7f60>,\n",
              " <matplotlib.axis.XTick at 0x7fbcd6bce748>,\n",
              " <matplotlib.axis.XTick at 0x7fbcd6bdf630>,\n",
              " <matplotlib.axis.XTick at 0x7fbcd6befa90>,\n",
              " <matplotlib.axis.XTick at 0x7fbcd6beff60>]"
            ]
          },
          "metadata": {
            "tags": []
          },
          "execution_count": 38
        },
        {
          "output_type": "display_data",
          "data": {
            "image/png": "[encoded data removed]",
            "text/plain": [
              "<Figure size 1728x288 with 1 Axes>"
            ]
          },
          "metadata": {
            "tags": [],
            "needs_background": "light"
          }
        }
      ]
    },
    {
      "cell_type": "markdown",
      "metadata": {
        "id": "ozF_4rVEwq1C",
        "colab_type": "text"
      },
      "source": [
        "## Line plots"
      ]
    },
    {
      "cell_type": "code",
      "metadata": {
        "id": "dgFzDx5WxQdF",
        "colab_type": "code",
        "colab": {
          "base_uri": "https://localhost:8080/",
          "height": 346
        },
        "outputId": "5a564936-d26c-41ef-f970-a7b1e2c0a6ef"
      },
      "source": [
        "# testing, using this example..\n",
        "# https://matplotlib.org/3.1.3/gallery/lines_bars_and_markers/simple_plot.html\n",
        "\n",
        "# Data for plotting\n",
        "t = np.arange(0.0, 2.0, 0.01)\n",
        "s = 1 + np.sin(2 * np.pi * t)\n",
        "\n",
        "fig, ax = plt.subplots()\n",
        "ax.plot(t, s)\n",
        "\n",
        "ax.set(xlabel='time (s)', ylabel='voltage (mV)',\n",
        "       title='About as simple as it gets, folks')\n",
        "ax.grid()\n",
        "\n",
        "fig.savefig(\"test.png\")\n",
        "plt.show()"
      ],
      "execution_count": 39,
      "outputs": [
        {
          "output_type": "execute_result",
          "data": {
            "text/plain": [
              "[<matplotlib.lines.Line2D at 0x7fbcd66b8fd0>]"
            ]
          },
          "metadata": {
            "tags": []
          },
          "execution_count": 39
        },
        {
          "output_type": "execute_result",
          "data": {
            "text/plain": [
              "[Text(0, 0.5, 'voltage (mV)'),\n",
              " Text(0.5, 0, 'time (s)'),\n",
              " Text(0.5, 1.0, 'About as simple as it gets, folks')]"
            ]
          },
          "metadata": {
            "tags": []
          },
          "execution_count": 39
        },
        {
          "output_type": "display_data",
          "data": {
            "image/png": "[encoded data removed]",
            "text/plain": [
              "<Figure size 432x288 with 1 Axes>"
            ]
          },
          "metadata": {
            "tags": [],
            "needs_background": "light"
          }
        }
      ]
    },
    {
      "cell_type": "markdown",
      "metadata": {
        "id": "dyfUwQqfz38X",
        "colab_type": "text"
      },
      "source": [
        "## Line plots for MIDI performance"
      ]
    },
    {
      "cell_type": "markdown",
      "metadata": {
        "id": "PU4SD-hFz98E",
        "colab_type": "text"
      },
      "source": [
        "The column containing the information we need to use is ...\n",
        "* df['beat_offset']\n",
        "\n",
        "Filter for each of kick, snare, hats and plot 3 different coloured lines"
      ]
    },
    {
      "cell_type": "code",
      "metadata": {
        "id": "amxGCMo-y11x",
        "colab_type": "code",
        "colab": {
          "base_uri": "https://localhost:8080/",
          "height": 119
        },
        "outputId": "55fd001e-6613-4828-e5ea-c3358c1f28e3"
      },
      "source": [
        "\n",
        "def get_hit_times_array():\n",
        "  \n",
        "  hh = [] # hi hats\n",
        "  for t in kic_sn_hats_df.loc[kic_sn_hats_df[midi_file.note_col] == 51, midi_file.cum_ticks_col]:\n",
        "    hh.append(t)\n",
        "  print('hat times: {} - {}'.format(len(hh), hh))\n",
        "\n",
        "  sn = [] # snare drum\n",
        "  for t in kic_sn_hats_df.loc[kic_sn_hats_df[midi_file.note_col] == 38, midi_file.cum_ticks_col]:\n",
        "    sn.append(t)\n",
        "  print('snare times: {} - {}'.format(len(sn), sn))\n",
        "\n",
        "  k = [] # kick/ bass drum\n",
        "  for t in kic_sn_hats_df.loc[kic_sn_hats_df[midi_file.note_col] == 36, midi_file.cum_ticks_col]:\n",
        "    k.append(t)\n",
        "  print('kick times: {} - {}'.format(len(k), k))\n",
        "\n",
        "  return np.array(hh), np.array(k), np.array(sn)\n",
        "\n",
        "def get_offset_times_array():\n",
        "  hats = [] # hi-hats\n",
        "  for t in kic_sn_hats_df.loc[kic_sn_hats_df[midi_file.note_col] == 51, 'beat_offset']:\n",
        "    hats.append(t)\n",
        "  print('hat offsets: {} - {}'.format(len(hats), hats))\n",
        "\n",
        "  snares = [] # snare offsets\n",
        "  for t in kic_sn_hats_df.loc[kic_sn_hats_df[midi_file.note_col] == 38, 'beat_offset']:\n",
        "    snares.append(t)\n",
        "  print('snare offset: {} - {}'.format(len(snares), snares))\n",
        "\n",
        "  kicks = [] # kick offsets\n",
        "  for t in kic_sn_hats_df.loc[kic_sn_hats_df[midi_file.note_col] == 36, 'beat_offset']:\n",
        "    kicks.append(t)\n",
        "  print('kick offset: {} - {}'.format(len(kicks), kicks))\n",
        "\n",
        "  return np.array(hats), np.array(kicks), np.array(snares)\n",
        "\n",
        "# gather times of notes strikes of performance\n",
        "hh_hits, kick_hits, sn_hits = get_hit_times_array()  \n",
        "\n",
        "# gather list of strike offsets, i.e. how far the strikes were ahead/ behind the beat\n",
        "hh_offsets, kick_offsets, sn_offsets = get_offset_times_array()\n",
        "\n"
      ],
      "execution_count": 40,
      "outputs": [
        {
          "output_type": "stream",
          "text": [
            "hat times: 16 - [15, 258, 495, 746, 996, 1236, 1465, 1702, 1935, 2159, 2407, 2661, 2902, 3148, 3377, 3617]\n",
            "snare times: 11 - [513, 863, 1116, 1468, 1808, 2051, 2417, 2768, 3024, 3381, 3711]\n",
            "kick times: 9 - [9, 226, 344, 1195, 1314, 1938, 2156, 3111, 3254]\n",
            "hat offsets: 16 - [15, 18, 15, 26, 36, 36, 25, 22, 15, -1, 7, 21, 22, 28, 17, 17]\n",
            "snare offset: 11 - [33, 23, 36, 28, 8, 11, 17, 8, 24, 21, -9]\n",
            "kick offset: 9 - [9, -14, -16, -5, -6, 18, -4, -9, 14]\n"
          ],
          "name": "stdout"
        }
      ]
    },
    {
      "cell_type": "code",
      "metadata": {
        "id": "vr4IC8cmFI6P",
        "colab_type": "code",
        "colab": {
          "base_uri": "https://localhost:8080/",
          "height": 34
        },
        "outputId": "0869043b-fc03-46f1-cfc3-6d49a6c627b7"
      },
      "source": [
        "kick_hits.shape\n",
        "kick_hits"
      ],
      "execution_count": 41,
      "outputs": [
        {
          "output_type": "execute_result",
          "data": {
            "text/plain": [
              "(9,)"
            ]
          },
          "metadata": {
            "tags": []
          },
          "execution_count": 41
        },
        {
          "output_type": "execute_result",
          "data": {
            "text/plain": [
              "array([   9,  226,  344, 1195, 1314, 1938, 2156, 3111, 3254])"
            ]
          },
          "metadata": {
            "tags": []
          },
          "execution_count": 41
        }
      ]
    },
    {
      "cell_type": "code",
      "metadata": {
        "id": "j0AVA1CfGX8E",
        "colab_type": "code",
        "colab": {
          "base_uri": "https://localhost:8080/",
          "height": 34
        },
        "outputId": "f95bedc0-3f16-43f0-b0b6-b2804b2a79b4"
      },
      "source": [
        "kick_offsets.shape\n",
        "kick_offsets"
      ],
      "execution_count": 42,
      "outputs": [
        {
          "output_type": "execute_result",
          "data": {
            "text/plain": [
              "(9,)"
            ]
          },
          "metadata": {
            "tags": []
          },
          "execution_count": 42
        },
        {
          "output_type": "execute_result",
          "data": {
            "text/plain": [
              "array([  9, -14, -16,  -5,  -6,  18,  -4,  -9,  14])"
            ]
          },
          "metadata": {
            "tags": []
          },
          "execution_count": 42
        }
      ]
    },
    {
      "cell_type": "code",
      "metadata": {
        "id": "5hPE72Ya6e6u",
        "colab_type": "code",
        "colab": {
          "base_uri": "https://localhost:8080/",
          "height": 71
        },
        "outputId": "99c186c1-334b-4111-e9f8-d299e2d321ef"
      },
      "source": [
        "x_ticks = [*range(0, int(ticks_to_render), int(ticks_per_16))]\n",
        "print(x_ticks)\n",
        "len(x_ticks)"
      ],
      "execution_count": 43,
      "outputs": [
        {
          "output_type": "stream",
          "text": [
            "[0, 120, 240, 360, 480, 600, 720, 840, 960, 1080, 1200, 1320, 1440, 1560, 1680, 1800, 1920, 2040, 2160, 2280, 2400, 2520, 2640, 2760, 2880, 3000, 3120, 3240, 3360, 3480, 3600, 3720]\n"
          ],
          "name": "stdout"
        },
        {
          "output_type": "execute_result",
          "data": {
            "text/plain": [
              "32"
            ]
          },
          "metadata": {
            "tags": []
          },
          "execution_count": 43
        }
      ]
    },
    {
      "cell_type": "code",
      "metadata": {
        "id": "4w25DOMyFBwS",
        "colab_type": "code",
        "colab": {}
      },
      "source": [
        ""
      ],
      "execution_count": 0,
      "outputs": []
    },
    {
      "cell_type": "code",
      "metadata": {
        "id": "h_T3Ro9rBVf6",
        "colab_type": "code",
        "colab": {
          "base_uri": "https://localhost:8080/",
          "height": 607
        },
        "outputId": "12c12817-b677-4e6a-9cf0-88e458a9378b"
      },
      "source": [
        "fig, ax = plt.subplots()\n",
        "\n",
        "fig.set_size_inches(24, 6, forward=True)\n",
        "\n",
        "ax.plot(hh_hits, hh_offsets, '-o', ms= 10, label='hats offsets')\n",
        "ax.plot(kick_hits, kick_offsets, '-o', ms= 10, label='kick offsets')\n",
        "ax.plot(sn_hits, sn_offsets, '-o', ms= 10,label='snare offsets')\n",
        "\n",
        "\n",
        "\n",
        "ax.set(xlabel='time (ticks)', ylabel='offset (ticks)',\n",
        "       title='kick, sn, hats timing offset data')\n",
        "\n",
        "#Add horizontal and vertical lines\n",
        "plt.axhline(0, color='black', linestyle='dotted', linewidth=4)  #horizontal line\n",
        "\n",
        "for xc in x_ticks:\n",
        "  plt.axvline(x=xc, color='black', linestyle='dotted')\n",
        "\n",
        "ax.grid(axis='y')\n",
        "ax.legend()\n",
        "\n",
        "#fig.savefig(\"test.png\")\n",
        "plt.show()"
      ],
      "execution_count": 44,
      "outputs": [
        {
          "output_type": "execute_result",
          "data": {
            "text/plain": [
              "[<matplotlib.lines.Line2D at 0x7fbcd66939b0>]"
            ]
          },
          "metadata": {
            "tags": []
          },
          "execution_count": 44
        },
        {
          "output_type": "execute_result",
          "data": {
            "text/plain": [
              "[<matplotlib.lines.Line2D at 0x7fbcd6693940>]"
            ]
          },
          "metadata": {
            "tags": []
          },
          "execution_count": 44
        },
        {
          "output_type": "execute_result",
          "data": {
            "text/plain": [
              "[<matplotlib.lines.Line2D at 0x7fbcd6642d68>]"
            ]
          },
          "metadata": {
            "tags": []
          },
          "execution_count": 44
        },
        {
          "output_type": "execute_result",
          "data": {
            "text/plain": [
              "[Text(0, 0.5, 'offset (ticks)'),\n",
              " Text(0.5, 0, 'time (ticks)'),\n",
              " Text(0.5, 1.0, 'kick, sn, hats timing offset data')]"
            ]
          },
          "metadata": {
            "tags": []
          },
          "execution_count": 44
        },
        {
          "output_type": "execute_result",
          "data": {
            "text/plain": [
              "<matplotlib.lines.Line2D at 0x7fbcd66ad588>"
            ]
          },
          "metadata": {
            "tags": []
          },
          "execution_count": 44
        },
        {
          "output_type": "execute_result",
          "data": {
            "text/plain": [
              "<matplotlib.lines.Line2D at 0x7fbcd66a46a0>"
            ]
          },
          "metadata": {
            "tags": []
          },
          "execution_count": 44
        },
        {
          "output_type": "execute_result",
          "data": {
            "text/plain": [
              "<matplotlib.lines.Line2D at 0x7fbcd66a4080>"
            ]
          },
          "metadata": {
            "tags": []
          },
          "execution_count": 44
        },
        {
          "output_type": "execute_result",
          "data": {
            "text/plain": [
              "<matplotlib.lines.Line2D at 0x7fbcd6652630>"
            ]
          },
          "metadata": {
            "tags": []
          },
          "execution_count": 44
        },
        {
          "output_type": "execute_result",
          "data": {
            "text/plain": [
              "<matplotlib.lines.Line2D at 0x7fbcd6652ac8>"
            ]
          },
          "metadata": {
            "tags": []
          },
          "execution_count": 44
        },
        {
          "output_type": "execute_result",
          "data": {
            "text/plain": [
              "<matplotlib.lines.Line2D at 0x7fbcd6652f28>"
            ]
          },
          "metadata": {
            "tags": []
          },
          "execution_count": 44
        },
        {
          "output_type": "execute_result",
          "data": {
            "text/plain": [
              "<matplotlib.lines.Line2D at 0x7fbcd666a3c8>"
            ]
          },
          "metadata": {
            "tags": []
          },
          "execution_count": 44
        },
        {
          "output_type": "execute_result",
          "data": {
            "text/plain": [
              "<matplotlib.lines.Line2D at 0x7fbcd666a828>"
            ]
          },
          "metadata": {
            "tags": []
          },
          "execution_count": 44
        },
        {
          "output_type": "execute_result",
          "data": {
            "text/plain": [
              "<matplotlib.lines.Line2D at 0x7fbcd666ac88>"
            ]
          },
          "metadata": {
            "tags": []
          },
          "execution_count": 44
        },
        {
          "output_type": "execute_result",
          "data": {
            "text/plain": [
              "<matplotlib.lines.Line2D at 0x7fbcd666af98>"
            ]
          },
          "metadata": {
            "tags": []
          },
          "execution_count": 44
        },
        {
          "output_type": "execute_result",
          "data": {
            "text/plain": [
              "<matplotlib.lines.Line2D at 0x7fbcd666b588>"
            ]
          },
          "metadata": {
            "tags": []
          },
          "execution_count": 44
        },
        {
          "output_type": "execute_result",
          "data": {
            "text/plain": [
              "<matplotlib.lines.Line2D at 0x7fbcd666b9b0>"
            ]
          },
          "metadata": {
            "tags": []
          },
          "execution_count": 44
        },
        {
          "output_type": "execute_result",
          "data": {
            "text/plain": [
              "<matplotlib.lines.Line2D at 0x7fbcd666be48>"
            ]
          },
          "metadata": {
            "tags": []
          },
          "execution_count": 44
        },
        {
          "output_type": "execute_result",
          "data": {
            "text/plain": [
              "<matplotlib.lines.Line2D at 0x7fbcd666bf60>"
            ]
          },
          "metadata": {
            "tags": []
          },
          "execution_count": 44
        },
        {
          "output_type": "execute_result",
          "data": {
            "text/plain": [
              "<matplotlib.lines.Line2D at 0x7fbcd65fe748>"
            ]
          },
          "metadata": {
            "tags": []
          },
          "execution_count": 44
        },
        {
          "output_type": "execute_result",
          "data": {
            "text/plain": [
              "<matplotlib.lines.Line2D at 0x7fbcd65feb70>"
            ]
          },
          "metadata": {
            "tags": []
          },
          "execution_count": 44
        },
        {
          "output_type": "execute_result",
          "data": {
            "text/plain": [
              "<matplotlib.lines.Line2D at 0x7fbcd65fecc0>"
            ]
          },
          "metadata": {
            "tags": []
          },
          "execution_count": 44
        },
        {
          "output_type": "execute_result",
          "data": {
            "text/plain": [
              "<matplotlib.lines.Line2D at 0x7fbcd660a470>"
            ]
          },
          "metadata": {
            "tags": []
          },
          "execution_count": 44
        },
        {
          "output_type": "execute_result",
          "data": {
            "text/plain": [
              "<matplotlib.lines.Line2D at 0x7fbcd660a8d0>"
            ]
          },
          "metadata": {
            "tags": []
          },
          "execution_count": 44
        },
        {
          "output_type": "execute_result",
          "data": {
            "text/plain": [
              "<matplotlib.lines.Line2D at 0x7fbcd660ad30>"
            ]
          },
          "metadata": {
            "tags": []
          },
          "execution_count": 44
        },
        {
          "output_type": "execute_result",
          "data": {
            "text/plain": [
              "<matplotlib.lines.Line2D at 0x7fbcd65feb38>"
            ]
          },
          "metadata": {
            "tags": []
          },
          "execution_count": 44
        },
        {
          "output_type": "execute_result",
          "data": {
            "text/plain": [
              "<matplotlib.lines.Line2D at 0x7fbcd6609630>"
            ]
          },
          "metadata": {
            "tags": []
          },
          "execution_count": 44
        },
        {
          "output_type": "execute_result",
          "data": {
            "text/plain": [
              "<matplotlib.lines.Line2D at 0x7fbcd6609a90>"
            ]
          },
          "metadata": {
            "tags": []
          },
          "execution_count": 44
        },
        {
          "output_type": "execute_result",
          "data": {
            "text/plain": [
              "<matplotlib.lines.Line2D at 0x7fbcd6609f28>"
            ]
          },
          "metadata": {
            "tags": []
          },
          "execution_count": 44
        },
        {
          "output_type": "execute_result",
          "data": {
            "text/plain": [
              "<matplotlib.lines.Line2D at 0x7fbcd66094e0>"
            ]
          },
          "metadata": {
            "tags": []
          },
          "execution_count": 44
        },
        {
          "output_type": "execute_result",
          "data": {
            "text/plain": [
              "<matplotlib.lines.Line2D at 0x7fbcd661e828>"
            ]
          },
          "metadata": {
            "tags": []
          },
          "execution_count": 44
        },
        {
          "output_type": "execute_result",
          "data": {
            "text/plain": [
              "<matplotlib.lines.Line2D at 0x7fbcd661ec88>"
            ]
          },
          "metadata": {
            "tags": []
          },
          "execution_count": 44
        },
        {
          "output_type": "execute_result",
          "data": {
            "text/plain": [
              "<matplotlib.lines.Line2D at 0x7fbcd661ef98>"
            ]
          },
          "metadata": {
            "tags": []
          },
          "execution_count": 44
        },
        {
          "output_type": "execute_result",
          "data": {
            "text/plain": [
              "<matplotlib.lines.Line2D at 0x7fbcd6623588>"
            ]
          },
          "metadata": {
            "tags": []
          },
          "execution_count": 44
        },
        {
          "output_type": "execute_result",
          "data": {
            "text/plain": [
              "<matplotlib.lines.Line2D at 0x7fbcd66239e8>"
            ]
          },
          "metadata": {
            "tags": []
          },
          "execution_count": 44
        },
        {
          "output_type": "execute_result",
          "data": {
            "text/plain": [
              "<matplotlib.lines.Line2D at 0x7fbcd6623e10>"
            ]
          },
          "metadata": {
            "tags": []
          },
          "execution_count": 44
        },
        {
          "output_type": "execute_result",
          "data": {
            "text/plain": [
              "<matplotlib.lines.Line2D at 0x7fbcd6623f60>"
            ]
          },
          "metadata": {
            "tags": []
          },
          "execution_count": 44
        },
        {
          "output_type": "execute_result",
          "data": {
            "text/plain": [
              "<matplotlib.lines.Line2D at 0x7fbcd662d710>"
            ]
          },
          "metadata": {
            "tags": []
          },
          "execution_count": 44
        },
        {
          "output_type": "execute_result",
          "data": {
            "text/plain": [
              "<matplotlib.legend.Legend at 0x7fbcd662db70>"
            ]
          },
          "metadata": {
            "tags": []
          },
          "execution_count": 44
        },
        {
          "output_type": "display_data",
          "data": {
            "image/png": "[encoded data removed]",
            "text/plain": [
              "<Figure size 1728x432 with 1 Axes>"
            ]
          },
          "metadata": {
            "tags": [],
            "needs_background": "light"
          }
        }
      ]
    }
  ]
}