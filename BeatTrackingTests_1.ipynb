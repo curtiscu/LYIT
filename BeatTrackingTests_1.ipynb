{
  "nbformat": 4,
  "nbformat_minor": 0,
  "metadata": {
    "colab": {
      "name": "BeatTrackingTests_1.ipynb",
      "provenance": [],
      "collapsed_sections": [],
      "authorship_tag": "ABX9TyO1A2mQY/Yre16/P1ai/M+P",
      "include_colab_link": true
    },
    "kernelspec": {
      "name": "python3",
      "display_name": "Python 3"
    }
  },
  "cells": [
    {
      "cell_type": "markdown",
      "metadata": {
        "id": "view-in-github",
        "colab_type": "text"
      },
      "source": [
        "<a href=\"https://colab.research.google.com/github/curtiscu/LYIT/blob/master/BeatTrackingTests_1.ipynb\" target=\"_parent\"><img src=\"https://colab.research.google.com/assets/colab-badge.svg\" alt=\"Open In Colab\"/></a>"
      ]
    },
    {
      "cell_type": "markdown",
      "metadata": {
        "id": "C9ImNuDBsWU9",
        "colab_type": "text"
      },
      "source": [
        "# Work out beats, timings, etc for loaded data"
      ]
    },
    {
      "cell_type": "markdown",
      "metadata": {
        "id": "NybvOG9ssS26",
        "colab_type": "text"
      },
      "source": [
        "# Setup env\n"
      ]
    },
    {
      "cell_type": "code",
      "metadata": {
        "id": "juZFbd9RttvQ",
        "colab_type": "code",
        "colab": {
          "base_uri": "https://localhost:8080/",
          "height": 34
        },
        "outputId": "a3d119c4-1845-4c6c-fe08-e5dc55772feb"
      },
      "source": [
        "# print all cell output\n",
        "from IPython.core.interactiveshell import InteractiveShell\n",
        "InteractiveShell.ast_node_interactivity = \"all\"\n",
        "\n",
        "# install required libs\n",
        "!pip install mido\n"
      ],
      "execution_count": 15,
      "outputs": [
        {
          "output_type": "stream",
          "text": [
            "Requirement already satisfied: mido in /usr/local/lib/python3.6/dist-packages (1.2.9)\n"
          ],
          "name": "stdout"
        }
      ]
    },
    {
      "cell_type": "markdown",
      "metadata": {
        "id": "yEXZFoA4t9de",
        "colab_type": "text"
      },
      "source": [
        ""
      ]
    },
    {
      "cell_type": "code",
      "metadata": {
        "id": "uRELmgI2mvEK",
        "colab_type": "code",
        "colab": {
          "base_uri": "https://localhost:8080/",
          "height": 34
        },
        "outputId": "42999be1-1383-4f8a-e44d-f796d164fd34"
      },
      "source": [
        "# mount google drive\n",
        "\n",
        "from google.colab import drive\n",
        "drive.mount('/content/drive', force_remount=True)\n"
      ],
      "execution_count": 5,
      "outputs": [
        {
          "output_type": "stream",
          "text": [
            "Mounted at /content/drive\n"
          ],
          "name": "stdout"
        }
      ]
    },
    {
      "cell_type": "code",
      "metadata": {
        "id": "Yk2_ztH9uKat",
        "colab_type": "code",
        "colab": {
          "base_uri": "https://localhost:8080/",
          "height": 238
        },
        "outputId": "5c852610-9d93-46d3-be73-25ad50899e14"
      },
      "source": [
        "# test, peek at data\n",
        "! ls -al '/content/drive/My Drive/groove-v1.0.0-midionly/groove/drummer1/eval_session/'\n",
        "\n",
        "# test, modules from local  'E:\\Google Drive\\LYIT\\Dissertation\\modules'\n",
        "! ls -al '/content/drive/My Drive/LYIT/Dissertation/modules/'"
      ],
      "execution_count": 6,
      "outputs": [
        {
          "output_type": "stream",
          "text": [
            "total 35\n",
            "-rw------- 1 root root 2589 Apr 27 12:01 10_soul-groove10_102_beat_4-4.mid\n",
            "-rw------- 1 root root 4793 Apr 27 12:01 1_funk-groove1_138_beat_4-4.mid\n",
            "-rw------- 1 root root 3243 Apr 27 12:01 2_funk-groove2_105_beat_4-4.mid\n",
            "-rw------- 1 root root 4466 Apr 27 12:01 3_soul-groove3_86_beat_4-4.mid\n",
            "-rw------- 1 root root 2551 Apr 27 12:01 4_soul-groove4_80_beat_4-4.mid\n",
            "-rw------- 1 root root 3798 Apr 27 12:01 5_funk-groove5_84_beat_4-4.mid\n",
            "-rw------- 1 root root 3760 Apr 27 12:01 6_hiphop-groove6_87_beat_4-4.mid\n",
            "-rw------- 1 root root 1894 Apr 27 12:01 7_pop-groove7_138_beat_4-4.mid\n",
            "-rw------- 1 root root 2437 Apr 27 12:01 8_rock-groove8_65_beat_4-4.mid\n",
            "-rw------- 1 root root 3448 Apr 27 12:01 9_soul-groove9_105_beat_4-4.mid\n",
            "total 6\n",
            "-rw------- 1 root root 5277 May 10 12:39 data_prep.py\n"
          ],
          "name": "stdout"
        }
      ]
    },
    {
      "cell_type": "code",
      "metadata": {
        "id": "rjqCavr4sz4x",
        "colab_type": "code",
        "colab": {
          "base_uri": "https://localhost:8080/",
          "height": 34
        },
        "outputId": "0a49a3d4-7bb5-408d-a39b-eaaf4afe5c7c"
      },
      "source": [
        "# imports\n",
        "import pandas as pd\n",
        "import mido \n",
        "from mido import MidiFile\n",
        "\n",
        "# import my modules\n",
        "import sys\n",
        "sys.path.append('/content/drive/My Drive/LYIT/Dissertation/modules/')\n",
        "import data_prep\n"
      ],
      "execution_count": 14,
      "outputs": [
        {
          "output_type": "stream",
          "text": [
            "data_prep.py module name is data_prep\n"
          ],
          "name": "stdout"
        }
      ]
    }
  ]
}