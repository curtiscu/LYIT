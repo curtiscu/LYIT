{
  "nbformat": 4,
  "nbformat_minor": 0,
  "metadata": {
    "colab": {
      "name": "BeatTrackingTests_1.ipynb",
      "provenance": [],
      "collapsed_sections": [],
      "toc_visible": true,
      "authorship_tag": "ABX9TyOkk1oPgsQ1dqeaktxzW0Cc",
      "include_colab_link": true
    },
    "kernelspec": {
      "name": "python3",
      "display_name": "Python 3"
    }
  },
  "cells": [
    {
      "cell_type": "markdown",
      "metadata": {
        "id": "view-in-github",
        "colab_type": "text"
      },
      "source": [
        "<a href=\"https://colab.research.google.com/github/curtiscu/LYIT/blob/master/BeatTrackingTests_1.ipynb\" target=\"_parent\"><img src=\"https://colab.research.google.com/assets/colab-badge.svg\" alt=\"Open In Colab\"/></a>"
      ]
    },
    {
      "cell_type": "markdown",
      "metadata": {
        "id": "C9ImNuDBsWU9",
        "colab_type": "text"
      },
      "source": [
        "# Work out beats, timings, etc for loaded data"
      ]
    },
    {
      "cell_type": "markdown",
      "metadata": {
        "id": "SEGg94Ioz0Xy",
        "colab_type": "text"
      },
      "source": [
        "Doc that came in handy creating this notebook..\n",
        "\n",
        "* https://stackoverflow.com/questions/48905127/importing-py-files-in-google-colab\n",
        "* https://ipython.org/ipython-doc/stable/config/extensions/autoreload.html\n",
        "* https://switowski.com/blog/ipython-autoreload\n"
      ]
    },
    {
      "cell_type": "markdown",
      "metadata": {
        "id": "NybvOG9ssS26",
        "colab_type": "text"
      },
      "source": [
        "# Setup env\n"
      ]
    },
    {
      "cell_type": "code",
      "metadata": {
        "id": "juZFbd9RttvQ",
        "colab_type": "code",
        "outputId": "d933e76e-7e34-4e21-f52d-4c077e8b76b4",
        "colab": {
          "base_uri": "https://localhost:8080/",
          "height": 34
        }
      },
      "source": [
        "# print all cell output\n",
        "from IPython.core.interactiveshell import InteractiveShell\n",
        "InteractiveShell.ast_node_interactivity = \"all\"\n",
        "\n",
        "# install required libs\n",
        "!pip install mido\n"
      ],
      "execution_count": 1,
      "outputs": [
        {
          "output_type": "stream",
          "text": [
            "Requirement already satisfied: mido in /usr/local/lib/python3.6/dist-packages (1.2.9)\n"
          ],
          "name": "stdout"
        }
      ]
    },
    {
      "cell_type": "markdown",
      "metadata": {
        "id": "yEXZFoA4t9de",
        "colab_type": "text"
      },
      "source": [
        ""
      ]
    },
    {
      "cell_type": "code",
      "metadata": {
        "id": "uRELmgI2mvEK",
        "colab_type": "code",
        "outputId": "3e74f436-5e71-4d4c-d81b-addd79b87c6a",
        "colab": {
          "base_uri": "https://localhost:8080/",
          "height": 34
        }
      },
      "source": [
        "# mount google drive\n",
        "\n",
        "from google.colab import drive\n",
        "drive.mount('/content/drive', force_remount=True)\n"
      ],
      "execution_count": 2,
      "outputs": [
        {
          "output_type": "stream",
          "text": [
            "Mounted at /content/drive\n"
          ],
          "name": "stdout"
        }
      ]
    },
    {
      "cell_type": "code",
      "metadata": {
        "id": "Yk2_ztH9uKat",
        "colab_type": "code",
        "outputId": "1602f468-833b-4c75-984e-37571b916ef3",
        "colab": {
          "base_uri": "https://localhost:8080/",
          "height": 255
        }
      },
      "source": [
        "# test, peek at data\n",
        "! ls -al '/content/drive/My Drive/groove-v1.0.0-midionly/groove/drummer1/eval_session/'\n",
        "\n",
        "# test, modules from local  'E:\\Google Drive\\LYIT\\Dissertation\\modules'\n",
        "! ls -al '/content/drive/My Drive/LYIT/Dissertation/modules/'"
      ],
      "execution_count": 3,
      "outputs": [
        {
          "output_type": "stream",
          "text": [
            "total 35\n",
            "-rw------- 1 root root 2589 Apr 27 12:01 10_soul-groove10_102_beat_4-4.mid\n",
            "-rw------- 1 root root 4793 Apr 27 12:01 1_funk-groove1_138_beat_4-4.mid\n",
            "-rw------- 1 root root 3243 Apr 27 12:01 2_funk-groove2_105_beat_4-4.mid\n",
            "-rw------- 1 root root 4466 Apr 27 12:01 3_soul-groove3_86_beat_4-4.mid\n",
            "-rw------- 1 root root 2551 Apr 27 12:01 4_soul-groove4_80_beat_4-4.mid\n",
            "-rw------- 1 root root 3798 Apr 27 12:01 5_funk-groove5_84_beat_4-4.mid\n",
            "-rw------- 1 root root 3760 Apr 27 12:01 6_hiphop-groove6_87_beat_4-4.mid\n",
            "-rw------- 1 root root 1894 Apr 27 12:01 7_pop-groove7_138_beat_4-4.mid\n",
            "-rw------- 1 root root 2437 Apr 27 12:01 8_rock-groove8_65_beat_4-4.mid\n",
            "-rw------- 1 root root 3448 Apr 27 12:01 9_soul-groove9_105_beat_4-4.mid\n",
            "total 15\n",
            "-rw------- 1 root root 10781 May 13 18:11 data_prep.py\n",
            "drwx------ 2 root root  4096 May 10 13:31 __pycache__\n"
          ],
          "name": "stdout"
        }
      ]
    },
    {
      "cell_type": "markdown",
      "metadata": {
        "id": "SBKOdMxXFygn",
        "colab_type": "text"
      },
      "source": [
        "## Auto reload module\n",
        "\n",
        "I'm now using a module edited and saved to google drive which is automatically pushed to the cloud and made available to the colab env. Changes need time to propagate, and imports don't 'reimport' to load changes, so trying the following...\n",
        "\n",
        "Note the code below is not very reliable, it seems to work occasionally, after some time, but haven't been able to work out the pattern to it. \n",
        "\n",
        "If in a hurry, brute force loading of changes by restarting the runtime."
      ]
    },
    {
      "cell_type": "code",
      "metadata": {
        "id": "jErvkusO6D01",
        "colab_type": "code",
        "colab": {}
      },
      "source": [
        "# tool to auto reload modules.\n",
        "%load_ext autoreload\n",
        "\n",
        "# config to auto-reload all modules, handy to make \n",
        "# writing and testing modules much easier.\n",
        "%autoreload 2"
      ],
      "execution_count": 0,
      "outputs": []
    },
    {
      "cell_type": "code",
      "metadata": {
        "id": "rjqCavr4sz4x",
        "colab_type": "code",
        "outputId": "ff79762a-68ee-4fb4-913b-9a002f1fe811",
        "colab": {
          "base_uri": "https://localhost:8080/",
          "height": 34
        }
      },
      "source": [
        "# imports\n",
        "import pandas as pd\n",
        "import mido \n",
        "from mido import MidiFile\n",
        "\n",
        "import datetime\n",
        "\n",
        "import math\n",
        "\n",
        "# import my modules\n",
        "import sys\n",
        "sys.path.append('/content/drive/My Drive/LYIT/Dissertation/modules/')\n",
        "import data_prep\n",
        "\n"
      ],
      "execution_count": 5,
      "outputs": [
        {
          "output_type": "stream",
          "text": [
            "LOADING - data_prep.py module name is: data_prep\n"
          ],
          "name": "stdout"
        }
      ]
    },
    {
      "cell_type": "code",
      "metadata": {
        "id": "0MMbo3wsI5gU",
        "colab_type": "code",
        "outputId": "2ad36a5b-e50c-4000-b4e5-2d12dde5d84f",
        "colab": {
          "base_uri": "https://localhost:8080/",
          "height": 34
        }
      },
      "source": [
        "print(datetime.datetime.now())"
      ],
      "execution_count": 6,
      "outputs": [
        {
          "output_type": "stream",
          "text": [
            "2020-05-14 15:11:26.688942\n"
          ],
          "name": "stdout"
        }
      ]
    },
    {
      "cell_type": "code",
      "metadata": {
        "id": "oPKVwQibzS7t",
        "colab_type": "code",
        "outputId": "26cd5e61-f4cf-4ffa-824f-d813b03fd593",
        "colab": {
          "base_uri": "https://localhost:8080/",
          "height": 34
        }
      },
      "source": [
        "# testing auto reload of modules \n",
        "data_prep.test_function_call('bling')"
      ],
      "execution_count": 7,
      "outputs": [
        {
          "output_type": "stream",
          "text": [
            "test function called worked! :)  bling\n"
          ],
          "name": "stdout"
        }
      ]
    },
    {
      "cell_type": "code",
      "metadata": {
        "id": "KkLdwFFAAotC",
        "colab_type": "code",
        "colab": {}
      },
      "source": [
        "def set_pandas_display_options() -> None:\n",
        "    # Ref: https://stackoverflow.com/a/52432757/\n",
        "    display = pd.options.display\n",
        "\n",
        "    display.max_columns = 1000\n",
        "    display.max_rows = 200\n",
        "    display.max_colwidth = 1000\n",
        "    display.width = None\n",
        "    # display.precision = 2  # set as needed\n",
        "\n",
        "set_pandas_display_options()\n",
        "#pd.reset_option('all')\n"
      ],
      "execution_count": 0,
      "outputs": []
    },
    {
      "cell_type": "markdown",
      "metadata": {
        "id": "8DbIvTwPGpMU",
        "colab_type": "text"
      },
      "source": [
        "# Test creating object from custom module"
      ]
    },
    {
      "cell_type": "code",
      "metadata": {
        "id": "v9rxH3-9Gu64",
        "colab_type": "code",
        "outputId": "a78b311a-45cc-45b3-ca70-009e14ccc22c",
        "colab": {
          "base_uri": "https://localhost:8080/",
          "height": 102
        }
      },
      "source": [
        "file_name = '/content/drive/My Drive/groove-v1.0.0-midionly/groove/drummer1/eval_session/10_soul-groove10_102_beat_4-4.mid'\n",
        "gmt = data_prep.GrooveMidiTools\n",
        "midi_file = data_prep.MIDI_File_Wrapper(file_name, gmt.mappings)"
      ],
      "execution_count": 9,
      "outputs": [
        {
          "output_type": "stream",
          "text": [
            "FILE: /content/drive/My Drive/groove-v1.0.0-midionly/groove/drummer1/eval_session/10_soul-groove10_102_beat_4-4.mid\n",
            "    tracks: [<midi track 'MIDI' 639 messages>]\n",
            "    time sig: <meta message time_signature numerator=4 denominator=4 clocks_per_click=24 notated_32nd_notes_per_beat=8 time=0>\n",
            "    tempo: <meta message set_tempo tempo=588235 time=0>\n",
            "    good instruments: 6, {36.0: 'Bass Drum 1', 38.0: 'Acoustic Snare', 42.0: 'Closed Hi Hat', 43.0: 'High Floor Tom', 46.0: 'Open Hi-Hat', 50.0: 'High Tom'}\n"
          ],
          "name": "stdout"
        }
      ]
    },
    {
      "cell_type": "markdown",
      "metadata": {
        "id": "VspeXMsHH6Q3",
        "colab_type": "text"
      },
      "source": [
        "... the above verifies I'm able to create custom objects from custom code, great!\n"
      ]
    },
    {
      "cell_type": "markdown",
      "metadata": {
        "id": "0VYbRPKaRu6H",
        "colab_type": "text"
      },
      "source": [
        "# Brainstorming ways to calculate beat times\n",
        "\n",
        "Things I might need to calculate..\n",
        "* start/ end times of bars\n",
        "* beat times for 1/4, 1/8, 1/16, 1/32 notes\n",
        "* shuffles in 4/4?\n",
        "\n",
        "Ways to go about it...\n",
        "* Take list of MIDI note_on, find what beat & bar to associate each beat with.\n",
        "* For a given musical beat, take the acceptable timing range for something to be considered related to it, filter all the MIDI notes against this range to see which if any fall into that range.\n",
        "\n",
        "Python code/ libs for ranges and splitting datasets..\n",
        "* python 'range', only works on integers\n",
        "* pandas.cut, pandas.qcut\n",
        "* numpy\n",
        "* itertools \n",
        "\n",
        "Some handy refs...\n",
        "* https://realpython.com/how-to-use-numpy-arange/\n",
        "* https://numpy.org/doc/stable/reference/generated/numpy.linspace.html\n",
        "* https://pbpython.com/pandas-qcut-cut.html < looks very promising!!!\n"
      ]
    },
    {
      "cell_type": "markdown",
      "metadata": {
        "id": "RN_HumVeJQrE",
        "colab_type": "text"
      },
      "source": [
        "## peek at example object data.."
      ]
    },
    {
      "cell_type": "code",
      "metadata": {
        "id": "ehfX9txCCnvy",
        "colab_type": "code",
        "outputId": "4070d48e-17fd-4199-d50d-fe733d2bb0eb",
        "colab": {
          "base_uri": "https://localhost:8080/",
          "height": 935
        }
      },
      "source": [
        "# take a peek inside what we've setup already...\n",
        "midi_file.__dict__"
      ],
      "execution_count": 10,
      "outputs": [
        {
          "output_type": "execute_result",
          "data": {
            "text/plain": [
              "{'df_midi_data':             msg_type  delta_ticks  total_ticks  total_seconds  note  velocity  \\\n",
              " 0         track_name            0            0       0.000000   NaN       NaN   \n",
              " 1    instrument_name            0            0       0.000000   NaN       NaN   \n",
              " 2     time_signature            0            0       0.000000   NaN       NaN   \n",
              " 3      key_signature            0            0       0.000000   NaN       NaN   \n",
              " 4       smpte_offset            0            0       0.000000   NaN       NaN   \n",
              " ..               ...          ...          ...            ...   ...       ...   \n",
              " 634          note_on           37        30566      37.458315  43.0     112.0   \n",
              " 635         note_off           83        30649      37.560030  43.0      64.0   \n",
              " 636          note_on           24        30673      37.589442  36.0     127.0   \n",
              " 637         note_off           83        30756      37.691158  36.0      64.0   \n",
              " 638     end_of_track            0        30756      37.691158   NaN       NaN   \n",
              " \n",
              "                                                                                                                               raw_data  \n",
              " 0                                                                                    {'type': 'track_name', 'name': 'MIDI', 'time': 0}  \n",
              " 1                                                                           {'type': 'instrument_name', 'name': 'Brooklyn', 'time': 0}  \n",
              " 2    {'type': 'time_signature', 'numerator': 4, 'denominator': 4, 'clocks_per_click': 24, 'notated_32nd_notes_per_beat': 8, 'time': 0}  \n",
              " 3                                                                                     {'type': 'key_signature', 'key': 'C', 'time': 0}  \n",
              " 4         {'type': 'smpte_offset', 'frame_rate': 24, 'hours': 33, 'minutes': 0, 'seconds': 0, 'frames': 0, 'sub_frames': 0, 'time': 0}  \n",
              " ..                                                                                                                                 ...  \n",
              " 634                                                         {'type': 'note_on', 'time': 37, 'note': 43, 'velocity': 112, 'channel': 9}  \n",
              " 635                                                         {'type': 'note_off', 'time': 83, 'note': 43, 'velocity': 64, 'channel': 9}  \n",
              " 636                                                         {'type': 'note_on', 'time': 24, 'note': 36, 'velocity': 127, 'channel': 9}  \n",
              " 637                                                         {'type': 'note_off', 'time': 83, 'note': 36, 'velocity': 64, 'channel': 9}  \n",
              " 638                                                                                                {'type': 'end_of_track', 'time': 0}  \n",
              " \n",
              " [639 rows x 7 columns],\n",
              " 'instruments': array([36., 38., 42., 43., 46., 50.]),\n",
              " 'my_file_midi': <midi file '/content/drive/My Drive/groove-v1.0.0-midionly/groove/drummer1/eval_session/10_soul-groove10_102_beat_4-4.mid' type 0, 1 tracks, 639 messages>,\n",
              " 'my_file_name': '/content/drive/My Drive/groove-v1.0.0-midionly/groove/drummer1/eval_session/10_soul-groove10_102_beat_4-4.mid',\n",
              " 'my_tempo': <meta message set_tempo tempo=588235 time=0>,\n",
              " 'my_time_sig': <meta message time_signature numerator=4 denominator=4 clocks_per_click=24 notated_32nd_notes_per_beat=8 time=0>,\n",
              " 'note_map': {22: 42,\n",
              "  26: 46,\n",
              "  36: 36,\n",
              "  37: 38,\n",
              "  38: 38,\n",
              "  40: 38,\n",
              "  42: 42,\n",
              "  43: 43,\n",
              "  44: 42,\n",
              "  45: 47,\n",
              "  46: 46,\n",
              "  47: 47,\n",
              "  48: 50,\n",
              "  49: 49,\n",
              "  50: 50,\n",
              "  51: 51,\n",
              "  52: 49,\n",
              "  53: 51,\n",
              "  55: 49,\n",
              "  57: 49,\n",
              "  58: 43,\n",
              "  59: 51}}"
            ]
          },
          "metadata": {
            "tags": []
          },
          "execution_count": 10
        }
      ]
    },
    {
      "cell_type": "code",
      "metadata": {
        "id": "0syjtqCiDq14",
        "colab_type": "code",
        "outputId": "8eb697d4-52ee-4b88-8e54-c860b77f3504",
        "colab": {
          "base_uri": "https://localhost:8080/",
          "height": 34
        }
      },
      "source": [
        "midi_file.__doc__"
      ],
      "execution_count": 11,
      "outputs": [
        {
          "output_type": "execute_result",
          "data": {
            "text/plain": [
              "'\\n  Utility wrapper for loading, parsding a mido.MidiFile object\\n  '"
            ]
          },
          "metadata": {
            "tags": []
          },
          "execution_count": 11
        }
      ]
    },
    {
      "cell_type": "markdown",
      "metadata": {
        "id": "MnnGeqvqi1zu",
        "colab_type": "text"
      },
      "source": [
        "## Calulate some time metrics\n"
      ]
    },
    {
      "cell_type": "code",
      "metadata": {
        "id": "WKALKbTqp0D5",
        "colab_type": "code",
        "outputId": "e0b2e471-17bd-46d3-927a-32d3dc320758",
        "colab": {
          "base_uri": "https://localhost:8080/",
          "height": 85
        }
      },
      "source": [
        "print('file name: {}'.format(midi_file.my_file_name))\n",
        "print('ticks per quarter note: {}'.format(midi_file.ticks()))\n",
        "print('tempo (microseconds p/ quarter): {}'.format(midi_file.tempo_us()))\n",
        "print('tempo (bpm): {}'.format(midi_file.tempo_bpm()))"
      ],
      "execution_count": 12,
      "outputs": [
        {
          "output_type": "stream",
          "text": [
            "file name: /content/drive/My Drive/groove-v1.0.0-midionly/groove/drummer1/eval_session/10_soul-groove10_102_beat_4-4.mid\n",
            "ticks per quarter note: 480\n",
            "tempo (microseconds p/ quarter): 588235\n",
            "tempo (bpm): 102.0000510000255\n"
          ],
          "name": "stdout"
        }
      ]
    },
    {
      "cell_type": "code",
      "metadata": {
        "id": "nDqeLQgfi77p",
        "colab_type": "code",
        "outputId": "f92cca77-0dcb-47b8-f31d-c00058b4dd07",
        "colab": {
          "base_uri": "https://localhost:8080/",
          "height": 119
        }
      },
      "source": [
        "\n",
        "def calc_sec(ticks):\n",
        "  '''\n",
        "  Utility function: given MIDI ticks, caluate absolute time in milliseconds\n",
        "  '''\n",
        "  # mido.tick2second(ticks, < ticks per quarter >, < tempo in microseconds> )\n",
        "  return mido.tick2second(ticks, midi_file.ticks(), midi_file.tempo_us() )\n",
        "\n",
        "print('seconds per tick (ticks2seconds): {}'.format(calc_sec(1)))\n",
        "\n",
        "# NOTE: calculate microseconds per tick\n",
        "# µs_per_tick  = quarter note tempo (microseconds) / ticks per qaurter beat \n",
        "us_per_tick =  midi_file.tempo_us()/ midi_file.ticks()\n",
        "print('microseconds per tick: {}, rounded: {}'.format(us_per_tick, round(us_per_tick)))\n",
        "\n",
        "# NOTE: the following works for different time sigs, i.e. \n",
        "#   will handle 6/8  and  4/4 ok...\n",
        "# beat ticks = <ticks per quarter beat> x  ( 4/ < file time sig denominator > )\n",
        "ticks_per_beat = midi_file.ticks() * ( 4/ midi_file.ts_denom() )\n",
        "print('per beat: {}, ticks: {}, sec: {}'.format(midi_file.ts_denom(), ticks_per_beat, calc_sec(ticks_per_beat)))\n",
        "\n",
        "# NOTE: total ticks for a measure..\n",
        "# bar ticks = < beat ticks >  x < beats per bar >\n",
        "ticks_per_bar = ticks_per_beat * midi_file.ts_num()\n",
        "print('per bar - ticks: {}, sec: {}'.format(ticks_per_bar, calc_sec(ticks_per_bar)))\n",
        "\n",
        "# Ticks per 1/8 note\n",
        "ticks_per_8 = midi_file.ticks() * ( 4/ 8 )\n",
        "print('per 1/8 - ticks: {}, sec: {}'.format(ticks_per_8, calc_sec(ticks_per_8)))\n",
        "\n",
        "# Ticks per 1/16 note\n",
        "ticks_per_16 = midi_file.ticks() * ( 4/ 16 )\n",
        "print('per 1/16 - ticks: {}, sec: {}'.format(ticks_per_16, calc_sec(ticks_per_16)))\n"
      ],
      "execution_count": 13,
      "outputs": [
        {
          "output_type": "stream",
          "text": [
            "seconds per tick (ticks2seconds): 0.0012254895833333332\n",
            "microseconds per tick: 1225.4895833333333, rounded: 1225\n",
            "per beat: 4, ticks: 480.0, sec: 0.588235\n",
            "per bar - ticks: 1920.0, sec: 2.35294\n",
            "per 1/8 - ticks: 240.0, sec: 0.2941175\n",
            "per 1/16 - ticks: 120.0, sec: 0.14705875\n"
          ],
          "name": "stdout"
        }
      ]
    },
    {
      "cell_type": "markdown",
      "metadata": {
        "id": "4yPBR7kE57sh",
        "colab_type": "text"
      },
      "source": [
        "## Calculate number of bars in file \n"
      ]
    },
    {
      "cell_type": "code",
      "metadata": {
        "id": "3s193P_Y5WJe",
        "colab_type": "code",
        "outputId": "a93175f2-457b-4b7f-fa47-2feca9564955",
        "colab": {
          "base_uri": "https://localhost:8080/",
          "height": 34
        }
      },
      "source": [
        "# CALCULATE BARS USING TIMING INFO\n",
        "\n",
        "# last note_on event in file, in seconds..\n",
        "#    event# 636, time(s): 37.589442\n",
        "# .. divided by length of bar in seconds\n",
        "total_bars_using_time = 37.589442 /2.35294\n",
        "print('number bars in file, calculated using time: {}'.format( total_bars_using_time))"
      ],
      "execution_count": 14,
      "outputs": [
        {
          "output_type": "stream",
          "text": [
            "number bars in file, calculated using time: 15.975520837760419\n"
          ],
          "name": "stdout"
        }
      ]
    },
    {
      "cell_type": "code",
      "metadata": {
        "id": "npvLf5GaSLdS",
        "colab_type": "code",
        "outputId": "e10b2ec8-771e-46b3-f8e9-5476e304da70",
        "colab": {
          "base_uri": "https://localhost:8080/",
          "height": 34
        }
      },
      "source": [
        "# round up number of bars\n",
        "total_bars_using_time = math.ceil(total_bars_using_time)\n",
        "\n",
        "print('# bars using calculated time, rounded up: {}'.format(total_bars_using_time))"
      ],
      "execution_count": 15,
      "outputs": [
        {
          "output_type": "stream",
          "text": [
            "# bars using calculated time, rounded up: 16\n"
          ],
          "name": "stdout"
        }
      ]
    },
    {
      "cell_type": "code",
      "metadata": {
        "id": "l3BUScWzQ98I",
        "colab_type": "code",
        "outputId": "df0b577b-34cf-4203-c771-91dc9b0e643a",
        "colab": {
          "base_uri": "https://localhost:8080/",
          "height": 51
        }
      },
      "source": [
        "# CALCULATE BARS USING TICKS\n",
        "\n",
        "# last 'note_on'= event:636, ticks:30673, seconds:37.589442\n",
        "# total_bars_using_ticks = 30673/ ticks_per_bar\n",
        "\n",
        "file_df = midi_file.df_midi_data\n",
        "last_note_on = file_df[file_df[midi_file.type_col] == 'note_on'].tail(1)[midi_file.cum_ticks_col]\n",
        "total_bars_using_ticks = last_note_on / ticks_per_bar\n",
        "\n",
        "total_bars_using_ticks"
      ],
      "execution_count": 16,
      "outputs": [
        {
          "output_type": "execute_result",
          "data": {
            "text/plain": [
              "636    15.975521\n",
              "Name: total_ticks, dtype: float64"
            ]
          },
          "metadata": {
            "tags": []
          },
          "execution_count": 16
        }
      ]
    },
    {
      "cell_type": "code",
      "metadata": {
        "id": "4q6x-_K97GB2",
        "colab_type": "code",
        "outputId": "9d9aea46-4a2e-4fbb-e2b7-4708cd87cc92",
        "colab": {
          "base_uri": "https://localhost:8080/",
          "height": 34
        }
      },
      "source": [
        "# round up number of bars\n",
        "total_bars_using_ticks = math.ceil(total_bars_using_ticks)\n",
        "\n",
        "print('# bars using MIDI ticks for calculation, rounded up: {}'.format(total_bars_using_ticks))"
      ],
      "execution_count": 17,
      "outputs": [
        {
          "output_type": "stream",
          "text": [
            "# bars using MIDI ticks for calculation, rounded up: 16\n"
          ],
          "name": "stdout"
        }
      ]
    },
    {
      "cell_type": "markdown",
      "metadata": {
        "id": "8CIdOoq-7vt6",
        "colab_type": "text"
      },
      "source": [
        "# Calculate number of beats in file"
      ]
    },
    {
      "cell_type": "code",
      "metadata": {
        "id": "1euNW9nl7tjV",
        "colab_type": "code",
        "outputId": "b7d55854-428b-4bed-c305-6ede4e40c99d",
        "colab": {
          "base_uri": "https://localhost:8080/",
          "height": 34
        }
      },
      "source": [
        "# number of beats in file\n",
        "total_beats = total_bars_using_ticks * midi_file.ts_num()\n",
        "print('total beatz MIDI file spans: {}'.format(total_beats))\n"
      ],
      "execution_count": 18,
      "outputs": [
        {
          "output_type": "stream",
          "text": [
            "total beatz MIDI file spans: 64\n"
          ],
          "name": "stdout"
        }
      ]
    },
    {
      "cell_type": "code",
      "metadata": {
        "id": "CipvkR7-TgU7",
        "colab_type": "code",
        "colab": {}
      },
      "source": [
        "# for later in notebook\n",
        "total_bars = total_bars_using_ticks"
      ],
      "execution_count": 0,
      "outputs": []
    },
    {
      "cell_type": "markdown",
      "metadata": {
        "id": "ktiH7z-8JVCN",
        "colab_type": "text"
      },
      "source": [
        "# Splitting data\n",
        "\n",
        "\n"
      ]
    },
    {
      "cell_type": "markdown",
      "metadata": {
        "id": "qYmY3gdl7_TB",
        "colab_type": "text"
      },
      "source": [
        "## Testing pandas.cut\n",
        "\n",
        "* https://pandas.pydata.org/pandas-docs/stable/reference/api/pandas.cut.html\n"
      ]
    },
    {
      "cell_type": "code",
      "metadata": {
        "id": "dXDYt4Js1VAN",
        "colab_type": "code",
        "outputId": "63311606-2b48-4fbf-c156-22d6cbc6d29e",
        "colab": {
          "base_uri": "https://localhost:8080/",
          "height": 419
        }
      },
      "source": [
        "# example usage -> pd.cut(df['ext price'], bins=4)\n",
        "display(pd.cut(midi_file.df_midi_data[midi_file.cum_ticks_col], bins=64).to_frame())"
      ],
      "execution_count": 20,
      "outputs": [
        {
          "output_type": "display_data",
          "data": {
            "text/html": [
              "<div>\n",
              "<style scoped>\n",
              "    .dataframe tbody tr th:only-of-type {\n",
              "        vertical-align: middle;\n",
              "    }\n",
              "\n",
              "    .dataframe tbody tr th {\n",
              "        vertical-align: top;\n",
              "    }\n",
              "\n",
              "    .dataframe thead th {\n",
              "        text-align: right;\n",
              "    }\n",
              "</style>\n",
              "<table border=\"1\" class=\"dataframe\">\n",
              "  <thead>\n",
              "    <tr style=\"text-align: right;\">\n",
              "      <th></th>\n",
              "      <th>total_ticks</th>\n",
              "    </tr>\n",
              "  </thead>\n",
              "  <tbody>\n",
              "    <tr>\n",
              "      <th>0</th>\n",
              "      <td>(-30.756, 480.562]</td>\n",
              "    </tr>\n",
              "    <tr>\n",
              "      <th>1</th>\n",
              "      <td>(-30.756, 480.562]</td>\n",
              "    </tr>\n",
              "    <tr>\n",
              "      <th>2</th>\n",
              "      <td>(-30.756, 480.562]</td>\n",
              "    </tr>\n",
              "    <tr>\n",
              "      <th>3</th>\n",
              "      <td>(-30.756, 480.562]</td>\n",
              "    </tr>\n",
              "    <tr>\n",
              "      <th>4</th>\n",
              "      <td>(-30.756, 480.562]</td>\n",
              "    </tr>\n",
              "    <tr>\n",
              "      <th>...</th>\n",
              "      <td>...</td>\n",
              "    </tr>\n",
              "    <tr>\n",
              "      <th>634</th>\n",
              "      <td>(30275.438, 30756.0]</td>\n",
              "    </tr>\n",
              "    <tr>\n",
              "      <th>635</th>\n",
              "      <td>(30275.438, 30756.0]</td>\n",
              "    </tr>\n",
              "    <tr>\n",
              "      <th>636</th>\n",
              "      <td>(30275.438, 30756.0]</td>\n",
              "    </tr>\n",
              "    <tr>\n",
              "      <th>637</th>\n",
              "      <td>(30275.438, 30756.0]</td>\n",
              "    </tr>\n",
              "    <tr>\n",
              "      <th>638</th>\n",
              "      <td>(30275.438, 30756.0]</td>\n",
              "    </tr>\n",
              "  </tbody>\n",
              "</table>\n",
              "<p>639 rows × 1 columns</p>\n",
              "</div>"
            ],
            "text/plain": [
              "              total_ticks\n",
              "0      (-30.756, 480.562]\n",
              "1      (-30.756, 480.562]\n",
              "2      (-30.756, 480.562]\n",
              "3      (-30.756, 480.562]\n",
              "4      (-30.756, 480.562]\n",
              "..                    ...\n",
              "634  (30275.438, 30756.0]\n",
              "635  (30275.438, 30756.0]\n",
              "636  (30275.438, 30756.0]\n",
              "637  (30275.438, 30756.0]\n",
              "638  (30275.438, 30756.0]\n",
              "\n",
              "[639 rows x 1 columns]"
            ]
          },
          "metadata": {
            "tags": []
          }
        }
      ]
    },
    {
      "cell_type": "markdown",
      "metadata": {
        "id": "I5EqIEoiBKm9",
        "colab_type": "text"
      },
      "source": [
        "There's a problem using pd.cut above, note the last bucket ends at precisely the last numbered tick, but the first bucket has a start that's a negative! Looks like it works by segmenting from the high number/ end of the data down, therefore ends up -ve.\n",
        "\n",
        "I've also included the entire set of MIDI events from the file, I really only need to use the 'note_on' events.\n"
      ]
    },
    {
      "cell_type": "markdown",
      "metadata": {
        "id": "JyU5aQrFDdv5",
        "colab_type": "text"
      },
      "source": [
        "Looks like there are additional params to 'cut' I can use to sort this out, more info here..\n",
        "* https://stackoverflow.com/a/57041772\n",
        "* https://pandas.pydata.org/pandas-docs/stable/reference/api/pandas.cut.html\n",
        "\n",
        "The above stack overflow link gives the following example..\n",
        "\n",
        "`df['score_range'] = pd.cut(x=df['score'], bins=range(0, 125, 25), right=False)`\n",
        "\n",
        "I need to pass in explicit list of bins to use, and this can be done using 'bins=range(< start >, < stop>, < interval>)' ...\n",
        "\n",
        "* total_range = (ticks_per_beat x beats_per_bar x bars_in_file)\n",
        "* bin size = ticks_per_beat_resolution\n",
        "\n"
      ]
    },
    {
      "cell_type": "code",
      "metadata": {
        "id": "xdPpL5kDDkiX",
        "colab_type": "code",
        "outputId": "20476452-87f8-455f-e7c5-6bb094f12686",
        "colab": {
          "base_uri": "https://localhost:8080/",
          "height": 436
        }
      },
      "source": [
        "# set to quantize/ beat alignment resolution\n",
        "ticks_per_beat_resolution = 120  # (i.e.  16th note = 480/4 )\n",
        "\n",
        "file_range = int(ticks_per_beat * midi_file.ts_num() * total_bars)\n",
        "bin_size = int(ticks_per_beat_resolution)\n",
        "\n",
        "print('file_range: {}, bin_size: {}'.format(file_range, bin_size))\n",
        "\n",
        "df = midi_file.df_midi_data  # shorten name\n",
        "# just_ons = df[df['msg_type'] == 'note_on']  # filter 'note_on' events\n",
        "just_ons = df  # debug, don't filter to ons, just to test\n",
        "\n",
        "# if you don't 'file_range + bin_size' you get one short\n",
        "my_bins=range(0, file_range + bin_size, bin_size)  \n",
        "\n",
        "pd.cut(just_ons[midi_file.cum_ticks_col], bins=my_bins, right=False).to_frame()\n"
      ],
      "execution_count": 21,
      "outputs": [
        {
          "output_type": "stream",
          "text": [
            "file_range: 30720, bin_size: 120\n"
          ],
          "name": "stdout"
        },
        {
          "output_type": "execute_result",
          "data": {
            "text/html": [
              "<div>\n",
              "<style scoped>\n",
              "    .dataframe tbody tr th:only-of-type {\n",
              "        vertical-align: middle;\n",
              "    }\n",
              "\n",
              "    .dataframe tbody tr th {\n",
              "        vertical-align: top;\n",
              "    }\n",
              "\n",
              "    .dataframe thead th {\n",
              "        text-align: right;\n",
              "    }\n",
              "</style>\n",
              "<table border=\"1\" class=\"dataframe\">\n",
              "  <thead>\n",
              "    <tr style=\"text-align: right;\">\n",
              "      <th></th>\n",
              "      <th>total_ticks</th>\n",
              "    </tr>\n",
              "  </thead>\n",
              "  <tbody>\n",
              "    <tr>\n",
              "      <th>0</th>\n",
              "      <td>[0.0, 120.0)</td>\n",
              "    </tr>\n",
              "    <tr>\n",
              "      <th>1</th>\n",
              "      <td>[0.0, 120.0)</td>\n",
              "    </tr>\n",
              "    <tr>\n",
              "      <th>2</th>\n",
              "      <td>[0.0, 120.0)</td>\n",
              "    </tr>\n",
              "    <tr>\n",
              "      <th>3</th>\n",
              "      <td>[0.0, 120.0)</td>\n",
              "    </tr>\n",
              "    <tr>\n",
              "      <th>4</th>\n",
              "      <td>[0.0, 120.0)</td>\n",
              "    </tr>\n",
              "    <tr>\n",
              "      <th>...</th>\n",
              "      <td>...</td>\n",
              "    </tr>\n",
              "    <tr>\n",
              "      <th>634</th>\n",
              "      <td>[30480.0, 30600.0)</td>\n",
              "    </tr>\n",
              "    <tr>\n",
              "      <th>635</th>\n",
              "      <td>[30600.0, 30720.0)</td>\n",
              "    </tr>\n",
              "    <tr>\n",
              "      <th>636</th>\n",
              "      <td>[30600.0, 30720.0)</td>\n",
              "    </tr>\n",
              "    <tr>\n",
              "      <th>637</th>\n",
              "      <td>NaN</td>\n",
              "    </tr>\n",
              "    <tr>\n",
              "      <th>638</th>\n",
              "      <td>NaN</td>\n",
              "    </tr>\n",
              "  </tbody>\n",
              "</table>\n",
              "<p>639 rows × 1 columns</p>\n",
              "</div>"
            ],
            "text/plain": [
              "            total_ticks\n",
              "0          [0.0, 120.0)\n",
              "1          [0.0, 120.0)\n",
              "2          [0.0, 120.0)\n",
              "3          [0.0, 120.0)\n",
              "4          [0.0, 120.0)\n",
              "..                  ...\n",
              "634  [30480.0, 30600.0)\n",
              "635  [30600.0, 30720.0)\n",
              "636  [30600.0, 30720.0)\n",
              "637                 NaN\n",
              "638                 NaN\n",
              "\n",
              "[639 rows x 1 columns]"
            ]
          },
          "metadata": {
            "tags": []
          },
          "execution_count": 21
        }
      ]
    },
    {
      "cell_type": "markdown",
      "metadata": {
        "id": "hKBw4iBDNcXA",
        "colab_type": "text"
      },
      "source": [
        "## Calculate bins\n"
      ]
    },
    {
      "cell_type": "markdown",
      "metadata": {
        "id": "LK7-FLX_Z9bP",
        "colab_type": "text"
      },
      "source": [
        "Recap...\n",
        "* Calculated bin sizes are the size of our notes we're going to detect, i.e. 16th notes.\n",
        "\n",
        "* Need to properly bin notes that are either early or late, to do this we assign notes to a bin that are up to half a bin/ note size early or late, so need to slide the window down by half a bin. This means we capture notes early/ late either side of the 16th note."
      ]
    },
    {
      "cell_type": "code",
      "metadata": {
        "id": "NlFH0fV33-4h",
        "colab_type": "code",
        "outputId": "3c697da0-f75c-4620-cbe8-f79078f800f6",
        "colab": {
          "base_uri": "https://localhost:8080/",
          "height": 51
        }
      },
      "source": [
        "# recalcalculate bins sliding them down \n",
        "# by half a bin size...\n",
        "print('halfa bin: {}'.format (bin_size/2))\n",
        "\n",
        "my_bins=range(0 - (int(bin_size/ 2)), file_range + bin_size, bin_size)  # if you don't 'file_range + bin_size' you get one short\n",
        "my_bins\n"
      ],
      "execution_count": 22,
      "outputs": [
        {
          "output_type": "stream",
          "text": [
            "halfa bin: 60.0\n"
          ],
          "name": "stdout"
        },
        {
          "output_type": "execute_result",
          "data": {
            "text/plain": [
              "range(-60, 30840, 120)"
            ]
          },
          "metadata": {
            "tags": []
          },
          "execution_count": 22
        }
      ]
    },
    {
      "cell_type": "code",
      "metadata": {
        "id": "1vZqBJSDffJr",
        "colab_type": "code",
        "colab": {
          "base_uri": "https://localhost:8080/",
          "height": 272
        },
        "outputId": "5a85cc30-5765-45db-e121-e0b0d0653d01"
      },
      "source": [
        "calculated_bins = pd.cut(just_ons[midi_file.cum_ticks_col], bins=my_bins, right=False)\n",
        "type(calculated_bins)\n",
        "print(calculated_bins)"
      ],
      "execution_count": 23,
      "outputs": [
        {
          "output_type": "execute_result",
          "data": {
            "text/plain": [
              "pandas.core.series.Series"
            ]
          },
          "metadata": {
            "tags": []
          },
          "execution_count": 23
        },
        {
          "output_type": "stream",
          "text": [
            "0           [-60, 60)\n",
            "1           [-60, 60)\n",
            "2           [-60, 60)\n",
            "3           [-60, 60)\n",
            "4           [-60, 60)\n",
            "            ...      \n",
            "634    [30540, 30660)\n",
            "635    [30540, 30660)\n",
            "636    [30660, 30780)\n",
            "637    [30660, 30780)\n",
            "638    [30660, 30780)\n",
            "Name: total_ticks, Length: 639, dtype: category\n",
            "Categories (257, interval[int64]): [[-60, 60) < [60, 180) < [180, 300) < [300, 420) < ... <\n",
            "                                    [30300, 30420) < [30420, 30540) < [30540, 30660) <\n",
            "                                    [30660, 30780)]\n"
          ],
          "name": "stdout"
        }
      ]
    },
    {
      "cell_type": "code",
      "metadata": {
        "id": "8ftXlz0JNVKq",
        "colab_type": "code",
        "colab": {
          "base_uri": "https://localhost:8080/",
          "height": 238
        },
        "outputId": "582d886b-7ff0-4d0d-c4db-214e163d93a3"
      },
      "source": [
        "beat_points = range(0, file_range + bin_size, bin_size)  # if you don't 'file_range + bin_size' you get one short\n",
        "assigned_beat_location = pd.cut(just_ons[midi_file.cum_ticks_col], bins=my_bins, right=False, labels=beat_points)\n",
        "assigned_beat_location\n"
      ],
      "execution_count": 24,
      "outputs": [
        {
          "output_type": "execute_result",
          "data": {
            "text/plain": [
              "0          0\n",
              "1          0\n",
              "2          0\n",
              "3          0\n",
              "4          0\n",
              "       ...  \n",
              "634    30600\n",
              "635    30600\n",
              "636    30720\n",
              "637    30720\n",
              "638    30720\n",
              "Name: total_ticks, Length: 639, dtype: category\n",
              "Categories (257, int64): [0 < 120 < 240 < 360 ... 30360 < 30480 < 30600 < 30720]"
            ]
          },
          "metadata": {
            "tags": []
          },
          "execution_count": 24
        }
      ]
    },
    {
      "cell_type": "code",
      "metadata": {
        "id": "ZhhrJhhXb2O-",
        "colab_type": "code",
        "colab": {}
      },
      "source": [
        "# Track where in the timeline each MIDI event happened\n",
        "# by adding calculted bin/ category as a new column\n",
        "df['bin_cat'] = calculated_bins\n",
        "\n",
        "# label events with nearest beat\n",
        "df['beat_cat'] = assigned_beat_location\n"
      ],
      "execution_count": 0,
      "outputs": []
    },
    {
      "cell_type": "code",
      "metadata": {
        "id": "c0mtYffVf5R7",
        "colab_type": "code",
        "outputId": "ef165acf-5cbe-4d00-b1a6-c626fb889faa",
        "colab": {
          "base_uri": "https://localhost:8080/",
          "height": 1000
        }
      },
      "source": [
        "df.head(20)\n",
        "df.tail(20)"
      ],
      "execution_count": 26,
      "outputs": [
        {
          "output_type": "execute_result",
          "data": {
            "text/html": [
              "<div>\n",
              "<style scoped>\n",
              "    .dataframe tbody tr th:only-of-type {\n",
              "        vertical-align: middle;\n",
              "    }\n",
              "\n",
              "    .dataframe tbody tr th {\n",
              "        vertical-align: top;\n",
              "    }\n",
              "\n",
              "    .dataframe thead th {\n",
              "        text-align: right;\n",
              "    }\n",
              "</style>\n",
              "<table border=\"1\" class=\"dataframe\">\n",
              "  <thead>\n",
              "    <tr style=\"text-align: right;\">\n",
              "      <th></th>\n",
              "      <th>msg_type</th>\n",
              "      <th>delta_ticks</th>\n",
              "      <th>total_ticks</th>\n",
              "      <th>total_seconds</th>\n",
              "      <th>note</th>\n",
              "      <th>velocity</th>\n",
              "      <th>raw_data</th>\n",
              "      <th>bin_cat</th>\n",
              "      <th>beat_cat</th>\n",
              "    </tr>\n",
              "  </thead>\n",
              "  <tbody>\n",
              "    <tr>\n",
              "      <th>0</th>\n",
              "      <td>track_name</td>\n",
              "      <td>0</td>\n",
              "      <td>0</td>\n",
              "      <td>0.000000</td>\n",
              "      <td>NaN</td>\n",
              "      <td>NaN</td>\n",
              "      <td>{'type': 'track_name', 'name': 'MIDI', 'time': 0}</td>\n",
              "      <td>[-60, 60)</td>\n",
              "      <td>0</td>\n",
              "    </tr>\n",
              "    <tr>\n",
              "      <th>1</th>\n",
              "      <td>instrument_name</td>\n",
              "      <td>0</td>\n",
              "      <td>0</td>\n",
              "      <td>0.000000</td>\n",
              "      <td>NaN</td>\n",
              "      <td>NaN</td>\n",
              "      <td>{'type': 'instrument_name', 'name': 'Brooklyn', 'time': 0}</td>\n",
              "      <td>[-60, 60)</td>\n",
              "      <td>0</td>\n",
              "    </tr>\n",
              "    <tr>\n",
              "      <th>2</th>\n",
              "      <td>time_signature</td>\n",
              "      <td>0</td>\n",
              "      <td>0</td>\n",
              "      <td>0.000000</td>\n",
              "      <td>NaN</td>\n",
              "      <td>NaN</td>\n",
              "      <td>{'type': 'time_signature', 'numerator': 4, 'denominator': 4, 'clocks_per_click': 24, 'notated_32nd_notes_per_beat': 8, 'time': 0}</td>\n",
              "      <td>[-60, 60)</td>\n",
              "      <td>0</td>\n",
              "    </tr>\n",
              "    <tr>\n",
              "      <th>3</th>\n",
              "      <td>key_signature</td>\n",
              "      <td>0</td>\n",
              "      <td>0</td>\n",
              "      <td>0.000000</td>\n",
              "      <td>NaN</td>\n",
              "      <td>NaN</td>\n",
              "      <td>{'type': 'key_signature', 'key': 'C', 'time': 0}</td>\n",
              "      <td>[-60, 60)</td>\n",
              "      <td>0</td>\n",
              "    </tr>\n",
              "    <tr>\n",
              "      <th>4</th>\n",
              "      <td>smpte_offset</td>\n",
              "      <td>0</td>\n",
              "      <td>0</td>\n",
              "      <td>0.000000</td>\n",
              "      <td>NaN</td>\n",
              "      <td>NaN</td>\n",
              "      <td>{'type': 'smpte_offset', 'frame_rate': 24, 'hours': 33, 'minutes': 0, 'seconds': 0, 'frames': 0, 'sub_frames': 0, 'time': 0}</td>\n",
              "      <td>[-60, 60)</td>\n",
              "      <td>0</td>\n",
              "    </tr>\n",
              "    <tr>\n",
              "      <th>5</th>\n",
              "      <td>set_tempo</td>\n",
              "      <td>0</td>\n",
              "      <td>0</td>\n",
              "      <td>0.000000</td>\n",
              "      <td>NaN</td>\n",
              "      <td>NaN</td>\n",
              "      <td>{'type': 'set_tempo', 'tempo': 588235, 'time': 0}</td>\n",
              "      <td>[-60, 60)</td>\n",
              "      <td>0</td>\n",
              "    </tr>\n",
              "    <tr>\n",
              "      <th>6</th>\n",
              "      <td>control_change</td>\n",
              "      <td>0</td>\n",
              "      <td>0</td>\n",
              "      <td>0.000000</td>\n",
              "      <td>NaN</td>\n",
              "      <td>NaN</td>\n",
              "      <td>{'type': 'control_change', 'time': 0, 'control': 4, 'value': 90, 'channel': 9}</td>\n",
              "      <td>[-60, 60)</td>\n",
              "      <td>0</td>\n",
              "    </tr>\n",
              "    <tr>\n",
              "      <th>7</th>\n",
              "      <td>note_on</td>\n",
              "      <td>0</td>\n",
              "      <td>0</td>\n",
              "      <td>0.000000</td>\n",
              "      <td>42.0</td>\n",
              "      <td>99.0</td>\n",
              "      <td>{'type': 'note_on', 'time': 0, 'note': 22, 'velocity': 99, 'channel': 9}</td>\n",
              "      <td>[-60, 60)</td>\n",
              "      <td>0</td>\n",
              "    </tr>\n",
              "    <tr>\n",
              "      <th>8</th>\n",
              "      <td>note_on</td>\n",
              "      <td>0</td>\n",
              "      <td>0</td>\n",
              "      <td>0.000000</td>\n",
              "      <td>36.0</td>\n",
              "      <td>127.0</td>\n",
              "      <td>{'type': 'note_on', 'time': 0, 'note': 36, 'velocity': 127, 'channel': 9}</td>\n",
              "      <td>[-60, 60)</td>\n",
              "      <td>0</td>\n",
              "    </tr>\n",
              "    <tr>\n",
              "      <th>9</th>\n",
              "      <td>note_off</td>\n",
              "      <td>71</td>\n",
              "      <td>71</td>\n",
              "      <td>0.087010</td>\n",
              "      <td>42.0</td>\n",
              "      <td>64.0</td>\n",
              "      <td>{'type': 'note_off', 'time': 71, 'note': 22, 'velocity': 64, 'channel': 9}</td>\n",
              "      <td>[60, 180)</td>\n",
              "      <td>120</td>\n",
              "    </tr>\n",
              "    <tr>\n",
              "      <th>10</th>\n",
              "      <td>note_off</td>\n",
              "      <td>0</td>\n",
              "      <td>71</td>\n",
              "      <td>0.087010</td>\n",
              "      <td>36.0</td>\n",
              "      <td>64.0</td>\n",
              "      <td>{'type': 'note_off', 'time': 0, 'note': 36, 'velocity': 64, 'channel': 9}</td>\n",
              "      <td>[60, 180)</td>\n",
              "      <td>120</td>\n",
              "    </tr>\n",
              "    <tr>\n",
              "      <th>11</th>\n",
              "      <td>control_change</td>\n",
              "      <td>164</td>\n",
              "      <td>235</td>\n",
              "      <td>0.287990</td>\n",
              "      <td>NaN</td>\n",
              "      <td>NaN</td>\n",
              "      <td>{'type': 'control_change', 'time': 164, 'control': 4, 'value': 90, 'channel': 9}</td>\n",
              "      <td>[180, 300)</td>\n",
              "      <td>240</td>\n",
              "    </tr>\n",
              "    <tr>\n",
              "      <th>12</th>\n",
              "      <td>note_on</td>\n",
              "      <td>0</td>\n",
              "      <td>235</td>\n",
              "      <td>0.287990</td>\n",
              "      <td>42.0</td>\n",
              "      <td>21.0</td>\n",
              "      <td>{'type': 'note_on', 'time': 0, 'note': 42, 'velocity': 21, 'channel': 9}</td>\n",
              "      <td>[180, 300)</td>\n",
              "      <td>240</td>\n",
              "    </tr>\n",
              "    <tr>\n",
              "      <th>13</th>\n",
              "      <td>note_off</td>\n",
              "      <td>82</td>\n",
              "      <td>317</td>\n",
              "      <td>0.388480</td>\n",
              "      <td>42.0</td>\n",
              "      <td>64.0</td>\n",
              "      <td>{'type': 'note_off', 'time': 82, 'note': 42, 'velocity': 64, 'channel': 9}</td>\n",
              "      <td>[300, 420)</td>\n",
              "      <td>360</td>\n",
              "    </tr>\n",
              "    <tr>\n",
              "      <th>14</th>\n",
              "      <td>note_on</td>\n",
              "      <td>144</td>\n",
              "      <td>461</td>\n",
              "      <td>0.564951</td>\n",
              "      <td>38.0</td>\n",
              "      <td>127.0</td>\n",
              "      <td>{'type': 'note_on', 'time': 144, 'note': 40, 'velocity': 127, 'channel': 9}</td>\n",
              "      <td>[420, 540)</td>\n",
              "      <td>480</td>\n",
              "    </tr>\n",
              "    <tr>\n",
              "      <th>15</th>\n",
              "      <td>control_change</td>\n",
              "      <td>7</td>\n",
              "      <td>468</td>\n",
              "      <td>0.573529</td>\n",
              "      <td>NaN</td>\n",
              "      <td>NaN</td>\n",
              "      <td>{'type': 'control_change', 'time': 7, 'control': 4, 'value': 90, 'channel': 9}</td>\n",
              "      <td>[420, 540)</td>\n",
              "      <td>480</td>\n",
              "    </tr>\n",
              "    <tr>\n",
              "      <th>16</th>\n",
              "      <td>note_on</td>\n",
              "      <td>0</td>\n",
              "      <td>468</td>\n",
              "      <td>0.573529</td>\n",
              "      <td>42.0</td>\n",
              "      <td>75.0</td>\n",
              "      <td>{'type': 'note_on', 'time': 0, 'note': 42, 'velocity': 75, 'channel': 9}</td>\n",
              "      <td>[420, 540)</td>\n",
              "      <td>480</td>\n",
              "    </tr>\n",
              "    <tr>\n",
              "      <th>17</th>\n",
              "      <td>note_off</td>\n",
              "      <td>75</td>\n",
              "      <td>543</td>\n",
              "      <td>0.665441</td>\n",
              "      <td>38.0</td>\n",
              "      <td>64.0</td>\n",
              "      <td>{'type': 'note_off', 'time': 75, 'note': 40, 'velocity': 64, 'channel': 9}</td>\n",
              "      <td>[540, 660)</td>\n",
              "      <td>600</td>\n",
              "    </tr>\n",
              "    <tr>\n",
              "      <th>18</th>\n",
              "      <td>note_off</td>\n",
              "      <td>8</td>\n",
              "      <td>551</td>\n",
              "      <td>0.675245</td>\n",
              "      <td>42.0</td>\n",
              "      <td>64.0</td>\n",
              "      <td>{'type': 'note_off', 'time': 8, 'note': 42, 'velocity': 64, 'channel': 9}</td>\n",
              "      <td>[540, 660)</td>\n",
              "      <td>600</td>\n",
              "    </tr>\n",
              "    <tr>\n",
              "      <th>19</th>\n",
              "      <td>note_on</td>\n",
              "      <td>23</td>\n",
              "      <td>574</td>\n",
              "      <td>0.703431</td>\n",
              "      <td>38.0</td>\n",
              "      <td>8.0</td>\n",
              "      <td>{'type': 'note_on', 'time': 23, 'note': 38, 'velocity': 8, 'channel': 9}</td>\n",
              "      <td>[540, 660)</td>\n",
              "      <td>600</td>\n",
              "    </tr>\n",
              "  </tbody>\n",
              "</table>\n",
              "</div>"
            ],
            "text/plain": [
              "           msg_type  delta_ticks  total_ticks  total_seconds  note  velocity  \\\n",
              "0        track_name            0            0       0.000000   NaN       NaN   \n",
              "1   instrument_name            0            0       0.000000   NaN       NaN   \n",
              "2    time_signature            0            0       0.000000   NaN       NaN   \n",
              "3     key_signature            0            0       0.000000   NaN       NaN   \n",
              "4      smpte_offset            0            0       0.000000   NaN       NaN   \n",
              "5         set_tempo            0            0       0.000000   NaN       NaN   \n",
              "6    control_change            0            0       0.000000   NaN       NaN   \n",
              "7           note_on            0            0       0.000000  42.0      99.0   \n",
              "8           note_on            0            0       0.000000  36.0     127.0   \n",
              "9          note_off           71           71       0.087010  42.0      64.0   \n",
              "10         note_off            0           71       0.087010  36.0      64.0   \n",
              "11   control_change          164          235       0.287990   NaN       NaN   \n",
              "12          note_on            0          235       0.287990  42.0      21.0   \n",
              "13         note_off           82          317       0.388480  42.0      64.0   \n",
              "14          note_on          144          461       0.564951  38.0     127.0   \n",
              "15   control_change            7          468       0.573529   NaN       NaN   \n",
              "16          note_on            0          468       0.573529  42.0      75.0   \n",
              "17         note_off           75          543       0.665441  38.0      64.0   \n",
              "18         note_off            8          551       0.675245  42.0      64.0   \n",
              "19          note_on           23          574       0.703431  38.0       8.0   \n",
              "\n",
              "                                                                                                                             raw_data  \\\n",
              "0                                                                                   {'type': 'track_name', 'name': 'MIDI', 'time': 0}   \n",
              "1                                                                          {'type': 'instrument_name', 'name': 'Brooklyn', 'time': 0}   \n",
              "2   {'type': 'time_signature', 'numerator': 4, 'denominator': 4, 'clocks_per_click': 24, 'notated_32nd_notes_per_beat': 8, 'time': 0}   \n",
              "3                                                                                    {'type': 'key_signature', 'key': 'C', 'time': 0}   \n",
              "4        {'type': 'smpte_offset', 'frame_rate': 24, 'hours': 33, 'minutes': 0, 'seconds': 0, 'frames': 0, 'sub_frames': 0, 'time': 0}   \n",
              "5                                                                                   {'type': 'set_tempo', 'tempo': 588235, 'time': 0}   \n",
              "6                                                      {'type': 'control_change', 'time': 0, 'control': 4, 'value': 90, 'channel': 9}   \n",
              "7                                                            {'type': 'note_on', 'time': 0, 'note': 22, 'velocity': 99, 'channel': 9}   \n",
              "8                                                           {'type': 'note_on', 'time': 0, 'note': 36, 'velocity': 127, 'channel': 9}   \n",
              "9                                                          {'type': 'note_off', 'time': 71, 'note': 22, 'velocity': 64, 'channel': 9}   \n",
              "10                                                          {'type': 'note_off', 'time': 0, 'note': 36, 'velocity': 64, 'channel': 9}   \n",
              "11                                                   {'type': 'control_change', 'time': 164, 'control': 4, 'value': 90, 'channel': 9}   \n",
              "12                                                           {'type': 'note_on', 'time': 0, 'note': 42, 'velocity': 21, 'channel': 9}   \n",
              "13                                                         {'type': 'note_off', 'time': 82, 'note': 42, 'velocity': 64, 'channel': 9}   \n",
              "14                                                        {'type': 'note_on', 'time': 144, 'note': 40, 'velocity': 127, 'channel': 9}   \n",
              "15                                                     {'type': 'control_change', 'time': 7, 'control': 4, 'value': 90, 'channel': 9}   \n",
              "16                                                           {'type': 'note_on', 'time': 0, 'note': 42, 'velocity': 75, 'channel': 9}   \n",
              "17                                                         {'type': 'note_off', 'time': 75, 'note': 40, 'velocity': 64, 'channel': 9}   \n",
              "18                                                          {'type': 'note_off', 'time': 8, 'note': 42, 'velocity': 64, 'channel': 9}   \n",
              "19                                                           {'type': 'note_on', 'time': 23, 'note': 38, 'velocity': 8, 'channel': 9}   \n",
              "\n",
              "       bin_cat beat_cat  \n",
              "0    [-60, 60)        0  \n",
              "1    [-60, 60)        0  \n",
              "2    [-60, 60)        0  \n",
              "3    [-60, 60)        0  \n",
              "4    [-60, 60)        0  \n",
              "5    [-60, 60)        0  \n",
              "6    [-60, 60)        0  \n",
              "7    [-60, 60)        0  \n",
              "8    [-60, 60)        0  \n",
              "9    [60, 180)      120  \n",
              "10   [60, 180)      120  \n",
              "11  [180, 300)      240  \n",
              "12  [180, 300)      240  \n",
              "13  [300, 420)      360  \n",
              "14  [420, 540)      480  \n",
              "15  [420, 540)      480  \n",
              "16  [420, 540)      480  \n",
              "17  [540, 660)      600  \n",
              "18  [540, 660)      600  \n",
              "19  [540, 660)      600  "
            ]
          },
          "metadata": {
            "tags": []
          },
          "execution_count": 26
        },
        {
          "output_type": "execute_result",
          "data": {
            "text/html": [
              "<div>\n",
              "<style scoped>\n",
              "    .dataframe tbody tr th:only-of-type {\n",
              "        vertical-align: middle;\n",
              "    }\n",
              "\n",
              "    .dataframe tbody tr th {\n",
              "        vertical-align: top;\n",
              "    }\n",
              "\n",
              "    .dataframe thead th {\n",
              "        text-align: right;\n",
              "    }\n",
              "</style>\n",
              "<table border=\"1\" class=\"dataframe\">\n",
              "  <thead>\n",
              "    <tr style=\"text-align: right;\">\n",
              "      <th></th>\n",
              "      <th>msg_type</th>\n",
              "      <th>delta_ticks</th>\n",
              "      <th>total_ticks</th>\n",
              "      <th>total_seconds</th>\n",
              "      <th>note</th>\n",
              "      <th>velocity</th>\n",
              "      <th>raw_data</th>\n",
              "      <th>bin_cat</th>\n",
              "      <th>beat_cat</th>\n",
              "    </tr>\n",
              "  </thead>\n",
              "  <tbody>\n",
              "    <tr>\n",
              "      <th>619</th>\n",
              "      <td>note_on</td>\n",
              "      <td>7</td>\n",
              "      <td>30178</td>\n",
              "      <td>36.982825</td>\n",
              "      <td>42.0</td>\n",
              "      <td>62.0</td>\n",
              "      <td>{'type': 'note_on', 'time': 7, 'note': 44, 'velocity': 62, 'channel': 9}</td>\n",
              "      <td>[30060, 30180)</td>\n",
              "      <td>30120</td>\n",
              "    </tr>\n",
              "    <tr>\n",
              "      <th>620</th>\n",
              "      <td>note_off</td>\n",
              "      <td>4</td>\n",
              "      <td>30182</td>\n",
              "      <td>36.987727</td>\n",
              "      <td>50.0</td>\n",
              "      <td>64.0</td>\n",
              "      <td>{'type': 'note_off', 'time': 4, 'note': 48, 'velocity': 64, 'channel': 9}</td>\n",
              "      <td>[30180, 30300)</td>\n",
              "      <td>30240</td>\n",
              "    </tr>\n",
              "    <tr>\n",
              "      <th>621</th>\n",
              "      <td>control_change</td>\n",
              "      <td>21</td>\n",
              "      <td>30203</td>\n",
              "      <td>37.013462</td>\n",
              "      <td>NaN</td>\n",
              "      <td>NaN</td>\n",
              "      <td>{'type': 'control_change', 'time': 21, 'control': 4, 'value': 90, 'channel': 9}</td>\n",
              "      <td>[30180, 30300)</td>\n",
              "      <td>30240</td>\n",
              "    </tr>\n",
              "    <tr>\n",
              "      <th>622</th>\n",
              "      <td>note_on</td>\n",
              "      <td>11</td>\n",
              "      <td>30214</td>\n",
              "      <td>37.026942</td>\n",
              "      <td>50.0</td>\n",
              "      <td>127.0</td>\n",
              "      <td>{'type': 'note_on', 'time': 11, 'note': 48, 'velocity': 127, 'channel': 9}</td>\n",
              "      <td>[30180, 30300)</td>\n",
              "      <td>30240</td>\n",
              "    </tr>\n",
              "    <tr>\n",
              "      <th>623</th>\n",
              "      <td>note_off</td>\n",
              "      <td>46</td>\n",
              "      <td>30260</td>\n",
              "      <td>37.083315</td>\n",
              "      <td>42.0</td>\n",
              "      <td>64.0</td>\n",
              "      <td>{'type': 'note_off', 'time': 46, 'note': 44, 'velocity': 64, 'channel': 9}</td>\n",
              "      <td>[30180, 30300)</td>\n",
              "      <td>30240</td>\n",
              "    </tr>\n",
              "    <tr>\n",
              "      <th>624</th>\n",
              "      <td>note_off</td>\n",
              "      <td>37</td>\n",
              "      <td>30297</td>\n",
              "      <td>37.128658</td>\n",
              "      <td>50.0</td>\n",
              "      <td>64.0</td>\n",
              "      <td>{'type': 'note_off', 'time': 37, 'note': 48, 'velocity': 64, 'channel': 9}</td>\n",
              "      <td>[30180, 30300)</td>\n",
              "      <td>30240</td>\n",
              "    </tr>\n",
              "    <tr>\n",
              "      <th>625</th>\n",
              "      <td>note_on</td>\n",
              "      <td>33</td>\n",
              "      <td>30330</td>\n",
              "      <td>37.169099</td>\n",
              "      <td>43.0</td>\n",
              "      <td>96.0</td>\n",
              "      <td>{'type': 'note_on', 'time': 33, 'note': 43, 'velocity': 96, 'channel': 9}</td>\n",
              "      <td>[30300, 30420)</td>\n",
              "      <td>30360</td>\n",
              "    </tr>\n",
              "    <tr>\n",
              "      <th>626</th>\n",
              "      <td>control_change</td>\n",
              "      <td>46</td>\n",
              "      <td>30376</td>\n",
              "      <td>37.225472</td>\n",
              "      <td>NaN</td>\n",
              "      <td>NaN</td>\n",
              "      <td>{'type': 'control_change', 'time': 46, 'control': 4, 'value': 9, 'channel': 9}</td>\n",
              "      <td>[30300, 30420)</td>\n",
              "      <td>30360</td>\n",
              "    </tr>\n",
              "    <tr>\n",
              "      <th>627</th>\n",
              "      <td>note_off</td>\n",
              "      <td>36</td>\n",
              "      <td>30412</td>\n",
              "      <td>37.269589</td>\n",
              "      <td>43.0</td>\n",
              "      <td>64.0</td>\n",
              "      <td>{'type': 'note_off', 'time': 36, 'note': 43, 'velocity': 64, 'channel': 9}</td>\n",
              "      <td>[30300, 30420)</td>\n",
              "      <td>30360</td>\n",
              "    </tr>\n",
              "    <tr>\n",
              "      <th>628</th>\n",
              "      <td>control_change</td>\n",
              "      <td>1</td>\n",
              "      <td>30413</td>\n",
              "      <td>37.270815</td>\n",
              "      <td>NaN</td>\n",
              "      <td>NaN</td>\n",
              "      <td>{'type': 'control_change', 'time': 1, 'control': 4, 'value': 32, 'channel': 9}</td>\n",
              "      <td>[30300, 30420)</td>\n",
              "      <td>30360</td>\n",
              "    </tr>\n",
              "    <tr>\n",
              "      <th>629</th>\n",
              "      <td>note_on</td>\n",
              "      <td>6</td>\n",
              "      <td>30419</td>\n",
              "      <td>37.278168</td>\n",
              "      <td>42.0</td>\n",
              "      <td>77.0</td>\n",
              "      <td>{'type': 'note_on', 'time': 6, 'note': 44, 'velocity': 77, 'channel': 9}</td>\n",
              "      <td>[30300, 30420)</td>\n",
              "      <td>30360</td>\n",
              "    </tr>\n",
              "    <tr>\n",
              "      <th>630</th>\n",
              "      <td>control_change</td>\n",
              "      <td>25</td>\n",
              "      <td>30444</td>\n",
              "      <td>37.308805</td>\n",
              "      <td>NaN</td>\n",
              "      <td>NaN</td>\n",
              "      <td>{'type': 'control_change', 'time': 25, 'control': 4, 'value': 90, 'channel': 9}</td>\n",
              "      <td>[30420, 30540)</td>\n",
              "      <td>30480</td>\n",
              "    </tr>\n",
              "    <tr>\n",
              "      <th>631</th>\n",
              "      <td>note_on</td>\n",
              "      <td>2</td>\n",
              "      <td>30446</td>\n",
              "      <td>37.311256</td>\n",
              "      <td>43.0</td>\n",
              "      <td>89.0</td>\n",
              "      <td>{'type': 'note_on', 'time': 2, 'note': 43, 'velocity': 89, 'channel': 9}</td>\n",
              "      <td>[30420, 30540)</td>\n",
              "      <td>30480</td>\n",
              "    </tr>\n",
              "    <tr>\n",
              "      <th>632</th>\n",
              "      <td>note_off</td>\n",
              "      <td>55</td>\n",
              "      <td>30501</td>\n",
              "      <td>37.378658</td>\n",
              "      <td>42.0</td>\n",
              "      <td>64.0</td>\n",
              "      <td>{'type': 'note_off', 'time': 55, 'note': 44, 'velocity': 64, 'channel': 9}</td>\n",
              "      <td>[30420, 30540)</td>\n",
              "      <td>30480</td>\n",
              "    </tr>\n",
              "    <tr>\n",
              "      <th>633</th>\n",
              "      <td>note_off</td>\n",
              "      <td>28</td>\n",
              "      <td>30529</td>\n",
              "      <td>37.412971</td>\n",
              "      <td>43.0</td>\n",
              "      <td>64.0</td>\n",
              "      <td>{'type': 'note_off', 'time': 28, 'note': 43, 'velocity': 64, 'channel': 9}</td>\n",
              "      <td>[30420, 30540)</td>\n",
              "      <td>30480</td>\n",
              "    </tr>\n",
              "    <tr>\n",
              "      <th>634</th>\n",
              "      <td>note_on</td>\n",
              "      <td>37</td>\n",
              "      <td>30566</td>\n",
              "      <td>37.458315</td>\n",
              "      <td>43.0</td>\n",
              "      <td>112.0</td>\n",
              "      <td>{'type': 'note_on', 'time': 37, 'note': 43, 'velocity': 112, 'channel': 9}</td>\n",
              "      <td>[30540, 30660)</td>\n",
              "      <td>30600</td>\n",
              "    </tr>\n",
              "    <tr>\n",
              "      <th>635</th>\n",
              "      <td>note_off</td>\n",
              "      <td>83</td>\n",
              "      <td>30649</td>\n",
              "      <td>37.560030</td>\n",
              "      <td>43.0</td>\n",
              "      <td>64.0</td>\n",
              "      <td>{'type': 'note_off', 'time': 83, 'note': 43, 'velocity': 64, 'channel': 9}</td>\n",
              "      <td>[30540, 30660)</td>\n",
              "      <td>30600</td>\n",
              "    </tr>\n",
              "    <tr>\n",
              "      <th>636</th>\n",
              "      <td>note_on</td>\n",
              "      <td>24</td>\n",
              "      <td>30673</td>\n",
              "      <td>37.589442</td>\n",
              "      <td>36.0</td>\n",
              "      <td>127.0</td>\n",
              "      <td>{'type': 'note_on', 'time': 24, 'note': 36, 'velocity': 127, 'channel': 9}</td>\n",
              "      <td>[30660, 30780)</td>\n",
              "      <td>30720</td>\n",
              "    </tr>\n",
              "    <tr>\n",
              "      <th>637</th>\n",
              "      <td>note_off</td>\n",
              "      <td>83</td>\n",
              "      <td>30756</td>\n",
              "      <td>37.691158</td>\n",
              "      <td>36.0</td>\n",
              "      <td>64.0</td>\n",
              "      <td>{'type': 'note_off', 'time': 83, 'note': 36, 'velocity': 64, 'channel': 9}</td>\n",
              "      <td>[30660, 30780)</td>\n",
              "      <td>30720</td>\n",
              "    </tr>\n",
              "    <tr>\n",
              "      <th>638</th>\n",
              "      <td>end_of_track</td>\n",
              "      <td>0</td>\n",
              "      <td>30756</td>\n",
              "      <td>37.691158</td>\n",
              "      <td>NaN</td>\n",
              "      <td>NaN</td>\n",
              "      <td>{'type': 'end_of_track', 'time': 0}</td>\n",
              "      <td>[30660, 30780)</td>\n",
              "      <td>30720</td>\n",
              "    </tr>\n",
              "  </tbody>\n",
              "</table>\n",
              "</div>"
            ],
            "text/plain": [
              "           msg_type  delta_ticks  total_ticks  total_seconds  note  velocity  \\\n",
              "619         note_on            7        30178      36.982825  42.0      62.0   \n",
              "620        note_off            4        30182      36.987727  50.0      64.0   \n",
              "621  control_change           21        30203      37.013462   NaN       NaN   \n",
              "622         note_on           11        30214      37.026942  50.0     127.0   \n",
              "623        note_off           46        30260      37.083315  42.0      64.0   \n",
              "624        note_off           37        30297      37.128658  50.0      64.0   \n",
              "625         note_on           33        30330      37.169099  43.0      96.0   \n",
              "626  control_change           46        30376      37.225472   NaN       NaN   \n",
              "627        note_off           36        30412      37.269589  43.0      64.0   \n",
              "628  control_change            1        30413      37.270815   NaN       NaN   \n",
              "629         note_on            6        30419      37.278168  42.0      77.0   \n",
              "630  control_change           25        30444      37.308805   NaN       NaN   \n",
              "631         note_on            2        30446      37.311256  43.0      89.0   \n",
              "632        note_off           55        30501      37.378658  42.0      64.0   \n",
              "633        note_off           28        30529      37.412971  43.0      64.0   \n",
              "634         note_on           37        30566      37.458315  43.0     112.0   \n",
              "635        note_off           83        30649      37.560030  43.0      64.0   \n",
              "636         note_on           24        30673      37.589442  36.0     127.0   \n",
              "637        note_off           83        30756      37.691158  36.0      64.0   \n",
              "638    end_of_track            0        30756      37.691158   NaN       NaN   \n",
              "\n",
              "                                                                            raw_data  \\\n",
              "619         {'type': 'note_on', 'time': 7, 'note': 44, 'velocity': 62, 'channel': 9}   \n",
              "620        {'type': 'note_off', 'time': 4, 'note': 48, 'velocity': 64, 'channel': 9}   \n",
              "621  {'type': 'control_change', 'time': 21, 'control': 4, 'value': 90, 'channel': 9}   \n",
              "622       {'type': 'note_on', 'time': 11, 'note': 48, 'velocity': 127, 'channel': 9}   \n",
              "623       {'type': 'note_off', 'time': 46, 'note': 44, 'velocity': 64, 'channel': 9}   \n",
              "624       {'type': 'note_off', 'time': 37, 'note': 48, 'velocity': 64, 'channel': 9}   \n",
              "625        {'type': 'note_on', 'time': 33, 'note': 43, 'velocity': 96, 'channel': 9}   \n",
              "626   {'type': 'control_change', 'time': 46, 'control': 4, 'value': 9, 'channel': 9}   \n",
              "627       {'type': 'note_off', 'time': 36, 'note': 43, 'velocity': 64, 'channel': 9}   \n",
              "628   {'type': 'control_change', 'time': 1, 'control': 4, 'value': 32, 'channel': 9}   \n",
              "629         {'type': 'note_on', 'time': 6, 'note': 44, 'velocity': 77, 'channel': 9}   \n",
              "630  {'type': 'control_change', 'time': 25, 'control': 4, 'value': 90, 'channel': 9}   \n",
              "631         {'type': 'note_on', 'time': 2, 'note': 43, 'velocity': 89, 'channel': 9}   \n",
              "632       {'type': 'note_off', 'time': 55, 'note': 44, 'velocity': 64, 'channel': 9}   \n",
              "633       {'type': 'note_off', 'time': 28, 'note': 43, 'velocity': 64, 'channel': 9}   \n",
              "634       {'type': 'note_on', 'time': 37, 'note': 43, 'velocity': 112, 'channel': 9}   \n",
              "635       {'type': 'note_off', 'time': 83, 'note': 43, 'velocity': 64, 'channel': 9}   \n",
              "636       {'type': 'note_on', 'time': 24, 'note': 36, 'velocity': 127, 'channel': 9}   \n",
              "637       {'type': 'note_off', 'time': 83, 'note': 36, 'velocity': 64, 'channel': 9}   \n",
              "638                                              {'type': 'end_of_track', 'time': 0}   \n",
              "\n",
              "            bin_cat beat_cat  \n",
              "619  [30060, 30180)    30120  \n",
              "620  [30180, 30300)    30240  \n",
              "621  [30180, 30300)    30240  \n",
              "622  [30180, 30300)    30240  \n",
              "623  [30180, 30300)    30240  \n",
              "624  [30180, 30300)    30240  \n",
              "625  [30300, 30420)    30360  \n",
              "626  [30300, 30420)    30360  \n",
              "627  [30300, 30420)    30360  \n",
              "628  [30300, 30420)    30360  \n",
              "629  [30300, 30420)    30360  \n",
              "630  [30420, 30540)    30480  \n",
              "631  [30420, 30540)    30480  \n",
              "632  [30420, 30540)    30480  \n",
              "633  [30420, 30540)    30480  \n",
              "634  [30540, 30660)    30600  \n",
              "635  [30540, 30660)    30600  \n",
              "636  [30660, 30780)    30720  \n",
              "637  [30660, 30780)    30720  \n",
              "638  [30660, 30780)    30720  "
            ]
          },
          "metadata": {
            "tags": []
          },
          "execution_count": 26
        }
      ]
    },
    {
      "cell_type": "code",
      "metadata": {
        "id": "Q-88ybi8T9PM",
        "colab_type": "code",
        "colab": {
          "base_uri": "https://localhost:8080/",
          "height": 289
        },
        "outputId": "1cae8f80-6c1d-449a-b333-5749f1e4fffa"
      },
      "source": [
        "df.info()"
      ],
      "execution_count": 27,
      "outputs": [
        {
          "output_type": "stream",
          "text": [
            "<class 'pandas.core.frame.DataFrame'>\n",
            "RangeIndex: 639 entries, 0 to 638\n",
            "Data columns (total 9 columns):\n",
            " #   Column         Non-Null Count  Dtype   \n",
            "---  ------         --------------  -----   \n",
            " 0   msg_type       639 non-null    string  \n",
            " 1   delta_ticks    639 non-null    int64   \n",
            " 2   total_ticks    639 non-null    int64   \n",
            " 3   total_seconds  639 non-null    float64 \n",
            " 4   note           494 non-null    float64 \n",
            " 5   velocity       494 non-null    float64 \n",
            " 6   raw_data       639 non-null    string  \n",
            " 7   bin_cat        639 non-null    category\n",
            " 8   beat_cat       639 non-null    category\n",
            "dtypes: category(2), float64(3), int64(2), string(2)\n",
            "memory usage: 51.7 KB\n"
          ],
          "name": "stdout"
        }
      ]
    },
    {
      "cell_type": "markdown",
      "metadata": {
        "id": "S4WLWu6IpVHx",
        "colab_type": "text"
      },
      "source": [
        "## Calculate message offset from calculated beat\n"
      ]
    },
    {
      "cell_type": "markdown",
      "metadata": {
        "id": "l-lhTIQBcBE1",
        "colab_type": "text"
      },
      "source": [
        "Got stuck with a 'Categorical' column type above when I just wanted the plain old number. This next bit is weird as I'm having to jump through hoops to get the category converted to an int - I need the int rather than the label as the int is the precise time of the beat and I need to work with that.\n",
        "\n",
        "More info here: https://stackoverflow.com/a/51102402"
      ]
    },
    {
      "cell_type": "code",
      "metadata": {
        "id": "gGPs65mQVUcv",
        "colab_type": "code",
        "colab": {
          "base_uri": "https://localhost:8080/",
          "height": 54
        },
        "outputId": "3e6302ba-45e7-473c-b126-458aacc6364d"
      },
      "source": [
        "tmp_dict = dict(enumerate(df.beat_cat.cat.categories))\n",
        "print(tmp_dict)\n"
      ],
      "execution_count": 28,
      "outputs": [
        {
          "output_type": "stream",
          "text": [
            "{0: 0, 1: 120, 2: 240, 3: 360, 4: 480, 5: 600, 6: 720, 7: 840, 8: 960, 9: 1080, 10: 1200, 11: 1320, 12: 1440, 13: 1560, 14: 1680, 15: 1800, 16: 1920, 17: 2040, 18: 2160, 19: 2280, 20: 2400, 21: 2520, 22: 2640, 23: 2760, 24: 2880, 25: 3000, 26: 3120, 27: 3240, 28: 3360, 29: 3480, 30: 3600, 31: 3720, 32: 3840, 33: 3960, 34: 4080, 35: 4200, 36: 4320, 37: 4440, 38: 4560, 39: 4680, 40: 4800, 41: 4920, 42: 5040, 43: 5160, 44: 5280, 45: 5400, 46: 5520, 47: 5640, 48: 5760, 49: 5880, 50: 6000, 51: 6120, 52: 6240, 53: 6360, 54: 6480, 55: 6600, 56: 6720, 57: 6840, 58: 6960, 59: 7080, 60: 7200, 61: 7320, 62: 7440, 63: 7560, 64: 7680, 65: 7800, 66: 7920, 67: 8040, 68: 8160, 69: 8280, 70: 8400, 71: 8520, 72: 8640, 73: 8760, 74: 8880, 75: 9000, 76: 9120, 77: 9240, 78: 9360, 79: 9480, 80: 9600, 81: 9720, 82: 9840, 83: 9960, 84: 10080, 85: 10200, 86: 10320, 87: 10440, 88: 10560, 89: 10680, 90: 10800, 91: 10920, 92: 11040, 93: 11160, 94: 11280, 95: 11400, 96: 11520, 97: 11640, 98: 11760, 99: 11880, 100: 12000, 101: 12120, 102: 12240, 103: 12360, 104: 12480, 105: 12600, 106: 12720, 107: 12840, 108: 12960, 109: 13080, 110: 13200, 111: 13320, 112: 13440, 113: 13560, 114: 13680, 115: 13800, 116: 13920, 117: 14040, 118: 14160, 119: 14280, 120: 14400, 121: 14520, 122: 14640, 123: 14760, 124: 14880, 125: 15000, 126: 15120, 127: 15240, 128: 15360, 129: 15480, 130: 15600, 131: 15720, 132: 15840, 133: 15960, 134: 16080, 135: 16200, 136: 16320, 137: 16440, 138: 16560, 139: 16680, 140: 16800, 141: 16920, 142: 17040, 143: 17160, 144: 17280, 145: 17400, 146: 17520, 147: 17640, 148: 17760, 149: 17880, 150: 18000, 151: 18120, 152: 18240, 153: 18360, 154: 18480, 155: 18600, 156: 18720, 157: 18840, 158: 18960, 159: 19080, 160: 19200, 161: 19320, 162: 19440, 163: 19560, 164: 19680, 165: 19800, 166: 19920, 167: 20040, 168: 20160, 169: 20280, 170: 20400, 171: 20520, 172: 20640, 173: 20760, 174: 20880, 175: 21000, 176: 21120, 177: 21240, 178: 21360, 179: 21480, 180: 21600, 181: 21720, 182: 21840, 183: 21960, 184: 22080, 185: 22200, 186: 22320, 187: 22440, 188: 22560, 189: 22680, 190: 22800, 191: 22920, 192: 23040, 193: 23160, 194: 23280, 195: 23400, 196: 23520, 197: 23640, 198: 23760, 199: 23880, 200: 24000, 201: 24120, 202: 24240, 203: 24360, 204: 24480, 205: 24600, 206: 24720, 207: 24840, 208: 24960, 209: 25080, 210: 25200, 211: 25320, 212: 25440, 213: 25560, 214: 25680, 215: 25800, 216: 25920, 217: 26040, 218: 26160, 219: 26280, 220: 26400, 221: 26520, 222: 26640, 223: 26760, 224: 26880, 225: 27000, 226: 27120, 227: 27240, 228: 27360, 229: 27480, 230: 27600, 231: 27720, 232: 27840, 233: 27960, 234: 28080, 235: 28200, 236: 28320, 237: 28440, 238: 28560, 239: 28680, 240: 28800, 241: 28920, 242: 29040, 243: 29160, 244: 29280, 245: 29400, 246: 29520, 247: 29640, 248: 29760, 249: 29880, 250: 30000, 251: 30120, 252: 30240, 253: 30360, 254: 30480, 255: 30600, 256: 30720}\n"
          ],
          "name": "stdout"
        }
      ]
    },
    {
      "cell_type": "code",
      "metadata": {
        "id": "aPgmZEwgbUCp",
        "colab_type": "code",
        "colab": {}
      },
      "source": [
        "df['code'] = df.beat_cat.cat.codes\n",
        "df['beat_int'] = df['code'].map(tmp_dict)\n"
      ],
      "execution_count": 0,
      "outputs": []
    },
    {
      "cell_type": "code",
      "metadata": {
        "id": "Jwos2_FOjz2E",
        "colab_type": "code",
        "colab": {
          "base_uri": "https://localhost:8080/",
          "height": 1000
        },
        "outputId": "21b85d5f-85aa-485e-8d39-86691b03ea63"
      },
      "source": [
        "# label each event with offset from 'nearest_beat'\n",
        "# numbers in this column will be -ve if the message\n",
        "# was early, and +ve if the message was late. a value\n",
        "# of '0'  (zero) indicates the message was exactly on\n",
        "# the calculated beat\n",
        "df['beat_offset'] = df.total_ticks - df.beat_int \n",
        "df.head(15)\n",
        "df.tail(15)"
      ],
      "execution_count": 30,
      "outputs": [
        {
          "output_type": "execute_result",
          "data": {
            "text/html": [
              "<div>\n",
              "<style scoped>\n",
              "    .dataframe tbody tr th:only-of-type {\n",
              "        vertical-align: middle;\n",
              "    }\n",
              "\n",
              "    .dataframe tbody tr th {\n",
              "        vertical-align: top;\n",
              "    }\n",
              "\n",
              "    .dataframe thead th {\n",
              "        text-align: right;\n",
              "    }\n",
              "</style>\n",
              "<table border=\"1\" class=\"dataframe\">\n",
              "  <thead>\n",
              "    <tr style=\"text-align: right;\">\n",
              "      <th></th>\n",
              "      <th>msg_type</th>\n",
              "      <th>delta_ticks</th>\n",
              "      <th>total_ticks</th>\n",
              "      <th>total_seconds</th>\n",
              "      <th>note</th>\n",
              "      <th>velocity</th>\n",
              "      <th>raw_data</th>\n",
              "      <th>bin_cat</th>\n",
              "      <th>beat_cat</th>\n",
              "      <th>code</th>\n",
              "      <th>beat_int</th>\n",
              "      <th>beat_offset</th>\n",
              "    </tr>\n",
              "  </thead>\n",
              "  <tbody>\n",
              "    <tr>\n",
              "      <th>0</th>\n",
              "      <td>track_name</td>\n",
              "      <td>0</td>\n",
              "      <td>0</td>\n",
              "      <td>0.000000</td>\n",
              "      <td>NaN</td>\n",
              "      <td>NaN</td>\n",
              "      <td>{'type': 'track_name', 'name': 'MIDI', 'time': 0}</td>\n",
              "      <td>[-60, 60)</td>\n",
              "      <td>0</td>\n",
              "      <td>0</td>\n",
              "      <td>0</td>\n",
              "      <td>0</td>\n",
              "    </tr>\n",
              "    <tr>\n",
              "      <th>1</th>\n",
              "      <td>instrument_name</td>\n",
              "      <td>0</td>\n",
              "      <td>0</td>\n",
              "      <td>0.000000</td>\n",
              "      <td>NaN</td>\n",
              "      <td>NaN</td>\n",
              "      <td>{'type': 'instrument_name', 'name': 'Brooklyn', 'time': 0}</td>\n",
              "      <td>[-60, 60)</td>\n",
              "      <td>0</td>\n",
              "      <td>0</td>\n",
              "      <td>0</td>\n",
              "      <td>0</td>\n",
              "    </tr>\n",
              "    <tr>\n",
              "      <th>2</th>\n",
              "      <td>time_signature</td>\n",
              "      <td>0</td>\n",
              "      <td>0</td>\n",
              "      <td>0.000000</td>\n",
              "      <td>NaN</td>\n",
              "      <td>NaN</td>\n",
              "      <td>{'type': 'time_signature', 'numerator': 4, 'denominator': 4, 'clocks_per_click': 24, 'notated_32nd_notes_per_beat': 8, 'time': 0}</td>\n",
              "      <td>[-60, 60)</td>\n",
              "      <td>0</td>\n",
              "      <td>0</td>\n",
              "      <td>0</td>\n",
              "      <td>0</td>\n",
              "    </tr>\n",
              "    <tr>\n",
              "      <th>3</th>\n",
              "      <td>key_signature</td>\n",
              "      <td>0</td>\n",
              "      <td>0</td>\n",
              "      <td>0.000000</td>\n",
              "      <td>NaN</td>\n",
              "      <td>NaN</td>\n",
              "      <td>{'type': 'key_signature', 'key': 'C', 'time': 0}</td>\n",
              "      <td>[-60, 60)</td>\n",
              "      <td>0</td>\n",
              "      <td>0</td>\n",
              "      <td>0</td>\n",
              "      <td>0</td>\n",
              "    </tr>\n",
              "    <tr>\n",
              "      <th>4</th>\n",
              "      <td>smpte_offset</td>\n",
              "      <td>0</td>\n",
              "      <td>0</td>\n",
              "      <td>0.000000</td>\n",
              "      <td>NaN</td>\n",
              "      <td>NaN</td>\n",
              "      <td>{'type': 'smpte_offset', 'frame_rate': 24, 'hours': 33, 'minutes': 0, 'seconds': 0, 'frames': 0, 'sub_frames': 0, 'time': 0}</td>\n",
              "      <td>[-60, 60)</td>\n",
              "      <td>0</td>\n",
              "      <td>0</td>\n",
              "      <td>0</td>\n",
              "      <td>0</td>\n",
              "    </tr>\n",
              "    <tr>\n",
              "      <th>5</th>\n",
              "      <td>set_tempo</td>\n",
              "      <td>0</td>\n",
              "      <td>0</td>\n",
              "      <td>0.000000</td>\n",
              "      <td>NaN</td>\n",
              "      <td>NaN</td>\n",
              "      <td>{'type': 'set_tempo', 'tempo': 588235, 'time': 0}</td>\n",
              "      <td>[-60, 60)</td>\n",
              "      <td>0</td>\n",
              "      <td>0</td>\n",
              "      <td>0</td>\n",
              "      <td>0</td>\n",
              "    </tr>\n",
              "    <tr>\n",
              "      <th>6</th>\n",
              "      <td>control_change</td>\n",
              "      <td>0</td>\n",
              "      <td>0</td>\n",
              "      <td>0.000000</td>\n",
              "      <td>NaN</td>\n",
              "      <td>NaN</td>\n",
              "      <td>{'type': 'control_change', 'time': 0, 'control': 4, 'value': 90, 'channel': 9}</td>\n",
              "      <td>[-60, 60)</td>\n",
              "      <td>0</td>\n",
              "      <td>0</td>\n",
              "      <td>0</td>\n",
              "      <td>0</td>\n",
              "    </tr>\n",
              "    <tr>\n",
              "      <th>7</th>\n",
              "      <td>note_on</td>\n",
              "      <td>0</td>\n",
              "      <td>0</td>\n",
              "      <td>0.000000</td>\n",
              "      <td>42.0</td>\n",
              "      <td>99.0</td>\n",
              "      <td>{'type': 'note_on', 'time': 0, 'note': 22, 'velocity': 99, 'channel': 9}</td>\n",
              "      <td>[-60, 60)</td>\n",
              "      <td>0</td>\n",
              "      <td>0</td>\n",
              "      <td>0</td>\n",
              "      <td>0</td>\n",
              "    </tr>\n",
              "    <tr>\n",
              "      <th>8</th>\n",
              "      <td>note_on</td>\n",
              "      <td>0</td>\n",
              "      <td>0</td>\n",
              "      <td>0.000000</td>\n",
              "      <td>36.0</td>\n",
              "      <td>127.0</td>\n",
              "      <td>{'type': 'note_on', 'time': 0, 'note': 36, 'velocity': 127, 'channel': 9}</td>\n",
              "      <td>[-60, 60)</td>\n",
              "      <td>0</td>\n",
              "      <td>0</td>\n",
              "      <td>0</td>\n",
              "      <td>0</td>\n",
              "    </tr>\n",
              "    <tr>\n",
              "      <th>9</th>\n",
              "      <td>note_off</td>\n",
              "      <td>71</td>\n",
              "      <td>71</td>\n",
              "      <td>0.087010</td>\n",
              "      <td>42.0</td>\n",
              "      <td>64.0</td>\n",
              "      <td>{'type': 'note_off', 'time': 71, 'note': 22, 'velocity': 64, 'channel': 9}</td>\n",
              "      <td>[60, 180)</td>\n",
              "      <td>120</td>\n",
              "      <td>1</td>\n",
              "      <td>120</td>\n",
              "      <td>-49</td>\n",
              "    </tr>\n",
              "    <tr>\n",
              "      <th>10</th>\n",
              "      <td>note_off</td>\n",
              "      <td>0</td>\n",
              "      <td>71</td>\n",
              "      <td>0.087010</td>\n",
              "      <td>36.0</td>\n",
              "      <td>64.0</td>\n",
              "      <td>{'type': 'note_off', 'time': 0, 'note': 36, 'velocity': 64, 'channel': 9}</td>\n",
              "      <td>[60, 180)</td>\n",
              "      <td>120</td>\n",
              "      <td>1</td>\n",
              "      <td>120</td>\n",
              "      <td>-49</td>\n",
              "    </tr>\n",
              "    <tr>\n",
              "      <th>11</th>\n",
              "      <td>control_change</td>\n",
              "      <td>164</td>\n",
              "      <td>235</td>\n",
              "      <td>0.287990</td>\n",
              "      <td>NaN</td>\n",
              "      <td>NaN</td>\n",
              "      <td>{'type': 'control_change', 'time': 164, 'control': 4, 'value': 90, 'channel': 9}</td>\n",
              "      <td>[180, 300)</td>\n",
              "      <td>240</td>\n",
              "      <td>2</td>\n",
              "      <td>240</td>\n",
              "      <td>-5</td>\n",
              "    </tr>\n",
              "    <tr>\n",
              "      <th>12</th>\n",
              "      <td>note_on</td>\n",
              "      <td>0</td>\n",
              "      <td>235</td>\n",
              "      <td>0.287990</td>\n",
              "      <td>42.0</td>\n",
              "      <td>21.0</td>\n",
              "      <td>{'type': 'note_on', 'time': 0, 'note': 42, 'velocity': 21, 'channel': 9}</td>\n",
              "      <td>[180, 300)</td>\n",
              "      <td>240</td>\n",
              "      <td>2</td>\n",
              "      <td>240</td>\n",
              "      <td>-5</td>\n",
              "    </tr>\n",
              "    <tr>\n",
              "      <th>13</th>\n",
              "      <td>note_off</td>\n",
              "      <td>82</td>\n",
              "      <td>317</td>\n",
              "      <td>0.388480</td>\n",
              "      <td>42.0</td>\n",
              "      <td>64.0</td>\n",
              "      <td>{'type': 'note_off', 'time': 82, 'note': 42, 'velocity': 64, 'channel': 9}</td>\n",
              "      <td>[300, 420)</td>\n",
              "      <td>360</td>\n",
              "      <td>3</td>\n",
              "      <td>360</td>\n",
              "      <td>-43</td>\n",
              "    </tr>\n",
              "    <tr>\n",
              "      <th>14</th>\n",
              "      <td>note_on</td>\n",
              "      <td>144</td>\n",
              "      <td>461</td>\n",
              "      <td>0.564951</td>\n",
              "      <td>38.0</td>\n",
              "      <td>127.0</td>\n",
              "      <td>{'type': 'note_on', 'time': 144, 'note': 40, 'velocity': 127, 'channel': 9}</td>\n",
              "      <td>[420, 540)</td>\n",
              "      <td>480</td>\n",
              "      <td>4</td>\n",
              "      <td>480</td>\n",
              "      <td>-19</td>\n",
              "    </tr>\n",
              "  </tbody>\n",
              "</table>\n",
              "</div>"
            ],
            "text/plain": [
              "           msg_type  delta_ticks  total_ticks  total_seconds  note  velocity  \\\n",
              "0        track_name            0            0       0.000000   NaN       NaN   \n",
              "1   instrument_name            0            0       0.000000   NaN       NaN   \n",
              "2    time_signature            0            0       0.000000   NaN       NaN   \n",
              "3     key_signature            0            0       0.000000   NaN       NaN   \n",
              "4      smpte_offset            0            0       0.000000   NaN       NaN   \n",
              "5         set_tempo            0            0       0.000000   NaN       NaN   \n",
              "6    control_change            0            0       0.000000   NaN       NaN   \n",
              "7           note_on            0            0       0.000000  42.0      99.0   \n",
              "8           note_on            0            0       0.000000  36.0     127.0   \n",
              "9          note_off           71           71       0.087010  42.0      64.0   \n",
              "10         note_off            0           71       0.087010  36.0      64.0   \n",
              "11   control_change          164          235       0.287990   NaN       NaN   \n",
              "12          note_on            0          235       0.287990  42.0      21.0   \n",
              "13         note_off           82          317       0.388480  42.0      64.0   \n",
              "14          note_on          144          461       0.564951  38.0     127.0   \n",
              "\n",
              "                                                                                                                             raw_data  \\\n",
              "0                                                                                   {'type': 'track_name', 'name': 'MIDI', 'time': 0}   \n",
              "1                                                                          {'type': 'instrument_name', 'name': 'Brooklyn', 'time': 0}   \n",
              "2   {'type': 'time_signature', 'numerator': 4, 'denominator': 4, 'clocks_per_click': 24, 'notated_32nd_notes_per_beat': 8, 'time': 0}   \n",
              "3                                                                                    {'type': 'key_signature', 'key': 'C', 'time': 0}   \n",
              "4        {'type': 'smpte_offset', 'frame_rate': 24, 'hours': 33, 'minutes': 0, 'seconds': 0, 'frames': 0, 'sub_frames': 0, 'time': 0}   \n",
              "5                                                                                   {'type': 'set_tempo', 'tempo': 588235, 'time': 0}   \n",
              "6                                                      {'type': 'control_change', 'time': 0, 'control': 4, 'value': 90, 'channel': 9}   \n",
              "7                                                            {'type': 'note_on', 'time': 0, 'note': 22, 'velocity': 99, 'channel': 9}   \n",
              "8                                                           {'type': 'note_on', 'time': 0, 'note': 36, 'velocity': 127, 'channel': 9}   \n",
              "9                                                          {'type': 'note_off', 'time': 71, 'note': 22, 'velocity': 64, 'channel': 9}   \n",
              "10                                                          {'type': 'note_off', 'time': 0, 'note': 36, 'velocity': 64, 'channel': 9}   \n",
              "11                                                   {'type': 'control_change', 'time': 164, 'control': 4, 'value': 90, 'channel': 9}   \n",
              "12                                                           {'type': 'note_on', 'time': 0, 'note': 42, 'velocity': 21, 'channel': 9}   \n",
              "13                                                         {'type': 'note_off', 'time': 82, 'note': 42, 'velocity': 64, 'channel': 9}   \n",
              "14                                                        {'type': 'note_on', 'time': 144, 'note': 40, 'velocity': 127, 'channel': 9}   \n",
              "\n",
              "       bin_cat beat_cat  code  beat_int  beat_offset  \n",
              "0    [-60, 60)        0     0         0            0  \n",
              "1    [-60, 60)        0     0         0            0  \n",
              "2    [-60, 60)        0     0         0            0  \n",
              "3    [-60, 60)        0     0         0            0  \n",
              "4    [-60, 60)        0     0         0            0  \n",
              "5    [-60, 60)        0     0         0            0  \n",
              "6    [-60, 60)        0     0         0            0  \n",
              "7    [-60, 60)        0     0         0            0  \n",
              "8    [-60, 60)        0     0         0            0  \n",
              "9    [60, 180)      120     1       120          -49  \n",
              "10   [60, 180)      120     1       120          -49  \n",
              "11  [180, 300)      240     2       240           -5  \n",
              "12  [180, 300)      240     2       240           -5  \n",
              "13  [300, 420)      360     3       360          -43  \n",
              "14  [420, 540)      480     4       480          -19  "
            ]
          },
          "metadata": {
            "tags": []
          },
          "execution_count": 30
        },
        {
          "output_type": "execute_result",
          "data": {
            "text/html": [
              "<div>\n",
              "<style scoped>\n",
              "    .dataframe tbody tr th:only-of-type {\n",
              "        vertical-align: middle;\n",
              "    }\n",
              "\n",
              "    .dataframe tbody tr th {\n",
              "        vertical-align: top;\n",
              "    }\n",
              "\n",
              "    .dataframe thead th {\n",
              "        text-align: right;\n",
              "    }\n",
              "</style>\n",
              "<table border=\"1\" class=\"dataframe\">\n",
              "  <thead>\n",
              "    <tr style=\"text-align: right;\">\n",
              "      <th></th>\n",
              "      <th>msg_type</th>\n",
              "      <th>delta_ticks</th>\n",
              "      <th>total_ticks</th>\n",
              "      <th>total_seconds</th>\n",
              "      <th>note</th>\n",
              "      <th>velocity</th>\n",
              "      <th>raw_data</th>\n",
              "      <th>bin_cat</th>\n",
              "      <th>beat_cat</th>\n",
              "      <th>code</th>\n",
              "      <th>beat_int</th>\n",
              "      <th>beat_offset</th>\n",
              "    </tr>\n",
              "  </thead>\n",
              "  <tbody>\n",
              "    <tr>\n",
              "      <th>624</th>\n",
              "      <td>note_off</td>\n",
              "      <td>37</td>\n",
              "      <td>30297</td>\n",
              "      <td>37.128658</td>\n",
              "      <td>50.0</td>\n",
              "      <td>64.0</td>\n",
              "      <td>{'type': 'note_off', 'time': 37, 'note': 48, 'velocity': 64, 'channel': 9}</td>\n",
              "      <td>[30180, 30300)</td>\n",
              "      <td>30240</td>\n",
              "      <td>252</td>\n",
              "      <td>30240</td>\n",
              "      <td>57</td>\n",
              "    </tr>\n",
              "    <tr>\n",
              "      <th>625</th>\n",
              "      <td>note_on</td>\n",
              "      <td>33</td>\n",
              "      <td>30330</td>\n",
              "      <td>37.169099</td>\n",
              "      <td>43.0</td>\n",
              "      <td>96.0</td>\n",
              "      <td>{'type': 'note_on', 'time': 33, 'note': 43, 'velocity': 96, 'channel': 9}</td>\n",
              "      <td>[30300, 30420)</td>\n",
              "      <td>30360</td>\n",
              "      <td>253</td>\n",
              "      <td>30360</td>\n",
              "      <td>-30</td>\n",
              "    </tr>\n",
              "    <tr>\n",
              "      <th>626</th>\n",
              "      <td>control_change</td>\n",
              "      <td>46</td>\n",
              "      <td>30376</td>\n",
              "      <td>37.225472</td>\n",
              "      <td>NaN</td>\n",
              "      <td>NaN</td>\n",
              "      <td>{'type': 'control_change', 'time': 46, 'control': 4, 'value': 9, 'channel': 9}</td>\n",
              "      <td>[30300, 30420)</td>\n",
              "      <td>30360</td>\n",
              "      <td>253</td>\n",
              "      <td>30360</td>\n",
              "      <td>16</td>\n",
              "    </tr>\n",
              "    <tr>\n",
              "      <th>627</th>\n",
              "      <td>note_off</td>\n",
              "      <td>36</td>\n",
              "      <td>30412</td>\n",
              "      <td>37.269589</td>\n",
              "      <td>43.0</td>\n",
              "      <td>64.0</td>\n",
              "      <td>{'type': 'note_off', 'time': 36, 'note': 43, 'velocity': 64, 'channel': 9}</td>\n",
              "      <td>[30300, 30420)</td>\n",
              "      <td>30360</td>\n",
              "      <td>253</td>\n",
              "      <td>30360</td>\n",
              "      <td>52</td>\n",
              "    </tr>\n",
              "    <tr>\n",
              "      <th>628</th>\n",
              "      <td>control_change</td>\n",
              "      <td>1</td>\n",
              "      <td>30413</td>\n",
              "      <td>37.270815</td>\n",
              "      <td>NaN</td>\n",
              "      <td>NaN</td>\n",
              "      <td>{'type': 'control_change', 'time': 1, 'control': 4, 'value': 32, 'channel': 9}</td>\n",
              "      <td>[30300, 30420)</td>\n",
              "      <td>30360</td>\n",
              "      <td>253</td>\n",
              "      <td>30360</td>\n",
              "      <td>53</td>\n",
              "    </tr>\n",
              "    <tr>\n",
              "      <th>629</th>\n",
              "      <td>note_on</td>\n",
              "      <td>6</td>\n",
              "      <td>30419</td>\n",
              "      <td>37.278168</td>\n",
              "      <td>42.0</td>\n",
              "      <td>77.0</td>\n",
              "      <td>{'type': 'note_on', 'time': 6, 'note': 44, 'velocity': 77, 'channel': 9}</td>\n",
              "      <td>[30300, 30420)</td>\n",
              "      <td>30360</td>\n",
              "      <td>253</td>\n",
              "      <td>30360</td>\n",
              "      <td>59</td>\n",
              "    </tr>\n",
              "    <tr>\n",
              "      <th>630</th>\n",
              "      <td>control_change</td>\n",
              "      <td>25</td>\n",
              "      <td>30444</td>\n",
              "      <td>37.308805</td>\n",
              "      <td>NaN</td>\n",
              "      <td>NaN</td>\n",
              "      <td>{'type': 'control_change', 'time': 25, 'control': 4, 'value': 90, 'channel': 9}</td>\n",
              "      <td>[30420, 30540)</td>\n",
              "      <td>30480</td>\n",
              "      <td>254</td>\n",
              "      <td>30480</td>\n",
              "      <td>-36</td>\n",
              "    </tr>\n",
              "    <tr>\n",
              "      <th>631</th>\n",
              "      <td>note_on</td>\n",
              "      <td>2</td>\n",
              "      <td>30446</td>\n",
              "      <td>37.311256</td>\n",
              "      <td>43.0</td>\n",
              "      <td>89.0</td>\n",
              "      <td>{'type': 'note_on', 'time': 2, 'note': 43, 'velocity': 89, 'channel': 9}</td>\n",
              "      <td>[30420, 30540)</td>\n",
              "      <td>30480</td>\n",
              "      <td>254</td>\n",
              "      <td>30480</td>\n",
              "      <td>-34</td>\n",
              "    </tr>\n",
              "    <tr>\n",
              "      <th>632</th>\n",
              "      <td>note_off</td>\n",
              "      <td>55</td>\n",
              "      <td>30501</td>\n",
              "      <td>37.378658</td>\n",
              "      <td>42.0</td>\n",
              "      <td>64.0</td>\n",
              "      <td>{'type': 'note_off', 'time': 55, 'note': 44, 'velocity': 64, 'channel': 9}</td>\n",
              "      <td>[30420, 30540)</td>\n",
              "      <td>30480</td>\n",
              "      <td>254</td>\n",
              "      <td>30480</td>\n",
              "      <td>21</td>\n",
              "    </tr>\n",
              "    <tr>\n",
              "      <th>633</th>\n",
              "      <td>note_off</td>\n",
              "      <td>28</td>\n",
              "      <td>30529</td>\n",
              "      <td>37.412971</td>\n",
              "      <td>43.0</td>\n",
              "      <td>64.0</td>\n",
              "      <td>{'type': 'note_off', 'time': 28, 'note': 43, 'velocity': 64, 'channel': 9}</td>\n",
              "      <td>[30420, 30540)</td>\n",
              "      <td>30480</td>\n",
              "      <td>254</td>\n",
              "      <td>30480</td>\n",
              "      <td>49</td>\n",
              "    </tr>\n",
              "    <tr>\n",
              "      <th>634</th>\n",
              "      <td>note_on</td>\n",
              "      <td>37</td>\n",
              "      <td>30566</td>\n",
              "      <td>37.458315</td>\n",
              "      <td>43.0</td>\n",
              "      <td>112.0</td>\n",
              "      <td>{'type': 'note_on', 'time': 37, 'note': 43, 'velocity': 112, 'channel': 9}</td>\n",
              "      <td>[30540, 30660)</td>\n",
              "      <td>30600</td>\n",
              "      <td>255</td>\n",
              "      <td>30600</td>\n",
              "      <td>-34</td>\n",
              "    </tr>\n",
              "    <tr>\n",
              "      <th>635</th>\n",
              "      <td>note_off</td>\n",
              "      <td>83</td>\n",
              "      <td>30649</td>\n",
              "      <td>37.560030</td>\n",
              "      <td>43.0</td>\n",
              "      <td>64.0</td>\n",
              "      <td>{'type': 'note_off', 'time': 83, 'note': 43, 'velocity': 64, 'channel': 9}</td>\n",
              "      <td>[30540, 30660)</td>\n",
              "      <td>30600</td>\n",
              "      <td>255</td>\n",
              "      <td>30600</td>\n",
              "      <td>49</td>\n",
              "    </tr>\n",
              "    <tr>\n",
              "      <th>636</th>\n",
              "      <td>note_on</td>\n",
              "      <td>24</td>\n",
              "      <td>30673</td>\n",
              "      <td>37.589442</td>\n",
              "      <td>36.0</td>\n",
              "      <td>127.0</td>\n",
              "      <td>{'type': 'note_on', 'time': 24, 'note': 36, 'velocity': 127, 'channel': 9}</td>\n",
              "      <td>[30660, 30780)</td>\n",
              "      <td>30720</td>\n",
              "      <td>256</td>\n",
              "      <td>30720</td>\n",
              "      <td>-47</td>\n",
              "    </tr>\n",
              "    <tr>\n",
              "      <th>637</th>\n",
              "      <td>note_off</td>\n",
              "      <td>83</td>\n",
              "      <td>30756</td>\n",
              "      <td>37.691158</td>\n",
              "      <td>36.0</td>\n",
              "      <td>64.0</td>\n",
              "      <td>{'type': 'note_off', 'time': 83, 'note': 36, 'velocity': 64, 'channel': 9}</td>\n",
              "      <td>[30660, 30780)</td>\n",
              "      <td>30720</td>\n",
              "      <td>256</td>\n",
              "      <td>30720</td>\n",
              "      <td>36</td>\n",
              "    </tr>\n",
              "    <tr>\n",
              "      <th>638</th>\n",
              "      <td>end_of_track</td>\n",
              "      <td>0</td>\n",
              "      <td>30756</td>\n",
              "      <td>37.691158</td>\n",
              "      <td>NaN</td>\n",
              "      <td>NaN</td>\n",
              "      <td>{'type': 'end_of_track', 'time': 0}</td>\n",
              "      <td>[30660, 30780)</td>\n",
              "      <td>30720</td>\n",
              "      <td>256</td>\n",
              "      <td>30720</td>\n",
              "      <td>36</td>\n",
              "    </tr>\n",
              "  </tbody>\n",
              "</table>\n",
              "</div>"
            ],
            "text/plain": [
              "           msg_type  delta_ticks  total_ticks  total_seconds  note  velocity  \\\n",
              "624        note_off           37        30297      37.128658  50.0      64.0   \n",
              "625         note_on           33        30330      37.169099  43.0      96.0   \n",
              "626  control_change           46        30376      37.225472   NaN       NaN   \n",
              "627        note_off           36        30412      37.269589  43.0      64.0   \n",
              "628  control_change            1        30413      37.270815   NaN       NaN   \n",
              "629         note_on            6        30419      37.278168  42.0      77.0   \n",
              "630  control_change           25        30444      37.308805   NaN       NaN   \n",
              "631         note_on            2        30446      37.311256  43.0      89.0   \n",
              "632        note_off           55        30501      37.378658  42.0      64.0   \n",
              "633        note_off           28        30529      37.412971  43.0      64.0   \n",
              "634         note_on           37        30566      37.458315  43.0     112.0   \n",
              "635        note_off           83        30649      37.560030  43.0      64.0   \n",
              "636         note_on           24        30673      37.589442  36.0     127.0   \n",
              "637        note_off           83        30756      37.691158  36.0      64.0   \n",
              "638    end_of_track            0        30756      37.691158   NaN       NaN   \n",
              "\n",
              "                                                                            raw_data  \\\n",
              "624       {'type': 'note_off', 'time': 37, 'note': 48, 'velocity': 64, 'channel': 9}   \n",
              "625        {'type': 'note_on', 'time': 33, 'note': 43, 'velocity': 96, 'channel': 9}   \n",
              "626   {'type': 'control_change', 'time': 46, 'control': 4, 'value': 9, 'channel': 9}   \n",
              "627       {'type': 'note_off', 'time': 36, 'note': 43, 'velocity': 64, 'channel': 9}   \n",
              "628   {'type': 'control_change', 'time': 1, 'control': 4, 'value': 32, 'channel': 9}   \n",
              "629         {'type': 'note_on', 'time': 6, 'note': 44, 'velocity': 77, 'channel': 9}   \n",
              "630  {'type': 'control_change', 'time': 25, 'control': 4, 'value': 90, 'channel': 9}   \n",
              "631         {'type': 'note_on', 'time': 2, 'note': 43, 'velocity': 89, 'channel': 9}   \n",
              "632       {'type': 'note_off', 'time': 55, 'note': 44, 'velocity': 64, 'channel': 9}   \n",
              "633       {'type': 'note_off', 'time': 28, 'note': 43, 'velocity': 64, 'channel': 9}   \n",
              "634       {'type': 'note_on', 'time': 37, 'note': 43, 'velocity': 112, 'channel': 9}   \n",
              "635       {'type': 'note_off', 'time': 83, 'note': 43, 'velocity': 64, 'channel': 9}   \n",
              "636       {'type': 'note_on', 'time': 24, 'note': 36, 'velocity': 127, 'channel': 9}   \n",
              "637       {'type': 'note_off', 'time': 83, 'note': 36, 'velocity': 64, 'channel': 9}   \n",
              "638                                              {'type': 'end_of_track', 'time': 0}   \n",
              "\n",
              "            bin_cat beat_cat  code  beat_int  beat_offset  \n",
              "624  [30180, 30300)    30240   252     30240           57  \n",
              "625  [30300, 30420)    30360   253     30360          -30  \n",
              "626  [30300, 30420)    30360   253     30360           16  \n",
              "627  [30300, 30420)    30360   253     30360           52  \n",
              "628  [30300, 30420)    30360   253     30360           53  \n",
              "629  [30300, 30420)    30360   253     30360           59  \n",
              "630  [30420, 30540)    30480   254     30480          -36  \n",
              "631  [30420, 30540)    30480   254     30480          -34  \n",
              "632  [30420, 30540)    30480   254     30480           21  \n",
              "633  [30420, 30540)    30480   254     30480           49  \n",
              "634  [30540, 30660)    30600   255     30600          -34  \n",
              "635  [30540, 30660)    30600   255     30600           49  \n",
              "636  [30660, 30780)    30720   256     30720          -47  \n",
              "637  [30660, 30780)    30720   256     30720           36  \n",
              "638  [30660, 30780)    30720   256     30720           36  "
            ]
          },
          "metadata": {
            "tags": []
          },
          "execution_count": 30
        }
      ]
    },
    {
      "cell_type": "code",
      "metadata": {
        "id": "FZlLsi_Asnvo",
        "colab_type": "code",
        "outputId": "479e0a27-b0d9-4356-b297-58835e356a1f",
        "colab": {
          "base_uri": "https://localhost:8080/",
          "height": 221
        }
      },
      "source": [
        "# number beats per bucket, sort in bucket order\n",
        "# i.e. this is showing number of beats in\n",
        "# each bucket, in timeline order...\n",
        "bucket_counts = calculated_bins.value_counts()\n",
        "bucket_counts.sort_index()"
      ],
      "execution_count": 31,
      "outputs": [
        {
          "output_type": "execute_result",
          "data": {
            "text/plain": [
              "[-60, 60)         9\n",
              "[60, 180)         2\n",
              "[180, 300)        2\n",
              "[300, 420)        1\n",
              "[420, 540)        3\n",
              "                 ..\n",
              "[30180, 30300)    5\n",
              "[30300, 30420)    5\n",
              "[30420, 30540)    4\n",
              "[30540, 30660)    2\n",
              "[30660, 30780)    3\n",
              "Name: total_ticks, Length: 257, dtype: int64"
            ]
          },
          "metadata": {
            "tags": []
          },
          "execution_count": 31
        }
      ]
    },
    {
      "cell_type": "markdown",
      "metadata": {
        "id": "8oFTIydvSnrq",
        "colab_type": "text"
      },
      "source": [
        "# Visualisations"
      ]
    },
    {
      "cell_type": "markdown",
      "metadata": {
        "id": "EbEsW5ewSscC",
        "colab_type": "text"
      },
      "source": [
        "want to be able to plot MIDI data horizontally to get a visual of how onsets are looking. Useful looking links...\n",
        "* https://pbpython.com/effective-matplotlib.html (excellent tutorial!)\n",
        "* https://matplotlib.org/3.2.1/tutorials/introductory/lifecycle.html (another!)\n",
        "* https://matplotlib.org/gallery/lines_bars_and_markers/broken_barh.html\n"
      ]
    },
    {
      "cell_type": "code",
      "metadata": {
        "id": "YgTO5BQsRxd_",
        "colab_type": "code",
        "outputId": "7b1ff1b5-ec89-4101-ce74-b5be70a49d8a",
        "colab": {
          "base_uri": "https://localhost:8080/",
          "height": 330
        }
      },
      "source": [
        "\n",
        "#===========\n",
        "# Broken Barh\n",
        "#===========\n",
        "\n",
        "# Make a \"broken\" horizontal bar plot, i.e., one with gaps\n",
        "\n",
        "import matplotlib.pyplot as plt\n",
        "\n",
        "%matplotlib inline\n",
        "\n",
        "fig, ax = plt.subplots()\n",
        "ax.broken_barh([(110, 30), (150, 10)], (10, 9), facecolors='tab:blue')\n",
        "ax.broken_barh([(10, 50), (100, 20), (130, 10)], (20, 9), \n",
        "               facecolors=('tab:orange', 'tab:green', 'tab:red'))\n",
        "ax.set_ylim(5, 35)\n",
        "ax.set_xlim(0, 200)\n",
        "ax.set_xlabel('seconds since start')\n",
        "ax.set_yticks([15, 25])\n",
        "ax.set_yticklabels(['Bill', 'Jim'])\n",
        "ax.grid(True)\n",
        "ax.annotate('race interrupted', (61, 25),\n",
        "            xytext=(0.8, 0.9), textcoords='axes fraction',\n",
        "            arrowprops=dict(facecolor='black', shrink=0.05),\n",
        "            fontsize=16,\n",
        "            horizontalalignment='right', verticalalignment='top')\n",
        "\n",
        "plt.show()"
      ],
      "execution_count": 32,
      "outputs": [
        {
          "output_type": "execute_result",
          "data": {
            "text/plain": [
              "<matplotlib.collections.BrokenBarHCollection at 0x7f4f52413940>"
            ]
          },
          "metadata": {
            "tags": []
          },
          "execution_count": 32
        },
        {
          "output_type": "execute_result",
          "data": {
            "text/plain": [
              "<matplotlib.collections.BrokenBarHCollection at 0x7f4f52461da0>"
            ]
          },
          "metadata": {
            "tags": []
          },
          "execution_count": 32
        },
        {
          "output_type": "execute_result",
          "data": {
            "text/plain": [
              "(5.0, 35.0)"
            ]
          },
          "metadata": {
            "tags": []
          },
          "execution_count": 32
        },
        {
          "output_type": "execute_result",
          "data": {
            "text/plain": [
              "(0.0, 200.0)"
            ]
          },
          "metadata": {
            "tags": []
          },
          "execution_count": 32
        },
        {
          "output_type": "execute_result",
          "data": {
            "text/plain": [
              "Text(0.5, 0, 'seconds since start')"
            ]
          },
          "metadata": {
            "tags": []
          },
          "execution_count": 32
        },
        {
          "output_type": "execute_result",
          "data": {
            "text/plain": [
              "[<matplotlib.axis.YTick at 0x7f4f52438be0>,\n",
              " <matplotlib.axis.YTick at 0x7f4f524385c0>]"
            ]
          },
          "metadata": {
            "tags": []
          },
          "execution_count": 32
        },
        {
          "output_type": "execute_result",
          "data": {
            "text/plain": [
              "[Text(0, 0, 'Bill'), Text(0, 0, 'Jim')]"
            ]
          },
          "metadata": {
            "tags": []
          },
          "execution_count": 32
        },
        {
          "output_type": "execute_result",
          "data": {
            "text/plain": [
              "Text(0.8, 0.9, 'race interrupted')"
            ]
          },
          "metadata": {
            "tags": []
          },
          "execution_count": 32
        },
        {
          "output_type": "display_data",
          "data": {
            "image/png": "[encoded data removed]",
            "text/plain": [
              "<Figure size 432x288 with 1 Axes>"
            ]
          },
          "metadata": {
            "tags": [],
            "needs_background": "light"
          }
        }
      ]
    },
    {
      "cell_type": "code",
      "metadata": {
        "id": "Y5ms66fKR5pj",
        "colab_type": "code",
        "colab": {}
      },
      "source": [
        ""
      ],
      "execution_count": 0,
      "outputs": []
    }
  ]
}