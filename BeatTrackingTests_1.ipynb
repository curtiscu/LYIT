{
  "nbformat": 4,
  "nbformat_minor": 0,
  "metadata": {
    "colab": {
      "name": "BeatTrackingTests_1.ipynb",
      "provenance": [],
      "collapsed_sections": [],
      "toc_visible": true,
      "authorship_tag": "ABX9TyOOCvKvaXsKne1U95jIH06m",
      "include_colab_link": true
    },
    "kernelspec": {
      "name": "python3",
      "display_name": "Python 3"
    }
  },
  "cells": [
    {
      "cell_type": "markdown",
      "metadata": {
        "id": "view-in-github",
        "colab_type": "text"
      },
      "source": [
        "<a href=\"https://colab.research.google.com/github/curtiscu/LYIT/blob/master/BeatTrackingTests_1.ipynb\" target=\"_parent\"><img src=\"https://colab.research.google.com/assets/colab-badge.svg\" alt=\"Open In Colab\"/></a>"
      ]
    },
    {
      "cell_type": "markdown",
      "metadata": {
        "id": "C9ImNuDBsWU9",
        "colab_type": "text"
      },
      "source": [
        "# Work out beats, timings, etc for loaded data"
      ]
    },
    {
      "cell_type": "markdown",
      "metadata": {
        "id": "SEGg94Ioz0Xy",
        "colab_type": "text"
      },
      "source": [
        "Doc that came in handy creating this notebook..\n",
        "\n",
        "* https://stackoverflow.com/questions/48905127/importing-py-files-in-google-colab\n",
        "* https://ipython.org/ipython-doc/stable/config/extensions/autoreload.html\n",
        "* https://switowski.com/blog/ipython-autoreload\n"
      ]
    },
    {
      "cell_type": "markdown",
      "metadata": {
        "id": "NybvOG9ssS26",
        "colab_type": "text"
      },
      "source": [
        "# Setup env\n"
      ]
    },
    {
      "cell_type": "code",
      "metadata": {
        "id": "juZFbd9RttvQ",
        "colab_type": "code",
        "outputId": "b4aff7f1-b1d0-4072-a878-a8b0817b56ad",
        "colab": {
          "base_uri": "https://localhost:8080/",
          "height": 51
        }
      },
      "source": [
        "# print all cell output\n",
        "from IPython.core.interactiveshell import InteractiveShell\n",
        "InteractiveShell.ast_node_interactivity = \"all\"\n",
        "\n",
        "# install required libs\n",
        "!pip install mido\n"
      ],
      "execution_count": 63,
      "outputs": [
        {
          "output_type": "stream",
          "text": [
            "LOADING - data_prep.py module name is: data_prep\n",
            "Requirement already satisfied: mido in /usr/local/lib/python3.6/dist-packages (1.2.9)\n"
          ],
          "name": "stdout"
        }
      ]
    },
    {
      "cell_type": "markdown",
      "metadata": {
        "id": "yEXZFoA4t9de",
        "colab_type": "text"
      },
      "source": [
        ""
      ]
    },
    {
      "cell_type": "code",
      "metadata": {
        "id": "uRELmgI2mvEK",
        "colab_type": "code",
        "outputId": "384f031a-93c0-41d1-f81d-cca19a864bfc",
        "colab": {
          "base_uri": "https://localhost:8080/",
          "height": 34
        }
      },
      "source": [
        "# mount google drive\n",
        "\n",
        "from google.colab import drive\n",
        "drive.mount('/content/drive', force_remount=True)\n"
      ],
      "execution_count": 64,
      "outputs": [
        {
          "output_type": "stream",
          "text": [
            "Mounted at /content/drive\n"
          ],
          "name": "stdout"
        }
      ]
    },
    {
      "cell_type": "code",
      "metadata": {
        "id": "Yk2_ztH9uKat",
        "colab_type": "code",
        "outputId": "6e0e31eb-b70b-4fdb-a91d-68e3b5ad3163",
        "colab": {
          "base_uri": "https://localhost:8080/",
          "height": 255
        }
      },
      "source": [
        "# test, peek at data\n",
        "! ls -al '/content/drive/My Drive/groove-v1.0.0-midionly/groove/drummer1/eval_session/'\n",
        "\n",
        "# test, modules from local  'E:\\Google Drive\\LYIT\\Dissertation\\modules'\n",
        "! ls -al '/content/drive/My Drive/LYIT/Dissertation/modules/'"
      ],
      "execution_count": 65,
      "outputs": [
        {
          "output_type": "stream",
          "text": [
            "total 35\n",
            "-rw------- 1 root root 2589 Apr 27 12:01 10_soul-groove10_102_beat_4-4.mid\n",
            "-rw------- 1 root root 4793 Apr 27 12:01 1_funk-groove1_138_beat_4-4.mid\n",
            "-rw------- 1 root root 3243 Apr 27 12:01 2_funk-groove2_105_beat_4-4.mid\n",
            "-rw------- 1 root root 4466 Apr 27 12:01 3_soul-groove3_86_beat_4-4.mid\n",
            "-rw------- 1 root root 2551 Apr 27 12:01 4_soul-groove4_80_beat_4-4.mid\n",
            "-rw------- 1 root root 3798 Apr 27 12:01 5_funk-groove5_84_beat_4-4.mid\n",
            "-rw------- 1 root root 3760 Apr 27 12:01 6_hiphop-groove6_87_beat_4-4.mid\n",
            "-rw------- 1 root root 1894 Apr 27 12:01 7_pop-groove7_138_beat_4-4.mid\n",
            "-rw------- 1 root root 2437 Apr 27 12:01 8_rock-groove8_65_beat_4-4.mid\n",
            "-rw------- 1 root root 3448 Apr 27 12:01 9_soul-groove9_105_beat_4-4.mid\n",
            "total 10\n",
            "-rw------- 1 root root 5785 May 10 22:10 data_prep.py\n",
            "drwx------ 2 root root 4096 May 10 22:11 __pycache__\n"
          ],
          "name": "stdout"
        }
      ]
    },
    {
      "cell_type": "markdown",
      "metadata": {
        "id": "SBKOdMxXFygn",
        "colab_type": "text"
      },
      "source": [
        "## Auto reload module\n",
        "\n",
        "I'm now using a module edited and saved to google drive which is automatically pushed to the cloud and made available to the colab env. Changes need time to propagate, and imports don't 'reimport' to load changes, so trying the following...\n",
        "\n",
        "Note the code below is not very reliable, it seems to work occasionally, after some time, but haven't been able to work out the pattern to it. \n",
        "\n",
        "If in a hurry, brute force loading of changes by restarting the runtime."
      ]
    },
    {
      "cell_type": "code",
      "metadata": {
        "id": "jErvkusO6D01",
        "colab_type": "code",
        "colab": {
          "base_uri": "https://localhost:8080/",
          "height": 51
        },
        "outputId": "1048a10a-08a4-4111-e036-380836f1f1ac"
      },
      "source": [
        "# tool to auto reload modules.\n",
        "%load_ext autoreload\n",
        "\n",
        "# config to auto-reload all modules, handy to make \n",
        "# writing and testing modules much easier.\n",
        "%autoreload 2"
      ],
      "execution_count": 66,
      "outputs": [
        {
          "output_type": "stream",
          "text": [
            "The autoreload extension is already loaded. To reload it, use:\n",
            "  %reload_ext autoreload\n"
          ],
          "name": "stdout"
        }
      ]
    },
    {
      "cell_type": "code",
      "metadata": {
        "id": "rjqCavr4sz4x",
        "colab_type": "code",
        "colab": {}
      },
      "source": [
        "# imports\n",
        "import pandas as pd\n",
        "import mido \n",
        "from mido import MidiFile\n",
        "\n",
        "import datetime\n",
        "\n",
        "# import my modules\n",
        "import sys\n",
        "sys.path.append('/content/drive/My Drive/LYIT/Dissertation/modules/')\n",
        "import data_prep\n",
        "\n"
      ],
      "execution_count": 0,
      "outputs": []
    },
    {
      "cell_type": "code",
      "metadata": {
        "id": "0MMbo3wsI5gU",
        "colab_type": "code",
        "outputId": "81d8a64c-0c80-49c9-d8a4-3c88186b5223",
        "colab": {
          "base_uri": "https://localhost:8080/",
          "height": 34
        }
      },
      "source": [
        "print(datetime.datetime.now())"
      ],
      "execution_count": 68,
      "outputs": [
        {
          "output_type": "stream",
          "text": [
            "2020-05-10 22:11:25.317404\n"
          ],
          "name": "stdout"
        }
      ]
    },
    {
      "cell_type": "code",
      "metadata": {
        "id": "oPKVwQibzS7t",
        "colab_type": "code",
        "outputId": "4ac3bcbc-c57f-4635-d962-8c8f755b834c",
        "colab": {
          "base_uri": "https://localhost:8080/",
          "height": 34
        }
      },
      "source": [
        "# testing auto reload of modules \n",
        "data_prep.test_function_call('bling')"
      ],
      "execution_count": 69,
      "outputs": [
        {
          "output_type": "stream",
          "text": [
            "test function called worked! :)  bling\n"
          ],
          "name": "stdout"
        }
      ]
    },
    {
      "cell_type": "markdown",
      "metadata": {
        "id": "8DbIvTwPGpMU",
        "colab_type": "text"
      },
      "source": [
        "# Test creating object from custom module"
      ]
    },
    {
      "cell_type": "code",
      "metadata": {
        "id": "v9rxH3-9Gu64",
        "colab_type": "code",
        "outputId": "3f79d12f-b618-434d-e253-29a82776f178",
        "colab": {
          "base_uri": "https://localhost:8080/",
          "height": 85
        }
      },
      "source": [
        "midi_file = data_prep.MIDI_File_Wrapper('/content/drive/My Drive/groove-v1.0.0-midionly/groove/drummer1/eval_session/10_soul-groove10_102_beat_4-4.mid')"
      ],
      "execution_count": 70,
      "outputs": [
        {
          "output_type": "stream",
          "text": [
            "__ FILE: /content/drive/My Drive/groove-v1.0.0-midionly/groove/drummer1/eval_session/10_soul-groove10_102_beat_4-4.mid\n",
            "tracks: [<midi track 'MIDI' 639 messages>]\n",
            "time sig: <meta message time_signature numerator=4 denominator=4 clocks_per_click=24 notated_32nd_notes_per_beat=8 time=0>\n",
            "tempo: <meta message set_tempo tempo=588235 time=0>\n"
          ],
          "name": "stdout"
        }
      ]
    },
    {
      "cell_type": "markdown",
      "metadata": {
        "id": "VspeXMsHH6Q3",
        "colab_type": "text"
      },
      "source": [
        "... the above verifies I'm able to create custom objects from custom code, great!\n"
      ]
    },
    {
      "cell_type": "markdown",
      "metadata": {
        "id": "0VYbRPKaRu6H",
        "colab_type": "text"
      },
      "source": [
        "# Brainstorming ways to calculate beat times\n",
        "\n",
        "Things I might need to calculate..\n",
        "* start/ end times of bars\n",
        "* beat times for 1/4, 1/8, 1/16, 1/32 notes\n",
        "* shuffles in 4/4?\n",
        "\n",
        "Ways to go about it...\n",
        "* Take list of MIDI note_on, find what beat & bar to associate each beat with.\n",
        "* For a given musical beat, take the acceptable timing range for something to be considered related to it, filter all the MIDI notes against this range to see which if any fall into that range.\n",
        "\n",
        "Python code/ libs for ranges and splitting datasets..\n",
        "* python 'range', only works on integers\n",
        "* pandas.cut, pandas.qcut\n",
        "* numpy\n",
        "* itertools \n",
        "\n",
        "Some handy refs...\n",
        "* https://realpython.com/how-to-use-numpy-arange/\n",
        "* https://numpy.org/doc/stable/reference/generated/numpy.linspace.html\n",
        "* https://pbpython.com/pandas-qcut-cut.html < looks very promising!!!\n"
      ]
    },
    {
      "cell_type": "markdown",
      "metadata": {
        "id": "RN_HumVeJQrE",
        "colab_type": "text"
      },
      "source": [
        "## peek at example object data.."
      ]
    },
    {
      "cell_type": "code",
      "metadata": {
        "id": "ehfX9txCCnvy",
        "colab_type": "code",
        "outputId": "07ee279e-fa73-4160-be5f-efd08aeb602b",
        "colab": {
          "base_uri": "https://localhost:8080/",
          "height": 343
        }
      },
      "source": [
        "# take a peek inside what we've setup already...\n",
        "midi_file.__dict__"
      ],
      "execution_count": 71,
      "outputs": [
        {
          "output_type": "execute_result",
          "data": {
            "text/plain": [
              "{'df_midi_data':             msg_type  delta_time  ... ticks_since_start  seconds_since_start\n",
              " 0         track_name           0  ...                 0             0.000000\n",
              " 1    instrument_name           0  ...                 0             0.000000\n",
              " 2     time_signature           0  ...                 0             0.000000\n",
              " 3      key_signature           0  ...                 0             0.000000\n",
              " 4       smpte_offset           0  ...                 0             0.000000\n",
              " ..               ...         ...  ...               ...                  ...\n",
              " 634          note_on          37  ...             30566            37.458315\n",
              " 635         note_off          83  ...             30649            37.560030\n",
              " 636          note_on          24  ...             30673            37.589442\n",
              " 637         note_off          83  ...             30756            37.691158\n",
              " 638     end_of_track           0  ...             30756            37.691158\n",
              " \n",
              " [639 rows x 5 columns],\n",
              " 'my_file_midi': <midi file '/content/drive/My Drive/groove-v1.0.0-midionly/groove/drummer1/eval_session/10_soul-groove10_102_beat_4-4.mid' type 0, 1 tracks, 639 messages>,\n",
              " 'my_file_name': '/content/drive/My Drive/groove-v1.0.0-midionly/groove/drummer1/eval_session/10_soul-groove10_102_beat_4-4.mid',\n",
              " 'my_tempo': <meta message set_tempo tempo=588235 time=0>,\n",
              " 'my_time_sig': <meta message time_signature numerator=4 denominator=4 clocks_per_click=24 notated_32nd_notes_per_beat=8 time=0>}"
            ]
          },
          "metadata": {
            "tags": []
          },
          "execution_count": 71
        }
      ]
    },
    {
      "cell_type": "code",
      "metadata": {
        "id": "0syjtqCiDq14",
        "colab_type": "code",
        "outputId": "00897410-893a-47f1-c1ad-687368c0b28b",
        "colab": {
          "base_uri": "https://localhost:8080/",
          "height": 34
        }
      },
      "source": [
        "midi_file.__doc__"
      ],
      "execution_count": 72,
      "outputs": [
        {
          "output_type": "execute_result",
          "data": {
            "text/plain": [
              "' utility wrapper for loading, parsding a mido.MidiFile object'"
            ]
          },
          "metadata": {
            "tags": []
          },
          "execution_count": 72
        }
      ]
    },
    {
      "cell_type": "markdown",
      "metadata": {
        "id": "MnnGeqvqi1zu",
        "colab_type": "text"
      },
      "source": [
        "## Calulate some time metrics\n"
      ]
    },
    {
      "cell_type": "code",
      "metadata": {
        "id": "WKALKbTqp0D5",
        "colab_type": "code",
        "colab": {
          "base_uri": "https://localhost:8080/",
          "height": 85
        },
        "outputId": "fa4ecfd2-dfae-42ad-d973-d4949da1b256"
      },
      "source": [
        "print('file name: {}'.format(midi_file.my_file_name))\n",
        "print('ticks per quarter note: {}'.format(midi_file.ticks()))\n",
        "print('tempo (microseconds p/ quarter): {}'.format(midi_file.tempo_us()))\n",
        "print('tempo (bpm): {}'.format(midi_file.tempo_bpm()))"
      ],
      "execution_count": 91,
      "outputs": [
        {
          "output_type": "stream",
          "text": [
            "file name: /content/drive/My Drive/groove-v1.0.0-midionly/groove/drummer1/eval_session/10_soul-groove10_102_beat_4-4.mid\n",
            "ticks per quarter note: 480\n",
            "tempo (microseconds p/ quarter): 588235\n",
            "tempo (bpm): 102.0000510000255\n"
          ],
          "name": "stdout"
        }
      ]
    },
    {
      "cell_type": "code",
      "metadata": {
        "id": "nDqeLQgfi77p",
        "colab_type": "code",
        "colab": {
          "base_uri": "https://localhost:8080/",
          "height": 119
        },
        "outputId": "ec0ee73a-1b9a-4fd4-fa8c-76d341e86a1b"
      },
      "source": [
        "\n",
        "def calc_sec(ticks):\n",
        "  return mido.tick2second(ticks, midi_file.ticks(), midi_file.tempo_us() )\n",
        "\n",
        "# caluate absolute time in milliseconds\n",
        "# mido.tick2second(ticks, < ticks per quarter >, < tempo in microseconds> )\n",
        "print('seconds per tick (ticks2seconds): {}'.format(mido.tick2second(1, midi_file.ticks(), midi_file.tempo_us() )))\n",
        "\n",
        "# NOTE: calculate microseconds per tick\n",
        "# µs_per_tick  = ticks per qaurter beat / file time in microseconds\n",
        "us_per_tick =  midi_file.tempo_us()/ midi_file.ticks()\n",
        "print('microseconds per tick: {}'.format(us_per_tick))\n",
        "\n",
        "# NOTE: the following works for different time sigs, i.e. \n",
        "#   will handle 6/8  and  4/4 ok...\n",
        "# beat ticks = <ticks per quarter beat> x  ( 4/ < file time sig denominator > )\n",
        "ticks_per_beat = midi_file.ticks() * ( 4/ midi_file.ts_denom() )\n",
        "print('per beat: {}, ticks: {}, sec: {}'.format(midi_file.ts_denom(), ticks_per_beat, calc_sec(ticks_per_beat)))\n",
        "\n",
        "# NOTE: total ticks for a measure..\n",
        "# bar ticks = < beat ticks >  x < beats per bar >\n",
        "ticks_per_bar = ticks_per_beat * midi_file.ts_num()\n",
        "print('per bar - ticks: {}, sec: {}'.format(ticks_per_bar, calc_sec(ticks_per_bar)))\n",
        "\n",
        "# Ticks per 1/8 note\n",
        "ticks_per_8 = midi_file.ticks() * ( 4/ 8 )\n",
        "print('per 1/8 - ticks: {}, sec: {}'.format(ticks_per_8, calc_sec(ticks_per_8)))\n",
        "\n",
        "# Ticks per 1/16 note\n",
        "ticks_per_16 = midi_file.ticks() * ( 4/ 16 )\n",
        "print('per 1/16 - ticks: {}, sec: {}'.format(ticks_per_16, calc_sec(ticks_per_16)))\n"
      ],
      "execution_count": 95,
      "outputs": [
        {
          "output_type": "stream",
          "text": [
            "seconds per tick (ticks2seconds): 0.0012254895833333332\n",
            "microseconds per tick: 1225.4895833333333\n",
            "per beat: 4, ticks: 480.0, sec: 0.588235\n",
            "per bar - ticks: 1920.0, sec: 2.35294\n",
            "per 1/8 - ticks: 240.0, sec: 0.2941175\n",
            "per 1/16 - ticks: 120.0, sec: 0.14705875\n"
          ],
          "name": "stdout"
        }
      ]
    },
    {
      "cell_type": "markdown",
      "metadata": {
        "id": "ktiH7z-8JVCN",
        "colab_type": "text"
      },
      "source": [
        "## Testing pandas.cut"
      ]
    },
    {
      "cell_type": "code",
      "metadata": {
        "id": "dXDYt4Js1VAN",
        "colab_type": "code",
        "outputId": "63f75b62-f8f7-4167-b10d-95aa35d51b0f",
        "colab": {
          "base_uri": "https://localhost:8080/",
          "height": 255
        }
      },
      "source": [
        "# example usage -> pd.cut(df['ext price'], bins=4)\n",
        "pd.cut(midi_file.df_midi_data['ticks_since_start'], bins=4)"
      ],
      "execution_count": 93,
      "outputs": [
        {
          "output_type": "execute_result",
          "data": {
            "text/plain": [
              "0       (-30.756, 7689.0]\n",
              "1       (-30.756, 7689.0]\n",
              "2       (-30.756, 7689.0]\n",
              "3       (-30.756, 7689.0]\n",
              "4       (-30.756, 7689.0]\n",
              "              ...        \n",
              "634    (23067.0, 30756.0]\n",
              "635    (23067.0, 30756.0]\n",
              "636    (23067.0, 30756.0]\n",
              "637    (23067.0, 30756.0]\n",
              "638    (23067.0, 30756.0]\n",
              "Name: ticks_since_start, Length: 639, dtype: category\n",
              "Categories (4, interval[float64]): [(-30.756, 7689.0] < (7689.0, 15378.0] < (15378.0, 23067.0] <\n",
              "                                    (23067.0, 30756.0]]"
            ]
          },
          "metadata": {
            "tags": []
          },
          "execution_count": 93
        }
      ]
    },
    {
      "cell_type": "code",
      "metadata": {
        "id": "t4l61-QjItYt",
        "colab_type": "code",
        "outputId": "101c0b0f-eb83-4b0e-c545-a8d093d27b6a",
        "colab": {
          "base_uri": "https://localhost:8080/",
          "height": 102
        }
      },
      "source": [
        "# count rows in each bin, example -> pd.cut(df['ext price'], bins=4).value_counts()\n",
        "pd.cut(midi_file.df_midi_data['ticks_since_start'], bins=4).value_counts()"
      ],
      "execution_count": 94,
      "outputs": [
        {
          "output_type": "execute_result",
          "data": {
            "text/plain": [
              "(23067.0, 30756.0]    164\n",
              "(-30.756, 7689.0]     163\n",
              "(15378.0, 23067.0]    162\n",
              "(7689.0, 15378.0]     150\n",
              "Name: ticks_since_start, dtype: int64"
            ]
          },
          "metadata": {
            "tags": []
          },
          "execution_count": 94
        }
      ]
    }
  ]
}