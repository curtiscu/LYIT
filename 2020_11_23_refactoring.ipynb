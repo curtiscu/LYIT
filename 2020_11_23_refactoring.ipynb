{
  "nbformat": 4,
  "nbformat_minor": 0,
  "metadata": {
    "colab": {
      "name": "2020-11-23_refactoring.ipynb",
      "provenance": [],
      "collapsed_sections": [
        "lBT_BaeD4o8L",
        "K3JlPpTjIlYg"
      ],
      "toc_visible": true,
      "authorship_tag": "ABX9TyP6t8u5AZnkUUwBVSe2LUBR",
      "include_colab_link": true
    },
    "kernelspec": {
      "name": "python3",
      "display_name": "Python 3"
    }
  },
  "cells": [
    {
      "cell_type": "markdown",
      "metadata": {
        "id": "view-in-github",
        "colab_type": "text"
      },
      "source": [
        "<a href=\"https://colab.research.google.com/github/curtiscu/LYIT/blob/master/2020_11_23_refactoring.ipynb\" target=\"_parent\"><img src=\"https://colab.research.google.com/assets/colab-badge.svg\" alt=\"Open In Colab\"/></a>"
      ]
    },
    {
      "cell_type": "code",
      "metadata": {
        "id": "fzsDDd2nVeXB"
      },
      "source": [
        ""
      ],
      "execution_count": null,
      "outputs": []
    },
    {
      "cell_type": "markdown",
      "metadata": {
        "id": "NybvOG9ssS26"
      },
      "source": [
        "# Setup Colab env\n"
      ]
    },
    {
      "cell_type": "code",
      "metadata": {
        "id": "UliwyDDMjY8U",
        "colab": {
          "base_uri": "https://localhost:8080/"
        },
        "outputId": "1c6f88bb-2a80-4c05-996a-6c0c6944b8ec"
      },
      "source": [
        "\n",
        "import sklearn\n",
        "sklearn.__version__\n",
        "#!pip uninstall scikit-learn -y\n",
        "#!pip install scikit-learn\n",
        "!pip install --upgrade scikit-learn"
      ],
      "execution_count": 1,
      "outputs": [
        {
          "output_type": "stream",
          "text": [
            "Requirement already up-to-date: scikit-learn in /usr/local/lib/python3.6/dist-packages (0.23.2)\n",
            "Requirement already satisfied, skipping upgrade: scipy>=0.19.1 in /usr/local/lib/python3.6/dist-packages (from scikit-learn) (1.4.1)\n",
            "Requirement already satisfied, skipping upgrade: joblib>=0.11 in /usr/local/lib/python3.6/dist-packages (from scikit-learn) (0.17.0)\n",
            "Requirement already satisfied, skipping upgrade: numpy>=1.13.3 in /usr/local/lib/python3.6/dist-packages (from scikit-learn) (1.18.5)\n",
            "Requirement already satisfied, skipping upgrade: threadpoolctl>=2.0.0 in /usr/local/lib/python3.6/dist-packages (from scikit-learn) (2.1.0)\n"
          ],
          "name": "stdout"
        }
      ]
    },
    {
      "cell_type": "code",
      "metadata": {
        "id": "juZFbd9RttvQ"
      },
      "source": [
        "# print all cell output\n",
        "from IPython.core.interactiveshell import InteractiveShell\n",
        "InteractiveShell.ast_node_interactivity = \"all\"\n"
      ],
      "execution_count": 2,
      "outputs": []
    },
    {
      "cell_type": "markdown",
      "metadata": {
        "id": "yEXZFoA4t9de"
      },
      "source": [
        "## Google drive access"
      ]
    },
    {
      "cell_type": "code",
      "metadata": {
        "id": "uRELmgI2mvEK",
        "colab": {
          "base_uri": "https://localhost:8080/"
        },
        "outputId": "6a1e9b96-c26d-43db-bb2f-63d8cdc98e41"
      },
      "source": [
        "# mount google drive\n",
        "\n",
        "from google.colab import drive\n",
        "drive.mount('/content/drive', force_remount=True)\n"
      ],
      "execution_count": 3,
      "outputs": [
        {
          "output_type": "stream",
          "text": [
            "Mounted at /content/drive\n"
          ],
          "name": "stdout"
        }
      ]
    },
    {
      "cell_type": "code",
      "metadata": {
        "id": "Yk2_ztH9uKat",
        "colab": {
          "base_uri": "https://localhost:8080/"
        },
        "outputId": "6a7a7bb5-03f6-4951-b181-9f930f6e3355"
      },
      "source": [
        "# peek at data\n",
        "! ls -al '/content/drive/My Drive/groove-v1.0.0-midionly/groove/drummer1/eval_session/'\n",
        "\n",
        "# peek at modules from local  'E:\\Google Drive\\LYIT\\Dissertation\\modules'\n",
        "! ls -al '/content/drive/My Drive/LYIT/Dissertation/modules/'"
      ],
      "execution_count": 4,
      "outputs": [
        {
          "output_type": "stream",
          "text": [
            "total 35\n",
            "-rw------- 1 root root 2589 Apr 27  2020 10_soul-groove10_102_beat_4-4.mid\n",
            "-rw------- 1 root root 4793 Apr 27  2020 1_funk-groove1_138_beat_4-4.mid\n",
            "-rw------- 1 root root 3243 Apr 27  2020 2_funk-groove2_105_beat_4-4.mid\n",
            "-rw------- 1 root root 4466 Apr 27  2020 3_soul-groove3_86_beat_4-4.mid\n",
            "-rw------- 1 root root 2551 Apr 27  2020 4_soul-groove4_80_beat_4-4.mid\n",
            "-rw------- 1 root root 3798 Apr 27  2020 5_funk-groove5_84_beat_4-4.mid\n",
            "-rw------- 1 root root 3760 Apr 27  2020 6_hiphop-groove6_87_beat_4-4.mid\n",
            "-rw------- 1 root root 1894 Apr 27  2020 7_pop-groove7_138_beat_4-4.mid\n",
            "-rw------- 1 root root 2437 Apr 27  2020 8_rock-groove8_65_beat_4-4.mid\n",
            "-rw------- 1 root root 3448 Apr 27  2020 9_soul-groove9_105_beat_4-4.mid\n",
            "total 52\n",
            "-rw------- 1 root root 28586 Aug 18 21:35 data_prep.py\n",
            "-rw------- 1 root root  2904 Nov 18 21:57 pipeline_utils.py\n",
            "drwx------ 2 root root  4096 May 10  2020 __pycache__\n",
            "-rw------- 1 root root  7847 Aug 18 22:09 stats_n_features.py\n",
            "-rw------- 1 root root  8459 Aug 18 22:03 visualizations.py\n"
          ],
          "name": "stdout"
        }
      ]
    },
    {
      "cell_type": "markdown",
      "metadata": {
        "id": "SBKOdMxXFygn"
      },
      "source": [
        "## Auto reload module\n",
        "\n",
        "Now using library code I've created and saved to google drive which is automatically pushed to the cloud and made available to the colab env. The autoreload stuff below should help imports to 'reimport' to load changes to the library code.\n",
        "\n",
        "It's not the quickest/ most reliable, so if in a hurry, brute force loading of changes by restarting the runtime."
      ]
    },
    {
      "cell_type": "code",
      "metadata": {
        "id": "jErvkusO6D01"
      },
      "source": [
        "# tool to auto reload modules.\n",
        "%load_ext autoreload\n",
        "\n",
        "# config to auto-reload all modules, handy to make \n",
        "# writing and testing modules much easier.\n",
        "%autoreload 2"
      ],
      "execution_count": 5,
      "outputs": []
    },
    {
      "cell_type": "markdown",
      "metadata": {
        "id": "2qR3tjMl4bv2"
      },
      "source": [
        "## Imports and accessing lib functions"
      ]
    },
    {
      "cell_type": "code",
      "metadata": {
        "id": "rjqCavr4sz4x"
      },
      "source": [
        "# regular imports\n",
        "import pandas as pd\n",
        "import math\n",
        "import matplotlib.pyplot as plt\n",
        "import numpy as np\n",
        "\n",
        "# object that provides colours for charts\n",
        "from itertools import cycle\n",
        "\n",
        "# sklearn imports\n",
        "from sklearn.metrics import classification_report\n",
        "from sklearn.metrics import confusion_matrix\n",
        "from sklearn.metrics import accuracy_score\n",
        "from sklearn.neighbors import KNeighborsClassifier\n",
        "from sklearn import svm\n",
        "from sklearn.model_selection import train_test_split\n",
        "from sklearn.preprocessing import MinMaxScaler, RobustScaler, OneHotEncoder\n",
        "from sklearn.compose import ColumnTransformer\n",
        "\n",
        "from sklearn.base import BaseEstimator, TransformerMixin\n",
        "from sklearn.pipeline import Pipeline\n",
        "\n",
        "import matplotlib.pyplot as plt\n",
        "import seaborn as sns\n",
        "%matplotlib inline"
      ],
      "execution_count": 6,
      "outputs": []
    },
    {
      "cell_type": "code",
      "metadata": {
        "colab": {
          "base_uri": "https://localhost:8080/"
        },
        "id": "-i6pGULtLiXb",
        "outputId": "02f45e68-fe08-4cfc-caa3-971fdca7a79e"
      },
      "source": [
        "# install required libs\n",
        "!pip install mido"
      ],
      "execution_count": 7,
      "outputs": [
        {
          "output_type": "stream",
          "text": [
            "Collecting mido\n",
            "\u001b[?25l  Downloading https://files.pythonhosted.org/packages/20/0a/81beb587b1ae832ea6a1901dc7c6faa380e8dd154e0a862f0a9f3d2afab9/mido-1.2.9-py2.py3-none-any.whl (52kB)\n",
            "\r\u001b[K     |██████▎                         | 10kB 15.7MB/s eta 0:00:01\r\u001b[K     |████████████▌                   | 20kB 20.9MB/s eta 0:00:01\r\u001b[K     |██████████████████▊             | 30kB 11.5MB/s eta 0:00:01\r\u001b[K     |█████████████████████████       | 40kB 8.4MB/s eta 0:00:01\r\u001b[K     |███████████████████████████████▏| 51kB 4.4MB/s eta 0:00:01\r\u001b[K     |████████████████████████████████| 61kB 3.1MB/s \n",
            "\u001b[?25hInstalling collected packages: mido\n",
            "Successfully installed mido-1.2.9\n"
          ],
          "name": "stdout"
        }
      ]
    },
    {
      "cell_type": "code",
      "metadata": {
        "id": "DQ0sg10tzufp",
        "colab": {
          "base_uri": "https://localhost:8080/"
        },
        "outputId": "1a9816b7-9451-4777-c8cd-1246d3fead48"
      },
      "source": [
        "# import my modules\n",
        "import sys\n",
        "sys.path.append('/content/drive/My Drive/LYIT/Dissertation/modules/')\n",
        "import data_prep as dp\n",
        "import pipeline_utils as pu\n",
        "import stats_n_features as sf"
      ],
      "execution_count": 8,
      "outputs": [
        {
          "output_type": "stream",
          "text": [
            ">> LOADING custom module, when: 2020-11-24 13:32:25.454444, module name: stats_n_features\n",
            ">> LOADING custom module, when: 2020-11-24 13:32:25.455536, module name: data_prep\n",
            ">> LOADING custom module, when: 2020-11-24 13:32:25.702439, module name: pipeline_utils\n"
          ],
          "name": "stdout"
        }
      ]
    },
    {
      "cell_type": "code",
      "metadata": {
        "colab": {
          "base_uri": "https://localhost:8080/"
        },
        "id": "8sJrzgLAYHdB",
        "outputId": "a6d3cf49-46e5-4370-aa80-98c2f1f4d432"
      },
      "source": [
        "# test module function calls..\n",
        "dp.test_function_call('bling')\n",
        "sf.test_function_call('hello')"
      ],
      "execution_count": 9,
      "outputs": [
        {
          "output_type": "stream",
          "text": [
            "Test function in data_prep.py called and worked! when: 2020-11-24 13:32:25.735726,  param:bling\n",
            "Test function in stats_n_features called and worked! when: 2020-11-24 13:32:25.735927,  param:hello\n"
          ],
          "name": "stdout"
        }
      ]
    },
    {
      "cell_type": "markdown",
      "metadata": {
        "id": "lBT_BaeD4o8L"
      },
      "source": [
        "## Pandas display options"
      ]
    },
    {
      "cell_type": "code",
      "metadata": {
        "id": "KkLdwFFAAotC"
      },
      "source": [
        "def set_pandas_display_options() -> None:\n",
        "    # Ref: https://stackoverflow.com/a/52432757/\n",
        "    display = pd.options.display\n",
        "\n",
        "    display.max_columns = 1000\n",
        "    display.max_rows = 2000\n",
        "    display.max_colwidth = 1000\n",
        "    display.width = None\n",
        "    # display.precision = 2  # set as needed\n",
        "\n",
        "set_pandas_display_options()\n",
        "#pd.reset_option('all')\n"
      ],
      "execution_count": 10,
      "outputs": []
    },
    {
      "cell_type": "markdown",
      "metadata": {
        "id": "c3onp99QayAH"
      },
      "source": [
        "# Load & filter data..."
      ]
    },
    {
      "cell_type": "code",
      "metadata": {
        "colab": {
          "base_uri": "https://localhost:8080/",
          "height": 1000
        },
        "id": "0vKT1X98Zc7L",
        "outputId": "9a9addd8-191d-4d29-e525-085ab9ba000e"
      },
      "source": [
        "##################################\n",
        "######## LOAD\n",
        "\n",
        "my_data = dp.load_all_data()\n",
        "all_drummer_data = my_data.copy()\n",
        ";"
      ],
      "execution_count": 11,
      "outputs": [
        {
          "output_type": "stream",
          "text": [
            "BULK LOAD: drummer1, drummer1/eval_session/1_funk-groove1_138_beat_4-4.mid\n",
            "FILE name: /content/drive/My Drive/groove-v1.0.0-midionly/groove/drummer1/eval_session/1_funk-groove1_138_beat_4-4.mid\n",
            "    loaded file: <midi file '/content/drive/My Drive/groove-v1.0.0-midionly/groove/drummer1/eval_session/1_funk-groove1_138_beat_4-4.mid' type 0, 1 tracks, 1300 messages>\n",
            "    time sig: <meta message time_signature numerator=4 denominator=4 clocks_per_click=24 notated_32nd_notes_per_beat=8 time=0>\n",
            "    tempo: <meta message set_tempo tempo=434783 time=0>\n",
            "    track count: 1, tracks: [<midi track 'MIDI' 1300 messages>]\n",
            "    MIDI file type: 0\n",
            "    > processing track: <midi track 'MIDI' 1300 messages>\n",
            "    __notes pre-filter: [36. 37. 38. 40. 43. 44. 51. 52. 53. 55.]\n",
            "    __applying filter: [44]\n",
            "    __notes post filter: [36. 37. 38. 40. 43. 51. 52. 53. 55.]\n",
            "    note_on span - first tick: 3 , last tick: 30658 \n",
            "    good instruments: 5, {36.0: 'Bass Drum 1 (36)', 38.0: 'Acoustic Snare (38)', 43.0: 'High Floor Tom (43)', 49.0: 'Crash Cymbal 1 (49)', 51.0: 'Ride Cymbal 1 (51)'}\n",
            "    bar info - bars in file: 16, bar quantize level: 16.0\n",
            "    tick info - ticks per time sig beat: 480.0, ticks per quantize bin: 120\n",
            "    > checking for errs...\n",
            "    __ tmp_df before: (288, 8)\n",
            "    __ err_buckets removed: (24, 7)\n",
            "    __ tmp_df after: (264, 8)\n",
            "   > raw instruments: [49 51 36 38 43]\n",
            "   ['Crash Cymbal 1 (49)', 'Ride Cymbal 1 (51)', 'Bass Drum 1 (36)', 'Acoustic Snare (38)', 'High Floor Tom (43)']\n",
            "   counts before final filter: note\n",
            "36     54\n",
            "38     79\n",
            "43      1\n",
            "49      4\n",
            "51    126\n",
            "Name: note, dtype: int64\n",
            "   counts after final filter: note\n",
            "36     54\n",
            "38     79\n",
            "51    126\n",
            "Name: note, dtype: int64\n",
            "    counts after final merge: note\n",
            "hh       126\n",
            "kick      54\n",
            "snare     79\n",
            "Name: note, dtype: int64\n",
            "BULK LOAD: drummer1, drummer1/eval_session/3_soul-groove3_86_beat_4-4.mid\n",
            "FILE name: /content/drive/My Drive/groove-v1.0.0-midionly/groove/drummer1/eval_session/3_soul-groove3_86_beat_4-4.mid\n",
            "    loaded file: <midi file '/content/drive/My Drive/groove-v1.0.0-midionly/groove/drummer1/eval_session/3_soul-groove3_86_beat_4-4.mid' type 0, 1 tracks, 1179 messages>\n",
            "    time sig: <meta message time_signature numerator=4 denominator=4 clocks_per_click=24 notated_32nd_notes_per_beat=8 time=0>\n",
            "    tempo: <meta message set_tempo tempo=697674 time=0>\n",
            "    track count: 1, tracks: [<midi track 'MIDI' 1179 messages>]\n",
            "    MIDI file type: 0\n",
            "    > processing track: <midi track 'MIDI' 1179 messages>\n",
            "    __notes pre-filter: [22. 26. 36. 37. 38. 40. 42. 44. 46.]\n",
            "    __applying filter: [44]\n",
            "    __notes post filter: [22. 26. 36. 37. 38. 40. 42. 46.]\n",
            "    note_on span - first tick: 0 , last tick: 30696 \n",
            "    good instruments: 4, {36.0: 'Bass Drum 1 (36)', 38.0: 'Acoustic Snare (38)', 42.0: 'Closed Hi Hat (42)', 46.0: 'Open Hi-Hat (46)'}\n",
            "    bar info - bars in file: 16, bar quantize level: 16.0\n",
            "    tick info - ticks per time sig beat: 480.0, ticks per quantize bin: 120\n",
            "    > checking for errs...\n",
            "    __ tmp_df before: (455, 8)\n",
            "    __ err_buckets removed: (8, 7)\n",
            "    __ tmp_df after: (447, 8)\n",
            "   > raw instruments: [42 36 38 46]\n",
            "   ['Closed Hi Hat (42)', 'Bass Drum 1 (36)', 'Acoustic Snare (38)', 'Open Hi-Hat (46)']\n",
            "   counts before final filter: note\n",
            "36     80\n",
            "38    115\n",
            "42    249\n",
            "46      3\n",
            "Name: note, dtype: int64\n",
            "   counts after final filter: note\n",
            "36     80\n",
            "38    115\n",
            "42    249\n",
            "46      3\n",
            "Name: note, dtype: int64\n",
            "    counts after final merge: note\n",
            "hh       252\n",
            "kick      80\n",
            "snare    115\n",
            "Name: note, dtype: int64\n",
            "BULK LOAD: drummer1, drummer1/eval_session/4_soul-groove4_80_beat_4-4.mid\n",
            "FILE name: /content/drive/My Drive/groove-v1.0.0-midionly/groove/drummer1/eval_session/4_soul-groove4_80_beat_4-4.mid\n",
            "    loaded file: <midi file '/content/drive/My Drive/groove-v1.0.0-midionly/groove/drummer1/eval_session/4_soul-groove4_80_beat_4-4.mid' type 0, 1 tracks, 626 messages>\n",
            "    time sig: <meta message time_signature numerator=4 denominator=4 clocks_per_click=24 notated_32nd_notes_per_beat=8 time=0>\n",
            "    tempo: <meta message set_tempo tempo=750000 time=0>\n",
            "    track count: 1, tracks: [<midi track 'MIDI' 626 messages>]\n",
            "    MIDI file type: 0\n",
            "    > processing track: <midi track 'MIDI' 626 messages>\n",
            "    __notes pre-filter: [22. 26. 36. 38. 40. 42. 44.]\n",
            "    __applying filter: [44]\n",
            "    __notes post filter: [22. 26. 36. 38. 40. 42.]\n",
            "    note_on span - first tick: 0 , last tick: 30470 \n",
            "    good instruments: 4, {36.0: 'Bass Drum 1 (36)', 38.0: 'Acoustic Snare (38)', 42.0: 'Closed Hi Hat (42)', 46.0: 'Open Hi-Hat (46)'}\n",
            "    bar info - bars in file: 16, bar quantize level: 16.0\n",
            "    tick info - ticks per time sig beat: 480.0, ticks per quantize bin: 120\n",
            "    > checking for errs...\n",
            "    ...no errors to see here\n",
            "   > raw instruments: [36 42 38 46]\n",
            "   ['Bass Drum 1 (36)', 'Closed Hi Hat (42)', 'Acoustic Snare (38)', 'Open Hi-Hat (46)']\n",
            "   counts before final filter: note\n",
            "36     32\n",
            "38     32\n",
            "42    144\n",
            "46      8\n",
            "Name: note, dtype: int64\n",
            "   counts after final filter: note\n",
            "36     32\n",
            "38     32\n",
            "42    144\n",
            "46      8\n",
            "Name: note, dtype: int64\n",
            "    counts after final merge: note\n",
            "hh       152\n",
            "kick      32\n",
            "snare     32\n",
            "Name: note, dtype: int64\n",
            "BULK LOAD: drummer1, drummer1/eval_session/6_hiphop-groove6_87_beat_4-4.mid\n",
            "FILE name: /content/drive/My Drive/groove-v1.0.0-midionly/groove/drummer1/eval_session/6_hiphop-groove6_87_beat_4-4.mid\n",
            "    loaded file: <midi file '/content/drive/My Drive/groove-v1.0.0-midionly/groove/drummer1/eval_session/6_hiphop-groove6_87_beat_4-4.mid' type 0, 1 tracks, 971 messages>\n",
            "    time sig: <meta message time_signature numerator=4 denominator=4 clocks_per_click=24 notated_32nd_notes_per_beat=8 time=0>\n",
            "    tempo: <meta message set_tempo tempo=689655 time=0>\n",
            "    track count: 1, tracks: [<midi track 'MIDI' 971 messages>]\n",
            "    MIDI file type: 0\n",
            "    > processing track: <midi track 'MIDI' 971 messages>\n",
            "    __notes pre-filter: [22. 26. 36. 37. 38. 40. 42. 44.]\n",
            "    __applying filter: [44]\n",
            "    __notes post filter: [22. 26. 36. 37. 38. 40. 42.]\n",
            "    note_on span - first tick: 0 , last tick: 30474 \n",
            "    good instruments: 4, {36.0: 'Bass Drum 1 (36)', 38.0: 'Acoustic Snare (38)', 42.0: 'Closed Hi Hat (42)', 46.0: 'Open Hi-Hat (46)'}\n",
            "    bar info - bars in file: 16, bar quantize level: 16.0\n",
            "    tick info - ticks per time sig beat: 480.0, ticks per quantize bin: 120\n",
            "    > checking for errs...\n",
            "    ...no errors to see here\n",
            "   > raw instruments: [36 42 38 46]\n",
            "   ['Bass Drum 1 (36)', 'Closed Hi Hat (42)', 'Acoustic Snare (38)', 'Open Hi-Hat (46)']\n",
            "   counts before final filter: note\n",
            "36    105\n",
            "38     33\n",
            "42    217\n",
            "46      5\n",
            "Name: note, dtype: int64\n",
            "   counts after final filter: note\n",
            "36    105\n",
            "38     33\n",
            "42    217\n",
            "46      5\n",
            "Name: note, dtype: int64\n",
            "    counts after final merge: note\n",
            "hh       222\n",
            "kick     105\n",
            "snare     33\n",
            "Name: note, dtype: int64\n",
            "BULK LOAD: drummer1, drummer1/eval_session/8_rock-groove8_65_beat_4-4.mid\n",
            "FILE name: /content/drive/My Drive/groove-v1.0.0-midionly/groove/drummer1/eval_session/8_rock-groove8_65_beat_4-4.mid\n",
            "    loaded file: <midi file '/content/drive/My Drive/groove-v1.0.0-midionly/groove/drummer1/eval_session/8_rock-groove8_65_beat_4-4.mid' type 0, 1 tracks, 600 messages>\n",
            "    time sig: <meta message time_signature numerator=4 denominator=4 clocks_per_click=24 notated_32nd_notes_per_beat=8 time=0>\n",
            "    tempo: <meta message set_tempo tempo=923077 time=0>\n",
            "    track count: 1, tracks: [<midi track 'MIDI' 600 messages>]\n",
            "    MIDI file type: 0\n",
            "    > processing track: <midi track 'MIDI' 600 messages>\n",
            "    __notes pre-filter: [22. 26. 36. 37. 38. 40. 42. 44. 46.]\n",
            "    __applying filter: [44]\n",
            "    __notes post filter: [22. 26. 36. 37. 38. 40. 42. 46.]\n",
            "    note_on span - first tick: 0 , last tick: 30370 \n",
            "    good instruments: 4, {36.0: 'Bass Drum 1 (36)', 38.0: 'Acoustic Snare (38)', 42.0: 'Closed Hi Hat (42)', 46.0: 'Open Hi-Hat (46)'}\n",
            "    bar info - bars in file: 16, bar quantize level: 16.0\n",
            "    tick info - ticks per time sig beat: 480.0, ticks per quantize bin: 120\n",
            "    > checking for errs...\n",
            "    __ tmp_df before: (218, 8)\n",
            "    __ err_buckets removed: (2, 7)\n",
            "    __ tmp_df after: (216, 8)\n",
            "   > raw instruments: [36 42 38 46]\n",
            "   ['Bass Drum 1 (36)', 'Closed Hi Hat (42)', 'Acoustic Snare (38)', 'Open Hi-Hat (46)']\n",
            "   counts before final filter: note\n",
            "36     56\n",
            "38     40\n",
            "42    111\n",
            "46      9\n",
            "Name: note, dtype: int64\n",
            "   counts after final filter: note\n",
            "36     56\n",
            "38     40\n",
            "42    111\n",
            "46      9\n",
            "Name: note, dtype: int64\n",
            "    counts after final merge: note\n",
            "hh       120\n",
            "kick      56\n",
            "snare     40\n",
            "Name: note, dtype: int64\n",
            "BULK LOAD: drummer5, drummer5/eval_session/1_funk-groove1_138_beat_4-4.mid\n",
            "FILE name: /content/drive/My Drive/groove-v1.0.0-midionly/groove/drummer5/eval_session/1_funk-groove1_138_beat_4-4.mid\n",
            "    loaded file: <midi file '/content/drive/My Drive/groove-v1.0.0-midionly/groove/drummer5/eval_session/1_funk-groove1_138_beat_4-4.mid' type 0, 1 tracks, 1037 messages>\n",
            "    time sig: <meta message time_signature numerator=4 denominator=4 clocks_per_click=24 notated_32nd_notes_per_beat=8 time=0>\n",
            "    tempo: <meta message set_tempo tempo=434783 time=0>\n",
            "    track count: 1, tracks: [<midi track 'Base Midi' 1037 messages>]\n",
            "    MIDI file type: 0\n",
            "    > processing track: <midi track 'Base Midi' 1037 messages>\n",
            "    __notes pre-filter: [36. 38. 40. 44. 51.]\n",
            "    __applying filter: [44]\n",
            "    __notes post filter: [36. 38. 40. 51.]\n",
            "    note_on span - first tick: 5 , last tick: 30634 \n",
            "    good instruments: 3, {36.0: 'Bass Drum 1 (36)', 38.0: 'Acoustic Snare (38)', 51.0: 'Ride Cymbal 1 (51)'}\n",
            "    bar info - bars in file: 16, bar quantize level: 16.0\n",
            "    tick info - ticks per time sig beat: 480.0, ticks per quantize bin: 120\n",
            "    > checking for errs...\n",
            "    __ tmp_df before: (309, 8)\n",
            "    __ err_buckets removed: (12, 7)\n",
            "    __ tmp_df after: (297, 8)\n",
            "   > raw instruments: [36 51 38]\n",
            "   ['Bass Drum 1 (36)', 'Ride Cymbal 1 (51)', 'Acoustic Snare (38)']\n",
            "   counts before final filter: note\n",
            "36     68\n",
            "38    101\n",
            "51    128\n",
            "Name: note, dtype: int64\n",
            "   counts after final filter: note\n",
            "36     68\n",
            "38    101\n",
            "51    128\n",
            "Name: note, dtype: int64\n",
            "    counts after final merge: note\n",
            "hh       128\n",
            "kick      68\n",
            "snare    101\n",
            "Name: note, dtype: int64\n",
            "BULK LOAD: drummer5, drummer5/eval_session/3_soul-groove3_86_beat_4-4.mid\n",
            "FILE name: /content/drive/My Drive/groove-v1.0.0-midionly/groove/drummer5/eval_session/3_soul-groove3_86_beat_4-4.mid\n",
            "    loaded file: <midi file '/content/drive/My Drive/groove-v1.0.0-midionly/groove/drummer5/eval_session/3_soul-groove3_86_beat_4-4.mid' type 0, 1 tracks, 1146 messages>\n",
            "    time sig: <meta message time_signature numerator=4 denominator=4 clocks_per_click=24 notated_32nd_notes_per_beat=8 time=0>\n",
            "    tempo: <meta message set_tempo tempo=697674 time=0>\n",
            "    track count: 1, tracks: [<midi track 'Base Midi' 1146 messages>]\n",
            "    MIDI file type: 0\n",
            "    > processing track: <midi track 'Base Midi' 1146 messages>\n",
            "    __notes pre-filter: [22. 26. 36. 37. 38. 40. 42.]\n",
            "    __applying filter: [44]\n",
            "    __notes post filter: [22. 26. 36. 37. 38. 40. 42.]\n",
            "    note_on span - first tick: 0 , last tick: 30587 \n",
            "    good instruments: 4, {36.0: 'Bass Drum 1 (36)', 38.0: 'Acoustic Snare (38)', 42.0: 'Closed Hi Hat (42)', 46.0: 'Open Hi-Hat (46)'}\n",
            "    bar info - bars in file: 16, bar quantize level: 16.0\n",
            "    tick info - ticks per time sig beat: 480.0, ticks per quantize bin: 120\n",
            "    > checking for errs...\n",
            "    __ tmp_df before: (433, 8)\n",
            "    __ err_buckets removed: (14, 7)\n",
            "    __ tmp_df after: (419, 8)\n",
            "   > raw instruments: [42 36 38 46]\n",
            "   ['Closed Hi Hat (42)', 'Bass Drum 1 (36)', 'Acoustic Snare (38)', 'Open Hi-Hat (46)']\n",
            "   counts before final filter: note\n",
            "36    111\n",
            "38     53\n",
            "42    249\n",
            "46      6\n",
            "Name: note, dtype: int64\n",
            "   counts after final filter: note\n",
            "36    111\n",
            "38     53\n",
            "42    249\n",
            "46      6\n",
            "Name: note, dtype: int64\n",
            "    counts after final merge: note\n",
            "hh       255\n",
            "kick     111\n",
            "snare     53\n",
            "Name: note, dtype: int64\n",
            "BULK LOAD: drummer5, drummer5/eval_session/4_soul-groove4_80_beat_4-4.mid\n",
            "FILE name: /content/drive/My Drive/groove-v1.0.0-midionly/groove/drummer5/eval_session/4_soul-groove4_80_beat_4-4.mid\n",
            "    loaded file: <midi file '/content/drive/My Drive/groove-v1.0.0-midionly/groove/drummer5/eval_session/4_soul-groove4_80_beat_4-4.mid' type 0, 1 tracks, 606 messages>\n",
            "    time sig: <meta message time_signature numerator=4 denominator=4 clocks_per_click=24 notated_32nd_notes_per_beat=8 time=0>\n",
            "    tempo: <meta message set_tempo tempo=750000 time=0>\n",
            "    track count: 1, tracks: [<midi track 'Base Midi' 606 messages>]\n",
            "    MIDI file type: 0\n",
            "    > processing track: <midi track 'Base Midi' 606 messages>\n",
            "    __notes pre-filter: [22. 26. 36. 37. 38. 40. 42. 44.]\n",
            "    __applying filter: [44]\n",
            "    __notes post filter: [22. 26. 36. 37. 38. 40. 42.]\n",
            "    note_on span - first tick: 0 , last tick: 30476 \n",
            "    good instruments: 4, {36.0: 'Bass Drum 1 (36)', 38.0: 'Acoustic Snare (38)', 42.0: 'Closed Hi Hat (42)', 46.0: 'Open Hi-Hat (46)'}\n",
            "    bar info - bars in file: 16, bar quantize level: 16.0\n",
            "    tick info - ticks per time sig beat: 480.0, ticks per quantize bin: 120\n",
            "    > checking for errs...\n",
            "    __ tmp_df before: (196, 8)\n",
            "    __ err_buckets removed: (2, 7)\n",
            "    __ tmp_df after: (194, 8)\n",
            "   > raw instruments: [36 42 38 46]\n",
            "   ['Bass Drum 1 (36)', 'Closed Hi Hat (42)', 'Acoustic Snare (38)', 'Open Hi-Hat (46)']\n",
            "   counts before final filter: note\n",
            "36     32\n",
            "38     52\n",
            "42    101\n",
            "46      9\n",
            "Name: note, dtype: int64\n",
            "   counts after final filter: note\n",
            "36     32\n",
            "38     52\n",
            "42    101\n",
            "46      9\n",
            "Name: note, dtype: int64\n",
            "    counts after final merge: note\n",
            "hh       110\n",
            "kick      32\n",
            "snare     52\n",
            "Name: note, dtype: int64\n",
            "BULK LOAD: drummer5, drummer5/eval_session/6_hiphop-groove6_87_beat_4-4.mid\n",
            "FILE name: /content/drive/My Drive/groove-v1.0.0-midionly/groove/drummer5/eval_session/6_hiphop-groove6_87_beat_4-4.mid\n",
            "    loaded file: <midi file '/content/drive/My Drive/groove-v1.0.0-midionly/groove/drummer5/eval_session/6_hiphop-groove6_87_beat_4-4.mid' type 0, 1 tracks, 625 messages>\n",
            "    time sig: <meta message time_signature numerator=4 denominator=4 clocks_per_click=24 notated_32nd_notes_per_beat=8 time=0>\n",
            "    tempo: <meta message set_tempo tempo=689655 time=0>\n",
            "    track count: 1, tracks: [<midi track 'Base Midi' 625 messages>]\n",
            "    MIDI file type: 0\n",
            "    > processing track: <midi track 'Base Midi' 625 messages>\n",
            "    __notes pre-filter: [22. 36. 38. 40. 42.]\n",
            "    __applying filter: [44]\n",
            "    __notes post filter: [22. 36. 38. 40. 42.]\n",
            "    note_on span - first tick: 0 , last tick: 30442 \n",
            "    good instruments: 3, {36.0: 'Bass Drum 1 (36)', 38.0: 'Acoustic Snare (38)', 42.0: 'Closed Hi Hat (42)'}\n",
            "    bar info - bars in file: 16, bar quantize level: 16.0\n",
            "    tick info - ticks per time sig beat: 480.0, ticks per quantize bin: 120\n",
            "    > checking for errs...\n",
            "    __ tmp_df before: (248, 8)\n",
            "    __ err_buckets removed: (12, 7)\n",
            "    __ tmp_df after: (236, 8)\n",
            "   > raw instruments: [42 36 38]\n",
            "   ['Closed Hi Hat (42)', 'Bass Drum 1 (36)', 'Acoustic Snare (38)']\n",
            "   counts before final filter: note\n",
            "36     88\n",
            "38     28\n",
            "42    120\n",
            "Name: note, dtype: int64\n",
            "   counts after final filter: note\n",
            "36     88\n",
            "38     28\n",
            "42    120\n",
            "Name: note, dtype: int64\n",
            "    counts after final merge: note\n",
            "hh       120\n",
            "kick      88\n",
            "snare     28\n",
            "Name: note, dtype: int64\n",
            "BULK LOAD: drummer5, drummer5/eval_session/8_rock-groove8_65_beat_4-4.mid\n",
            "FILE name: /content/drive/My Drive/groove-v1.0.0-midionly/groove/drummer5/eval_session/8_rock-groove8_65_beat_4-4.mid\n",
            "    loaded file: <midi file '/content/drive/My Drive/groove-v1.0.0-midionly/groove/drummer5/eval_session/8_rock-groove8_65_beat_4-4.mid' type 0, 1 tracks, 679 messages>\n",
            "    time sig: <meta message time_signature numerator=4 denominator=4 clocks_per_click=24 notated_32nd_notes_per_beat=8 time=0>\n",
            "    tempo: <meta message set_tempo tempo=923077 time=0>\n",
            "    track count: 1, tracks: [<midi track 'Base Midi' 679 messages>]\n",
            "    MIDI file type: 0\n",
            "    > processing track: <midi track 'Base Midi' 679 messages>\n",
            "    __notes pre-filter: [22. 26. 36. 37. 38. 40. 42. 44. 46.]\n",
            "    __applying filter: [44]\n",
            "    __notes post filter: [22. 26. 36. 37. 38. 40. 42. 46.]\n",
            "    note_on span - first tick: 0 , last tick: 30359 \n",
            "    good instruments: 4, {36.0: 'Bass Drum 1 (36)', 38.0: 'Acoustic Snare (38)', 42.0: 'Closed Hi Hat (42)', 46.0: 'Open Hi-Hat (46)'}\n",
            "    bar info - bars in file: 16, bar quantize level: 16.0\n",
            "    tick info - ticks per time sig beat: 480.0, ticks per quantize bin: 120\n",
            "    > checking for errs...\n",
            "    __ tmp_df before: (261, 8)\n",
            "    __ err_buckets removed: (71, 7)\n",
            "    __ tmp_df after: (190, 8)\n",
            "   > raw instruments: [42 36 38 46]\n",
            "   ['Closed Hi Hat (42)', 'Bass Drum 1 (36)', 'Acoustic Snare (38)', 'Open Hi-Hat (46)']\n",
            "   counts before final filter: note\n",
            "36     32\n",
            "38     39\n",
            "42    110\n",
            "46      9\n",
            "Name: note, dtype: int64\n",
            "   counts after final filter: note\n",
            "36     32\n",
            "38     39\n",
            "42    110\n",
            "46      9\n",
            "Name: note, dtype: int64\n",
            "    counts after final merge: note\n",
            "hh       119\n",
            "kick      32\n",
            "snare     39\n",
            "Name: note, dtype: int64\n",
            "BULK LOAD: drummer7, drummer7/eval_session/1_funk-groove1_138_beat_4-4.mid\n",
            "FILE name: /content/drive/My Drive/groove-v1.0.0-midionly/groove/drummer7/eval_session/1_funk-groove1_138_beat_4-4.mid\n",
            "    loaded file: <midi file '/content/drive/My Drive/groove-v1.0.0-midionly/groove/drummer7/eval_session/1_funk-groove1_138_beat_4-4.mid' type 0, 1 tracks, 521 messages>\n",
            "    time sig: <meta message time_signature numerator=4 denominator=4 clocks_per_click=24 notated_32nd_notes_per_beat=8 time=0>\n",
            "    tempo: <meta message set_tempo tempo=434783 time=0>\n",
            "    track count: 1, tracks: [<midi track 'Midi Drums' 521 messages>]\n",
            "    MIDI file type: 0\n",
            "    > processing track: <midi track 'Midi Drums' 521 messages>\n",
            "    __notes pre-filter: [36. 37. 38. 40. 51. 53. 55.]\n",
            "    __applying filter: [44]\n",
            "    __notes post filter: [36. 37. 38. 40. 51. 53. 55.]\n",
            "    note_on span - first tick: 0 , last tick: 30493 \n",
            "    good instruments: 4, {36.0: 'Bass Drum 1 (36)', 38.0: 'Acoustic Snare (38)', 49.0: 'Crash Cymbal 1 (49)', 51.0: 'Ride Cymbal 1 (51)'}\n",
            "    bar info - bars in file: 16, bar quantize level: 16.0\n",
            "    tick info - ticks per time sig beat: 480.0, ticks per quantize bin: 120\n",
            "    > checking for errs...\n",
            "    __ tmp_df before: (257, 8)\n",
            "    __ err_buckets removed: (2, 7)\n",
            "    __ tmp_df after: (255, 8)\n",
            "   > raw instruments: [36 51 38 49]\n",
            "   ['Bass Drum 1 (36)', 'Ride Cymbal 1 (51)', 'Acoustic Snare (38)', 'Crash Cymbal 1 (49)']\n",
            "   counts before final filter: note\n",
            "36     56\n",
            "38     72\n",
            "49      4\n",
            "51    123\n",
            "Name: note, dtype: int64\n",
            "   counts after final filter: note\n",
            "36     56\n",
            "38     72\n",
            "51    123\n",
            "Name: note, dtype: int64\n",
            "    counts after final merge: note\n",
            "hh       123\n",
            "kick      56\n",
            "snare     72\n",
            "Name: note, dtype: int64\n",
            "BULK LOAD: drummer7, drummer7/eval_session/3_soul-groove3_86_beat_4-4.mid\n",
            "FILE name: /content/drive/My Drive/groove-v1.0.0-midionly/groove/drummer7/eval_session/3_soul-groove3_86_beat_4-4.mid\n",
            "    loaded file: <midi file '/content/drive/My Drive/groove-v1.0.0-midionly/groove/drummer7/eval_session/3_soul-groove3_86_beat_4-4.mid' type 0, 1 tracks, 1095 messages>\n",
            "    time sig: <meta message time_signature numerator=4 denominator=4 clocks_per_click=24 notated_32nd_notes_per_beat=8 time=0>\n",
            "    tempo: <meta message set_tempo tempo=697674 time=0>\n",
            "    track count: 1, tracks: [<midi track 'Midi Drums' 1095 messages>]\n",
            "    MIDI file type: 0\n",
            "    > processing track: <midi track 'Midi Drums' 1095 messages>\n",
            "    __notes pre-filter: [22. 36. 38. 40. 42.]\n",
            "    __applying filter: [44]\n",
            "    __notes post filter: [22. 36. 38. 40. 42.]\n",
            "    note_on span - first tick: 0 , last tick: 30597 \n",
            "    good instruments: 3, {36.0: 'Bass Drum 1 (36)', 38.0: 'Acoustic Snare (38)', 42.0: 'Closed Hi Hat (42)'}\n",
            "    bar info - bars in file: 16, bar quantize level: 16.0\n",
            "    tick info - ticks per time sig beat: 480.0, ticks per quantize bin: 120\n",
            "    > checking for errs...\n",
            "    __ tmp_df before: (415, 8)\n",
            "    __ err_buckets removed: (4, 7)\n",
            "    __ tmp_df after: (411, 8)\n",
            "   > raw instruments: [42 36 38]\n",
            "   ['Closed Hi Hat (42)', 'Bass Drum 1 (36)', 'Acoustic Snare (38)']\n",
            "   counts before final filter: note\n",
            "36     95\n",
            "38     60\n",
            "42    256\n",
            "Name: note, dtype: int64\n",
            "   counts after final filter: note\n",
            "36     95\n",
            "38     60\n",
            "42    256\n",
            "Name: note, dtype: int64\n",
            "    counts after final merge: note\n",
            "hh       256\n",
            "kick      95\n",
            "snare     60\n",
            "Name: note, dtype: int64\n",
            "BULK LOAD: drummer7, drummer7/eval_session/4_soul-groove4_80_beat_4-4.mid\n",
            "FILE name: /content/drive/My Drive/groove-v1.0.0-midionly/groove/drummer7/eval_session/4_soul-groove4_80_beat_4-4.mid\n",
            "    loaded file: <midi file '/content/drive/My Drive/groove-v1.0.0-midionly/groove/drummer7/eval_session/4_soul-groove4_80_beat_4-4.mid' type 0, 1 tracks, 514 messages>\n",
            "    time sig: <meta message time_signature numerator=4 denominator=4 clocks_per_click=24 notated_32nd_notes_per_beat=8 time=0>\n",
            "    tempo: <meta message set_tempo tempo=750000 time=0>\n",
            "    track count: 1, tracks: [<midi track 'Midi Drums' 514 messages>]\n",
            "    MIDI file type: 0\n",
            "    > processing track: <midi track 'Midi Drums' 514 messages>\n",
            "    __notes pre-filter: [22. 26. 36. 38. 40. 42. 44. 46.]\n",
            "    __applying filter: [44]\n",
            "    __notes post filter: [22. 26. 36. 38. 40. 42. 46.]\n",
            "    note_on span - first tick: 0 , last tick: 30484 \n",
            "    good instruments: 4, {36.0: 'Bass Drum 1 (36)', 38.0: 'Acoustic Snare (38)', 42.0: 'Closed Hi Hat (42)', 46.0: 'Open Hi-Hat (46)'}\n",
            "    bar info - bars in file: 16, bar quantize level: 16.0\n",
            "    tick info - ticks per time sig beat: 480.0, ticks per quantize bin: 120\n",
            "    > checking for errs...\n",
            "    ...no errors to see here\n",
            "   > raw instruments: [42 38 36 46]\n",
            "   ['Closed Hi Hat (42)', 'Acoustic Snare (38)', 'Bass Drum 1 (36)', 'Open Hi-Hat (46)']\n",
            "   counts before final filter: note\n",
            "36     31\n",
            "38     33\n",
            "42    107\n",
            "46      9\n",
            "Name: note, dtype: int64\n",
            "   counts after final filter: note\n",
            "36     31\n",
            "38     33\n",
            "42    107\n",
            "46      9\n",
            "Name: note, dtype: int64\n",
            "    counts after final merge: note\n",
            "hh       116\n",
            "kick      31\n",
            "snare     33\n",
            "Name: note, dtype: int64\n",
            "BULK LOAD: drummer7, drummer7/eval_session/6_hiphop-groove6_87_beat_4-4.mid\n",
            "FILE name: /content/drive/My Drive/groove-v1.0.0-midionly/groove/drummer7/eval_session/6_hiphop-groove6_87_beat_4-4.mid\n",
            "    loaded file: <midi file '/content/drive/My Drive/groove-v1.0.0-midionly/groove/drummer7/eval_session/6_hiphop-groove6_87_beat_4-4.mid' type 0, 1 tracks, 844 messages>\n",
            "    time sig: <meta message time_signature numerator=4 denominator=4 clocks_per_click=24 notated_32nd_notes_per_beat=8 time=0>\n",
            "    tempo: <meta message set_tempo tempo=689655 time=0>\n",
            "    track count: 1, tracks: [<midi track 'Midi Drums' 844 messages>]\n",
            "    MIDI file type: 0\n",
            "    > processing track: <midi track 'Midi Drums' 844 messages>\n",
            "    __notes pre-filter: [22. 36. 37. 38. 40. 42.]\n",
            "    __applying filter: [44]\n",
            "    __notes post filter: [22. 36. 37. 38. 40. 42.]\n",
            "    note_on span - first tick: 2 , last tick: 30441 \n",
            "    good instruments: 3, {36.0: 'Bass Drum 1 (36)', 38.0: 'Acoustic Snare (38)', 42.0: 'Closed Hi Hat (42)'}\n",
            "    bar info - bars in file: 16, bar quantize level: 16.0\n",
            "    tick info - ticks per time sig beat: 480.0, ticks per quantize bin: 120\n",
            "    > checking for errs...\n",
            "    __ tmp_df before: (323, 8)\n",
            "    __ err_buckets removed: (6, 7)\n",
            "    __ tmp_df after: (317, 8)\n",
            "   > raw instruments: [36 38 42]\n",
            "   ['Bass Drum 1 (36)', 'Acoustic Snare (38)', 'Closed Hi Hat (42)']\n",
            "   counts before final filter: note\n",
            "36     99\n",
            "38     32\n",
            "42    186\n",
            "Name: note, dtype: int64\n",
            "   counts after final filter: note\n",
            "36     99\n",
            "38     32\n",
            "42    186\n",
            "Name: note, dtype: int64\n",
            "    counts after final merge: note\n",
            "hh       186\n",
            "kick      99\n",
            "snare     32\n",
            "Name: note, dtype: int64\n",
            "BULK LOAD: drummer7, drummer7/eval_session/8_rock-groove8_65_beat_4-4.mid\n",
            "FILE name: /content/drive/My Drive/groove-v1.0.0-midionly/groove/drummer7/eval_session/8_rock-groove8_65_beat_4-4.mid\n",
            "    loaded file: <midi file '/content/drive/My Drive/groove-v1.0.0-midionly/groove/drummer7/eval_session/8_rock-groove8_65_beat_4-4.mid' type 0, 1 tracks, 557 messages>\n",
            "    time sig: <meta message time_signature numerator=4 denominator=4 clocks_per_click=24 notated_32nd_notes_per_beat=8 time=0>\n",
            "    tempo: <meta message set_tempo tempo=923077 time=0>\n",
            "    track count: 1, tracks: [<midi track 'Midi Drums' 557 messages>]\n",
            "    MIDI file type: 0\n",
            "    > processing track: <midi track 'Midi Drums' 557 messages>\n",
            "    __notes pre-filter: [22. 26. 36. 38. 40. 42. 44.]\n",
            "    __applying filter: [44]\n",
            "    __notes post filter: [22. 26. 36. 38. 40. 42.]\n",
            "    note_on span - first tick: 0 , last tick: 30367 \n",
            "    good instruments: 4, {36.0: 'Bass Drum 1 (36)', 38.0: 'Acoustic Snare (38)', 42.0: 'Closed Hi Hat (42)', 46.0: 'Open Hi-Hat (46)'}\n",
            "    bar info - bars in file: 16, bar quantize level: 16.0\n",
            "    tick info - ticks per time sig beat: 480.0, ticks per quantize bin: 120\n",
            "    > checking for errs...\n",
            "    __ tmp_df before: (215, 8)\n",
            "    __ err_buckets removed: (2, 7)\n",
            "    __ tmp_df after: (213, 8)\n",
            "   > raw instruments: [42 38 36 46]\n",
            "   ['Closed Hi Hat (42)', 'Acoustic Snare (38)', 'Bass Drum 1 (36)', 'Open Hi-Hat (46)']\n",
            "   counts before final filter: note\n",
            "36     49\n",
            "38     44\n",
            "42    112\n",
            "46      8\n",
            "Name: note, dtype: int64\n",
            "   counts after final filter: note\n",
            "36     49\n",
            "38     44\n",
            "42    112\n",
            "46      8\n",
            "Name: note, dtype: int64\n",
            "    counts after final merge: note\n",
            "hh       120\n",
            "kick      49\n",
            "snare     44\n",
            "Name: note, dtype: int64\n",
            "BULK LOAD: drummer8, drummer8/eval_session/1_funk-groove1_138_beat_4-4.mid\n",
            "FILE name: /content/drive/My Drive/groove-v1.0.0-midionly/groove/drummer8/eval_session/1_funk-groove1_138_beat_4-4.mid\n",
            "    loaded file: <midi file '/content/drive/My Drive/groove-v1.0.0-midionly/groove/drummer8/eval_session/1_funk-groove1_138_beat_4-4.mid' type 0, 1 tracks, 728 messages>\n",
            "    time sig: <meta message time_signature numerator=4 denominator=4 clocks_per_click=24 notated_32nd_notes_per_beat=8 time=0>\n",
            "    tempo: <meta message set_tempo tempo=434783 time=0>\n",
            "    track count: 1, tracks: [<midi track 'Base Midi' 728 messages>]\n",
            "    MIDI file type: 0\n",
            "    > processing track: <midi track 'Base Midi' 728 messages>\n",
            "    __notes pre-filter: [22. 36. 37. 38. 40. 42.]\n",
            "    __applying filter: [44]\n",
            "    __notes post filter: [22. 36. 37. 38. 40. 42.]\n",
            "    note_on span - first tick: 0 , last tick: 30476 \n",
            "    good instruments: 3, {36.0: 'Bass Drum 1 (36)', 38.0: 'Acoustic Snare (38)', 42.0: 'Closed Hi Hat (42)'}\n",
            "    bar info - bars in file: 16, bar quantize level: 16.0\n",
            "    tick info - ticks per time sig beat: 480.0, ticks per quantize bin: 120\n",
            "    > checking for errs...\n",
            "    __ tmp_df before: (297, 8)\n",
            "    __ err_buckets removed: (18, 7)\n",
            "    __ tmp_df after: (279, 8)\n",
            "   > raw instruments: [36 42 38]\n",
            "   ['Bass Drum 1 (36)', 'Closed Hi Hat (42)', 'Acoustic Snare (38)']\n",
            "   counts before final filter: note\n",
            "36     56\n",
            "38     96\n",
            "42    127\n",
            "Name: note, dtype: int64\n",
            "   counts after final filter: note\n",
            "36     56\n",
            "38     96\n",
            "42    127\n",
            "Name: note, dtype: int64\n",
            "    counts after final merge: note\n",
            "hh       127\n",
            "kick      56\n",
            "snare     96\n",
            "Name: note, dtype: int64\n",
            "BULK LOAD: drummer8, drummer8/eval_session/3_soul-groove3_86_beat_4-4.mid\n",
            "FILE name: /content/drive/My Drive/groove-v1.0.0-midionly/groove/drummer8/eval_session/3_soul-groove3_86_beat_4-4.mid\n",
            "    loaded file: <midi file '/content/drive/My Drive/groove-v1.0.0-midionly/groove/drummer8/eval_session/3_soul-groove3_86_beat_4-4.mid' type 0, 1 tracks, 1063 messages>\n",
            "    time sig: <meta message time_signature numerator=4 denominator=4 clocks_per_click=24 notated_32nd_notes_per_beat=8 time=0>\n",
            "    tempo: <meta message set_tempo tempo=697674 time=0>\n",
            "    track count: 1, tracks: [<midi track 'Base Midi' 1063 messages>]\n",
            "    MIDI file type: 0\n",
            "    > processing track: <midi track 'Base Midi' 1063 messages>\n",
            "    __notes pre-filter: [36. 38. 40. 42.]\n",
            "    __applying filter: [44]\n",
            "    __notes post filter: [36. 38. 40. 42.]\n",
            "    note_on span - first tick: 5 , last tick: 30594 \n",
            "    good instruments: 3, {36.0: 'Bass Drum 1 (36)', 38.0: 'Acoustic Snare (38)', 42.0: 'Closed Hi Hat (42)'}\n",
            "    bar info - bars in file: 16, bar quantize level: 16.0\n",
            "    tick info - ticks per time sig beat: 480.0, ticks per quantize bin: 120\n",
            "    > checking for errs...\n",
            "    ...no errors to see here\n",
            "   > raw instruments: [36 42 38]\n",
            "   ['Bass Drum 1 (36)', 'Closed Hi Hat (42)', 'Acoustic Snare (38)']\n",
            "   counts before final filter: note\n",
            "36     96\n",
            "38     49\n",
            "42    255\n",
            "Name: note, dtype: int64\n",
            "   counts after final filter: note\n",
            "36     96\n",
            "38     49\n",
            "42    255\n",
            "Name: note, dtype: int64\n",
            "    counts after final merge: note\n",
            "hh       255\n",
            "kick      96\n",
            "snare     49\n",
            "Name: note, dtype: int64\n",
            "BULK LOAD: drummer8, drummer8/eval_session/4_soul-groove4_80_beat_4-4.mid\n",
            "FILE name: /content/drive/My Drive/groove-v1.0.0-midionly/groove/drummer8/eval_session/4_soul-groove4_80_beat_4-4.mid\n",
            "    loaded file: <midi file '/content/drive/My Drive/groove-v1.0.0-midionly/groove/drummer8/eval_session/4_soul-groove4_80_beat_4-4.mid' type 0, 1 tracks, 610 messages>\n",
            "    time sig: <meta message time_signature numerator=4 denominator=4 clocks_per_click=24 notated_32nd_notes_per_beat=8 time=0>\n",
            "    tempo: <meta message set_tempo tempo=750000 time=0>\n",
            "    track count: 1, tracks: [<midi track 'Base Midi' 610 messages>]\n",
            "    MIDI file type: 0\n",
            "    > processing track: <midi track 'Base Midi' 610 messages>\n",
            "    __notes pre-filter: [22. 36. 38. 42.]\n",
            "    __applying filter: [44]\n",
            "    __notes post filter: [22. 36. 38. 42.]\n",
            "    note_on span - first tick: 0 , last tick: 30601 \n",
            "    good instruments: 3, {36.0: 'Bass Drum 1 (36)', 38.0: 'Acoustic Snare (38)', 42.0: 'Closed Hi Hat (42)'}\n",
            "    bar info - bars in file: 16, bar quantize level: 16.0\n",
            "    tick info - ticks per time sig beat: 480.0, ticks per quantize bin: 120\n",
            "    > checking for errs...\n",
            "    ...no errors to see here\n",
            "   > raw instruments: [36 42 38]\n",
            "   ['Bass Drum 1 (36)', 'Closed Hi Hat (42)', 'Acoustic Snare (38)']\n",
            "   counts before final filter: note\n",
            "36     32\n",
            "38     32\n",
            "42    158\n",
            "Name: note, dtype: int64\n",
            "   counts after final filter: note\n",
            "36     32\n",
            "38     32\n",
            "42    158\n",
            "Name: note, dtype: int64\n",
            "    counts after final merge: note\n",
            "hh       158\n",
            "kick      32\n",
            "snare     32\n",
            "Name: note, dtype: int64\n",
            "BULK LOAD: drummer8, drummer8/eval_session/6_hiphop-groove6_87_beat_4-4.mid\n",
            "FILE name: /content/drive/My Drive/groove-v1.0.0-midionly/groove/drummer8/eval_session/6_hiphop-groove6_87_beat_4-4.mid\n",
            "    loaded file: <midi file '/content/drive/My Drive/groove-v1.0.0-midionly/groove/drummer8/eval_session/6_hiphop-groove6_87_beat_4-4.mid' type 0, 1 tracks, 803 messages>\n",
            "    time sig: <meta message time_signature numerator=4 denominator=4 clocks_per_click=24 notated_32nd_notes_per_beat=8 time=0>\n",
            "    tempo: <meta message set_tempo tempo=689655 time=0>\n",
            "    track count: 1, tracks: [<midi track 'Base Midi' 803 messages>]\n",
            "    MIDI file type: 0\n",
            "    > processing track: <midi track 'Base Midi' 803 messages>\n",
            "    __notes pre-filter: [36. 37. 38. 40. 42. 50.]\n",
            "    __applying filter: [44]\n",
            "    __notes post filter: [36. 37. 38. 40. 42. 50.]\n",
            "    note_on span - first tick: 15 , last tick: 30461 \n",
            "    good instruments: 4, {36.0: 'Bass Drum 1 (36)', 38.0: 'Acoustic Snare (38)', 42.0: 'Closed Hi Hat (42)', 50.0: 'High Tom (50)'}\n",
            "    bar info - bars in file: 16, bar quantize level: 16.0\n",
            "    tick info - ticks per time sig beat: 480.0, ticks per quantize bin: 120\n",
            "    > checking for errs...\n",
            "    __ tmp_df before: (313, 8)\n",
            "    __ err_buckets removed: (2, 7)\n",
            "    __ tmp_df after: (311, 8)\n",
            "   > raw instruments: [36 38 42 50]\n",
            "   ['Bass Drum 1 (36)', 'Acoustic Snare (38)', 'Closed Hi Hat (42)', 'High Tom (50)']\n",
            "   counts before final filter: note\n",
            "36    107\n",
            "38     31\n",
            "42    170\n",
            "50      3\n",
            "Name: note, dtype: int64\n",
            "   counts after final filter: note\n",
            "36    107\n",
            "38     31\n",
            "42    170\n",
            "Name: note, dtype: int64\n",
            "    counts after final merge: note\n",
            "hh       170\n",
            "kick     107\n",
            "snare     31\n",
            "Name: note, dtype: int64\n",
            "BULK LOAD: drummer8, drummer8/eval_session/8_rock-groove8_65_beat_4-4.mid\n",
            "FILE name: /content/drive/My Drive/groove-v1.0.0-midionly/groove/drummer8/eval_session/8_rock-groove8_65_beat_4-4.mid\n",
            "    loaded file: <midi file '/content/drive/My Drive/groove-v1.0.0-midionly/groove/drummer8/eval_session/8_rock-groove8_65_beat_4-4.mid' type 0, 1 tracks, 603 messages>\n",
            "    time sig: <meta message time_signature numerator=4 denominator=4 clocks_per_click=24 notated_32nd_notes_per_beat=8 time=0>\n",
            "    tempo: <meta message set_tempo tempo=923077 time=0>\n",
            "    track count: 1, tracks: [<midi track 'Base Midi' 603 messages>]\n",
            "    MIDI file type: 0\n",
            "    > processing track: <midi track 'Base Midi' 603 messages>\n",
            "    __notes pre-filter: [26. 36. 38. 40. 42. 44.]\n",
            "    __applying filter: [44]\n",
            "    __notes post filter: [26. 36. 38. 40. 42.]\n",
            "    note_on span - first tick: 0 , last tick: 30354 \n",
            "    good instruments: 4, {36.0: 'Bass Drum 1 (36)', 38.0: 'Acoustic Snare (38)', 42.0: 'Closed Hi Hat (42)', 46.0: 'Open Hi-Hat (46)'}\n",
            "    bar info - bars in file: 16, bar quantize level: 16.0\n",
            "    tick info - ticks per time sig beat: 480.0, ticks per quantize bin: 120\n",
            "    > checking for errs...\n",
            "    ...no errors to see here\n",
            "   > raw instruments: [36 42 38 46]\n",
            "   ['Bass Drum 1 (36)', 'Closed Hi Hat (42)', 'Acoustic Snare (38)', 'Open Hi-Hat (46)']\n",
            "   counts before final filter: note\n",
            "36     56\n",
            "38     40\n",
            "42    112\n",
            "46      8\n",
            "Name: note, dtype: int64\n",
            "   counts after final filter: note\n",
            "36     56\n",
            "38     40\n",
            "42    112\n",
            "46      8\n",
            "Name: note, dtype: int64\n",
            "    counts after final merge: note\n",
            "hh       120\n",
            "kick      56\n",
            "snare     40\n",
            "Name: note, dtype: int64\n"
          ],
          "name": "stdout"
        },
        {
          "output_type": "execute_result",
          "data": {
            "application/vnd.google.colaboratory.intrinsic+json": {
              "type": "string"
            },
            "text/plain": [
              "''"
            ]
          },
          "metadata": {
            "tags": []
          },
          "execution_count": 11
        }
      ]
    },
    {
      "cell_type": "markdown",
      "metadata": {
        "id": "oqqkKvSSZkfz"
      },
      "source": [
        "## Single file tests.."
      ]
    },
    {
      "cell_type": "code",
      "metadata": {
        "colab": {
          "base_uri": "https://localhost:8080/",
          "height": 564
        },
        "id": "Rt2gXzJvZnWL",
        "outputId": "467c3944-fdd6-4518-a97e-d6d4ecb6f9ae"
      },
      "source": [
        "##################################\n",
        "######## EXPLORE SINGLE FILE\n",
        "\n",
        "# experimenting on a single file here ...\n",
        "key1 = '/content/drive/My Drive/groove-v1.0.0-midionly/groove/drummer1/eval_session/1_funk-groove1_138_beat_4-4.mid'\n",
        "#key2 = '/content/drive/My Drive/groove-v1.0.0-midionly/groove/drummer5/eval_session/1_funk-groove1_138_beat_4-4.mid'\n",
        "\n",
        "test_data = all_drummer_data[key1]\n",
        "df1 = test_data.tight_df.copy()\n",
        "df1.head()\n",
        "\n",
        "print('stats for: {}'.format(key1))\n",
        "df1['beat_offset'].groupby(df1['note']).describe()\n",
        "df1['velocity'].groupby(df1['note']).describe()\n"
      ],
      "execution_count": 12,
      "outputs": [
        {
          "output_type": "execute_result",
          "data": {
            "text/html": [
              "<div>\n",
              "<style scoped>\n",
              "    .dataframe tbody tr th:only-of-type {\n",
              "        vertical-align: middle;\n",
              "    }\n",
              "\n",
              "    .dataframe tbody tr th {\n",
              "        vertical-align: top;\n",
              "    }\n",
              "\n",
              "    .dataframe thead th {\n",
              "        text-align: right;\n",
              "    }\n",
              "</style>\n",
              "<table border=\"1\" class=\"dataframe\">\n",
              "  <thead>\n",
              "    <tr style=\"text-align: right;\">\n",
              "      <th></th>\n",
              "      <th></th>\n",
              "      <th>note</th>\n",
              "      <th>velocity</th>\n",
              "      <th>beat_offset</th>\n",
              "      <th>bar_beat_number</th>\n",
              "    </tr>\n",
              "    <tr>\n",
              "      <th>bar_number</th>\n",
              "      <th>bar_beat_number</th>\n",
              "      <th></th>\n",
              "      <th></th>\n",
              "      <th></th>\n",
              "      <th></th>\n",
              "    </tr>\n",
              "  </thead>\n",
              "  <tbody>\n",
              "    <tr>\n",
              "      <th rowspan=\"5\" valign=\"top\">1</th>\n",
              "      <th>1</th>\n",
              "      <td>hh</td>\n",
              "      <td>55</td>\n",
              "      <td>7</td>\n",
              "      <td>1</td>\n",
              "    </tr>\n",
              "    <tr>\n",
              "      <th>1</th>\n",
              "      <td>kick</td>\n",
              "      <td>64</td>\n",
              "      <td>10</td>\n",
              "      <td>1</td>\n",
              "    </tr>\n",
              "    <tr>\n",
              "      <th>3</th>\n",
              "      <td>kick</td>\n",
              "      <td>57</td>\n",
              "      <td>-29</td>\n",
              "      <td>3</td>\n",
              "    </tr>\n",
              "    <tr>\n",
              "      <th>3</th>\n",
              "      <td>hh</td>\n",
              "      <td>31</td>\n",
              "      <td>-2</td>\n",
              "      <td>3</td>\n",
              "    </tr>\n",
              "    <tr>\n",
              "      <th>5</th>\n",
              "      <td>hh</td>\n",
              "      <td>54</td>\n",
              "      <td>-13</td>\n",
              "      <td>5</td>\n",
              "    </tr>\n",
              "  </tbody>\n",
              "</table>\n",
              "</div>"
            ],
            "text/plain": [
              "                            note  velocity  beat_offset  bar_beat_number\n",
              "bar_number bar_beat_number                                              \n",
              "1          1                  hh        55            7                1\n",
              "           1                kick        64           10                1\n",
              "           3                kick        57          -29                3\n",
              "           3                  hh        31           -2                3\n",
              "           5                  hh        54          -13                5"
            ]
          },
          "metadata": {
            "tags": []
          },
          "execution_count": 12
        },
        {
          "output_type": "stream",
          "text": [
            "stats for: /content/drive/My Drive/groove-v1.0.0-midionly/groove/drummer1/eval_session/1_funk-groove1_138_beat_4-4.mid\n"
          ],
          "name": "stdout"
        },
        {
          "output_type": "execute_result",
          "data": {
            "text/html": [
              "<div>\n",
              "<style scoped>\n",
              "    .dataframe tbody tr th:only-of-type {\n",
              "        vertical-align: middle;\n",
              "    }\n",
              "\n",
              "    .dataframe tbody tr th {\n",
              "        vertical-align: top;\n",
              "    }\n",
              "\n",
              "    .dataframe thead th {\n",
              "        text-align: right;\n",
              "    }\n",
              "</style>\n",
              "<table border=\"1\" class=\"dataframe\">\n",
              "  <thead>\n",
              "    <tr style=\"text-align: right;\">\n",
              "      <th></th>\n",
              "      <th>count</th>\n",
              "      <th>mean</th>\n",
              "      <th>std</th>\n",
              "      <th>min</th>\n",
              "      <th>25%</th>\n",
              "      <th>50%</th>\n",
              "      <th>75%</th>\n",
              "      <th>max</th>\n",
              "    </tr>\n",
              "    <tr>\n",
              "      <th>note</th>\n",
              "      <th></th>\n",
              "      <th></th>\n",
              "      <th></th>\n",
              "      <th></th>\n",
              "      <th></th>\n",
              "      <th></th>\n",
              "      <th></th>\n",
              "      <th></th>\n",
              "    </tr>\n",
              "  </thead>\n",
              "  <tbody>\n",
              "    <tr>\n",
              "      <th>hh</th>\n",
              "      <td>126.0</td>\n",
              "      <td>-4.674603</td>\n",
              "      <td>13.097071</td>\n",
              "      <td>-41.0</td>\n",
              "      <td>-12.00</td>\n",
              "      <td>-3.5</td>\n",
              "      <td>4.0</td>\n",
              "      <td>27.0</td>\n",
              "    </tr>\n",
              "    <tr>\n",
              "      <th>kick</th>\n",
              "      <td>54.0</td>\n",
              "      <td>-14.777778</td>\n",
              "      <td>15.486655</td>\n",
              "      <td>-54.0</td>\n",
              "      <td>-24.75</td>\n",
              "      <td>-13.0</td>\n",
              "      <td>-4.0</td>\n",
              "      <td>10.0</td>\n",
              "    </tr>\n",
              "    <tr>\n",
              "      <th>snare</th>\n",
              "      <td>79.0</td>\n",
              "      <td>-9.924051</td>\n",
              "      <td>20.791253</td>\n",
              "      <td>-58.0</td>\n",
              "      <td>-21.00</td>\n",
              "      <td>-8.0</td>\n",
              "      <td>0.5</td>\n",
              "      <td>55.0</td>\n",
              "    </tr>\n",
              "  </tbody>\n",
              "</table>\n",
              "</div>"
            ],
            "text/plain": [
              "       count       mean        std   min    25%   50%  75%   max\n",
              "note                                                            \n",
              "hh     126.0  -4.674603  13.097071 -41.0 -12.00  -3.5  4.0  27.0\n",
              "kick    54.0 -14.777778  15.486655 -54.0 -24.75 -13.0 -4.0  10.0\n",
              "snare   79.0  -9.924051  20.791253 -58.0 -21.00  -8.0  0.5  55.0"
            ]
          },
          "metadata": {
            "tags": []
          },
          "execution_count": 12
        },
        {
          "output_type": "execute_result",
          "data": {
            "text/html": [
              "<div>\n",
              "<style scoped>\n",
              "    .dataframe tbody tr th:only-of-type {\n",
              "        vertical-align: middle;\n",
              "    }\n",
              "\n",
              "    .dataframe tbody tr th {\n",
              "        vertical-align: top;\n",
              "    }\n",
              "\n",
              "    .dataframe thead th {\n",
              "        text-align: right;\n",
              "    }\n",
              "</style>\n",
              "<table border=\"1\" class=\"dataframe\">\n",
              "  <thead>\n",
              "    <tr style=\"text-align: right;\">\n",
              "      <th></th>\n",
              "      <th>count</th>\n",
              "      <th>mean</th>\n",
              "      <th>std</th>\n",
              "      <th>min</th>\n",
              "      <th>25%</th>\n",
              "      <th>50%</th>\n",
              "      <th>75%</th>\n",
              "      <th>max</th>\n",
              "    </tr>\n",
              "    <tr>\n",
              "      <th>note</th>\n",
              "      <th></th>\n",
              "      <th></th>\n",
              "      <th></th>\n",
              "      <th></th>\n",
              "      <th></th>\n",
              "      <th></th>\n",
              "      <th></th>\n",
              "      <th></th>\n",
              "    </tr>\n",
              "  </thead>\n",
              "  <tbody>\n",
              "    <tr>\n",
              "      <th>hh</th>\n",
              "      <td>126.0</td>\n",
              "      <td>50.436508</td>\n",
              "      <td>9.891003</td>\n",
              "      <td>30.0</td>\n",
              "      <td>44.0</td>\n",
              "      <td>49.0</td>\n",
              "      <td>56.00</td>\n",
              "      <td>83.0</td>\n",
              "    </tr>\n",
              "    <tr>\n",
              "      <th>kick</th>\n",
              "      <td>54.0</td>\n",
              "      <td>60.796296</td>\n",
              "      <td>15.543463</td>\n",
              "      <td>42.0</td>\n",
              "      <td>52.0</td>\n",
              "      <td>59.5</td>\n",
              "      <td>63.75</td>\n",
              "      <td>127.0</td>\n",
              "    </tr>\n",
              "    <tr>\n",
              "      <th>snare</th>\n",
              "      <td>79.0</td>\n",
              "      <td>71.506329</td>\n",
              "      <td>35.822523</td>\n",
              "      <td>8.0</td>\n",
              "      <td>33.0</td>\n",
              "      <td>90.0</td>\n",
              "      <td>102.00</td>\n",
              "      <td>117.0</td>\n",
              "    </tr>\n",
              "  </tbody>\n",
              "</table>\n",
              "</div>"
            ],
            "text/plain": [
              "       count       mean        std   min   25%   50%     75%    max\n",
              "note                                                               \n",
              "hh     126.0  50.436508   9.891003  30.0  44.0  49.0   56.00   83.0\n",
              "kick    54.0  60.796296  15.543463  42.0  52.0  59.5   63.75  127.0\n",
              "snare   79.0  71.506329  35.822523   8.0  33.0  90.0  102.00  117.0"
            ]
          },
          "metadata": {
            "tags": []
          },
          "execution_count": 12
        }
      ]
    },
    {
      "cell_type": "code",
      "metadata": {
        "colab": {
          "base_uri": "https://localhost:8080/",
          "height": 1000
        },
        "id": "C7V5dgDffyxv",
        "outputId": "1650e71d-8384-49e0-d9cb-4da2d11eaf3a"
      },
      "source": [
        "# pull out notes in named bars...\n",
        "display(df1.xs(1, level='bar_number')) \n",
        "display(df1.xs(2, level='bar_number')) "
      ],
      "execution_count": 13,
      "outputs": [
        {
          "output_type": "display_data",
          "data": {
            "text/html": [
              "<div>\n",
              "<style scoped>\n",
              "    .dataframe tbody tr th:only-of-type {\n",
              "        vertical-align: middle;\n",
              "    }\n",
              "\n",
              "    .dataframe tbody tr th {\n",
              "        vertical-align: top;\n",
              "    }\n",
              "\n",
              "    .dataframe thead th {\n",
              "        text-align: right;\n",
              "    }\n",
              "</style>\n",
              "<table border=\"1\" class=\"dataframe\">\n",
              "  <thead>\n",
              "    <tr style=\"text-align: right;\">\n",
              "      <th></th>\n",
              "      <th>note</th>\n",
              "      <th>velocity</th>\n",
              "      <th>beat_offset</th>\n",
              "      <th>bar_beat_number</th>\n",
              "    </tr>\n",
              "    <tr>\n",
              "      <th>bar_beat_number</th>\n",
              "      <th></th>\n",
              "      <th></th>\n",
              "      <th></th>\n",
              "      <th></th>\n",
              "    </tr>\n",
              "  </thead>\n",
              "  <tbody>\n",
              "    <tr>\n",
              "      <th>1</th>\n",
              "      <td>hh</td>\n",
              "      <td>55</td>\n",
              "      <td>7</td>\n",
              "      <td>1</td>\n",
              "    </tr>\n",
              "    <tr>\n",
              "      <th>1</th>\n",
              "      <td>kick</td>\n",
              "      <td>64</td>\n",
              "      <td>10</td>\n",
              "      <td>1</td>\n",
              "    </tr>\n",
              "    <tr>\n",
              "      <th>3</th>\n",
              "      <td>kick</td>\n",
              "      <td>57</td>\n",
              "      <td>-29</td>\n",
              "      <td>3</td>\n",
              "    </tr>\n",
              "    <tr>\n",
              "      <th>3</th>\n",
              "      <td>hh</td>\n",
              "      <td>31</td>\n",
              "      <td>-2</td>\n",
              "      <td>3</td>\n",
              "    </tr>\n",
              "    <tr>\n",
              "      <th>5</th>\n",
              "      <td>hh</td>\n",
              "      <td>54</td>\n",
              "      <td>-13</td>\n",
              "      <td>5</td>\n",
              "    </tr>\n",
              "    <tr>\n",
              "      <th>5</th>\n",
              "      <td>snare</td>\n",
              "      <td>93</td>\n",
              "      <td>-5</td>\n",
              "      <td>5</td>\n",
              "    </tr>\n",
              "    <tr>\n",
              "      <th>7</th>\n",
              "      <td>hh</td>\n",
              "      <td>42</td>\n",
              "      <td>-16</td>\n",
              "      <td>7</td>\n",
              "    </tr>\n",
              "    <tr>\n",
              "      <th>8</th>\n",
              "      <td>snare</td>\n",
              "      <td>33</td>\n",
              "      <td>-12</td>\n",
              "      <td>8</td>\n",
              "    </tr>\n",
              "    <tr>\n",
              "      <th>10</th>\n",
              "      <td>snare</td>\n",
              "      <td>33</td>\n",
              "      <td>-14</td>\n",
              "      <td>10</td>\n",
              "    </tr>\n",
              "    <tr>\n",
              "      <th>11</th>\n",
              "      <td>kick</td>\n",
              "      <td>59</td>\n",
              "      <td>-37</td>\n",
              "      <td>11</td>\n",
              "    </tr>\n",
              "    <tr>\n",
              "      <th>11</th>\n",
              "      <td>hh</td>\n",
              "      <td>42</td>\n",
              "      <td>-32</td>\n",
              "      <td>11</td>\n",
              "    </tr>\n",
              "    <tr>\n",
              "      <th>13</th>\n",
              "      <td>hh</td>\n",
              "      <td>64</td>\n",
              "      <td>-18</td>\n",
              "      <td>13</td>\n",
              "    </tr>\n",
              "    <tr>\n",
              "      <th>13</th>\n",
              "      <td>snare</td>\n",
              "      <td>114</td>\n",
              "      <td>7</td>\n",
              "      <td>13</td>\n",
              "    </tr>\n",
              "    <tr>\n",
              "      <th>15</th>\n",
              "      <td>hh</td>\n",
              "      <td>44</td>\n",
              "      <td>-1</td>\n",
              "      <td>15</td>\n",
              "    </tr>\n",
              "    <tr>\n",
              "      <th>16</th>\n",
              "      <td>snare</td>\n",
              "      <td>30</td>\n",
              "      <td>-3</td>\n",
              "      <td>16</td>\n",
              "    </tr>\n",
              "  </tbody>\n",
              "</table>\n",
              "</div>"
            ],
            "text/plain": [
              "                  note  velocity  beat_offset  bar_beat_number\n",
              "bar_beat_number                                               \n",
              "1                   hh        55            7                1\n",
              "1                 kick        64           10                1\n",
              "3                 kick        57          -29                3\n",
              "3                   hh        31           -2                3\n",
              "5                   hh        54          -13                5\n",
              "5                snare        93           -5                5\n",
              "7                   hh        42          -16                7\n",
              "8                snare        33          -12                8\n",
              "10               snare        33          -14               10\n",
              "11                kick        59          -37               11\n",
              "11                  hh        42          -32               11\n",
              "13                  hh        64          -18               13\n",
              "13               snare       114            7               13\n",
              "15                  hh        44           -1               15\n",
              "16               snare        30           -3               16"
            ]
          },
          "metadata": {
            "tags": []
          }
        },
        {
          "output_type": "display_data",
          "data": {
            "text/html": [
              "<div>\n",
              "<style scoped>\n",
              "    .dataframe tbody tr th:only-of-type {\n",
              "        vertical-align: middle;\n",
              "    }\n",
              "\n",
              "    .dataframe tbody tr th {\n",
              "        vertical-align: top;\n",
              "    }\n",
              "\n",
              "    .dataframe thead th {\n",
              "        text-align: right;\n",
              "    }\n",
              "</style>\n",
              "<table border=\"1\" class=\"dataframe\">\n",
              "  <thead>\n",
              "    <tr style=\"text-align: right;\">\n",
              "      <th></th>\n",
              "      <th>note</th>\n",
              "      <th>velocity</th>\n",
              "      <th>beat_offset</th>\n",
              "      <th>bar_beat_number</th>\n",
              "    </tr>\n",
              "    <tr>\n",
              "      <th>bar_beat_number</th>\n",
              "      <th></th>\n",
              "      <th></th>\n",
              "      <th></th>\n",
              "      <th></th>\n",
              "    </tr>\n",
              "  </thead>\n",
              "  <tbody>\n",
              "    <tr>\n",
              "      <th>1</th>\n",
              "      <td>hh</td>\n",
              "      <td>42</td>\n",
              "      <td>-7</td>\n",
              "      <td>1</td>\n",
              "    </tr>\n",
              "    <tr>\n",
              "      <th>1</th>\n",
              "      <td>kick</td>\n",
              "      <td>55</td>\n",
              "      <td>-5</td>\n",
              "      <td>1</td>\n",
              "    </tr>\n",
              "    <tr>\n",
              "      <th>3</th>\n",
              "      <td>kick</td>\n",
              "      <td>62</td>\n",
              "      <td>-10</td>\n",
              "      <td>3</td>\n",
              "    </tr>\n",
              "    <tr>\n",
              "      <th>3</th>\n",
              "      <td>hh</td>\n",
              "      <td>41</td>\n",
              "      <td>3</td>\n",
              "      <td>3</td>\n",
              "    </tr>\n",
              "    <tr>\n",
              "      <th>5</th>\n",
              "      <td>snare</td>\n",
              "      <td>94</td>\n",
              "      <td>4</td>\n",
              "      <td>5</td>\n",
              "    </tr>\n",
              "    <tr>\n",
              "      <th>5</th>\n",
              "      <td>hh</td>\n",
              "      <td>51</td>\n",
              "      <td>5</td>\n",
              "      <td>5</td>\n",
              "    </tr>\n",
              "    <tr>\n",
              "      <th>7</th>\n",
              "      <td>hh</td>\n",
              "      <td>45</td>\n",
              "      <td>7</td>\n",
              "      <td>7</td>\n",
              "    </tr>\n",
              "    <tr>\n",
              "      <th>8</th>\n",
              "      <td>snare</td>\n",
              "      <td>32</td>\n",
              "      <td>7</td>\n",
              "      <td>8</td>\n",
              "    </tr>\n",
              "    <tr>\n",
              "      <th>9</th>\n",
              "      <td>hh</td>\n",
              "      <td>43</td>\n",
              "      <td>2</td>\n",
              "      <td>9</td>\n",
              "    </tr>\n",
              "    <tr>\n",
              "      <th>10</th>\n",
              "      <td>snare</td>\n",
              "      <td>24</td>\n",
              "      <td>-5</td>\n",
              "      <td>10</td>\n",
              "    </tr>\n",
              "    <tr>\n",
              "      <th>11</th>\n",
              "      <td>kick</td>\n",
              "      <td>47</td>\n",
              "      <td>-46</td>\n",
              "      <td>11</td>\n",
              "    </tr>\n",
              "    <tr>\n",
              "      <th>11</th>\n",
              "      <td>hh</td>\n",
              "      <td>36</td>\n",
              "      <td>2</td>\n",
              "      <td>11</td>\n",
              "    </tr>\n",
              "    <tr>\n",
              "      <th>12</th>\n",
              "      <td>kick</td>\n",
              "      <td>54</td>\n",
              "      <td>-21</td>\n",
              "      <td>12</td>\n",
              "    </tr>\n",
              "    <tr>\n",
              "      <th>13</th>\n",
              "      <td>snare</td>\n",
              "      <td>89</td>\n",
              "      <td>-13</td>\n",
              "      <td>13</td>\n",
              "    </tr>\n",
              "    <tr>\n",
              "      <th>13</th>\n",
              "      <td>hh</td>\n",
              "      <td>54</td>\n",
              "      <td>0</td>\n",
              "      <td>13</td>\n",
              "    </tr>\n",
              "    <tr>\n",
              "      <th>15</th>\n",
              "      <td>hh</td>\n",
              "      <td>39</td>\n",
              "      <td>7</td>\n",
              "      <td>15</td>\n",
              "    </tr>\n",
              "  </tbody>\n",
              "</table>\n",
              "</div>"
            ],
            "text/plain": [
              "                  note  velocity  beat_offset  bar_beat_number\n",
              "bar_beat_number                                               \n",
              "1                   hh        42           -7                1\n",
              "1                 kick        55           -5                1\n",
              "3                 kick        62          -10                3\n",
              "3                   hh        41            3                3\n",
              "5                snare        94            4                5\n",
              "5                   hh        51            5                5\n",
              "7                   hh        45            7                7\n",
              "8                snare        32            7                8\n",
              "9                   hh        43            2                9\n",
              "10               snare        24           -5               10\n",
              "11                kick        47          -46               11\n",
              "11                  hh        36            2               11\n",
              "12                kick        54          -21               12\n",
              "13               snare        89          -13               13\n",
              "13                  hh        54            0               13\n",
              "15                  hh        39            7               15"
            ]
          },
          "metadata": {
            "tags": []
          }
        }
      ]
    },
    {
      "cell_type": "markdown",
      "metadata": {
        "id": "u9yXJCSEa7bO"
      },
      "source": [
        "## Filter songs..."
      ]
    },
    {
      "cell_type": "code",
      "metadata": {
        "colab": {
          "base_uri": "https://localhost:8080/",
          "height": 427
        },
        "id": "Wv1ZPml3a-NW",
        "outputId": "2075d713-9938-42e9-cdae-099baa8b4483"
      },
      "source": [
        "\n",
        "# FILTER SONGS BEING TESTED, ADD LABEL\n",
        "\n",
        "def addLabelCol(df, label):\n",
        "  '''\n",
        "  Takes as input data_prep.PerformanceData.tight_df\n",
        "\n",
        "  Returns df with additional colum for Y/ label called 'drummer_ID'\n",
        "  '''\n",
        "\n",
        "  # df['drummer_ID'] = label\n",
        "  df.insert(0, 'drummer_ID', label) # add it as first col\n",
        "\n",
        "  return df\n",
        "\n",
        "\n",
        "# specify style being processed\n",
        "# 1_funk-groove1\n",
        "# 3_soul-groove3\n",
        "# 4_soul-groove4\n",
        "# 6_hiphop-groove6\n",
        "# 8_rock-groove8\n",
        "\n",
        "#style_filter = \"1_funk-groove1\"  \n",
        "style_filter = \"3_soul-groove3\"\n",
        "#style_filter = \"4_soul-groove4\"\n",
        "#style_filter = \"6_hiphop-groove6\"\n",
        "#style_filter = \"8_rock-groove8\"\n",
        "\n",
        "songs_data = []\n",
        "\n",
        "\n",
        "# iterate through loaded files, extract songs\n",
        "# matching the style set in 'style_filter', then\n",
        "# add the label/ Y col ..\n",
        "for next_file in all_drummer_data.keys():\n",
        "  perf_data = all_drummer_data[next_file]\n",
        "  file_name = perf_data.file_wrapper.my_file_name\n",
        "  if style_filter in file_name:\n",
        "    print('Working on: {}'.format(file_name))\n",
        "    df1 = perf_data.tight_df.copy()\n",
        "    df2 = addLabelCol(df1, perf_data.drummer_id)  \n",
        "    df2.reset_index(drop=True, inplace=True)\n",
        "    songs_data.append(df2)\n",
        "  else:\n",
        "    #print('  ... ignoring: {}'.format(file_name))\n",
        "    pass\n",
        "\n",
        "# merge all into single df, drop indexes, reset default index\n",
        "all_data = pd.concat(songs_data)\n",
        "all_data.reset_index(inplace=True, drop=True)\n",
        "\n",
        "# .. at this point, df 'all_data' is a collection\n",
        "# of data for the same song, across all drummers, with\n",
        "# DrummerID label\n",
        "\n",
        "all_data.head(10)\n"
      ],
      "execution_count": 14,
      "outputs": [
        {
          "output_type": "stream",
          "text": [
            "Working on: /content/drive/My Drive/groove-v1.0.0-midionly/groove/drummer1/eval_session/3_soul-groove3_86_beat_4-4.mid\n",
            "Working on: /content/drive/My Drive/groove-v1.0.0-midionly/groove/drummer5/eval_session/3_soul-groove3_86_beat_4-4.mid\n",
            "Working on: /content/drive/My Drive/groove-v1.0.0-midionly/groove/drummer7/eval_session/3_soul-groove3_86_beat_4-4.mid\n",
            "Working on: /content/drive/My Drive/groove-v1.0.0-midionly/groove/drummer8/eval_session/3_soul-groove3_86_beat_4-4.mid\n"
          ],
          "name": "stdout"
        },
        {
          "output_type": "execute_result",
          "data": {
            "text/html": [
              "<div>\n",
              "<style scoped>\n",
              "    .dataframe tbody tr th:only-of-type {\n",
              "        vertical-align: middle;\n",
              "    }\n",
              "\n",
              "    .dataframe tbody tr th {\n",
              "        vertical-align: top;\n",
              "    }\n",
              "\n",
              "    .dataframe thead th {\n",
              "        text-align: right;\n",
              "    }\n",
              "</style>\n",
              "<table border=\"1\" class=\"dataframe\">\n",
              "  <thead>\n",
              "    <tr style=\"text-align: right;\">\n",
              "      <th></th>\n",
              "      <th>drummer_ID</th>\n",
              "      <th>note</th>\n",
              "      <th>velocity</th>\n",
              "      <th>beat_offset</th>\n",
              "      <th>bar_beat_number</th>\n",
              "    </tr>\n",
              "  </thead>\n",
              "  <tbody>\n",
              "    <tr>\n",
              "      <th>0</th>\n",
              "      <td>drummer1</td>\n",
              "      <td>hh</td>\n",
              "      <td>32</td>\n",
              "      <td>0</td>\n",
              "      <td>1</td>\n",
              "    </tr>\n",
              "    <tr>\n",
              "      <th>1</th>\n",
              "      <td>drummer1</td>\n",
              "      <td>kick</td>\n",
              "      <td>60</td>\n",
              "      <td>0</td>\n",
              "      <td>1</td>\n",
              "    </tr>\n",
              "    <tr>\n",
              "      <th>2</th>\n",
              "      <td>drummer1</td>\n",
              "      <td>snare</td>\n",
              "      <td>15</td>\n",
              "      <td>1</td>\n",
              "      <td>1</td>\n",
              "    </tr>\n",
              "    <tr>\n",
              "      <th>3</th>\n",
              "      <td>drummer1</td>\n",
              "      <td>hh</td>\n",
              "      <td>18</td>\n",
              "      <td>0</td>\n",
              "      <td>2</td>\n",
              "    </tr>\n",
              "    <tr>\n",
              "      <th>4</th>\n",
              "      <td>drummer1</td>\n",
              "      <td>hh</td>\n",
              "      <td>60</td>\n",
              "      <td>3</td>\n",
              "      <td>3</td>\n",
              "    </tr>\n",
              "    <tr>\n",
              "      <th>5</th>\n",
              "      <td>drummer1</td>\n",
              "      <td>hh</td>\n",
              "      <td>24</td>\n",
              "      <td>3</td>\n",
              "      <td>4</td>\n",
              "    </tr>\n",
              "    <tr>\n",
              "      <th>6</th>\n",
              "      <td>drummer1</td>\n",
              "      <td>kick</td>\n",
              "      <td>52</td>\n",
              "      <td>4</td>\n",
              "      <td>4</td>\n",
              "    </tr>\n",
              "    <tr>\n",
              "      <th>7</th>\n",
              "      <td>drummer1</td>\n",
              "      <td>snare</td>\n",
              "      <td>102</td>\n",
              "      <td>9</td>\n",
              "      <td>5</td>\n",
              "    </tr>\n",
              "    <tr>\n",
              "      <th>8</th>\n",
              "      <td>drummer1</td>\n",
              "      <td>hh</td>\n",
              "      <td>46</td>\n",
              "      <td>9</td>\n",
              "      <td>5</td>\n",
              "    </tr>\n",
              "    <tr>\n",
              "      <th>9</th>\n",
              "      <td>drummer1</td>\n",
              "      <td>hh</td>\n",
              "      <td>28</td>\n",
              "      <td>-2</td>\n",
              "      <td>6</td>\n",
              "    </tr>\n",
              "  </tbody>\n",
              "</table>\n",
              "</div>"
            ],
            "text/plain": [
              "  drummer_ID   note  velocity  beat_offset  bar_beat_number\n",
              "0   drummer1     hh        32            0                1\n",
              "1   drummer1   kick        60            0                1\n",
              "2   drummer1  snare        15            1                1\n",
              "3   drummer1     hh        18            0                2\n",
              "4   drummer1     hh        60            3                3\n",
              "5   drummer1     hh        24            3                4\n",
              "6   drummer1   kick        52            4                4\n",
              "7   drummer1  snare       102            9                5\n",
              "8   drummer1     hh        46            9                5\n",
              "9   drummer1     hh        28           -2                6"
            ]
          },
          "metadata": {
            "tags": []
          },
          "execution_count": 14
        }
      ]
    },
    {
      "cell_type": "code",
      "metadata": {
        "colab": {
          "base_uri": "https://localhost:8080/"
        },
        "id": "28x47e2mqw9b",
        "outputId": "4a8a3e1b-4c18-4eb8-e0c5-1906eeeb1427"
      },
      "source": [
        "#all_data[:10]\n",
        "#all_data[5:8]\n",
        "#all_data.iloc[0:2, :0]\n",
        "all_data.shape\n"
      ],
      "execution_count": 15,
      "outputs": [
        {
          "output_type": "execute_result",
          "data": {
            "text/plain": [
              "(1677, 5)"
            ]
          },
          "metadata": {
            "tags": []
          },
          "execution_count": 15
        }
      ]
    },
    {
      "cell_type": "markdown",
      "metadata": {
        "id": "5bC-Ly7h_9LV"
      },
      "source": [
        "# Setup pipelines"
      ]
    },
    {
      "cell_type": "markdown",
      "metadata": {
        "id": "0PsIAz0QYtbk"
      },
      "source": [
        "## X, y split"
      ]
    },
    {
      "cell_type": "markdown",
      "metadata": {
        "id": "ArftiVcD-2fe"
      },
      "source": [
        "Break into X, y before continuing ..."
      ]
    },
    {
      "cell_type": "code",
      "metadata": {
        "id": "7_dNfV_NxVRu"
      },
      "source": [
        "# BREAK INTO X, y\n",
        "y = all_data['drummer_ID'].to_numpy()\n",
        "X = all_data.drop(['drummer_ID' ], axis=1) #.to_numpy()"
      ],
      "execution_count": 16,
      "outputs": []
    },
    {
      "cell_type": "code",
      "metadata": {
        "colab": {
          "base_uri": "https://localhost:8080/",
          "height": 359
        },
        "id": "L2gSJXZwxq7E",
        "outputId": "4998fdcb-0a82-45f8-b9e9-954cc5d28434"
      },
      "source": [
        "X.head(10)"
      ],
      "execution_count": 17,
      "outputs": [
        {
          "output_type": "execute_result",
          "data": {
            "text/html": [
              "<div>\n",
              "<style scoped>\n",
              "    .dataframe tbody tr th:only-of-type {\n",
              "        vertical-align: middle;\n",
              "    }\n",
              "\n",
              "    .dataframe tbody tr th {\n",
              "        vertical-align: top;\n",
              "    }\n",
              "\n",
              "    .dataframe thead th {\n",
              "        text-align: right;\n",
              "    }\n",
              "</style>\n",
              "<table border=\"1\" class=\"dataframe\">\n",
              "  <thead>\n",
              "    <tr style=\"text-align: right;\">\n",
              "      <th></th>\n",
              "      <th>note</th>\n",
              "      <th>velocity</th>\n",
              "      <th>beat_offset</th>\n",
              "      <th>bar_beat_number</th>\n",
              "    </tr>\n",
              "  </thead>\n",
              "  <tbody>\n",
              "    <tr>\n",
              "      <th>0</th>\n",
              "      <td>hh</td>\n",
              "      <td>32</td>\n",
              "      <td>0</td>\n",
              "      <td>1</td>\n",
              "    </tr>\n",
              "    <tr>\n",
              "      <th>1</th>\n",
              "      <td>kick</td>\n",
              "      <td>60</td>\n",
              "      <td>0</td>\n",
              "      <td>1</td>\n",
              "    </tr>\n",
              "    <tr>\n",
              "      <th>2</th>\n",
              "      <td>snare</td>\n",
              "      <td>15</td>\n",
              "      <td>1</td>\n",
              "      <td>1</td>\n",
              "    </tr>\n",
              "    <tr>\n",
              "      <th>3</th>\n",
              "      <td>hh</td>\n",
              "      <td>18</td>\n",
              "      <td>0</td>\n",
              "      <td>2</td>\n",
              "    </tr>\n",
              "    <tr>\n",
              "      <th>4</th>\n",
              "      <td>hh</td>\n",
              "      <td>60</td>\n",
              "      <td>3</td>\n",
              "      <td>3</td>\n",
              "    </tr>\n",
              "    <tr>\n",
              "      <th>5</th>\n",
              "      <td>hh</td>\n",
              "      <td>24</td>\n",
              "      <td>3</td>\n",
              "      <td>4</td>\n",
              "    </tr>\n",
              "    <tr>\n",
              "      <th>6</th>\n",
              "      <td>kick</td>\n",
              "      <td>52</td>\n",
              "      <td>4</td>\n",
              "      <td>4</td>\n",
              "    </tr>\n",
              "    <tr>\n",
              "      <th>7</th>\n",
              "      <td>snare</td>\n",
              "      <td>102</td>\n",
              "      <td>9</td>\n",
              "      <td>5</td>\n",
              "    </tr>\n",
              "    <tr>\n",
              "      <th>8</th>\n",
              "      <td>hh</td>\n",
              "      <td>46</td>\n",
              "      <td>9</td>\n",
              "      <td>5</td>\n",
              "    </tr>\n",
              "    <tr>\n",
              "      <th>9</th>\n",
              "      <td>hh</td>\n",
              "      <td>28</td>\n",
              "      <td>-2</td>\n",
              "      <td>6</td>\n",
              "    </tr>\n",
              "  </tbody>\n",
              "</table>\n",
              "</div>"
            ],
            "text/plain": [
              "    note  velocity  beat_offset  bar_beat_number\n",
              "0     hh        32            0                1\n",
              "1   kick        60            0                1\n",
              "2  snare        15            1                1\n",
              "3     hh        18            0                2\n",
              "4     hh        60            3                3\n",
              "5     hh        24            3                4\n",
              "6   kick        52            4                4\n",
              "7  snare       102            9                5\n",
              "8     hh        46            9                5\n",
              "9     hh        28           -2                6"
            ]
          },
          "metadata": {
            "tags": []
          },
          "execution_count": 17
        }
      ]
    },
    {
      "cell_type": "markdown",
      "metadata": {
        "id": "kfJf5jPs8x8o"
      },
      "source": [
        "## Create transformers"
      ]
    },
    {
      "cell_type": "code",
      "metadata": {
        "id": "5PNptdKrgx7b"
      },
      "source": [
        "\n",
        "t_one_hot = OneHotEncoder(drop='first')     # instrument, beat_pos\n",
        "t_scaler_robust = RobustScaler(quantile_range=(25, 75))  # velocity & offset\n",
        "t_scaler_mm_1 = MinMaxScaler(feature_range=(0, 1))       # velocity\n",
        "t_scaler_mm_2 = MinMaxScaler(feature_range=(-0.5, 0.5))  # offset\n",
        "\n",
        "# col indexes, 0-3: note, velocity, beat_offset, bar_beat_number\n",
        "\n",
        "# robust scaling of vel & offset, one hot for instrument  \n",
        "t_v0_robust = [('t_scaler_robust', t_scaler_robust, [1, 2]), ('t_one_hot', t_one_hot, [0])]\n",
        "ct_v0 = ColumnTransformer(transformers=t_v0_robust, remainder='passthrough', sparse_threshold=0)\n",
        " \n",
        "\n",
        "# this should be equivalent to previous pipeline for KNN\n",
        "# MinMax scaling of vel & offset, one hot for note\n",
        "t_v1_mm = [('t_scaler_mm_1', t_scaler_mm_1, [1]), # velocity \n",
        "               ('t_scaler_mm_2', t_scaler_mm_2, [2]),  # offset\n",
        "               ('t_one_hot', t_one_hot, [0, 3])]  # instrument, beat_pos\n",
        "ct_v1 = ColumnTransformer(transformers=t_v1_mm, remainder='passthrough', sparse_threshold=0)\n",
        "\n",
        "# this should be equivalent to previous pipeline for KNN\n",
        "# MinMax scaling of vel & offset, one hot for note\n",
        "t_v2_mm = [('t_scaler_mm_1', t_scaler_mm_1, [1]), # velocity \n",
        "               ('t_scaler_mm_2', t_scaler_mm_2, [2]),  # offset\n",
        "               ('t_one_hot', t_one_hot, [0])]  # instrument\n",
        "ct_v2 = ColumnTransformer(transformers=t_v2_mm, remainder='passthrough', sparse_threshold=0)\n",
        "\n",
        "\n",
        "# MinMax scaling of vel & offset, one hot for note\n",
        "t_v3_mm = [('t_scaler_mm_1', t_scaler_mm_1, [1, 2]), ('t_one_hot', t_one_hot, [0])]\n",
        "ct_v3 = ColumnTransformer(transformers=t_v3_mm, remainder='passthrough', sparse_threshold=0)\n"
      ],
      "execution_count": 18,
      "outputs": []
    },
    {
      "cell_type": "code",
      "metadata": {
        "id": "zkrGgygvyICq"
      },
      "source": [
        "from sklearn import set_config\n",
        "set_config(display='diagram')   \n",
        "# diplays HTML representation in a jupyter context\n"
      ],
      "execution_count": 19,
      "outputs": []
    },
    {
      "cell_type": "code",
      "metadata": {
        "colab": {
          "base_uri": "https://localhost:8080/",
          "height": 356
        },
        "id": "cNJ7yWl9y9Nd",
        "outputId": "5b78b418-7563-4fdc-ad53-623e8d26f488"
      },
      "source": [
        "ct_v0\n",
        "ct_v1\n",
        "ct_v2\n",
        "ct_v3"
      ],
      "execution_count": 20,
      "outputs": [
        {
          "output_type": "execute_result",
          "data": {
            "text/html": [
              "<style>div.sk-top-container {color: black;background-color: white;}div.sk-toggleable {background-color: white;}label.sk-toggleable__label {cursor: pointer;display: block;width: 100%;margin-bottom: 0;padding: 0.2em 0.3em;box-sizing: border-box;text-align: center;}div.sk-toggleable__content {max-height: 0;max-width: 0;overflow: hidden;text-align: left;background-color: #f0f8ff;}div.sk-toggleable__content pre {margin: 0.2em;color: black;border-radius: 0.25em;background-color: #f0f8ff;}input.sk-toggleable__control:checked~div.sk-toggleable__content {max-height: 200px;max-width: 100%;overflow: auto;}div.sk-estimator input.sk-toggleable__control:checked~label.sk-toggleable__label {background-color: #d4ebff;}div.sk-label input.sk-toggleable__control:checked~label.sk-toggleable__label {background-color: #d4ebff;}input.sk-hidden--visually {border: 0;clip: rect(1px 1px 1px 1px);clip: rect(1px, 1px, 1px, 1px);height: 1px;margin: -1px;overflow: hidden;padding: 0;position: absolute;width: 1px;}div.sk-estimator {font-family: monospace;background-color: #f0f8ff;margin: 0.25em 0.25em;border: 1px dotted black;border-radius: 0.25em;box-sizing: border-box;}div.sk-estimator:hover {background-color: #d4ebff;}div.sk-parallel-item::after {content: \"\";width: 100%;border-bottom: 1px solid gray;flex-grow: 1;}div.sk-label:hover label.sk-toggleable__label {background-color: #d4ebff;}div.sk-serial::before {content: \"\";position: absolute;border-left: 1px solid gray;box-sizing: border-box;top: 2em;bottom: 0;left: 50%;}div.sk-serial {display: flex;flex-direction: column;align-items: center;background-color: white;}div.sk-item {z-index: 1;}div.sk-parallel {display: flex;align-items: stretch;justify-content: center;background-color: white;}div.sk-parallel-item {display: flex;flex-direction: column;position: relative;background-color: white;}div.sk-parallel-item:first-child::after {align-self: flex-end;width: 50%;}div.sk-parallel-item:last-child::after {align-self: flex-start;width: 50%;}div.sk-parallel-item:only-child::after {width: 0;}div.sk-dashed-wrapped {border: 1px dashed gray;margin: 0.2em;box-sizing: border-box;padding-bottom: 0.1em;background-color: white;position: relative;}div.sk-label label {font-family: monospace;font-weight: bold;background-color: white;display: inline-block;line-height: 1.2em;}div.sk-label-container {position: relative;z-index: 2;text-align: center;}div.sk-container {display: inline-block;position: relative;}</style><div class=\"sk-top-container\"><div class=\"sk-container\"><div class=\"sk-item sk-dashed-wrapped\"><div class=\"sk-label-container\"><div class=\"sk-label sk-toggleable\"><input class=\"sk-toggleable__control sk-hidden--visually\" id=\"c6189b86-5212-4fc9-bf46-d9a8f176ac55\" type=\"checkbox\" ><label class=\"sk-toggleable__label\" for=\"c6189b86-5212-4fc9-bf46-d9a8f176ac55\">ColumnTransformer</label><div class=\"sk-toggleable__content\"><pre>ColumnTransformer(remainder='passthrough', sparse_threshold=0,\n",
              "                  transformers=[('t_scaler_robust',\n",
              "                                 RobustScaler(quantile_range=(25, 75)),\n",
              "                                 [1, 2]),\n",
              "                                ('t_one_hot', OneHotEncoder(drop='first'),\n",
              "                                 [0])])</pre></div></div></div><div class=\"sk-parallel\"><div class=\"sk-parallel-item\"><div class=\"sk-item\"><div class=\"sk-label-container\"><div class=\"sk-label sk-toggleable\"><input class=\"sk-toggleable__control sk-hidden--visually\" id=\"c0948809-3fd1-4a15-af07-555a3929c3a5\" type=\"checkbox\" ><label class=\"sk-toggleable__label\" for=\"c0948809-3fd1-4a15-af07-555a3929c3a5\">t_scaler_robust</label><div class=\"sk-toggleable__content\"><pre>[1, 2]</pre></div></div></div><div class=\"sk-serial\"><div class=\"sk-item\"><div class=\"sk-estimator sk-toggleable\"><input class=\"sk-toggleable__control sk-hidden--visually\" id=\"d171f2e9-ee0b-4407-9f5d-fd7fdb55c78b\" type=\"checkbox\" ><label class=\"sk-toggleable__label\" for=\"d171f2e9-ee0b-4407-9f5d-fd7fdb55c78b\">RobustScaler</label><div class=\"sk-toggleable__content\"><pre>RobustScaler(quantile_range=(25, 75))</pre></div></div></div></div></div></div><div class=\"sk-parallel-item\"><div class=\"sk-item\"><div class=\"sk-label-container\"><div class=\"sk-label sk-toggleable\"><input class=\"sk-toggleable__control sk-hidden--visually\" id=\"fc426e47-80b6-4ef9-9a94-62576930769b\" type=\"checkbox\" ><label class=\"sk-toggleable__label\" for=\"fc426e47-80b6-4ef9-9a94-62576930769b\">t_one_hot</label><div class=\"sk-toggleable__content\"><pre>[0]</pre></div></div></div><div class=\"sk-serial\"><div class=\"sk-item\"><div class=\"sk-estimator sk-toggleable\"><input class=\"sk-toggleable__control sk-hidden--visually\" id=\"8a14dcc6-e03c-4eec-90db-cbe748261528\" type=\"checkbox\" ><label class=\"sk-toggleable__label\" for=\"8a14dcc6-e03c-4eec-90db-cbe748261528\">OneHotEncoder</label><div class=\"sk-toggleable__content\"><pre>OneHotEncoder(drop='first')</pre></div></div></div></div></div></div></div></div></div></div>"
            ],
            "text/plain": [
              "ColumnTransformer(remainder='passthrough', sparse_threshold=0,\n",
              "                  transformers=[('t_scaler_robust',\n",
              "                                 RobustScaler(quantile_range=(25, 75)),\n",
              "                                 [1, 2]),\n",
              "                                ('t_one_hot', OneHotEncoder(drop='first'),\n",
              "                                 [0])])"
            ]
          },
          "metadata": {
            "tags": []
          },
          "execution_count": 20
        },
        {
          "output_type": "execute_result",
          "data": {
            "text/html": [
              "<style>div.sk-top-container {color: black;background-color: white;}div.sk-toggleable {background-color: white;}label.sk-toggleable__label {cursor: pointer;display: block;width: 100%;margin-bottom: 0;padding: 0.2em 0.3em;box-sizing: border-box;text-align: center;}div.sk-toggleable__content {max-height: 0;max-width: 0;overflow: hidden;text-align: left;background-color: #f0f8ff;}div.sk-toggleable__content pre {margin: 0.2em;color: black;border-radius: 0.25em;background-color: #f0f8ff;}input.sk-toggleable__control:checked~div.sk-toggleable__content {max-height: 200px;max-width: 100%;overflow: auto;}div.sk-estimator input.sk-toggleable__control:checked~label.sk-toggleable__label {background-color: #d4ebff;}div.sk-label input.sk-toggleable__control:checked~label.sk-toggleable__label {background-color: #d4ebff;}input.sk-hidden--visually {border: 0;clip: rect(1px 1px 1px 1px);clip: rect(1px, 1px, 1px, 1px);height: 1px;margin: -1px;overflow: hidden;padding: 0;position: absolute;width: 1px;}div.sk-estimator {font-family: monospace;background-color: #f0f8ff;margin: 0.25em 0.25em;border: 1px dotted black;border-radius: 0.25em;box-sizing: border-box;}div.sk-estimator:hover {background-color: #d4ebff;}div.sk-parallel-item::after {content: \"\";width: 100%;border-bottom: 1px solid gray;flex-grow: 1;}div.sk-label:hover label.sk-toggleable__label {background-color: #d4ebff;}div.sk-serial::before {content: \"\";position: absolute;border-left: 1px solid gray;box-sizing: border-box;top: 2em;bottom: 0;left: 50%;}div.sk-serial {display: flex;flex-direction: column;align-items: center;background-color: white;}div.sk-item {z-index: 1;}div.sk-parallel {display: flex;align-items: stretch;justify-content: center;background-color: white;}div.sk-parallel-item {display: flex;flex-direction: column;position: relative;background-color: white;}div.sk-parallel-item:first-child::after {align-self: flex-end;width: 50%;}div.sk-parallel-item:last-child::after {align-self: flex-start;width: 50%;}div.sk-parallel-item:only-child::after {width: 0;}div.sk-dashed-wrapped {border: 1px dashed gray;margin: 0.2em;box-sizing: border-box;padding-bottom: 0.1em;background-color: white;position: relative;}div.sk-label label {font-family: monospace;font-weight: bold;background-color: white;display: inline-block;line-height: 1.2em;}div.sk-label-container {position: relative;z-index: 2;text-align: center;}div.sk-container {display: inline-block;position: relative;}</style><div class=\"sk-top-container\"><div class=\"sk-container\"><div class=\"sk-item sk-dashed-wrapped\"><div class=\"sk-label-container\"><div class=\"sk-label sk-toggleable\"><input class=\"sk-toggleable__control sk-hidden--visually\" id=\"285af7bd-2651-4421-9239-dd20034f70ef\" type=\"checkbox\" ><label class=\"sk-toggleable__label\" for=\"285af7bd-2651-4421-9239-dd20034f70ef\">ColumnTransformer</label><div class=\"sk-toggleable__content\"><pre>ColumnTransformer(remainder='passthrough', sparse_threshold=0,\n",
              "                  transformers=[('t_scaler_mm_1', MinMaxScaler(), [1]),\n",
              "                                ('t_scaler_mm_2',\n",
              "                                 MinMaxScaler(feature_range=(-0.5, 0.5)), [2]),\n",
              "                                ('t_one_hot', OneHotEncoder(drop='first'),\n",
              "                                 [0, 3])])</pre></div></div></div><div class=\"sk-parallel\"><div class=\"sk-parallel-item\"><div class=\"sk-item\"><div class=\"sk-label-container\"><div class=\"sk-label sk-toggleable\"><input class=\"sk-toggleable__control sk-hidden--visually\" id=\"228dd978-d37e-41d4-926d-66ed2e26c16f\" type=\"checkbox\" ><label class=\"sk-toggleable__label\" for=\"228dd978-d37e-41d4-926d-66ed2e26c16f\">t_scaler_mm_1</label><div class=\"sk-toggleable__content\"><pre>[1]</pre></div></div></div><div class=\"sk-serial\"><div class=\"sk-item\"><div class=\"sk-estimator sk-toggleable\"><input class=\"sk-toggleable__control sk-hidden--visually\" id=\"836832da-fcf1-4815-96e6-7764f57bf032\" type=\"checkbox\" ><label class=\"sk-toggleable__label\" for=\"836832da-fcf1-4815-96e6-7764f57bf032\">MinMaxScaler</label><div class=\"sk-toggleable__content\"><pre>MinMaxScaler()</pre></div></div></div></div></div></div><div class=\"sk-parallel-item\"><div class=\"sk-item\"><div class=\"sk-label-container\"><div class=\"sk-label sk-toggleable\"><input class=\"sk-toggleable__control sk-hidden--visually\" id=\"07d78ce9-53a6-4d2b-ac8e-6de724dc005d\" type=\"checkbox\" ><label class=\"sk-toggleable__label\" for=\"07d78ce9-53a6-4d2b-ac8e-6de724dc005d\">t_scaler_mm_2</label><div class=\"sk-toggleable__content\"><pre>[2]</pre></div></div></div><div class=\"sk-serial\"><div class=\"sk-item\"><div class=\"sk-estimator sk-toggleable\"><input class=\"sk-toggleable__control sk-hidden--visually\" id=\"7508280d-ad73-4aed-b8ca-855aaf261774\" type=\"checkbox\" ><label class=\"sk-toggleable__label\" for=\"7508280d-ad73-4aed-b8ca-855aaf261774\">MinMaxScaler</label><div class=\"sk-toggleable__content\"><pre>MinMaxScaler(feature_range=(-0.5, 0.5))</pre></div></div></div></div></div></div><div class=\"sk-parallel-item\"><div class=\"sk-item\"><div class=\"sk-label-container\"><div class=\"sk-label sk-toggleable\"><input class=\"sk-toggleable__control sk-hidden--visually\" id=\"ec0426be-0dfb-4843-bfb9-ebf8800b9ecb\" type=\"checkbox\" ><label class=\"sk-toggleable__label\" for=\"ec0426be-0dfb-4843-bfb9-ebf8800b9ecb\">t_one_hot</label><div class=\"sk-toggleable__content\"><pre>[0, 3]</pre></div></div></div><div class=\"sk-serial\"><div class=\"sk-item\"><div class=\"sk-estimator sk-toggleable\"><input class=\"sk-toggleable__control sk-hidden--visually\" id=\"b074346b-4b29-4d2a-9fcc-91d6ffacdfef\" type=\"checkbox\" ><label class=\"sk-toggleable__label\" for=\"b074346b-4b29-4d2a-9fcc-91d6ffacdfef\">OneHotEncoder</label><div class=\"sk-toggleable__content\"><pre>OneHotEncoder(drop='first')</pre></div></div></div></div></div></div></div></div></div></div>"
            ],
            "text/plain": [
              "ColumnTransformer(remainder='passthrough', sparse_threshold=0,\n",
              "                  transformers=[('t_scaler_mm_1', MinMaxScaler(), [1]),\n",
              "                                ('t_scaler_mm_2',\n",
              "                                 MinMaxScaler(feature_range=(-0.5, 0.5)), [2]),\n",
              "                                ('t_one_hot', OneHotEncoder(drop='first'),\n",
              "                                 [0, 3])])"
            ]
          },
          "metadata": {
            "tags": []
          },
          "execution_count": 20
        },
        {
          "output_type": "execute_result",
          "data": {
            "text/html": [
              "<style>div.sk-top-container {color: black;background-color: white;}div.sk-toggleable {background-color: white;}label.sk-toggleable__label {cursor: pointer;display: block;width: 100%;margin-bottom: 0;padding: 0.2em 0.3em;box-sizing: border-box;text-align: center;}div.sk-toggleable__content {max-height: 0;max-width: 0;overflow: hidden;text-align: left;background-color: #f0f8ff;}div.sk-toggleable__content pre {margin: 0.2em;color: black;border-radius: 0.25em;background-color: #f0f8ff;}input.sk-toggleable__control:checked~div.sk-toggleable__content {max-height: 200px;max-width: 100%;overflow: auto;}div.sk-estimator input.sk-toggleable__control:checked~label.sk-toggleable__label {background-color: #d4ebff;}div.sk-label input.sk-toggleable__control:checked~label.sk-toggleable__label {background-color: #d4ebff;}input.sk-hidden--visually {border: 0;clip: rect(1px 1px 1px 1px);clip: rect(1px, 1px, 1px, 1px);height: 1px;margin: -1px;overflow: hidden;padding: 0;position: absolute;width: 1px;}div.sk-estimator {font-family: monospace;background-color: #f0f8ff;margin: 0.25em 0.25em;border: 1px dotted black;border-radius: 0.25em;box-sizing: border-box;}div.sk-estimator:hover {background-color: #d4ebff;}div.sk-parallel-item::after {content: \"\";width: 100%;border-bottom: 1px solid gray;flex-grow: 1;}div.sk-label:hover label.sk-toggleable__label {background-color: #d4ebff;}div.sk-serial::before {content: \"\";position: absolute;border-left: 1px solid gray;box-sizing: border-box;top: 2em;bottom: 0;left: 50%;}div.sk-serial {display: flex;flex-direction: column;align-items: center;background-color: white;}div.sk-item {z-index: 1;}div.sk-parallel {display: flex;align-items: stretch;justify-content: center;background-color: white;}div.sk-parallel-item {display: flex;flex-direction: column;position: relative;background-color: white;}div.sk-parallel-item:first-child::after {align-self: flex-end;width: 50%;}div.sk-parallel-item:last-child::after {align-self: flex-start;width: 50%;}div.sk-parallel-item:only-child::after {width: 0;}div.sk-dashed-wrapped {border: 1px dashed gray;margin: 0.2em;box-sizing: border-box;padding-bottom: 0.1em;background-color: white;position: relative;}div.sk-label label {font-family: monospace;font-weight: bold;background-color: white;display: inline-block;line-height: 1.2em;}div.sk-label-container {position: relative;z-index: 2;text-align: center;}div.sk-container {display: inline-block;position: relative;}</style><div class=\"sk-top-container\"><div class=\"sk-container\"><div class=\"sk-item sk-dashed-wrapped\"><div class=\"sk-label-container\"><div class=\"sk-label sk-toggleable\"><input class=\"sk-toggleable__control sk-hidden--visually\" id=\"d26925ab-4871-4583-a29d-2cd6a6aa415d\" type=\"checkbox\" ><label class=\"sk-toggleable__label\" for=\"d26925ab-4871-4583-a29d-2cd6a6aa415d\">ColumnTransformer</label><div class=\"sk-toggleable__content\"><pre>ColumnTransformer(remainder='passthrough', sparse_threshold=0,\n",
              "                  transformers=[('t_scaler_mm_1', MinMaxScaler(), [1]),\n",
              "                                ('t_scaler_mm_2',\n",
              "                                 MinMaxScaler(feature_range=(-0.5, 0.5)), [2]),\n",
              "                                ('t_one_hot', OneHotEncoder(drop='first'),\n",
              "                                 [0])])</pre></div></div></div><div class=\"sk-parallel\"><div class=\"sk-parallel-item\"><div class=\"sk-item\"><div class=\"sk-label-container\"><div class=\"sk-label sk-toggleable\"><input class=\"sk-toggleable__control sk-hidden--visually\" id=\"a7667fa5-a030-4092-9127-7e9cbd23335b\" type=\"checkbox\" ><label class=\"sk-toggleable__label\" for=\"a7667fa5-a030-4092-9127-7e9cbd23335b\">t_scaler_mm_1</label><div class=\"sk-toggleable__content\"><pre>[1]</pre></div></div></div><div class=\"sk-serial\"><div class=\"sk-item\"><div class=\"sk-estimator sk-toggleable\"><input class=\"sk-toggleable__control sk-hidden--visually\" id=\"abe051bb-88d6-43d4-9ac2-f7b45614c355\" type=\"checkbox\" ><label class=\"sk-toggleable__label\" for=\"abe051bb-88d6-43d4-9ac2-f7b45614c355\">MinMaxScaler</label><div class=\"sk-toggleable__content\"><pre>MinMaxScaler()</pre></div></div></div></div></div></div><div class=\"sk-parallel-item\"><div class=\"sk-item\"><div class=\"sk-label-container\"><div class=\"sk-label sk-toggleable\"><input class=\"sk-toggleable__control sk-hidden--visually\" id=\"feb348a2-8797-456f-a35d-fce43ed1fe2e\" type=\"checkbox\" ><label class=\"sk-toggleable__label\" for=\"feb348a2-8797-456f-a35d-fce43ed1fe2e\">t_scaler_mm_2</label><div class=\"sk-toggleable__content\"><pre>[2]</pre></div></div></div><div class=\"sk-serial\"><div class=\"sk-item\"><div class=\"sk-estimator sk-toggleable\"><input class=\"sk-toggleable__control sk-hidden--visually\" id=\"8a035ae7-c510-45ae-b435-cda70bb36157\" type=\"checkbox\" ><label class=\"sk-toggleable__label\" for=\"8a035ae7-c510-45ae-b435-cda70bb36157\">MinMaxScaler</label><div class=\"sk-toggleable__content\"><pre>MinMaxScaler(feature_range=(-0.5, 0.5))</pre></div></div></div></div></div></div><div class=\"sk-parallel-item\"><div class=\"sk-item\"><div class=\"sk-label-container\"><div class=\"sk-label sk-toggleable\"><input class=\"sk-toggleable__control sk-hidden--visually\" id=\"dc054009-3786-442a-b878-a0f8e02a9127\" type=\"checkbox\" ><label class=\"sk-toggleable__label\" for=\"dc054009-3786-442a-b878-a0f8e02a9127\">t_one_hot</label><div class=\"sk-toggleable__content\"><pre>[0]</pre></div></div></div><div class=\"sk-serial\"><div class=\"sk-item\"><div class=\"sk-estimator sk-toggleable\"><input class=\"sk-toggleable__control sk-hidden--visually\" id=\"fe96509b-e598-4ad0-b324-0d43f45b32cc\" type=\"checkbox\" ><label class=\"sk-toggleable__label\" for=\"fe96509b-e598-4ad0-b324-0d43f45b32cc\">OneHotEncoder</label><div class=\"sk-toggleable__content\"><pre>OneHotEncoder(drop='first')</pre></div></div></div></div></div></div></div></div></div></div>"
            ],
            "text/plain": [
              "ColumnTransformer(remainder='passthrough', sparse_threshold=0,\n",
              "                  transformers=[('t_scaler_mm_1', MinMaxScaler(), [1]),\n",
              "                                ('t_scaler_mm_2',\n",
              "                                 MinMaxScaler(feature_range=(-0.5, 0.5)), [2]),\n",
              "                                ('t_one_hot', OneHotEncoder(drop='first'),\n",
              "                                 [0])])"
            ]
          },
          "metadata": {
            "tags": []
          },
          "execution_count": 20
        },
        {
          "output_type": "execute_result",
          "data": {
            "text/html": [
              "<style>div.sk-top-container {color: black;background-color: white;}div.sk-toggleable {background-color: white;}label.sk-toggleable__label {cursor: pointer;display: block;width: 100%;margin-bottom: 0;padding: 0.2em 0.3em;box-sizing: border-box;text-align: center;}div.sk-toggleable__content {max-height: 0;max-width: 0;overflow: hidden;text-align: left;background-color: #f0f8ff;}div.sk-toggleable__content pre {margin: 0.2em;color: black;border-radius: 0.25em;background-color: #f0f8ff;}input.sk-toggleable__control:checked~div.sk-toggleable__content {max-height: 200px;max-width: 100%;overflow: auto;}div.sk-estimator input.sk-toggleable__control:checked~label.sk-toggleable__label {background-color: #d4ebff;}div.sk-label input.sk-toggleable__control:checked~label.sk-toggleable__label {background-color: #d4ebff;}input.sk-hidden--visually {border: 0;clip: rect(1px 1px 1px 1px);clip: rect(1px, 1px, 1px, 1px);height: 1px;margin: -1px;overflow: hidden;padding: 0;position: absolute;width: 1px;}div.sk-estimator {font-family: monospace;background-color: #f0f8ff;margin: 0.25em 0.25em;border: 1px dotted black;border-radius: 0.25em;box-sizing: border-box;}div.sk-estimator:hover {background-color: #d4ebff;}div.sk-parallel-item::after {content: \"\";width: 100%;border-bottom: 1px solid gray;flex-grow: 1;}div.sk-label:hover label.sk-toggleable__label {background-color: #d4ebff;}div.sk-serial::before {content: \"\";position: absolute;border-left: 1px solid gray;box-sizing: border-box;top: 2em;bottom: 0;left: 50%;}div.sk-serial {display: flex;flex-direction: column;align-items: center;background-color: white;}div.sk-item {z-index: 1;}div.sk-parallel {display: flex;align-items: stretch;justify-content: center;background-color: white;}div.sk-parallel-item {display: flex;flex-direction: column;position: relative;background-color: white;}div.sk-parallel-item:first-child::after {align-self: flex-end;width: 50%;}div.sk-parallel-item:last-child::after {align-self: flex-start;width: 50%;}div.sk-parallel-item:only-child::after {width: 0;}div.sk-dashed-wrapped {border: 1px dashed gray;margin: 0.2em;box-sizing: border-box;padding-bottom: 0.1em;background-color: white;position: relative;}div.sk-label label {font-family: monospace;font-weight: bold;background-color: white;display: inline-block;line-height: 1.2em;}div.sk-label-container {position: relative;z-index: 2;text-align: center;}div.sk-container {display: inline-block;position: relative;}</style><div class=\"sk-top-container\"><div class=\"sk-container\"><div class=\"sk-item sk-dashed-wrapped\"><div class=\"sk-label-container\"><div class=\"sk-label sk-toggleable\"><input class=\"sk-toggleable__control sk-hidden--visually\" id=\"3d3a342d-7ade-4ee1-921d-d48f6168442a\" type=\"checkbox\" ><label class=\"sk-toggleable__label\" for=\"3d3a342d-7ade-4ee1-921d-d48f6168442a\">ColumnTransformer</label><div class=\"sk-toggleable__content\"><pre>ColumnTransformer(remainder='passthrough', sparse_threshold=0,\n",
              "                  transformers=[('t_scaler_mm_1', MinMaxScaler(), [1, 2]),\n",
              "                                ('t_one_hot', OneHotEncoder(drop='first'),\n",
              "                                 [0])])</pre></div></div></div><div class=\"sk-parallel\"><div class=\"sk-parallel-item\"><div class=\"sk-item\"><div class=\"sk-label-container\"><div class=\"sk-label sk-toggleable\"><input class=\"sk-toggleable__control sk-hidden--visually\" id=\"dd9710f8-eff9-4802-b690-a216ce1450c3\" type=\"checkbox\" ><label class=\"sk-toggleable__label\" for=\"dd9710f8-eff9-4802-b690-a216ce1450c3\">t_scaler_mm_1</label><div class=\"sk-toggleable__content\"><pre>[1, 2]</pre></div></div></div><div class=\"sk-serial\"><div class=\"sk-item\"><div class=\"sk-estimator sk-toggleable\"><input class=\"sk-toggleable__control sk-hidden--visually\" id=\"8515c4b8-ce8d-40ab-b44d-7c50c14bf83a\" type=\"checkbox\" ><label class=\"sk-toggleable__label\" for=\"8515c4b8-ce8d-40ab-b44d-7c50c14bf83a\">MinMaxScaler</label><div class=\"sk-toggleable__content\"><pre>MinMaxScaler()</pre></div></div></div></div></div></div><div class=\"sk-parallel-item\"><div class=\"sk-item\"><div class=\"sk-label-container\"><div class=\"sk-label sk-toggleable\"><input class=\"sk-toggleable__control sk-hidden--visually\" id=\"ff385f29-89fa-4edf-9cb2-d3449fccb451\" type=\"checkbox\" ><label class=\"sk-toggleable__label\" for=\"ff385f29-89fa-4edf-9cb2-d3449fccb451\">t_one_hot</label><div class=\"sk-toggleable__content\"><pre>[0]</pre></div></div></div><div class=\"sk-serial\"><div class=\"sk-item\"><div class=\"sk-estimator sk-toggleable\"><input class=\"sk-toggleable__control sk-hidden--visually\" id=\"5853194a-f182-42ce-99d4-c860a3feb085\" type=\"checkbox\" ><label class=\"sk-toggleable__label\" for=\"5853194a-f182-42ce-99d4-c860a3feb085\">OneHotEncoder</label><div class=\"sk-toggleable__content\"><pre>OneHotEncoder(drop='first')</pre></div></div></div></div></div></div></div></div></div></div>"
            ],
            "text/plain": [
              "ColumnTransformer(remainder='passthrough', sparse_threshold=0,\n",
              "                  transformers=[('t_scaler_mm_1', MinMaxScaler(), [1, 2]),\n",
              "                                ('t_one_hot', OneHotEncoder(drop='first'),\n",
              "                                 [0])])"
            ]
          },
          "metadata": {
            "tags": []
          },
          "execution_count": 20
        }
      ]
    },
    {
      "cell_type": "markdown",
      "metadata": {
        "id": "K3JlPpTjIlYg"
      },
      "source": [
        "## Sanity checking ..\n"
      ]
    },
    {
      "cell_type": "markdown",
      "metadata": {
        "id": "AMt3mRRkItZw"
      },
      "source": [
        "Try a transformer, peek at the outputs..."
      ]
    },
    {
      "cell_type": "code",
      "metadata": {
        "id": "Sm2Kwbjx-PU0"
      },
      "source": [
        "output1 = ct_v1.fit_transform(X)\n",
        "output2 = ct_v2.fit_transform(X)\n",
        "output3 = ct_v3.fit_transform(X)"
      ],
      "execution_count": 21,
      "outputs": []
    },
    {
      "cell_type": "code",
      "metadata": {
        "id": "gMaayZMOQfgw"
      },
      "source": [
        ""
      ],
      "execution_count": 21,
      "outputs": []
    },
    {
      "cell_type": "code",
      "metadata": {
        "colab": {
          "base_uri": "https://localhost:8080/",
          "height": 221
        },
        "id": "Bay0kX4dzAX4",
        "outputId": "a82831c4-0027-4ecf-e275-1475a1808ef0"
      },
      "source": [
        "output1.shape\n",
        "pd.DataFrame(output1).head()"
      ],
      "execution_count": 22,
      "outputs": [
        {
          "output_type": "execute_result",
          "data": {
            "text/plain": [
              "(1677, 19)"
            ]
          },
          "metadata": {
            "tags": []
          },
          "execution_count": 22
        },
        {
          "output_type": "execute_result",
          "data": {
            "text/html": [
              "<div>\n",
              "<style scoped>\n",
              "    .dataframe tbody tr th:only-of-type {\n",
              "        vertical-align: middle;\n",
              "    }\n",
              "\n",
              "    .dataframe tbody tr th {\n",
              "        vertical-align: top;\n",
              "    }\n",
              "\n",
              "    .dataframe thead th {\n",
              "        text-align: right;\n",
              "    }\n",
              "</style>\n",
              "<table border=\"1\" class=\"dataframe\">\n",
              "  <thead>\n",
              "    <tr style=\"text-align: right;\">\n",
              "      <th></th>\n",
              "      <th>0</th>\n",
              "      <th>1</th>\n",
              "      <th>2</th>\n",
              "      <th>3</th>\n",
              "      <th>4</th>\n",
              "      <th>5</th>\n",
              "      <th>6</th>\n",
              "      <th>7</th>\n",
              "      <th>8</th>\n",
              "      <th>9</th>\n",
              "      <th>10</th>\n",
              "      <th>11</th>\n",
              "      <th>12</th>\n",
              "      <th>13</th>\n",
              "      <th>14</th>\n",
              "      <th>15</th>\n",
              "      <th>16</th>\n",
              "      <th>17</th>\n",
              "      <th>18</th>\n",
              "    </tr>\n",
              "  </thead>\n",
              "  <tbody>\n",
              "    <tr>\n",
              "      <th>0</th>\n",
              "      <td>0.221311</td>\n",
              "      <td>0.004202</td>\n",
              "      <td>0.0</td>\n",
              "      <td>0.0</td>\n",
              "      <td>0.0</td>\n",
              "      <td>0.0</td>\n",
              "      <td>0.0</td>\n",
              "      <td>0.0</td>\n",
              "      <td>0.0</td>\n",
              "      <td>0.0</td>\n",
              "      <td>0.0</td>\n",
              "      <td>0.0</td>\n",
              "      <td>0.0</td>\n",
              "      <td>0.0</td>\n",
              "      <td>0.0</td>\n",
              "      <td>0.0</td>\n",
              "      <td>0.0</td>\n",
              "      <td>0.0</td>\n",
              "      <td>0.0</td>\n",
              "    </tr>\n",
              "    <tr>\n",
              "      <th>1</th>\n",
              "      <td>0.450820</td>\n",
              "      <td>0.004202</td>\n",
              "      <td>1.0</td>\n",
              "      <td>0.0</td>\n",
              "      <td>0.0</td>\n",
              "      <td>0.0</td>\n",
              "      <td>0.0</td>\n",
              "      <td>0.0</td>\n",
              "      <td>0.0</td>\n",
              "      <td>0.0</td>\n",
              "      <td>0.0</td>\n",
              "      <td>0.0</td>\n",
              "      <td>0.0</td>\n",
              "      <td>0.0</td>\n",
              "      <td>0.0</td>\n",
              "      <td>0.0</td>\n",
              "      <td>0.0</td>\n",
              "      <td>0.0</td>\n",
              "      <td>0.0</td>\n",
              "    </tr>\n",
              "    <tr>\n",
              "      <th>2</th>\n",
              "      <td>0.081967</td>\n",
              "      <td>0.012605</td>\n",
              "      <td>0.0</td>\n",
              "      <td>1.0</td>\n",
              "      <td>0.0</td>\n",
              "      <td>0.0</td>\n",
              "      <td>0.0</td>\n",
              "      <td>0.0</td>\n",
              "      <td>0.0</td>\n",
              "      <td>0.0</td>\n",
              "      <td>0.0</td>\n",
              "      <td>0.0</td>\n",
              "      <td>0.0</td>\n",
              "      <td>0.0</td>\n",
              "      <td>0.0</td>\n",
              "      <td>0.0</td>\n",
              "      <td>0.0</td>\n",
              "      <td>0.0</td>\n",
              "      <td>0.0</td>\n",
              "    </tr>\n",
              "    <tr>\n",
              "      <th>3</th>\n",
              "      <td>0.106557</td>\n",
              "      <td>0.004202</td>\n",
              "      <td>0.0</td>\n",
              "      <td>0.0</td>\n",
              "      <td>1.0</td>\n",
              "      <td>0.0</td>\n",
              "      <td>0.0</td>\n",
              "      <td>0.0</td>\n",
              "      <td>0.0</td>\n",
              "      <td>0.0</td>\n",
              "      <td>0.0</td>\n",
              "      <td>0.0</td>\n",
              "      <td>0.0</td>\n",
              "      <td>0.0</td>\n",
              "      <td>0.0</td>\n",
              "      <td>0.0</td>\n",
              "      <td>0.0</td>\n",
              "      <td>0.0</td>\n",
              "      <td>0.0</td>\n",
              "    </tr>\n",
              "    <tr>\n",
              "      <th>4</th>\n",
              "      <td>0.450820</td>\n",
              "      <td>0.029412</td>\n",
              "      <td>0.0</td>\n",
              "      <td>0.0</td>\n",
              "      <td>0.0</td>\n",
              "      <td>1.0</td>\n",
              "      <td>0.0</td>\n",
              "      <td>0.0</td>\n",
              "      <td>0.0</td>\n",
              "      <td>0.0</td>\n",
              "      <td>0.0</td>\n",
              "      <td>0.0</td>\n",
              "      <td>0.0</td>\n",
              "      <td>0.0</td>\n",
              "      <td>0.0</td>\n",
              "      <td>0.0</td>\n",
              "      <td>0.0</td>\n",
              "      <td>0.0</td>\n",
              "      <td>0.0</td>\n",
              "    </tr>\n",
              "  </tbody>\n",
              "</table>\n",
              "</div>"
            ],
            "text/plain": [
              "         0         1    2    3    4    5    6    7    8    9    10   11   12  \\\n",
              "0  0.221311  0.004202  0.0  0.0  0.0  0.0  0.0  0.0  0.0  0.0  0.0  0.0  0.0   \n",
              "1  0.450820  0.004202  1.0  0.0  0.0  0.0  0.0  0.0  0.0  0.0  0.0  0.0  0.0   \n",
              "2  0.081967  0.012605  0.0  1.0  0.0  0.0  0.0  0.0  0.0  0.0  0.0  0.0  0.0   \n",
              "3  0.106557  0.004202  0.0  0.0  1.0  0.0  0.0  0.0  0.0  0.0  0.0  0.0  0.0   \n",
              "4  0.450820  0.029412  0.0  0.0  0.0  1.0  0.0  0.0  0.0  0.0  0.0  0.0  0.0   \n",
              "\n",
              "    13   14   15   16   17   18  \n",
              "0  0.0  0.0  0.0  0.0  0.0  0.0  \n",
              "1  0.0  0.0  0.0  0.0  0.0  0.0  \n",
              "2  0.0  0.0  0.0  0.0  0.0  0.0  \n",
              "3  0.0  0.0  0.0  0.0  0.0  0.0  \n",
              "4  0.0  0.0  0.0  0.0  0.0  0.0  "
            ]
          },
          "metadata": {
            "tags": []
          },
          "execution_count": 22
        }
      ]
    },
    {
      "cell_type": "code",
      "metadata": {
        "colab": {
          "base_uri": "https://localhost:8080/",
          "height": 221
        },
        "id": "YgwkxqUzNRr5",
        "outputId": "9e2b8e72-146b-46db-a99f-675f63f5cb9e"
      },
      "source": [
        "output2.shape\n",
        "pd.DataFrame(output2).head()\n"
      ],
      "execution_count": 23,
      "outputs": [
        {
          "output_type": "execute_result",
          "data": {
            "text/plain": [
              "(1677, 5)"
            ]
          },
          "metadata": {
            "tags": []
          },
          "execution_count": 23
        },
        {
          "output_type": "execute_result",
          "data": {
            "text/html": [
              "<div>\n",
              "<style scoped>\n",
              "    .dataframe tbody tr th:only-of-type {\n",
              "        vertical-align: middle;\n",
              "    }\n",
              "\n",
              "    .dataframe tbody tr th {\n",
              "        vertical-align: top;\n",
              "    }\n",
              "\n",
              "    .dataframe thead th {\n",
              "        text-align: right;\n",
              "    }\n",
              "</style>\n",
              "<table border=\"1\" class=\"dataframe\">\n",
              "  <thead>\n",
              "    <tr style=\"text-align: right;\">\n",
              "      <th></th>\n",
              "      <th>0</th>\n",
              "      <th>1</th>\n",
              "      <th>2</th>\n",
              "      <th>3</th>\n",
              "      <th>4</th>\n",
              "    </tr>\n",
              "  </thead>\n",
              "  <tbody>\n",
              "    <tr>\n",
              "      <th>0</th>\n",
              "      <td>0.221311</td>\n",
              "      <td>0.004202</td>\n",
              "      <td>0.0</td>\n",
              "      <td>0.0</td>\n",
              "      <td>1.0</td>\n",
              "    </tr>\n",
              "    <tr>\n",
              "      <th>1</th>\n",
              "      <td>0.450820</td>\n",
              "      <td>0.004202</td>\n",
              "      <td>1.0</td>\n",
              "      <td>0.0</td>\n",
              "      <td>1.0</td>\n",
              "    </tr>\n",
              "    <tr>\n",
              "      <th>2</th>\n",
              "      <td>0.081967</td>\n",
              "      <td>0.012605</td>\n",
              "      <td>0.0</td>\n",
              "      <td>1.0</td>\n",
              "      <td>1.0</td>\n",
              "    </tr>\n",
              "    <tr>\n",
              "      <th>3</th>\n",
              "      <td>0.106557</td>\n",
              "      <td>0.004202</td>\n",
              "      <td>0.0</td>\n",
              "      <td>0.0</td>\n",
              "      <td>2.0</td>\n",
              "    </tr>\n",
              "    <tr>\n",
              "      <th>4</th>\n",
              "      <td>0.450820</td>\n",
              "      <td>0.029412</td>\n",
              "      <td>0.0</td>\n",
              "      <td>0.0</td>\n",
              "      <td>3.0</td>\n",
              "    </tr>\n",
              "  </tbody>\n",
              "</table>\n",
              "</div>"
            ],
            "text/plain": [
              "          0         1    2    3    4\n",
              "0  0.221311  0.004202  0.0  0.0  1.0\n",
              "1  0.450820  0.004202  1.0  0.0  1.0\n",
              "2  0.081967  0.012605  0.0  1.0  1.0\n",
              "3  0.106557  0.004202  0.0  0.0  2.0\n",
              "4  0.450820  0.029412  0.0  0.0  3.0"
            ]
          },
          "metadata": {
            "tags": []
          },
          "execution_count": 23
        }
      ]
    },
    {
      "cell_type": "code",
      "metadata": {
        "colab": {
          "base_uri": "https://localhost:8080/",
          "height": 221
        },
        "id": "W_pV4i3aQjKw",
        "outputId": "26c4f6b9-6219-442b-a2eb-6905c3e4581c"
      },
      "source": [
        "output3.shape\n",
        "pd.DataFrame(output3).head()"
      ],
      "execution_count": 24,
      "outputs": [
        {
          "output_type": "execute_result",
          "data": {
            "text/plain": [
              "(1677, 5)"
            ]
          },
          "metadata": {
            "tags": []
          },
          "execution_count": 24
        },
        {
          "output_type": "execute_result",
          "data": {
            "text/html": [
              "<div>\n",
              "<style scoped>\n",
              "    .dataframe tbody tr th:only-of-type {\n",
              "        vertical-align: middle;\n",
              "    }\n",
              "\n",
              "    .dataframe tbody tr th {\n",
              "        vertical-align: top;\n",
              "    }\n",
              "\n",
              "    .dataframe thead th {\n",
              "        text-align: right;\n",
              "    }\n",
              "</style>\n",
              "<table border=\"1\" class=\"dataframe\">\n",
              "  <thead>\n",
              "    <tr style=\"text-align: right;\">\n",
              "      <th></th>\n",
              "      <th>0</th>\n",
              "      <th>1</th>\n",
              "      <th>2</th>\n",
              "      <th>3</th>\n",
              "      <th>4</th>\n",
              "    </tr>\n",
              "  </thead>\n",
              "  <tbody>\n",
              "    <tr>\n",
              "      <th>0</th>\n",
              "      <td>0.221311</td>\n",
              "      <td>0.504202</td>\n",
              "      <td>0.0</td>\n",
              "      <td>0.0</td>\n",
              "      <td>1.0</td>\n",
              "    </tr>\n",
              "    <tr>\n",
              "      <th>1</th>\n",
              "      <td>0.450820</td>\n",
              "      <td>0.504202</td>\n",
              "      <td>1.0</td>\n",
              "      <td>0.0</td>\n",
              "      <td>1.0</td>\n",
              "    </tr>\n",
              "    <tr>\n",
              "      <th>2</th>\n",
              "      <td>0.081967</td>\n",
              "      <td>0.512605</td>\n",
              "      <td>0.0</td>\n",
              "      <td>1.0</td>\n",
              "      <td>1.0</td>\n",
              "    </tr>\n",
              "    <tr>\n",
              "      <th>3</th>\n",
              "      <td>0.106557</td>\n",
              "      <td>0.504202</td>\n",
              "      <td>0.0</td>\n",
              "      <td>0.0</td>\n",
              "      <td>2.0</td>\n",
              "    </tr>\n",
              "    <tr>\n",
              "      <th>4</th>\n",
              "      <td>0.450820</td>\n",
              "      <td>0.529412</td>\n",
              "      <td>0.0</td>\n",
              "      <td>0.0</td>\n",
              "      <td>3.0</td>\n",
              "    </tr>\n",
              "  </tbody>\n",
              "</table>\n",
              "</div>"
            ],
            "text/plain": [
              "          0         1    2    3    4\n",
              "0  0.221311  0.504202  0.0  0.0  1.0\n",
              "1  0.450820  0.504202  1.0  0.0  1.0\n",
              "2  0.081967  0.512605  0.0  1.0  1.0\n",
              "3  0.106557  0.504202  0.0  0.0  2.0\n",
              "4  0.450820  0.529412  0.0  0.0  3.0"
            ]
          },
          "metadata": {
            "tags": []
          },
          "execution_count": 24
        }
      ]
    },
    {
      "cell_type": "markdown",
      "metadata": {
        "id": "59UQ-svnbFhm"
      },
      "source": [
        "## Train/ test split..."
      ]
    },
    {
      "cell_type": "code",
      "metadata": {
        "id": "MH7XbxUEbHtI"
      },
      "source": [
        "# TEST/ TRAIN SPLIT\n",
        "X_train, X_test, y_train, y_test = train_test_split(X, y, test_size=0.20, random_state=27)\n"
      ],
      "execution_count": 25,
      "outputs": []
    },
    {
      "cell_type": "code",
      "metadata": {
        "id": "KJvqSrMYL3by",
        "colab": {
          "base_uri": "https://localhost:8080/",
          "height": 142
        },
        "outputId": "729a5a4e-d82c-41b6-f25a-b5fbb027e85e"
      },
      "source": [
        "X_train.head(3)"
      ],
      "execution_count": 26,
      "outputs": [
        {
          "output_type": "execute_result",
          "data": {
            "text/html": [
              "<div>\n",
              "<style scoped>\n",
              "    .dataframe tbody tr th:only-of-type {\n",
              "        vertical-align: middle;\n",
              "    }\n",
              "\n",
              "    .dataframe tbody tr th {\n",
              "        vertical-align: top;\n",
              "    }\n",
              "\n",
              "    .dataframe thead th {\n",
              "        text-align: right;\n",
              "    }\n",
              "</style>\n",
              "<table border=\"1\" class=\"dataframe\">\n",
              "  <thead>\n",
              "    <tr style=\"text-align: right;\">\n",
              "      <th></th>\n",
              "      <th>note</th>\n",
              "      <th>velocity</th>\n",
              "      <th>beat_offset</th>\n",
              "      <th>bar_beat_number</th>\n",
              "    </tr>\n",
              "  </thead>\n",
              "  <tbody>\n",
              "    <tr>\n",
              "      <th>1295</th>\n",
              "      <td>snare</td>\n",
              "      <td>113</td>\n",
              "      <td>12</td>\n",
              "      <td>13</td>\n",
              "    </tr>\n",
              "    <tr>\n",
              "      <th>179</th>\n",
              "      <td>hh</td>\n",
              "      <td>43</td>\n",
              "      <td>-6</td>\n",
              "      <td>5</td>\n",
              "    </tr>\n",
              "    <tr>\n",
              "      <th>559</th>\n",
              "      <td>hh</td>\n",
              "      <td>23</td>\n",
              "      <td>-12</td>\n",
              "      <td>6</td>\n",
              "    </tr>\n",
              "  </tbody>\n",
              "</table>\n",
              "</div>"
            ],
            "text/plain": [
              "       note  velocity  beat_offset  bar_beat_number\n",
              "1295  snare       113           12               13\n",
              "179      hh        43           -6                5\n",
              "559      hh        23          -12                6"
            ]
          },
          "metadata": {
            "tags": []
          },
          "execution_count": 26
        }
      ]
    },
    {
      "cell_type": "markdown",
      "metadata": {
        "id": "8XFdCcrwOzST"
      },
      "source": [
        "## Some pipelines"
      ]
    },
    {
      "cell_type": "code",
      "metadata": {
        "id": "9WN7AkGUJD_Q"
      },
      "source": [
        "# setup our pre-processing and modelling pipeline\n",
        "pipe_v0 = Pipeline(steps=[('prep',ct_v0), ('knn', KNeighborsClassifier(7))])\n",
        "pipe_v1 = Pipeline(steps=[('prep',ct_v1), ('knn', KNeighborsClassifier(7))])\n",
        "pipe_v2 = Pipeline(steps=[('prep',ct_v2), ('knn', KNeighborsClassifier(7))])\n",
        "pipe_v3 = Pipeline(steps=[('prep',ct_v3), ('knn', KNeighborsClassifier(7))])\n"
      ],
      "execution_count": 27,
      "outputs": []
    },
    {
      "cell_type": "markdown",
      "metadata": {
        "id": "DLHxPVtEHxVX"
      },
      "source": [
        "# Test pipelines"
      ]
    },
    {
      "cell_type": "markdown",
      "metadata": {
        "id": "2nEqru7CZGvV"
      },
      "source": [
        "## Util functions\n"
      ]
    },
    {
      "cell_type": "code",
      "metadata": {
        "id": "Ygf_kwUR2MwK"
      },
      "source": [
        "\n",
        "def KNN_predict(X_train, y_train, X_test, n=5):\n",
        "  # Fit model, do predictions\n",
        "\n",
        "  KNN_model = KNeighborsClassifier(n)\n",
        "  display(KNN_model)\n",
        "  KNN_model.fit(X_train, y_train)\n",
        "  return KNN_model.predict(X_test)\n",
        "\n",
        "def KNN_results(pred, test, labels):\n",
        "  # evaluate results\n",
        "\n",
        "  print('\\nKNN Accuracy score...')\n",
        "  print('  KNN: {}'.format(accuracy_score(pred, test)))\n",
        "\n",
        "  print('\\nKNN classification report...')\n",
        "  print(classification_report(pred, test))\n",
        "\n",
        "def c_matrix(pred, test, labels):\n",
        "  # plot results\n",
        "\n",
        "  print('\\nConfusion matrix...')\n",
        "  matrix2 = confusion_matrix(pred, test)\n",
        "  m_df = pd.DataFrame(matrix2, index=labels, columns=labels)\n",
        "  _ = plt.figure(figsize=(6, 6))\n",
        "  sns.heatmap(m_df, annot=True, cbar=None, cmap=\"Reds\")\n",
        "  plt.title(\"Confusion Matrix\")\n",
        "  plt.tight_layout()\n",
        "  plt.ylabel(\"Actual\")\n",
        "  plt.xlabel(\"Predicted\")\n",
        "  plt.show()\n",
        "\n"
      ],
      "execution_count": 28,
      "outputs": []
    },
    {
      "cell_type": "markdown",
      "metadata": {
        "id": "oPUP9jL7KSGM"
      },
      "source": [
        "## Manual fit model, do predictions"
      ]
    },
    {
      "cell_type": "markdown",
      "metadata": {
        "id": "KHuvjM3BaprE"
      },
      "source": [
        "Testing single model by hand"
      ]
    },
    {
      "cell_type": "code",
      "metadata": {
        "id": "AisUCAVmPjP4",
        "colab": {
          "base_uri": "https://localhost:8080/",
          "height": 198
        },
        "outputId": "45e72cb0-258f-495c-8f23-ce26bbc27c9e"
      },
      "source": [
        "print('fitting the pipeline ...')\n",
        "pipe_v3.fit(X_train, y_train)\n",
        "\n",
        "print('predicting ...')\n",
        "predictions_1 = pipe_v3.predict(X_test)"
      ],
      "execution_count": 31,
      "outputs": [
        {
          "output_type": "stream",
          "text": [
            "fitting the pipeline ...\n"
          ],
          "name": "stdout"
        },
        {
          "output_type": "execute_result",
          "data": {
            "text/html": [
              "<style>div.sk-top-container {color: black;background-color: white;}div.sk-toggleable {background-color: white;}label.sk-toggleable__label {cursor: pointer;display: block;width: 100%;margin-bottom: 0;padding: 0.2em 0.3em;box-sizing: border-box;text-align: center;}div.sk-toggleable__content {max-height: 0;max-width: 0;overflow: hidden;text-align: left;background-color: #f0f8ff;}div.sk-toggleable__content pre {margin: 0.2em;color: black;border-radius: 0.25em;background-color: #f0f8ff;}input.sk-toggleable__control:checked~div.sk-toggleable__content {max-height: 200px;max-width: 100%;overflow: auto;}div.sk-estimator input.sk-toggleable__control:checked~label.sk-toggleable__label {background-color: #d4ebff;}div.sk-label input.sk-toggleable__control:checked~label.sk-toggleable__label {background-color: #d4ebff;}input.sk-hidden--visually {border: 0;clip: rect(1px 1px 1px 1px);clip: rect(1px, 1px, 1px, 1px);height: 1px;margin: -1px;overflow: hidden;padding: 0;position: absolute;width: 1px;}div.sk-estimator {font-family: monospace;background-color: #f0f8ff;margin: 0.25em 0.25em;border: 1px dotted black;border-radius: 0.25em;box-sizing: border-box;}div.sk-estimator:hover {background-color: #d4ebff;}div.sk-parallel-item::after {content: \"\";width: 100%;border-bottom: 1px solid gray;flex-grow: 1;}div.sk-label:hover label.sk-toggleable__label {background-color: #d4ebff;}div.sk-serial::before {content: \"\";position: absolute;border-left: 1px solid gray;box-sizing: border-box;top: 2em;bottom: 0;left: 50%;}div.sk-serial {display: flex;flex-direction: column;align-items: center;background-color: white;}div.sk-item {z-index: 1;}div.sk-parallel {display: flex;align-items: stretch;justify-content: center;background-color: white;}div.sk-parallel-item {display: flex;flex-direction: column;position: relative;background-color: white;}div.sk-parallel-item:first-child::after {align-self: flex-end;width: 50%;}div.sk-parallel-item:last-child::after {align-self: flex-start;width: 50%;}div.sk-parallel-item:only-child::after {width: 0;}div.sk-dashed-wrapped {border: 1px dashed gray;margin: 0.2em;box-sizing: border-box;padding-bottom: 0.1em;background-color: white;position: relative;}div.sk-label label {font-family: monospace;font-weight: bold;background-color: white;display: inline-block;line-height: 1.2em;}div.sk-label-container {position: relative;z-index: 2;text-align: center;}div.sk-container {display: inline-block;position: relative;}</style><div class=\"sk-top-container\"><div class=\"sk-container\"><div class=\"sk-item sk-dashed-wrapped\"><div class=\"sk-label-container\"><div class=\"sk-label sk-toggleable\"><input class=\"sk-toggleable__control sk-hidden--visually\" id=\"5c42a972-10d3-4aed-96f6-80ecba3cdcb6\" type=\"checkbox\" ><label class=\"sk-toggleable__label\" for=\"5c42a972-10d3-4aed-96f6-80ecba3cdcb6\">Pipeline</label><div class=\"sk-toggleable__content\"><pre>Pipeline(steps=[('prep',\n",
              "                 ColumnTransformer(remainder='passthrough', sparse_threshold=0,\n",
              "                                   transformers=[('t_scaler_mm_1',\n",
              "                                                  MinMaxScaler(), [1, 2]),\n",
              "                                                 ('t_one_hot',\n",
              "                                                  OneHotEncoder(drop='first'),\n",
              "                                                  [0])])),\n",
              "                ('knn', KNeighborsClassifier(n_neighbors=7))])</pre></div></div></div><div class=\"sk-serial\"><div class=\"sk-item sk-dashed-wrapped\"><div class=\"sk-label-container\"><div class=\"sk-label sk-toggleable\"><input class=\"sk-toggleable__control sk-hidden--visually\" id=\"22a2e9ab-1a74-41d9-a711-f44c0af1f228\" type=\"checkbox\" ><label class=\"sk-toggleable__label\" for=\"22a2e9ab-1a74-41d9-a711-f44c0af1f228\">prep: ColumnTransformer</label><div class=\"sk-toggleable__content\"><pre>ColumnTransformer(remainder='passthrough', sparse_threshold=0,\n",
              "                  transformers=[('t_scaler_mm_1', MinMaxScaler(), [1, 2]),\n",
              "                                ('t_one_hot', OneHotEncoder(drop='first'),\n",
              "                                 [0])])</pre></div></div></div><div class=\"sk-parallel\"><div class=\"sk-parallel-item\"><div class=\"sk-item\"><div class=\"sk-label-container\"><div class=\"sk-label sk-toggleable\"><input class=\"sk-toggleable__control sk-hidden--visually\" id=\"4dd487ef-1521-489c-8c08-423e4594f25c\" type=\"checkbox\" ><label class=\"sk-toggleable__label\" for=\"4dd487ef-1521-489c-8c08-423e4594f25c\">t_scaler_mm_1</label><div class=\"sk-toggleable__content\"><pre>[1, 2]</pre></div></div></div><div class=\"sk-serial\"><div class=\"sk-item\"><div class=\"sk-estimator sk-toggleable\"><input class=\"sk-toggleable__control sk-hidden--visually\" id=\"f91989e0-fb02-43c7-ac0d-3b1381ba7092\" type=\"checkbox\" ><label class=\"sk-toggleable__label\" for=\"f91989e0-fb02-43c7-ac0d-3b1381ba7092\">MinMaxScaler</label><div class=\"sk-toggleable__content\"><pre>MinMaxScaler()</pre></div></div></div></div></div></div><div class=\"sk-parallel-item\"><div class=\"sk-item\"><div class=\"sk-label-container\"><div class=\"sk-label sk-toggleable\"><input class=\"sk-toggleable__control sk-hidden--visually\" id=\"b2b3ba77-39ac-44c0-9125-e720e2781aa9\" type=\"checkbox\" ><label class=\"sk-toggleable__label\" for=\"b2b3ba77-39ac-44c0-9125-e720e2781aa9\">t_one_hot</label><div class=\"sk-toggleable__content\"><pre>[0]</pre></div></div></div><div class=\"sk-serial\"><div class=\"sk-item\"><div class=\"sk-estimator sk-toggleable\"><input class=\"sk-toggleable__control sk-hidden--visually\" id=\"1764cc39-2a8a-48c5-aecd-c400fd1087c4\" type=\"checkbox\" ><label class=\"sk-toggleable__label\" for=\"1764cc39-2a8a-48c5-aecd-c400fd1087c4\">OneHotEncoder</label><div class=\"sk-toggleable__content\"><pre>OneHotEncoder(drop='first')</pre></div></div></div></div></div></div></div></div><div class=\"sk-item\"><div class=\"sk-estimator sk-toggleable\"><input class=\"sk-toggleable__control sk-hidden--visually\" id=\"a6a9c072-3dfa-4755-a335-9dab9609d52b\" type=\"checkbox\" ><label class=\"sk-toggleable__label\" for=\"a6a9c072-3dfa-4755-a335-9dab9609d52b\">KNeighborsClassifier</label><div class=\"sk-toggleable__content\"><pre>KNeighborsClassifier(n_neighbors=7)</pre></div></div></div></div></div></div></div>"
            ],
            "text/plain": [
              "Pipeline(steps=[('prep',\n",
              "                 ColumnTransformer(remainder='passthrough', sparse_threshold=0,\n",
              "                                   transformers=[('t_scaler_mm_1',\n",
              "                                                  MinMaxScaler(), [1, 2]),\n",
              "                                                 ('t_one_hot',\n",
              "                                                  OneHotEncoder(drop='first'),\n",
              "                                                  [0])])),\n",
              "                ('knn', KNeighborsClassifier(n_neighbors=7))])"
            ]
          },
          "metadata": {
            "tags": []
          },
          "execution_count": 31
        },
        {
          "output_type": "stream",
          "text": [
            "predicting ...\n"
          ],
          "name": "stdout"
        }
      ]
    },
    {
      "cell_type": "markdown",
      "metadata": {
        "id": "GFxhC5v1KWi0"
      },
      "source": [
        "## Evaluate model results"
      ]
    },
    {
      "cell_type": "code",
      "metadata": {
        "id": "5wC7EHjBP1BY",
        "colab": {
          "base_uri": "https://localhost:8080/",
          "height": 761
        },
        "outputId": "3f3f7b65-f94a-409a-b713-f903ffadc0ec"
      },
      "source": [
        "# y = list of all y values from dataset\n",
        "classes = np.unique(y)\n",
        "KNN_results(predictions_1, y_test, classes)\n",
        "c_matrix(predictions_1, y_test, classes)"
      ],
      "execution_count": 32,
      "outputs": [
        {
          "output_type": "stream",
          "text": [
            "\n",
            "KNN Accuracy score...\n",
            "  KNN: 0.6994047619047619\n",
            "\n",
            "KNN classification report...\n",
            "              precision    recall  f1-score   support\n",
            "\n",
            "    drummer1       0.76      0.66      0.70       108\n",
            "    drummer5       0.70      0.64      0.67        91\n",
            "    drummer7       0.52      0.78      0.62        59\n",
            "    drummer8       0.86      0.77      0.81        78\n",
            "\n",
            "    accuracy                           0.70       336\n",
            "   macro avg       0.71      0.71      0.70       336\n",
            "weighted avg       0.72      0.70      0.70       336\n",
            "\n",
            "\n",
            "Confusion matrix...\n"
          ],
          "name": "stdout"
        },
        {
          "output_type": "display_data",
          "data": {
            "image/png": "[encoded data removed]",
            "text/plain": [
              "<Figure size 432x432 with 1 Axes>"
            ]
          },
          "metadata": {
            "tags": [],
            "needs_background": "light"
          }
        }
      ]
    },
    {
      "cell_type": "code",
      "metadata": {
        "id": "N632ydS7S0Lx"
      },
      "source": [
        ""
      ],
      "execution_count": null,
      "outputs": []
    },
    {
      "cell_type": "markdown",
      "metadata": {
        "id": "lWH12kcMSoRC"
      },
      "source": [
        "# K-fold CV"
      ]
    },
    {
      "cell_type": "code",
      "metadata": {
        "id": "6exPok9QIIAu",
        "colab": {
          "base_uri": "https://localhost:8080/"
        },
        "outputId": "0f35755d-f57d-44e6-fe30-c1b5d8f8db4d"
      },
      "source": [
        "from sklearn.model_selection import KFold, cross_val_score\n",
        "from sklearn.pipeline import make_pipeline\n",
        "\n",
        "# list of ColumnTransformers setup earlier ..\n",
        "cts = [ct_v0, ct_v1, ct_v2, ct_v3]\n",
        "\n",
        "\n",
        "results = []\n",
        "best_score = 0\n",
        "best_info = ''\n",
        "\n",
        "kf = KFold(n_splits=10, shuffle=True, random_state=27)\n",
        "\n",
        "for idx, ct in enumerate(cts):\n",
        "  print(\"\\n_______________________________________________________\")\n",
        "  print(\"\\n>>>> pipe #{}.. \\n\".format(idx))\n",
        "  \n",
        "  # Calculating error for K values between 1 and 20\n",
        "  for next_k in range(1, 20):\n",
        "    next_pipe = Pipeline(steps=[('prep',ct), ('knn', KNeighborsClassifier(next_k))])\n",
        "    cv_results = cross_val_score(next_pipe, X, y, cv=kf, scoring=\"accuracy\", n_jobs=-1 )\n",
        "    results.append(cv_results)\n",
        "\n",
        "    # print out put of this run.\n",
        "    this_mean = cv_results.mean()\n",
        "    this_run = \"pipe #{}, k={}, mean:{}\".format(idx, next_k, this_mean)\n",
        "    print('\\n\\n ___ '+this_run)\n",
        "    cv_results\n",
        "\n",
        "    # check for best\n",
        "    if this_mean > best_score:\n",
        "      best_score = this_mean\n",
        "      best_info = this_run\n",
        "    \n",
        "print(\"\\n\\nBest score was > {}\".format(best_score))\n",
        "print(best_info)\n",
        "\n"
      ],
      "execution_count": 33,
      "outputs": [
        {
          "output_type": "stream",
          "text": [
            "\n",
            "_______________________________________________________\n",
            "\n",
            ">>>> pipe #0.. \n",
            "\n",
            "\n",
            "\n",
            " ___ pipe #0, k=1, mean:0.6517821499857428\n"
          ],
          "name": "stdout"
        },
        {
          "output_type": "execute_result",
          "data": {
            "text/plain": [
              "array([0.64880952, 0.67261905, 0.64285714, 0.63690476, 0.6547619 ,\n",
              "       0.64880952, 0.61904762, 0.67664671, 0.67065868, 0.64670659])"
            ]
          },
          "metadata": {
            "tags": []
          },
          "execution_count": 33
        },
        {
          "output_type": "stream",
          "text": [
            "\n",
            "\n",
            " ___ pipe #0, k=2, mean:0.6314870259481037\n"
          ],
          "name": "stdout"
        },
        {
          "output_type": "execute_result",
          "data": {
            "text/plain": [
              "array([0.61904762, 0.64285714, 0.60714286, 0.64285714, 0.6547619 ,\n",
              "       0.63095238, 0.61904762, 0.66467066, 0.60479042, 0.62874251])"
            ]
          },
          "metadata": {
            "tags": []
          },
          "execution_count": 33
        },
        {
          "output_type": "stream",
          "text": [
            "\n",
            "\n",
            " ___ pipe #0, k=3, mean:0.6517714570858283\n"
          ],
          "name": "stdout"
        },
        {
          "output_type": "execute_result",
          "data": {
            "text/plain": [
              "array([0.63690476, 0.70238095, 0.60714286, 0.625     , 0.67857143,\n",
              "       0.63690476, 0.6547619 , 0.68263473, 0.68263473, 0.61077844])"
            ]
          },
          "metadata": {
            "tags": []
          },
          "execution_count": 33
        },
        {
          "output_type": "stream",
          "text": [
            "\n",
            "\n",
            " ___ pipe #0, k=4, mean:0.6386512688907899\n"
          ],
          "name": "stdout"
        },
        {
          "output_type": "execute_result",
          "data": {
            "text/plain": [
              "array([0.64880952, 0.69047619, 0.56547619, 0.60119048, 0.63095238,\n",
              "       0.64880952, 0.66666667, 0.65868263, 0.64670659, 0.62874251])"
            ]
          },
          "metadata": {
            "tags": []
          },
          "execution_count": 33
        },
        {
          "output_type": "stream",
          "text": [
            "\n",
            "\n",
            " ___ pipe #0, k=5, mean:0.6392750213858\n"
          ],
          "name": "stdout"
        },
        {
          "output_type": "execute_result",
          "data": {
            "text/plain": [
              "array([0.60714286, 0.66071429, 0.55952381, 0.60119048, 0.66071429,\n",
              "       0.67857143, 0.64285714, 0.68862275, 0.64071856, 0.65269461])"
            ]
          },
          "metadata": {
            "tags": []
          },
          "execution_count": 33
        },
        {
          "output_type": "stream",
          "text": [
            "\n",
            "\n",
            " ___ pipe #0, k=6, mean:0.6291132021670943\n"
          ],
          "name": "stdout"
        },
        {
          "output_type": "execute_result",
          "data": {
            "text/plain": [
              "array([0.61904762, 0.66071429, 0.5297619 , 0.63095238, 0.63690476,\n",
              "       0.64880952, 0.6547619 , 0.66467066, 0.61676647, 0.62874251])"
            ]
          },
          "metadata": {
            "tags": []
          },
          "execution_count": 33
        },
        {
          "output_type": "stream",
          "text": [
            "\n",
            "\n",
            " ___ pipe #0, k=7, mean:0.6279191616766469\n"
          ],
          "name": "stdout"
        },
        {
          "output_type": "execute_result",
          "data": {
            "text/plain": [
              "array([0.61904762, 0.64285714, 0.54166667, 0.5952381 , 0.63095238,\n",
              "       0.67857143, 0.66666667, 0.64071856, 0.64071856, 0.62275449])"
            ]
          },
          "metadata": {
            "tags": []
          },
          "execution_count": 33
        },
        {
          "output_type": "stream",
          "text": [
            "\n",
            "\n",
            " ___ pipe #0, k=8, mean:0.6296870544625035\n"
          ],
          "name": "stdout"
        },
        {
          "output_type": "execute_result",
          "data": {
            "text/plain": [
              "array([0.61309524, 0.6547619 , 0.53571429, 0.6547619 , 0.625     ,\n",
              "       0.66666667, 0.67261905, 0.65868263, 0.59281437, 0.62275449])"
            ]
          },
          "metadata": {
            "tags": []
          },
          "execution_count": 33
        },
        {
          "output_type": "stream",
          "text": [
            "\n",
            "\n",
            " ___ pipe #0, k=9, mean:0.6320929569432563\n"
          ],
          "name": "stdout"
        },
        {
          "output_type": "execute_result",
          "data": {
            "text/plain": [
              "array([0.63690476, 0.64880952, 0.5297619 , 0.63690476, 0.61309524,\n",
              "       0.66666667, 0.67261905, 0.65269461, 0.62275449, 0.64071856])"
            ]
          },
          "metadata": {
            "tags": []
          },
          "execution_count": 33
        },
        {
          "output_type": "stream",
          "text": [
            "\n",
            "\n",
            " ___ pipe #0, k=10, mean:0.63267750213858\n"
          ],
          "name": "stdout"
        },
        {
          "output_type": "execute_result",
          "data": {
            "text/plain": [
              "array([0.64880952, 0.66666667, 0.55952381, 0.625     , 0.60119048,\n",
              "       0.63095238, 0.69642857, 0.67065868, 0.5988024 , 0.62874251])"
            ]
          },
          "metadata": {
            "tags": []
          },
          "execution_count": 33
        },
        {
          "output_type": "stream",
          "text": [
            "\n",
            "\n",
            " ___ pipe #0, k=11, mean:0.6249001996007983\n"
          ],
          "name": "stdout"
        },
        {
          "output_type": "execute_result",
          "data": {
            "text/plain": [
              "array([0.66666667, 0.6547619 , 0.54166667, 0.625     , 0.61904762,\n",
              "       0.6547619 , 0.6547619 , 0.62874251, 0.60479042, 0.5988024 ])"
            ]
          },
          "metadata": {
            "tags": []
          },
          "execution_count": 33
        },
        {
          "output_type": "stream",
          "text": [
            "\n",
            "\n",
            " ___ pipe #0, k=12, mean:0.61535500427716\n"
          ],
          "name": "stdout"
        },
        {
          "output_type": "execute_result",
          "data": {
            "text/plain": [
              "array([0.64880952, 0.6547619 , 0.55357143, 0.61904762, 0.58333333,\n",
              "       0.63095238, 0.66666667, 0.61077844, 0.58083832, 0.60479042])"
            ]
          },
          "metadata": {
            "tags": []
          },
          "execution_count": 33
        },
        {
          "output_type": "stream",
          "text": [
            "\n",
            "\n",
            " ___ pipe #0, k=13, mean:0.6117978329056173\n"
          ],
          "name": "stdout"
        },
        {
          "output_type": "execute_result",
          "data": {
            "text/plain": [
              "array([0.66071429, 0.61904762, 0.5297619 , 0.63690476, 0.5952381 ,\n",
              "       0.60119048, 0.6547619 , 0.64670659, 0.5748503 , 0.5988024 ])"
            ]
          },
          "metadata": {
            "tags": []
          },
          "execution_count": 33
        },
        {
          "output_type": "stream",
          "text": [
            "\n",
            "\n",
            " ___ pipe #0, k=14, mean:0.5945181066438552\n"
          ],
          "name": "stdout"
        },
        {
          "output_type": "execute_result",
          "data": {
            "text/plain": [
              "array([0.64880952, 0.5952381 , 0.50595238, 0.61904762, 0.56547619,\n",
              "       0.60119048, 0.61904762, 0.62874251, 0.58083832, 0.58083832])"
            ]
          },
          "metadata": {
            "tags": []
          },
          "execution_count": 33
        },
        {
          "output_type": "stream",
          "text": [
            "\n",
            "\n",
            " ___ pipe #0, k=15, mean:0.5927288280581694\n"
          ],
          "name": "stdout"
        },
        {
          "output_type": "execute_result",
          "data": {
            "text/plain": [
              "array([0.64285714, 0.61904762, 0.52380952, 0.61309524, 0.54166667,\n",
              "       0.5952381 , 0.60714286, 0.62874251, 0.56886228, 0.58682635])"
            ]
          },
          "metadata": {
            "tags": []
          },
          "execution_count": 33
        },
        {
          "output_type": "stream",
          "text": [
            "\n",
            "\n",
            " ___ pipe #0, k=16, mean:0.583176504134588\n"
          ],
          "name": "stdout"
        },
        {
          "output_type": "execute_result",
          "data": {
            "text/plain": [
              "array([0.625     , 0.60714286, 0.54761905, 0.61309524, 0.51785714,\n",
              "       0.58333333, 0.60119048, 0.5988024 , 0.58083832, 0.55688623])"
            ]
          },
          "metadata": {
            "tags": []
          },
          "execution_count": 33
        },
        {
          "output_type": "stream",
          "text": [
            "\n",
            "\n",
            " ___ pipe #0, k=17, mean:0.5748253493013973\n"
          ],
          "name": "stdout"
        },
        {
          "output_type": "execute_result",
          "data": {
            "text/plain": [
              "array([0.56547619, 0.63690476, 0.51785714, 0.60119048, 0.54166667,\n",
              "       0.58333333, 0.5952381 , 0.58682635, 0.55688623, 0.56287425])"
            ]
          },
          "metadata": {
            "tags": []
          },
          "execution_count": 33
        },
        {
          "output_type": "stream",
          "text": [
            "\n",
            "\n",
            " ___ pipe #0, k=18, mean:0.5527409466780724\n"
          ],
          "name": "stdout"
        },
        {
          "output_type": "execute_result",
          "data": {
            "text/plain": [
              "array([0.58333333, 0.55357143, 0.5297619 , 0.58333333, 0.52380952,\n",
              "       0.55952381, 0.58928571, 0.55688623, 0.52095808, 0.52694611])"
            ]
          },
          "metadata": {
            "tags": []
          },
          "execution_count": 33
        },
        {
          "output_type": "stream",
          "text": [
            "\n",
            "\n",
            " ___ pipe #0, k=19, mean:0.5545373538637012\n"
          ],
          "name": "stdout"
        },
        {
          "output_type": "execute_result",
          "data": {
            "text/plain": [
              "array([0.57142857, 0.55952381, 0.53571429, 0.5952381 , 0.50595238,\n",
              "       0.58333333, 0.57142857, 0.5748503 , 0.50898204, 0.53892216])"
            ]
          },
          "metadata": {
            "tags": []
          },
          "execution_count": 33
        },
        {
          "output_type": "stream",
          "text": [
            "\n",
            "_______________________________________________________\n",
            "\n",
            ">>>> pipe #1.. \n",
            "\n",
            "\n",
            "\n",
            " ___ pipe #1, k=1, mean:0.6845309381237525\n"
          ],
          "name": "stdout"
        },
        {
          "output_type": "execute_result",
          "data": {
            "text/plain": [
              "array([0.69047619, 0.71428571, 0.66071429, 0.69047619, 0.73809524,\n",
              "       0.66071429, 0.67857143, 0.68263473, 0.69461078, 0.63473054])"
            ]
          },
          "metadata": {
            "tags": []
          },
          "execution_count": 33
        },
        {
          "output_type": "stream",
          "text": [
            "\n",
            "\n",
            " ___ pipe #1, k=2, mean:0.6696642429426861\n"
          ],
          "name": "stdout"
        },
        {
          "output_type": "execute_result",
          "data": {
            "text/plain": [
              "array([0.63690476, 0.68452381, 0.60714286, 0.70238095, 0.70238095,\n",
              "       0.67261905, 0.6547619 , 0.7245509 , 0.66467066, 0.64670659])"
            ]
          },
          "metadata": {
            "tags": []
          },
          "execution_count": 33
        },
        {
          "output_type": "stream",
          "text": [
            "\n",
            "\n",
            " ___ pipe #1, k=3, mean:0.6869617907043055\n"
          ],
          "name": "stdout"
        },
        {
          "output_type": "execute_result",
          "data": {
            "text/plain": [
              "array([0.67261905, 0.73214286, 0.63690476, 0.69047619, 0.68452381,\n",
              "       0.70833333, 0.64880952, 0.71856287, 0.71257485, 0.66467066])"
            ]
          },
          "metadata": {
            "tags": []
          },
          "execution_count": 33
        },
        {
          "output_type": "stream",
          "text": [
            "\n",
            "\n",
            " ___ pipe #1, k=4, mean:0.6941082121471343\n"
          ],
          "name": "stdout"
        },
        {
          "output_type": "execute_result",
          "data": {
            "text/plain": [
              "array([0.67857143, 0.73809524, 0.66666667, 0.67857143, 0.70833333,\n",
              "       0.69642857, 0.67261905, 0.73053892, 0.67664671, 0.69461078])"
            ]
          },
          "metadata": {
            "tags": []
          },
          "execution_count": 33
        },
        {
          "output_type": "stream",
          "text": [
            "\n",
            "\n",
            " ___ pipe #1, k=5, mean:0.7000534644995723\n"
          ],
          "name": "stdout"
        },
        {
          "output_type": "execute_result",
          "data": {
            "text/plain": [
              "array([0.7202381 , 0.72619048, 0.64285714, 0.70238095, 0.72619048,\n",
              "       0.7202381 , 0.67261905, 0.71257485, 0.70658683, 0.67065868])"
            ]
          },
          "metadata": {
            "tags": []
          },
          "execution_count": 33
        },
        {
          "output_type": "stream",
          "text": [
            "\n",
            "\n",
            " ___ pipe #1, k=6, mean:0.6893213572854291\n"
          ],
          "name": "stdout"
        },
        {
          "output_type": "execute_result",
          "data": {
            "text/plain": [
              "array([0.69642857, 0.72619048, 0.625     , 0.68452381, 0.69642857,\n",
              "       0.71428571, 0.69047619, 0.70658683, 0.68263473, 0.67065868])"
            ]
          },
          "metadata": {
            "tags": []
          },
          "execution_count": 33
        },
        {
          "output_type": "stream",
          "text": [
            "\n",
            "\n",
            " ___ pipe #1, k=7, mean:0.68634873110921\n"
          ],
          "name": "stdout"
        },
        {
          "output_type": "execute_result",
          "data": {
            "text/plain": [
              "array([0.67857143, 0.7202381 , 0.64880952, 0.64880952, 0.70238095,\n",
              "       0.71428571, 0.68452381, 0.7245509 , 0.68263473, 0.65868263])"
            ]
          },
          "metadata": {
            "tags": []
          },
          "execution_count": 33
        },
        {
          "output_type": "stream",
          "text": [
            "\n",
            "\n",
            " ___ pipe #1, k=8, mean:0.6839749073282008\n"
          ],
          "name": "stdout"
        },
        {
          "output_type": "execute_result",
          "data": {
            "text/plain": [
              "array([0.70833333, 0.70238095, 0.61309524, 0.67261905, 0.68452381,\n",
              "       0.67261905, 0.70833333, 0.7005988 , 0.65868263, 0.71856287])"
            ]
          },
          "metadata": {
            "tags": []
          },
          "execution_count": 33
        },
        {
          "output_type": "stream",
          "text": [
            "\n",
            "\n",
            " ___ pipe #1, k=9, mean:0.6875427715996578\n"
          ],
          "name": "stdout"
        },
        {
          "output_type": "execute_result",
          "data": {
            "text/plain": [
              "array([0.71428571, 0.69047619, 0.625     , 0.69642857, 0.69047619,\n",
              "       0.67857143, 0.70833333, 0.70658683, 0.65868263, 0.70658683])"
            ]
          },
          "metadata": {
            "tags": []
          },
          "execution_count": 33
        },
        {
          "output_type": "stream",
          "text": [
            "\n",
            "\n",
            " ___ pipe #1, k=10, mean:0.6839499572284004\n"
          ],
          "name": "stdout"
        },
        {
          "output_type": "execute_result",
          "data": {
            "text/plain": [
              "array([0.70238095, 0.72619048, 0.60119048, 0.67857143, 0.70238095,\n",
              "       0.67857143, 0.71428571, 0.71257485, 0.62874251, 0.69461078])"
            ]
          },
          "metadata": {
            "tags": []
          },
          "execution_count": 33
        },
        {
          "output_type": "stream",
          "text": [
            "\n",
            "\n",
            " ___ pipe #1, k=11, mean:0.6768213572854291\n"
          ],
          "name": "stdout"
        },
        {
          "output_type": "execute_result",
          "data": {
            "text/plain": [
              "array([0.69642857, 0.68452381, 0.60714286, 0.69047619, 0.67261905,\n",
              "       0.66071429, 0.69642857, 0.69461078, 0.67065868, 0.69461078])"
            ]
          },
          "metadata": {
            "tags": []
          },
          "execution_count": 33
        },
        {
          "output_type": "stream",
          "text": [
            "\n",
            "\n",
            " ___ pipe #1, k=12, mean:0.6702594810379241\n"
          ],
          "name": "stdout"
        },
        {
          "output_type": "execute_result",
          "data": {
            "text/plain": [
              "array([0.67857143, 0.67261905, 0.60714286, 0.67857143, 0.67261905,\n",
              "       0.67857143, 0.67857143, 0.69461078, 0.66467066, 0.67664671])"
            ]
          },
          "metadata": {
            "tags": []
          },
          "execution_count": 33
        },
        {
          "output_type": "stream",
          "text": [
            "\n",
            "\n",
            " ___ pipe #1, k=13, mean:0.6613202167094383\n"
          ],
          "name": "stdout"
        },
        {
          "output_type": "execute_result",
          "data": {
            "text/plain": [
              "array([0.67857143, 0.64880952, 0.57738095, 0.68452381, 0.6547619 ,\n",
              "       0.66666667, 0.68452381, 0.68263473, 0.65269461, 0.68263473])"
            ]
          },
          "metadata": {
            "tags": []
          },
          "execution_count": 33
        },
        {
          "output_type": "stream",
          "text": [
            "\n",
            "\n",
            " ___ pipe #1, k=14, mean:0.6571428571428571\n"
          ],
          "name": "stdout"
        },
        {
          "output_type": "execute_result",
          "data": {
            "text/plain": [
              "array([0.68452381, 0.66071429, 0.60714286, 0.67857143, 0.64285714,\n",
              "       0.64880952, 0.64880952, 0.69461078, 0.62275449, 0.68263473])"
            ]
          },
          "metadata": {
            "tags": []
          },
          "execution_count": 33
        },
        {
          "output_type": "stream",
          "text": [
            "\n",
            "\n",
            " ___ pipe #1, k=15, mean:0.6535429141716568\n"
          ],
          "name": "stdout"
        },
        {
          "output_type": "execute_result",
          "data": {
            "text/plain": [
              "array([0.70238095, 0.6547619 , 0.57738095, 0.67857143, 0.64285714,\n",
              "       0.67261905, 0.6547619 , 0.67065868, 0.62874251, 0.65269461])"
            ]
          },
          "metadata": {
            "tags": []
          },
          "execution_count": 33
        },
        {
          "output_type": "stream",
          "text": [
            "\n",
            "\n",
            " ___ pipe #1, k=16, mean:0.6475940975192472\n"
          ],
          "name": "stdout"
        },
        {
          "output_type": "execute_result",
          "data": {
            "text/plain": [
              "array([0.6547619 , 0.66666667, 0.57738095, 0.67857143, 0.63690476,\n",
              "       0.64285714, 0.66071429, 0.67065868, 0.62874251, 0.65868263])"
            ]
          },
          "metadata": {
            "tags": []
          },
          "execution_count": 33
        },
        {
          "output_type": "stream",
          "text": [
            "\n",
            "\n",
            " ___ pipe #1, k=17, mean:0.6440226689478188\n"
          ],
          "name": "stdout"
        },
        {
          "output_type": "execute_result",
          "data": {
            "text/plain": [
              "array([0.67857143, 0.66666667, 0.57738095, 0.6547619 , 0.64880952,\n",
              "       0.61904762, 0.63690476, 0.65269461, 0.64071856, 0.66467066])"
            ]
          },
          "metadata": {
            "tags": []
          },
          "execution_count": 33
        },
        {
          "output_type": "stream",
          "text": [
            "\n",
            "\n",
            " ___ pipe #1, k=18, mean:0.6356822070145423\n"
          ],
          "name": "stdout"
        },
        {
          "output_type": "execute_result",
          "data": {
            "text/plain": [
              "array([0.66071429, 0.66071429, 0.56547619, 0.63095238, 0.64285714,\n",
              "       0.60714286, 0.64285714, 0.67065868, 0.60479042, 0.67065868])"
            ]
          },
          "metadata": {
            "tags": []
          },
          "execution_count": 33
        },
        {
          "output_type": "stream",
          "text": [
            "\n",
            "\n",
            " ___ pipe #1, k=19, mean:0.6356893356144853\n"
          ],
          "name": "stdout"
        },
        {
          "output_type": "execute_result",
          "data": {
            "text/plain": [
              "array([0.67261905, 0.6547619 , 0.55357143, 0.625     , 0.64285714,\n",
              "       0.61904762, 0.63095238, 0.67664671, 0.61077844, 0.67065868])"
            ]
          },
          "metadata": {
            "tags": []
          },
          "execution_count": 33
        },
        {
          "output_type": "stream",
          "text": [
            "\n",
            "_______________________________________________________\n",
            "\n",
            ">>>> pipe #2.. \n",
            "\n",
            "\n",
            "\n",
            " ___ pipe #2, k=1, mean:0.6881130595950955\n"
          ],
          "name": "stdout"
        },
        {
          "output_type": "execute_result",
          "data": {
            "text/plain": [
              "array([0.69047619, 0.72619048, 0.6547619 , 0.70238095, 0.73809524,\n",
              "       0.66666667, 0.67261905, 0.68263473, 0.7005988 , 0.64670659])"
            ]
          },
          "metadata": {
            "tags": []
          },
          "execution_count": 33
        },
        {
          "output_type": "stream",
          "text": [
            "\n",
            "\n",
            " ___ pipe #2, k=2, mean:0.6702594810379242\n"
          ],
          "name": "stdout"
        },
        {
          "output_type": "execute_result",
          "data": {
            "text/plain": [
              "array([0.63690476, 0.69047619, 0.60714286, 0.70833333, 0.70238095,\n",
              "       0.67261905, 0.64880952, 0.71856287, 0.67065868, 0.64670659])"
            ]
          },
          "metadata": {
            "tags": []
          },
          "execution_count": 33
        },
        {
          "output_type": "stream",
          "text": [
            "\n",
            "\n",
            " ___ pipe #2, k=3, mean:0.6863665526090676\n"
          ],
          "name": "stdout"
        },
        {
          "output_type": "execute_result",
          "data": {
            "text/plain": [
              "array([0.67261905, 0.73214286, 0.63690476, 0.69047619, 0.68452381,\n",
              "       0.70833333, 0.64285714, 0.71856287, 0.71257485, 0.66467066])"
            ]
          },
          "metadata": {
            "tags": []
          },
          "execution_count": 33
        },
        {
          "output_type": "stream",
          "text": [
            "\n",
            "\n",
            " ___ pipe #2, k=4, mean:0.6964927288280581\n"
          ],
          "name": "stdout"
        },
        {
          "output_type": "execute_result",
          "data": {
            "text/plain": [
              "array([0.67857143, 0.74404762, 0.66666667, 0.67261905, 0.71428571,\n",
              "       0.70833333, 0.67261905, 0.73053892, 0.67664671, 0.7005988 ])"
            ]
          },
          "metadata": {
            "tags": []
          },
          "execution_count": 33
        },
        {
          "output_type": "stream",
          "text": [
            "\n",
            "\n",
            " ___ pipe #2, k=5, mean:0.70124750499002\n"
          ],
          "name": "stdout"
        },
        {
          "output_type": "execute_result",
          "data": {
            "text/plain": [
              "array([0.7202381 , 0.72619048, 0.64880952, 0.70238095, 0.72619048,\n",
              "       0.7202381 , 0.67261905, 0.71257485, 0.70658683, 0.67664671])"
            ]
          },
          "metadata": {
            "tags": []
          },
          "execution_count": 33
        },
        {
          "output_type": "stream",
          "text": [
            "\n",
            "\n",
            " ___ pipe #2, k=6, mean:0.6893249215854006\n"
          ],
          "name": "stdout"
        },
        {
          "output_type": "execute_result",
          "data": {
            "text/plain": [
              "array([0.69642857, 0.73214286, 0.625     , 0.68452381, 0.69047619,\n",
              "       0.71428571, 0.68452381, 0.70658683, 0.68263473, 0.67664671])"
            ]
          },
          "metadata": {
            "tags": []
          },
          "execution_count": 33
        },
        {
          "output_type": "stream",
          "text": [
            "\n",
            "\n",
            " ___ pipe #2, k=7, mean:0.6869475335044196\n"
          ],
          "name": "stdout"
        },
        {
          "output_type": "execute_result",
          "data": {
            "text/plain": [
              "array([0.67857143, 0.7202381 , 0.64880952, 0.64880952, 0.70238095,\n",
              "       0.71428571, 0.68452381, 0.7245509 , 0.68862275, 0.65868263])"
            ]
          },
          "metadata": {
            "tags": []
          },
          "execution_count": 33
        },
        {
          "output_type": "stream",
          "text": [
            "\n",
            "\n",
            " ___ pipe #2, k=8, mean:0.6839713430282293\n"
          ],
          "name": "stdout"
        },
        {
          "output_type": "execute_result",
          "data": {
            "text/plain": [
              "array([0.70833333, 0.70833333, 0.61309524, 0.67261905, 0.68452381,\n",
              "       0.67261905, 0.70833333, 0.69461078, 0.65868263, 0.71856287])"
            ]
          },
          "metadata": {
            "tags": []
          },
          "execution_count": 33
        },
        {
          "output_type": "stream",
          "text": [
            "\n",
            "\n",
            " ___ pipe #2, k=9, mean:0.6875463358996292\n"
          ],
          "name": "stdout"
        },
        {
          "output_type": "execute_result",
          "data": {
            "text/plain": [
              "array([0.71428571, 0.69047619, 0.61904762, 0.69642857, 0.69047619,\n",
              "       0.67857143, 0.70833333, 0.70658683, 0.65868263, 0.71257485])"
            ]
          },
          "metadata": {
            "tags": []
          },
          "execution_count": 33
        },
        {
          "output_type": "stream",
          "text": [
            "\n",
            "\n",
            " ___ pipe #2, k=10, mean:0.6857428001140576\n"
          ],
          "name": "stdout"
        },
        {
          "output_type": "execute_result",
          "data": {
            "text/plain": [
              "array([0.70238095, 0.72619048, 0.60714286, 0.67857143, 0.70238095,\n",
              "       0.67857143, 0.71428571, 0.71257485, 0.63473054, 0.7005988 ])"
            ]
          },
          "metadata": {
            "tags": []
          },
          "execution_count": 33
        },
        {
          "output_type": "stream",
          "text": [
            "\n",
            "\n",
            " ___ pipe #2, k=11, mean:0.6768249215854005\n"
          ],
          "name": "stdout"
        },
        {
          "output_type": "execute_result",
          "data": {
            "text/plain": [
              "array([0.69047619, 0.68452381, 0.60119048, 0.69047619, 0.67857143,\n",
              "       0.66071429, 0.69642857, 0.69461078, 0.66467066, 0.70658683])"
            ]
          },
          "metadata": {
            "tags": []
          },
          "execution_count": 33
        },
        {
          "output_type": "stream",
          "text": [
            "\n",
            "\n",
            " ___ pipe #2, k=12, mean:0.6702594810379241\n"
          ],
          "name": "stdout"
        },
        {
          "output_type": "execute_result",
          "data": {
            "text/plain": [
              "array([0.67857143, 0.67857143, 0.60119048, 0.67857143, 0.67261905,\n",
              "       0.67857143, 0.67857143, 0.69461078, 0.65868263, 0.68263473])"
            ]
          },
          "metadata": {
            "tags": []
          },
          "execution_count": 33
        },
        {
          "output_type": "stream",
          "text": [
            "\n",
            "\n",
            " ___ pipe #2, k=13, mean:0.6595273738237811\n"
          ],
          "name": "stdout"
        },
        {
          "output_type": "execute_result",
          "data": {
            "text/plain": [
              "array([0.67857143, 0.64285714, 0.58333333, 0.67857143, 0.6547619 ,\n",
              "       0.66666667, 0.68452381, 0.68263473, 0.64071856, 0.68263473])"
            ]
          },
          "metadata": {
            "tags": []
          },
          "execution_count": 33
        },
        {
          "output_type": "stream",
          "text": [
            "\n",
            "\n",
            " ___ pipe #2, k=14, mean:0.6565476190476189\n"
          ],
          "name": "stdout"
        },
        {
          "output_type": "execute_result",
          "data": {
            "text/plain": [
              "array([0.68452381, 0.66071429, 0.60714286, 0.67857143, 0.63690476,\n",
              "       0.64880952, 0.64880952, 0.69461078, 0.62275449, 0.68263473])"
            ]
          },
          "metadata": {
            "tags": []
          },
          "execution_count": 33
        },
        {
          "output_type": "stream",
          "text": [
            "\n",
            "\n",
            " ___ pipe #2, k=15, mean:0.655328628457371\n"
          ],
          "name": "stdout"
        },
        {
          "output_type": "execute_result",
          "data": {
            "text/plain": [
              "array([0.70238095, 0.6547619 , 0.57738095, 0.68452381, 0.64285714,\n",
              "       0.67261905, 0.66666667, 0.67664671, 0.62874251, 0.64670659])"
            ]
          },
          "metadata": {
            "tags": []
          },
          "execution_count": 33
        },
        {
          "output_type": "stream",
          "text": [
            "\n",
            "\n",
            " ___ pipe #2, k=16, mean:0.646998859424009\n"
          ],
          "name": "stdout"
        },
        {
          "output_type": "execute_result",
          "data": {
            "text/plain": [
              "array([0.6547619 , 0.66666667, 0.57738095, 0.67857143, 0.625     ,\n",
              "       0.64285714, 0.66666667, 0.67065868, 0.62874251, 0.65868263])"
            ]
          },
          "metadata": {
            "tags": []
          },
          "execution_count": 33
        },
        {
          "output_type": "stream",
          "text": [
            "\n",
            "\n",
            " ___ pipe #2, k=17, mean:0.6434238665526092\n"
          ],
          "name": "stdout"
        },
        {
          "output_type": "execute_result",
          "data": {
            "text/plain": [
              "array([0.67857143, 0.66666667, 0.57738095, 0.6547619 , 0.63690476,\n",
              "       0.61904762, 0.64880952, 0.65269461, 0.63473054, 0.66467066])"
            ]
          },
          "metadata": {
            "tags": []
          },
          "execution_count": 33
        },
        {
          "output_type": "stream",
          "text": [
            "\n",
            "\n",
            " ___ pipe #2, k=18, mean:0.6350798403193612\n"
          ],
          "name": "stdout"
        },
        {
          "output_type": "execute_result",
          "data": {
            "text/plain": [
              "array([0.66071429, 0.66071429, 0.56547619, 0.63095238, 0.64285714,\n",
              "       0.60714286, 0.64880952, 0.67065868, 0.5988024 , 0.66467066])"
            ]
          },
          "metadata": {
            "tags": []
          },
          "execution_count": 33
        },
        {
          "output_type": "stream",
          "text": [
            "\n",
            "\n",
            " ___ pipe #2, k=19, mean:0.6368798118049616\n"
          ],
          "name": "stdout"
        },
        {
          "output_type": "execute_result",
          "data": {
            "text/plain": [
              "array([0.67261905, 0.64880952, 0.55357143, 0.63095238, 0.64880952,\n",
              "       0.61904762, 0.63690476, 0.67664671, 0.61077844, 0.67065868])"
            ]
          },
          "metadata": {
            "tags": []
          },
          "execution_count": 33
        },
        {
          "output_type": "stream",
          "text": [
            "\n",
            "_______________________________________________________\n",
            "\n",
            ">>>> pipe #3.. \n",
            "\n",
            "\n",
            "\n",
            " ___ pipe #3, k=1, mean:0.6881130595950955\n"
          ],
          "name": "stdout"
        },
        {
          "output_type": "execute_result",
          "data": {
            "text/plain": [
              "array([0.69047619, 0.72619048, 0.64880952, 0.70238095, 0.73809524,\n",
              "       0.66666667, 0.67857143, 0.68263473, 0.7005988 , 0.64670659])"
            ]
          },
          "metadata": {
            "tags": []
          },
          "execution_count": 33
        },
        {
          "output_type": "stream",
          "text": [
            "\n",
            "\n",
            " ___ pipe #3, k=2, mean:0.6714570858283434\n"
          ],
          "name": "stdout"
        },
        {
          "output_type": "execute_result",
          "data": {
            "text/plain": [
              "array([0.63690476, 0.69047619, 0.60714286, 0.70833333, 0.70238095,\n",
              "       0.67261905, 0.64880952, 0.7245509 , 0.67065868, 0.65269461])"
            ]
          },
          "metadata": {
            "tags": []
          },
          "execution_count": 33
        },
        {
          "output_type": "stream",
          "text": [
            "\n",
            "\n",
            " ___ pipe #3, k=3, mean:0.6851760764185914\n"
          ],
          "name": "stdout"
        },
        {
          "output_type": "execute_result",
          "data": {
            "text/plain": [
              "array([0.67857143, 0.73214286, 0.63690476, 0.68452381, 0.68452381,\n",
              "       0.70833333, 0.63095238, 0.71856287, 0.71257485, 0.66467066])"
            ]
          },
          "metadata": {
            "tags": []
          },
          "execution_count": 33
        },
        {
          "output_type": "stream",
          "text": [
            "\n",
            "\n",
            " ___ pipe #3, k=4, mean:0.6947070145423438\n"
          ],
          "name": "stdout"
        },
        {
          "output_type": "execute_result",
          "data": {
            "text/plain": [
              "array([0.67857143, 0.74404762, 0.66071429, 0.66666667, 0.71428571,\n",
              "       0.70238095, 0.67261905, 0.73053892, 0.67664671, 0.7005988 ])"
            ]
          },
          "metadata": {
            "tags": []
          },
          "execution_count": 33
        },
        {
          "output_type": "stream",
          "text": [
            "\n",
            "\n",
            " ___ pipe #3, k=5, mean:0.701842743085258\n"
          ],
          "name": "stdout"
        },
        {
          "output_type": "execute_result",
          "data": {
            "text/plain": [
              "array([0.7202381 , 0.72619048, 0.64880952, 0.70238095, 0.73214286,\n",
              "       0.7202381 , 0.67261905, 0.71257485, 0.70658683, 0.67664671])"
            ]
          },
          "metadata": {
            "tags": []
          },
          "execution_count": 33
        },
        {
          "output_type": "stream",
          "text": [
            "\n",
            "\n",
            " ___ pipe #3, k=6, mean:0.6893249215854006\n"
          ],
          "name": "stdout"
        },
        {
          "output_type": "execute_result",
          "data": {
            "text/plain": [
              "array([0.69642857, 0.73214286, 0.625     , 0.68452381, 0.69047619,\n",
              "       0.71428571, 0.68452381, 0.70658683, 0.68263473, 0.67664671])"
            ]
          },
          "metadata": {
            "tags": []
          },
          "execution_count": 33
        },
        {
          "output_type": "stream",
          "text": [
            "\n",
            "\n",
            " ___ pipe #3, k=7, mean:0.6881380096948959\n"
          ],
          "name": "stdout"
        },
        {
          "output_type": "execute_result",
          "data": {
            "text/plain": [
              "array([0.68452381, 0.7202381 , 0.6547619 , 0.64880952, 0.70238095,\n",
              "       0.71428571, 0.68452381, 0.7245509 , 0.68862275, 0.65868263])"
            ]
          },
          "metadata": {
            "tags": []
          },
          "execution_count": 33
        },
        {
          "output_type": "stream",
          "text": [
            "\n",
            "\n",
            " ___ pipe #3, k=8, mean:0.6833725406330198\n"
          ],
          "name": "stdout"
        },
        {
          "output_type": "execute_result",
          "data": {
            "text/plain": [
              "array([0.70833333, 0.70833333, 0.61309524, 0.67261905, 0.68452381,\n",
              "       0.67261905, 0.70833333, 0.7005988 , 0.65269461, 0.71257485])"
            ]
          },
          "metadata": {
            "tags": []
          },
          "execution_count": 33
        },
        {
          "output_type": "stream",
          "text": [
            "\n",
            "\n",
            " ___ pipe #3, k=9, mean:0.6875463358996292\n"
          ],
          "name": "stdout"
        },
        {
          "output_type": "execute_result",
          "data": {
            "text/plain": [
              "array([0.71428571, 0.69047619, 0.61904762, 0.69642857, 0.69047619,\n",
              "       0.67857143, 0.70833333, 0.70658683, 0.65868263, 0.71257485])"
            ]
          },
          "metadata": {
            "tags": []
          },
          "execution_count": 33
        },
        {
          "output_type": "stream",
          "text": [
            "\n",
            "\n",
            " ___ pipe #3, k=10, mean:0.6857428001140576\n"
          ],
          "name": "stdout"
        },
        {
          "output_type": "execute_result",
          "data": {
            "text/plain": [
              "array([0.70238095, 0.72619048, 0.60714286, 0.67857143, 0.70238095,\n",
              "       0.67857143, 0.71428571, 0.71257485, 0.63473054, 0.7005988 ])"
            ]
          },
          "metadata": {
            "tags": []
          },
          "execution_count": 33
        },
        {
          "output_type": "stream",
          "text": [
            "\n",
            "\n",
            " ___ pipe #3, k=11, mean:0.6768249215854005\n"
          ],
          "name": "stdout"
        },
        {
          "output_type": "execute_result",
          "data": {
            "text/plain": [
              "array([0.69047619, 0.68452381, 0.60119048, 0.69047619, 0.67857143,\n",
              "       0.66071429, 0.69642857, 0.69461078, 0.66467066, 0.70658683])"
            ]
          },
          "metadata": {
            "tags": []
          },
          "execution_count": 33
        },
        {
          "output_type": "stream",
          "text": [
            "\n",
            "\n",
            " ___ pipe #3, k=12, mean:0.6696642429426861\n"
          ],
          "name": "stdout"
        },
        {
          "output_type": "execute_result",
          "data": {
            "text/plain": [
              "array([0.67857143, 0.67261905, 0.60119048, 0.67857143, 0.67261905,\n",
              "       0.67857143, 0.67857143, 0.69461078, 0.65868263, 0.68263473])"
            ]
          },
          "metadata": {
            "tags": []
          },
          "execution_count": 33
        },
        {
          "output_type": "stream",
          "text": [
            "\n",
            "\n",
            " ___ pipe #3, k=13, mean:0.6601226119190191\n"
          ],
          "name": "stdout"
        },
        {
          "output_type": "execute_result",
          "data": {
            "text/plain": [
              "array([0.67857143, 0.64285714, 0.58333333, 0.68452381, 0.6547619 ,\n",
              "       0.66666667, 0.68452381, 0.68263473, 0.64071856, 0.68263473])"
            ]
          },
          "metadata": {
            "tags": []
          },
          "execution_count": 33
        },
        {
          "output_type": "stream",
          "text": [
            "\n",
            "\n",
            " ___ pipe #3, k=14, mean:0.6565476190476189\n"
          ],
          "name": "stdout"
        },
        {
          "output_type": "execute_result",
          "data": {
            "text/plain": [
              "array([0.68452381, 0.66071429, 0.60714286, 0.67857143, 0.63690476,\n",
              "       0.64880952, 0.64880952, 0.69461078, 0.62275449, 0.68263473])"
            ]
          },
          "metadata": {
            "tags": []
          },
          "execution_count": 33
        },
        {
          "output_type": "stream",
          "text": [
            "\n",
            "\n",
            " ___ pipe #3, k=15, mean:0.6559274308525807\n"
          ],
          "name": "stdout"
        },
        {
          "output_type": "execute_result",
          "data": {
            "text/plain": [
              "array([0.70238095, 0.6547619 , 0.57738095, 0.68452381, 0.64285714,\n",
              "       0.67261905, 0.66666667, 0.67664671, 0.62874251, 0.65269461])"
            ]
          },
          "metadata": {
            "tags": []
          },
          "execution_count": 33
        },
        {
          "output_type": "stream",
          "text": [
            "\n",
            "\n",
            " ___ pipe #3, k=16, mean:0.6475940975192472\n"
          ],
          "name": "stdout"
        },
        {
          "output_type": "execute_result",
          "data": {
            "text/plain": [
              "array([0.6547619 , 0.66666667, 0.57738095, 0.67857143, 0.625     ,\n",
              "       0.64285714, 0.67261905, 0.67065868, 0.62874251, 0.65868263])"
            ]
          },
          "metadata": {
            "tags": []
          },
          "execution_count": 33
        },
        {
          "output_type": "stream",
          "text": [
            "\n",
            "\n",
            " ___ pipe #3, k=17, mean:0.6434238665526092\n"
          ],
          "name": "stdout"
        },
        {
          "output_type": "execute_result",
          "data": {
            "text/plain": [
              "array([0.67857143, 0.66666667, 0.57738095, 0.6547619 , 0.63690476,\n",
              "       0.61904762, 0.64880952, 0.65269461, 0.63473054, 0.66467066])"
            ]
          },
          "metadata": {
            "tags": []
          },
          "execution_count": 33
        },
        {
          "output_type": "stream",
          "text": [
            "\n",
            "\n",
            " ___ pipe #3, k=18, mean:0.6356786427145708\n"
          ],
          "name": "stdout"
        },
        {
          "output_type": "execute_result",
          "data": {
            "text/plain": [
              "array([0.66071429, 0.66071429, 0.56547619, 0.63095238, 0.64285714,\n",
              "       0.60714286, 0.64880952, 0.67065868, 0.60479042, 0.66467066])"
            ]
          },
          "metadata": {
            "tags": []
          },
          "execution_count": 33
        },
        {
          "output_type": "stream",
          "text": [
            "\n",
            "\n",
            " ___ pipe #3, k=19, mean:0.6368798118049616\n"
          ],
          "name": "stdout"
        },
        {
          "output_type": "execute_result",
          "data": {
            "text/plain": [
              "array([0.67261905, 0.64880952, 0.55357143, 0.63095238, 0.64880952,\n",
              "       0.61904762, 0.63690476, 0.67664671, 0.61077844, 0.67065868])"
            ]
          },
          "metadata": {
            "tags": []
          },
          "execution_count": 33
        },
        {
          "output_type": "stream",
          "text": [
            "\n",
            "\n",
            "Best score was > 0.701842743085258\n",
            "pipe #3, k=5, mean:0.701842743085258\n"
          ],
          "name": "stdout"
        }
      ]
    },
    {
      "cell_type": "markdown",
      "metadata": {
        "id": "UjW5HVrYtnVq"
      },
      "source": [
        "# GridSearch"
      ]
    },
    {
      "cell_type": "markdown",
      "metadata": {
        "id": "UiMIcvv6tvyG"
      },
      "source": [
        "Good links!\n",
        "* https://www.featureranking.com/tutorials/machine-learning-tutorials/sk-part-3-cross-validation-and-hyperparameter-tuning/ \n",
        "* https://scikit-learn.org/stable/modules/generated/sklearn.model_selection.GridSearchCV.html\n",
        "* https://scikit-learn.org/stable/modules/compose.html \n",
        "* https://scikit-learn.org/stable/modules/generated/sklearn.neighbors.NearestNeighbors.html#sklearn.neighbors.NearestNeighbors"
      ]
    },
    {
      "cell_type": "code",
      "metadata": {
        "id": "Pykn52VJtqlN",
        "colab": {
          "base_uri": "https://localhost:8080/",
          "height": 35
        },
        "outputId": "7c53df80-a688-4dd6-fbb9-18e7bdbd22e4"
      },
      "source": [
        "from  sklearn.model_selection import KFold\n",
        "from sklearn.model_selection import GridSearchCV\n",
        "sklearn.__version__  # should be 0.23.2\n"
      ],
      "execution_count": 51,
      "outputs": [
        {
          "output_type": "execute_result",
          "data": {
            "application/vnd.google.colaboratory.intrinsic+json": {
              "type": "string"
            },
            "text/plain": [
              "'0.23.2'"
            ]
          },
          "metadata": {
            "tags": []
          },
          "execution_count": 51
        }
      ]
    },
    {
      "cell_type": "code",
      "metadata": {
        "colab": {
          "base_uri": "https://localhost:8080/",
          "height": 635
        },
        "id": "l56csAzvfkhv",
        "outputId": "545ae035-98da-4167-e82f-ca35afff705b"
      },
      "source": [
        "\n",
        "\n",
        "# note: 'grid_cts' is list of ColumnTransformers from earlier.\n",
        "# list of ColumnTransformers setup earlier ..\n",
        "grid_cts = [ct_v0, ct_v1, ct_v2, ct_v3]\n",
        "\n",
        "\n",
        "param_grid = dict(knn__n_neighbors=np.arange(1, 20), # knn neighbours\n",
        "     knn__p=[1, 2, 5], # knn distance functions to test\n",
        "     prep=grid_cts # list of ColTransformers to search\n",
        ")\n",
        "\n",
        "my_pipe = Pipeline(steps=[('prep',ct), ('knn', KNeighborsClassifier())])\n",
        "grid_search = GridSearchCV(my_pipe, param_grid=param_grid, cv=10)\n",
        "\n",
        "print('\\n>>>>FITTING ....\\n')\n",
        "grid_search.fit(X,y)\n",
        "\n",
        "# capture results in df\n",
        "results_df = pd.DataFrame.from_dict(grid_search.cv_results_)\n",
        "# display(results_df)\n",
        "\n",
        "print('\\n___BEST ESTIMATOR\\n')\n",
        "display(grid_search.best_estimator_)\n",
        "\n",
        "print('\\n___BEST SCORE\\n')\n",
        "display(grid_search.best_score_)\n",
        "\n",
        "print('\\n___BEST PARAMS\\n')\n",
        "display(grid_search.best_params_)\n",
        "\n",
        "\n"
      ],
      "execution_count": 50,
      "outputs": [
        {
          "output_type": "stream",
          "text": [
            "\n",
            ">>>>FITTING ....\n",
            "\n"
          ],
          "name": "stdout"
        },
        {
          "output_type": "execute_result",
          "data": {
            "text/html": [
              "<style>div.sk-top-container {color: black;background-color: white;}div.sk-toggleable {background-color: white;}label.sk-toggleable__label {cursor: pointer;display: block;width: 100%;margin-bottom: 0;padding: 0.2em 0.3em;box-sizing: border-box;text-align: center;}div.sk-toggleable__content {max-height: 0;max-width: 0;overflow: hidden;text-align: left;background-color: #f0f8ff;}div.sk-toggleable__content pre {margin: 0.2em;color: black;border-radius: 0.25em;background-color: #f0f8ff;}input.sk-toggleable__control:checked~div.sk-toggleable__content {max-height: 200px;max-width: 100%;overflow: auto;}div.sk-estimator input.sk-toggleable__control:checked~label.sk-toggleable__label {background-color: #d4ebff;}div.sk-label input.sk-toggleable__control:checked~label.sk-toggleable__label {background-color: #d4ebff;}input.sk-hidden--visually {border: 0;clip: rect(1px 1px 1px 1px);clip: rect(1px, 1px, 1px, 1px);height: 1px;margin: -1px;overflow: hidden;padding: 0;position: absolute;width: 1px;}div.sk-estimator {font-family: monospace;background-color: #f0f8ff;margin: 0.25em 0.25em;border: 1px dotted black;border-radius: 0.25em;box-sizing: border-box;}div.sk-estimator:hover {background-color: #d4ebff;}div.sk-parallel-item::after {content: \"\";width: 100%;border-bottom: 1px solid gray;flex-grow: 1;}div.sk-label:hover label.sk-toggleable__label {background-color: #d4ebff;}div.sk-serial::before {content: \"\";position: absolute;border-left: 1px solid gray;box-sizing: border-box;top: 2em;bottom: 0;left: 50%;}div.sk-serial {display: flex;flex-direction: column;align-items: center;background-color: white;}div.sk-item {z-index: 1;}div.sk-parallel {display: flex;align-items: stretch;justify-content: center;background-color: white;}div.sk-parallel-item {display: flex;flex-direction: column;position: relative;background-color: white;}div.sk-parallel-item:first-child::after {align-self: flex-end;width: 50%;}div.sk-parallel-item:last-child::after {align-self: flex-start;width: 50%;}div.sk-parallel-item:only-child::after {width: 0;}div.sk-dashed-wrapped {border: 1px dashed gray;margin: 0.2em;box-sizing: border-box;padding-bottom: 0.1em;background-color: white;position: relative;}div.sk-label label {font-family: monospace;font-weight: bold;background-color: white;display: inline-block;line-height: 1.2em;}div.sk-label-container {position: relative;z-index: 2;text-align: center;}div.sk-container {display: inline-block;position: relative;}</style><div class=\"sk-top-container\"><div class=\"sk-container\"><div class=\"sk-item sk-dashed-wrapped\"><div class=\"sk-label-container\"><div class=\"sk-label sk-toggleable\"><input class=\"sk-toggleable__control sk-hidden--visually\" id=\"6b5b6d32-2ff9-4522-bb0f-fa08dd907160\" type=\"checkbox\" ><label class=\"sk-toggleable__label\" for=\"6b5b6d32-2ff9-4522-bb0f-fa08dd907160\">GridSearchCV</label><div class=\"sk-toggleable__content\"><pre>GridSearchCV(cv=10,\n",
              "             estimator=Pipeline(steps=[('prep',\n",
              "                                        ColumnTransformer(remainder='passthrough',\n",
              "                                                          sparse_threshold=0,\n",
              "                                                          transformers=[('t_scaler_robust',\n",
              "                                                                         RobustScaler(quantile_range=(25,\n",
              "                                                                                                      75)),\n",
              "                                                                         [1,\n",
              "                                                                          2]),\n",
              "                                                                        ('t_one_hot',\n",
              "                                                                         OneHotEncoder(drop='first'),\n",
              "                                                                         [0])])),\n",
              "                                       ('knn', KNeighborsClassifier())]),\n",
              "             param_grid={'knn__n_neighbors': array([ 1,  2,  3,  4,  5,  6,  7,  8,  9, 10, 11, 12, 13, 14, 15, 16,...\n",
              "                                  ColumnTransformer(remainder='passthrough',\n",
              "                                                    sparse_threshold=0,\n",
              "                                                    transformers=[('t_scaler_mm_1',\n",
              "                                                                   MinMaxScaler(),\n",
              "                                                                   [1]),\n",
              "                                                                  ('t_scaler_mm_2',\n",
              "                                                                   MinMaxScaler(feature_range=(-0.5,\n",
              "                                                                                               0.5)),\n",
              "                                                                   [2]),\n",
              "                                                                  ('t_one_hot',\n",
              "                                                                   OneHotEncoder(drop='first'),\n",
              "                                                                   [0])]),\n",
              "                                  ColumnTransformer(remainder='passthrough',\n",
              "                                                    sparse_threshold=0,\n",
              "                                                    transformers=[('t_scaler_mm_1',\n",
              "                                                                   MinMaxScaler(),\n",
              "                                                                   [1, 2]),\n",
              "                                                                  ('t_one_hot',\n",
              "                                                                   OneHotEncoder(drop='first'),\n",
              "                                                                   [0])])]})</pre></div></div></div><div class=\"sk-parallel\"><div class=\"sk-parallel-item\"><div class=\"sk-item\"><div class=\"sk-serial\"><div class=\"sk-item\"><div class=\"sk-serial\"><div class=\"sk-item sk-dashed-wrapped\"><div class=\"sk-label-container\"><div class=\"sk-label sk-toggleable\"><input class=\"sk-toggleable__control sk-hidden--visually\" id=\"dbcdf794-c90f-4d0e-ba73-2e03d9f5efc3\" type=\"checkbox\" ><label class=\"sk-toggleable__label\" for=\"dbcdf794-c90f-4d0e-ba73-2e03d9f5efc3\">prep: ColumnTransformer</label><div class=\"sk-toggleable__content\"><pre>ColumnTransformer(remainder='passthrough', sparse_threshold=0,\n",
              "                  transformers=[('t_scaler_robust',\n",
              "                                 RobustScaler(quantile_range=(25, 75)),\n",
              "                                 [1, 2]),\n",
              "                                ('t_one_hot', OneHotEncoder(drop='first'),\n",
              "                                 [0])])</pre></div></div></div><div class=\"sk-parallel\"><div class=\"sk-parallel-item\"><div class=\"sk-item\"><div class=\"sk-label-container\"><div class=\"sk-label sk-toggleable\"><input class=\"sk-toggleable__control sk-hidden--visually\" id=\"9464d270-a8ee-45de-989b-023389c9e7e1\" type=\"checkbox\" ><label class=\"sk-toggleable__label\" for=\"9464d270-a8ee-45de-989b-023389c9e7e1\">t_scaler_robust</label><div class=\"sk-toggleable__content\"><pre>[1, 2]</pre></div></div></div><div class=\"sk-serial\"><div class=\"sk-item\"><div class=\"sk-estimator sk-toggleable\"><input class=\"sk-toggleable__control sk-hidden--visually\" id=\"e76bf5b8-fc3c-47f6-b0e1-0ed87c962f06\" type=\"checkbox\" ><label class=\"sk-toggleable__label\" for=\"e76bf5b8-fc3c-47f6-b0e1-0ed87c962f06\">RobustScaler</label><div class=\"sk-toggleable__content\"><pre>RobustScaler(quantile_range=(25, 75))</pre></div></div></div></div></div></div><div class=\"sk-parallel-item\"><div class=\"sk-item\"><div class=\"sk-label-container\"><div class=\"sk-label sk-toggleable\"><input class=\"sk-toggleable__control sk-hidden--visually\" id=\"84594dea-56f5-4981-b6d4-2f57c38bcd42\" type=\"checkbox\" ><label class=\"sk-toggleable__label\" for=\"84594dea-56f5-4981-b6d4-2f57c38bcd42\">t_one_hot</label><div class=\"sk-toggleable__content\"><pre>[0]</pre></div></div></div><div class=\"sk-serial\"><div class=\"sk-item\"><div class=\"sk-estimator sk-toggleable\"><input class=\"sk-toggleable__control sk-hidden--visually\" id=\"b5ddcc93-b65f-4eff-ae55-0884f740ac56\" type=\"checkbox\" ><label class=\"sk-toggleable__label\" for=\"b5ddcc93-b65f-4eff-ae55-0884f740ac56\">OneHotEncoder</label><div class=\"sk-toggleable__content\"><pre>OneHotEncoder(drop='first')</pre></div></div></div></div></div></div></div></div><div class=\"sk-item\"><div class=\"sk-estimator sk-toggleable\"><input class=\"sk-toggleable__control sk-hidden--visually\" id=\"8218f736-4b63-494f-85a1-c361c63fd559\" type=\"checkbox\" ><label class=\"sk-toggleable__label\" for=\"8218f736-4b63-494f-85a1-c361c63fd559\">KNeighborsClassifier</label><div class=\"sk-toggleable__content\"><pre>KNeighborsClassifier()</pre></div></div></div></div></div></div></div></div></div></div></div></div>"
            ],
            "text/plain": [
              "GridSearchCV(cv=10,\n",
              "             estimator=Pipeline(steps=[('prep',\n",
              "                                        ColumnTransformer(remainder='passthrough',\n",
              "                                                          sparse_threshold=0,\n",
              "                                                          transformers=[('t_scaler_robust',\n",
              "                                                                         RobustScaler(quantile_range=(25,\n",
              "                                                                                                      75)),\n",
              "                                                                         [1,\n",
              "                                                                          2]),\n",
              "                                                                        ('t_one_hot',\n",
              "                                                                         OneHotEncoder(drop='first'),\n",
              "                                                                         [0])])),\n",
              "                                       ('knn', KNeighborsClassifier())]),\n",
              "             param_grid={'knn__n_neighbors': array([ 1,  2,  3,  4,  5,  6,  7,  8,  9, 10, 11, 12, 13, 14, 15, 16,...\n",
              "                                  ColumnTransformer(remainder='passthrough',\n",
              "                                                    sparse_threshold=0,\n",
              "                                                    transformers=[('t_scaler_mm_1',\n",
              "                                                                   MinMaxScaler(),\n",
              "                                                                   [1]),\n",
              "                                                                  ('t_scaler_mm_2',\n",
              "                                                                   MinMaxScaler(feature_range=(-0.5,\n",
              "                                                                                               0.5)),\n",
              "                                                                   [2]),\n",
              "                                                                  ('t_one_hot',\n",
              "                                                                   OneHotEncoder(drop='first'),\n",
              "                                                                   [0])]),\n",
              "                                  ColumnTransformer(remainder='passthrough',\n",
              "                                                    sparse_threshold=0,\n",
              "                                                    transformers=[('t_scaler_mm_1',\n",
              "                                                                   MinMaxScaler(),\n",
              "                                                                   [1, 2]),\n",
              "                                                                  ('t_one_hot',\n",
              "                                                                   OneHotEncoder(drop='first'),\n",
              "                                                                   [0])])]})"
            ]
          },
          "metadata": {
            "tags": []
          },
          "execution_count": 50
        },
        {
          "output_type": "stream",
          "text": [
            "\n",
            "___BEST ESTIMATOR\n",
            "\n"
          ],
          "name": "stdout"
        },
        {
          "output_type": "display_data",
          "data": {
            "text/html": [
              "<style>div.sk-top-container {color: black;background-color: white;}div.sk-toggleable {background-color: white;}label.sk-toggleable__label {cursor: pointer;display: block;width: 100%;margin-bottom: 0;padding: 0.2em 0.3em;box-sizing: border-box;text-align: center;}div.sk-toggleable__content {max-height: 0;max-width: 0;overflow: hidden;text-align: left;background-color: #f0f8ff;}div.sk-toggleable__content pre {margin: 0.2em;color: black;border-radius: 0.25em;background-color: #f0f8ff;}input.sk-toggleable__control:checked~div.sk-toggleable__content {max-height: 200px;max-width: 100%;overflow: auto;}div.sk-estimator input.sk-toggleable__control:checked~label.sk-toggleable__label {background-color: #d4ebff;}div.sk-label input.sk-toggleable__control:checked~label.sk-toggleable__label {background-color: #d4ebff;}input.sk-hidden--visually {border: 0;clip: rect(1px 1px 1px 1px);clip: rect(1px, 1px, 1px, 1px);height: 1px;margin: -1px;overflow: hidden;padding: 0;position: absolute;width: 1px;}div.sk-estimator {font-family: monospace;background-color: #f0f8ff;margin: 0.25em 0.25em;border: 1px dotted black;border-radius: 0.25em;box-sizing: border-box;}div.sk-estimator:hover {background-color: #d4ebff;}div.sk-parallel-item::after {content: \"\";width: 100%;border-bottom: 1px solid gray;flex-grow: 1;}div.sk-label:hover label.sk-toggleable__label {background-color: #d4ebff;}div.sk-serial::before {content: \"\";position: absolute;border-left: 1px solid gray;box-sizing: border-box;top: 2em;bottom: 0;left: 50%;}div.sk-serial {display: flex;flex-direction: column;align-items: center;background-color: white;}div.sk-item {z-index: 1;}div.sk-parallel {display: flex;align-items: stretch;justify-content: center;background-color: white;}div.sk-parallel-item {display: flex;flex-direction: column;position: relative;background-color: white;}div.sk-parallel-item:first-child::after {align-self: flex-end;width: 50%;}div.sk-parallel-item:last-child::after {align-self: flex-start;width: 50%;}div.sk-parallel-item:only-child::after {width: 0;}div.sk-dashed-wrapped {border: 1px dashed gray;margin: 0.2em;box-sizing: border-box;padding-bottom: 0.1em;background-color: white;position: relative;}div.sk-label label {font-family: monospace;font-weight: bold;background-color: white;display: inline-block;line-height: 1.2em;}div.sk-label-container {position: relative;z-index: 2;text-align: center;}div.sk-container {display: inline-block;position: relative;}</style><div class=\"sk-top-container\"><div class=\"sk-container\"><div class=\"sk-item sk-dashed-wrapped\"><div class=\"sk-label-container\"><div class=\"sk-label sk-toggleable\"><input class=\"sk-toggleable__control sk-hidden--visually\" id=\"425f2920-0367-4ae6-8ea6-86c4ccff595d\" type=\"checkbox\" ><label class=\"sk-toggleable__label\" for=\"425f2920-0367-4ae6-8ea6-86c4ccff595d\">Pipeline</label><div class=\"sk-toggleable__content\"><pre>Pipeline(steps=[('prep',\n",
              "                 ColumnTransformer(remainder='passthrough', sparse_threshold=0,\n",
              "                                   transformers=[('t_scaler_mm_1',\n",
              "                                                  MinMaxScaler(), [1, 2]),\n",
              "                                                 ('t_one_hot',\n",
              "                                                  OneHotEncoder(drop='first'),\n",
              "                                                  [0])])),\n",
              "                ('knn', KNeighborsClassifier(p=1))])</pre></div></div></div><div class=\"sk-serial\"><div class=\"sk-item sk-dashed-wrapped\"><div class=\"sk-label-container\"><div class=\"sk-label sk-toggleable\"><input class=\"sk-toggleable__control sk-hidden--visually\" id=\"b0e93bc3-2033-4f82-bf01-65c8483507c8\" type=\"checkbox\" ><label class=\"sk-toggleable__label\" for=\"b0e93bc3-2033-4f82-bf01-65c8483507c8\">prep: ColumnTransformer</label><div class=\"sk-toggleable__content\"><pre>ColumnTransformer(remainder='passthrough', sparse_threshold=0,\n",
              "                  transformers=[('t_scaler_mm_1', MinMaxScaler(), [1, 2]),\n",
              "                                ('t_one_hot', OneHotEncoder(drop='first'),\n",
              "                                 [0])])</pre></div></div></div><div class=\"sk-parallel\"><div class=\"sk-parallel-item\"><div class=\"sk-item\"><div class=\"sk-label-container\"><div class=\"sk-label sk-toggleable\"><input class=\"sk-toggleable__control sk-hidden--visually\" id=\"ae62190d-62ea-4af2-b0d8-52f29400014c\" type=\"checkbox\" ><label class=\"sk-toggleable__label\" for=\"ae62190d-62ea-4af2-b0d8-52f29400014c\">t_scaler_mm_1</label><div class=\"sk-toggleable__content\"><pre>[1, 2]</pre></div></div></div><div class=\"sk-serial\"><div class=\"sk-item\"><div class=\"sk-estimator sk-toggleable\"><input class=\"sk-toggleable__control sk-hidden--visually\" id=\"f5447091-bbc5-462f-bbb6-b662c53c408b\" type=\"checkbox\" ><label class=\"sk-toggleable__label\" for=\"f5447091-bbc5-462f-bbb6-b662c53c408b\">MinMaxScaler</label><div class=\"sk-toggleable__content\"><pre>MinMaxScaler()</pre></div></div></div></div></div></div><div class=\"sk-parallel-item\"><div class=\"sk-item\"><div class=\"sk-label-container\"><div class=\"sk-label sk-toggleable\"><input class=\"sk-toggleable__control sk-hidden--visually\" id=\"f672868e-95fa-4253-b806-d3718724a42b\" type=\"checkbox\" ><label class=\"sk-toggleable__label\" for=\"f672868e-95fa-4253-b806-d3718724a42b\">t_one_hot</label><div class=\"sk-toggleable__content\"><pre>[0]</pre></div></div></div><div class=\"sk-serial\"><div class=\"sk-item\"><div class=\"sk-estimator sk-toggleable\"><input class=\"sk-toggleable__control sk-hidden--visually\" id=\"23a75bb1-42e3-4ec8-a9d1-1e18a4ccacc8\" type=\"checkbox\" ><label class=\"sk-toggleable__label\" for=\"23a75bb1-42e3-4ec8-a9d1-1e18a4ccacc8\">OneHotEncoder</label><div class=\"sk-toggleable__content\"><pre>OneHotEncoder(drop='first')</pre></div></div></div></div></div></div></div></div><div class=\"sk-item\"><div class=\"sk-estimator sk-toggleable\"><input class=\"sk-toggleable__control sk-hidden--visually\" id=\"907eae38-224d-4b63-b642-3acf7e6c7070\" type=\"checkbox\" ><label class=\"sk-toggleable__label\" for=\"907eae38-224d-4b63-b642-3acf7e6c7070\">KNeighborsClassifier</label><div class=\"sk-toggleable__content\"><pre>KNeighborsClassifier(p=1)</pre></div></div></div></div></div></div></div>"
            ],
            "text/plain": [
              "Pipeline(steps=[('prep',\n",
              "                 ColumnTransformer(remainder='passthrough', sparse_threshold=0,\n",
              "                                   transformers=[('t_scaler_mm_1',\n",
              "                                                  MinMaxScaler(), [1, 2]),\n",
              "                                                 ('t_one_hot',\n",
              "                                                  OneHotEncoder(drop='first'),\n",
              "                                                  [0])])),\n",
              "                ('knn', KNeighborsClassifier(p=1))])"
            ]
          },
          "metadata": {
            "tags": []
          }
        },
        {
          "output_type": "stream",
          "text": [
            "\n",
            "___BEST SCORE\n",
            "\n"
          ],
          "name": "stdout"
        },
        {
          "output_type": "display_data",
          "data": {
            "text/plain": [
              "0.7202773025377815"
            ]
          },
          "metadata": {
            "tags": []
          }
        },
        {
          "output_type": "stream",
          "text": [
            "\n",
            "___BEST PARAMS\n",
            "\n"
          ],
          "name": "stdout"
        },
        {
          "output_type": "display_data",
          "data": {
            "text/plain": [
              "{'knn__n_neighbors': 5,\n",
              " 'knn__p': 1,\n",
              " 'prep': ColumnTransformer(remainder='passthrough', sparse_threshold=0,\n",
              "                   transformers=[('t_scaler_mm_1', MinMaxScaler(), [1, 2]),\n",
              "                                 ('t_one_hot', OneHotEncoder(drop='first'),\n",
              "                                  [0])])}"
            ]
          },
          "metadata": {
            "tags": []
          }
        }
      ]
    },
    {
      "cell_type": "code",
      "metadata": {
        "colab": {
          "base_uri": "https://localhost:8080/",
          "height": 1000
        },
        "id": "gTuxebfWobca",
        "outputId": "00686008-6f4c-4e1f-9c0a-5e3019878388"
      },
      "source": [
        "grid_results = pd.DataFrame(grid_search.cv_results_['params'])\n",
        "grid_results['test_score'] = grid_search.cv_results_['mean_test_score']\n",
        "grid_results['metric'] = grid_results['knn__p'].replace([1,2,5], [\"Manhattan\", \"Euclidean\", \"Minkowski\"])\n",
        "grid_results"
      ],
      "execution_count": 55,
      "outputs": [
        {
          "output_type": "execute_result",
          "data": {
            "text/html": [
              "<div>\n",
              "<style scoped>\n",
              "    .dataframe tbody tr th:only-of-type {\n",
              "        vertical-align: middle;\n",
              "    }\n",
              "\n",
              "    .dataframe tbody tr th {\n",
              "        vertical-align: top;\n",
              "    }\n",
              "\n",
              "    .dataframe thead th {\n",
              "        text-align: right;\n",
              "    }\n",
              "</style>\n",
              "<table border=\"1\" class=\"dataframe\">\n",
              "  <thead>\n",
              "    <tr style=\"text-align: right;\">\n",
              "      <th></th>\n",
              "      <th>knn__n_neighbors</th>\n",
              "      <th>knn__p</th>\n",
              "      <th>prep</th>\n",
              "      <th>test_score</th>\n",
              "      <th>metric</th>\n",
              "    </tr>\n",
              "  </thead>\n",
              "  <tbody>\n",
              "    <tr>\n",
              "      <th>0</th>\n",
              "      <td>1</td>\n",
              "      <td>1</td>\n",
              "      <td>ColumnTransformer(remainder='passthrough', sparse_threshold=0,\\n                  transformers=[('t_scaler_robust',\\n                                 RobustScaler(quantile_range=(25, 75)),\\n                                 [1, 2]),\\n                                ('t_one_hot', OneHotEncoder(drop='first'),\\n                                 [0])])</td>\n",
              "      <td>0.661295</td>\n",
              "      <td>Manhattan</td>\n",
              "    </tr>\n",
              "    <tr>\n",
              "      <th>1</th>\n",
              "      <td>1</td>\n",
              "      <td>1</td>\n",
              "      <td>ColumnTransformer(remainder='passthrough', sparse_threshold=0,\\n                  transformers=[('t_scaler_mm_1', MinMaxScaler(), [1]),\\n                                ('t_scaler_mm_2',\\n                                 MinMaxScaler(feature_range=(-0.5, 0.5)), [2]),\\n                                ('t_one_hot', OneHotEncoder(drop='first'),\\n                                 [0, 3])])</td>\n",
              "      <td>0.685162</td>\n",
              "      <td>Manhattan</td>\n",
              "    </tr>\n",
              "    <tr>\n",
              "      <th>2</th>\n",
              "      <td>1</td>\n",
              "      <td>1</td>\n",
              "      <td>ColumnTransformer(remainder='passthrough', sparse_threshold=0,\\n                  transformers=[('t_scaler_mm_1', MinMaxScaler(), [1]),\\n                                ('t_scaler_mm_2',\\n                                 MinMaxScaler(feature_range=(-0.5, 0.5)), [2]),\\n                                ('t_one_hot', OneHotEncoder(drop='first'),\\n                                 [0])])</td>\n",
              "      <td>0.687550</td>\n",
              "      <td>Manhattan</td>\n",
              "    </tr>\n",
              "    <tr>\n",
              "      <th>3</th>\n",
              "      <td>1</td>\n",
              "      <td>1</td>\n",
              "      <td>ColumnTransformer(remainder='passthrough', sparse_threshold=0,\\n                  transformers=[('t_scaler_mm_1', MinMaxScaler(), [1, 2]),\\n                                ('t_one_hot', OneHotEncoder(drop='first'),\\n                                 [0])])</td>\n",
              "      <td>0.688149</td>\n",
              "      <td>Manhattan</td>\n",
              "    </tr>\n",
              "    <tr>\n",
              "      <th>4</th>\n",
              "      <td>1</td>\n",
              "      <td>2</td>\n",
              "      <td>ColumnTransformer(remainder='passthrough', sparse_threshold=0,\\n                  transformers=[('t_scaler_robust',\\n                                 RobustScaler(quantile_range=(25, 75)),\\n                                 [1, 2]),\\n                                ('t_one_hot', OneHotEncoder(drop='first'),\\n                                 [0])])</td>\n",
              "      <td>0.661285</td>\n",
              "      <td>Euclidean</td>\n",
              "    </tr>\n",
              "    <tr>\n",
              "      <th>5</th>\n",
              "      <td>1</td>\n",
              "      <td>2</td>\n",
              "      <td>ColumnTransformer(remainder='passthrough', sparse_threshold=0,\\n                  transformers=[('t_scaler_mm_1', MinMaxScaler(), [1]),\\n                                ('t_scaler_mm_2',\\n                                 MinMaxScaler(feature_range=(-0.5, 0.5)), [2]),\\n                                ('t_one_hot', OneHotEncoder(drop='first'),\\n                                 [0, 3])])</td>\n",
              "      <td>0.691104</td>\n",
              "      <td>Euclidean</td>\n",
              "    </tr>\n",
              "    <tr>\n",
              "      <th>6</th>\n",
              "      <td>1</td>\n",
              "      <td>2</td>\n",
              "      <td>ColumnTransformer(remainder='passthrough', sparse_threshold=0,\\n                  transformers=[('t_scaler_mm_1', MinMaxScaler(), [1]),\\n                                ('t_scaler_mm_2',\\n                                 MinMaxScaler(feature_range=(-0.5, 0.5)), [2]),\\n                                ('t_one_hot', OneHotEncoder(drop='first'),\\n                                 [0])])</td>\n",
              "      <td>0.693492</td>\n",
              "      <td>Euclidean</td>\n",
              "    </tr>\n",
              "    <tr>\n",
              "      <th>7</th>\n",
              "      <td>1</td>\n",
              "      <td>2</td>\n",
              "      <td>ColumnTransformer(remainder='passthrough', sparse_threshold=0,\\n                  transformers=[('t_scaler_mm_1', MinMaxScaler(), [1, 2]),\\n                                ('t_one_hot', OneHotEncoder(drop='first'),\\n                                 [0])])</td>\n",
              "      <td>0.694090</td>\n",
              "      <td>Euclidean</td>\n",
              "    </tr>\n",
              "    <tr>\n",
              "      <th>8</th>\n",
              "      <td>1</td>\n",
              "      <td>5</td>\n",
              "      <td>ColumnTransformer(remainder='passthrough', sparse_threshold=0,\\n                  transformers=[('t_scaler_robust',\\n                                 RobustScaler(quantile_range=(25, 75)),\\n                                 [1, 2]),\\n                                ('t_one_hot', OneHotEncoder(drop='first'),\\n                                 [0])])</td>\n",
              "      <td>0.661880</td>\n",
              "      <td>Minkowski</td>\n",
              "    </tr>\n",
              "    <tr>\n",
              "      <th>9</th>\n",
              "      <td>1</td>\n",
              "      <td>5</td>\n",
              "      <td>ColumnTransformer(remainder='passthrough', sparse_threshold=0,\\n                  transformers=[('t_scaler_mm_1', MinMaxScaler(), [1]),\\n                                ('t_scaler_mm_2',\\n                                 MinMaxScaler(feature_range=(-0.5, 0.5)), [2]),\\n                                ('t_one_hot', OneHotEncoder(drop='first'),\\n                                 [0, 3])])</td>\n",
              "      <td>0.690508</td>\n",
              "      <td>Minkowski</td>\n",
              "    </tr>\n",
              "    <tr>\n",
              "      <th>10</th>\n",
              "      <td>1</td>\n",
              "      <td>5</td>\n",
              "      <td>ColumnTransformer(remainder='passthrough', sparse_threshold=0,\\n                  transformers=[('t_scaler_mm_1', MinMaxScaler(), [1]),\\n                                ('t_scaler_mm_2',\\n                                 MinMaxScaler(feature_range=(-0.5, 0.5)), [2]),\\n                                ('t_one_hot', OneHotEncoder(drop='first'),\\n                                 [0])])</td>\n",
              "      <td>0.693492</td>\n",
              "      <td>Minkowski</td>\n",
              "    </tr>\n",
              "    <tr>\n",
              "      <th>11</th>\n",
              "      <td>1</td>\n",
              "      <td>5</td>\n",
              "      <td>ColumnTransformer(remainder='passthrough', sparse_threshold=0,\\n                  transformers=[('t_scaler_mm_1', MinMaxScaler(), [1, 2]),\\n                                ('t_one_hot', OneHotEncoder(drop='first'),\\n                                 [0])])</td>\n",
              "      <td>0.692900</td>\n",
              "      <td>Minkowski</td>\n",
              "    </tr>\n",
              "    <tr>\n",
              "      <th>12</th>\n",
              "      <td>2</td>\n",
              "      <td>1</td>\n",
              "      <td>ColumnTransformer(remainder='passthrough', sparse_threshold=0,\\n                  transformers=[('t_scaler_robust',\\n                                 RobustScaler(quantile_range=(25, 75)),\\n                                 [1, 2]),\\n                                ('t_one_hot', OneHotEncoder(drop='first'),\\n                                 [0])])</td>\n",
              "      <td>0.644589</td>\n",
              "      <td>Manhattan</td>\n",
              "    </tr>\n",
              "    <tr>\n",
              "      <th>13</th>\n",
              "      <td>2</td>\n",
              "      <td>1</td>\n",
              "      <td>ColumnTransformer(remainder='passthrough', sparse_threshold=0,\\n                  transformers=[('t_scaler_mm_1', MinMaxScaler(), [1]),\\n                                ('t_scaler_mm_2',\\n                                 MinMaxScaler(feature_range=(-0.5, 0.5)), [2]),\\n                                ('t_one_hot', OneHotEncoder(drop='first'),\\n                                 [0, 3])])</td>\n",
              "      <td>0.676169</td>\n",
              "      <td>Manhattan</td>\n",
              "    </tr>\n",
              "    <tr>\n",
              "      <th>14</th>\n",
              "      <td>2</td>\n",
              "      <td>1</td>\n",
              "      <td>ColumnTransformer(remainder='passthrough', sparse_threshold=0,\\n                  transformers=[('t_scaler_mm_1', MinMaxScaler(), [1]),\\n                                ('t_scaler_mm_2',\\n                                 MinMaxScaler(feature_range=(-0.5, 0.5)), [2]),\\n                                ('t_one_hot', OneHotEncoder(drop='first'),\\n                                 [0])])</td>\n",
              "      <td>0.674979</td>\n",
              "      <td>Manhattan</td>\n",
              "    </tr>\n",
              "    <tr>\n",
              "      <th>15</th>\n",
              "      <td>2</td>\n",
              "      <td>1</td>\n",
              "      <td>ColumnTransformer(remainder='passthrough', sparse_threshold=0,\\n                  transformers=[('t_scaler_mm_1', MinMaxScaler(), [1, 2]),\\n                                ('t_one_hot', OneHotEncoder(drop='first'),\\n                                 [0])])</td>\n",
              "      <td>0.676169</td>\n",
              "      <td>Manhattan</td>\n",
              "    </tr>\n",
              "    <tr>\n",
              "      <th>16</th>\n",
              "      <td>2</td>\n",
              "      <td>2</td>\n",
              "      <td>ColumnTransformer(remainder='passthrough', sparse_threshold=0,\\n                  transformers=[('t_scaler_robust',\\n                                 RobustScaler(quantile_range=(25, 75)),\\n                                 [1, 2]),\\n                                ('t_one_hot', OneHotEncoder(drop='first'),\\n                                 [0])])</td>\n",
              "      <td>0.649932</td>\n",
              "      <td>Euclidean</td>\n",
              "    </tr>\n",
              "    <tr>\n",
              "      <th>17</th>\n",
              "      <td>2</td>\n",
              "      <td>2</td>\n",
              "      <td>ColumnTransformer(remainder='passthrough', sparse_threshold=0,\\n                  transformers=[('t_scaler_mm_1', MinMaxScaler(), [1]),\\n                                ('t_scaler_mm_2',\\n                                 MinMaxScaler(feature_range=(-0.5, 0.5)), [2]),\\n                                ('t_one_hot', OneHotEncoder(drop='first'),\\n                                 [0, 3])])</td>\n",
              "      <td>0.677356</td>\n",
              "      <td>Euclidean</td>\n",
              "    </tr>\n",
              "    <tr>\n",
              "      <th>18</th>\n",
              "      <td>2</td>\n",
              "      <td>2</td>\n",
              "      <td>ColumnTransformer(remainder='passthrough', sparse_threshold=0,\\n                  transformers=[('t_scaler_mm_1', MinMaxScaler(), [1]),\\n                                ('t_scaler_mm_2',\\n                                 MinMaxScaler(feature_range=(-0.5, 0.5)), [2]),\\n                                ('t_one_hot', OneHotEncoder(drop='first'),\\n                                 [0])])</td>\n",
              "      <td>0.676761</td>\n",
              "      <td>Euclidean</td>\n",
              "    </tr>\n",
              "    <tr>\n",
              "      <th>19</th>\n",
              "      <td>2</td>\n",
              "      <td>2</td>\n",
              "      <td>ColumnTransformer(remainder='passthrough', sparse_threshold=0,\\n                  transformers=[('t_scaler_mm_1', MinMaxScaler(), [1, 2]),\\n                                ('t_one_hot', OneHotEncoder(drop='first'),\\n                                 [0])])</td>\n",
              "      <td>0.678550</td>\n",
              "      <td>Euclidean</td>\n",
              "    </tr>\n",
              "    <tr>\n",
              "      <th>20</th>\n",
              "      <td>2</td>\n",
              "      <td>5</td>\n",
              "      <td>ColumnTransformer(remainder='passthrough', sparse_threshold=0,\\n                  transformers=[('t_scaler_robust',\\n                                 RobustScaler(quantile_range=(25, 75)),\\n                                 [1, 2]),\\n                                ('t_one_hot', OneHotEncoder(drop='first'),\\n                                 [0])])</td>\n",
              "      <td>0.645156</td>\n",
              "      <td>Minkowski</td>\n",
              "    </tr>\n",
              "    <tr>\n",
              "      <th>21</th>\n",
              "      <td>2</td>\n",
              "      <td>5</td>\n",
              "      <td>ColumnTransformer(remainder='passthrough', sparse_threshold=0,\\n                  transformers=[('t_scaler_mm_1', MinMaxScaler(), [1]),\\n                                ('t_scaler_mm_2',\\n                                 MinMaxScaler(feature_range=(-0.5, 0.5)), [2]),\\n                                ('t_one_hot', OneHotEncoder(drop='first'),\\n                                 [0, 3])])</td>\n",
              "      <td>0.674369</td>\n",
              "      <td>Minkowski</td>\n",
              "    </tr>\n",
              "    <tr>\n",
              "      <th>22</th>\n",
              "      <td>2</td>\n",
              "      <td>5</td>\n",
              "      <td>ColumnTransformer(remainder='passthrough', sparse_threshold=0,\\n                  transformers=[('t_scaler_mm_1', MinMaxScaler(), [1]),\\n                                ('t_scaler_mm_2',\\n                                 MinMaxScaler(feature_range=(-0.5, 0.5)), [2]),\\n                                ('t_one_hot', OneHotEncoder(drop='first'),\\n                                 [0])])</td>\n",
              "      <td>0.672580</td>\n",
              "      <td>Minkowski</td>\n",
              "    </tr>\n",
              "    <tr>\n",
              "      <th>23</th>\n",
              "      <td>2</td>\n",
              "      <td>5</td>\n",
              "      <td>ColumnTransformer(remainder='passthrough', sparse_threshold=0,\\n                  transformers=[('t_scaler_mm_1', MinMaxScaler(), [1, 2]),\\n                                ('t_one_hot', OneHotEncoder(drop='first'),\\n                                 [0])])</td>\n",
              "      <td>0.673774</td>\n",
              "      <td>Minkowski</td>\n",
              "    </tr>\n",
              "    <tr>\n",
              "      <th>24</th>\n",
              "      <td>3</td>\n",
              "      <td>1</td>\n",
              "      <td>ColumnTransformer(remainder='passthrough', sparse_threshold=0,\\n                  transformers=[('t_scaler_robust',\\n                                 RobustScaler(quantile_range=(25, 75)),\\n                                 [1, 2]),\\n                                ('t_one_hot', OneHotEncoder(drop='first'),\\n                                 [0])])</td>\n",
              "      <td>0.668406</td>\n",
              "      <td>Manhattan</td>\n",
              "    </tr>\n",
              "    <tr>\n",
              "      <th>25</th>\n",
              "      <td>3</td>\n",
              "      <td>1</td>\n",
              "      <td>ColumnTransformer(remainder='passthrough', sparse_threshold=0,\\n                  transformers=[('t_scaler_mm_1', MinMaxScaler(), [1]),\\n                                ('t_scaler_mm_2',\\n                                 MinMaxScaler(feature_range=(-0.5, 0.5)), [2]),\\n                                ('t_one_hot', OneHotEncoder(drop='first'),\\n                                 [0, 3])])</td>\n",
              "      <td>0.697662</td>\n",
              "      <td>Manhattan</td>\n",
              "    </tr>\n",
              "    <tr>\n",
              "      <th>26</th>\n",
              "      <td>3</td>\n",
              "      <td>1</td>\n",
              "      <td>ColumnTransformer(remainder='passthrough', sparse_threshold=0,\\n                  transformers=[('t_scaler_mm_1', MinMaxScaler(), [1]),\\n                                ('t_scaler_mm_2',\\n                                 MinMaxScaler(feature_range=(-0.5, 0.5)), [2]),\\n                                ('t_one_hot', OneHotEncoder(drop='first'),\\n                                 [0])])</td>\n",
              "      <td>0.697067</td>\n",
              "      <td>Manhattan</td>\n",
              "    </tr>\n",
              "    <tr>\n",
              "      <th>27</th>\n",
              "      <td>3</td>\n",
              "      <td>1</td>\n",
              "      <td>ColumnTransformer(remainder='passthrough', sparse_threshold=0,\\n                  transformers=[('t_scaler_mm_1', MinMaxScaler(), [1, 2]),\\n                                ('t_one_hot', OneHotEncoder(drop='first'),\\n                                 [0])])</td>\n",
              "      <td>0.695277</td>\n",
              "      <td>Manhattan</td>\n",
              "    </tr>\n",
              "    <tr>\n",
              "      <th>28</th>\n",
              "      <td>3</td>\n",
              "      <td>2</td>\n",
              "      <td>ColumnTransformer(remainder='passthrough', sparse_threshold=0,\\n                  transformers=[('t_scaler_robust',\\n                                 RobustScaler(quantile_range=(25, 75)),\\n                                 [1, 2]),\\n                                ('t_one_hot', OneHotEncoder(drop='first'),\\n                                 [0])])</td>\n",
              "      <td>0.667836</td>\n",
              "      <td>Euclidean</td>\n",
              "    </tr>\n",
              "    <tr>\n",
              "      <th>29</th>\n",
              "      <td>3</td>\n",
              "      <td>2</td>\n",
              "      <td>ColumnTransformer(remainder='passthrough', sparse_threshold=0,\\n                  transformers=[('t_scaler_mm_1', MinMaxScaler(), [1]),\\n                                ('t_scaler_mm_2',\\n                                 MinMaxScaler(feature_range=(-0.5, 0.5)), [2]),\\n                                ('t_one_hot', OneHotEncoder(drop='first'),\\n                                 [0, 3])])</td>\n",
              "      <td>0.694083</td>\n",
              "      <td>Euclidean</td>\n",
              "    </tr>\n",
              "    <tr>\n",
              "      <th>30</th>\n",
              "      <td>3</td>\n",
              "      <td>2</td>\n",
              "      <td>ColumnTransformer(remainder='passthrough', sparse_threshold=0,\\n                  transformers=[('t_scaler_mm_1', MinMaxScaler(), [1]),\\n                                ('t_scaler_mm_2',\\n                                 MinMaxScaler(feature_range=(-0.5, 0.5)), [2]),\\n                                ('t_one_hot', OneHotEncoder(drop='first'),\\n                                 [0])])</td>\n",
              "      <td>0.692889</td>\n",
              "      <td>Euclidean</td>\n",
              "    </tr>\n",
              "    <tr>\n",
              "      <th>31</th>\n",
              "      <td>3</td>\n",
              "      <td>2</td>\n",
              "      <td>ColumnTransformer(remainder='passthrough', sparse_threshold=0,\\n                  transformers=[('t_scaler_mm_1', MinMaxScaler(), [1, 2]),\\n                                ('t_one_hot', OneHotEncoder(drop='first'),\\n                                 [0])])</td>\n",
              "      <td>0.694080</td>\n",
              "      <td>Euclidean</td>\n",
              "    </tr>\n",
              "    <tr>\n",
              "      <th>32</th>\n",
              "      <td>3</td>\n",
              "      <td>5</td>\n",
              "      <td>ColumnTransformer(remainder='passthrough', sparse_threshold=0,\\n                  transformers=[('t_scaler_robust',\\n                                 RobustScaler(quantile_range=(25, 75)),\\n                                 [1, 2]),\\n                                ('t_one_hot', OneHotEncoder(drop='first'),\\n                                 [0])])</td>\n",
              "      <td>0.661866</td>\n",
              "      <td>Minkowski</td>\n",
              "    </tr>\n",
              "    <tr>\n",
              "      <th>33</th>\n",
              "      <td>3</td>\n",
              "      <td>5</td>\n",
              "      <td>ColumnTransformer(remainder='passthrough', sparse_threshold=0,\\n                  transformers=[('t_scaler_mm_1', MinMaxScaler(), [1]),\\n                                ('t_scaler_mm_2',\\n                                 MinMaxScaler(feature_range=(-0.5, 0.5)), [2]),\\n                                ('t_one_hot', OneHotEncoder(drop='first'),\\n                                 [0, 3])])</td>\n",
              "      <td>0.695851</td>\n",
              "      <td>Minkowski</td>\n",
              "    </tr>\n",
              "    <tr>\n",
              "      <th>34</th>\n",
              "      <td>3</td>\n",
              "      <td>5</td>\n",
              "      <td>ColumnTransformer(remainder='passthrough', sparse_threshold=0,\\n                  transformers=[('t_scaler_mm_1', MinMaxScaler(), [1]),\\n                                ('t_scaler_mm_2',\\n                                 MinMaxScaler(feature_range=(-0.5, 0.5)), [2]),\\n                                ('t_one_hot', OneHotEncoder(drop='first'),\\n                                 [0])])</td>\n",
              "      <td>0.696450</td>\n",
              "      <td>Minkowski</td>\n",
              "    </tr>\n",
              "    <tr>\n",
              "      <th>35</th>\n",
              "      <td>3</td>\n",
              "      <td>5</td>\n",
              "      <td>ColumnTransformer(remainder='passthrough', sparse_threshold=0,\\n                  transformers=[('t_scaler_mm_1', MinMaxScaler(), [1, 2]),\\n                                ('t_one_hot', OneHotEncoder(drop='first'),\\n                                 [0])])</td>\n",
              "      <td>0.696450</td>\n",
              "      <td>Minkowski</td>\n",
              "    </tr>\n",
              "    <tr>\n",
              "      <th>36</th>\n",
              "      <td>4</td>\n",
              "      <td>1</td>\n",
              "      <td>ColumnTransformer(remainder='passthrough', sparse_threshold=0,\\n                  transformers=[('t_scaler_robust',\\n                                 RobustScaler(quantile_range=(25, 75)),\\n                                 [1, 2]),\\n                                ('t_one_hot', OneHotEncoder(drop='first'),\\n                                 [0])])</td>\n",
              "      <td>0.665416</td>\n",
              "      <td>Manhattan</td>\n",
              "    </tr>\n",
              "    <tr>\n",
              "      <th>37</th>\n",
              "      <td>4</td>\n",
              "      <td>1</td>\n",
              "      <td>ColumnTransformer(remainder='passthrough', sparse_threshold=0,\\n                  transformers=[('t_scaler_mm_1', MinMaxScaler(), [1]),\\n                                ('t_scaler_mm_2',\\n                                 MinMaxScaler(feature_range=(-0.5, 0.5)), [2]),\\n                                ('t_one_hot', OneHotEncoder(drop='first'),\\n                                 [0, 3])])</td>\n",
              "      <td>0.703564</td>\n",
              "      <td>Manhattan</td>\n",
              "    </tr>\n",
              "    <tr>\n",
              "      <th>38</th>\n",
              "      <td>4</td>\n",
              "      <td>1</td>\n",
              "      <td>ColumnTransformer(remainder='passthrough', sparse_threshold=0,\\n                  transformers=[('t_scaler_mm_1', MinMaxScaler(), [1]),\\n                                ('t_scaler_mm_2',\\n                                 MinMaxScaler(feature_range=(-0.5, 0.5)), [2]),\\n                                ('t_one_hot', OneHotEncoder(drop='first'),\\n                                 [0])])</td>\n",
              "      <td>0.704160</td>\n",
              "      <td>Manhattan</td>\n",
              "    </tr>\n",
              "    <tr>\n",
              "      <th>39</th>\n",
              "      <td>4</td>\n",
              "      <td>1</td>\n",
              "      <td>ColumnTransformer(remainder='passthrough', sparse_threshold=0,\\n                  transformers=[('t_scaler_mm_1', MinMaxScaler(), [1, 2]),\\n                                ('t_one_hot', OneHotEncoder(drop='first'),\\n                                 [0])])</td>\n",
              "      <td>0.704755</td>\n",
              "      <td>Manhattan</td>\n",
              "    </tr>\n",
              "    <tr>\n",
              "      <th>40</th>\n",
              "      <td>4</td>\n",
              "      <td>2</td>\n",
              "      <td>ColumnTransformer(remainder='passthrough', sparse_threshold=0,\\n                  transformers=[('t_scaler_robust',\\n                                 RobustScaler(quantile_range=(25, 75)),\\n                                 [1, 2]),\\n                                ('t_one_hot', OneHotEncoder(drop='first'),\\n                                 [0])])</td>\n",
              "      <td>0.660647</td>\n",
              "      <td>Euclidean</td>\n",
              "    </tr>\n",
              "    <tr>\n",
              "      <th>41</th>\n",
              "      <td>4</td>\n",
              "      <td>2</td>\n",
              "      <td>ColumnTransformer(remainder='passthrough', sparse_threshold=0,\\n                  transformers=[('t_scaler_mm_1', MinMaxScaler(), [1]),\\n                                ('t_scaler_mm_2',\\n                                 MinMaxScaler(feature_range=(-0.5, 0.5)), [2]),\\n                                ('t_one_hot', OneHotEncoder(drop='first'),\\n                                 [0, 3])])</td>\n",
              "      <td>0.704174</td>\n",
              "      <td>Euclidean</td>\n",
              "    </tr>\n",
              "    <tr>\n",
              "      <th>42</th>\n",
              "      <td>4</td>\n",
              "      <td>2</td>\n",
              "      <td>ColumnTransformer(remainder='passthrough', sparse_threshold=0,\\n                  transformers=[('t_scaler_mm_1', MinMaxScaler(), [1]),\\n                                ('t_scaler_mm_2',\\n                                 MinMaxScaler(feature_range=(-0.5, 0.5)), [2]),\\n                                ('t_one_hot', OneHotEncoder(drop='first'),\\n                                 [0])])</td>\n",
              "      <td>0.705967</td>\n",
              "      <td>Euclidean</td>\n",
              "    </tr>\n",
              "    <tr>\n",
              "      <th>43</th>\n",
              "      <td>4</td>\n",
              "      <td>2</td>\n",
              "      <td>ColumnTransformer(remainder='passthrough', sparse_threshold=0,\\n                  transformers=[('t_scaler_mm_1', MinMaxScaler(), [1, 2]),\\n                                ('t_one_hot', OneHotEncoder(drop='first'),\\n                                 [0])])</td>\n",
              "      <td>0.706558</td>\n",
              "      <td>Euclidean</td>\n",
              "    </tr>\n",
              "    <tr>\n",
              "      <th>44</th>\n",
              "      <td>4</td>\n",
              "      <td>5</td>\n",
              "      <td>ColumnTransformer(remainder='passthrough', sparse_threshold=0,\\n                  transformers=[('t_scaler_robust',\\n                                 RobustScaler(quantile_range=(25, 75)),\\n                                 [1, 2]),\\n                                ('t_one_hot', OneHotEncoder(drop='first'),\\n                                 [0])])</td>\n",
              "      <td>0.661235</td>\n",
              "      <td>Minkowski</td>\n",
              "    </tr>\n",
              "    <tr>\n",
              "      <th>45</th>\n",
              "      <td>4</td>\n",
              "      <td>5</td>\n",
              "      <td>ColumnTransformer(remainder='passthrough', sparse_threshold=0,\\n                  transformers=[('t_scaler_mm_1', MinMaxScaler(), [1]),\\n                                ('t_scaler_mm_2',\\n                                 MinMaxScaler(feature_range=(-0.5, 0.5)), [2]),\\n                                ('t_one_hot', OneHotEncoder(drop='first'),\\n                                 [0, 3])])</td>\n",
              "      <td>0.704794</td>\n",
              "      <td>Minkowski</td>\n",
              "    </tr>\n",
              "    <tr>\n",
              "      <th>46</th>\n",
              "      <td>4</td>\n",
              "      <td>5</td>\n",
              "      <td>ColumnTransformer(remainder='passthrough', sparse_threshold=0,\\n                  transformers=[('t_scaler_mm_1', MinMaxScaler(), [1]),\\n                                ('t_scaler_mm_2',\\n                                 MinMaxScaler(feature_range=(-0.5, 0.5)), [2]),\\n                                ('t_one_hot', OneHotEncoder(drop='first'),\\n                                 [0])])</td>\n",
              "      <td>0.704192</td>\n",
              "      <td>Minkowski</td>\n",
              "    </tr>\n",
              "    <tr>\n",
              "      <th>47</th>\n",
              "      <td>4</td>\n",
              "      <td>5</td>\n",
              "      <td>ColumnTransformer(remainder='passthrough', sparse_threshold=0,\\n                  transformers=[('t_scaler_mm_1', MinMaxScaler(), [1, 2]),\\n                                ('t_one_hot', OneHotEncoder(drop='first'),\\n                                 [0])])</td>\n",
              "      <td>0.704783</td>\n",
              "      <td>Minkowski</td>\n",
              "    </tr>\n",
              "    <tr>\n",
              "      <th>48</th>\n",
              "      <td>5</td>\n",
              "      <td>1</td>\n",
              "      <td>ColumnTransformer(remainder='passthrough', sparse_threshold=0,\\n                  transformers=[('t_scaler_robust',\\n                                 RobustScaler(quantile_range=(25, 75)),\\n                                 [1, 2]),\\n                                ('t_one_hot', OneHotEncoder(drop='first'),\\n                                 [0])])</td>\n",
              "      <td>0.666011</td>\n",
              "      <td>Manhattan</td>\n",
              "    </tr>\n",
              "    <tr>\n",
              "      <th>49</th>\n",
              "      <td>5</td>\n",
              "      <td>1</td>\n",
              "      <td>ColumnTransformer(remainder='passthrough', sparse_threshold=0,\\n                  transformers=[('t_scaler_mm_1', MinMaxScaler(), [1]),\\n                                ('t_scaler_mm_2',\\n                                 MinMaxScaler(feature_range=(-0.5, 0.5)), [2]),\\n                                ('t_one_hot', OneHotEncoder(drop='first'),\\n                                 [0, 3])])</td>\n",
              "      <td>0.717298</td>\n",
              "      <td>Manhattan</td>\n",
              "    </tr>\n",
              "    <tr>\n",
              "      <th>50</th>\n",
              "      <td>5</td>\n",
              "      <td>1</td>\n",
              "      <td>ColumnTransformer(remainder='passthrough', sparse_threshold=0,\\n                  transformers=[('t_scaler_mm_1', MinMaxScaler(), [1]),\\n                                ('t_scaler_mm_2',\\n                                 MinMaxScaler(feature_range=(-0.5, 0.5)), [2]),\\n                                ('t_one_hot', OneHotEncoder(drop='first'),\\n                                 [0])])</td>\n",
              "      <td>0.719087</td>\n",
              "      <td>Manhattan</td>\n",
              "    </tr>\n",
              "    <tr>\n",
              "      <th>51</th>\n",
              "      <td>5</td>\n",
              "      <td>1</td>\n",
              "      <td>ColumnTransformer(remainder='passthrough', sparse_threshold=0,\\n                  transformers=[('t_scaler_mm_1', MinMaxScaler(), [1, 2]),\\n                                ('t_one_hot', OneHotEncoder(drop='first'),\\n                                 [0])])</td>\n",
              "      <td>0.720277</td>\n",
              "      <td>Manhattan</td>\n",
              "    </tr>\n",
              "    <tr>\n",
              "      <th>52</th>\n",
              "      <td>5</td>\n",
              "      <td>2</td>\n",
              "      <td>ColumnTransformer(remainder='passthrough', sparse_threshold=0,\\n                  transformers=[('t_scaler_robust',\\n                                 RobustScaler(quantile_range=(25, 75)),\\n                                 [1, 2]),\\n                                ('t_one_hot', OneHotEncoder(drop='first'),\\n                                 [0])])</td>\n",
              "      <td>0.655272</td>\n",
              "      <td>Euclidean</td>\n",
              "    </tr>\n",
              "    <tr>\n",
              "      <th>53</th>\n",
              "      <td>5</td>\n",
              "      <td>2</td>\n",
              "      <td>ColumnTransformer(remainder='passthrough', sparse_threshold=0,\\n                  transformers=[('t_scaler_mm_1', MinMaxScaler(), [1]),\\n                                ('t_scaler_mm_2',\\n                                 MinMaxScaler(feature_range=(-0.5, 0.5)), [2]),\\n                                ('t_one_hot', OneHotEncoder(drop='first'),\\n                                 [0, 3])])</td>\n",
              "      <td>0.716709</td>\n",
              "      <td>Euclidean</td>\n",
              "    </tr>\n",
              "    <tr>\n",
              "      <th>54</th>\n",
              "      <td>5</td>\n",
              "      <td>2</td>\n",
              "      <td>ColumnTransformer(remainder='passthrough', sparse_threshold=0,\\n                  transformers=[('t_scaler_mm_1', MinMaxScaler(), [1]),\\n                                ('t_scaler_mm_2',\\n                                 MinMaxScaler(feature_range=(-0.5, 0.5)), [2]),\\n                                ('t_one_hot', OneHotEncoder(drop='first'),\\n                                 [0])])</td>\n",
              "      <td>0.717301</td>\n",
              "      <td>Euclidean</td>\n",
              "    </tr>\n",
              "    <tr>\n",
              "      <th>55</th>\n",
              "      <td>5</td>\n",
              "      <td>2</td>\n",
              "      <td>ColumnTransformer(remainder='passthrough', sparse_threshold=0,\\n                  transformers=[('t_scaler_mm_1', MinMaxScaler(), [1, 2]),\\n                                ('t_one_hot', OneHotEncoder(drop='first'),\\n                                 [0])])</td>\n",
              "      <td>0.717298</td>\n",
              "      <td>Euclidean</td>\n",
              "    </tr>\n",
              "    <tr>\n",
              "      <th>56</th>\n",
              "      <td>5</td>\n",
              "      <td>5</td>\n",
              "      <td>ColumnTransformer(remainder='passthrough', sparse_threshold=0,\\n                  transformers=[('t_scaler_robust',\\n                                 RobustScaler(quantile_range=(25, 75)),\\n                                 [1, 2]),\\n                                ('t_one_hot', OneHotEncoder(drop='first'),\\n                                 [0])])</td>\n",
              "      <td>0.657656</td>\n",
              "      <td>Minkowski</td>\n",
              "    </tr>\n",
              "    <tr>\n",
              "      <th>57</th>\n",
              "      <td>5</td>\n",
              "      <td>5</td>\n",
              "      <td>ColumnTransformer(remainder='passthrough', sparse_threshold=0,\\n                  transformers=[('t_scaler_mm_1', MinMaxScaler(), [1]),\\n                                ('t_scaler_mm_2',\\n                                 MinMaxScaler(feature_range=(-0.5, 0.5)), [2]),\\n                                ('t_one_hot', OneHotEncoder(drop='first'),\\n                                 [0, 3])])</td>\n",
              "      <td>0.713138</td>\n",
              "      <td>Minkowski</td>\n",
              "    </tr>\n",
              "    <tr>\n",
              "      <th>58</th>\n",
              "      <td>5</td>\n",
              "      <td>5</td>\n",
              "      <td>ColumnTransformer(remainder='passthrough', sparse_threshold=0,\\n                  transformers=[('t_scaler_mm_1', MinMaxScaler(), [1]),\\n                                ('t_scaler_mm_2',\\n                                 MinMaxScaler(feature_range=(-0.5, 0.5)), [2]),\\n                                ('t_one_hot', OneHotEncoder(drop='first'),\\n                                 [0])])</td>\n",
              "      <td>0.713737</td>\n",
              "      <td>Minkowski</td>\n",
              "    </tr>\n",
              "    <tr>\n",
              "      <th>59</th>\n",
              "      <td>5</td>\n",
              "      <td>5</td>\n",
              "      <td>ColumnTransformer(remainder='passthrough', sparse_threshold=0,\\n                  transformers=[('t_scaler_mm_1', MinMaxScaler(), [1, 2]),\\n                                ('t_one_hot', OneHotEncoder(drop='first'),\\n                                 [0])])</td>\n",
              "      <td>0.714332</td>\n",
              "      <td>Minkowski</td>\n",
              "    </tr>\n",
              "    <tr>\n",
              "      <th>60</th>\n",
              "      <td>6</td>\n",
              "      <td>1</td>\n",
              "      <td>ColumnTransformer(remainder='passthrough', sparse_threshold=0,\\n                  transformers=[('t_scaler_robust',\\n                                 RobustScaler(quantile_range=(25, 75)),\\n                                 [1, 2]),\\n                                ('t_one_hot', OneHotEncoder(drop='first'),\\n                                 [0])])</td>\n",
              "      <td>0.664200</td>\n",
              "      <td>Manhattan</td>\n",
              "    </tr>\n",
              "    <tr>\n",
              "      <th>61</th>\n",
              "      <td>6</td>\n",
              "      <td>1</td>\n",
              "      <td>ColumnTransformer(remainder='passthrough', sparse_threshold=0,\\n                  transformers=[('t_scaler_mm_1', MinMaxScaler(), [1]),\\n                                ('t_scaler_mm_2',\\n                                 MinMaxScaler(feature_range=(-0.5, 0.5)), [2]),\\n                                ('t_one_hot', OneHotEncoder(drop='first'),\\n                                 [0, 3])])</td>\n",
              "      <td>0.703589</td>\n",
              "      <td>Manhattan</td>\n",
              "    </tr>\n",
              "    <tr>\n",
              "      <th>62</th>\n",
              "      <td>6</td>\n",
              "      <td>1</td>\n",
              "      <td>ColumnTransformer(remainder='passthrough', sparse_threshold=0,\\n                  transformers=[('t_scaler_mm_1', MinMaxScaler(), [1]),\\n                                ('t_scaler_mm_2',\\n                                 MinMaxScaler(feature_range=(-0.5, 0.5)), [2]),\\n                                ('t_one_hot', OneHotEncoder(drop='first'),\\n                                 [0])])</td>\n",
              "      <td>0.704780</td>\n",
              "      <td>Manhattan</td>\n",
              "    </tr>\n",
              "    <tr>\n",
              "      <th>63</th>\n",
              "      <td>6</td>\n",
              "      <td>1</td>\n",
              "      <td>ColumnTransformer(remainder='passthrough', sparse_threshold=0,\\n                  transformers=[('t_scaler_mm_1', MinMaxScaler(), [1, 2]),\\n                                ('t_one_hot', OneHotEncoder(drop='first'),\\n                                 [0])])</td>\n",
              "      <td>0.704780</td>\n",
              "      <td>Manhattan</td>\n",
              "    </tr>\n",
              "    <tr>\n",
              "      <th>64</th>\n",
              "      <td>6</td>\n",
              "      <td>2</td>\n",
              "      <td>ColumnTransformer(remainder='passthrough', sparse_threshold=0,\\n                  transformers=[('t_scaler_robust',\\n                                 RobustScaler(quantile_range=(25, 75)),\\n                                 [1, 2]),\\n                                ('t_one_hot', OneHotEncoder(drop='first'),\\n                                 [0])])</td>\n",
              "      <td>0.649301</td>\n",
              "      <td>Euclidean</td>\n",
              "    </tr>\n",
              "    <tr>\n",
              "      <th>65</th>\n",
              "      <td>6</td>\n",
              "      <td>2</td>\n",
              "      <td>ColumnTransformer(remainder='passthrough', sparse_threshold=0,\\n                  transformers=[('t_scaler_mm_1', MinMaxScaler(), [1]),\\n                                ('t_scaler_mm_2',\\n                                 MinMaxScaler(feature_range=(-0.5, 0.5)), [2]),\\n                                ('t_one_hot', OneHotEncoder(drop='first'),\\n                                 [0, 3])])</td>\n",
              "      <td>0.702983</td>\n",
              "      <td>Euclidean</td>\n",
              "    </tr>\n",
              "    <tr>\n",
              "      <th>66</th>\n",
              "      <td>6</td>\n",
              "      <td>2</td>\n",
              "      <td>ColumnTransformer(remainder='passthrough', sparse_threshold=0,\\n                  transformers=[('t_scaler_mm_1', MinMaxScaler(), [1]),\\n                                ('t_scaler_mm_2',\\n                                 MinMaxScaler(feature_range=(-0.5, 0.5)), [2]),\\n                                ('t_one_hot', OneHotEncoder(drop='first'),\\n                                 [0])])</td>\n",
              "      <td>0.702987</td>\n",
              "      <td>Euclidean</td>\n",
              "    </tr>\n",
              "    <tr>\n",
              "      <th>67</th>\n",
              "      <td>6</td>\n",
              "      <td>2</td>\n",
              "      <td>ColumnTransformer(remainder='passthrough', sparse_threshold=0,\\n                  transformers=[('t_scaler_mm_1', MinMaxScaler(), [1, 2]),\\n                                ('t_one_hot', OneHotEncoder(drop='first'),\\n                                 [0])])</td>\n",
              "      <td>0.703582</td>\n",
              "      <td>Euclidean</td>\n",
              "    </tr>\n",
              "    <tr>\n",
              "      <th>68</th>\n",
              "      <td>6</td>\n",
              "      <td>5</td>\n",
              "      <td>ColumnTransformer(remainder='passthrough', sparse_threshold=0,\\n                  transformers=[('t_scaler_robust',\\n                                 RobustScaler(quantile_range=(25, 75)),\\n                                 [1, 2]),\\n                                ('t_one_hot', OneHotEncoder(drop='first'),\\n                                 [0])])</td>\n",
              "      <td>0.640954</td>\n",
              "      <td>Minkowski</td>\n",
              "    </tr>\n",
              "    <tr>\n",
              "      <th>69</th>\n",
              "      <td>6</td>\n",
              "      <td>5</td>\n",
              "      <td>ColumnTransformer(remainder='passthrough', sparse_threshold=0,\\n                  transformers=[('t_scaler_mm_1', MinMaxScaler(), [1]),\\n                                ('t_scaler_mm_2',\\n                                 MinMaxScaler(feature_range=(-0.5, 0.5)), [2]),\\n                                ('t_one_hot', OneHotEncoder(drop='first'),\\n                                 [0, 3])])</td>\n",
              "      <td>0.698806</td>\n",
              "      <td>Minkowski</td>\n",
              "    </tr>\n",
              "    <tr>\n",
              "      <th>70</th>\n",
              "      <td>6</td>\n",
              "      <td>5</td>\n",
              "      <td>ColumnTransformer(remainder='passthrough', sparse_threshold=0,\\n                  transformers=[('t_scaler_mm_1', MinMaxScaler(), [1]),\\n                                ('t_scaler_mm_2',\\n                                 MinMaxScaler(feature_range=(-0.5, 0.5)), [2]),\\n                                ('t_one_hot', OneHotEncoder(drop='first'),\\n                                 [0])])</td>\n",
              "      <td>0.698211</td>\n",
              "      <td>Minkowski</td>\n",
              "    </tr>\n",
              "    <tr>\n",
              "      <th>71</th>\n",
              "      <td>6</td>\n",
              "      <td>5</td>\n",
              "      <td>ColumnTransformer(remainder='passthrough', sparse_threshold=0,\\n                  transformers=[('t_scaler_mm_1', MinMaxScaler(), [1, 2]),\\n                                ('t_one_hot', OneHotEncoder(drop='first'),\\n                                 [0])])</td>\n",
              "      <td>0.698211</td>\n",
              "      <td>Minkowski</td>\n",
              "    </tr>\n",
              "    <tr>\n",
              "      <th>72</th>\n",
              "      <td>7</td>\n",
              "      <td>1</td>\n",
              "      <td>ColumnTransformer(remainder='passthrough', sparse_threshold=0,\\n                  transformers=[('t_scaler_robust',\\n                                 RobustScaler(quantile_range=(25, 75)),\\n                                 [1, 2]),\\n                                ('t_one_hot', OneHotEncoder(drop='first'),\\n                                 [0])])</td>\n",
              "      <td>0.664225</td>\n",
              "      <td>Manhattan</td>\n",
              "    </tr>\n",
              "    <tr>\n",
              "      <th>73</th>\n",
              "      <td>7</td>\n",
              "      <td>1</td>\n",
              "      <td>ColumnTransformer(remainder='passthrough', sparse_threshold=0,\\n                  transformers=[('t_scaler_mm_1', MinMaxScaler(), [1]),\\n                                ('t_scaler_mm_2',\\n                                 MinMaxScaler(feature_range=(-0.5, 0.5)), [2]),\\n                                ('t_one_hot', OneHotEncoder(drop='first'),\\n                                 [0, 3])])</td>\n",
              "      <td>0.713751</td>\n",
              "      <td>Manhattan</td>\n",
              "    </tr>\n",
              "    <tr>\n",
              "      <th>74</th>\n",
              "      <td>7</td>\n",
              "      <td>1</td>\n",
              "      <td>ColumnTransformer(remainder='passthrough', sparse_threshold=0,\\n                  transformers=[('t_scaler_mm_1', MinMaxScaler(), [1]),\\n                                ('t_scaler_mm_2',\\n                                 MinMaxScaler(feature_range=(-0.5, 0.5)), [2]),\\n                                ('t_one_hot', OneHotEncoder(drop='first'),\\n                                 [0])])</td>\n",
              "      <td>0.714353</td>\n",
              "      <td>Manhattan</td>\n",
              "    </tr>\n",
              "    <tr>\n",
              "      <th>75</th>\n",
              "      <td>7</td>\n",
              "      <td>1</td>\n",
              "      <td>ColumnTransformer(remainder='passthrough', sparse_threshold=0,\\n                  transformers=[('t_scaler_mm_1', MinMaxScaler(), [1, 2]),\\n                                ('t_one_hot', OneHotEncoder(drop='first'),\\n                                 [0])])</td>\n",
              "      <td>0.714353</td>\n",
              "      <td>Manhattan</td>\n",
              "    </tr>\n",
              "    <tr>\n",
              "      <th>76</th>\n",
              "      <td>7</td>\n",
              "      <td>2</td>\n",
              "      <td>ColumnTransformer(remainder='passthrough', sparse_threshold=0,\\n                  transformers=[('t_scaler_robust',\\n                                 RobustScaler(quantile_range=(25, 75)),\\n                                 [1, 2]),\\n                                ('t_one_hot', OneHotEncoder(drop='first'),\\n                                 [0])])</td>\n",
              "      <td>0.651686</td>\n",
              "      <td>Euclidean</td>\n",
              "    </tr>\n",
              "    <tr>\n",
              "      <th>77</th>\n",
              "      <td>7</td>\n",
              "      <td>2</td>\n",
              "      <td>ColumnTransformer(remainder='passthrough', sparse_threshold=0,\\n                  transformers=[('t_scaler_mm_1', MinMaxScaler(), [1]),\\n                                ('t_scaler_mm_2',\\n                                 MinMaxScaler(feature_range=(-0.5, 0.5)), [2]),\\n                                ('t_one_hot', OneHotEncoder(drop='first'),\\n                                 [0, 3])])</td>\n",
              "      <td>0.708975</td>\n",
              "      <td>Euclidean</td>\n",
              "    </tr>\n",
              "    <tr>\n",
              "      <th>78</th>\n",
              "      <td>7</td>\n",
              "      <td>2</td>\n",
              "      <td>ColumnTransformer(remainder='passthrough', sparse_threshold=0,\\n                  transformers=[('t_scaler_mm_1', MinMaxScaler(), [1]),\\n                                ('t_scaler_mm_2',\\n                                 MinMaxScaler(feature_range=(-0.5, 0.5)), [2]),\\n                                ('t_one_hot', OneHotEncoder(drop='first'),\\n                                 [0])])</td>\n",
              "      <td>0.710176</td>\n",
              "      <td>Euclidean</td>\n",
              "    </tr>\n",
              "    <tr>\n",
              "      <th>79</th>\n",
              "      <td>7</td>\n",
              "      <td>2</td>\n",
              "      <td>ColumnTransformer(remainder='passthrough', sparse_threshold=0,\\n                  transformers=[('t_scaler_mm_1', MinMaxScaler(), [1, 2]),\\n                                ('t_one_hot', OneHotEncoder(drop='first'),\\n                                 [0])])</td>\n",
              "      <td>0.710771</td>\n",
              "      <td>Euclidean</td>\n",
              "    </tr>\n",
              "    <tr>\n",
              "      <th>80</th>\n",
              "      <td>7</td>\n",
              "      <td>5</td>\n",
              "      <td>ColumnTransformer(remainder='passthrough', sparse_threshold=0,\\n                  transformers=[('t_scaler_robust',\\n                                 RobustScaler(quantile_range=(25, 75)),\\n                                 [1, 2]),\\n                                ('t_one_hot', OneHotEncoder(drop='first'),\\n                                 [0])])</td>\n",
              "      <td>0.645138</td>\n",
              "      <td>Minkowski</td>\n",
              "    </tr>\n",
              "    <tr>\n",
              "      <th>81</th>\n",
              "      <td>7</td>\n",
              "      <td>5</td>\n",
              "      <td>ColumnTransformer(remainder='passthrough', sparse_threshold=0,\\n                  transformers=[('t_scaler_mm_1', MinMaxScaler(), [1]),\\n                                ('t_scaler_mm_2',\\n                                 MinMaxScaler(feature_range=(-0.5, 0.5)), [2]),\\n                                ('t_one_hot', OneHotEncoder(drop='first'),\\n                                 [0, 3])])</td>\n",
              "      <td>0.705970</td>\n",
              "      <td>Minkowski</td>\n",
              "    </tr>\n",
              "    <tr>\n",
              "      <th>82</th>\n",
              "      <td>7</td>\n",
              "      <td>5</td>\n",
              "      <td>ColumnTransformer(remainder='passthrough', sparse_threshold=0,\\n                  transformers=[('t_scaler_mm_1', MinMaxScaler(), [1]),\\n                                ('t_scaler_mm_2',\\n                                 MinMaxScaler(feature_range=(-0.5, 0.5)), [2]),\\n                                ('t_one_hot', OneHotEncoder(drop='first'),\\n                                 [0])])</td>\n",
              "      <td>0.707171</td>\n",
              "      <td>Minkowski</td>\n",
              "    </tr>\n",
              "    <tr>\n",
              "      <th>83</th>\n",
              "      <td>7</td>\n",
              "      <td>5</td>\n",
              "      <td>ColumnTransformer(remainder='passthrough', sparse_threshold=0,\\n                  transformers=[('t_scaler_mm_1', MinMaxScaler(), [1, 2]),\\n                                ('t_one_hot', OneHotEncoder(drop='first'),\\n                                 [0])])</td>\n",
              "      <td>0.707171</td>\n",
              "      <td>Minkowski</td>\n",
              "    </tr>\n",
              "    <tr>\n",
              "      <th>84</th>\n",
              "      <td>8</td>\n",
              "      <td>1</td>\n",
              "      <td>ColumnTransformer(remainder='passthrough', sparse_threshold=0,\\n                  transformers=[('t_scaler_robust',\\n                                 RobustScaler(quantile_range=(25, 75)),\\n                                 [1, 2]),\\n                                ('t_one_hot', OneHotEncoder(drop='first'),\\n                                 [0])])</td>\n",
              "      <td>0.667800</td>\n",
              "      <td>Manhattan</td>\n",
              "    </tr>\n",
              "    <tr>\n",
              "      <th>85</th>\n",
              "      <td>8</td>\n",
              "      <td>1</td>\n",
              "      <td>ColumnTransformer(remainder='passthrough', sparse_threshold=0,\\n                  transformers=[('t_scaler_mm_1', MinMaxScaler(), [1]),\\n                                ('t_scaler_mm_2',\\n                                 MinMaxScaler(feature_range=(-0.5, 0.5)), [2]),\\n                                ('t_one_hot', OneHotEncoder(drop='first'),\\n                                 [0, 3])])</td>\n",
              "      <td>0.706565</td>\n",
              "      <td>Manhattan</td>\n",
              "    </tr>\n",
              "    <tr>\n",
              "      <th>86</th>\n",
              "      <td>8</td>\n",
              "      <td>1</td>\n",
              "      <td>ColumnTransformer(remainder='passthrough', sparse_threshold=0,\\n                  transformers=[('t_scaler_mm_1', MinMaxScaler(), [1]),\\n                                ('t_scaler_mm_2',\\n                                 MinMaxScaler(feature_range=(-0.5, 0.5)), [2]),\\n                                ('t_one_hot', OneHotEncoder(drop='first'),\\n                                 [0])])</td>\n",
              "      <td>0.707763</td>\n",
              "      <td>Manhattan</td>\n",
              "    </tr>\n",
              "    <tr>\n",
              "      <th>87</th>\n",
              "      <td>8</td>\n",
              "      <td>1</td>\n",
              "      <td>ColumnTransformer(remainder='passthrough', sparse_threshold=0,\\n                  transformers=[('t_scaler_mm_1', MinMaxScaler(), [1, 2]),\\n                                ('t_one_hot', OneHotEncoder(drop='first'),\\n                                 [0])])</td>\n",
              "      <td>0.707759</td>\n",
              "      <td>Manhattan</td>\n",
              "    </tr>\n",
              "    <tr>\n",
              "      <th>88</th>\n",
              "      <td>8</td>\n",
              "      <td>2</td>\n",
              "      <td>ColumnTransformer(remainder='passthrough', sparse_threshold=0,\\n                  transformers=[('t_scaler_robust',\\n                                 RobustScaler(quantile_range=(25, 75)),\\n                                 [1, 2]),\\n                                ('t_one_hot', OneHotEncoder(drop='first'),\\n                                 [0])])</td>\n",
              "      <td>0.647516</td>\n",
              "      <td>Euclidean</td>\n",
              "    </tr>\n",
              "    <tr>\n",
              "      <th>89</th>\n",
              "      <td>8</td>\n",
              "      <td>2</td>\n",
              "      <td>ColumnTransformer(remainder='passthrough', sparse_threshold=0,\\n                  transformers=[('t_scaler_mm_1', MinMaxScaler(), [1]),\\n                                ('t_scaler_mm_2',\\n                                 MinMaxScaler(feature_range=(-0.5, 0.5)), [2]),\\n                                ('t_one_hot', OneHotEncoder(drop='first'),\\n                                 [0, 3])])</td>\n",
              "      <td>0.705393</td>\n",
              "      <td>Euclidean</td>\n",
              "    </tr>\n",
              "    <tr>\n",
              "      <th>90</th>\n",
              "      <td>8</td>\n",
              "      <td>2</td>\n",
              "      <td>ColumnTransformer(remainder='passthrough', sparse_threshold=0,\\n                  transformers=[('t_scaler_mm_1', MinMaxScaler(), [1]),\\n                                ('t_scaler_mm_2',\\n                                 MinMaxScaler(feature_range=(-0.5, 0.5)), [2]),\\n                                ('t_one_hot', OneHotEncoder(drop='first'),\\n                                 [0])])</td>\n",
              "      <td>0.706590</td>\n",
              "      <td>Euclidean</td>\n",
              "    </tr>\n",
              "    <tr>\n",
              "      <th>91</th>\n",
              "      <td>8</td>\n",
              "      <td>2</td>\n",
              "      <td>ColumnTransformer(remainder='passthrough', sparse_threshold=0,\\n                  transformers=[('t_scaler_mm_1', MinMaxScaler(), [1, 2]),\\n                                ('t_one_hot', OneHotEncoder(drop='first'),\\n                                 [0])])</td>\n",
              "      <td>0.705995</td>\n",
              "      <td>Euclidean</td>\n",
              "    </tr>\n",
              "    <tr>\n",
              "      <th>92</th>\n",
              "      <td>8</td>\n",
              "      <td>5</td>\n",
              "      <td>ColumnTransformer(remainder='passthrough', sparse_threshold=0,\\n                  transformers=[('t_scaler_robust',\\n                                 RobustScaler(quantile_range=(25, 75)),\\n                                 [1, 2]),\\n                                ('t_one_hot', OneHotEncoder(drop='first'),\\n                                 [0])])</td>\n",
              "      <td>0.634998</td>\n",
              "      <td>Minkowski</td>\n",
              "    </tr>\n",
              "    <tr>\n",
              "      <th>93</th>\n",
              "      <td>8</td>\n",
              "      <td>5</td>\n",
              "      <td>ColumnTransformer(remainder='passthrough', sparse_threshold=0,\\n                  transformers=[('t_scaler_mm_1', MinMaxScaler(), [1]),\\n                                ('t_scaler_mm_2',\\n                                 MinMaxScaler(feature_range=(-0.5, 0.5)), [2]),\\n                                ('t_one_hot', OneHotEncoder(drop='first'),\\n                                 [0, 3])])</td>\n",
              "      <td>0.700613</td>\n",
              "      <td>Minkowski</td>\n",
              "    </tr>\n",
              "    <tr>\n",
              "      <th>94</th>\n",
              "      <td>8</td>\n",
              "      <td>5</td>\n",
              "      <td>ColumnTransformer(remainder='passthrough', sparse_threshold=0,\\n                  transformers=[('t_scaler_mm_1', MinMaxScaler(), [1]),\\n                                ('t_scaler_mm_2',\\n                                 MinMaxScaler(feature_range=(-0.5, 0.5)), [2]),\\n                                ('t_one_hot', OneHotEncoder(drop='first'),\\n                                 [0])])</td>\n",
              "      <td>0.702406</td>\n",
              "      <td>Minkowski</td>\n",
              "    </tr>\n",
              "    <tr>\n",
              "      <th>95</th>\n",
              "      <td>8</td>\n",
              "      <td>5</td>\n",
              "      <td>ColumnTransformer(remainder='passthrough', sparse_threshold=0,\\n                  transformers=[('t_scaler_mm_1', MinMaxScaler(), [1, 2]),\\n                                ('t_one_hot', OneHotEncoder(drop='first'),\\n                                 [0])])</td>\n",
              "      <td>0.702406</td>\n",
              "      <td>Minkowski</td>\n",
              "    </tr>\n",
              "    <tr>\n",
              "      <th>96</th>\n",
              "      <td>9</td>\n",
              "      <td>1</td>\n",
              "      <td>ColumnTransformer(remainder='passthrough', sparse_threshold=0,\\n                  transformers=[('t_scaler_robust',\\n                                 RobustScaler(quantile_range=(25, 75)),\\n                                 [1, 2]),\\n                                ('t_one_hot', OneHotEncoder(drop='first'),\\n                                 [0])])</td>\n",
              "      <td>0.680339</td>\n",
              "      <td>Manhattan</td>\n",
              "    </tr>\n",
              "    <tr>\n",
              "      <th>97</th>\n",
              "      <td>9</td>\n",
              "      <td>1</td>\n",
              "      <td>ColumnTransformer(remainder='passthrough', sparse_threshold=0,\\n                  transformers=[('t_scaler_mm_1', MinMaxScaler(), [1]),\\n                                ('t_scaler_mm_2',\\n                                 MinMaxScaler(feature_range=(-0.5, 0.5)), [2]),\\n                                ('t_one_hot', OneHotEncoder(drop='first'),\\n                                 [0, 3])])</td>\n",
              "      <td>0.707164</td>\n",
              "      <td>Manhattan</td>\n",
              "    </tr>\n",
              "    <tr>\n",
              "      <th>98</th>\n",
              "      <td>9</td>\n",
              "      <td>1</td>\n",
              "      <td>ColumnTransformer(remainder='passthrough', sparse_threshold=0,\\n                  transformers=[('t_scaler_mm_1', MinMaxScaler(), [1]),\\n                                ('t_scaler_mm_2',\\n                                 MinMaxScaler(feature_range=(-0.5, 0.5)), [2]),\\n                                ('t_one_hot', OneHotEncoder(drop='first'),\\n                                 [0])])</td>\n",
              "      <td>0.708362</td>\n",
              "      <td>Manhattan</td>\n",
              "    </tr>\n",
              "    <tr>\n",
              "      <th>99</th>\n",
              "      <td>9</td>\n",
              "      <td>1</td>\n",
              "      <td>ColumnTransformer(remainder='passthrough', sparse_threshold=0,\\n                  transformers=[('t_scaler_mm_1', MinMaxScaler(), [1, 2]),\\n                                ('t_one_hot', OneHotEncoder(drop='first'),\\n                                 [0])])</td>\n",
              "      <td>0.707168</td>\n",
              "      <td>Manhattan</td>\n",
              "    </tr>\n",
              "    <tr>\n",
              "      <th>100</th>\n",
              "      <td>9</td>\n",
              "      <td>2</td>\n",
              "      <td>ColumnTransformer(remainder='passthrough', sparse_threshold=0,\\n                  transformers=[('t_scaler_robust',\\n                                 RobustScaler(quantile_range=(25, 75)),\\n                                 [1, 2]),\\n                                ('t_one_hot', OneHotEncoder(drop='first'),\\n                                 [0])])</td>\n",
              "      <td>0.652313</td>\n",
              "      <td>Euclidean</td>\n",
              "    </tr>\n",
              "    <tr>\n",
              "      <th>101</th>\n",
              "      <td>9</td>\n",
              "      <td>2</td>\n",
              "      <td>ColumnTransformer(remainder='passthrough', sparse_threshold=0,\\n                  transformers=[('t_scaler_mm_1', MinMaxScaler(), [1]),\\n                                ('t_scaler_mm_2',\\n                                 MinMaxScaler(feature_range=(-0.5, 0.5)), [2]),\\n                                ('t_one_hot', OneHotEncoder(drop='first'),\\n                                 [0, 3])])</td>\n",
              "      <td>0.706590</td>\n",
              "      <td>Euclidean</td>\n",
              "    </tr>\n",
              "    <tr>\n",
              "      <th>102</th>\n",
              "      <td>9</td>\n",
              "      <td>2</td>\n",
              "      <td>ColumnTransformer(remainder='passthrough', sparse_threshold=0,\\n                  transformers=[('t_scaler_mm_1', MinMaxScaler(), [1]),\\n                                ('t_scaler_mm_2',\\n                                 MinMaxScaler(feature_range=(-0.5, 0.5)), [2]),\\n                                ('t_one_hot', OneHotEncoder(drop='first'),\\n                                 [0])])</td>\n",
              "      <td>0.707784</td>\n",
              "      <td>Euclidean</td>\n",
              "    </tr>\n",
              "    <tr>\n",
              "      <th>103</th>\n",
              "      <td>9</td>\n",
              "      <td>2</td>\n",
              "      <td>ColumnTransformer(remainder='passthrough', sparse_threshold=0,\\n                  transformers=[('t_scaler_mm_1', MinMaxScaler(), [1, 2]),\\n                                ('t_one_hot', OneHotEncoder(drop='first'),\\n                                 [0])])</td>\n",
              "      <td>0.707784</td>\n",
              "      <td>Euclidean</td>\n",
              "    </tr>\n",
              "    <tr>\n",
              "      <th>104</th>\n",
              "      <td>9</td>\n",
              "      <td>5</td>\n",
              "      <td>ColumnTransformer(remainder='passthrough', sparse_threshold=0,\\n                  transformers=[('t_scaler_robust',\\n                                 RobustScaler(quantile_range=(25, 75)),\\n                                 [1, 2]),\\n                                ('t_one_hot', OneHotEncoder(drop='first'),\\n                                 [0])])</td>\n",
              "      <td>0.639200</td>\n",
              "      <td>Minkowski</td>\n",
              "    </tr>\n",
              "    <tr>\n",
              "      <th>105</th>\n",
              "      <td>9</td>\n",
              "      <td>5</td>\n",
              "      <td>ColumnTransformer(remainder='passthrough', sparse_threshold=0,\\n                  transformers=[('t_scaler_mm_1', MinMaxScaler(), [1]),\\n                                ('t_scaler_mm_2',\\n                                 MinMaxScaler(feature_range=(-0.5, 0.5)), [2]),\\n                                ('t_one_hot', OneHotEncoder(drop='first'),\\n                                 [0, 3])])</td>\n",
              "      <td>0.698817</td>\n",
              "      <td>Minkowski</td>\n",
              "    </tr>\n",
              "    <tr>\n",
              "      <th>106</th>\n",
              "      <td>9</td>\n",
              "      <td>5</td>\n",
              "      <td>ColumnTransformer(remainder='passthrough', sparse_threshold=0,\\n                  transformers=[('t_scaler_mm_1', MinMaxScaler(), [1]),\\n                                ('t_scaler_mm_2',\\n                                 MinMaxScaler(feature_range=(-0.5, 0.5)), [2]),\\n                                ('t_one_hot', OneHotEncoder(drop='first'),\\n                                 [0])])</td>\n",
              "      <td>0.701201</td>\n",
              "      <td>Minkowski</td>\n",
              "    </tr>\n",
              "    <tr>\n",
              "      <th>107</th>\n",
              "      <td>9</td>\n",
              "      <td>5</td>\n",
              "      <td>ColumnTransformer(remainder='passthrough', sparse_threshold=0,\\n                  transformers=[('t_scaler_mm_1', MinMaxScaler(), [1, 2]),\\n                                ('t_one_hot', OneHotEncoder(drop='first'),\\n                                 [0])])</td>\n",
              "      <td>0.701201</td>\n",
              "      <td>Minkowski</td>\n",
              "    </tr>\n",
              "    <tr>\n",
              "      <th>108</th>\n",
              "      <td>10</td>\n",
              "      <td>1</td>\n",
              "      <td>ColumnTransformer(remainder='passthrough', sparse_threshold=0,\\n                  transformers=[('t_scaler_robust',\\n                                 RobustScaler(quantile_range=(25, 75)),\\n                                 [1, 2]),\\n                                ('t_one_hot', OneHotEncoder(drop='first'),\\n                                 [0])])</td>\n",
              "      <td>0.668998</td>\n",
              "      <td>Manhattan</td>\n",
              "    </tr>\n",
              "    <tr>\n",
              "      <th>109</th>\n",
              "      <td>10</td>\n",
              "      <td>1</td>\n",
              "      <td>ColumnTransformer(remainder='passthrough', sparse_threshold=0,\\n                  transformers=[('t_scaler_mm_1', MinMaxScaler(), [1]),\\n                                ('t_scaler_mm_2',\\n                                 MinMaxScaler(feature_range=(-0.5, 0.5)), [2]),\\n                                ('t_one_hot', OneHotEncoder(drop='first'),\\n                                 [0, 3])])</td>\n",
              "      <td>0.708373</td>\n",
              "      <td>Manhattan</td>\n",
              "    </tr>\n",
              "    <tr>\n",
              "      <th>110</th>\n",
              "      <td>10</td>\n",
              "      <td>1</td>\n",
              "      <td>ColumnTransformer(remainder='passthrough', sparse_threshold=0,\\n                  transformers=[('t_scaler_mm_1', MinMaxScaler(), [1]),\\n                                ('t_scaler_mm_2',\\n                                 MinMaxScaler(feature_range=(-0.5, 0.5)), [2]),\\n                                ('t_one_hot', OneHotEncoder(drop='first'),\\n                                 [0])])</td>\n",
              "      <td>0.706587</td>\n",
              "      <td>Manhattan</td>\n",
              "    </tr>\n",
              "    <tr>\n",
              "      <th>111</th>\n",
              "      <td>10</td>\n",
              "      <td>1</td>\n",
              "      <td>ColumnTransformer(remainder='passthrough', sparse_threshold=0,\\n                  transformers=[('t_scaler_mm_1', MinMaxScaler(), [1, 2]),\\n                                ('t_one_hot', OneHotEncoder(drop='first'),\\n                                 [0])])</td>\n",
              "      <td>0.705992</td>\n",
              "      <td>Manhattan</td>\n",
              "    </tr>\n",
              "    <tr>\n",
              "      <th>112</th>\n",
              "      <td>10</td>\n",
              "      <td>2</td>\n",
              "      <td>ColumnTransformer(remainder='passthrough', sparse_threshold=0,\\n                  transformers=[('t_scaler_robust',\\n                                 RobustScaler(quantile_range=(25, 75)),\\n                                 [1, 2]),\\n                                ('t_one_hot', OneHotEncoder(drop='first'),\\n                                 [0])])</td>\n",
              "      <td>0.649309</td>\n",
              "      <td>Euclidean</td>\n",
              "    </tr>\n",
              "    <tr>\n",
              "      <th>113</th>\n",
              "      <td>10</td>\n",
              "      <td>2</td>\n",
              "      <td>ColumnTransformer(remainder='passthrough', sparse_threshold=0,\\n                  transformers=[('t_scaler_mm_1', MinMaxScaler(), [1]),\\n                                ('t_scaler_mm_2',\\n                                 MinMaxScaler(feature_range=(-0.5, 0.5)), [2]),\\n                                ('t_one_hot', OneHotEncoder(drop='first'),\\n                                 [0, 3])])</td>\n",
              "      <td>0.712557</td>\n",
              "      <td>Euclidean</td>\n",
              "    </tr>\n",
              "    <tr>\n",
              "      <th>114</th>\n",
              "      <td>10</td>\n",
              "      <td>2</td>\n",
              "      <td>ColumnTransformer(remainder='passthrough', sparse_threshold=0,\\n                  transformers=[('t_scaler_mm_1', MinMaxScaler(), [1]),\\n                                ('t_scaler_mm_2',\\n                                 MinMaxScaler(feature_range=(-0.5, 0.5)), [2]),\\n                                ('t_one_hot', OneHotEncoder(drop='first'),\\n                                 [0])])</td>\n",
              "      <td>0.712561</td>\n",
              "      <td>Euclidean</td>\n",
              "    </tr>\n",
              "    <tr>\n",
              "      <th>115</th>\n",
              "      <td>10</td>\n",
              "      <td>2</td>\n",
              "      <td>ColumnTransformer(remainder='passthrough', sparse_threshold=0,\\n                  transformers=[('t_scaler_mm_1', MinMaxScaler(), [1, 2]),\\n                                ('t_one_hot', OneHotEncoder(drop='first'),\\n                                 [0])])</td>\n",
              "      <td>0.713159</td>\n",
              "      <td>Euclidean</td>\n",
              "    </tr>\n",
              "    <tr>\n",
              "      <th>116</th>\n",
              "      <td>10</td>\n",
              "      <td>5</td>\n",
              "      <td>ColumnTransformer(remainder='passthrough', sparse_threshold=0,\\n                  transformers=[('t_scaler_robust',\\n                                 RobustScaler(quantile_range=(25, 75)),\\n                                 [1, 2]),\\n                                ('t_one_hot', OneHotEncoder(drop='first'),\\n                                 [0])])</td>\n",
              "      <td>0.635600</td>\n",
              "      <td>Minkowski</td>\n",
              "    </tr>\n",
              "    <tr>\n",
              "      <th>117</th>\n",
              "      <td>10</td>\n",
              "      <td>5</td>\n",
              "      <td>ColumnTransformer(remainder='passthrough', sparse_threshold=0,\\n                  transformers=[('t_scaler_mm_1', MinMaxScaler(), [1]),\\n                                ('t_scaler_mm_2',\\n                                 MinMaxScaler(feature_range=(-0.5, 0.5)), [2]),\\n                                ('t_one_hot', OneHotEncoder(drop='first'),\\n                                 [0, 3])])</td>\n",
              "      <td>0.708968</td>\n",
              "      <td>Minkowski</td>\n",
              "    </tr>\n",
              "    <tr>\n",
              "      <th>118</th>\n",
              "      <td>10</td>\n",
              "      <td>5</td>\n",
              "      <td>ColumnTransformer(remainder='passthrough', sparse_threshold=0,\\n                  transformers=[('t_scaler_mm_1', MinMaxScaler(), [1]),\\n                                ('t_scaler_mm_2',\\n                                 MinMaxScaler(feature_range=(-0.5, 0.5)), [2]),\\n                                ('t_one_hot', OneHotEncoder(drop='first'),\\n                                 [0])])</td>\n",
              "      <td>0.710753</td>\n",
              "      <td>Minkowski</td>\n",
              "    </tr>\n",
              "    <tr>\n",
              "      <th>119</th>\n",
              "      <td>10</td>\n",
              "      <td>5</td>\n",
              "      <td>ColumnTransformer(remainder='passthrough', sparse_threshold=0,\\n                  transformers=[('t_scaler_mm_1', MinMaxScaler(), [1, 2]),\\n                                ('t_one_hot', OneHotEncoder(drop='first'),\\n                                 [0])])</td>\n",
              "      <td>0.710757</td>\n",
              "      <td>Minkowski</td>\n",
              "    </tr>\n",
              "    <tr>\n",
              "      <th>120</th>\n",
              "      <td>11</td>\n",
              "      <td>1</td>\n",
              "      <td>ColumnTransformer(remainder='passthrough', sparse_threshold=0,\\n                  transformers=[('t_scaler_robust',\\n                                 RobustScaler(quantile_range=(25, 75)),\\n                                 [1, 2]),\\n                                ('t_one_hot', OneHotEncoder(drop='first'),\\n                                 [0])])</td>\n",
              "      <td>0.662457</td>\n",
              "      <td>Manhattan</td>\n",
              "    </tr>\n",
              "    <tr>\n",
              "      <th>121</th>\n",
              "      <td>11</td>\n",
              "      <td>1</td>\n",
              "      <td>ColumnTransformer(remainder='passthrough', sparse_threshold=0,\\n                  transformers=[('t_scaler_mm_1', MinMaxScaler(), [1]),\\n                                ('t_scaler_mm_2',\\n                                 MinMaxScaler(feature_range=(-0.5, 0.5)), [2]),\\n                                ('t_one_hot', OneHotEncoder(drop='first'),\\n                                 [0, 3])])</td>\n",
              "      <td>0.707752</td>\n",
              "      <td>Manhattan</td>\n",
              "    </tr>\n",
              "    <tr>\n",
              "      <th>122</th>\n",
              "      <td>11</td>\n",
              "      <td>1</td>\n",
              "      <td>ColumnTransformer(remainder='passthrough', sparse_threshold=0,\\n                  transformers=[('t_scaler_mm_1', MinMaxScaler(), [1]),\\n                                ('t_scaler_mm_2',\\n                                 MinMaxScaler(feature_range=(-0.5, 0.5)), [2]),\\n                                ('t_one_hot', OneHotEncoder(drop='first'),\\n                                 [0])])</td>\n",
              "      <td>0.708950</td>\n",
              "      <td>Manhattan</td>\n",
              "    </tr>\n",
              "    <tr>\n",
              "      <th>123</th>\n",
              "      <td>11</td>\n",
              "      <td>1</td>\n",
              "      <td>ColumnTransformer(remainder='passthrough', sparse_threshold=0,\\n                  transformers=[('t_scaler_mm_1', MinMaxScaler(), [1, 2]),\\n                                ('t_one_hot', OneHotEncoder(drop='first'),\\n                                 [0])])</td>\n",
              "      <td>0.708950</td>\n",
              "      <td>Manhattan</td>\n",
              "    </tr>\n",
              "    <tr>\n",
              "      <th>124</th>\n",
              "      <td>11</td>\n",
              "      <td>2</td>\n",
              "      <td>ColumnTransformer(remainder='passthrough', sparse_threshold=0,\\n                  transformers=[('t_scaler_robust',\\n                                 RobustScaler(quantile_range=(25, 75)),\\n                                 [1, 2]),\\n                                ('t_one_hot', OneHotEncoder(drop='first'),\\n                                 [0])])</td>\n",
              "      <td>0.640968</td>\n",
              "      <td>Euclidean</td>\n",
              "    </tr>\n",
              "    <tr>\n",
              "      <th>125</th>\n",
              "      <td>11</td>\n",
              "      <td>2</td>\n",
              "      <td>ColumnTransformer(remainder='passthrough', sparse_threshold=0,\\n                  transformers=[('t_scaler_mm_1', MinMaxScaler(), [1]),\\n                                ('t_scaler_mm_2',\\n                                 MinMaxScaler(feature_range=(-0.5, 0.5)), [2]),\\n                                ('t_one_hot', OneHotEncoder(drop='first'),\\n                                 [0, 3])])</td>\n",
              "      <td>0.702442</td>\n",
              "      <td>Euclidean</td>\n",
              "    </tr>\n",
              "    <tr>\n",
              "      <th>126</th>\n",
              "      <td>11</td>\n",
              "      <td>2</td>\n",
              "      <td>ColumnTransformer(remainder='passthrough', sparse_threshold=0,\\n                  transformers=[('t_scaler_mm_1', MinMaxScaler(), [1]),\\n                                ('t_scaler_mm_2',\\n                                 MinMaxScaler(feature_range=(-0.5, 0.5)), [2]),\\n                                ('t_one_hot', OneHotEncoder(drop='first'),\\n                                 [0])])</td>\n",
              "      <td>0.701251</td>\n",
              "      <td>Euclidean</td>\n",
              "    </tr>\n",
              "    <tr>\n",
              "      <th>127</th>\n",
              "      <td>11</td>\n",
              "      <td>2</td>\n",
              "      <td>ColumnTransformer(remainder='passthrough', sparse_threshold=0,\\n                  transformers=[('t_scaler_mm_1', MinMaxScaler(), [1, 2]),\\n                                ('t_one_hot', OneHotEncoder(drop='first'),\\n                                 [0])])</td>\n",
              "      <td>0.701251</td>\n",
              "      <td>Euclidean</td>\n",
              "    </tr>\n",
              "    <tr>\n",
              "      <th>128</th>\n",
              "      <td>11</td>\n",
              "      <td>5</td>\n",
              "      <td>ColumnTransformer(remainder='passthrough', sparse_threshold=0,\\n                  transformers=[('t_scaler_robust',\\n                                 RobustScaler(quantile_range=(25, 75)),\\n                                 [1, 2]),\\n                                ('t_one_hot', OneHotEncoder(drop='first'),\\n                                 [0])])</td>\n",
              "      <td>0.626657</td>\n",
              "      <td>Minkowski</td>\n",
              "    </tr>\n",
              "    <tr>\n",
              "      <th>129</th>\n",
              "      <td>11</td>\n",
              "      <td>5</td>\n",
              "      <td>ColumnTransformer(remainder='passthrough', sparse_threshold=0,\\n                  transformers=[('t_scaler_mm_1', MinMaxScaler(), [1]),\\n                                ('t_scaler_mm_2',\\n                                 MinMaxScaler(feature_range=(-0.5, 0.5)), [2]),\\n                                ('t_one_hot', OneHotEncoder(drop='first'),\\n                                 [0, 3])])</td>\n",
              "      <td>0.703614</td>\n",
              "      <td>Minkowski</td>\n",
              "    </tr>\n",
              "    <tr>\n",
              "      <th>130</th>\n",
              "      <td>11</td>\n",
              "      <td>5</td>\n",
              "      <td>ColumnTransformer(remainder='passthrough', sparse_threshold=0,\\n                  transformers=[('t_scaler_mm_1', MinMaxScaler(), [1]),\\n                                ('t_scaler_mm_2',\\n                                 MinMaxScaler(feature_range=(-0.5, 0.5)), [2]),\\n                                ('t_one_hot', OneHotEncoder(drop='first'),\\n                                 [0])])</td>\n",
              "      <td>0.703015</td>\n",
              "      <td>Minkowski</td>\n",
              "    </tr>\n",
              "    <tr>\n",
              "      <th>131</th>\n",
              "      <td>11</td>\n",
              "      <td>5</td>\n",
              "      <td>ColumnTransformer(remainder='passthrough', sparse_threshold=0,\\n                  transformers=[('t_scaler_mm_1', MinMaxScaler(), [1, 2]),\\n                                ('t_one_hot', OneHotEncoder(drop='first'),\\n                                 [0])])</td>\n",
              "      <td>0.703611</td>\n",
              "      <td>Minkowski</td>\n",
              "    </tr>\n",
              "    <tr>\n",
              "      <th>132</th>\n",
              "      <td>12</td>\n",
              "      <td>1</td>\n",
              "      <td>ColumnTransformer(remainder='passthrough', sparse_threshold=0,\\n                  transformers=[('t_scaler_robust',\\n                                 RobustScaler(quantile_range=(25, 75)),\\n                                 [1, 2]),\\n                                ('t_one_hot', OneHotEncoder(drop='first'),\\n                                 [0])])</td>\n",
              "      <td>0.668410</td>\n",
              "      <td>Manhattan</td>\n",
              "    </tr>\n",
              "    <tr>\n",
              "      <th>133</th>\n",
              "      <td>12</td>\n",
              "      <td>1</td>\n",
              "      <td>ColumnTransformer(remainder='passthrough', sparse_threshold=0,\\n                  transformers=[('t_scaler_mm_1', MinMaxScaler(), [1]),\\n                                ('t_scaler_mm_2',\\n                                 MinMaxScaler(feature_range=(-0.5, 0.5)), [2]),\\n                                ('t_one_hot', OneHotEncoder(drop='first'),\\n                                 [0, 3])])</td>\n",
              "      <td>0.705375</td>\n",
              "      <td>Manhattan</td>\n",
              "    </tr>\n",
              "    <tr>\n",
              "      <th>134</th>\n",
              "      <td>12</td>\n",
              "      <td>1</td>\n",
              "      <td>ColumnTransformer(remainder='passthrough', sparse_threshold=0,\\n                  transformers=[('t_scaler_mm_1', MinMaxScaler(), [1]),\\n                                ('t_scaler_mm_2',\\n                                 MinMaxScaler(feature_range=(-0.5, 0.5)), [2]),\\n                                ('t_one_hot', OneHotEncoder(drop='first'),\\n                                 [0])])</td>\n",
              "      <td>0.707171</td>\n",
              "      <td>Manhattan</td>\n",
              "    </tr>\n",
              "    <tr>\n",
              "      <th>135</th>\n",
              "      <td>12</td>\n",
              "      <td>1</td>\n",
              "      <td>ColumnTransformer(remainder='passthrough', sparse_threshold=0,\\n                  transformers=[('t_scaler_mm_1', MinMaxScaler(), [1, 2]),\\n                                ('t_one_hot', OneHotEncoder(drop='first'),\\n                                 [0])])</td>\n",
              "      <td>0.706576</td>\n",
              "      <td>Manhattan</td>\n",
              "    </tr>\n",
              "    <tr>\n",
              "      <th>136</th>\n",
              "      <td>12</td>\n",
              "      <td>2</td>\n",
              "      <td>ColumnTransformer(remainder='passthrough', sparse_threshold=0,\\n                  transformers=[('t_scaler_robust',\\n                                 RobustScaler(quantile_range=(25, 75)),\\n                                 [1, 2]),\\n                                ('t_one_hot', OneHotEncoder(drop='first'),\\n                                 [0])])</td>\n",
              "      <td>0.641563</td>\n",
              "      <td>Euclidean</td>\n",
              "    </tr>\n",
              "    <tr>\n",
              "      <th>137</th>\n",
              "      <td>12</td>\n",
              "      <td>2</td>\n",
              "      <td>ColumnTransformer(remainder='passthrough', sparse_threshold=0,\\n                  transformers=[('t_scaler_mm_1', MinMaxScaler(), [1]),\\n                                ('t_scaler_mm_2',\\n                                 MinMaxScaler(feature_range=(-0.5, 0.5)), [2]),\\n                                ('t_one_hot', OneHotEncoder(drop='first'),\\n                                 [0, 3])])</td>\n",
              "      <td>0.694629</td>\n",
              "      <td>Euclidean</td>\n",
              "    </tr>\n",
              "    <tr>\n",
              "      <th>138</th>\n",
              "      <td>12</td>\n",
              "      <td>2</td>\n",
              "      <td>ColumnTransformer(remainder='passthrough', sparse_threshold=0,\\n                  transformers=[('t_scaler_mm_1', MinMaxScaler(), [1]),\\n                                ('t_scaler_mm_2',\\n                                 MinMaxScaler(feature_range=(-0.5, 0.5)), [2]),\\n                                ('t_one_hot', OneHotEncoder(drop='first'),\\n                                 [0])])</td>\n",
              "      <td>0.695826</td>\n",
              "      <td>Euclidean</td>\n",
              "    </tr>\n",
              "    <tr>\n",
              "      <th>139</th>\n",
              "      <td>12</td>\n",
              "      <td>2</td>\n",
              "      <td>ColumnTransformer(remainder='passthrough', sparse_threshold=0,\\n                  transformers=[('t_scaler_mm_1', MinMaxScaler(), [1, 2]),\\n                                ('t_one_hot', OneHotEncoder(drop='first'),\\n                                 [0])])</td>\n",
              "      <td>0.695826</td>\n",
              "      <td>Euclidean</td>\n",
              "    </tr>\n",
              "    <tr>\n",
              "      <th>140</th>\n",
              "      <td>12</td>\n",
              "      <td>5</td>\n",
              "      <td>ColumnTransformer(remainder='passthrough', sparse_threshold=0,\\n                  transformers=[('t_scaler_robust',\\n                                 RobustScaler(quantile_range=(25, 75)),\\n                                 [1, 2]),\\n                                ('t_one_hot', OneHotEncoder(drop='first'),\\n                                 [0])])</td>\n",
              "      <td>0.627242</td>\n",
              "      <td>Minkowski</td>\n",
              "    </tr>\n",
              "    <tr>\n",
              "      <th>141</th>\n",
              "      <td>12</td>\n",
              "      <td>5</td>\n",
              "      <td>ColumnTransformer(remainder='passthrough', sparse_threshold=0,\\n                  transformers=[('t_scaler_mm_1', MinMaxScaler(), [1]),\\n                                ('t_scaler_mm_2',\\n                                 MinMaxScaler(feature_range=(-0.5, 0.5)), [2]),\\n                                ('t_one_hot', OneHotEncoder(drop='first'),\\n                                 [0, 3])])</td>\n",
              "      <td>0.699412</td>\n",
              "      <td>Minkowski</td>\n",
              "    </tr>\n",
              "    <tr>\n",
              "      <th>142</th>\n",
              "      <td>12</td>\n",
              "      <td>5</td>\n",
              "      <td>ColumnTransformer(remainder='passthrough', sparse_threshold=0,\\n                  transformers=[('t_scaler_mm_1', MinMaxScaler(), [1]),\\n                                ('t_scaler_mm_2',\\n                                 MinMaxScaler(feature_range=(-0.5, 0.5)), [2]),\\n                                ('t_one_hot', OneHotEncoder(drop='first'),\\n                                 [0])])</td>\n",
              "      <td>0.699408</td>\n",
              "      <td>Minkowski</td>\n",
              "    </tr>\n",
              "    <tr>\n",
              "      <th>143</th>\n",
              "      <td>12</td>\n",
              "      <td>5</td>\n",
              "      <td>ColumnTransformer(remainder='passthrough', sparse_threshold=0,\\n                  transformers=[('t_scaler_mm_1', MinMaxScaler(), [1, 2]),\\n                                ('t_one_hot', OneHotEncoder(drop='first'),\\n                                 [0])])</td>\n",
              "      <td>0.700004</td>\n",
              "      <td>Minkowski</td>\n",
              "    </tr>\n",
              "    <tr>\n",
              "      <th>144</th>\n",
              "      <td>13</td>\n",
              "      <td>1</td>\n",
              "      <td>ColumnTransformer(remainder='passthrough', sparse_threshold=0,\\n                  transformers=[('t_scaler_robust',\\n                                 RobustScaler(quantile_range=(25, 75)),\\n                                 [1, 2]),\\n                                ('t_one_hot', OneHotEncoder(drop='first'),\\n                                 [0])])</td>\n",
              "      <td>0.666039</td>\n",
              "      <td>Manhattan</td>\n",
              "    </tr>\n",
              "    <tr>\n",
              "      <th>145</th>\n",
              "      <td>13</td>\n",
              "      <td>1</td>\n",
              "      <td>ColumnTransformer(remainder='passthrough', sparse_threshold=0,\\n                  transformers=[('t_scaler_mm_1', MinMaxScaler(), [1]),\\n                                ('t_scaler_mm_2',\\n                                 MinMaxScaler(feature_range=(-0.5, 0.5)), [2]),\\n                                ('t_one_hot', OneHotEncoder(drop='first'),\\n                                 [0, 3])])</td>\n",
              "      <td>0.695862</td>\n",
              "      <td>Manhattan</td>\n",
              "    </tr>\n",
              "    <tr>\n",
              "      <th>146</th>\n",
              "      <td>13</td>\n",
              "      <td>1</td>\n",
              "      <td>ColumnTransformer(remainder='passthrough', sparse_threshold=0,\\n                  transformers=[('t_scaler_mm_1', MinMaxScaler(), [1]),\\n                                ('t_scaler_mm_2',\\n                                 MinMaxScaler(feature_range=(-0.5, 0.5)), [2]),\\n                                ('t_one_hot', OneHotEncoder(drop='first'),\\n                                 [0])])</td>\n",
              "      <td>0.698250</td>\n",
              "      <td>Manhattan</td>\n",
              "    </tr>\n",
              "    <tr>\n",
              "      <th>147</th>\n",
              "      <td>13</td>\n",
              "      <td>1</td>\n",
              "      <td>ColumnTransformer(remainder='passthrough', sparse_threshold=0,\\n                  transformers=[('t_scaler_mm_1', MinMaxScaler(), [1, 2]),\\n                                ('t_one_hot', OneHotEncoder(drop='first'),\\n                                 [0])])</td>\n",
              "      <td>0.698849</td>\n",
              "      <td>Manhattan</td>\n",
              "    </tr>\n",
              "    <tr>\n",
              "      <th>148</th>\n",
              "      <td>13</td>\n",
              "      <td>2</td>\n",
              "      <td>ColumnTransformer(remainder='passthrough', sparse_threshold=0,\\n                  transformers=[('t_scaler_robust',\\n                                 RobustScaler(quantile_range=(25, 75)),\\n                                 [1, 2]),\\n                                ('t_one_hot', OneHotEncoder(drop='first'),\\n                                 [0])])</td>\n",
              "      <td>0.640376</td>\n",
              "      <td>Euclidean</td>\n",
              "    </tr>\n",
              "    <tr>\n",
              "      <th>149</th>\n",
              "      <td>13</td>\n",
              "      <td>2</td>\n",
              "      <td>ColumnTransformer(remainder='passthrough', sparse_threshold=0,\\n                  transformers=[('t_scaler_mm_1', MinMaxScaler(), [1]),\\n                                ('t_scaler_mm_2',\\n                                 MinMaxScaler(feature_range=(-0.5, 0.5)), [2]),\\n                                ('t_one_hot', OneHotEncoder(drop='first'),\\n                                 [0, 3])])</td>\n",
              "      <td>0.689874</td>\n",
              "      <td>Euclidean</td>\n",
              "    </tr>\n",
              "    <tr>\n",
              "      <th>150</th>\n",
              "      <td>13</td>\n",
              "      <td>2</td>\n",
              "      <td>ColumnTransformer(remainder='passthrough', sparse_threshold=0,\\n                  transformers=[('t_scaler_mm_1', MinMaxScaler(), [1]),\\n                                ('t_scaler_mm_2',\\n                                 MinMaxScaler(feature_range=(-0.5, 0.5)), [2]),\\n                                ('t_one_hot', OneHotEncoder(drop='first'),\\n                                 [0])])</td>\n",
              "      <td>0.690469</td>\n",
              "      <td>Euclidean</td>\n",
              "    </tr>\n",
              "    <tr>\n",
              "      <th>151</th>\n",
              "      <td>13</td>\n",
              "      <td>2</td>\n",
              "      <td>ColumnTransformer(remainder='passthrough', sparse_threshold=0,\\n                  transformers=[('t_scaler_mm_1', MinMaxScaler(), [1, 2]),\\n                                ('t_one_hot', OneHotEncoder(drop='first'),\\n                                 [0])])</td>\n",
              "      <td>0.689874</td>\n",
              "      <td>Euclidean</td>\n",
              "    </tr>\n",
              "    <tr>\n",
              "      <th>152</th>\n",
              "      <td>13</td>\n",
              "      <td>5</td>\n",
              "      <td>ColumnTransformer(remainder='passthrough', sparse_threshold=0,\\n                  transformers=[('t_scaler_robust',\\n                                 RobustScaler(quantile_range=(25, 75)),\\n                                 [1, 2]),\\n                                ('t_one_hot', OneHotEncoder(drop='first'),\\n                                 [0])])</td>\n",
              "      <td>0.628436</td>\n",
              "      <td>Minkowski</td>\n",
              "    </tr>\n",
              "    <tr>\n",
              "      <th>153</th>\n",
              "      <td>13</td>\n",
              "      <td>5</td>\n",
              "      <td>ColumnTransformer(remainder='passthrough', sparse_threshold=0,\\n                  transformers=[('t_scaler_mm_1', MinMaxScaler(), [1]),\\n                                ('t_scaler_mm_2',\\n                                 MinMaxScaler(feature_range=(-0.5, 0.5)), [2]),\\n                                ('t_one_hot', OneHotEncoder(drop='first'),\\n                                 [0, 3])])</td>\n",
              "      <td>0.688708</td>\n",
              "      <td>Minkowski</td>\n",
              "    </tr>\n",
              "    <tr>\n",
              "      <th>154</th>\n",
              "      <td>13</td>\n",
              "      <td>5</td>\n",
              "      <td>ColumnTransformer(remainder='passthrough', sparse_threshold=0,\\n                  transformers=[('t_scaler_mm_1', MinMaxScaler(), [1]),\\n                                ('t_scaler_mm_2',\\n                                 MinMaxScaler(feature_range=(-0.5, 0.5)), [2]),\\n                                ('t_one_hot', OneHotEncoder(drop='first'),\\n                                 [0])])</td>\n",
              "      <td>0.689895</td>\n",
              "      <td>Minkowski</td>\n",
              "    </tr>\n",
              "    <tr>\n",
              "      <th>155</th>\n",
              "      <td>13</td>\n",
              "      <td>5</td>\n",
              "      <td>ColumnTransformer(remainder='passthrough', sparse_threshold=0,\\n                  transformers=[('t_scaler_mm_1', MinMaxScaler(), [1, 2]),\\n                                ('t_one_hot', OneHotEncoder(drop='first'),\\n                                 [0])])</td>\n",
              "      <td>0.689895</td>\n",
              "      <td>Minkowski</td>\n",
              "    </tr>\n",
              "    <tr>\n",
              "      <th>156</th>\n",
              "      <td>14</td>\n",
              "      <td>1</td>\n",
              "      <td>ColumnTransformer(remainder='passthrough', sparse_threshold=0,\\n                  transformers=[('t_scaler_robust',\\n                                 RobustScaler(quantile_range=(25, 75)),\\n                                 [1, 2]),\\n                                ('t_one_hot', OneHotEncoder(drop='first'),\\n                                 [0])])</td>\n",
              "      <td>0.665433</td>\n",
              "      <td>Manhattan</td>\n",
              "    </tr>\n",
              "    <tr>\n",
              "      <th>157</th>\n",
              "      <td>14</td>\n",
              "      <td>1</td>\n",
              "      <td>ColumnTransformer(remainder='passthrough', sparse_threshold=0,\\n                  transformers=[('t_scaler_mm_1', MinMaxScaler(), [1]),\\n                                ('t_scaler_mm_2',\\n                                 MinMaxScaler(feature_range=(-0.5, 0.5)), [2]),\\n                                ('t_one_hot', OneHotEncoder(drop='first'),\\n                                 [0, 3])])</td>\n",
              "      <td>0.695242</td>\n",
              "      <td>Manhattan</td>\n",
              "    </tr>\n",
              "    <tr>\n",
              "      <th>158</th>\n",
              "      <td>14</td>\n",
              "      <td>1</td>\n",
              "      <td>ColumnTransformer(remainder='passthrough', sparse_threshold=0,\\n                  transformers=[('t_scaler_mm_1', MinMaxScaler(), [1]),\\n                                ('t_scaler_mm_2',\\n                                 MinMaxScaler(feature_range=(-0.5, 0.5)), [2]),\\n                                ('t_one_hot', OneHotEncoder(drop='first'),\\n                                 [0])])</td>\n",
              "      <td>0.700014</td>\n",
              "      <td>Manhattan</td>\n",
              "    </tr>\n",
              "    <tr>\n",
              "      <th>159</th>\n",
              "      <td>14</td>\n",
              "      <td>1</td>\n",
              "      <td>ColumnTransformer(remainder='passthrough', sparse_threshold=0,\\n                  transformers=[('t_scaler_mm_1', MinMaxScaler(), [1, 2]),\\n                                ('t_one_hot', OneHotEncoder(drop='first'),\\n                                 [0])])</td>\n",
              "      <td>0.699419</td>\n",
              "      <td>Manhattan</td>\n",
              "    </tr>\n",
              "    <tr>\n",
              "      <th>160</th>\n",
              "      <td>14</td>\n",
              "      <td>2</td>\n",
              "      <td>ColumnTransformer(remainder='passthrough', sparse_threshold=0,\\n                  transformers=[('t_scaler_robust',\\n                                 RobustScaler(quantile_range=(25, 75)),\\n                                 [1, 2]),\\n                                ('t_one_hot', OneHotEncoder(drop='first'),\\n                                 [0])])</td>\n",
              "      <td>0.630803</td>\n",
              "      <td>Euclidean</td>\n",
              "    </tr>\n",
              "    <tr>\n",
              "      <th>161</th>\n",
              "      <td>14</td>\n",
              "      <td>2</td>\n",
              "      <td>ColumnTransformer(remainder='passthrough', sparse_threshold=0,\\n                  transformers=[('t_scaler_mm_1', MinMaxScaler(), [1]),\\n                                ('t_scaler_mm_2',\\n                                 MinMaxScaler(feature_range=(-0.5, 0.5)), [2]),\\n                                ('t_one_hot', OneHotEncoder(drop='first'),\\n                                 [0, 3])])</td>\n",
              "      <td>0.694643</td>\n",
              "      <td>Euclidean</td>\n",
              "    </tr>\n",
              "    <tr>\n",
              "      <th>162</th>\n",
              "      <td>14</td>\n",
              "      <td>2</td>\n",
              "      <td>ColumnTransformer(remainder='passthrough', sparse_threshold=0,\\n                  transformers=[('t_scaler_mm_1', MinMaxScaler(), [1]),\\n                                ('t_scaler_mm_2',\\n                                 MinMaxScaler(feature_range=(-0.5, 0.5)), [2]),\\n                                ('t_one_hot', OneHotEncoder(drop='first'),\\n                                 [0])])</td>\n",
              "      <td>0.695238</td>\n",
              "      <td>Euclidean</td>\n",
              "    </tr>\n",
              "    <tr>\n",
              "      <th>163</th>\n",
              "      <td>14</td>\n",
              "      <td>2</td>\n",
              "      <td>ColumnTransformer(remainder='passthrough', sparse_threshold=0,\\n                  transformers=[('t_scaler_mm_1', MinMaxScaler(), [1, 2]),\\n                                ('t_one_hot', OneHotEncoder(drop='first'),\\n                                 [0])])</td>\n",
              "      <td>0.695837</td>\n",
              "      <td>Euclidean</td>\n",
              "    </tr>\n",
              "    <tr>\n",
              "      <th>164</th>\n",
              "      <td>14</td>\n",
              "      <td>5</td>\n",
              "      <td>ColumnTransformer(remainder='passthrough', sparse_threshold=0,\\n                  transformers=[('t_scaler_robust',\\n                                 RobustScaler(quantile_range=(25, 75)),\\n                                 [1, 2]),\\n                                ('t_one_hot', OneHotEncoder(drop='first'),\\n                                 [0])])</td>\n",
              "      <td>0.613512</td>\n",
              "      <td>Minkowski</td>\n",
              "    </tr>\n",
              "    <tr>\n",
              "      <th>165</th>\n",
              "      <td>14</td>\n",
              "      <td>5</td>\n",
              "      <td>ColumnTransformer(remainder='passthrough', sparse_threshold=0,\\n                  transformers=[('t_scaler_mm_1', MinMaxScaler(), [1]),\\n                                ('t_scaler_mm_2',\\n                                 MinMaxScaler(feature_range=(-0.5, 0.5)), [2]),\\n                                ('t_one_hot', OneHotEncoder(drop='first'),\\n                                 [0, 3])])</td>\n",
              "      <td>0.681533</td>\n",
              "      <td>Minkowski</td>\n",
              "    </tr>\n",
              "    <tr>\n",
              "      <th>166</th>\n",
              "      <td>14</td>\n",
              "      <td>5</td>\n",
              "      <td>ColumnTransformer(remainder='passthrough', sparse_threshold=0,\\n                  transformers=[('t_scaler_mm_1', MinMaxScaler(), [1]),\\n                                ('t_scaler_mm_2',\\n                                 MinMaxScaler(feature_range=(-0.5, 0.5)), [2]),\\n                                ('t_one_hot', OneHotEncoder(drop='first'),\\n                                 [0])])</td>\n",
              "      <td>0.680332</td>\n",
              "      <td>Minkowski</td>\n",
              "    </tr>\n",
              "    <tr>\n",
              "      <th>167</th>\n",
              "      <td>14</td>\n",
              "      <td>5</td>\n",
              "      <td>ColumnTransformer(remainder='passthrough', sparse_threshold=0,\\n                  transformers=[('t_scaler_mm_1', MinMaxScaler(), [1, 2]),\\n                                ('t_one_hot', OneHotEncoder(drop='first'),\\n                                 [0])])</td>\n",
              "      <td>0.679737</td>\n",
              "      <td>Minkowski</td>\n",
              "    </tr>\n",
              "    <tr>\n",
              "      <th>168</th>\n",
              "      <td>15</td>\n",
              "      <td>1</td>\n",
              "      <td>ColumnTransformer(remainder='passthrough', sparse_threshold=0,\\n                  transformers=[('t_scaler_robust',\\n                                 RobustScaler(quantile_range=(25, 75)),\\n                                 [1, 2]),\\n                                ('t_one_hot', OneHotEncoder(drop='first'),\\n                                 [0])])</td>\n",
              "      <td>0.654110</td>\n",
              "      <td>Manhattan</td>\n",
              "    </tr>\n",
              "    <tr>\n",
              "      <th>169</th>\n",
              "      <td>15</td>\n",
              "      <td>1</td>\n",
              "      <td>ColumnTransformer(remainder='passthrough', sparse_threshold=0,\\n                  transformers=[('t_scaler_mm_1', MinMaxScaler(), [1]),\\n                                ('t_scaler_mm_2',\\n                                 MinMaxScaler(feature_range=(-0.5, 0.5)), [2]),\\n                                ('t_one_hot', OneHotEncoder(drop='first'),\\n                                 [0, 3])])</td>\n",
              "      <td>0.692861</td>\n",
              "      <td>Manhattan</td>\n",
              "    </tr>\n",
              "    <tr>\n",
              "      <th>170</th>\n",
              "      <td>15</td>\n",
              "      <td>1</td>\n",
              "      <td>ColumnTransformer(remainder='passthrough', sparse_threshold=0,\\n                  transformers=[('t_scaler_mm_1', MinMaxScaler(), [1]),\\n                                ('t_scaler_mm_2',\\n                                 MinMaxScaler(feature_range=(-0.5, 0.5)), [2]),\\n                                ('t_one_hot', OneHotEncoder(drop='first'),\\n                                 [0])])</td>\n",
              "      <td>0.695249</td>\n",
              "      <td>Manhattan</td>\n",
              "    </tr>\n",
              "    <tr>\n",
              "      <th>171</th>\n",
              "      <td>15</td>\n",
              "      <td>1</td>\n",
              "      <td>ColumnTransformer(remainder='passthrough', sparse_threshold=0,\\n                  transformers=[('t_scaler_mm_1', MinMaxScaler(), [1, 2]),\\n                                ('t_one_hot', OneHotEncoder(drop='first'),\\n                                 [0])])</td>\n",
              "      <td>0.695252</td>\n",
              "      <td>Manhattan</td>\n",
              "    </tr>\n",
              "    <tr>\n",
              "      <th>172</th>\n",
              "      <td>15</td>\n",
              "      <td>2</td>\n",
              "      <td>ColumnTransformer(remainder='passthrough', sparse_threshold=0,\\n                  transformers=[('t_scaler_robust',\\n                                 RobustScaler(quantile_range=(25, 75)),\\n                                 [1, 2]),\\n                                ('t_one_hot', OneHotEncoder(drop='first'),\\n                                 [0])])</td>\n",
              "      <td>0.629042</td>\n",
              "      <td>Euclidean</td>\n",
              "    </tr>\n",
              "    <tr>\n",
              "      <th>173</th>\n",
              "      <td>15</td>\n",
              "      <td>2</td>\n",
              "      <td>ColumnTransformer(remainder='passthrough', sparse_threshold=0,\\n                  transformers=[('t_scaler_mm_1', MinMaxScaler(), [1]),\\n                                ('t_scaler_mm_2',\\n                                 MinMaxScaler(feature_range=(-0.5, 0.5)), [2]),\\n                                ('t_one_hot', OneHotEncoder(drop='first'),\\n                                 [0, 3])])</td>\n",
              "      <td>0.692857</td>\n",
              "      <td>Euclidean</td>\n",
              "    </tr>\n",
              "    <tr>\n",
              "      <th>174</th>\n",
              "      <td>15</td>\n",
              "      <td>2</td>\n",
              "      <td>ColumnTransformer(remainder='passthrough', sparse_threshold=0,\\n                  transformers=[('t_scaler_mm_1', MinMaxScaler(), [1]),\\n                                ('t_scaler_mm_2',\\n                                 MinMaxScaler(feature_range=(-0.5, 0.5)), [2]),\\n                                ('t_one_hot', OneHotEncoder(drop='first'),\\n                                 [0])])</td>\n",
              "      <td>0.692854</td>\n",
              "      <td>Euclidean</td>\n",
              "    </tr>\n",
              "    <tr>\n",
              "      <th>175</th>\n",
              "      <td>15</td>\n",
              "      <td>2</td>\n",
              "      <td>ColumnTransformer(remainder='passthrough', sparse_threshold=0,\\n                  transformers=[('t_scaler_mm_1', MinMaxScaler(), [1, 2]),\\n                                ('t_one_hot', OneHotEncoder(drop='first'),\\n                                 [0])])</td>\n",
              "      <td>0.692854</td>\n",
              "      <td>Euclidean</td>\n",
              "    </tr>\n",
              "    <tr>\n",
              "      <th>176</th>\n",
              "      <td>15</td>\n",
              "      <td>5</td>\n",
              "      <td>ColumnTransformer(remainder='passthrough', sparse_threshold=0,\\n                  transformers=[('t_scaler_robust',\\n                                 RobustScaler(quantile_range=(25, 75)),\\n                                 [1, 2]),\\n                                ('t_one_hot', OneHotEncoder(drop='first'),\\n                                 [0])])</td>\n",
              "      <td>0.610536</td>\n",
              "      <td>Minkowski</td>\n",
              "    </tr>\n",
              "    <tr>\n",
              "      <th>177</th>\n",
              "      <td>15</td>\n",
              "      <td>5</td>\n",
              "      <td>ColumnTransformer(remainder='passthrough', sparse_threshold=0,\\n                  transformers=[('t_scaler_mm_1', MinMaxScaler(), [1]),\\n                                ('t_scaler_mm_2',\\n                                 MinMaxScaler(feature_range=(-0.5, 0.5)), [2]),\\n                                ('t_one_hot', OneHotEncoder(drop='first'),\\n                                 [0, 3])])</td>\n",
              "      <td>0.678571</td>\n",
              "      <td>Minkowski</td>\n",
              "    </tr>\n",
              "    <tr>\n",
              "      <th>178</th>\n",
              "      <td>15</td>\n",
              "      <td>5</td>\n",
              "      <td>ColumnTransformer(remainder='passthrough', sparse_threshold=0,\\n                  transformers=[('t_scaler_mm_1', MinMaxScaler(), [1]),\\n                                ('t_scaler_mm_2',\\n                                 MinMaxScaler(feature_range=(-0.5, 0.5)), [2]),\\n                                ('t_one_hot', OneHotEncoder(drop='first'),\\n                                 [0])])</td>\n",
              "      <td>0.677377</td>\n",
              "      <td>Minkowski</td>\n",
              "    </tr>\n",
              "    <tr>\n",
              "      <th>179</th>\n",
              "      <td>15</td>\n",
              "      <td>5</td>\n",
              "      <td>ColumnTransformer(remainder='passthrough', sparse_threshold=0,\\n                  transformers=[('t_scaler_mm_1', MinMaxScaler(), [1, 2]),\\n                                ('t_one_hot', OneHotEncoder(drop='first'),\\n                                 [0])])</td>\n",
              "      <td>0.677377</td>\n",
              "      <td>Minkowski</td>\n",
              "    </tr>\n",
              "    <tr>\n",
              "      <th>180</th>\n",
              "      <td>16</td>\n",
              "      <td>1</td>\n",
              "      <td>ColumnTransformer(remainder='passthrough', sparse_threshold=0,\\n                  transformers=[('t_scaler_robust',\\n                                 RobustScaler(quantile_range=(25, 75)),\\n                                 [1, 2]),\\n                                ('t_one_hot', OneHotEncoder(drop='first'),\\n                                 [0])])</td>\n",
              "      <td>0.652306</td>\n",
              "      <td>Manhattan</td>\n",
              "    </tr>\n",
              "    <tr>\n",
              "      <th>181</th>\n",
              "      <td>16</td>\n",
              "      <td>1</td>\n",
              "      <td>ColumnTransformer(remainder='passthrough', sparse_threshold=0,\\n                  transformers=[('t_scaler_mm_1', MinMaxScaler(), [1]),\\n                                ('t_scaler_mm_2',\\n                                 MinMaxScaler(feature_range=(-0.5, 0.5)), [2]),\\n                                ('t_one_hot', OneHotEncoder(drop='first'),\\n                                 [0, 3])])</td>\n",
              "      <td>0.692861</td>\n",
              "      <td>Manhattan</td>\n",
              "    </tr>\n",
              "    <tr>\n",
              "      <th>182</th>\n",
              "      <td>16</td>\n",
              "      <td>1</td>\n",
              "      <td>ColumnTransformer(remainder='passthrough', sparse_threshold=0,\\n                  transformers=[('t_scaler_mm_1', MinMaxScaler(), [1]),\\n                                ('t_scaler_mm_2',\\n                                 MinMaxScaler(feature_range=(-0.5, 0.5)), [2]),\\n                                ('t_one_hot', OneHotEncoder(drop='first'),\\n                                 [0])])</td>\n",
              "      <td>0.692258</td>\n",
              "      <td>Manhattan</td>\n",
              "    </tr>\n",
              "    <tr>\n",
              "      <th>183</th>\n",
              "      <td>16</td>\n",
              "      <td>1</td>\n",
              "      <td>ColumnTransformer(remainder='passthrough', sparse_threshold=0,\\n                  transformers=[('t_scaler_mm_1', MinMaxScaler(), [1, 2]),\\n                                ('t_one_hot', OneHotEncoder(drop='first'),\\n                                 [0])])</td>\n",
              "      <td>0.692854</td>\n",
              "      <td>Manhattan</td>\n",
              "    </tr>\n",
              "    <tr>\n",
              "      <th>184</th>\n",
              "      <td>16</td>\n",
              "      <td>2</td>\n",
              "      <td>ColumnTransformer(remainder='passthrough', sparse_threshold=0,\\n                  transformers=[('t_scaler_robust',\\n                                 RobustScaler(quantile_range=(25, 75)),\\n                                 [1, 2]),\\n                                ('t_one_hot', OneHotEncoder(drop='first'),\\n                                 [0])])</td>\n",
              "      <td>0.627834</td>\n",
              "      <td>Euclidean</td>\n",
              "    </tr>\n",
              "    <tr>\n",
              "      <th>185</th>\n",
              "      <td>16</td>\n",
              "      <td>2</td>\n",
              "      <td>ColumnTransformer(remainder='passthrough', sparse_threshold=0,\\n                  transformers=[('t_scaler_mm_1', MinMaxScaler(), [1]),\\n                                ('t_scaler_mm_2',\\n                                 MinMaxScaler(feature_range=(-0.5, 0.5)), [2]),\\n                                ('t_one_hot', OneHotEncoder(drop='first'),\\n                                 [0, 3])])</td>\n",
              "      <td>0.689867</td>\n",
              "      <td>Euclidean</td>\n",
              "    </tr>\n",
              "    <tr>\n",
              "      <th>186</th>\n",
              "      <td>16</td>\n",
              "      <td>2</td>\n",
              "      <td>ColumnTransformer(remainder='passthrough', sparse_threshold=0,\\n                  transformers=[('t_scaler_mm_1', MinMaxScaler(), [1]),\\n                                ('t_scaler_mm_2',\\n                                 MinMaxScaler(feature_range=(-0.5, 0.5)), [2]),\\n                                ('t_one_hot', OneHotEncoder(drop='first'),\\n                                 [0])])</td>\n",
              "      <td>0.691061</td>\n",
              "      <td>Euclidean</td>\n",
              "    </tr>\n",
              "    <tr>\n",
              "      <th>187</th>\n",
              "      <td>16</td>\n",
              "      <td>2</td>\n",
              "      <td>ColumnTransformer(remainder='passthrough', sparse_threshold=0,\\n                  transformers=[('t_scaler_mm_1', MinMaxScaler(), [1, 2]),\\n                                ('t_one_hot', OneHotEncoder(drop='first'),\\n                                 [0])])</td>\n",
              "      <td>0.691061</td>\n",
              "      <td>Euclidean</td>\n",
              "    </tr>\n",
              "    <tr>\n",
              "      <th>188</th>\n",
              "      <td>16</td>\n",
              "      <td>5</td>\n",
              "      <td>ColumnTransformer(remainder='passthrough', sparse_threshold=0,\\n                  transformers=[('t_scaler_robust',\\n                                 RobustScaler(quantile_range=(25, 75)),\\n                                 [1, 2]),\\n                                ('t_one_hot', OneHotEncoder(drop='first'),\\n                                 [0])])</td>\n",
              "      <td>0.606965</td>\n",
              "      <td>Minkowski</td>\n",
              "    </tr>\n",
              "    <tr>\n",
              "      <th>189</th>\n",
              "      <td>16</td>\n",
              "      <td>5</td>\n",
              "      <td>ColumnTransformer(remainder='passthrough', sparse_threshold=0,\\n                  transformers=[('t_scaler_mm_1', MinMaxScaler(), [1]),\\n                                ('t_scaler_mm_2',\\n                                 MinMaxScaler(feature_range=(-0.5, 0.5)), [2]),\\n                                ('t_one_hot', OneHotEncoder(drop='first'),\\n                                 [0, 3])])</td>\n",
              "      <td>0.676754</td>\n",
              "      <td>Minkowski</td>\n",
              "    </tr>\n",
              "    <tr>\n",
              "      <th>190</th>\n",
              "      <td>16</td>\n",
              "      <td>5</td>\n",
              "      <td>ColumnTransformer(remainder='passthrough', sparse_threshold=0,\\n                  transformers=[('t_scaler_mm_1', MinMaxScaler(), [1]),\\n                                ('t_scaler_mm_2',\\n                                 MinMaxScaler(feature_range=(-0.5, 0.5)), [2]),\\n                                ('t_one_hot', OneHotEncoder(drop='first'),\\n                                 [0])])</td>\n",
              "      <td>0.679138</td>\n",
              "      <td>Minkowski</td>\n",
              "    </tr>\n",
              "    <tr>\n",
              "      <th>191</th>\n",
              "      <td>16</td>\n",
              "      <td>5</td>\n",
              "      <td>ColumnTransformer(remainder='passthrough', sparse_threshold=0,\\n                  transformers=[('t_scaler_mm_1', MinMaxScaler(), [1, 2]),\\n                                ('t_one_hot', OneHotEncoder(drop='first'),\\n                                 [0])])</td>\n",
              "      <td>0.679737</td>\n",
              "      <td>Minkowski</td>\n",
              "    </tr>\n",
              "    <tr>\n",
              "      <th>192</th>\n",
              "      <td>17</td>\n",
              "      <td>1</td>\n",
              "      <td>ColumnTransformer(remainder='passthrough', sparse_threshold=0,\\n                  transformers=[('t_scaler_robust',\\n                                 RobustScaler(quantile_range=(25, 75)),\\n                                 [1, 2]),\\n                                ('t_one_hot', OneHotEncoder(drop='first'),\\n                                 [0])])</td>\n",
              "      <td>0.645181</td>\n",
              "      <td>Manhattan</td>\n",
              "    </tr>\n",
              "    <tr>\n",
              "      <th>193</th>\n",
              "      <td>17</td>\n",
              "      <td>1</td>\n",
              "      <td>ColumnTransformer(remainder='passthrough', sparse_threshold=0,\\n                  transformers=[('t_scaler_mm_1', MinMaxScaler(), [1]),\\n                                ('t_scaler_mm_2',\\n                                 MinMaxScaler(feature_range=(-0.5, 0.5)), [2]),\\n                                ('t_one_hot', OneHotEncoder(drop='first'),\\n                                 [0, 3])])</td>\n",
              "      <td>0.692882</td>\n",
              "      <td>Manhattan</td>\n",
              "    </tr>\n",
              "    <tr>\n",
              "      <th>194</th>\n",
              "      <td>17</td>\n",
              "      <td>1</td>\n",
              "      <td>ColumnTransformer(remainder='passthrough', sparse_threshold=0,\\n                  transformers=[('t_scaler_mm_1', MinMaxScaler(), [1]),\\n                                ('t_scaler_mm_2',\\n                                 MinMaxScaler(feature_range=(-0.5, 0.5)), [2]),\\n                                ('t_one_hot', OneHotEncoder(drop='first'),\\n                                 [0])])</td>\n",
              "      <td>0.692283</td>\n",
              "      <td>Manhattan</td>\n",
              "    </tr>\n",
              "    <tr>\n",
              "      <th>195</th>\n",
              "      <td>17</td>\n",
              "      <td>1</td>\n",
              "      <td>ColumnTransformer(remainder='passthrough', sparse_threshold=0,\\n                  transformers=[('t_scaler_mm_1', MinMaxScaler(), [1, 2]),\\n                                ('t_one_hot', OneHotEncoder(drop='first'),\\n                                 [0])])</td>\n",
              "      <td>0.692283</td>\n",
              "      <td>Manhattan</td>\n",
              "    </tr>\n",
              "    <tr>\n",
              "      <th>196</th>\n",
              "      <td>17</td>\n",
              "      <td>2</td>\n",
              "      <td>ColumnTransformer(remainder='passthrough', sparse_threshold=0,\\n                  transformers=[('t_scaler_robust',\\n                                 RobustScaler(quantile_range=(25, 75)),\\n                                 [1, 2]),\\n                                ('t_one_hot', OneHotEncoder(drop='first'),\\n                                 [0])])</td>\n",
              "      <td>0.623695</td>\n",
              "      <td>Euclidean</td>\n",
              "    </tr>\n",
              "    <tr>\n",
              "      <th>197</th>\n",
              "      <td>17</td>\n",
              "      <td>2</td>\n",
              "      <td>ColumnTransformer(remainder='passthrough', sparse_threshold=0,\\n                  transformers=[('t_scaler_mm_1', MinMaxScaler(), [1]),\\n                                ('t_scaler_mm_2',\\n                                 MinMaxScaler(feature_range=(-0.5, 0.5)), [2]),\\n                                ('t_one_hot', OneHotEncoder(drop='first'),\\n                                 [0, 3])])</td>\n",
              "      <td>0.681555</td>\n",
              "      <td>Euclidean</td>\n",
              "    </tr>\n",
              "    <tr>\n",
              "      <th>198</th>\n",
              "      <td>17</td>\n",
              "      <td>2</td>\n",
              "      <td>ColumnTransformer(remainder='passthrough', sparse_threshold=0,\\n                  transformers=[('t_scaler_mm_1', MinMaxScaler(), [1]),\\n                                ('t_scaler_mm_2',\\n                                 MinMaxScaler(feature_range=(-0.5, 0.5)), [2]),\\n                                ('t_one_hot', OneHotEncoder(drop='first'),\\n                                 [0])])</td>\n",
              "      <td>0.683939</td>\n",
              "      <td>Euclidean</td>\n",
              "    </tr>\n",
              "    <tr>\n",
              "      <th>199</th>\n",
              "      <td>17</td>\n",
              "      <td>2</td>\n",
              "      <td>ColumnTransformer(remainder='passthrough', sparse_threshold=0,\\n                  transformers=[('t_scaler_mm_1', MinMaxScaler(), [1, 2]),\\n                                ('t_one_hot', OneHotEncoder(drop='first'),\\n                                 [0])])</td>\n",
              "      <td>0.683939</td>\n",
              "      <td>Euclidean</td>\n",
              "    </tr>\n",
              "    <tr>\n",
              "      <th>200</th>\n",
              "      <td>17</td>\n",
              "      <td>5</td>\n",
              "      <td>ColumnTransformer(remainder='passthrough', sparse_threshold=0,\\n                  transformers=[('t_scaler_robust',\\n                                 RobustScaler(quantile_range=(25, 75)),\\n                                 [1, 2]),\\n                                ('t_one_hot', OneHotEncoder(drop='first'),\\n                                 [0])])</td>\n",
              "      <td>0.599223</td>\n",
              "      <td>Minkowski</td>\n",
              "    </tr>\n",
              "    <tr>\n",
              "      <th>201</th>\n",
              "      <td>17</td>\n",
              "      <td>5</td>\n",
              "      <td>ColumnTransformer(remainder='passthrough', sparse_threshold=0,\\n                  transformers=[('t_scaler_mm_1', MinMaxScaler(), [1]),\\n                                ('t_scaler_mm_2',\\n                                 MinMaxScaler(feature_range=(-0.5, 0.5)), [2]),\\n                                ('t_one_hot', OneHotEncoder(drop='first'),\\n                                 [0, 3])])</td>\n",
              "      <td>0.674993</td>\n",
              "      <td>Minkowski</td>\n",
              "    </tr>\n",
              "    <tr>\n",
              "      <th>202</th>\n",
              "      <td>17</td>\n",
              "      <td>5</td>\n",
              "      <td>ColumnTransformer(remainder='passthrough', sparse_threshold=0,\\n                  transformers=[('t_scaler_mm_1', MinMaxScaler(), [1]),\\n                                ('t_scaler_mm_2',\\n                                 MinMaxScaler(feature_range=(-0.5, 0.5)), [2]),\\n                                ('t_one_hot', OneHotEncoder(drop='first'),\\n                                 [0])])</td>\n",
              "      <td>0.676176</td>\n",
              "      <td>Minkowski</td>\n",
              "    </tr>\n",
              "    <tr>\n",
              "      <th>203</th>\n",
              "      <td>17</td>\n",
              "      <td>5</td>\n",
              "      <td>ColumnTransformer(remainder='passthrough', sparse_threshold=0,\\n                  transformers=[('t_scaler_mm_1', MinMaxScaler(), [1, 2]),\\n                                ('t_one_hot', OneHotEncoder(drop='first'),\\n                                 [0])])</td>\n",
              "      <td>0.676176</td>\n",
              "      <td>Minkowski</td>\n",
              "    </tr>\n",
              "    <tr>\n",
              "      <th>204</th>\n",
              "      <td>18</td>\n",
              "      <td>1</td>\n",
              "      <td>ColumnTransformer(remainder='passthrough', sparse_threshold=0,\\n                  transformers=[('t_scaler_robust',\\n                                 RobustScaler(quantile_range=(25, 75)),\\n                                 [1, 2]),\\n                                ('t_one_hot', OneHotEncoder(drop='first'),\\n                                 [0])])</td>\n",
              "      <td>0.645755</td>\n",
              "      <td>Manhattan</td>\n",
              "    </tr>\n",
              "    <tr>\n",
              "      <th>205</th>\n",
              "      <td>18</td>\n",
              "      <td>1</td>\n",
              "      <td>ColumnTransformer(remainder='passthrough', sparse_threshold=0,\\n                  transformers=[('t_scaler_mm_1', MinMaxScaler(), [1]),\\n                                ('t_scaler_mm_2',\\n                                 MinMaxScaler(feature_range=(-0.5, 0.5)), [2]),\\n                                ('t_one_hot', OneHotEncoder(drop='first'),\\n                                 [0, 3])])</td>\n",
              "      <td>0.697042</td>\n",
              "      <td>Manhattan</td>\n",
              "    </tr>\n",
              "    <tr>\n",
              "      <th>206</th>\n",
              "      <td>18</td>\n",
              "      <td>1</td>\n",
              "      <td>ColumnTransformer(remainder='passthrough', sparse_threshold=0,\\n                  transformers=[('t_scaler_mm_1', MinMaxScaler(), [1]),\\n                                ('t_scaler_mm_2',\\n                                 MinMaxScaler(feature_range=(-0.5, 0.5)), [2]),\\n                                ('t_one_hot', OneHotEncoder(drop='first'),\\n                                 [0])])</td>\n",
              "      <td>0.696446</td>\n",
              "      <td>Manhattan</td>\n",
              "    </tr>\n",
              "    <tr>\n",
              "      <th>207</th>\n",
              "      <td>18</td>\n",
              "      <td>1</td>\n",
              "      <td>ColumnTransformer(remainder='passthrough', sparse_threshold=0,\\n                  transformers=[('t_scaler_mm_1', MinMaxScaler(), [1, 2]),\\n                                ('t_one_hot', OneHotEncoder(drop='first'),\\n                                 [0])])</td>\n",
              "      <td>0.695252</td>\n",
              "      <td>Manhattan</td>\n",
              "    </tr>\n",
              "    <tr>\n",
              "      <th>208</th>\n",
              "      <td>18</td>\n",
              "      <td>2</td>\n",
              "      <td>ColumnTransformer(remainder='passthrough', sparse_threshold=0,\\n                  transformers=[('t_scaler_robust',\\n                                 RobustScaler(quantile_range=(25, 75)),\\n                                 [1, 2]),\\n                                ('t_one_hot', OneHotEncoder(drop='first'),\\n                                 [0])])</td>\n",
              "      <td>0.614157</td>\n",
              "      <td>Euclidean</td>\n",
              "    </tr>\n",
              "    <tr>\n",
              "      <th>209</th>\n",
              "      <td>18</td>\n",
              "      <td>2</td>\n",
              "      <td>ColumnTransformer(remainder='passthrough', sparse_threshold=0,\\n                  transformers=[('t_scaler_mm_1', MinMaxScaler(), [1]),\\n                                ('t_scaler_mm_2',\\n                                 MinMaxScaler(feature_range=(-0.5, 0.5)), [2]),\\n                                ('t_one_hot', OneHotEncoder(drop='first'),\\n                                 [0, 3])])</td>\n",
              "      <td>0.677356</td>\n",
              "      <td>Euclidean</td>\n",
              "    </tr>\n",
              "    <tr>\n",
              "      <th>210</th>\n",
              "      <td>18</td>\n",
              "      <td>2</td>\n",
              "      <td>ColumnTransformer(remainder='passthrough', sparse_threshold=0,\\n                  transformers=[('t_scaler_mm_1', MinMaxScaler(), [1]),\\n                                ('t_scaler_mm_2',\\n                                 MinMaxScaler(feature_range=(-0.5, 0.5)), [2]),\\n                                ('t_one_hot', OneHotEncoder(drop='first'),\\n                                 [0])])</td>\n",
              "      <td>0.677948</td>\n",
              "      <td>Euclidean</td>\n",
              "    </tr>\n",
              "    <tr>\n",
              "      <th>211</th>\n",
              "      <td>18</td>\n",
              "      <td>2</td>\n",
              "      <td>ColumnTransformer(remainder='passthrough', sparse_threshold=0,\\n                  transformers=[('t_scaler_mm_1', MinMaxScaler(), [1, 2]),\\n                                ('t_one_hot', OneHotEncoder(drop='first'),\\n                                 [0])])</td>\n",
              "      <td>0.677948</td>\n",
              "      <td>Euclidean</td>\n",
              "    </tr>\n",
              "    <tr>\n",
              "      <th>212</th>\n",
              "      <td>18</td>\n",
              "      <td>5</td>\n",
              "      <td>ColumnTransformer(remainder='passthrough', sparse_threshold=0,\\n                  transformers=[('t_scaler_robust',\\n                                 RobustScaler(quantile_range=(25, 75)),\\n                                 [1, 2]),\\n                                ('t_one_hot', OneHotEncoder(drop='first'),\\n                                 [0])])</td>\n",
              "      <td>0.584912</td>\n",
              "      <td>Minkowski</td>\n",
              "    </tr>\n",
              "    <tr>\n",
              "      <th>213</th>\n",
              "      <td>18</td>\n",
              "      <td>5</td>\n",
              "      <td>ColumnTransformer(remainder='passthrough', sparse_threshold=0,\\n                  transformers=[('t_scaler_mm_1', MinMaxScaler(), [1]),\\n                                ('t_scaler_mm_2',\\n                                 MinMaxScaler(feature_range=(-0.5, 0.5)), [2]),\\n                                ('t_one_hot', OneHotEncoder(drop='first'),\\n                                 [0, 3])])</td>\n",
              "      <td>0.673200</td>\n",
              "      <td>Minkowski</td>\n",
              "    </tr>\n",
              "    <tr>\n",
              "      <th>214</th>\n",
              "      <td>18</td>\n",
              "      <td>5</td>\n",
              "      <td>ColumnTransformer(remainder='passthrough', sparse_threshold=0,\\n                  transformers=[('t_scaler_mm_1', MinMaxScaler(), [1]),\\n                                ('t_scaler_mm_2',\\n                                 MinMaxScaler(feature_range=(-0.5, 0.5)), [2]),\\n                                ('t_one_hot', OneHotEncoder(drop='first'),\\n                                 [0])])</td>\n",
              "      <td>0.673788</td>\n",
              "      <td>Minkowski</td>\n",
              "    </tr>\n",
              "    <tr>\n",
              "      <th>215</th>\n",
              "      <td>18</td>\n",
              "      <td>5</td>\n",
              "      <td>ColumnTransformer(remainder='passthrough', sparse_threshold=0,\\n                  transformers=[('t_scaler_mm_1', MinMaxScaler(), [1, 2]),\\n                                ('t_one_hot', OneHotEncoder(drop='first'),\\n                                 [0])])</td>\n",
              "      <td>0.673788</td>\n",
              "      <td>Minkowski</td>\n",
              "    </tr>\n",
              "    <tr>\n",
              "      <th>216</th>\n",
              "      <td>19</td>\n",
              "      <td>1</td>\n",
              "      <td>ColumnTransformer(remainder='passthrough', sparse_threshold=0,\\n                  transformers=[('t_scaler_robust',\\n                                 RobustScaler(quantile_range=(25, 75)),\\n                                 [1, 2]),\\n                                ('t_one_hot', OneHotEncoder(drop='first'),\\n                                 [0])])</td>\n",
              "      <td>0.641011</td>\n",
              "      <td>Manhattan</td>\n",
              "    </tr>\n",
              "    <tr>\n",
              "      <th>217</th>\n",
              "      <td>19</td>\n",
              "      <td>1</td>\n",
              "      <td>ColumnTransformer(remainder='passthrough', sparse_threshold=0,\\n                  transformers=[('t_scaler_mm_1', MinMaxScaler(), [1]),\\n                                ('t_scaler_mm_2',\\n                                 MinMaxScaler(feature_range=(-0.5, 0.5)), [2]),\\n                                ('t_one_hot', OneHotEncoder(drop='first'),\\n                                 [0, 3])])</td>\n",
              "      <td>0.688109</td>\n",
              "      <td>Manhattan</td>\n",
              "    </tr>\n",
              "    <tr>\n",
              "      <th>218</th>\n",
              "      <td>19</td>\n",
              "      <td>1</td>\n",
              "      <td>ColumnTransformer(remainder='passthrough', sparse_threshold=0,\\n                  transformers=[('t_scaler_mm_1', MinMaxScaler(), [1]),\\n                                ('t_scaler_mm_2',\\n                                 MinMaxScaler(feature_range=(-0.5, 0.5)), [2]),\\n                                ('t_one_hot', OneHotEncoder(drop='first'),\\n                                 [0])])</td>\n",
              "      <td>0.688708</td>\n",
              "      <td>Manhattan</td>\n",
              "    </tr>\n",
              "    <tr>\n",
              "      <th>219</th>\n",
              "      <td>19</td>\n",
              "      <td>1</td>\n",
              "      <td>ColumnTransformer(remainder='passthrough', sparse_threshold=0,\\n                  transformers=[('t_scaler_mm_1', MinMaxScaler(), [1, 2]),\\n                                ('t_one_hot', OneHotEncoder(drop='first'),\\n                                 [0])])</td>\n",
              "      <td>0.688708</td>\n",
              "      <td>Manhattan</td>\n",
              "    </tr>\n",
              "    <tr>\n",
              "      <th>220</th>\n",
              "      <td>19</td>\n",
              "      <td>2</td>\n",
              "      <td>ColumnTransformer(remainder='passthrough', sparse_threshold=0,\\n                  transformers=[('t_scaler_robust',\\n                                 RobustScaler(quantile_range=(25, 75)),\\n                                 [1, 2]),\\n                                ('t_one_hot', OneHotEncoder(drop='first'),\\n                                 [0])])</td>\n",
              "      <td>0.612988</td>\n",
              "      <td>Euclidean</td>\n",
              "    </tr>\n",
              "    <tr>\n",
              "      <th>221</th>\n",
              "      <td>19</td>\n",
              "      <td>2</td>\n",
              "      <td>ColumnTransformer(remainder='passthrough', sparse_threshold=0,\\n                  transformers=[('t_scaler_mm_1', MinMaxScaler(), [1]),\\n                                ('t_scaler_mm_2',\\n                                 MinMaxScaler(feature_range=(-0.5, 0.5)), [2]),\\n                                ('t_one_hot', OneHotEncoder(drop='first'),\\n                                 [0, 3])])</td>\n",
              "      <td>0.676771</td>\n",
              "      <td>Euclidean</td>\n",
              "    </tr>\n",
              "    <tr>\n",
              "      <th>222</th>\n",
              "      <td>19</td>\n",
              "      <td>2</td>\n",
              "      <td>ColumnTransformer(remainder='passthrough', sparse_threshold=0,\\n                  transformers=[('t_scaler_mm_1', MinMaxScaler(), [1]),\\n                                ('t_scaler_mm_2',\\n                                 MinMaxScaler(feature_range=(-0.5, 0.5)), [2]),\\n                                ('t_one_hot', OneHotEncoder(drop='first'),\\n                                 [0])])</td>\n",
              "      <td>0.677965</td>\n",
              "      <td>Euclidean</td>\n",
              "    </tr>\n",
              "    <tr>\n",
              "      <th>223</th>\n",
              "      <td>19</td>\n",
              "      <td>2</td>\n",
              "      <td>ColumnTransformer(remainder='passthrough', sparse_threshold=0,\\n                  transformers=[('t_scaler_mm_1', MinMaxScaler(), [1, 2]),\\n                                ('t_one_hot', OneHotEncoder(drop='first'),\\n                                 [0])])</td>\n",
              "      <td>0.677370</td>\n",
              "      <td>Euclidean</td>\n",
              "    </tr>\n",
              "    <tr>\n",
              "      <th>224</th>\n",
              "      <td>19</td>\n",
              "      <td>5</td>\n",
              "      <td>ColumnTransformer(remainder='passthrough', sparse_threshold=0,\\n                  transformers=[('t_scaler_robust',\\n                                 RobustScaler(quantile_range=(25, 75)),\\n                                 [1, 2]),\\n                                ('t_one_hot', OneHotEncoder(drop='first'),\\n                                 [0])])</td>\n",
              "      <td>0.587903</td>\n",
              "      <td>Minkowski</td>\n",
              "    </tr>\n",
              "    <tr>\n",
              "      <th>225</th>\n",
              "      <td>19</td>\n",
              "      <td>5</td>\n",
              "      <td>ColumnTransformer(remainder='passthrough', sparse_threshold=0,\\n                  transformers=[('t_scaler_mm_1', MinMaxScaler(), [1]),\\n                                ('t_scaler_mm_2',\\n                                 MinMaxScaler(feature_range=(-0.5, 0.5)), [2]),\\n                                ('t_one_hot', OneHotEncoder(drop='first'),\\n                                 [0, 3])])</td>\n",
              "      <td>0.668420</td>\n",
              "      <td>Minkowski</td>\n",
              "    </tr>\n",
              "    <tr>\n",
              "      <th>226</th>\n",
              "      <td>19</td>\n",
              "      <td>5</td>\n",
              "      <td>ColumnTransformer(remainder='passthrough', sparse_threshold=0,\\n                  transformers=[('t_scaler_mm_1', MinMaxScaler(), [1]),\\n                                ('t_scaler_mm_2',\\n                                 MinMaxScaler(feature_range=(-0.5, 0.5)), [2]),\\n                                ('t_one_hot', OneHotEncoder(drop='first'),\\n                                 [0])])</td>\n",
              "      <td>0.669604</td>\n",
              "      <td>Minkowski</td>\n",
              "    </tr>\n",
              "    <tr>\n",
              "      <th>227</th>\n",
              "      <td>19</td>\n",
              "      <td>5</td>\n",
              "      <td>ColumnTransformer(remainder='passthrough', sparse_threshold=0,\\n                  transformers=[('t_scaler_mm_1', MinMaxScaler(), [1, 2]),\\n                                ('t_one_hot', OneHotEncoder(drop='first'),\\n                                 [0])])</td>\n",
              "      <td>0.669604</td>\n",
              "      <td>Minkowski</td>\n",
              "    </tr>\n",
              "  </tbody>\n",
              "</table>\n",
              "</div>"
            ],
            "text/plain": [
              "     knn__n_neighbors  knn__p  \\\n",
              "0                   1       1   \n",
              "1                   1       1   \n",
              "2                   1       1   \n",
              "3                   1       1   \n",
              "4                   1       2   \n",
              "5                   1       2   \n",
              "6                   1       2   \n",
              "7                   1       2   \n",
              "8                   1       5   \n",
              "9                   1       5   \n",
              "10                  1       5   \n",
              "11                  1       5   \n",
              "12                  2       1   \n",
              "13                  2       1   \n",
              "14                  2       1   \n",
              "15                  2       1   \n",
              "16                  2       2   \n",
              "17                  2       2   \n",
              "18                  2       2   \n",
              "19                  2       2   \n",
              "20                  2       5   \n",
              "21                  2       5   \n",
              "22                  2       5   \n",
              "23                  2       5   \n",
              "24                  3       1   \n",
              "25                  3       1   \n",
              "26                  3       1   \n",
              "27                  3       1   \n",
              "28                  3       2   \n",
              "29                  3       2   \n",
              "30                  3       2   \n",
              "31                  3       2   \n",
              "32                  3       5   \n",
              "33                  3       5   \n",
              "34                  3       5   \n",
              "35                  3       5   \n",
              "36                  4       1   \n",
              "37                  4       1   \n",
              "38                  4       1   \n",
              "39                  4       1   \n",
              "40                  4       2   \n",
              "41                  4       2   \n",
              "42                  4       2   \n",
              "43                  4       2   \n",
              "44                  4       5   \n",
              "45                  4       5   \n",
              "46                  4       5   \n",
              "47                  4       5   \n",
              "48                  5       1   \n",
              "49                  5       1   \n",
              "50                  5       1   \n",
              "51                  5       1   \n",
              "52                  5       2   \n",
              "53                  5       2   \n",
              "54                  5       2   \n",
              "55                  5       2   \n",
              "56                  5       5   \n",
              "57                  5       5   \n",
              "58                  5       5   \n",
              "59                  5       5   \n",
              "60                  6       1   \n",
              "61                  6       1   \n",
              "62                  6       1   \n",
              "63                  6       1   \n",
              "64                  6       2   \n",
              "65                  6       2   \n",
              "66                  6       2   \n",
              "67                  6       2   \n",
              "68                  6       5   \n",
              "69                  6       5   \n",
              "70                  6       5   \n",
              "71                  6       5   \n",
              "72                  7       1   \n",
              "73                  7       1   \n",
              "74                  7       1   \n",
              "75                  7       1   \n",
              "76                  7       2   \n",
              "77                  7       2   \n",
              "78                  7       2   \n",
              "79                  7       2   \n",
              "80                  7       5   \n",
              "81                  7       5   \n",
              "82                  7       5   \n",
              "83                  7       5   \n",
              "84                  8       1   \n",
              "85                  8       1   \n",
              "86                  8       1   \n",
              "87                  8       1   \n",
              "88                  8       2   \n",
              "89                  8       2   \n",
              "90                  8       2   \n",
              "91                  8       2   \n",
              "92                  8       5   \n",
              "93                  8       5   \n",
              "94                  8       5   \n",
              "95                  8       5   \n",
              "96                  9       1   \n",
              "97                  9       1   \n",
              "98                  9       1   \n",
              "99                  9       1   \n",
              "100                 9       2   \n",
              "101                 9       2   \n",
              "102                 9       2   \n",
              "103                 9       2   \n",
              "104                 9       5   \n",
              "105                 9       5   \n",
              "106                 9       5   \n",
              "107                 9       5   \n",
              "108                10       1   \n",
              "109                10       1   \n",
              "110                10       1   \n",
              "111                10       1   \n",
              "112                10       2   \n",
              "113                10       2   \n",
              "114                10       2   \n",
              "115                10       2   \n",
              "116                10       5   \n",
              "117                10       5   \n",
              "118                10       5   \n",
              "119                10       5   \n",
              "120                11       1   \n",
              "121                11       1   \n",
              "122                11       1   \n",
              "123                11       1   \n",
              "124                11       2   \n",
              "125                11       2   \n",
              "126                11       2   \n",
              "127                11       2   \n",
              "128                11       5   \n",
              "129                11       5   \n",
              "130                11       5   \n",
              "131                11       5   \n",
              "132                12       1   \n",
              "133                12       1   \n",
              "134                12       1   \n",
              "135                12       1   \n",
              "136                12       2   \n",
              "137                12       2   \n",
              "138                12       2   \n",
              "139                12       2   \n",
              "140                12       5   \n",
              "141                12       5   \n",
              "142                12       5   \n",
              "143                12       5   \n",
              "144                13       1   \n",
              "145                13       1   \n",
              "146                13       1   \n",
              "147                13       1   \n",
              "148                13       2   \n",
              "149                13       2   \n",
              "150                13       2   \n",
              "151                13       2   \n",
              "152                13       5   \n",
              "153                13       5   \n",
              "154                13       5   \n",
              "155                13       5   \n",
              "156                14       1   \n",
              "157                14       1   \n",
              "158                14       1   \n",
              "159                14       1   \n",
              "160                14       2   \n",
              "161                14       2   \n",
              "162                14       2   \n",
              "163                14       2   \n",
              "164                14       5   \n",
              "165                14       5   \n",
              "166                14       5   \n",
              "167                14       5   \n",
              "168                15       1   \n",
              "169                15       1   \n",
              "170                15       1   \n",
              "171                15       1   \n",
              "172                15       2   \n",
              "173                15       2   \n",
              "174                15       2   \n",
              "175                15       2   \n",
              "176                15       5   \n",
              "177                15       5   \n",
              "178                15       5   \n",
              "179                15       5   \n",
              "180                16       1   \n",
              "181                16       1   \n",
              "182                16       1   \n",
              "183                16       1   \n",
              "184                16       2   \n",
              "185                16       2   \n",
              "186                16       2   \n",
              "187                16       2   \n",
              "188                16       5   \n",
              "189                16       5   \n",
              "190                16       5   \n",
              "191                16       5   \n",
              "192                17       1   \n",
              "193                17       1   \n",
              "194                17       1   \n",
              "195                17       1   \n",
              "196                17       2   \n",
              "197                17       2   \n",
              "198                17       2   \n",
              "199                17       2   \n",
              "200                17       5   \n",
              "201                17       5   \n",
              "202                17       5   \n",
              "203                17       5   \n",
              "204                18       1   \n",
              "205                18       1   \n",
              "206                18       1   \n",
              "207                18       1   \n",
              "208                18       2   \n",
              "209                18       2   \n",
              "210                18       2   \n",
              "211                18       2   \n",
              "212                18       5   \n",
              "213                18       5   \n",
              "214                18       5   \n",
              "215                18       5   \n",
              "216                19       1   \n",
              "217                19       1   \n",
              "218                19       1   \n",
              "219                19       1   \n",
              "220                19       2   \n",
              "221                19       2   \n",
              "222                19       2   \n",
              "223                19       2   \n",
              "224                19       5   \n",
              "225                19       5   \n",
              "226                19       5   \n",
              "227                19       5   \n",
              "\n",
              "                                                                                                                                                                                                                                                                                                                                                                                                    prep  \\\n",
              "0                                           ColumnTransformer(remainder='passthrough', sparse_threshold=0,\\n                  transformers=[('t_scaler_robust',\\n                                 RobustScaler(quantile_range=(25, 75)),\\n                                 [1, 2]),\\n                                ('t_one_hot', OneHotEncoder(drop='first'),\\n                                 [0])])   \n",
              "1    ColumnTransformer(remainder='passthrough', sparse_threshold=0,\\n                  transformers=[('t_scaler_mm_1', MinMaxScaler(), [1]),\\n                                ('t_scaler_mm_2',\\n                                 MinMaxScaler(feature_range=(-0.5, 0.5)), [2]),\\n                                ('t_one_hot', OneHotEncoder(drop='first'),\\n                                 [0, 3])])   \n",
              "2       ColumnTransformer(remainder='passthrough', sparse_threshold=0,\\n                  transformers=[('t_scaler_mm_1', MinMaxScaler(), [1]),\\n                                ('t_scaler_mm_2',\\n                                 MinMaxScaler(feature_range=(-0.5, 0.5)), [2]),\\n                                ('t_one_hot', OneHotEncoder(drop='first'),\\n                                 [0])])   \n",
              "3                                                                                                                                        ColumnTransformer(remainder='passthrough', sparse_threshold=0,\\n                  transformers=[('t_scaler_mm_1', MinMaxScaler(), [1, 2]),\\n                                ('t_one_hot', OneHotEncoder(drop='first'),\\n                                 [0])])   \n",
              "4                                           ColumnTransformer(remainder='passthrough', sparse_threshold=0,\\n                  transformers=[('t_scaler_robust',\\n                                 RobustScaler(quantile_range=(25, 75)),\\n                                 [1, 2]),\\n                                ('t_one_hot', OneHotEncoder(drop='first'),\\n                                 [0])])   \n",
              "5    ColumnTransformer(remainder='passthrough', sparse_threshold=0,\\n                  transformers=[('t_scaler_mm_1', MinMaxScaler(), [1]),\\n                                ('t_scaler_mm_2',\\n                                 MinMaxScaler(feature_range=(-0.5, 0.5)), [2]),\\n                                ('t_one_hot', OneHotEncoder(drop='first'),\\n                                 [0, 3])])   \n",
              "6       ColumnTransformer(remainder='passthrough', sparse_threshold=0,\\n                  transformers=[('t_scaler_mm_1', MinMaxScaler(), [1]),\\n                                ('t_scaler_mm_2',\\n                                 MinMaxScaler(feature_range=(-0.5, 0.5)), [2]),\\n                                ('t_one_hot', OneHotEncoder(drop='first'),\\n                                 [0])])   \n",
              "7                                                                                                                                        ColumnTransformer(remainder='passthrough', sparse_threshold=0,\\n                  transformers=[('t_scaler_mm_1', MinMaxScaler(), [1, 2]),\\n                                ('t_one_hot', OneHotEncoder(drop='first'),\\n                                 [0])])   \n",
              "8                                           ColumnTransformer(remainder='passthrough', sparse_threshold=0,\\n                  transformers=[('t_scaler_robust',\\n                                 RobustScaler(quantile_range=(25, 75)),\\n                                 [1, 2]),\\n                                ('t_one_hot', OneHotEncoder(drop='first'),\\n                                 [0])])   \n",
              "9    ColumnTransformer(remainder='passthrough', sparse_threshold=0,\\n                  transformers=[('t_scaler_mm_1', MinMaxScaler(), [1]),\\n                                ('t_scaler_mm_2',\\n                                 MinMaxScaler(feature_range=(-0.5, 0.5)), [2]),\\n                                ('t_one_hot', OneHotEncoder(drop='first'),\\n                                 [0, 3])])   \n",
              "10      ColumnTransformer(remainder='passthrough', sparse_threshold=0,\\n                  transformers=[('t_scaler_mm_1', MinMaxScaler(), [1]),\\n                                ('t_scaler_mm_2',\\n                                 MinMaxScaler(feature_range=(-0.5, 0.5)), [2]),\\n                                ('t_one_hot', OneHotEncoder(drop='first'),\\n                                 [0])])   \n",
              "11                                                                                                                                       ColumnTransformer(remainder='passthrough', sparse_threshold=0,\\n                  transformers=[('t_scaler_mm_1', MinMaxScaler(), [1, 2]),\\n                                ('t_one_hot', OneHotEncoder(drop='first'),\\n                                 [0])])   \n",
              "12                                          ColumnTransformer(remainder='passthrough', sparse_threshold=0,\\n                  transformers=[('t_scaler_robust',\\n                                 RobustScaler(quantile_range=(25, 75)),\\n                                 [1, 2]),\\n                                ('t_one_hot', OneHotEncoder(drop='first'),\\n                                 [0])])   \n",
              "13   ColumnTransformer(remainder='passthrough', sparse_threshold=0,\\n                  transformers=[('t_scaler_mm_1', MinMaxScaler(), [1]),\\n                                ('t_scaler_mm_2',\\n                                 MinMaxScaler(feature_range=(-0.5, 0.5)), [2]),\\n                                ('t_one_hot', OneHotEncoder(drop='first'),\\n                                 [0, 3])])   \n",
              "14      ColumnTransformer(remainder='passthrough', sparse_threshold=0,\\n                  transformers=[('t_scaler_mm_1', MinMaxScaler(), [1]),\\n                                ('t_scaler_mm_2',\\n                                 MinMaxScaler(feature_range=(-0.5, 0.5)), [2]),\\n                                ('t_one_hot', OneHotEncoder(drop='first'),\\n                                 [0])])   \n",
              "15                                                                                                                                       ColumnTransformer(remainder='passthrough', sparse_threshold=0,\\n                  transformers=[('t_scaler_mm_1', MinMaxScaler(), [1, 2]),\\n                                ('t_one_hot', OneHotEncoder(drop='first'),\\n                                 [0])])   \n",
              "16                                          ColumnTransformer(remainder='passthrough', sparse_threshold=0,\\n                  transformers=[('t_scaler_robust',\\n                                 RobustScaler(quantile_range=(25, 75)),\\n                                 [1, 2]),\\n                                ('t_one_hot', OneHotEncoder(drop='first'),\\n                                 [0])])   \n",
              "17   ColumnTransformer(remainder='passthrough', sparse_threshold=0,\\n                  transformers=[('t_scaler_mm_1', MinMaxScaler(), [1]),\\n                                ('t_scaler_mm_2',\\n                                 MinMaxScaler(feature_range=(-0.5, 0.5)), [2]),\\n                                ('t_one_hot', OneHotEncoder(drop='first'),\\n                                 [0, 3])])   \n",
              "18      ColumnTransformer(remainder='passthrough', sparse_threshold=0,\\n                  transformers=[('t_scaler_mm_1', MinMaxScaler(), [1]),\\n                                ('t_scaler_mm_2',\\n                                 MinMaxScaler(feature_range=(-0.5, 0.5)), [2]),\\n                                ('t_one_hot', OneHotEncoder(drop='first'),\\n                                 [0])])   \n",
              "19                                                                                                                                       ColumnTransformer(remainder='passthrough', sparse_threshold=0,\\n                  transformers=[('t_scaler_mm_1', MinMaxScaler(), [1, 2]),\\n                                ('t_one_hot', OneHotEncoder(drop='first'),\\n                                 [0])])   \n",
              "20                                          ColumnTransformer(remainder='passthrough', sparse_threshold=0,\\n                  transformers=[('t_scaler_robust',\\n                                 RobustScaler(quantile_range=(25, 75)),\\n                                 [1, 2]),\\n                                ('t_one_hot', OneHotEncoder(drop='first'),\\n                                 [0])])   \n",
              "21   ColumnTransformer(remainder='passthrough', sparse_threshold=0,\\n                  transformers=[('t_scaler_mm_1', MinMaxScaler(), [1]),\\n                                ('t_scaler_mm_2',\\n                                 MinMaxScaler(feature_range=(-0.5, 0.5)), [2]),\\n                                ('t_one_hot', OneHotEncoder(drop='first'),\\n                                 [0, 3])])   \n",
              "22      ColumnTransformer(remainder='passthrough', sparse_threshold=0,\\n                  transformers=[('t_scaler_mm_1', MinMaxScaler(), [1]),\\n                                ('t_scaler_mm_2',\\n                                 MinMaxScaler(feature_range=(-0.5, 0.5)), [2]),\\n                                ('t_one_hot', OneHotEncoder(drop='first'),\\n                                 [0])])   \n",
              "23                                                                                                                                       ColumnTransformer(remainder='passthrough', sparse_threshold=0,\\n                  transformers=[('t_scaler_mm_1', MinMaxScaler(), [1, 2]),\\n                                ('t_one_hot', OneHotEncoder(drop='first'),\\n                                 [0])])   \n",
              "24                                          ColumnTransformer(remainder='passthrough', sparse_threshold=0,\\n                  transformers=[('t_scaler_robust',\\n                                 RobustScaler(quantile_range=(25, 75)),\\n                                 [1, 2]),\\n                                ('t_one_hot', OneHotEncoder(drop='first'),\\n                                 [0])])   \n",
              "25   ColumnTransformer(remainder='passthrough', sparse_threshold=0,\\n                  transformers=[('t_scaler_mm_1', MinMaxScaler(), [1]),\\n                                ('t_scaler_mm_2',\\n                                 MinMaxScaler(feature_range=(-0.5, 0.5)), [2]),\\n                                ('t_one_hot', OneHotEncoder(drop='first'),\\n                                 [0, 3])])   \n",
              "26      ColumnTransformer(remainder='passthrough', sparse_threshold=0,\\n                  transformers=[('t_scaler_mm_1', MinMaxScaler(), [1]),\\n                                ('t_scaler_mm_2',\\n                                 MinMaxScaler(feature_range=(-0.5, 0.5)), [2]),\\n                                ('t_one_hot', OneHotEncoder(drop='first'),\\n                                 [0])])   \n",
              "27                                                                                                                                       ColumnTransformer(remainder='passthrough', sparse_threshold=0,\\n                  transformers=[('t_scaler_mm_1', MinMaxScaler(), [1, 2]),\\n                                ('t_one_hot', OneHotEncoder(drop='first'),\\n                                 [0])])   \n",
              "28                                          ColumnTransformer(remainder='passthrough', sparse_threshold=0,\\n                  transformers=[('t_scaler_robust',\\n                                 RobustScaler(quantile_range=(25, 75)),\\n                                 [1, 2]),\\n                                ('t_one_hot', OneHotEncoder(drop='first'),\\n                                 [0])])   \n",
              "29   ColumnTransformer(remainder='passthrough', sparse_threshold=0,\\n                  transformers=[('t_scaler_mm_1', MinMaxScaler(), [1]),\\n                                ('t_scaler_mm_2',\\n                                 MinMaxScaler(feature_range=(-0.5, 0.5)), [2]),\\n                                ('t_one_hot', OneHotEncoder(drop='first'),\\n                                 [0, 3])])   \n",
              "30      ColumnTransformer(remainder='passthrough', sparse_threshold=0,\\n                  transformers=[('t_scaler_mm_1', MinMaxScaler(), [1]),\\n                                ('t_scaler_mm_2',\\n                                 MinMaxScaler(feature_range=(-0.5, 0.5)), [2]),\\n                                ('t_one_hot', OneHotEncoder(drop='first'),\\n                                 [0])])   \n",
              "31                                                                                                                                       ColumnTransformer(remainder='passthrough', sparse_threshold=0,\\n                  transformers=[('t_scaler_mm_1', MinMaxScaler(), [1, 2]),\\n                                ('t_one_hot', OneHotEncoder(drop='first'),\\n                                 [0])])   \n",
              "32                                          ColumnTransformer(remainder='passthrough', sparse_threshold=0,\\n                  transformers=[('t_scaler_robust',\\n                                 RobustScaler(quantile_range=(25, 75)),\\n                                 [1, 2]),\\n                                ('t_one_hot', OneHotEncoder(drop='first'),\\n                                 [0])])   \n",
              "33   ColumnTransformer(remainder='passthrough', sparse_threshold=0,\\n                  transformers=[('t_scaler_mm_1', MinMaxScaler(), [1]),\\n                                ('t_scaler_mm_2',\\n                                 MinMaxScaler(feature_range=(-0.5, 0.5)), [2]),\\n                                ('t_one_hot', OneHotEncoder(drop='first'),\\n                                 [0, 3])])   \n",
              "34      ColumnTransformer(remainder='passthrough', sparse_threshold=0,\\n                  transformers=[('t_scaler_mm_1', MinMaxScaler(), [1]),\\n                                ('t_scaler_mm_2',\\n                                 MinMaxScaler(feature_range=(-0.5, 0.5)), [2]),\\n                                ('t_one_hot', OneHotEncoder(drop='first'),\\n                                 [0])])   \n",
              "35                                                                                                                                       ColumnTransformer(remainder='passthrough', sparse_threshold=0,\\n                  transformers=[('t_scaler_mm_1', MinMaxScaler(), [1, 2]),\\n                                ('t_one_hot', OneHotEncoder(drop='first'),\\n                                 [0])])   \n",
              "36                                          ColumnTransformer(remainder='passthrough', sparse_threshold=0,\\n                  transformers=[('t_scaler_robust',\\n                                 RobustScaler(quantile_range=(25, 75)),\\n                                 [1, 2]),\\n                                ('t_one_hot', OneHotEncoder(drop='first'),\\n                                 [0])])   \n",
              "37   ColumnTransformer(remainder='passthrough', sparse_threshold=0,\\n                  transformers=[('t_scaler_mm_1', MinMaxScaler(), [1]),\\n                                ('t_scaler_mm_2',\\n                                 MinMaxScaler(feature_range=(-0.5, 0.5)), [2]),\\n                                ('t_one_hot', OneHotEncoder(drop='first'),\\n                                 [0, 3])])   \n",
              "38      ColumnTransformer(remainder='passthrough', sparse_threshold=0,\\n                  transformers=[('t_scaler_mm_1', MinMaxScaler(), [1]),\\n                                ('t_scaler_mm_2',\\n                                 MinMaxScaler(feature_range=(-0.5, 0.5)), [2]),\\n                                ('t_one_hot', OneHotEncoder(drop='first'),\\n                                 [0])])   \n",
              "39                                                                                                                                       ColumnTransformer(remainder='passthrough', sparse_threshold=0,\\n                  transformers=[('t_scaler_mm_1', MinMaxScaler(), [1, 2]),\\n                                ('t_one_hot', OneHotEncoder(drop='first'),\\n                                 [0])])   \n",
              "40                                          ColumnTransformer(remainder='passthrough', sparse_threshold=0,\\n                  transformers=[('t_scaler_robust',\\n                                 RobustScaler(quantile_range=(25, 75)),\\n                                 [1, 2]),\\n                                ('t_one_hot', OneHotEncoder(drop='first'),\\n                                 [0])])   \n",
              "41   ColumnTransformer(remainder='passthrough', sparse_threshold=0,\\n                  transformers=[('t_scaler_mm_1', MinMaxScaler(), [1]),\\n                                ('t_scaler_mm_2',\\n                                 MinMaxScaler(feature_range=(-0.5, 0.5)), [2]),\\n                                ('t_one_hot', OneHotEncoder(drop='first'),\\n                                 [0, 3])])   \n",
              "42      ColumnTransformer(remainder='passthrough', sparse_threshold=0,\\n                  transformers=[('t_scaler_mm_1', MinMaxScaler(), [1]),\\n                                ('t_scaler_mm_2',\\n                                 MinMaxScaler(feature_range=(-0.5, 0.5)), [2]),\\n                                ('t_one_hot', OneHotEncoder(drop='first'),\\n                                 [0])])   \n",
              "43                                                                                                                                       ColumnTransformer(remainder='passthrough', sparse_threshold=0,\\n                  transformers=[('t_scaler_mm_1', MinMaxScaler(), [1, 2]),\\n                                ('t_one_hot', OneHotEncoder(drop='first'),\\n                                 [0])])   \n",
              "44                                          ColumnTransformer(remainder='passthrough', sparse_threshold=0,\\n                  transformers=[('t_scaler_robust',\\n                                 RobustScaler(quantile_range=(25, 75)),\\n                                 [1, 2]),\\n                                ('t_one_hot', OneHotEncoder(drop='first'),\\n                                 [0])])   \n",
              "45   ColumnTransformer(remainder='passthrough', sparse_threshold=0,\\n                  transformers=[('t_scaler_mm_1', MinMaxScaler(), [1]),\\n                                ('t_scaler_mm_2',\\n                                 MinMaxScaler(feature_range=(-0.5, 0.5)), [2]),\\n                                ('t_one_hot', OneHotEncoder(drop='first'),\\n                                 [0, 3])])   \n",
              "46      ColumnTransformer(remainder='passthrough', sparse_threshold=0,\\n                  transformers=[('t_scaler_mm_1', MinMaxScaler(), [1]),\\n                                ('t_scaler_mm_2',\\n                                 MinMaxScaler(feature_range=(-0.5, 0.5)), [2]),\\n                                ('t_one_hot', OneHotEncoder(drop='first'),\\n                                 [0])])   \n",
              "47                                                                                                                                       ColumnTransformer(remainder='passthrough', sparse_threshold=0,\\n                  transformers=[('t_scaler_mm_1', MinMaxScaler(), [1, 2]),\\n                                ('t_one_hot', OneHotEncoder(drop='first'),\\n                                 [0])])   \n",
              "48                                          ColumnTransformer(remainder='passthrough', sparse_threshold=0,\\n                  transformers=[('t_scaler_robust',\\n                                 RobustScaler(quantile_range=(25, 75)),\\n                                 [1, 2]),\\n                                ('t_one_hot', OneHotEncoder(drop='first'),\\n                                 [0])])   \n",
              "49   ColumnTransformer(remainder='passthrough', sparse_threshold=0,\\n                  transformers=[('t_scaler_mm_1', MinMaxScaler(), [1]),\\n                                ('t_scaler_mm_2',\\n                                 MinMaxScaler(feature_range=(-0.5, 0.5)), [2]),\\n                                ('t_one_hot', OneHotEncoder(drop='first'),\\n                                 [0, 3])])   \n",
              "50      ColumnTransformer(remainder='passthrough', sparse_threshold=0,\\n                  transformers=[('t_scaler_mm_1', MinMaxScaler(), [1]),\\n                                ('t_scaler_mm_2',\\n                                 MinMaxScaler(feature_range=(-0.5, 0.5)), [2]),\\n                                ('t_one_hot', OneHotEncoder(drop='first'),\\n                                 [0])])   \n",
              "51                                                                                                                                       ColumnTransformer(remainder='passthrough', sparse_threshold=0,\\n                  transformers=[('t_scaler_mm_1', MinMaxScaler(), [1, 2]),\\n                                ('t_one_hot', OneHotEncoder(drop='first'),\\n                                 [0])])   \n",
              "52                                          ColumnTransformer(remainder='passthrough', sparse_threshold=0,\\n                  transformers=[('t_scaler_robust',\\n                                 RobustScaler(quantile_range=(25, 75)),\\n                                 [1, 2]),\\n                                ('t_one_hot', OneHotEncoder(drop='first'),\\n                                 [0])])   \n",
              "53   ColumnTransformer(remainder='passthrough', sparse_threshold=0,\\n                  transformers=[('t_scaler_mm_1', MinMaxScaler(), [1]),\\n                                ('t_scaler_mm_2',\\n                                 MinMaxScaler(feature_range=(-0.5, 0.5)), [2]),\\n                                ('t_one_hot', OneHotEncoder(drop='first'),\\n                                 [0, 3])])   \n",
              "54      ColumnTransformer(remainder='passthrough', sparse_threshold=0,\\n                  transformers=[('t_scaler_mm_1', MinMaxScaler(), [1]),\\n                                ('t_scaler_mm_2',\\n                                 MinMaxScaler(feature_range=(-0.5, 0.5)), [2]),\\n                                ('t_one_hot', OneHotEncoder(drop='first'),\\n                                 [0])])   \n",
              "55                                                                                                                                       ColumnTransformer(remainder='passthrough', sparse_threshold=0,\\n                  transformers=[('t_scaler_mm_1', MinMaxScaler(), [1, 2]),\\n                                ('t_one_hot', OneHotEncoder(drop='first'),\\n                                 [0])])   \n",
              "56                                          ColumnTransformer(remainder='passthrough', sparse_threshold=0,\\n                  transformers=[('t_scaler_robust',\\n                                 RobustScaler(quantile_range=(25, 75)),\\n                                 [1, 2]),\\n                                ('t_one_hot', OneHotEncoder(drop='first'),\\n                                 [0])])   \n",
              "57   ColumnTransformer(remainder='passthrough', sparse_threshold=0,\\n                  transformers=[('t_scaler_mm_1', MinMaxScaler(), [1]),\\n                                ('t_scaler_mm_2',\\n                                 MinMaxScaler(feature_range=(-0.5, 0.5)), [2]),\\n                                ('t_one_hot', OneHotEncoder(drop='first'),\\n                                 [0, 3])])   \n",
              "58      ColumnTransformer(remainder='passthrough', sparse_threshold=0,\\n                  transformers=[('t_scaler_mm_1', MinMaxScaler(), [1]),\\n                                ('t_scaler_mm_2',\\n                                 MinMaxScaler(feature_range=(-0.5, 0.5)), [2]),\\n                                ('t_one_hot', OneHotEncoder(drop='first'),\\n                                 [0])])   \n",
              "59                                                                                                                                       ColumnTransformer(remainder='passthrough', sparse_threshold=0,\\n                  transformers=[('t_scaler_mm_1', MinMaxScaler(), [1, 2]),\\n                                ('t_one_hot', OneHotEncoder(drop='first'),\\n                                 [0])])   \n",
              "60                                          ColumnTransformer(remainder='passthrough', sparse_threshold=0,\\n                  transformers=[('t_scaler_robust',\\n                                 RobustScaler(quantile_range=(25, 75)),\\n                                 [1, 2]),\\n                                ('t_one_hot', OneHotEncoder(drop='first'),\\n                                 [0])])   \n",
              "61   ColumnTransformer(remainder='passthrough', sparse_threshold=0,\\n                  transformers=[('t_scaler_mm_1', MinMaxScaler(), [1]),\\n                                ('t_scaler_mm_2',\\n                                 MinMaxScaler(feature_range=(-0.5, 0.5)), [2]),\\n                                ('t_one_hot', OneHotEncoder(drop='first'),\\n                                 [0, 3])])   \n",
              "62      ColumnTransformer(remainder='passthrough', sparse_threshold=0,\\n                  transformers=[('t_scaler_mm_1', MinMaxScaler(), [1]),\\n                                ('t_scaler_mm_2',\\n                                 MinMaxScaler(feature_range=(-0.5, 0.5)), [2]),\\n                                ('t_one_hot', OneHotEncoder(drop='first'),\\n                                 [0])])   \n",
              "63                                                                                                                                       ColumnTransformer(remainder='passthrough', sparse_threshold=0,\\n                  transformers=[('t_scaler_mm_1', MinMaxScaler(), [1, 2]),\\n                                ('t_one_hot', OneHotEncoder(drop='first'),\\n                                 [0])])   \n",
              "64                                          ColumnTransformer(remainder='passthrough', sparse_threshold=0,\\n                  transformers=[('t_scaler_robust',\\n                                 RobustScaler(quantile_range=(25, 75)),\\n                                 [1, 2]),\\n                                ('t_one_hot', OneHotEncoder(drop='first'),\\n                                 [0])])   \n",
              "65   ColumnTransformer(remainder='passthrough', sparse_threshold=0,\\n                  transformers=[('t_scaler_mm_1', MinMaxScaler(), [1]),\\n                                ('t_scaler_mm_2',\\n                                 MinMaxScaler(feature_range=(-0.5, 0.5)), [2]),\\n                                ('t_one_hot', OneHotEncoder(drop='first'),\\n                                 [0, 3])])   \n",
              "66      ColumnTransformer(remainder='passthrough', sparse_threshold=0,\\n                  transformers=[('t_scaler_mm_1', MinMaxScaler(), [1]),\\n                                ('t_scaler_mm_2',\\n                                 MinMaxScaler(feature_range=(-0.5, 0.5)), [2]),\\n                                ('t_one_hot', OneHotEncoder(drop='first'),\\n                                 [0])])   \n",
              "67                                                                                                                                       ColumnTransformer(remainder='passthrough', sparse_threshold=0,\\n                  transformers=[('t_scaler_mm_1', MinMaxScaler(), [1, 2]),\\n                                ('t_one_hot', OneHotEncoder(drop='first'),\\n                                 [0])])   \n",
              "68                                          ColumnTransformer(remainder='passthrough', sparse_threshold=0,\\n                  transformers=[('t_scaler_robust',\\n                                 RobustScaler(quantile_range=(25, 75)),\\n                                 [1, 2]),\\n                                ('t_one_hot', OneHotEncoder(drop='first'),\\n                                 [0])])   \n",
              "69   ColumnTransformer(remainder='passthrough', sparse_threshold=0,\\n                  transformers=[('t_scaler_mm_1', MinMaxScaler(), [1]),\\n                                ('t_scaler_mm_2',\\n                                 MinMaxScaler(feature_range=(-0.5, 0.5)), [2]),\\n                                ('t_one_hot', OneHotEncoder(drop='first'),\\n                                 [0, 3])])   \n",
              "70      ColumnTransformer(remainder='passthrough', sparse_threshold=0,\\n                  transformers=[('t_scaler_mm_1', MinMaxScaler(), [1]),\\n                                ('t_scaler_mm_2',\\n                                 MinMaxScaler(feature_range=(-0.5, 0.5)), [2]),\\n                                ('t_one_hot', OneHotEncoder(drop='first'),\\n                                 [0])])   \n",
              "71                                                                                                                                       ColumnTransformer(remainder='passthrough', sparse_threshold=0,\\n                  transformers=[('t_scaler_mm_1', MinMaxScaler(), [1, 2]),\\n                                ('t_one_hot', OneHotEncoder(drop='first'),\\n                                 [0])])   \n",
              "72                                          ColumnTransformer(remainder='passthrough', sparse_threshold=0,\\n                  transformers=[('t_scaler_robust',\\n                                 RobustScaler(quantile_range=(25, 75)),\\n                                 [1, 2]),\\n                                ('t_one_hot', OneHotEncoder(drop='first'),\\n                                 [0])])   \n",
              "73   ColumnTransformer(remainder='passthrough', sparse_threshold=0,\\n                  transformers=[('t_scaler_mm_1', MinMaxScaler(), [1]),\\n                                ('t_scaler_mm_2',\\n                                 MinMaxScaler(feature_range=(-0.5, 0.5)), [2]),\\n                                ('t_one_hot', OneHotEncoder(drop='first'),\\n                                 [0, 3])])   \n",
              "74      ColumnTransformer(remainder='passthrough', sparse_threshold=0,\\n                  transformers=[('t_scaler_mm_1', MinMaxScaler(), [1]),\\n                                ('t_scaler_mm_2',\\n                                 MinMaxScaler(feature_range=(-0.5, 0.5)), [2]),\\n                                ('t_one_hot', OneHotEncoder(drop='first'),\\n                                 [0])])   \n",
              "75                                                                                                                                       ColumnTransformer(remainder='passthrough', sparse_threshold=0,\\n                  transformers=[('t_scaler_mm_1', MinMaxScaler(), [1, 2]),\\n                                ('t_one_hot', OneHotEncoder(drop='first'),\\n                                 [0])])   \n",
              "76                                          ColumnTransformer(remainder='passthrough', sparse_threshold=0,\\n                  transformers=[('t_scaler_robust',\\n                                 RobustScaler(quantile_range=(25, 75)),\\n                                 [1, 2]),\\n                                ('t_one_hot', OneHotEncoder(drop='first'),\\n                                 [0])])   \n",
              "77   ColumnTransformer(remainder='passthrough', sparse_threshold=0,\\n                  transformers=[('t_scaler_mm_1', MinMaxScaler(), [1]),\\n                                ('t_scaler_mm_2',\\n                                 MinMaxScaler(feature_range=(-0.5, 0.5)), [2]),\\n                                ('t_one_hot', OneHotEncoder(drop='first'),\\n                                 [0, 3])])   \n",
              "78      ColumnTransformer(remainder='passthrough', sparse_threshold=0,\\n                  transformers=[('t_scaler_mm_1', MinMaxScaler(), [1]),\\n                                ('t_scaler_mm_2',\\n                                 MinMaxScaler(feature_range=(-0.5, 0.5)), [2]),\\n                                ('t_one_hot', OneHotEncoder(drop='first'),\\n                                 [0])])   \n",
              "79                                                                                                                                       ColumnTransformer(remainder='passthrough', sparse_threshold=0,\\n                  transformers=[('t_scaler_mm_1', MinMaxScaler(), [1, 2]),\\n                                ('t_one_hot', OneHotEncoder(drop='first'),\\n                                 [0])])   \n",
              "80                                          ColumnTransformer(remainder='passthrough', sparse_threshold=0,\\n                  transformers=[('t_scaler_robust',\\n                                 RobustScaler(quantile_range=(25, 75)),\\n                                 [1, 2]),\\n                                ('t_one_hot', OneHotEncoder(drop='first'),\\n                                 [0])])   \n",
              "81   ColumnTransformer(remainder='passthrough', sparse_threshold=0,\\n                  transformers=[('t_scaler_mm_1', MinMaxScaler(), [1]),\\n                                ('t_scaler_mm_2',\\n                                 MinMaxScaler(feature_range=(-0.5, 0.5)), [2]),\\n                                ('t_one_hot', OneHotEncoder(drop='first'),\\n                                 [0, 3])])   \n",
              "82      ColumnTransformer(remainder='passthrough', sparse_threshold=0,\\n                  transformers=[('t_scaler_mm_1', MinMaxScaler(), [1]),\\n                                ('t_scaler_mm_2',\\n                                 MinMaxScaler(feature_range=(-0.5, 0.5)), [2]),\\n                                ('t_one_hot', OneHotEncoder(drop='first'),\\n                                 [0])])   \n",
              "83                                                                                                                                       ColumnTransformer(remainder='passthrough', sparse_threshold=0,\\n                  transformers=[('t_scaler_mm_1', MinMaxScaler(), [1, 2]),\\n                                ('t_one_hot', OneHotEncoder(drop='first'),\\n                                 [0])])   \n",
              "84                                          ColumnTransformer(remainder='passthrough', sparse_threshold=0,\\n                  transformers=[('t_scaler_robust',\\n                                 RobustScaler(quantile_range=(25, 75)),\\n                                 [1, 2]),\\n                                ('t_one_hot', OneHotEncoder(drop='first'),\\n                                 [0])])   \n",
              "85   ColumnTransformer(remainder='passthrough', sparse_threshold=0,\\n                  transformers=[('t_scaler_mm_1', MinMaxScaler(), [1]),\\n                                ('t_scaler_mm_2',\\n                                 MinMaxScaler(feature_range=(-0.5, 0.5)), [2]),\\n                                ('t_one_hot', OneHotEncoder(drop='first'),\\n                                 [0, 3])])   \n",
              "86      ColumnTransformer(remainder='passthrough', sparse_threshold=0,\\n                  transformers=[('t_scaler_mm_1', MinMaxScaler(), [1]),\\n                                ('t_scaler_mm_2',\\n                                 MinMaxScaler(feature_range=(-0.5, 0.5)), [2]),\\n                                ('t_one_hot', OneHotEncoder(drop='first'),\\n                                 [0])])   \n",
              "87                                                                                                                                       ColumnTransformer(remainder='passthrough', sparse_threshold=0,\\n                  transformers=[('t_scaler_mm_1', MinMaxScaler(), [1, 2]),\\n                                ('t_one_hot', OneHotEncoder(drop='first'),\\n                                 [0])])   \n",
              "88                                          ColumnTransformer(remainder='passthrough', sparse_threshold=0,\\n                  transformers=[('t_scaler_robust',\\n                                 RobustScaler(quantile_range=(25, 75)),\\n                                 [1, 2]),\\n                                ('t_one_hot', OneHotEncoder(drop='first'),\\n                                 [0])])   \n",
              "89   ColumnTransformer(remainder='passthrough', sparse_threshold=0,\\n                  transformers=[('t_scaler_mm_1', MinMaxScaler(), [1]),\\n                                ('t_scaler_mm_2',\\n                                 MinMaxScaler(feature_range=(-0.5, 0.5)), [2]),\\n                                ('t_one_hot', OneHotEncoder(drop='first'),\\n                                 [0, 3])])   \n",
              "90      ColumnTransformer(remainder='passthrough', sparse_threshold=0,\\n                  transformers=[('t_scaler_mm_1', MinMaxScaler(), [1]),\\n                                ('t_scaler_mm_2',\\n                                 MinMaxScaler(feature_range=(-0.5, 0.5)), [2]),\\n                                ('t_one_hot', OneHotEncoder(drop='first'),\\n                                 [0])])   \n",
              "91                                                                                                                                       ColumnTransformer(remainder='passthrough', sparse_threshold=0,\\n                  transformers=[('t_scaler_mm_1', MinMaxScaler(), [1, 2]),\\n                                ('t_one_hot', OneHotEncoder(drop='first'),\\n                                 [0])])   \n",
              "92                                          ColumnTransformer(remainder='passthrough', sparse_threshold=0,\\n                  transformers=[('t_scaler_robust',\\n                                 RobustScaler(quantile_range=(25, 75)),\\n                                 [1, 2]),\\n                                ('t_one_hot', OneHotEncoder(drop='first'),\\n                                 [0])])   \n",
              "93   ColumnTransformer(remainder='passthrough', sparse_threshold=0,\\n                  transformers=[('t_scaler_mm_1', MinMaxScaler(), [1]),\\n                                ('t_scaler_mm_2',\\n                                 MinMaxScaler(feature_range=(-0.5, 0.5)), [2]),\\n                                ('t_one_hot', OneHotEncoder(drop='first'),\\n                                 [0, 3])])   \n",
              "94      ColumnTransformer(remainder='passthrough', sparse_threshold=0,\\n                  transformers=[('t_scaler_mm_1', MinMaxScaler(), [1]),\\n                                ('t_scaler_mm_2',\\n                                 MinMaxScaler(feature_range=(-0.5, 0.5)), [2]),\\n                                ('t_one_hot', OneHotEncoder(drop='first'),\\n                                 [0])])   \n",
              "95                                                                                                                                       ColumnTransformer(remainder='passthrough', sparse_threshold=0,\\n                  transformers=[('t_scaler_mm_1', MinMaxScaler(), [1, 2]),\\n                                ('t_one_hot', OneHotEncoder(drop='first'),\\n                                 [0])])   \n",
              "96                                          ColumnTransformer(remainder='passthrough', sparse_threshold=0,\\n                  transformers=[('t_scaler_robust',\\n                                 RobustScaler(quantile_range=(25, 75)),\\n                                 [1, 2]),\\n                                ('t_one_hot', OneHotEncoder(drop='first'),\\n                                 [0])])   \n",
              "97   ColumnTransformer(remainder='passthrough', sparse_threshold=0,\\n                  transformers=[('t_scaler_mm_1', MinMaxScaler(), [1]),\\n                                ('t_scaler_mm_2',\\n                                 MinMaxScaler(feature_range=(-0.5, 0.5)), [2]),\\n                                ('t_one_hot', OneHotEncoder(drop='first'),\\n                                 [0, 3])])   \n",
              "98      ColumnTransformer(remainder='passthrough', sparse_threshold=0,\\n                  transformers=[('t_scaler_mm_1', MinMaxScaler(), [1]),\\n                                ('t_scaler_mm_2',\\n                                 MinMaxScaler(feature_range=(-0.5, 0.5)), [2]),\\n                                ('t_one_hot', OneHotEncoder(drop='first'),\\n                                 [0])])   \n",
              "99                                                                                                                                       ColumnTransformer(remainder='passthrough', sparse_threshold=0,\\n                  transformers=[('t_scaler_mm_1', MinMaxScaler(), [1, 2]),\\n                                ('t_one_hot', OneHotEncoder(drop='first'),\\n                                 [0])])   \n",
              "100                                         ColumnTransformer(remainder='passthrough', sparse_threshold=0,\\n                  transformers=[('t_scaler_robust',\\n                                 RobustScaler(quantile_range=(25, 75)),\\n                                 [1, 2]),\\n                                ('t_one_hot', OneHotEncoder(drop='first'),\\n                                 [0])])   \n",
              "101  ColumnTransformer(remainder='passthrough', sparse_threshold=0,\\n                  transformers=[('t_scaler_mm_1', MinMaxScaler(), [1]),\\n                                ('t_scaler_mm_2',\\n                                 MinMaxScaler(feature_range=(-0.5, 0.5)), [2]),\\n                                ('t_one_hot', OneHotEncoder(drop='first'),\\n                                 [0, 3])])   \n",
              "102     ColumnTransformer(remainder='passthrough', sparse_threshold=0,\\n                  transformers=[('t_scaler_mm_1', MinMaxScaler(), [1]),\\n                                ('t_scaler_mm_2',\\n                                 MinMaxScaler(feature_range=(-0.5, 0.5)), [2]),\\n                                ('t_one_hot', OneHotEncoder(drop='first'),\\n                                 [0])])   \n",
              "103                                                                                                                                      ColumnTransformer(remainder='passthrough', sparse_threshold=0,\\n                  transformers=[('t_scaler_mm_1', MinMaxScaler(), [1, 2]),\\n                                ('t_one_hot', OneHotEncoder(drop='first'),\\n                                 [0])])   \n",
              "104                                         ColumnTransformer(remainder='passthrough', sparse_threshold=0,\\n                  transformers=[('t_scaler_robust',\\n                                 RobustScaler(quantile_range=(25, 75)),\\n                                 [1, 2]),\\n                                ('t_one_hot', OneHotEncoder(drop='first'),\\n                                 [0])])   \n",
              "105  ColumnTransformer(remainder='passthrough', sparse_threshold=0,\\n                  transformers=[('t_scaler_mm_1', MinMaxScaler(), [1]),\\n                                ('t_scaler_mm_2',\\n                                 MinMaxScaler(feature_range=(-0.5, 0.5)), [2]),\\n                                ('t_one_hot', OneHotEncoder(drop='first'),\\n                                 [0, 3])])   \n",
              "106     ColumnTransformer(remainder='passthrough', sparse_threshold=0,\\n                  transformers=[('t_scaler_mm_1', MinMaxScaler(), [1]),\\n                                ('t_scaler_mm_2',\\n                                 MinMaxScaler(feature_range=(-0.5, 0.5)), [2]),\\n                                ('t_one_hot', OneHotEncoder(drop='first'),\\n                                 [0])])   \n",
              "107                                                                                                                                      ColumnTransformer(remainder='passthrough', sparse_threshold=0,\\n                  transformers=[('t_scaler_mm_1', MinMaxScaler(), [1, 2]),\\n                                ('t_one_hot', OneHotEncoder(drop='first'),\\n                                 [0])])   \n",
              "108                                         ColumnTransformer(remainder='passthrough', sparse_threshold=0,\\n                  transformers=[('t_scaler_robust',\\n                                 RobustScaler(quantile_range=(25, 75)),\\n                                 [1, 2]),\\n                                ('t_one_hot', OneHotEncoder(drop='first'),\\n                                 [0])])   \n",
              "109  ColumnTransformer(remainder='passthrough', sparse_threshold=0,\\n                  transformers=[('t_scaler_mm_1', MinMaxScaler(), [1]),\\n                                ('t_scaler_mm_2',\\n                                 MinMaxScaler(feature_range=(-0.5, 0.5)), [2]),\\n                                ('t_one_hot', OneHotEncoder(drop='first'),\\n                                 [0, 3])])   \n",
              "110     ColumnTransformer(remainder='passthrough', sparse_threshold=0,\\n                  transformers=[('t_scaler_mm_1', MinMaxScaler(), [1]),\\n                                ('t_scaler_mm_2',\\n                                 MinMaxScaler(feature_range=(-0.5, 0.5)), [2]),\\n                                ('t_one_hot', OneHotEncoder(drop='first'),\\n                                 [0])])   \n",
              "111                                                                                                                                      ColumnTransformer(remainder='passthrough', sparse_threshold=0,\\n                  transformers=[('t_scaler_mm_1', MinMaxScaler(), [1, 2]),\\n                                ('t_one_hot', OneHotEncoder(drop='first'),\\n                                 [0])])   \n",
              "112                                         ColumnTransformer(remainder='passthrough', sparse_threshold=0,\\n                  transformers=[('t_scaler_robust',\\n                                 RobustScaler(quantile_range=(25, 75)),\\n                                 [1, 2]),\\n                                ('t_one_hot', OneHotEncoder(drop='first'),\\n                                 [0])])   \n",
              "113  ColumnTransformer(remainder='passthrough', sparse_threshold=0,\\n                  transformers=[('t_scaler_mm_1', MinMaxScaler(), [1]),\\n                                ('t_scaler_mm_2',\\n                                 MinMaxScaler(feature_range=(-0.5, 0.5)), [2]),\\n                                ('t_one_hot', OneHotEncoder(drop='first'),\\n                                 [0, 3])])   \n",
              "114     ColumnTransformer(remainder='passthrough', sparse_threshold=0,\\n                  transformers=[('t_scaler_mm_1', MinMaxScaler(), [1]),\\n                                ('t_scaler_mm_2',\\n                                 MinMaxScaler(feature_range=(-0.5, 0.5)), [2]),\\n                                ('t_one_hot', OneHotEncoder(drop='first'),\\n                                 [0])])   \n",
              "115                                                                                                                                      ColumnTransformer(remainder='passthrough', sparse_threshold=0,\\n                  transformers=[('t_scaler_mm_1', MinMaxScaler(), [1, 2]),\\n                                ('t_one_hot', OneHotEncoder(drop='first'),\\n                                 [0])])   \n",
              "116                                         ColumnTransformer(remainder='passthrough', sparse_threshold=0,\\n                  transformers=[('t_scaler_robust',\\n                                 RobustScaler(quantile_range=(25, 75)),\\n                                 [1, 2]),\\n                                ('t_one_hot', OneHotEncoder(drop='first'),\\n                                 [0])])   \n",
              "117  ColumnTransformer(remainder='passthrough', sparse_threshold=0,\\n                  transformers=[('t_scaler_mm_1', MinMaxScaler(), [1]),\\n                                ('t_scaler_mm_2',\\n                                 MinMaxScaler(feature_range=(-0.5, 0.5)), [2]),\\n                                ('t_one_hot', OneHotEncoder(drop='first'),\\n                                 [0, 3])])   \n",
              "118     ColumnTransformer(remainder='passthrough', sparse_threshold=0,\\n                  transformers=[('t_scaler_mm_1', MinMaxScaler(), [1]),\\n                                ('t_scaler_mm_2',\\n                                 MinMaxScaler(feature_range=(-0.5, 0.5)), [2]),\\n                                ('t_one_hot', OneHotEncoder(drop='first'),\\n                                 [0])])   \n",
              "119                                                                                                                                      ColumnTransformer(remainder='passthrough', sparse_threshold=0,\\n                  transformers=[('t_scaler_mm_1', MinMaxScaler(), [1, 2]),\\n                                ('t_one_hot', OneHotEncoder(drop='first'),\\n                                 [0])])   \n",
              "120                                         ColumnTransformer(remainder='passthrough', sparse_threshold=0,\\n                  transformers=[('t_scaler_robust',\\n                                 RobustScaler(quantile_range=(25, 75)),\\n                                 [1, 2]),\\n                                ('t_one_hot', OneHotEncoder(drop='first'),\\n                                 [0])])   \n",
              "121  ColumnTransformer(remainder='passthrough', sparse_threshold=0,\\n                  transformers=[('t_scaler_mm_1', MinMaxScaler(), [1]),\\n                                ('t_scaler_mm_2',\\n                                 MinMaxScaler(feature_range=(-0.5, 0.5)), [2]),\\n                                ('t_one_hot', OneHotEncoder(drop='first'),\\n                                 [0, 3])])   \n",
              "122     ColumnTransformer(remainder='passthrough', sparse_threshold=0,\\n                  transformers=[('t_scaler_mm_1', MinMaxScaler(), [1]),\\n                                ('t_scaler_mm_2',\\n                                 MinMaxScaler(feature_range=(-0.5, 0.5)), [2]),\\n                                ('t_one_hot', OneHotEncoder(drop='first'),\\n                                 [0])])   \n",
              "123                                                                                                                                      ColumnTransformer(remainder='passthrough', sparse_threshold=0,\\n                  transformers=[('t_scaler_mm_1', MinMaxScaler(), [1, 2]),\\n                                ('t_one_hot', OneHotEncoder(drop='first'),\\n                                 [0])])   \n",
              "124                                         ColumnTransformer(remainder='passthrough', sparse_threshold=0,\\n                  transformers=[('t_scaler_robust',\\n                                 RobustScaler(quantile_range=(25, 75)),\\n                                 [1, 2]),\\n                                ('t_one_hot', OneHotEncoder(drop='first'),\\n                                 [0])])   \n",
              "125  ColumnTransformer(remainder='passthrough', sparse_threshold=0,\\n                  transformers=[('t_scaler_mm_1', MinMaxScaler(), [1]),\\n                                ('t_scaler_mm_2',\\n                                 MinMaxScaler(feature_range=(-0.5, 0.5)), [2]),\\n                                ('t_one_hot', OneHotEncoder(drop='first'),\\n                                 [0, 3])])   \n",
              "126     ColumnTransformer(remainder='passthrough', sparse_threshold=0,\\n                  transformers=[('t_scaler_mm_1', MinMaxScaler(), [1]),\\n                                ('t_scaler_mm_2',\\n                                 MinMaxScaler(feature_range=(-0.5, 0.5)), [2]),\\n                                ('t_one_hot', OneHotEncoder(drop='first'),\\n                                 [0])])   \n",
              "127                                                                                                                                      ColumnTransformer(remainder='passthrough', sparse_threshold=0,\\n                  transformers=[('t_scaler_mm_1', MinMaxScaler(), [1, 2]),\\n                                ('t_one_hot', OneHotEncoder(drop='first'),\\n                                 [0])])   \n",
              "128                                         ColumnTransformer(remainder='passthrough', sparse_threshold=0,\\n                  transformers=[('t_scaler_robust',\\n                                 RobustScaler(quantile_range=(25, 75)),\\n                                 [1, 2]),\\n                                ('t_one_hot', OneHotEncoder(drop='first'),\\n                                 [0])])   \n",
              "129  ColumnTransformer(remainder='passthrough', sparse_threshold=0,\\n                  transformers=[('t_scaler_mm_1', MinMaxScaler(), [1]),\\n                                ('t_scaler_mm_2',\\n                                 MinMaxScaler(feature_range=(-0.5, 0.5)), [2]),\\n                                ('t_one_hot', OneHotEncoder(drop='first'),\\n                                 [0, 3])])   \n",
              "130     ColumnTransformer(remainder='passthrough', sparse_threshold=0,\\n                  transformers=[('t_scaler_mm_1', MinMaxScaler(), [1]),\\n                                ('t_scaler_mm_2',\\n                                 MinMaxScaler(feature_range=(-0.5, 0.5)), [2]),\\n                                ('t_one_hot', OneHotEncoder(drop='first'),\\n                                 [0])])   \n",
              "131                                                                                                                                      ColumnTransformer(remainder='passthrough', sparse_threshold=0,\\n                  transformers=[('t_scaler_mm_1', MinMaxScaler(), [1, 2]),\\n                                ('t_one_hot', OneHotEncoder(drop='first'),\\n                                 [0])])   \n",
              "132                                         ColumnTransformer(remainder='passthrough', sparse_threshold=0,\\n                  transformers=[('t_scaler_robust',\\n                                 RobustScaler(quantile_range=(25, 75)),\\n                                 [1, 2]),\\n                                ('t_one_hot', OneHotEncoder(drop='first'),\\n                                 [0])])   \n",
              "133  ColumnTransformer(remainder='passthrough', sparse_threshold=0,\\n                  transformers=[('t_scaler_mm_1', MinMaxScaler(), [1]),\\n                                ('t_scaler_mm_2',\\n                                 MinMaxScaler(feature_range=(-0.5, 0.5)), [2]),\\n                                ('t_one_hot', OneHotEncoder(drop='first'),\\n                                 [0, 3])])   \n",
              "134     ColumnTransformer(remainder='passthrough', sparse_threshold=0,\\n                  transformers=[('t_scaler_mm_1', MinMaxScaler(), [1]),\\n                                ('t_scaler_mm_2',\\n                                 MinMaxScaler(feature_range=(-0.5, 0.5)), [2]),\\n                                ('t_one_hot', OneHotEncoder(drop='first'),\\n                                 [0])])   \n",
              "135                                                                                                                                      ColumnTransformer(remainder='passthrough', sparse_threshold=0,\\n                  transformers=[('t_scaler_mm_1', MinMaxScaler(), [1, 2]),\\n                                ('t_one_hot', OneHotEncoder(drop='first'),\\n                                 [0])])   \n",
              "136                                         ColumnTransformer(remainder='passthrough', sparse_threshold=0,\\n                  transformers=[('t_scaler_robust',\\n                                 RobustScaler(quantile_range=(25, 75)),\\n                                 [1, 2]),\\n                                ('t_one_hot', OneHotEncoder(drop='first'),\\n                                 [0])])   \n",
              "137  ColumnTransformer(remainder='passthrough', sparse_threshold=0,\\n                  transformers=[('t_scaler_mm_1', MinMaxScaler(), [1]),\\n                                ('t_scaler_mm_2',\\n                                 MinMaxScaler(feature_range=(-0.5, 0.5)), [2]),\\n                                ('t_one_hot', OneHotEncoder(drop='first'),\\n                                 [0, 3])])   \n",
              "138     ColumnTransformer(remainder='passthrough', sparse_threshold=0,\\n                  transformers=[('t_scaler_mm_1', MinMaxScaler(), [1]),\\n                                ('t_scaler_mm_2',\\n                                 MinMaxScaler(feature_range=(-0.5, 0.5)), [2]),\\n                                ('t_one_hot', OneHotEncoder(drop='first'),\\n                                 [0])])   \n",
              "139                                                                                                                                      ColumnTransformer(remainder='passthrough', sparse_threshold=0,\\n                  transformers=[('t_scaler_mm_1', MinMaxScaler(), [1, 2]),\\n                                ('t_one_hot', OneHotEncoder(drop='first'),\\n                                 [0])])   \n",
              "140                                         ColumnTransformer(remainder='passthrough', sparse_threshold=0,\\n                  transformers=[('t_scaler_robust',\\n                                 RobustScaler(quantile_range=(25, 75)),\\n                                 [1, 2]),\\n                                ('t_one_hot', OneHotEncoder(drop='first'),\\n                                 [0])])   \n",
              "141  ColumnTransformer(remainder='passthrough', sparse_threshold=0,\\n                  transformers=[('t_scaler_mm_1', MinMaxScaler(), [1]),\\n                                ('t_scaler_mm_2',\\n                                 MinMaxScaler(feature_range=(-0.5, 0.5)), [2]),\\n                                ('t_one_hot', OneHotEncoder(drop='first'),\\n                                 [0, 3])])   \n",
              "142     ColumnTransformer(remainder='passthrough', sparse_threshold=0,\\n                  transformers=[('t_scaler_mm_1', MinMaxScaler(), [1]),\\n                                ('t_scaler_mm_2',\\n                                 MinMaxScaler(feature_range=(-0.5, 0.5)), [2]),\\n                                ('t_one_hot', OneHotEncoder(drop='first'),\\n                                 [0])])   \n",
              "143                                                                                                                                      ColumnTransformer(remainder='passthrough', sparse_threshold=0,\\n                  transformers=[('t_scaler_mm_1', MinMaxScaler(), [1, 2]),\\n                                ('t_one_hot', OneHotEncoder(drop='first'),\\n                                 [0])])   \n",
              "144                                         ColumnTransformer(remainder='passthrough', sparse_threshold=0,\\n                  transformers=[('t_scaler_robust',\\n                                 RobustScaler(quantile_range=(25, 75)),\\n                                 [1, 2]),\\n                                ('t_one_hot', OneHotEncoder(drop='first'),\\n                                 [0])])   \n",
              "145  ColumnTransformer(remainder='passthrough', sparse_threshold=0,\\n                  transformers=[('t_scaler_mm_1', MinMaxScaler(), [1]),\\n                                ('t_scaler_mm_2',\\n                                 MinMaxScaler(feature_range=(-0.5, 0.5)), [2]),\\n                                ('t_one_hot', OneHotEncoder(drop='first'),\\n                                 [0, 3])])   \n",
              "146     ColumnTransformer(remainder='passthrough', sparse_threshold=0,\\n                  transformers=[('t_scaler_mm_1', MinMaxScaler(), [1]),\\n                                ('t_scaler_mm_2',\\n                                 MinMaxScaler(feature_range=(-0.5, 0.5)), [2]),\\n                                ('t_one_hot', OneHotEncoder(drop='first'),\\n                                 [0])])   \n",
              "147                                                                                                                                      ColumnTransformer(remainder='passthrough', sparse_threshold=0,\\n                  transformers=[('t_scaler_mm_1', MinMaxScaler(), [1, 2]),\\n                                ('t_one_hot', OneHotEncoder(drop='first'),\\n                                 [0])])   \n",
              "148                                         ColumnTransformer(remainder='passthrough', sparse_threshold=0,\\n                  transformers=[('t_scaler_robust',\\n                                 RobustScaler(quantile_range=(25, 75)),\\n                                 [1, 2]),\\n                                ('t_one_hot', OneHotEncoder(drop='first'),\\n                                 [0])])   \n",
              "149  ColumnTransformer(remainder='passthrough', sparse_threshold=0,\\n                  transformers=[('t_scaler_mm_1', MinMaxScaler(), [1]),\\n                                ('t_scaler_mm_2',\\n                                 MinMaxScaler(feature_range=(-0.5, 0.5)), [2]),\\n                                ('t_one_hot', OneHotEncoder(drop='first'),\\n                                 [0, 3])])   \n",
              "150     ColumnTransformer(remainder='passthrough', sparse_threshold=0,\\n                  transformers=[('t_scaler_mm_1', MinMaxScaler(), [1]),\\n                                ('t_scaler_mm_2',\\n                                 MinMaxScaler(feature_range=(-0.5, 0.5)), [2]),\\n                                ('t_one_hot', OneHotEncoder(drop='first'),\\n                                 [0])])   \n",
              "151                                                                                                                                      ColumnTransformer(remainder='passthrough', sparse_threshold=0,\\n                  transformers=[('t_scaler_mm_1', MinMaxScaler(), [1, 2]),\\n                                ('t_one_hot', OneHotEncoder(drop='first'),\\n                                 [0])])   \n",
              "152                                         ColumnTransformer(remainder='passthrough', sparse_threshold=0,\\n                  transformers=[('t_scaler_robust',\\n                                 RobustScaler(quantile_range=(25, 75)),\\n                                 [1, 2]),\\n                                ('t_one_hot', OneHotEncoder(drop='first'),\\n                                 [0])])   \n",
              "153  ColumnTransformer(remainder='passthrough', sparse_threshold=0,\\n                  transformers=[('t_scaler_mm_1', MinMaxScaler(), [1]),\\n                                ('t_scaler_mm_2',\\n                                 MinMaxScaler(feature_range=(-0.5, 0.5)), [2]),\\n                                ('t_one_hot', OneHotEncoder(drop='first'),\\n                                 [0, 3])])   \n",
              "154     ColumnTransformer(remainder='passthrough', sparse_threshold=0,\\n                  transformers=[('t_scaler_mm_1', MinMaxScaler(), [1]),\\n                                ('t_scaler_mm_2',\\n                                 MinMaxScaler(feature_range=(-0.5, 0.5)), [2]),\\n                                ('t_one_hot', OneHotEncoder(drop='first'),\\n                                 [0])])   \n",
              "155                                                                                                                                      ColumnTransformer(remainder='passthrough', sparse_threshold=0,\\n                  transformers=[('t_scaler_mm_1', MinMaxScaler(), [1, 2]),\\n                                ('t_one_hot', OneHotEncoder(drop='first'),\\n                                 [0])])   \n",
              "156                                         ColumnTransformer(remainder='passthrough', sparse_threshold=0,\\n                  transformers=[('t_scaler_robust',\\n                                 RobustScaler(quantile_range=(25, 75)),\\n                                 [1, 2]),\\n                                ('t_one_hot', OneHotEncoder(drop='first'),\\n                                 [0])])   \n",
              "157  ColumnTransformer(remainder='passthrough', sparse_threshold=0,\\n                  transformers=[('t_scaler_mm_1', MinMaxScaler(), [1]),\\n                                ('t_scaler_mm_2',\\n                                 MinMaxScaler(feature_range=(-0.5, 0.5)), [2]),\\n                                ('t_one_hot', OneHotEncoder(drop='first'),\\n                                 [0, 3])])   \n",
              "158     ColumnTransformer(remainder='passthrough', sparse_threshold=0,\\n                  transformers=[('t_scaler_mm_1', MinMaxScaler(), [1]),\\n                                ('t_scaler_mm_2',\\n                                 MinMaxScaler(feature_range=(-0.5, 0.5)), [2]),\\n                                ('t_one_hot', OneHotEncoder(drop='first'),\\n                                 [0])])   \n",
              "159                                                                                                                                      ColumnTransformer(remainder='passthrough', sparse_threshold=0,\\n                  transformers=[('t_scaler_mm_1', MinMaxScaler(), [1, 2]),\\n                                ('t_one_hot', OneHotEncoder(drop='first'),\\n                                 [0])])   \n",
              "160                                         ColumnTransformer(remainder='passthrough', sparse_threshold=0,\\n                  transformers=[('t_scaler_robust',\\n                                 RobustScaler(quantile_range=(25, 75)),\\n                                 [1, 2]),\\n                                ('t_one_hot', OneHotEncoder(drop='first'),\\n                                 [0])])   \n",
              "161  ColumnTransformer(remainder='passthrough', sparse_threshold=0,\\n                  transformers=[('t_scaler_mm_1', MinMaxScaler(), [1]),\\n                                ('t_scaler_mm_2',\\n                                 MinMaxScaler(feature_range=(-0.5, 0.5)), [2]),\\n                                ('t_one_hot', OneHotEncoder(drop='first'),\\n                                 [0, 3])])   \n",
              "162     ColumnTransformer(remainder='passthrough', sparse_threshold=0,\\n                  transformers=[('t_scaler_mm_1', MinMaxScaler(), [1]),\\n                                ('t_scaler_mm_2',\\n                                 MinMaxScaler(feature_range=(-0.5, 0.5)), [2]),\\n                                ('t_one_hot', OneHotEncoder(drop='first'),\\n                                 [0])])   \n",
              "163                                                                                                                                      ColumnTransformer(remainder='passthrough', sparse_threshold=0,\\n                  transformers=[('t_scaler_mm_1', MinMaxScaler(), [1, 2]),\\n                                ('t_one_hot', OneHotEncoder(drop='first'),\\n                                 [0])])   \n",
              "164                                         ColumnTransformer(remainder='passthrough', sparse_threshold=0,\\n                  transformers=[('t_scaler_robust',\\n                                 RobustScaler(quantile_range=(25, 75)),\\n                                 [1, 2]),\\n                                ('t_one_hot', OneHotEncoder(drop='first'),\\n                                 [0])])   \n",
              "165  ColumnTransformer(remainder='passthrough', sparse_threshold=0,\\n                  transformers=[('t_scaler_mm_1', MinMaxScaler(), [1]),\\n                                ('t_scaler_mm_2',\\n                                 MinMaxScaler(feature_range=(-0.5, 0.5)), [2]),\\n                                ('t_one_hot', OneHotEncoder(drop='first'),\\n                                 [0, 3])])   \n",
              "166     ColumnTransformer(remainder='passthrough', sparse_threshold=0,\\n                  transformers=[('t_scaler_mm_1', MinMaxScaler(), [1]),\\n                                ('t_scaler_mm_2',\\n                                 MinMaxScaler(feature_range=(-0.5, 0.5)), [2]),\\n                                ('t_one_hot', OneHotEncoder(drop='first'),\\n                                 [0])])   \n",
              "167                                                                                                                                      ColumnTransformer(remainder='passthrough', sparse_threshold=0,\\n                  transformers=[('t_scaler_mm_1', MinMaxScaler(), [1, 2]),\\n                                ('t_one_hot', OneHotEncoder(drop='first'),\\n                                 [0])])   \n",
              "168                                         ColumnTransformer(remainder='passthrough', sparse_threshold=0,\\n                  transformers=[('t_scaler_robust',\\n                                 RobustScaler(quantile_range=(25, 75)),\\n                                 [1, 2]),\\n                                ('t_one_hot', OneHotEncoder(drop='first'),\\n                                 [0])])   \n",
              "169  ColumnTransformer(remainder='passthrough', sparse_threshold=0,\\n                  transformers=[('t_scaler_mm_1', MinMaxScaler(), [1]),\\n                                ('t_scaler_mm_2',\\n                                 MinMaxScaler(feature_range=(-0.5, 0.5)), [2]),\\n                                ('t_one_hot', OneHotEncoder(drop='first'),\\n                                 [0, 3])])   \n",
              "170     ColumnTransformer(remainder='passthrough', sparse_threshold=0,\\n                  transformers=[('t_scaler_mm_1', MinMaxScaler(), [1]),\\n                                ('t_scaler_mm_2',\\n                                 MinMaxScaler(feature_range=(-0.5, 0.5)), [2]),\\n                                ('t_one_hot', OneHotEncoder(drop='first'),\\n                                 [0])])   \n",
              "171                                                                                                                                      ColumnTransformer(remainder='passthrough', sparse_threshold=0,\\n                  transformers=[('t_scaler_mm_1', MinMaxScaler(), [1, 2]),\\n                                ('t_one_hot', OneHotEncoder(drop='first'),\\n                                 [0])])   \n",
              "172                                         ColumnTransformer(remainder='passthrough', sparse_threshold=0,\\n                  transformers=[('t_scaler_robust',\\n                                 RobustScaler(quantile_range=(25, 75)),\\n                                 [1, 2]),\\n                                ('t_one_hot', OneHotEncoder(drop='first'),\\n                                 [0])])   \n",
              "173  ColumnTransformer(remainder='passthrough', sparse_threshold=0,\\n                  transformers=[('t_scaler_mm_1', MinMaxScaler(), [1]),\\n                                ('t_scaler_mm_2',\\n                                 MinMaxScaler(feature_range=(-0.5, 0.5)), [2]),\\n                                ('t_one_hot', OneHotEncoder(drop='first'),\\n                                 [0, 3])])   \n",
              "174     ColumnTransformer(remainder='passthrough', sparse_threshold=0,\\n                  transformers=[('t_scaler_mm_1', MinMaxScaler(), [1]),\\n                                ('t_scaler_mm_2',\\n                                 MinMaxScaler(feature_range=(-0.5, 0.5)), [2]),\\n                                ('t_one_hot', OneHotEncoder(drop='first'),\\n                                 [0])])   \n",
              "175                                                                                                                                      ColumnTransformer(remainder='passthrough', sparse_threshold=0,\\n                  transformers=[('t_scaler_mm_1', MinMaxScaler(), [1, 2]),\\n                                ('t_one_hot', OneHotEncoder(drop='first'),\\n                                 [0])])   \n",
              "176                                         ColumnTransformer(remainder='passthrough', sparse_threshold=0,\\n                  transformers=[('t_scaler_robust',\\n                                 RobustScaler(quantile_range=(25, 75)),\\n                                 [1, 2]),\\n                                ('t_one_hot', OneHotEncoder(drop='first'),\\n                                 [0])])   \n",
              "177  ColumnTransformer(remainder='passthrough', sparse_threshold=0,\\n                  transformers=[('t_scaler_mm_1', MinMaxScaler(), [1]),\\n                                ('t_scaler_mm_2',\\n                                 MinMaxScaler(feature_range=(-0.5, 0.5)), [2]),\\n                                ('t_one_hot', OneHotEncoder(drop='first'),\\n                                 [0, 3])])   \n",
              "178     ColumnTransformer(remainder='passthrough', sparse_threshold=0,\\n                  transformers=[('t_scaler_mm_1', MinMaxScaler(), [1]),\\n                                ('t_scaler_mm_2',\\n                                 MinMaxScaler(feature_range=(-0.5, 0.5)), [2]),\\n                                ('t_one_hot', OneHotEncoder(drop='first'),\\n                                 [0])])   \n",
              "179                                                                                                                                      ColumnTransformer(remainder='passthrough', sparse_threshold=0,\\n                  transformers=[('t_scaler_mm_1', MinMaxScaler(), [1, 2]),\\n                                ('t_one_hot', OneHotEncoder(drop='first'),\\n                                 [0])])   \n",
              "180                                         ColumnTransformer(remainder='passthrough', sparse_threshold=0,\\n                  transformers=[('t_scaler_robust',\\n                                 RobustScaler(quantile_range=(25, 75)),\\n                                 [1, 2]),\\n                                ('t_one_hot', OneHotEncoder(drop='first'),\\n                                 [0])])   \n",
              "181  ColumnTransformer(remainder='passthrough', sparse_threshold=0,\\n                  transformers=[('t_scaler_mm_1', MinMaxScaler(), [1]),\\n                                ('t_scaler_mm_2',\\n                                 MinMaxScaler(feature_range=(-0.5, 0.5)), [2]),\\n                                ('t_one_hot', OneHotEncoder(drop='first'),\\n                                 [0, 3])])   \n",
              "182     ColumnTransformer(remainder='passthrough', sparse_threshold=0,\\n                  transformers=[('t_scaler_mm_1', MinMaxScaler(), [1]),\\n                                ('t_scaler_mm_2',\\n                                 MinMaxScaler(feature_range=(-0.5, 0.5)), [2]),\\n                                ('t_one_hot', OneHotEncoder(drop='first'),\\n                                 [0])])   \n",
              "183                                                                                                                                      ColumnTransformer(remainder='passthrough', sparse_threshold=0,\\n                  transformers=[('t_scaler_mm_1', MinMaxScaler(), [1, 2]),\\n                                ('t_one_hot', OneHotEncoder(drop='first'),\\n                                 [0])])   \n",
              "184                                         ColumnTransformer(remainder='passthrough', sparse_threshold=0,\\n                  transformers=[('t_scaler_robust',\\n                                 RobustScaler(quantile_range=(25, 75)),\\n                                 [1, 2]),\\n                                ('t_one_hot', OneHotEncoder(drop='first'),\\n                                 [0])])   \n",
              "185  ColumnTransformer(remainder='passthrough', sparse_threshold=0,\\n                  transformers=[('t_scaler_mm_1', MinMaxScaler(), [1]),\\n                                ('t_scaler_mm_2',\\n                                 MinMaxScaler(feature_range=(-0.5, 0.5)), [2]),\\n                                ('t_one_hot', OneHotEncoder(drop='first'),\\n                                 [0, 3])])   \n",
              "186     ColumnTransformer(remainder='passthrough', sparse_threshold=0,\\n                  transformers=[('t_scaler_mm_1', MinMaxScaler(), [1]),\\n                                ('t_scaler_mm_2',\\n                                 MinMaxScaler(feature_range=(-0.5, 0.5)), [2]),\\n                                ('t_one_hot', OneHotEncoder(drop='first'),\\n                                 [0])])   \n",
              "187                                                                                                                                      ColumnTransformer(remainder='passthrough', sparse_threshold=0,\\n                  transformers=[('t_scaler_mm_1', MinMaxScaler(), [1, 2]),\\n                                ('t_one_hot', OneHotEncoder(drop='first'),\\n                                 [0])])   \n",
              "188                                         ColumnTransformer(remainder='passthrough', sparse_threshold=0,\\n                  transformers=[('t_scaler_robust',\\n                                 RobustScaler(quantile_range=(25, 75)),\\n                                 [1, 2]),\\n                                ('t_one_hot', OneHotEncoder(drop='first'),\\n                                 [0])])   \n",
              "189  ColumnTransformer(remainder='passthrough', sparse_threshold=0,\\n                  transformers=[('t_scaler_mm_1', MinMaxScaler(), [1]),\\n                                ('t_scaler_mm_2',\\n                                 MinMaxScaler(feature_range=(-0.5, 0.5)), [2]),\\n                                ('t_one_hot', OneHotEncoder(drop='first'),\\n                                 [0, 3])])   \n",
              "190     ColumnTransformer(remainder='passthrough', sparse_threshold=0,\\n                  transformers=[('t_scaler_mm_1', MinMaxScaler(), [1]),\\n                                ('t_scaler_mm_2',\\n                                 MinMaxScaler(feature_range=(-0.5, 0.5)), [2]),\\n                                ('t_one_hot', OneHotEncoder(drop='first'),\\n                                 [0])])   \n",
              "191                                                                                                                                      ColumnTransformer(remainder='passthrough', sparse_threshold=0,\\n                  transformers=[('t_scaler_mm_1', MinMaxScaler(), [1, 2]),\\n                                ('t_one_hot', OneHotEncoder(drop='first'),\\n                                 [0])])   \n",
              "192                                         ColumnTransformer(remainder='passthrough', sparse_threshold=0,\\n                  transformers=[('t_scaler_robust',\\n                                 RobustScaler(quantile_range=(25, 75)),\\n                                 [1, 2]),\\n                                ('t_one_hot', OneHotEncoder(drop='first'),\\n                                 [0])])   \n",
              "193  ColumnTransformer(remainder='passthrough', sparse_threshold=0,\\n                  transformers=[('t_scaler_mm_1', MinMaxScaler(), [1]),\\n                                ('t_scaler_mm_2',\\n                                 MinMaxScaler(feature_range=(-0.5, 0.5)), [2]),\\n                                ('t_one_hot', OneHotEncoder(drop='first'),\\n                                 [0, 3])])   \n",
              "194     ColumnTransformer(remainder='passthrough', sparse_threshold=0,\\n                  transformers=[('t_scaler_mm_1', MinMaxScaler(), [1]),\\n                                ('t_scaler_mm_2',\\n                                 MinMaxScaler(feature_range=(-0.5, 0.5)), [2]),\\n                                ('t_one_hot', OneHotEncoder(drop='first'),\\n                                 [0])])   \n",
              "195                                                                                                                                      ColumnTransformer(remainder='passthrough', sparse_threshold=0,\\n                  transformers=[('t_scaler_mm_1', MinMaxScaler(), [1, 2]),\\n                                ('t_one_hot', OneHotEncoder(drop='first'),\\n                                 [0])])   \n",
              "196                                         ColumnTransformer(remainder='passthrough', sparse_threshold=0,\\n                  transformers=[('t_scaler_robust',\\n                                 RobustScaler(quantile_range=(25, 75)),\\n                                 [1, 2]),\\n                                ('t_one_hot', OneHotEncoder(drop='first'),\\n                                 [0])])   \n",
              "197  ColumnTransformer(remainder='passthrough', sparse_threshold=0,\\n                  transformers=[('t_scaler_mm_1', MinMaxScaler(), [1]),\\n                                ('t_scaler_mm_2',\\n                                 MinMaxScaler(feature_range=(-0.5, 0.5)), [2]),\\n                                ('t_one_hot', OneHotEncoder(drop='first'),\\n                                 [0, 3])])   \n",
              "198     ColumnTransformer(remainder='passthrough', sparse_threshold=0,\\n                  transformers=[('t_scaler_mm_1', MinMaxScaler(), [1]),\\n                                ('t_scaler_mm_2',\\n                                 MinMaxScaler(feature_range=(-0.5, 0.5)), [2]),\\n                                ('t_one_hot', OneHotEncoder(drop='first'),\\n                                 [0])])   \n",
              "199                                                                                                                                      ColumnTransformer(remainder='passthrough', sparse_threshold=0,\\n                  transformers=[('t_scaler_mm_1', MinMaxScaler(), [1, 2]),\\n                                ('t_one_hot', OneHotEncoder(drop='first'),\\n                                 [0])])   \n",
              "200                                         ColumnTransformer(remainder='passthrough', sparse_threshold=0,\\n                  transformers=[('t_scaler_robust',\\n                                 RobustScaler(quantile_range=(25, 75)),\\n                                 [1, 2]),\\n                                ('t_one_hot', OneHotEncoder(drop='first'),\\n                                 [0])])   \n",
              "201  ColumnTransformer(remainder='passthrough', sparse_threshold=0,\\n                  transformers=[('t_scaler_mm_1', MinMaxScaler(), [1]),\\n                                ('t_scaler_mm_2',\\n                                 MinMaxScaler(feature_range=(-0.5, 0.5)), [2]),\\n                                ('t_one_hot', OneHotEncoder(drop='first'),\\n                                 [0, 3])])   \n",
              "202     ColumnTransformer(remainder='passthrough', sparse_threshold=0,\\n                  transformers=[('t_scaler_mm_1', MinMaxScaler(), [1]),\\n                                ('t_scaler_mm_2',\\n                                 MinMaxScaler(feature_range=(-0.5, 0.5)), [2]),\\n                                ('t_one_hot', OneHotEncoder(drop='first'),\\n                                 [0])])   \n",
              "203                                                                                                                                      ColumnTransformer(remainder='passthrough', sparse_threshold=0,\\n                  transformers=[('t_scaler_mm_1', MinMaxScaler(), [1, 2]),\\n                                ('t_one_hot', OneHotEncoder(drop='first'),\\n                                 [0])])   \n",
              "204                                         ColumnTransformer(remainder='passthrough', sparse_threshold=0,\\n                  transformers=[('t_scaler_robust',\\n                                 RobustScaler(quantile_range=(25, 75)),\\n                                 [1, 2]),\\n                                ('t_one_hot', OneHotEncoder(drop='first'),\\n                                 [0])])   \n",
              "205  ColumnTransformer(remainder='passthrough', sparse_threshold=0,\\n                  transformers=[('t_scaler_mm_1', MinMaxScaler(), [1]),\\n                                ('t_scaler_mm_2',\\n                                 MinMaxScaler(feature_range=(-0.5, 0.5)), [2]),\\n                                ('t_one_hot', OneHotEncoder(drop='first'),\\n                                 [0, 3])])   \n",
              "206     ColumnTransformer(remainder='passthrough', sparse_threshold=0,\\n                  transformers=[('t_scaler_mm_1', MinMaxScaler(), [1]),\\n                                ('t_scaler_mm_2',\\n                                 MinMaxScaler(feature_range=(-0.5, 0.5)), [2]),\\n                                ('t_one_hot', OneHotEncoder(drop='first'),\\n                                 [0])])   \n",
              "207                                                                                                                                      ColumnTransformer(remainder='passthrough', sparse_threshold=0,\\n                  transformers=[('t_scaler_mm_1', MinMaxScaler(), [1, 2]),\\n                                ('t_one_hot', OneHotEncoder(drop='first'),\\n                                 [0])])   \n",
              "208                                         ColumnTransformer(remainder='passthrough', sparse_threshold=0,\\n                  transformers=[('t_scaler_robust',\\n                                 RobustScaler(quantile_range=(25, 75)),\\n                                 [1, 2]),\\n                                ('t_one_hot', OneHotEncoder(drop='first'),\\n                                 [0])])   \n",
              "209  ColumnTransformer(remainder='passthrough', sparse_threshold=0,\\n                  transformers=[('t_scaler_mm_1', MinMaxScaler(), [1]),\\n                                ('t_scaler_mm_2',\\n                                 MinMaxScaler(feature_range=(-0.5, 0.5)), [2]),\\n                                ('t_one_hot', OneHotEncoder(drop='first'),\\n                                 [0, 3])])   \n",
              "210     ColumnTransformer(remainder='passthrough', sparse_threshold=0,\\n                  transformers=[('t_scaler_mm_1', MinMaxScaler(), [1]),\\n                                ('t_scaler_mm_2',\\n                                 MinMaxScaler(feature_range=(-0.5, 0.5)), [2]),\\n                                ('t_one_hot', OneHotEncoder(drop='first'),\\n                                 [0])])   \n",
              "211                                                                                                                                      ColumnTransformer(remainder='passthrough', sparse_threshold=0,\\n                  transformers=[('t_scaler_mm_1', MinMaxScaler(), [1, 2]),\\n                                ('t_one_hot', OneHotEncoder(drop='first'),\\n                                 [0])])   \n",
              "212                                         ColumnTransformer(remainder='passthrough', sparse_threshold=0,\\n                  transformers=[('t_scaler_robust',\\n                                 RobustScaler(quantile_range=(25, 75)),\\n                                 [1, 2]),\\n                                ('t_one_hot', OneHotEncoder(drop='first'),\\n                                 [0])])   \n",
              "213  ColumnTransformer(remainder='passthrough', sparse_threshold=0,\\n                  transformers=[('t_scaler_mm_1', MinMaxScaler(), [1]),\\n                                ('t_scaler_mm_2',\\n                                 MinMaxScaler(feature_range=(-0.5, 0.5)), [2]),\\n                                ('t_one_hot', OneHotEncoder(drop='first'),\\n                                 [0, 3])])   \n",
              "214     ColumnTransformer(remainder='passthrough', sparse_threshold=0,\\n                  transformers=[('t_scaler_mm_1', MinMaxScaler(), [1]),\\n                                ('t_scaler_mm_2',\\n                                 MinMaxScaler(feature_range=(-0.5, 0.5)), [2]),\\n                                ('t_one_hot', OneHotEncoder(drop='first'),\\n                                 [0])])   \n",
              "215                                                                                                                                      ColumnTransformer(remainder='passthrough', sparse_threshold=0,\\n                  transformers=[('t_scaler_mm_1', MinMaxScaler(), [1, 2]),\\n                                ('t_one_hot', OneHotEncoder(drop='first'),\\n                                 [0])])   \n",
              "216                                         ColumnTransformer(remainder='passthrough', sparse_threshold=0,\\n                  transformers=[('t_scaler_robust',\\n                                 RobustScaler(quantile_range=(25, 75)),\\n                                 [1, 2]),\\n                                ('t_one_hot', OneHotEncoder(drop='first'),\\n                                 [0])])   \n",
              "217  ColumnTransformer(remainder='passthrough', sparse_threshold=0,\\n                  transformers=[('t_scaler_mm_1', MinMaxScaler(), [1]),\\n                                ('t_scaler_mm_2',\\n                                 MinMaxScaler(feature_range=(-0.5, 0.5)), [2]),\\n                                ('t_one_hot', OneHotEncoder(drop='first'),\\n                                 [0, 3])])   \n",
              "218     ColumnTransformer(remainder='passthrough', sparse_threshold=0,\\n                  transformers=[('t_scaler_mm_1', MinMaxScaler(), [1]),\\n                                ('t_scaler_mm_2',\\n                                 MinMaxScaler(feature_range=(-0.5, 0.5)), [2]),\\n                                ('t_one_hot', OneHotEncoder(drop='first'),\\n                                 [0])])   \n",
              "219                                                                                                                                      ColumnTransformer(remainder='passthrough', sparse_threshold=0,\\n                  transformers=[('t_scaler_mm_1', MinMaxScaler(), [1, 2]),\\n                                ('t_one_hot', OneHotEncoder(drop='first'),\\n                                 [0])])   \n",
              "220                                         ColumnTransformer(remainder='passthrough', sparse_threshold=0,\\n                  transformers=[('t_scaler_robust',\\n                                 RobustScaler(quantile_range=(25, 75)),\\n                                 [1, 2]),\\n                                ('t_one_hot', OneHotEncoder(drop='first'),\\n                                 [0])])   \n",
              "221  ColumnTransformer(remainder='passthrough', sparse_threshold=0,\\n                  transformers=[('t_scaler_mm_1', MinMaxScaler(), [1]),\\n                                ('t_scaler_mm_2',\\n                                 MinMaxScaler(feature_range=(-0.5, 0.5)), [2]),\\n                                ('t_one_hot', OneHotEncoder(drop='first'),\\n                                 [0, 3])])   \n",
              "222     ColumnTransformer(remainder='passthrough', sparse_threshold=0,\\n                  transformers=[('t_scaler_mm_1', MinMaxScaler(), [1]),\\n                                ('t_scaler_mm_2',\\n                                 MinMaxScaler(feature_range=(-0.5, 0.5)), [2]),\\n                                ('t_one_hot', OneHotEncoder(drop='first'),\\n                                 [0])])   \n",
              "223                                                                                                                                      ColumnTransformer(remainder='passthrough', sparse_threshold=0,\\n                  transformers=[('t_scaler_mm_1', MinMaxScaler(), [1, 2]),\\n                                ('t_one_hot', OneHotEncoder(drop='first'),\\n                                 [0])])   \n",
              "224                                         ColumnTransformer(remainder='passthrough', sparse_threshold=0,\\n                  transformers=[('t_scaler_robust',\\n                                 RobustScaler(quantile_range=(25, 75)),\\n                                 [1, 2]),\\n                                ('t_one_hot', OneHotEncoder(drop='first'),\\n                                 [0])])   \n",
              "225  ColumnTransformer(remainder='passthrough', sparse_threshold=0,\\n                  transformers=[('t_scaler_mm_1', MinMaxScaler(), [1]),\\n                                ('t_scaler_mm_2',\\n                                 MinMaxScaler(feature_range=(-0.5, 0.5)), [2]),\\n                                ('t_one_hot', OneHotEncoder(drop='first'),\\n                                 [0, 3])])   \n",
              "226     ColumnTransformer(remainder='passthrough', sparse_threshold=0,\\n                  transformers=[('t_scaler_mm_1', MinMaxScaler(), [1]),\\n                                ('t_scaler_mm_2',\\n                                 MinMaxScaler(feature_range=(-0.5, 0.5)), [2]),\\n                                ('t_one_hot', OneHotEncoder(drop='first'),\\n                                 [0])])   \n",
              "227                                                                                                                                      ColumnTransformer(remainder='passthrough', sparse_threshold=0,\\n                  transformers=[('t_scaler_mm_1', MinMaxScaler(), [1, 2]),\\n                                ('t_one_hot', OneHotEncoder(drop='first'),\\n                                 [0])])   \n",
              "\n",
              "     test_score     metric  \n",
              "0      0.661295  Manhattan  \n",
              "1      0.685162  Manhattan  \n",
              "2      0.687550  Manhattan  \n",
              "3      0.688149  Manhattan  \n",
              "4      0.661285  Euclidean  \n",
              "5      0.691104  Euclidean  \n",
              "6      0.693492  Euclidean  \n",
              "7      0.694090  Euclidean  \n",
              "8      0.661880  Minkowski  \n",
              "9      0.690508  Minkowski  \n",
              "10     0.693492  Minkowski  \n",
              "11     0.692900  Minkowski  \n",
              "12     0.644589  Manhattan  \n",
              "13     0.676169  Manhattan  \n",
              "14     0.674979  Manhattan  \n",
              "15     0.676169  Manhattan  \n",
              "16     0.649932  Euclidean  \n",
              "17     0.677356  Euclidean  \n",
              "18     0.676761  Euclidean  \n",
              "19     0.678550  Euclidean  \n",
              "20     0.645156  Minkowski  \n",
              "21     0.674369  Minkowski  \n",
              "22     0.672580  Minkowski  \n",
              "23     0.673774  Minkowski  \n",
              "24     0.668406  Manhattan  \n",
              "25     0.697662  Manhattan  \n",
              "26     0.697067  Manhattan  \n",
              "27     0.695277  Manhattan  \n",
              "28     0.667836  Euclidean  \n",
              "29     0.694083  Euclidean  \n",
              "30     0.692889  Euclidean  \n",
              "31     0.694080  Euclidean  \n",
              "32     0.661866  Minkowski  \n",
              "33     0.695851  Minkowski  \n",
              "34     0.696450  Minkowski  \n",
              "35     0.696450  Minkowski  \n",
              "36     0.665416  Manhattan  \n",
              "37     0.703564  Manhattan  \n",
              "38     0.704160  Manhattan  \n",
              "39     0.704755  Manhattan  \n",
              "40     0.660647  Euclidean  \n",
              "41     0.704174  Euclidean  \n",
              "42     0.705967  Euclidean  \n",
              "43     0.706558  Euclidean  \n",
              "44     0.661235  Minkowski  \n",
              "45     0.704794  Minkowski  \n",
              "46     0.704192  Minkowski  \n",
              "47     0.704783  Minkowski  \n",
              "48     0.666011  Manhattan  \n",
              "49     0.717298  Manhattan  \n",
              "50     0.719087  Manhattan  \n",
              "51     0.720277  Manhattan  \n",
              "52     0.655272  Euclidean  \n",
              "53     0.716709  Euclidean  \n",
              "54     0.717301  Euclidean  \n",
              "55     0.717298  Euclidean  \n",
              "56     0.657656  Minkowski  \n",
              "57     0.713138  Minkowski  \n",
              "58     0.713737  Minkowski  \n",
              "59     0.714332  Minkowski  \n",
              "60     0.664200  Manhattan  \n",
              "61     0.703589  Manhattan  \n",
              "62     0.704780  Manhattan  \n",
              "63     0.704780  Manhattan  \n",
              "64     0.649301  Euclidean  \n",
              "65     0.702983  Euclidean  \n",
              "66     0.702987  Euclidean  \n",
              "67     0.703582  Euclidean  \n",
              "68     0.640954  Minkowski  \n",
              "69     0.698806  Minkowski  \n",
              "70     0.698211  Minkowski  \n",
              "71     0.698211  Minkowski  \n",
              "72     0.664225  Manhattan  \n",
              "73     0.713751  Manhattan  \n",
              "74     0.714353  Manhattan  \n",
              "75     0.714353  Manhattan  \n",
              "76     0.651686  Euclidean  \n",
              "77     0.708975  Euclidean  \n",
              "78     0.710176  Euclidean  \n",
              "79     0.710771  Euclidean  \n",
              "80     0.645138  Minkowski  \n",
              "81     0.705970  Minkowski  \n",
              "82     0.707171  Minkowski  \n",
              "83     0.707171  Minkowski  \n",
              "84     0.667800  Manhattan  \n",
              "85     0.706565  Manhattan  \n",
              "86     0.707763  Manhattan  \n",
              "87     0.707759  Manhattan  \n",
              "88     0.647516  Euclidean  \n",
              "89     0.705393  Euclidean  \n",
              "90     0.706590  Euclidean  \n",
              "91     0.705995  Euclidean  \n",
              "92     0.634998  Minkowski  \n",
              "93     0.700613  Minkowski  \n",
              "94     0.702406  Minkowski  \n",
              "95     0.702406  Minkowski  \n",
              "96     0.680339  Manhattan  \n",
              "97     0.707164  Manhattan  \n",
              "98     0.708362  Manhattan  \n",
              "99     0.707168  Manhattan  \n",
              "100    0.652313  Euclidean  \n",
              "101    0.706590  Euclidean  \n",
              "102    0.707784  Euclidean  \n",
              "103    0.707784  Euclidean  \n",
              "104    0.639200  Minkowski  \n",
              "105    0.698817  Minkowski  \n",
              "106    0.701201  Minkowski  \n",
              "107    0.701201  Minkowski  \n",
              "108    0.668998  Manhattan  \n",
              "109    0.708373  Manhattan  \n",
              "110    0.706587  Manhattan  \n",
              "111    0.705992  Manhattan  \n",
              "112    0.649309  Euclidean  \n",
              "113    0.712557  Euclidean  \n",
              "114    0.712561  Euclidean  \n",
              "115    0.713159  Euclidean  \n",
              "116    0.635600  Minkowski  \n",
              "117    0.708968  Minkowski  \n",
              "118    0.710753  Minkowski  \n",
              "119    0.710757  Minkowski  \n",
              "120    0.662457  Manhattan  \n",
              "121    0.707752  Manhattan  \n",
              "122    0.708950  Manhattan  \n",
              "123    0.708950  Manhattan  \n",
              "124    0.640968  Euclidean  \n",
              "125    0.702442  Euclidean  \n",
              "126    0.701251  Euclidean  \n",
              "127    0.701251  Euclidean  \n",
              "128    0.626657  Minkowski  \n",
              "129    0.703614  Minkowski  \n",
              "130    0.703015  Minkowski  \n",
              "131    0.703611  Minkowski  \n",
              "132    0.668410  Manhattan  \n",
              "133    0.705375  Manhattan  \n",
              "134    0.707171  Manhattan  \n",
              "135    0.706576  Manhattan  \n",
              "136    0.641563  Euclidean  \n",
              "137    0.694629  Euclidean  \n",
              "138    0.695826  Euclidean  \n",
              "139    0.695826  Euclidean  \n",
              "140    0.627242  Minkowski  \n",
              "141    0.699412  Minkowski  \n",
              "142    0.699408  Minkowski  \n",
              "143    0.700004  Minkowski  \n",
              "144    0.666039  Manhattan  \n",
              "145    0.695862  Manhattan  \n",
              "146    0.698250  Manhattan  \n",
              "147    0.698849  Manhattan  \n",
              "148    0.640376  Euclidean  \n",
              "149    0.689874  Euclidean  \n",
              "150    0.690469  Euclidean  \n",
              "151    0.689874  Euclidean  \n",
              "152    0.628436  Minkowski  \n",
              "153    0.688708  Minkowski  \n",
              "154    0.689895  Minkowski  \n",
              "155    0.689895  Minkowski  \n",
              "156    0.665433  Manhattan  \n",
              "157    0.695242  Manhattan  \n",
              "158    0.700014  Manhattan  \n",
              "159    0.699419  Manhattan  \n",
              "160    0.630803  Euclidean  \n",
              "161    0.694643  Euclidean  \n",
              "162    0.695238  Euclidean  \n",
              "163    0.695837  Euclidean  \n",
              "164    0.613512  Minkowski  \n",
              "165    0.681533  Minkowski  \n",
              "166    0.680332  Minkowski  \n",
              "167    0.679737  Minkowski  \n",
              "168    0.654110  Manhattan  \n",
              "169    0.692861  Manhattan  \n",
              "170    0.695249  Manhattan  \n",
              "171    0.695252  Manhattan  \n",
              "172    0.629042  Euclidean  \n",
              "173    0.692857  Euclidean  \n",
              "174    0.692854  Euclidean  \n",
              "175    0.692854  Euclidean  \n",
              "176    0.610536  Minkowski  \n",
              "177    0.678571  Minkowski  \n",
              "178    0.677377  Minkowski  \n",
              "179    0.677377  Minkowski  \n",
              "180    0.652306  Manhattan  \n",
              "181    0.692861  Manhattan  \n",
              "182    0.692258  Manhattan  \n",
              "183    0.692854  Manhattan  \n",
              "184    0.627834  Euclidean  \n",
              "185    0.689867  Euclidean  \n",
              "186    0.691061  Euclidean  \n",
              "187    0.691061  Euclidean  \n",
              "188    0.606965  Minkowski  \n",
              "189    0.676754  Minkowski  \n",
              "190    0.679138  Minkowski  \n",
              "191    0.679737  Minkowski  \n",
              "192    0.645181  Manhattan  \n",
              "193    0.692882  Manhattan  \n",
              "194    0.692283  Manhattan  \n",
              "195    0.692283  Manhattan  \n",
              "196    0.623695  Euclidean  \n",
              "197    0.681555  Euclidean  \n",
              "198    0.683939  Euclidean  \n",
              "199    0.683939  Euclidean  \n",
              "200    0.599223  Minkowski  \n",
              "201    0.674993  Minkowski  \n",
              "202    0.676176  Minkowski  \n",
              "203    0.676176  Minkowski  \n",
              "204    0.645755  Manhattan  \n",
              "205    0.697042  Manhattan  \n",
              "206    0.696446  Manhattan  \n",
              "207    0.695252  Manhattan  \n",
              "208    0.614157  Euclidean  \n",
              "209    0.677356  Euclidean  \n",
              "210    0.677948  Euclidean  \n",
              "211    0.677948  Euclidean  \n",
              "212    0.584912  Minkowski  \n",
              "213    0.673200  Minkowski  \n",
              "214    0.673788  Minkowski  \n",
              "215    0.673788  Minkowski  \n",
              "216    0.641011  Manhattan  \n",
              "217    0.688109  Manhattan  \n",
              "218    0.688708  Manhattan  \n",
              "219    0.688708  Manhattan  \n",
              "220    0.612988  Euclidean  \n",
              "221    0.676771  Euclidean  \n",
              "222    0.677965  Euclidean  \n",
              "223    0.677370  Euclidean  \n",
              "224    0.587903  Minkowski  \n",
              "225    0.668420  Minkowski  \n",
              "226    0.669604  Minkowski  \n",
              "227    0.669604  Minkowski  "
            ]
          },
          "metadata": {
            "tags": []
          },
          "execution_count": 55
        }
      ]
    },
    {
      "cell_type": "code",
      "metadata": {
        "colab": {
          "base_uri": "https://localhost:8080/",
          "height": 658
        },
        "id": "eqqWZ03cuStm",
        "outputId": "dd407ca8-fb0e-49f0-fbb2-d06e16e7cad9"
      },
      "source": [
        "\n",
        "import matplotlib.pyplot as plt\n",
        "\n",
        "%matplotlib inline \n",
        "%config InlineBackend.figure_format = 'retina'\n",
        "plt.style.use(\"ggplot\")\n",
        "plt.rcParams[\"figure.figsize\"] = (15,10)\n",
        "\n",
        "for i in [\"Manhattan\", \"Euclidean\", \"Minkowski\"]:\n",
        "    temp = grid_results[grid_results['metric'] == i]\n",
        "    plt.plot(temp['knn__n_neighbors'], temp['test_score'], marker = '.', label = i)\n",
        "    \n",
        "plt.legend()\n",
        "plt.xlabel('Number of Neighbors')\n",
        "plt.ylabel(\"Mean CV Score\")\n",
        "plt.title(\"KNN Performance Comparison\")\n",
        "plt.show()"
      ],
      "execution_count": 62,
      "outputs": [
        {
          "output_type": "execute_result",
          "data": {
            "text/plain": [
              "[<matplotlib.lines.Line2D at 0x7fc8e8ab4a90>]"
            ]
          },
          "metadata": {
            "tags": []
          },
          "execution_count": 62
        },
        {
          "output_type": "execute_result",
          "data": {
            "text/plain": [
              "[<matplotlib.lines.Line2D at 0x7fc8e8b16a20>]"
            ]
          },
          "metadata": {
            "tags": []
          },
          "execution_count": 62
        },
        {
          "output_type": "execute_result",
          "data": {
            "text/plain": [
              "[<matplotlib.lines.Line2D at 0x7fc8e8ab4e48>]"
            ]
          },
          "metadata": {
            "tags": []
          },
          "execution_count": 62
        },
        {
          "output_type": "execute_result",
          "data": {
            "text/plain": [
              "<matplotlib.legend.Legend at 0x7fc8eb5fda58>"
            ]
          },
          "metadata": {
            "tags": []
          },
          "execution_count": 62
        },
        {
          "output_type": "execute_result",
          "data": {
            "text/plain": [
              "Text(0.5, 0, 'Number of Neighbors')"
            ]
          },
          "metadata": {
            "tags": []
          },
          "execution_count": 62
        },
        {
          "output_type": "execute_result",
          "data": {
            "text/plain": [
              "Text(0, 0.5, 'Mean CV Score')"
            ]
          },
          "metadata": {
            "tags": []
          },
          "execution_count": 62
        },
        {
          "output_type": "execute_result",
          "data": {
            "text/plain": [
              "Text(0.5, 1.0, 'KNN Performance Comparison')"
            ]
          },
          "metadata": {
            "tags": []
          },
          "execution_count": 62
        },
        {
          "output_type": "display_data",
          "data": {
            "image/png": "[encoded data removed]",
            "text/plain": [
              "<Figure size 1080x720 with 1 Axes>"
            ]
          },
          "metadata": {
            "tags": [],
            "image/png": {
              "width": 896,
              "height": 607
            }
          }
        }
      ]
    }
  ]
}