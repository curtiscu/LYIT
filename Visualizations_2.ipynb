{
  "nbformat": 4,
  "nbformat_minor": 0,
  "metadata": {
    "colab": {
      "name": "Visualizations_2.ipynb",
      "provenance": [],
      "collapsed_sections": [],
      "toc_visible": true,
      "authorship_tag": "ABX9TyPcdDqg1s7ClARTdKAvMAYH",
      "include_colab_link": true
    },
    "kernelspec": {
      "name": "python3",
      "display_name": "Python 3"
    }
  },
  "cells": [
    {
      "cell_type": "markdown",
      "metadata": {
        "id": "view-in-github",
        "colab_type": "text"
      },
      "source": [
        "<a href=\"https://colab.research.google.com/github/curtiscu/LYIT/blob/master/Visualizations_2.ipynb\" target=\"_parent\"><img src=\"https://colab.research.google.com/assets/colab-badge.svg\" alt=\"Open In Colab\"/></a>"
      ]
    },
    {
      "cell_type": "markdown",
      "metadata": {
        "id": "7u4lXuw77gB8",
        "colab_type": "text"
      },
      "source": [
        "# Visualizations, revisited"
      ]
    },
    {
      "cell_type": "markdown",
      "metadata": {
        "id": "T5_JkIJN7lHP",
        "colab_type": "text"
      },
      "source": [
        "Redoing visualization code, this time to use the MultiIndex convenience functions, plus all the file loading refactored code. Should read a lot easier then."
      ]
    },
    {
      "cell_type": "markdown",
      "metadata": {
        "id": "NybvOG9ssS26",
        "colab_type": "text"
      },
      "source": [
        "# Setup env\n"
      ]
    },
    {
      "cell_type": "code",
      "metadata": {
        "id": "juZFbd9RttvQ",
        "colab_type": "code",
        "colab": {}
      },
      "source": [
        "# print all cell output\n",
        "from IPython.core.interactiveshell import InteractiveShell\n",
        "InteractiveShell.ast_node_interactivity = \"all\"\n"
      ],
      "execution_count": 0,
      "outputs": []
    },
    {
      "cell_type": "markdown",
      "metadata": {
        "id": "yEXZFoA4t9de",
        "colab_type": "text"
      },
      "source": [
        "## Google drive access"
      ]
    },
    {
      "cell_type": "code",
      "metadata": {
        "id": "uRELmgI2mvEK",
        "colab_type": "code",
        "outputId": "4e584fff-fe93-44b9-fb90-81ef26a0ed4b",
        "colab": {
          "base_uri": "https://localhost:8080/",
          "height": 125
        }
      },
      "source": [
        "# mount google drive\n",
        "\n",
        "from google.colab import drive\n",
        "drive.mount('/content/drive', force_remount=True)\n"
      ],
      "execution_count": 2,
      "outputs": [
        {
          "output_type": "stream",
          "text": [
            "Go to this URL in a browser: https://accounts.google.com/o/oauth2/auth?client_id=947318989803-6bn6qk8qdgf4n4g3pfee6491hc0brc4i.apps.googleusercontent.com&redirect_uri=urn%3aietf%3awg%3aoauth%3a2.0%3aoob&response_type=code&scope=email%20https%3a%2f%2fwww.googleapis.com%2fauth%2fdocs.test%20https%3a%2f%2fwww.googleapis.com%2fauth%2fdrive%20https%3a%2f%2fwww.googleapis.com%2fauth%2fdrive.photos.readonly%20https%3a%2f%2fwww.googleapis.com%2fauth%2fpeopleapi.readonly\n",
            "\n",
            "Enter your authorization code:\n",
            "··········\n",
            "Mounted at /content/drive\n"
          ],
          "name": "stdout"
        }
      ]
    },
    {
      "cell_type": "code",
      "metadata": {
        "id": "Yk2_ztH9uKat",
        "colab_type": "code",
        "outputId": "42eabe49-d9bd-420b-9385-ad3cf81d6e8e",
        "colab": {
          "base_uri": "https://localhost:8080/",
          "height": 283
        }
      },
      "source": [
        "# test, peek at data\n",
        "! ls -al '/content/drive/My Drive/groove-v1.0.0-midionly/groove/drummer1/eval_session/'\n",
        "\n",
        "# test, modules from local  'E:\\Google Drive\\LYIT\\Dissertation\\modules'\n",
        "! ls -al '/content/drive/My Drive/LYIT/Dissertation/modules/'"
      ],
      "execution_count": 3,
      "outputs": [
        {
          "output_type": "stream",
          "text": [
            "total 35\n",
            "-rw------- 1 root root 2589 Apr 27 12:01 10_soul-groove10_102_beat_4-4.mid\n",
            "-rw------- 1 root root 4793 Apr 27 12:01 1_funk-groove1_138_beat_4-4.mid\n",
            "-rw------- 1 root root 3243 Apr 27 12:01 2_funk-groove2_105_beat_4-4.mid\n",
            "-rw------- 1 root root 4466 Apr 27 12:01 3_soul-groove3_86_beat_4-4.mid\n",
            "-rw------- 1 root root 2551 Apr 27 12:01 4_soul-groove4_80_beat_4-4.mid\n",
            "-rw------- 1 root root 3798 Apr 27 12:01 5_funk-groove5_84_beat_4-4.mid\n",
            "-rw------- 1 root root 3760 Apr 27 12:01 6_hiphop-groove6_87_beat_4-4.mid\n",
            "-rw------- 1 root root 1894 Apr 27 12:01 7_pop-groove7_138_beat_4-4.mid\n",
            "-rw------- 1 root root 2437 Apr 27 12:01 8_rock-groove8_65_beat_4-4.mid\n",
            "-rw------- 1 root root 3448 Apr 27 12:01 9_soul-groove9_105_beat_4-4.mid\n",
            "total 34\n",
            "-rw------- 1 root root 21620 Jun  2 22:18 data_prep.py\n",
            "drwx------ 2 root root  4096 May 10 13:31 __pycache__\n",
            "-rw------- 1 root root  8416 Jun  2 21:24 visualizations.py\n"
          ],
          "name": "stdout"
        }
      ]
    },
    {
      "cell_type": "markdown",
      "metadata": {
        "id": "SBKOdMxXFygn",
        "colab_type": "text"
      },
      "source": [
        "## Auto reload module\n",
        "\n",
        "Now using library code I've created and saved to google drive which is automatically pushed to the cloud and made available to the colab env. The autoreload stuff below should help imports to 'reimport' to load changes to the library code.\n",
        "\n",
        "It's not the quickest/ most reliable, so if in a hurry, brute force loading of changes by restarting the runtime."
      ]
    },
    {
      "cell_type": "code",
      "metadata": {
        "id": "jErvkusO6D01",
        "colab_type": "code",
        "colab": {}
      },
      "source": [
        "# tool to auto reload modules.\n",
        "%load_ext autoreload\n",
        "\n",
        "# config to auto-reload all modules, handy to make \n",
        "# writing and testing modules much easier.\n",
        "%autoreload 2"
      ],
      "execution_count": 0,
      "outputs": []
    },
    {
      "cell_type": "markdown",
      "metadata": {
        "id": "2qR3tjMl4bv2",
        "colab_type": "text"
      },
      "source": [
        "## Imports and accessing lib functions"
      ]
    },
    {
      "cell_type": "code",
      "metadata": {
        "id": "U6Yjj8jC4gQr",
        "colab_type": "code",
        "outputId": "22f1d40b-0d02-4674-d8cf-a76fe8d21f77",
        "colab": {
          "base_uri": "https://localhost:8080/",
          "height": 125
        }
      },
      "source": [
        "# install required libs\n",
        "!pip install mido"
      ],
      "execution_count": 5,
      "outputs": [
        {
          "output_type": "stream",
          "text": [
            "Collecting mido\n",
            "\u001b[?25l  Downloading https://files.pythonhosted.org/packages/20/0a/81beb587b1ae832ea6a1901dc7c6faa380e8dd154e0a862f0a9f3d2afab9/mido-1.2.9-py2.py3-none-any.whl (52kB)\n",
            "\r\u001b[K     |██████▎                         | 10kB 16.5MB/s eta 0:00:01\r\u001b[K     |████████████▌                   | 20kB 1.7MB/s eta 0:00:01\r\u001b[K     |██████████████████▊             | 30kB 2.2MB/s eta 0:00:01\r\u001b[K     |█████████████████████████       | 40kB 2.5MB/s eta 0:00:01\r\u001b[K     |███████████████████████████████▏| 51kB 2.0MB/s eta 0:00:01\r\u001b[K     |████████████████████████████████| 61kB 1.9MB/s \n",
            "\u001b[?25hInstalling collected packages: mido\n",
            "Successfully installed mido-1.2.9\n"
          ],
          "name": "stdout"
        }
      ]
    },
    {
      "cell_type": "code",
      "metadata": {
        "id": "DQ0sg10tzufp",
        "colab_type": "code",
        "colab": {
          "base_uri": "https://localhost:8080/",
          "height": 34
        },
        "outputId": "45411765-a600-4095-bc9b-53a0307aa289"
      },
      "source": [
        "# import my modules\n",
        "import sys\n",
        "sys.path.append('/content/drive/My Drive/LYIT/Dissertation/modules/')\n",
        "import data_prep"
      ],
      "execution_count": 6,
      "outputs": [
        {
          "output_type": "stream",
          "text": [
            "LOADING custom module, when: 2020-06-04 15:08:55.445166, module name: data_prep\n"
          ],
          "name": "stdout"
        }
      ]
    },
    {
      "cell_type": "code",
      "metadata": {
        "id": "rjqCavr4sz4x",
        "colab_type": "code",
        "colab": {}
      },
      "source": [
        "# imports\n",
        "import pandas as pd\n",
        "import math\n",
        "import matplotlib.pyplot as plt\n",
        "import numpy as np\n",
        "\n",
        "\n",
        "# object that provides colours for charts\n",
        "from itertools import cycle\n",
        "\n"
      ],
      "execution_count": 0,
      "outputs": []
    },
    {
      "cell_type": "code",
      "metadata": {
        "id": "oPKVwQibzS7t",
        "colab_type": "code",
        "outputId": "c0f6d507-7584-447f-d5f7-cb0f95ce5ade",
        "colab": {
          "base_uri": "https://localhost:8080/",
          "height": 34
        }
      },
      "source": [
        "# testing auto reload of modules \n",
        "data_prep.test_function_call('bling2')"
      ],
      "execution_count": 8,
      "outputs": [
        {
          "output_type": "stream",
          "text": [
            "Test function called worked! when: 2020-06-04 15:08:55.489089,  param:bling2\n"
          ],
          "name": "stdout"
        }
      ]
    },
    {
      "cell_type": "markdown",
      "metadata": {
        "id": "lBT_BaeD4o8L",
        "colab_type": "text"
      },
      "source": [
        "## Pandas display options"
      ]
    },
    {
      "cell_type": "code",
      "metadata": {
        "id": "KkLdwFFAAotC",
        "colab_type": "code",
        "colab": {}
      },
      "source": [
        "def set_pandas_display_options() -> None:\n",
        "    # Ref: https://stackoverflow.com/a/52432757/\n",
        "    display = pd.options.display\n",
        "\n",
        "    display.max_columns = 1000\n",
        "    display.max_rows = 2000\n",
        "    display.max_colwidth = 1000\n",
        "    display.width = None\n",
        "    # display.precision = 2  # set as needed\n",
        "\n",
        "set_pandas_display_options()\n",
        "#pd.reset_option('all')\n"
      ],
      "execution_count": 0,
      "outputs": []
    },
    {
      "cell_type": "markdown",
      "metadata": {
        "id": "8JAbdrws8PlN",
        "colab_type": "text"
      },
      "source": [
        "# Visualization class"
      ]
    },
    {
      "cell_type": "code",
      "metadata": {
        "id": "C2QDi5Vk8S0F",
        "colab_type": "code",
        "colab": {}
      },
      "source": [
        "\n",
        "import data_prep as dp\n",
        "import data_prep.MidiTools as mt\n",
        "\n",
        "class Visualizations:\n",
        "\n",
        "  def __init__(self, plot_instruments=[36, 38, 51, 42]):\n",
        "    self.file_name = None # string name of file\n",
        "    self.file_df = None  # raw df data from file\n",
        "    self.instr_in_file = None # list of instruments in file\n",
        "    self.plot_instruments = plot_instruments # filter instruments to plot\n",
        "    self.plot_from_measure=1  # start plotting from bar#\n",
        "    self.plot_measures=2 # plot for number of bars\n",
        "    self.instr_time_filtered_df = None # data filtered for plotting\n",
        "    self.bins_per_bar = None  # quantize/ smallest beat level\n",
        "    self.ts_num = None # time sig beats per bar\n",
        "\n",
        "  def __str__(self):\n",
        "    return 'hello from viz class! setup for file: {}'.format(self.file_name)\n",
        "\n",
        "  def set_instruments(self, plot_instruments):\n",
        "    ''' \n",
        "      Can be used to set the instruments that are plotted, and\n",
        "      the order they're rendered in.\n",
        "    '''\n",
        "    self.plot_instruments = plot_instruments\n",
        "\n",
        "  def load(self, file_name):\n",
        "    self.file_name = file_name    \n",
        "    self.file_df, f, mtt = dp.load_file(file_name)  # load data\n",
        "    self.bins_per_bar = mtt.bins_per_bar() # store quantize level for plotting\n",
        "    self.ts_num = f.ts_num() # store musical beats per bar, for plotting\n",
        "\n",
        "\n",
        "  def configure_plot(self, plot_from_measure=1, plot_measures=2, plot_instruments=[36, 38, 51, 42])\n",
        "    '''\n",
        "      MUST be called before a plot call, sets up environment\n",
        "    '''\n",
        "    self.plot_from_measure = plot_from_measure\n",
        "    self.plot_measures = plot_measures\n",
        "    self.plot_instruments = plot_instruments\n",
        "\n",
        "    # selects bars to print\n",
        "    time_filtered_df = self.file_df.loc[plot_from_measure:(plot_from_measure+plot_measures)-1]\n",
        "\n",
        "    instr_in_file = time_filtered_df.note.unique().sort()\n",
        "    print('  instruments available to plot: {}, names: {}'.format(instr_in_file, mt.getInstruments(instr_in_file)))\n",
        "\n",
        "    # instrument filtering the df here ...\n",
        "    if self.plot_instruments is None:\n",
        "      self.plot_instruments = instr_in_file\n",
        "\n",
        "    self.instr_time_filtered_df = time_filtered_df[time_filtered_df['note'].isin(self.plot_instruments)]\n",
        "\n",
        "    num_instruments = len(self.plot_instruments)\n",
        "\n",
        "    names = mt.getInstruments(self.plot_instruments)\n",
        "    print('  configured instruments to plot: {}, names: {}'.format(self.plot_instruments, names ))\n",
        "\n",
        "\n",
        "  def do_grid_plot(self):\n",
        "\n",
        "    # handy sortcut\n",
        "    df = self.instr_time_filtered_df\n",
        "\n",
        "    # setup beat/ bar indicators\n",
        "    #total_small_beats = list(range(1.5, (self.bins_per_bar * self.plot_measures) , 1))\n",
        "    total_small_beats = list(range(0, (self.bins_per_bar * self.plot_measures) , 1))\n",
        "    big_beat_ticks = small_beat_ticks[:: int(self.bins_per_bar/ self.ts_num)]\n",
        "    bar_ticks = big_beat_ticks[::self.ts_num]\n",
        "\n",
        "    # Build data structure required by broken_barh\n",
        "    bag_of_instruments = {}\n",
        "    for i in self.plot_instruments:\n",
        "      instrument_hits = df.loc[df['note'] == i, 'total_ticks']\n",
        "      instrument_hit_duples = []\n",
        "      for i_time in instrument_hits:\n",
        "        instrument_hit_duples.append((i_time, 10))\n",
        "\n",
        "      bag_of_instruments[i] = instrument_hit_duples\n",
        "\n",
        "    #print('bag_of_instruments: {}'.format(bag_of_instruments))\n",
        "\n",
        "    # object that provides colours for charts\n",
        "    cycol = cycle('bgrcmykw')  \n",
        "\n",
        "    # create list for x-axis markers in plot\n",
        "    bin_size = mtt.bin_size();\n",
        "    my_xticks = list(range(int(start_tick) + int(bin_size/2), int(end_tick), bin_size))\n",
        "\n",
        "\n",
        "    #############################################\n",
        "    ## Show plot\n",
        "    #############################################\n",
        "    \n",
        "    fig, ax = plt.subplots()\n",
        "    fig.set_size_inches(12*bars_to_render, 1+num_instruments, forward=True)\n",
        "    \n",
        "    # loop for each instrument\n",
        "    y_axis = 0\n",
        "    for i in instruments_to_render:\n",
        "      y_axis += 10\n",
        "      ax.broken_barh(bag_of_instruments[int(i)], (y_axis, 9), facecolors=next(cycol));\n",
        "\n",
        "\n",
        "    ax.set_ylim(5, (num_instruments*10)+10);\n",
        "    ax.set_xlim(start_tick, end_tick);\n",
        "    ax.set_xlabel('Plot for bars {} - {}'.format(bar_to_start, bar_to_start+ bars_to_render-1));\n",
        "    ax.set_yticks(list(range(15, ((num_instruments+1)*10)+5, 10)));\n",
        "    ax.set_yticklabels(names);\n",
        "\n",
        "    #Add lines for beats and bars\n",
        "    for next_beat_marker in big_beat_ticks:\n",
        "      ax.axvline(next_beat_marker, color='black', linestyle='dotted', linewidth=2); \n",
        "    for next_bar_marker in bar_ticks:\n",
        "      ax.axvline(next_bar_marker, color='black', linestyle='solid', linewidth=2); \n",
        "\n",
        "    ax.set_xticks(my_xticks);\n",
        "    ax.grid(True);\n",
        "    \n",
        "      #Add horizontal and vertical lines\n",
        "    plt.axhline(0, color='black', linestyle='dotted', linewidth=2);  #horizontal line\n",
        "\n",
        "    plt.show();\n",
        "\n",
        "\n",
        "\n",
        "  def do_offset_plot():\n",
        "\n",
        "    # Building data structures for plot\n",
        "    bag_of_instrument_hits = {}\n",
        "    for i in instruments_to_render:\n",
        "      instrument_hits = instr_time_filtered_df.loc[instr_time_filtered_df['note'] == i, 'total_ticks']\n",
        "      instrument_hit_array = []\n",
        "      for i_time in instrument_hits:\n",
        "        instrument_hit_array.append(i_time)\n",
        "\n",
        "      bag_of_instrument_hits[i] = instrument_hit_array\n",
        "\n",
        "\n",
        "    #print('bag_of_instrument_hits: {}'.format(bag_of_instrument_hits))\n",
        "\n",
        "    bag_of_instrument_offsets = {}\n",
        "    for i in instruments_to_render:\n",
        "      instrument_offsets = instr_time_filtered_df.loc[instr_time_filtered_df['note'] == i, 'offset']\n",
        "      instrument_offset_array = []\n",
        "      for i_time in instrument_offsets:\n",
        "        instrument_offset_array.append(i_time)\n",
        "\n",
        "      bag_of_instrument_offsets[i] = instrument_offset_array\n",
        "\n",
        "    #print('bag_of_instrument_offsets: {}'.format(bag_of_instrument_offsets))\n",
        "\n",
        "    # create list for x-axis markers in plot\n",
        "    bin_size = mtt.bin_size();\n",
        "    my_xticks = list(range(int(start_tick) + int(bin_size/2), int(end_tick), bin_size))\n",
        "\n",
        "\n",
        "\n",
        "    fig, ax = plt.subplots();\n",
        "    fig.set_size_inches(12*bars_to_render, 1+num_instruments, forward=True);\n",
        "    \n",
        "\n",
        "    # loop for each instrument\n",
        "    for i in instruments_to_render:\n",
        "      ax.plot(bag_of_instrument_hits[i], bag_of_instrument_offsets[i], '-o', ms= 10, label=data_prep.MidiTools.mapInstrument(i));\n",
        "\n",
        "    ax.set(xlabel='Plot for bars {} - {}'.format(bar_to_start, bar_to_start+ bars_to_render-1), ylabel='Beat offset from norm (ticks)', title='timing offset data');\n",
        "\n",
        "    #####################################\n",
        "    # Add horizontal and vertical lines\n",
        "    \n",
        "    ax.axhline(0, color='black', linestyle='dotted', linewidth=2);  #horizontal line\n",
        "    \n",
        "    # setup beat/ bar indicators\n",
        "    small_beat_ticks = list(range(int(start_tick) + int(bin_size/2), int(end_tick), bin_size))\n",
        "    big_beat_ticks = small_beat_ticks[:: int(mtt.bins_per_bar()/ f.ts_num())]\n",
        "    bar_ticks = big_beat_ticks[::f.ts_num()]\n",
        "\n",
        "    for next_beat_marker in big_beat_ticks:\n",
        "      ax.axvline(next_beat_marker, color='black', linestyle='dotted', linewidth=2); \n",
        "    for next_bar_marker in bar_ticks:\n",
        "      ax.axvline(next_bar_marker, color='black', linestyle='solid', linewidth=2); \n",
        "\n",
        "    \n",
        "\n",
        "    ax.set_xticks(my_xticks);\n",
        "\n",
        "    #ax.grid(axis='y')\n",
        "    ax.grid();\n",
        "    ax.legend();\n",
        "\n",
        "    #fig.savefig(\"test.png\")\n",
        "    plt.show();\n",
        "\n",
        "\n",
        "\n"
      ],
      "execution_count": 0,
      "outputs": []
    },
    {
      "cell_type": "code",
      "metadata": {
        "id": "9lb4z08a8gjU",
        "colab_type": "code",
        "outputId": "40c54180-ea97-4221-ce68-2830a456833b",
        "colab": {
          "base_uri": "https://localhost:8080/",
          "height": 34
        }
      },
      "source": [
        "v = Visualizations()\n",
        "str(v)"
      ],
      "execution_count": 11,
      "outputs": [
        {
          "output_type": "execute_result",
          "data": {
            "text/plain": [
              "'hello from viz class!'"
            ]
          },
          "metadata": {
            "tags": []
          },
          "execution_count": 11
        }
      ]
    },
    {
      "cell_type": "markdown",
      "metadata": {
        "id": "maO2QSeF1iut",
        "colab_type": "text"
      },
      "source": [
        "# Testing"
      ]
    },
    {
      "cell_type": "code",
      "metadata": {
        "id": "M81cIs-G1mMi",
        "colab_type": "code",
        "colab": {}
      },
      "source": [
        ""
      ],
      "execution_count": 0,
      "outputs": []
    }
  ]
}