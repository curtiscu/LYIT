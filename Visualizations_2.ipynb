{
  "nbformat": 4,
  "nbformat_minor": 0,
  "metadata": {
    "colab": {
      "name": "Visualizations_2.ipynb",
      "provenance": [],
      "collapsed_sections": [],
      "toc_visible": true,
      "authorship_tag": "ABX9TyOPsIha4fQyQZBLYwj3phOY",
      "include_colab_link": true
    },
    "kernelspec": {
      "name": "python3",
      "display_name": "Python 3"
    }
  },
  "cells": [
    {
      "cell_type": "markdown",
      "metadata": {
        "id": "view-in-github",
        "colab_type": "text"
      },
      "source": [
        "<a href=\"https://colab.research.google.com/github/curtiscu/LYIT/blob/master/Visualizations_2.ipynb\" target=\"_parent\"><img src=\"https://colab.research.google.com/assets/colab-badge.svg\" alt=\"Open In Colab\"/></a>"
      ]
    },
    {
      "cell_type": "markdown",
      "metadata": {
        "id": "7u4lXuw77gB8",
        "colab_type": "text"
      },
      "source": [
        "# Visualizations, revisited"
      ]
    },
    {
      "cell_type": "markdown",
      "metadata": {
        "id": "T5_JkIJN7lHP",
        "colab_type": "text"
      },
      "source": [
        "Redoing visualization code, this time to use the MultiIndex convenience functions, plus all the file loading refactored code. Should read a lot easier then."
      ]
    },
    {
      "cell_type": "code",
      "metadata": {
        "id": "6dKhi9kN7eR3",
        "colab_type": "code",
        "colab": {}
      },
      "source": [
        ""
      ],
      "execution_count": 0,
      "outputs": []
    }
  ]
}