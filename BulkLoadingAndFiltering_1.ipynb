{
  "nbformat": 4,
  "nbformat_minor": 0,
  "metadata": {
    "colab": {
      "name": "BulkLoadingAndFiltering_1.ipynb",
      "provenance": [],
      "collapsed_sections": [],
      "toc_visible": true,
      "authorship_tag": "ABX9TyOemOmtq8FIyOyQPDKnCXBE",
      "include_colab_link": true
    },
    "kernelspec": {
      "name": "python3",
      "display_name": "Python 3"
    }
  },
  "cells": [
    {
      "cell_type": "markdown",
      "metadata": {
        "id": "view-in-github",
        "colab_type": "text"
      },
      "source": [
        "<a href=\"https://colab.research.google.com/github/curtiscu/LYIT/blob/master/BulkLoadingAndFiltering_1.ipynb\" target=\"_parent\"><img src=\"https://colab.research.google.com/assets/colab-badge.svg\" alt=\"Open In Colab\"/></a>"
      ]
    },
    {
      "cell_type": "markdown",
      "metadata": {
        "id": "tiG8RNQwfDOE",
        "colab_type": "text"
      },
      "source": [
        "# Bulk loading, pre-processing, pre-filtering of data\n",
        "\n",
        "NOTE: copied from 'BulkVisualisations_1.ipynb', which wasn't completed, but that file did a lot of getting the data into a usable shape."
      ]
    },
    {
      "cell_type": "markdown",
      "metadata": {
        "id": "NybvOG9ssS26",
        "colab_type": "text"
      },
      "source": [
        "# Setup env\n"
      ]
    },
    {
      "cell_type": "code",
      "metadata": {
        "id": "juZFbd9RttvQ",
        "colab_type": "code",
        "colab": {}
      },
      "source": [
        "# print all cell output\n",
        "from IPython.core.interactiveshell import InteractiveShell\n",
        "InteractiveShell.ast_node_interactivity = \"all\"\n"
      ],
      "execution_count": 1,
      "outputs": []
    },
    {
      "cell_type": "markdown",
      "metadata": {
        "id": "yEXZFoA4t9de",
        "colab_type": "text"
      },
      "source": [
        "## Google drive access"
      ]
    },
    {
      "cell_type": "code",
      "metadata": {
        "id": "uRELmgI2mvEK",
        "colab_type": "code",
        "colab": {
          "base_uri": "https://localhost:8080/",
          "height": 125
        },
        "outputId": "e3e141d9-fd76-4977-8af7-daad8fcbd77d"
      },
      "source": [
        "# mount google drive\n",
        "\n",
        "from google.colab import drive\n",
        "drive.mount('/content/drive', force_remount=True)\n"
      ],
      "execution_count": 2,
      "outputs": [
        {
          "output_type": "stream",
          "text": [
            "Go to this URL in a browser: https://accounts.google.com/o/oauth2/auth?client_id=947318989803-6bn6qk8qdgf4n4g3pfee6491hc0brc4i.apps.googleusercontent.com&redirect_uri=urn%3aietf%3awg%3aoauth%3a2.0%3aoob&response_type=code&scope=email%20https%3a%2f%2fwww.googleapis.com%2fauth%2fdocs.test%20https%3a%2f%2fwww.googleapis.com%2fauth%2fdrive%20https%3a%2f%2fwww.googleapis.com%2fauth%2fdrive.photos.readonly%20https%3a%2f%2fwww.googleapis.com%2fauth%2fpeopleapi.readonly\n",
            "\n",
            "Enter your authorization code:\n",
            "··········\n",
            "Mounted at /content/drive\n"
          ],
          "name": "stdout"
        }
      ]
    },
    {
      "cell_type": "code",
      "metadata": {
        "id": "Yk2_ztH9uKat",
        "colab_type": "code",
        "colab": {
          "base_uri": "https://localhost:8080/",
          "height": 301
        },
        "outputId": "8e3021ef-daa6-461a-95e4-2fb1b8212b92"
      },
      "source": [
        "# test, peek at data\n",
        "! ls -al '/content/drive/My Drive/groove-v1.0.0-midionly/groove/drummer1/eval_session/'\n",
        "\n",
        "# test, modules from local  'E:\\Google Drive\\LYIT\\Dissertation\\modules'\n",
        "! ls -al '/content/drive/My Drive/LYIT/Dissertation/modules/'"
      ],
      "execution_count": 3,
      "outputs": [
        {
          "output_type": "stream",
          "text": [
            "total 35\n",
            "-rw------- 1 root root 2589 Apr 27 12:01 10_soul-groove10_102_beat_4-4.mid\n",
            "-rw------- 1 root root 4793 Apr 27 12:01 1_funk-groove1_138_beat_4-4.mid\n",
            "-rw------- 1 root root 3243 Apr 27 12:01 2_funk-groove2_105_beat_4-4.mid\n",
            "-rw------- 1 root root 4466 Apr 27 12:01 3_soul-groove3_86_beat_4-4.mid\n",
            "-rw------- 1 root root 2551 Apr 27 12:01 4_soul-groove4_80_beat_4-4.mid\n",
            "-rw------- 1 root root 3798 Apr 27 12:01 5_funk-groove5_84_beat_4-4.mid\n",
            "-rw------- 1 root root 3760 Apr 27 12:01 6_hiphop-groove6_87_beat_4-4.mid\n",
            "-rw------- 1 root root 1894 Apr 27 12:01 7_pop-groove7_138_beat_4-4.mid\n",
            "-rw------- 1 root root 2437 Apr 27 12:01 8_rock-groove8_65_beat_4-4.mid\n",
            "-rw------- 1 root root 3448 Apr 27 12:01 9_soul-groove9_105_beat_4-4.mid\n",
            "total 43\n",
            "-rw------- 1 root root 22877 Jul  2 21:06 data_prep.py\n",
            "drwx------ 2 root root  4096 May 10 13:31 __pycache__\n",
            "-rw------- 1 root root  7276 Jul  6 14:14 stats_n_features.py\n",
            "-rw------- 1 root root  8416 Jun  2 21:24 visualizations.py\n"
          ],
          "name": "stdout"
        }
      ]
    },
    {
      "cell_type": "markdown",
      "metadata": {
        "id": "SBKOdMxXFygn",
        "colab_type": "text"
      },
      "source": [
        "## Auto reload module\n",
        "\n",
        "Now using library code I've created and saved to google drive which is automatically pushed to the cloud and made available to the colab env. The autoreload stuff below should help imports to 'reimport' to load changes to the library code.\n",
        "\n",
        "It's not the quickest/ most reliable, so if in a hurry, brute force loading of changes by restarting the runtime."
      ]
    },
    {
      "cell_type": "code",
      "metadata": {
        "id": "jErvkusO6D01",
        "colab_type": "code",
        "colab": {}
      },
      "source": [
        "# tool to auto reload modules.\n",
        "%load_ext autoreload\n",
        "\n",
        "# config to auto-reload all modules, handy to make \n",
        "# writing and testing modules much easier.\n",
        "%autoreload 2"
      ],
      "execution_count": 4,
      "outputs": []
    },
    {
      "cell_type": "markdown",
      "metadata": {
        "id": "2qR3tjMl4bv2",
        "colab_type": "text"
      },
      "source": [
        "## Imports and accessing lib functions"
      ]
    },
    {
      "cell_type": "code",
      "metadata": {
        "id": "U6Yjj8jC4gQr",
        "colab_type": "code",
        "colab": {
          "base_uri": "https://localhost:8080/",
          "height": 105
        },
        "outputId": "dbe1af07-e577-4374-bbe1-1c9eca043292"
      },
      "source": [
        "# install required libs\n",
        "!pip install mido"
      ],
      "execution_count": 5,
      "outputs": [
        {
          "output_type": "stream",
          "text": [
            "Collecting mido\n",
            "\u001b[?25l  Downloading https://files.pythonhosted.org/packages/20/0a/81beb587b1ae832ea6a1901dc7c6faa380e8dd154e0a862f0a9f3d2afab9/mido-1.2.9-py2.py3-none-any.whl (52kB)\n",
            "\r\u001b[K     |██████▎                         | 10kB 17.3MB/s eta 0:00:01\r\u001b[K     |████████████▌                   | 20kB 1.7MB/s eta 0:00:01\r\u001b[K     |██████████████████▊             | 30kB 2.3MB/s eta 0:00:01\r\u001b[K     |█████████████████████████       | 40kB 2.6MB/s eta 0:00:01\r\u001b[K     |███████████████████████████████▏| 51kB 2.0MB/s eta 0:00:01\r\u001b[K     |████████████████████████████████| 61kB 1.9MB/s \n",
            "\u001b[?25hInstalling collected packages: mido\n",
            "Successfully installed mido-1.2.9\n"
          ],
          "name": "stdout"
        }
      ]
    },
    {
      "cell_type": "code",
      "metadata": {
        "id": "DQ0sg10tzufp",
        "colab_type": "code",
        "colab": {
          "base_uri": "https://localhost:8080/",
          "height": 34
        },
        "outputId": "f4978dcd-67c3-4125-8801-14e5f3fa651f"
      },
      "source": [
        "# import my modules\n",
        "import sys\n",
        "sys.path.append('/content/drive/My Drive/LYIT/Dissertation/modules/')\n",
        "import data_prep as dp"
      ],
      "execution_count": 6,
      "outputs": [
        {
          "output_type": "stream",
          "text": [
            ">> LOADING custom module, when: 2020-07-27 19:52:17.918681, module name: data_prep\n"
          ],
          "name": "stdout"
        }
      ]
    },
    {
      "cell_type": "code",
      "metadata": {
        "id": "rjqCavr4sz4x",
        "colab_type": "code",
        "colab": {}
      },
      "source": [
        "# imports\n",
        "import pandas as pd\n",
        "import math\n",
        "import matplotlib.pyplot as plt\n",
        "import numpy as np\n",
        "\n",
        "\n",
        "# object that provides colours for charts\n",
        "from itertools import cycle\n",
        "\n"
      ],
      "execution_count": 7,
      "outputs": []
    },
    {
      "cell_type": "code",
      "metadata": {
        "id": "oPKVwQibzS7t",
        "colab_type": "code",
        "colab": {
          "base_uri": "https://localhost:8080/",
          "height": 34
        },
        "outputId": "74cc3067-517c-4c0e-ee92-60afc8f0f74e"
      },
      "source": [
        "# testing auto reload of modules \n",
        "dp.test_function_call('bling')"
      ],
      "execution_count": 8,
      "outputs": [
        {
          "output_type": "stream",
          "text": [
            "Test function in data_prep.py called and worked! when: 2020-07-27 19:52:17.962971,  param:bling\n"
          ],
          "name": "stdout"
        }
      ]
    },
    {
      "cell_type": "code",
      "metadata": {
        "id": "hgjC4lM-Y7Vj",
        "colab_type": "code",
        "colab": {
          "base_uri": "https://localhost:8080/",
          "height": 34
        },
        "outputId": "3918a008-6bd2-4e58-d147-2d0be47dd252"
      },
      "source": [
        "import stats_n_features as sf"
      ],
      "execution_count": 9,
      "outputs": [
        {
          "output_type": "stream",
          "text": [
            ">> LOADING custom module, when: 2020-07-27 19:52:18.255542, module name: stats_n_features\n"
          ],
          "name": "stdout"
        }
      ]
    },
    {
      "cell_type": "code",
      "metadata": {
        "id": "aKHLluCwZjIZ",
        "colab_type": "code",
        "colab": {
          "base_uri": "https://localhost:8080/",
          "height": 34
        },
        "outputId": "d17aeed8-0b82-403e-fcb4-8c99782ade21"
      },
      "source": [
        "sf.test_function_call('hello')"
      ],
      "execution_count": 10,
      "outputs": [
        {
          "output_type": "stream",
          "text": [
            "Test function in stats_n_features called and worked! when: 2020-07-27 19:52:18.278326,  param:hello\n"
          ],
          "name": "stdout"
        }
      ]
    },
    {
      "cell_type": "markdown",
      "metadata": {
        "id": "lBT_BaeD4o8L",
        "colab_type": "text"
      },
      "source": [
        "## Pandas display options"
      ]
    },
    {
      "cell_type": "code",
      "metadata": {
        "id": "KkLdwFFAAotC",
        "colab_type": "code",
        "colab": {}
      },
      "source": [
        "def set_pandas_display_options() -> None:\n",
        "    # Ref: https://stackoverflow.com/a/52432757/\n",
        "    display = pd.options.display\n",
        "\n",
        "    display.max_columns = 1000\n",
        "    display.max_rows = 2000\n",
        "    display.max_colwidth = 1000\n",
        "    display.width = None\n",
        "    # display.precision = 2  # set as needed\n",
        "\n",
        "set_pandas_display_options()\n",
        "#pd.reset_option('all')\n"
      ],
      "execution_count": 11,
      "outputs": []
    },
    {
      "cell_type": "markdown",
      "metadata": {
        "id": "XOEHyfeKfcT0",
        "colab_type": "text"
      },
      "source": [
        "# Bulk Load Data"
      ]
    },
    {
      "cell_type": "markdown",
      "metadata": {
        "id": "w6l5S2tJzPX3",
        "colab_type": "text"
      },
      "source": [
        "There's a csv of meta info on all the various MIDI files in the data bundle. This part of the code plays around with that, loading/ filtering/ tweaking some columns, etc.\n",
        "\n",
        "Not convinced there's much benefit to this approach every time, probably worth doing a bit of manipulation and saving out the results into a DataFrame usable later."
      ]
    },
    {
      "cell_type": "markdown",
      "metadata": {
        "id": "NbEtlLIQhsT6",
        "colab_type": "text"
      },
      "source": [
        "### Setup\n",
        "\n",
        "This does some tweaking of the info.csv, sets the types, then filters the list to those in the 'eval_session' section, then adds new column prefixing filenames with full paths so they can be easily loaded."
      ]
    },
    {
      "cell_type": "code",
      "metadata": {
        "id": "PRt-gGguUkAB",
        "colab_type": "code",
        "colab": {
          "base_uri": "https://localhost:8080/",
          "height": 496
        },
        "outputId": "81da61f6-5d69-49ba-bf57-a0300e89c32e"
      },
      "source": [
        "metafile = '/content/drive/My Drive/groove-v1.0.0-midionly/groove/info.csv'\n",
        "\n",
        "meta_df = pd.read_csv(metafile, dtype = {\"drummer\": \"string\", \n",
        "                                         \"session\" : \"string\", \n",
        "                                         \"id\": \"string\", \n",
        "                                         \"style\": \"string\", \n",
        "                                         \"beat_type\": \"string\", \n",
        "                                         \"time_signature\" : \"string\",\n",
        "                                         \"midi_filename\" : \"string\",\n",
        "                                         \"audio_filename\" : \"string\",\n",
        "                                         \"split\" : \"string\"})\n",
        "\n",
        "# show count of test/ train/ validation split specified in file...\n",
        "meta_df.groupby(['split', 'drummer']).size()\n"
      ],
      "execution_count": 12,
      "outputs": [
        {
          "output_type": "execute_result",
          "data": {
            "text/plain": [
              "split       drummer  \n",
              "test        drummer1      48\n",
              "            drummer3       8\n",
              "            drummer5      13\n",
              "            drummer7      40\n",
              "            drummer8      17\n",
              "            drummer9       3\n",
              "train       drummer1     386\n",
              "            drummer10     10\n",
              "            drummer2      17\n",
              "            drummer3      83\n",
              "            drummer4       7\n",
              "            drummer5      36\n",
              "            drummer6      11\n",
              "            drummer7     263\n",
              "            drummer8      58\n",
              "            drummer9      26\n",
              "validation  drummer1      60\n",
              "            drummer2       1\n",
              "            drummer3       7\n",
              "            drummer4       2\n",
              "            drummer5       5\n",
              "            drummer6       4\n",
              "            drummer7      39\n",
              "            drummer8       5\n",
              "            drummer9       1\n",
              "dtype: int64"
            ]
          },
          "metadata": {
            "tags": []
          },
          "execution_count": 12
        }
      ]
    },
    {
      "cell_type": "markdown",
      "metadata": {
        "id": "VeRtimIk1_L7",
        "colab_type": "text"
      },
      "source": [
        "### Filter to just the 'eval_session' songs"
      ]
    },
    {
      "cell_type": "code",
      "metadata": {
        "id": "XTQAL2XDR9Sa",
        "colab_type": "code",
        "colab": {
          "base_uri": "https://localhost:8080/",
          "height": 425
        },
        "outputId": "a1d8c226-9aae-48ce-8c1b-65fbd0b5b26e"
      },
      "source": [
        "# pull out the data for just 'eval_session' ..\n",
        "eval_df = meta_df[meta_df['session'].str.contains('eval_session')].copy()\n",
        "eval_df.info()\n",
        "\n",
        "# display(eval_df)\n",
        "eval_df['style'].unique()"
      ],
      "execution_count": 13,
      "outputs": [
        {
          "output_type": "stream",
          "text": [
            "<class 'pandas.core.frame.DataFrame'>\n",
            "Int64Index: 40 entries, 0 to 1033\n",
            "Data columns (total 11 columns):\n",
            " #   Column          Non-Null Count  Dtype  \n",
            "---  ------          --------------  -----  \n",
            " 0   drummer         40 non-null     string \n",
            " 1   session         40 non-null     string \n",
            " 2   id              40 non-null     string \n",
            " 3   style           40 non-null     string \n",
            " 4   bpm             40 non-null     int64  \n",
            " 5   beat_type       40 non-null     string \n",
            " 6   time_signature  40 non-null     string \n",
            " 7   midi_filename   40 non-null     string \n",
            " 8   audio_filename  40 non-null     string \n",
            " 9   duration        40 non-null     float64\n",
            " 10  split           40 non-null     string \n",
            "dtypes: float64(1), int64(1), string(9)\n",
            "memory usage: 3.8 KB\n"
          ],
          "name": "stdout"
        },
        {
          "output_type": "execute_result",
          "data": {
            "text/plain": [
              "<StringArray>\n",
              "[  'funk/groove1',  'soul/groove10',   'funk/groove2',   'soul/groove3',\n",
              "   'soul/groove4',   'funk/groove5', 'hiphop/groove6',    'pop/groove7',\n",
              "   'rock/groove8',   'soul/groove9']\n",
              "Length: 10, dtype: string"
            ]
          },
          "metadata": {
            "tags": []
          },
          "execution_count": 13
        }
      ]
    },
    {
      "cell_type": "code",
      "metadata": {
        "id": "XwxqjlIofp0i",
        "colab_type": "code",
        "colab": {
          "base_uri": "https://localhost:8080/",
          "height": 221
        },
        "outputId": "3fe8e236-2fd7-40c9-b8a5-6a651a738fff"
      },
      "source": [
        "eval_df.drop(columns=['audio_filename', 'duration', 'beat_type'], inplace=True)\n",
        "\n",
        "eval_df.groupby('drummer', as_index=False).count()\n",
        "print('list of unique drummer IDs: {}'.format(eval_df['drummer'].unique()))"
      ],
      "execution_count": 14,
      "outputs": [
        {
          "output_type": "execute_result",
          "data": {
            "text/html": [
              "<div>\n",
              "<style scoped>\n",
              "    .dataframe tbody tr th:only-of-type {\n",
              "        vertical-align: middle;\n",
              "    }\n",
              "\n",
              "    .dataframe tbody tr th {\n",
              "        vertical-align: top;\n",
              "    }\n",
              "\n",
              "    .dataframe thead th {\n",
              "        text-align: right;\n",
              "    }\n",
              "</style>\n",
              "<table border=\"1\" class=\"dataframe\">\n",
              "  <thead>\n",
              "    <tr style=\"text-align: right;\">\n",
              "      <th></th>\n",
              "      <th>drummer</th>\n",
              "      <th>session</th>\n",
              "      <th>id</th>\n",
              "      <th>style</th>\n",
              "      <th>bpm</th>\n",
              "      <th>time_signature</th>\n",
              "      <th>midi_filename</th>\n",
              "      <th>split</th>\n",
              "    </tr>\n",
              "  </thead>\n",
              "  <tbody>\n",
              "    <tr>\n",
              "      <th>0</th>\n",
              "      <td>drummer1</td>\n",
              "      <td>10</td>\n",
              "      <td>10</td>\n",
              "      <td>10</td>\n",
              "      <td>10</td>\n",
              "      <td>10</td>\n",
              "      <td>10</td>\n",
              "      <td>10</td>\n",
              "    </tr>\n",
              "    <tr>\n",
              "      <th>1</th>\n",
              "      <td>drummer5</td>\n",
              "      <td>10</td>\n",
              "      <td>10</td>\n",
              "      <td>10</td>\n",
              "      <td>10</td>\n",
              "      <td>10</td>\n",
              "      <td>10</td>\n",
              "      <td>10</td>\n",
              "    </tr>\n",
              "    <tr>\n",
              "      <th>2</th>\n",
              "      <td>drummer7</td>\n",
              "      <td>10</td>\n",
              "      <td>10</td>\n",
              "      <td>10</td>\n",
              "      <td>10</td>\n",
              "      <td>10</td>\n",
              "      <td>10</td>\n",
              "      <td>10</td>\n",
              "    </tr>\n",
              "    <tr>\n",
              "      <th>3</th>\n",
              "      <td>drummer8</td>\n",
              "      <td>10</td>\n",
              "      <td>10</td>\n",
              "      <td>10</td>\n",
              "      <td>10</td>\n",
              "      <td>10</td>\n",
              "      <td>10</td>\n",
              "      <td>10</td>\n",
              "    </tr>\n",
              "  </tbody>\n",
              "</table>\n",
              "</div>"
            ],
            "text/plain": [
              "    drummer  session  id  style  bpm  time_signature  midi_filename  split\n",
              "0  drummer1       10  10     10   10              10             10     10\n",
              "1  drummer5       10  10     10   10              10             10     10\n",
              "2  drummer7       10  10     10   10              10             10     10\n",
              "3  drummer8       10  10     10   10              10             10     10"
            ]
          },
          "metadata": {
            "tags": []
          },
          "execution_count": 14
        },
        {
          "output_type": "stream",
          "text": [
            "list of unique drummer IDs: <StringArray>\n",
            "['drummer1', 'drummer5', 'drummer7', 'drummer8']\n",
            "Length: 4, dtype: string\n"
          ],
          "name": "stdout"
        }
      ]
    },
    {
      "cell_type": "code",
      "metadata": {
        "id": "gHFVZtyahlGr",
        "colab_type": "code",
        "colab": {
          "base_uri": "https://localhost:8080/",
          "height": 965
        },
        "outputId": "115aa0de-0e47-4b21-9970-bd88b5fc716b"
      },
      "source": [
        "file_prefix = '/content/drive/My Drive/groove-v1.0.0-midionly/groove/'\n",
        "\n",
        "eval_df['long_midi_filename'] = eval_df['midi_filename'].apply(lambda x: \"{}{}\".format(file_prefix, x))\n",
        "\n",
        "# eval_df.head(3)\n",
        "eval_df.head(10)\n",
        "eval_df.info()"
      ],
      "execution_count": 15,
      "outputs": [
        {
          "output_type": "execute_result",
          "data": {
            "text/html": [
              "<div>\n",
              "<style scoped>\n",
              "    .dataframe tbody tr th:only-of-type {\n",
              "        vertical-align: middle;\n",
              "    }\n",
              "\n",
              "    .dataframe tbody tr th {\n",
              "        vertical-align: top;\n",
              "    }\n",
              "\n",
              "    .dataframe thead th {\n",
              "        text-align: right;\n",
              "    }\n",
              "</style>\n",
              "<table border=\"1\" class=\"dataframe\">\n",
              "  <thead>\n",
              "    <tr style=\"text-align: right;\">\n",
              "      <th></th>\n",
              "      <th>drummer</th>\n",
              "      <th>session</th>\n",
              "      <th>id</th>\n",
              "      <th>style</th>\n",
              "      <th>bpm</th>\n",
              "      <th>time_signature</th>\n",
              "      <th>midi_filename</th>\n",
              "      <th>split</th>\n",
              "      <th>long_midi_filename</th>\n",
              "    </tr>\n",
              "  </thead>\n",
              "  <tbody>\n",
              "    <tr>\n",
              "      <th>0</th>\n",
              "      <td>drummer1</td>\n",
              "      <td>drummer1/eval_session</td>\n",
              "      <td>drummer1/eval_session/1</td>\n",
              "      <td>funk/groove1</td>\n",
              "      <td>138</td>\n",
              "      <td>4-4</td>\n",
              "      <td>drummer1/eval_session/1_funk-groove1_138_beat_4-4.mid</td>\n",
              "      <td>test</td>\n",
              "      <td>/content/drive/My Drive/groove-v1.0.0-midionly/groove/drummer1/eval_session/1_funk-groove1_138_beat_4-4.mid</td>\n",
              "    </tr>\n",
              "    <tr>\n",
              "      <th>1</th>\n",
              "      <td>drummer1</td>\n",
              "      <td>drummer1/eval_session</td>\n",
              "      <td>drummer1/eval_session/10</td>\n",
              "      <td>soul/groove10</td>\n",
              "      <td>102</td>\n",
              "      <td>4-4</td>\n",
              "      <td>drummer1/eval_session/10_soul-groove10_102_beat_4-4.mid</td>\n",
              "      <td>test</td>\n",
              "      <td>/content/drive/My Drive/groove-v1.0.0-midionly/groove/drummer1/eval_session/10_soul-groove10_102_beat_4-4.mid</td>\n",
              "    </tr>\n",
              "    <tr>\n",
              "      <th>2</th>\n",
              "      <td>drummer1</td>\n",
              "      <td>drummer1/eval_session</td>\n",
              "      <td>drummer1/eval_session/2</td>\n",
              "      <td>funk/groove2</td>\n",
              "      <td>105</td>\n",
              "      <td>4-4</td>\n",
              "      <td>drummer1/eval_session/2_funk-groove2_105_beat_4-4.mid</td>\n",
              "      <td>test</td>\n",
              "      <td>/content/drive/My Drive/groove-v1.0.0-midionly/groove/drummer1/eval_session/2_funk-groove2_105_beat_4-4.mid</td>\n",
              "    </tr>\n",
              "    <tr>\n",
              "      <th>3</th>\n",
              "      <td>drummer1</td>\n",
              "      <td>drummer1/eval_session</td>\n",
              "      <td>drummer1/eval_session/3</td>\n",
              "      <td>soul/groove3</td>\n",
              "      <td>86</td>\n",
              "      <td>4-4</td>\n",
              "      <td>drummer1/eval_session/3_soul-groove3_86_beat_4-4.mid</td>\n",
              "      <td>test</td>\n",
              "      <td>/content/drive/My Drive/groove-v1.0.0-midionly/groove/drummer1/eval_session/3_soul-groove3_86_beat_4-4.mid</td>\n",
              "    </tr>\n",
              "    <tr>\n",
              "      <th>4</th>\n",
              "      <td>drummer1</td>\n",
              "      <td>drummer1/eval_session</td>\n",
              "      <td>drummer1/eval_session/4</td>\n",
              "      <td>soul/groove4</td>\n",
              "      <td>80</td>\n",
              "      <td>4-4</td>\n",
              "      <td>drummer1/eval_session/4_soul-groove4_80_beat_4-4.mid</td>\n",
              "      <td>test</td>\n",
              "      <td>/content/drive/My Drive/groove-v1.0.0-midionly/groove/drummer1/eval_session/4_soul-groove4_80_beat_4-4.mid</td>\n",
              "    </tr>\n",
              "    <tr>\n",
              "      <th>5</th>\n",
              "      <td>drummer1</td>\n",
              "      <td>drummer1/eval_session</td>\n",
              "      <td>drummer1/eval_session/5</td>\n",
              "      <td>funk/groove5</td>\n",
              "      <td>84</td>\n",
              "      <td>4-4</td>\n",
              "      <td>drummer1/eval_session/5_funk-groove5_84_beat_4-4.mid</td>\n",
              "      <td>test</td>\n",
              "      <td>/content/drive/My Drive/groove-v1.0.0-midionly/groove/drummer1/eval_session/5_funk-groove5_84_beat_4-4.mid</td>\n",
              "    </tr>\n",
              "    <tr>\n",
              "      <th>6</th>\n",
              "      <td>drummer1</td>\n",
              "      <td>drummer1/eval_session</td>\n",
              "      <td>drummer1/eval_session/6</td>\n",
              "      <td>hiphop/groove6</td>\n",
              "      <td>87</td>\n",
              "      <td>4-4</td>\n",
              "      <td>drummer1/eval_session/6_hiphop-groove6_87_beat_4-4.mid</td>\n",
              "      <td>test</td>\n",
              "      <td>/content/drive/My Drive/groove-v1.0.0-midionly/groove/drummer1/eval_session/6_hiphop-groove6_87_beat_4-4.mid</td>\n",
              "    </tr>\n",
              "    <tr>\n",
              "      <th>7</th>\n",
              "      <td>drummer1</td>\n",
              "      <td>drummer1/eval_session</td>\n",
              "      <td>drummer1/eval_session/7</td>\n",
              "      <td>pop/groove7</td>\n",
              "      <td>138</td>\n",
              "      <td>4-4</td>\n",
              "      <td>drummer1/eval_session/7_pop-groove7_138_beat_4-4.mid</td>\n",
              "      <td>test</td>\n",
              "      <td>/content/drive/My Drive/groove-v1.0.0-midionly/groove/drummer1/eval_session/7_pop-groove7_138_beat_4-4.mid</td>\n",
              "    </tr>\n",
              "    <tr>\n",
              "      <th>8</th>\n",
              "      <td>drummer1</td>\n",
              "      <td>drummer1/eval_session</td>\n",
              "      <td>drummer1/eval_session/8</td>\n",
              "      <td>rock/groove8</td>\n",
              "      <td>65</td>\n",
              "      <td>4-4</td>\n",
              "      <td>drummer1/eval_session/8_rock-groove8_65_beat_4-4.mid</td>\n",
              "      <td>test</td>\n",
              "      <td>/content/drive/My Drive/groove-v1.0.0-midionly/groove/drummer1/eval_session/8_rock-groove8_65_beat_4-4.mid</td>\n",
              "    </tr>\n",
              "    <tr>\n",
              "      <th>9</th>\n",
              "      <td>drummer1</td>\n",
              "      <td>drummer1/eval_session</td>\n",
              "      <td>drummer1/eval_session/9</td>\n",
              "      <td>soul/groove9</td>\n",
              "      <td>105</td>\n",
              "      <td>4-4</td>\n",
              "      <td>drummer1/eval_session/9_soul-groove9_105_beat_4-4.mid</td>\n",
              "      <td>test</td>\n",
              "      <td>/content/drive/My Drive/groove-v1.0.0-midionly/groove/drummer1/eval_session/9_soul-groove9_105_beat_4-4.mid</td>\n",
              "    </tr>\n",
              "  </tbody>\n",
              "</table>\n",
              "</div>"
            ],
            "text/plain": [
              "    drummer                session                        id           style  \\\n",
              "0  drummer1  drummer1/eval_session   drummer1/eval_session/1    funk/groove1   \n",
              "1  drummer1  drummer1/eval_session  drummer1/eval_session/10   soul/groove10   \n",
              "2  drummer1  drummer1/eval_session   drummer1/eval_session/2    funk/groove2   \n",
              "3  drummer1  drummer1/eval_session   drummer1/eval_session/3    soul/groove3   \n",
              "4  drummer1  drummer1/eval_session   drummer1/eval_session/4    soul/groove4   \n",
              "5  drummer1  drummer1/eval_session   drummer1/eval_session/5    funk/groove5   \n",
              "6  drummer1  drummer1/eval_session   drummer1/eval_session/6  hiphop/groove6   \n",
              "7  drummer1  drummer1/eval_session   drummer1/eval_session/7     pop/groove7   \n",
              "8  drummer1  drummer1/eval_session   drummer1/eval_session/8    rock/groove8   \n",
              "9  drummer1  drummer1/eval_session   drummer1/eval_session/9    soul/groove9   \n",
              "\n",
              "   bpm time_signature  \\\n",
              "0  138            4-4   \n",
              "1  102            4-4   \n",
              "2  105            4-4   \n",
              "3   86            4-4   \n",
              "4   80            4-4   \n",
              "5   84            4-4   \n",
              "6   87            4-4   \n",
              "7  138            4-4   \n",
              "8   65            4-4   \n",
              "9  105            4-4   \n",
              "\n",
              "                                             midi_filename split  \\\n",
              "0    drummer1/eval_session/1_funk-groove1_138_beat_4-4.mid  test   \n",
              "1  drummer1/eval_session/10_soul-groove10_102_beat_4-4.mid  test   \n",
              "2    drummer1/eval_session/2_funk-groove2_105_beat_4-4.mid  test   \n",
              "3     drummer1/eval_session/3_soul-groove3_86_beat_4-4.mid  test   \n",
              "4     drummer1/eval_session/4_soul-groove4_80_beat_4-4.mid  test   \n",
              "5     drummer1/eval_session/5_funk-groove5_84_beat_4-4.mid  test   \n",
              "6   drummer1/eval_session/6_hiphop-groove6_87_beat_4-4.mid  test   \n",
              "7     drummer1/eval_session/7_pop-groove7_138_beat_4-4.mid  test   \n",
              "8     drummer1/eval_session/8_rock-groove8_65_beat_4-4.mid  test   \n",
              "9    drummer1/eval_session/9_soul-groove9_105_beat_4-4.mid  test   \n",
              "\n",
              "                                                                                              long_midi_filename  \n",
              "0    /content/drive/My Drive/groove-v1.0.0-midionly/groove/drummer1/eval_session/1_funk-groove1_138_beat_4-4.mid  \n",
              "1  /content/drive/My Drive/groove-v1.0.0-midionly/groove/drummer1/eval_session/10_soul-groove10_102_beat_4-4.mid  \n",
              "2    /content/drive/My Drive/groove-v1.0.0-midionly/groove/drummer1/eval_session/2_funk-groove2_105_beat_4-4.mid  \n",
              "3     /content/drive/My Drive/groove-v1.0.0-midionly/groove/drummer1/eval_session/3_soul-groove3_86_beat_4-4.mid  \n",
              "4     /content/drive/My Drive/groove-v1.0.0-midionly/groove/drummer1/eval_session/4_soul-groove4_80_beat_4-4.mid  \n",
              "5     /content/drive/My Drive/groove-v1.0.0-midionly/groove/drummer1/eval_session/5_funk-groove5_84_beat_4-4.mid  \n",
              "6   /content/drive/My Drive/groove-v1.0.0-midionly/groove/drummer1/eval_session/6_hiphop-groove6_87_beat_4-4.mid  \n",
              "7     /content/drive/My Drive/groove-v1.0.0-midionly/groove/drummer1/eval_session/7_pop-groove7_138_beat_4-4.mid  \n",
              "8     /content/drive/My Drive/groove-v1.0.0-midionly/groove/drummer1/eval_session/8_rock-groove8_65_beat_4-4.mid  \n",
              "9    /content/drive/My Drive/groove-v1.0.0-midionly/groove/drummer1/eval_session/9_soul-groove9_105_beat_4-4.mid  "
            ]
          },
          "metadata": {
            "tags": []
          },
          "execution_count": 15
        },
        {
          "output_type": "stream",
          "text": [
            "<class 'pandas.core.frame.DataFrame'>\n",
            "Int64Index: 40 entries, 0 to 1033\n",
            "Data columns (total 9 columns):\n",
            " #   Column              Non-Null Count  Dtype \n",
            "---  ------              --------------  ----- \n",
            " 0   drummer             40 non-null     string\n",
            " 1   session             40 non-null     string\n",
            " 2   id                  40 non-null     string\n",
            " 3   style               40 non-null     string\n",
            " 4   bpm                 40 non-null     int64 \n",
            " 5   time_signature      40 non-null     string\n",
            " 6   midi_filename       40 non-null     string\n",
            " 7   split               40 non-null     string\n",
            " 8   long_midi_filename  40 non-null     object\n",
            "dtypes: int64(1), object(1), string(7)\n",
            "memory usage: 3.1+ KB\n"
          ],
          "name": "stdout"
        }
      ]
    },
    {
      "cell_type": "markdown",
      "metadata": {
        "id": "kTHl0iAt01GV",
        "colab_type": "text"
      },
      "source": [
        "### Filter song styles"
      ]
    },
    {
      "cell_type": "code",
      "metadata": {
        "id": "uCru6-oB0JgE",
        "colab_type": "code",
        "colab": {
          "base_uri": "https://localhost:8080/",
          "height": 301
        },
        "outputId": "8d0a69bb-f8b2-4049-ab5a-2d9fb05ffd35"
      },
      "source": [
        "# filter for just the selected song style\n",
        "# NOTE: these are labels for each 'style' (1-10) the drummers\n",
        "# were asked to play, after reviewing, the following were deemed\n",
        "# most suitable/ usable as data for the project\n",
        "song_styles = ['funk/groove1', 'soul/groove3', 'soul/groove4', 'hiphop/groove6', 'rock/groove8']\n",
        "eval_df = eval_df[eval_df['style'].isin(song_styles)]\n",
        "eval_df.info()"
      ],
      "execution_count": 16,
      "outputs": [
        {
          "output_type": "stream",
          "text": [
            "<class 'pandas.core.frame.DataFrame'>\n",
            "Int64Index: 20 entries, 0 to 1032\n",
            "Data columns (total 9 columns):\n",
            " #   Column              Non-Null Count  Dtype \n",
            "---  ------              --------------  ----- \n",
            " 0   drummer             20 non-null     string\n",
            " 1   session             20 non-null     string\n",
            " 2   id                  20 non-null     string\n",
            " 3   style               20 non-null     string\n",
            " 4   bpm                 20 non-null     int64 \n",
            " 5   time_signature      20 non-null     string\n",
            " 6   midi_filename       20 non-null     string\n",
            " 7   split               20 non-null     string\n",
            " 8   long_midi_filename  20 non-null     object\n",
            "dtypes: int64(1), object(1), string(7)\n",
            "memory usage: 1.6+ KB\n"
          ],
          "name": "stdout"
        }
      ]
    },
    {
      "cell_type": "code",
      "metadata": {
        "id": "J5j_LEu4hwvC",
        "colab_type": "code",
        "colab": {}
      },
      "source": [
        "# display(eval_df)"
      ],
      "execution_count": 17,
      "outputs": []
    },
    {
      "cell_type": "markdown",
      "metadata": {
        "id": "yzjzqR3bzaPc",
        "colab_type": "text"
      },
      "source": [
        "### Created NamedTuple container\n",
        "\n",
        "This is just an experiment at creating convenient container to gather together all the results of various bits of processing realted to a single file, in a container so they can be conveniently accessed.\n",
        "\n",
        "For more info, see...\n",
        "* http://zetcode.com/python/namedtuple/\n",
        "* https://dbader.org/blog/writing-clean-python-with-namedtuples\n",
        "\n",
        "It's kinda like a dictionary, but not as it's not mutable, but maybe that's a good thing? Dunno ..."
      ]
    },
    {
      "cell_type": "code",
      "metadata": {
        "id": "28vnysb_zeYy",
        "colab_type": "code",
        "colab": {
          "base_uri": "https://localhost:8080/",
          "height": 53
        },
        "outputId": "6b2f6203-0eca-4e12-e2d2-f3d2b9bfd6d4"
      },
      "source": [
        "\n",
        "from collections import namedtuple\n",
        "\n",
        "'''\n",
        "  Collection object to hold in a single place all information\n",
        "  related to a performance loaded from a MIDI file.\n",
        "\n",
        "  drummer_id = String\n",
        "  file_df = complete DataFrame of data, unfiltered\n",
        "  file_wrapper = MidiFileWrapper instance\n",
        "  tools = MidiTimingTools instance\n",
        "  stats_df = DataFrame fleshed out with additional features/ metrics\n",
        "'''\n",
        "PerformanceData = namedtuple('PerformanceData' , 'drummer_id file_df file_wrapper tools stats_df')\n"
      ],
      "execution_count": 18,
      "outputs": [
        {
          "output_type": "execute_result",
          "data": {
            "application/vnd.google.colaboratory.intrinsic+json": {
              "type": "string"
            },
            "text/plain": [
              "'\\n  Collection object to hold in a single place all information\\n  related to a performance loaded from a MIDI file.\\n\\n  drummer_id = String\\n  file_df = complete DataFrame of data, unfiltered\\n  file_wrapper = MidiFileWrapper instance\\n  tools = MidiTimingTools instance\\n  stats_df = DataFrame fleshed out with additional features/ metrics\\n'"
            ]
          },
          "metadata": {
            "tags": []
          },
          "execution_count": 18
        }
      ]
    },
    {
      "cell_type": "markdown",
      "metadata": {
        "id": "MT_gmu6qhxEd",
        "colab_type": "text"
      },
      "source": [
        "## Load & process files, make uber bucket of usable data\n",
        "\n",
        "This loads the files, purges any quantise positions (buckets) with hits per instrument > 1 in a bucket. i.e. notes happening more rapidly than we cater for, we're only handling detail to 16th notes."
      ]
    },
    {
      "cell_type": "code",
      "metadata": {
        "id": "llPu-ND8h2xT",
        "colab_type": "code",
        "colab": {
          "base_uri": "https://localhost:8080/",
          "height": 1000
        },
        "outputId": "5d0884e9-c1f0-48b5-f693-08d762973436"
      },
      "source": [
        "all_drummer_data = {}\n",
        "\n",
        "# iterate over rows with iterrows()\n",
        "for index, row in eval_df.iterrows():\n",
        "\n",
        "  # access data using column names\n",
        "  next_drummer = row['drummer']\n",
        "  long_name = row['long_midi_filename']\n",
        "  short_name = row['midi_filename']\n",
        "\n",
        "  # loads DataFrame (file_df), MIDI_File_Wrapper (f), and\n",
        "  # the associated MidiTimingTools (mtt) objects..\n",
        "  file_df, file_wrapper, mtt = dp.load_file(long_name)\n",
        "\n",
        "  print('    > checking for errs: {}'.format(short_name))\n",
        "\n",
        "  #### review data, see if errors to be removed...\n",
        "\n",
        "  err_buckets = sf.get_error_buckets(file_df) # parse for problem beats\n",
        "  if err_buckets.size == 0:\n",
        "    print('    ...no errors to see here')\n",
        "  else: # handle buckets > 1 hit for instrument\n",
        "    #display(err_buckets)\n",
        "    print('    __ file_df before: {}'.format(file_df.shape))\n",
        "    print('    __ err_buckets removed: {}'.format(err_buckets.shape))\n",
        "    file_df.drop(err_buckets.index, inplace=True) # remove errs, inplace\n",
        "    print('    __ file_df after: {}'.format(file_df.shape))\n",
        "\n",
        "  # gather together stats on cleaned up file_df\n",
        "  stats_df = sf.gather_stats(file_df) # parse to gather stats\n",
        "\n",
        "  # add tuple of data elements to dict with filename as key\n",
        "  all_drummer_data[long_name] = PerformanceData(next_drummer, file_df, file_wrapper, mtt, stats_df)\n"
      ],
      "execution_count": 19,
      "outputs": [
        {
          "output_type": "stream",
          "text": [
            "FILE name: /content/drive/My Drive/groove-v1.0.0-midionly/groove/drummer1/eval_session/1_funk-groove1_138_beat_4-4.mid\n",
            "    loaded file: <midi file '/content/drive/My Drive/groove-v1.0.0-midionly/groove/drummer1/eval_session/1_funk-groove1_138_beat_4-4.mid' type 0, 1 tracks, 1300 messages>\n",
            "    time sig: <meta message time_signature numerator=4 denominator=4 clocks_per_click=24 notated_32nd_notes_per_beat=8 time=0>\n",
            "    tempo: <meta message set_tempo tempo=434783 time=0>\n",
            "    track count: 1, tracks: [<midi track 'MIDI' 1300 messages>]\n",
            "    MIDI file type: 0\n",
            "    > processing track: <midi track 'MIDI' 1300 messages>\n",
            "    __notes pre-filter: [36. 37. 38. 40. 43. 44. 51. 52. 53. 55.]\n",
            "    __applying filter: [44]\n",
            "    __notes post filter: [36. 37. 38. 40. 43. 51. 52. 53. 55.]\n",
            "    note_on span - first tick: 3 , last tick: 30658 \n",
            "    good instruments: 5, {36.0: 'Bass Drum 1 (36)', 38.0: 'Acoustic Snare (38)', 43.0: 'High Floor Tom (43)', 49.0: 'Crash Cymbal 1 (49)', 51.0: 'Ride Cymbal 1 (51)'}\n",
            "    bar info - bars in file: 16, bar quantize level: 16.0\n",
            "    tick info - ticks per time sig beat: 480.0, ticks per quantize bin: 120\n",
            "    > checking for errs: drummer1/eval_session/1_funk-groove1_138_beat_4-4.mid\n",
            "    __ file_df before: (288, 8)\n",
            "    __ err_buckets removed: (24, 7)\n",
            "    __ file_df after: (264, 8)\n",
            "FILE name: /content/drive/My Drive/groove-v1.0.0-midionly/groove/drummer1/eval_session/3_soul-groove3_86_beat_4-4.mid\n",
            "    loaded file: <midi file '/content/drive/My Drive/groove-v1.0.0-midionly/groove/drummer1/eval_session/3_soul-groove3_86_beat_4-4.mid' type 0, 1 tracks, 1179 messages>\n",
            "    time sig: <meta message time_signature numerator=4 denominator=4 clocks_per_click=24 notated_32nd_notes_per_beat=8 time=0>\n",
            "    tempo: <meta message set_tempo tempo=697674 time=0>\n",
            "    track count: 1, tracks: [<midi track 'MIDI' 1179 messages>]\n",
            "    MIDI file type: 0\n",
            "    > processing track: <midi track 'MIDI' 1179 messages>\n",
            "    __notes pre-filter: [22. 26. 36. 37. 38. 40. 42. 44. 46.]\n",
            "    __applying filter: [44]\n",
            "    __notes post filter: [22. 26. 36. 37. 38. 40. 42. 46.]\n",
            "    note_on span - first tick: 0 , last tick: 30696 \n",
            "    good instruments: 4, {36.0: 'Bass Drum 1 (36)', 38.0: 'Acoustic Snare (38)', 42.0: 'Closed Hi Hat (42)', 46.0: 'Open Hi-Hat (46)'}\n",
            "    bar info - bars in file: 16, bar quantize level: 16.0\n",
            "    tick info - ticks per time sig beat: 480.0, ticks per quantize bin: 120\n",
            "    > checking for errs: drummer1/eval_session/3_soul-groove3_86_beat_4-4.mid\n",
            "    __ file_df before: (455, 8)\n",
            "    __ err_buckets removed: (8, 7)\n",
            "    __ file_df after: (447, 8)\n",
            "FILE name: /content/drive/My Drive/groove-v1.0.0-midionly/groove/drummer1/eval_session/4_soul-groove4_80_beat_4-4.mid\n",
            "    loaded file: <midi file '/content/drive/My Drive/groove-v1.0.0-midionly/groove/drummer1/eval_session/4_soul-groove4_80_beat_4-4.mid' type 0, 1 tracks, 626 messages>\n",
            "    time sig: <meta message time_signature numerator=4 denominator=4 clocks_per_click=24 notated_32nd_notes_per_beat=8 time=0>\n",
            "    tempo: <meta message set_tempo tempo=750000 time=0>\n",
            "    track count: 1, tracks: [<midi track 'MIDI' 626 messages>]\n",
            "    MIDI file type: 0\n",
            "    > processing track: <midi track 'MIDI' 626 messages>\n",
            "    __notes pre-filter: [22. 26. 36. 38. 40. 42. 44.]\n",
            "    __applying filter: [44]\n",
            "    __notes post filter: [22. 26. 36. 38. 40. 42.]\n",
            "    note_on span - first tick: 0 , last tick: 30470 \n",
            "    good instruments: 4, {36.0: 'Bass Drum 1 (36)', 38.0: 'Acoustic Snare (38)', 42.0: 'Closed Hi Hat (42)', 46.0: 'Open Hi-Hat (46)'}\n",
            "    bar info - bars in file: 16, bar quantize level: 16.0\n",
            "    tick info - ticks per time sig beat: 480.0, ticks per quantize bin: 120\n",
            "    > checking for errs: drummer1/eval_session/4_soul-groove4_80_beat_4-4.mid\n",
            "    ...no errors to see here\n",
            "FILE name: /content/drive/My Drive/groove-v1.0.0-midionly/groove/drummer1/eval_session/6_hiphop-groove6_87_beat_4-4.mid\n",
            "    loaded file: <midi file '/content/drive/My Drive/groove-v1.0.0-midionly/groove/drummer1/eval_session/6_hiphop-groove6_87_beat_4-4.mid' type 0, 1 tracks, 971 messages>\n",
            "    time sig: <meta message time_signature numerator=4 denominator=4 clocks_per_click=24 notated_32nd_notes_per_beat=8 time=0>\n",
            "    tempo: <meta message set_tempo tempo=689655 time=0>\n",
            "    track count: 1, tracks: [<midi track 'MIDI' 971 messages>]\n",
            "    MIDI file type: 0\n",
            "    > processing track: <midi track 'MIDI' 971 messages>\n",
            "    __notes pre-filter: [22. 26. 36. 37. 38. 40. 42. 44.]\n",
            "    __applying filter: [44]\n",
            "    __notes post filter: [22. 26. 36. 37. 38. 40. 42.]\n",
            "    note_on span - first tick: 0 , last tick: 30474 \n",
            "    good instruments: 4, {36.0: 'Bass Drum 1 (36)', 38.0: 'Acoustic Snare (38)', 42.0: 'Closed Hi Hat (42)', 46.0: 'Open Hi-Hat (46)'}\n",
            "    bar info - bars in file: 16, bar quantize level: 16.0\n",
            "    tick info - ticks per time sig beat: 480.0, ticks per quantize bin: 120\n",
            "    > checking for errs: drummer1/eval_session/6_hiphop-groove6_87_beat_4-4.mid\n",
            "    ...no errors to see here\n",
            "FILE name: /content/drive/My Drive/groove-v1.0.0-midionly/groove/drummer1/eval_session/8_rock-groove8_65_beat_4-4.mid\n",
            "    loaded file: <midi file '/content/drive/My Drive/groove-v1.0.0-midionly/groove/drummer1/eval_session/8_rock-groove8_65_beat_4-4.mid' type 0, 1 tracks, 600 messages>\n",
            "    time sig: <meta message time_signature numerator=4 denominator=4 clocks_per_click=24 notated_32nd_notes_per_beat=8 time=0>\n",
            "    tempo: <meta message set_tempo tempo=923077 time=0>\n",
            "    track count: 1, tracks: [<midi track 'MIDI' 600 messages>]\n",
            "    MIDI file type: 0\n",
            "    > processing track: <midi track 'MIDI' 600 messages>\n",
            "    __notes pre-filter: [22. 26. 36. 37. 38. 40. 42. 44. 46.]\n",
            "    __applying filter: [44]\n",
            "    __notes post filter: [22. 26. 36. 37. 38. 40. 42. 46.]\n",
            "    note_on span - first tick: 0 , last tick: 30370 \n",
            "    good instruments: 4, {36.0: 'Bass Drum 1 (36)', 38.0: 'Acoustic Snare (38)', 42.0: 'Closed Hi Hat (42)', 46.0: 'Open Hi-Hat (46)'}\n",
            "    bar info - bars in file: 16, bar quantize level: 16.0\n",
            "    tick info - ticks per time sig beat: 480.0, ticks per quantize bin: 120\n",
            "    > checking for errs: drummer1/eval_session/8_rock-groove8_65_beat_4-4.mid\n",
            "    __ file_df before: (218, 8)\n",
            "    __ err_buckets removed: (2, 7)\n",
            "    __ file_df after: (216, 8)\n",
            "FILE name: /content/drive/My Drive/groove-v1.0.0-midionly/groove/drummer5/eval_session/1_funk-groove1_138_beat_4-4.mid\n",
            "    loaded file: <midi file '/content/drive/My Drive/groove-v1.0.0-midionly/groove/drummer5/eval_session/1_funk-groove1_138_beat_4-4.mid' type 0, 1 tracks, 1037 messages>\n",
            "    time sig: <meta message time_signature numerator=4 denominator=4 clocks_per_click=24 notated_32nd_notes_per_beat=8 time=0>\n",
            "    tempo: <meta message set_tempo tempo=434783 time=0>\n",
            "    track count: 1, tracks: [<midi track 'Base Midi' 1037 messages>]\n",
            "    MIDI file type: 0\n",
            "    > processing track: <midi track 'Base Midi' 1037 messages>\n",
            "    __notes pre-filter: [36. 38. 40. 44. 51.]\n",
            "    __applying filter: [44]\n",
            "    __notes post filter: [36. 38. 40. 51.]\n",
            "    note_on span - first tick: 5 , last tick: 30634 \n",
            "    good instruments: 3, {36.0: 'Bass Drum 1 (36)', 38.0: 'Acoustic Snare (38)', 51.0: 'Ride Cymbal 1 (51)'}\n",
            "    bar info - bars in file: 16, bar quantize level: 16.0\n",
            "    tick info - ticks per time sig beat: 480.0, ticks per quantize bin: 120\n",
            "    > checking for errs: drummer5/eval_session/1_funk-groove1_138_beat_4-4.mid\n",
            "    __ file_df before: (309, 8)\n",
            "    __ err_buckets removed: (12, 7)\n",
            "    __ file_df after: (297, 8)\n",
            "FILE name: /content/drive/My Drive/groove-v1.0.0-midionly/groove/drummer5/eval_session/3_soul-groove3_86_beat_4-4.mid\n",
            "    loaded file: <midi file '/content/drive/My Drive/groove-v1.0.0-midionly/groove/drummer5/eval_session/3_soul-groove3_86_beat_4-4.mid' type 0, 1 tracks, 1146 messages>\n",
            "    time sig: <meta message time_signature numerator=4 denominator=4 clocks_per_click=24 notated_32nd_notes_per_beat=8 time=0>\n",
            "    tempo: <meta message set_tempo tempo=697674 time=0>\n",
            "    track count: 1, tracks: [<midi track 'Base Midi' 1146 messages>]\n",
            "    MIDI file type: 0\n",
            "    > processing track: <midi track 'Base Midi' 1146 messages>\n",
            "    __notes pre-filter: [22. 26. 36. 37. 38. 40. 42.]\n",
            "    __applying filter: [44]\n",
            "    __notes post filter: [22. 26. 36. 37. 38. 40. 42.]\n",
            "    note_on span - first tick: 0 , last tick: 30587 \n",
            "    good instruments: 4, {36.0: 'Bass Drum 1 (36)', 38.0: 'Acoustic Snare (38)', 42.0: 'Closed Hi Hat (42)', 46.0: 'Open Hi-Hat (46)'}\n",
            "    bar info - bars in file: 16, bar quantize level: 16.0\n",
            "    tick info - ticks per time sig beat: 480.0, ticks per quantize bin: 120\n",
            "    > checking for errs: drummer5/eval_session/3_soul-groove3_86_beat_4-4.mid\n",
            "    __ file_df before: (433, 8)\n",
            "    __ err_buckets removed: (14, 7)\n",
            "    __ file_df after: (419, 8)\n",
            "FILE name: /content/drive/My Drive/groove-v1.0.0-midionly/groove/drummer5/eval_session/4_soul-groove4_80_beat_4-4.mid\n",
            "    loaded file: <midi file '/content/drive/My Drive/groove-v1.0.0-midionly/groove/drummer5/eval_session/4_soul-groove4_80_beat_4-4.mid' type 0, 1 tracks, 606 messages>\n",
            "    time sig: <meta message time_signature numerator=4 denominator=4 clocks_per_click=24 notated_32nd_notes_per_beat=8 time=0>\n",
            "    tempo: <meta message set_tempo tempo=750000 time=0>\n",
            "    track count: 1, tracks: [<midi track 'Base Midi' 606 messages>]\n",
            "    MIDI file type: 0\n",
            "    > processing track: <midi track 'Base Midi' 606 messages>\n",
            "    __notes pre-filter: [22. 26. 36. 37. 38. 40. 42. 44.]\n",
            "    __applying filter: [44]\n",
            "    __notes post filter: [22. 26. 36. 37. 38. 40. 42.]\n",
            "    note_on span - first tick: 0 , last tick: 30476 \n",
            "    good instruments: 4, {36.0: 'Bass Drum 1 (36)', 38.0: 'Acoustic Snare (38)', 42.0: 'Closed Hi Hat (42)', 46.0: 'Open Hi-Hat (46)'}\n",
            "    bar info - bars in file: 16, bar quantize level: 16.0\n",
            "    tick info - ticks per time sig beat: 480.0, ticks per quantize bin: 120\n",
            "    > checking for errs: drummer5/eval_session/4_soul-groove4_80_beat_4-4.mid\n",
            "    __ file_df before: (196, 8)\n",
            "    __ err_buckets removed: (2, 7)\n",
            "    __ file_df after: (194, 8)\n",
            "FILE name: /content/drive/My Drive/groove-v1.0.0-midionly/groove/drummer5/eval_session/6_hiphop-groove6_87_beat_4-4.mid\n",
            "    loaded file: <midi file '/content/drive/My Drive/groove-v1.0.0-midionly/groove/drummer5/eval_session/6_hiphop-groove6_87_beat_4-4.mid' type 0, 1 tracks, 625 messages>\n",
            "    time sig: <meta message time_signature numerator=4 denominator=4 clocks_per_click=24 notated_32nd_notes_per_beat=8 time=0>\n",
            "    tempo: <meta message set_tempo tempo=689655 time=0>\n",
            "    track count: 1, tracks: [<midi track 'Base Midi' 625 messages>]\n",
            "    MIDI file type: 0\n",
            "    > processing track: <midi track 'Base Midi' 625 messages>\n",
            "    __notes pre-filter: [22. 36. 38. 40. 42.]\n",
            "    __applying filter: [44]\n",
            "    __notes post filter: [22. 36. 38. 40. 42.]\n",
            "    note_on span - first tick: 0 , last tick: 30442 \n",
            "    good instruments: 3, {36.0: 'Bass Drum 1 (36)', 38.0: 'Acoustic Snare (38)', 42.0: 'Closed Hi Hat (42)'}\n",
            "    bar info - bars in file: 16, bar quantize level: 16.0\n",
            "    tick info - ticks per time sig beat: 480.0, ticks per quantize bin: 120\n",
            "    > checking for errs: drummer5/eval_session/6_hiphop-groove6_87_beat_4-4.mid\n",
            "    __ file_df before: (248, 8)\n",
            "    __ err_buckets removed: (12, 7)\n",
            "    __ file_df after: (236, 8)\n",
            "FILE name: /content/drive/My Drive/groove-v1.0.0-midionly/groove/drummer5/eval_session/8_rock-groove8_65_beat_4-4.mid\n",
            "    loaded file: <midi file '/content/drive/My Drive/groove-v1.0.0-midionly/groove/drummer5/eval_session/8_rock-groove8_65_beat_4-4.mid' type 0, 1 tracks, 679 messages>\n",
            "    time sig: <meta message time_signature numerator=4 denominator=4 clocks_per_click=24 notated_32nd_notes_per_beat=8 time=0>\n",
            "    tempo: <meta message set_tempo tempo=923077 time=0>\n",
            "    track count: 1, tracks: [<midi track 'Base Midi' 679 messages>]\n",
            "    MIDI file type: 0\n",
            "    > processing track: <midi track 'Base Midi' 679 messages>\n",
            "    __notes pre-filter: [22. 26. 36. 37. 38. 40. 42. 44. 46.]\n",
            "    __applying filter: [44]\n",
            "    __notes post filter: [22. 26. 36. 37. 38. 40. 42. 46.]\n",
            "    note_on span - first tick: 0 , last tick: 30359 \n",
            "    good instruments: 4, {36.0: 'Bass Drum 1 (36)', 38.0: 'Acoustic Snare (38)', 42.0: 'Closed Hi Hat (42)', 46.0: 'Open Hi-Hat (46)'}\n",
            "    bar info - bars in file: 16, bar quantize level: 16.0\n",
            "    tick info - ticks per time sig beat: 480.0, ticks per quantize bin: 120\n",
            "    > checking for errs: drummer5/eval_session/8_rock-groove8_65_beat_4-4.mid\n",
            "    __ file_df before: (261, 8)\n",
            "    __ err_buckets removed: (71, 7)\n",
            "    __ file_df after: (190, 8)\n",
            "FILE name: /content/drive/My Drive/groove-v1.0.0-midionly/groove/drummer7/eval_session/1_funk-groove1_138_beat_4-4.mid\n",
            "    loaded file: <midi file '/content/drive/My Drive/groove-v1.0.0-midionly/groove/drummer7/eval_session/1_funk-groove1_138_beat_4-4.mid' type 0, 1 tracks, 521 messages>\n",
            "    time sig: <meta message time_signature numerator=4 denominator=4 clocks_per_click=24 notated_32nd_notes_per_beat=8 time=0>\n",
            "    tempo: <meta message set_tempo tempo=434783 time=0>\n",
            "    track count: 1, tracks: [<midi track 'Midi Drums' 521 messages>]\n",
            "    MIDI file type: 0\n",
            "    > processing track: <midi track 'Midi Drums' 521 messages>\n",
            "    __notes pre-filter: [36. 37. 38. 40. 51. 53. 55.]\n",
            "    __applying filter: [44]\n",
            "    __notes post filter: [36. 37. 38. 40. 51. 53. 55.]\n",
            "    note_on span - first tick: 0 , last tick: 30493 \n",
            "    good instruments: 4, {36.0: 'Bass Drum 1 (36)', 38.0: 'Acoustic Snare (38)', 49.0: 'Crash Cymbal 1 (49)', 51.0: 'Ride Cymbal 1 (51)'}\n",
            "    bar info - bars in file: 16, bar quantize level: 16.0\n",
            "    tick info - ticks per time sig beat: 480.0, ticks per quantize bin: 120\n",
            "    > checking for errs: drummer7/eval_session/1_funk-groove1_138_beat_4-4.mid\n",
            "    __ file_df before: (257, 8)\n",
            "    __ err_buckets removed: (2, 7)\n",
            "    __ file_df after: (255, 8)\n",
            "FILE name: /content/drive/My Drive/groove-v1.0.0-midionly/groove/drummer7/eval_session/3_soul-groove3_86_beat_4-4.mid\n",
            "    loaded file: <midi file '/content/drive/My Drive/groove-v1.0.0-midionly/groove/drummer7/eval_session/3_soul-groove3_86_beat_4-4.mid' type 0, 1 tracks, 1095 messages>\n",
            "    time sig: <meta message time_signature numerator=4 denominator=4 clocks_per_click=24 notated_32nd_notes_per_beat=8 time=0>\n",
            "    tempo: <meta message set_tempo tempo=697674 time=0>\n",
            "    track count: 1, tracks: [<midi track 'Midi Drums' 1095 messages>]\n",
            "    MIDI file type: 0\n",
            "    > processing track: <midi track 'Midi Drums' 1095 messages>\n",
            "    __notes pre-filter: [22. 36. 38. 40. 42.]\n",
            "    __applying filter: [44]\n",
            "    __notes post filter: [22. 36. 38. 40. 42.]\n",
            "    note_on span - first tick: 0 , last tick: 30597 \n",
            "    good instruments: 3, {36.0: 'Bass Drum 1 (36)', 38.0: 'Acoustic Snare (38)', 42.0: 'Closed Hi Hat (42)'}\n",
            "    bar info - bars in file: 16, bar quantize level: 16.0\n",
            "    tick info - ticks per time sig beat: 480.0, ticks per quantize bin: 120\n",
            "    > checking for errs: drummer7/eval_session/3_soul-groove3_86_beat_4-4.mid\n",
            "    __ file_df before: (415, 8)\n",
            "    __ err_buckets removed: (4, 7)\n",
            "    __ file_df after: (411, 8)\n",
            "FILE name: /content/drive/My Drive/groove-v1.0.0-midionly/groove/drummer7/eval_session/4_soul-groove4_80_beat_4-4.mid\n",
            "    loaded file: <midi file '/content/drive/My Drive/groove-v1.0.0-midionly/groove/drummer7/eval_session/4_soul-groove4_80_beat_4-4.mid' type 0, 1 tracks, 514 messages>\n",
            "    time sig: <meta message time_signature numerator=4 denominator=4 clocks_per_click=24 notated_32nd_notes_per_beat=8 time=0>\n",
            "    tempo: <meta message set_tempo tempo=750000 time=0>\n",
            "    track count: 1, tracks: [<midi track 'Midi Drums' 514 messages>]\n",
            "    MIDI file type: 0\n",
            "    > processing track: <midi track 'Midi Drums' 514 messages>\n",
            "    __notes pre-filter: [22. 26. 36. 38. 40. 42. 44. 46.]\n",
            "    __applying filter: [44]\n",
            "    __notes post filter: [22. 26. 36. 38. 40. 42. 46.]\n",
            "    note_on span - first tick: 0 , last tick: 30484 \n",
            "    good instruments: 4, {36.0: 'Bass Drum 1 (36)', 38.0: 'Acoustic Snare (38)', 42.0: 'Closed Hi Hat (42)', 46.0: 'Open Hi-Hat (46)'}\n",
            "    bar info - bars in file: 16, bar quantize level: 16.0\n",
            "    tick info - ticks per time sig beat: 480.0, ticks per quantize bin: 120\n",
            "    > checking for errs: drummer7/eval_session/4_soul-groove4_80_beat_4-4.mid\n",
            "    ...no errors to see here\n",
            "FILE name: /content/drive/My Drive/groove-v1.0.0-midionly/groove/drummer7/eval_session/6_hiphop-groove6_87_beat_4-4.mid\n",
            "    loaded file: <midi file '/content/drive/My Drive/groove-v1.0.0-midionly/groove/drummer7/eval_session/6_hiphop-groove6_87_beat_4-4.mid' type 0, 1 tracks, 844 messages>\n",
            "    time sig: <meta message time_signature numerator=4 denominator=4 clocks_per_click=24 notated_32nd_notes_per_beat=8 time=0>\n",
            "    tempo: <meta message set_tempo tempo=689655 time=0>\n",
            "    track count: 1, tracks: [<midi track 'Midi Drums' 844 messages>]\n",
            "    MIDI file type: 0\n",
            "    > processing track: <midi track 'Midi Drums' 844 messages>\n",
            "    __notes pre-filter: [22. 36. 37. 38. 40. 42.]\n",
            "    __applying filter: [44]\n",
            "    __notes post filter: [22. 36. 37. 38. 40. 42.]\n",
            "    note_on span - first tick: 2 , last tick: 30441 \n",
            "    good instruments: 3, {36.0: 'Bass Drum 1 (36)', 38.0: 'Acoustic Snare (38)', 42.0: 'Closed Hi Hat (42)'}\n",
            "    bar info - bars in file: 16, bar quantize level: 16.0\n",
            "    tick info - ticks per time sig beat: 480.0, ticks per quantize bin: 120\n",
            "    > checking for errs: drummer7/eval_session/6_hiphop-groove6_87_beat_4-4.mid\n",
            "    __ file_df before: (323, 8)\n",
            "    __ err_buckets removed: (6, 7)\n",
            "    __ file_df after: (317, 8)\n",
            "FILE name: /content/drive/My Drive/groove-v1.0.0-midionly/groove/drummer7/eval_session/8_rock-groove8_65_beat_4-4.mid\n",
            "    loaded file: <midi file '/content/drive/My Drive/groove-v1.0.0-midionly/groove/drummer7/eval_session/8_rock-groove8_65_beat_4-4.mid' type 0, 1 tracks, 557 messages>\n",
            "    time sig: <meta message time_signature numerator=4 denominator=4 clocks_per_click=24 notated_32nd_notes_per_beat=8 time=0>\n",
            "    tempo: <meta message set_tempo tempo=923077 time=0>\n",
            "    track count: 1, tracks: [<midi track 'Midi Drums' 557 messages>]\n",
            "    MIDI file type: 0\n",
            "    > processing track: <midi track 'Midi Drums' 557 messages>\n",
            "    __notes pre-filter: [22. 26. 36. 38. 40. 42. 44.]\n",
            "    __applying filter: [44]\n",
            "    __notes post filter: [22. 26. 36. 38. 40. 42.]\n",
            "    note_on span - first tick: 0 , last tick: 30367 \n",
            "    good instruments: 4, {36.0: 'Bass Drum 1 (36)', 38.0: 'Acoustic Snare (38)', 42.0: 'Closed Hi Hat (42)', 46.0: 'Open Hi-Hat (46)'}\n",
            "    bar info - bars in file: 16, bar quantize level: 16.0\n",
            "    tick info - ticks per time sig beat: 480.0, ticks per quantize bin: 120\n",
            "    > checking for errs: drummer7/eval_session/8_rock-groove8_65_beat_4-4.mid\n",
            "    __ file_df before: (215, 8)\n",
            "    __ err_buckets removed: (2, 7)\n",
            "    __ file_df after: (213, 8)\n",
            "FILE name: /content/drive/My Drive/groove-v1.0.0-midionly/groove/drummer8/eval_session/1_funk-groove1_138_beat_4-4.mid\n",
            "    loaded file: <midi file '/content/drive/My Drive/groove-v1.0.0-midionly/groove/drummer8/eval_session/1_funk-groove1_138_beat_4-4.mid' type 0, 1 tracks, 728 messages>\n",
            "    time sig: <meta message time_signature numerator=4 denominator=4 clocks_per_click=24 notated_32nd_notes_per_beat=8 time=0>\n",
            "    tempo: <meta message set_tempo tempo=434783 time=0>\n",
            "    track count: 1, tracks: [<midi track 'Base Midi' 728 messages>]\n",
            "    MIDI file type: 0\n",
            "    > processing track: <midi track 'Base Midi' 728 messages>\n",
            "    __notes pre-filter: [22. 36. 37. 38. 40. 42.]\n",
            "    __applying filter: [44]\n",
            "    __notes post filter: [22. 36. 37. 38. 40. 42.]\n",
            "    note_on span - first tick: 0 , last tick: 30476 \n",
            "    good instruments: 3, {36.0: 'Bass Drum 1 (36)', 38.0: 'Acoustic Snare (38)', 42.0: 'Closed Hi Hat (42)'}\n",
            "    bar info - bars in file: 16, bar quantize level: 16.0\n",
            "    tick info - ticks per time sig beat: 480.0, ticks per quantize bin: 120\n",
            "    > checking for errs: drummer8/eval_session/1_funk-groove1_138_beat_4-4.mid\n",
            "    __ file_df before: (297, 8)\n",
            "    __ err_buckets removed: (18, 7)\n",
            "    __ file_df after: (279, 8)\n",
            "FILE name: /content/drive/My Drive/groove-v1.0.0-midionly/groove/drummer8/eval_session/3_soul-groove3_86_beat_4-4.mid\n",
            "    loaded file: <midi file '/content/drive/My Drive/groove-v1.0.0-midionly/groove/drummer8/eval_session/3_soul-groove3_86_beat_4-4.mid' type 0, 1 tracks, 1063 messages>\n",
            "    time sig: <meta message time_signature numerator=4 denominator=4 clocks_per_click=24 notated_32nd_notes_per_beat=8 time=0>\n",
            "    tempo: <meta message set_tempo tempo=697674 time=0>\n",
            "    track count: 1, tracks: [<midi track 'Base Midi' 1063 messages>]\n",
            "    MIDI file type: 0\n",
            "    > processing track: <midi track 'Base Midi' 1063 messages>\n",
            "    __notes pre-filter: [36. 38. 40. 42.]\n",
            "    __applying filter: [44]\n",
            "    __notes post filter: [36. 38. 40. 42.]\n",
            "    note_on span - first tick: 5 , last tick: 30594 \n",
            "    good instruments: 3, {36.0: 'Bass Drum 1 (36)', 38.0: 'Acoustic Snare (38)', 42.0: 'Closed Hi Hat (42)'}\n",
            "    bar info - bars in file: 16, bar quantize level: 16.0\n",
            "    tick info - ticks per time sig beat: 480.0, ticks per quantize bin: 120\n",
            "    > checking for errs: drummer8/eval_session/3_soul-groove3_86_beat_4-4.mid\n",
            "    ...no errors to see here\n",
            "FILE name: /content/drive/My Drive/groove-v1.0.0-midionly/groove/drummer8/eval_session/4_soul-groove4_80_beat_4-4.mid\n",
            "    loaded file: <midi file '/content/drive/My Drive/groove-v1.0.0-midionly/groove/drummer8/eval_session/4_soul-groove4_80_beat_4-4.mid' type 0, 1 tracks, 610 messages>\n",
            "    time sig: <meta message time_signature numerator=4 denominator=4 clocks_per_click=24 notated_32nd_notes_per_beat=8 time=0>\n",
            "    tempo: <meta message set_tempo tempo=750000 time=0>\n",
            "    track count: 1, tracks: [<midi track 'Base Midi' 610 messages>]\n",
            "    MIDI file type: 0\n",
            "    > processing track: <midi track 'Base Midi' 610 messages>\n",
            "    __notes pre-filter: [22. 36. 38. 42.]\n",
            "    __applying filter: [44]\n",
            "    __notes post filter: [22. 36. 38. 42.]\n",
            "    note_on span - first tick: 0 , last tick: 30601 \n",
            "    good instruments: 3, {36.0: 'Bass Drum 1 (36)', 38.0: 'Acoustic Snare (38)', 42.0: 'Closed Hi Hat (42)'}\n",
            "    bar info - bars in file: 16, bar quantize level: 16.0\n",
            "    tick info - ticks per time sig beat: 480.0, ticks per quantize bin: 120\n",
            "    > checking for errs: drummer8/eval_session/4_soul-groove4_80_beat_4-4.mid\n",
            "    ...no errors to see here\n",
            "FILE name: /content/drive/My Drive/groove-v1.0.0-midionly/groove/drummer8/eval_session/6_hiphop-groove6_87_beat_4-4.mid\n",
            "    loaded file: <midi file '/content/drive/My Drive/groove-v1.0.0-midionly/groove/drummer8/eval_session/6_hiphop-groove6_87_beat_4-4.mid' type 0, 1 tracks, 803 messages>\n",
            "    time sig: <meta message time_signature numerator=4 denominator=4 clocks_per_click=24 notated_32nd_notes_per_beat=8 time=0>\n",
            "    tempo: <meta message set_tempo tempo=689655 time=0>\n",
            "    track count: 1, tracks: [<midi track 'Base Midi' 803 messages>]\n",
            "    MIDI file type: 0\n",
            "    > processing track: <midi track 'Base Midi' 803 messages>\n",
            "    __notes pre-filter: [36. 37. 38. 40. 42. 50.]\n",
            "    __applying filter: [44]\n",
            "    __notes post filter: [36. 37. 38. 40. 42. 50.]\n",
            "    note_on span - first tick: 15 , last tick: 30461 \n",
            "    good instruments: 4, {36.0: 'Bass Drum 1 (36)', 38.0: 'Acoustic Snare (38)', 42.0: 'Closed Hi Hat (42)', 50.0: 'High Tom (50)'}\n",
            "    bar info - bars in file: 16, bar quantize level: 16.0\n",
            "    tick info - ticks per time sig beat: 480.0, ticks per quantize bin: 120\n",
            "    > checking for errs: drummer8/eval_session/6_hiphop-groove6_87_beat_4-4.mid\n",
            "    __ file_df before: (313, 8)\n",
            "    __ err_buckets removed: (2, 7)\n",
            "    __ file_df after: (311, 8)\n",
            "FILE name: /content/drive/My Drive/groove-v1.0.0-midionly/groove/drummer8/eval_session/8_rock-groove8_65_beat_4-4.mid\n",
            "    loaded file: <midi file '/content/drive/My Drive/groove-v1.0.0-midionly/groove/drummer8/eval_session/8_rock-groove8_65_beat_4-4.mid' type 0, 1 tracks, 603 messages>\n",
            "    time sig: <meta message time_signature numerator=4 denominator=4 clocks_per_click=24 notated_32nd_notes_per_beat=8 time=0>\n",
            "    tempo: <meta message set_tempo tempo=923077 time=0>\n",
            "    track count: 1, tracks: [<midi track 'Base Midi' 603 messages>]\n",
            "    MIDI file type: 0\n",
            "    > processing track: <midi track 'Base Midi' 603 messages>\n",
            "    __notes pre-filter: [26. 36. 38. 40. 42. 44.]\n",
            "    __applying filter: [44]\n",
            "    __notes post filter: [26. 36. 38. 40. 42.]\n",
            "    note_on span - first tick: 0 , last tick: 30354 \n",
            "    good instruments: 4, {36.0: 'Bass Drum 1 (36)', 38.0: 'Acoustic Snare (38)', 42.0: 'Closed Hi Hat (42)', 46.0: 'Open Hi-Hat (46)'}\n",
            "    bar info - bars in file: 16, bar quantize level: 16.0\n",
            "    tick info - ticks per time sig beat: 480.0, ticks per quantize bin: 120\n",
            "    > checking for errs: drummer8/eval_session/8_rock-groove8_65_beat_4-4.mid\n",
            "    ...no errors to see here\n"
          ],
          "name": "stdout"
        }
      ]
    },
    {
      "cell_type": "markdown",
      "metadata": {
        "id": "YlY6uGCo7izj",
        "colab_type": "text"
      },
      "source": [
        "## Test iterating through loaded data, pulling out some info"
      ]
    },
    {
      "cell_type": "code",
      "metadata": {
        "id": "m30lJrAj74mA",
        "colab_type": "code",
        "colab": {
          "base_uri": "https://localhost:8080/",
          "height": 35
        },
        "outputId": "c4c9a8eb-a756-4164-fa3c-63aa25f78be5"
      },
      "source": [
        "'''   # not needed\n",
        "for next_file in all_drummer_data.keys():\n",
        "  perf_data = all_drummer_data[next_file]\n",
        "  print('data: {}'.format(perf_data.file_wrapper))\n",
        "  display(perf_data.stats_df)\n",
        "'''"
      ],
      "execution_count": 34,
      "outputs": [
        {
          "output_type": "execute_result",
          "data": {
            "application/vnd.google.colaboratory.intrinsic+json": {
              "type": "string"
            },
            "text/plain": [
              "\"\\nfor next_file in all_drummer_data.keys():\\n  perf_data = all_drummer_data[next_file]\\n  print('data: {}'.format(perf_data.file_wrapper))\\n  display(perf_data.stats_df)\\n\""
            ]
          },
          "metadata": {
            "tags": []
          },
          "execution_count": 34
        }
      ]
    },
    {
      "cell_type": "markdown",
      "metadata": {
        "id": "cQd9h2Dw5TpS",
        "colab_type": "text"
      },
      "source": [
        "# One-Hot Encoding"
      ]
    }
  ]
}