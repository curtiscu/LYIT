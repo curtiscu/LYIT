{
  "nbformat": 4,
  "nbformat_minor": 0,
  "metadata": {
    "colab": {
      "name": "MidiTimingTools_class.ipynb",
      "provenance": [],
      "collapsed_sections": [],
      "toc_visible": true,
      "authorship_tag": "ABX9TyP1VHmr0EM98Ij6surhD6MG",
      "include_colab_link": true
    },
    "kernelspec": {
      "name": "python3",
      "display_name": "Python 3"
    }
  },
  "cells": [
    {
      "cell_type": "markdown",
      "metadata": {
        "id": "view-in-github",
        "colab_type": "text"
      },
      "source": [
        "<a href=\"https://colab.research.google.com/github/curtiscu/LYIT/blob/master/MidiTimingTools_class.ipynb\" target=\"_parent\"><img src=\"https://colab.research.google.com/assets/colab-badge.svg\" alt=\"Open In Colab\"/></a>"
      ]
    },
    {
      "cell_type": "markdown",
      "metadata": {
        "id": "09EDrnx3Jd6v",
        "colab_type": "text"
      },
      "source": [
        "# MIDI Timing Tools"
      ]
    },
    {
      "cell_type": "markdown",
      "metadata": {
        "id": "NybvOG9ssS26",
        "colab_type": "text"
      },
      "source": [
        "# Setup env\n"
      ]
    },
    {
      "cell_type": "code",
      "metadata": {
        "id": "juZFbd9RttvQ",
        "colab_type": "code",
        "colab": {}
      },
      "source": [
        "# print all cell output\n",
        "from IPython.core.interactiveshell import InteractiveShell\n",
        "InteractiveShell.ast_node_interactivity = \"all\"\n"
      ],
      "execution_count": 0,
      "outputs": []
    },
    {
      "cell_type": "markdown",
      "metadata": {
        "id": "yEXZFoA4t9de",
        "colab_type": "text"
      },
      "source": [
        ""
      ]
    },
    {
      "cell_type": "code",
      "metadata": {
        "id": "uRELmgI2mvEK",
        "colab_type": "code",
        "outputId": "2dac7956-dab1-4205-b629-56fda0ef776e",
        "colab": {
          "base_uri": "https://localhost:8080/",
          "height": 34
        }
      },
      "source": [
        "# mount google drive\n",
        "\n",
        "from google.colab import drive\n",
        "drive.mount('/content/drive', force_remount=True)\n"
      ],
      "execution_count": 2,
      "outputs": [
        {
          "output_type": "stream",
          "text": [
            "Mounted at /content/drive\n"
          ],
          "name": "stdout"
        }
      ]
    },
    {
      "cell_type": "code",
      "metadata": {
        "id": "Yk2_ztH9uKat",
        "colab_type": "code",
        "outputId": "ffdcc65e-2c50-4f83-a0e2-019a6958109b",
        "colab": {
          "base_uri": "https://localhost:8080/",
          "height": 255
        }
      },
      "source": [
        "# test, peek at data\n",
        "! ls -al '/content/drive/My Drive/groove-v1.0.0-midionly/groove/drummer1/eval_session/'\n",
        "\n",
        "# test, modules from local  'E:\\Google Drive\\LYIT\\Dissertation\\modules'\n",
        "! ls -al '/content/drive/My Drive/LYIT/Dissertation/modules/'"
      ],
      "execution_count": 3,
      "outputs": [
        {
          "output_type": "stream",
          "text": [
            "total 35\n",
            "-rw------- 1 root root 2589 Apr 27 12:01 10_soul-groove10_102_beat_4-4.mid\n",
            "-rw------- 1 root root 4793 Apr 27 12:01 1_funk-groove1_138_beat_4-4.mid\n",
            "-rw------- 1 root root 3243 Apr 27 12:01 2_funk-groove2_105_beat_4-4.mid\n",
            "-rw------- 1 root root 4466 Apr 27 12:01 3_soul-groove3_86_beat_4-4.mid\n",
            "-rw------- 1 root root 2551 Apr 27 12:01 4_soul-groove4_80_beat_4-4.mid\n",
            "-rw------- 1 root root 3798 Apr 27 12:01 5_funk-groove5_84_beat_4-4.mid\n",
            "-rw------- 1 root root 3760 Apr 27 12:01 6_hiphop-groove6_87_beat_4-4.mid\n",
            "-rw------- 1 root root 1894 Apr 27 12:01 7_pop-groove7_138_beat_4-4.mid\n",
            "-rw------- 1 root root 2437 Apr 27 12:01 8_rock-groove8_65_beat_4-4.mid\n",
            "-rw------- 1 root root 3448 Apr 27 12:01 9_soul-groove9_105_beat_4-4.mid\n",
            "total 15\n",
            "-rw------- 1 root root 11226 May 20 23:38 data_prep.py\n",
            "drwx------ 2 root root  4096 May 20 23:38 __pycache__\n"
          ],
          "name": "stdout"
        }
      ]
    },
    {
      "cell_type": "markdown",
      "metadata": {
        "id": "SBKOdMxXFygn",
        "colab_type": "text"
      },
      "source": [
        "## Auto reload module\n",
        "\n",
        "I'm now using a module edited and saved to google drive which is automatically pushed to the cloud and made available to the colab env. Changes need time to propagate, and imports don't 'reimport' to load changes, so trying the following...\n",
        "\n",
        "Note the code below is not very reliable, it seems to work occasionally, after some time, but haven't been able to work out the pattern to it. \n",
        "\n",
        "If in a hurry, brute force loading of changes by restarting the runtime."
      ]
    },
    {
      "cell_type": "code",
      "metadata": {
        "id": "jErvkusO6D01",
        "colab_type": "code",
        "colab": {}
      },
      "source": [
        "# tool to auto reload modules.\n",
        "%load_ext autoreload\n",
        "\n",
        "# config to auto-reload all modules, handy to make \n",
        "# writing and testing modules much easier.\n",
        "%autoreload 2"
      ],
      "execution_count": 0,
      "outputs": []
    },
    {
      "cell_type": "code",
      "metadata": {
        "id": "rjqCavr4sz4x",
        "colab_type": "code",
        "outputId": "4c912516-0fd8-44d1-a40f-d4b2a1890a96",
        "colab": {
          "base_uri": "https://localhost:8080/",
          "height": 34
        }
      },
      "source": [
        "# imports\n",
        "import pandas as pd\n",
        "import math\n",
        "\n",
        "# import my modules\n",
        "import sys\n",
        "sys.path.append('/content/drive/My Drive/LYIT/Dissertation/modules/')\n",
        "import data_prep\n",
        "\n"
      ],
      "execution_count": 5,
      "outputs": [
        {
          "output_type": "stream",
          "text": [
            "LOADING - data_prep.py module name is: data_prep\n"
          ],
          "name": "stdout"
        }
      ]
    },
    {
      "cell_type": "code",
      "metadata": {
        "id": "oPKVwQibzS7t",
        "colab_type": "code",
        "outputId": "cc2535e4-5cd7-47b0-e0a6-eac7cd1ce567",
        "colab": {
          "base_uri": "https://localhost:8080/",
          "height": 34
        }
      },
      "source": [
        "# testing auto reload of modules \n",
        "data_prep.test_function_call('bling')"
      ],
      "execution_count": 6,
      "outputs": [
        {
          "output_type": "stream",
          "text": [
            "test function called worked! :)  bling\n"
          ],
          "name": "stdout"
        }
      ]
    },
    {
      "cell_type": "code",
      "metadata": {
        "id": "KkLdwFFAAotC",
        "colab_type": "code",
        "colab": {}
      },
      "source": [
        "def set_pandas_display_options() -> None:\n",
        "    # Ref: https://stackoverflow.com/a/52432757/\n",
        "    display = pd.options.display\n",
        "\n",
        "    display.max_columns = 1000\n",
        "    display.max_rows = 200\n",
        "    display.max_colwidth = 1000\n",
        "    display.width = None\n",
        "    # display.precision = 2  # set as needed\n",
        "\n",
        "set_pandas_display_options()\n",
        "#pd.reset_option('all')\n"
      ],
      "execution_count": 0,
      "outputs": []
    },
    {
      "cell_type": "markdown",
      "metadata": {
        "id": "8DbIvTwPGpMU",
        "colab_type": "text"
      },
      "source": [
        "## Test creating object from custom module"
      ]
    },
    {
      "cell_type": "code",
      "metadata": {
        "id": "Vtkaryf-ICz_",
        "colab_type": "code",
        "colab": {}
      },
      "source": [
        "gmt = data_prep.GrooveMidiTools"
      ],
      "execution_count": 0,
      "outputs": []
    },
    {
      "cell_type": "code",
      "metadata": {
        "id": "v9rxH3-9Gu64",
        "colab_type": "code",
        "outputId": "d8f50af3-cdf2-421b-db12-b0964b893fda",
        "colab": {
          "base_uri": "https://localhost:8080/",
          "height": 139
        }
      },
      "source": [
        "file_name2 = '/content/drive/My Drive/groove-v1.0.0-midionly/groove/drummer1/eval_session/10_soul-groove10_102_beat_4-4.mid'\n",
        "midi_file2 = data_prep.MIDI_File_Wrapper(file_name2, gmt.mappings)"
      ],
      "execution_count": 9,
      "outputs": [
        {
          "output_type": "stream",
          "text": [
            "FILE: /content/drive/My Drive/groove-v1.0.0-midionly/groove/drummer1/eval_session/10_soul-groove10_102_beat_4-4.mid\n",
            "    tracks: [<midi track 'MIDI' 639 messages>]\n",
            "    time sig: <meta message time_signature numerator=4 denominator=4 clocks_per_click=24 notated_32nd_notes_per_beat=8 time=0>\n",
            "    tempo: <meta message set_tempo tempo=588235 time=0>\n",
            "    last note_on: 30673\n",
            "    good instruments: 6, {36.0: 'Bass Drum 1', 38.0: 'Acoustic Snare', 42.0: 'Closed Hi Hat', 43.0: 'High Floor Tom', 46.0: 'Open Hi-Hat', 50.0: 'High Tom'}\n"
          ],
          "name": "stdout"
        }
      ]
    },
    {
      "cell_type": "markdown",
      "metadata": {
        "id": "VspeXMsHH6Q3",
        "colab_type": "text"
      },
      "source": [
        "... the above verifies I'm able to create custom objects from custom code, great!\n"
      ]
    },
    {
      "cell_type": "code",
      "metadata": {
        "id": "rCG0bT0RH5gP",
        "colab_type": "code",
        "outputId": "23ba7952-8b1a-4a19-8464-8f9300ea9b55",
        "colab": {
          "base_uri": "https://localhost:8080/",
          "height": 119
        }
      },
      "source": [
        "file_name = '/content/drive/My Drive/groove-v1.0.0-midionly/groove/drummer5/eval_session/1_funk-groove1_138_beat_4-4.mid'\n",
        "midi_file = data_prep.MIDI_File_Wrapper(file_name, gmt.mappings)"
      ],
      "execution_count": 10,
      "outputs": [
        {
          "output_type": "stream",
          "text": [
            "FILE: /content/drive/My Drive/groove-v1.0.0-midionly/groove/drummer5/eval_session/1_funk-groove1_138_beat_4-4.mid\n",
            "    tracks: [<midi track 'Base Midi' 1037 messages>]\n",
            "    time sig: <meta message time_signature numerator=4 denominator=4 clocks_per_click=24 notated_32nd_notes_per_beat=8 time=0>\n",
            "    tempo: <meta message set_tempo tempo=434783 time=0>\n",
            "    last note_on: 30634\n",
            "    good instruments: 4, {36.0: 'Bass Drum 1', 38.0: 'Acoustic Snare', 42.0: 'Closed Hi Hat', 51.0: 'Ride Cymbal 1'}\n"
          ],
          "name": "stdout"
        }
      ]
    },
    {
      "cell_type": "code",
      "metadata": {
        "id": "Pq6QTdjzcdeu",
        "colab_type": "code",
        "colab": {
          "base_uri": "https://localhost:8080/",
          "height": 34
        },
        "outputId": "e1176ba0-9b82-4d54-e9f0-b5861446f356"
      },
      "source": [
        "midi_file.last_hit()"
      ],
      "execution_count": 11,
      "outputs": [
        {
          "output_type": "execute_result",
          "data": {
            "text/plain": [
              "30634"
            ]
          },
          "metadata": {
            "tags": []
          },
          "execution_count": 11
        }
      ]
    },
    {
      "cell_type": "markdown",
      "metadata": {
        "id": "I9LqXVTuKOqs",
        "colab_type": "text"
      },
      "source": [
        "# Create MidiTimingTools class"
      ]
    },
    {
      "cell_type": "markdown",
      "metadata": {
        "id": "ea-oR4gPLiEY",
        "colab_type": "text"
      },
      "source": [
        "Been putting this together in a mix of actual code and pseudo code and jotting it down in Notepad++, pasting those notes here for reference."
      ]
    },
    {
      "cell_type": "markdown",
      "metadata": {
        "id": "wLYizCD2KTSL",
        "colab_type": "text"
      },
      "source": [
        "\n",
        "SETUP PARAMS\n",
        "\n",
        "```\n",
        "- file header ticks per beat\n",
        "- file meta microseconds per beat\n",
        "- file header time sig. numerator\n",
        "- file header time sig. denominator \n",
        "- last 'note-on' time in cumulative ticks\n",
        "```\n",
        "\n",
        "FUNCTIONS\n",
        "\n",
        "```\n",
        "- ticks_per_beat = <ticks per quarter beat> * ( 4/ < time sig denominator > )\n",
        "- ticks_per_bar = < ticks_per_beat() >  * < time sig numerator >\n",
        "- ticks_per_8 =  < file ticks per beat > / 2\n",
        "- ticks_per_16 =  < file ticks per beat > / 4\n",
        "- bars_in_file = math.ceil(last_note_on / ticks_per_bar()) # total bars to render, round up for whole bars\n",
        "- ticks_in_file = bars_in_file() * ticks_per_bar() # total ticks to render (file_range)\n",
        "- beats_in_file = bars_in_file() * < time sig numerator >\n",
        "- bin_size = int(ticks_per_16()) # bucket size for quantizing\n",
        "\n",
        "\n",
        "- get_bins(bin_size(), file_range=ticks_in_file()):   # my_bins\n",
        "\treturn range(0 - (int(bin_size/ 2)), file_range + bin_size, bin_size)  \n",
        "\n",
        "- get_beat_points(bin_size(),  file_range=ticks_in_file()):\n",
        "\treturn range(0, file_range + bin_size, bin_size) \n",
        "\n",
        "# NOTE - don't think I actually need this at all\n",
        "- calculated_bins(<cumulative_ticks_series>):\n",
        "\treturn pd.cut(<cumulative_ticks_series>, bins=get_bins(), right=False)\n",
        "\n",
        "# takes series with cumulative ticks since start of file for the \n",
        "# MIDI note_on events, and returns a series stating the centre\n",
        "# of the beat for each given MIDI event\n",
        "- assigned_beat_location(<cumulative_ticks_series>):\n",
        "\treturn pd.cut(<cumulative_ticks_series> , bins=get_bins(), right=False, labels=get_beat_points())\n",
        "\n",
        "\n",
        "- get_offsets(<cumulative_ticks_series>):\n",
        "\t\n",
        "\tmy_beats = assigned_beat_location(<cumulative_ticks_series>)\n",
        "\t\n",
        "\ttmp_dict = dict(enumerate(my_beats.cat.categories))\n",
        "\tbeat_centers = my_beats.cat.codes.map(tmp_dict)\n",
        "\n",
        "\toffsets = <cumulative_ticks_series> - beat_centers\n",
        "\t\n",
        "\treturn offsets\n",
        "\n",
        "```\n",
        "\n",
        "\n",
        "\n",
        "\n",
        "\n",
        "\n",
        "\n",
        "\n",
        "\n",
        "\n"
      ]
    },
    {
      "cell_type": "code",
      "metadata": {
        "id": "-vE7hcamQLIh",
        "colab_type": "code",
        "colab": {}
      },
      "source": [
        "import math"
      ],
      "execution_count": 0,
      "outputs": []
    },
    {
      "cell_type": "code",
      "metadata": {
        "id": "AlcXAMYELfRy",
        "colab_type": "code",
        "colab": {}
      },
      "source": [
        "\n",
        "\n",
        "class MidiTimingTools:\n",
        "\n",
        "\n",
        "  # all parameters required\n",
        "  def __init__(self, label, file_ticks_per_beat, us_per_beat, time_sig_numerator, time_sig_denominator, last_note_on):\n",
        "    self.label = label                                # pretty label, for handy reference\n",
        "    self.file_ticks_per_beat = file_ticks_per_beat    # from MIDI file header\n",
        "    self.time_sig_numerator = time_sig_numerator      #   \"\n",
        "    self.time_sig_denominator = time_sig_denominator  #   \"\n",
        "    self.us_per_beat = us_per_beat                    # from MIDI file meta message\n",
        "    self.last_note_on = last_note_on                  # from MIDI file data\n",
        "\n",
        "\n",
        "  # For call to str(). Prints readable form \n",
        "  def __str__(self): \n",
        "    return str(\"LABEL: {} \\n  time sig: {}/ {} \\n  bars in file: {} \\n  beats in file: {} \\n  ticks in file: {} \\n  bins: {} \\n  beat_points: {}\"\n",
        "    .format(self.label, \n",
        "            self.time_sig_numerator,\n",
        "            self.time_sig_denominator,\n",
        "            self.bars_in_file(),\n",
        "            self.beats_in_file(), \n",
        "            self.ticks_in_file(), \n",
        "            self.get_bins(), \n",
        "            self.get_beat_points()))\n",
        "\n",
        "  # ts = time signature\n",
        "  def ts_ticks_per_beat(self):\n",
        "    return self.file_ticks_per_beat * ( 4/ self.time_sig_denominator )\n",
        "\n",
        "  def ticks_per_bar(self):\n",
        "    return self.ts_ticks_per_beat() * self.time_sig_numerator\n",
        "\n",
        "  def ticks_per_8(self):\n",
        "    return self.file_ticks_per_beat/ 2\n",
        "    \n",
        "  def ticks_per_16(self):\n",
        "    return self.file_ticks_per_beat / 4\n",
        "\n",
        "  # calculates total bars, round up for whole bars\n",
        "  def bars_in_file(self):\n",
        "    return math.ceil(self.last_note_on / self.ticks_per_bar()) \n",
        "\n",
        "  def ticks_in_file(self):\n",
        "    return int(self.bars_in_file() * self.ticks_per_bar()) # total ticks to render (file_range)\n",
        "\n",
        "  def beats_in_file(self):\n",
        "    return self.bars_in_file() * self.time_sig_numerator\n",
        "\n",
        "  # bucket size for quantizing, set to 1/16 notes\n",
        "  def bin_size(self):\n",
        "    return int(self.ticks_per_16()) \n",
        "\n",
        "  def get_bins(self):   # my_bins\n",
        "    my_bin_size = self.bin_size()\n",
        "    file_range = self.ticks_in_file()\n",
        "    return range(0 - (int(my_bin_size/ 2)), file_range + my_bin_size, my_bin_size)\n",
        "\n",
        "  def get_beat_points(self):\n",
        "    my_bin_size = self.bin_size()\n",
        "    file_range = self.ticks_in_file()\n",
        "    return range(0, file_range + my_bin_size, my_bin_size) \n",
        "\n",
        "  # NOTE - don't think I actually need this at all\n",
        "  def calculated_bins(self, cumulative_ticks_series):\n",
        "\t  return pd.cut(cumulative_ticks_series, bins=self.get_bins(), right=False)\n",
        "\n",
        "  # takes series with cumulative ticks since start of file for the \n",
        "  # MIDI note_on events, and returns a series stating the centre\n",
        "  # of the beat for each given MIDI event\n",
        "  def assigned_beat_location(self, cumulative_ticks_series):\n",
        "    return pd.cut(cumulative_ticks_series , bins=self.get_bins(), right=False, labels=self.get_beat_points())\n",
        "\n",
        "\n",
        "  def get_offsets(self, cumulative_ticks_series):\n",
        "    my_beats = assigned_beat_location(cumulative_ticks_series)\n",
        "    tmp_dict = dict(enumerate(my_beats.cat.categories))\n",
        "    beat_centers = my_beats.cat.codes.map(tmp_dict)\n",
        "    offsets = cumulative_ticks_series - beat_centers\n",
        "\t\n",
        "    return offsets\n",
        "\n"
      ],
      "execution_count": 0,
      "outputs": []
    },
    {
      "cell_type": "markdown",
      "metadata": {
        "id": "iL3CnuwoS_8_",
        "colab_type": "text"
      },
      "source": [
        "## Test MidiTimingTools class"
      ]
    },
    {
      "cell_type": "code",
      "metadata": {
        "id": "zovNdRy7TZub",
        "colab_type": "code",
        "colab": {
          "base_uri": "https://localhost:8080/",
          "height": 71
        },
        "outputId": "7f698066-94fa-4933-a494-71fb3bd695a2"
      },
      "source": [
        "# will use previously loaded file ...\n",
        "print(\"file: {}\".format(file_name))\n",
        "print(\"MIDI file: {}\".format(midi_file))"
      ],
      "execution_count": 14,
      "outputs": [
        {
          "output_type": "stream",
          "text": [
            "file: /content/drive/My Drive/groove-v1.0.0-midionly/groove/drummer5/eval_session/1_funk-groove1_138_beat_4-4.mid\n",
            "MIDI file: file: <midi file '/content/drive/My Drive/groove-v1.0.0-midionly/groove/drummer5/eval_session/1_funk-groove1_138_beat_4-4.mid' type 0, 1 tracks, 1037 messages>\n"
          ],
          "name": "stdout"
        }
      ]
    },
    {
      "cell_type": "code",
      "metadata": {
        "id": "orMsO1yrTDdd",
        "colab_type": "code",
        "colab": {}
      },
      "source": [
        "f = midi_file\n",
        "mtt = MidiTimingTools(file_name, f.ticks(), f.tempo_us(), f.ts_num(), f.ts_denom(), f.last_hit())"
      ],
      "execution_count": 0,
      "outputs": []
    },
    {
      "cell_type": "code",
      "metadata": {
        "id": "nuQacw6OeRdn",
        "colab_type": "code",
        "colab": {
          "base_uri": "https://localhost:8080/",
          "height": 136
        },
        "outputId": "49511dc2-6be1-4462-bb74-31a9e801132f"
      },
      "source": [
        "print(mtt)"
      ],
      "execution_count": 16,
      "outputs": [
        {
          "output_type": "stream",
          "text": [
            "LABEL: /content/drive/My Drive/groove-v1.0.0-midionly/groove/drummer5/eval_session/1_funk-groove1_138_beat_4-4.mid \n",
            "  time sig: 4/ 4 \n",
            "  bars in file: 16 \n",
            "  beats in file: 64 \n",
            "  ticks in file: 30720 \n",
            "  bins: range(-60, 30840, 120) \n",
            "  beat_points: range(0, 30840, 120)\n"
          ],
          "name": "stdout"
        }
      ]
    }
  ]
}