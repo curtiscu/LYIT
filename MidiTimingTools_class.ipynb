{
  "nbformat": 4,
  "nbformat_minor": 0,
  "metadata": {
    "colab": {
      "name": "MidiTimingTools_class.ipynb",
      "provenance": [],
      "collapsed_sections": [],
      "toc_visible": true,
      "authorship_tag": "ABX9TyPy608a7DJyTmhqsOhWmtVp",
      "include_colab_link": true
    },
    "kernelspec": {
      "name": "python3",
      "display_name": "Python 3"
    }
  },
  "cells": [
    {
      "cell_type": "markdown",
      "metadata": {
        "id": "view-in-github",
        "colab_type": "text"
      },
      "source": [
        "<a href=\"https://colab.research.google.com/github/curtiscu/LYIT/blob/master/MidiTimingTools_class.ipynb\" target=\"_parent\"><img src=\"https://colab.research.google.com/assets/colab-badge.svg\" alt=\"Open In Colab\"/></a>"
      ]
    },
    {
      "cell_type": "markdown",
      "metadata": {
        "id": "09EDrnx3Jd6v",
        "colab_type": "text"
      },
      "source": [
        "# MIDI Timing Tools"
      ]
    },
    {
      "cell_type": "markdown",
      "metadata": {
        "id": "NybvOG9ssS26",
        "colab_type": "text"
      },
      "source": [
        "# Setup env\n"
      ]
    },
    {
      "cell_type": "code",
      "metadata": {
        "id": "juZFbd9RttvQ",
        "colab_type": "code",
        "colab": {}
      },
      "source": [
        "# print all cell output\n",
        "from IPython.core.interactiveshell import InteractiveShell\n",
        "InteractiveShell.ast_node_interactivity = \"all\"\n"
      ],
      "execution_count": 0,
      "outputs": []
    },
    {
      "cell_type": "markdown",
      "metadata": {
        "id": "yEXZFoA4t9de",
        "colab_type": "text"
      },
      "source": [
        "## Google drive access"
      ]
    },
    {
      "cell_type": "code",
      "metadata": {
        "id": "uRELmgI2mvEK",
        "colab_type": "code",
        "outputId": "7a4378e7-a09d-4175-8ddd-18112aeb4416",
        "colab": {
          "base_uri": "https://localhost:8080/",
          "height": 34
        }
      },
      "source": [
        "# mount google drive\n",
        "\n",
        "from google.colab import drive\n",
        "drive.mount('/content/drive', force_remount=True)\n"
      ],
      "execution_count": 2,
      "outputs": [
        {
          "output_type": "stream",
          "text": [
            "Mounted at /content/drive\n"
          ],
          "name": "stdout"
        }
      ]
    },
    {
      "cell_type": "code",
      "metadata": {
        "id": "Yk2_ztH9uKat",
        "colab_type": "code",
        "outputId": "9acd66c9-80e3-45c7-d639-d1a4a200b200",
        "colab": {
          "base_uri": "https://localhost:8080/",
          "height": 255
        }
      },
      "source": [
        "# test, peek at data\n",
        "! ls -al '/content/drive/My Drive/groove-v1.0.0-midionly/groove/drummer1/eval_session/'\n",
        "\n",
        "# test, modules from local  'E:\\Google Drive\\LYIT\\Dissertation\\modules'\n",
        "! ls -al '/content/drive/My Drive/LYIT/Dissertation/modules/'"
      ],
      "execution_count": 3,
      "outputs": [
        {
          "output_type": "stream",
          "text": [
            "total 35\n",
            "-rw------- 1 root root 2589 Apr 27 12:01 10_soul-groove10_102_beat_4-4.mid\n",
            "-rw------- 1 root root 4793 Apr 27 12:01 1_funk-groove1_138_beat_4-4.mid\n",
            "-rw------- 1 root root 3243 Apr 27 12:01 2_funk-groove2_105_beat_4-4.mid\n",
            "-rw------- 1 root root 4466 Apr 27 12:01 3_soul-groove3_86_beat_4-4.mid\n",
            "-rw------- 1 root root 2551 Apr 27 12:01 4_soul-groove4_80_beat_4-4.mid\n",
            "-rw------- 1 root root 3798 Apr 27 12:01 5_funk-groove5_84_beat_4-4.mid\n",
            "-rw------- 1 root root 3760 Apr 27 12:01 6_hiphop-groove6_87_beat_4-4.mid\n",
            "-rw------- 1 root root 1894 Apr 27 12:01 7_pop-groove7_138_beat_4-4.mid\n",
            "-rw------- 1 root root 2437 Apr 27 12:01 8_rock-groove8_65_beat_4-4.mid\n",
            "-rw------- 1 root root 3448 Apr 27 12:01 9_soul-groove9_105_beat_4-4.mid\n",
            "total 15\n",
            "-rw------- 1 root root 11226 May 20 23:38 data_prep.py\n",
            "drwx------ 2 root root  4096 May 10 13:31 __pycache__\n"
          ],
          "name": "stdout"
        }
      ]
    },
    {
      "cell_type": "markdown",
      "metadata": {
        "id": "SBKOdMxXFygn",
        "colab_type": "text"
      },
      "source": [
        "## Auto reload module\n",
        "\n",
        "I'm now using a module edited and saved to google drive which is automatically pushed to the cloud and made available to the colab env. Changes need time to propagate, and imports don't 'reimport' to load changes, so trying the following...\n",
        "\n",
        "Note the code below is not very reliable, it seems to work occasionally, after some time, but haven't been able to work out the pattern to it. \n",
        "\n",
        "If in a hurry, brute force loading of changes by restarting the runtime."
      ]
    },
    {
      "cell_type": "code",
      "metadata": {
        "id": "jErvkusO6D01",
        "colab_type": "code",
        "colab": {}
      },
      "source": [
        "# tool to auto reload modules.\n",
        "%load_ext autoreload\n",
        "\n",
        "# config to auto-reload all modules, handy to make \n",
        "# writing and testing modules much easier.\n",
        "%autoreload 2"
      ],
      "execution_count": 0,
      "outputs": []
    },
    {
      "cell_type": "markdown",
      "metadata": {
        "id": "2qR3tjMl4bv2",
        "colab_type": "text"
      },
      "source": [
        "## Imports and accessing lib functions"
      ]
    },
    {
      "cell_type": "code",
      "metadata": {
        "id": "U6Yjj8jC4gQr",
        "colab_type": "code",
        "colab": {
          "base_uri": "https://localhost:8080/",
          "height": 34
        },
        "outputId": "bdc40f4e-c41b-4ba0-aeb0-15739987665d"
      },
      "source": [
        "# install required libs\n",
        "!pip install mido"
      ],
      "execution_count": 5,
      "outputs": [
        {
          "output_type": "stream",
          "text": [
            "Requirement already satisfied: mido in /usr/local/lib/python3.6/dist-packages (1.2.9)\n"
          ],
          "name": "stdout"
        }
      ]
    },
    {
      "cell_type": "code",
      "metadata": {
        "id": "rjqCavr4sz4x",
        "colab_type": "code",
        "outputId": "ec80fc80-f4ac-4983-d841-4ca4ddcc2096",
        "colab": {
          "base_uri": "https://localhost:8080/",
          "height": 34
        }
      },
      "source": [
        "# imports\n",
        "import pandas as pd\n",
        "import math\n",
        "\n",
        "# import my modules\n",
        "import sys\n",
        "sys.path.append('/content/drive/My Drive/LYIT/Dissertation/modules/')\n",
        "import data_prep\n",
        "\n"
      ],
      "execution_count": 6,
      "outputs": [
        {
          "output_type": "stream",
          "text": [
            "LOADING - data_prep.py module name is: data_prep\n"
          ],
          "name": "stdout"
        }
      ]
    },
    {
      "cell_type": "code",
      "metadata": {
        "id": "oPKVwQibzS7t",
        "colab_type": "code",
        "outputId": "914987e7-ec6e-4b09-9c88-29fee63e9311",
        "colab": {
          "base_uri": "https://localhost:8080/",
          "height": 34
        }
      },
      "source": [
        "# testing auto reload of modules \n",
        "data_prep.test_function_call('bling')"
      ],
      "execution_count": 7,
      "outputs": [
        {
          "output_type": "stream",
          "text": [
            "test function called worked! :)  bling\n"
          ],
          "name": "stdout"
        }
      ]
    },
    {
      "cell_type": "markdown",
      "metadata": {
        "id": "lBT_BaeD4o8L",
        "colab_type": "text"
      },
      "source": [
        "## Pandas display options"
      ]
    },
    {
      "cell_type": "code",
      "metadata": {
        "id": "KkLdwFFAAotC",
        "colab_type": "code",
        "colab": {}
      },
      "source": [
        "def set_pandas_display_options() -> None:\n",
        "    # Ref: https://stackoverflow.com/a/52432757/\n",
        "    display = pd.options.display\n",
        "\n",
        "    display.max_columns = 1000\n",
        "    display.max_rows = 200\n",
        "    display.max_colwidth = 1000\n",
        "    display.width = None\n",
        "    # display.precision = 2  # set as needed\n",
        "\n",
        "set_pandas_display_options()\n",
        "#pd.reset_option('all')\n"
      ],
      "execution_count": 0,
      "outputs": []
    },
    {
      "cell_type": "markdown",
      "metadata": {
        "id": "8DbIvTwPGpMU",
        "colab_type": "text"
      },
      "source": [
        "## Test creating object from custom module"
      ]
    },
    {
      "cell_type": "code",
      "metadata": {
        "id": "Vtkaryf-ICz_",
        "colab_type": "code",
        "colab": {}
      },
      "source": [
        "gmt = data_prep.GrooveMidiTools"
      ],
      "execution_count": 0,
      "outputs": []
    },
    {
      "cell_type": "code",
      "metadata": {
        "id": "rCG0bT0RH5gP",
        "colab_type": "code",
        "outputId": "2faef85f-31d4-459e-b235-c39d62700fc3",
        "colab": {
          "base_uri": "https://localhost:8080/",
          "height": 119
        }
      },
      "source": [
        "file_name = '/content/drive/My Drive/groove-v1.0.0-midionly/groove/drummer5/eval_session/1_funk-groove1_138_beat_4-4.mid'\n",
        "midi_file = data_prep.MIDI_File_Wrapper(file_name, gmt.mappings)"
      ],
      "execution_count": 10,
      "outputs": [
        {
          "output_type": "stream",
          "text": [
            "FILE: /content/drive/My Drive/groove-v1.0.0-midionly/groove/drummer5/eval_session/1_funk-groove1_138_beat_4-4.mid\n",
            "    tracks: [<midi track 'Base Midi' 1037 messages>]\n",
            "    time sig: <meta message time_signature numerator=4 denominator=4 clocks_per_click=24 notated_32nd_notes_per_beat=8 time=0>\n",
            "    tempo: <meta message set_tempo tempo=434783 time=0>\n",
            "    last note_on: 30634\n",
            "    good instruments: 4, {36.0: 'Bass Drum 1', 38.0: 'Acoustic Snare', 42.0: 'Closed Hi Hat', 51.0: 'Ride Cymbal 1'}\n"
          ],
          "name": "stdout"
        }
      ]
    },
    {
      "cell_type": "markdown",
      "metadata": {
        "id": "VspeXMsHH6Q3",
        "colab_type": "text"
      },
      "source": [
        "... the above verifies I'm able to create custom objects from custom code, great!\n"
      ]
    },
    {
      "cell_type": "code",
      "metadata": {
        "id": "Pq6QTdjzcdeu",
        "colab_type": "code",
        "colab": {
          "base_uri": "https://localhost:8080/",
          "height": 34
        },
        "outputId": "ef0498e2-80d0-44a9-eb4d-efb2c51aead1"
      },
      "source": [
        "midi_file.last_hit()"
      ],
      "execution_count": 11,
      "outputs": [
        {
          "output_type": "execute_result",
          "data": {
            "text/plain": [
              "30634"
            ]
          },
          "metadata": {
            "tags": []
          },
          "execution_count": 11
        }
      ]
    },
    {
      "cell_type": "markdown",
      "metadata": {
        "id": "I9LqXVTuKOqs",
        "colab_type": "text"
      },
      "source": [
        "# Create MidiTimingTools class"
      ]
    },
    {
      "cell_type": "markdown",
      "metadata": {
        "id": "ea-oR4gPLiEY",
        "colab_type": "text"
      },
      "source": [
        "Worker class to handle standard calculations with MIDI timing data, allow easily extracting beats, bars, bars in file, calculating beat positions, etc."
      ]
    },
    {
      "cell_type": "code",
      "metadata": {
        "id": "AlcXAMYELfRy",
        "colab_type": "code",
        "colab": {}
      },
      "source": [
        "import math\n",
        "import pandas as pd\n",
        "\n",
        "class MidiTimingTools:\n",
        "\n",
        "\n",
        "  # all parameters required\n",
        "  def __init__(self, label, file_ticks_per_beat, us_per_beat, time_sig_numerator, time_sig_denominator, last_note_on):\n",
        "    self.label = label                                # pretty label, for handy reference\n",
        "    self.file_ticks_per_beat = file_ticks_per_beat    # from MIDI file header\n",
        "    self.time_sig_numerator = time_sig_numerator      #   \"\n",
        "    self.time_sig_denominator = time_sig_denominator  #   \"\n",
        "    self.us_per_beat = us_per_beat                    # from MIDI file meta message\n",
        "    self.last_note_on = last_note_on                  # from MIDI file data\n",
        "\n",
        "\n",
        "  # For call to str(). Prints readable form, tests all \n",
        "  # function calls to build debug string output. \n",
        "  def __str__(self): \n",
        "    return str(\"LABEL: {} \\n  Ticks p/beat: {} \\n  BPM: {} \\n  time sig: {}/ {} \\n  bars in file: {} \\n  beats in file: {} \\n  ticks in file: {} \\n  bins: {} \\n  beats: {}\"\n",
        "    .format(self.label, \n",
        "            self.file_ticks_per_beat,\n",
        "            self.bpm(),\n",
        "            self.time_sig_numerator,\n",
        "            self.time_sig_denominator,\n",
        "            self.bars_in_file(),\n",
        "            self.beats_in_file(), \n",
        "            self.ticks_in_file(), \n",
        "            self.get_bins(), \n",
        "            self.get_beats()))\n",
        "\n",
        "  def bpm(self):\n",
        "    return (60 * 1000000) / self.us_per_beat\n",
        "\n",
        "  # ts = time signature\n",
        "  def ts_ticks_per_beat(self):\n",
        "    return self.file_ticks_per_beat * ( 4/ self.time_sig_denominator )\n",
        "\n",
        "  def ticks_per_bar(self):\n",
        "    return self.ts_ticks_per_beat() * self.time_sig_numerator\n",
        "\n",
        "  def ticks_per_8(self):\n",
        "    return self.file_ticks_per_beat/ 2\n",
        "    \n",
        "  def ticks_per_16(self):\n",
        "    return self.file_ticks_per_beat / 4\n",
        "\n",
        "  # calculates total bars, round up for whole bars\n",
        "  def bars_in_file(self):\n",
        "    return math.ceil(self.last_note_on / self.ticks_per_bar()) \n",
        "\n",
        "  def ticks_in_file(self):\n",
        "    return int(self.bars_in_file() * self.ticks_per_bar()) # total ticks to render (file_range)\n",
        "\n",
        "  def beats_in_file(self):\n",
        "    return self.bars_in_file() * self.time_sig_numerator\n",
        "\n",
        "  # bucket size for quantizing, set to 1/16 notes\n",
        "  def bin_size(self):\n",
        "    return int(self.ticks_per_16()) \n",
        "\n",
        "  def get_bins(self):   # my_bins\n",
        "    my_bin_size = self.bin_size()\n",
        "    file_range = self.ticks_in_file()\n",
        "    return range(0 - (int(my_bin_size/ 2)), file_range + my_bin_size, my_bin_size)\n",
        "\n",
        "  def get_beats(self):\n",
        "    my_bin_size = self.bin_size()\n",
        "    file_range = self.ticks_in_file()\n",
        "    return range(0, file_range + my_bin_size, my_bin_size) \n",
        "\n",
        "  # NOTE - don't think I actually need this at all\n",
        "  def calculated_bins(self, cumulative_ticks_series):\n",
        "\t  return pd.cut(cumulative_ticks_series, bins=self.get_bins(), right=False)\n",
        "\n",
        "  # takes series with cumulative ticks since start of file for the \n",
        "  # MIDI note_on events, and returns a series stating the centre\n",
        "  # of the beat for each given MIDI event\n",
        "  def assigned_beat_location(self, cumulative_ticks_column):\n",
        "    #return pd.cut(cumulative_ticks_column.values, bins=self.get_bins(), right=False, labels=self.get_beats())\n",
        "    return pd.cut(cumulative_ticks_column, bins=self.get_bins(), right=False, labels=self.get_beats())\n",
        "\n",
        "\n",
        "  def get_offsets(self, cumulative_ticks_column):\n",
        "    my_beats = self.assigned_beat_location(cumulative_ticks_column)\n",
        "    tmp_dict = dict(enumerate(my_beats.cat.categories))\n",
        "    beat_centers = my_beats.cat.codes.map(tmp_dict)\n",
        "    offsets = cumulative_ticks_column - beat_centers\n",
        "    return offsets\n",
        "\n"
      ],
      "execution_count": 0,
      "outputs": []
    },
    {
      "cell_type": "markdown",
      "metadata": {
        "id": "iL3CnuwoS_8_",
        "colab_type": "text"
      },
      "source": [
        "## Test MidiTimingTools class"
      ]
    },
    {
      "cell_type": "code",
      "metadata": {
        "id": "zovNdRy7TZub",
        "colab_type": "code",
        "colab": {
          "base_uri": "https://localhost:8080/",
          "height": 71
        },
        "outputId": "7be2d0b7-41c9-4b0d-d6c8-50dec819f2ec"
      },
      "source": [
        "# will use previously loaded file ...\n",
        "print(\"file: {}\".format(file_name))\n",
        "print(\"MIDI file: {}\".format(midi_file))"
      ],
      "execution_count": 13,
      "outputs": [
        {
          "output_type": "stream",
          "text": [
            "file: /content/drive/My Drive/groove-v1.0.0-midionly/groove/drummer5/eval_session/1_funk-groove1_138_beat_4-4.mid\n",
            "MIDI file: file: <midi file '/content/drive/My Drive/groove-v1.0.0-midionly/groove/drummer5/eval_session/1_funk-groove1_138_beat_4-4.mid' type 0, 1 tracks, 1037 messages>\n"
          ],
          "name": "stdout"
        }
      ]
    },
    {
      "cell_type": "code",
      "metadata": {
        "id": "orMsO1yrTDdd",
        "colab_type": "code",
        "colab": {}
      },
      "source": [
        "f = midi_file\n",
        "mtt = MidiTimingTools(file_name, f.ticks(), f.tempo_us(), f.ts_num(), f.ts_denom(), f.last_hit())"
      ],
      "execution_count": 0,
      "outputs": []
    },
    {
      "cell_type": "code",
      "metadata": {
        "id": "nuQacw6OeRdn",
        "colab_type": "code",
        "colab": {
          "base_uri": "https://localhost:8080/",
          "height": 170
        },
        "outputId": "eff3d517-323d-4919-ec5a-452325a53dbb"
      },
      "source": [
        "print(mtt)"
      ],
      "execution_count": 15,
      "outputs": [
        {
          "output_type": "stream",
          "text": [
            "LABEL: /content/drive/My Drive/groove-v1.0.0-midionly/groove/drummer5/eval_session/1_funk-groove1_138_beat_4-4.mid \n",
            "  Ticks p/beat: 480 \n",
            "  BPM: 137.99987580011177 \n",
            "  time sig: 4/ 4 \n",
            "  bars in file: 16 \n",
            "  beats in file: 64 \n",
            "  ticks in file: 30720 \n",
            "  bins: range(-60, 30840, 120) \n",
            "  beats: range(0, 30840, 120)\n"
          ],
          "name": "stdout"
        }
      ]
    },
    {
      "cell_type": "code",
      "metadata": {
        "id": "EXvYNXKBA3Ju",
        "colab_type": "code",
        "colab": {
          "base_uri": "https://localhost:8080/",
          "height": 221
        },
        "outputId": "c8ad5e8a-ef36-4a78-d298-28c691ad129c"
      },
      "source": [
        "f_df = f.df_midi_data\n",
        "f_df[f.cum_ticks_col]"
      ],
      "execution_count": 16,
      "outputs": [
        {
          "output_type": "execute_result",
          "data": {
            "text/plain": [
              "0           0\n",
              "1           0\n",
              "2           0\n",
              "3           0\n",
              "4           0\n",
              "        ...  \n",
              "1032    30590\n",
              "1033    30622\n",
              "1034    30634\n",
              "1035    30745\n",
              "1036    30745\n",
              "Name: total_ticks, Length: 1037, dtype: int64"
            ]
          },
          "metadata": {
            "tags": []
          },
          "execution_count": 16
        }
      ]
    },
    {
      "cell_type": "code",
      "metadata": {
        "id": "SXt8a9Wr6hSu",
        "colab_type": "code",
        "colab": {}
      },
      "source": [
        "# this should be most of what I need to grab a column of\n",
        "# calculated beat offsets that can be used for everything else\n",
        "# NOTE: might also need a 'beat_center' column .. ?  ##TODO##\n",
        "beats_col = mtt.get_offsets(f_df[f.cum_ticks_col])\n",
        "f_df['beat_offset'] = beats_col "
      ],
      "execution_count": 0,
      "outputs": []
    },
    {
      "cell_type": "markdown",
      "metadata": {
        "id": "wa1mOxQ9H-tY",
        "colab_type": "text"
      },
      "source": [
        "## Validating output"
      ]
    },
    {
      "cell_type": "code",
      "metadata": {
        "id": "impd_yRpGYgz",
        "colab_type": "code",
        "colab": {
          "base_uri": "https://localhost:8080/",
          "height": 272
        },
        "outputId": "9793995e-ea54-4cd6-efae-375076ab9ad4"
      },
      "source": [
        "f_df.info()"
      ],
      "execution_count": 18,
      "outputs": [
        {
          "output_type": "stream",
          "text": [
            "<class 'pandas.core.frame.DataFrame'>\n",
            "RangeIndex: 1037 entries, 0 to 1036\n",
            "Data columns (total 8 columns):\n",
            " #   Column         Non-Null Count  Dtype  \n",
            "---  ------         --------------  -----  \n",
            " 0   msg_type       1037 non-null   string \n",
            " 1   delta_ticks    1037 non-null   int64  \n",
            " 2   total_ticks    1037 non-null   int64  \n",
            " 3   total_seconds  1037 non-null   float64\n",
            " 4   note           746 non-null    float64\n",
            " 5   velocity       746 non-null    float64\n",
            " 6   raw_data       1037 non-null   string \n",
            " 7   beat_offset    1037 non-null   int64  \n",
            "dtypes: float64(3), int64(3), string(2)\n",
            "memory usage: 64.9 KB\n"
          ],
          "name": "stdout"
        }
      ]
    },
    {
      "cell_type": "markdown",
      "metadata": {
        "id": "QyzwvxPdICGN",
        "colab_type": "text"
      },
      "source": [
        "I've run this on the same file used in workbook 'BeatTrackingTests_1.ipynb' and variously compared lots of rows from head()/ tail() and verified the offsets match everywhere in the following .."
      ]
    },
    {
      "cell_type": "code",
      "metadata": {
        "id": "KmOB_6NdG1RY",
        "colab_type": "code",
        "colab": {
          "base_uri": "https://localhost:8080/",
          "height": 1000
        },
        "outputId": "45ce0e16-5518-4899-963c-062f28d2b295"
      },
      "source": [
        "f_df.head(20)\n",
        "f_df.tail(20)"
      ],
      "execution_count": 19,
      "outputs": [
        {
          "output_type": "execute_result",
          "data": {
            "text/html": [
              "<div>\n",
              "<style scoped>\n",
              "    .dataframe tbody tr th:only-of-type {\n",
              "        vertical-align: middle;\n",
              "    }\n",
              "\n",
              "    .dataframe tbody tr th {\n",
              "        vertical-align: top;\n",
              "    }\n",
              "\n",
              "    .dataframe thead th {\n",
              "        text-align: right;\n",
              "    }\n",
              "</style>\n",
              "<table border=\"1\" class=\"dataframe\">\n",
              "  <thead>\n",
              "    <tr style=\"text-align: right;\">\n",
              "      <th></th>\n",
              "      <th>msg_type</th>\n",
              "      <th>delta_ticks</th>\n",
              "      <th>total_ticks</th>\n",
              "      <th>total_seconds</th>\n",
              "      <th>note</th>\n",
              "      <th>velocity</th>\n",
              "      <th>raw_data</th>\n",
              "      <th>beat_offset</th>\n",
              "    </tr>\n",
              "  </thead>\n",
              "  <tbody>\n",
              "    <tr>\n",
              "      <th>0</th>\n",
              "      <td>track_name</td>\n",
              "      <td>0</td>\n",
              "      <td>0</td>\n",
              "      <td>0.000000</td>\n",
              "      <td>NaN</td>\n",
              "      <td>NaN</td>\n",
              "      <td>{'type': 'track_name', 'name': 'Base Midi', 'time': 0}</td>\n",
              "      <td>0</td>\n",
              "    </tr>\n",
              "    <tr>\n",
              "      <th>1</th>\n",
              "      <td>instrument_name</td>\n",
              "      <td>0</td>\n",
              "      <td>0</td>\n",
              "      <td>0.000000</td>\n",
              "      <td>NaN</td>\n",
              "      <td>NaN</td>\n",
              "      <td>{'type': 'instrument_name', 'name': 'Brooklyn', 'time': 0}</td>\n",
              "      <td>0</td>\n",
              "    </tr>\n",
              "    <tr>\n",
              "      <th>2</th>\n",
              "      <td>time_signature</td>\n",
              "      <td>0</td>\n",
              "      <td>0</td>\n",
              "      <td>0.000000</td>\n",
              "      <td>NaN</td>\n",
              "      <td>NaN</td>\n",
              "      <td>{'type': 'time_signature', 'numerator': 4, 'denominator': 4, 'clocks_per_click': 24, 'notated_32nd_notes_per_beat': 8, 'time': 0}</td>\n",
              "      <td>0</td>\n",
              "    </tr>\n",
              "    <tr>\n",
              "      <th>3</th>\n",
              "      <td>key_signature</td>\n",
              "      <td>0</td>\n",
              "      <td>0</td>\n",
              "      <td>0.000000</td>\n",
              "      <td>NaN</td>\n",
              "      <td>NaN</td>\n",
              "      <td>{'type': 'key_signature', 'key': 'C', 'time': 0}</td>\n",
              "      <td>0</td>\n",
              "    </tr>\n",
              "    <tr>\n",
              "      <th>4</th>\n",
              "      <td>smpte_offset</td>\n",
              "      <td>0</td>\n",
              "      <td>0</td>\n",
              "      <td>0.000000</td>\n",
              "      <td>NaN</td>\n",
              "      <td>NaN</td>\n",
              "      <td>{'type': 'smpte_offset', 'frame_rate': 24, 'hours': 33, 'minutes': 1, 'seconds': 15, 'frames': 16, 'sub_frames': 24, 'time': 0}</td>\n",
              "      <td>0</td>\n",
              "    </tr>\n",
              "    <tr>\n",
              "      <th>5</th>\n",
              "      <td>set_tempo</td>\n",
              "      <td>0</td>\n",
              "      <td>0</td>\n",
              "      <td>0.000000</td>\n",
              "      <td>NaN</td>\n",
              "      <td>NaN</td>\n",
              "      <td>{'type': 'set_tempo', 'tempo': 434783, 'time': 0}</td>\n",
              "      <td>0</td>\n",
              "    </tr>\n",
              "    <tr>\n",
              "      <th>6</th>\n",
              "      <td>control_change</td>\n",
              "      <td>4</td>\n",
              "      <td>4</td>\n",
              "      <td>0.003623</td>\n",
              "      <td>NaN</td>\n",
              "      <td>NaN</td>\n",
              "      <td>{'type': 'control_change', 'time': 4, 'control': 4, 'value': 77, 'channel': 9}</td>\n",
              "      <td>4</td>\n",
              "    </tr>\n",
              "    <tr>\n",
              "      <th>7</th>\n",
              "      <td>note_on</td>\n",
              "      <td>1</td>\n",
              "      <td>5</td>\n",
              "      <td>0.004529</td>\n",
              "      <td>42.0</td>\n",
              "      <td>55.0</td>\n",
              "      <td>{'type': 'note_on', 'time': 1, 'note': 44, 'velocity': 55, 'channel': 9}</td>\n",
              "      <td>5</td>\n",
              "    </tr>\n",
              "    <tr>\n",
              "      <th>8</th>\n",
              "      <td>note_on</td>\n",
              "      <td>4</td>\n",
              "      <td>9</td>\n",
              "      <td>0.008152</td>\n",
              "      <td>36.0</td>\n",
              "      <td>39.0</td>\n",
              "      <td>{'type': 'note_on', 'time': 4, 'note': 36, 'velocity': 39, 'channel': 9}</td>\n",
              "      <td>9</td>\n",
              "    </tr>\n",
              "    <tr>\n",
              "      <th>9</th>\n",
              "      <td>note_on</td>\n",
              "      <td>6</td>\n",
              "      <td>15</td>\n",
              "      <td>0.013587</td>\n",
              "      <td>51.0</td>\n",
              "      <td>67.0</td>\n",
              "      <td>{'type': 'note_on', 'time': 6, 'note': 51, 'velocity': 67, 'channel': 9}</td>\n",
              "      <td>15</td>\n",
              "    </tr>\n",
              "    <tr>\n",
              "      <th>10</th>\n",
              "      <td>control_change</td>\n",
              "      <td>24</td>\n",
              "      <td>39</td>\n",
              "      <td>0.035326</td>\n",
              "      <td>NaN</td>\n",
              "      <td>NaN</td>\n",
              "      <td>{'type': 'control_change', 'time': 24, 'control': 4, 'value': 90, 'channel': 9}</td>\n",
              "      <td>39</td>\n",
              "    </tr>\n",
              "    <tr>\n",
              "      <th>11</th>\n",
              "      <td>note_off</td>\n",
              "      <td>77</td>\n",
              "      <td>116</td>\n",
              "      <td>0.105073</td>\n",
              "      <td>42.0</td>\n",
              "      <td>64.0</td>\n",
              "      <td>{'type': 'note_off', 'time': 77, 'note': 44, 'velocity': 64, 'channel': 9}</td>\n",
              "      <td>-4</td>\n",
              "    </tr>\n",
              "    <tr>\n",
              "      <th>12</th>\n",
              "      <td>note_off</td>\n",
              "      <td>5</td>\n",
              "      <td>121</td>\n",
              "      <td>0.109602</td>\n",
              "      <td>36.0</td>\n",
              "      <td>64.0</td>\n",
              "      <td>{'type': 'note_off', 'time': 5, 'note': 36, 'velocity': 64, 'channel': 9}</td>\n",
              "      <td>1</td>\n",
              "    </tr>\n",
              "    <tr>\n",
              "      <th>13</th>\n",
              "      <td>note_off</td>\n",
              "      <td>5</td>\n",
              "      <td>126</td>\n",
              "      <td>0.114131</td>\n",
              "      <td>51.0</td>\n",
              "      <td>64.0</td>\n",
              "      <td>{'type': 'note_off', 'time': 5, 'note': 51, 'velocity': 64, 'channel': 9}</td>\n",
              "      <td>6</td>\n",
              "    </tr>\n",
              "    <tr>\n",
              "      <th>14</th>\n",
              "      <td>note_on</td>\n",
              "      <td>100</td>\n",
              "      <td>226</td>\n",
              "      <td>0.204710</td>\n",
              "      <td>36.0</td>\n",
              "      <td>41.0</td>\n",
              "      <td>{'type': 'note_on', 'time': 100, 'note': 36, 'velocity': 41, 'channel': 9}</td>\n",
              "      <td>-14</td>\n",
              "    </tr>\n",
              "    <tr>\n",
              "      <th>15</th>\n",
              "      <td>note_on</td>\n",
              "      <td>32</td>\n",
              "      <td>258</td>\n",
              "      <td>0.233696</td>\n",
              "      <td>51.0</td>\n",
              "      <td>58.0</td>\n",
              "      <td>{'type': 'note_on', 'time': 32, 'note': 51, 'velocity': 58, 'channel': 9}</td>\n",
              "      <td>18</td>\n",
              "    </tr>\n",
              "    <tr>\n",
              "      <th>16</th>\n",
              "      <td>control_change</td>\n",
              "      <td>54</td>\n",
              "      <td>312</td>\n",
              "      <td>0.282609</td>\n",
              "      <td>NaN</td>\n",
              "      <td>NaN</td>\n",
              "      <td>{'type': 'control_change', 'time': 54, 'control': 4, 'value': 74, 'channel': 9}</td>\n",
              "      <td>-48</td>\n",
              "    </tr>\n",
              "    <tr>\n",
              "      <th>17</th>\n",
              "      <td>note_off</td>\n",
              "      <td>25</td>\n",
              "      <td>337</td>\n",
              "      <td>0.305254</td>\n",
              "      <td>36.0</td>\n",
              "      <td>64.0</td>\n",
              "      <td>{'type': 'note_off', 'time': 25, 'note': 36, 'velocity': 64, 'channel': 9}</td>\n",
              "      <td>-23</td>\n",
              "    </tr>\n",
              "    <tr>\n",
              "      <th>18</th>\n",
              "      <td>note_on</td>\n",
              "      <td>7</td>\n",
              "      <td>344</td>\n",
              "      <td>0.311594</td>\n",
              "      <td>36.0</td>\n",
              "      <td>6.0</td>\n",
              "      <td>{'type': 'note_on', 'time': 7, 'note': 36, 'velocity': 6, 'channel': 9}</td>\n",
              "      <td>-16</td>\n",
              "    </tr>\n",
              "    <tr>\n",
              "      <th>19</th>\n",
              "      <td>control_change</td>\n",
              "      <td>1</td>\n",
              "      <td>345</td>\n",
              "      <td>0.312500</td>\n",
              "      <td>NaN</td>\n",
              "      <td>NaN</td>\n",
              "      <td>{'type': 'control_change', 'time': 1, 'control': 4, 'value': 0, 'channel': 9}</td>\n",
              "      <td>-15</td>\n",
              "    </tr>\n",
              "  </tbody>\n",
              "</table>\n",
              "</div>"
            ],
            "text/plain": [
              "           msg_type  delta_ticks  total_ticks  total_seconds  note  velocity  \\\n",
              "0        track_name            0            0       0.000000   NaN       NaN   \n",
              "1   instrument_name            0            0       0.000000   NaN       NaN   \n",
              "2    time_signature            0            0       0.000000   NaN       NaN   \n",
              "3     key_signature            0            0       0.000000   NaN       NaN   \n",
              "4      smpte_offset            0            0       0.000000   NaN       NaN   \n",
              "5         set_tempo            0            0       0.000000   NaN       NaN   \n",
              "6    control_change            4            4       0.003623   NaN       NaN   \n",
              "7           note_on            1            5       0.004529  42.0      55.0   \n",
              "8           note_on            4            9       0.008152  36.0      39.0   \n",
              "9           note_on            6           15       0.013587  51.0      67.0   \n",
              "10   control_change           24           39       0.035326   NaN       NaN   \n",
              "11         note_off           77          116       0.105073  42.0      64.0   \n",
              "12         note_off            5          121       0.109602  36.0      64.0   \n",
              "13         note_off            5          126       0.114131  51.0      64.0   \n",
              "14          note_on          100          226       0.204710  36.0      41.0   \n",
              "15          note_on           32          258       0.233696  51.0      58.0   \n",
              "16   control_change           54          312       0.282609   NaN       NaN   \n",
              "17         note_off           25          337       0.305254  36.0      64.0   \n",
              "18          note_on            7          344       0.311594  36.0       6.0   \n",
              "19   control_change            1          345       0.312500   NaN       NaN   \n",
              "\n",
              "                                                                                                                             raw_data  \\\n",
              "0                                                                              {'type': 'track_name', 'name': 'Base Midi', 'time': 0}   \n",
              "1                                                                          {'type': 'instrument_name', 'name': 'Brooklyn', 'time': 0}   \n",
              "2   {'type': 'time_signature', 'numerator': 4, 'denominator': 4, 'clocks_per_click': 24, 'notated_32nd_notes_per_beat': 8, 'time': 0}   \n",
              "3                                                                                    {'type': 'key_signature', 'key': 'C', 'time': 0}   \n",
              "4     {'type': 'smpte_offset', 'frame_rate': 24, 'hours': 33, 'minutes': 1, 'seconds': 15, 'frames': 16, 'sub_frames': 24, 'time': 0}   \n",
              "5                                                                                   {'type': 'set_tempo', 'tempo': 434783, 'time': 0}   \n",
              "6                                                      {'type': 'control_change', 'time': 4, 'control': 4, 'value': 77, 'channel': 9}   \n",
              "7                                                            {'type': 'note_on', 'time': 1, 'note': 44, 'velocity': 55, 'channel': 9}   \n",
              "8                                                            {'type': 'note_on', 'time': 4, 'note': 36, 'velocity': 39, 'channel': 9}   \n",
              "9                                                            {'type': 'note_on', 'time': 6, 'note': 51, 'velocity': 67, 'channel': 9}   \n",
              "10                                                    {'type': 'control_change', 'time': 24, 'control': 4, 'value': 90, 'channel': 9}   \n",
              "11                                                         {'type': 'note_off', 'time': 77, 'note': 44, 'velocity': 64, 'channel': 9}   \n",
              "12                                                          {'type': 'note_off', 'time': 5, 'note': 36, 'velocity': 64, 'channel': 9}   \n",
              "13                                                          {'type': 'note_off', 'time': 5, 'note': 51, 'velocity': 64, 'channel': 9}   \n",
              "14                                                         {'type': 'note_on', 'time': 100, 'note': 36, 'velocity': 41, 'channel': 9}   \n",
              "15                                                          {'type': 'note_on', 'time': 32, 'note': 51, 'velocity': 58, 'channel': 9}   \n",
              "16                                                    {'type': 'control_change', 'time': 54, 'control': 4, 'value': 74, 'channel': 9}   \n",
              "17                                                         {'type': 'note_off', 'time': 25, 'note': 36, 'velocity': 64, 'channel': 9}   \n",
              "18                                                            {'type': 'note_on', 'time': 7, 'note': 36, 'velocity': 6, 'channel': 9}   \n",
              "19                                                      {'type': 'control_change', 'time': 1, 'control': 4, 'value': 0, 'channel': 9}   \n",
              "\n",
              "    beat_offset  \n",
              "0             0  \n",
              "1             0  \n",
              "2             0  \n",
              "3             0  \n",
              "4             0  \n",
              "5             0  \n",
              "6             4  \n",
              "7             5  \n",
              "8             9  \n",
              "9            15  \n",
              "10           39  \n",
              "11           -4  \n",
              "12            1  \n",
              "13            6  \n",
              "14          -14  \n",
              "15           18  \n",
              "16          -48  \n",
              "17          -23  \n",
              "18          -16  \n",
              "19          -15  "
            ]
          },
          "metadata": {
            "tags": []
          },
          "execution_count": 19
        },
        {
          "output_type": "execute_result",
          "data": {
            "text/html": [
              "<div>\n",
              "<style scoped>\n",
              "    .dataframe tbody tr th:only-of-type {\n",
              "        vertical-align: middle;\n",
              "    }\n",
              "\n",
              "    .dataframe tbody tr th {\n",
              "        vertical-align: top;\n",
              "    }\n",
              "\n",
              "    .dataframe thead th {\n",
              "        text-align: right;\n",
              "    }\n",
              "</style>\n",
              "<table border=\"1\" class=\"dataframe\">\n",
              "  <thead>\n",
              "    <tr style=\"text-align: right;\">\n",
              "      <th></th>\n",
              "      <th>msg_type</th>\n",
              "      <th>delta_ticks</th>\n",
              "      <th>total_ticks</th>\n",
              "      <th>total_seconds</th>\n",
              "      <th>note</th>\n",
              "      <th>velocity</th>\n",
              "      <th>raw_data</th>\n",
              "      <th>beat_offset</th>\n",
              "    </tr>\n",
              "  </thead>\n",
              "  <tbody>\n",
              "    <tr>\n",
              "      <th>1017</th>\n",
              "      <td>note_off</td>\n",
              "      <td>12</td>\n",
              "      <td>30113</td>\n",
              "      <td>27.276293</td>\n",
              "      <td>36.0</td>\n",
              "      <td>64.0</td>\n",
              "      <td>{'type': 'note_off', 'time': 12, 'note': 36, 'velocity': 64, 'channel': 9}</td>\n",
              "      <td>-7</td>\n",
              "    </tr>\n",
              "    <tr>\n",
              "      <th>1018</th>\n",
              "      <td>note_off</td>\n",
              "      <td>2</td>\n",
              "      <td>30115</td>\n",
              "      <td>27.278104</td>\n",
              "      <td>38.0</td>\n",
              "      <td>64.0</td>\n",
              "      <td>{'type': 'note_off', 'time': 2, 'note': 38, 'velocity': 64, 'channel': 9}</td>\n",
              "      <td>-5</td>\n",
              "    </tr>\n",
              "    <tr>\n",
              "      <th>1019</th>\n",
              "      <td>note_on</td>\n",
              "      <td>6</td>\n",
              "      <td>30121</td>\n",
              "      <td>27.283539</td>\n",
              "      <td>36.0</td>\n",
              "      <td>33.0</td>\n",
              "      <td>{'type': 'note_on', 'time': 6, 'note': 36, 'velocity': 33, 'channel': 9}</td>\n",
              "      <td>1</td>\n",
              "    </tr>\n",
              "    <tr>\n",
              "      <th>1020</th>\n",
              "      <td>note_off</td>\n",
              "      <td>17</td>\n",
              "      <td>30138</td>\n",
              "      <td>27.298938</td>\n",
              "      <td>51.0</td>\n",
              "      <td>64.0</td>\n",
              "      <td>{'type': 'note_off', 'time': 17, 'note': 51, 'velocity': 64, 'channel': 9}</td>\n",
              "      <td>18</td>\n",
              "    </tr>\n",
              "    <tr>\n",
              "      <th>1021</th>\n",
              "      <td>control_change</td>\n",
              "      <td>92</td>\n",
              "      <td>30230</td>\n",
              "      <td>27.382271</td>\n",
              "      <td>NaN</td>\n",
              "      <td>NaN</td>\n",
              "      <td>{'type': 'control_change', 'time': 92, 'control': 4, 'value': 77, 'channel': 9}</td>\n",
              "      <td>-10</td>\n",
              "    </tr>\n",
              "    <tr>\n",
              "      <th>1022</th>\n",
              "      <td>note_on</td>\n",
              "      <td>0</td>\n",
              "      <td>30230</td>\n",
              "      <td>27.382271</td>\n",
              "      <td>42.0</td>\n",
              "      <td>42.0</td>\n",
              "      <td>{'type': 'note_on', 'time': 0, 'note': 44, 'velocity': 42, 'channel': 9}</td>\n",
              "      <td>-10</td>\n",
              "    </tr>\n",
              "    <tr>\n",
              "      <th>1023</th>\n",
              "      <td>note_off</td>\n",
              "      <td>3</td>\n",
              "      <td>30233</td>\n",
              "      <td>27.384988</td>\n",
              "      <td>36.0</td>\n",
              "      <td>64.0</td>\n",
              "      <td>{'type': 'note_off', 'time': 3, 'note': 36, 'velocity': 64, 'channel': 9}</td>\n",
              "      <td>-7</td>\n",
              "    </tr>\n",
              "    <tr>\n",
              "      <th>1024</th>\n",
              "      <td>note_on</td>\n",
              "      <td>23</td>\n",
              "      <td>30256</td>\n",
              "      <td>27.405822</td>\n",
              "      <td>51.0</td>\n",
              "      <td>96.0</td>\n",
              "      <td>{'type': 'note_on', 'time': 23, 'note': 51, 'velocity': 96, 'channel': 9}</td>\n",
              "      <td>16</td>\n",
              "    </tr>\n",
              "    <tr>\n",
              "      <th>1025</th>\n",
              "      <td>note_on</td>\n",
              "      <td>7</td>\n",
              "      <td>30263</td>\n",
              "      <td>27.412162</td>\n",
              "      <td>38.0</td>\n",
              "      <td>109.0</td>\n",
              "      <td>{'type': 'note_on', 'time': 7, 'note': 40, 'velocity': 109, 'channel': 9}</td>\n",
              "      <td>23</td>\n",
              "    </tr>\n",
              "    <tr>\n",
              "      <th>1026</th>\n",
              "      <td>control_change</td>\n",
              "      <td>2</td>\n",
              "      <td>30265</td>\n",
              "      <td>27.413974</td>\n",
              "      <td>NaN</td>\n",
              "      <td>NaN</td>\n",
              "      <td>{'type': 'control_change', 'time': 2, 'control': 4, 'value': 90, 'channel': 9}</td>\n",
              "      <td>25</td>\n",
              "    </tr>\n",
              "    <tr>\n",
              "      <th>1027</th>\n",
              "      <td>note_off</td>\n",
              "      <td>77</td>\n",
              "      <td>30342</td>\n",
              "      <td>27.483720</td>\n",
              "      <td>42.0</td>\n",
              "      <td>64.0</td>\n",
              "      <td>{'type': 'note_off', 'time': 77, 'note': 44, 'velocity': 64, 'channel': 9}</td>\n",
              "      <td>-18</td>\n",
              "    </tr>\n",
              "    <tr>\n",
              "      <th>1028</th>\n",
              "      <td>note_off</td>\n",
              "      <td>26</td>\n",
              "      <td>30368</td>\n",
              "      <td>27.507271</td>\n",
              "      <td>51.0</td>\n",
              "      <td>64.0</td>\n",
              "      <td>{'type': 'note_off', 'time': 26, 'note': 51, 'velocity': 64, 'channel': 9}</td>\n",
              "      <td>8</td>\n",
              "    </tr>\n",
              "    <tr>\n",
              "      <th>1029</th>\n",
              "      <td>note_off</td>\n",
              "      <td>6</td>\n",
              "      <td>30374</td>\n",
              "      <td>27.512706</td>\n",
              "      <td>38.0</td>\n",
              "      <td>64.0</td>\n",
              "      <td>{'type': 'note_off', 'time': 6, 'note': 40, 'velocity': 64, 'channel': 9}</td>\n",
              "      <td>14</td>\n",
              "    </tr>\n",
              "    <tr>\n",
              "      <th>1030</th>\n",
              "      <td>note_on</td>\n",
              "      <td>137</td>\n",
              "      <td>30511</td>\n",
              "      <td>27.636800</td>\n",
              "      <td>51.0</td>\n",
              "      <td>43.0</td>\n",
              "      <td>{'type': 'note_on', 'time': 137, 'note': 51, 'velocity': 43, 'channel': 9}</td>\n",
              "      <td>31</td>\n",
              "    </tr>\n",
              "    <tr>\n",
              "      <th>1031</th>\n",
              "      <td>control_change</td>\n",
              "      <td>48</td>\n",
              "      <td>30559</td>\n",
              "      <td>27.680279</td>\n",
              "      <td>NaN</td>\n",
              "      <td>NaN</td>\n",
              "      <td>{'type': 'control_change', 'time': 48, 'control': 4, 'value': 57, 'channel': 9}</td>\n",
              "      <td>-41</td>\n",
              "    </tr>\n",
              "    <tr>\n",
              "      <th>1032</th>\n",
              "      <td>control_change</td>\n",
              "      <td>31</td>\n",
              "      <td>30590</td>\n",
              "      <td>27.708358</td>\n",
              "      <td>NaN</td>\n",
              "      <td>NaN</td>\n",
              "      <td>{'type': 'control_change', 'time': 31, 'control': 4, 'value': 0, 'channel': 9}</td>\n",
              "      <td>-10</td>\n",
              "    </tr>\n",
              "    <tr>\n",
              "      <th>1033</th>\n",
              "      <td>note_off</td>\n",
              "      <td>32</td>\n",
              "      <td>30622</td>\n",
              "      <td>27.737344</td>\n",
              "      <td>51.0</td>\n",
              "      <td>64.0</td>\n",
              "      <td>{'type': 'note_off', 'time': 32, 'note': 51, 'velocity': 64, 'channel': 9}</td>\n",
              "      <td>22</td>\n",
              "    </tr>\n",
              "    <tr>\n",
              "      <th>1034</th>\n",
              "      <td>note_on</td>\n",
              "      <td>12</td>\n",
              "      <td>30634</td>\n",
              "      <td>27.748213</td>\n",
              "      <td>38.0</td>\n",
              "      <td>60.0</td>\n",
              "      <td>{'type': 'note_on', 'time': 12, 'note': 38, 'velocity': 60, 'channel': 9}</td>\n",
              "      <td>34</td>\n",
              "    </tr>\n",
              "    <tr>\n",
              "      <th>1035</th>\n",
              "      <td>note_off</td>\n",
              "      <td>111</td>\n",
              "      <td>30745</td>\n",
              "      <td>27.848757</td>\n",
              "      <td>38.0</td>\n",
              "      <td>64.0</td>\n",
              "      <td>{'type': 'note_off', 'time': 111, 'note': 38, 'velocity': 64, 'channel': 9}</td>\n",
              "      <td>25</td>\n",
              "    </tr>\n",
              "    <tr>\n",
              "      <th>1036</th>\n",
              "      <td>end_of_track</td>\n",
              "      <td>0</td>\n",
              "      <td>30745</td>\n",
              "      <td>27.848757</td>\n",
              "      <td>NaN</td>\n",
              "      <td>NaN</td>\n",
              "      <td>{'type': 'end_of_track', 'time': 0}</td>\n",
              "      <td>25</td>\n",
              "    </tr>\n",
              "  </tbody>\n",
              "</table>\n",
              "</div>"
            ],
            "text/plain": [
              "            msg_type  delta_ticks  total_ticks  total_seconds  note  velocity  \\\n",
              "1017        note_off           12        30113      27.276293  36.0      64.0   \n",
              "1018        note_off            2        30115      27.278104  38.0      64.0   \n",
              "1019         note_on            6        30121      27.283539  36.0      33.0   \n",
              "1020        note_off           17        30138      27.298938  51.0      64.0   \n",
              "1021  control_change           92        30230      27.382271   NaN       NaN   \n",
              "1022         note_on            0        30230      27.382271  42.0      42.0   \n",
              "1023        note_off            3        30233      27.384988  36.0      64.0   \n",
              "1024         note_on           23        30256      27.405822  51.0      96.0   \n",
              "1025         note_on            7        30263      27.412162  38.0     109.0   \n",
              "1026  control_change            2        30265      27.413974   NaN       NaN   \n",
              "1027        note_off           77        30342      27.483720  42.0      64.0   \n",
              "1028        note_off           26        30368      27.507271  51.0      64.0   \n",
              "1029        note_off            6        30374      27.512706  38.0      64.0   \n",
              "1030         note_on          137        30511      27.636800  51.0      43.0   \n",
              "1031  control_change           48        30559      27.680279   NaN       NaN   \n",
              "1032  control_change           31        30590      27.708358   NaN       NaN   \n",
              "1033        note_off           32        30622      27.737344  51.0      64.0   \n",
              "1034         note_on           12        30634      27.748213  38.0      60.0   \n",
              "1035        note_off          111        30745      27.848757  38.0      64.0   \n",
              "1036    end_of_track            0        30745      27.848757   NaN       NaN   \n",
              "\n",
              "                                                                             raw_data  \\\n",
              "1017       {'type': 'note_off', 'time': 12, 'note': 36, 'velocity': 64, 'channel': 9}   \n",
              "1018        {'type': 'note_off', 'time': 2, 'note': 38, 'velocity': 64, 'channel': 9}   \n",
              "1019         {'type': 'note_on', 'time': 6, 'note': 36, 'velocity': 33, 'channel': 9}   \n",
              "1020       {'type': 'note_off', 'time': 17, 'note': 51, 'velocity': 64, 'channel': 9}   \n",
              "1021  {'type': 'control_change', 'time': 92, 'control': 4, 'value': 77, 'channel': 9}   \n",
              "1022         {'type': 'note_on', 'time': 0, 'note': 44, 'velocity': 42, 'channel': 9}   \n",
              "1023        {'type': 'note_off', 'time': 3, 'note': 36, 'velocity': 64, 'channel': 9}   \n",
              "1024        {'type': 'note_on', 'time': 23, 'note': 51, 'velocity': 96, 'channel': 9}   \n",
              "1025        {'type': 'note_on', 'time': 7, 'note': 40, 'velocity': 109, 'channel': 9}   \n",
              "1026   {'type': 'control_change', 'time': 2, 'control': 4, 'value': 90, 'channel': 9}   \n",
              "1027       {'type': 'note_off', 'time': 77, 'note': 44, 'velocity': 64, 'channel': 9}   \n",
              "1028       {'type': 'note_off', 'time': 26, 'note': 51, 'velocity': 64, 'channel': 9}   \n",
              "1029        {'type': 'note_off', 'time': 6, 'note': 40, 'velocity': 64, 'channel': 9}   \n",
              "1030       {'type': 'note_on', 'time': 137, 'note': 51, 'velocity': 43, 'channel': 9}   \n",
              "1031  {'type': 'control_change', 'time': 48, 'control': 4, 'value': 57, 'channel': 9}   \n",
              "1032   {'type': 'control_change', 'time': 31, 'control': 4, 'value': 0, 'channel': 9}   \n",
              "1033       {'type': 'note_off', 'time': 32, 'note': 51, 'velocity': 64, 'channel': 9}   \n",
              "1034        {'type': 'note_on', 'time': 12, 'note': 38, 'velocity': 60, 'channel': 9}   \n",
              "1035      {'type': 'note_off', 'time': 111, 'note': 38, 'velocity': 64, 'channel': 9}   \n",
              "1036                                              {'type': 'end_of_track', 'time': 0}   \n",
              "\n",
              "      beat_offset  \n",
              "1017           -7  \n",
              "1018           -5  \n",
              "1019            1  \n",
              "1020           18  \n",
              "1021          -10  \n",
              "1022          -10  \n",
              "1023           -7  \n",
              "1024           16  \n",
              "1025           23  \n",
              "1026           25  \n",
              "1027          -18  \n",
              "1028            8  \n",
              "1029           14  \n",
              "1030           31  \n",
              "1031          -41  \n",
              "1032          -10  \n",
              "1033           22  \n",
              "1034           34  \n",
              "1035           25  \n",
              "1036           25  "
            ]
          },
          "metadata": {
            "tags": []
          },
          "execution_count": 19
        }
      ]
    },
    {
      "cell_type": "markdown",
      "metadata": {
        "id": "gBVY_TIcIS8d",
        "colab_type": "text"
      },
      "source": [
        "Another test, ran 'describe()' on the column and verified that using the same input file and the calculated offsets column, the outputs match from 'BeatTrackingTests_1.ipynb' and below ..."
      ]
    },
    {
      "cell_type": "code",
      "metadata": {
        "id": "Q6qwL52sF-Mp",
        "colab_type": "code",
        "colab": {
          "base_uri": "https://localhost:8080/",
          "height": 170
        },
        "outputId": "fd78c490-e44d-49ae-a6a5-8fe0e8441aaf"
      },
      "source": [
        "beats_col.describe()"
      ],
      "execution_count": 20,
      "outputs": [
        {
          "output_type": "execute_result",
          "data": {
            "text/plain": [
              "count    1037.000000\n",
              "mean        2.274831\n",
              "std        24.107999\n",
              "min       -60.000000\n",
              "25%       -13.000000\n",
              "50%         5.000000\n",
              "75%        19.000000\n",
              "max        59.000000\n",
              "dtype: float64"
            ]
          },
          "metadata": {
            "tags": []
          },
          "execution_count": 20
        }
      ]
    }
  ]
}