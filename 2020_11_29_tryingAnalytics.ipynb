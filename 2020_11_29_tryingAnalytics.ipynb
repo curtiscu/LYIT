{
  "nbformat": 4,
  "nbformat_minor": 0,
  "metadata": {
    "colab": {
      "name": "2020-11-29_tryingAnalytics.ipynb",
      "provenance": [],
      "collapsed_sections": [],
      "authorship_tag": "ABX9TyMIsiTcYPStZkNumJdQQPGg",
      "include_colab_link": true
    },
    "kernelspec": {
      "name": "python3",
      "display_name": "Python 3"
    }
  },
  "cells": [
    {
      "cell_type": "markdown",
      "metadata": {
        "id": "view-in-github",
        "colab_type": "text"
      },
      "source": [
        "<a href=\"https://colab.research.google.com/github/curtiscu/LYIT/blob/master/2020_11_29_tryingAnalytics.ipynb\" target=\"_parent\"><img src=\"https://colab.research.google.com/assets/colab-badge.svg\" alt=\"Open In Colab\"/></a>"
      ]
    },
    {
      "cell_type": "code",
      "metadata": {
        "id": "fzsDDd2nVeXB"
      },
      "source": [
        ""
      ],
      "execution_count": null,
      "outputs": []
    },
    {
      "cell_type": "markdown",
      "metadata": {
        "id": "bvErVZS5sa6V"
      },
      "source": [
        "# Gathering EDA for report content"
      ]
    },
    {
      "cell_type": "markdown",
      "metadata": {
        "id": "Shrut1pwdCHF"
      },
      "source": [
        "## TODO - stuff I need to try.."
      ]
    },
    {
      "cell_type": "markdown",
      "metadata": {
        "id": "NybvOG9ssS26"
      },
      "source": [
        "# Setup Colab env\n"
      ]
    },
    {
      "cell_type": "code",
      "metadata": {
        "id": "UliwyDDMjY8U",
        "colab": {
          "base_uri": "https://localhost:8080/"
        },
        "outputId": "800f79f3-0a6b-4372-9913-698c4e8a3aeb"
      },
      "source": [
        "\n",
        "import sklearn\n",
        "sklearn.__version__\n",
        "!pip install --upgrade scikit-learn\n",
        "\n",
        "#!pip uninstall scikit-learn -y\n",
        "#!pip install scikit-learn"
      ],
      "execution_count": 1,
      "outputs": [
        {
          "output_type": "stream",
          "text": [
            "Requirement already up-to-date: scikit-learn in /usr/local/lib/python3.6/dist-packages (0.23.2)\n",
            "Requirement already satisfied, skipping upgrade: numpy>=1.13.3 in /usr/local/lib/python3.6/dist-packages (from scikit-learn) (1.18.5)\n",
            "Requirement already satisfied, skipping upgrade: scipy>=0.19.1 in /usr/local/lib/python3.6/dist-packages (from scikit-learn) (1.4.1)\n",
            "Requirement already satisfied, skipping upgrade: joblib>=0.11 in /usr/local/lib/python3.6/dist-packages (from scikit-learn) (0.17.0)\n",
            "Requirement already satisfied, skipping upgrade: threadpoolctl>=2.0.0 in /usr/local/lib/python3.6/dist-packages (from scikit-learn) (2.1.0)\n"
          ],
          "name": "stdout"
        }
      ]
    },
    {
      "cell_type": "code",
      "metadata": {
        "id": "juZFbd9RttvQ"
      },
      "source": [
        "# print all cell output\n",
        "from IPython.core.interactiveshell import InteractiveShell\n",
        "InteractiveShell.ast_node_interactivity = \"all\"\n"
      ],
      "execution_count": 2,
      "outputs": []
    },
    {
      "cell_type": "markdown",
      "metadata": {
        "id": "yEXZFoA4t9de"
      },
      "source": [
        "## Google drive access"
      ]
    },
    {
      "cell_type": "code",
      "metadata": {
        "id": "uRELmgI2mvEK",
        "colab": {
          "base_uri": "https://localhost:8080/"
        },
        "outputId": "2e330a94-a82e-4364-bfd8-44bcefb84c93"
      },
      "source": [
        "# mount google drive\n",
        "from google.colab import drive\n",
        "drive.mount('/content/drive', force_remount=True)\n"
      ],
      "execution_count": 3,
      "outputs": [
        {
          "output_type": "stream",
          "text": [
            "Mounted at /content/drive\n"
          ],
          "name": "stdout"
        }
      ]
    },
    {
      "cell_type": "code",
      "metadata": {
        "id": "Yk2_ztH9uKat",
        "colab": {
          "base_uri": "https://localhost:8080/"
        },
        "outputId": "e2a69391-6987-4ab1-ef29-6056a3f6a026"
      },
      "source": [
        "# peek at data\n",
        "! ls -al '/content/drive/My Drive/groove-v1.0.0-midionly/groove/drummer1/eval_session/'\n",
        "\n",
        "# peek at modules from local  'E:\\Google Drive\\LYIT\\Dissertation\\modules'\n",
        "! ls -al '/content/drive/My Drive/LYIT/Dissertation/modules/'"
      ],
      "execution_count": 4,
      "outputs": [
        {
          "output_type": "stream",
          "text": [
            "total 35\n",
            "-rw------- 1 root root 2589 Apr 27  2020 10_soul-groove10_102_beat_4-4.mid\n",
            "-rw------- 1 root root 4793 Apr 27  2020 1_funk-groove1_138_beat_4-4.mid\n",
            "-rw------- 1 root root 3243 Apr 27  2020 2_funk-groove2_105_beat_4-4.mid\n",
            "-rw------- 1 root root 4466 Apr 27  2020 3_soul-groove3_86_beat_4-4.mid\n",
            "-rw------- 1 root root 2551 Apr 27  2020 4_soul-groove4_80_beat_4-4.mid\n",
            "-rw------- 1 root root 3798 Apr 27  2020 5_funk-groove5_84_beat_4-4.mid\n",
            "-rw------- 1 root root 3760 Apr 27  2020 6_hiphop-groove6_87_beat_4-4.mid\n",
            "-rw------- 1 root root 1894 Apr 27  2020 7_pop-groove7_138_beat_4-4.mid\n",
            "-rw------- 1 root root 2437 Apr 27  2020 8_rock-groove8_65_beat_4-4.mid\n",
            "-rw------- 1 root root 3448 Apr 27  2020 9_soul-groove9_105_beat_4-4.mid\n",
            "total 52\n",
            "-rw------- 1 root root 29124 Nov 29 22:48 data_prep.py\n",
            "-rw------- 1 root root  2904 Nov 18 21:57 pipeline_utils.py\n",
            "drwx------ 2 root root  4096 May 10  2020 __pycache__\n",
            "-rw------- 1 root root  7847 Aug 18 22:09 stats_n_features.py\n",
            "-rw------- 1 root root  8459 Aug 18 22:03 visualizations.py\n"
          ],
          "name": "stdout"
        }
      ]
    },
    {
      "cell_type": "markdown",
      "metadata": {
        "id": "SBKOdMxXFygn"
      },
      "source": [
        "## Auto reload module\n",
        "\n",
        "Now using library code I've created and saved to google drive which is automatically pushed to the cloud and made available to the colab env. The autoreload stuff below should help imports to 'reimport' to load changes to the library code.\n",
        "\n",
        "It's not the quickest/ most reliable, so if in a hurry, brute force loading of changes by restarting the runtime."
      ]
    },
    {
      "cell_type": "code",
      "metadata": {
        "id": "jErvkusO6D01"
      },
      "source": [
        "# tool to auto reload modules.\n",
        "%load_ext autoreload\n",
        "\n",
        "# config to auto-reload all modules, handy to make \n",
        "# writing and testing modules much easier.\n",
        "%autoreload 2"
      ],
      "execution_count": 5,
      "outputs": []
    },
    {
      "cell_type": "markdown",
      "metadata": {
        "id": "2qR3tjMl4bv2"
      },
      "source": [
        "## Imports and accessing lib functions"
      ]
    },
    {
      "cell_type": "code",
      "metadata": {
        "colab": {
          "base_uri": "https://localhost:8080/"
        },
        "id": "-i6pGULtLiXb",
        "outputId": "f9f3700f-ee44-4819-a816-9db328d43a3f"
      },
      "source": [
        "# install required libs\n",
        "!pip install mido"
      ],
      "execution_count": 6,
      "outputs": [
        {
          "output_type": "stream",
          "text": [
            "Collecting mido\n",
            "\u001b[?25l  Downloading https://files.pythonhosted.org/packages/20/0a/81beb587b1ae832ea6a1901dc7c6faa380e8dd154e0a862f0a9f3d2afab9/mido-1.2.9-py2.py3-none-any.whl (52kB)\n",
            "\r\u001b[K     |██████▎                         | 10kB 15.2MB/s eta 0:00:01\r\u001b[K     |████████████▌                   | 20kB 18.9MB/s eta 0:00:01\r\u001b[K     |██████████████████▊             | 30kB 10.7MB/s eta 0:00:01\r\u001b[K     |█████████████████████████       | 40kB 8.9MB/s eta 0:00:01\r\u001b[K     |███████████████████████████████▏| 51kB 4.4MB/s eta 0:00:01\r\u001b[K     |████████████████████████████████| 61kB 3.0MB/s \n",
            "\u001b[?25hInstalling collected packages: mido\n",
            "Successfully installed mido-1.2.9\n"
          ],
          "name": "stdout"
        }
      ]
    },
    {
      "cell_type": "code",
      "metadata": {
        "id": "rjqCavr4sz4x"
      },
      "source": [
        "# regular imports\n",
        "import pandas as pd\n",
        "import numpy as np\n",
        "\n",
        "# scikit-learn\n",
        "from sklearn.metrics import classification_report\n",
        "from sklearn.metrics import confusion_matrix\n",
        "from sklearn.metrics import accuracy_score\n",
        "from sklearn.neighbors import KNeighborsClassifier\n",
        "from sklearn.model_selection import train_test_split\n",
        "from sklearn.preprocessing import  MinMaxScaler, RobustScaler, OneHotEncoder, StandardScaler\n",
        "from sklearn.compose import ColumnTransformer\n",
        "from sklearn.base import BaseEstimator, TransformerMixin\n",
        "from sklearn.pipeline import Pipeline\n",
        "\n",
        "# graphics/ charts\n",
        "import matplotlib.pyplot as plt\n",
        "import seaborn as sns\n",
        "%matplotlib inline\n",
        "\n",
        "# misc\n",
        "from scipy import stats\n",
        "from collections import namedtuple\n",
        "import math\n",
        "import datetime\n",
        "from itertools import cycle"
      ],
      "execution_count": 7,
      "outputs": []
    },
    {
      "cell_type": "code",
      "metadata": {
        "id": "OlF0_jtDVS7I"
      },
      "source": [
        "import mido  # MIDI library processing\n",
        "from mido import MidiFile\n",
        "from mido import Message\n",
        "from mido import tempo2bpm\n",
        "from mido import tick2second"
      ],
      "execution_count": 8,
      "outputs": []
    },
    {
      "cell_type": "code",
      "metadata": {
        "id": "DQ0sg10tzufp",
        "colab": {
          "base_uri": "https://localhost:8080/"
        },
        "outputId": "78f58c84-6f1b-4a1f-d41a-b78bbf9df7c8"
      },
      "source": [
        "# import my modules\n",
        "import sys\n",
        "sys.path.append('/content/drive/My Drive/LYIT/Dissertation/modules/')\n",
        "import data_prep as dp\n",
        "import pipeline_utils as pu\n",
        "import stats_n_features as sf"
      ],
      "execution_count": 9,
      "outputs": [
        {
          "output_type": "stream",
          "text": [
            ">> LOADING custom module, when: 2020-12-01 23:46:47.632412, module name: stats_n_features\n",
            ">> LOADING custom module, when: 2020-12-01 23:46:47.633568, module name: data_prep\n",
            ">> LOADING custom module, when: 2020-12-01 23:46:48.182821, module name: pipeline_utils\n"
          ],
          "name": "stdout"
        }
      ]
    },
    {
      "cell_type": "code",
      "metadata": {
        "colab": {
          "base_uri": "https://localhost:8080/"
        },
        "id": "8sJrzgLAYHdB",
        "outputId": "42fe0fc5-9d07-4b37-8208-f913f1367635"
      },
      "source": [
        "# test module function calls..\n",
        "dp.test_function_call('bling')\n",
        "sf.test_function_call('hello')"
      ],
      "execution_count": 10,
      "outputs": [
        {
          "output_type": "stream",
          "text": [
            "Test function in data_prep.py called and worked! when: 2020-12-01 23:46:48.215820,  param:bling\n",
            "Test function in stats_n_features called and worked! when: 2020-12-01 23:46:48.216526,  param:hello\n"
          ],
          "name": "stdout"
        }
      ]
    },
    {
      "cell_type": "markdown",
      "metadata": {
        "id": "lBT_BaeD4o8L"
      },
      "source": [
        "## Pandas display options"
      ]
    },
    {
      "cell_type": "code",
      "metadata": {
        "id": "KkLdwFFAAotC"
      },
      "source": [
        "def set_pandas_display_options() -> None:\n",
        "    # Ref: https://stackoverflow.com/a/52432757/\n",
        "    display = pd.options.display\n",
        "\n",
        "    display.max_columns = 1000\n",
        "    display.max_rows = 2000\n",
        "    display.max_colwidth = 1000\n",
        "    display.width = None\n",
        "    # display.precision = 2  # set as needed\n",
        "\n",
        "set_pandas_display_options()\n",
        "#pd.reset_option('all')\n"
      ],
      "execution_count": 11,
      "outputs": []
    },
    {
      "cell_type": "markdown",
      "metadata": {
        "id": "c3onp99QayAH"
      },
      "source": [
        "# Load & filter data..."
      ]
    },
    {
      "cell_type": "code",
      "metadata": {
        "id": "0vKT1X98Zc7L",
        "colab": {
          "base_uri": "https://localhost:8080/"
        },
        "outputId": "c8f213bb-118b-4cd8-c9f0-03285afc89cd"
      },
      "source": [
        "##################################\n",
        "######## LOAD\n",
        "\n",
        "my_data = dp.load_all_data()\n",
        "#my_data = dp.load_all_data(filter_err_buckets=False)\n",
        "all_drummer_data = my_data.copy()"
      ],
      "execution_count": 12,
      "outputs": [
        {
          "output_type": "stream",
          "text": [
            "BULK LOAD: drummer1, drummer1/eval_session/1_funk-groove1_138_beat_4-4.mid\n",
            "FILE name: /content/drive/My Drive/groove-v1.0.0-midionly/groove/drummer1/eval_session/1_funk-groove1_138_beat_4-4.mid\n",
            "    loaded file: <midi file '/content/drive/My Drive/groove-v1.0.0-midionly/groove/drummer1/eval_session/1_funk-groove1_138_beat_4-4.mid' type 0, 1 tracks, 1300 messages>\n",
            "    time sig: <meta message time_signature numerator=4 denominator=4 clocks_per_click=24 notated_32nd_notes_per_beat=8 time=0>\n",
            "    tempo: <meta message set_tempo tempo=434783 time=0>\n",
            "    track count: 1, tracks: [<midi track 'MIDI' 1300 messages>]\n",
            "    MIDI file type: 0\n",
            "    > processing track: <midi track 'MIDI' 1300 messages>\n",
            "    __notes pre-filter: [36. 37. 38. 40. 43. 44. 51. 52. 53. 55.]\n",
            "    __applying filter: [44]\n",
            "    __notes post filter: [36. 37. 38. 40. 43. 51. 52. 53. 55.]\n",
            "    note_on span - first tick: 3 , last tick: 30658 \n",
            "    good instruments: 5, {36.0: 'Bass Drum 1 (36)', 38.0: 'Acoustic Snare (38)', 43.0: 'High Floor Tom (43)', 49.0: 'Crash Cymbal 1 (49)', 51.0: 'Ride Cymbal 1 (51)'}\n",
            "    bar info - bars in file: 16, bar quantize level: 16.0\n",
            "    tick info - ticks per time sig beat: 480.0, ticks per quantize bin: 120\n",
            "    > checking for errs...\n",
            "    __ tmp_df before: (288, 8)\n",
            "    __ err_buckets removed: (24, 7)\n",
            "    __ tmp_df after: (264, 8)\n",
            "   > raw instruments: [49 51 36 38 43]\n",
            "   ['Crash Cymbal 1 (49)', 'Ride Cymbal 1 (51)', 'Bass Drum 1 (36)', 'Acoustic Snare (38)', 'High Floor Tom (43)']\n",
            "   counts before final filter: note\n",
            "36     54\n",
            "38     79\n",
            "43      1\n",
            "49      4\n",
            "51    126\n",
            "Name: note, dtype: int64\n",
            "   counts after final filter: note\n",
            "36     54\n",
            "38     79\n",
            "51    126\n",
            "Name: note, dtype: int64\n",
            "    counts after final merge: note\n",
            "hh       126\n",
            "kick      54\n",
            "snare     79\n",
            "Name: note, dtype: int64\n",
            "BULK LOAD: drummer1, drummer1/eval_session/3_soul-groove3_86_beat_4-4.mid\n",
            "FILE name: /content/drive/My Drive/groove-v1.0.0-midionly/groove/drummer1/eval_session/3_soul-groove3_86_beat_4-4.mid\n",
            "    loaded file: <midi file '/content/drive/My Drive/groove-v1.0.0-midionly/groove/drummer1/eval_session/3_soul-groove3_86_beat_4-4.mid' type 0, 1 tracks, 1179 messages>\n",
            "    time sig: <meta message time_signature numerator=4 denominator=4 clocks_per_click=24 notated_32nd_notes_per_beat=8 time=0>\n",
            "    tempo: <meta message set_tempo tempo=697674 time=0>\n",
            "    track count: 1, tracks: [<midi track 'MIDI' 1179 messages>]\n",
            "    MIDI file type: 0\n",
            "    > processing track: <midi track 'MIDI' 1179 messages>\n",
            "    __notes pre-filter: [22. 26. 36. 37. 38. 40. 42. 44. 46.]\n",
            "    __applying filter: [44]\n",
            "    __notes post filter: [22. 26. 36. 37. 38. 40. 42. 46.]\n",
            "    note_on span - first tick: 0 , last tick: 30696 \n",
            "    good instruments: 4, {36.0: 'Bass Drum 1 (36)', 38.0: 'Acoustic Snare (38)', 42.0: 'Closed Hi Hat (42)', 46.0: 'Open Hi-Hat (46)'}\n",
            "    bar info - bars in file: 16, bar quantize level: 16.0\n",
            "    tick info - ticks per time sig beat: 480.0, ticks per quantize bin: 120\n",
            "    > checking for errs...\n",
            "    __ tmp_df before: (455, 8)\n",
            "    __ err_buckets removed: (8, 7)\n",
            "    __ tmp_df after: (447, 8)\n",
            "   > raw instruments: [42 36 38 46]\n",
            "   ['Closed Hi Hat (42)', 'Bass Drum 1 (36)', 'Acoustic Snare (38)', 'Open Hi-Hat (46)']\n",
            "   counts before final filter: note\n",
            "36     80\n",
            "38    115\n",
            "42    249\n",
            "46      3\n",
            "Name: note, dtype: int64\n",
            "   counts after final filter: note\n",
            "36     80\n",
            "38    115\n",
            "42    249\n",
            "46      3\n",
            "Name: note, dtype: int64\n",
            "    counts after final merge: note\n",
            "hh       252\n",
            "kick      80\n",
            "snare    115\n",
            "Name: note, dtype: int64\n",
            "BULK LOAD: drummer1, drummer1/eval_session/4_soul-groove4_80_beat_4-4.mid\n",
            "FILE name: /content/drive/My Drive/groove-v1.0.0-midionly/groove/drummer1/eval_session/4_soul-groove4_80_beat_4-4.mid\n",
            "    loaded file: <midi file '/content/drive/My Drive/groove-v1.0.0-midionly/groove/drummer1/eval_session/4_soul-groove4_80_beat_4-4.mid' type 0, 1 tracks, 626 messages>\n",
            "    time sig: <meta message time_signature numerator=4 denominator=4 clocks_per_click=24 notated_32nd_notes_per_beat=8 time=0>\n",
            "    tempo: <meta message set_tempo tempo=750000 time=0>\n",
            "    track count: 1, tracks: [<midi track 'MIDI' 626 messages>]\n",
            "    MIDI file type: 0\n",
            "    > processing track: <midi track 'MIDI' 626 messages>\n",
            "    __notes pre-filter: [22. 26. 36. 38. 40. 42. 44.]\n",
            "    __applying filter: [44]\n",
            "    __notes post filter: [22. 26. 36. 38. 40. 42.]\n",
            "    note_on span - first tick: 0 , last tick: 30470 \n",
            "    good instruments: 4, {36.0: 'Bass Drum 1 (36)', 38.0: 'Acoustic Snare (38)', 42.0: 'Closed Hi Hat (42)', 46.0: 'Open Hi-Hat (46)'}\n",
            "    bar info - bars in file: 16, bar quantize level: 16.0\n",
            "    tick info - ticks per time sig beat: 480.0, ticks per quantize bin: 120\n",
            "    > checking for errs...\n",
            "    ...no errors to see here\n",
            "   > raw instruments: [36 42 38 46]\n",
            "   ['Bass Drum 1 (36)', 'Closed Hi Hat (42)', 'Acoustic Snare (38)', 'Open Hi-Hat (46)']\n",
            "   counts before final filter: note\n",
            "36     32\n",
            "38     32\n",
            "42    144\n",
            "46      8\n",
            "Name: note, dtype: int64\n",
            "   counts after final filter: note\n",
            "36     32\n",
            "38     32\n",
            "42    144\n",
            "46      8\n",
            "Name: note, dtype: int64\n",
            "    counts after final merge: note\n",
            "hh       152\n",
            "kick      32\n",
            "snare     32\n",
            "Name: note, dtype: int64\n",
            "BULK LOAD: drummer1, drummer1/eval_session/6_hiphop-groove6_87_beat_4-4.mid\n",
            "FILE name: /content/drive/My Drive/groove-v1.0.0-midionly/groove/drummer1/eval_session/6_hiphop-groove6_87_beat_4-4.mid\n",
            "    loaded file: <midi file '/content/drive/My Drive/groove-v1.0.0-midionly/groove/drummer1/eval_session/6_hiphop-groove6_87_beat_4-4.mid' type 0, 1 tracks, 971 messages>\n",
            "    time sig: <meta message time_signature numerator=4 denominator=4 clocks_per_click=24 notated_32nd_notes_per_beat=8 time=0>\n",
            "    tempo: <meta message set_tempo tempo=689655 time=0>\n",
            "    track count: 1, tracks: [<midi track 'MIDI' 971 messages>]\n",
            "    MIDI file type: 0\n",
            "    > processing track: <midi track 'MIDI' 971 messages>\n",
            "    __notes pre-filter: [22. 26. 36. 37. 38. 40. 42. 44.]\n",
            "    __applying filter: [44]\n",
            "    __notes post filter: [22. 26. 36. 37. 38. 40. 42.]\n",
            "    note_on span - first tick: 0 , last tick: 30474 \n",
            "    good instruments: 4, {36.0: 'Bass Drum 1 (36)', 38.0: 'Acoustic Snare (38)', 42.0: 'Closed Hi Hat (42)', 46.0: 'Open Hi-Hat (46)'}\n",
            "    bar info - bars in file: 16, bar quantize level: 16.0\n",
            "    tick info - ticks per time sig beat: 480.0, ticks per quantize bin: 120\n",
            "    > checking for errs...\n",
            "    ...no errors to see here\n",
            "   > raw instruments: [36 42 38 46]\n",
            "   ['Bass Drum 1 (36)', 'Closed Hi Hat (42)', 'Acoustic Snare (38)', 'Open Hi-Hat (46)']\n",
            "   counts before final filter: note\n",
            "36    105\n",
            "38     33\n",
            "42    217\n",
            "46      5\n",
            "Name: note, dtype: int64\n",
            "   counts after final filter: note\n",
            "36    105\n",
            "38     33\n",
            "42    217\n",
            "46      5\n",
            "Name: note, dtype: int64\n",
            "    counts after final merge: note\n",
            "hh       222\n",
            "kick     105\n",
            "snare     33\n",
            "Name: note, dtype: int64\n",
            "BULK LOAD: drummer1, drummer1/eval_session/8_rock-groove8_65_beat_4-4.mid\n",
            "FILE name: /content/drive/My Drive/groove-v1.0.0-midionly/groove/drummer1/eval_session/8_rock-groove8_65_beat_4-4.mid\n",
            "    loaded file: <midi file '/content/drive/My Drive/groove-v1.0.0-midionly/groove/drummer1/eval_session/8_rock-groove8_65_beat_4-4.mid' type 0, 1 tracks, 600 messages>\n",
            "    time sig: <meta message time_signature numerator=4 denominator=4 clocks_per_click=24 notated_32nd_notes_per_beat=8 time=0>\n",
            "    tempo: <meta message set_tempo tempo=923077 time=0>\n",
            "    track count: 1, tracks: [<midi track 'MIDI' 600 messages>]\n",
            "    MIDI file type: 0\n",
            "    > processing track: <midi track 'MIDI' 600 messages>\n",
            "    __notes pre-filter: [22. 26. 36. 37. 38. 40. 42. 44. 46.]\n",
            "    __applying filter: [44]\n",
            "    __notes post filter: [22. 26. 36. 37. 38. 40. 42. 46.]\n",
            "    note_on span - first tick: 0 , last tick: 30370 \n",
            "    good instruments: 4, {36.0: 'Bass Drum 1 (36)', 38.0: 'Acoustic Snare (38)', 42.0: 'Closed Hi Hat (42)', 46.0: 'Open Hi-Hat (46)'}\n",
            "    bar info - bars in file: 16, bar quantize level: 16.0\n",
            "    tick info - ticks per time sig beat: 480.0, ticks per quantize bin: 120\n",
            "    > checking for errs...\n",
            "    __ tmp_df before: (218, 8)\n",
            "    __ err_buckets removed: (2, 7)\n",
            "    __ tmp_df after: (216, 8)\n",
            "   > raw instruments: [36 42 38 46]\n",
            "   ['Bass Drum 1 (36)', 'Closed Hi Hat (42)', 'Acoustic Snare (38)', 'Open Hi-Hat (46)']\n",
            "   counts before final filter: note\n",
            "36     56\n",
            "38     40\n",
            "42    111\n",
            "46      9\n",
            "Name: note, dtype: int64\n",
            "   counts after final filter: note\n",
            "36     56\n",
            "38     40\n",
            "42    111\n",
            "46      9\n",
            "Name: note, dtype: int64\n",
            "    counts after final merge: note\n",
            "hh       120\n",
            "kick      56\n",
            "snare     40\n",
            "Name: note, dtype: int64\n",
            "BULK LOAD: drummer5, drummer5/eval_session/1_funk-groove1_138_beat_4-4.mid\n",
            "FILE name: /content/drive/My Drive/groove-v1.0.0-midionly/groove/drummer5/eval_session/1_funk-groove1_138_beat_4-4.mid\n",
            "    loaded file: <midi file '/content/drive/My Drive/groove-v1.0.0-midionly/groove/drummer5/eval_session/1_funk-groove1_138_beat_4-4.mid' type 0, 1 tracks, 1037 messages>\n",
            "    time sig: <meta message time_signature numerator=4 denominator=4 clocks_per_click=24 notated_32nd_notes_per_beat=8 time=0>\n",
            "    tempo: <meta message set_tempo tempo=434783 time=0>\n",
            "    track count: 1, tracks: [<midi track 'Base Midi' 1037 messages>]\n",
            "    MIDI file type: 0\n",
            "    > processing track: <midi track 'Base Midi' 1037 messages>\n",
            "    __notes pre-filter: [36. 38. 40. 44. 51.]\n",
            "    __applying filter: [44]\n",
            "    __notes post filter: [36. 38. 40. 51.]\n",
            "    note_on span - first tick: 5 , last tick: 30634 \n",
            "    good instruments: 3, {36.0: 'Bass Drum 1 (36)', 38.0: 'Acoustic Snare (38)', 51.0: 'Ride Cymbal 1 (51)'}\n",
            "    bar info - bars in file: 16, bar quantize level: 16.0\n",
            "    tick info - ticks per time sig beat: 480.0, ticks per quantize bin: 120\n",
            "    > checking for errs...\n",
            "    __ tmp_df before: (309, 8)\n",
            "    __ err_buckets removed: (12, 7)\n",
            "    __ tmp_df after: (297, 8)\n",
            "   > raw instruments: [36 51 38]\n",
            "   ['Bass Drum 1 (36)', 'Ride Cymbal 1 (51)', 'Acoustic Snare (38)']\n",
            "   counts before final filter: note\n",
            "36     68\n",
            "38    101\n",
            "51    128\n",
            "Name: note, dtype: int64\n",
            "   counts after final filter: note\n",
            "36     68\n",
            "38    101\n",
            "51    128\n",
            "Name: note, dtype: int64\n",
            "    counts after final merge: note\n",
            "hh       128\n",
            "kick      68\n",
            "snare    101\n",
            "Name: note, dtype: int64\n",
            "BULK LOAD: drummer5, drummer5/eval_session/3_soul-groove3_86_beat_4-4.mid\n",
            "FILE name: /content/drive/My Drive/groove-v1.0.0-midionly/groove/drummer5/eval_session/3_soul-groove3_86_beat_4-4.mid\n",
            "    loaded file: <midi file '/content/drive/My Drive/groove-v1.0.0-midionly/groove/drummer5/eval_session/3_soul-groove3_86_beat_4-4.mid' type 0, 1 tracks, 1146 messages>\n",
            "    time sig: <meta message time_signature numerator=4 denominator=4 clocks_per_click=24 notated_32nd_notes_per_beat=8 time=0>\n",
            "    tempo: <meta message set_tempo tempo=697674 time=0>\n",
            "    track count: 1, tracks: [<midi track 'Base Midi' 1146 messages>]\n",
            "    MIDI file type: 0\n",
            "    > processing track: <midi track 'Base Midi' 1146 messages>\n",
            "    __notes pre-filter: [22. 26. 36. 37. 38. 40. 42.]\n",
            "    __applying filter: [44]\n",
            "    __notes post filter: [22. 26. 36. 37. 38. 40. 42.]\n",
            "    note_on span - first tick: 0 , last tick: 30587 \n",
            "    good instruments: 4, {36.0: 'Bass Drum 1 (36)', 38.0: 'Acoustic Snare (38)', 42.0: 'Closed Hi Hat (42)', 46.0: 'Open Hi-Hat (46)'}\n",
            "    bar info - bars in file: 16, bar quantize level: 16.0\n",
            "    tick info - ticks per time sig beat: 480.0, ticks per quantize bin: 120\n",
            "    > checking for errs...\n",
            "    __ tmp_df before: (433, 8)\n",
            "    __ err_buckets removed: (14, 7)\n",
            "    __ tmp_df after: (419, 8)\n",
            "   > raw instruments: [42 36 38 46]\n",
            "   ['Closed Hi Hat (42)', 'Bass Drum 1 (36)', 'Acoustic Snare (38)', 'Open Hi-Hat (46)']\n",
            "   counts before final filter: note\n",
            "36    111\n",
            "38     53\n",
            "42    249\n",
            "46      6\n",
            "Name: note, dtype: int64\n",
            "   counts after final filter: note\n",
            "36    111\n",
            "38     53\n",
            "42    249\n",
            "46      6\n",
            "Name: note, dtype: int64\n",
            "    counts after final merge: note\n",
            "hh       255\n",
            "kick     111\n",
            "snare     53\n",
            "Name: note, dtype: int64\n",
            "BULK LOAD: drummer5, drummer5/eval_session/4_soul-groove4_80_beat_4-4.mid\n",
            "FILE name: /content/drive/My Drive/groove-v1.0.0-midionly/groove/drummer5/eval_session/4_soul-groove4_80_beat_4-4.mid\n",
            "    loaded file: <midi file '/content/drive/My Drive/groove-v1.0.0-midionly/groove/drummer5/eval_session/4_soul-groove4_80_beat_4-4.mid' type 0, 1 tracks, 606 messages>\n",
            "    time sig: <meta message time_signature numerator=4 denominator=4 clocks_per_click=24 notated_32nd_notes_per_beat=8 time=0>\n",
            "    tempo: <meta message set_tempo tempo=750000 time=0>\n",
            "    track count: 1, tracks: [<midi track 'Base Midi' 606 messages>]\n",
            "    MIDI file type: 0\n",
            "    > processing track: <midi track 'Base Midi' 606 messages>\n",
            "    __notes pre-filter: [22. 26. 36. 37. 38. 40. 42. 44.]\n",
            "    __applying filter: [44]\n",
            "    __notes post filter: [22. 26. 36. 37. 38. 40. 42.]\n",
            "    note_on span - first tick: 0 , last tick: 30476 \n",
            "    good instruments: 4, {36.0: 'Bass Drum 1 (36)', 38.0: 'Acoustic Snare (38)', 42.0: 'Closed Hi Hat (42)', 46.0: 'Open Hi-Hat (46)'}\n",
            "    bar info - bars in file: 16, bar quantize level: 16.0\n",
            "    tick info - ticks per time sig beat: 480.0, ticks per quantize bin: 120\n",
            "    > checking for errs...\n",
            "    __ tmp_df before: (196, 8)\n",
            "    __ err_buckets removed: (2, 7)\n",
            "    __ tmp_df after: (194, 8)\n",
            "   > raw instruments: [36 42 38 46]\n",
            "   ['Bass Drum 1 (36)', 'Closed Hi Hat (42)', 'Acoustic Snare (38)', 'Open Hi-Hat (46)']\n",
            "   counts before final filter: note\n",
            "36     32\n",
            "38     52\n",
            "42    101\n",
            "46      9\n",
            "Name: note, dtype: int64\n",
            "   counts after final filter: note\n",
            "36     32\n",
            "38     52\n",
            "42    101\n",
            "46      9\n",
            "Name: note, dtype: int64\n",
            "    counts after final merge: note\n",
            "hh       110\n",
            "kick      32\n",
            "snare     52\n",
            "Name: note, dtype: int64\n",
            "BULK LOAD: drummer5, drummer5/eval_session/6_hiphop-groove6_87_beat_4-4.mid\n",
            "FILE name: /content/drive/My Drive/groove-v1.0.0-midionly/groove/drummer5/eval_session/6_hiphop-groove6_87_beat_4-4.mid\n",
            "    loaded file: <midi file '/content/drive/My Drive/groove-v1.0.0-midionly/groove/drummer5/eval_session/6_hiphop-groove6_87_beat_4-4.mid' type 0, 1 tracks, 625 messages>\n",
            "    time sig: <meta message time_signature numerator=4 denominator=4 clocks_per_click=24 notated_32nd_notes_per_beat=8 time=0>\n",
            "    tempo: <meta message set_tempo tempo=689655 time=0>\n",
            "    track count: 1, tracks: [<midi track 'Base Midi' 625 messages>]\n",
            "    MIDI file type: 0\n",
            "    > processing track: <midi track 'Base Midi' 625 messages>\n",
            "    __notes pre-filter: [22. 36. 38. 40. 42.]\n",
            "    __applying filter: [44]\n",
            "    __notes post filter: [22. 36. 38. 40. 42.]\n",
            "    note_on span - first tick: 0 , last tick: 30442 \n",
            "    good instruments: 3, {36.0: 'Bass Drum 1 (36)', 38.0: 'Acoustic Snare (38)', 42.0: 'Closed Hi Hat (42)'}\n",
            "    bar info - bars in file: 16, bar quantize level: 16.0\n",
            "    tick info - ticks per time sig beat: 480.0, ticks per quantize bin: 120\n",
            "    > checking for errs...\n",
            "    __ tmp_df before: (248, 8)\n",
            "    __ err_buckets removed: (12, 7)\n",
            "    __ tmp_df after: (236, 8)\n",
            "   > raw instruments: [42 36 38]\n",
            "   ['Closed Hi Hat (42)', 'Bass Drum 1 (36)', 'Acoustic Snare (38)']\n",
            "   counts before final filter: note\n",
            "36     88\n",
            "38     28\n",
            "42    120\n",
            "Name: note, dtype: int64\n",
            "   counts after final filter: note\n",
            "36     88\n",
            "38     28\n",
            "42    120\n",
            "Name: note, dtype: int64\n",
            "    counts after final merge: note\n",
            "hh       120\n",
            "kick      88\n",
            "snare     28\n",
            "Name: note, dtype: int64\n",
            "BULK LOAD: drummer5, drummer5/eval_session/8_rock-groove8_65_beat_4-4.mid\n",
            "FILE name: /content/drive/My Drive/groove-v1.0.0-midionly/groove/drummer5/eval_session/8_rock-groove8_65_beat_4-4.mid\n",
            "    loaded file: <midi file '/content/drive/My Drive/groove-v1.0.0-midionly/groove/drummer5/eval_session/8_rock-groove8_65_beat_4-4.mid' type 0, 1 tracks, 679 messages>\n",
            "    time sig: <meta message time_signature numerator=4 denominator=4 clocks_per_click=24 notated_32nd_notes_per_beat=8 time=0>\n",
            "    tempo: <meta message set_tempo tempo=923077 time=0>\n",
            "    track count: 1, tracks: [<midi track 'Base Midi' 679 messages>]\n",
            "    MIDI file type: 0\n",
            "    > processing track: <midi track 'Base Midi' 679 messages>\n",
            "    __notes pre-filter: [22. 26. 36. 37. 38. 40. 42. 44. 46.]\n",
            "    __applying filter: [44]\n",
            "    __notes post filter: [22. 26. 36. 37. 38. 40. 42. 46.]\n",
            "    note_on span - first tick: 0 , last tick: 30359 \n",
            "    good instruments: 4, {36.0: 'Bass Drum 1 (36)', 38.0: 'Acoustic Snare (38)', 42.0: 'Closed Hi Hat (42)', 46.0: 'Open Hi-Hat (46)'}\n",
            "    bar info - bars in file: 16, bar quantize level: 16.0\n",
            "    tick info - ticks per time sig beat: 480.0, ticks per quantize bin: 120\n",
            "    > checking for errs...\n",
            "    __ tmp_df before: (261, 8)\n",
            "    __ err_buckets removed: (71, 7)\n",
            "    __ tmp_df after: (190, 8)\n",
            "   > raw instruments: [42 36 38 46]\n",
            "   ['Closed Hi Hat (42)', 'Bass Drum 1 (36)', 'Acoustic Snare (38)', 'Open Hi-Hat (46)']\n",
            "   counts before final filter: note\n",
            "36     32\n",
            "38     39\n",
            "42    110\n",
            "46      9\n",
            "Name: note, dtype: int64\n",
            "   counts after final filter: note\n",
            "36     32\n",
            "38     39\n",
            "42    110\n",
            "46      9\n",
            "Name: note, dtype: int64\n",
            "    counts after final merge: note\n",
            "hh       119\n",
            "kick      32\n",
            "snare     39\n",
            "Name: note, dtype: int64\n",
            "BULK LOAD: drummer7, drummer7/eval_session/1_funk-groove1_138_beat_4-4.mid\n",
            "FILE name: /content/drive/My Drive/groove-v1.0.0-midionly/groove/drummer7/eval_session/1_funk-groove1_138_beat_4-4.mid\n",
            "    loaded file: <midi file '/content/drive/My Drive/groove-v1.0.0-midionly/groove/drummer7/eval_session/1_funk-groove1_138_beat_4-4.mid' type 0, 1 tracks, 521 messages>\n",
            "    time sig: <meta message time_signature numerator=4 denominator=4 clocks_per_click=24 notated_32nd_notes_per_beat=8 time=0>\n",
            "    tempo: <meta message set_tempo tempo=434783 time=0>\n",
            "    track count: 1, tracks: [<midi track 'Midi Drums' 521 messages>]\n",
            "    MIDI file type: 0\n",
            "    > processing track: <midi track 'Midi Drums' 521 messages>\n",
            "    __notes pre-filter: [36. 37. 38. 40. 51. 53. 55.]\n",
            "    __applying filter: [44]\n",
            "    __notes post filter: [36. 37. 38. 40. 51. 53. 55.]\n",
            "    note_on span - first tick: 0 , last tick: 30493 \n",
            "    good instruments: 4, {36.0: 'Bass Drum 1 (36)', 38.0: 'Acoustic Snare (38)', 49.0: 'Crash Cymbal 1 (49)', 51.0: 'Ride Cymbal 1 (51)'}\n",
            "    bar info - bars in file: 16, bar quantize level: 16.0\n",
            "    tick info - ticks per time sig beat: 480.0, ticks per quantize bin: 120\n",
            "    > checking for errs...\n",
            "    __ tmp_df before: (257, 8)\n",
            "    __ err_buckets removed: (2, 7)\n",
            "    __ tmp_df after: (255, 8)\n",
            "   > raw instruments: [36 51 38 49]\n",
            "   ['Bass Drum 1 (36)', 'Ride Cymbal 1 (51)', 'Acoustic Snare (38)', 'Crash Cymbal 1 (49)']\n",
            "   counts before final filter: note\n",
            "36     56\n",
            "38     72\n",
            "49      4\n",
            "51    123\n",
            "Name: note, dtype: int64\n",
            "   counts after final filter: note\n",
            "36     56\n",
            "38     72\n",
            "51    123\n",
            "Name: note, dtype: int64\n",
            "    counts after final merge: note\n",
            "hh       123\n",
            "kick      56\n",
            "snare     72\n",
            "Name: note, dtype: int64\n",
            "BULK LOAD: drummer7, drummer7/eval_session/3_soul-groove3_86_beat_4-4.mid\n",
            "FILE name: /content/drive/My Drive/groove-v1.0.0-midionly/groove/drummer7/eval_session/3_soul-groove3_86_beat_4-4.mid\n",
            "    loaded file: <midi file '/content/drive/My Drive/groove-v1.0.0-midionly/groove/drummer7/eval_session/3_soul-groove3_86_beat_4-4.mid' type 0, 1 tracks, 1095 messages>\n",
            "    time sig: <meta message time_signature numerator=4 denominator=4 clocks_per_click=24 notated_32nd_notes_per_beat=8 time=0>\n",
            "    tempo: <meta message set_tempo tempo=697674 time=0>\n",
            "    track count: 1, tracks: [<midi track 'Midi Drums' 1095 messages>]\n",
            "    MIDI file type: 0\n",
            "    > processing track: <midi track 'Midi Drums' 1095 messages>\n",
            "    __notes pre-filter: [22. 36. 38. 40. 42.]\n",
            "    __applying filter: [44]\n",
            "    __notes post filter: [22. 36. 38. 40. 42.]\n",
            "    note_on span - first tick: 0 , last tick: 30597 \n",
            "    good instruments: 3, {36.0: 'Bass Drum 1 (36)', 38.0: 'Acoustic Snare (38)', 42.0: 'Closed Hi Hat (42)'}\n",
            "    bar info - bars in file: 16, bar quantize level: 16.0\n",
            "    tick info - ticks per time sig beat: 480.0, ticks per quantize bin: 120\n",
            "    > checking for errs...\n",
            "    __ tmp_df before: (415, 8)\n",
            "    __ err_buckets removed: (4, 7)\n",
            "    __ tmp_df after: (411, 8)\n",
            "   > raw instruments: [42 36 38]\n",
            "   ['Closed Hi Hat (42)', 'Bass Drum 1 (36)', 'Acoustic Snare (38)']\n",
            "   counts before final filter: note\n",
            "36     95\n",
            "38     60\n",
            "42    256\n",
            "Name: note, dtype: int64\n",
            "   counts after final filter: note\n",
            "36     95\n",
            "38     60\n",
            "42    256\n",
            "Name: note, dtype: int64\n",
            "    counts after final merge: note\n",
            "hh       256\n",
            "kick      95\n",
            "snare     60\n",
            "Name: note, dtype: int64\n",
            "BULK LOAD: drummer7, drummer7/eval_session/4_soul-groove4_80_beat_4-4.mid\n",
            "FILE name: /content/drive/My Drive/groove-v1.0.0-midionly/groove/drummer7/eval_session/4_soul-groove4_80_beat_4-4.mid\n",
            "    loaded file: <midi file '/content/drive/My Drive/groove-v1.0.0-midionly/groove/drummer7/eval_session/4_soul-groove4_80_beat_4-4.mid' type 0, 1 tracks, 514 messages>\n",
            "    time sig: <meta message time_signature numerator=4 denominator=4 clocks_per_click=24 notated_32nd_notes_per_beat=8 time=0>\n",
            "    tempo: <meta message set_tempo tempo=750000 time=0>\n",
            "    track count: 1, tracks: [<midi track 'Midi Drums' 514 messages>]\n",
            "    MIDI file type: 0\n",
            "    > processing track: <midi track 'Midi Drums' 514 messages>\n",
            "    __notes pre-filter: [22. 26. 36. 38. 40. 42. 44. 46.]\n",
            "    __applying filter: [44]\n",
            "    __notes post filter: [22. 26. 36. 38. 40. 42. 46.]\n",
            "    note_on span - first tick: 0 , last tick: 30484 \n",
            "    good instruments: 4, {36.0: 'Bass Drum 1 (36)', 38.0: 'Acoustic Snare (38)', 42.0: 'Closed Hi Hat (42)', 46.0: 'Open Hi-Hat (46)'}\n",
            "    bar info - bars in file: 16, bar quantize level: 16.0\n",
            "    tick info - ticks per time sig beat: 480.0, ticks per quantize bin: 120\n",
            "    > checking for errs...\n",
            "    ...no errors to see here\n",
            "   > raw instruments: [42 38 36 46]\n",
            "   ['Closed Hi Hat (42)', 'Acoustic Snare (38)', 'Bass Drum 1 (36)', 'Open Hi-Hat (46)']\n",
            "   counts before final filter: note\n",
            "36     31\n",
            "38     33\n",
            "42    107\n",
            "46      9\n",
            "Name: note, dtype: int64\n",
            "   counts after final filter: note\n",
            "36     31\n",
            "38     33\n",
            "42    107\n",
            "46      9\n",
            "Name: note, dtype: int64\n",
            "    counts after final merge: note\n",
            "hh       116\n",
            "kick      31\n",
            "snare     33\n",
            "Name: note, dtype: int64\n",
            "BULK LOAD: drummer7, drummer7/eval_session/6_hiphop-groove6_87_beat_4-4.mid\n",
            "FILE name: /content/drive/My Drive/groove-v1.0.0-midionly/groove/drummer7/eval_session/6_hiphop-groove6_87_beat_4-4.mid\n",
            "    loaded file: <midi file '/content/drive/My Drive/groove-v1.0.0-midionly/groove/drummer7/eval_session/6_hiphop-groove6_87_beat_4-4.mid' type 0, 1 tracks, 844 messages>\n",
            "    time sig: <meta message time_signature numerator=4 denominator=4 clocks_per_click=24 notated_32nd_notes_per_beat=8 time=0>\n",
            "    tempo: <meta message set_tempo tempo=689655 time=0>\n",
            "    track count: 1, tracks: [<midi track 'Midi Drums' 844 messages>]\n",
            "    MIDI file type: 0\n",
            "    > processing track: <midi track 'Midi Drums' 844 messages>\n",
            "    __notes pre-filter: [22. 36. 37. 38. 40. 42.]\n",
            "    __applying filter: [44]\n",
            "    __notes post filter: [22. 36. 37. 38. 40. 42.]\n",
            "    note_on span - first tick: 2 , last tick: 30441 \n",
            "    good instruments: 3, {36.0: 'Bass Drum 1 (36)', 38.0: 'Acoustic Snare (38)', 42.0: 'Closed Hi Hat (42)'}\n",
            "    bar info - bars in file: 16, bar quantize level: 16.0\n",
            "    tick info - ticks per time sig beat: 480.0, ticks per quantize bin: 120\n",
            "    > checking for errs...\n",
            "    __ tmp_df before: (323, 8)\n",
            "    __ err_buckets removed: (6, 7)\n",
            "    __ tmp_df after: (317, 8)\n",
            "   > raw instruments: [36 38 42]\n",
            "   ['Bass Drum 1 (36)', 'Acoustic Snare (38)', 'Closed Hi Hat (42)']\n",
            "   counts before final filter: note\n",
            "36     99\n",
            "38     32\n",
            "42    186\n",
            "Name: note, dtype: int64\n",
            "   counts after final filter: note\n",
            "36     99\n",
            "38     32\n",
            "42    186\n",
            "Name: note, dtype: int64\n",
            "    counts after final merge: note\n",
            "hh       186\n",
            "kick      99\n",
            "snare     32\n",
            "Name: note, dtype: int64\n",
            "BULK LOAD: drummer7, drummer7/eval_session/8_rock-groove8_65_beat_4-4.mid\n",
            "FILE name: /content/drive/My Drive/groove-v1.0.0-midionly/groove/drummer7/eval_session/8_rock-groove8_65_beat_4-4.mid\n",
            "    loaded file: <midi file '/content/drive/My Drive/groove-v1.0.0-midionly/groove/drummer7/eval_session/8_rock-groove8_65_beat_4-4.mid' type 0, 1 tracks, 557 messages>\n",
            "    time sig: <meta message time_signature numerator=4 denominator=4 clocks_per_click=24 notated_32nd_notes_per_beat=8 time=0>\n",
            "    tempo: <meta message set_tempo tempo=923077 time=0>\n",
            "    track count: 1, tracks: [<midi track 'Midi Drums' 557 messages>]\n",
            "    MIDI file type: 0\n",
            "    > processing track: <midi track 'Midi Drums' 557 messages>\n",
            "    __notes pre-filter: [22. 26. 36. 38. 40. 42. 44.]\n",
            "    __applying filter: [44]\n",
            "    __notes post filter: [22. 26. 36. 38. 40. 42.]\n",
            "    note_on span - first tick: 0 , last tick: 30367 \n",
            "    good instruments: 4, {36.0: 'Bass Drum 1 (36)', 38.0: 'Acoustic Snare (38)', 42.0: 'Closed Hi Hat (42)', 46.0: 'Open Hi-Hat (46)'}\n",
            "    bar info - bars in file: 16, bar quantize level: 16.0\n",
            "    tick info - ticks per time sig beat: 480.0, ticks per quantize bin: 120\n",
            "    > checking for errs...\n",
            "    __ tmp_df before: (215, 8)\n",
            "    __ err_buckets removed: (2, 7)\n",
            "    __ tmp_df after: (213, 8)\n",
            "   > raw instruments: [42 38 36 46]\n",
            "   ['Closed Hi Hat (42)', 'Acoustic Snare (38)', 'Bass Drum 1 (36)', 'Open Hi-Hat (46)']\n",
            "   counts before final filter: note\n",
            "36     49\n",
            "38     44\n",
            "42    112\n",
            "46      8\n",
            "Name: note, dtype: int64\n",
            "   counts after final filter: note\n",
            "36     49\n",
            "38     44\n",
            "42    112\n",
            "46      8\n",
            "Name: note, dtype: int64\n",
            "    counts after final merge: note\n",
            "hh       120\n",
            "kick      49\n",
            "snare     44\n",
            "Name: note, dtype: int64\n",
            "BULK LOAD: drummer8, drummer8/eval_session/1_funk-groove1_138_beat_4-4.mid\n",
            "FILE name: /content/drive/My Drive/groove-v1.0.0-midionly/groove/drummer8/eval_session/1_funk-groove1_138_beat_4-4.mid\n",
            "    loaded file: <midi file '/content/drive/My Drive/groove-v1.0.0-midionly/groove/drummer8/eval_session/1_funk-groove1_138_beat_4-4.mid' type 0, 1 tracks, 728 messages>\n",
            "    time sig: <meta message time_signature numerator=4 denominator=4 clocks_per_click=24 notated_32nd_notes_per_beat=8 time=0>\n",
            "    tempo: <meta message set_tempo tempo=434783 time=0>\n",
            "    track count: 1, tracks: [<midi track 'Base Midi' 728 messages>]\n",
            "    MIDI file type: 0\n",
            "    > processing track: <midi track 'Base Midi' 728 messages>\n",
            "    __notes pre-filter: [22. 36. 37. 38. 40. 42.]\n",
            "    __applying filter: [44]\n",
            "    __notes post filter: [22. 36. 37. 38. 40. 42.]\n",
            "    note_on span - first tick: 0 , last tick: 30476 \n",
            "    good instruments: 3, {36.0: 'Bass Drum 1 (36)', 38.0: 'Acoustic Snare (38)', 42.0: 'Closed Hi Hat (42)'}\n",
            "    bar info - bars in file: 16, bar quantize level: 16.0\n",
            "    tick info - ticks per time sig beat: 480.0, ticks per quantize bin: 120\n",
            "    > checking for errs...\n",
            "    __ tmp_df before: (297, 8)\n",
            "    __ err_buckets removed: (18, 7)\n",
            "    __ tmp_df after: (279, 8)\n",
            "   > raw instruments: [36 42 38]\n",
            "   ['Bass Drum 1 (36)', 'Closed Hi Hat (42)', 'Acoustic Snare (38)']\n",
            "   counts before final filter: note\n",
            "36     56\n",
            "38     96\n",
            "42    127\n",
            "Name: note, dtype: int64\n",
            "   counts after final filter: note\n",
            "36     56\n",
            "38     96\n",
            "42    127\n",
            "Name: note, dtype: int64\n",
            "    counts after final merge: note\n",
            "hh       127\n",
            "kick      56\n",
            "snare     96\n",
            "Name: note, dtype: int64\n",
            "BULK LOAD: drummer8, drummer8/eval_session/3_soul-groove3_86_beat_4-4.mid\n",
            "FILE name: /content/drive/My Drive/groove-v1.0.0-midionly/groove/drummer8/eval_session/3_soul-groove3_86_beat_4-4.mid\n",
            "    loaded file: <midi file '/content/drive/My Drive/groove-v1.0.0-midionly/groove/drummer8/eval_session/3_soul-groove3_86_beat_4-4.mid' type 0, 1 tracks, 1063 messages>\n",
            "    time sig: <meta message time_signature numerator=4 denominator=4 clocks_per_click=24 notated_32nd_notes_per_beat=8 time=0>\n",
            "    tempo: <meta message set_tempo tempo=697674 time=0>\n",
            "    track count: 1, tracks: [<midi track 'Base Midi' 1063 messages>]\n",
            "    MIDI file type: 0\n",
            "    > processing track: <midi track 'Base Midi' 1063 messages>\n",
            "    __notes pre-filter: [36. 38. 40. 42.]\n",
            "    __applying filter: [44]\n",
            "    __notes post filter: [36. 38. 40. 42.]\n",
            "    note_on span - first tick: 5 , last tick: 30594 \n",
            "    good instruments: 3, {36.0: 'Bass Drum 1 (36)', 38.0: 'Acoustic Snare (38)', 42.0: 'Closed Hi Hat (42)'}\n",
            "    bar info - bars in file: 16, bar quantize level: 16.0\n",
            "    tick info - ticks per time sig beat: 480.0, ticks per quantize bin: 120\n",
            "    > checking for errs...\n",
            "    ...no errors to see here\n",
            "   > raw instruments: [36 42 38]\n",
            "   ['Bass Drum 1 (36)', 'Closed Hi Hat (42)', 'Acoustic Snare (38)']\n",
            "   counts before final filter: note\n",
            "36     96\n",
            "38     49\n",
            "42    255\n",
            "Name: note, dtype: int64\n",
            "   counts after final filter: note\n",
            "36     96\n",
            "38     49\n",
            "42    255\n",
            "Name: note, dtype: int64\n",
            "    counts after final merge: note\n",
            "hh       255\n",
            "kick      96\n",
            "snare     49\n",
            "Name: note, dtype: int64\n",
            "BULK LOAD: drummer8, drummer8/eval_session/4_soul-groove4_80_beat_4-4.mid\n",
            "FILE name: /content/drive/My Drive/groove-v1.0.0-midionly/groove/drummer8/eval_session/4_soul-groove4_80_beat_4-4.mid\n",
            "    loaded file: <midi file '/content/drive/My Drive/groove-v1.0.0-midionly/groove/drummer8/eval_session/4_soul-groove4_80_beat_4-4.mid' type 0, 1 tracks, 610 messages>\n",
            "    time sig: <meta message time_signature numerator=4 denominator=4 clocks_per_click=24 notated_32nd_notes_per_beat=8 time=0>\n",
            "    tempo: <meta message set_tempo tempo=750000 time=0>\n",
            "    track count: 1, tracks: [<midi track 'Base Midi' 610 messages>]\n",
            "    MIDI file type: 0\n",
            "    > processing track: <midi track 'Base Midi' 610 messages>\n",
            "    __notes pre-filter: [22. 36. 38. 42.]\n",
            "    __applying filter: [44]\n",
            "    __notes post filter: [22. 36. 38. 42.]\n",
            "    note_on span - first tick: 0 , last tick: 30601 \n",
            "    good instruments: 3, {36.0: 'Bass Drum 1 (36)', 38.0: 'Acoustic Snare (38)', 42.0: 'Closed Hi Hat (42)'}\n",
            "    bar info - bars in file: 16, bar quantize level: 16.0\n",
            "    tick info - ticks per time sig beat: 480.0, ticks per quantize bin: 120\n",
            "    > checking for errs...\n",
            "    ...no errors to see here\n",
            "   > raw instruments: [36 42 38]\n",
            "   ['Bass Drum 1 (36)', 'Closed Hi Hat (42)', 'Acoustic Snare (38)']\n",
            "   counts before final filter: note\n",
            "36     32\n",
            "38     32\n",
            "42    158\n",
            "Name: note, dtype: int64\n",
            "   counts after final filter: note\n",
            "36     32\n",
            "38     32\n",
            "42    158\n",
            "Name: note, dtype: int64\n",
            "    counts after final merge: note\n",
            "hh       158\n",
            "kick      32\n",
            "snare     32\n",
            "Name: note, dtype: int64\n",
            "BULK LOAD: drummer8, drummer8/eval_session/6_hiphop-groove6_87_beat_4-4.mid\n",
            "FILE name: /content/drive/My Drive/groove-v1.0.0-midionly/groove/drummer8/eval_session/6_hiphop-groove6_87_beat_4-4.mid\n",
            "    loaded file: <midi file '/content/drive/My Drive/groove-v1.0.0-midionly/groove/drummer8/eval_session/6_hiphop-groove6_87_beat_4-4.mid' type 0, 1 tracks, 803 messages>\n",
            "    time sig: <meta message time_signature numerator=4 denominator=4 clocks_per_click=24 notated_32nd_notes_per_beat=8 time=0>\n",
            "    tempo: <meta message set_tempo tempo=689655 time=0>\n",
            "    track count: 1, tracks: [<midi track 'Base Midi' 803 messages>]\n",
            "    MIDI file type: 0\n",
            "    > processing track: <midi track 'Base Midi' 803 messages>\n",
            "    __notes pre-filter: [36. 37. 38. 40. 42. 50.]\n",
            "    __applying filter: [44]\n",
            "    __notes post filter: [36. 37. 38. 40. 42. 50.]\n",
            "    note_on span - first tick: 15 , last tick: 30461 \n",
            "    good instruments: 4, {36.0: 'Bass Drum 1 (36)', 38.0: 'Acoustic Snare (38)', 42.0: 'Closed Hi Hat (42)', 50.0: 'High Tom (50)'}\n",
            "    bar info - bars in file: 16, bar quantize level: 16.0\n",
            "    tick info - ticks per time sig beat: 480.0, ticks per quantize bin: 120\n",
            "    > checking for errs...\n",
            "    __ tmp_df before: (313, 8)\n",
            "    __ err_buckets removed: (2, 7)\n",
            "    __ tmp_df after: (311, 8)\n",
            "   > raw instruments: [36 38 42 50]\n",
            "   ['Bass Drum 1 (36)', 'Acoustic Snare (38)', 'Closed Hi Hat (42)', 'High Tom (50)']\n",
            "   counts before final filter: note\n",
            "36    107\n",
            "38     31\n",
            "42    170\n",
            "50      3\n",
            "Name: note, dtype: int64\n",
            "   counts after final filter: note\n",
            "36    107\n",
            "38     31\n",
            "42    170\n",
            "Name: note, dtype: int64\n",
            "    counts after final merge: note\n",
            "hh       170\n",
            "kick     107\n",
            "snare     31\n",
            "Name: note, dtype: int64\n",
            "BULK LOAD: drummer8, drummer8/eval_session/8_rock-groove8_65_beat_4-4.mid\n",
            "FILE name: /content/drive/My Drive/groove-v1.0.0-midionly/groove/drummer8/eval_session/8_rock-groove8_65_beat_4-4.mid\n",
            "    loaded file: <midi file '/content/drive/My Drive/groove-v1.0.0-midionly/groove/drummer8/eval_session/8_rock-groove8_65_beat_4-4.mid' type 0, 1 tracks, 603 messages>\n",
            "    time sig: <meta message time_signature numerator=4 denominator=4 clocks_per_click=24 notated_32nd_notes_per_beat=8 time=0>\n",
            "    tempo: <meta message set_tempo tempo=923077 time=0>\n",
            "    track count: 1, tracks: [<midi track 'Base Midi' 603 messages>]\n",
            "    MIDI file type: 0\n",
            "    > processing track: <midi track 'Base Midi' 603 messages>\n",
            "    __notes pre-filter: [26. 36. 38. 40. 42. 44.]\n",
            "    __applying filter: [44]\n",
            "    __notes post filter: [26. 36. 38. 40. 42.]\n",
            "    note_on span - first tick: 0 , last tick: 30354 \n",
            "    good instruments: 4, {36.0: 'Bass Drum 1 (36)', 38.0: 'Acoustic Snare (38)', 42.0: 'Closed Hi Hat (42)', 46.0: 'Open Hi-Hat (46)'}\n",
            "    bar info - bars in file: 16, bar quantize level: 16.0\n",
            "    tick info - ticks per time sig beat: 480.0, ticks per quantize bin: 120\n",
            "    > checking for errs...\n",
            "    ...no errors to see here\n",
            "   > raw instruments: [36 42 38 46]\n",
            "   ['Bass Drum 1 (36)', 'Closed Hi Hat (42)', 'Acoustic Snare (38)', 'Open Hi-Hat (46)']\n",
            "   counts before final filter: note\n",
            "36     56\n",
            "38     40\n",
            "42    112\n",
            "46      8\n",
            "Name: note, dtype: int64\n",
            "   counts after final filter: note\n",
            "36     56\n",
            "38     40\n",
            "42    112\n",
            "46      8\n",
            "Name: note, dtype: int64\n",
            "    counts after final merge: note\n",
            "hh       120\n",
            "kick      56\n",
            "snare     40\n",
            "Name: note, dtype: int64\n"
          ],
          "name": "stdout"
        }
      ]
    },
    {
      "cell_type": "markdown",
      "metadata": {
        "id": "oqqkKvSSZkfz"
      },
      "source": [
        "## Single file tests.."
      ]
    },
    {
      "cell_type": "code",
      "metadata": {
        "colab": {
          "base_uri": "https://localhost:8080/",
          "height": 865
        },
        "id": "Rt2gXzJvZnWL",
        "outputId": "8afb0e09-480a-4274-e351-81af2ed12caf"
      },
      "source": [
        "##################################\n",
        "######## EXPLORE SINGLE FILE\n",
        "\n",
        "# experimenting on a single file here ...\n",
        "key1 = '/content/drive/My Drive/groove-v1.0.0-midionly/groove/drummer1/eval_session/1_funk-groove1_138_beat_4-4.mid'\n",
        "#key2 = '/content/drive/My Drive/groove-v1.0.0-midionly/groove/drummer5/eval_session/1_funk-groove1_138_beat_4-4.mid'\n",
        "\n",
        "test_data = all_drummer_data[key1]\n",
        "df1 = test_data.tight_df.copy()\n",
        "df1.head()\n",
        "\n",
        "print('stats for: {}'.format(key1))\n",
        "df1['beat_offset'].groupby(df1['note']).describe()\n",
        "df1['velocity'].groupby(df1['note']).describe()\n",
        "df1.describe()"
      ],
      "execution_count": 13,
      "outputs": [
        {
          "output_type": "execute_result",
          "data": {
            "text/html": [
              "<div>\n",
              "<style scoped>\n",
              "    .dataframe tbody tr th:only-of-type {\n",
              "        vertical-align: middle;\n",
              "    }\n",
              "\n",
              "    .dataframe tbody tr th {\n",
              "        vertical-align: top;\n",
              "    }\n",
              "\n",
              "    .dataframe thead th {\n",
              "        text-align: right;\n",
              "    }\n",
              "</style>\n",
              "<table border=\"1\" class=\"dataframe\">\n",
              "  <thead>\n",
              "    <tr style=\"text-align: right;\">\n",
              "      <th></th>\n",
              "      <th></th>\n",
              "      <th>note</th>\n",
              "      <th>velocity</th>\n",
              "      <th>beat_offset</th>\n",
              "      <th>bar_beat_number</th>\n",
              "    </tr>\n",
              "    <tr>\n",
              "      <th>bar_number</th>\n",
              "      <th>bar_beat_number</th>\n",
              "      <th></th>\n",
              "      <th></th>\n",
              "      <th></th>\n",
              "      <th></th>\n",
              "    </tr>\n",
              "  </thead>\n",
              "  <tbody>\n",
              "    <tr>\n",
              "      <th rowspan=\"5\" valign=\"top\">1</th>\n",
              "      <th>1</th>\n",
              "      <td>hh</td>\n",
              "      <td>55</td>\n",
              "      <td>7</td>\n",
              "      <td>1</td>\n",
              "    </tr>\n",
              "    <tr>\n",
              "      <th>1</th>\n",
              "      <td>kick</td>\n",
              "      <td>64</td>\n",
              "      <td>10</td>\n",
              "      <td>1</td>\n",
              "    </tr>\n",
              "    <tr>\n",
              "      <th>3</th>\n",
              "      <td>kick</td>\n",
              "      <td>57</td>\n",
              "      <td>-29</td>\n",
              "      <td>3</td>\n",
              "    </tr>\n",
              "    <tr>\n",
              "      <th>3</th>\n",
              "      <td>hh</td>\n",
              "      <td>31</td>\n",
              "      <td>-2</td>\n",
              "      <td>3</td>\n",
              "    </tr>\n",
              "    <tr>\n",
              "      <th>5</th>\n",
              "      <td>hh</td>\n",
              "      <td>54</td>\n",
              "      <td>-13</td>\n",
              "      <td>5</td>\n",
              "    </tr>\n",
              "  </tbody>\n",
              "</table>\n",
              "</div>"
            ],
            "text/plain": [
              "                            note  velocity  beat_offset  bar_beat_number\n",
              "bar_number bar_beat_number                                              \n",
              "1          1                  hh        55            7                1\n",
              "           1                kick        64           10                1\n",
              "           3                kick        57          -29                3\n",
              "           3                  hh        31           -2                3\n",
              "           5                  hh        54          -13                5"
            ]
          },
          "metadata": {
            "tags": []
          },
          "execution_count": 13
        },
        {
          "output_type": "stream",
          "text": [
            "stats for: /content/drive/My Drive/groove-v1.0.0-midionly/groove/drummer1/eval_session/1_funk-groove1_138_beat_4-4.mid\n"
          ],
          "name": "stdout"
        },
        {
          "output_type": "execute_result",
          "data": {
            "text/html": [
              "<div>\n",
              "<style scoped>\n",
              "    .dataframe tbody tr th:only-of-type {\n",
              "        vertical-align: middle;\n",
              "    }\n",
              "\n",
              "    .dataframe tbody tr th {\n",
              "        vertical-align: top;\n",
              "    }\n",
              "\n",
              "    .dataframe thead th {\n",
              "        text-align: right;\n",
              "    }\n",
              "</style>\n",
              "<table border=\"1\" class=\"dataframe\">\n",
              "  <thead>\n",
              "    <tr style=\"text-align: right;\">\n",
              "      <th></th>\n",
              "      <th>count</th>\n",
              "      <th>mean</th>\n",
              "      <th>std</th>\n",
              "      <th>min</th>\n",
              "      <th>25%</th>\n",
              "      <th>50%</th>\n",
              "      <th>75%</th>\n",
              "      <th>max</th>\n",
              "    </tr>\n",
              "    <tr>\n",
              "      <th>note</th>\n",
              "      <th></th>\n",
              "      <th></th>\n",
              "      <th></th>\n",
              "      <th></th>\n",
              "      <th></th>\n",
              "      <th></th>\n",
              "      <th></th>\n",
              "      <th></th>\n",
              "    </tr>\n",
              "  </thead>\n",
              "  <tbody>\n",
              "    <tr>\n",
              "      <th>hh</th>\n",
              "      <td>126.0</td>\n",
              "      <td>-4.674603</td>\n",
              "      <td>13.097071</td>\n",
              "      <td>-41.0</td>\n",
              "      <td>-12.00</td>\n",
              "      <td>-3.5</td>\n",
              "      <td>4.0</td>\n",
              "      <td>27.0</td>\n",
              "    </tr>\n",
              "    <tr>\n",
              "      <th>kick</th>\n",
              "      <td>54.0</td>\n",
              "      <td>-14.777778</td>\n",
              "      <td>15.486655</td>\n",
              "      <td>-54.0</td>\n",
              "      <td>-24.75</td>\n",
              "      <td>-13.0</td>\n",
              "      <td>-4.0</td>\n",
              "      <td>10.0</td>\n",
              "    </tr>\n",
              "    <tr>\n",
              "      <th>snare</th>\n",
              "      <td>79.0</td>\n",
              "      <td>-9.924051</td>\n",
              "      <td>20.791253</td>\n",
              "      <td>-58.0</td>\n",
              "      <td>-21.00</td>\n",
              "      <td>-8.0</td>\n",
              "      <td>0.5</td>\n",
              "      <td>55.0</td>\n",
              "    </tr>\n",
              "  </tbody>\n",
              "</table>\n",
              "</div>"
            ],
            "text/plain": [
              "       count       mean        std   min    25%   50%  75%   max\n",
              "note                                                            \n",
              "hh     126.0  -4.674603  13.097071 -41.0 -12.00  -3.5  4.0  27.0\n",
              "kick    54.0 -14.777778  15.486655 -54.0 -24.75 -13.0 -4.0  10.0\n",
              "snare   79.0  -9.924051  20.791253 -58.0 -21.00  -8.0  0.5  55.0"
            ]
          },
          "metadata": {
            "tags": []
          },
          "execution_count": 13
        },
        {
          "output_type": "execute_result",
          "data": {
            "text/html": [
              "<div>\n",
              "<style scoped>\n",
              "    .dataframe tbody tr th:only-of-type {\n",
              "        vertical-align: middle;\n",
              "    }\n",
              "\n",
              "    .dataframe tbody tr th {\n",
              "        vertical-align: top;\n",
              "    }\n",
              "\n",
              "    .dataframe thead th {\n",
              "        text-align: right;\n",
              "    }\n",
              "</style>\n",
              "<table border=\"1\" class=\"dataframe\">\n",
              "  <thead>\n",
              "    <tr style=\"text-align: right;\">\n",
              "      <th></th>\n",
              "      <th>count</th>\n",
              "      <th>mean</th>\n",
              "      <th>std</th>\n",
              "      <th>min</th>\n",
              "      <th>25%</th>\n",
              "      <th>50%</th>\n",
              "      <th>75%</th>\n",
              "      <th>max</th>\n",
              "    </tr>\n",
              "    <tr>\n",
              "      <th>note</th>\n",
              "      <th></th>\n",
              "      <th></th>\n",
              "      <th></th>\n",
              "      <th></th>\n",
              "      <th></th>\n",
              "      <th></th>\n",
              "      <th></th>\n",
              "      <th></th>\n",
              "    </tr>\n",
              "  </thead>\n",
              "  <tbody>\n",
              "    <tr>\n",
              "      <th>hh</th>\n",
              "      <td>126.0</td>\n",
              "      <td>50.436508</td>\n",
              "      <td>9.891003</td>\n",
              "      <td>30.0</td>\n",
              "      <td>44.0</td>\n",
              "      <td>49.0</td>\n",
              "      <td>56.00</td>\n",
              "      <td>83.0</td>\n",
              "    </tr>\n",
              "    <tr>\n",
              "      <th>kick</th>\n",
              "      <td>54.0</td>\n",
              "      <td>60.796296</td>\n",
              "      <td>15.543463</td>\n",
              "      <td>42.0</td>\n",
              "      <td>52.0</td>\n",
              "      <td>59.5</td>\n",
              "      <td>63.75</td>\n",
              "      <td>127.0</td>\n",
              "    </tr>\n",
              "    <tr>\n",
              "      <th>snare</th>\n",
              "      <td>79.0</td>\n",
              "      <td>71.506329</td>\n",
              "      <td>35.822523</td>\n",
              "      <td>8.0</td>\n",
              "      <td>33.0</td>\n",
              "      <td>90.0</td>\n",
              "      <td>102.00</td>\n",
              "      <td>117.0</td>\n",
              "    </tr>\n",
              "  </tbody>\n",
              "</table>\n",
              "</div>"
            ],
            "text/plain": [
              "       count       mean        std   min   25%   50%     75%    max\n",
              "note                                                               \n",
              "hh     126.0  50.436508   9.891003  30.0  44.0  49.0   56.00   83.0\n",
              "kick    54.0  60.796296  15.543463  42.0  52.0  59.5   63.75  127.0\n",
              "snare   79.0  71.506329  35.822523   8.0  33.0  90.0  102.00  117.0"
            ]
          },
          "metadata": {
            "tags": []
          },
          "execution_count": 13
        },
        {
          "output_type": "execute_result",
          "data": {
            "text/html": [
              "<div>\n",
              "<style scoped>\n",
              "    .dataframe tbody tr th:only-of-type {\n",
              "        vertical-align: middle;\n",
              "    }\n",
              "\n",
              "    .dataframe tbody tr th {\n",
              "        vertical-align: top;\n",
              "    }\n",
              "\n",
              "    .dataframe thead th {\n",
              "        text-align: right;\n",
              "    }\n",
              "</style>\n",
              "<table border=\"1\" class=\"dataframe\">\n",
              "  <thead>\n",
              "    <tr style=\"text-align: right;\">\n",
              "      <th></th>\n",
              "      <th>velocity</th>\n",
              "      <th>beat_offset</th>\n",
              "      <th>bar_beat_number</th>\n",
              "    </tr>\n",
              "  </thead>\n",
              "  <tbody>\n",
              "    <tr>\n",
              "      <th>count</th>\n",
              "      <td>259.000000</td>\n",
              "      <td>259.000000</td>\n",
              "      <td>259.000000</td>\n",
              "    </tr>\n",
              "    <tr>\n",
              "      <th>mean</th>\n",
              "      <td>59.023166</td>\n",
              "      <td>-8.382239</td>\n",
              "      <td>7.528958</td>\n",
              "    </tr>\n",
              "    <tr>\n",
              "      <th>std</th>\n",
              "      <td>23.861508</td>\n",
              "      <td>16.705284</td>\n",
              "      <td>4.585338</td>\n",
              "    </tr>\n",
              "    <tr>\n",
              "      <th>min</th>\n",
              "      <td>8.000000</td>\n",
              "      <td>-58.000000</td>\n",
              "      <td>1.000000</td>\n",
              "    </tr>\n",
              "    <tr>\n",
              "      <th>25%</th>\n",
              "      <td>44.000000</td>\n",
              "      <td>-17.000000</td>\n",
              "      <td>3.000000</td>\n",
              "    </tr>\n",
              "    <tr>\n",
              "      <th>50%</th>\n",
              "      <td>52.000000</td>\n",
              "      <td>-7.000000</td>\n",
              "      <td>8.000000</td>\n",
              "    </tr>\n",
              "    <tr>\n",
              "      <th>75%</th>\n",
              "      <td>65.500000</td>\n",
              "      <td>1.500000</td>\n",
              "      <td>11.000000</td>\n",
              "    </tr>\n",
              "    <tr>\n",
              "      <th>max</th>\n",
              "      <td>127.000000</td>\n",
              "      <td>55.000000</td>\n",
              "      <td>16.000000</td>\n",
              "    </tr>\n",
              "  </tbody>\n",
              "</table>\n",
              "</div>"
            ],
            "text/plain": [
              "         velocity  beat_offset  bar_beat_number\n",
              "count  259.000000   259.000000       259.000000\n",
              "mean    59.023166    -8.382239         7.528958\n",
              "std     23.861508    16.705284         4.585338\n",
              "min      8.000000   -58.000000         1.000000\n",
              "25%     44.000000   -17.000000         3.000000\n",
              "50%     52.000000    -7.000000         8.000000\n",
              "75%     65.500000     1.500000        11.000000\n",
              "max    127.000000    55.000000        16.000000"
            ]
          },
          "metadata": {
            "tags": []
          },
          "execution_count": 13
        }
      ]
    },
    {
      "cell_type": "code",
      "metadata": {
        "id": "HwwWTaIaOuGu"
      },
      "source": [
        ""
      ],
      "execution_count": 13,
      "outputs": []
    },
    {
      "cell_type": "code",
      "metadata": {
        "colab": {
          "base_uri": "https://localhost:8080/",
          "height": 1000
        },
        "id": "C7V5dgDffyxv",
        "outputId": "53304893-7f5f-47e1-a319-af4c44d7f547"
      },
      "source": [
        "# pull out notes in named bars...\n",
        "display(df1.xs(1, level='bar_number')) \n",
        "display(df1.xs(2, level='bar_number')) "
      ],
      "execution_count": 14,
      "outputs": [
        {
          "output_type": "display_data",
          "data": {
            "text/html": [
              "<div>\n",
              "<style scoped>\n",
              "    .dataframe tbody tr th:only-of-type {\n",
              "        vertical-align: middle;\n",
              "    }\n",
              "\n",
              "    .dataframe tbody tr th {\n",
              "        vertical-align: top;\n",
              "    }\n",
              "\n",
              "    .dataframe thead th {\n",
              "        text-align: right;\n",
              "    }\n",
              "</style>\n",
              "<table border=\"1\" class=\"dataframe\">\n",
              "  <thead>\n",
              "    <tr style=\"text-align: right;\">\n",
              "      <th></th>\n",
              "      <th>note</th>\n",
              "      <th>velocity</th>\n",
              "      <th>beat_offset</th>\n",
              "      <th>bar_beat_number</th>\n",
              "    </tr>\n",
              "    <tr>\n",
              "      <th>bar_beat_number</th>\n",
              "      <th></th>\n",
              "      <th></th>\n",
              "      <th></th>\n",
              "      <th></th>\n",
              "    </tr>\n",
              "  </thead>\n",
              "  <tbody>\n",
              "    <tr>\n",
              "      <th>1</th>\n",
              "      <td>hh</td>\n",
              "      <td>55</td>\n",
              "      <td>7</td>\n",
              "      <td>1</td>\n",
              "    </tr>\n",
              "    <tr>\n",
              "      <th>1</th>\n",
              "      <td>kick</td>\n",
              "      <td>64</td>\n",
              "      <td>10</td>\n",
              "      <td>1</td>\n",
              "    </tr>\n",
              "    <tr>\n",
              "      <th>3</th>\n",
              "      <td>kick</td>\n",
              "      <td>57</td>\n",
              "      <td>-29</td>\n",
              "      <td>3</td>\n",
              "    </tr>\n",
              "    <tr>\n",
              "      <th>3</th>\n",
              "      <td>hh</td>\n",
              "      <td>31</td>\n",
              "      <td>-2</td>\n",
              "      <td>3</td>\n",
              "    </tr>\n",
              "    <tr>\n",
              "      <th>5</th>\n",
              "      <td>hh</td>\n",
              "      <td>54</td>\n",
              "      <td>-13</td>\n",
              "      <td>5</td>\n",
              "    </tr>\n",
              "    <tr>\n",
              "      <th>5</th>\n",
              "      <td>snare</td>\n",
              "      <td>93</td>\n",
              "      <td>-5</td>\n",
              "      <td>5</td>\n",
              "    </tr>\n",
              "    <tr>\n",
              "      <th>7</th>\n",
              "      <td>hh</td>\n",
              "      <td>42</td>\n",
              "      <td>-16</td>\n",
              "      <td>7</td>\n",
              "    </tr>\n",
              "    <tr>\n",
              "      <th>8</th>\n",
              "      <td>snare</td>\n",
              "      <td>33</td>\n",
              "      <td>-12</td>\n",
              "      <td>8</td>\n",
              "    </tr>\n",
              "    <tr>\n",
              "      <th>10</th>\n",
              "      <td>snare</td>\n",
              "      <td>33</td>\n",
              "      <td>-14</td>\n",
              "      <td>10</td>\n",
              "    </tr>\n",
              "    <tr>\n",
              "      <th>11</th>\n",
              "      <td>kick</td>\n",
              "      <td>59</td>\n",
              "      <td>-37</td>\n",
              "      <td>11</td>\n",
              "    </tr>\n",
              "    <tr>\n",
              "      <th>11</th>\n",
              "      <td>hh</td>\n",
              "      <td>42</td>\n",
              "      <td>-32</td>\n",
              "      <td>11</td>\n",
              "    </tr>\n",
              "    <tr>\n",
              "      <th>13</th>\n",
              "      <td>hh</td>\n",
              "      <td>64</td>\n",
              "      <td>-18</td>\n",
              "      <td>13</td>\n",
              "    </tr>\n",
              "    <tr>\n",
              "      <th>13</th>\n",
              "      <td>snare</td>\n",
              "      <td>114</td>\n",
              "      <td>7</td>\n",
              "      <td>13</td>\n",
              "    </tr>\n",
              "    <tr>\n",
              "      <th>15</th>\n",
              "      <td>hh</td>\n",
              "      <td>44</td>\n",
              "      <td>-1</td>\n",
              "      <td>15</td>\n",
              "    </tr>\n",
              "    <tr>\n",
              "      <th>16</th>\n",
              "      <td>snare</td>\n",
              "      <td>30</td>\n",
              "      <td>-3</td>\n",
              "      <td>16</td>\n",
              "    </tr>\n",
              "  </tbody>\n",
              "</table>\n",
              "</div>"
            ],
            "text/plain": [
              "                  note  velocity  beat_offset  bar_beat_number\n",
              "bar_beat_number                                               \n",
              "1                   hh        55            7                1\n",
              "1                 kick        64           10                1\n",
              "3                 kick        57          -29                3\n",
              "3                   hh        31           -2                3\n",
              "5                   hh        54          -13                5\n",
              "5                snare        93           -5                5\n",
              "7                   hh        42          -16                7\n",
              "8                snare        33          -12                8\n",
              "10               snare        33          -14               10\n",
              "11                kick        59          -37               11\n",
              "11                  hh        42          -32               11\n",
              "13                  hh        64          -18               13\n",
              "13               snare       114            7               13\n",
              "15                  hh        44           -1               15\n",
              "16               snare        30           -3               16"
            ]
          },
          "metadata": {
            "tags": []
          }
        },
        {
          "output_type": "display_data",
          "data": {
            "text/html": [
              "<div>\n",
              "<style scoped>\n",
              "    .dataframe tbody tr th:only-of-type {\n",
              "        vertical-align: middle;\n",
              "    }\n",
              "\n",
              "    .dataframe tbody tr th {\n",
              "        vertical-align: top;\n",
              "    }\n",
              "\n",
              "    .dataframe thead th {\n",
              "        text-align: right;\n",
              "    }\n",
              "</style>\n",
              "<table border=\"1\" class=\"dataframe\">\n",
              "  <thead>\n",
              "    <tr style=\"text-align: right;\">\n",
              "      <th></th>\n",
              "      <th>note</th>\n",
              "      <th>velocity</th>\n",
              "      <th>beat_offset</th>\n",
              "      <th>bar_beat_number</th>\n",
              "    </tr>\n",
              "    <tr>\n",
              "      <th>bar_beat_number</th>\n",
              "      <th></th>\n",
              "      <th></th>\n",
              "      <th></th>\n",
              "      <th></th>\n",
              "    </tr>\n",
              "  </thead>\n",
              "  <tbody>\n",
              "    <tr>\n",
              "      <th>1</th>\n",
              "      <td>hh</td>\n",
              "      <td>42</td>\n",
              "      <td>-7</td>\n",
              "      <td>1</td>\n",
              "    </tr>\n",
              "    <tr>\n",
              "      <th>1</th>\n",
              "      <td>kick</td>\n",
              "      <td>55</td>\n",
              "      <td>-5</td>\n",
              "      <td>1</td>\n",
              "    </tr>\n",
              "    <tr>\n",
              "      <th>3</th>\n",
              "      <td>kick</td>\n",
              "      <td>62</td>\n",
              "      <td>-10</td>\n",
              "      <td>3</td>\n",
              "    </tr>\n",
              "    <tr>\n",
              "      <th>3</th>\n",
              "      <td>hh</td>\n",
              "      <td>41</td>\n",
              "      <td>3</td>\n",
              "      <td>3</td>\n",
              "    </tr>\n",
              "    <tr>\n",
              "      <th>5</th>\n",
              "      <td>snare</td>\n",
              "      <td>94</td>\n",
              "      <td>4</td>\n",
              "      <td>5</td>\n",
              "    </tr>\n",
              "    <tr>\n",
              "      <th>5</th>\n",
              "      <td>hh</td>\n",
              "      <td>51</td>\n",
              "      <td>5</td>\n",
              "      <td>5</td>\n",
              "    </tr>\n",
              "    <tr>\n",
              "      <th>7</th>\n",
              "      <td>hh</td>\n",
              "      <td>45</td>\n",
              "      <td>7</td>\n",
              "      <td>7</td>\n",
              "    </tr>\n",
              "    <tr>\n",
              "      <th>8</th>\n",
              "      <td>snare</td>\n",
              "      <td>32</td>\n",
              "      <td>7</td>\n",
              "      <td>8</td>\n",
              "    </tr>\n",
              "    <tr>\n",
              "      <th>9</th>\n",
              "      <td>hh</td>\n",
              "      <td>43</td>\n",
              "      <td>2</td>\n",
              "      <td>9</td>\n",
              "    </tr>\n",
              "    <tr>\n",
              "      <th>10</th>\n",
              "      <td>snare</td>\n",
              "      <td>24</td>\n",
              "      <td>-5</td>\n",
              "      <td>10</td>\n",
              "    </tr>\n",
              "    <tr>\n",
              "      <th>11</th>\n",
              "      <td>kick</td>\n",
              "      <td>47</td>\n",
              "      <td>-46</td>\n",
              "      <td>11</td>\n",
              "    </tr>\n",
              "    <tr>\n",
              "      <th>11</th>\n",
              "      <td>hh</td>\n",
              "      <td>36</td>\n",
              "      <td>2</td>\n",
              "      <td>11</td>\n",
              "    </tr>\n",
              "    <tr>\n",
              "      <th>12</th>\n",
              "      <td>kick</td>\n",
              "      <td>54</td>\n",
              "      <td>-21</td>\n",
              "      <td>12</td>\n",
              "    </tr>\n",
              "    <tr>\n",
              "      <th>13</th>\n",
              "      <td>snare</td>\n",
              "      <td>89</td>\n",
              "      <td>-13</td>\n",
              "      <td>13</td>\n",
              "    </tr>\n",
              "    <tr>\n",
              "      <th>13</th>\n",
              "      <td>hh</td>\n",
              "      <td>54</td>\n",
              "      <td>0</td>\n",
              "      <td>13</td>\n",
              "    </tr>\n",
              "    <tr>\n",
              "      <th>15</th>\n",
              "      <td>hh</td>\n",
              "      <td>39</td>\n",
              "      <td>7</td>\n",
              "      <td>15</td>\n",
              "    </tr>\n",
              "  </tbody>\n",
              "</table>\n",
              "</div>"
            ],
            "text/plain": [
              "                  note  velocity  beat_offset  bar_beat_number\n",
              "bar_beat_number                                               \n",
              "1                   hh        42           -7                1\n",
              "1                 kick        55           -5                1\n",
              "3                 kick        62          -10                3\n",
              "3                   hh        41            3                3\n",
              "5                snare        94            4                5\n",
              "5                   hh        51            5                5\n",
              "7                   hh        45            7                7\n",
              "8                snare        32            7                8\n",
              "9                   hh        43            2                9\n",
              "10               snare        24           -5               10\n",
              "11                kick        47          -46               11\n",
              "11                  hh        36            2               11\n",
              "12                kick        54          -21               12\n",
              "13               snare        89          -13               13\n",
              "13                  hh        54            0               13\n",
              "15                  hh        39            7               15"
            ]
          },
          "metadata": {
            "tags": []
          }
        }
      ]
    },
    {
      "cell_type": "markdown",
      "metadata": {
        "id": "5njgUeKpXqlS"
      },
      "source": [
        "### Peek at file_df of same file"
      ]
    },
    {
      "cell_type": "code",
      "metadata": {
        "colab": {
          "base_uri": "https://localhost:8080/",
          "height": 753
        },
        "id": "0xyP2s5VN78g",
        "outputId": "73461153-81c0-4cfb-e5e2-61b15f26581f"
      },
      "source": [
        "# extract unfiltered file_df to examine\n",
        "tmp_file_df = test_data.file_df.copy()\n",
        "tmp_file_df.head()\n",
        "tmp_file_df.describe()\n",
        "tmp_file_df['beat_offset'].groupby(tmp_file_df['note']).describe()\n",
        "#tmp_file_df['velocity'].groupby(tmp_file_df['note']).describe()"
      ],
      "execution_count": 15,
      "outputs": [
        {
          "output_type": "execute_result",
          "data": {
            "text/html": [
              "<div>\n",
              "<style scoped>\n",
              "    .dataframe tbody tr th:only-of-type {\n",
              "        vertical-align: middle;\n",
              "    }\n",
              "\n",
              "    .dataframe tbody tr th {\n",
              "        vertical-align: top;\n",
              "    }\n",
              "\n",
              "    .dataframe thead th {\n",
              "        text-align: right;\n",
              "    }\n",
              "</style>\n",
              "<table border=\"1\" class=\"dataframe\">\n",
              "  <thead>\n",
              "    <tr style=\"text-align: right;\">\n",
              "      <th></th>\n",
              "      <th></th>\n",
              "      <th></th>\n",
              "      <th>track_msg_num</th>\n",
              "      <th>total_ticks</th>\n",
              "      <th>note</th>\n",
              "      <th>velocity</th>\n",
              "      <th>beat_offset</th>\n",
              "      <th>beat_center</th>\n",
              "      <th>bar_number</th>\n",
              "      <th>bar_beat_number</th>\n",
              "    </tr>\n",
              "    <tr>\n",
              "      <th>bar_number</th>\n",
              "      <th>bar_beat_number</th>\n",
              "      <th>note</th>\n",
              "      <th></th>\n",
              "      <th></th>\n",
              "      <th></th>\n",
              "      <th></th>\n",
              "      <th></th>\n",
              "      <th></th>\n",
              "      <th></th>\n",
              "      <th></th>\n",
              "    </tr>\n",
              "  </thead>\n",
              "  <tbody>\n",
              "    <tr>\n",
              "      <th rowspan=\"5\" valign=\"top\">1</th>\n",
              "      <th rowspan=\"3\" valign=\"top\">1</th>\n",
              "      <th>49</th>\n",
              "      <td>0:6</td>\n",
              "      <td>3</td>\n",
              "      <td>49</td>\n",
              "      <td>60</td>\n",
              "      <td>3</td>\n",
              "      <td>0</td>\n",
              "      <td>1</td>\n",
              "      <td>1</td>\n",
              "    </tr>\n",
              "    <tr>\n",
              "      <th>51</th>\n",
              "      <td>0:7</td>\n",
              "      <td>7</td>\n",
              "      <td>51</td>\n",
              "      <td>55</td>\n",
              "      <td>7</td>\n",
              "      <td>0</td>\n",
              "      <td>1</td>\n",
              "      <td>1</td>\n",
              "    </tr>\n",
              "    <tr>\n",
              "      <th>36</th>\n",
              "      <td>0:8</td>\n",
              "      <td>10</td>\n",
              "      <td>36</td>\n",
              "      <td>64</td>\n",
              "      <td>10</td>\n",
              "      <td>0</td>\n",
              "      <td>1</td>\n",
              "      <td>1</td>\n",
              "    </tr>\n",
              "    <tr>\n",
              "      <th rowspan=\"2\" valign=\"top\">3</th>\n",
              "      <th>36</th>\n",
              "      <td>0:14</td>\n",
              "      <td>211</td>\n",
              "      <td>36</td>\n",
              "      <td>57</td>\n",
              "      <td>-29</td>\n",
              "      <td>240</td>\n",
              "      <td>1</td>\n",
              "      <td>3</td>\n",
              "    </tr>\n",
              "    <tr>\n",
              "      <th>51</th>\n",
              "      <td>0:16</td>\n",
              "      <td>238</td>\n",
              "      <td>51</td>\n",
              "      <td>31</td>\n",
              "      <td>-2</td>\n",
              "      <td>240</td>\n",
              "      <td>1</td>\n",
              "      <td>3</td>\n",
              "    </tr>\n",
              "  </tbody>\n",
              "</table>\n",
              "</div>"
            ],
            "text/plain": [
              "                                track_msg_num  total_ticks  note  velocity  \\\n",
              "bar_number bar_beat_number note                                              \n",
              "1          1               49             0:6            3    49        60   \n",
              "                           51             0:7            7    51        55   \n",
              "                           36             0:8           10    36        64   \n",
              "           3               36            0:14          211    36        57   \n",
              "                           51            0:16          238    51        31   \n",
              "\n",
              "                                 beat_offset beat_center  bar_number  \\\n",
              "bar_number bar_beat_number note                                        \n",
              "1          1               49              3           0           1   \n",
              "                           51              7           0           1   \n",
              "                           36             10           0           1   \n",
              "           3               36            -29         240           1   \n",
              "                           51             -2         240           1   \n",
              "\n",
              "                                 bar_beat_number  \n",
              "bar_number bar_beat_number note                   \n",
              "1          1               49                  1  \n",
              "                           51                  1  \n",
              "                           36                  1  \n",
              "           3               36                  3  \n",
              "                           51                  3  "
            ]
          },
          "metadata": {
            "tags": []
          },
          "execution_count": 15
        },
        {
          "output_type": "execute_result",
          "data": {
            "text/html": [
              "<div>\n",
              "<style scoped>\n",
              "    .dataframe tbody tr th:only-of-type {\n",
              "        vertical-align: middle;\n",
              "    }\n",
              "\n",
              "    .dataframe tbody tr th {\n",
              "        vertical-align: top;\n",
              "    }\n",
              "\n",
              "    .dataframe thead th {\n",
              "        text-align: right;\n",
              "    }\n",
              "</style>\n",
              "<table border=\"1\" class=\"dataframe\">\n",
              "  <thead>\n",
              "    <tr style=\"text-align: right;\">\n",
              "      <th></th>\n",
              "      <th>total_ticks</th>\n",
              "      <th>note</th>\n",
              "      <th>velocity</th>\n",
              "      <th>beat_offset</th>\n",
              "      <th>bar_number</th>\n",
              "      <th>bar_beat_number</th>\n",
              "    </tr>\n",
              "  </thead>\n",
              "  <tbody>\n",
              "    <tr>\n",
              "      <th>count</th>\n",
              "      <td>264.000000</td>\n",
              "      <td>264.000000</td>\n",
              "      <td>264.000000</td>\n",
              "      <td>264.000000</td>\n",
              "      <td>264.000000</td>\n",
              "      <td>264.000000</td>\n",
              "    </tr>\n",
              "    <tr>\n",
              "      <th>mean</th>\n",
              "      <td>15389.109848</td>\n",
              "      <td>43.981061</td>\n",
              "      <td>59.371212</td>\n",
              "      <td>-8.617424</td>\n",
              "      <td>8.609848</td>\n",
              "      <td>7.556818</td>\n",
              "    </tr>\n",
              "    <tr>\n",
              "      <th>std</th>\n",
              "      <td>8818.113292</td>\n",
              "      <td>6.914718</td>\n",
              "      <td>24.050930</td>\n",
              "      <td>16.746416</td>\n",
              "      <td>4.589132</td>\n",
              "      <td>4.579317</td>\n",
              "    </tr>\n",
              "    <tr>\n",
              "      <th>min</th>\n",
              "      <td>3.000000</td>\n",
              "      <td>36.000000</td>\n",
              "      <td>8.000000</td>\n",
              "      <td>-58.000000</td>\n",
              "      <td>1.000000</td>\n",
              "      <td>1.000000</td>\n",
              "    </tr>\n",
              "    <tr>\n",
              "      <th>25%</th>\n",
              "      <td>7893.250000</td>\n",
              "      <td>38.000000</td>\n",
              "      <td>44.000000</td>\n",
              "      <td>-18.000000</td>\n",
              "      <td>5.000000</td>\n",
              "      <td>3.000000</td>\n",
              "    </tr>\n",
              "    <tr>\n",
              "      <th>50%</th>\n",
              "      <td>15378.000000</td>\n",
              "      <td>38.000000</td>\n",
              "      <td>53.000000</td>\n",
              "      <td>-7.500000</td>\n",
              "      <td>9.000000</td>\n",
              "      <td>8.000000</td>\n",
              "    </tr>\n",
              "    <tr>\n",
              "      <th>75%</th>\n",
              "      <td>23034.000000</td>\n",
              "      <td>51.000000</td>\n",
              "      <td>66.000000</td>\n",
              "      <td>1.250000</td>\n",
              "      <td>13.000000</td>\n",
              "      <td>11.000000</td>\n",
              "    </tr>\n",
              "    <tr>\n",
              "      <th>max</th>\n",
              "      <td>30452.000000</td>\n",
              "      <td>51.000000</td>\n",
              "      <td>127.000000</td>\n",
              "      <td>55.000000</td>\n",
              "      <td>16.000000</td>\n",
              "      <td>16.000000</td>\n",
              "    </tr>\n",
              "  </tbody>\n",
              "</table>\n",
              "</div>"
            ],
            "text/plain": [
              "        total_ticks        note    velocity  beat_offset  bar_number  \\\n",
              "count    264.000000  264.000000  264.000000   264.000000  264.000000   \n",
              "mean   15389.109848   43.981061   59.371212    -8.617424    8.609848   \n",
              "std     8818.113292    6.914718   24.050930    16.746416    4.589132   \n",
              "min        3.000000   36.000000    8.000000   -58.000000    1.000000   \n",
              "25%     7893.250000   38.000000   44.000000   -18.000000    5.000000   \n",
              "50%    15378.000000   38.000000   53.000000    -7.500000    9.000000   \n",
              "75%    23034.000000   51.000000   66.000000     1.250000   13.000000   \n",
              "max    30452.000000   51.000000  127.000000    55.000000   16.000000   \n",
              "\n",
              "       bar_beat_number  \n",
              "count       264.000000  \n",
              "mean          7.556818  \n",
              "std           4.579317  \n",
              "min           1.000000  \n",
              "25%           3.000000  \n",
              "50%           8.000000  \n",
              "75%          11.000000  \n",
              "max          16.000000  "
            ]
          },
          "metadata": {
            "tags": []
          },
          "execution_count": 15
        },
        {
          "output_type": "execute_result",
          "data": {
            "text/html": [
              "<div>\n",
              "<style scoped>\n",
              "    .dataframe tbody tr th:only-of-type {\n",
              "        vertical-align: middle;\n",
              "    }\n",
              "\n",
              "    .dataframe tbody tr th {\n",
              "        vertical-align: top;\n",
              "    }\n",
              "\n",
              "    .dataframe thead th {\n",
              "        text-align: right;\n",
              "    }\n",
              "</style>\n",
              "<table border=\"1\" class=\"dataframe\">\n",
              "  <thead>\n",
              "    <tr style=\"text-align: right;\">\n",
              "      <th></th>\n",
              "      <th>count</th>\n",
              "      <th>mean</th>\n",
              "      <th>std</th>\n",
              "      <th>min</th>\n",
              "      <th>25%</th>\n",
              "      <th>50%</th>\n",
              "      <th>75%</th>\n",
              "      <th>max</th>\n",
              "    </tr>\n",
              "    <tr>\n",
              "      <th>note</th>\n",
              "      <th></th>\n",
              "      <th></th>\n",
              "      <th></th>\n",
              "      <th></th>\n",
              "      <th></th>\n",
              "      <th></th>\n",
              "      <th></th>\n",
              "      <th></th>\n",
              "    </tr>\n",
              "  </thead>\n",
              "  <tbody>\n",
              "    <tr>\n",
              "      <th>36</th>\n",
              "      <td>54.0</td>\n",
              "      <td>-14.777778</td>\n",
              "      <td>15.486655</td>\n",
              "      <td>-54.0</td>\n",
              "      <td>-24.75</td>\n",
              "      <td>-13.0</td>\n",
              "      <td>-4.00</td>\n",
              "      <td>10.0</td>\n",
              "    </tr>\n",
              "    <tr>\n",
              "      <th>38</th>\n",
              "      <td>79.0</td>\n",
              "      <td>-9.924051</td>\n",
              "      <td>20.791253</td>\n",
              "      <td>-58.0</td>\n",
              "      <td>-21.00</td>\n",
              "      <td>-8.0</td>\n",
              "      <td>0.50</td>\n",
              "      <td>55.0</td>\n",
              "    </tr>\n",
              "    <tr>\n",
              "      <th>43</th>\n",
              "      <td>1.0</td>\n",
              "      <td>-21.000000</td>\n",
              "      <td>NaN</td>\n",
              "      <td>-21.0</td>\n",
              "      <td>-21.00</td>\n",
              "      <td>-21.0</td>\n",
              "      <td>-21.00</td>\n",
              "      <td>-21.0</td>\n",
              "    </tr>\n",
              "    <tr>\n",
              "      <th>49</th>\n",
              "      <td>4.0</td>\n",
              "      <td>-20.750000</td>\n",
              "      <td>18.264264</td>\n",
              "      <td>-37.0</td>\n",
              "      <td>-34.00</td>\n",
              "      <td>-24.5</td>\n",
              "      <td>-11.25</td>\n",
              "      <td>3.0</td>\n",
              "    </tr>\n",
              "    <tr>\n",
              "      <th>51</th>\n",
              "      <td>126.0</td>\n",
              "      <td>-4.674603</td>\n",
              "      <td>13.097071</td>\n",
              "      <td>-41.0</td>\n",
              "      <td>-12.00</td>\n",
              "      <td>-3.5</td>\n",
              "      <td>4.00</td>\n",
              "      <td>27.0</td>\n",
              "    </tr>\n",
              "  </tbody>\n",
              "</table>\n",
              "</div>"
            ],
            "text/plain": [
              "      count       mean        std   min    25%   50%    75%   max\n",
              "note                                                             \n",
              "36     54.0 -14.777778  15.486655 -54.0 -24.75 -13.0  -4.00  10.0\n",
              "38     79.0  -9.924051  20.791253 -58.0 -21.00  -8.0   0.50  55.0\n",
              "43      1.0 -21.000000        NaN -21.0 -21.00 -21.0 -21.00 -21.0\n",
              "49      4.0 -20.750000  18.264264 -37.0 -34.00 -24.5 -11.25   3.0\n",
              "51    126.0  -4.674603  13.097071 -41.0 -12.00  -3.5   4.00  27.0"
            ]
          },
          "metadata": {
            "tags": []
          },
          "execution_count": 15
        }
      ]
    },
    {
      "cell_type": "markdown",
      "metadata": {
        "id": "u9yXJCSEa7bO"
      },
      "source": [
        "## Filter songs..."
      ]
    },
    {
      "cell_type": "markdown",
      "metadata": {
        "id": "qjcKzDPgR1sK"
      },
      "source": [
        "Take a look at all file names in the complete data set..."
      ]
    },
    {
      "cell_type": "code",
      "metadata": {
        "colab": {
          "base_uri": "https://localhost:8080/"
        },
        "id": "TX8d6C3cRUv1",
        "outputId": "5b358b5a-6d63-49f6-aae2-c042ce72872e"
      },
      "source": [
        "list(all_drummer_data.keys())"
      ],
      "execution_count": 16,
      "outputs": [
        {
          "output_type": "execute_result",
          "data": {
            "text/plain": [
              "['/content/drive/My Drive/groove-v1.0.0-midionly/groove/drummer1/eval_session/1_funk-groove1_138_beat_4-4.mid',\n",
              " '/content/drive/My Drive/groove-v1.0.0-midionly/groove/drummer1/eval_session/3_soul-groove3_86_beat_4-4.mid',\n",
              " '/content/drive/My Drive/groove-v1.0.0-midionly/groove/drummer1/eval_session/4_soul-groove4_80_beat_4-4.mid',\n",
              " '/content/drive/My Drive/groove-v1.0.0-midionly/groove/drummer1/eval_session/6_hiphop-groove6_87_beat_4-4.mid',\n",
              " '/content/drive/My Drive/groove-v1.0.0-midionly/groove/drummer1/eval_session/8_rock-groove8_65_beat_4-4.mid',\n",
              " '/content/drive/My Drive/groove-v1.0.0-midionly/groove/drummer5/eval_session/1_funk-groove1_138_beat_4-4.mid',\n",
              " '/content/drive/My Drive/groove-v1.0.0-midionly/groove/drummer5/eval_session/3_soul-groove3_86_beat_4-4.mid',\n",
              " '/content/drive/My Drive/groove-v1.0.0-midionly/groove/drummer5/eval_session/4_soul-groove4_80_beat_4-4.mid',\n",
              " '/content/drive/My Drive/groove-v1.0.0-midionly/groove/drummer5/eval_session/6_hiphop-groove6_87_beat_4-4.mid',\n",
              " '/content/drive/My Drive/groove-v1.0.0-midionly/groove/drummer5/eval_session/8_rock-groove8_65_beat_4-4.mid',\n",
              " '/content/drive/My Drive/groove-v1.0.0-midionly/groove/drummer7/eval_session/1_funk-groove1_138_beat_4-4.mid',\n",
              " '/content/drive/My Drive/groove-v1.0.0-midionly/groove/drummer7/eval_session/3_soul-groove3_86_beat_4-4.mid',\n",
              " '/content/drive/My Drive/groove-v1.0.0-midionly/groove/drummer7/eval_session/4_soul-groove4_80_beat_4-4.mid',\n",
              " '/content/drive/My Drive/groove-v1.0.0-midionly/groove/drummer7/eval_session/6_hiphop-groove6_87_beat_4-4.mid',\n",
              " '/content/drive/My Drive/groove-v1.0.0-midionly/groove/drummer7/eval_session/8_rock-groove8_65_beat_4-4.mid',\n",
              " '/content/drive/My Drive/groove-v1.0.0-midionly/groove/drummer8/eval_session/1_funk-groove1_138_beat_4-4.mid',\n",
              " '/content/drive/My Drive/groove-v1.0.0-midionly/groove/drummer8/eval_session/3_soul-groove3_86_beat_4-4.mid',\n",
              " '/content/drive/My Drive/groove-v1.0.0-midionly/groove/drummer8/eval_session/4_soul-groove4_80_beat_4-4.mid',\n",
              " '/content/drive/My Drive/groove-v1.0.0-midionly/groove/drummer8/eval_session/6_hiphop-groove6_87_beat_4-4.mid',\n",
              " '/content/drive/My Drive/groove-v1.0.0-midionly/groove/drummer8/eval_session/8_rock-groove8_65_beat_4-4.mid']"
            ]
          },
          "metadata": {
            "tags": []
          },
          "execution_count": 16
        }
      ]
    },
    {
      "cell_type": "markdown",
      "metadata": {
        "id": "PaGGCcrSR9lh"
      },
      "source": [
        "Code to pull out data to test, based on selected songs. Also add 'y' (target/ observation) label."
      ]
    },
    {
      "cell_type": "code",
      "metadata": {
        "colab": {
          "base_uri": "https://localhost:8080/",
          "height": 600
        },
        "id": "Wv1ZPml3a-NW",
        "outputId": "da48a9f4-03d3-4492-8186-e2aaa2fa0714"
      },
      "source": [
        "\n",
        "# FILTER SONGS BEING TESTED, ADD LABEL\n",
        "\n",
        "def addLabelCol(df, label):\n",
        "  '''\n",
        "  Input: data_prep.PerformanceData.tight_df\n",
        "  Return: df with additional colum for Y/ label called 'drummer_ID'\n",
        "  '''\n",
        "  df.insert(0, 'drummer_ID', label) # add it as first col\n",
        "  return df\n",
        "\n",
        "def load_songs(style_filter=[]):\n",
        "\n",
        "  songs_data = []\n",
        "\n",
        "  if len(style_filter) == 0:\n",
        "    print('>>>> Loading all songs ...')\n",
        "    for next_file in all_drummer_data.keys():\n",
        "      perf_data = all_drummer_data[next_file]\n",
        "      file_name = perf_data.file_wrapper.my_file_name\n",
        "      print('  __{}'.format(file_name))\n",
        "      df1 = perf_data.tight_df.copy()\n",
        "      df2 = addLabelCol(df1, perf_data.drummer_id)  \n",
        "      df2.reset_index(drop=True, inplace=True)\n",
        "      songs_data.append(df2)\n",
        "    print('>>>> DONE loading all songs.')\n",
        "  else:\n",
        "    for next_style in style_filter:\n",
        "      print('>>>> Loading songs in style: {} ...'.format(next_style))\n",
        "\n",
        "      # iterate through loaded files, extract songs\n",
        "      # matching the any styles set in 'next_filter'\n",
        "      for next_file in all_drummer_data.keys():\n",
        "        perf_data = all_drummer_data[next_file]\n",
        "        file_name = perf_data.file_wrapper.my_file_name\n",
        "        if next_style in file_name:\n",
        "          print('  __{}'.format(file_name))\n",
        "          df1 = perf_data.tight_df.copy()\n",
        "          df2 = addLabelCol(df1, perf_data.drummer_id)  \n",
        "          df2.reset_index(drop=True, inplace=True)\n",
        "          songs_data.append(df2)\n",
        "        else:\n",
        "          #print('  ... ignoring: {}'.format(file_name))\n",
        "          pass\n",
        "    print('>>>> DONE loading songs: {}'.format(style_filter))\n",
        "\n",
        "  return songs_data\n",
        "\n",
        "# specify style being processed\n",
        "# 1_funk-groove1\n",
        "# 3_soul-groove3\n",
        "# 4_soul-groove4\n",
        "# 6_hiphop-groove6\n",
        "# 8_rock-groove8\n",
        "\n",
        "#style_filter = \"1_funk-groove1\"  \n",
        "#style_filter = \"3_soul-groove3\" \n",
        "#style_filter = \"4_soul-groove4\"\n",
        "#style_filter = \"6_hiphop-groove6\"\n",
        "#style_filter = \"8_rock-groove8\"\n",
        "\n",
        "#filtered_songs = load_songs(style_filter=[\"4_soul-groove4\"])\n",
        "filtered_songs = load_songs(style_filter=[])\n",
        "\n",
        "# load ALL songs ...\n",
        "#working_songs = load_songs()\n",
        "\n",
        "# merge all into single df, drop indexes, reset default index\n",
        "working_data = pd.concat(filtered_songs)\n",
        "working_data.reset_index(inplace=True, drop=True)\n",
        "\n",
        "# .. at this point, df 'working_data' is a collection\n",
        "# of data for the same song, across all drummers, with\n",
        "# DrummerID label\n",
        "\n",
        "working_data.head(5)\n"
      ],
      "execution_count": 49,
      "outputs": [
        {
          "output_type": "stream",
          "text": [
            ">>>> Loading all songs ...\n",
            "  __/content/drive/My Drive/groove-v1.0.0-midionly/groove/drummer1/eval_session/1_funk-groove1_138_beat_4-4.mid\n",
            "  __/content/drive/My Drive/groove-v1.0.0-midionly/groove/drummer1/eval_session/3_soul-groove3_86_beat_4-4.mid\n",
            "  __/content/drive/My Drive/groove-v1.0.0-midionly/groove/drummer1/eval_session/4_soul-groove4_80_beat_4-4.mid\n",
            "  __/content/drive/My Drive/groove-v1.0.0-midionly/groove/drummer1/eval_session/6_hiphop-groove6_87_beat_4-4.mid\n",
            "  __/content/drive/My Drive/groove-v1.0.0-midionly/groove/drummer1/eval_session/8_rock-groove8_65_beat_4-4.mid\n",
            "  __/content/drive/My Drive/groove-v1.0.0-midionly/groove/drummer5/eval_session/1_funk-groove1_138_beat_4-4.mid\n",
            "  __/content/drive/My Drive/groove-v1.0.0-midionly/groove/drummer5/eval_session/3_soul-groove3_86_beat_4-4.mid\n",
            "  __/content/drive/My Drive/groove-v1.0.0-midionly/groove/drummer5/eval_session/4_soul-groove4_80_beat_4-4.mid\n",
            "  __/content/drive/My Drive/groove-v1.0.0-midionly/groove/drummer5/eval_session/6_hiphop-groove6_87_beat_4-4.mid\n",
            "  __/content/drive/My Drive/groove-v1.0.0-midionly/groove/drummer5/eval_session/8_rock-groove8_65_beat_4-4.mid\n",
            "  __/content/drive/My Drive/groove-v1.0.0-midionly/groove/drummer7/eval_session/1_funk-groove1_138_beat_4-4.mid\n",
            "  __/content/drive/My Drive/groove-v1.0.0-midionly/groove/drummer7/eval_session/3_soul-groove3_86_beat_4-4.mid\n",
            "  __/content/drive/My Drive/groove-v1.0.0-midionly/groove/drummer7/eval_session/4_soul-groove4_80_beat_4-4.mid\n",
            "  __/content/drive/My Drive/groove-v1.0.0-midionly/groove/drummer7/eval_session/6_hiphop-groove6_87_beat_4-4.mid\n",
            "  __/content/drive/My Drive/groove-v1.0.0-midionly/groove/drummer7/eval_session/8_rock-groove8_65_beat_4-4.mid\n",
            "  __/content/drive/My Drive/groove-v1.0.0-midionly/groove/drummer8/eval_session/1_funk-groove1_138_beat_4-4.mid\n",
            "  __/content/drive/My Drive/groove-v1.0.0-midionly/groove/drummer8/eval_session/3_soul-groove3_86_beat_4-4.mid\n",
            "  __/content/drive/My Drive/groove-v1.0.0-midionly/groove/drummer8/eval_session/4_soul-groove4_80_beat_4-4.mid\n",
            "  __/content/drive/My Drive/groove-v1.0.0-midionly/groove/drummer8/eval_session/6_hiphop-groove6_87_beat_4-4.mid\n",
            "  __/content/drive/My Drive/groove-v1.0.0-midionly/groove/drummer8/eval_session/8_rock-groove8_65_beat_4-4.mid\n",
            ">>>> DONE loading all songs.\n"
          ],
          "name": "stdout"
        },
        {
          "output_type": "execute_result",
          "data": {
            "text/html": [
              "<div>\n",
              "<style scoped>\n",
              "    .dataframe tbody tr th:only-of-type {\n",
              "        vertical-align: middle;\n",
              "    }\n",
              "\n",
              "    .dataframe tbody tr th {\n",
              "        vertical-align: top;\n",
              "    }\n",
              "\n",
              "    .dataframe thead th {\n",
              "        text-align: right;\n",
              "    }\n",
              "</style>\n",
              "<table border=\"1\" class=\"dataframe\">\n",
              "  <thead>\n",
              "    <tr style=\"text-align: right;\">\n",
              "      <th></th>\n",
              "      <th>drummer_ID</th>\n",
              "      <th>note</th>\n",
              "      <th>velocity</th>\n",
              "      <th>beat_offset</th>\n",
              "      <th>bar_beat_number</th>\n",
              "    </tr>\n",
              "  </thead>\n",
              "  <tbody>\n",
              "    <tr>\n",
              "      <th>0</th>\n",
              "      <td>drummer1</td>\n",
              "      <td>hh</td>\n",
              "      <td>55</td>\n",
              "      <td>7</td>\n",
              "      <td>1</td>\n",
              "    </tr>\n",
              "    <tr>\n",
              "      <th>1</th>\n",
              "      <td>drummer1</td>\n",
              "      <td>kick</td>\n",
              "      <td>64</td>\n",
              "      <td>10</td>\n",
              "      <td>1</td>\n",
              "    </tr>\n",
              "    <tr>\n",
              "      <th>2</th>\n",
              "      <td>drummer1</td>\n",
              "      <td>kick</td>\n",
              "      <td>57</td>\n",
              "      <td>-29</td>\n",
              "      <td>3</td>\n",
              "    </tr>\n",
              "    <tr>\n",
              "      <th>3</th>\n",
              "      <td>drummer1</td>\n",
              "      <td>hh</td>\n",
              "      <td>31</td>\n",
              "      <td>-2</td>\n",
              "      <td>3</td>\n",
              "    </tr>\n",
              "    <tr>\n",
              "      <th>4</th>\n",
              "      <td>drummer1</td>\n",
              "      <td>hh</td>\n",
              "      <td>54</td>\n",
              "      <td>-13</td>\n",
              "      <td>5</td>\n",
              "    </tr>\n",
              "  </tbody>\n",
              "</table>\n",
              "</div>"
            ],
            "text/plain": [
              "  drummer_ID  note  velocity  beat_offset  bar_beat_number\n",
              "0   drummer1    hh        55            7                1\n",
              "1   drummer1  kick        64           10                1\n",
              "2   drummer1  kick        57          -29                3\n",
              "3   drummer1    hh        31           -2                3\n",
              "4   drummer1    hh        54          -13                5"
            ]
          },
          "metadata": {
            "tags": []
          },
          "execution_count": 49
        }
      ]
    },
    {
      "cell_type": "markdown",
      "metadata": {
        "id": "5bC-Ly7h_9LV"
      },
      "source": [
        "# Setup pipelines"
      ]
    },
    {
      "cell_type": "code",
      "metadata": {
        "colab": {
          "base_uri": "https://localhost:8080/",
          "height": 142
        },
        "id": "Y0_jcqjobJAS",
        "outputId": "c8102ff6-3204-4b79-c99a-8e19378dfd8b"
      },
      "source": [
        "working_data.corr()"
      ],
      "execution_count": 18,
      "outputs": [
        {
          "output_type": "execute_result",
          "data": {
            "text/html": [
              "<div>\n",
              "<style scoped>\n",
              "    .dataframe tbody tr th:only-of-type {\n",
              "        vertical-align: middle;\n",
              "    }\n",
              "\n",
              "    .dataframe tbody tr th {\n",
              "        vertical-align: top;\n",
              "    }\n",
              "\n",
              "    .dataframe thead th {\n",
              "        text-align: right;\n",
              "    }\n",
              "</style>\n",
              "<table border=\"1\" class=\"dataframe\">\n",
              "  <thead>\n",
              "    <tr style=\"text-align: right;\">\n",
              "      <th></th>\n",
              "      <th>velocity</th>\n",
              "      <th>beat_offset</th>\n",
              "      <th>bar_beat_number</th>\n",
              "    </tr>\n",
              "  </thead>\n",
              "  <tbody>\n",
              "    <tr>\n",
              "      <th>velocity</th>\n",
              "      <td>1.000000</td>\n",
              "      <td>-0.084157</td>\n",
              "      <td>0.143209</td>\n",
              "    </tr>\n",
              "    <tr>\n",
              "      <th>beat_offset</th>\n",
              "      <td>-0.084157</td>\n",
              "      <td>1.000000</td>\n",
              "      <td>-0.067013</td>\n",
              "    </tr>\n",
              "    <tr>\n",
              "      <th>bar_beat_number</th>\n",
              "      <td>0.143209</td>\n",
              "      <td>-0.067013</td>\n",
              "      <td>1.000000</td>\n",
              "    </tr>\n",
              "  </tbody>\n",
              "</table>\n",
              "</div>"
            ],
            "text/plain": [
              "                 velocity  beat_offset  bar_beat_number\n",
              "velocity         1.000000    -0.084157         0.143209\n",
              "beat_offset     -0.084157     1.000000        -0.067013\n",
              "bar_beat_number  0.143209    -0.067013         1.000000"
            ]
          },
          "metadata": {
            "tags": []
          },
          "execution_count": 18
        }
      ]
    },
    {
      "cell_type": "markdown",
      "metadata": {
        "id": "0PsIAz0QYtbk"
      },
      "source": [
        "## X, y split"
      ]
    },
    {
      "cell_type": "markdown",
      "metadata": {
        "id": "ArftiVcD-2fe"
      },
      "source": [
        "Break into X, y before continuing ..."
      ]
    },
    {
      "cell_type": "code",
      "metadata": {
        "id": "7_dNfV_NxVRu"
      },
      "source": [
        "# BREAK INTO X, y\n",
        "y = working_data['drummer_ID'].to_numpy()\n",
        "X = working_data.drop(['drummer_ID' ], axis=1) #.to_numpy()"
      ],
      "execution_count": 50,
      "outputs": []
    },
    {
      "cell_type": "code",
      "metadata": {
        "colab": {
          "base_uri": "https://localhost:8080/",
          "height": 359
        },
        "id": "L2gSJXZwxq7E",
        "outputId": "76dc33e2-ed63-4701-debc-32fe19cc6fe4"
      },
      "source": [
        "X.head(10)"
      ],
      "execution_count": 20,
      "outputs": [
        {
          "output_type": "execute_result",
          "data": {
            "text/html": [
              "<div>\n",
              "<style scoped>\n",
              "    .dataframe tbody tr th:only-of-type {\n",
              "        vertical-align: middle;\n",
              "    }\n",
              "\n",
              "    .dataframe tbody tr th {\n",
              "        vertical-align: top;\n",
              "    }\n",
              "\n",
              "    .dataframe thead th {\n",
              "        text-align: right;\n",
              "    }\n",
              "</style>\n",
              "<table border=\"1\" class=\"dataframe\">\n",
              "  <thead>\n",
              "    <tr style=\"text-align: right;\">\n",
              "      <th></th>\n",
              "      <th>note</th>\n",
              "      <th>velocity</th>\n",
              "      <th>beat_offset</th>\n",
              "      <th>bar_beat_number</th>\n",
              "    </tr>\n",
              "  </thead>\n",
              "  <tbody>\n",
              "    <tr>\n",
              "      <th>0</th>\n",
              "      <td>kick</td>\n",
              "      <td>73</td>\n",
              "      <td>0</td>\n",
              "      <td>1</td>\n",
              "    </tr>\n",
              "    <tr>\n",
              "      <th>1</th>\n",
              "      <td>hh</td>\n",
              "      <td>74</td>\n",
              "      <td>0</td>\n",
              "      <td>1</td>\n",
              "    </tr>\n",
              "    <tr>\n",
              "      <th>2</th>\n",
              "      <td>hh</td>\n",
              "      <td>67</td>\n",
              "      <td>-5</td>\n",
              "      <td>3</td>\n",
              "    </tr>\n",
              "    <tr>\n",
              "      <th>3</th>\n",
              "      <td>snare</td>\n",
              "      <td>92</td>\n",
              "      <td>-1</td>\n",
              "      <td>5</td>\n",
              "    </tr>\n",
              "    <tr>\n",
              "      <th>4</th>\n",
              "      <td>hh</td>\n",
              "      <td>81</td>\n",
              "      <td>1</td>\n",
              "      <td>5</td>\n",
              "    </tr>\n",
              "    <tr>\n",
              "      <th>5</th>\n",
              "      <td>hh</td>\n",
              "      <td>76</td>\n",
              "      <td>7</td>\n",
              "      <td>7</td>\n",
              "    </tr>\n",
              "    <tr>\n",
              "      <th>6</th>\n",
              "      <td>hh</td>\n",
              "      <td>71</td>\n",
              "      <td>11</td>\n",
              "      <td>8</td>\n",
              "    </tr>\n",
              "    <tr>\n",
              "      <th>7</th>\n",
              "      <td>kick</td>\n",
              "      <td>77</td>\n",
              "      <td>-7</td>\n",
              "      <td>9</td>\n",
              "    </tr>\n",
              "    <tr>\n",
              "      <th>8</th>\n",
              "      <td>hh</td>\n",
              "      <td>72</td>\n",
              "      <td>4</td>\n",
              "      <td>10</td>\n",
              "    </tr>\n",
              "    <tr>\n",
              "      <th>9</th>\n",
              "      <td>hh</td>\n",
              "      <td>76</td>\n",
              "      <td>-2</td>\n",
              "      <td>11</td>\n",
              "    </tr>\n",
              "  </tbody>\n",
              "</table>\n",
              "</div>"
            ],
            "text/plain": [
              "    note  velocity  beat_offset  bar_beat_number\n",
              "0   kick        73            0                1\n",
              "1     hh        74            0                1\n",
              "2     hh        67           -5                3\n",
              "3  snare        92           -1                5\n",
              "4     hh        81            1                5\n",
              "5     hh        76            7                7\n",
              "6     hh        71           11                8\n",
              "7   kick        77           -7                9\n",
              "8     hh        72            4               10\n",
              "9     hh        76           -2               11"
            ]
          },
          "metadata": {
            "tags": []
          },
          "execution_count": 20
        }
      ]
    },
    {
      "cell_type": "markdown",
      "metadata": {
        "id": "kfJf5jPs8x8o"
      },
      "source": [
        "## Create transformers"
      ]
    },
    {
      "cell_type": "code",
      "metadata": {
        "colab": {
          "base_uri": "https://localhost:8080/"
        },
        "id": "Gi0ZRXN2mH7o",
        "outputId": "1efe1183-ca85-4060-9484-63c20919620b"
      },
      "source": [
        "beat_pos_cats = list(np.arange(1, 17))\n",
        "beat_pos_cats"
      ],
      "execution_count": 21,
      "outputs": [
        {
          "output_type": "execute_result",
          "data": {
            "text/plain": [
              "[1, 2, 3, 4, 5, 6, 7, 8, 9, 10, 11, 12, 13, 14, 15, 16]"
            ]
          },
          "metadata": {
            "tags": []
          },
          "execution_count": 21
        }
      ]
    },
    {
      "cell_type": "code",
      "metadata": {
        "id": "5PNptdKrgx7b"
      },
      "source": [
        "\n",
        "\n",
        "t_one_hot_beat_pos = OneHotEncoder(drop='first', categories=[beat_pos_cats])    # beat_pos\n",
        "\n",
        "t_one_hot = OneHotEncoder(drop='first')    # instrument\n",
        "\n",
        "t_scaler_std = StandardScaler(with_mean=True, with_std=True) # defaults made explict, velocity & offset\n",
        "t_scaler_robust = RobustScaler(quantile_range=(25, 75))  # velocity & offset\n",
        "t_scaler_mm_1 = MinMaxScaler(feature_range=(0, 1))       # velocity\n",
        "t_scaler_mm_2 = MinMaxScaler(feature_range=(-0.5, 0.5))  # offset\n",
        "\n",
        "# col indexes, 0-3: note, velocity, beat_offset, bar_beat_number\n",
        "\n",
        "# robust scaling of vel & offset, one hot for instrument  \n",
        "t_v0_robust = [('t_scaler_robust', t_scaler_robust, [1, 2]), ('t_one_hot', t_one_hot, [0])]\n",
        "ct_v0 = ColumnTransformer(transformers=t_v0_robust, remainder='passthrough', sparse_threshold=0)\n",
        " \n",
        "\n",
        "# this should be equivalent to previous pipeline for KNN\n",
        "# MinMax scaling of vel & offset, one hot for instrument & beat_pos\n",
        "t_v1_mm = [('t_scaler_mm_1', t_scaler_mm_1, [1]), # velocity \n",
        "               ('t_scaler_mm_2', t_scaler_mm_2, [2]),  # offset\n",
        "               ('t_one_hot', t_one_hot, [0]),  # instrument\n",
        "               ('t_one_hot_beat_pos', t_one_hot_beat_pos, [3])]  # beat_pos \n",
        "ct_v1 = ColumnTransformer(transformers=t_v1_mm, remainder='passthrough', sparse_threshold=0)\n",
        "\n",
        "# MinMax scaling of vel & offset, one hot for instrument\n",
        "t_v2_mm = [('t_scaler_mm_1', t_scaler_mm_1, [1]), # velocity \n",
        "               ('t_scaler_mm_2', t_scaler_mm_2, [2]),  # offset\n",
        "               ('t_one_hot', t_one_hot, [0])]  # instrument\n",
        "ct_v2 = ColumnTransformer(transformers=t_v2_mm, remainder='passthrough', sparse_threshold=0)\n",
        "\n",
        "\n",
        "# MinMax scaling of vel & offset, one hot for note\n",
        "t_v3_mm = [('t_scaler_mm_1', t_scaler_mm_1, [1, 2]), ('t_one_hot', t_one_hot, [0])]\n",
        "ct_v3 = ColumnTransformer(transformers=t_v3_mm, remainder='passthrough', sparse_threshold=0)\n",
        "\n",
        "\n",
        "# Std scaling of vel & offset, one hot for note and beat_pos.\n",
        "t_v4_std = [('t_scaler_std', t_scaler_std, [1, 2]), # vel & offset\n",
        "           ('t_one_hot', t_one_hot, [0]), # instrument, beat_pos\n",
        "           ('t_one_hot_beat_pos', t_one_hot_beat_pos, [3])]  # beat_pos \n",
        "ct_v4 = ColumnTransformer(transformers=t_v4_std, remainder='passthrough', sparse_threshold=0)\n",
        "\n"
      ],
      "execution_count": 22,
      "outputs": []
    },
    {
      "cell_type": "code",
      "metadata": {
        "id": "zkrGgygvyICq"
      },
      "source": [
        "from sklearn import set_config\n",
        "set_config(display='diagram')   \n",
        "# diplays HTML representation in a jupyter context\n"
      ],
      "execution_count": 23,
      "outputs": []
    },
    {
      "cell_type": "code",
      "metadata": {
        "colab": {
          "base_uri": "https://localhost:8080/",
          "height": 447
        },
        "id": "cNJ7yWl9y9Nd",
        "outputId": "95b2e7f2-2f9a-4f99-bbe4-55efb03d986a"
      },
      "source": [
        "ct_v0\n",
        "ct_v1\n",
        "ct_v2\n",
        "ct_v3\n",
        "ct_v4"
      ],
      "execution_count": 24,
      "outputs": [
        {
          "output_type": "execute_result",
          "data": {
            "text/html": [
              "<style>div.sk-top-container {color: black;background-color: white;}div.sk-toggleable {background-color: white;}label.sk-toggleable__label {cursor: pointer;display: block;width: 100%;margin-bottom: 0;padding: 0.2em 0.3em;box-sizing: border-box;text-align: center;}div.sk-toggleable__content {max-height: 0;max-width: 0;overflow: hidden;text-align: left;background-color: #f0f8ff;}div.sk-toggleable__content pre {margin: 0.2em;color: black;border-radius: 0.25em;background-color: #f0f8ff;}input.sk-toggleable__control:checked~div.sk-toggleable__content {max-height: 200px;max-width: 100%;overflow: auto;}div.sk-estimator input.sk-toggleable__control:checked~label.sk-toggleable__label {background-color: #d4ebff;}div.sk-label input.sk-toggleable__control:checked~label.sk-toggleable__label {background-color: #d4ebff;}input.sk-hidden--visually {border: 0;clip: rect(1px 1px 1px 1px);clip: rect(1px, 1px, 1px, 1px);height: 1px;margin: -1px;overflow: hidden;padding: 0;position: absolute;width: 1px;}div.sk-estimator {font-family: monospace;background-color: #f0f8ff;margin: 0.25em 0.25em;border: 1px dotted black;border-radius: 0.25em;box-sizing: border-box;}div.sk-estimator:hover {background-color: #d4ebff;}div.sk-parallel-item::after {content: \"\";width: 100%;border-bottom: 1px solid gray;flex-grow: 1;}div.sk-label:hover label.sk-toggleable__label {background-color: #d4ebff;}div.sk-serial::before {content: \"\";position: absolute;border-left: 1px solid gray;box-sizing: border-box;top: 2em;bottom: 0;left: 50%;}div.sk-serial {display: flex;flex-direction: column;align-items: center;background-color: white;}div.sk-item {z-index: 1;}div.sk-parallel {display: flex;align-items: stretch;justify-content: center;background-color: white;}div.sk-parallel-item {display: flex;flex-direction: column;position: relative;background-color: white;}div.sk-parallel-item:first-child::after {align-self: flex-end;width: 50%;}div.sk-parallel-item:last-child::after {align-self: flex-start;width: 50%;}div.sk-parallel-item:only-child::after {width: 0;}div.sk-dashed-wrapped {border: 1px dashed gray;margin: 0.2em;box-sizing: border-box;padding-bottom: 0.1em;background-color: white;position: relative;}div.sk-label label {font-family: monospace;font-weight: bold;background-color: white;display: inline-block;line-height: 1.2em;}div.sk-label-container {position: relative;z-index: 2;text-align: center;}div.sk-container {display: inline-block;position: relative;}</style><div class=\"sk-top-container\"><div class=\"sk-container\"><div class=\"sk-item sk-dashed-wrapped\"><div class=\"sk-label-container\"><div class=\"sk-label sk-toggleable\"><input class=\"sk-toggleable__control sk-hidden--visually\" id=\"f32dc3e2-b961-46a4-98d6-c26c0548a8b2\" type=\"checkbox\" ><label class=\"sk-toggleable__label\" for=\"f32dc3e2-b961-46a4-98d6-c26c0548a8b2\">ColumnTransformer</label><div class=\"sk-toggleable__content\"><pre>ColumnTransformer(remainder='passthrough', sparse_threshold=0,\n",
              "                  transformers=[('t_scaler_robust',\n",
              "                                 RobustScaler(quantile_range=(25, 75)),\n",
              "                                 [1, 2]),\n",
              "                                ('t_one_hot', OneHotEncoder(drop='first'),\n",
              "                                 [0])])</pre></div></div></div><div class=\"sk-parallel\"><div class=\"sk-parallel-item\"><div class=\"sk-item\"><div class=\"sk-label-container\"><div class=\"sk-label sk-toggleable\"><input class=\"sk-toggleable__control sk-hidden--visually\" id=\"1741a372-56bd-40d1-adfd-8f245ba4db52\" type=\"checkbox\" ><label class=\"sk-toggleable__label\" for=\"1741a372-56bd-40d1-adfd-8f245ba4db52\">t_scaler_robust</label><div class=\"sk-toggleable__content\"><pre>[1, 2]</pre></div></div></div><div class=\"sk-serial\"><div class=\"sk-item\"><div class=\"sk-estimator sk-toggleable\"><input class=\"sk-toggleable__control sk-hidden--visually\" id=\"0a2d8850-478c-4971-8788-917f811b9efd\" type=\"checkbox\" ><label class=\"sk-toggleable__label\" for=\"0a2d8850-478c-4971-8788-917f811b9efd\">RobustScaler</label><div class=\"sk-toggleable__content\"><pre>RobustScaler(quantile_range=(25, 75))</pre></div></div></div></div></div></div><div class=\"sk-parallel-item\"><div class=\"sk-item\"><div class=\"sk-label-container\"><div class=\"sk-label sk-toggleable\"><input class=\"sk-toggleable__control sk-hidden--visually\" id=\"61093a93-a568-43cd-bef2-c4df40eb700b\" type=\"checkbox\" ><label class=\"sk-toggleable__label\" for=\"61093a93-a568-43cd-bef2-c4df40eb700b\">t_one_hot</label><div class=\"sk-toggleable__content\"><pre>[0]</pre></div></div></div><div class=\"sk-serial\"><div class=\"sk-item\"><div class=\"sk-estimator sk-toggleable\"><input class=\"sk-toggleable__control sk-hidden--visually\" id=\"88ac40ae-e09f-4146-906f-5f8b740b40df\" type=\"checkbox\" ><label class=\"sk-toggleable__label\" for=\"88ac40ae-e09f-4146-906f-5f8b740b40df\">OneHotEncoder</label><div class=\"sk-toggleable__content\"><pre>OneHotEncoder(drop='first')</pre></div></div></div></div></div></div></div></div></div></div>"
            ],
            "text/plain": [
              "ColumnTransformer(remainder='passthrough', sparse_threshold=0,\n",
              "                  transformers=[('t_scaler_robust',\n",
              "                                 RobustScaler(quantile_range=(25, 75)),\n",
              "                                 [1, 2]),\n",
              "                                ('t_one_hot', OneHotEncoder(drop='first'),\n",
              "                                 [0])])"
            ]
          },
          "metadata": {
            "tags": []
          },
          "execution_count": 24
        },
        {
          "output_type": "execute_result",
          "data": {
            "text/html": [
              "<style>div.sk-top-container {color: black;background-color: white;}div.sk-toggleable {background-color: white;}label.sk-toggleable__label {cursor: pointer;display: block;width: 100%;margin-bottom: 0;padding: 0.2em 0.3em;box-sizing: border-box;text-align: center;}div.sk-toggleable__content {max-height: 0;max-width: 0;overflow: hidden;text-align: left;background-color: #f0f8ff;}div.sk-toggleable__content pre {margin: 0.2em;color: black;border-radius: 0.25em;background-color: #f0f8ff;}input.sk-toggleable__control:checked~div.sk-toggleable__content {max-height: 200px;max-width: 100%;overflow: auto;}div.sk-estimator input.sk-toggleable__control:checked~label.sk-toggleable__label {background-color: #d4ebff;}div.sk-label input.sk-toggleable__control:checked~label.sk-toggleable__label {background-color: #d4ebff;}input.sk-hidden--visually {border: 0;clip: rect(1px 1px 1px 1px);clip: rect(1px, 1px, 1px, 1px);height: 1px;margin: -1px;overflow: hidden;padding: 0;position: absolute;width: 1px;}div.sk-estimator {font-family: monospace;background-color: #f0f8ff;margin: 0.25em 0.25em;border: 1px dotted black;border-radius: 0.25em;box-sizing: border-box;}div.sk-estimator:hover {background-color: #d4ebff;}div.sk-parallel-item::after {content: \"\";width: 100%;border-bottom: 1px solid gray;flex-grow: 1;}div.sk-label:hover label.sk-toggleable__label {background-color: #d4ebff;}div.sk-serial::before {content: \"\";position: absolute;border-left: 1px solid gray;box-sizing: border-box;top: 2em;bottom: 0;left: 50%;}div.sk-serial {display: flex;flex-direction: column;align-items: center;background-color: white;}div.sk-item {z-index: 1;}div.sk-parallel {display: flex;align-items: stretch;justify-content: center;background-color: white;}div.sk-parallel-item {display: flex;flex-direction: column;position: relative;background-color: white;}div.sk-parallel-item:first-child::after {align-self: flex-end;width: 50%;}div.sk-parallel-item:last-child::after {align-self: flex-start;width: 50%;}div.sk-parallel-item:only-child::after {width: 0;}div.sk-dashed-wrapped {border: 1px dashed gray;margin: 0.2em;box-sizing: border-box;padding-bottom: 0.1em;background-color: white;position: relative;}div.sk-label label {font-family: monospace;font-weight: bold;background-color: white;display: inline-block;line-height: 1.2em;}div.sk-label-container {position: relative;z-index: 2;text-align: center;}div.sk-container {display: inline-block;position: relative;}</style><div class=\"sk-top-container\"><div class=\"sk-container\"><div class=\"sk-item sk-dashed-wrapped\"><div class=\"sk-label-container\"><div class=\"sk-label sk-toggleable\"><input class=\"sk-toggleable__control sk-hidden--visually\" id=\"fd963dfc-6bd9-4a3d-9cbb-6aace242ce60\" type=\"checkbox\" ><label class=\"sk-toggleable__label\" for=\"fd963dfc-6bd9-4a3d-9cbb-6aace242ce60\">ColumnTransformer</label><div class=\"sk-toggleable__content\"><pre>ColumnTransformer(remainder='passthrough', sparse_threshold=0,\n",
              "                  transformers=[('t_scaler_mm_1', MinMaxScaler(), [1]),\n",
              "                                ('t_scaler_mm_2',\n",
              "                                 MinMaxScaler(feature_range=(-0.5, 0.5)), [2]),\n",
              "                                ('t_one_hot', OneHotEncoder(drop='first'), [0]),\n",
              "                                ('t_one_hot_beat_pos',\n",
              "                                 OneHotEncoder(categories=[[1, 2, 3, 4, 5, 6, 7,\n",
              "                                                            8, 9, 10, 11, 12,\n",
              "                                                            13, 14, 15, 16]],\n",
              "                                               drop='first'),\n",
              "                                 [3])])</pre></div></div></div><div class=\"sk-parallel\"><div class=\"sk-parallel-item\"><div class=\"sk-item\"><div class=\"sk-label-container\"><div class=\"sk-label sk-toggleable\"><input class=\"sk-toggleable__control sk-hidden--visually\" id=\"f0e6e50e-756f-48e1-b49c-5fd1083826be\" type=\"checkbox\" ><label class=\"sk-toggleable__label\" for=\"f0e6e50e-756f-48e1-b49c-5fd1083826be\">t_scaler_mm_1</label><div class=\"sk-toggleable__content\"><pre>[1]</pre></div></div></div><div class=\"sk-serial\"><div class=\"sk-item\"><div class=\"sk-estimator sk-toggleable\"><input class=\"sk-toggleable__control sk-hidden--visually\" id=\"b2e4e488-7e70-44b9-9f0e-cfe6ba3b7389\" type=\"checkbox\" ><label class=\"sk-toggleable__label\" for=\"b2e4e488-7e70-44b9-9f0e-cfe6ba3b7389\">MinMaxScaler</label><div class=\"sk-toggleable__content\"><pre>MinMaxScaler()</pre></div></div></div></div></div></div><div class=\"sk-parallel-item\"><div class=\"sk-item\"><div class=\"sk-label-container\"><div class=\"sk-label sk-toggleable\"><input class=\"sk-toggleable__control sk-hidden--visually\" id=\"1c7706c6-e449-4e3c-9245-c69757eeae75\" type=\"checkbox\" ><label class=\"sk-toggleable__label\" for=\"1c7706c6-e449-4e3c-9245-c69757eeae75\">t_scaler_mm_2</label><div class=\"sk-toggleable__content\"><pre>[2]</pre></div></div></div><div class=\"sk-serial\"><div class=\"sk-item\"><div class=\"sk-estimator sk-toggleable\"><input class=\"sk-toggleable__control sk-hidden--visually\" id=\"9b6fe4b2-2a84-45dd-82e1-757381708ed8\" type=\"checkbox\" ><label class=\"sk-toggleable__label\" for=\"9b6fe4b2-2a84-45dd-82e1-757381708ed8\">MinMaxScaler</label><div class=\"sk-toggleable__content\"><pre>MinMaxScaler(feature_range=(-0.5, 0.5))</pre></div></div></div></div></div></div><div class=\"sk-parallel-item\"><div class=\"sk-item\"><div class=\"sk-label-container\"><div class=\"sk-label sk-toggleable\"><input class=\"sk-toggleable__control sk-hidden--visually\" id=\"a6581d0a-51d9-47b8-bbab-c617f75472aa\" type=\"checkbox\" ><label class=\"sk-toggleable__label\" for=\"a6581d0a-51d9-47b8-bbab-c617f75472aa\">t_one_hot</label><div class=\"sk-toggleable__content\"><pre>[0]</pre></div></div></div><div class=\"sk-serial\"><div class=\"sk-item\"><div class=\"sk-estimator sk-toggleable\"><input class=\"sk-toggleable__control sk-hidden--visually\" id=\"172fbcab-4caa-4d43-8d4c-bd396195de5b\" type=\"checkbox\" ><label class=\"sk-toggleable__label\" for=\"172fbcab-4caa-4d43-8d4c-bd396195de5b\">OneHotEncoder</label><div class=\"sk-toggleable__content\"><pre>OneHotEncoder(drop='first')</pre></div></div></div></div></div></div><div class=\"sk-parallel-item\"><div class=\"sk-item\"><div class=\"sk-label-container\"><div class=\"sk-label sk-toggleable\"><input class=\"sk-toggleable__control sk-hidden--visually\" id=\"7e79740e-42ba-400b-8385-9a03cc5922bc\" type=\"checkbox\" ><label class=\"sk-toggleable__label\" for=\"7e79740e-42ba-400b-8385-9a03cc5922bc\">t_one_hot_beat_pos</label><div class=\"sk-toggleable__content\"><pre>[3]</pre></div></div></div><div class=\"sk-serial\"><div class=\"sk-item\"><div class=\"sk-estimator sk-toggleable\"><input class=\"sk-toggleable__control sk-hidden--visually\" id=\"aa5d6b5d-240d-42eb-97c5-25d38d8ec509\" type=\"checkbox\" ><label class=\"sk-toggleable__label\" for=\"aa5d6b5d-240d-42eb-97c5-25d38d8ec509\">OneHotEncoder</label><div class=\"sk-toggleable__content\"><pre>OneHotEncoder(categories=[[1, 2, 3, 4, 5, 6, 7, 8, 9, 10, 11, 12, 13, 14, 15,\n",
              "                           16]],\n",
              "              drop='first')</pre></div></div></div></div></div></div></div></div></div></div>"
            ],
            "text/plain": [
              "ColumnTransformer(remainder='passthrough', sparse_threshold=0,\n",
              "                  transformers=[('t_scaler_mm_1', MinMaxScaler(), [1]),\n",
              "                                ('t_scaler_mm_2',\n",
              "                                 MinMaxScaler(feature_range=(-0.5, 0.5)), [2]),\n",
              "                                ('t_one_hot', OneHotEncoder(drop='first'), [0]),\n",
              "                                ('t_one_hot_beat_pos',\n",
              "                                 OneHotEncoder(categories=[[1, 2, 3, 4, 5, 6, 7,\n",
              "                                                            8, 9, 10, 11, 12,\n",
              "                                                            13, 14, 15, 16]],\n",
              "                                               drop='first'),\n",
              "                                 [3])])"
            ]
          },
          "metadata": {
            "tags": []
          },
          "execution_count": 24
        },
        {
          "output_type": "execute_result",
          "data": {
            "text/html": [
              "<style>div.sk-top-container {color: black;background-color: white;}div.sk-toggleable {background-color: white;}label.sk-toggleable__label {cursor: pointer;display: block;width: 100%;margin-bottom: 0;padding: 0.2em 0.3em;box-sizing: border-box;text-align: center;}div.sk-toggleable__content {max-height: 0;max-width: 0;overflow: hidden;text-align: left;background-color: #f0f8ff;}div.sk-toggleable__content pre {margin: 0.2em;color: black;border-radius: 0.25em;background-color: #f0f8ff;}input.sk-toggleable__control:checked~div.sk-toggleable__content {max-height: 200px;max-width: 100%;overflow: auto;}div.sk-estimator input.sk-toggleable__control:checked~label.sk-toggleable__label {background-color: #d4ebff;}div.sk-label input.sk-toggleable__control:checked~label.sk-toggleable__label {background-color: #d4ebff;}input.sk-hidden--visually {border: 0;clip: rect(1px 1px 1px 1px);clip: rect(1px, 1px, 1px, 1px);height: 1px;margin: -1px;overflow: hidden;padding: 0;position: absolute;width: 1px;}div.sk-estimator {font-family: monospace;background-color: #f0f8ff;margin: 0.25em 0.25em;border: 1px dotted black;border-radius: 0.25em;box-sizing: border-box;}div.sk-estimator:hover {background-color: #d4ebff;}div.sk-parallel-item::after {content: \"\";width: 100%;border-bottom: 1px solid gray;flex-grow: 1;}div.sk-label:hover label.sk-toggleable__label {background-color: #d4ebff;}div.sk-serial::before {content: \"\";position: absolute;border-left: 1px solid gray;box-sizing: border-box;top: 2em;bottom: 0;left: 50%;}div.sk-serial {display: flex;flex-direction: column;align-items: center;background-color: white;}div.sk-item {z-index: 1;}div.sk-parallel {display: flex;align-items: stretch;justify-content: center;background-color: white;}div.sk-parallel-item {display: flex;flex-direction: column;position: relative;background-color: white;}div.sk-parallel-item:first-child::after {align-self: flex-end;width: 50%;}div.sk-parallel-item:last-child::after {align-self: flex-start;width: 50%;}div.sk-parallel-item:only-child::after {width: 0;}div.sk-dashed-wrapped {border: 1px dashed gray;margin: 0.2em;box-sizing: border-box;padding-bottom: 0.1em;background-color: white;position: relative;}div.sk-label label {font-family: monospace;font-weight: bold;background-color: white;display: inline-block;line-height: 1.2em;}div.sk-label-container {position: relative;z-index: 2;text-align: center;}div.sk-container {display: inline-block;position: relative;}</style><div class=\"sk-top-container\"><div class=\"sk-container\"><div class=\"sk-item sk-dashed-wrapped\"><div class=\"sk-label-container\"><div class=\"sk-label sk-toggleable\"><input class=\"sk-toggleable__control sk-hidden--visually\" id=\"9163d557-21ef-46a1-b770-8f353c487d20\" type=\"checkbox\" ><label class=\"sk-toggleable__label\" for=\"9163d557-21ef-46a1-b770-8f353c487d20\">ColumnTransformer</label><div class=\"sk-toggleable__content\"><pre>ColumnTransformer(remainder='passthrough', sparse_threshold=0,\n",
              "                  transformers=[('t_scaler_mm_1', MinMaxScaler(), [1]),\n",
              "                                ('t_scaler_mm_2',\n",
              "                                 MinMaxScaler(feature_range=(-0.5, 0.5)), [2]),\n",
              "                                ('t_one_hot', OneHotEncoder(drop='first'),\n",
              "                                 [0])])</pre></div></div></div><div class=\"sk-parallel\"><div class=\"sk-parallel-item\"><div class=\"sk-item\"><div class=\"sk-label-container\"><div class=\"sk-label sk-toggleable\"><input class=\"sk-toggleable__control sk-hidden--visually\" id=\"90e7abc4-9c57-44ca-a321-2b21722e749c\" type=\"checkbox\" ><label class=\"sk-toggleable__label\" for=\"90e7abc4-9c57-44ca-a321-2b21722e749c\">t_scaler_mm_1</label><div class=\"sk-toggleable__content\"><pre>[1]</pre></div></div></div><div class=\"sk-serial\"><div class=\"sk-item\"><div class=\"sk-estimator sk-toggleable\"><input class=\"sk-toggleable__control sk-hidden--visually\" id=\"a7736e18-b37d-42c3-9e75-c3a7ebddb15c\" type=\"checkbox\" ><label class=\"sk-toggleable__label\" for=\"a7736e18-b37d-42c3-9e75-c3a7ebddb15c\">MinMaxScaler</label><div class=\"sk-toggleable__content\"><pre>MinMaxScaler()</pre></div></div></div></div></div></div><div class=\"sk-parallel-item\"><div class=\"sk-item\"><div class=\"sk-label-container\"><div class=\"sk-label sk-toggleable\"><input class=\"sk-toggleable__control sk-hidden--visually\" id=\"c743596f-bb7d-4815-974b-06929efd72bc\" type=\"checkbox\" ><label class=\"sk-toggleable__label\" for=\"c743596f-bb7d-4815-974b-06929efd72bc\">t_scaler_mm_2</label><div class=\"sk-toggleable__content\"><pre>[2]</pre></div></div></div><div class=\"sk-serial\"><div class=\"sk-item\"><div class=\"sk-estimator sk-toggleable\"><input class=\"sk-toggleable__control sk-hidden--visually\" id=\"1fb5d7e4-aa80-4893-8aa4-631f725a0efc\" type=\"checkbox\" ><label class=\"sk-toggleable__label\" for=\"1fb5d7e4-aa80-4893-8aa4-631f725a0efc\">MinMaxScaler</label><div class=\"sk-toggleable__content\"><pre>MinMaxScaler(feature_range=(-0.5, 0.5))</pre></div></div></div></div></div></div><div class=\"sk-parallel-item\"><div class=\"sk-item\"><div class=\"sk-label-container\"><div class=\"sk-label sk-toggleable\"><input class=\"sk-toggleable__control sk-hidden--visually\" id=\"12ab4e60-1b94-4ee6-8ef9-e024a13bb74a\" type=\"checkbox\" ><label class=\"sk-toggleable__label\" for=\"12ab4e60-1b94-4ee6-8ef9-e024a13bb74a\">t_one_hot</label><div class=\"sk-toggleable__content\"><pre>[0]</pre></div></div></div><div class=\"sk-serial\"><div class=\"sk-item\"><div class=\"sk-estimator sk-toggleable\"><input class=\"sk-toggleable__control sk-hidden--visually\" id=\"73ca2c43-8b39-4779-a1a2-89b95f1981b0\" type=\"checkbox\" ><label class=\"sk-toggleable__label\" for=\"73ca2c43-8b39-4779-a1a2-89b95f1981b0\">OneHotEncoder</label><div class=\"sk-toggleable__content\"><pre>OneHotEncoder(drop='first')</pre></div></div></div></div></div></div></div></div></div></div>"
            ],
            "text/plain": [
              "ColumnTransformer(remainder='passthrough', sparse_threshold=0,\n",
              "                  transformers=[('t_scaler_mm_1', MinMaxScaler(), [1]),\n",
              "                                ('t_scaler_mm_2',\n",
              "                                 MinMaxScaler(feature_range=(-0.5, 0.5)), [2]),\n",
              "                                ('t_one_hot', OneHotEncoder(drop='first'),\n",
              "                                 [0])])"
            ]
          },
          "metadata": {
            "tags": []
          },
          "execution_count": 24
        },
        {
          "output_type": "execute_result",
          "data": {
            "text/html": [
              "<style>div.sk-top-container {color: black;background-color: white;}div.sk-toggleable {background-color: white;}label.sk-toggleable__label {cursor: pointer;display: block;width: 100%;margin-bottom: 0;padding: 0.2em 0.3em;box-sizing: border-box;text-align: center;}div.sk-toggleable__content {max-height: 0;max-width: 0;overflow: hidden;text-align: left;background-color: #f0f8ff;}div.sk-toggleable__content pre {margin: 0.2em;color: black;border-radius: 0.25em;background-color: #f0f8ff;}input.sk-toggleable__control:checked~div.sk-toggleable__content {max-height: 200px;max-width: 100%;overflow: auto;}div.sk-estimator input.sk-toggleable__control:checked~label.sk-toggleable__label {background-color: #d4ebff;}div.sk-label input.sk-toggleable__control:checked~label.sk-toggleable__label {background-color: #d4ebff;}input.sk-hidden--visually {border: 0;clip: rect(1px 1px 1px 1px);clip: rect(1px, 1px, 1px, 1px);height: 1px;margin: -1px;overflow: hidden;padding: 0;position: absolute;width: 1px;}div.sk-estimator {font-family: monospace;background-color: #f0f8ff;margin: 0.25em 0.25em;border: 1px dotted black;border-radius: 0.25em;box-sizing: border-box;}div.sk-estimator:hover {background-color: #d4ebff;}div.sk-parallel-item::after {content: \"\";width: 100%;border-bottom: 1px solid gray;flex-grow: 1;}div.sk-label:hover label.sk-toggleable__label {background-color: #d4ebff;}div.sk-serial::before {content: \"\";position: absolute;border-left: 1px solid gray;box-sizing: border-box;top: 2em;bottom: 0;left: 50%;}div.sk-serial {display: flex;flex-direction: column;align-items: center;background-color: white;}div.sk-item {z-index: 1;}div.sk-parallel {display: flex;align-items: stretch;justify-content: center;background-color: white;}div.sk-parallel-item {display: flex;flex-direction: column;position: relative;background-color: white;}div.sk-parallel-item:first-child::after {align-self: flex-end;width: 50%;}div.sk-parallel-item:last-child::after {align-self: flex-start;width: 50%;}div.sk-parallel-item:only-child::after {width: 0;}div.sk-dashed-wrapped {border: 1px dashed gray;margin: 0.2em;box-sizing: border-box;padding-bottom: 0.1em;background-color: white;position: relative;}div.sk-label label {font-family: monospace;font-weight: bold;background-color: white;display: inline-block;line-height: 1.2em;}div.sk-label-container {position: relative;z-index: 2;text-align: center;}div.sk-container {display: inline-block;position: relative;}</style><div class=\"sk-top-container\"><div class=\"sk-container\"><div class=\"sk-item sk-dashed-wrapped\"><div class=\"sk-label-container\"><div class=\"sk-label sk-toggleable\"><input class=\"sk-toggleable__control sk-hidden--visually\" id=\"172a0983-082b-4cd4-9dc2-6cd88436f6b1\" type=\"checkbox\" ><label class=\"sk-toggleable__label\" for=\"172a0983-082b-4cd4-9dc2-6cd88436f6b1\">ColumnTransformer</label><div class=\"sk-toggleable__content\"><pre>ColumnTransformer(remainder='passthrough', sparse_threshold=0,\n",
              "                  transformers=[('t_scaler_mm_1', MinMaxScaler(), [1, 2]),\n",
              "                                ('t_one_hot', OneHotEncoder(drop='first'),\n",
              "                                 [0])])</pre></div></div></div><div class=\"sk-parallel\"><div class=\"sk-parallel-item\"><div class=\"sk-item\"><div class=\"sk-label-container\"><div class=\"sk-label sk-toggleable\"><input class=\"sk-toggleable__control sk-hidden--visually\" id=\"68e8f1d8-91d6-455a-b993-98b65c0a6d90\" type=\"checkbox\" ><label class=\"sk-toggleable__label\" for=\"68e8f1d8-91d6-455a-b993-98b65c0a6d90\">t_scaler_mm_1</label><div class=\"sk-toggleable__content\"><pre>[1, 2]</pre></div></div></div><div class=\"sk-serial\"><div class=\"sk-item\"><div class=\"sk-estimator sk-toggleable\"><input class=\"sk-toggleable__control sk-hidden--visually\" id=\"dedbf585-12ba-4ff6-89bf-8cd2e57a1aff\" type=\"checkbox\" ><label class=\"sk-toggleable__label\" for=\"dedbf585-12ba-4ff6-89bf-8cd2e57a1aff\">MinMaxScaler</label><div class=\"sk-toggleable__content\"><pre>MinMaxScaler()</pre></div></div></div></div></div></div><div class=\"sk-parallel-item\"><div class=\"sk-item\"><div class=\"sk-label-container\"><div class=\"sk-label sk-toggleable\"><input class=\"sk-toggleable__control sk-hidden--visually\" id=\"9d8d0446-c21f-48cb-9f50-f310e03f6c5b\" type=\"checkbox\" ><label class=\"sk-toggleable__label\" for=\"9d8d0446-c21f-48cb-9f50-f310e03f6c5b\">t_one_hot</label><div class=\"sk-toggleable__content\"><pre>[0]</pre></div></div></div><div class=\"sk-serial\"><div class=\"sk-item\"><div class=\"sk-estimator sk-toggleable\"><input class=\"sk-toggleable__control sk-hidden--visually\" id=\"09ef6008-aa28-42f3-b186-ca1f2e91b07a\" type=\"checkbox\" ><label class=\"sk-toggleable__label\" for=\"09ef6008-aa28-42f3-b186-ca1f2e91b07a\">OneHotEncoder</label><div class=\"sk-toggleable__content\"><pre>OneHotEncoder(drop='first')</pre></div></div></div></div></div></div></div></div></div></div>"
            ],
            "text/plain": [
              "ColumnTransformer(remainder='passthrough', sparse_threshold=0,\n",
              "                  transformers=[('t_scaler_mm_1', MinMaxScaler(), [1, 2]),\n",
              "                                ('t_one_hot', OneHotEncoder(drop='first'),\n",
              "                                 [0])])"
            ]
          },
          "metadata": {
            "tags": []
          },
          "execution_count": 24
        },
        {
          "output_type": "execute_result",
          "data": {
            "text/html": [
              "<style>div.sk-top-container {color: black;background-color: white;}div.sk-toggleable {background-color: white;}label.sk-toggleable__label {cursor: pointer;display: block;width: 100%;margin-bottom: 0;padding: 0.2em 0.3em;box-sizing: border-box;text-align: center;}div.sk-toggleable__content {max-height: 0;max-width: 0;overflow: hidden;text-align: left;background-color: #f0f8ff;}div.sk-toggleable__content pre {margin: 0.2em;color: black;border-radius: 0.25em;background-color: #f0f8ff;}input.sk-toggleable__control:checked~div.sk-toggleable__content {max-height: 200px;max-width: 100%;overflow: auto;}div.sk-estimator input.sk-toggleable__control:checked~label.sk-toggleable__label {background-color: #d4ebff;}div.sk-label input.sk-toggleable__control:checked~label.sk-toggleable__label {background-color: #d4ebff;}input.sk-hidden--visually {border: 0;clip: rect(1px 1px 1px 1px);clip: rect(1px, 1px, 1px, 1px);height: 1px;margin: -1px;overflow: hidden;padding: 0;position: absolute;width: 1px;}div.sk-estimator {font-family: monospace;background-color: #f0f8ff;margin: 0.25em 0.25em;border: 1px dotted black;border-radius: 0.25em;box-sizing: border-box;}div.sk-estimator:hover {background-color: #d4ebff;}div.sk-parallel-item::after {content: \"\";width: 100%;border-bottom: 1px solid gray;flex-grow: 1;}div.sk-label:hover label.sk-toggleable__label {background-color: #d4ebff;}div.sk-serial::before {content: \"\";position: absolute;border-left: 1px solid gray;box-sizing: border-box;top: 2em;bottom: 0;left: 50%;}div.sk-serial {display: flex;flex-direction: column;align-items: center;background-color: white;}div.sk-item {z-index: 1;}div.sk-parallel {display: flex;align-items: stretch;justify-content: center;background-color: white;}div.sk-parallel-item {display: flex;flex-direction: column;position: relative;background-color: white;}div.sk-parallel-item:first-child::after {align-self: flex-end;width: 50%;}div.sk-parallel-item:last-child::after {align-self: flex-start;width: 50%;}div.sk-parallel-item:only-child::after {width: 0;}div.sk-dashed-wrapped {border: 1px dashed gray;margin: 0.2em;box-sizing: border-box;padding-bottom: 0.1em;background-color: white;position: relative;}div.sk-label label {font-family: monospace;font-weight: bold;background-color: white;display: inline-block;line-height: 1.2em;}div.sk-label-container {position: relative;z-index: 2;text-align: center;}div.sk-container {display: inline-block;position: relative;}</style><div class=\"sk-top-container\"><div class=\"sk-container\"><div class=\"sk-item sk-dashed-wrapped\"><div class=\"sk-label-container\"><div class=\"sk-label sk-toggleable\"><input class=\"sk-toggleable__control sk-hidden--visually\" id=\"7a494e9d-ccc0-4682-a11d-f6b208147ee0\" type=\"checkbox\" ><label class=\"sk-toggleable__label\" for=\"7a494e9d-ccc0-4682-a11d-f6b208147ee0\">ColumnTransformer</label><div class=\"sk-toggleable__content\"><pre>ColumnTransformer(remainder='passthrough', sparse_threshold=0,\n",
              "                  transformers=[('t_scaler_std', StandardScaler(), [1, 2]),\n",
              "                                ('t_one_hot', OneHotEncoder(drop='first'), [0]),\n",
              "                                ('t_one_hot_beat_pos',\n",
              "                                 OneHotEncoder(categories=[[1, 2, 3, 4, 5, 6, 7,\n",
              "                                                            8, 9, 10, 11, 12,\n",
              "                                                            13, 14, 15, 16]],\n",
              "                                               drop='first'),\n",
              "                                 [3])])</pre></div></div></div><div class=\"sk-parallel\"><div class=\"sk-parallel-item\"><div class=\"sk-item\"><div class=\"sk-label-container\"><div class=\"sk-label sk-toggleable\"><input class=\"sk-toggleable__control sk-hidden--visually\" id=\"30a161ee-bf30-4bb9-bfa1-c1a1fe67b69f\" type=\"checkbox\" ><label class=\"sk-toggleable__label\" for=\"30a161ee-bf30-4bb9-bfa1-c1a1fe67b69f\">t_scaler_std</label><div class=\"sk-toggleable__content\"><pre>[1, 2]</pre></div></div></div><div class=\"sk-serial\"><div class=\"sk-item\"><div class=\"sk-estimator sk-toggleable\"><input class=\"sk-toggleable__control sk-hidden--visually\" id=\"60c75379-52bd-4383-a732-7cb5f017926c\" type=\"checkbox\" ><label class=\"sk-toggleable__label\" for=\"60c75379-52bd-4383-a732-7cb5f017926c\">StandardScaler</label><div class=\"sk-toggleable__content\"><pre>StandardScaler()</pre></div></div></div></div></div></div><div class=\"sk-parallel-item\"><div class=\"sk-item\"><div class=\"sk-label-container\"><div class=\"sk-label sk-toggleable\"><input class=\"sk-toggleable__control sk-hidden--visually\" id=\"cc064345-16ac-4dc1-9363-72b37efb5c48\" type=\"checkbox\" ><label class=\"sk-toggleable__label\" for=\"cc064345-16ac-4dc1-9363-72b37efb5c48\">t_one_hot</label><div class=\"sk-toggleable__content\"><pre>[0]</pre></div></div></div><div class=\"sk-serial\"><div class=\"sk-item\"><div class=\"sk-estimator sk-toggleable\"><input class=\"sk-toggleable__control sk-hidden--visually\" id=\"44395a58-5cbf-42af-8d00-5a80592a243a\" type=\"checkbox\" ><label class=\"sk-toggleable__label\" for=\"44395a58-5cbf-42af-8d00-5a80592a243a\">OneHotEncoder</label><div class=\"sk-toggleable__content\"><pre>OneHotEncoder(drop='first')</pre></div></div></div></div></div></div><div class=\"sk-parallel-item\"><div class=\"sk-item\"><div class=\"sk-label-container\"><div class=\"sk-label sk-toggleable\"><input class=\"sk-toggleable__control sk-hidden--visually\" id=\"0a0f1bca-db6d-442e-97d4-1974823662c9\" type=\"checkbox\" ><label class=\"sk-toggleable__label\" for=\"0a0f1bca-db6d-442e-97d4-1974823662c9\">t_one_hot_beat_pos</label><div class=\"sk-toggleable__content\"><pre>[3]</pre></div></div></div><div class=\"sk-serial\"><div class=\"sk-item\"><div class=\"sk-estimator sk-toggleable\"><input class=\"sk-toggleable__control sk-hidden--visually\" id=\"df04022c-2b05-44ec-9bc3-4c4c6bca15c6\" type=\"checkbox\" ><label class=\"sk-toggleable__label\" for=\"df04022c-2b05-44ec-9bc3-4c4c6bca15c6\">OneHotEncoder</label><div class=\"sk-toggleable__content\"><pre>OneHotEncoder(categories=[[1, 2, 3, 4, 5, 6, 7, 8, 9, 10, 11, 12, 13, 14, 15,\n",
              "                           16]],\n",
              "              drop='first')</pre></div></div></div></div></div></div></div></div></div></div>"
            ],
            "text/plain": [
              "ColumnTransformer(remainder='passthrough', sparse_threshold=0,\n",
              "                  transformers=[('t_scaler_std', StandardScaler(), [1, 2]),\n",
              "                                ('t_one_hot', OneHotEncoder(drop='first'), [0]),\n",
              "                                ('t_one_hot_beat_pos',\n",
              "                                 OneHotEncoder(categories=[[1, 2, 3, 4, 5, 6, 7,\n",
              "                                                            8, 9, 10, 11, 12,\n",
              "                                                            13, 14, 15, 16]],\n",
              "                                               drop='first'),\n",
              "                                 [3])])"
            ]
          },
          "metadata": {
            "tags": []
          },
          "execution_count": 24
        }
      ]
    },
    {
      "cell_type": "markdown",
      "metadata": {
        "id": "K3JlPpTjIlYg"
      },
      "source": [
        "## Sanity checking ..\n"
      ]
    },
    {
      "cell_type": "markdown",
      "metadata": {
        "id": "AMt3mRRkItZw"
      },
      "source": [
        "Try a transformer, peek at the outputs..."
      ]
    },
    {
      "cell_type": "code",
      "metadata": {
        "id": "Sm2Kwbjx-PU0"
      },
      "source": [
        "output1 = ct_v1.fit_transform(X)\n",
        "output2 = ct_v2.fit_transform(X)\n",
        "output3 = ct_v3.fit_transform(X)\n",
        "output4 = ct_v4.fit_transform(X)"
      ],
      "execution_count": 25,
      "outputs": []
    },
    {
      "cell_type": "code",
      "metadata": {
        "colab": {
          "base_uri": "https://localhost:8080/",
          "height": 222
        },
        "id": "Bay0kX4dzAX4",
        "outputId": "b355cbf3-e5d8-4406-f1ed-8070a60dfd5c"
      },
      "source": [
        "output1.shape\n",
        "pd.DataFrame(output1).head()"
      ],
      "execution_count": 26,
      "outputs": [
        {
          "output_type": "execute_result",
          "data": {
            "text/plain": [
              "(812, 19)"
            ]
          },
          "metadata": {
            "tags": []
          },
          "execution_count": 26
        },
        {
          "output_type": "execute_result",
          "data": {
            "text/html": [
              "<div>\n",
              "<style scoped>\n",
              "    .dataframe tbody tr th:only-of-type {\n",
              "        vertical-align: middle;\n",
              "    }\n",
              "\n",
              "    .dataframe tbody tr th {\n",
              "        vertical-align: top;\n",
              "    }\n",
              "\n",
              "    .dataframe thead th {\n",
              "        text-align: right;\n",
              "    }\n",
              "</style>\n",
              "<table border=\"1\" class=\"dataframe\">\n",
              "  <thead>\n",
              "    <tr style=\"text-align: right;\">\n",
              "      <th></th>\n",
              "      <th>0</th>\n",
              "      <th>1</th>\n",
              "      <th>2</th>\n",
              "      <th>3</th>\n",
              "      <th>4</th>\n",
              "      <th>5</th>\n",
              "      <th>6</th>\n",
              "      <th>7</th>\n",
              "      <th>8</th>\n",
              "      <th>9</th>\n",
              "      <th>10</th>\n",
              "      <th>11</th>\n",
              "      <th>12</th>\n",
              "      <th>13</th>\n",
              "      <th>14</th>\n",
              "      <th>15</th>\n",
              "      <th>16</th>\n",
              "      <th>17</th>\n",
              "      <th>18</th>\n",
              "    </tr>\n",
              "  </thead>\n",
              "  <tbody>\n",
              "    <tr>\n",
              "      <th>0</th>\n",
              "      <td>0.560976</td>\n",
              "      <td>-8.620690e-03</td>\n",
              "      <td>1.0</td>\n",
              "      <td>0.0</td>\n",
              "      <td>0.0</td>\n",
              "      <td>0.0</td>\n",
              "      <td>0.0</td>\n",
              "      <td>0.0</td>\n",
              "      <td>0.0</td>\n",
              "      <td>0.0</td>\n",
              "      <td>0.0</td>\n",
              "      <td>0.0</td>\n",
              "      <td>0.0</td>\n",
              "      <td>0.0</td>\n",
              "      <td>0.0</td>\n",
              "      <td>0.0</td>\n",
              "      <td>0.0</td>\n",
              "      <td>0.0</td>\n",
              "      <td>0.0</td>\n",
              "    </tr>\n",
              "    <tr>\n",
              "      <th>1</th>\n",
              "      <td>0.569106</td>\n",
              "      <td>-8.620690e-03</td>\n",
              "      <td>0.0</td>\n",
              "      <td>0.0</td>\n",
              "      <td>0.0</td>\n",
              "      <td>0.0</td>\n",
              "      <td>0.0</td>\n",
              "      <td>0.0</td>\n",
              "      <td>0.0</td>\n",
              "      <td>0.0</td>\n",
              "      <td>0.0</td>\n",
              "      <td>0.0</td>\n",
              "      <td>0.0</td>\n",
              "      <td>0.0</td>\n",
              "      <td>0.0</td>\n",
              "      <td>0.0</td>\n",
              "      <td>0.0</td>\n",
              "      <td>0.0</td>\n",
              "      <td>0.0</td>\n",
              "    </tr>\n",
              "    <tr>\n",
              "      <th>2</th>\n",
              "      <td>0.512195</td>\n",
              "      <td>-5.172414e-02</td>\n",
              "      <td>0.0</td>\n",
              "      <td>0.0</td>\n",
              "      <td>0.0</td>\n",
              "      <td>1.0</td>\n",
              "      <td>0.0</td>\n",
              "      <td>0.0</td>\n",
              "      <td>0.0</td>\n",
              "      <td>0.0</td>\n",
              "      <td>0.0</td>\n",
              "      <td>0.0</td>\n",
              "      <td>0.0</td>\n",
              "      <td>0.0</td>\n",
              "      <td>0.0</td>\n",
              "      <td>0.0</td>\n",
              "      <td>0.0</td>\n",
              "      <td>0.0</td>\n",
              "      <td>0.0</td>\n",
              "    </tr>\n",
              "    <tr>\n",
              "      <th>3</th>\n",
              "      <td>0.715447</td>\n",
              "      <td>-1.724138e-02</td>\n",
              "      <td>0.0</td>\n",
              "      <td>1.0</td>\n",
              "      <td>0.0</td>\n",
              "      <td>0.0</td>\n",
              "      <td>0.0</td>\n",
              "      <td>1.0</td>\n",
              "      <td>0.0</td>\n",
              "      <td>0.0</td>\n",
              "      <td>0.0</td>\n",
              "      <td>0.0</td>\n",
              "      <td>0.0</td>\n",
              "      <td>0.0</td>\n",
              "      <td>0.0</td>\n",
              "      <td>0.0</td>\n",
              "      <td>0.0</td>\n",
              "      <td>0.0</td>\n",
              "      <td>0.0</td>\n",
              "    </tr>\n",
              "    <tr>\n",
              "      <th>4</th>\n",
              "      <td>0.626016</td>\n",
              "      <td>-1.734723e-17</td>\n",
              "      <td>0.0</td>\n",
              "      <td>0.0</td>\n",
              "      <td>0.0</td>\n",
              "      <td>0.0</td>\n",
              "      <td>0.0</td>\n",
              "      <td>1.0</td>\n",
              "      <td>0.0</td>\n",
              "      <td>0.0</td>\n",
              "      <td>0.0</td>\n",
              "      <td>0.0</td>\n",
              "      <td>0.0</td>\n",
              "      <td>0.0</td>\n",
              "      <td>0.0</td>\n",
              "      <td>0.0</td>\n",
              "      <td>0.0</td>\n",
              "      <td>0.0</td>\n",
              "      <td>0.0</td>\n",
              "    </tr>\n",
              "  </tbody>\n",
              "</table>\n",
              "</div>"
            ],
            "text/plain": [
              "         0             1    2    3    4    5    6    7    8    9    10   11  \\\n",
              "0  0.560976 -8.620690e-03  1.0  0.0  0.0  0.0  0.0  0.0  0.0  0.0  0.0  0.0   \n",
              "1  0.569106 -8.620690e-03  0.0  0.0  0.0  0.0  0.0  0.0  0.0  0.0  0.0  0.0   \n",
              "2  0.512195 -5.172414e-02  0.0  0.0  0.0  1.0  0.0  0.0  0.0  0.0  0.0  0.0   \n",
              "3  0.715447 -1.724138e-02  0.0  1.0  0.0  0.0  0.0  1.0  0.0  0.0  0.0  0.0   \n",
              "4  0.626016 -1.734723e-17  0.0  0.0  0.0  0.0  0.0  1.0  0.0  0.0  0.0  0.0   \n",
              "\n",
              "    12   13   14   15   16   17   18  \n",
              "0  0.0  0.0  0.0  0.0  0.0  0.0  0.0  \n",
              "1  0.0  0.0  0.0  0.0  0.0  0.0  0.0  \n",
              "2  0.0  0.0  0.0  0.0  0.0  0.0  0.0  \n",
              "3  0.0  0.0  0.0  0.0  0.0  0.0  0.0  \n",
              "4  0.0  0.0  0.0  0.0  0.0  0.0  0.0  "
            ]
          },
          "metadata": {
            "tags": []
          },
          "execution_count": 26
        }
      ]
    },
    {
      "cell_type": "code",
      "metadata": {
        "colab": {
          "base_uri": "https://localhost:8080/",
          "height": 409
        },
        "id": "YgwkxqUzNRr5",
        "outputId": "93815dcd-3a3a-4379-ddab-6eb35e48f4b1"
      },
      "source": [
        "output2.shape\n",
        "tmp_df = pd.DataFrame(output2)\n",
        "tmp_df.head()\n",
        "tmp_df.corr()\n"
      ],
      "execution_count": 27,
      "outputs": [
        {
          "output_type": "execute_result",
          "data": {
            "text/plain": [
              "(812, 5)"
            ]
          },
          "metadata": {
            "tags": []
          },
          "execution_count": 27
        },
        {
          "output_type": "execute_result",
          "data": {
            "text/html": [
              "<div>\n",
              "<style scoped>\n",
              "    .dataframe tbody tr th:only-of-type {\n",
              "        vertical-align: middle;\n",
              "    }\n",
              "\n",
              "    .dataframe tbody tr th {\n",
              "        vertical-align: top;\n",
              "    }\n",
              "\n",
              "    .dataframe thead th {\n",
              "        text-align: right;\n",
              "    }\n",
              "</style>\n",
              "<table border=\"1\" class=\"dataframe\">\n",
              "  <thead>\n",
              "    <tr style=\"text-align: right;\">\n",
              "      <th></th>\n",
              "      <th>0</th>\n",
              "      <th>1</th>\n",
              "      <th>2</th>\n",
              "      <th>3</th>\n",
              "      <th>4</th>\n",
              "    </tr>\n",
              "  </thead>\n",
              "  <tbody>\n",
              "    <tr>\n",
              "      <th>0</th>\n",
              "      <td>0.560976</td>\n",
              "      <td>-8.620690e-03</td>\n",
              "      <td>1.0</td>\n",
              "      <td>0.0</td>\n",
              "      <td>1.0</td>\n",
              "    </tr>\n",
              "    <tr>\n",
              "      <th>1</th>\n",
              "      <td>0.569106</td>\n",
              "      <td>-8.620690e-03</td>\n",
              "      <td>0.0</td>\n",
              "      <td>0.0</td>\n",
              "      <td>1.0</td>\n",
              "    </tr>\n",
              "    <tr>\n",
              "      <th>2</th>\n",
              "      <td>0.512195</td>\n",
              "      <td>-5.172414e-02</td>\n",
              "      <td>0.0</td>\n",
              "      <td>0.0</td>\n",
              "      <td>3.0</td>\n",
              "    </tr>\n",
              "    <tr>\n",
              "      <th>3</th>\n",
              "      <td>0.715447</td>\n",
              "      <td>-1.724138e-02</td>\n",
              "      <td>0.0</td>\n",
              "      <td>1.0</td>\n",
              "      <td>5.0</td>\n",
              "    </tr>\n",
              "    <tr>\n",
              "      <th>4</th>\n",
              "      <td>0.626016</td>\n",
              "      <td>-1.734723e-17</td>\n",
              "      <td>0.0</td>\n",
              "      <td>0.0</td>\n",
              "      <td>5.0</td>\n",
              "    </tr>\n",
              "  </tbody>\n",
              "</table>\n",
              "</div>"
            ],
            "text/plain": [
              "          0             1    2    3    4\n",
              "0  0.560976 -8.620690e-03  1.0  0.0  1.0\n",
              "1  0.569106 -8.620690e-03  0.0  0.0  1.0\n",
              "2  0.512195 -5.172414e-02  0.0  0.0  3.0\n",
              "3  0.715447 -1.724138e-02  0.0  1.0  5.0\n",
              "4  0.626016 -1.734723e-17  0.0  0.0  5.0"
            ]
          },
          "metadata": {
            "tags": []
          },
          "execution_count": 27
        },
        {
          "output_type": "execute_result",
          "data": {
            "text/html": [
              "<div>\n",
              "<style scoped>\n",
              "    .dataframe tbody tr th:only-of-type {\n",
              "        vertical-align: middle;\n",
              "    }\n",
              "\n",
              "    .dataframe tbody tr th {\n",
              "        vertical-align: top;\n",
              "    }\n",
              "\n",
              "    .dataframe thead th {\n",
              "        text-align: right;\n",
              "    }\n",
              "</style>\n",
              "<table border=\"1\" class=\"dataframe\">\n",
              "  <thead>\n",
              "    <tr style=\"text-align: right;\">\n",
              "      <th></th>\n",
              "      <th>0</th>\n",
              "      <th>1</th>\n",
              "      <th>2</th>\n",
              "      <th>3</th>\n",
              "      <th>4</th>\n",
              "    </tr>\n",
              "  </thead>\n",
              "  <tbody>\n",
              "    <tr>\n",
              "      <th>0</th>\n",
              "      <td>1.000000</td>\n",
              "      <td>-0.084157</td>\n",
              "      <td>-0.369672</td>\n",
              "      <td>0.289012</td>\n",
              "      <td>0.143209</td>\n",
              "    </tr>\n",
              "    <tr>\n",
              "      <th>1</th>\n",
              "      <td>-0.084157</td>\n",
              "      <td>1.000000</td>\n",
              "      <td>0.017276</td>\n",
              "      <td>-0.087623</td>\n",
              "      <td>-0.067013</td>\n",
              "    </tr>\n",
              "    <tr>\n",
              "      <th>2</th>\n",
              "      <td>-0.369672</td>\n",
              "      <td>0.017276</td>\n",
              "      <td>1.000000</td>\n",
              "      <td>-0.204123</td>\n",
              "      <td>-0.299773</td>\n",
              "    </tr>\n",
              "    <tr>\n",
              "      <th>3</th>\n",
              "      <td>0.289012</td>\n",
              "      <td>-0.087623</td>\n",
              "      <td>-0.204123</td>\n",
              "      <td>1.000000</td>\n",
              "      <td>0.075212</td>\n",
              "    </tr>\n",
              "    <tr>\n",
              "      <th>4</th>\n",
              "      <td>0.143209</td>\n",
              "      <td>-0.067013</td>\n",
              "      <td>-0.299773</td>\n",
              "      <td>0.075212</td>\n",
              "      <td>1.000000</td>\n",
              "    </tr>\n",
              "  </tbody>\n",
              "</table>\n",
              "</div>"
            ],
            "text/plain": [
              "          0         1         2         3         4\n",
              "0  1.000000 -0.084157 -0.369672  0.289012  0.143209\n",
              "1 -0.084157  1.000000  0.017276 -0.087623 -0.067013\n",
              "2 -0.369672  0.017276  1.000000 -0.204123 -0.299773\n",
              "3  0.289012 -0.087623 -0.204123  1.000000  0.075212\n",
              "4  0.143209 -0.067013 -0.299773  0.075212  1.000000"
            ]
          },
          "metadata": {
            "tags": []
          },
          "execution_count": 27
        }
      ]
    },
    {
      "cell_type": "code",
      "metadata": {
        "colab": {
          "base_uri": "https://localhost:8080/",
          "height": 409
        },
        "id": "W_pV4i3aQjKw",
        "outputId": "1cfe3925-a5c5-4a7c-a9df-650d5a70606a"
      },
      "source": [
        "output3.shape\n",
        "tmp_df = pd.DataFrame(output3)\n",
        "tmp_df.head()\n",
        "tmp_df.corr()"
      ],
      "execution_count": 28,
      "outputs": [
        {
          "output_type": "execute_result",
          "data": {
            "text/plain": [
              "(812, 5)"
            ]
          },
          "metadata": {
            "tags": []
          },
          "execution_count": 28
        },
        {
          "output_type": "execute_result",
          "data": {
            "text/html": [
              "<div>\n",
              "<style scoped>\n",
              "    .dataframe tbody tr th:only-of-type {\n",
              "        vertical-align: middle;\n",
              "    }\n",
              "\n",
              "    .dataframe tbody tr th {\n",
              "        vertical-align: top;\n",
              "    }\n",
              "\n",
              "    .dataframe thead th {\n",
              "        text-align: right;\n",
              "    }\n",
              "</style>\n",
              "<table border=\"1\" class=\"dataframe\">\n",
              "  <thead>\n",
              "    <tr style=\"text-align: right;\">\n",
              "      <th></th>\n",
              "      <th>0</th>\n",
              "      <th>1</th>\n",
              "      <th>2</th>\n",
              "      <th>3</th>\n",
              "      <th>4</th>\n",
              "    </tr>\n",
              "  </thead>\n",
              "  <tbody>\n",
              "    <tr>\n",
              "      <th>0</th>\n",
              "      <td>0.560976</td>\n",
              "      <td>0.491379</td>\n",
              "      <td>1.0</td>\n",
              "      <td>0.0</td>\n",
              "      <td>1.0</td>\n",
              "    </tr>\n",
              "    <tr>\n",
              "      <th>1</th>\n",
              "      <td>0.569106</td>\n",
              "      <td>0.491379</td>\n",
              "      <td>0.0</td>\n",
              "      <td>0.0</td>\n",
              "      <td>1.0</td>\n",
              "    </tr>\n",
              "    <tr>\n",
              "      <th>2</th>\n",
              "      <td>0.512195</td>\n",
              "      <td>0.448276</td>\n",
              "      <td>0.0</td>\n",
              "      <td>0.0</td>\n",
              "      <td>3.0</td>\n",
              "    </tr>\n",
              "    <tr>\n",
              "      <th>3</th>\n",
              "      <td>0.715447</td>\n",
              "      <td>0.482759</td>\n",
              "      <td>0.0</td>\n",
              "      <td>1.0</td>\n",
              "      <td>5.0</td>\n",
              "    </tr>\n",
              "    <tr>\n",
              "      <th>4</th>\n",
              "      <td>0.626016</td>\n",
              "      <td>0.500000</td>\n",
              "      <td>0.0</td>\n",
              "      <td>0.0</td>\n",
              "      <td>5.0</td>\n",
              "    </tr>\n",
              "  </tbody>\n",
              "</table>\n",
              "</div>"
            ],
            "text/plain": [
              "          0         1    2    3    4\n",
              "0  0.560976  0.491379  1.0  0.0  1.0\n",
              "1  0.569106  0.491379  0.0  0.0  1.0\n",
              "2  0.512195  0.448276  0.0  0.0  3.0\n",
              "3  0.715447  0.482759  0.0  1.0  5.0\n",
              "4  0.626016  0.500000  0.0  0.0  5.0"
            ]
          },
          "metadata": {
            "tags": []
          },
          "execution_count": 28
        },
        {
          "output_type": "execute_result",
          "data": {
            "text/html": [
              "<div>\n",
              "<style scoped>\n",
              "    .dataframe tbody tr th:only-of-type {\n",
              "        vertical-align: middle;\n",
              "    }\n",
              "\n",
              "    .dataframe tbody tr th {\n",
              "        vertical-align: top;\n",
              "    }\n",
              "\n",
              "    .dataframe thead th {\n",
              "        text-align: right;\n",
              "    }\n",
              "</style>\n",
              "<table border=\"1\" class=\"dataframe\">\n",
              "  <thead>\n",
              "    <tr style=\"text-align: right;\">\n",
              "      <th></th>\n",
              "      <th>0</th>\n",
              "      <th>1</th>\n",
              "      <th>2</th>\n",
              "      <th>3</th>\n",
              "      <th>4</th>\n",
              "    </tr>\n",
              "  </thead>\n",
              "  <tbody>\n",
              "    <tr>\n",
              "      <th>0</th>\n",
              "      <td>1.000000</td>\n",
              "      <td>-0.084157</td>\n",
              "      <td>-0.369672</td>\n",
              "      <td>0.289012</td>\n",
              "      <td>0.143209</td>\n",
              "    </tr>\n",
              "    <tr>\n",
              "      <th>1</th>\n",
              "      <td>-0.084157</td>\n",
              "      <td>1.000000</td>\n",
              "      <td>0.017276</td>\n",
              "      <td>-0.087623</td>\n",
              "      <td>-0.067013</td>\n",
              "    </tr>\n",
              "    <tr>\n",
              "      <th>2</th>\n",
              "      <td>-0.369672</td>\n",
              "      <td>0.017276</td>\n",
              "      <td>1.000000</td>\n",
              "      <td>-0.204123</td>\n",
              "      <td>-0.299773</td>\n",
              "    </tr>\n",
              "    <tr>\n",
              "      <th>3</th>\n",
              "      <td>0.289012</td>\n",
              "      <td>-0.087623</td>\n",
              "      <td>-0.204123</td>\n",
              "      <td>1.000000</td>\n",
              "      <td>0.075212</td>\n",
              "    </tr>\n",
              "    <tr>\n",
              "      <th>4</th>\n",
              "      <td>0.143209</td>\n",
              "      <td>-0.067013</td>\n",
              "      <td>-0.299773</td>\n",
              "      <td>0.075212</td>\n",
              "      <td>1.000000</td>\n",
              "    </tr>\n",
              "  </tbody>\n",
              "</table>\n",
              "</div>"
            ],
            "text/plain": [
              "          0         1         2         3         4\n",
              "0  1.000000 -0.084157 -0.369672  0.289012  0.143209\n",
              "1 -0.084157  1.000000  0.017276 -0.087623 -0.067013\n",
              "2 -0.369672  0.017276  1.000000 -0.204123 -0.299773\n",
              "3  0.289012 -0.087623 -0.204123  1.000000  0.075212\n",
              "4  0.143209 -0.067013 -0.299773  0.075212  1.000000"
            ]
          },
          "metadata": {
            "tags": []
          },
          "execution_count": 28
        }
      ]
    },
    {
      "cell_type": "code",
      "metadata": {
        "colab": {
          "base_uri": "https://localhost:8080/",
          "height": 863
        },
        "id": "Rqc_UWJVg6bA",
        "outputId": "46704f15-5bf6-4293-9fc1-d127d8703ff5"
      },
      "source": [
        "output4.shape\n",
        "tmp_df = pd.DataFrame(output4)\n",
        "tmp_df.head()\n",
        "tmp_df.corr()"
      ],
      "execution_count": 29,
      "outputs": [
        {
          "output_type": "execute_result",
          "data": {
            "text/plain": [
              "(812, 19)"
            ]
          },
          "metadata": {
            "tags": []
          },
          "execution_count": 29
        },
        {
          "output_type": "execute_result",
          "data": {
            "text/html": [
              "<div>\n",
              "<style scoped>\n",
              "    .dataframe tbody tr th:only-of-type {\n",
              "        vertical-align: middle;\n",
              "    }\n",
              "\n",
              "    .dataframe tbody tr th {\n",
              "        vertical-align: top;\n",
              "    }\n",
              "\n",
              "    .dataframe thead th {\n",
              "        text-align: right;\n",
              "    }\n",
              "</style>\n",
              "<table border=\"1\" class=\"dataframe\">\n",
              "  <thead>\n",
              "    <tr style=\"text-align: right;\">\n",
              "      <th></th>\n",
              "      <th>0</th>\n",
              "      <th>1</th>\n",
              "      <th>2</th>\n",
              "      <th>3</th>\n",
              "      <th>4</th>\n",
              "      <th>5</th>\n",
              "      <th>6</th>\n",
              "      <th>7</th>\n",
              "      <th>8</th>\n",
              "      <th>9</th>\n",
              "      <th>10</th>\n",
              "      <th>11</th>\n",
              "      <th>12</th>\n",
              "      <th>13</th>\n",
              "      <th>14</th>\n",
              "      <th>15</th>\n",
              "      <th>16</th>\n",
              "      <th>17</th>\n",
              "      <th>18</th>\n",
              "    </tr>\n",
              "  </thead>\n",
              "  <tbody>\n",
              "    <tr>\n",
              "      <th>0</th>\n",
              "      <td>-0.171554</td>\n",
              "      <td>0.316472</td>\n",
              "      <td>1.0</td>\n",
              "      <td>0.0</td>\n",
              "      <td>0.0</td>\n",
              "      <td>0.0</td>\n",
              "      <td>0.0</td>\n",
              "      <td>0.0</td>\n",
              "      <td>0.0</td>\n",
              "      <td>0.0</td>\n",
              "      <td>0.0</td>\n",
              "      <td>0.0</td>\n",
              "      <td>0.0</td>\n",
              "      <td>0.0</td>\n",
              "      <td>0.0</td>\n",
              "      <td>0.0</td>\n",
              "      <td>0.0</td>\n",
              "      <td>0.0</td>\n",
              "      <td>0.0</td>\n",
              "    </tr>\n",
              "    <tr>\n",
              "      <th>1</th>\n",
              "      <td>-0.136642</td>\n",
              "      <td>0.316472</td>\n",
              "      <td>0.0</td>\n",
              "      <td>0.0</td>\n",
              "      <td>0.0</td>\n",
              "      <td>0.0</td>\n",
              "      <td>0.0</td>\n",
              "      <td>0.0</td>\n",
              "      <td>0.0</td>\n",
              "      <td>0.0</td>\n",
              "      <td>0.0</td>\n",
              "      <td>0.0</td>\n",
              "      <td>0.0</td>\n",
              "      <td>0.0</td>\n",
              "      <td>0.0</td>\n",
              "      <td>0.0</td>\n",
              "      <td>0.0</td>\n",
              "      <td>0.0</td>\n",
              "      <td>0.0</td>\n",
              "    </tr>\n",
              "    <tr>\n",
              "      <th>2</th>\n",
              "      <td>-0.381031</td>\n",
              "      <td>-0.142904</td>\n",
              "      <td>0.0</td>\n",
              "      <td>0.0</td>\n",
              "      <td>0.0</td>\n",
              "      <td>1.0</td>\n",
              "      <td>0.0</td>\n",
              "      <td>0.0</td>\n",
              "      <td>0.0</td>\n",
              "      <td>0.0</td>\n",
              "      <td>0.0</td>\n",
              "      <td>0.0</td>\n",
              "      <td>0.0</td>\n",
              "      <td>0.0</td>\n",
              "      <td>0.0</td>\n",
              "      <td>0.0</td>\n",
              "      <td>0.0</td>\n",
              "      <td>0.0</td>\n",
              "      <td>0.0</td>\n",
              "    </tr>\n",
              "    <tr>\n",
              "      <th>3</th>\n",
              "      <td>0.491789</td>\n",
              "      <td>0.224596</td>\n",
              "      <td>0.0</td>\n",
              "      <td>1.0</td>\n",
              "      <td>0.0</td>\n",
              "      <td>0.0</td>\n",
              "      <td>0.0</td>\n",
              "      <td>1.0</td>\n",
              "      <td>0.0</td>\n",
              "      <td>0.0</td>\n",
              "      <td>0.0</td>\n",
              "      <td>0.0</td>\n",
              "      <td>0.0</td>\n",
              "      <td>0.0</td>\n",
              "      <td>0.0</td>\n",
              "      <td>0.0</td>\n",
              "      <td>0.0</td>\n",
              "      <td>0.0</td>\n",
              "      <td>0.0</td>\n",
              "    </tr>\n",
              "    <tr>\n",
              "      <th>4</th>\n",
              "      <td>0.107748</td>\n",
              "      <td>0.408347</td>\n",
              "      <td>0.0</td>\n",
              "      <td>0.0</td>\n",
              "      <td>0.0</td>\n",
              "      <td>0.0</td>\n",
              "      <td>0.0</td>\n",
              "      <td>1.0</td>\n",
              "      <td>0.0</td>\n",
              "      <td>0.0</td>\n",
              "      <td>0.0</td>\n",
              "      <td>0.0</td>\n",
              "      <td>0.0</td>\n",
              "      <td>0.0</td>\n",
              "      <td>0.0</td>\n",
              "      <td>0.0</td>\n",
              "      <td>0.0</td>\n",
              "      <td>0.0</td>\n",
              "      <td>0.0</td>\n",
              "    </tr>\n",
              "  </tbody>\n",
              "</table>\n",
              "</div>"
            ],
            "text/plain": [
              "         0         1    2    3    4    5    6    7    8    9    10   11   12  \\\n",
              "0 -0.171554  0.316472  1.0  0.0  0.0  0.0  0.0  0.0  0.0  0.0  0.0  0.0  0.0   \n",
              "1 -0.136642  0.316472  0.0  0.0  0.0  0.0  0.0  0.0  0.0  0.0  0.0  0.0  0.0   \n",
              "2 -0.381031 -0.142904  0.0  0.0  0.0  1.0  0.0  0.0  0.0  0.0  0.0  0.0  0.0   \n",
              "3  0.491789  0.224596  0.0  1.0  0.0  0.0  0.0  1.0  0.0  0.0  0.0  0.0  0.0   \n",
              "4  0.107748  0.408347  0.0  0.0  0.0  0.0  0.0  1.0  0.0  0.0  0.0  0.0  0.0   \n",
              "\n",
              "    13   14   15   16   17   18  \n",
              "0  0.0  0.0  0.0  0.0  0.0  0.0  \n",
              "1  0.0  0.0  0.0  0.0  0.0  0.0  \n",
              "2  0.0  0.0  0.0  0.0  0.0  0.0  \n",
              "3  0.0  0.0  0.0  0.0  0.0  0.0  \n",
              "4  0.0  0.0  0.0  0.0  0.0  0.0  "
            ]
          },
          "metadata": {
            "tags": []
          },
          "execution_count": 29
        },
        {
          "output_type": "execute_result",
          "data": {
            "text/html": [
              "<div>\n",
              "<style scoped>\n",
              "    .dataframe tbody tr th:only-of-type {\n",
              "        vertical-align: middle;\n",
              "    }\n",
              "\n",
              "    .dataframe tbody tr th {\n",
              "        vertical-align: top;\n",
              "    }\n",
              "\n",
              "    .dataframe thead th {\n",
              "        text-align: right;\n",
              "    }\n",
              "</style>\n",
              "<table border=\"1\" class=\"dataframe\">\n",
              "  <thead>\n",
              "    <tr style=\"text-align: right;\">\n",
              "      <th></th>\n",
              "      <th>0</th>\n",
              "      <th>1</th>\n",
              "      <th>2</th>\n",
              "      <th>3</th>\n",
              "      <th>4</th>\n",
              "      <th>5</th>\n",
              "      <th>6</th>\n",
              "      <th>7</th>\n",
              "      <th>8</th>\n",
              "      <th>9</th>\n",
              "      <th>10</th>\n",
              "      <th>11</th>\n",
              "      <th>12</th>\n",
              "      <th>13</th>\n",
              "      <th>14</th>\n",
              "      <th>15</th>\n",
              "      <th>16</th>\n",
              "      <th>17</th>\n",
              "      <th>18</th>\n",
              "    </tr>\n",
              "  </thead>\n",
              "  <tbody>\n",
              "    <tr>\n",
              "      <th>0</th>\n",
              "      <td>1.000000</td>\n",
              "      <td>-0.084157</td>\n",
              "      <td>-0.369672</td>\n",
              "      <td>0.289012</td>\n",
              "      <td>-0.084485</td>\n",
              "      <td>-0.033320</td>\n",
              "      <td>0.008532</td>\n",
              "      <td>0.324429</td>\n",
              "      <td>-0.153931</td>\n",
              "      <td>-0.095444</td>\n",
              "      <td>0.039336</td>\n",
              "      <td>-0.291287</td>\n",
              "      <td>-0.288415</td>\n",
              "      <td>0.098676</td>\n",
              "      <td>0.015066</td>\n",
              "      <td>0.303122</td>\n",
              "      <td>-0.110012</td>\n",
              "      <td>0.117025</td>\n",
              "      <td>-0.037278</td>\n",
              "    </tr>\n",
              "    <tr>\n",
              "      <th>1</th>\n",
              "      <td>-0.084157</td>\n",
              "      <td>1.000000</td>\n",
              "      <td>0.017276</td>\n",
              "      <td>-0.087623</td>\n",
              "      <td>0.027244</td>\n",
              "      <td>-0.012836</td>\n",
              "      <td>-0.069166</td>\n",
              "      <td>0.065069</td>\n",
              "      <td>-0.187823</td>\n",
              "      <td>0.128794</td>\n",
              "      <td>0.079554</td>\n",
              "      <td>0.050160</td>\n",
              "      <td>0.053519</td>\n",
              "      <td>-0.067083</td>\n",
              "      <td>-0.034811</td>\n",
              "      <td>-0.113302</td>\n",
              "      <td>0.059096</td>\n",
              "      <td>-0.067171</td>\n",
              "      <td>-0.008980</td>\n",
              "    </tr>\n",
              "    <tr>\n",
              "      <th>2</th>\n",
              "      <td>-0.369672</td>\n",
              "      <td>0.017276</td>\n",
              "      <td>1.000000</td>\n",
              "      <td>-0.204123</td>\n",
              "      <td>-0.015120</td>\n",
              "      <td>-0.129127</td>\n",
              "      <td>-0.045585</td>\n",
              "      <td>-0.157665</td>\n",
              "      <td>-0.030296</td>\n",
              "      <td>-0.127014</td>\n",
              "      <td>-0.125949</td>\n",
              "      <td>0.679333</td>\n",
              "      <td>-0.125949</td>\n",
              "      <td>-0.131216</td>\n",
              "      <td>-0.026221</td>\n",
              "      <td>-0.157665</td>\n",
              "      <td>-0.021396</td>\n",
              "      <td>-0.127014</td>\n",
              "      <td>-0.094082</td>\n",
              "    </tr>\n",
              "    <tr>\n",
              "      <th>3</th>\n",
              "      <td>0.289012</td>\n",
              "      <td>-0.087623</td>\n",
              "      <td>-0.204123</td>\n",
              "      <td>1.000000</td>\n",
              "      <td>0.074072</td>\n",
              "      <td>-0.107475</td>\n",
              "      <td>-0.050188</td>\n",
              "      <td>0.457072</td>\n",
              "      <td>0.148418</td>\n",
              "      <td>-0.128116</td>\n",
              "      <td>-0.138668</td>\n",
              "      <td>-0.138668</td>\n",
              "      <td>-0.091437</td>\n",
              "      <td>-0.087416</td>\n",
              "      <td>-0.028868</td>\n",
              "      <td>0.457072</td>\n",
              "      <td>0.104818</td>\n",
              "      <td>-0.128116</td>\n",
              "      <td>-0.103582</td>\n",
              "    </tr>\n",
              "    <tr>\n",
              "      <th>4</th>\n",
              "      <td>-0.084485</td>\n",
              "      <td>0.027244</td>\n",
              "      <td>-0.015120</td>\n",
              "      <td>0.074072</td>\n",
              "      <td>1.000000</td>\n",
              "      <td>-0.010530</td>\n",
              "      <td>-0.003718</td>\n",
              "      <td>-0.012858</td>\n",
              "      <td>-0.002471</td>\n",
              "      <td>-0.010358</td>\n",
              "      <td>-0.010271</td>\n",
              "      <td>-0.010271</td>\n",
              "      <td>-0.010271</td>\n",
              "      <td>-0.010701</td>\n",
              "      <td>-0.002138</td>\n",
              "      <td>-0.012858</td>\n",
              "      <td>-0.001745</td>\n",
              "      <td>-0.010358</td>\n",
              "      <td>-0.007673</td>\n",
              "    </tr>\n",
              "    <tr>\n",
              "      <th>5</th>\n",
              "      <td>-0.033320</td>\n",
              "      <td>-0.012836</td>\n",
              "      <td>-0.129127</td>\n",
              "      <td>-0.107475</td>\n",
              "      <td>-0.010530</td>\n",
              "      <td>1.000000</td>\n",
              "      <td>-0.031748</td>\n",
              "      <td>-0.109809</td>\n",
              "      <td>-0.021100</td>\n",
              "      <td>-0.088462</td>\n",
              "      <td>-0.087720</td>\n",
              "      <td>-0.087720</td>\n",
              "      <td>-0.087720</td>\n",
              "      <td>-0.091388</td>\n",
              "      <td>-0.018262</td>\n",
              "      <td>-0.109809</td>\n",
              "      <td>-0.014902</td>\n",
              "      <td>-0.088462</td>\n",
              "      <td>-0.065525</td>\n",
              "    </tr>\n",
              "    <tr>\n",
              "      <th>6</th>\n",
              "      <td>0.008532</td>\n",
              "      <td>-0.069166</td>\n",
              "      <td>-0.045585</td>\n",
              "      <td>-0.050188</td>\n",
              "      <td>-0.003718</td>\n",
              "      <td>-0.031748</td>\n",
              "      <td>1.000000</td>\n",
              "      <td>-0.038765</td>\n",
              "      <td>-0.007449</td>\n",
              "      <td>-0.031229</td>\n",
              "      <td>-0.030967</td>\n",
              "      <td>-0.030967</td>\n",
              "      <td>-0.030967</td>\n",
              "      <td>-0.032262</td>\n",
              "      <td>-0.006447</td>\n",
              "      <td>-0.038765</td>\n",
              "      <td>-0.005261</td>\n",
              "      <td>-0.031229</td>\n",
              "      <td>-0.023132</td>\n",
              "    </tr>\n",
              "    <tr>\n",
              "      <th>7</th>\n",
              "      <td>0.324429</td>\n",
              "      <td>0.065069</td>\n",
              "      <td>-0.157665</td>\n",
              "      <td>0.457072</td>\n",
              "      <td>-0.012858</td>\n",
              "      <td>-0.109809</td>\n",
              "      <td>-0.038765</td>\n",
              "      <td>1.000000</td>\n",
              "      <td>-0.025763</td>\n",
              "      <td>-0.108013</td>\n",
              "      <td>-0.107107</td>\n",
              "      <td>-0.107107</td>\n",
              "      <td>-0.107107</td>\n",
              "      <td>-0.111586</td>\n",
              "      <td>-0.022298</td>\n",
              "      <td>-0.134078</td>\n",
              "      <td>-0.018195</td>\n",
              "      <td>-0.108013</td>\n",
              "      <td>-0.080007</td>\n",
              "    </tr>\n",
              "    <tr>\n",
              "      <th>8</th>\n",
              "      <td>-0.153931</td>\n",
              "      <td>-0.187823</td>\n",
              "      <td>-0.030296</td>\n",
              "      <td>0.148418</td>\n",
              "      <td>-0.002471</td>\n",
              "      <td>-0.021100</td>\n",
              "      <td>-0.007449</td>\n",
              "      <td>-0.025763</td>\n",
              "      <td>1.000000</td>\n",
              "      <td>-0.020755</td>\n",
              "      <td>-0.020581</td>\n",
              "      <td>-0.020581</td>\n",
              "      <td>-0.020581</td>\n",
              "      <td>-0.021441</td>\n",
              "      <td>-0.004285</td>\n",
              "      <td>-0.025763</td>\n",
              "      <td>-0.003496</td>\n",
              "      <td>-0.020755</td>\n",
              "      <td>-0.015374</td>\n",
              "    </tr>\n",
              "    <tr>\n",
              "      <th>9</th>\n",
              "      <td>-0.095444</td>\n",
              "      <td>0.128794</td>\n",
              "      <td>-0.127014</td>\n",
              "      <td>-0.128116</td>\n",
              "      <td>-0.010358</td>\n",
              "      <td>-0.088462</td>\n",
              "      <td>-0.031229</td>\n",
              "      <td>-0.108013</td>\n",
              "      <td>-0.020755</td>\n",
              "      <td>1.000000</td>\n",
              "      <td>-0.086285</td>\n",
              "      <td>-0.086285</td>\n",
              "      <td>-0.086285</td>\n",
              "      <td>-0.089893</td>\n",
              "      <td>-0.017963</td>\n",
              "      <td>-0.108013</td>\n",
              "      <td>-0.014658</td>\n",
              "      <td>-0.087015</td>\n",
              "      <td>-0.064453</td>\n",
              "    </tr>\n",
              "    <tr>\n",
              "      <th>10</th>\n",
              "      <td>0.039336</td>\n",
              "      <td>0.079554</td>\n",
              "      <td>-0.125949</td>\n",
              "      <td>-0.138668</td>\n",
              "      <td>-0.010271</td>\n",
              "      <td>-0.087720</td>\n",
              "      <td>-0.030967</td>\n",
              "      <td>-0.107107</td>\n",
              "      <td>-0.020581</td>\n",
              "      <td>-0.086285</td>\n",
              "      <td>1.000000</td>\n",
              "      <td>-0.085561</td>\n",
              "      <td>-0.085561</td>\n",
              "      <td>-0.089139</td>\n",
              "      <td>-0.017813</td>\n",
              "      <td>-0.107107</td>\n",
              "      <td>-0.014535</td>\n",
              "      <td>-0.086285</td>\n",
              "      <td>-0.063913</td>\n",
              "    </tr>\n",
              "    <tr>\n",
              "      <th>11</th>\n",
              "      <td>-0.291287</td>\n",
              "      <td>0.050160</td>\n",
              "      <td>0.679333</td>\n",
              "      <td>-0.138668</td>\n",
              "      <td>-0.010271</td>\n",
              "      <td>-0.087720</td>\n",
              "      <td>-0.030967</td>\n",
              "      <td>-0.107107</td>\n",
              "      <td>-0.020581</td>\n",
              "      <td>-0.086285</td>\n",
              "      <td>-0.085561</td>\n",
              "      <td>1.000000</td>\n",
              "      <td>-0.085561</td>\n",
              "      <td>-0.089139</td>\n",
              "      <td>-0.017813</td>\n",
              "      <td>-0.107107</td>\n",
              "      <td>-0.014535</td>\n",
              "      <td>-0.086285</td>\n",
              "      <td>-0.063913</td>\n",
              "    </tr>\n",
              "    <tr>\n",
              "      <th>12</th>\n",
              "      <td>-0.288415</td>\n",
              "      <td>0.053519</td>\n",
              "      <td>-0.125949</td>\n",
              "      <td>-0.091437</td>\n",
              "      <td>-0.010271</td>\n",
              "      <td>-0.087720</td>\n",
              "      <td>-0.030967</td>\n",
              "      <td>-0.107107</td>\n",
              "      <td>-0.020581</td>\n",
              "      <td>-0.086285</td>\n",
              "      <td>-0.085561</td>\n",
              "      <td>-0.085561</td>\n",
              "      <td>1.000000</td>\n",
              "      <td>-0.089139</td>\n",
              "      <td>-0.017813</td>\n",
              "      <td>-0.107107</td>\n",
              "      <td>-0.014535</td>\n",
              "      <td>-0.086285</td>\n",
              "      <td>-0.063913</td>\n",
              "    </tr>\n",
              "    <tr>\n",
              "      <th>13</th>\n",
              "      <td>0.098676</td>\n",
              "      <td>-0.067083</td>\n",
              "      <td>-0.131216</td>\n",
              "      <td>-0.087416</td>\n",
              "      <td>-0.010701</td>\n",
              "      <td>-0.091388</td>\n",
              "      <td>-0.032262</td>\n",
              "      <td>-0.111586</td>\n",
              "      <td>-0.021441</td>\n",
              "      <td>-0.089893</td>\n",
              "      <td>-0.089139</td>\n",
              "      <td>-0.089139</td>\n",
              "      <td>-0.089139</td>\n",
              "      <td>1.000000</td>\n",
              "      <td>-0.018557</td>\n",
              "      <td>-0.111586</td>\n",
              "      <td>-0.015143</td>\n",
              "      <td>-0.089893</td>\n",
              "      <td>-0.066586</td>\n",
              "    </tr>\n",
              "    <tr>\n",
              "      <th>14</th>\n",
              "      <td>0.015066</td>\n",
              "      <td>-0.034811</td>\n",
              "      <td>-0.026221</td>\n",
              "      <td>-0.028868</td>\n",
              "      <td>-0.002138</td>\n",
              "      <td>-0.018262</td>\n",
              "      <td>-0.006447</td>\n",
              "      <td>-0.022298</td>\n",
              "      <td>-0.004285</td>\n",
              "      <td>-0.017963</td>\n",
              "      <td>-0.017813</td>\n",
              "      <td>-0.017813</td>\n",
              "      <td>-0.017813</td>\n",
              "      <td>-0.018557</td>\n",
              "      <td>1.000000</td>\n",
              "      <td>-0.022298</td>\n",
              "      <td>-0.003026</td>\n",
              "      <td>-0.017963</td>\n",
              "      <td>-0.013306</td>\n",
              "    </tr>\n",
              "    <tr>\n",
              "      <th>15</th>\n",
              "      <td>0.303122</td>\n",
              "      <td>-0.113302</td>\n",
              "      <td>-0.157665</td>\n",
              "      <td>0.457072</td>\n",
              "      <td>-0.012858</td>\n",
              "      <td>-0.109809</td>\n",
              "      <td>-0.038765</td>\n",
              "      <td>-0.134078</td>\n",
              "      <td>-0.025763</td>\n",
              "      <td>-0.108013</td>\n",
              "      <td>-0.107107</td>\n",
              "      <td>-0.107107</td>\n",
              "      <td>-0.107107</td>\n",
              "      <td>-0.111586</td>\n",
              "      <td>-0.022298</td>\n",
              "      <td>1.000000</td>\n",
              "      <td>-0.018195</td>\n",
              "      <td>-0.108013</td>\n",
              "      <td>-0.080007</td>\n",
              "    </tr>\n",
              "    <tr>\n",
              "      <th>16</th>\n",
              "      <td>-0.110012</td>\n",
              "      <td>0.059096</td>\n",
              "      <td>-0.021396</td>\n",
              "      <td>0.104818</td>\n",
              "      <td>-0.001745</td>\n",
              "      <td>-0.014902</td>\n",
              "      <td>-0.005261</td>\n",
              "      <td>-0.018195</td>\n",
              "      <td>-0.003496</td>\n",
              "      <td>-0.014658</td>\n",
              "      <td>-0.014535</td>\n",
              "      <td>-0.014535</td>\n",
              "      <td>-0.014535</td>\n",
              "      <td>-0.015143</td>\n",
              "      <td>-0.003026</td>\n",
              "      <td>-0.018195</td>\n",
              "      <td>1.000000</td>\n",
              "      <td>-0.014658</td>\n",
              "      <td>-0.010857</td>\n",
              "    </tr>\n",
              "    <tr>\n",
              "      <th>17</th>\n",
              "      <td>0.117025</td>\n",
              "      <td>-0.067171</td>\n",
              "      <td>-0.127014</td>\n",
              "      <td>-0.128116</td>\n",
              "      <td>-0.010358</td>\n",
              "      <td>-0.088462</td>\n",
              "      <td>-0.031229</td>\n",
              "      <td>-0.108013</td>\n",
              "      <td>-0.020755</td>\n",
              "      <td>-0.087015</td>\n",
              "      <td>-0.086285</td>\n",
              "      <td>-0.086285</td>\n",
              "      <td>-0.086285</td>\n",
              "      <td>-0.089893</td>\n",
              "      <td>-0.017963</td>\n",
              "      <td>-0.108013</td>\n",
              "      <td>-0.014658</td>\n",
              "      <td>1.000000</td>\n",
              "      <td>-0.064453</td>\n",
              "    </tr>\n",
              "    <tr>\n",
              "      <th>18</th>\n",
              "      <td>-0.037278</td>\n",
              "      <td>-0.008980</td>\n",
              "      <td>-0.094082</td>\n",
              "      <td>-0.103582</td>\n",
              "      <td>-0.007673</td>\n",
              "      <td>-0.065525</td>\n",
              "      <td>-0.023132</td>\n",
              "      <td>-0.080007</td>\n",
              "      <td>-0.015374</td>\n",
              "      <td>-0.064453</td>\n",
              "      <td>-0.063913</td>\n",
              "      <td>-0.063913</td>\n",
              "      <td>-0.063913</td>\n",
              "      <td>-0.066586</td>\n",
              "      <td>-0.013306</td>\n",
              "      <td>-0.080007</td>\n",
              "      <td>-0.010857</td>\n",
              "      <td>-0.064453</td>\n",
              "      <td>1.000000</td>\n",
              "    </tr>\n",
              "  </tbody>\n",
              "</table>\n",
              "</div>"
            ],
            "text/plain": [
              "          0         1         2         3         4         5         6   \\\n",
              "0   1.000000 -0.084157 -0.369672  0.289012 -0.084485 -0.033320  0.008532   \n",
              "1  -0.084157  1.000000  0.017276 -0.087623  0.027244 -0.012836 -0.069166   \n",
              "2  -0.369672  0.017276  1.000000 -0.204123 -0.015120 -0.129127 -0.045585   \n",
              "3   0.289012 -0.087623 -0.204123  1.000000  0.074072 -0.107475 -0.050188   \n",
              "4  -0.084485  0.027244 -0.015120  0.074072  1.000000 -0.010530 -0.003718   \n",
              "5  -0.033320 -0.012836 -0.129127 -0.107475 -0.010530  1.000000 -0.031748   \n",
              "6   0.008532 -0.069166 -0.045585 -0.050188 -0.003718 -0.031748  1.000000   \n",
              "7   0.324429  0.065069 -0.157665  0.457072 -0.012858 -0.109809 -0.038765   \n",
              "8  -0.153931 -0.187823 -0.030296  0.148418 -0.002471 -0.021100 -0.007449   \n",
              "9  -0.095444  0.128794 -0.127014 -0.128116 -0.010358 -0.088462 -0.031229   \n",
              "10  0.039336  0.079554 -0.125949 -0.138668 -0.010271 -0.087720 -0.030967   \n",
              "11 -0.291287  0.050160  0.679333 -0.138668 -0.010271 -0.087720 -0.030967   \n",
              "12 -0.288415  0.053519 -0.125949 -0.091437 -0.010271 -0.087720 -0.030967   \n",
              "13  0.098676 -0.067083 -0.131216 -0.087416 -0.010701 -0.091388 -0.032262   \n",
              "14  0.015066 -0.034811 -0.026221 -0.028868 -0.002138 -0.018262 -0.006447   \n",
              "15  0.303122 -0.113302 -0.157665  0.457072 -0.012858 -0.109809 -0.038765   \n",
              "16 -0.110012  0.059096 -0.021396  0.104818 -0.001745 -0.014902 -0.005261   \n",
              "17  0.117025 -0.067171 -0.127014 -0.128116 -0.010358 -0.088462 -0.031229   \n",
              "18 -0.037278 -0.008980 -0.094082 -0.103582 -0.007673 -0.065525 -0.023132   \n",
              "\n",
              "          7         8         9         10        11        12        13  \\\n",
              "0   0.324429 -0.153931 -0.095444  0.039336 -0.291287 -0.288415  0.098676   \n",
              "1   0.065069 -0.187823  0.128794  0.079554  0.050160  0.053519 -0.067083   \n",
              "2  -0.157665 -0.030296 -0.127014 -0.125949  0.679333 -0.125949 -0.131216   \n",
              "3   0.457072  0.148418 -0.128116 -0.138668 -0.138668 -0.091437 -0.087416   \n",
              "4  -0.012858 -0.002471 -0.010358 -0.010271 -0.010271 -0.010271 -0.010701   \n",
              "5  -0.109809 -0.021100 -0.088462 -0.087720 -0.087720 -0.087720 -0.091388   \n",
              "6  -0.038765 -0.007449 -0.031229 -0.030967 -0.030967 -0.030967 -0.032262   \n",
              "7   1.000000 -0.025763 -0.108013 -0.107107 -0.107107 -0.107107 -0.111586   \n",
              "8  -0.025763  1.000000 -0.020755 -0.020581 -0.020581 -0.020581 -0.021441   \n",
              "9  -0.108013 -0.020755  1.000000 -0.086285 -0.086285 -0.086285 -0.089893   \n",
              "10 -0.107107 -0.020581 -0.086285  1.000000 -0.085561 -0.085561 -0.089139   \n",
              "11 -0.107107 -0.020581 -0.086285 -0.085561  1.000000 -0.085561 -0.089139   \n",
              "12 -0.107107 -0.020581 -0.086285 -0.085561 -0.085561  1.000000 -0.089139   \n",
              "13 -0.111586 -0.021441 -0.089893 -0.089139 -0.089139 -0.089139  1.000000   \n",
              "14 -0.022298 -0.004285 -0.017963 -0.017813 -0.017813 -0.017813 -0.018557   \n",
              "15 -0.134078 -0.025763 -0.108013 -0.107107 -0.107107 -0.107107 -0.111586   \n",
              "16 -0.018195 -0.003496 -0.014658 -0.014535 -0.014535 -0.014535 -0.015143   \n",
              "17 -0.108013 -0.020755 -0.087015 -0.086285 -0.086285 -0.086285 -0.089893   \n",
              "18 -0.080007 -0.015374 -0.064453 -0.063913 -0.063913 -0.063913 -0.066586   \n",
              "\n",
              "          14        15        16        17        18  \n",
              "0   0.015066  0.303122 -0.110012  0.117025 -0.037278  \n",
              "1  -0.034811 -0.113302  0.059096 -0.067171 -0.008980  \n",
              "2  -0.026221 -0.157665 -0.021396 -0.127014 -0.094082  \n",
              "3  -0.028868  0.457072  0.104818 -0.128116 -0.103582  \n",
              "4  -0.002138 -0.012858 -0.001745 -0.010358 -0.007673  \n",
              "5  -0.018262 -0.109809 -0.014902 -0.088462 -0.065525  \n",
              "6  -0.006447 -0.038765 -0.005261 -0.031229 -0.023132  \n",
              "7  -0.022298 -0.134078 -0.018195 -0.108013 -0.080007  \n",
              "8  -0.004285 -0.025763 -0.003496 -0.020755 -0.015374  \n",
              "9  -0.017963 -0.108013 -0.014658 -0.087015 -0.064453  \n",
              "10 -0.017813 -0.107107 -0.014535 -0.086285 -0.063913  \n",
              "11 -0.017813 -0.107107 -0.014535 -0.086285 -0.063913  \n",
              "12 -0.017813 -0.107107 -0.014535 -0.086285 -0.063913  \n",
              "13 -0.018557 -0.111586 -0.015143 -0.089893 -0.066586  \n",
              "14  1.000000 -0.022298 -0.003026 -0.017963 -0.013306  \n",
              "15 -0.022298  1.000000 -0.018195 -0.108013 -0.080007  \n",
              "16 -0.003026 -0.018195  1.000000 -0.014658 -0.010857  \n",
              "17 -0.017963 -0.108013 -0.014658  1.000000 -0.064453  \n",
              "18 -0.013306 -0.080007 -0.010857 -0.064453  1.000000  "
            ]
          },
          "metadata": {
            "tags": []
          },
          "execution_count": 29
        }
      ]
    },
    {
      "cell_type": "markdown",
      "metadata": {
        "id": "59UQ-svnbFhm"
      },
      "source": [
        "## Train/ test split..."
      ]
    },
    {
      "cell_type": "code",
      "metadata": {
        "id": "MH7XbxUEbHtI"
      },
      "source": [
        "# TEST/ TRAIN SPLIT\n",
        "X_train, X_test, y_train, y_test = train_test_split(X, y, test_size=0.20, random_state=27)\n"
      ],
      "execution_count": 51,
      "outputs": []
    },
    {
      "cell_type": "code",
      "metadata": {
        "id": "KJvqSrMYL3by",
        "colab": {
          "base_uri": "https://localhost:8080/",
          "height": 142
        },
        "outputId": "d84a3f0d-45ea-4c94-f9b4-61b6717e1d3f"
      },
      "source": [
        "X_train.head(3)"
      ],
      "execution_count": 31,
      "outputs": [
        {
          "output_type": "execute_result",
          "data": {
            "text/html": [
              "<div>\n",
              "<style scoped>\n",
              "    .dataframe tbody tr th:only-of-type {\n",
              "        vertical-align: middle;\n",
              "    }\n",
              "\n",
              "    .dataframe tbody tr th {\n",
              "        vertical-align: top;\n",
              "    }\n",
              "\n",
              "    .dataframe thead th {\n",
              "        text-align: right;\n",
              "    }\n",
              "</style>\n",
              "<table border=\"1\" class=\"dataframe\">\n",
              "  <thead>\n",
              "    <tr style=\"text-align: right;\">\n",
              "      <th></th>\n",
              "      <th>note</th>\n",
              "      <th>velocity</th>\n",
              "      <th>beat_offset</th>\n",
              "      <th>bar_beat_number</th>\n",
              "    </tr>\n",
              "  </thead>\n",
              "  <tbody>\n",
              "    <tr>\n",
              "      <th>196</th>\n",
              "      <td>kick</td>\n",
              "      <td>67</td>\n",
              "      <td>-5</td>\n",
              "      <td>9</td>\n",
              "    </tr>\n",
              "    <tr>\n",
              "      <th>538</th>\n",
              "      <td>hh</td>\n",
              "      <td>79</td>\n",
              "      <td>1</td>\n",
              "      <td>7</td>\n",
              "    </tr>\n",
              "    <tr>\n",
              "      <th>66</th>\n",
              "      <td>hh</td>\n",
              "      <td>90</td>\n",
              "      <td>-11</td>\n",
              "      <td>15</td>\n",
              "    </tr>\n",
              "  </tbody>\n",
              "</table>\n",
              "</div>"
            ],
            "text/plain": [
              "     note  velocity  beat_offset  bar_beat_number\n",
              "196  kick        67           -5                9\n",
              "538    hh        79            1                7\n",
              "66     hh        90          -11               15"
            ]
          },
          "metadata": {
            "tags": []
          },
          "execution_count": 31
        }
      ]
    },
    {
      "cell_type": "code",
      "metadata": {
        "colab": {
          "base_uri": "https://localhost:8080/",
          "height": 577
        },
        "id": "YZWV7Mhc6qll",
        "outputId": "932a090b-7a3e-4e3e-b2ee-e4d084c3010b"
      },
      "source": [
        "X_train.describe()\n",
        "X_test.describe()"
      ],
      "execution_count": 52,
      "outputs": [
        {
          "output_type": "execute_result",
          "data": {
            "text/html": [
              "<div>\n",
              "<style scoped>\n",
              "    .dataframe tbody tr th:only-of-type {\n",
              "        vertical-align: middle;\n",
              "    }\n",
              "\n",
              "    .dataframe tbody tr th {\n",
              "        vertical-align: top;\n",
              "    }\n",
              "\n",
              "    .dataframe thead th {\n",
              "        text-align: right;\n",
              "    }\n",
              "</style>\n",
              "<table border=\"1\" class=\"dataframe\">\n",
              "  <thead>\n",
              "    <tr style=\"text-align: right;\">\n",
              "      <th></th>\n",
              "      <th>velocity</th>\n",
              "      <th>beat_offset</th>\n",
              "      <th>bar_beat_number</th>\n",
              "    </tr>\n",
              "  </thead>\n",
              "  <tbody>\n",
              "    <tr>\n",
              "      <th>count</th>\n",
              "      <td>4504.000000</td>\n",
              "      <td>4504.000000</td>\n",
              "      <td>4504.000000</td>\n",
              "    </tr>\n",
              "    <tr>\n",
              "      <th>mean</th>\n",
              "      <td>68.417629</td>\n",
              "      <td>-5.131217</td>\n",
              "      <td>8.306394</td>\n",
              "    </tr>\n",
              "    <tr>\n",
              "      <th>std</th>\n",
              "      <td>33.920867</td>\n",
              "      <td>14.422401</td>\n",
              "      <td>4.602213</td>\n",
              "    </tr>\n",
              "    <tr>\n",
              "      <th>min</th>\n",
              "      <td>5.000000</td>\n",
              "      <td>-59.000000</td>\n",
              "      <td>1.000000</td>\n",
              "    </tr>\n",
              "    <tr>\n",
              "      <th>25%</th>\n",
              "      <td>41.000000</td>\n",
              "      <td>-14.000000</td>\n",
              "      <td>5.000000</td>\n",
              "    </tr>\n",
              "    <tr>\n",
              "      <th>50%</th>\n",
              "      <td>62.000000</td>\n",
              "      <td>-5.000000</td>\n",
              "      <td>8.000000</td>\n",
              "    </tr>\n",
              "    <tr>\n",
              "      <th>75%</th>\n",
              "      <td>96.000000</td>\n",
              "      <td>3.000000</td>\n",
              "      <td>12.000000</td>\n",
              "    </tr>\n",
              "    <tr>\n",
              "      <th>max</th>\n",
              "      <td>127.000000</td>\n",
              "      <td>59.000000</td>\n",
              "      <td>16.000000</td>\n",
              "    </tr>\n",
              "  </tbody>\n",
              "</table>\n",
              "</div>"
            ],
            "text/plain": [
              "          velocity  beat_offset  bar_beat_number\n",
              "count  4504.000000  4504.000000      4504.000000\n",
              "mean     68.417629    -5.131217         8.306394\n",
              "std      33.920867    14.422401         4.602213\n",
              "min       5.000000   -59.000000         1.000000\n",
              "25%      41.000000   -14.000000         5.000000\n",
              "50%      62.000000    -5.000000         8.000000\n",
              "75%      96.000000     3.000000        12.000000\n",
              "max     127.000000    59.000000        16.000000"
            ]
          },
          "metadata": {
            "tags": []
          },
          "execution_count": 52
        },
        {
          "output_type": "execute_result",
          "data": {
            "text/html": [
              "<div>\n",
              "<style scoped>\n",
              "    .dataframe tbody tr th:only-of-type {\n",
              "        vertical-align: middle;\n",
              "    }\n",
              "\n",
              "    .dataframe tbody tr th {\n",
              "        vertical-align: top;\n",
              "    }\n",
              "\n",
              "    .dataframe thead th {\n",
              "        text-align: right;\n",
              "    }\n",
              "</style>\n",
              "<table border=\"1\" class=\"dataframe\">\n",
              "  <thead>\n",
              "    <tr style=\"text-align: right;\">\n",
              "      <th></th>\n",
              "      <th>velocity</th>\n",
              "      <th>beat_offset</th>\n",
              "      <th>bar_beat_number</th>\n",
              "    </tr>\n",
              "  </thead>\n",
              "  <tbody>\n",
              "    <tr>\n",
              "      <th>count</th>\n",
              "      <td>1127.000000</td>\n",
              "      <td>1127.000000</td>\n",
              "      <td>1127.000000</td>\n",
              "    </tr>\n",
              "    <tr>\n",
              "      <th>mean</th>\n",
              "      <td>66.603372</td>\n",
              "      <td>-5.244898</td>\n",
              "      <td>8.378882</td>\n",
              "    </tr>\n",
              "    <tr>\n",
              "      <th>std</th>\n",
              "      <td>33.673014</td>\n",
              "      <td>14.462250</td>\n",
              "      <td>4.462317</td>\n",
              "    </tr>\n",
              "    <tr>\n",
              "      <th>min</th>\n",
              "      <td>4.000000</td>\n",
              "      <td>-60.000000</td>\n",
              "      <td>1.000000</td>\n",
              "    </tr>\n",
              "    <tr>\n",
              "      <th>25%</th>\n",
              "      <td>40.000000</td>\n",
              "      <td>-15.000000</td>\n",
              "      <td>5.000000</td>\n",
              "    </tr>\n",
              "    <tr>\n",
              "      <th>50%</th>\n",
              "      <td>59.000000</td>\n",
              "      <td>-6.000000</td>\n",
              "      <td>8.000000</td>\n",
              "    </tr>\n",
              "    <tr>\n",
              "      <th>75%</th>\n",
              "      <td>93.000000</td>\n",
              "      <td>4.000000</td>\n",
              "      <td>12.000000</td>\n",
              "    </tr>\n",
              "    <tr>\n",
              "      <th>max</th>\n",
              "      <td>127.000000</td>\n",
              "      <td>58.000000</td>\n",
              "      <td>16.000000</td>\n",
              "    </tr>\n",
              "  </tbody>\n",
              "</table>\n",
              "</div>"
            ],
            "text/plain": [
              "          velocity  beat_offset  bar_beat_number\n",
              "count  1127.000000  1127.000000      1127.000000\n",
              "mean     66.603372    -5.244898         8.378882\n",
              "std      33.673014    14.462250         4.462317\n",
              "min       4.000000   -60.000000         1.000000\n",
              "25%      40.000000   -15.000000         5.000000\n",
              "50%      59.000000    -6.000000         8.000000\n",
              "75%      93.000000     4.000000        12.000000\n",
              "max     127.000000    58.000000        16.000000"
            ]
          },
          "metadata": {
            "tags": []
          },
          "execution_count": 52
        }
      ]
    },
    {
      "cell_type": "markdown",
      "metadata": {
        "id": "8XFdCcrwOzST"
      },
      "source": [
        "## Some pipelines"
      ]
    },
    {
      "cell_type": "code",
      "metadata": {
        "id": "9WN7AkGUJD_Q"
      },
      "source": [
        "# setup our pre-processing and modelling pipeline\n",
        "pipe_v0 = Pipeline(steps=[('prep',ct_v0), ('knn', KNeighborsClassifier(7))])\n",
        "pipe_v1 = Pipeline(steps=[('prep',ct_v1), ('knn', KNeighborsClassifier(7))])\n",
        "pipe_v2 = Pipeline(steps=[('prep',ct_v2), ('knn', KNeighborsClassifier(7))])\n",
        "pipe_v3 = Pipeline(steps=[('prep',ct_v3), ('knn', KNeighborsClassifier(7))])\n",
        "pipe_v4 = Pipeline(steps=[('prep',ct_v4), ('knn', KNeighborsClassifier(7))])\n"
      ],
      "execution_count": 33,
      "outputs": []
    },
    {
      "cell_type": "markdown",
      "metadata": {
        "id": "DLHxPVtEHxVX"
      },
      "source": [
        "# Test pipelines"
      ]
    },
    {
      "cell_type": "markdown",
      "metadata": {
        "id": "2nEqru7CZGvV"
      },
      "source": [
        "## Util functions\n"
      ]
    },
    {
      "cell_type": "code",
      "metadata": {
        "id": "Ygf_kwUR2MwK"
      },
      "source": [
        "\n",
        "def KNN_predict(X_train, y_train, X_test, n=5):\n",
        "  # Fit model, do predictions\n",
        "\n",
        "  KNN_model = KNeighborsClassifier(n)\n",
        "  display(KNN_model)\n",
        "  KNN_model.fit(X_train, y_train)\n",
        "  return KNN_model.predict(X_test)\n",
        "\n",
        "def KNN_results(pred, test, labels):\n",
        "  # evaluate results\n",
        "\n",
        "  print('\\nKNN Accuracy score...')\n",
        "  print('  KNN: {}'.format(accuracy_score(pred, test)))\n",
        "\n",
        "  print('\\nKNN classification report...')\n",
        "  print(classification_report(pred, test))\n",
        "\n",
        "def c_matrix(pred, test, labels):\n",
        "  # plot results\n",
        "\n",
        "  print('\\nConfusion matrix...')\n",
        "  matrix2 = confusion_matrix(pred, test)\n",
        "  m_df = pd.DataFrame(matrix2, index=labels, columns=labels)\n",
        "  _ = plt.figure(figsize=(6, 6))\n",
        "  sns.heatmap(m_df, annot=True, cbar=None, cmap=\"Reds\")\n",
        "  plt.title(\"Confusion Matrix\")\n",
        "  plt.tight_layout()\n",
        "  plt.ylabel(\"Actual\")\n",
        "  plt.xlabel(\"Predicted\")\n",
        "  plt.show()\n",
        "\n"
      ],
      "execution_count": 34,
      "outputs": []
    },
    {
      "cell_type": "markdown",
      "metadata": {
        "id": "oPUP9jL7KSGM"
      },
      "source": [
        "## Manual fit model, do predictions"
      ]
    },
    {
      "cell_type": "markdown",
      "metadata": {
        "id": "KHuvjM3BaprE"
      },
      "source": [
        "Testing single model by hand"
      ]
    },
    {
      "cell_type": "code",
      "metadata": {
        "id": "AisUCAVmPjP4",
        "colab": {
          "base_uri": "https://localhost:8080/",
          "height": 201
        },
        "outputId": "7beccf3a-0ff5-46c5-aeb8-7dbcc17cb945"
      },
      "source": [
        "print('fitting the pipeline ...')\n",
        "pipe_v3.fit(X_train, y_train)\n",
        "#pipe_v4.fit(X_train, y_train)\n",
        "\n",
        "print('predicting ...')\n",
        "#predictions_1 = pipe_v4.predict(X_test)\n",
        "predictions_1 = pipe_v3.predict(X_test)"
      ],
      "execution_count": 35,
      "outputs": [
        {
          "output_type": "stream",
          "text": [
            "fitting the pipeline ...\n"
          ],
          "name": "stdout"
        },
        {
          "output_type": "execute_result",
          "data": {
            "text/html": [
              "<style>div.sk-top-container {color: black;background-color: white;}div.sk-toggleable {background-color: white;}label.sk-toggleable__label {cursor: pointer;display: block;width: 100%;margin-bottom: 0;padding: 0.2em 0.3em;box-sizing: border-box;text-align: center;}div.sk-toggleable__content {max-height: 0;max-width: 0;overflow: hidden;text-align: left;background-color: #f0f8ff;}div.sk-toggleable__content pre {margin: 0.2em;color: black;border-radius: 0.25em;background-color: #f0f8ff;}input.sk-toggleable__control:checked~div.sk-toggleable__content {max-height: 200px;max-width: 100%;overflow: auto;}div.sk-estimator input.sk-toggleable__control:checked~label.sk-toggleable__label {background-color: #d4ebff;}div.sk-label input.sk-toggleable__control:checked~label.sk-toggleable__label {background-color: #d4ebff;}input.sk-hidden--visually {border: 0;clip: rect(1px 1px 1px 1px);clip: rect(1px, 1px, 1px, 1px);height: 1px;margin: -1px;overflow: hidden;padding: 0;position: absolute;width: 1px;}div.sk-estimator {font-family: monospace;background-color: #f0f8ff;margin: 0.25em 0.25em;border: 1px dotted black;border-radius: 0.25em;box-sizing: border-box;}div.sk-estimator:hover {background-color: #d4ebff;}div.sk-parallel-item::after {content: \"\";width: 100%;border-bottom: 1px solid gray;flex-grow: 1;}div.sk-label:hover label.sk-toggleable__label {background-color: #d4ebff;}div.sk-serial::before {content: \"\";position: absolute;border-left: 1px solid gray;box-sizing: border-box;top: 2em;bottom: 0;left: 50%;}div.sk-serial {display: flex;flex-direction: column;align-items: center;background-color: white;}div.sk-item {z-index: 1;}div.sk-parallel {display: flex;align-items: stretch;justify-content: center;background-color: white;}div.sk-parallel-item {display: flex;flex-direction: column;position: relative;background-color: white;}div.sk-parallel-item:first-child::after {align-self: flex-end;width: 50%;}div.sk-parallel-item:last-child::after {align-self: flex-start;width: 50%;}div.sk-parallel-item:only-child::after {width: 0;}div.sk-dashed-wrapped {border: 1px dashed gray;margin: 0.2em;box-sizing: border-box;padding-bottom: 0.1em;background-color: white;position: relative;}div.sk-label label {font-family: monospace;font-weight: bold;background-color: white;display: inline-block;line-height: 1.2em;}div.sk-label-container {position: relative;z-index: 2;text-align: center;}div.sk-container {display: inline-block;position: relative;}</style><div class=\"sk-top-container\"><div class=\"sk-container\"><div class=\"sk-item sk-dashed-wrapped\"><div class=\"sk-label-container\"><div class=\"sk-label sk-toggleable\"><input class=\"sk-toggleable__control sk-hidden--visually\" id=\"de4630af-53d1-4976-b9a0-4bf6140fb0b9\" type=\"checkbox\" ><label class=\"sk-toggleable__label\" for=\"de4630af-53d1-4976-b9a0-4bf6140fb0b9\">Pipeline</label><div class=\"sk-toggleable__content\"><pre>Pipeline(steps=[('prep',\n",
              "                 ColumnTransformer(remainder='passthrough', sparse_threshold=0,\n",
              "                                   transformers=[('t_scaler_mm_1',\n",
              "                                                  MinMaxScaler(), [1, 2]),\n",
              "                                                 ('t_one_hot',\n",
              "                                                  OneHotEncoder(drop='first'),\n",
              "                                                  [0])])),\n",
              "                ('knn', KNeighborsClassifier(n_neighbors=7))])</pre></div></div></div><div class=\"sk-serial\"><div class=\"sk-item sk-dashed-wrapped\"><div class=\"sk-label-container\"><div class=\"sk-label sk-toggleable\"><input class=\"sk-toggleable__control sk-hidden--visually\" id=\"3dcf27db-d065-450a-acab-0b6757737d4b\" type=\"checkbox\" ><label class=\"sk-toggleable__label\" for=\"3dcf27db-d065-450a-acab-0b6757737d4b\">prep: ColumnTransformer</label><div class=\"sk-toggleable__content\"><pre>ColumnTransformer(remainder='passthrough', sparse_threshold=0,\n",
              "                  transformers=[('t_scaler_mm_1', MinMaxScaler(), [1, 2]),\n",
              "                                ('t_one_hot', OneHotEncoder(drop='first'),\n",
              "                                 [0])])</pre></div></div></div><div class=\"sk-parallel\"><div class=\"sk-parallel-item\"><div class=\"sk-item\"><div class=\"sk-label-container\"><div class=\"sk-label sk-toggleable\"><input class=\"sk-toggleable__control sk-hidden--visually\" id=\"47d7b5d0-a672-4371-8579-f41ab85332d8\" type=\"checkbox\" ><label class=\"sk-toggleable__label\" for=\"47d7b5d0-a672-4371-8579-f41ab85332d8\">t_scaler_mm_1</label><div class=\"sk-toggleable__content\"><pre>[1, 2]</pre></div></div></div><div class=\"sk-serial\"><div class=\"sk-item\"><div class=\"sk-estimator sk-toggleable\"><input class=\"sk-toggleable__control sk-hidden--visually\" id=\"2adf1de2-76ea-402d-b7b1-587631bf9e50\" type=\"checkbox\" ><label class=\"sk-toggleable__label\" for=\"2adf1de2-76ea-402d-b7b1-587631bf9e50\">MinMaxScaler</label><div class=\"sk-toggleable__content\"><pre>MinMaxScaler()</pre></div></div></div></div></div></div><div class=\"sk-parallel-item\"><div class=\"sk-item\"><div class=\"sk-label-container\"><div class=\"sk-label sk-toggleable\"><input class=\"sk-toggleable__control sk-hidden--visually\" id=\"1bce8725-b3e4-42b9-84a3-35068475a797\" type=\"checkbox\" ><label class=\"sk-toggleable__label\" for=\"1bce8725-b3e4-42b9-84a3-35068475a797\">t_one_hot</label><div class=\"sk-toggleable__content\"><pre>[0]</pre></div></div></div><div class=\"sk-serial\"><div class=\"sk-item\"><div class=\"sk-estimator sk-toggleable\"><input class=\"sk-toggleable__control sk-hidden--visually\" id=\"8a264e1c-bb07-4c2a-8e20-b85ae26d4be6\" type=\"checkbox\" ><label class=\"sk-toggleable__label\" for=\"8a264e1c-bb07-4c2a-8e20-b85ae26d4be6\">OneHotEncoder</label><div class=\"sk-toggleable__content\"><pre>OneHotEncoder(drop='first')</pre></div></div></div></div></div></div></div></div><div class=\"sk-item\"><div class=\"sk-estimator sk-toggleable\"><input class=\"sk-toggleable__control sk-hidden--visually\" id=\"bdd45f9a-1647-4450-b00b-bffe4c283aed\" type=\"checkbox\" ><label class=\"sk-toggleable__label\" for=\"bdd45f9a-1647-4450-b00b-bffe4c283aed\">KNeighborsClassifier</label><div class=\"sk-toggleable__content\"><pre>KNeighborsClassifier(n_neighbors=7)</pre></div></div></div></div></div></div></div>"
            ],
            "text/plain": [
              "Pipeline(steps=[('prep',\n",
              "                 ColumnTransformer(remainder='passthrough', sparse_threshold=0,\n",
              "                                   transformers=[('t_scaler_mm_1',\n",
              "                                                  MinMaxScaler(), [1, 2]),\n",
              "                                                 ('t_one_hot',\n",
              "                                                  OneHotEncoder(drop='first'),\n",
              "                                                  [0])])),\n",
              "                ('knn', KNeighborsClassifier(n_neighbors=7))])"
            ]
          },
          "metadata": {
            "tags": []
          },
          "execution_count": 35
        },
        {
          "output_type": "stream",
          "text": [
            "predicting ...\n"
          ],
          "name": "stdout"
        }
      ]
    },
    {
      "cell_type": "markdown",
      "metadata": {
        "id": "GFxhC5v1KWi0"
      },
      "source": [
        "## Evaluate model results"
      ]
    },
    {
      "cell_type": "code",
      "metadata": {
        "id": "5wC7EHjBP1BY",
        "colab": {
          "base_uri": "https://localhost:8080/",
          "height": 779
        },
        "outputId": "b3e85d63-c2cd-405b-ab2d-52e3ce2bee1f"
      },
      "source": [
        "# y = list of all y values from dataset\n",
        "classes = np.unique(y)\n",
        "KNN_results(predictions_1, y_test, classes)\n",
        "c_matrix(predictions_1, y_test, classes)"
      ],
      "execution_count": 36,
      "outputs": [
        {
          "output_type": "stream",
          "text": [
            "\n",
            "KNN Accuracy score...\n",
            "  KNN: 0.5276073619631901\n",
            "\n",
            "KNN classification report...\n",
            "              precision    recall  f1-score   support\n",
            "\n",
            "    drummer1       0.62      0.53      0.57        58\n",
            "    drummer5       0.62      0.49      0.55        43\n",
            "    drummer7       0.41      0.57      0.48        30\n",
            "    drummer8       0.45      0.53      0.49        32\n",
            "\n",
            "    accuracy                           0.53       163\n",
            "   macro avg       0.52      0.53      0.52       163\n",
            "weighted avg       0.55      0.53      0.53       163\n",
            "\n",
            "\n",
            "Confusion matrix...\n"
          ],
          "name": "stdout"
        },
        {
          "output_type": "display_data",
          "data": {
            "image/png": "[encoded data removed]",
            "text/plain": [
              "<Figure size 432x432 with 1 Axes>"
            ]
          },
          "metadata": {
            "tags": [],
            "needs_background": "light"
          }
        }
      ]
    },
    {
      "cell_type": "code",
      "metadata": {
        "id": "N632ydS7S0Lx"
      },
      "source": [
        ""
      ],
      "execution_count": 36,
      "outputs": []
    },
    {
      "cell_type": "markdown",
      "metadata": {
        "id": "lWH12kcMSoRC"
      },
      "source": [
        "# K-fold CV, manual"
      ]
    },
    {
      "cell_type": "code",
      "metadata": {
        "id": "6exPok9QIIAu",
        "colab": {
          "base_uri": "https://localhost:8080/"
        },
        "outputId": "dafeade7-f096-422f-9e36-aade3ba009bf"
      },
      "source": [
        "from sklearn.model_selection import KFold, cross_val_score\n",
        "from sklearn.pipeline import make_pipeline\n",
        "\n",
        "# list of ColumnTransformers setup earlier ..\n",
        "cts = [ct_v0, ct_v1, ct_v2, ct_v3, ct_v4]\n",
        "\n",
        "\n",
        "results = []\n",
        "best_score = 0\n",
        "best_info = ''\n",
        "\n",
        "kf = KFold(n_splits=10, shuffle=True, random_state=27)\n",
        "\n",
        "for idx, ct in enumerate(cts):\n",
        "  print(\"\\n_______________________________________________________\")\n",
        "  print(\"\\n>>>> pipe #{}.. \\n\".format(idx))\n",
        "  \n",
        "  # Calculating error for K values between 1 and 20\n",
        "  for next_k in range(1, 20):\n",
        "    next_pipe = Pipeline(steps=[('prep',ct), ('knn', KNeighborsClassifier(next_k))])\n",
        "    cv_results = cross_val_score(next_pipe, X, y, cv=kf, scoring=\"accuracy\", n_jobs=-1 )\n",
        "    results.append(cv_results)\n",
        "\n",
        "    # print out put of this run.\n",
        "    this_mean = cv_results.mean()\n",
        "    this_run = \"pipe #{}, k={}, mean:{}\".format(idx, next_k, this_mean)\n",
        "    print('\\n\\n ___ '+this_run)\n",
        "    cv_results\n",
        "\n",
        "    # check for best\n",
        "    if this_mean > best_score:\n",
        "      best_score = this_mean\n",
        "      best_info = this_run\n",
        "    \n",
        "print(\"\\n\\nBest score was > {}\".format(best_score))\n",
        "print(best_info)\n",
        "\n"
      ],
      "execution_count": 37,
      "outputs": [
        {
          "output_type": "stream",
          "text": [
            "\n",
            "_______________________________________________________\n",
            "\n",
            ">>>> pipe #0.. \n",
            "\n",
            "\n",
            "\n",
            " ___ pipe #0, k=1, mean:0.4901385124962361\n"
          ],
          "name": "stdout"
        },
        {
          "output_type": "execute_result",
          "data": {
            "text/plain": [
              "array([0.47560976, 0.51219512, 0.4691358 , 0.45679012, 0.54320988,\n",
              "       0.60493827, 0.38271605, 0.48148148, 0.43209877, 0.54320988])"
            ]
          },
          "metadata": {
            "tags": []
          },
          "execution_count": 37
        },
        {
          "output_type": "stream",
          "text": [
            "\n",
            "\n",
            " ___ pipe #0, k=2, mean:0.47535380909364655\n"
          ],
          "name": "stdout"
        },
        {
          "output_type": "execute_result",
          "data": {
            "text/plain": [
              "array([0.43902439, 0.52439024, 0.51851852, 0.51851852, 0.49382716,\n",
              "       0.50617284, 0.35802469, 0.49382716, 0.43209877, 0.4691358 ])"
            ]
          },
          "metadata": {
            "tags": []
          },
          "execution_count": 37
        },
        {
          "output_type": "stream",
          "text": [
            "\n",
            "\n",
            " ___ pipe #0, k=3, mean:0.4801866907557965\n"
          ],
          "name": "stdout"
        },
        {
          "output_type": "execute_result",
          "data": {
            "text/plain": [
              "array([0.45121951, 0.59756098, 0.44444444, 0.5308642 , 0.48148148,\n",
              "       0.49382716, 0.38271605, 0.44444444, 0.4691358 , 0.50617284])"
            ]
          },
          "metadata": {
            "tags": []
          },
          "execution_count": 37
        },
        {
          "output_type": "stream",
          "text": [
            "\n",
            "\n",
            " ___ pipe #0, k=4, mean:0.47535380909364655\n"
          ],
          "name": "stdout"
        },
        {
          "output_type": "execute_result",
          "data": {
            "text/plain": [
              "array([0.43902439, 0.52439024, 0.45679012, 0.49382716, 0.51851852,\n",
              "       0.50617284, 0.40740741, 0.48148148, 0.49382716, 0.43209877])"
            ]
          },
          "metadata": {
            "tags": []
          },
          "execution_count": 37
        },
        {
          "output_type": "stream",
          "text": [
            "\n",
            "\n",
            " ___ pipe #0, k=5, mean:0.48149653718759416\n"
          ],
          "name": "stdout"
        },
        {
          "output_type": "execute_result",
          "data": {
            "text/plain": [
              "array([0.46341463, 0.52439024, 0.49382716, 0.51851852, 0.5308642 ,\n",
              "       0.51851852, 0.37037037, 0.4691358 , 0.4691358 , 0.45679012])"
            ]
          },
          "metadata": {
            "tags": []
          },
          "execution_count": 37
        },
        {
          "output_type": "stream",
          "text": [
            "\n",
            "\n",
            " ___ pipe #0, k=6, mean:0.4827461607949413\n"
          ],
          "name": "stdout"
        },
        {
          "output_type": "execute_result",
          "data": {
            "text/plain": [
              "array([0.45121951, 0.52439024, 0.50617284, 0.5308642 , 0.49382716,\n",
              "       0.5308642 , 0.40740741, 0.45679012, 0.4691358 , 0.45679012])"
            ]
          },
          "metadata": {
            "tags": []
          },
          "execution_count": 37
        },
        {
          "output_type": "stream",
          "text": [
            "\n",
            "\n",
            " ___ pipe #0, k=7, mean:0.4716651610960554\n"
          ],
          "name": "stdout"
        },
        {
          "output_type": "execute_result",
          "data": {
            "text/plain": [
              "array([0.45121951, 0.5       , 0.4691358 , 0.50617284, 0.43209877,\n",
              "       0.55555556, 0.38271605, 0.44444444, 0.50617284, 0.4691358 ])"
            ]
          },
          "metadata": {
            "tags": []
          },
          "execution_count": 37
        },
        {
          "output_type": "stream",
          "text": [
            "\n",
            "\n",
            " ___ pipe #0, k=8, mean:0.48641975308641977\n"
          ],
          "name": "stdout"
        },
        {
          "output_type": "execute_result",
          "data": {
            "text/plain": [
              "array([0.47560976, 0.52439024, 0.49382716, 0.54320988, 0.50617284,\n",
              "       0.54320988, 0.40740741, 0.44444444, 0.45679012, 0.4691358 ])"
            ]
          },
          "metadata": {
            "tags": []
          },
          "execution_count": 37
        },
        {
          "output_type": "stream",
          "text": [
            "\n",
            "\n",
            " ___ pipe #0, k=9, mean:0.4827311050888287\n"
          ],
          "name": "stdout"
        },
        {
          "output_type": "execute_result",
          "data": {
            "text/plain": [
              "array([0.43902439, 0.54878049, 0.4691358 , 0.54320988, 0.45679012,\n",
              "       0.54320988, 0.38271605, 0.43209877, 0.5308642 , 0.48148148])"
            ]
          },
          "metadata": {
            "tags": []
          },
          "execution_count": 37
        },
        {
          "output_type": "stream",
          "text": [
            "\n",
            "\n",
            " ___ pipe #0, k=10, mean:0.4715748268593797\n"
          ],
          "name": "stdout"
        },
        {
          "output_type": "execute_result",
          "data": {
            "text/plain": [
              "array([0.47560976, 0.54878049, 0.4691358 , 0.50617284, 0.45679012,\n",
              "       0.4691358 , 0.38271605, 0.44444444, 0.50617284, 0.45679012])"
            ]
          },
          "metadata": {
            "tags": []
          },
          "execution_count": 37
        },
        {
          "output_type": "stream",
          "text": [
            "\n",
            "\n",
            " ___ pipe #0, k=11, mean:0.4642728093947606\n"
          ],
          "name": "stdout"
        },
        {
          "output_type": "execute_result",
          "data": {
            "text/plain": [
              "array([0.43902439, 0.5       , 0.45679012, 0.48148148, 0.50617284,\n",
              "       0.44444444, 0.39506173, 0.43209877, 0.55555556, 0.43209877])"
            ]
          },
          "metadata": {
            "tags": []
          },
          "execution_count": 37
        },
        {
          "output_type": "stream",
          "text": [
            "\n",
            "\n",
            " ___ pipe #0, k=12, mean:0.4531315868714243\n"
          ],
          "name": "stdout"
        },
        {
          "output_type": "execute_result",
          "data": {
            "text/plain": [
              "array([0.45121951, 0.51219512, 0.43209877, 0.49382716, 0.48148148,\n",
              "       0.43209877, 0.38271605, 0.43209877, 0.49382716, 0.41975309])"
            ]
          },
          "metadata": {
            "tags": []
          },
          "execution_count": 37
        },
        {
          "output_type": "stream",
          "text": [
            "\n",
            "\n",
            " ___ pipe #0, k=13, mean:0.44331526648599817\n"
          ],
          "name": "stdout"
        },
        {
          "output_type": "execute_result",
          "data": {
            "text/plain": [
              "array([0.42682927, 0.48780488, 0.43209877, 0.4691358 , 0.4691358 ,\n",
              "       0.40740741, 0.37037037, 0.4691358 , 0.4691358 , 0.43209877])"
            ]
          },
          "metadata": {
            "tags": []
          },
          "execution_count": 37
        },
        {
          "output_type": "stream",
          "text": [
            "\n",
            "\n",
            " ___ pipe #0, k=14, mean:0.43712737127371276\n"
          ],
          "name": "stdout"
        },
        {
          "output_type": "execute_result",
          "data": {
            "text/plain": [
              "array([0.43902439, 0.48780488, 0.45679012, 0.4691358 , 0.4691358 ,\n",
              "       0.41975309, 0.37037037, 0.41975309, 0.44444444, 0.39506173])"
            ]
          },
          "metadata": {
            "tags": []
          },
          "execution_count": 37
        },
        {
          "output_type": "stream",
          "text": [
            "\n",
            "\n",
            " ___ pipe #0, k=15, mean:0.42604637157482683\n"
          ],
          "name": "stdout"
        },
        {
          "output_type": "execute_result",
          "data": {
            "text/plain": [
              "array([0.43902439, 0.46341463, 0.44444444, 0.45679012, 0.48148148,\n",
              "       0.44444444, 0.34567901, 0.39506173, 0.43209877, 0.35802469])"
            ]
          },
          "metadata": {
            "tags": []
          },
          "execution_count": 37
        },
        {
          "output_type": "stream",
          "text": [
            "\n",
            "\n",
            " ___ pipe #0, k=16, mean:0.4371424269798253\n"
          ],
          "name": "stdout"
        },
        {
          "output_type": "execute_result",
          "data": {
            "text/plain": [
              "array([0.43902439, 0.47560976, 0.44444444, 0.49382716, 0.4691358 ,\n",
              "       0.50617284, 0.30864198, 0.40740741, 0.40740741, 0.41975309])"
            ]
          },
          "metadata": {
            "tags": []
          },
          "execution_count": 37
        },
        {
          "output_type": "stream",
          "text": [
            "\n",
            "\n",
            " ___ pipe #0, k=17, mean:0.4248569707919302\n"
          ],
          "name": "stdout"
        },
        {
          "output_type": "execute_result",
          "data": {
            "text/plain": [
              "array([0.45121951, 0.41463415, 0.41975309, 0.45679012, 0.49382716,\n",
              "       0.45679012, 0.33333333, 0.37037037, 0.45679012, 0.39506173])"
            ]
          },
          "metadata": {
            "tags": []
          },
          "execution_count": 37
        },
        {
          "output_type": "stream",
          "text": [
            "\n",
            "\n",
            " ___ pipe #0, k=18, mean:0.41741945197229746\n"
          ],
          "name": "stdout"
        },
        {
          "output_type": "execute_result",
          "data": {
            "text/plain": [
              "array([0.45121951, 0.43902439, 0.40740741, 0.45679012, 0.43209877,\n",
              "       0.4691358 , 0.33333333, 0.35802469, 0.44444444, 0.38271605])"
            ]
          },
          "metadata": {
            "tags": []
          },
          "execution_count": 37
        },
        {
          "output_type": "stream",
          "text": [
            "\n",
            "\n",
            " ___ pipe #0, k=19, mean:0.4236525143029207\n"
          ],
          "name": "stdout"
        },
        {
          "output_type": "execute_result",
          "data": {
            "text/plain": [
              "array([0.42682927, 0.41463415, 0.40740741, 0.48148148, 0.45679012,\n",
              "       0.4691358 , 0.34567901, 0.37037037, 0.43209877, 0.43209877])"
            ]
          },
          "metadata": {
            "tags": []
          },
          "execution_count": 37
        },
        {
          "output_type": "stream",
          "text": [
            "\n",
            "_______________________________________________________\n",
            "\n",
            ">>>> pipe #1.. \n",
            "\n",
            "\n",
            "\n",
            " ___ pipe #1, k=1, mean:0.49254742547425473\n"
          ],
          "name": "stdout"
        },
        {
          "output_type": "execute_result",
          "data": {
            "text/plain": [
              "array([0.48780488, 0.54878049, 0.44444444, 0.41975309, 0.49382716,\n",
              "       0.60493827, 0.43209877, 0.49382716, 0.4691358 , 0.5308642 ])"
            ]
          },
          "metadata": {
            "tags": []
          },
          "execution_count": 37
        },
        {
          "output_type": "stream",
          "text": [
            "\n",
            "\n",
            " ___ pipe #1, k=2, mean:0.5122553447756699\n"
          ],
          "name": "stdout"
        },
        {
          "output_type": "execute_result",
          "data": {
            "text/plain": [
              "array([0.52439024, 0.54878049, 0.48148148, 0.4691358 , 0.51851852,\n",
              "       0.5308642 , 0.45679012, 0.62962963, 0.49382716, 0.4691358 ])"
            ]
          },
          "metadata": {
            "tags": []
          },
          "execution_count": 37
        },
        {
          "output_type": "stream",
          "text": [
            "\n",
            "\n",
            " ___ pipe #1, k=3, mean:0.5172237277928333\n"
          ],
          "name": "stdout"
        },
        {
          "output_type": "execute_result",
          "data": {
            "text/plain": [
              "array([0.48780488, 0.56097561, 0.51851852, 0.50617284, 0.5308642 ,\n",
              "       0.54320988, 0.43209877, 0.58024691, 0.51851852, 0.49382716])"
            ]
          },
          "metadata": {
            "tags": []
          },
          "execution_count": 37
        },
        {
          "output_type": "stream",
          "text": [
            "\n",
            "\n",
            " ___ pipe #1, k=4, mean:0.517283950617284\n"
          ],
          "name": "stdout"
        },
        {
          "output_type": "execute_result",
          "data": {
            "text/plain": [
              "array([0.43902439, 0.56097561, 0.55555556, 0.51851852, 0.5308642 ,\n",
              "       0.50617284, 0.48148148, 0.61728395, 0.49382716, 0.4691358 ])"
            ]
          },
          "metadata": {
            "tags": []
          },
          "execution_count": 37
        },
        {
          "output_type": "stream",
          "text": [
            "\n",
            "\n",
            " ___ pipe #1, k=5, mean:0.524585968081903\n"
          ],
          "name": "stdout"
        },
        {
          "output_type": "execute_result",
          "data": {
            "text/plain": [
              "array([0.5       , 0.58536585, 0.56790123, 0.50617284, 0.50617284,\n",
              "       0.54320988, 0.43209877, 0.60493827, 0.48148148, 0.51851852])"
            ]
          },
          "metadata": {
            "tags": []
          },
          "execution_count": 37
        },
        {
          "output_type": "stream",
          "text": [
            "\n",
            "\n",
            " ___ pipe #1, k=6, mean:0.5282445046672688\n"
          ],
          "name": "stdout"
        },
        {
          "output_type": "execute_result",
          "data": {
            "text/plain": [
              "array([0.52439024, 0.59756098, 0.54320988, 0.56790123, 0.60493827,\n",
              "       0.54320988, 0.37037037, 0.51851852, 0.50617284, 0.50617284])"
            ]
          },
          "metadata": {
            "tags": []
          },
          "execution_count": 37
        },
        {
          "output_type": "stream",
          "text": [
            "\n",
            "\n",
            " ___ pipe #1, k=7, mean:0.52451068955134\n"
          ],
          "name": "stdout"
        },
        {
          "output_type": "execute_result",
          "data": {
            "text/plain": [
              "array([0.54878049, 0.59756098, 0.56790123, 0.51851852, 0.50617284,\n",
              "       0.54320988, 0.4691358 , 0.50617284, 0.4691358 , 0.51851852])"
            ]
          },
          "metadata": {
            "tags": []
          },
          "execution_count": 37
        },
        {
          "output_type": "stream",
          "text": [
            "\n",
            "\n",
            " ___ pipe #1, k=8, mean:0.5048479373682626\n"
          ],
          "name": "stdout"
        },
        {
          "output_type": "execute_result",
          "data": {
            "text/plain": [
              "array([0.51219512, 0.56097561, 0.50617284, 0.5308642 , 0.50617284,\n",
              "       0.51851852, 0.44444444, 0.54320988, 0.44444444, 0.48148148])"
            ]
          },
          "metadata": {
            "tags": []
          },
          "execution_count": 37
        },
        {
          "output_type": "stream",
          "text": [
            "\n",
            "\n",
            " ___ pipe #1, k=9, mean:0.5134296898524541\n"
          ],
          "name": "stdout"
        },
        {
          "output_type": "execute_result",
          "data": {
            "text/plain": [
              "array([0.51219512, 0.6097561 , 0.5308642 , 0.51851852, 0.48148148,\n",
              "       0.5308642 , 0.44444444, 0.55555556, 0.45679012, 0.49382716])"
            ]
          },
          "metadata": {
            "tags": []
          },
          "execution_count": 37
        },
        {
          "output_type": "stream",
          "text": [
            "\n",
            "\n",
            " ___ pipe #1, k=10, mean:0.5109304426377598\n"
          ],
          "name": "stdout"
        },
        {
          "output_type": "execute_result",
          "data": {
            "text/plain": [
              "array([0.52439024, 0.62195122, 0.48148148, 0.51851852, 0.48148148,\n",
              "       0.55555556, 0.48148148, 0.5308642 , 0.4691358 , 0.44444444])"
            ]
          },
          "metadata": {
            "tags": []
          },
          "execution_count": 37
        },
        {
          "output_type": "stream",
          "text": [
            "\n",
            "\n",
            " ___ pipe #1, k=11, mean:0.5183679614573924\n"
          ],
          "name": "stdout"
        },
        {
          "output_type": "execute_result",
          "data": {
            "text/plain": [
              "array([0.5       , 0.62195122, 0.50617284, 0.5308642 , 0.49382716,\n",
              "       0.55555556, 0.45679012, 0.5308642 , 0.51851852, 0.4691358 ])"
            ]
          },
          "metadata": {
            "tags": []
          },
          "execution_count": 37
        },
        {
          "output_type": "stream",
          "text": [
            "\n",
            "\n",
            " ___ pipe #1, k=12, mean:0.5344474555856669\n"
          ],
          "name": "stdout"
        },
        {
          "output_type": "execute_result",
          "data": {
            "text/plain": [
              "array([0.47560976, 0.62195122, 0.54320988, 0.55555556, 0.48148148,\n",
              "       0.56790123, 0.4691358 , 0.58024691, 0.5308642 , 0.51851852])"
            ]
          },
          "metadata": {
            "tags": []
          },
          "execution_count": 37
        },
        {
          "output_type": "stream",
          "text": [
            "\n",
            "\n",
            " ___ pipe #1, k=13, mean:0.508566696778079\n"
          ],
          "name": "stdout"
        },
        {
          "output_type": "execute_result",
          "data": {
            "text/plain": [
              "array([0.46341463, 0.59756098, 0.51851852, 0.55555556, 0.4691358 ,\n",
              "       0.55555556, 0.43209877, 0.56790123, 0.4691358 , 0.45679012])"
            ]
          },
          "metadata": {
            "tags": []
          },
          "execution_count": 37
        },
        {
          "output_type": "stream",
          "text": [
            "\n",
            "\n",
            " ___ pipe #1, k=14, mean:0.5109906654622102\n"
          ],
          "name": "stdout"
        },
        {
          "output_type": "execute_result",
          "data": {
            "text/plain": [
              "array([0.48780488, 0.6097561 , 0.50617284, 0.50617284, 0.48148148,\n",
              "       0.5308642 , 0.45679012, 0.55555556, 0.5308642 , 0.44444444])"
            ]
          },
          "metadata": {
            "tags": []
          },
          "execution_count": 37
        },
        {
          "output_type": "stream",
          "text": [
            "\n",
            "\n",
            " ___ pipe #1, k=15, mean:0.501219512195122\n"
          ],
          "name": "stdout"
        },
        {
          "output_type": "execute_result",
          "data": {
            "text/plain": [
              "array([0.47560976, 0.53658537, 0.51851852, 0.49382716, 0.49382716,\n",
              "       0.50617284, 0.48148148, 0.5308642 , 0.49382716, 0.48148148])"
            ]
          },
          "metadata": {
            "tags": []
          },
          "execution_count": 37
        },
        {
          "output_type": "stream",
          "text": [
            "\n",
            "\n",
            " ___ pipe #1, k=16, mean:0.48151159289370665\n"
          ],
          "name": "stdout"
        },
        {
          "output_type": "execute_result",
          "data": {
            "text/plain": [
              "array([0.48780488, 0.48780488, 0.50617284, 0.49382716, 0.4691358 ,\n",
              "       0.50617284, 0.41975309, 0.5308642 , 0.40740741, 0.50617284])"
            ]
          },
          "metadata": {
            "tags": []
          },
          "execution_count": 37
        },
        {
          "output_type": "stream",
          "text": [
            "\n",
            "\n",
            " ___ pipe #1, k=17, mean:0.4925925925925926\n"
          ],
          "name": "stdout"
        },
        {
          "output_type": "execute_result",
          "data": {
            "text/plain": [
              "array([0.5       , 0.5       , 0.54320988, 0.48148148, 0.4691358 ,\n",
              "       0.48148148, 0.45679012, 0.54320988, 0.45679012, 0.49382716])"
            ]
          },
          "metadata": {
            "tags": []
          },
          "execution_count": 37
        },
        {
          "output_type": "stream",
          "text": [
            "\n",
            "\n",
            " ___ pipe #1, k=18, mean:0.491358024691358\n"
          ],
          "name": "stdout"
        },
        {
          "output_type": "execute_result",
          "data": {
            "text/plain": [
              "array([0.53658537, 0.46341463, 0.55555556, 0.50617284, 0.48148148,\n",
              "       0.49382716, 0.39506173, 0.51851852, 0.43209877, 0.5308642 ])"
            ]
          },
          "metadata": {
            "tags": []
          },
          "execution_count": 37
        },
        {
          "output_type": "stream",
          "text": [
            "\n",
            "\n",
            " ___ pipe #1, k=19, mean:0.4888587774766637\n"
          ],
          "name": "stdout"
        },
        {
          "output_type": "execute_result",
          "data": {
            "text/plain": [
              "array([0.52439024, 0.5       , 0.51851852, 0.51851852, 0.44444444,\n",
              "       0.50617284, 0.40740741, 0.54320988, 0.44444444, 0.48148148])"
            ]
          },
          "metadata": {
            "tags": []
          },
          "execution_count": 37
        },
        {
          "output_type": "stream",
          "text": [
            "\n",
            "_______________________________________________________\n",
            "\n",
            ">>>> pipe #2.. \n",
            "\n",
            "\n",
            "\n",
            " ___ pipe #2, k=1, mean:0.4962360734718458\n"
          ],
          "name": "stdout"
        },
        {
          "output_type": "execute_result",
          "data": {
            "text/plain": [
              "array([0.5       , 0.54878049, 0.44444444, 0.41975309, 0.49382716,\n",
              "       0.61728395, 0.43209877, 0.49382716, 0.4691358 , 0.54320988])"
            ]
          },
          "metadata": {
            "tags": []
          },
          "execution_count": 37
        },
        {
          "output_type": "stream",
          "text": [
            "\n",
            "\n",
            " ___ pipe #2, k=2, mean:0.5134899126769047\n"
          ],
          "name": "stdout"
        },
        {
          "output_type": "execute_result",
          "data": {
            "text/plain": [
              "array([0.52439024, 0.54878049, 0.4691358 , 0.48148148, 0.50617284,\n",
              "       0.5308642 , 0.4691358 , 0.62962963, 0.49382716, 0.48148148])"
            ]
          },
          "metadata": {
            "tags": []
          },
          "execution_count": 37
        },
        {
          "output_type": "stream",
          "text": [
            "\n",
            "\n",
            " ___ pipe #2, k=3, mean:0.5246311352002409\n"
          ],
          "name": "stdout"
        },
        {
          "output_type": "execute_result",
          "data": {
            "text/plain": [
              "array([0.48780488, 0.56097561, 0.5308642 , 0.51851852, 0.5308642 ,\n",
              "       0.55555556, 0.43209877, 0.58024691, 0.5308642 , 0.51851852])"
            ]
          },
          "metadata": {
            "tags": []
          },
          "execution_count": 37
        },
        {
          "output_type": "stream",
          "text": [
            "\n",
            "\n",
            " ___ pipe #2, k=4, mean:0.5209725986148751\n"
          ],
          "name": "stdout"
        },
        {
          "output_type": "execute_result",
          "data": {
            "text/plain": [
              "array([0.43902439, 0.57317073, 0.56790123, 0.5308642 , 0.51851852,\n",
              "       0.50617284, 0.48148148, 0.62962963, 0.49382716, 0.4691358 ])"
            ]
          },
          "metadata": {
            "tags": []
          },
          "execution_count": 37
        },
        {
          "output_type": "stream",
          "text": [
            "\n",
            "\n",
            " ___ pipe #2, k=5, mean:0.5233514001806685\n"
          ],
          "name": "stdout"
        },
        {
          "output_type": "execute_result",
          "data": {
            "text/plain": [
              "array([0.5       , 0.58536585, 0.56790123, 0.51851852, 0.50617284,\n",
              "       0.5308642 , 0.43209877, 0.59259259, 0.48148148, 0.51851852])"
            ]
          },
          "metadata": {
            "tags": []
          },
          "execution_count": 37
        },
        {
          "output_type": "stream",
          "text": [
            "\n",
            "\n",
            " ___ pipe #2, k=6, mean:0.5282595603733815\n"
          ],
          "name": "stdout"
        },
        {
          "output_type": "execute_result",
          "data": {
            "text/plain": [
              "array([0.51219512, 0.59756098, 0.56790123, 0.58024691, 0.60493827,\n",
              "       0.54320988, 0.35802469, 0.51851852, 0.49382716, 0.50617284])"
            ]
          },
          "metadata": {
            "tags": []
          },
          "execution_count": 37
        },
        {
          "output_type": "stream",
          "text": [
            "\n",
            "\n",
            " ___ pipe #2, k=7, mean:0.5343721770551039\n"
          ],
          "name": "stdout"
        },
        {
          "output_type": "execute_result",
          "data": {
            "text/plain": [
              "array([0.56097561, 0.59756098, 0.58024691, 0.54320988, 0.51851852,\n",
              "       0.54320988, 0.48148148, 0.51851852, 0.4691358 , 0.5308642 ])"
            ]
          },
          "metadata": {
            "tags": []
          },
          "execution_count": 37
        },
        {
          "output_type": "stream",
          "text": [
            "\n",
            "\n",
            " ___ pipe #2, k=8, mean:0.5073170731707318\n"
          ],
          "name": "stdout"
        },
        {
          "output_type": "execute_result",
          "data": {
            "text/plain": [
              "array([0.51219512, 0.56097561, 0.50617284, 0.54320988, 0.51851852,\n",
              "       0.51851852, 0.43209877, 0.54320988, 0.44444444, 0.49382716])"
            ]
          },
          "metadata": {
            "tags": []
          },
          "execution_count": 37
        },
        {
          "output_type": "stream",
          "text": [
            "\n",
            "\n",
            " ___ pipe #2, k=9, mean:0.518383017163505\n"
          ],
          "name": "stdout"
        },
        {
          "output_type": "execute_result",
          "data": {
            "text/plain": [
              "array([0.5       , 0.6097561 , 0.54320988, 0.5308642 , 0.49382716,\n",
              "       0.54320988, 0.44444444, 0.55555556, 0.45679012, 0.50617284])"
            ]
          },
          "metadata": {
            "tags": []
          },
          "execution_count": 37
        },
        {
          "output_type": "stream",
          "text": [
            "\n",
            "\n",
            " ___ pipe #2, k=10, mean:0.5146190906353508\n"
          ],
          "name": "stdout"
        },
        {
          "output_type": "execute_result",
          "data": {
            "text/plain": [
              "array([0.52439024, 0.63414634, 0.49382716, 0.5308642 , 0.48148148,\n",
              "       0.55555556, 0.48148148, 0.5308642 , 0.45679012, 0.45679012])"
            ]
          },
          "metadata": {
            "tags": []
          },
          "execution_count": 37
        },
        {
          "output_type": "stream",
          "text": [
            "\n",
            "\n",
            " ___ pipe #2, k=11, mean:0.5183679614573925\n"
          ],
          "name": "stdout"
        },
        {
          "output_type": "execute_result",
          "data": {
            "text/plain": [
              "array([0.5       , 0.62195122, 0.50617284, 0.54320988, 0.49382716,\n",
              "       0.55555556, 0.45679012, 0.5308642 , 0.49382716, 0.48148148])"
            ]
          },
          "metadata": {
            "tags": []
          },
          "execution_count": 37
        },
        {
          "output_type": "stream",
          "text": [
            "\n",
            "\n",
            " ___ pipe #2, k=12, mean:0.5369015356820235\n"
          ],
          "name": "stdout"
        },
        {
          "output_type": "execute_result",
          "data": {
            "text/plain": [
              "array([0.48780488, 0.62195122, 0.5308642 , 0.56790123, 0.48148148,\n",
              "       0.56790123, 0.4691358 , 0.58024691, 0.5308642 , 0.5308642 ])"
            ]
          },
          "metadata": {
            "tags": []
          },
          "execution_count": 37
        },
        {
          "output_type": "stream",
          "text": [
            "\n",
            "\n",
            " ___ pipe #2, k=13, mean:0.5122704004817826\n"
          ],
          "name": "stdout"
        },
        {
          "output_type": "execute_result",
          "data": {
            "text/plain": [
              "array([0.46341463, 0.59756098, 0.51851852, 0.58024691, 0.4691358 ,\n",
              "       0.55555556, 0.43209877, 0.56790123, 0.4691358 , 0.4691358 ])"
            ]
          },
          "metadata": {
            "tags": []
          },
          "execution_count": 37
        },
        {
          "output_type": "stream",
          "text": [
            "\n",
            "\n",
            " ___ pipe #2, k=14, mean:0.518383017163505\n"
          ],
          "name": "stdout"
        },
        {
          "output_type": "execute_result",
          "data": {
            "text/plain": [
              "array([0.48780488, 0.62195122, 0.50617284, 0.51851852, 0.48148148,\n",
              "       0.54320988, 0.45679012, 0.58024691, 0.5308642 , 0.45679012])"
            ]
          },
          "metadata": {
            "tags": []
          },
          "execution_count": 37
        },
        {
          "output_type": "stream",
          "text": [
            "\n",
            "\n",
            " ___ pipe #2, k=15, mean:0.5085817524841916\n"
          ],
          "name": "stdout"
        },
        {
          "output_type": "execute_result",
          "data": {
            "text/plain": [
              "array([0.47560976, 0.57317073, 0.51851852, 0.50617284, 0.49382716,\n",
              "       0.51851852, 0.48148148, 0.5308642 , 0.49382716, 0.49382716])"
            ]
          },
          "metadata": {
            "tags": []
          },
          "execution_count": 37
        },
        {
          "output_type": "stream",
          "text": [
            "\n",
            "\n",
            " ___ pipe #2, k=16, mean:0.48763926528154167\n"
          ],
          "name": "stdout"
        },
        {
          "output_type": "execute_result",
          "data": {
            "text/plain": [
              "array([0.48780488, 0.52439024, 0.50617284, 0.50617284, 0.4691358 ,\n",
              "       0.50617284, 0.41975309, 0.5308642 , 0.40740741, 0.51851852])"
            ]
          },
          "metadata": {
            "tags": []
          },
          "execution_count": 37
        },
        {
          "output_type": "stream",
          "text": [
            "\n",
            "\n",
            " ___ pipe #2, k=17, mean:0.5024239686841312\n"
          ],
          "name": "stdout"
        },
        {
          "output_type": "execute_result",
          "data": {
            "text/plain": [
              "array([0.5       , 0.53658537, 0.54320988, 0.50617284, 0.4691358 ,\n",
              "       0.49382716, 0.45679012, 0.54320988, 0.45679012, 0.51851852])"
            ]
          },
          "metadata": {
            "tags": []
          },
          "execution_count": 37
        },
        {
          "output_type": "stream",
          "text": [
            "\n",
            "\n",
            " ___ pipe #2, k=18, mean:0.4999397771755495\n"
          ],
          "name": "stdout"
        },
        {
          "output_type": "execute_result",
          "data": {
            "text/plain": [
              "array([0.53658537, 0.51219512, 0.55555556, 0.5308642 , 0.48148148,\n",
              "       0.50617284, 0.39506173, 0.51851852, 0.43209877, 0.5308642 ])"
            ]
          },
          "metadata": {
            "tags": []
          },
          "execution_count": 37
        },
        {
          "output_type": "stream",
          "text": [
            "\n",
            "\n",
            " ___ pipe #2, k=19, mean:0.4962360734718459\n"
          ],
          "name": "stdout"
        },
        {
          "output_type": "execute_result",
          "data": {
            "text/plain": [
              "array([0.52439024, 0.52439024, 0.51851852, 0.5308642 , 0.44444444,\n",
              "       0.51851852, 0.40740741, 0.54320988, 0.44444444, 0.50617284])"
            ]
          },
          "metadata": {
            "tags": []
          },
          "execution_count": 37
        },
        {
          "output_type": "stream",
          "text": [
            "\n",
            "_______________________________________________________\n",
            "\n",
            ">>>> pipe #3.. \n",
            "\n",
            "\n",
            "\n",
            " ___ pipe #3, k=1, mean:0.49378199337548934\n"
          ],
          "name": "stdout"
        },
        {
          "output_type": "execute_result",
          "data": {
            "text/plain": [
              "array([0.48780488, 0.54878049, 0.44444444, 0.41975309, 0.49382716,\n",
              "       0.61728395, 0.43209877, 0.49382716, 0.4691358 , 0.5308642 ])"
            ]
          },
          "metadata": {
            "tags": []
          },
          "execution_count": 37
        },
        {
          "output_type": "stream",
          "text": [
            "\n",
            "\n",
            " ___ pipe #3, k=2, mean:0.5110508882866607\n"
          ],
          "name": "stdout"
        },
        {
          "output_type": "execute_result",
          "data": {
            "text/plain": [
              "array([0.5       , 0.54878049, 0.4691358 , 0.48148148, 0.50617284,\n",
              "       0.5308642 , 0.4691358 , 0.62962963, 0.49382716, 0.48148148])"
            ]
          },
          "metadata": {
            "tags": []
          },
          "execution_count": 37
        },
        {
          "output_type": "stream",
          "text": [
            "\n",
            "\n",
            " ___ pipe #3, k=3, mean:0.5246311352002409\n"
          ],
          "name": "stdout"
        },
        {
          "output_type": "execute_result",
          "data": {
            "text/plain": [
              "array([0.48780488, 0.56097561, 0.5308642 , 0.51851852, 0.5308642 ,\n",
              "       0.55555556, 0.43209877, 0.58024691, 0.5308642 , 0.51851852])"
            ]
          },
          "metadata": {
            "tags": []
          },
          "execution_count": 37
        },
        {
          "output_type": "stream",
          "text": [
            "\n",
            "\n",
            " ___ pipe #3, k=4, mean:0.5209725986148751\n"
          ],
          "name": "stdout"
        },
        {
          "output_type": "execute_result",
          "data": {
            "text/plain": [
              "array([0.43902439, 0.57317073, 0.56790123, 0.5308642 , 0.51851852,\n",
              "       0.50617284, 0.48148148, 0.62962963, 0.49382716, 0.4691358 ])"
            ]
          },
          "metadata": {
            "tags": []
          },
          "execution_count": 37
        },
        {
          "output_type": "stream",
          "text": [
            "\n",
            "\n",
            " ___ pipe #3, k=5, mean:0.5233514001806685\n"
          ],
          "name": "stdout"
        },
        {
          "output_type": "execute_result",
          "data": {
            "text/plain": [
              "array([0.5       , 0.58536585, 0.56790123, 0.51851852, 0.50617284,\n",
              "       0.5308642 , 0.43209877, 0.59259259, 0.48148148, 0.51851852])"
            ]
          },
          "metadata": {
            "tags": []
          },
          "execution_count": 37
        },
        {
          "output_type": "stream",
          "text": [
            "\n",
            "\n",
            " ___ pipe #3, k=6, mean:0.5282595603733815\n"
          ],
          "name": "stdout"
        },
        {
          "output_type": "execute_result",
          "data": {
            "text/plain": [
              "array([0.51219512, 0.59756098, 0.56790123, 0.58024691, 0.60493827,\n",
              "       0.54320988, 0.35802469, 0.51851852, 0.49382716, 0.50617284])"
            ]
          },
          "metadata": {
            "tags": []
          },
          "execution_count": 37
        },
        {
          "output_type": "stream",
          "text": [
            "\n",
            "\n",
            " ___ pipe #3, k=7, mean:0.5331526648599819\n"
          ],
          "name": "stdout"
        },
        {
          "output_type": "execute_result",
          "data": {
            "text/plain": [
              "array([0.54878049, 0.59756098, 0.58024691, 0.54320988, 0.51851852,\n",
              "       0.54320988, 0.48148148, 0.51851852, 0.4691358 , 0.5308642 ])"
            ]
          },
          "metadata": {
            "tags": []
          },
          "execution_count": 37
        },
        {
          "output_type": "stream",
          "text": [
            "\n",
            "\n",
            " ___ pipe #3, k=8, mean:0.5073170731707318\n"
          ],
          "name": "stdout"
        },
        {
          "output_type": "execute_result",
          "data": {
            "text/plain": [
              "array([0.51219512, 0.56097561, 0.50617284, 0.54320988, 0.51851852,\n",
              "       0.51851852, 0.43209877, 0.54320988, 0.44444444, 0.49382716])"
            ]
          },
          "metadata": {
            "tags": []
          },
          "execution_count": 37
        },
        {
          "output_type": "stream",
          "text": [
            "\n",
            "\n",
            " ___ pipe #3, k=9, mean:0.518383017163505\n"
          ],
          "name": "stdout"
        },
        {
          "output_type": "execute_result",
          "data": {
            "text/plain": [
              "array([0.5       , 0.6097561 , 0.54320988, 0.5308642 , 0.49382716,\n",
              "       0.54320988, 0.44444444, 0.55555556, 0.45679012, 0.50617284])"
            ]
          },
          "metadata": {
            "tags": []
          },
          "execution_count": 37
        },
        {
          "output_type": "stream",
          "text": [
            "\n",
            "\n",
            " ___ pipe #3, k=10, mean:0.5146190906353508\n"
          ],
          "name": "stdout"
        },
        {
          "output_type": "execute_result",
          "data": {
            "text/plain": [
              "array([0.52439024, 0.63414634, 0.49382716, 0.5308642 , 0.48148148,\n",
              "       0.55555556, 0.48148148, 0.5308642 , 0.45679012, 0.45679012])"
            ]
          },
          "metadata": {
            "tags": []
          },
          "execution_count": 37
        },
        {
          "output_type": "stream",
          "text": [
            "\n",
            "\n",
            " ___ pipe #3, k=11, mean:0.5183679614573925\n"
          ],
          "name": "stdout"
        },
        {
          "output_type": "execute_result",
          "data": {
            "text/plain": [
              "array([0.5       , 0.62195122, 0.50617284, 0.54320988, 0.49382716,\n",
              "       0.55555556, 0.45679012, 0.5308642 , 0.49382716, 0.48148148])"
            ]
          },
          "metadata": {
            "tags": []
          },
          "execution_count": 37
        },
        {
          "output_type": "stream",
          "text": [
            "\n",
            "\n",
            " ___ pipe #3, k=12, mean:0.5369015356820235\n"
          ],
          "name": "stdout"
        },
        {
          "output_type": "execute_result",
          "data": {
            "text/plain": [
              "array([0.48780488, 0.62195122, 0.5308642 , 0.56790123, 0.48148148,\n",
              "       0.56790123, 0.4691358 , 0.58024691, 0.5308642 , 0.5308642 ])"
            ]
          },
          "metadata": {
            "tags": []
          },
          "execution_count": 37
        },
        {
          "output_type": "stream",
          "text": [
            "\n",
            "\n",
            " ___ pipe #3, k=13, mean:0.5122704004817826\n"
          ],
          "name": "stdout"
        },
        {
          "output_type": "execute_result",
          "data": {
            "text/plain": [
              "array([0.46341463, 0.59756098, 0.51851852, 0.58024691, 0.4691358 ,\n",
              "       0.55555556, 0.43209877, 0.56790123, 0.4691358 , 0.4691358 ])"
            ]
          },
          "metadata": {
            "tags": []
          },
          "execution_count": 37
        },
        {
          "output_type": "stream",
          "text": [
            "\n",
            "\n",
            " ___ pipe #3, k=14, mean:0.518383017163505\n"
          ],
          "name": "stdout"
        },
        {
          "output_type": "execute_result",
          "data": {
            "text/plain": [
              "array([0.48780488, 0.62195122, 0.50617284, 0.51851852, 0.48148148,\n",
              "       0.54320988, 0.45679012, 0.58024691, 0.5308642 , 0.45679012])"
            ]
          },
          "metadata": {
            "tags": []
          },
          "execution_count": 37
        },
        {
          "output_type": "stream",
          "text": [
            "\n",
            "\n",
            " ___ pipe #3, k=15, mean:0.5098012646793135\n"
          ],
          "name": "stdout"
        },
        {
          "output_type": "execute_result",
          "data": {
            "text/plain": [
              "array([0.48780488, 0.57317073, 0.51851852, 0.50617284, 0.49382716,\n",
              "       0.51851852, 0.48148148, 0.5308642 , 0.49382716, 0.49382716])"
            ]
          },
          "metadata": {
            "tags": []
          },
          "execution_count": 37
        },
        {
          "output_type": "stream",
          "text": [
            "\n",
            "\n",
            " ___ pipe #3, k=16, mean:0.48763926528154167\n"
          ],
          "name": "stdout"
        },
        {
          "output_type": "execute_result",
          "data": {
            "text/plain": [
              "array([0.48780488, 0.52439024, 0.50617284, 0.50617284, 0.4691358 ,\n",
              "       0.50617284, 0.41975309, 0.5308642 , 0.40740741, 0.51851852])"
            ]
          },
          "metadata": {
            "tags": []
          },
          "execution_count": 37
        },
        {
          "output_type": "stream",
          "text": [
            "\n",
            "\n",
            " ___ pipe #3, k=17, mean:0.5036585365853659\n"
          ],
          "name": "stdout"
        },
        {
          "output_type": "execute_result",
          "data": {
            "text/plain": [
              "array([0.5       , 0.53658537, 0.54320988, 0.50617284, 0.4691358 ,\n",
              "       0.49382716, 0.45679012, 0.55555556, 0.45679012, 0.51851852])"
            ]
          },
          "metadata": {
            "tags": []
          },
          "execution_count": 37
        },
        {
          "output_type": "stream",
          "text": [
            "\n",
            "\n",
            " ___ pipe #3, k=18, mean:0.4999397771755495\n"
          ],
          "name": "stdout"
        },
        {
          "output_type": "execute_result",
          "data": {
            "text/plain": [
              "array([0.53658537, 0.51219512, 0.55555556, 0.5308642 , 0.48148148,\n",
              "       0.50617284, 0.39506173, 0.51851852, 0.43209877, 0.5308642 ])"
            ]
          },
          "metadata": {
            "tags": []
          },
          "execution_count": 37
        },
        {
          "output_type": "stream",
          "text": [
            "\n",
            "\n",
            " ___ pipe #3, k=19, mean:0.4962360734718459\n"
          ],
          "name": "stdout"
        },
        {
          "output_type": "execute_result",
          "data": {
            "text/plain": [
              "array([0.52439024, 0.52439024, 0.51851852, 0.5308642 , 0.44444444,\n",
              "       0.51851852, 0.40740741, 0.54320988, 0.44444444, 0.50617284])"
            ]
          },
          "metadata": {
            "tags": []
          },
          "execution_count": 37
        },
        {
          "output_type": "stream",
          "text": [
            "\n",
            "_______________________________________________________\n",
            "\n",
            ">>>> pipe #4.. \n",
            "\n",
            "\n",
            "\n",
            " ___ pipe #4, k=1, mean:0.49622101776573324\n"
          ],
          "name": "stdout"
        },
        {
          "output_type": "execute_result",
          "data": {
            "text/plain": [
              "array([0.5       , 0.56097561, 0.48148148, 0.44444444, 0.49382716,\n",
              "       0.56790123, 0.43209877, 0.4691358 , 0.4691358 , 0.54320988])"
            ]
          },
          "metadata": {
            "tags": []
          },
          "execution_count": 37
        },
        {
          "output_type": "stream",
          "text": [
            "\n",
            "\n",
            " ___ pipe #4, k=2, mean:0.49748569707919293\n"
          ],
          "name": "stdout"
        },
        {
          "output_type": "execute_result",
          "data": {
            "text/plain": [
              "array([0.45121951, 0.58536585, 0.50617284, 0.54320988, 0.4691358 ,\n",
              "       0.5308642 , 0.43209877, 0.5308642 , 0.43209877, 0.49382716])"
            ]
          },
          "metadata": {
            "tags": []
          },
          "execution_count": 37
        },
        {
          "output_type": "stream",
          "text": [
            "\n",
            "\n",
            " ___ pipe #4, k=3, mean:0.4987353206865402\n"
          ],
          "name": "stdout"
        },
        {
          "output_type": "execute_result",
          "data": {
            "text/plain": [
              "array([0.46341463, 0.56097561, 0.48148148, 0.54320988, 0.4691358 ,\n",
              "       0.54320988, 0.40740741, 0.49382716, 0.5308642 , 0.49382716])"
            ]
          },
          "metadata": {
            "tags": []
          },
          "execution_count": 37
        },
        {
          "output_type": "stream",
          "text": [
            "\n",
            "\n",
            " ___ pipe #4, k=4, mean:0.4901385124962361\n"
          ],
          "name": "stdout"
        },
        {
          "output_type": "execute_result",
          "data": {
            "text/plain": [
              "array([0.48780488, 0.5       , 0.50617284, 0.51851852, 0.51851852,\n",
              "       0.49382716, 0.40740741, 0.49382716, 0.5308642 , 0.44444444])"
            ]
          },
          "metadata": {
            "tags": []
          },
          "execution_count": 37
        },
        {
          "output_type": "stream",
          "text": [
            "\n",
            "\n",
            " ___ pipe #4, k=5, mean:0.5024691358024691\n"
          ],
          "name": "stdout"
        },
        {
          "output_type": "execute_result",
          "data": {
            "text/plain": [
              "array([0.48780488, 0.51219512, 0.5308642 , 0.51851852, 0.5308642 ,\n",
              "       0.54320988, 0.43209877, 0.51851852, 0.45679012, 0.49382716])"
            ]
          },
          "metadata": {
            "tags": []
          },
          "execution_count": 37
        },
        {
          "output_type": "stream",
          "text": [
            "\n",
            "\n",
            " ___ pipe #4, k=6, mean:0.49384221619993973\n"
          ],
          "name": "stdout"
        },
        {
          "output_type": "execute_result",
          "data": {
            "text/plain": [
              "array([0.45121951, 0.53658537, 0.5308642 , 0.51851852, 0.49382716,\n",
              "       0.48148148, 0.45679012, 0.49382716, 0.51851852, 0.45679012])"
            ]
          },
          "metadata": {
            "tags": []
          },
          "execution_count": 37
        },
        {
          "output_type": "stream",
          "text": [
            "\n",
            "\n",
            " ___ pipe #4, k=7, mean:0.48160192713038236\n"
          ],
          "name": "stdout"
        },
        {
          "output_type": "execute_result",
          "data": {
            "text/plain": [
              "array([0.47560976, 0.42682927, 0.49382716, 0.54320988, 0.43209877,\n",
              "       0.58024691, 0.40740741, 0.45679012, 0.51851852, 0.48148148])"
            ]
          },
          "metadata": {
            "tags": []
          },
          "execution_count": 37
        },
        {
          "output_type": "stream",
          "text": [
            "\n",
            "\n",
            " ___ pipe #4, k=8, mean:0.49632640770852154\n"
          ],
          "name": "stdout"
        },
        {
          "output_type": "execute_result",
          "data": {
            "text/plain": [
              "array([0.48780488, 0.48780488, 0.5308642 , 0.55555556, 0.50617284,\n",
              "       0.51851852, 0.44444444, 0.51851852, 0.4691358 , 0.44444444])"
            ]
          },
          "metadata": {
            "tags": []
          },
          "execution_count": 37
        },
        {
          "output_type": "stream",
          "text": [
            "\n",
            "\n",
            " ___ pipe #4, k=9, mean:0.4999849442938874\n"
          ],
          "name": "stdout"
        },
        {
          "output_type": "execute_result",
          "data": {
            "text/plain": [
              "array([0.47560976, 0.53658537, 0.5308642 , 0.56790123, 0.4691358 ,\n",
              "       0.56790123, 0.40740741, 0.44444444, 0.54320988, 0.45679012])"
            ]
          },
          "metadata": {
            "tags": []
          },
          "execution_count": 37
        },
        {
          "output_type": "stream",
          "text": [
            "\n",
            "\n",
            " ___ pipe #4, k=10, mean:0.4876242095754292\n"
          ],
          "name": "stdout"
        },
        {
          "output_type": "execute_result",
          "data": {
            "text/plain": [
              "array([0.47560976, 0.54878049, 0.5308642 , 0.50617284, 0.48148148,\n",
              "       0.50617284, 0.41975309, 0.43209877, 0.49382716, 0.48148148])"
            ]
          },
          "metadata": {
            "tags": []
          },
          "execution_count": 37
        },
        {
          "output_type": "stream",
          "text": [
            "\n",
            "\n",
            " ___ pipe #4, k=11, mean:0.469165913881361\n"
          ],
          "name": "stdout"
        },
        {
          "output_type": "execute_result",
          "data": {
            "text/plain": [
              "array([0.45121951, 0.52439024, 0.50617284, 0.49382716, 0.45679012,\n",
              "       0.48148148, 0.38271605, 0.41975309, 0.54320988, 0.43209877])"
            ]
          },
          "metadata": {
            "tags": []
          },
          "execution_count": 37
        },
        {
          "output_type": "stream",
          "text": [
            "\n",
            "\n",
            " ___ pipe #4, k=12, mean:0.48029208069858476\n"
          ],
          "name": "stdout"
        },
        {
          "output_type": "execute_result",
          "data": {
            "text/plain": [
              "array([0.46341463, 0.5       , 0.51851852, 0.51851852, 0.4691358 ,\n",
              "       0.49382716, 0.43209877, 0.48148148, 0.50617284, 0.41975309])"
            ]
          },
          "metadata": {
            "tags": []
          },
          "execution_count": 37
        },
        {
          "output_type": "stream",
          "text": [
            "\n",
            "\n",
            " ___ pipe #4, k=13, mean:0.46058416139716957\n"
          ],
          "name": "stdout"
        },
        {
          "output_type": "execute_result",
          "data": {
            "text/plain": [
              "array([0.43902439, 0.48780488, 0.54320988, 0.48148148, 0.4691358 ,\n",
              "       0.4691358 , 0.37037037, 0.43209877, 0.50617284, 0.40740741])"
            ]
          },
          "metadata": {
            "tags": []
          },
          "execution_count": 37
        },
        {
          "output_type": "stream",
          "text": [
            "\n",
            "\n",
            " ___ pipe #4, k=14, mean:0.4642728093947606\n"
          ],
          "name": "stdout"
        },
        {
          "output_type": "execute_result",
          "data": {
            "text/plain": [
              "array([0.42682927, 0.51219512, 0.60493827, 0.50617284, 0.4691358 ,\n",
              "       0.44444444, 0.33333333, 0.45679012, 0.51851852, 0.37037037])"
            ]
          },
          "metadata": {
            "tags": []
          },
          "execution_count": 37
        },
        {
          "output_type": "stream",
          "text": [
            "\n",
            "\n",
            " ___ pipe #4, k=15, mean:0.46672688949111707\n"
          ],
          "name": "stdout"
        },
        {
          "output_type": "execute_result",
          "data": {
            "text/plain": [
              "array([0.42682927, 0.52439024, 0.59259259, 0.4691358 , 0.45679012,\n",
              "       0.49382716, 0.37037037, 0.44444444, 0.49382716, 0.39506173])"
            ]
          },
          "metadata": {
            "tags": []
          },
          "execution_count": 37
        },
        {
          "output_type": "stream",
          "text": [
            "\n",
            "\n",
            " ___ pipe #4, k=16, mean:0.4630081300813009\n"
          ],
          "name": "stdout"
        },
        {
          "output_type": "execute_result",
          "data": {
            "text/plain": [
              "array([0.46341463, 0.5       , 0.5308642 , 0.48148148, 0.43209877,\n",
              "       0.4691358 , 0.35802469, 0.4691358 , 0.50617284, 0.41975309])"
            ]
          },
          "metadata": {
            "tags": []
          },
          "execution_count": 37
        },
        {
          "output_type": "stream",
          "text": [
            "\n",
            "\n",
            " ___ pipe #4, k=17, mean:0.4556910569105691\n"
          ],
          "name": "stdout"
        },
        {
          "output_type": "execute_result",
          "data": {
            "text/plain": [
              "array([0.42682927, 0.46341463, 0.51851852, 0.48148148, 0.45679012,\n",
              "       0.4691358 , 0.37037037, 0.43209877, 0.49382716, 0.44444444])"
            ]
          },
          "metadata": {
            "tags": []
          },
          "execution_count": 37
        },
        {
          "output_type": "stream",
          "text": [
            "\n",
            "\n",
            " ___ pipe #4, k=18, mean:0.4520174646190906\n"
          ],
          "name": "stdout"
        },
        {
          "output_type": "execute_result",
          "data": {
            "text/plain": [
              "array([0.41463415, 0.45121951, 0.54320988, 0.4691358 , 0.48148148,\n",
              "       0.48148148, 0.34567901, 0.44444444, 0.49382716, 0.39506173])"
            ]
          },
          "metadata": {
            "tags": []
          },
          "execution_count": 37
        },
        {
          "output_type": "stream",
          "text": [
            "\n",
            "\n",
            " ___ pipe #4, k=19, mean:0.46058416139716957\n"
          ],
          "name": "stdout"
        },
        {
          "output_type": "execute_result",
          "data": {
            "text/plain": [
              "array([0.45121951, 0.47560976, 0.56790123, 0.50617284, 0.44444444,\n",
              "       0.48148148, 0.34567901, 0.41975309, 0.4691358 , 0.44444444])"
            ]
          },
          "metadata": {
            "tags": []
          },
          "execution_count": 37
        },
        {
          "output_type": "stream",
          "text": [
            "\n",
            "\n",
            "Best score was > 0.5369015356820235\n",
            "pipe #2, k=12, mean:0.5369015356820235\n"
          ],
          "name": "stdout"
        }
      ]
    },
    {
      "cell_type": "markdown",
      "metadata": {
        "id": "Sgr7P3oc8n0W"
      },
      "source": [
        "# Stats on data being analysed"
      ]
    },
    {
      "cell_type": "markdown",
      "metadata": {
        "id": "JCyQK62SWfpr"
      },
      "source": [
        "Quick review of stats of the data we're about to use in the model search..."
      ]
    },
    {
      "cell_type": "code",
      "metadata": {
        "colab": {
          "base_uri": "https://localhost:8080/",
          "height": 597
        },
        "id": "B0AONZGHU02Y",
        "outputId": "15e137e1-432e-4ef1-bbef-e193bf1fcd10"
      },
      "source": [
        "print('Observations/ X...')\n",
        "X.describe()\n",
        "print('\\n\\nTargets/ y...')\n",
        "pd.DataFrame(y).describe()\n",
        "print('\\n\\nDrummers: {}'.format(np.unique(y)))\n",
        "print('Beat positions: {}'.format(np.unique(X.bar_beat_number)))"
      ],
      "execution_count": 53,
      "outputs": [
        {
          "output_type": "stream",
          "text": [
            "Observations/ X...\n"
          ],
          "name": "stdout"
        },
        {
          "output_type": "execute_result",
          "data": {
            "text/html": [
              "<div>\n",
              "<style scoped>\n",
              "    .dataframe tbody tr th:only-of-type {\n",
              "        vertical-align: middle;\n",
              "    }\n",
              "\n",
              "    .dataframe tbody tr th {\n",
              "        vertical-align: top;\n",
              "    }\n",
              "\n",
              "    .dataframe thead th {\n",
              "        text-align: right;\n",
              "    }\n",
              "</style>\n",
              "<table border=\"1\" class=\"dataframe\">\n",
              "  <thead>\n",
              "    <tr style=\"text-align: right;\">\n",
              "      <th></th>\n",
              "      <th>velocity</th>\n",
              "      <th>beat_offset</th>\n",
              "      <th>bar_beat_number</th>\n",
              "    </tr>\n",
              "  </thead>\n",
              "  <tbody>\n",
              "    <tr>\n",
              "      <th>count</th>\n",
              "      <td>5631.000000</td>\n",
              "      <td>5631.000000</td>\n",
              "      <td>5631.000000</td>\n",
              "    </tr>\n",
              "    <tr>\n",
              "      <th>mean</th>\n",
              "      <td>68.054520</td>\n",
              "      <td>-5.153969</td>\n",
              "      <td>8.320902</td>\n",
              "    </tr>\n",
              "    <tr>\n",
              "      <th>std</th>\n",
              "      <td>33.876204</td>\n",
              "      <td>14.429171</td>\n",
              "      <td>4.574257</td>\n",
              "    </tr>\n",
              "    <tr>\n",
              "      <th>min</th>\n",
              "      <td>4.000000</td>\n",
              "      <td>-60.000000</td>\n",
              "      <td>1.000000</td>\n",
              "    </tr>\n",
              "    <tr>\n",
              "      <th>25%</th>\n",
              "      <td>40.500000</td>\n",
              "      <td>-14.000000</td>\n",
              "      <td>5.000000</td>\n",
              "    </tr>\n",
              "    <tr>\n",
              "      <th>50%</th>\n",
              "      <td>62.000000</td>\n",
              "      <td>-5.000000</td>\n",
              "      <td>8.000000</td>\n",
              "    </tr>\n",
              "    <tr>\n",
              "      <th>75%</th>\n",
              "      <td>96.000000</td>\n",
              "      <td>3.000000</td>\n",
              "      <td>12.000000</td>\n",
              "    </tr>\n",
              "    <tr>\n",
              "      <th>max</th>\n",
              "      <td>127.000000</td>\n",
              "      <td>59.000000</td>\n",
              "      <td>16.000000</td>\n",
              "    </tr>\n",
              "  </tbody>\n",
              "</table>\n",
              "</div>"
            ],
            "text/plain": [
              "          velocity  beat_offset  bar_beat_number\n",
              "count  5631.000000  5631.000000      5631.000000\n",
              "mean     68.054520    -5.153969         8.320902\n",
              "std      33.876204    14.429171         4.574257\n",
              "min       4.000000   -60.000000         1.000000\n",
              "25%      40.500000   -14.000000         5.000000\n",
              "50%      62.000000    -5.000000         8.000000\n",
              "75%      96.000000     3.000000        12.000000\n",
              "max     127.000000    59.000000        16.000000"
            ]
          },
          "metadata": {
            "tags": []
          },
          "execution_count": 53
        },
        {
          "output_type": "stream",
          "text": [
            "\n",
            "\n",
            "Targets/ y...\n"
          ],
          "name": "stdout"
        },
        {
          "output_type": "execute_result",
          "data": {
            "text/html": [
              "<div>\n",
              "<style scoped>\n",
              "    .dataframe tbody tr th:only-of-type {\n",
              "        vertical-align: middle;\n",
              "    }\n",
              "\n",
              "    .dataframe tbody tr th {\n",
              "        vertical-align: top;\n",
              "    }\n",
              "\n",
              "    .dataframe thead th {\n",
              "        text-align: right;\n",
              "    }\n",
              "</style>\n",
              "<table border=\"1\" class=\"dataframe\">\n",
              "  <thead>\n",
              "    <tr style=\"text-align: right;\">\n",
              "      <th></th>\n",
              "      <th>0</th>\n",
              "    </tr>\n",
              "  </thead>\n",
              "  <tbody>\n",
              "    <tr>\n",
              "      <th>count</th>\n",
              "      <td>5631</td>\n",
              "    </tr>\n",
              "    <tr>\n",
              "      <th>unique</th>\n",
              "      <td>4</td>\n",
              "    </tr>\n",
              "    <tr>\n",
              "      <th>top</th>\n",
              "      <td>drummer1</td>\n",
              "    </tr>\n",
              "    <tr>\n",
              "      <th>freq</th>\n",
              "      <td>1498</td>\n",
              "    </tr>\n",
              "  </tbody>\n",
              "</table>\n",
              "</div>"
            ],
            "text/plain": [
              "               0\n",
              "count       5631\n",
              "unique         4\n",
              "top     drummer1\n",
              "freq        1498"
            ]
          },
          "metadata": {
            "tags": []
          },
          "execution_count": 53
        },
        {
          "output_type": "stream",
          "text": [
            "\n",
            "\n",
            "Drummers: ['drummer1' 'drummer5' 'drummer7' 'drummer8']\n",
            "Beat positions: [ 1  2  3  4  5  6  7  8  9 10 11 12 13 14 15 16]\n"
          ],
          "name": "stdout"
        }
      ]
    },
    {
      "cell_type": "markdown",
      "metadata": {
        "id": "SF1oMzRp4zd0"
      },
      "source": [
        "## Total notes per drummer in the data"
      ]
    },
    {
      "cell_type": "code",
      "metadata": {
        "colab": {
          "base_uri": "https://localhost:8080/"
        },
        "id": "-3z43MOi42wl",
        "outputId": "6310cbad-1603-4470-dd62-788ddb45ec96"
      },
      "source": [
        "print('DataFrame shape: {}\\n'.format(working_data.shape))\n",
        "print('Total notes per drummer...')\n",
        "working_data.groupby(['drummer_ID'])['drummer_ID'].count() #describe() #['count']\n"
      ],
      "execution_count": 54,
      "outputs": [
        {
          "output_type": "stream",
          "text": [
            "DataFrame shape: (5631, 5)\n",
            "\n",
            "Total notes per drummer...\n"
          ],
          "name": "stdout"
        },
        {
          "output_type": "execute_result",
          "data": {
            "text/plain": [
              "drummer_ID\n",
              "drummer1    1498\n",
              "drummer5    1336\n",
              "drummer7    1372\n",
              "drummer8    1425\n",
              "Name: drummer_ID, dtype: int64"
            ]
          },
          "metadata": {
            "tags": []
          },
          "execution_count": 54
        }
      ]
    },
    {
      "cell_type": "markdown",
      "metadata": {
        "id": "1FojFjM6K1eY"
      },
      "source": [
        "## Total notes per drummer, per instrument/ hand"
      ]
    },
    {
      "cell_type": "code",
      "metadata": {
        "colab": {
          "base_uri": "https://localhost:8080/"
        },
        "id": "hp3ppPLVK4U_",
        "outputId": "f845489e-86b5-470e-f2a4-002f10aff5e6"
      },
      "source": [
        "print('Total notes per drummer, per instrument...')\n",
        "working_data.groupby(['drummer_ID', 'note'])['note'].count() #describe() #['count']\n",
        "#working_data.groupby(['drummer_ID', 'note'])['note'].describe() #['count']"
      ],
      "execution_count": 55,
      "outputs": [
        {
          "output_type": "stream",
          "text": [
            "Total notes per drummer, per instrument...\n"
          ],
          "name": "stdout"
        },
        {
          "output_type": "execute_result",
          "data": {
            "text/plain": [
              "drummer_ID  note \n",
              "drummer1    hh       872\n",
              "            kick     327\n",
              "            snare    299\n",
              "drummer5    hh       732\n",
              "            kick     331\n",
              "            snare    273\n",
              "drummer7    hh       801\n",
              "            kick     330\n",
              "            snare    241\n",
              "drummer8    hh       830\n",
              "            kick     347\n",
              "            snare    248\n",
              "Name: note, dtype: int64"
            ]
          },
          "metadata": {
            "tags": []
          },
          "execution_count": 55
        }
      ]
    },
    {
      "cell_type": "markdown",
      "metadata": {
        "id": "vN4GonIUwjyC"
      },
      "source": [
        "## histograms"
      ]
    },
    {
      "cell_type": "code",
      "metadata": {
        "colab": {
          "base_uri": "https://localhost:8080/",
          "height": 503
        },
        "id": "DrAnMnCrwtsb",
        "outputId": "aadb9f73-7b85-4a52-cc29-5bdaf316c4a9"
      },
      "source": [
        "working_data.beat_offset.hist()"
      ],
      "execution_count": 61,
      "outputs": [
        {
          "output_type": "execute_result",
          "data": {
            "text/plain": [
              "<matplotlib.axes._subplots.AxesSubplot at 0x7f23236c46a0>"
            ]
          },
          "metadata": {
            "tags": []
          },
          "execution_count": 61
        },
        {
          "output_type": "display_data",
          "data": {
            "image/png": "[encoded data removed]",
            "text/plain": [
              "<Figure size 576x576 with 1 Axes>"
            ]
          },
          "metadata": {
            "tags": []
          }
        }
      ]
    },
    {
      "cell_type": "code",
      "metadata": {
        "colab": {
          "base_uri": "https://localhost:8080/",
          "height": 602
        },
        "id": "i40OKLAizoRY",
        "outputId": "3c2f2ac7-b736-4b5b-c063-458ba62bfb58"
      },
      "source": [
        "working_data.beat_offset.hist(by=working_data.note)"
      ],
      "execution_count": 65,
      "outputs": [
        {
          "output_type": "execute_result",
          "data": {
            "text/plain": [
              "array([[<matplotlib.axes._subplots.AxesSubplot object at 0x7f2318e9d780>,\n",
              "        <matplotlib.axes._subplots.AxesSubplot object at 0x7f2318e59748>],\n",
              "       [<matplotlib.axes._subplots.AxesSubplot object at 0x7f2318e25da0>,\n",
              "        <matplotlib.axes._subplots.AxesSubplot object at 0x7f2318de2438>]],\n",
              "      dtype=object)"
            ]
          },
          "metadata": {
            "tags": []
          },
          "execution_count": 65
        },
        {
          "output_type": "display_data",
          "data": {
            "image/png": "[encoded data removed]",
            "text/plain": [
              "<Figure size 576x576 with 4 Axes>"
            ]
          },
          "metadata": {
            "tags": []
          }
        }
      ]
    },
    {
      "cell_type": "code",
      "metadata": {
        "colab": {
          "base_uri": "https://localhost:8080/",
          "height": 503
        },
        "id": "r8RMepB_zgGc",
        "outputId": "d149d4b5-29f8-4c7e-f94a-172fba95ed83"
      },
      "source": [
        "working_data.velocity.hist()"
      ],
      "execution_count": 64,
      "outputs": [
        {
          "output_type": "execute_result",
          "data": {
            "text/plain": [
              "<matplotlib.axes._subplots.AxesSubplot at 0x7f23192262e8>"
            ]
          },
          "metadata": {
            "tags": []
          },
          "execution_count": 64
        },
        {
          "output_type": "display_data",
          "data": {
            "image/png": "[encoded data removed]",
            "text/plain": [
              "<Figure size 576x576 with 1 Axes>"
            ]
          },
          "metadata": {
            "tags": []
          }
        }
      ]
    },
    {
      "cell_type": "code",
      "metadata": {
        "colab": {
          "base_uri": "https://localhost:8080/",
          "height": 599
        },
        "id": "ivF6AzyoxTgC",
        "outputId": "41539f3a-33ff-4f96-a381-68696dbb4171"
      },
      "source": [
        "working_data.velocity.hist(by=working_data.note)"
      ],
      "execution_count": 63,
      "outputs": [
        {
          "output_type": "execute_result",
          "data": {
            "text/plain": [
              "array([[<matplotlib.axes._subplots.AxesSubplot object at 0x7f23191426a0>,\n",
              "        <matplotlib.axes._subplots.AxesSubplot object at 0x7f231904c9b0>],\n",
              "       [<matplotlib.axes._subplots.AxesSubplot object at 0x7f2319081fd0>,\n",
              "        <matplotlib.axes._subplots.AxesSubplot object at 0x7f231903d6a0>]],\n",
              "      dtype=object)"
            ]
          },
          "metadata": {
            "tags": []
          },
          "execution_count": 63
        },
        {
          "output_type": "display_data",
          "data": {
            "image/png": "[encoded data removed]",
            "text/plain": [
              "<Figure size 576x576 with 4 Axes>"
            ]
          },
          "metadata": {
            "tags": []
          }
        }
      ]
    },
    {
      "cell_type": "code",
      "metadata": {
        "id": "-G3dRc2HxrrF"
      },
      "source": [
        "working_data.hist('offset', by="
      ],
      "execution_count": null,
      "outputs": []
    },
    {
      "cell_type": "markdown",
      "metadata": {
        "id": "-g07JDZAK_sm"
      },
      "source": [
        "## Summary metrics per drummer, per instrument/ hand"
      ]
    },
    {
      "cell_type": "code",
      "metadata": {
        "colab": {
          "base_uri": "https://localhost:8080/",
          "height": 503
        },
        "id": "CB4ZYFYw7u2b",
        "outputId": "f51a60b8-b7f6-4c91-aa33-398f74054ac0"
      },
      "source": [
        "working_data.groupby(['drummer_ID', 'note'])[['velocity', 'beat_offset']].describe() #['count']\n"
      ],
      "execution_count": 41,
      "outputs": [
        {
          "output_type": "execute_result",
          "data": {
            "text/html": [
              "<div>\n",
              "<style scoped>\n",
              "    .dataframe tbody tr th:only-of-type {\n",
              "        vertical-align: middle;\n",
              "    }\n",
              "\n",
              "    .dataframe tbody tr th {\n",
              "        vertical-align: top;\n",
              "    }\n",
              "\n",
              "    .dataframe thead tr th {\n",
              "        text-align: left;\n",
              "    }\n",
              "\n",
              "    .dataframe thead tr:last-of-type th {\n",
              "        text-align: right;\n",
              "    }\n",
              "</style>\n",
              "<table border=\"1\" class=\"dataframe\">\n",
              "  <thead>\n",
              "    <tr>\n",
              "      <th></th>\n",
              "      <th></th>\n",
              "      <th colspan=\"8\" halign=\"left\">velocity</th>\n",
              "      <th colspan=\"8\" halign=\"left\">beat_offset</th>\n",
              "    </tr>\n",
              "    <tr>\n",
              "      <th></th>\n",
              "      <th></th>\n",
              "      <th>count</th>\n",
              "      <th>mean</th>\n",
              "      <th>std</th>\n",
              "      <th>min</th>\n",
              "      <th>25%</th>\n",
              "      <th>50%</th>\n",
              "      <th>75%</th>\n",
              "      <th>max</th>\n",
              "      <th>count</th>\n",
              "      <th>mean</th>\n",
              "      <th>std</th>\n",
              "      <th>min</th>\n",
              "      <th>25%</th>\n",
              "      <th>50%</th>\n",
              "      <th>75%</th>\n",
              "      <th>max</th>\n",
              "    </tr>\n",
              "    <tr>\n",
              "      <th>drummer_ID</th>\n",
              "      <th>note</th>\n",
              "      <th></th>\n",
              "      <th></th>\n",
              "      <th></th>\n",
              "      <th></th>\n",
              "      <th></th>\n",
              "      <th></th>\n",
              "      <th></th>\n",
              "      <th></th>\n",
              "      <th></th>\n",
              "      <th></th>\n",
              "      <th></th>\n",
              "      <th></th>\n",
              "      <th></th>\n",
              "      <th></th>\n",
              "      <th></th>\n",
              "      <th></th>\n",
              "    </tr>\n",
              "  </thead>\n",
              "  <tbody>\n",
              "    <tr>\n",
              "      <th rowspan=\"3\" valign=\"top\">drummer1</th>\n",
              "      <th>hh</th>\n",
              "      <td>152.0</td>\n",
              "      <td>72.723684</td>\n",
              "      <td>20.863542</td>\n",
              "      <td>11.0</td>\n",
              "      <td>60.0</td>\n",
              "      <td>74.0</td>\n",
              "      <td>87.00</td>\n",
              "      <td>119.0</td>\n",
              "      <td>152.0</td>\n",
              "      <td>-1.638158</td>\n",
              "      <td>8.892701</td>\n",
              "      <td>-27.0</td>\n",
              "      <td>-7.00</td>\n",
              "      <td>-1.0</td>\n",
              "      <td>5.00</td>\n",
              "      <td>30.0</td>\n",
              "    </tr>\n",
              "    <tr>\n",
              "      <th>kick</th>\n",
              "      <td>32.0</td>\n",
              "      <td>80.656250</td>\n",
              "      <td>18.754112</td>\n",
              "      <td>59.0</td>\n",
              "      <td>66.5</td>\n",
              "      <td>76.5</td>\n",
              "      <td>93.50</td>\n",
              "      <td>127.0</td>\n",
              "      <td>32.0</td>\n",
              "      <td>-5.562500</td>\n",
              "      <td>7.645102</td>\n",
              "      <td>-23.0</td>\n",
              "      <td>-9.00</td>\n",
              "      <td>-6.5</td>\n",
              "      <td>-1.75</td>\n",
              "      <td>12.0</td>\n",
              "    </tr>\n",
              "    <tr>\n",
              "      <th>snare</th>\n",
              "      <td>32.0</td>\n",
              "      <td>110.968750</td>\n",
              "      <td>10.899791</td>\n",
              "      <td>92.0</td>\n",
              "      <td>103.0</td>\n",
              "      <td>110.0</td>\n",
              "      <td>121.25</td>\n",
              "      <td>127.0</td>\n",
              "      <td>32.0</td>\n",
              "      <td>-5.656250</td>\n",
              "      <td>8.185784</td>\n",
              "      <td>-25.0</td>\n",
              "      <td>-10.25</td>\n",
              "      <td>-5.0</td>\n",
              "      <td>-0.50</td>\n",
              "      <td>8.0</td>\n",
              "    </tr>\n",
              "    <tr>\n",
              "      <th rowspan=\"3\" valign=\"top\">drummer5</th>\n",
              "      <th>hh</th>\n",
              "      <td>110.0</td>\n",
              "      <td>73.172727</td>\n",
              "      <td>17.076116</td>\n",
              "      <td>33.0</td>\n",
              "      <td>62.0</td>\n",
              "      <td>71.0</td>\n",
              "      <td>82.00</td>\n",
              "      <td>112.0</td>\n",
              "      <td>110.0</td>\n",
              "      <td>-6.372727</td>\n",
              "      <td>8.522888</td>\n",
              "      <td>-28.0</td>\n",
              "      <td>-12.00</td>\n",
              "      <td>-7.0</td>\n",
              "      <td>0.00</td>\n",
              "      <td>13.0</td>\n",
              "    </tr>\n",
              "    <tr>\n",
              "      <th>kick</th>\n",
              "      <td>32.0</td>\n",
              "      <td>26.000000</td>\n",
              "      <td>2.816999</td>\n",
              "      <td>21.0</td>\n",
              "      <td>24.0</td>\n",
              "      <td>26.0</td>\n",
              "      <td>27.25</td>\n",
              "      <td>34.0</td>\n",
              "      <td>32.0</td>\n",
              "      <td>-3.281250</td>\n",
              "      <td>9.815177</td>\n",
              "      <td>-23.0</td>\n",
              "      <td>-9.50</td>\n",
              "      <td>-1.5</td>\n",
              "      <td>4.25</td>\n",
              "      <td>10.0</td>\n",
              "    </tr>\n",
              "    <tr>\n",
              "      <th>snare</th>\n",
              "      <td>52.0</td>\n",
              "      <td>65.442308</td>\n",
              "      <td>42.638201</td>\n",
              "      <td>4.0</td>\n",
              "      <td>18.0</td>\n",
              "      <td>88.0</td>\n",
              "      <td>98.25</td>\n",
              "      <td>127.0</td>\n",
              "      <td>52.0</td>\n",
              "      <td>-5.173077</td>\n",
              "      <td>22.576859</td>\n",
              "      <td>-57.0</td>\n",
              "      <td>-13.25</td>\n",
              "      <td>-6.5</td>\n",
              "      <td>5.00</td>\n",
              "      <td>59.0</td>\n",
              "    </tr>\n",
              "    <tr>\n",
              "      <th rowspan=\"3\" valign=\"top\">drummer7</th>\n",
              "      <th>hh</th>\n",
              "      <td>116.0</td>\n",
              "      <td>82.586207</td>\n",
              "      <td>22.642810</td>\n",
              "      <td>37.0</td>\n",
              "      <td>66.0</td>\n",
              "      <td>78.5</td>\n",
              "      <td>101.25</td>\n",
              "      <td>127.0</td>\n",
              "      <td>116.0</td>\n",
              "      <td>0.034483</td>\n",
              "      <td>11.928724</td>\n",
              "      <td>-37.0</td>\n",
              "      <td>-7.00</td>\n",
              "      <td>1.0</td>\n",
              "      <td>7.25</td>\n",
              "      <td>32.0</td>\n",
              "    </tr>\n",
              "    <tr>\n",
              "      <th>kick</th>\n",
              "      <td>31.0</td>\n",
              "      <td>45.032258</td>\n",
              "      <td>2.949394</td>\n",
              "      <td>40.0</td>\n",
              "      <td>42.5</td>\n",
              "      <td>46.0</td>\n",
              "      <td>47.00</td>\n",
              "      <td>52.0</td>\n",
              "      <td>31.0</td>\n",
              "      <td>2.645161</td>\n",
              "      <td>14.001306</td>\n",
              "      <td>-34.0</td>\n",
              "      <td>-3.00</td>\n",
              "      <td>4.0</td>\n",
              "      <td>12.50</td>\n",
              "      <td>29.0</td>\n",
              "    </tr>\n",
              "    <tr>\n",
              "      <th>snare</th>\n",
              "      <td>33.0</td>\n",
              "      <td>103.121212</td>\n",
              "      <td>18.189553</td>\n",
              "      <td>5.0</td>\n",
              "      <td>104.0</td>\n",
              "      <td>108.0</td>\n",
              "      <td>109.00</td>\n",
              "      <td>111.0</td>\n",
              "      <td>33.0</td>\n",
              "      <td>-4.242424</td>\n",
              "      <td>12.382019</td>\n",
              "      <td>-28.0</td>\n",
              "      <td>-12.00</td>\n",
              "      <td>-2.0</td>\n",
              "      <td>2.00</td>\n",
              "      <td>30.0</td>\n",
              "    </tr>\n",
              "    <tr>\n",
              "      <th rowspan=\"3\" valign=\"top\">drummer8</th>\n",
              "      <th>hh</th>\n",
              "      <td>158.0</td>\n",
              "      <td>86.075949</td>\n",
              "      <td>27.592703</td>\n",
              "      <td>23.0</td>\n",
              "      <td>66.0</td>\n",
              "      <td>83.0</td>\n",
              "      <td>109.75</td>\n",
              "      <td>127.0</td>\n",
              "      <td>158.0</td>\n",
              "      <td>-4.151899</td>\n",
              "      <td>7.087422</td>\n",
              "      <td>-32.0</td>\n",
              "      <td>-8.00</td>\n",
              "      <td>-4.0</td>\n",
              "      <td>0.75</td>\n",
              "      <td>12.0</td>\n",
              "    </tr>\n",
              "    <tr>\n",
              "      <th>kick</th>\n",
              "      <td>32.0</td>\n",
              "      <td>61.343750</td>\n",
              "      <td>3.570573</td>\n",
              "      <td>57.0</td>\n",
              "      <td>60.0</td>\n",
              "      <td>61.0</td>\n",
              "      <td>63.00</td>\n",
              "      <td>75.0</td>\n",
              "      <td>32.0</td>\n",
              "      <td>-5.656250</td>\n",
              "      <td>7.258407</td>\n",
              "      <td>-26.0</td>\n",
              "      <td>-9.25</td>\n",
              "      <td>-5.5</td>\n",
              "      <td>0.00</td>\n",
              "      <td>12.0</td>\n",
              "    </tr>\n",
              "    <tr>\n",
              "      <th>snare</th>\n",
              "      <td>32.0</td>\n",
              "      <td>120.437500</td>\n",
              "      <td>5.891150</td>\n",
              "      <td>108.0</td>\n",
              "      <td>117.5</td>\n",
              "      <td>121.0</td>\n",
              "      <td>127.00</td>\n",
              "      <td>127.0</td>\n",
              "      <td>32.0</td>\n",
              "      <td>-6.968750</td>\n",
              "      <td>7.389986</td>\n",
              "      <td>-27.0</td>\n",
              "      <td>-11.00</td>\n",
              "      <td>-7.5</td>\n",
              "      <td>-1.25</td>\n",
              "      <td>5.0</td>\n",
              "    </tr>\n",
              "  </tbody>\n",
              "</table>\n",
              "</div>"
            ],
            "text/plain": [
              "                 velocity                                                      \\\n",
              "                    count        mean        std    min    25%    50%     75%   \n",
              "drummer_ID note                                                                 \n",
              "drummer1   hh       152.0   72.723684  20.863542   11.0   60.0   74.0   87.00   \n",
              "           kick      32.0   80.656250  18.754112   59.0   66.5   76.5   93.50   \n",
              "           snare     32.0  110.968750  10.899791   92.0  103.0  110.0  121.25   \n",
              "drummer5   hh       110.0   73.172727  17.076116   33.0   62.0   71.0   82.00   \n",
              "           kick      32.0   26.000000   2.816999   21.0   24.0   26.0   27.25   \n",
              "           snare     52.0   65.442308  42.638201    4.0   18.0   88.0   98.25   \n",
              "drummer7   hh       116.0   82.586207  22.642810   37.0   66.0   78.5  101.25   \n",
              "           kick      31.0   45.032258   2.949394   40.0   42.5   46.0   47.00   \n",
              "           snare     33.0  103.121212  18.189553    5.0  104.0  108.0  109.00   \n",
              "drummer8   hh       158.0   86.075949  27.592703   23.0   66.0   83.0  109.75   \n",
              "           kick      32.0   61.343750   3.570573   57.0   60.0   61.0   63.00   \n",
              "           snare     32.0  120.437500   5.891150  108.0  117.5  121.0  127.00   \n",
              "\n",
              "                        beat_offset                                         \\\n",
              "                    max       count      mean        std   min    25%  50%   \n",
              "drummer_ID note                                                              \n",
              "drummer1   hh     119.0       152.0 -1.638158   8.892701 -27.0  -7.00 -1.0   \n",
              "           kick   127.0        32.0 -5.562500   7.645102 -23.0  -9.00 -6.5   \n",
              "           snare  127.0        32.0 -5.656250   8.185784 -25.0 -10.25 -5.0   \n",
              "drummer5   hh     112.0       110.0 -6.372727   8.522888 -28.0 -12.00 -7.0   \n",
              "           kick    34.0        32.0 -3.281250   9.815177 -23.0  -9.50 -1.5   \n",
              "           snare  127.0        52.0 -5.173077  22.576859 -57.0 -13.25 -6.5   \n",
              "drummer7   hh     127.0       116.0  0.034483  11.928724 -37.0  -7.00  1.0   \n",
              "           kick    52.0        31.0  2.645161  14.001306 -34.0  -3.00  4.0   \n",
              "           snare  111.0        33.0 -4.242424  12.382019 -28.0 -12.00 -2.0   \n",
              "drummer8   hh     127.0       158.0 -4.151899   7.087422 -32.0  -8.00 -4.0   \n",
              "           kick    75.0        32.0 -5.656250   7.258407 -26.0  -9.25 -5.5   \n",
              "           snare  127.0        32.0 -6.968750   7.389986 -27.0 -11.00 -7.5   \n",
              "\n",
              "                               \n",
              "                    75%   max  \n",
              "drummer_ID note                \n",
              "drummer1   hh      5.00  30.0  \n",
              "           kick   -1.75  12.0  \n",
              "           snare  -0.50   8.0  \n",
              "drummer5   hh      0.00  13.0  \n",
              "           kick    4.25  10.0  \n",
              "           snare   5.00  59.0  \n",
              "drummer7   hh      7.25  32.0  \n",
              "           kick   12.50  29.0  \n",
              "           snare   2.00  30.0  \n",
              "drummer8   hh      0.75  12.0  \n",
              "           kick    0.00  12.0  \n",
              "           snare  -1.25   5.0  "
            ]
          },
          "metadata": {
            "tags": []
          },
          "execution_count": 41
        }
      ]
    },
    {
      "cell_type": "markdown",
      "metadata": {
        "id": "KRSKSyDKNu-P"
      },
      "source": [
        "## Check correlations"
      ]
    },
    {
      "cell_type": "code",
      "metadata": {
        "id": "cE9TwJHdPZMa"
      },
      "source": [
        "def plotHeat(corr):\n",
        "  ax = sns.heatmap(\n",
        "    corr, \n",
        "    vmin=-1, vmax=1, center=0,\n",
        "    cmap=sns.diverging_palette(20, 220, n=200),\n",
        "    square=True\n",
        "    )\n",
        "  \n",
        "  ax.set_xticklabels(\n",
        "      ax.get_xticklabels(),\n",
        "      rotation=45,\n",
        "      horizontalalignment='right'\n",
        "  );"
      ],
      "execution_count": 42,
      "outputs": []
    },
    {
      "cell_type": "markdown",
      "metadata": {
        "id": "z0TLylQZQdaz"
      },
      "source": [
        "### Working data, no pipe processing..."
      ]
    },
    {
      "cell_type": "code",
      "metadata": {
        "colab": {
          "base_uri": "https://localhost:8080/",
          "height": 418
        },
        "id": "l6_gz-y6QhfM",
        "outputId": "d2091eb3-0f5f-4b7c-a085-2afd4dde1b14"
      },
      "source": [
        "sns.set(rc={'figure.figsize':(6,6)})\n",
        "plotHeat(working_data.corr())"
      ],
      "execution_count": 43,
      "outputs": [
        {
          "output_type": "display_data",
          "data": {
            "image/png": "[encoded data removed]",
            "text/plain": [
              "<Figure size 432x432 with 2 Axes>"
            ]
          },
          "metadata": {
            "tags": []
          }
        }
      ]
    },
    {
      "cell_type": "code",
      "metadata": {
        "colab": {
          "base_uri": "https://localhost:8080/",
          "height": 566
        },
        "id": "mOUorLHARBUr",
        "outputId": "926209d5-9668-408d-f546-3369783aba98"
      },
      "source": [
        "# Basic correlogram\n",
        "sns.set(rc={'figure.figsize':(8,8)})\n",
        "sns.pairplot(working_data)\n",
        "plt.show()\n"
      ],
      "execution_count": 44,
      "outputs": [
        {
          "output_type": "execute_result",
          "data": {
            "text/plain": [
              "<seaborn.axisgrid.PairGrid at 0x7f23236a5518>"
            ]
          },
          "metadata": {
            "tags": []
          },
          "execution_count": 44
        },
        {
          "output_type": "display_data",
          "data": {
            "image/png": "[encoded data removed]",
            "text/plain": [
              "<Figure size 540x540 with 12 Axes>"
            ]
          },
          "metadata": {
            "tags": []
          }
        }
      ]
    },
    {
      "cell_type": "markdown",
      "metadata": {
        "id": "mFV_1jqZQql8"
      },
      "source": [
        "### Data after pipeline processing"
      ]
    },
    {
      "cell_type": "code",
      "metadata": {
        "colab": {
          "base_uri": "https://localhost:8080/",
          "height": 476
        },
        "id": "K8TQWdJsN0Nu",
        "outputId": "dec360d9-34be-455e-ac4a-b2bde301afaa"
      },
      "source": [
        "sns.set(rc={'figure.figsize':(8,8)})\n",
        "plotHeat(pd.DataFrame(output1).corr())\n"
      ],
      "execution_count": 45,
      "outputs": [
        {
          "output_type": "display_data",
          "data": {
            "image/png": "[encoded data removed]",
            "text/plain": [
              "<Figure size 576x576 with 2 Axes>"
            ]
          },
          "metadata": {
            "tags": []
          }
        }
      ]
    },
    {
      "cell_type": "code",
      "metadata": {
        "colab": {
          "base_uri": "https://localhost:8080/",
          "height": 367
        },
        "id": "OPs4q2MtPypn",
        "outputId": "ed869cb3-0a35-4037-c0d5-31dfe0cdf627"
      },
      "source": [
        "sns.set(rc={'figure.figsize':(6,6)})\n",
        "plotHeat(pd.DataFrame(output2).corr())\n"
      ],
      "execution_count": 46,
      "outputs": [
        {
          "output_type": "display_data",
          "data": {
            "image/png": "[encoded data removed]",
            "text/plain": [
              "<Figure size 432x432 with 2 Axes>"
            ]
          },
          "metadata": {
            "tags": []
          }
        }
      ]
    },
    {
      "cell_type": "code",
      "metadata": {
        "colab": {
          "base_uri": "https://localhost:8080/",
          "height": 367
        },
        "id": "6-FipHh_P0bn",
        "outputId": "d3ca198d-0809-4124-90d7-c52e3ad6ec6f"
      },
      "source": [
        "sns.set(rc={'figure.figsize':(6,6)})\n",
        "plotHeat(pd.DataFrame(output3).corr())"
      ],
      "execution_count": 47,
      "outputs": [
        {
          "output_type": "display_data",
          "data": {
            "image/png": "[encoded data removed]",
            "text/plain": [
              "<Figure size 432x432 with 2 Axes>"
            ]
          },
          "metadata": {
            "tags": []
          }
        }
      ]
    },
    {
      "cell_type": "code",
      "metadata": {
        "colab": {
          "base_uri": "https://localhost:8080/",
          "height": 476
        },
        "id": "UVqHkidWlsC6",
        "outputId": "c84f8512-2a68-46b5-8b61-12346274f05b"
      },
      "source": [
        "sns.set(rc={'figure.figsize':(8,8)})\n",
        "plotHeat(pd.DataFrame(output4).corr())"
      ],
      "execution_count": 48,
      "outputs": [
        {
          "output_type": "display_data",
          "data": {
            "image/png": "[encoded data removed]",
            "text/plain": [
              "<Figure size 576x576 with 2 Axes>"
            ]
          },
          "metadata": {
            "tags": []
          }
        }
      ]
    }
  ]
}