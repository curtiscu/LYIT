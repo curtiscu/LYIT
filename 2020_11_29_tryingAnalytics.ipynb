{
  "nbformat": 4,
  "nbformat_minor": 0,
  "metadata": {
    "colab": {
      "name": "2020-11-29_tryingAnalytics.ipynb",
      "provenance": [],
      "collapsed_sections": [],
      "toc_visible": true,
      "authorship_tag": "ABX9TyP51AtOpIMpPsPplpqnABJv",
      "include_colab_link": true
    },
    "kernelspec": {
      "name": "python3",
      "display_name": "Python 3"
    }
  },
  "cells": [
    {
      "cell_type": "markdown",
      "metadata": {
        "id": "view-in-github",
        "colab_type": "text"
      },
      "source": [
        "<a href=\"https://colab.research.google.com/github/curtiscu/LYIT/blob/master/2020_11_29_tryingAnalytics.ipynb\" target=\"_parent\"><img src=\"https://colab.research.google.com/assets/colab-badge.svg\" alt=\"Open In Colab\"/></a>"
      ]
    },
    {
      "cell_type": "code",
      "metadata": {
        "id": "fzsDDd2nVeXB"
      },
      "source": [
        ""
      ],
      "execution_count": null,
      "outputs": []
    },
    {
      "cell_type": "markdown",
      "metadata": {
        "id": "Shrut1pwdCHF"
      },
      "source": [
        "# TODO - stuff I need to try..\n",
        "\n",
        "Scaling...\n",
        "- MinMax - DONE\n",
        "  - Data is scaled to a fixed range - usually 0 to 1\n",
        "- Robust - DONE\n",
        "- Standardize - DONE\n",
        "  - ( centered around 0 with a standard deviation of 1) - see https://sebastianraschka.com/Articles/2014_about_feature_scaling.html\n",
        "\n"
      ]
    },
    {
      "cell_type": "markdown",
      "metadata": {
        "id": "bvErVZS5sa6V"
      },
      "source": [
        "# Building on GridSearchCV, need to try PCA"
      ]
    },
    {
      "cell_type": "markdown",
      "metadata": {
        "id": "NybvOG9ssS26"
      },
      "source": [
        "# Setup Colab env\n"
      ]
    },
    {
      "cell_type": "code",
      "metadata": {
        "id": "UliwyDDMjY8U",
        "colab": {
          "base_uri": "https://localhost:8080/"
        },
        "outputId": "49312903-6e81-4952-a60d-685ca9c50afc"
      },
      "source": [
        "\n",
        "import sklearn\n",
        "sklearn.__version__\n",
        "!pip install --upgrade scikit-learn\n",
        "\n",
        "#!pip uninstall scikit-learn -y\n",
        "#!pip install scikit-learn"
      ],
      "execution_count": null,
      "outputs": [
        {
          "output_type": "stream",
          "text": [
            "Requirement already up-to-date: scikit-learn in /usr/local/lib/python3.6/dist-packages (0.23.2)\n",
            "Requirement already satisfied, skipping upgrade: joblib>=0.11 in /usr/local/lib/python3.6/dist-packages (from scikit-learn) (0.17.0)\n",
            "Requirement already satisfied, skipping upgrade: scipy>=0.19.1 in /usr/local/lib/python3.6/dist-packages (from scikit-learn) (1.4.1)\n",
            "Requirement already satisfied, skipping upgrade: threadpoolctl>=2.0.0 in /usr/local/lib/python3.6/dist-packages (from scikit-learn) (2.1.0)\n",
            "Requirement already satisfied, skipping upgrade: numpy>=1.13.3 in /usr/local/lib/python3.6/dist-packages (from scikit-learn) (1.18.5)\n"
          ],
          "name": "stdout"
        }
      ]
    },
    {
      "cell_type": "code",
      "metadata": {
        "id": "juZFbd9RttvQ"
      },
      "source": [
        "# print all cell output\n",
        "from IPython.core.interactiveshell import InteractiveShell\n",
        "InteractiveShell.ast_node_interactivity = \"all\"\n"
      ],
      "execution_count": null,
      "outputs": []
    },
    {
      "cell_type": "markdown",
      "metadata": {
        "id": "yEXZFoA4t9de"
      },
      "source": [
        "## Google drive access"
      ]
    },
    {
      "cell_type": "code",
      "metadata": {
        "id": "uRELmgI2mvEK",
        "colab": {
          "base_uri": "https://localhost:8080/"
        },
        "outputId": "2ea3b481-7dfd-4a2b-ba86-52b550ac1873"
      },
      "source": [
        "# mount google drive\n",
        "from google.colab import drive\n",
        "drive.mount('/content/drive', force_remount=True)\n"
      ],
      "execution_count": null,
      "outputs": [
        {
          "output_type": "stream",
          "text": [
            "Mounted at /content/drive\n"
          ],
          "name": "stdout"
        }
      ]
    },
    {
      "cell_type": "code",
      "metadata": {
        "id": "Yk2_ztH9uKat",
        "colab": {
          "base_uri": "https://localhost:8080/"
        },
        "outputId": "a9ab4c68-441c-4b04-c4c1-1fbc63c46143"
      },
      "source": [
        "# peek at data\n",
        "! ls -al '/content/drive/My Drive/groove-v1.0.0-midionly/groove/drummer1/eval_session/'\n",
        "\n",
        "# peek at modules from local  'E:\\Google Drive\\LYIT\\Dissertation\\modules'\n",
        "! ls -al '/content/drive/My Drive/LYIT/Dissertation/modules/'"
      ],
      "execution_count": null,
      "outputs": [
        {
          "output_type": "stream",
          "text": [
            "total 35\n",
            "-rw------- 1 root root 2589 Apr 27  2020 10_soul-groove10_102_beat_4-4.mid\n",
            "-rw------- 1 root root 4793 Apr 27  2020 1_funk-groove1_138_beat_4-4.mid\n",
            "-rw------- 1 root root 3243 Apr 27  2020 2_funk-groove2_105_beat_4-4.mid\n",
            "-rw------- 1 root root 4466 Apr 27  2020 3_soul-groove3_86_beat_4-4.mid\n",
            "-rw------- 1 root root 2551 Apr 27  2020 4_soul-groove4_80_beat_4-4.mid\n",
            "-rw------- 1 root root 3798 Apr 27  2020 5_funk-groove5_84_beat_4-4.mid\n",
            "-rw------- 1 root root 3760 Apr 27  2020 6_hiphop-groove6_87_beat_4-4.mid\n",
            "-rw------- 1 root root 1894 Apr 27  2020 7_pop-groove7_138_beat_4-4.mid\n",
            "-rw------- 1 root root 2437 Apr 27  2020 8_rock-groove8_65_beat_4-4.mid\n",
            "-rw------- 1 root root 3448 Apr 27  2020 9_soul-groove9_105_beat_4-4.mid\n",
            "total 52\n",
            "-rw------- 1 root root 28725 Nov 29 21:52 data_prep.py\n",
            "-rw------- 1 root root  2904 Nov 18 21:57 pipeline_utils.py\n",
            "drwx------ 2 root root  4096 May 10  2020 __pycache__\n",
            "-rw------- 1 root root  7847 Aug 18 22:09 stats_n_features.py\n",
            "-rw------- 1 root root  8459 Aug 18 22:03 visualizations.py\n"
          ],
          "name": "stdout"
        }
      ]
    },
    {
      "cell_type": "markdown",
      "metadata": {
        "id": "SBKOdMxXFygn"
      },
      "source": [
        "## Auto reload module\n",
        "\n",
        "Now using library code I've created and saved to google drive which is automatically pushed to the cloud and made available to the colab env. The autoreload stuff below should help imports to 'reimport' to load changes to the library code.\n",
        "\n",
        "It's not the quickest/ most reliable, so if in a hurry, brute force loading of changes by restarting the runtime."
      ]
    },
    {
      "cell_type": "code",
      "metadata": {
        "id": "jErvkusO6D01"
      },
      "source": [
        "# tool to auto reload modules.\n",
        "%load_ext autoreload\n",
        "\n",
        "# config to auto-reload all modules, handy to make \n",
        "# writing and testing modules much easier.\n",
        "%autoreload 2"
      ],
      "execution_count": null,
      "outputs": []
    },
    {
      "cell_type": "markdown",
      "metadata": {
        "id": "2qR3tjMl4bv2"
      },
      "source": [
        "## Imports and accessing lib functions"
      ]
    },
    {
      "cell_type": "code",
      "metadata": {
        "colab": {
          "base_uri": "https://localhost:8080/"
        },
        "id": "-i6pGULtLiXb",
        "outputId": "d8513d1e-164e-4870-8f9c-26a4ef978ad5"
      },
      "source": [
        "# install required libs\n",
        "!pip install mido"
      ],
      "execution_count": null,
      "outputs": [
        {
          "output_type": "stream",
          "text": [
            "Collecting mido\n",
            "\u001b[?25l  Downloading https://files.pythonhosted.org/packages/20/0a/81beb587b1ae832ea6a1901dc7c6faa380e8dd154e0a862f0a9f3d2afab9/mido-1.2.9-py2.py3-none-any.whl (52kB)\n",
            "\u001b[K     |████████████████████████████████| 61kB 3.4MB/s \n",
            "\u001b[?25hInstalling collected packages: mido\n",
            "Successfully installed mido-1.2.9\n"
          ],
          "name": "stdout"
        }
      ]
    },
    {
      "cell_type": "code",
      "metadata": {
        "id": "rjqCavr4sz4x"
      },
      "source": [
        "# regular imports\n",
        "import pandas as pd\n",
        "import numpy as np\n",
        "\n",
        "# scikit-learn\n",
        "from sklearn.metrics import classification_report\n",
        "from sklearn.metrics import confusion_matrix\n",
        "from sklearn.metrics import accuracy_score\n",
        "from sklearn.neighbors import KNeighborsClassifier\n",
        "from sklearn.model_selection import train_test_split\n",
        "from sklearn.preprocessing import  MinMaxScaler, RobustScaler, OneHotEncoder, StandardScaler\n",
        "from sklearn.compose import ColumnTransformer\n",
        "from sklearn.base import BaseEstimator, TransformerMixin\n",
        "from sklearn.pipeline import Pipeline\n",
        "\n",
        "# graphics/ charts\n",
        "import matplotlib.pyplot as plt\n",
        "import seaborn as sns\n",
        "%matplotlib inline\n",
        "\n",
        "# misc\n",
        "from scipy import stats\n",
        "from collections import namedtuple\n",
        "import math\n",
        "import datetime\n",
        "from itertools import cycle"
      ],
      "execution_count": null,
      "outputs": []
    },
    {
      "cell_type": "code",
      "metadata": {
        "id": "OlF0_jtDVS7I"
      },
      "source": [
        "import mido  # MIDI library processing\n",
        "from mido import MidiFile\n",
        "from mido import Message\n",
        "from mido import tempo2bpm\n",
        "from mido import tick2second"
      ],
      "execution_count": null,
      "outputs": []
    },
    {
      "cell_type": "code",
      "metadata": {
        "id": "DQ0sg10tzufp"
      },
      "source": [
        "# import my modules\n",
        "import sys\n",
        "sys.path.append('/content/drive/My Drive/LYIT/Dissertation/modules/')\n",
        "import data_prep as dp\n",
        "import pipeline_utils as pu\n",
        "import stats_n_features as sf"
      ],
      "execution_count": null,
      "outputs": []
    },
    {
      "cell_type": "code",
      "metadata": {
        "colab": {
          "base_uri": "https://localhost:8080/"
        },
        "id": "8sJrzgLAYHdB",
        "outputId": "b6c5cfe4-e2e3-4174-d134-d23b1c57a625"
      },
      "source": [
        "# test module function calls..\n",
        "dp.test_function_call('bling')\n",
        "sf.test_function_call('hello')"
      ],
      "execution_count": null,
      "outputs": [
        {
          "output_type": "stream",
          "text": [
            ">> LOADING custom module, when: 2020-11-29 22:48:57.868189, module name: data_prep\n",
            "Test function in data_prep.py called and worked! when: 2020-11-29 22:48:57.873468,  param:bling\n",
            "Test function in stats_n_features called and worked! when: 2020-11-29 22:48:57.873646,  param:hello\n"
          ],
          "name": "stdout"
        }
      ]
    },
    {
      "cell_type": "markdown",
      "metadata": {
        "id": "lBT_BaeD4o8L"
      },
      "source": [
        "## Pandas display options"
      ]
    },
    {
      "cell_type": "code",
      "metadata": {
        "id": "KkLdwFFAAotC"
      },
      "source": [
        "def set_pandas_display_options() -> None:\n",
        "    # Ref: https://stackoverflow.com/a/52432757/\n",
        "    display = pd.options.display\n",
        "\n",
        "    display.max_columns = 1000\n",
        "    display.max_rows = 2000\n",
        "    display.max_colwidth = 1000\n",
        "    display.width = None\n",
        "    # display.precision = 2  # set as needed\n",
        "\n",
        "set_pandas_display_options()\n",
        "#pd.reset_option('all')\n"
      ],
      "execution_count": null,
      "outputs": []
    },
    {
      "cell_type": "markdown",
      "metadata": {
        "id": "c3onp99QayAH"
      },
      "source": [
        "# Load & filter data..."
      ]
    },
    {
      "cell_type": "code",
      "metadata": {
        "colab": {
          "base_uri": "https://localhost:8080/"
        },
        "id": "0vKT1X98Zc7L",
        "outputId": "9c99745b-ff4f-4327-a202-90903d01d10d"
      },
      "source": [
        "##################################\n",
        "######## LOAD\n",
        "\n",
        "#my_data = dp.load_all_data()\n",
        "my_data = dp.load_all_data(filter_err_buckets=False)\n",
        "all_drummer_data = my_data.copy()"
      ],
      "execution_count": null,
      "outputs": [
        {
          "output_type": "stream",
          "text": [
            "BULK LOAD: drummer1, drummer1/eval_session/1_funk-groove1_138_beat_4-4.mid\n",
            "FILE name: /content/drive/My Drive/groove-v1.0.0-midionly/groove/drummer1/eval_session/1_funk-groove1_138_beat_4-4.mid\n",
            "    loaded file: <midi file '/content/drive/My Drive/groove-v1.0.0-midionly/groove/drummer1/eval_session/1_funk-groove1_138_beat_4-4.mid' type 0, 1 tracks, 1300 messages>\n",
            "    time sig: <meta message time_signature numerator=4 denominator=4 clocks_per_click=24 notated_32nd_notes_per_beat=8 time=0>\n",
            "    tempo: <meta message set_tempo tempo=434783 time=0>\n",
            "    track count: 1, tracks: [<midi track 'MIDI' 1300 messages>]\n",
            "    MIDI file type: 0\n",
            "    > processing track: <midi track 'MIDI' 1300 messages>\n",
            "    __notes pre-filter: [36. 37. 38. 40. 43. 44. 51. 52. 53. 55.]\n",
            "    __applying filter: [44]\n",
            "    __notes post filter: [36. 37. 38. 40. 43. 51. 52. 53. 55.]\n",
            "    note_on span - first tick: 3 , last tick: 30658 \n",
            "    good instruments: 5, {36.0: 'Bass Drum 1 (36)', 38.0: 'Acoustic Snare (38)', 43.0: 'High Floor Tom (43)', 49.0: 'Crash Cymbal 1 (49)', 51.0: 'Ride Cymbal 1 (51)'}\n",
            "    bar info - bars in file: 16, bar quantize level: 16.0\n",
            "    tick info - ticks per time sig beat: 480.0, ticks per quantize bin: 120\n",
            "    > DISABLED - err bucket filtering.\n",
            "   > raw instruments: [49 51 36 38 43]\n",
            "   ['Crash Cymbal 1 (49)', 'Ride Cymbal 1 (51)', 'Bass Drum 1 (36)', 'Acoustic Snare (38)', 'High Floor Tom (43)']\n",
            "   counts before final filter: note\n",
            "36     54\n",
            "38    101\n",
            "43      1\n",
            "49      4\n",
            "51    128\n",
            "Name: note, dtype: int64\n",
            "   counts after final filter: note\n",
            "36     54\n",
            "38    101\n",
            "51    128\n",
            "Name: note, dtype: int64\n",
            "    counts after final merge: note\n",
            "hh       128\n",
            "kick      54\n",
            "snare    101\n",
            "Name: note, dtype: int64\n",
            "BULK LOAD: drummer1, drummer1/eval_session/3_soul-groove3_86_beat_4-4.mid\n",
            "FILE name: /content/drive/My Drive/groove-v1.0.0-midionly/groove/drummer1/eval_session/3_soul-groove3_86_beat_4-4.mid\n",
            "    loaded file: <midi file '/content/drive/My Drive/groove-v1.0.0-midionly/groove/drummer1/eval_session/3_soul-groove3_86_beat_4-4.mid' type 0, 1 tracks, 1179 messages>\n",
            "    time sig: <meta message time_signature numerator=4 denominator=4 clocks_per_click=24 notated_32nd_notes_per_beat=8 time=0>\n",
            "    tempo: <meta message set_tempo tempo=697674 time=0>\n",
            "    track count: 1, tracks: [<midi track 'MIDI' 1179 messages>]\n",
            "    MIDI file type: 0\n",
            "    > processing track: <midi track 'MIDI' 1179 messages>\n",
            "    __notes pre-filter: [22. 26. 36. 37. 38. 40. 42. 44. 46.]\n",
            "    __applying filter: [44]\n",
            "    __notes post filter: [22. 26. 36. 37. 38. 40. 42. 46.]\n",
            "    note_on span - first tick: 0 , last tick: 30696 \n",
            "    good instruments: 4, {36.0: 'Bass Drum 1 (36)', 38.0: 'Acoustic Snare (38)', 42.0: 'Closed Hi Hat (42)', 46.0: 'Open Hi-Hat (46)'}\n",
            "    bar info - bars in file: 16, bar quantize level: 16.0\n",
            "    tick info - ticks per time sig beat: 480.0, ticks per quantize bin: 120\n",
            "    > DISABLED - err bucket filtering.\n",
            "   > raw instruments: [42 36 38 46]\n",
            "   ['Closed Hi Hat (42)', 'Bass Drum 1 (36)', 'Acoustic Snare (38)', 'Open Hi-Hat (46)']\n",
            "   counts before final filter: note\n",
            "36     80\n",
            "38    123\n",
            "42    249\n",
            "46      3\n",
            "Name: note, dtype: int64\n",
            "   counts after final filter: note\n",
            "36     80\n",
            "38    123\n",
            "42    249\n",
            "46      3\n",
            "Name: note, dtype: int64\n",
            "    counts after final merge: note\n",
            "hh       252\n",
            "kick      80\n",
            "snare    123\n",
            "Name: note, dtype: int64\n",
            "BULK LOAD: drummer1, drummer1/eval_session/4_soul-groove4_80_beat_4-4.mid\n",
            "FILE name: /content/drive/My Drive/groove-v1.0.0-midionly/groove/drummer1/eval_session/4_soul-groove4_80_beat_4-4.mid\n",
            "    loaded file: <midi file '/content/drive/My Drive/groove-v1.0.0-midionly/groove/drummer1/eval_session/4_soul-groove4_80_beat_4-4.mid' type 0, 1 tracks, 626 messages>\n",
            "    time sig: <meta message time_signature numerator=4 denominator=4 clocks_per_click=24 notated_32nd_notes_per_beat=8 time=0>\n",
            "    tempo: <meta message set_tempo tempo=750000 time=0>\n",
            "    track count: 1, tracks: [<midi track 'MIDI' 626 messages>]\n",
            "    MIDI file type: 0\n",
            "    > processing track: <midi track 'MIDI' 626 messages>\n",
            "    __notes pre-filter: [22. 26. 36. 38. 40. 42. 44.]\n",
            "    __applying filter: [44]\n",
            "    __notes post filter: [22. 26. 36. 38. 40. 42.]\n",
            "    note_on span - first tick: 0 , last tick: 30470 \n",
            "    good instruments: 4, {36.0: 'Bass Drum 1 (36)', 38.0: 'Acoustic Snare (38)', 42.0: 'Closed Hi Hat (42)', 46.0: 'Open Hi-Hat (46)'}\n",
            "    bar info - bars in file: 16, bar quantize level: 16.0\n",
            "    tick info - ticks per time sig beat: 480.0, ticks per quantize bin: 120\n",
            "    > DISABLED - err bucket filtering.\n",
            "   > raw instruments: [36 42 38 46]\n",
            "   ['Bass Drum 1 (36)', 'Closed Hi Hat (42)', 'Acoustic Snare (38)', 'Open Hi-Hat (46)']\n",
            "   counts before final filter: note\n",
            "36     32\n",
            "38     32\n",
            "42    144\n",
            "46      8\n",
            "Name: note, dtype: int64\n",
            "   counts after final filter: note\n",
            "36     32\n",
            "38     32\n",
            "42    144\n",
            "46      8\n",
            "Name: note, dtype: int64\n",
            "    counts after final merge: note\n",
            "hh       152\n",
            "kick      32\n",
            "snare     32\n",
            "Name: note, dtype: int64\n",
            "BULK LOAD: drummer1, drummer1/eval_session/6_hiphop-groove6_87_beat_4-4.mid\n",
            "FILE name: /content/drive/My Drive/groove-v1.0.0-midionly/groove/drummer1/eval_session/6_hiphop-groove6_87_beat_4-4.mid\n",
            "    loaded file: <midi file '/content/drive/My Drive/groove-v1.0.0-midionly/groove/drummer1/eval_session/6_hiphop-groove6_87_beat_4-4.mid' type 0, 1 tracks, 971 messages>\n",
            "    time sig: <meta message time_signature numerator=4 denominator=4 clocks_per_click=24 notated_32nd_notes_per_beat=8 time=0>\n",
            "    tempo: <meta message set_tempo tempo=689655 time=0>\n",
            "    track count: 1, tracks: [<midi track 'MIDI' 971 messages>]\n",
            "    MIDI file type: 0\n",
            "    > processing track: <midi track 'MIDI' 971 messages>\n",
            "    __notes pre-filter: [22. 26. 36. 37. 38. 40. 42. 44.]\n",
            "    __applying filter: [44]\n",
            "    __notes post filter: [22. 26. 36. 37. 38. 40. 42.]\n",
            "    note_on span - first tick: 0 , last tick: 30474 \n",
            "    good instruments: 4, {36.0: 'Bass Drum 1 (36)', 38.0: 'Acoustic Snare (38)', 42.0: 'Closed Hi Hat (42)', 46.0: 'Open Hi-Hat (46)'}\n",
            "    bar info - bars in file: 16, bar quantize level: 16.0\n",
            "    tick info - ticks per time sig beat: 480.0, ticks per quantize bin: 120\n",
            "    > DISABLED - err bucket filtering.\n",
            "   > raw instruments: [36 42 38 46]\n",
            "   ['Bass Drum 1 (36)', 'Closed Hi Hat (42)', 'Acoustic Snare (38)', 'Open Hi-Hat (46)']\n",
            "   counts before final filter: note\n",
            "36    105\n",
            "38     33\n",
            "42    217\n",
            "46      5\n",
            "Name: note, dtype: int64\n",
            "   counts after final filter: note\n",
            "36    105\n",
            "38     33\n",
            "42    217\n",
            "46      5\n",
            "Name: note, dtype: int64\n",
            "    counts after final merge: note\n",
            "hh       222\n",
            "kick     105\n",
            "snare     33\n",
            "Name: note, dtype: int64\n",
            "BULK LOAD: drummer1, drummer1/eval_session/8_rock-groove8_65_beat_4-4.mid\n",
            "FILE name: /content/drive/My Drive/groove-v1.0.0-midionly/groove/drummer1/eval_session/8_rock-groove8_65_beat_4-4.mid\n",
            "    loaded file: <midi file '/content/drive/My Drive/groove-v1.0.0-midionly/groove/drummer1/eval_session/8_rock-groove8_65_beat_4-4.mid' type 0, 1 tracks, 600 messages>\n",
            "    time sig: <meta message time_signature numerator=4 denominator=4 clocks_per_click=24 notated_32nd_notes_per_beat=8 time=0>\n",
            "    tempo: <meta message set_tempo tempo=923077 time=0>\n",
            "    track count: 1, tracks: [<midi track 'MIDI' 600 messages>]\n",
            "    MIDI file type: 0\n",
            "    > processing track: <midi track 'MIDI' 600 messages>\n",
            "    __notes pre-filter: [22. 26. 36. 37. 38. 40. 42. 44. 46.]\n",
            "    __applying filter: [44]\n",
            "    __notes post filter: [22. 26. 36. 37. 38. 40. 42. 46.]\n",
            "    note_on span - first tick: 0 , last tick: 30370 \n",
            "    good instruments: 4, {36.0: 'Bass Drum 1 (36)', 38.0: 'Acoustic Snare (38)', 42.0: 'Closed Hi Hat (42)', 46.0: 'Open Hi-Hat (46)'}\n",
            "    bar info - bars in file: 16, bar quantize level: 16.0\n",
            "    tick info - ticks per time sig beat: 480.0, ticks per quantize bin: 120\n",
            "    > DISABLED - err bucket filtering.\n",
            "   > raw instruments: [36 42 38 46]\n",
            "   ['Bass Drum 1 (36)', 'Closed Hi Hat (42)', 'Acoustic Snare (38)', 'Open Hi-Hat (46)']\n",
            "   counts before final filter: note\n",
            "36     56\n",
            "38     42\n",
            "42    111\n",
            "46      9\n",
            "Name: note, dtype: int64\n",
            "   counts after final filter: note\n",
            "36     56\n",
            "38     42\n",
            "42    111\n",
            "46      9\n",
            "Name: note, dtype: int64\n",
            "    counts after final merge: note\n",
            "hh       120\n",
            "kick      56\n",
            "snare     42\n",
            "Name: note, dtype: int64\n",
            "BULK LOAD: drummer5, drummer5/eval_session/1_funk-groove1_138_beat_4-4.mid\n",
            "FILE name: /content/drive/My Drive/groove-v1.0.0-midionly/groove/drummer5/eval_session/1_funk-groove1_138_beat_4-4.mid\n",
            "    loaded file: <midi file '/content/drive/My Drive/groove-v1.0.0-midionly/groove/drummer5/eval_session/1_funk-groove1_138_beat_4-4.mid' type 0, 1 tracks, 1037 messages>\n",
            "    time sig: <meta message time_signature numerator=4 denominator=4 clocks_per_click=24 notated_32nd_notes_per_beat=8 time=0>\n",
            "    tempo: <meta message set_tempo tempo=434783 time=0>\n",
            "    track count: 1, tracks: [<midi track 'Base Midi' 1037 messages>]\n",
            "    MIDI file type: 0\n",
            "    > processing track: <midi track 'Base Midi' 1037 messages>\n",
            "    __notes pre-filter: [36. 38. 40. 44. 51.]\n",
            "    __applying filter: [44]\n",
            "    __notes post filter: [36. 38. 40. 51.]\n",
            "    note_on span - first tick: 5 , last tick: 30634 \n",
            "    good instruments: 3, {36.0: 'Bass Drum 1 (36)', 38.0: 'Acoustic Snare (38)', 51.0: 'Ride Cymbal 1 (51)'}\n",
            "    bar info - bars in file: 16, bar quantize level: 16.0\n",
            "    tick info - ticks per time sig beat: 480.0, ticks per quantize bin: 120\n",
            "    > DISABLED - err bucket filtering.\n",
            "   > raw instruments: [36 51 38]\n",
            "   ['Bass Drum 1 (36)', 'Ride Cymbal 1 (51)', 'Acoustic Snare (38)']\n",
            "   counts before final filter: note\n",
            "36     70\n",
            "38    111\n",
            "51    128\n",
            "Name: note, dtype: int64\n",
            "   counts after final filter: note\n",
            "36     70\n",
            "38    111\n",
            "51    128\n",
            "Name: note, dtype: int64\n",
            "    counts after final merge: note\n",
            "hh       128\n",
            "kick      70\n",
            "snare    111\n",
            "Name: note, dtype: int64\n",
            "BULK LOAD: drummer5, drummer5/eval_session/3_soul-groove3_86_beat_4-4.mid\n",
            "FILE name: /content/drive/My Drive/groove-v1.0.0-midionly/groove/drummer5/eval_session/3_soul-groove3_86_beat_4-4.mid\n",
            "    loaded file: <midi file '/content/drive/My Drive/groove-v1.0.0-midionly/groove/drummer5/eval_session/3_soul-groove3_86_beat_4-4.mid' type 0, 1 tracks, 1146 messages>\n",
            "    time sig: <meta message time_signature numerator=4 denominator=4 clocks_per_click=24 notated_32nd_notes_per_beat=8 time=0>\n",
            "    tempo: <meta message set_tempo tempo=697674 time=0>\n",
            "    track count: 1, tracks: [<midi track 'Base Midi' 1146 messages>]\n",
            "    MIDI file type: 0\n",
            "    > processing track: <midi track 'Base Midi' 1146 messages>\n",
            "    __notes pre-filter: [22. 26. 36. 37. 38. 40. 42.]\n",
            "    __applying filter: [44]\n",
            "    __notes post filter: [22. 26. 36. 37. 38. 40. 42.]\n",
            "    note_on span - first tick: 0 , last tick: 30587 \n",
            "    good instruments: 4, {36.0: 'Bass Drum 1 (36)', 38.0: 'Acoustic Snare (38)', 42.0: 'Closed Hi Hat (42)', 46.0: 'Open Hi-Hat (46)'}\n",
            "    bar info - bars in file: 16, bar quantize level: 16.0\n",
            "    tick info - ticks per time sig beat: 480.0, ticks per quantize bin: 120\n",
            "    > DISABLED - err bucket filtering.\n",
            "   > raw instruments: [42 36 38 46]\n",
            "   ['Closed Hi Hat (42)', 'Bass Drum 1 (36)', 'Acoustic Snare (38)', 'Open Hi-Hat (46)']\n",
            "   counts before final filter: note\n",
            "36    113\n",
            "38     63\n",
            "42    251\n",
            "46      6\n",
            "Name: note, dtype: int64\n",
            "   counts after final filter: note\n",
            "36    113\n",
            "38     63\n",
            "42    251\n",
            "46      6\n",
            "Name: note, dtype: int64\n",
            "    counts after final merge: note\n",
            "hh       257\n",
            "kick     113\n",
            "snare     63\n",
            "Name: note, dtype: int64\n",
            "BULK LOAD: drummer5, drummer5/eval_session/4_soul-groove4_80_beat_4-4.mid\n",
            "FILE name: /content/drive/My Drive/groove-v1.0.0-midionly/groove/drummer5/eval_session/4_soul-groove4_80_beat_4-4.mid\n",
            "    loaded file: <midi file '/content/drive/My Drive/groove-v1.0.0-midionly/groove/drummer5/eval_session/4_soul-groove4_80_beat_4-4.mid' type 0, 1 tracks, 606 messages>\n",
            "    time sig: <meta message time_signature numerator=4 denominator=4 clocks_per_click=24 notated_32nd_notes_per_beat=8 time=0>\n",
            "    tempo: <meta message set_tempo tempo=750000 time=0>\n",
            "    track count: 1, tracks: [<midi track 'Base Midi' 606 messages>]\n",
            "    MIDI file type: 0\n",
            "    > processing track: <midi track 'Base Midi' 606 messages>\n",
            "    __notes pre-filter: [22. 26. 36. 37. 38. 40. 42. 44.]\n",
            "    __applying filter: [44]\n",
            "    __notes post filter: [22. 26. 36. 37. 38. 40. 42.]\n",
            "    note_on span - first tick: 0 , last tick: 30476 \n",
            "    good instruments: 4, {36.0: 'Bass Drum 1 (36)', 38.0: 'Acoustic Snare (38)', 42.0: 'Closed Hi Hat (42)', 46.0: 'Open Hi-Hat (46)'}\n",
            "    bar info - bars in file: 16, bar quantize level: 16.0\n",
            "    tick info - ticks per time sig beat: 480.0, ticks per quantize bin: 120\n",
            "    > DISABLED - err bucket filtering.\n",
            "   > raw instruments: [36 42 38 46]\n",
            "   ['Bass Drum 1 (36)', 'Closed Hi Hat (42)', 'Acoustic Snare (38)', 'Open Hi-Hat (46)']\n",
            "   counts before final filter: note\n",
            "36     32\n",
            "38     54\n",
            "42    101\n",
            "46      9\n",
            "Name: note, dtype: int64\n",
            "   counts after final filter: note\n",
            "36     32\n",
            "38     54\n",
            "42    101\n",
            "46      9\n",
            "Name: note, dtype: int64\n",
            "    counts after final merge: note\n",
            "hh       110\n",
            "kick      32\n",
            "snare     54\n",
            "Name: note, dtype: int64\n",
            "BULK LOAD: drummer5, drummer5/eval_session/6_hiphop-groove6_87_beat_4-4.mid\n",
            "FILE name: /content/drive/My Drive/groove-v1.0.0-midionly/groove/drummer5/eval_session/6_hiphop-groove6_87_beat_4-4.mid\n",
            "    loaded file: <midi file '/content/drive/My Drive/groove-v1.0.0-midionly/groove/drummer5/eval_session/6_hiphop-groove6_87_beat_4-4.mid' type 0, 1 tracks, 625 messages>\n",
            "    time sig: <meta message time_signature numerator=4 denominator=4 clocks_per_click=24 notated_32nd_notes_per_beat=8 time=0>\n",
            "    tempo: <meta message set_tempo tempo=689655 time=0>\n",
            "    track count: 1, tracks: [<midi track 'Base Midi' 625 messages>]\n",
            "    MIDI file type: 0\n",
            "    > processing track: <midi track 'Base Midi' 625 messages>\n",
            "    __notes pre-filter: [22. 36. 38. 40. 42.]\n",
            "    __applying filter: [44]\n",
            "    __notes post filter: [22. 36. 38. 40. 42.]\n",
            "    note_on span - first tick: 0 , last tick: 30442 \n",
            "    good instruments: 3, {36.0: 'Bass Drum 1 (36)', 38.0: 'Acoustic Snare (38)', 42.0: 'Closed Hi Hat (42)'}\n",
            "    bar info - bars in file: 16, bar quantize level: 16.0\n",
            "    tick info - ticks per time sig beat: 480.0, ticks per quantize bin: 120\n",
            "    > DISABLED - err bucket filtering.\n",
            "   > raw instruments: [42 36 38]\n",
            "   ['Closed Hi Hat (42)', 'Bass Drum 1 (36)', 'Acoustic Snare (38)']\n",
            "   counts before final filter: note\n",
            "36     98\n",
            "38     30\n",
            "42    120\n",
            "Name: note, dtype: int64\n",
            "   counts after final filter: note\n",
            "36     98\n",
            "38     30\n",
            "42    120\n",
            "Name: note, dtype: int64\n",
            "    counts after final merge: note\n",
            "hh       120\n",
            "kick      98\n",
            "snare     30\n",
            "Name: note, dtype: int64\n",
            "BULK LOAD: drummer5, drummer5/eval_session/8_rock-groove8_65_beat_4-4.mid\n",
            "FILE name: /content/drive/My Drive/groove-v1.0.0-midionly/groove/drummer5/eval_session/8_rock-groove8_65_beat_4-4.mid\n",
            "    loaded file: <midi file '/content/drive/My Drive/groove-v1.0.0-midionly/groove/drummer5/eval_session/8_rock-groove8_65_beat_4-4.mid' type 0, 1 tracks, 679 messages>\n",
            "    time sig: <meta message time_signature numerator=4 denominator=4 clocks_per_click=24 notated_32nd_notes_per_beat=8 time=0>\n",
            "    tempo: <meta message set_tempo tempo=923077 time=0>\n",
            "    track count: 1, tracks: [<midi track 'Base Midi' 679 messages>]\n",
            "    MIDI file type: 0\n",
            "    > processing track: <midi track 'Base Midi' 679 messages>\n",
            "    __notes pre-filter: [22. 26. 36. 37. 38. 40. 42. 44. 46.]\n",
            "    __applying filter: [44]\n",
            "    __notes post filter: [22. 26. 36. 37. 38. 40. 42. 46.]\n",
            "    note_on span - first tick: 0 , last tick: 30359 \n",
            "    good instruments: 4, {36.0: 'Bass Drum 1 (36)', 38.0: 'Acoustic Snare (38)', 42.0: 'Closed Hi Hat (42)', 46.0: 'Open Hi-Hat (46)'}\n",
            "    bar info - bars in file: 16, bar quantize level: 16.0\n",
            "    tick info - ticks per time sig beat: 480.0, ticks per quantize bin: 120\n",
            "    > DISABLED - err bucket filtering.\n",
            "   > raw instruments: [36 42 38 46]\n",
            "   ['Bass Drum 1 (36)', 'Closed Hi Hat (42)', 'Acoustic Snare (38)', 'Open Hi-Hat (46)']\n",
            "   counts before final filter: note\n",
            "36     89\n",
            "38     51\n",
            "42    110\n",
            "46     11\n",
            "Name: note, dtype: int64\n",
            "   counts after final filter: note\n",
            "36     89\n",
            "38     51\n",
            "42    110\n",
            "46     11\n",
            "Name: note, dtype: int64\n",
            "    counts after final merge: note\n",
            "hh       121\n",
            "kick      89\n",
            "snare     51\n",
            "Name: note, dtype: int64\n",
            "BULK LOAD: drummer7, drummer7/eval_session/1_funk-groove1_138_beat_4-4.mid\n",
            "FILE name: /content/drive/My Drive/groove-v1.0.0-midionly/groove/drummer7/eval_session/1_funk-groove1_138_beat_4-4.mid\n",
            "    loaded file: <midi file '/content/drive/My Drive/groove-v1.0.0-midionly/groove/drummer7/eval_session/1_funk-groove1_138_beat_4-4.mid' type 0, 1 tracks, 521 messages>\n",
            "    time sig: <meta message time_signature numerator=4 denominator=4 clocks_per_click=24 notated_32nd_notes_per_beat=8 time=0>\n",
            "    tempo: <meta message set_tempo tempo=434783 time=0>\n",
            "    track count: 1, tracks: [<midi track 'Midi Drums' 521 messages>]\n",
            "    MIDI file type: 0\n",
            "    > processing track: <midi track 'Midi Drums' 521 messages>\n",
            "    __notes pre-filter: [36. 37. 38. 40. 51. 53. 55.]\n",
            "    __applying filter: [44]\n",
            "    __notes post filter: [36. 37. 38. 40. 51. 53. 55.]\n",
            "    note_on span - first tick: 0 , last tick: 30493 \n",
            "    good instruments: 4, {36.0: 'Bass Drum 1 (36)', 38.0: 'Acoustic Snare (38)', 49.0: 'Crash Cymbal 1 (49)', 51.0: 'Ride Cymbal 1 (51)'}\n",
            "    bar info - bars in file: 16, bar quantize level: 16.0\n",
            "    tick info - ticks per time sig beat: 480.0, ticks per quantize bin: 120\n",
            "    > DISABLED - err bucket filtering.\n",
            "   > raw instruments: [36 51 38 49]\n",
            "   ['Bass Drum 1 (36)', 'Ride Cymbal 1 (51)', 'Acoustic Snare (38)', 'Crash Cymbal 1 (49)']\n",
            "   counts before final filter: note\n",
            "36     56\n",
            "38     72\n",
            "49      4\n",
            "51    125\n",
            "Name: note, dtype: int64\n",
            "   counts after final filter: note\n",
            "36     56\n",
            "38     72\n",
            "51    125\n",
            "Name: note, dtype: int64\n",
            "    counts after final merge: note\n",
            "hh       125\n",
            "kick      56\n",
            "snare     72\n",
            "Name: note, dtype: int64\n",
            "BULK LOAD: drummer7, drummer7/eval_session/3_soul-groove3_86_beat_4-4.mid\n",
            "FILE name: /content/drive/My Drive/groove-v1.0.0-midionly/groove/drummer7/eval_session/3_soul-groove3_86_beat_4-4.mid\n",
            "    loaded file: <midi file '/content/drive/My Drive/groove-v1.0.0-midionly/groove/drummer7/eval_session/3_soul-groove3_86_beat_4-4.mid' type 0, 1 tracks, 1095 messages>\n",
            "    time sig: <meta message time_signature numerator=4 denominator=4 clocks_per_click=24 notated_32nd_notes_per_beat=8 time=0>\n",
            "    tempo: <meta message set_tempo tempo=697674 time=0>\n",
            "    track count: 1, tracks: [<midi track 'Midi Drums' 1095 messages>]\n",
            "    MIDI file type: 0\n",
            "    > processing track: <midi track 'Midi Drums' 1095 messages>\n",
            "    __notes pre-filter: [22. 36. 38. 40. 42.]\n",
            "    __applying filter: [44]\n",
            "    __notes post filter: [22. 36. 38. 40. 42.]\n",
            "    note_on span - first tick: 0 , last tick: 30597 \n",
            "    good instruments: 3, {36.0: 'Bass Drum 1 (36)', 38.0: 'Acoustic Snare (38)', 42.0: 'Closed Hi Hat (42)'}\n",
            "    bar info - bars in file: 16, bar quantize level: 16.0\n",
            "    tick info - ticks per time sig beat: 480.0, ticks per quantize bin: 120\n",
            "    > DISABLED - err bucket filtering.\n",
            "   > raw instruments: [42 36 38]\n",
            "   ['Closed Hi Hat (42)', 'Bass Drum 1 (36)', 'Acoustic Snare (38)']\n",
            "   counts before final filter: note\n",
            "36     95\n",
            "38     64\n",
            "42    256\n",
            "Name: note, dtype: int64\n",
            "   counts after final filter: note\n",
            "36     95\n",
            "38     64\n",
            "42    256\n",
            "Name: note, dtype: int64\n",
            "    counts after final merge: note\n",
            "hh       256\n",
            "kick      95\n",
            "snare     64\n",
            "Name: note, dtype: int64\n",
            "BULK LOAD: drummer7, drummer7/eval_session/4_soul-groove4_80_beat_4-4.mid\n",
            "FILE name: /content/drive/My Drive/groove-v1.0.0-midionly/groove/drummer7/eval_session/4_soul-groove4_80_beat_4-4.mid\n",
            "    loaded file: <midi file '/content/drive/My Drive/groove-v1.0.0-midionly/groove/drummer7/eval_session/4_soul-groove4_80_beat_4-4.mid' type 0, 1 tracks, 514 messages>\n",
            "    time sig: <meta message time_signature numerator=4 denominator=4 clocks_per_click=24 notated_32nd_notes_per_beat=8 time=0>\n",
            "    tempo: <meta message set_tempo tempo=750000 time=0>\n",
            "    track count: 1, tracks: [<midi track 'Midi Drums' 514 messages>]\n",
            "    MIDI file type: 0\n",
            "    > processing track: <midi track 'Midi Drums' 514 messages>\n",
            "    __notes pre-filter: [22. 26. 36. 38. 40. 42. 44. 46.]\n",
            "    __applying filter: [44]\n",
            "    __notes post filter: [22. 26. 36. 38. 40. 42. 46.]\n",
            "    note_on span - first tick: 0 , last tick: 30484 \n",
            "    good instruments: 4, {36.0: 'Bass Drum 1 (36)', 38.0: 'Acoustic Snare (38)', 42.0: 'Closed Hi Hat (42)', 46.0: 'Open Hi-Hat (46)'}\n",
            "    bar info - bars in file: 16, bar quantize level: 16.0\n",
            "    tick info - ticks per time sig beat: 480.0, ticks per quantize bin: 120\n",
            "    > DISABLED - err bucket filtering.\n",
            "   > raw instruments: [42 38 36 46]\n",
            "   ['Closed Hi Hat (42)', 'Acoustic Snare (38)', 'Bass Drum 1 (36)', 'Open Hi-Hat (46)']\n",
            "   counts before final filter: note\n",
            "36     31\n",
            "38     33\n",
            "42    107\n",
            "46      9\n",
            "Name: note, dtype: int64\n",
            "   counts after final filter: note\n",
            "36     31\n",
            "38     33\n",
            "42    107\n",
            "46      9\n",
            "Name: note, dtype: int64\n",
            "    counts after final merge: note\n",
            "hh       116\n",
            "kick      31\n",
            "snare     33\n",
            "Name: note, dtype: int64\n",
            "BULK LOAD: drummer7, drummer7/eval_session/6_hiphop-groove6_87_beat_4-4.mid\n",
            "FILE name: /content/drive/My Drive/groove-v1.0.0-midionly/groove/drummer7/eval_session/6_hiphop-groove6_87_beat_4-4.mid\n",
            "    loaded file: <midi file '/content/drive/My Drive/groove-v1.0.0-midionly/groove/drummer7/eval_session/6_hiphop-groove6_87_beat_4-4.mid' type 0, 1 tracks, 844 messages>\n",
            "    time sig: <meta message time_signature numerator=4 denominator=4 clocks_per_click=24 notated_32nd_notes_per_beat=8 time=0>\n",
            "    tempo: <meta message set_tempo tempo=689655 time=0>\n",
            "    track count: 1, tracks: [<midi track 'Midi Drums' 844 messages>]\n",
            "    MIDI file type: 0\n",
            "    > processing track: <midi track 'Midi Drums' 844 messages>\n",
            "    __notes pre-filter: [22. 36. 37. 38. 40. 42.]\n",
            "    __applying filter: [44]\n",
            "    __notes post filter: [22. 36. 37. 38. 40. 42.]\n",
            "    note_on span - first tick: 2 , last tick: 30441 \n",
            "    good instruments: 3, {36.0: 'Bass Drum 1 (36)', 38.0: 'Acoustic Snare (38)', 42.0: 'Closed Hi Hat (42)'}\n",
            "    bar info - bars in file: 16, bar quantize level: 16.0\n",
            "    tick info - ticks per time sig beat: 480.0, ticks per quantize bin: 120\n",
            "    > DISABLED - err bucket filtering.\n",
            "   > raw instruments: [36 38 42]\n",
            "   ['Bass Drum 1 (36)', 'Acoustic Snare (38)', 'Closed Hi Hat (42)']\n",
            "   counts before final filter: note\n",
            "36     99\n",
            "38     38\n",
            "42    186\n",
            "Name: note, dtype: int64\n",
            "   counts after final filter: note\n",
            "36     99\n",
            "38     38\n",
            "42    186\n",
            "Name: note, dtype: int64\n",
            "    counts after final merge: note\n",
            "hh       186\n",
            "kick      99\n",
            "snare     38\n",
            "Name: note, dtype: int64\n",
            "BULK LOAD: drummer7, drummer7/eval_session/8_rock-groove8_65_beat_4-4.mid\n",
            "FILE name: /content/drive/My Drive/groove-v1.0.0-midionly/groove/drummer7/eval_session/8_rock-groove8_65_beat_4-4.mid\n",
            "    loaded file: <midi file '/content/drive/My Drive/groove-v1.0.0-midionly/groove/drummer7/eval_session/8_rock-groove8_65_beat_4-4.mid' type 0, 1 tracks, 557 messages>\n",
            "    time sig: <meta message time_signature numerator=4 denominator=4 clocks_per_click=24 notated_32nd_notes_per_beat=8 time=0>\n",
            "    tempo: <meta message set_tempo tempo=923077 time=0>\n",
            "    track count: 1, tracks: [<midi track 'Midi Drums' 557 messages>]\n",
            "    MIDI file type: 0\n",
            "    > processing track: <midi track 'Midi Drums' 557 messages>\n",
            "    __notes pre-filter: [22. 26. 36. 38. 40. 42. 44.]\n",
            "    __applying filter: [44]\n",
            "    __notes post filter: [22. 26. 36. 38. 40. 42.]\n",
            "    note_on span - first tick: 0 , last tick: 30367 \n",
            "    good instruments: 4, {36.0: 'Bass Drum 1 (36)', 38.0: 'Acoustic Snare (38)', 42.0: 'Closed Hi Hat (42)', 46.0: 'Open Hi-Hat (46)'}\n",
            "    bar info - bars in file: 16, bar quantize level: 16.0\n",
            "    tick info - ticks per time sig beat: 480.0, ticks per quantize bin: 120\n",
            "    > DISABLED - err bucket filtering.\n",
            "   > raw instruments: [42 38 36 46]\n",
            "   ['Closed Hi Hat (42)', 'Acoustic Snare (38)', 'Bass Drum 1 (36)', 'Open Hi-Hat (46)']\n",
            "   counts before final filter: note\n",
            "36     51\n",
            "38     44\n",
            "42    112\n",
            "46      8\n",
            "Name: note, dtype: int64\n",
            "   counts after final filter: note\n",
            "36     51\n",
            "38     44\n",
            "42    112\n",
            "46      8\n",
            "Name: note, dtype: int64\n",
            "    counts after final merge: note\n",
            "hh       120\n",
            "kick      51\n",
            "snare     44\n",
            "Name: note, dtype: int64\n",
            "BULK LOAD: drummer8, drummer8/eval_session/1_funk-groove1_138_beat_4-4.mid\n",
            "FILE name: /content/drive/My Drive/groove-v1.0.0-midionly/groove/drummer8/eval_session/1_funk-groove1_138_beat_4-4.mid\n",
            "    loaded file: <midi file '/content/drive/My Drive/groove-v1.0.0-midionly/groove/drummer8/eval_session/1_funk-groove1_138_beat_4-4.mid' type 0, 1 tracks, 728 messages>\n",
            "    time sig: <meta message time_signature numerator=4 denominator=4 clocks_per_click=24 notated_32nd_notes_per_beat=8 time=0>\n",
            "    tempo: <meta message set_tempo tempo=434783 time=0>\n",
            "    track count: 1, tracks: [<midi track 'Base Midi' 728 messages>]\n",
            "    MIDI file type: 0\n",
            "    > processing track: <midi track 'Base Midi' 728 messages>\n",
            "    __notes pre-filter: [22. 36. 37. 38. 40. 42.]\n",
            "    __applying filter: [44]\n",
            "    __notes post filter: [22. 36. 37. 38. 40. 42.]\n",
            "    note_on span - first tick: 0 , last tick: 30476 \n",
            "    good instruments: 3, {36.0: 'Bass Drum 1 (36)', 38.0: 'Acoustic Snare (38)', 42.0: 'Closed Hi Hat (42)'}\n",
            "    bar info - bars in file: 16, bar quantize level: 16.0\n",
            "    tick info - ticks per time sig beat: 480.0, ticks per quantize bin: 120\n",
            "    > DISABLED - err bucket filtering.\n",
            "   > raw instruments: [36 42 38]\n",
            "   ['Bass Drum 1 (36)', 'Closed Hi Hat (42)', 'Acoustic Snare (38)']\n",
            "   counts before final filter: note\n",
            "36     56\n",
            "38    114\n",
            "42    127\n",
            "Name: note, dtype: int64\n",
            "   counts after final filter: note\n",
            "36     56\n",
            "38    114\n",
            "42    127\n",
            "Name: note, dtype: int64\n",
            "    counts after final merge: note\n",
            "hh       127\n",
            "kick      56\n",
            "snare    114\n",
            "Name: note, dtype: int64\n",
            "BULK LOAD: drummer8, drummer8/eval_session/3_soul-groove3_86_beat_4-4.mid\n",
            "FILE name: /content/drive/My Drive/groove-v1.0.0-midionly/groove/drummer8/eval_session/3_soul-groove3_86_beat_4-4.mid\n",
            "    loaded file: <midi file '/content/drive/My Drive/groove-v1.0.0-midionly/groove/drummer8/eval_session/3_soul-groove3_86_beat_4-4.mid' type 0, 1 tracks, 1063 messages>\n",
            "    time sig: <meta message time_signature numerator=4 denominator=4 clocks_per_click=24 notated_32nd_notes_per_beat=8 time=0>\n",
            "    tempo: <meta message set_tempo tempo=697674 time=0>\n",
            "    track count: 1, tracks: [<midi track 'Base Midi' 1063 messages>]\n",
            "    MIDI file type: 0\n",
            "    > processing track: <midi track 'Base Midi' 1063 messages>\n",
            "    __notes pre-filter: [36. 38. 40. 42.]\n",
            "    __applying filter: [44]\n",
            "    __notes post filter: [36. 38. 40. 42.]\n",
            "    note_on span - first tick: 5 , last tick: 30594 \n",
            "    good instruments: 3, {36.0: 'Bass Drum 1 (36)', 38.0: 'Acoustic Snare (38)', 42.0: 'Closed Hi Hat (42)'}\n",
            "    bar info - bars in file: 16, bar quantize level: 16.0\n",
            "    tick info - ticks per time sig beat: 480.0, ticks per quantize bin: 120\n",
            "    > DISABLED - err bucket filtering.\n",
            "   > raw instruments: [36 42 38]\n",
            "   ['Bass Drum 1 (36)', 'Closed Hi Hat (42)', 'Acoustic Snare (38)']\n",
            "   counts before final filter: note\n",
            "36     96\n",
            "38     49\n",
            "42    255\n",
            "Name: note, dtype: int64\n",
            "   counts after final filter: note\n",
            "36     96\n",
            "38     49\n",
            "42    255\n",
            "Name: note, dtype: int64\n",
            "    counts after final merge: note\n",
            "hh       255\n",
            "kick      96\n",
            "snare     49\n",
            "Name: note, dtype: int64\n",
            "BULK LOAD: drummer8, drummer8/eval_session/4_soul-groove4_80_beat_4-4.mid\n",
            "FILE name: /content/drive/My Drive/groove-v1.0.0-midionly/groove/drummer8/eval_session/4_soul-groove4_80_beat_4-4.mid\n",
            "    loaded file: <midi file '/content/drive/My Drive/groove-v1.0.0-midionly/groove/drummer8/eval_session/4_soul-groove4_80_beat_4-4.mid' type 0, 1 tracks, 610 messages>\n",
            "    time sig: <meta message time_signature numerator=4 denominator=4 clocks_per_click=24 notated_32nd_notes_per_beat=8 time=0>\n",
            "    tempo: <meta message set_tempo tempo=750000 time=0>\n",
            "    track count: 1, tracks: [<midi track 'Base Midi' 610 messages>]\n",
            "    MIDI file type: 0\n",
            "    > processing track: <midi track 'Base Midi' 610 messages>\n",
            "    __notes pre-filter: [22. 36. 38. 42.]\n",
            "    __applying filter: [44]\n",
            "    __notes post filter: [22. 36. 38. 42.]\n",
            "    note_on span - first tick: 0 , last tick: 30601 \n",
            "    good instruments: 3, {36.0: 'Bass Drum 1 (36)', 38.0: 'Acoustic Snare (38)', 42.0: 'Closed Hi Hat (42)'}\n",
            "    bar info - bars in file: 16, bar quantize level: 16.0\n",
            "    tick info - ticks per time sig beat: 480.0, ticks per quantize bin: 120\n",
            "    > DISABLED - err bucket filtering.\n",
            "   > raw instruments: [36 42 38]\n",
            "   ['Bass Drum 1 (36)', 'Closed Hi Hat (42)', 'Acoustic Snare (38)']\n",
            "   counts before final filter: note\n",
            "36     32\n",
            "38     32\n",
            "42    158\n",
            "Name: note, dtype: int64\n",
            "   counts after final filter: note\n",
            "36     32\n",
            "38     32\n",
            "42    158\n",
            "Name: note, dtype: int64\n",
            "    counts after final merge: note\n",
            "hh       158\n",
            "kick      32\n",
            "snare     32\n",
            "Name: note, dtype: int64\n",
            "BULK LOAD: drummer8, drummer8/eval_session/6_hiphop-groove6_87_beat_4-4.mid\n",
            "FILE name: /content/drive/My Drive/groove-v1.0.0-midionly/groove/drummer8/eval_session/6_hiphop-groove6_87_beat_4-4.mid\n",
            "    loaded file: <midi file '/content/drive/My Drive/groove-v1.0.0-midionly/groove/drummer8/eval_session/6_hiphop-groove6_87_beat_4-4.mid' type 0, 1 tracks, 803 messages>\n",
            "    time sig: <meta message time_signature numerator=4 denominator=4 clocks_per_click=24 notated_32nd_notes_per_beat=8 time=0>\n",
            "    tempo: <meta message set_tempo tempo=689655 time=0>\n",
            "    track count: 1, tracks: [<midi track 'Base Midi' 803 messages>]\n",
            "    MIDI file type: 0\n",
            "    > processing track: <midi track 'Base Midi' 803 messages>\n",
            "    __notes pre-filter: [36. 37. 38. 40. 42. 50.]\n",
            "    __applying filter: [44]\n",
            "    __notes post filter: [36. 37. 38. 40. 42. 50.]\n",
            "    note_on span - first tick: 15 , last tick: 30461 \n",
            "    good instruments: 4, {36.0: 'Bass Drum 1 (36)', 38.0: 'Acoustic Snare (38)', 42.0: 'Closed Hi Hat (42)', 50.0: 'High Tom (50)'}\n",
            "    bar info - bars in file: 16, bar quantize level: 16.0\n",
            "    tick info - ticks per time sig beat: 480.0, ticks per quantize bin: 120\n",
            "    > DISABLED - err bucket filtering.\n",
            "   > raw instruments: [36 38 42 50]\n",
            "   ['Bass Drum 1 (36)', 'Acoustic Snare (38)', 'Closed Hi Hat (42)', 'High Tom (50)']\n",
            "   counts before final filter: note\n",
            "36    109\n",
            "38     31\n",
            "42    170\n",
            "50      3\n",
            "Name: note, dtype: int64\n",
            "   counts after final filter: note\n",
            "36    109\n",
            "38     31\n",
            "42    170\n",
            "Name: note, dtype: int64\n",
            "    counts after final merge: note\n",
            "hh       170\n",
            "kick     109\n",
            "snare     31\n",
            "Name: note, dtype: int64\n",
            "BULK LOAD: drummer8, drummer8/eval_session/8_rock-groove8_65_beat_4-4.mid\n",
            "FILE name: /content/drive/My Drive/groove-v1.0.0-midionly/groove/drummer8/eval_session/8_rock-groove8_65_beat_4-4.mid\n",
            "    loaded file: <midi file '/content/drive/My Drive/groove-v1.0.0-midionly/groove/drummer8/eval_session/8_rock-groove8_65_beat_4-4.mid' type 0, 1 tracks, 603 messages>\n",
            "    time sig: <meta message time_signature numerator=4 denominator=4 clocks_per_click=24 notated_32nd_notes_per_beat=8 time=0>\n",
            "    tempo: <meta message set_tempo tempo=923077 time=0>\n",
            "    track count: 1, tracks: [<midi track 'Base Midi' 603 messages>]\n",
            "    MIDI file type: 0\n",
            "    > processing track: <midi track 'Base Midi' 603 messages>\n",
            "    __notes pre-filter: [26. 36. 38. 40. 42. 44.]\n",
            "    __applying filter: [44]\n",
            "    __notes post filter: [26. 36. 38. 40. 42.]\n",
            "    note_on span - first tick: 0 , last tick: 30354 \n",
            "    good instruments: 4, {36.0: 'Bass Drum 1 (36)', 38.0: 'Acoustic Snare (38)', 42.0: 'Closed Hi Hat (42)', 46.0: 'Open Hi-Hat (46)'}\n",
            "    bar info - bars in file: 16, bar quantize level: 16.0\n",
            "    tick info - ticks per time sig beat: 480.0, ticks per quantize bin: 120\n",
            "    > DISABLED - err bucket filtering.\n",
            "   > raw instruments: [36 42 38 46]\n",
            "   ['Bass Drum 1 (36)', 'Closed Hi Hat (42)', 'Acoustic Snare (38)', 'Open Hi-Hat (46)']\n",
            "   counts before final filter: note\n",
            "36     56\n",
            "38     40\n",
            "42    112\n",
            "46      8\n",
            "Name: note, dtype: int64\n",
            "   counts after final filter: note\n",
            "36     56\n",
            "38     40\n",
            "42    112\n",
            "46      8\n",
            "Name: note, dtype: int64\n",
            "    counts after final merge: note\n",
            "hh       120\n",
            "kick      56\n",
            "snare     40\n",
            "Name: note, dtype: int64\n"
          ],
          "name": "stdout"
        }
      ]
    },
    {
      "cell_type": "markdown",
      "metadata": {
        "id": "oqqkKvSSZkfz"
      },
      "source": [
        "## Single file tests.."
      ]
    },
    {
      "cell_type": "code",
      "metadata": {
        "colab": {
          "base_uri": "https://localhost:8080/",
          "height": 844
        },
        "id": "Rt2gXzJvZnWL",
        "outputId": "a8782e69-1542-4d26-a7d8-5683b2798260"
      },
      "source": [
        "##################################\n",
        "######## EXPLORE SINGLE FILE\n",
        "\n",
        "# experimenting on a single file here ...\n",
        "key1 = '/content/drive/My Drive/groove-v1.0.0-midionly/groove/drummer1/eval_session/1_funk-groove1_138_beat_4-4.mid'\n",
        "#key2 = '/content/drive/My Drive/groove-v1.0.0-midionly/groove/drummer5/eval_session/1_funk-groove1_138_beat_4-4.mid'\n",
        "\n",
        "test_data = all_drummer_data[key1]\n",
        "df1 = test_data.tight_df.copy()\n",
        "df1.head()\n",
        "\n",
        "print('stats for: {}'.format(key1))\n",
        "df1['beat_offset'].groupby(df1['note']).describe()\n",
        "df1['velocity'].groupby(df1['note']).describe()\n",
        "df1.describe()"
      ],
      "execution_count": null,
      "outputs": [
        {
          "output_type": "execute_result",
          "data": {
            "text/html": [
              "<div>\n",
              "<style scoped>\n",
              "    .dataframe tbody tr th:only-of-type {\n",
              "        vertical-align: middle;\n",
              "    }\n",
              "\n",
              "    .dataframe tbody tr th {\n",
              "        vertical-align: top;\n",
              "    }\n",
              "\n",
              "    .dataframe thead th {\n",
              "        text-align: right;\n",
              "    }\n",
              "</style>\n",
              "<table border=\"1\" class=\"dataframe\">\n",
              "  <thead>\n",
              "    <tr style=\"text-align: right;\">\n",
              "      <th></th>\n",
              "      <th></th>\n",
              "      <th>note</th>\n",
              "      <th>velocity</th>\n",
              "      <th>beat_offset</th>\n",
              "      <th>bar_beat_number</th>\n",
              "    </tr>\n",
              "    <tr>\n",
              "      <th>bar_number</th>\n",
              "      <th>bar_beat_number</th>\n",
              "      <th></th>\n",
              "      <th></th>\n",
              "      <th></th>\n",
              "      <th></th>\n",
              "    </tr>\n",
              "  </thead>\n",
              "  <tbody>\n",
              "    <tr>\n",
              "      <th rowspan=\"5\" valign=\"top\">1</th>\n",
              "      <th>1</th>\n",
              "      <td>hh</td>\n",
              "      <td>55</td>\n",
              "      <td>7</td>\n",
              "      <td>1</td>\n",
              "    </tr>\n",
              "    <tr>\n",
              "      <th>1</th>\n",
              "      <td>kick</td>\n",
              "      <td>64</td>\n",
              "      <td>10</td>\n",
              "      <td>1</td>\n",
              "    </tr>\n",
              "    <tr>\n",
              "      <th>3</th>\n",
              "      <td>kick</td>\n",
              "      <td>57</td>\n",
              "      <td>-29</td>\n",
              "      <td>3</td>\n",
              "    </tr>\n",
              "    <tr>\n",
              "      <th>3</th>\n",
              "      <td>hh</td>\n",
              "      <td>31</td>\n",
              "      <td>-2</td>\n",
              "      <td>3</td>\n",
              "    </tr>\n",
              "    <tr>\n",
              "      <th>5</th>\n",
              "      <td>hh</td>\n",
              "      <td>54</td>\n",
              "      <td>-13</td>\n",
              "      <td>5</td>\n",
              "    </tr>\n",
              "  </tbody>\n",
              "</table>\n",
              "</div>"
            ],
            "text/plain": [
              "                            note  velocity  beat_offset  bar_beat_number\n",
              "bar_number bar_beat_number                                              \n",
              "1          1                  hh        55            7                1\n",
              "           1                kick        64           10                1\n",
              "           3                kick        57          -29                3\n",
              "           3                  hh        31           -2                3\n",
              "           5                  hh        54          -13                5"
            ]
          },
          "metadata": {
            "tags": []
          },
          "execution_count": 117
        },
        {
          "output_type": "stream",
          "text": [
            "stats for: /content/drive/My Drive/groove-v1.0.0-midionly/groove/drummer1/eval_session/1_funk-groove1_138_beat_4-4.mid\n"
          ],
          "name": "stdout"
        },
        {
          "output_type": "execute_result",
          "data": {
            "text/html": [
              "<div>\n",
              "<style scoped>\n",
              "    .dataframe tbody tr th:only-of-type {\n",
              "        vertical-align: middle;\n",
              "    }\n",
              "\n",
              "    .dataframe tbody tr th {\n",
              "        vertical-align: top;\n",
              "    }\n",
              "\n",
              "    .dataframe thead th {\n",
              "        text-align: right;\n",
              "    }\n",
              "</style>\n",
              "<table border=\"1\" class=\"dataframe\">\n",
              "  <thead>\n",
              "    <tr style=\"text-align: right;\">\n",
              "      <th></th>\n",
              "      <th>count</th>\n",
              "      <th>mean</th>\n",
              "      <th>std</th>\n",
              "      <th>min</th>\n",
              "      <th>25%</th>\n",
              "      <th>50%</th>\n",
              "      <th>75%</th>\n",
              "      <th>max</th>\n",
              "    </tr>\n",
              "    <tr>\n",
              "      <th>note</th>\n",
              "      <th></th>\n",
              "      <th></th>\n",
              "      <th></th>\n",
              "      <th></th>\n",
              "      <th></th>\n",
              "      <th></th>\n",
              "      <th></th>\n",
              "      <th></th>\n",
              "    </tr>\n",
              "  </thead>\n",
              "  <tbody>\n",
              "    <tr>\n",
              "      <th>hh</th>\n",
              "      <td>128.0</td>\n",
              "      <td>-4.671875</td>\n",
              "      <td>13.138337</td>\n",
              "      <td>-41.0</td>\n",
              "      <td>-12.25</td>\n",
              "      <td>-3.5</td>\n",
              "      <td>4.25</td>\n",
              "      <td>27.0</td>\n",
              "    </tr>\n",
              "    <tr>\n",
              "      <th>kick</th>\n",
              "      <td>54.0</td>\n",
              "      <td>-14.777778</td>\n",
              "      <td>15.486655</td>\n",
              "      <td>-54.0</td>\n",
              "      <td>-24.75</td>\n",
              "      <td>-13.0</td>\n",
              "      <td>-4.00</td>\n",
              "      <td>10.0</td>\n",
              "    </tr>\n",
              "    <tr>\n",
              "      <th>snare</th>\n",
              "      <td>101.0</td>\n",
              "      <td>-6.277228</td>\n",
              "      <td>23.644923</td>\n",
              "      <td>-58.0</td>\n",
              "      <td>-21.00</td>\n",
              "      <td>-7.0</td>\n",
              "      <td>5.00</td>\n",
              "      <td>55.0</td>\n",
              "    </tr>\n",
              "  </tbody>\n",
              "</table>\n",
              "</div>"
            ],
            "text/plain": [
              "       count       mean        std   min    25%   50%   75%   max\n",
              "note                                                             \n",
              "hh     128.0  -4.671875  13.138337 -41.0 -12.25  -3.5  4.25  27.0\n",
              "kick    54.0 -14.777778  15.486655 -54.0 -24.75 -13.0 -4.00  10.0\n",
              "snare  101.0  -6.277228  23.644923 -58.0 -21.00  -7.0  5.00  55.0"
            ]
          },
          "metadata": {
            "tags": []
          },
          "execution_count": 117
        },
        {
          "output_type": "execute_result",
          "data": {
            "text/html": [
              "<div>\n",
              "<style scoped>\n",
              "    .dataframe tbody tr th:only-of-type {\n",
              "        vertical-align: middle;\n",
              "    }\n",
              "\n",
              "    .dataframe tbody tr th {\n",
              "        vertical-align: top;\n",
              "    }\n",
              "\n",
              "    .dataframe thead th {\n",
              "        text-align: right;\n",
              "    }\n",
              "</style>\n",
              "<table border=\"1\" class=\"dataframe\">\n",
              "  <thead>\n",
              "    <tr style=\"text-align: right;\">\n",
              "      <th></th>\n",
              "      <th>count</th>\n",
              "      <th>mean</th>\n",
              "      <th>std</th>\n",
              "      <th>min</th>\n",
              "      <th>25%</th>\n",
              "      <th>50%</th>\n",
              "      <th>75%</th>\n",
              "      <th>max</th>\n",
              "    </tr>\n",
              "    <tr>\n",
              "      <th>note</th>\n",
              "      <th></th>\n",
              "      <th></th>\n",
              "      <th></th>\n",
              "      <th></th>\n",
              "      <th></th>\n",
              "      <th></th>\n",
              "      <th></th>\n",
              "      <th></th>\n",
              "    </tr>\n",
              "  </thead>\n",
              "  <tbody>\n",
              "    <tr>\n",
              "      <th>hh</th>\n",
              "      <td>128.0</td>\n",
              "      <td>50.007812</td>\n",
              "      <td>10.783843</td>\n",
              "      <td>0.0</td>\n",
              "      <td>44.0</td>\n",
              "      <td>49.0</td>\n",
              "      <td>56.00</td>\n",
              "      <td>83.0</td>\n",
              "    </tr>\n",
              "    <tr>\n",
              "      <th>kick</th>\n",
              "      <td>54.0</td>\n",
              "      <td>60.796296</td>\n",
              "      <td>15.543463</td>\n",
              "      <td>42.0</td>\n",
              "      <td>52.0</td>\n",
              "      <td>59.5</td>\n",
              "      <td>63.75</td>\n",
              "      <td>127.0</td>\n",
              "    </tr>\n",
              "    <tr>\n",
              "      <th>snare</th>\n",
              "      <td>101.0</td>\n",
              "      <td>63.613861</td>\n",
              "      <td>35.136298</td>\n",
              "      <td>8.0</td>\n",
              "      <td>33.0</td>\n",
              "      <td>41.0</td>\n",
              "      <td>100.00</td>\n",
              "      <td>117.0</td>\n",
              "    </tr>\n",
              "  </tbody>\n",
              "</table>\n",
              "</div>"
            ],
            "text/plain": [
              "       count       mean        std   min   25%   50%     75%    max\n",
              "note                                                               \n",
              "hh     128.0  50.007812  10.783843   0.0  44.0  49.0   56.00   83.0\n",
              "kick    54.0  60.796296  15.543463  42.0  52.0  59.5   63.75  127.0\n",
              "snare  101.0  63.613861  35.136298   8.0  33.0  41.0  100.00  117.0"
            ]
          },
          "metadata": {
            "tags": []
          },
          "execution_count": 117
        },
        {
          "output_type": "execute_result",
          "data": {
            "text/html": [
              "<div>\n",
              "<style scoped>\n",
              "    .dataframe tbody tr th:only-of-type {\n",
              "        vertical-align: middle;\n",
              "    }\n",
              "\n",
              "    .dataframe tbody tr th {\n",
              "        vertical-align: top;\n",
              "    }\n",
              "\n",
              "    .dataframe thead th {\n",
              "        text-align: right;\n",
              "    }\n",
              "</style>\n",
              "<table border=\"1\" class=\"dataframe\">\n",
              "  <thead>\n",
              "    <tr style=\"text-align: right;\">\n",
              "      <th></th>\n",
              "      <th>velocity</th>\n",
              "      <th>beat_offset</th>\n",
              "      <th>bar_beat_number</th>\n",
              "    </tr>\n",
              "  </thead>\n",
              "  <tbody>\n",
              "    <tr>\n",
              "      <th>count</th>\n",
              "      <td>283.000000</td>\n",
              "      <td>283.000000</td>\n",
              "      <td>283.000000</td>\n",
              "    </tr>\n",
              "    <tr>\n",
              "      <th>mean</th>\n",
              "      <td>56.922261</td>\n",
              "      <td>-7.173145</td>\n",
              "      <td>8.049470</td>\n",
              "    </tr>\n",
              "    <tr>\n",
              "      <th>std</th>\n",
              "      <td>24.003715</td>\n",
              "      <td>18.310416</td>\n",
              "      <td>4.889309</td>\n",
              "    </tr>\n",
              "    <tr>\n",
              "      <th>min</th>\n",
              "      <td>0.000000</td>\n",
              "      <td>-58.000000</td>\n",
              "      <td>1.000000</td>\n",
              "    </tr>\n",
              "    <tr>\n",
              "      <th>25%</th>\n",
              "      <td>41.000000</td>\n",
              "      <td>-17.000000</td>\n",
              "      <td>3.000000</td>\n",
              "    </tr>\n",
              "    <tr>\n",
              "      <th>50%</th>\n",
              "      <td>51.000000</td>\n",
              "      <td>-7.000000</td>\n",
              "      <td>8.000000</td>\n",
              "    </tr>\n",
              "    <tr>\n",
              "      <th>75%</th>\n",
              "      <td>64.000000</td>\n",
              "      <td>3.000000</td>\n",
              "      <td>12.000000</td>\n",
              "    </tr>\n",
              "    <tr>\n",
              "      <th>max</th>\n",
              "      <td>127.000000</td>\n",
              "      <td>55.000000</td>\n",
              "      <td>16.000000</td>\n",
              "    </tr>\n",
              "  </tbody>\n",
              "</table>\n",
              "</div>"
            ],
            "text/plain": [
              "         velocity  beat_offset  bar_beat_number\n",
              "count  283.000000   283.000000       283.000000\n",
              "mean    56.922261    -7.173145         8.049470\n",
              "std     24.003715    18.310416         4.889309\n",
              "min      0.000000   -58.000000         1.000000\n",
              "25%     41.000000   -17.000000         3.000000\n",
              "50%     51.000000    -7.000000         8.000000\n",
              "75%     64.000000     3.000000        12.000000\n",
              "max    127.000000    55.000000        16.000000"
            ]
          },
          "metadata": {
            "tags": []
          },
          "execution_count": 117
        }
      ]
    },
    {
      "cell_type": "code",
      "metadata": {
        "id": "HwwWTaIaOuGu"
      },
      "source": [
        "# extract unfiltered file_df to examine\n",
        "tmp_file_df = test_data.file_df.copy()"
      ],
      "execution_count": null,
      "outputs": []
    },
    {
      "cell_type": "code",
      "metadata": {
        "colab": {
          "base_uri": "https://localhost:8080/",
          "height": 515
        },
        "id": "0xyP2s5VN78g",
        "outputId": "09904dd9-daf5-46a8-8805-fffeb7c101db"
      },
      "source": [
        "\n",
        "tmp_file_df.head()\n",
        "tmp_file_df.describe()\n",
        "#tmp_file_df['beat_offset'].groupby(tmp_file_df['note']).describe()\n",
        "#tmp_file_df['velocity'].groupby(tmp_file_df['note']).describe()"
      ],
      "execution_count": null,
      "outputs": [
        {
          "output_type": "execute_result",
          "data": {
            "text/html": [
              "<div>\n",
              "<style scoped>\n",
              "    .dataframe tbody tr th:only-of-type {\n",
              "        vertical-align: middle;\n",
              "    }\n",
              "\n",
              "    .dataframe tbody tr th {\n",
              "        vertical-align: top;\n",
              "    }\n",
              "\n",
              "    .dataframe thead th {\n",
              "        text-align: right;\n",
              "    }\n",
              "</style>\n",
              "<table border=\"1\" class=\"dataframe\">\n",
              "  <thead>\n",
              "    <tr style=\"text-align: right;\">\n",
              "      <th></th>\n",
              "      <th></th>\n",
              "      <th></th>\n",
              "      <th>track_msg_num</th>\n",
              "      <th>total_ticks</th>\n",
              "      <th>note</th>\n",
              "      <th>velocity</th>\n",
              "      <th>beat_offset</th>\n",
              "      <th>beat_center</th>\n",
              "      <th>bar_number</th>\n",
              "      <th>bar_beat_number</th>\n",
              "    </tr>\n",
              "    <tr>\n",
              "      <th>bar_number</th>\n",
              "      <th>bar_beat_number</th>\n",
              "      <th>note</th>\n",
              "      <th></th>\n",
              "      <th></th>\n",
              "      <th></th>\n",
              "      <th></th>\n",
              "      <th></th>\n",
              "      <th></th>\n",
              "      <th></th>\n",
              "      <th></th>\n",
              "    </tr>\n",
              "  </thead>\n",
              "  <tbody>\n",
              "    <tr>\n",
              "      <th rowspan=\"5\" valign=\"top\">1</th>\n",
              "      <th rowspan=\"3\" valign=\"top\">1</th>\n",
              "      <th>49</th>\n",
              "      <td>0:6</td>\n",
              "      <td>3</td>\n",
              "      <td>49</td>\n",
              "      <td>60</td>\n",
              "      <td>3</td>\n",
              "      <td>0</td>\n",
              "      <td>1</td>\n",
              "      <td>1</td>\n",
              "    </tr>\n",
              "    <tr>\n",
              "      <th>51</th>\n",
              "      <td>0:7</td>\n",
              "      <td>7</td>\n",
              "      <td>51</td>\n",
              "      <td>55</td>\n",
              "      <td>7</td>\n",
              "      <td>0</td>\n",
              "      <td>1</td>\n",
              "      <td>1</td>\n",
              "    </tr>\n",
              "    <tr>\n",
              "      <th>36</th>\n",
              "      <td>0:8</td>\n",
              "      <td>10</td>\n",
              "      <td>36</td>\n",
              "      <td>64</td>\n",
              "      <td>10</td>\n",
              "      <td>0</td>\n",
              "      <td>1</td>\n",
              "      <td>1</td>\n",
              "    </tr>\n",
              "    <tr>\n",
              "      <th rowspan=\"2\" valign=\"top\">3</th>\n",
              "      <th>36</th>\n",
              "      <td>0:14</td>\n",
              "      <td>211</td>\n",
              "      <td>36</td>\n",
              "      <td>57</td>\n",
              "      <td>-29</td>\n",
              "      <td>240</td>\n",
              "      <td>1</td>\n",
              "      <td>3</td>\n",
              "    </tr>\n",
              "    <tr>\n",
              "      <th>51</th>\n",
              "      <td>0:16</td>\n",
              "      <td>238</td>\n",
              "      <td>51</td>\n",
              "      <td>31</td>\n",
              "      <td>-2</td>\n",
              "      <td>240</td>\n",
              "      <td>1</td>\n",
              "      <td>3</td>\n",
              "    </tr>\n",
              "  </tbody>\n",
              "</table>\n",
              "</div>"
            ],
            "text/plain": [
              "                                track_msg_num  total_ticks  note  velocity  \\\n",
              "bar_number bar_beat_number note                                              \n",
              "1          1               49             0:6            3    49        60   \n",
              "                           51             0:7            7    51        55   \n",
              "                           36             0:8           10    36        64   \n",
              "           3               36            0:14          211    36        57   \n",
              "                           51            0:16          238    51        31   \n",
              "\n",
              "                                 beat_offset beat_center  bar_number  \\\n",
              "bar_number bar_beat_number note                                        \n",
              "1          1               49              3           0           1   \n",
              "                           51              7           0           1   \n",
              "                           36             10           0           1   \n",
              "           3               36            -29         240           1   \n",
              "                           51             -2         240           1   \n",
              "\n",
              "                                 bar_beat_number  \n",
              "bar_number bar_beat_number note                   \n",
              "1          1               49                  1  \n",
              "                           51                  1  \n",
              "                           36                  1  \n",
              "           3               36                  3  \n",
              "                           51                  3  "
            ]
          },
          "metadata": {
            "tags": []
          },
          "execution_count": 116
        },
        {
          "output_type": "execute_result",
          "data": {
            "text/html": [
              "<div>\n",
              "<style scoped>\n",
              "    .dataframe tbody tr th:only-of-type {\n",
              "        vertical-align: middle;\n",
              "    }\n",
              "\n",
              "    .dataframe tbody tr th {\n",
              "        vertical-align: top;\n",
              "    }\n",
              "\n",
              "    .dataframe thead th {\n",
              "        text-align: right;\n",
              "    }\n",
              "</style>\n",
              "<table border=\"1\" class=\"dataframe\">\n",
              "  <thead>\n",
              "    <tr style=\"text-align: right;\">\n",
              "      <th></th>\n",
              "      <th>total_ticks</th>\n",
              "      <th>note</th>\n",
              "      <th>velocity</th>\n",
              "      <th>beat_offset</th>\n",
              "      <th>bar_number</th>\n",
              "      <th>bar_beat_number</th>\n",
              "    </tr>\n",
              "  </thead>\n",
              "  <tbody>\n",
              "    <tr>\n",
              "      <th>count</th>\n",
              "      <td>264.000000</td>\n",
              "      <td>264.000000</td>\n",
              "      <td>264.000000</td>\n",
              "      <td>264.000000</td>\n",
              "      <td>264.000000</td>\n",
              "      <td>264.000000</td>\n",
              "    </tr>\n",
              "    <tr>\n",
              "      <th>mean</th>\n",
              "      <td>15389.109848</td>\n",
              "      <td>43.981061</td>\n",
              "      <td>59.371212</td>\n",
              "      <td>-8.617424</td>\n",
              "      <td>8.609848</td>\n",
              "      <td>7.556818</td>\n",
              "    </tr>\n",
              "    <tr>\n",
              "      <th>std</th>\n",
              "      <td>8818.113292</td>\n",
              "      <td>6.914718</td>\n",
              "      <td>24.050930</td>\n",
              "      <td>16.746416</td>\n",
              "      <td>4.589132</td>\n",
              "      <td>4.579317</td>\n",
              "    </tr>\n",
              "    <tr>\n",
              "      <th>min</th>\n",
              "      <td>3.000000</td>\n",
              "      <td>36.000000</td>\n",
              "      <td>8.000000</td>\n",
              "      <td>-58.000000</td>\n",
              "      <td>1.000000</td>\n",
              "      <td>1.000000</td>\n",
              "    </tr>\n",
              "    <tr>\n",
              "      <th>25%</th>\n",
              "      <td>7893.250000</td>\n",
              "      <td>38.000000</td>\n",
              "      <td>44.000000</td>\n",
              "      <td>-18.000000</td>\n",
              "      <td>5.000000</td>\n",
              "      <td>3.000000</td>\n",
              "    </tr>\n",
              "    <tr>\n",
              "      <th>50%</th>\n",
              "      <td>15378.000000</td>\n",
              "      <td>38.000000</td>\n",
              "      <td>53.000000</td>\n",
              "      <td>-7.500000</td>\n",
              "      <td>9.000000</td>\n",
              "      <td>8.000000</td>\n",
              "    </tr>\n",
              "    <tr>\n",
              "      <th>75%</th>\n",
              "      <td>23034.000000</td>\n",
              "      <td>51.000000</td>\n",
              "      <td>66.000000</td>\n",
              "      <td>1.250000</td>\n",
              "      <td>13.000000</td>\n",
              "      <td>11.000000</td>\n",
              "    </tr>\n",
              "    <tr>\n",
              "      <th>max</th>\n",
              "      <td>30452.000000</td>\n",
              "      <td>51.000000</td>\n",
              "      <td>127.000000</td>\n",
              "      <td>55.000000</td>\n",
              "      <td>16.000000</td>\n",
              "      <td>16.000000</td>\n",
              "    </tr>\n",
              "  </tbody>\n",
              "</table>\n",
              "</div>"
            ],
            "text/plain": [
              "        total_ticks        note    velocity  beat_offset  bar_number  \\\n",
              "count    264.000000  264.000000  264.000000   264.000000  264.000000   \n",
              "mean   15389.109848   43.981061   59.371212    -8.617424    8.609848   \n",
              "std     8818.113292    6.914718   24.050930    16.746416    4.589132   \n",
              "min        3.000000   36.000000    8.000000   -58.000000    1.000000   \n",
              "25%     7893.250000   38.000000   44.000000   -18.000000    5.000000   \n",
              "50%    15378.000000   38.000000   53.000000    -7.500000    9.000000   \n",
              "75%    23034.000000   51.000000   66.000000     1.250000   13.000000   \n",
              "max    30452.000000   51.000000  127.000000    55.000000   16.000000   \n",
              "\n",
              "       bar_beat_number  \n",
              "count       264.000000  \n",
              "mean          7.556818  \n",
              "std           4.579317  \n",
              "min           1.000000  \n",
              "25%           3.000000  \n",
              "50%           8.000000  \n",
              "75%          11.000000  \n",
              "max          16.000000  "
            ]
          },
          "metadata": {
            "tags": []
          },
          "execution_count": 116
        }
      ]
    },
    {
      "cell_type": "code",
      "metadata": {
        "colab": {
          "base_uri": "https://localhost:8080/",
          "height": 1000
        },
        "id": "C7V5dgDffyxv",
        "outputId": "cbc0e5ca-7090-47a3-bfc8-dba1d4700146"
      },
      "source": [
        "# pull out notes in named bars...\n",
        "display(df1.xs(1, level='bar_number')) \n",
        "display(df1.xs(2, level='bar_number')) "
      ],
      "execution_count": null,
      "outputs": [
        {
          "output_type": "display_data",
          "data": {
            "text/html": [
              "<div>\n",
              "<style scoped>\n",
              "    .dataframe tbody tr th:only-of-type {\n",
              "        vertical-align: middle;\n",
              "    }\n",
              "\n",
              "    .dataframe tbody tr th {\n",
              "        vertical-align: top;\n",
              "    }\n",
              "\n",
              "    .dataframe thead th {\n",
              "        text-align: right;\n",
              "    }\n",
              "</style>\n",
              "<table border=\"1\" class=\"dataframe\">\n",
              "  <thead>\n",
              "    <tr style=\"text-align: right;\">\n",
              "      <th></th>\n",
              "      <th>note</th>\n",
              "      <th>velocity</th>\n",
              "      <th>beat_offset</th>\n",
              "      <th>bar_beat_number</th>\n",
              "    </tr>\n",
              "    <tr>\n",
              "      <th>bar_beat_number</th>\n",
              "      <th></th>\n",
              "      <th></th>\n",
              "      <th></th>\n",
              "      <th></th>\n",
              "    </tr>\n",
              "  </thead>\n",
              "  <tbody>\n",
              "    <tr>\n",
              "      <th>1</th>\n",
              "      <td>hh</td>\n",
              "      <td>55</td>\n",
              "      <td>7</td>\n",
              "      <td>1</td>\n",
              "    </tr>\n",
              "    <tr>\n",
              "      <th>1</th>\n",
              "      <td>kick</td>\n",
              "      <td>64</td>\n",
              "      <td>10</td>\n",
              "      <td>1</td>\n",
              "    </tr>\n",
              "    <tr>\n",
              "      <th>3</th>\n",
              "      <td>kick</td>\n",
              "      <td>57</td>\n",
              "      <td>-29</td>\n",
              "      <td>3</td>\n",
              "    </tr>\n",
              "    <tr>\n",
              "      <th>3</th>\n",
              "      <td>hh</td>\n",
              "      <td>31</td>\n",
              "      <td>-2</td>\n",
              "      <td>3</td>\n",
              "    </tr>\n",
              "    <tr>\n",
              "      <th>5</th>\n",
              "      <td>hh</td>\n",
              "      <td>54</td>\n",
              "      <td>-13</td>\n",
              "      <td>5</td>\n",
              "    </tr>\n",
              "    <tr>\n",
              "      <th>5</th>\n",
              "      <td>snare</td>\n",
              "      <td>93</td>\n",
              "      <td>-5</td>\n",
              "      <td>5</td>\n",
              "    </tr>\n",
              "    <tr>\n",
              "      <th>7</th>\n",
              "      <td>hh</td>\n",
              "      <td>42</td>\n",
              "      <td>-16</td>\n",
              "      <td>7</td>\n",
              "    </tr>\n",
              "    <tr>\n",
              "      <th>8</th>\n",
              "      <td>snare</td>\n",
              "      <td>33</td>\n",
              "      <td>-12</td>\n",
              "      <td>8</td>\n",
              "    </tr>\n",
              "    <tr>\n",
              "      <th>10</th>\n",
              "      <td>snare</td>\n",
              "      <td>33</td>\n",
              "      <td>-14</td>\n",
              "      <td>10</td>\n",
              "    </tr>\n",
              "    <tr>\n",
              "      <th>11</th>\n",
              "      <td>kick</td>\n",
              "      <td>59</td>\n",
              "      <td>-37</td>\n",
              "      <td>11</td>\n",
              "    </tr>\n",
              "    <tr>\n",
              "      <th>11</th>\n",
              "      <td>hh</td>\n",
              "      <td>42</td>\n",
              "      <td>-32</td>\n",
              "      <td>11</td>\n",
              "    </tr>\n",
              "    <tr>\n",
              "      <th>13</th>\n",
              "      <td>hh</td>\n",
              "      <td>64</td>\n",
              "      <td>-18</td>\n",
              "      <td>13</td>\n",
              "    </tr>\n",
              "    <tr>\n",
              "      <th>13</th>\n",
              "      <td>snare</td>\n",
              "      <td>114</td>\n",
              "      <td>7</td>\n",
              "      <td>13</td>\n",
              "    </tr>\n",
              "    <tr>\n",
              "      <th>15</th>\n",
              "      <td>hh</td>\n",
              "      <td>44</td>\n",
              "      <td>-1</td>\n",
              "      <td>15</td>\n",
              "    </tr>\n",
              "    <tr>\n",
              "      <th>16</th>\n",
              "      <td>snare</td>\n",
              "      <td>30</td>\n",
              "      <td>-3</td>\n",
              "      <td>16</td>\n",
              "    </tr>\n",
              "  </tbody>\n",
              "</table>\n",
              "</div>"
            ],
            "text/plain": [
              "                  note  velocity  beat_offset  bar_beat_number\n",
              "bar_beat_number                                               \n",
              "1                   hh        55            7                1\n",
              "1                 kick        64           10                1\n",
              "3                 kick        57          -29                3\n",
              "3                   hh        31           -2                3\n",
              "5                   hh        54          -13                5\n",
              "5                snare        93           -5                5\n",
              "7                   hh        42          -16                7\n",
              "8                snare        33          -12                8\n",
              "10               snare        33          -14               10\n",
              "11                kick        59          -37               11\n",
              "11                  hh        42          -32               11\n",
              "13                  hh        64          -18               13\n",
              "13               snare       114            7               13\n",
              "15                  hh        44           -1               15\n",
              "16               snare        30           -3               16"
            ]
          },
          "metadata": {
            "tags": []
          }
        },
        {
          "output_type": "display_data",
          "data": {
            "text/html": [
              "<div>\n",
              "<style scoped>\n",
              "    .dataframe tbody tr th:only-of-type {\n",
              "        vertical-align: middle;\n",
              "    }\n",
              "\n",
              "    .dataframe tbody tr th {\n",
              "        vertical-align: top;\n",
              "    }\n",
              "\n",
              "    .dataframe thead th {\n",
              "        text-align: right;\n",
              "    }\n",
              "</style>\n",
              "<table border=\"1\" class=\"dataframe\">\n",
              "  <thead>\n",
              "    <tr style=\"text-align: right;\">\n",
              "      <th></th>\n",
              "      <th>note</th>\n",
              "      <th>velocity</th>\n",
              "      <th>beat_offset</th>\n",
              "      <th>bar_beat_number</th>\n",
              "    </tr>\n",
              "    <tr>\n",
              "      <th>bar_beat_number</th>\n",
              "      <th></th>\n",
              "      <th></th>\n",
              "      <th></th>\n",
              "      <th></th>\n",
              "    </tr>\n",
              "  </thead>\n",
              "  <tbody>\n",
              "    <tr>\n",
              "      <th>1</th>\n",
              "      <td>hh</td>\n",
              "      <td>42</td>\n",
              "      <td>-7</td>\n",
              "      <td>1</td>\n",
              "    </tr>\n",
              "    <tr>\n",
              "      <th>1</th>\n",
              "      <td>kick</td>\n",
              "      <td>55</td>\n",
              "      <td>-5</td>\n",
              "      <td>1</td>\n",
              "    </tr>\n",
              "    <tr>\n",
              "      <th>3</th>\n",
              "      <td>kick</td>\n",
              "      <td>62</td>\n",
              "      <td>-10</td>\n",
              "      <td>3</td>\n",
              "    </tr>\n",
              "    <tr>\n",
              "      <th>3</th>\n",
              "      <td>hh</td>\n",
              "      <td>41</td>\n",
              "      <td>3</td>\n",
              "      <td>3</td>\n",
              "    </tr>\n",
              "    <tr>\n",
              "      <th>5</th>\n",
              "      <td>snare</td>\n",
              "      <td>94</td>\n",
              "      <td>4</td>\n",
              "      <td>5</td>\n",
              "    </tr>\n",
              "    <tr>\n",
              "      <th>5</th>\n",
              "      <td>hh</td>\n",
              "      <td>51</td>\n",
              "      <td>5</td>\n",
              "      <td>5</td>\n",
              "    </tr>\n",
              "    <tr>\n",
              "      <th>7</th>\n",
              "      <td>hh</td>\n",
              "      <td>45</td>\n",
              "      <td>7</td>\n",
              "      <td>7</td>\n",
              "    </tr>\n",
              "    <tr>\n",
              "      <th>8</th>\n",
              "      <td>snare</td>\n",
              "      <td>32</td>\n",
              "      <td>7</td>\n",
              "      <td>8</td>\n",
              "    </tr>\n",
              "    <tr>\n",
              "      <th>9</th>\n",
              "      <td>hh</td>\n",
              "      <td>43</td>\n",
              "      <td>2</td>\n",
              "      <td>9</td>\n",
              "    </tr>\n",
              "    <tr>\n",
              "      <th>10</th>\n",
              "      <td>snare</td>\n",
              "      <td>24</td>\n",
              "      <td>-5</td>\n",
              "      <td>10</td>\n",
              "    </tr>\n",
              "    <tr>\n",
              "      <th>11</th>\n",
              "      <td>kick</td>\n",
              "      <td>47</td>\n",
              "      <td>-46</td>\n",
              "      <td>11</td>\n",
              "    </tr>\n",
              "    <tr>\n",
              "      <th>11</th>\n",
              "      <td>hh</td>\n",
              "      <td>36</td>\n",
              "      <td>2</td>\n",
              "      <td>11</td>\n",
              "    </tr>\n",
              "    <tr>\n",
              "      <th>12</th>\n",
              "      <td>kick</td>\n",
              "      <td>54</td>\n",
              "      <td>-21</td>\n",
              "      <td>12</td>\n",
              "    </tr>\n",
              "    <tr>\n",
              "      <th>13</th>\n",
              "      <td>snare</td>\n",
              "      <td>89</td>\n",
              "      <td>-13</td>\n",
              "      <td>13</td>\n",
              "    </tr>\n",
              "    <tr>\n",
              "      <th>13</th>\n",
              "      <td>hh</td>\n",
              "      <td>54</td>\n",
              "      <td>0</td>\n",
              "      <td>13</td>\n",
              "    </tr>\n",
              "    <tr>\n",
              "      <th>15</th>\n",
              "      <td>hh</td>\n",
              "      <td>39</td>\n",
              "      <td>7</td>\n",
              "      <td>15</td>\n",
              "    </tr>\n",
              "  </tbody>\n",
              "</table>\n",
              "</div>"
            ],
            "text/plain": [
              "                  note  velocity  beat_offset  bar_beat_number\n",
              "bar_beat_number                                               \n",
              "1                   hh        42           -7                1\n",
              "1                 kick        55           -5                1\n",
              "3                 kick        62          -10                3\n",
              "3                   hh        41            3                3\n",
              "5                snare        94            4                5\n",
              "5                   hh        51            5                5\n",
              "7                   hh        45            7                7\n",
              "8                snare        32            7                8\n",
              "9                   hh        43            2                9\n",
              "10               snare        24           -5               10\n",
              "11                kick        47          -46               11\n",
              "11                  hh        36            2               11\n",
              "12                kick        54          -21               12\n",
              "13               snare        89          -13               13\n",
              "13                  hh        54            0               13\n",
              "15                  hh        39            7               15"
            ]
          },
          "metadata": {
            "tags": []
          }
        }
      ]
    },
    {
      "cell_type": "markdown",
      "metadata": {
        "id": "u9yXJCSEa7bO"
      },
      "source": [
        "## Filter songs..."
      ]
    },
    {
      "cell_type": "markdown",
      "metadata": {
        "id": "qjcKzDPgR1sK"
      },
      "source": [
        "Take a look at all file names in the complete data set..."
      ]
    },
    {
      "cell_type": "code",
      "metadata": {
        "colab": {
          "base_uri": "https://localhost:8080/"
        },
        "id": "TX8d6C3cRUv1",
        "outputId": "5b7e49e5-083e-4815-dab0-6fa8dff775ce"
      },
      "source": [
        "list(all_drummer_data.keys())"
      ],
      "execution_count": null,
      "outputs": [
        {
          "output_type": "execute_result",
          "data": {
            "text/plain": [
              "['/content/drive/My Drive/groove-v1.0.0-midionly/groove/drummer1/eval_session/1_funk-groove1_138_beat_4-4.mid',\n",
              " '/content/drive/My Drive/groove-v1.0.0-midionly/groove/drummer1/eval_session/3_soul-groove3_86_beat_4-4.mid',\n",
              " '/content/drive/My Drive/groove-v1.0.0-midionly/groove/drummer1/eval_session/4_soul-groove4_80_beat_4-4.mid',\n",
              " '/content/drive/My Drive/groove-v1.0.0-midionly/groove/drummer1/eval_session/6_hiphop-groove6_87_beat_4-4.mid',\n",
              " '/content/drive/My Drive/groove-v1.0.0-midionly/groove/drummer1/eval_session/8_rock-groove8_65_beat_4-4.mid',\n",
              " '/content/drive/My Drive/groove-v1.0.0-midionly/groove/drummer5/eval_session/1_funk-groove1_138_beat_4-4.mid',\n",
              " '/content/drive/My Drive/groove-v1.0.0-midionly/groove/drummer5/eval_session/3_soul-groove3_86_beat_4-4.mid',\n",
              " '/content/drive/My Drive/groove-v1.0.0-midionly/groove/drummer5/eval_session/4_soul-groove4_80_beat_4-4.mid',\n",
              " '/content/drive/My Drive/groove-v1.0.0-midionly/groove/drummer5/eval_session/6_hiphop-groove6_87_beat_4-4.mid',\n",
              " '/content/drive/My Drive/groove-v1.0.0-midionly/groove/drummer5/eval_session/8_rock-groove8_65_beat_4-4.mid',\n",
              " '/content/drive/My Drive/groove-v1.0.0-midionly/groove/drummer7/eval_session/1_funk-groove1_138_beat_4-4.mid',\n",
              " '/content/drive/My Drive/groove-v1.0.0-midionly/groove/drummer7/eval_session/3_soul-groove3_86_beat_4-4.mid',\n",
              " '/content/drive/My Drive/groove-v1.0.0-midionly/groove/drummer7/eval_session/4_soul-groove4_80_beat_4-4.mid',\n",
              " '/content/drive/My Drive/groove-v1.0.0-midionly/groove/drummer7/eval_session/6_hiphop-groove6_87_beat_4-4.mid',\n",
              " '/content/drive/My Drive/groove-v1.0.0-midionly/groove/drummer7/eval_session/8_rock-groove8_65_beat_4-4.mid',\n",
              " '/content/drive/My Drive/groove-v1.0.0-midionly/groove/drummer8/eval_session/1_funk-groove1_138_beat_4-4.mid',\n",
              " '/content/drive/My Drive/groove-v1.0.0-midionly/groove/drummer8/eval_session/3_soul-groove3_86_beat_4-4.mid',\n",
              " '/content/drive/My Drive/groove-v1.0.0-midionly/groove/drummer8/eval_session/4_soul-groove4_80_beat_4-4.mid',\n",
              " '/content/drive/My Drive/groove-v1.0.0-midionly/groove/drummer8/eval_session/6_hiphop-groove6_87_beat_4-4.mid',\n",
              " '/content/drive/My Drive/groove-v1.0.0-midionly/groove/drummer8/eval_session/8_rock-groove8_65_beat_4-4.mid']"
            ]
          },
          "metadata": {
            "tags": []
          },
          "execution_count": 15
        }
      ]
    },
    {
      "cell_type": "markdown",
      "metadata": {
        "id": "PaGGCcrSR9lh"
      },
      "source": [
        "Code to pull out data to test, based on selected songs. Also add 'y' (target/ observation) label."
      ]
    },
    {
      "cell_type": "code",
      "metadata": {
        "colab": {
          "base_uri": "https://localhost:8080/",
          "height": 306
        },
        "id": "Wv1ZPml3a-NW",
        "outputId": "e248ad78-9cd5-46bf-adb0-3248b014dad6"
      },
      "source": [
        "\n",
        "# FILTER SONGS BEING TESTED, ADD LABEL\n",
        "\n",
        "def addLabelCol(df, label):\n",
        "  '''\n",
        "  Input: data_prep.PerformanceData.tight_df\n",
        "  Return: df with additional colum for Y/ label called 'drummer_ID'\n",
        "  '''\n",
        "  df.insert(0, 'drummer_ID', label) # add it as first col\n",
        "  return df\n",
        "\n",
        "def load_songs(style_filter=[]):\n",
        "\n",
        "  songs_data = []\n",
        "\n",
        "  if len(style_filter) == 0:\n",
        "    print('>>>> Loading all songs ...')\n",
        "    for next_file in all_drummer_data.keys():\n",
        "      perf_data = all_drummer_data[next_file]\n",
        "      file_name = perf_data.file_wrapper.my_file_name\n",
        "      print('  __{}'.format(file_name))\n",
        "      df1 = perf_data.tight_df.copy()\n",
        "      df2 = addLabelCol(df1, perf_data.drummer_id)  \n",
        "      df2.reset_index(drop=True, inplace=True)\n",
        "      songs_data.append(df2)\n",
        "    print('>>>> DONE loading all songs.')\n",
        "  else:\n",
        "    for next_style in style_filter:\n",
        "      print('>>>> Loading songs in style: {} ...'.format(next_style))\n",
        "\n",
        "      # iterate through loaded files, extract songs\n",
        "      # matching the any styles set in 'next_filter'\n",
        "      for next_file in all_drummer_data.keys():\n",
        "        perf_data = all_drummer_data[next_file]\n",
        "        file_name = perf_data.file_wrapper.my_file_name\n",
        "        if next_style in file_name:\n",
        "          print('  __{}'.format(file_name))\n",
        "          df1 = perf_data.tight_df.copy()\n",
        "          df2 = addLabelCol(df1, perf_data.drummer_id)  \n",
        "          df2.reset_index(drop=True, inplace=True)\n",
        "          songs_data.append(df2)\n",
        "        else:\n",
        "          #print('  ... ignoring: {}'.format(file_name))\n",
        "          pass\n",
        "    print('>>>> DONE loading songs: {}'.format(style_filter))\n",
        "\n",
        "  return songs_data\n",
        "\n",
        "# specify style being processed\n",
        "# 1_funk-groove1\n",
        "# 3_soul-groove3\n",
        "# 4_soul-groove4\n",
        "# 6_hiphop-groove6\n",
        "# 8_rock-groove8\n",
        "\n",
        "#style_filter = \"1_funk-groove1\"  \n",
        "#style_filter = \"3_soul-groove3\" \n",
        "#style_filter = \"4_soul-groove4\"\n",
        "#style_filter = \"6_hiphop-groove6\"\n",
        "#style_filter = \"8_rock-groove8\"\n",
        "\n",
        "filtered_songs = load_songs(style_filter=[\"4_soul-groove4\"])\n",
        "\n",
        "# load ALL songs ...\n",
        "#working_songs = load_songs()\n",
        "\n",
        "# merge all into single df, drop indexes, reset default index\n",
        "working_data = pd.concat(filtered_songs)\n",
        "working_data.reset_index(inplace=True, drop=True)\n",
        "\n",
        "# .. at this point, df 'working_data' is a collection\n",
        "# of data for the same song, across all drummers, with\n",
        "# DrummerID label\n",
        "\n",
        "working_data.head(5)\n"
      ],
      "execution_count": null,
      "outputs": [
        {
          "output_type": "stream",
          "text": [
            ">>>> Loading songs in style: 4_soul-groove4 ...\n",
            "  __/content/drive/My Drive/groove-v1.0.0-midionly/groove/drummer1/eval_session/4_soul-groove4_80_beat_4-4.mid\n",
            "  __/content/drive/My Drive/groove-v1.0.0-midionly/groove/drummer5/eval_session/4_soul-groove4_80_beat_4-4.mid\n",
            "  __/content/drive/My Drive/groove-v1.0.0-midionly/groove/drummer7/eval_session/4_soul-groove4_80_beat_4-4.mid\n",
            "  __/content/drive/My Drive/groove-v1.0.0-midionly/groove/drummer8/eval_session/4_soul-groove4_80_beat_4-4.mid\n",
            ">>>> DONE loading songs: ['4_soul-groove4']\n"
          ],
          "name": "stdout"
        },
        {
          "output_type": "execute_result",
          "data": {
            "text/html": [
              "<div>\n",
              "<style scoped>\n",
              "    .dataframe tbody tr th:only-of-type {\n",
              "        vertical-align: middle;\n",
              "    }\n",
              "\n",
              "    .dataframe tbody tr th {\n",
              "        vertical-align: top;\n",
              "    }\n",
              "\n",
              "    .dataframe thead th {\n",
              "        text-align: right;\n",
              "    }\n",
              "</style>\n",
              "<table border=\"1\" class=\"dataframe\">\n",
              "  <thead>\n",
              "    <tr style=\"text-align: right;\">\n",
              "      <th></th>\n",
              "      <th>drummer_ID</th>\n",
              "      <th>note</th>\n",
              "      <th>velocity</th>\n",
              "      <th>beat_offset</th>\n",
              "      <th>bar_beat_number</th>\n",
              "    </tr>\n",
              "  </thead>\n",
              "  <tbody>\n",
              "    <tr>\n",
              "      <th>0</th>\n",
              "      <td>drummer1</td>\n",
              "      <td>kick</td>\n",
              "      <td>73</td>\n",
              "      <td>0</td>\n",
              "      <td>1</td>\n",
              "    </tr>\n",
              "    <tr>\n",
              "      <th>1</th>\n",
              "      <td>drummer1</td>\n",
              "      <td>hh</td>\n",
              "      <td>74</td>\n",
              "      <td>0</td>\n",
              "      <td>1</td>\n",
              "    </tr>\n",
              "    <tr>\n",
              "      <th>2</th>\n",
              "      <td>drummer1</td>\n",
              "      <td>hh</td>\n",
              "      <td>67</td>\n",
              "      <td>-5</td>\n",
              "      <td>3</td>\n",
              "    </tr>\n",
              "    <tr>\n",
              "      <th>3</th>\n",
              "      <td>drummer1</td>\n",
              "      <td>snare</td>\n",
              "      <td>92</td>\n",
              "      <td>-1</td>\n",
              "      <td>5</td>\n",
              "    </tr>\n",
              "    <tr>\n",
              "      <th>4</th>\n",
              "      <td>drummer1</td>\n",
              "      <td>hh</td>\n",
              "      <td>81</td>\n",
              "      <td>1</td>\n",
              "      <td>5</td>\n",
              "    </tr>\n",
              "  </tbody>\n",
              "</table>\n",
              "</div>"
            ],
            "text/plain": [
              "  drummer_ID   note  velocity  beat_offset  bar_beat_number\n",
              "0   drummer1   kick        73            0                1\n",
              "1   drummer1     hh        74            0                1\n",
              "2   drummer1     hh        67           -5                3\n",
              "3   drummer1  snare        92           -1                5\n",
              "4   drummer1     hh        81            1                5"
            ]
          },
          "metadata": {
            "tags": []
          },
          "execution_count": 56
        }
      ]
    },
    {
      "cell_type": "markdown",
      "metadata": {
        "id": "5bC-Ly7h_9LV"
      },
      "source": [
        "# Setup pipelines"
      ]
    },
    {
      "cell_type": "code",
      "metadata": {
        "colab": {
          "base_uri": "https://localhost:8080/",
          "height": 142
        },
        "id": "Y0_jcqjobJAS",
        "outputId": "a1de8644-f0bc-423e-c3ec-ac4127a96226"
      },
      "source": [
        "working_data.corr()"
      ],
      "execution_count": null,
      "outputs": [
        {
          "output_type": "execute_result",
          "data": {
            "text/html": [
              "<div>\n",
              "<style scoped>\n",
              "    .dataframe tbody tr th:only-of-type {\n",
              "        vertical-align: middle;\n",
              "    }\n",
              "\n",
              "    .dataframe tbody tr th {\n",
              "        vertical-align: top;\n",
              "    }\n",
              "\n",
              "    .dataframe thead th {\n",
              "        text-align: right;\n",
              "    }\n",
              "</style>\n",
              "<table border=\"1\" class=\"dataframe\">\n",
              "  <thead>\n",
              "    <tr style=\"text-align: right;\">\n",
              "      <th></th>\n",
              "      <th>velocity</th>\n",
              "      <th>beat_offset</th>\n",
              "      <th>bar_beat_number</th>\n",
              "    </tr>\n",
              "  </thead>\n",
              "  <tbody>\n",
              "    <tr>\n",
              "      <th>velocity</th>\n",
              "      <td>1.000000</td>\n",
              "      <td>-0.084157</td>\n",
              "      <td>0.143209</td>\n",
              "    </tr>\n",
              "    <tr>\n",
              "      <th>beat_offset</th>\n",
              "      <td>-0.084157</td>\n",
              "      <td>1.000000</td>\n",
              "      <td>-0.067013</td>\n",
              "    </tr>\n",
              "    <tr>\n",
              "      <th>bar_beat_number</th>\n",
              "      <td>0.143209</td>\n",
              "      <td>-0.067013</td>\n",
              "      <td>1.000000</td>\n",
              "    </tr>\n",
              "  </tbody>\n",
              "</table>\n",
              "</div>"
            ],
            "text/plain": [
              "                 velocity  beat_offset  bar_beat_number\n",
              "velocity         1.000000    -0.084157         0.143209\n",
              "beat_offset     -0.084157     1.000000        -0.067013\n",
              "bar_beat_number  0.143209    -0.067013         1.000000"
            ]
          },
          "metadata": {
            "tags": []
          },
          "execution_count": 57
        }
      ]
    },
    {
      "cell_type": "markdown",
      "metadata": {
        "id": "0PsIAz0QYtbk"
      },
      "source": [
        "## X, y split"
      ]
    },
    {
      "cell_type": "markdown",
      "metadata": {
        "id": "ArftiVcD-2fe"
      },
      "source": [
        "Break into X, y before continuing ..."
      ]
    },
    {
      "cell_type": "code",
      "metadata": {
        "id": "7_dNfV_NxVRu"
      },
      "source": [
        "# BREAK INTO X, y\n",
        "y = working_data['drummer_ID'].to_numpy()\n",
        "X = working_data.drop(['drummer_ID' ], axis=1) #.to_numpy()"
      ],
      "execution_count": null,
      "outputs": []
    },
    {
      "cell_type": "code",
      "metadata": {
        "colab": {
          "base_uri": "https://localhost:8080/",
          "height": 359
        },
        "id": "L2gSJXZwxq7E",
        "outputId": "8555d219-6d1e-43c6-8f66-4eff59e11750"
      },
      "source": [
        "X.head(10)"
      ],
      "execution_count": null,
      "outputs": [
        {
          "output_type": "execute_result",
          "data": {
            "text/html": [
              "<div>\n",
              "<style scoped>\n",
              "    .dataframe tbody tr th:only-of-type {\n",
              "        vertical-align: middle;\n",
              "    }\n",
              "\n",
              "    .dataframe tbody tr th {\n",
              "        vertical-align: top;\n",
              "    }\n",
              "\n",
              "    .dataframe thead th {\n",
              "        text-align: right;\n",
              "    }\n",
              "</style>\n",
              "<table border=\"1\" class=\"dataframe\">\n",
              "  <thead>\n",
              "    <tr style=\"text-align: right;\">\n",
              "      <th></th>\n",
              "      <th>note</th>\n",
              "      <th>velocity</th>\n",
              "      <th>beat_offset</th>\n",
              "      <th>bar_beat_number</th>\n",
              "    </tr>\n",
              "  </thead>\n",
              "  <tbody>\n",
              "    <tr>\n",
              "      <th>0</th>\n",
              "      <td>hh</td>\n",
              "      <td>32</td>\n",
              "      <td>0</td>\n",
              "      <td>1</td>\n",
              "    </tr>\n",
              "    <tr>\n",
              "      <th>1</th>\n",
              "      <td>kick</td>\n",
              "      <td>60</td>\n",
              "      <td>0</td>\n",
              "      <td>1</td>\n",
              "    </tr>\n",
              "    <tr>\n",
              "      <th>2</th>\n",
              "      <td>snare</td>\n",
              "      <td>15</td>\n",
              "      <td>1</td>\n",
              "      <td>1</td>\n",
              "    </tr>\n",
              "    <tr>\n",
              "      <th>3</th>\n",
              "      <td>hh</td>\n",
              "      <td>18</td>\n",
              "      <td>0</td>\n",
              "      <td>2</td>\n",
              "    </tr>\n",
              "    <tr>\n",
              "      <th>4</th>\n",
              "      <td>hh</td>\n",
              "      <td>60</td>\n",
              "      <td>3</td>\n",
              "      <td>3</td>\n",
              "    </tr>\n",
              "    <tr>\n",
              "      <th>5</th>\n",
              "      <td>hh</td>\n",
              "      <td>24</td>\n",
              "      <td>3</td>\n",
              "      <td>4</td>\n",
              "    </tr>\n",
              "    <tr>\n",
              "      <th>6</th>\n",
              "      <td>kick</td>\n",
              "      <td>52</td>\n",
              "      <td>4</td>\n",
              "      <td>4</td>\n",
              "    </tr>\n",
              "    <tr>\n",
              "      <th>7</th>\n",
              "      <td>snare</td>\n",
              "      <td>102</td>\n",
              "      <td>9</td>\n",
              "      <td>5</td>\n",
              "    </tr>\n",
              "    <tr>\n",
              "      <th>8</th>\n",
              "      <td>hh</td>\n",
              "      <td>46</td>\n",
              "      <td>9</td>\n",
              "      <td>5</td>\n",
              "    </tr>\n",
              "    <tr>\n",
              "      <th>9</th>\n",
              "      <td>hh</td>\n",
              "      <td>28</td>\n",
              "      <td>-2</td>\n",
              "      <td>6</td>\n",
              "    </tr>\n",
              "  </tbody>\n",
              "</table>\n",
              "</div>"
            ],
            "text/plain": [
              "    note  velocity  beat_offset  bar_beat_number\n",
              "0     hh        32            0                1\n",
              "1   kick        60            0                1\n",
              "2  snare        15            1                1\n",
              "3     hh        18            0                2\n",
              "4     hh        60            3                3\n",
              "5     hh        24            3                4\n",
              "6   kick        52            4                4\n",
              "7  snare       102            9                5\n",
              "8     hh        46            9                5\n",
              "9     hh        28           -2                6"
            ]
          },
          "metadata": {
            "tags": []
          },
          "execution_count": 19
        }
      ]
    },
    {
      "cell_type": "markdown",
      "metadata": {
        "id": "kfJf5jPs8x8o"
      },
      "source": [
        "## Create transformers"
      ]
    },
    {
      "cell_type": "code",
      "metadata": {
        "colab": {
          "base_uri": "https://localhost:8080/"
        },
        "id": "Gi0ZRXN2mH7o",
        "outputId": "881452ff-ca56-476c-829d-d0cb2bd163d3"
      },
      "source": [
        "beat_pos_cats = list(np.arange(1, 17))\n",
        "beat_pos_cats"
      ],
      "execution_count": null,
      "outputs": [
        {
          "output_type": "execute_result",
          "data": {
            "text/plain": [
              "[1, 2, 3, 4, 5, 6, 7, 8, 9, 10, 11, 12, 13, 14, 15, 16]"
            ]
          },
          "metadata": {
            "tags": []
          },
          "execution_count": 20
        }
      ]
    },
    {
      "cell_type": "code",
      "metadata": {
        "id": "5PNptdKrgx7b"
      },
      "source": [
        "\n",
        "\n",
        "t_one_hot_beat_pos = OneHotEncoder(drop='first', categories=[beat_pos_cats])    # beat_pos\n",
        "\n",
        "t_one_hot = OneHotEncoder(drop='first')    # instrument\n",
        "\n",
        "t_scaler_std = StandardScaler(with_mean=True, with_std=True) # defaults made explict, velocity & offset\n",
        "t_scaler_robust = RobustScaler(quantile_range=(25, 75))  # velocity & offset\n",
        "t_scaler_mm_1 = MinMaxScaler(feature_range=(0, 1))       # velocity\n",
        "t_scaler_mm_2 = MinMaxScaler(feature_range=(-0.5, 0.5))  # offset\n",
        "\n",
        "# col indexes, 0-3: note, velocity, beat_offset, bar_beat_number\n",
        "\n",
        "# robust scaling of vel & offset, one hot for instrument  \n",
        "t_v0_robust = [('t_scaler_robust', t_scaler_robust, [1, 2]), ('t_one_hot', t_one_hot, [0])]\n",
        "ct_v0 = ColumnTransformer(transformers=t_v0_robust, remainder='passthrough', sparse_threshold=0)\n",
        " \n",
        "\n",
        "# this should be equivalent to previous pipeline for KNN\n",
        "# MinMax scaling of vel & offset, one hot for instrument & beat_pos\n",
        "t_v1_mm = [('t_scaler_mm_1', t_scaler_mm_1, [1]), # velocity \n",
        "               ('t_scaler_mm_2', t_scaler_mm_2, [2]),  # offset\n",
        "               ('t_one_hot', t_one_hot, [0]),  # instrument\n",
        "               ('t_one_hot_beat_pos', t_one_hot_beat_pos, [3])]  # beat_pos \n",
        "ct_v1 = ColumnTransformer(transformers=t_v1_mm, remainder='passthrough', sparse_threshold=0)\n",
        "\n",
        "# MinMax scaling of vel & offset, one hot for instrument\n",
        "t_v2_mm = [('t_scaler_mm_1', t_scaler_mm_1, [1]), # velocity \n",
        "               ('t_scaler_mm_2', t_scaler_mm_2, [2]),  # offset\n",
        "               ('t_one_hot', t_one_hot, [0])]  # instrument\n",
        "ct_v2 = ColumnTransformer(transformers=t_v2_mm, remainder='passthrough', sparse_threshold=0)\n",
        "\n",
        "\n",
        "# MinMax scaling of vel & offset, one hot for note\n",
        "t_v3_mm = [('t_scaler_mm_1', t_scaler_mm_1, [1, 2]), ('t_one_hot', t_one_hot, [0])]\n",
        "ct_v3 = ColumnTransformer(transformers=t_v3_mm, remainder='passthrough', sparse_threshold=0)\n",
        "\n",
        "\n",
        "# Std scaling of vel & offset, one hot for note and beat_pos.\n",
        "t_v4_std = [('t_scaler_std', t_scaler_std, [1, 2]), # vel & offset\n",
        "           ('t_one_hot', t_one_hot, [0, 3])] # instrument, beat_pos\n",
        "ct_v4 = ColumnTransformer(transformers=t_v4_std, remainder='passthrough', sparse_threshold=0)\n",
        "\n"
      ],
      "execution_count": null,
      "outputs": []
    },
    {
      "cell_type": "code",
      "metadata": {
        "id": "zkrGgygvyICq"
      },
      "source": [
        "from sklearn import set_config\n",
        "set_config(display='diagram')   \n",
        "# diplays HTML representation in a jupyter context\n"
      ],
      "execution_count": null,
      "outputs": []
    },
    {
      "cell_type": "code",
      "metadata": {
        "colab": {
          "base_uri": "https://localhost:8080/",
          "height": 441
        },
        "id": "cNJ7yWl9y9Nd",
        "outputId": "c96f30c5-0df5-4318-808d-fb882609c743"
      },
      "source": [
        "ct_v0\n",
        "ct_v1\n",
        "ct_v2\n",
        "ct_v3\n",
        "ct_v4"
      ],
      "execution_count": null,
      "outputs": [
        {
          "output_type": "execute_result",
          "data": {
            "text/html": [
              "<style>div.sk-top-container {color: black;background-color: white;}div.sk-toggleable {background-color: white;}label.sk-toggleable__label {cursor: pointer;display: block;width: 100%;margin-bottom: 0;padding: 0.2em 0.3em;box-sizing: border-box;text-align: center;}div.sk-toggleable__content {max-height: 0;max-width: 0;overflow: hidden;text-align: left;background-color: #f0f8ff;}div.sk-toggleable__content pre {margin: 0.2em;color: black;border-radius: 0.25em;background-color: #f0f8ff;}input.sk-toggleable__control:checked~div.sk-toggleable__content {max-height: 200px;max-width: 100%;overflow: auto;}div.sk-estimator input.sk-toggleable__control:checked~label.sk-toggleable__label {background-color: #d4ebff;}div.sk-label input.sk-toggleable__control:checked~label.sk-toggleable__label {background-color: #d4ebff;}input.sk-hidden--visually {border: 0;clip: rect(1px 1px 1px 1px);clip: rect(1px, 1px, 1px, 1px);height: 1px;margin: -1px;overflow: hidden;padding: 0;position: absolute;width: 1px;}div.sk-estimator {font-family: monospace;background-color: #f0f8ff;margin: 0.25em 0.25em;border: 1px dotted black;border-radius: 0.25em;box-sizing: border-box;}div.sk-estimator:hover {background-color: #d4ebff;}div.sk-parallel-item::after {content: \"\";width: 100%;border-bottom: 1px solid gray;flex-grow: 1;}div.sk-label:hover label.sk-toggleable__label {background-color: #d4ebff;}div.sk-serial::before {content: \"\";position: absolute;border-left: 1px solid gray;box-sizing: border-box;top: 2em;bottom: 0;left: 50%;}div.sk-serial {display: flex;flex-direction: column;align-items: center;background-color: white;}div.sk-item {z-index: 1;}div.sk-parallel {display: flex;align-items: stretch;justify-content: center;background-color: white;}div.sk-parallel-item {display: flex;flex-direction: column;position: relative;background-color: white;}div.sk-parallel-item:first-child::after {align-self: flex-end;width: 50%;}div.sk-parallel-item:last-child::after {align-self: flex-start;width: 50%;}div.sk-parallel-item:only-child::after {width: 0;}div.sk-dashed-wrapped {border: 1px dashed gray;margin: 0.2em;box-sizing: border-box;padding-bottom: 0.1em;background-color: white;position: relative;}div.sk-label label {font-family: monospace;font-weight: bold;background-color: white;display: inline-block;line-height: 1.2em;}div.sk-label-container {position: relative;z-index: 2;text-align: center;}div.sk-container {display: inline-block;position: relative;}</style><div class=\"sk-top-container\"><div class=\"sk-container\"><div class=\"sk-item sk-dashed-wrapped\"><div class=\"sk-label-container\"><div class=\"sk-label sk-toggleable\"><input class=\"sk-toggleable__control sk-hidden--visually\" id=\"afd67793-5879-4a17-aaad-2aaea4470276\" type=\"checkbox\" ><label class=\"sk-toggleable__label\" for=\"afd67793-5879-4a17-aaad-2aaea4470276\">ColumnTransformer</label><div class=\"sk-toggleable__content\"><pre>ColumnTransformer(remainder='passthrough', sparse_threshold=0,\n",
              "                  transformers=[('t_scaler_robust',\n",
              "                                 RobustScaler(quantile_range=(25, 75)),\n",
              "                                 [1, 2]),\n",
              "                                ('t_one_hot', OneHotEncoder(drop='first'),\n",
              "                                 [0])])</pre></div></div></div><div class=\"sk-parallel\"><div class=\"sk-parallel-item\"><div class=\"sk-item\"><div class=\"sk-label-container\"><div class=\"sk-label sk-toggleable\"><input class=\"sk-toggleable__control sk-hidden--visually\" id=\"c1dc63d4-b0c9-4df6-b708-a5521cd971be\" type=\"checkbox\" ><label class=\"sk-toggleable__label\" for=\"c1dc63d4-b0c9-4df6-b708-a5521cd971be\">t_scaler_robust</label><div class=\"sk-toggleable__content\"><pre>[1, 2]</pre></div></div></div><div class=\"sk-serial\"><div class=\"sk-item\"><div class=\"sk-estimator sk-toggleable\"><input class=\"sk-toggleable__control sk-hidden--visually\" id=\"888f74a2-a6cf-4184-a74a-8180bf95f463\" type=\"checkbox\" ><label class=\"sk-toggleable__label\" for=\"888f74a2-a6cf-4184-a74a-8180bf95f463\">RobustScaler</label><div class=\"sk-toggleable__content\"><pre>RobustScaler(quantile_range=(25, 75))</pre></div></div></div></div></div></div><div class=\"sk-parallel-item\"><div class=\"sk-item\"><div class=\"sk-label-container\"><div class=\"sk-label sk-toggleable\"><input class=\"sk-toggleable__control sk-hidden--visually\" id=\"28530ea5-fac2-45a2-a0d5-2019bc87b520\" type=\"checkbox\" ><label class=\"sk-toggleable__label\" for=\"28530ea5-fac2-45a2-a0d5-2019bc87b520\">t_one_hot</label><div class=\"sk-toggleable__content\"><pre>[0]</pre></div></div></div><div class=\"sk-serial\"><div class=\"sk-item\"><div class=\"sk-estimator sk-toggleable\"><input class=\"sk-toggleable__control sk-hidden--visually\" id=\"a7ea9571-03b3-4858-92b0-f37eb946e7e6\" type=\"checkbox\" ><label class=\"sk-toggleable__label\" for=\"a7ea9571-03b3-4858-92b0-f37eb946e7e6\">OneHotEncoder</label><div class=\"sk-toggleable__content\"><pre>OneHotEncoder(drop='first')</pre></div></div></div></div></div></div></div></div></div></div>"
            ],
            "text/plain": [
              "ColumnTransformer(remainder='passthrough', sparse_threshold=0,\n",
              "                  transformers=[('t_scaler_robust',\n",
              "                                 RobustScaler(quantile_range=(25, 75)),\n",
              "                                 [1, 2]),\n",
              "                                ('t_one_hot', OneHotEncoder(drop='first'),\n",
              "                                 [0])])"
            ]
          },
          "metadata": {
            "tags": []
          },
          "execution_count": 23
        },
        {
          "output_type": "execute_result",
          "data": {
            "text/html": [
              "<style>div.sk-top-container {color: black;background-color: white;}div.sk-toggleable {background-color: white;}label.sk-toggleable__label {cursor: pointer;display: block;width: 100%;margin-bottom: 0;padding: 0.2em 0.3em;box-sizing: border-box;text-align: center;}div.sk-toggleable__content {max-height: 0;max-width: 0;overflow: hidden;text-align: left;background-color: #f0f8ff;}div.sk-toggleable__content pre {margin: 0.2em;color: black;border-radius: 0.25em;background-color: #f0f8ff;}input.sk-toggleable__control:checked~div.sk-toggleable__content {max-height: 200px;max-width: 100%;overflow: auto;}div.sk-estimator input.sk-toggleable__control:checked~label.sk-toggleable__label {background-color: #d4ebff;}div.sk-label input.sk-toggleable__control:checked~label.sk-toggleable__label {background-color: #d4ebff;}input.sk-hidden--visually {border: 0;clip: rect(1px 1px 1px 1px);clip: rect(1px, 1px, 1px, 1px);height: 1px;margin: -1px;overflow: hidden;padding: 0;position: absolute;width: 1px;}div.sk-estimator {font-family: monospace;background-color: #f0f8ff;margin: 0.25em 0.25em;border: 1px dotted black;border-radius: 0.25em;box-sizing: border-box;}div.sk-estimator:hover {background-color: #d4ebff;}div.sk-parallel-item::after {content: \"\";width: 100%;border-bottom: 1px solid gray;flex-grow: 1;}div.sk-label:hover label.sk-toggleable__label {background-color: #d4ebff;}div.sk-serial::before {content: \"\";position: absolute;border-left: 1px solid gray;box-sizing: border-box;top: 2em;bottom: 0;left: 50%;}div.sk-serial {display: flex;flex-direction: column;align-items: center;background-color: white;}div.sk-item {z-index: 1;}div.sk-parallel {display: flex;align-items: stretch;justify-content: center;background-color: white;}div.sk-parallel-item {display: flex;flex-direction: column;position: relative;background-color: white;}div.sk-parallel-item:first-child::after {align-self: flex-end;width: 50%;}div.sk-parallel-item:last-child::after {align-self: flex-start;width: 50%;}div.sk-parallel-item:only-child::after {width: 0;}div.sk-dashed-wrapped {border: 1px dashed gray;margin: 0.2em;box-sizing: border-box;padding-bottom: 0.1em;background-color: white;position: relative;}div.sk-label label {font-family: monospace;font-weight: bold;background-color: white;display: inline-block;line-height: 1.2em;}div.sk-label-container {position: relative;z-index: 2;text-align: center;}div.sk-container {display: inline-block;position: relative;}</style><div class=\"sk-top-container\"><div class=\"sk-container\"><div class=\"sk-item sk-dashed-wrapped\"><div class=\"sk-label-container\"><div class=\"sk-label sk-toggleable\"><input class=\"sk-toggleable__control sk-hidden--visually\" id=\"b3380931-b7df-4a93-ae45-ba89539c5747\" type=\"checkbox\" ><label class=\"sk-toggleable__label\" for=\"b3380931-b7df-4a93-ae45-ba89539c5747\">ColumnTransformer</label><div class=\"sk-toggleable__content\"><pre>ColumnTransformer(remainder='passthrough', sparse_threshold=0,\n",
              "                  transformers=[('t_scaler_mm_1', MinMaxScaler(), [1]),\n",
              "                                ('t_scaler_mm_2',\n",
              "                                 MinMaxScaler(feature_range=(-0.5, 0.5)), [2]),\n",
              "                                ('t_one_hot', OneHotEncoder(drop='first'), [0]),\n",
              "                                ('t_one_hot_beat_pos',\n",
              "                                 OneHotEncoder(categories=[[1, 2, 3, 4, 5, 6, 7,\n",
              "                                                            8, 9, 10, 11, 12,\n",
              "                                                            13, 14, 15, 16]],\n",
              "                                               drop='first'),\n",
              "                                 [3])])</pre></div></div></div><div class=\"sk-parallel\"><div class=\"sk-parallel-item\"><div class=\"sk-item\"><div class=\"sk-label-container\"><div class=\"sk-label sk-toggleable\"><input class=\"sk-toggleable__control sk-hidden--visually\" id=\"55b90eae-dabd-4c29-be49-1ad94e50038e\" type=\"checkbox\" ><label class=\"sk-toggleable__label\" for=\"55b90eae-dabd-4c29-be49-1ad94e50038e\">t_scaler_mm_1</label><div class=\"sk-toggleable__content\"><pre>[1]</pre></div></div></div><div class=\"sk-serial\"><div class=\"sk-item\"><div class=\"sk-estimator sk-toggleable\"><input class=\"sk-toggleable__control sk-hidden--visually\" id=\"9e4c5be4-837c-427f-b6b4-27d05b1bbffc\" type=\"checkbox\" ><label class=\"sk-toggleable__label\" for=\"9e4c5be4-837c-427f-b6b4-27d05b1bbffc\">MinMaxScaler</label><div class=\"sk-toggleable__content\"><pre>MinMaxScaler()</pre></div></div></div></div></div></div><div class=\"sk-parallel-item\"><div class=\"sk-item\"><div class=\"sk-label-container\"><div class=\"sk-label sk-toggleable\"><input class=\"sk-toggleable__control sk-hidden--visually\" id=\"37896f40-b14d-4415-9e40-f76a251a5371\" type=\"checkbox\" ><label class=\"sk-toggleable__label\" for=\"37896f40-b14d-4415-9e40-f76a251a5371\">t_scaler_mm_2</label><div class=\"sk-toggleable__content\"><pre>[2]</pre></div></div></div><div class=\"sk-serial\"><div class=\"sk-item\"><div class=\"sk-estimator sk-toggleable\"><input class=\"sk-toggleable__control sk-hidden--visually\" id=\"c11b7c28-a483-40cc-9989-b7d3539b5372\" type=\"checkbox\" ><label class=\"sk-toggleable__label\" for=\"c11b7c28-a483-40cc-9989-b7d3539b5372\">MinMaxScaler</label><div class=\"sk-toggleable__content\"><pre>MinMaxScaler(feature_range=(-0.5, 0.5))</pre></div></div></div></div></div></div><div class=\"sk-parallel-item\"><div class=\"sk-item\"><div class=\"sk-label-container\"><div class=\"sk-label sk-toggleable\"><input class=\"sk-toggleable__control sk-hidden--visually\" id=\"24e140a4-0b2a-478c-b420-6d4c2e257791\" type=\"checkbox\" ><label class=\"sk-toggleable__label\" for=\"24e140a4-0b2a-478c-b420-6d4c2e257791\">t_one_hot</label><div class=\"sk-toggleable__content\"><pre>[0]</pre></div></div></div><div class=\"sk-serial\"><div class=\"sk-item\"><div class=\"sk-estimator sk-toggleable\"><input class=\"sk-toggleable__control sk-hidden--visually\" id=\"6485a018-52ff-4e69-b765-cdf71d69c717\" type=\"checkbox\" ><label class=\"sk-toggleable__label\" for=\"6485a018-52ff-4e69-b765-cdf71d69c717\">OneHotEncoder</label><div class=\"sk-toggleable__content\"><pre>OneHotEncoder(drop='first')</pre></div></div></div></div></div></div><div class=\"sk-parallel-item\"><div class=\"sk-item\"><div class=\"sk-label-container\"><div class=\"sk-label sk-toggleable\"><input class=\"sk-toggleable__control sk-hidden--visually\" id=\"5ea4322a-7888-4124-99f8-bc582a3c4de0\" type=\"checkbox\" ><label class=\"sk-toggleable__label\" for=\"5ea4322a-7888-4124-99f8-bc582a3c4de0\">t_one_hot_beat_pos</label><div class=\"sk-toggleable__content\"><pre>[3]</pre></div></div></div><div class=\"sk-serial\"><div class=\"sk-item\"><div class=\"sk-estimator sk-toggleable\"><input class=\"sk-toggleable__control sk-hidden--visually\" id=\"ef9822c0-62cb-4a21-a874-016386ce5504\" type=\"checkbox\" ><label class=\"sk-toggleable__label\" for=\"ef9822c0-62cb-4a21-a874-016386ce5504\">OneHotEncoder</label><div class=\"sk-toggleable__content\"><pre>OneHotEncoder(categories=[[1, 2, 3, 4, 5, 6, 7, 8, 9, 10, 11, 12, 13, 14, 15,\n",
              "                           16]],\n",
              "              drop='first')</pre></div></div></div></div></div></div></div></div></div></div>"
            ],
            "text/plain": [
              "ColumnTransformer(remainder='passthrough', sparse_threshold=0,\n",
              "                  transformers=[('t_scaler_mm_1', MinMaxScaler(), [1]),\n",
              "                                ('t_scaler_mm_2',\n",
              "                                 MinMaxScaler(feature_range=(-0.5, 0.5)), [2]),\n",
              "                                ('t_one_hot', OneHotEncoder(drop='first'), [0]),\n",
              "                                ('t_one_hot_beat_pos',\n",
              "                                 OneHotEncoder(categories=[[1, 2, 3, 4, 5, 6, 7,\n",
              "                                                            8, 9, 10, 11, 12,\n",
              "                                                            13, 14, 15, 16]],\n",
              "                                               drop='first'),\n",
              "                                 [3])])"
            ]
          },
          "metadata": {
            "tags": []
          },
          "execution_count": 23
        },
        {
          "output_type": "execute_result",
          "data": {
            "text/html": [
              "<style>div.sk-top-container {color: black;background-color: white;}div.sk-toggleable {background-color: white;}label.sk-toggleable__label {cursor: pointer;display: block;width: 100%;margin-bottom: 0;padding: 0.2em 0.3em;box-sizing: border-box;text-align: center;}div.sk-toggleable__content {max-height: 0;max-width: 0;overflow: hidden;text-align: left;background-color: #f0f8ff;}div.sk-toggleable__content pre {margin: 0.2em;color: black;border-radius: 0.25em;background-color: #f0f8ff;}input.sk-toggleable__control:checked~div.sk-toggleable__content {max-height: 200px;max-width: 100%;overflow: auto;}div.sk-estimator input.sk-toggleable__control:checked~label.sk-toggleable__label {background-color: #d4ebff;}div.sk-label input.sk-toggleable__control:checked~label.sk-toggleable__label {background-color: #d4ebff;}input.sk-hidden--visually {border: 0;clip: rect(1px 1px 1px 1px);clip: rect(1px, 1px, 1px, 1px);height: 1px;margin: -1px;overflow: hidden;padding: 0;position: absolute;width: 1px;}div.sk-estimator {font-family: monospace;background-color: #f0f8ff;margin: 0.25em 0.25em;border: 1px dotted black;border-radius: 0.25em;box-sizing: border-box;}div.sk-estimator:hover {background-color: #d4ebff;}div.sk-parallel-item::after {content: \"\";width: 100%;border-bottom: 1px solid gray;flex-grow: 1;}div.sk-label:hover label.sk-toggleable__label {background-color: #d4ebff;}div.sk-serial::before {content: \"\";position: absolute;border-left: 1px solid gray;box-sizing: border-box;top: 2em;bottom: 0;left: 50%;}div.sk-serial {display: flex;flex-direction: column;align-items: center;background-color: white;}div.sk-item {z-index: 1;}div.sk-parallel {display: flex;align-items: stretch;justify-content: center;background-color: white;}div.sk-parallel-item {display: flex;flex-direction: column;position: relative;background-color: white;}div.sk-parallel-item:first-child::after {align-self: flex-end;width: 50%;}div.sk-parallel-item:last-child::after {align-self: flex-start;width: 50%;}div.sk-parallel-item:only-child::after {width: 0;}div.sk-dashed-wrapped {border: 1px dashed gray;margin: 0.2em;box-sizing: border-box;padding-bottom: 0.1em;background-color: white;position: relative;}div.sk-label label {font-family: monospace;font-weight: bold;background-color: white;display: inline-block;line-height: 1.2em;}div.sk-label-container {position: relative;z-index: 2;text-align: center;}div.sk-container {display: inline-block;position: relative;}</style><div class=\"sk-top-container\"><div class=\"sk-container\"><div class=\"sk-item sk-dashed-wrapped\"><div class=\"sk-label-container\"><div class=\"sk-label sk-toggleable\"><input class=\"sk-toggleable__control sk-hidden--visually\" id=\"e3878b52-7df3-4632-a16e-0c91ae78474f\" type=\"checkbox\" ><label class=\"sk-toggleable__label\" for=\"e3878b52-7df3-4632-a16e-0c91ae78474f\">ColumnTransformer</label><div class=\"sk-toggleable__content\"><pre>ColumnTransformer(remainder='passthrough', sparse_threshold=0,\n",
              "                  transformers=[('t_scaler_mm_1', MinMaxScaler(), [1]),\n",
              "                                ('t_scaler_mm_2',\n",
              "                                 MinMaxScaler(feature_range=(-0.5, 0.5)), [2]),\n",
              "                                ('t_one_hot', OneHotEncoder(drop='first'),\n",
              "                                 [0])])</pre></div></div></div><div class=\"sk-parallel\"><div class=\"sk-parallel-item\"><div class=\"sk-item\"><div class=\"sk-label-container\"><div class=\"sk-label sk-toggleable\"><input class=\"sk-toggleable__control sk-hidden--visually\" id=\"8333c09e-4b75-4d06-987f-63a74354fc5d\" type=\"checkbox\" ><label class=\"sk-toggleable__label\" for=\"8333c09e-4b75-4d06-987f-63a74354fc5d\">t_scaler_mm_1</label><div class=\"sk-toggleable__content\"><pre>[1]</pre></div></div></div><div class=\"sk-serial\"><div class=\"sk-item\"><div class=\"sk-estimator sk-toggleable\"><input class=\"sk-toggleable__control sk-hidden--visually\" id=\"db58c182-4d7e-4796-9e2b-87fedd0bee77\" type=\"checkbox\" ><label class=\"sk-toggleable__label\" for=\"db58c182-4d7e-4796-9e2b-87fedd0bee77\">MinMaxScaler</label><div class=\"sk-toggleable__content\"><pre>MinMaxScaler()</pre></div></div></div></div></div></div><div class=\"sk-parallel-item\"><div class=\"sk-item\"><div class=\"sk-label-container\"><div class=\"sk-label sk-toggleable\"><input class=\"sk-toggleable__control sk-hidden--visually\" id=\"25c98afa-0ec4-487a-b51a-3021d36ed2be\" type=\"checkbox\" ><label class=\"sk-toggleable__label\" for=\"25c98afa-0ec4-487a-b51a-3021d36ed2be\">t_scaler_mm_2</label><div class=\"sk-toggleable__content\"><pre>[2]</pre></div></div></div><div class=\"sk-serial\"><div class=\"sk-item\"><div class=\"sk-estimator sk-toggleable\"><input class=\"sk-toggleable__control sk-hidden--visually\" id=\"ecde5d0a-988e-4fad-b355-8069a8853686\" type=\"checkbox\" ><label class=\"sk-toggleable__label\" for=\"ecde5d0a-988e-4fad-b355-8069a8853686\">MinMaxScaler</label><div class=\"sk-toggleable__content\"><pre>MinMaxScaler(feature_range=(-0.5, 0.5))</pre></div></div></div></div></div></div><div class=\"sk-parallel-item\"><div class=\"sk-item\"><div class=\"sk-label-container\"><div class=\"sk-label sk-toggleable\"><input class=\"sk-toggleable__control sk-hidden--visually\" id=\"47b070f2-aa04-447c-a6a9-7ba627755cb8\" type=\"checkbox\" ><label class=\"sk-toggleable__label\" for=\"47b070f2-aa04-447c-a6a9-7ba627755cb8\">t_one_hot</label><div class=\"sk-toggleable__content\"><pre>[0]</pre></div></div></div><div class=\"sk-serial\"><div class=\"sk-item\"><div class=\"sk-estimator sk-toggleable\"><input class=\"sk-toggleable__control sk-hidden--visually\" id=\"698741c7-9d73-49b3-b574-322c1bf2211e\" type=\"checkbox\" ><label class=\"sk-toggleable__label\" for=\"698741c7-9d73-49b3-b574-322c1bf2211e\">OneHotEncoder</label><div class=\"sk-toggleable__content\"><pre>OneHotEncoder(drop='first')</pre></div></div></div></div></div></div></div></div></div></div>"
            ],
            "text/plain": [
              "ColumnTransformer(remainder='passthrough', sparse_threshold=0,\n",
              "                  transformers=[('t_scaler_mm_1', MinMaxScaler(), [1]),\n",
              "                                ('t_scaler_mm_2',\n",
              "                                 MinMaxScaler(feature_range=(-0.5, 0.5)), [2]),\n",
              "                                ('t_one_hot', OneHotEncoder(drop='first'),\n",
              "                                 [0])])"
            ]
          },
          "metadata": {
            "tags": []
          },
          "execution_count": 23
        },
        {
          "output_type": "execute_result",
          "data": {
            "text/html": [
              "<style>div.sk-top-container {color: black;background-color: white;}div.sk-toggleable {background-color: white;}label.sk-toggleable__label {cursor: pointer;display: block;width: 100%;margin-bottom: 0;padding: 0.2em 0.3em;box-sizing: border-box;text-align: center;}div.sk-toggleable__content {max-height: 0;max-width: 0;overflow: hidden;text-align: left;background-color: #f0f8ff;}div.sk-toggleable__content pre {margin: 0.2em;color: black;border-radius: 0.25em;background-color: #f0f8ff;}input.sk-toggleable__control:checked~div.sk-toggleable__content {max-height: 200px;max-width: 100%;overflow: auto;}div.sk-estimator input.sk-toggleable__control:checked~label.sk-toggleable__label {background-color: #d4ebff;}div.sk-label input.sk-toggleable__control:checked~label.sk-toggleable__label {background-color: #d4ebff;}input.sk-hidden--visually {border: 0;clip: rect(1px 1px 1px 1px);clip: rect(1px, 1px, 1px, 1px);height: 1px;margin: -1px;overflow: hidden;padding: 0;position: absolute;width: 1px;}div.sk-estimator {font-family: monospace;background-color: #f0f8ff;margin: 0.25em 0.25em;border: 1px dotted black;border-radius: 0.25em;box-sizing: border-box;}div.sk-estimator:hover {background-color: #d4ebff;}div.sk-parallel-item::after {content: \"\";width: 100%;border-bottom: 1px solid gray;flex-grow: 1;}div.sk-label:hover label.sk-toggleable__label {background-color: #d4ebff;}div.sk-serial::before {content: \"\";position: absolute;border-left: 1px solid gray;box-sizing: border-box;top: 2em;bottom: 0;left: 50%;}div.sk-serial {display: flex;flex-direction: column;align-items: center;background-color: white;}div.sk-item {z-index: 1;}div.sk-parallel {display: flex;align-items: stretch;justify-content: center;background-color: white;}div.sk-parallel-item {display: flex;flex-direction: column;position: relative;background-color: white;}div.sk-parallel-item:first-child::after {align-self: flex-end;width: 50%;}div.sk-parallel-item:last-child::after {align-self: flex-start;width: 50%;}div.sk-parallel-item:only-child::after {width: 0;}div.sk-dashed-wrapped {border: 1px dashed gray;margin: 0.2em;box-sizing: border-box;padding-bottom: 0.1em;background-color: white;position: relative;}div.sk-label label {font-family: monospace;font-weight: bold;background-color: white;display: inline-block;line-height: 1.2em;}div.sk-label-container {position: relative;z-index: 2;text-align: center;}div.sk-container {display: inline-block;position: relative;}</style><div class=\"sk-top-container\"><div class=\"sk-container\"><div class=\"sk-item sk-dashed-wrapped\"><div class=\"sk-label-container\"><div class=\"sk-label sk-toggleable\"><input class=\"sk-toggleable__control sk-hidden--visually\" id=\"95daebd9-a4dc-4001-9371-91cc95641157\" type=\"checkbox\" ><label class=\"sk-toggleable__label\" for=\"95daebd9-a4dc-4001-9371-91cc95641157\">ColumnTransformer</label><div class=\"sk-toggleable__content\"><pre>ColumnTransformer(remainder='passthrough', sparse_threshold=0,\n",
              "                  transformers=[('t_scaler_mm_1', MinMaxScaler(), [1, 2]),\n",
              "                                ('t_one_hot', OneHotEncoder(drop='first'),\n",
              "                                 [0])])</pre></div></div></div><div class=\"sk-parallel\"><div class=\"sk-parallel-item\"><div class=\"sk-item\"><div class=\"sk-label-container\"><div class=\"sk-label sk-toggleable\"><input class=\"sk-toggleable__control sk-hidden--visually\" id=\"571932e9-43db-4af0-a014-2ce91d9c3946\" type=\"checkbox\" ><label class=\"sk-toggleable__label\" for=\"571932e9-43db-4af0-a014-2ce91d9c3946\">t_scaler_mm_1</label><div class=\"sk-toggleable__content\"><pre>[1, 2]</pre></div></div></div><div class=\"sk-serial\"><div class=\"sk-item\"><div class=\"sk-estimator sk-toggleable\"><input class=\"sk-toggleable__control sk-hidden--visually\" id=\"a6efce27-6055-46d7-b830-556f97286b39\" type=\"checkbox\" ><label class=\"sk-toggleable__label\" for=\"a6efce27-6055-46d7-b830-556f97286b39\">MinMaxScaler</label><div class=\"sk-toggleable__content\"><pre>MinMaxScaler()</pre></div></div></div></div></div></div><div class=\"sk-parallel-item\"><div class=\"sk-item\"><div class=\"sk-label-container\"><div class=\"sk-label sk-toggleable\"><input class=\"sk-toggleable__control sk-hidden--visually\" id=\"63294e67-41db-4606-921c-ceab04cc848a\" type=\"checkbox\" ><label class=\"sk-toggleable__label\" for=\"63294e67-41db-4606-921c-ceab04cc848a\">t_one_hot</label><div class=\"sk-toggleable__content\"><pre>[0]</pre></div></div></div><div class=\"sk-serial\"><div class=\"sk-item\"><div class=\"sk-estimator sk-toggleable\"><input class=\"sk-toggleable__control sk-hidden--visually\" id=\"e8b4d3ee-db51-421a-b63b-93a9ec696d3e\" type=\"checkbox\" ><label class=\"sk-toggleable__label\" for=\"e8b4d3ee-db51-421a-b63b-93a9ec696d3e\">OneHotEncoder</label><div class=\"sk-toggleable__content\"><pre>OneHotEncoder(drop='first')</pre></div></div></div></div></div></div></div></div></div></div>"
            ],
            "text/plain": [
              "ColumnTransformer(remainder='passthrough', sparse_threshold=0,\n",
              "                  transformers=[('t_scaler_mm_1', MinMaxScaler(), [1, 2]),\n",
              "                                ('t_one_hot', OneHotEncoder(drop='first'),\n",
              "                                 [0])])"
            ]
          },
          "metadata": {
            "tags": []
          },
          "execution_count": 23
        },
        {
          "output_type": "execute_result",
          "data": {
            "text/html": [
              "<style>div.sk-top-container {color: black;background-color: white;}div.sk-toggleable {background-color: white;}label.sk-toggleable__label {cursor: pointer;display: block;width: 100%;margin-bottom: 0;padding: 0.2em 0.3em;box-sizing: border-box;text-align: center;}div.sk-toggleable__content {max-height: 0;max-width: 0;overflow: hidden;text-align: left;background-color: #f0f8ff;}div.sk-toggleable__content pre {margin: 0.2em;color: black;border-radius: 0.25em;background-color: #f0f8ff;}input.sk-toggleable__control:checked~div.sk-toggleable__content {max-height: 200px;max-width: 100%;overflow: auto;}div.sk-estimator input.sk-toggleable__control:checked~label.sk-toggleable__label {background-color: #d4ebff;}div.sk-label input.sk-toggleable__control:checked~label.sk-toggleable__label {background-color: #d4ebff;}input.sk-hidden--visually {border: 0;clip: rect(1px 1px 1px 1px);clip: rect(1px, 1px, 1px, 1px);height: 1px;margin: -1px;overflow: hidden;padding: 0;position: absolute;width: 1px;}div.sk-estimator {font-family: monospace;background-color: #f0f8ff;margin: 0.25em 0.25em;border: 1px dotted black;border-radius: 0.25em;box-sizing: border-box;}div.sk-estimator:hover {background-color: #d4ebff;}div.sk-parallel-item::after {content: \"\";width: 100%;border-bottom: 1px solid gray;flex-grow: 1;}div.sk-label:hover label.sk-toggleable__label {background-color: #d4ebff;}div.sk-serial::before {content: \"\";position: absolute;border-left: 1px solid gray;box-sizing: border-box;top: 2em;bottom: 0;left: 50%;}div.sk-serial {display: flex;flex-direction: column;align-items: center;background-color: white;}div.sk-item {z-index: 1;}div.sk-parallel {display: flex;align-items: stretch;justify-content: center;background-color: white;}div.sk-parallel-item {display: flex;flex-direction: column;position: relative;background-color: white;}div.sk-parallel-item:first-child::after {align-self: flex-end;width: 50%;}div.sk-parallel-item:last-child::after {align-self: flex-start;width: 50%;}div.sk-parallel-item:only-child::after {width: 0;}div.sk-dashed-wrapped {border: 1px dashed gray;margin: 0.2em;box-sizing: border-box;padding-bottom: 0.1em;background-color: white;position: relative;}div.sk-label label {font-family: monospace;font-weight: bold;background-color: white;display: inline-block;line-height: 1.2em;}div.sk-label-container {position: relative;z-index: 2;text-align: center;}div.sk-container {display: inline-block;position: relative;}</style><div class=\"sk-top-container\"><div class=\"sk-container\"><div class=\"sk-item sk-dashed-wrapped\"><div class=\"sk-label-container\"><div class=\"sk-label sk-toggleable\"><input class=\"sk-toggleable__control sk-hidden--visually\" id=\"e5b8c3db-aae7-4806-96e2-70bf628e9c01\" type=\"checkbox\" ><label class=\"sk-toggleable__label\" for=\"e5b8c3db-aae7-4806-96e2-70bf628e9c01\">ColumnTransformer</label><div class=\"sk-toggleable__content\"><pre>ColumnTransformer(remainder='passthrough', sparse_threshold=0,\n",
              "                  transformers=[('t_scaler_std', StandardScaler(), [1, 2]),\n",
              "                                ('t_one_hot', OneHotEncoder(drop='first'),\n",
              "                                 [0, 3])])</pre></div></div></div><div class=\"sk-parallel\"><div class=\"sk-parallel-item\"><div class=\"sk-item\"><div class=\"sk-label-container\"><div class=\"sk-label sk-toggleable\"><input class=\"sk-toggleable__control sk-hidden--visually\" id=\"2da7ddf9-e117-4b0e-be2c-3fa74a2398ac\" type=\"checkbox\" ><label class=\"sk-toggleable__label\" for=\"2da7ddf9-e117-4b0e-be2c-3fa74a2398ac\">t_scaler_std</label><div class=\"sk-toggleable__content\"><pre>[1, 2]</pre></div></div></div><div class=\"sk-serial\"><div class=\"sk-item\"><div class=\"sk-estimator sk-toggleable\"><input class=\"sk-toggleable__control sk-hidden--visually\" id=\"d35e6918-783b-484c-bec6-bf62ce388ab2\" type=\"checkbox\" ><label class=\"sk-toggleable__label\" for=\"d35e6918-783b-484c-bec6-bf62ce388ab2\">StandardScaler</label><div class=\"sk-toggleable__content\"><pre>StandardScaler()</pre></div></div></div></div></div></div><div class=\"sk-parallel-item\"><div class=\"sk-item\"><div class=\"sk-label-container\"><div class=\"sk-label sk-toggleable\"><input class=\"sk-toggleable__control sk-hidden--visually\" id=\"7cd51dc0-cd6f-41c1-aa59-2364ab755e55\" type=\"checkbox\" ><label class=\"sk-toggleable__label\" for=\"7cd51dc0-cd6f-41c1-aa59-2364ab755e55\">t_one_hot</label><div class=\"sk-toggleable__content\"><pre>[0, 3]</pre></div></div></div><div class=\"sk-serial\"><div class=\"sk-item\"><div class=\"sk-estimator sk-toggleable\"><input class=\"sk-toggleable__control sk-hidden--visually\" id=\"caca3082-2c15-4ecf-ba72-94af5d054f32\" type=\"checkbox\" ><label class=\"sk-toggleable__label\" for=\"caca3082-2c15-4ecf-ba72-94af5d054f32\">OneHotEncoder</label><div class=\"sk-toggleable__content\"><pre>OneHotEncoder(drop='first')</pre></div></div></div></div></div></div></div></div></div></div>"
            ],
            "text/plain": [
              "ColumnTransformer(remainder='passthrough', sparse_threshold=0,\n",
              "                  transformers=[('t_scaler_std', StandardScaler(), [1, 2]),\n",
              "                                ('t_one_hot', OneHotEncoder(drop='first'),\n",
              "                                 [0, 3])])"
            ]
          },
          "metadata": {
            "tags": []
          },
          "execution_count": 23
        }
      ]
    },
    {
      "cell_type": "markdown",
      "metadata": {
        "id": "K3JlPpTjIlYg"
      },
      "source": [
        "## Sanity checking ..\n"
      ]
    },
    {
      "cell_type": "markdown",
      "metadata": {
        "id": "AMt3mRRkItZw"
      },
      "source": [
        "Try a transformer, peek at the outputs..."
      ]
    },
    {
      "cell_type": "code",
      "metadata": {
        "id": "Sm2Kwbjx-PU0"
      },
      "source": [
        "output1 = ct_v1.fit_transform(X)\n",
        "output2 = ct_v2.fit_transform(X)\n",
        "output3 = ct_v3.fit_transform(X)\n",
        "output4 = ct_v4.fit_transform(X)"
      ],
      "execution_count": null,
      "outputs": []
    },
    {
      "cell_type": "code",
      "metadata": {
        "colab": {
          "base_uri": "https://localhost:8080/",
          "height": 221
        },
        "id": "Bay0kX4dzAX4",
        "outputId": "a8abee4a-d8ab-4e7d-e354-edaf40cd3c1a"
      },
      "source": [
        "output1.shape\n",
        "pd.DataFrame(output1).head()"
      ],
      "execution_count": null,
      "outputs": [
        {
          "output_type": "execute_result",
          "data": {
            "text/plain": [
              "(1677, 19)"
            ]
          },
          "metadata": {
            "tags": []
          },
          "execution_count": 25
        },
        {
          "output_type": "execute_result",
          "data": {
            "text/html": [
              "<div>\n",
              "<style scoped>\n",
              "    .dataframe tbody tr th:only-of-type {\n",
              "        vertical-align: middle;\n",
              "    }\n",
              "\n",
              "    .dataframe tbody tr th {\n",
              "        vertical-align: top;\n",
              "    }\n",
              "\n",
              "    .dataframe thead th {\n",
              "        text-align: right;\n",
              "    }\n",
              "</style>\n",
              "<table border=\"1\" class=\"dataframe\">\n",
              "  <thead>\n",
              "    <tr style=\"text-align: right;\">\n",
              "      <th></th>\n",
              "      <th>0</th>\n",
              "      <th>1</th>\n",
              "      <th>2</th>\n",
              "      <th>3</th>\n",
              "      <th>4</th>\n",
              "      <th>5</th>\n",
              "      <th>6</th>\n",
              "      <th>7</th>\n",
              "      <th>8</th>\n",
              "      <th>9</th>\n",
              "      <th>10</th>\n",
              "      <th>11</th>\n",
              "      <th>12</th>\n",
              "      <th>13</th>\n",
              "      <th>14</th>\n",
              "      <th>15</th>\n",
              "      <th>16</th>\n",
              "      <th>17</th>\n",
              "      <th>18</th>\n",
              "    </tr>\n",
              "  </thead>\n",
              "  <tbody>\n",
              "    <tr>\n",
              "      <th>0</th>\n",
              "      <td>0.221311</td>\n",
              "      <td>0.004202</td>\n",
              "      <td>0.0</td>\n",
              "      <td>0.0</td>\n",
              "      <td>0.0</td>\n",
              "      <td>0.0</td>\n",
              "      <td>0.0</td>\n",
              "      <td>0.0</td>\n",
              "      <td>0.0</td>\n",
              "      <td>0.0</td>\n",
              "      <td>0.0</td>\n",
              "      <td>0.0</td>\n",
              "      <td>0.0</td>\n",
              "      <td>0.0</td>\n",
              "      <td>0.0</td>\n",
              "      <td>0.0</td>\n",
              "      <td>0.0</td>\n",
              "      <td>0.0</td>\n",
              "      <td>0.0</td>\n",
              "    </tr>\n",
              "    <tr>\n",
              "      <th>1</th>\n",
              "      <td>0.450820</td>\n",
              "      <td>0.004202</td>\n",
              "      <td>1.0</td>\n",
              "      <td>0.0</td>\n",
              "      <td>0.0</td>\n",
              "      <td>0.0</td>\n",
              "      <td>0.0</td>\n",
              "      <td>0.0</td>\n",
              "      <td>0.0</td>\n",
              "      <td>0.0</td>\n",
              "      <td>0.0</td>\n",
              "      <td>0.0</td>\n",
              "      <td>0.0</td>\n",
              "      <td>0.0</td>\n",
              "      <td>0.0</td>\n",
              "      <td>0.0</td>\n",
              "      <td>0.0</td>\n",
              "      <td>0.0</td>\n",
              "      <td>0.0</td>\n",
              "    </tr>\n",
              "    <tr>\n",
              "      <th>2</th>\n",
              "      <td>0.081967</td>\n",
              "      <td>0.012605</td>\n",
              "      <td>0.0</td>\n",
              "      <td>1.0</td>\n",
              "      <td>0.0</td>\n",
              "      <td>0.0</td>\n",
              "      <td>0.0</td>\n",
              "      <td>0.0</td>\n",
              "      <td>0.0</td>\n",
              "      <td>0.0</td>\n",
              "      <td>0.0</td>\n",
              "      <td>0.0</td>\n",
              "      <td>0.0</td>\n",
              "      <td>0.0</td>\n",
              "      <td>0.0</td>\n",
              "      <td>0.0</td>\n",
              "      <td>0.0</td>\n",
              "      <td>0.0</td>\n",
              "      <td>0.0</td>\n",
              "    </tr>\n",
              "    <tr>\n",
              "      <th>3</th>\n",
              "      <td>0.106557</td>\n",
              "      <td>0.004202</td>\n",
              "      <td>0.0</td>\n",
              "      <td>0.0</td>\n",
              "      <td>1.0</td>\n",
              "      <td>0.0</td>\n",
              "      <td>0.0</td>\n",
              "      <td>0.0</td>\n",
              "      <td>0.0</td>\n",
              "      <td>0.0</td>\n",
              "      <td>0.0</td>\n",
              "      <td>0.0</td>\n",
              "      <td>0.0</td>\n",
              "      <td>0.0</td>\n",
              "      <td>0.0</td>\n",
              "      <td>0.0</td>\n",
              "      <td>0.0</td>\n",
              "      <td>0.0</td>\n",
              "      <td>0.0</td>\n",
              "    </tr>\n",
              "    <tr>\n",
              "      <th>4</th>\n",
              "      <td>0.450820</td>\n",
              "      <td>0.029412</td>\n",
              "      <td>0.0</td>\n",
              "      <td>0.0</td>\n",
              "      <td>0.0</td>\n",
              "      <td>1.0</td>\n",
              "      <td>0.0</td>\n",
              "      <td>0.0</td>\n",
              "      <td>0.0</td>\n",
              "      <td>0.0</td>\n",
              "      <td>0.0</td>\n",
              "      <td>0.0</td>\n",
              "      <td>0.0</td>\n",
              "      <td>0.0</td>\n",
              "      <td>0.0</td>\n",
              "      <td>0.0</td>\n",
              "      <td>0.0</td>\n",
              "      <td>0.0</td>\n",
              "      <td>0.0</td>\n",
              "    </tr>\n",
              "  </tbody>\n",
              "</table>\n",
              "</div>"
            ],
            "text/plain": [
              "         0         1    2    3    4    5    6    7    8    9    10   11   12  \\\n",
              "0  0.221311  0.004202  0.0  0.0  0.0  0.0  0.0  0.0  0.0  0.0  0.0  0.0  0.0   \n",
              "1  0.450820  0.004202  1.0  0.0  0.0  0.0  0.0  0.0  0.0  0.0  0.0  0.0  0.0   \n",
              "2  0.081967  0.012605  0.0  1.0  0.0  0.0  0.0  0.0  0.0  0.0  0.0  0.0  0.0   \n",
              "3  0.106557  0.004202  0.0  0.0  1.0  0.0  0.0  0.0  0.0  0.0  0.0  0.0  0.0   \n",
              "4  0.450820  0.029412  0.0  0.0  0.0  1.0  0.0  0.0  0.0  0.0  0.0  0.0  0.0   \n",
              "\n",
              "    13   14   15   16   17   18  \n",
              "0  0.0  0.0  0.0  0.0  0.0  0.0  \n",
              "1  0.0  0.0  0.0  0.0  0.0  0.0  \n",
              "2  0.0  0.0  0.0  0.0  0.0  0.0  \n",
              "3  0.0  0.0  0.0  0.0  0.0  0.0  \n",
              "4  0.0  0.0  0.0  0.0  0.0  0.0  "
            ]
          },
          "metadata": {
            "tags": []
          },
          "execution_count": 25
        }
      ]
    },
    {
      "cell_type": "code",
      "metadata": {
        "colab": {
          "base_uri": "https://localhost:8080/",
          "height": 408
        },
        "id": "YgwkxqUzNRr5",
        "outputId": "e797a89e-028d-473d-d662-d0b3a97dc087"
      },
      "source": [
        "output2.shape\n",
        "tmp_df = pd.DataFrame(output2)\n",
        "tmp_df.head()\n",
        "tmp_df.corr()\n"
      ],
      "execution_count": null,
      "outputs": [
        {
          "output_type": "execute_result",
          "data": {
            "text/plain": [
              "(1677, 5)"
            ]
          },
          "metadata": {
            "tags": []
          },
          "execution_count": 26
        },
        {
          "output_type": "execute_result",
          "data": {
            "text/html": [
              "<div>\n",
              "<style scoped>\n",
              "    .dataframe tbody tr th:only-of-type {\n",
              "        vertical-align: middle;\n",
              "    }\n",
              "\n",
              "    .dataframe tbody tr th {\n",
              "        vertical-align: top;\n",
              "    }\n",
              "\n",
              "    .dataframe thead th {\n",
              "        text-align: right;\n",
              "    }\n",
              "</style>\n",
              "<table border=\"1\" class=\"dataframe\">\n",
              "  <thead>\n",
              "    <tr style=\"text-align: right;\">\n",
              "      <th></th>\n",
              "      <th>0</th>\n",
              "      <th>1</th>\n",
              "      <th>2</th>\n",
              "      <th>3</th>\n",
              "      <th>4</th>\n",
              "    </tr>\n",
              "  </thead>\n",
              "  <tbody>\n",
              "    <tr>\n",
              "      <th>0</th>\n",
              "      <td>0.221311</td>\n",
              "      <td>0.004202</td>\n",
              "      <td>0.0</td>\n",
              "      <td>0.0</td>\n",
              "      <td>1.0</td>\n",
              "    </tr>\n",
              "    <tr>\n",
              "      <th>1</th>\n",
              "      <td>0.450820</td>\n",
              "      <td>0.004202</td>\n",
              "      <td>1.0</td>\n",
              "      <td>0.0</td>\n",
              "      <td>1.0</td>\n",
              "    </tr>\n",
              "    <tr>\n",
              "      <th>2</th>\n",
              "      <td>0.081967</td>\n",
              "      <td>0.012605</td>\n",
              "      <td>0.0</td>\n",
              "      <td>1.0</td>\n",
              "      <td>1.0</td>\n",
              "    </tr>\n",
              "    <tr>\n",
              "      <th>3</th>\n",
              "      <td>0.106557</td>\n",
              "      <td>0.004202</td>\n",
              "      <td>0.0</td>\n",
              "      <td>0.0</td>\n",
              "      <td>2.0</td>\n",
              "    </tr>\n",
              "    <tr>\n",
              "      <th>4</th>\n",
              "      <td>0.450820</td>\n",
              "      <td>0.029412</td>\n",
              "      <td>0.0</td>\n",
              "      <td>0.0</td>\n",
              "      <td>3.0</td>\n",
              "    </tr>\n",
              "  </tbody>\n",
              "</table>\n",
              "</div>"
            ],
            "text/plain": [
              "          0         1    2    3    4\n",
              "0  0.221311  0.004202  0.0  0.0  1.0\n",
              "1  0.450820  0.004202  1.0  0.0  1.0\n",
              "2  0.081967  0.012605  0.0  1.0  1.0\n",
              "3  0.106557  0.004202  0.0  0.0  2.0\n",
              "4  0.450820  0.029412  0.0  0.0  3.0"
            ]
          },
          "metadata": {
            "tags": []
          },
          "execution_count": 26
        },
        {
          "output_type": "execute_result",
          "data": {
            "text/html": [
              "<div>\n",
              "<style scoped>\n",
              "    .dataframe tbody tr th:only-of-type {\n",
              "        vertical-align: middle;\n",
              "    }\n",
              "\n",
              "    .dataframe tbody tr th {\n",
              "        vertical-align: top;\n",
              "    }\n",
              "\n",
              "    .dataframe thead th {\n",
              "        text-align: right;\n",
              "    }\n",
              "</style>\n",
              "<table border=\"1\" class=\"dataframe\">\n",
              "  <thead>\n",
              "    <tr style=\"text-align: right;\">\n",
              "      <th></th>\n",
              "      <th>0</th>\n",
              "      <th>1</th>\n",
              "      <th>2</th>\n",
              "      <th>3</th>\n",
              "      <th>4</th>\n",
              "    </tr>\n",
              "  </thead>\n",
              "  <tbody>\n",
              "    <tr>\n",
              "      <th>0</th>\n",
              "      <td>1.000000</td>\n",
              "      <td>0.150622</td>\n",
              "      <td>-0.201766</td>\n",
              "      <td>0.125502</td>\n",
              "      <td>-0.049958</td>\n",
              "    </tr>\n",
              "    <tr>\n",
              "      <th>1</th>\n",
              "      <td>0.150622</td>\n",
              "      <td>1.000000</td>\n",
              "      <td>-0.003759</td>\n",
              "      <td>-0.037314</td>\n",
              "      <td>0.045267</td>\n",
              "    </tr>\n",
              "    <tr>\n",
              "      <th>2</th>\n",
              "      <td>-0.201766</td>\n",
              "      <td>-0.003759</td>\n",
              "      <td>1.000000</td>\n",
              "      <td>-0.241587</td>\n",
              "      <td>0.042524</td>\n",
              "    </tr>\n",
              "    <tr>\n",
              "      <th>3</th>\n",
              "      <td>0.125502</td>\n",
              "      <td>-0.037314</td>\n",
              "      <td>-0.241587</td>\n",
              "      <td>1.000000</td>\n",
              "      <td>-0.008819</td>\n",
              "    </tr>\n",
              "    <tr>\n",
              "      <th>4</th>\n",
              "      <td>-0.049958</td>\n",
              "      <td>0.045267</td>\n",
              "      <td>0.042524</td>\n",
              "      <td>-0.008819</td>\n",
              "      <td>1.000000</td>\n",
              "    </tr>\n",
              "  </tbody>\n",
              "</table>\n",
              "</div>"
            ],
            "text/plain": [
              "          0         1         2         3         4\n",
              "0  1.000000  0.150622 -0.201766  0.125502 -0.049958\n",
              "1  0.150622  1.000000 -0.003759 -0.037314  0.045267\n",
              "2 -0.201766 -0.003759  1.000000 -0.241587  0.042524\n",
              "3  0.125502 -0.037314 -0.241587  1.000000 -0.008819\n",
              "4 -0.049958  0.045267  0.042524 -0.008819  1.000000"
            ]
          },
          "metadata": {
            "tags": []
          },
          "execution_count": 26
        }
      ]
    },
    {
      "cell_type": "code",
      "metadata": {
        "colab": {
          "base_uri": "https://localhost:8080/",
          "height": 408
        },
        "id": "W_pV4i3aQjKw",
        "outputId": "e7c2c39c-04b7-4329-906b-635a953ecb97"
      },
      "source": [
        "output3.shape\n",
        "tmp_df = pd.DataFrame(output3)\n",
        "tmp_df.head()\n",
        "tmp_df.corr()"
      ],
      "execution_count": null,
      "outputs": [
        {
          "output_type": "execute_result",
          "data": {
            "text/plain": [
              "(1677, 5)"
            ]
          },
          "metadata": {
            "tags": []
          },
          "execution_count": 27
        },
        {
          "output_type": "execute_result",
          "data": {
            "text/html": [
              "<div>\n",
              "<style scoped>\n",
              "    .dataframe tbody tr th:only-of-type {\n",
              "        vertical-align: middle;\n",
              "    }\n",
              "\n",
              "    .dataframe tbody tr th {\n",
              "        vertical-align: top;\n",
              "    }\n",
              "\n",
              "    .dataframe thead th {\n",
              "        text-align: right;\n",
              "    }\n",
              "</style>\n",
              "<table border=\"1\" class=\"dataframe\">\n",
              "  <thead>\n",
              "    <tr style=\"text-align: right;\">\n",
              "      <th></th>\n",
              "      <th>0</th>\n",
              "      <th>1</th>\n",
              "      <th>2</th>\n",
              "      <th>3</th>\n",
              "      <th>4</th>\n",
              "    </tr>\n",
              "  </thead>\n",
              "  <tbody>\n",
              "    <tr>\n",
              "      <th>0</th>\n",
              "      <td>0.221311</td>\n",
              "      <td>0.504202</td>\n",
              "      <td>0.0</td>\n",
              "      <td>0.0</td>\n",
              "      <td>1.0</td>\n",
              "    </tr>\n",
              "    <tr>\n",
              "      <th>1</th>\n",
              "      <td>0.450820</td>\n",
              "      <td>0.504202</td>\n",
              "      <td>1.0</td>\n",
              "      <td>0.0</td>\n",
              "      <td>1.0</td>\n",
              "    </tr>\n",
              "    <tr>\n",
              "      <th>2</th>\n",
              "      <td>0.081967</td>\n",
              "      <td>0.512605</td>\n",
              "      <td>0.0</td>\n",
              "      <td>1.0</td>\n",
              "      <td>1.0</td>\n",
              "    </tr>\n",
              "    <tr>\n",
              "      <th>3</th>\n",
              "      <td>0.106557</td>\n",
              "      <td>0.504202</td>\n",
              "      <td>0.0</td>\n",
              "      <td>0.0</td>\n",
              "      <td>2.0</td>\n",
              "    </tr>\n",
              "    <tr>\n",
              "      <th>4</th>\n",
              "      <td>0.450820</td>\n",
              "      <td>0.529412</td>\n",
              "      <td>0.0</td>\n",
              "      <td>0.0</td>\n",
              "      <td>3.0</td>\n",
              "    </tr>\n",
              "  </tbody>\n",
              "</table>\n",
              "</div>"
            ],
            "text/plain": [
              "          0         1    2    3    4\n",
              "0  0.221311  0.504202  0.0  0.0  1.0\n",
              "1  0.450820  0.504202  1.0  0.0  1.0\n",
              "2  0.081967  0.512605  0.0  1.0  1.0\n",
              "3  0.106557  0.504202  0.0  0.0  2.0\n",
              "4  0.450820  0.529412  0.0  0.0  3.0"
            ]
          },
          "metadata": {
            "tags": []
          },
          "execution_count": 27
        },
        {
          "output_type": "execute_result",
          "data": {
            "text/html": [
              "<div>\n",
              "<style scoped>\n",
              "    .dataframe tbody tr th:only-of-type {\n",
              "        vertical-align: middle;\n",
              "    }\n",
              "\n",
              "    .dataframe tbody tr th {\n",
              "        vertical-align: top;\n",
              "    }\n",
              "\n",
              "    .dataframe thead th {\n",
              "        text-align: right;\n",
              "    }\n",
              "</style>\n",
              "<table border=\"1\" class=\"dataframe\">\n",
              "  <thead>\n",
              "    <tr style=\"text-align: right;\">\n",
              "      <th></th>\n",
              "      <th>0</th>\n",
              "      <th>1</th>\n",
              "      <th>2</th>\n",
              "      <th>3</th>\n",
              "      <th>4</th>\n",
              "    </tr>\n",
              "  </thead>\n",
              "  <tbody>\n",
              "    <tr>\n",
              "      <th>0</th>\n",
              "      <td>1.000000</td>\n",
              "      <td>0.150622</td>\n",
              "      <td>-0.201766</td>\n",
              "      <td>0.125502</td>\n",
              "      <td>-0.049958</td>\n",
              "    </tr>\n",
              "    <tr>\n",
              "      <th>1</th>\n",
              "      <td>0.150622</td>\n",
              "      <td>1.000000</td>\n",
              "      <td>-0.003759</td>\n",
              "      <td>-0.037314</td>\n",
              "      <td>0.045267</td>\n",
              "    </tr>\n",
              "    <tr>\n",
              "      <th>2</th>\n",
              "      <td>-0.201766</td>\n",
              "      <td>-0.003759</td>\n",
              "      <td>1.000000</td>\n",
              "      <td>-0.241587</td>\n",
              "      <td>0.042524</td>\n",
              "    </tr>\n",
              "    <tr>\n",
              "      <th>3</th>\n",
              "      <td>0.125502</td>\n",
              "      <td>-0.037314</td>\n",
              "      <td>-0.241587</td>\n",
              "      <td>1.000000</td>\n",
              "      <td>-0.008819</td>\n",
              "    </tr>\n",
              "    <tr>\n",
              "      <th>4</th>\n",
              "      <td>-0.049958</td>\n",
              "      <td>0.045267</td>\n",
              "      <td>0.042524</td>\n",
              "      <td>-0.008819</td>\n",
              "      <td>1.000000</td>\n",
              "    </tr>\n",
              "  </tbody>\n",
              "</table>\n",
              "</div>"
            ],
            "text/plain": [
              "          0         1         2         3         4\n",
              "0  1.000000  0.150622 -0.201766  0.125502 -0.049958\n",
              "1  0.150622  1.000000 -0.003759 -0.037314  0.045267\n",
              "2 -0.201766 -0.003759  1.000000 -0.241587  0.042524\n",
              "3  0.125502 -0.037314 -0.241587  1.000000 -0.008819\n",
              "4 -0.049958  0.045267  0.042524 -0.008819  1.000000"
            ]
          },
          "metadata": {
            "tags": []
          },
          "execution_count": 27
        }
      ]
    },
    {
      "cell_type": "code",
      "metadata": {
        "colab": {
          "base_uri": "https://localhost:8080/",
          "height": 862
        },
        "id": "Rqc_UWJVg6bA",
        "outputId": "84e559b8-4c94-4e42-e279-b239cbb65fa7"
      },
      "source": [
        "output4.shape\n",
        "tmp_df = pd.DataFrame(output4)\n",
        "tmp_df.head()\n",
        "tmp_df.corr()"
      ],
      "execution_count": null,
      "outputs": [
        {
          "output_type": "execute_result",
          "data": {
            "text/plain": [
              "(1677, 19)"
            ]
          },
          "metadata": {
            "tags": []
          },
          "execution_count": 28
        },
        {
          "output_type": "execute_result",
          "data": {
            "text/html": [
              "<div>\n",
              "<style scoped>\n",
              "    .dataframe tbody tr th:only-of-type {\n",
              "        vertical-align: middle;\n",
              "    }\n",
              "\n",
              "    .dataframe tbody tr th {\n",
              "        vertical-align: top;\n",
              "    }\n",
              "\n",
              "    .dataframe thead th {\n",
              "        text-align: right;\n",
              "    }\n",
              "</style>\n",
              "<table border=\"1\" class=\"dataframe\">\n",
              "  <thead>\n",
              "    <tr style=\"text-align: right;\">\n",
              "      <th></th>\n",
              "      <th>0</th>\n",
              "      <th>1</th>\n",
              "      <th>2</th>\n",
              "      <th>3</th>\n",
              "      <th>4</th>\n",
              "      <th>5</th>\n",
              "      <th>6</th>\n",
              "      <th>7</th>\n",
              "      <th>8</th>\n",
              "      <th>9</th>\n",
              "      <th>10</th>\n",
              "      <th>11</th>\n",
              "      <th>12</th>\n",
              "      <th>13</th>\n",
              "      <th>14</th>\n",
              "      <th>15</th>\n",
              "      <th>16</th>\n",
              "      <th>17</th>\n",
              "      <th>18</th>\n",
              "    </tr>\n",
              "  </thead>\n",
              "  <tbody>\n",
              "    <tr>\n",
              "      <th>0</th>\n",
              "      <td>-0.720137</td>\n",
              "      <td>0.698765</td>\n",
              "      <td>0.0</td>\n",
              "      <td>0.0</td>\n",
              "      <td>0.0</td>\n",
              "      <td>0.0</td>\n",
              "      <td>0.0</td>\n",
              "      <td>0.0</td>\n",
              "      <td>0.0</td>\n",
              "      <td>0.0</td>\n",
              "      <td>0.0</td>\n",
              "      <td>0.0</td>\n",
              "      <td>0.0</td>\n",
              "      <td>0.0</td>\n",
              "      <td>0.0</td>\n",
              "      <td>0.0</td>\n",
              "      <td>0.0</td>\n",
              "      <td>0.0</td>\n",
              "      <td>0.0</td>\n",
              "    </tr>\n",
              "    <tr>\n",
              "      <th>1</th>\n",
              "      <td>0.149115</td>\n",
              "      <td>0.698765</td>\n",
              "      <td>1.0</td>\n",
              "      <td>0.0</td>\n",
              "      <td>0.0</td>\n",
              "      <td>0.0</td>\n",
              "      <td>0.0</td>\n",
              "      <td>0.0</td>\n",
              "      <td>0.0</td>\n",
              "      <td>0.0</td>\n",
              "      <td>0.0</td>\n",
              "      <td>0.0</td>\n",
              "      <td>0.0</td>\n",
              "      <td>0.0</td>\n",
              "      <td>0.0</td>\n",
              "      <td>0.0</td>\n",
              "      <td>0.0</td>\n",
              "      <td>0.0</td>\n",
              "      <td>0.0</td>\n",
              "    </tr>\n",
              "    <tr>\n",
              "      <th>2</th>\n",
              "      <td>-1.247897</td>\n",
              "      <td>0.778851</td>\n",
              "      <td>0.0</td>\n",
              "      <td>1.0</td>\n",
              "      <td>0.0</td>\n",
              "      <td>0.0</td>\n",
              "      <td>0.0</td>\n",
              "      <td>0.0</td>\n",
              "      <td>0.0</td>\n",
              "      <td>0.0</td>\n",
              "      <td>0.0</td>\n",
              "      <td>0.0</td>\n",
              "      <td>0.0</td>\n",
              "      <td>0.0</td>\n",
              "      <td>0.0</td>\n",
              "      <td>0.0</td>\n",
              "      <td>0.0</td>\n",
              "      <td>0.0</td>\n",
              "      <td>0.0</td>\n",
              "    </tr>\n",
              "    <tr>\n",
              "      <th>3</th>\n",
              "      <td>-1.154763</td>\n",
              "      <td>0.698765</td>\n",
              "      <td>0.0</td>\n",
              "      <td>0.0</td>\n",
              "      <td>1.0</td>\n",
              "      <td>0.0</td>\n",
              "      <td>0.0</td>\n",
              "      <td>0.0</td>\n",
              "      <td>0.0</td>\n",
              "      <td>0.0</td>\n",
              "      <td>0.0</td>\n",
              "      <td>0.0</td>\n",
              "      <td>0.0</td>\n",
              "      <td>0.0</td>\n",
              "      <td>0.0</td>\n",
              "      <td>0.0</td>\n",
              "      <td>0.0</td>\n",
              "      <td>0.0</td>\n",
              "      <td>0.0</td>\n",
              "    </tr>\n",
              "    <tr>\n",
              "      <th>4</th>\n",
              "      <td>0.149115</td>\n",
              "      <td>0.939025</td>\n",
              "      <td>0.0</td>\n",
              "      <td>0.0</td>\n",
              "      <td>0.0</td>\n",
              "      <td>1.0</td>\n",
              "      <td>0.0</td>\n",
              "      <td>0.0</td>\n",
              "      <td>0.0</td>\n",
              "      <td>0.0</td>\n",
              "      <td>0.0</td>\n",
              "      <td>0.0</td>\n",
              "      <td>0.0</td>\n",
              "      <td>0.0</td>\n",
              "      <td>0.0</td>\n",
              "      <td>0.0</td>\n",
              "      <td>0.0</td>\n",
              "      <td>0.0</td>\n",
              "      <td>0.0</td>\n",
              "    </tr>\n",
              "  </tbody>\n",
              "</table>\n",
              "</div>"
            ],
            "text/plain": [
              "         0         1    2    3    4    5    6    7    8    9    10   11   12  \\\n",
              "0 -0.720137  0.698765  0.0  0.0  0.0  0.0  0.0  0.0  0.0  0.0  0.0  0.0  0.0   \n",
              "1  0.149115  0.698765  1.0  0.0  0.0  0.0  0.0  0.0  0.0  0.0  0.0  0.0  0.0   \n",
              "2 -1.247897  0.778851  0.0  1.0  0.0  0.0  0.0  0.0  0.0  0.0  0.0  0.0  0.0   \n",
              "3 -1.154763  0.698765  0.0  0.0  1.0  0.0  0.0  0.0  0.0  0.0  0.0  0.0  0.0   \n",
              "4  0.149115  0.939025  0.0  0.0  0.0  1.0  0.0  0.0  0.0  0.0  0.0  0.0  0.0   \n",
              "\n",
              "    13   14   15   16   17   18  \n",
              "0  0.0  0.0  0.0  0.0  0.0  0.0  \n",
              "1  0.0  0.0  0.0  0.0  0.0  0.0  \n",
              "2  0.0  0.0  0.0  0.0  0.0  0.0  \n",
              "3  0.0  0.0  0.0  0.0  0.0  0.0  \n",
              "4  0.0  0.0  0.0  0.0  0.0  0.0  "
            ]
          },
          "metadata": {
            "tags": []
          },
          "execution_count": 28
        },
        {
          "output_type": "execute_result",
          "data": {
            "text/html": [
              "<div>\n",
              "<style scoped>\n",
              "    .dataframe tbody tr th:only-of-type {\n",
              "        vertical-align: middle;\n",
              "    }\n",
              "\n",
              "    .dataframe tbody tr th {\n",
              "        vertical-align: top;\n",
              "    }\n",
              "\n",
              "    .dataframe thead th {\n",
              "        text-align: right;\n",
              "    }\n",
              "</style>\n",
              "<table border=\"1\" class=\"dataframe\">\n",
              "  <thead>\n",
              "    <tr style=\"text-align: right;\">\n",
              "      <th></th>\n",
              "      <th>0</th>\n",
              "      <th>1</th>\n",
              "      <th>2</th>\n",
              "      <th>3</th>\n",
              "      <th>4</th>\n",
              "      <th>5</th>\n",
              "      <th>6</th>\n",
              "      <th>7</th>\n",
              "      <th>8</th>\n",
              "      <th>9</th>\n",
              "      <th>10</th>\n",
              "      <th>11</th>\n",
              "      <th>12</th>\n",
              "      <th>13</th>\n",
              "      <th>14</th>\n",
              "      <th>15</th>\n",
              "      <th>16</th>\n",
              "      <th>17</th>\n",
              "      <th>18</th>\n",
              "    </tr>\n",
              "  </thead>\n",
              "  <tbody>\n",
              "    <tr>\n",
              "      <th>0</th>\n",
              "      <td>1.000000</td>\n",
              "      <td>0.150622</td>\n",
              "      <td>-0.201766</td>\n",
              "      <td>0.125502</td>\n",
              "      <td>-0.130459</td>\n",
              "      <td>-0.068814</td>\n",
              "      <td>-0.122232</td>\n",
              "      <td>0.343909</td>\n",
              "      <td>-0.096487</td>\n",
              "      <td>-0.054483</td>\n",
              "      <td>0.011297</td>\n",
              "      <td>0.091035</td>\n",
              "      <td>-0.142940</td>\n",
              "      <td>0.020554</td>\n",
              "      <td>-0.088922</td>\n",
              "      <td>0.333274</td>\n",
              "      <td>-0.093295</td>\n",
              "      <td>-0.025495</td>\n",
              "      <td>-0.151026</td>\n",
              "    </tr>\n",
              "    <tr>\n",
              "      <th>1</th>\n",
              "      <td>0.150622</td>\n",
              "      <td>1.000000</td>\n",
              "      <td>-0.003759</td>\n",
              "      <td>-0.037314</td>\n",
              "      <td>0.031347</td>\n",
              "      <td>-0.035863</td>\n",
              "      <td>-0.062804</td>\n",
              "      <td>0.030702</td>\n",
              "      <td>0.070393</td>\n",
              "      <td>-0.042789</td>\n",
              "      <td>0.036657</td>\n",
              "      <td>0.015125</td>\n",
              "      <td>0.040827</td>\n",
              "      <td>-0.037264</td>\n",
              "      <td>-0.043999</td>\n",
              "      <td>0.004116</td>\n",
              "      <td>0.080055</td>\n",
              "      <td>-0.043771</td>\n",
              "      <td>0.012377</td>\n",
              "    </tr>\n",
              "    <tr>\n",
              "      <th>2</th>\n",
              "      <td>-0.201766</td>\n",
              "      <td>-0.003759</td>\n",
              "      <td>1.000000</td>\n",
              "      <td>-0.241587</td>\n",
              "      <td>-0.122355</td>\n",
              "      <td>-0.126273</td>\n",
              "      <td>0.181220</td>\n",
              "      <td>-0.155465</td>\n",
              "      <td>-0.108186</td>\n",
              "      <td>-0.112507</td>\n",
              "      <td>-0.071415</td>\n",
              "      <td>-0.109061</td>\n",
              "      <td>0.158222</td>\n",
              "      <td>0.181220</td>\n",
              "      <td>-0.109931</td>\n",
              "      <td>-0.154137</td>\n",
              "      <td>0.171982</td>\n",
              "      <td>-0.115034</td>\n",
              "      <td>0.100900</td>\n",
              "    </tr>\n",
              "    <tr>\n",
              "      <th>3</th>\n",
              "      <td>0.125502</td>\n",
              "      <td>-0.037314</td>\n",
              "      <td>-0.241587</td>\n",
              "      <td>1.000000</td>\n",
              "      <td>0.027119</td>\n",
              "      <td>0.056748</td>\n",
              "      <td>-0.115770</td>\n",
              "      <td>0.255062</td>\n",
              "      <td>-0.063459</td>\n",
              "      <td>-0.051719</td>\n",
              "      <td>0.166881</td>\n",
              "      <td>-0.081001</td>\n",
              "      <td>-0.053756</td>\n",
              "      <td>-0.121818</td>\n",
              "      <td>-0.065257</td>\n",
              "      <td>0.252834</td>\n",
              "      <td>-0.085083</td>\n",
              "      <td>-0.030837</td>\n",
              "      <td>-0.031101</td>\n",
              "    </tr>\n",
              "    <tr>\n",
              "      <th>4</th>\n",
              "      <td>-0.130459</td>\n",
              "      <td>0.031347</td>\n",
              "      <td>-0.122355</td>\n",
              "      <td>0.027119</td>\n",
              "      <td>1.000000</td>\n",
              "      <td>-0.052377</td>\n",
              "      <td>-0.064760</td>\n",
              "      <td>-0.064486</td>\n",
              "      <td>-0.044874</td>\n",
              "      <td>-0.046667</td>\n",
              "      <td>-0.065033</td>\n",
              "      <td>-0.045238</td>\n",
              "      <td>-0.068256</td>\n",
              "      <td>-0.064760</td>\n",
              "      <td>-0.045598</td>\n",
              "      <td>-0.063934</td>\n",
              "      <td>-0.066926</td>\n",
              "      <td>-0.047715</td>\n",
              "      <td>-0.064760</td>\n",
              "    </tr>\n",
              "    <tr>\n",
              "      <th>5</th>\n",
              "      <td>-0.068814</td>\n",
              "      <td>-0.035863</td>\n",
              "      <td>-0.126273</td>\n",
              "      <td>0.056748</td>\n",
              "      <td>-0.052377</td>\n",
              "      <td>1.000000</td>\n",
              "      <td>-0.066833</td>\n",
              "      <td>-0.066550</td>\n",
              "      <td>-0.046311</td>\n",
              "      <td>-0.048161</td>\n",
              "      <td>-0.067116</td>\n",
              "      <td>-0.046686</td>\n",
              "      <td>-0.070441</td>\n",
              "      <td>-0.066833</td>\n",
              "      <td>-0.047059</td>\n",
              "      <td>-0.065982</td>\n",
              "      <td>-0.069069</td>\n",
              "      <td>-0.049243</td>\n",
              "      <td>-0.066833</td>\n",
              "    </tr>\n",
              "    <tr>\n",
              "      <th>6</th>\n",
              "      <td>-0.122232</td>\n",
              "      <td>-0.062804</td>\n",
              "      <td>0.181220</td>\n",
              "      <td>-0.115770</td>\n",
              "      <td>-0.064760</td>\n",
              "      <td>-0.066833</td>\n",
              "      <td>1.000000</td>\n",
              "      <td>-0.082284</td>\n",
              "      <td>-0.057260</td>\n",
              "      <td>-0.059547</td>\n",
              "      <td>-0.082983</td>\n",
              "      <td>-0.057724</td>\n",
              "      <td>-0.087095</td>\n",
              "      <td>-0.082634</td>\n",
              "      <td>-0.058184</td>\n",
              "      <td>-0.081581</td>\n",
              "      <td>-0.085398</td>\n",
              "      <td>-0.060885</td>\n",
              "      <td>-0.082634</td>\n",
              "    </tr>\n",
              "    <tr>\n",
              "      <th>7</th>\n",
              "      <td>0.343909</td>\n",
              "      <td>0.030702</td>\n",
              "      <td>-0.155465</td>\n",
              "      <td>0.255062</td>\n",
              "      <td>-0.064486</td>\n",
              "      <td>-0.066550</td>\n",
              "      <td>-0.082284</td>\n",
              "      <td>1.000000</td>\n",
              "      <td>-0.057018</td>\n",
              "      <td>-0.059295</td>\n",
              "      <td>-0.082631</td>\n",
              "      <td>-0.057479</td>\n",
              "      <td>-0.086726</td>\n",
              "      <td>-0.082284</td>\n",
              "      <td>-0.057938</td>\n",
              "      <td>-0.081235</td>\n",
              "      <td>-0.085036</td>\n",
              "      <td>-0.060627</td>\n",
              "      <td>-0.082284</td>\n",
              "    </tr>\n",
              "    <tr>\n",
              "      <th>8</th>\n",
              "      <td>-0.096487</td>\n",
              "      <td>0.070393</td>\n",
              "      <td>-0.108186</td>\n",
              "      <td>-0.063459</td>\n",
              "      <td>-0.044874</td>\n",
              "      <td>-0.046311</td>\n",
              "      <td>-0.057260</td>\n",
              "      <td>-0.057018</td>\n",
              "      <td>1.000000</td>\n",
              "      <td>-0.041262</td>\n",
              "      <td>-0.057502</td>\n",
              "      <td>-0.039999</td>\n",
              "      <td>-0.060351</td>\n",
              "      <td>-0.057260</td>\n",
              "      <td>-0.040318</td>\n",
              "      <td>-0.056530</td>\n",
              "      <td>-0.059175</td>\n",
              "      <td>-0.042189</td>\n",
              "      <td>-0.057260</td>\n",
              "    </tr>\n",
              "    <tr>\n",
              "      <th>9</th>\n",
              "      <td>-0.054483</td>\n",
              "      <td>-0.042789</td>\n",
              "      <td>-0.112507</td>\n",
              "      <td>-0.051719</td>\n",
              "      <td>-0.046667</td>\n",
              "      <td>-0.048161</td>\n",
              "      <td>-0.059547</td>\n",
              "      <td>-0.059295</td>\n",
              "      <td>-0.041262</td>\n",
              "      <td>1.000000</td>\n",
              "      <td>-0.059799</td>\n",
              "      <td>-0.041596</td>\n",
              "      <td>-0.062762</td>\n",
              "      <td>-0.059547</td>\n",
              "      <td>-0.041928</td>\n",
              "      <td>-0.058788</td>\n",
              "      <td>-0.061539</td>\n",
              "      <td>-0.043874</td>\n",
              "      <td>-0.059547</td>\n",
              "    </tr>\n",
              "    <tr>\n",
              "      <th>10</th>\n",
              "      <td>0.011297</td>\n",
              "      <td>0.036657</td>\n",
              "      <td>-0.071415</td>\n",
              "      <td>0.166881</td>\n",
              "      <td>-0.065033</td>\n",
              "      <td>-0.067116</td>\n",
              "      <td>-0.082983</td>\n",
              "      <td>-0.082631</td>\n",
              "      <td>-0.057502</td>\n",
              "      <td>-0.059799</td>\n",
              "      <td>1.000000</td>\n",
              "      <td>-0.057967</td>\n",
              "      <td>-0.087463</td>\n",
              "      <td>-0.082983</td>\n",
              "      <td>-0.058430</td>\n",
              "      <td>-0.081925</td>\n",
              "      <td>-0.085759</td>\n",
              "      <td>-0.061142</td>\n",
              "      <td>-0.082983</td>\n",
              "    </tr>\n",
              "    <tr>\n",
              "      <th>11</th>\n",
              "      <td>0.091035</td>\n",
              "      <td>0.015125</td>\n",
              "      <td>-0.109061</td>\n",
              "      <td>-0.081001</td>\n",
              "      <td>-0.045238</td>\n",
              "      <td>-0.046686</td>\n",
              "      <td>-0.057724</td>\n",
              "      <td>-0.057479</td>\n",
              "      <td>-0.039999</td>\n",
              "      <td>-0.041596</td>\n",
              "      <td>-0.057967</td>\n",
              "      <td>1.000000</td>\n",
              "      <td>-0.060840</td>\n",
              "      <td>-0.057724</td>\n",
              "      <td>-0.040644</td>\n",
              "      <td>-0.056988</td>\n",
              "      <td>-0.059654</td>\n",
              "      <td>-0.042531</td>\n",
              "      <td>-0.057724</td>\n",
              "    </tr>\n",
              "    <tr>\n",
              "      <th>12</th>\n",
              "      <td>-0.142940</td>\n",
              "      <td>0.040827</td>\n",
              "      <td>0.158222</td>\n",
              "      <td>-0.053756</td>\n",
              "      <td>-0.068256</td>\n",
              "      <td>-0.070441</td>\n",
              "      <td>-0.087095</td>\n",
              "      <td>-0.086726</td>\n",
              "      <td>-0.060351</td>\n",
              "      <td>-0.062762</td>\n",
              "      <td>-0.087463</td>\n",
              "      <td>-0.060840</td>\n",
              "      <td>1.000000</td>\n",
              "      <td>-0.087095</td>\n",
              "      <td>-0.061325</td>\n",
              "      <td>-0.085985</td>\n",
              "      <td>-0.090008</td>\n",
              "      <td>-0.064172</td>\n",
              "      <td>-0.087095</td>\n",
              "    </tr>\n",
              "    <tr>\n",
              "      <th>13</th>\n",
              "      <td>0.020554</td>\n",
              "      <td>-0.037264</td>\n",
              "      <td>0.181220</td>\n",
              "      <td>-0.121818</td>\n",
              "      <td>-0.064760</td>\n",
              "      <td>-0.066833</td>\n",
              "      <td>-0.082634</td>\n",
              "      <td>-0.082284</td>\n",
              "      <td>-0.057260</td>\n",
              "      <td>-0.059547</td>\n",
              "      <td>-0.082983</td>\n",
              "      <td>-0.057724</td>\n",
              "      <td>-0.087095</td>\n",
              "      <td>1.000000</td>\n",
              "      <td>-0.058184</td>\n",
              "      <td>-0.081581</td>\n",
              "      <td>-0.085398</td>\n",
              "      <td>-0.060885</td>\n",
              "      <td>-0.082634</td>\n",
              "    </tr>\n",
              "    <tr>\n",
              "      <th>14</th>\n",
              "      <td>-0.088922</td>\n",
              "      <td>-0.043999</td>\n",
              "      <td>-0.109931</td>\n",
              "      <td>-0.065257</td>\n",
              "      <td>-0.045598</td>\n",
              "      <td>-0.047059</td>\n",
              "      <td>-0.058184</td>\n",
              "      <td>-0.057938</td>\n",
              "      <td>-0.040318</td>\n",
              "      <td>-0.041928</td>\n",
              "      <td>-0.058430</td>\n",
              "      <td>-0.040644</td>\n",
              "      <td>-0.061325</td>\n",
              "      <td>-0.058184</td>\n",
              "      <td>1.000000</td>\n",
              "      <td>-0.057443</td>\n",
              "      <td>-0.060130</td>\n",
              "      <td>-0.042870</td>\n",
              "      <td>-0.058184</td>\n",
              "    </tr>\n",
              "    <tr>\n",
              "      <th>15</th>\n",
              "      <td>0.333274</td>\n",
              "      <td>0.004116</td>\n",
              "      <td>-0.154137</td>\n",
              "      <td>0.252834</td>\n",
              "      <td>-0.063934</td>\n",
              "      <td>-0.065982</td>\n",
              "      <td>-0.081581</td>\n",
              "      <td>-0.081235</td>\n",
              "      <td>-0.056530</td>\n",
              "      <td>-0.058788</td>\n",
              "      <td>-0.081925</td>\n",
              "      <td>-0.056988</td>\n",
              "      <td>-0.085985</td>\n",
              "      <td>-0.081581</td>\n",
              "      <td>-0.057443</td>\n",
              "      <td>1.000000</td>\n",
              "      <td>-0.084310</td>\n",
              "      <td>-0.060109</td>\n",
              "      <td>-0.081581</td>\n",
              "    </tr>\n",
              "    <tr>\n",
              "      <th>16</th>\n",
              "      <td>-0.093295</td>\n",
              "      <td>0.080055</td>\n",
              "      <td>0.171982</td>\n",
              "      <td>-0.085083</td>\n",
              "      <td>-0.066926</td>\n",
              "      <td>-0.069069</td>\n",
              "      <td>-0.085398</td>\n",
              "      <td>-0.085036</td>\n",
              "      <td>-0.059175</td>\n",
              "      <td>-0.061539</td>\n",
              "      <td>-0.085759</td>\n",
              "      <td>-0.059654</td>\n",
              "      <td>-0.090008</td>\n",
              "      <td>-0.085398</td>\n",
              "      <td>-0.060130</td>\n",
              "      <td>-0.084310</td>\n",
              "      <td>1.000000</td>\n",
              "      <td>-0.062921</td>\n",
              "      <td>-0.085398</td>\n",
              "    </tr>\n",
              "    <tr>\n",
              "      <th>17</th>\n",
              "      <td>-0.025495</td>\n",
              "      <td>-0.043771</td>\n",
              "      <td>-0.115034</td>\n",
              "      <td>-0.030837</td>\n",
              "      <td>-0.047715</td>\n",
              "      <td>-0.049243</td>\n",
              "      <td>-0.060885</td>\n",
              "      <td>-0.060627</td>\n",
              "      <td>-0.042189</td>\n",
              "      <td>-0.043874</td>\n",
              "      <td>-0.061142</td>\n",
              "      <td>-0.042531</td>\n",
              "      <td>-0.064172</td>\n",
              "      <td>-0.060885</td>\n",
              "      <td>-0.042870</td>\n",
              "      <td>-0.060109</td>\n",
              "      <td>-0.062921</td>\n",
              "      <td>1.000000</td>\n",
              "      <td>-0.060885</td>\n",
              "    </tr>\n",
              "    <tr>\n",
              "      <th>18</th>\n",
              "      <td>-0.151026</td>\n",
              "      <td>0.012377</td>\n",
              "      <td>0.100900</td>\n",
              "      <td>-0.031101</td>\n",
              "      <td>-0.064760</td>\n",
              "      <td>-0.066833</td>\n",
              "      <td>-0.082634</td>\n",
              "      <td>-0.082284</td>\n",
              "      <td>-0.057260</td>\n",
              "      <td>-0.059547</td>\n",
              "      <td>-0.082983</td>\n",
              "      <td>-0.057724</td>\n",
              "      <td>-0.087095</td>\n",
              "      <td>-0.082634</td>\n",
              "      <td>-0.058184</td>\n",
              "      <td>-0.081581</td>\n",
              "      <td>-0.085398</td>\n",
              "      <td>-0.060885</td>\n",
              "      <td>1.000000</td>\n",
              "    </tr>\n",
              "  </tbody>\n",
              "</table>\n",
              "</div>"
            ],
            "text/plain": [
              "          0         1         2         3         4         5         6   \\\n",
              "0   1.000000  0.150622 -0.201766  0.125502 -0.130459 -0.068814 -0.122232   \n",
              "1   0.150622  1.000000 -0.003759 -0.037314  0.031347 -0.035863 -0.062804   \n",
              "2  -0.201766 -0.003759  1.000000 -0.241587 -0.122355 -0.126273  0.181220   \n",
              "3   0.125502 -0.037314 -0.241587  1.000000  0.027119  0.056748 -0.115770   \n",
              "4  -0.130459  0.031347 -0.122355  0.027119  1.000000 -0.052377 -0.064760   \n",
              "5  -0.068814 -0.035863 -0.126273  0.056748 -0.052377  1.000000 -0.066833   \n",
              "6  -0.122232 -0.062804  0.181220 -0.115770 -0.064760 -0.066833  1.000000   \n",
              "7   0.343909  0.030702 -0.155465  0.255062 -0.064486 -0.066550 -0.082284   \n",
              "8  -0.096487  0.070393 -0.108186 -0.063459 -0.044874 -0.046311 -0.057260   \n",
              "9  -0.054483 -0.042789 -0.112507 -0.051719 -0.046667 -0.048161 -0.059547   \n",
              "10  0.011297  0.036657 -0.071415  0.166881 -0.065033 -0.067116 -0.082983   \n",
              "11  0.091035  0.015125 -0.109061 -0.081001 -0.045238 -0.046686 -0.057724   \n",
              "12 -0.142940  0.040827  0.158222 -0.053756 -0.068256 -0.070441 -0.087095   \n",
              "13  0.020554 -0.037264  0.181220 -0.121818 -0.064760 -0.066833 -0.082634   \n",
              "14 -0.088922 -0.043999 -0.109931 -0.065257 -0.045598 -0.047059 -0.058184   \n",
              "15  0.333274  0.004116 -0.154137  0.252834 -0.063934 -0.065982 -0.081581   \n",
              "16 -0.093295  0.080055  0.171982 -0.085083 -0.066926 -0.069069 -0.085398   \n",
              "17 -0.025495 -0.043771 -0.115034 -0.030837 -0.047715 -0.049243 -0.060885   \n",
              "18 -0.151026  0.012377  0.100900 -0.031101 -0.064760 -0.066833 -0.082634   \n",
              "\n",
              "          7         8         9         10        11        12        13  \\\n",
              "0   0.343909 -0.096487 -0.054483  0.011297  0.091035 -0.142940  0.020554   \n",
              "1   0.030702  0.070393 -0.042789  0.036657  0.015125  0.040827 -0.037264   \n",
              "2  -0.155465 -0.108186 -0.112507 -0.071415 -0.109061  0.158222  0.181220   \n",
              "3   0.255062 -0.063459 -0.051719  0.166881 -0.081001 -0.053756 -0.121818   \n",
              "4  -0.064486 -0.044874 -0.046667 -0.065033 -0.045238 -0.068256 -0.064760   \n",
              "5  -0.066550 -0.046311 -0.048161 -0.067116 -0.046686 -0.070441 -0.066833   \n",
              "6  -0.082284 -0.057260 -0.059547 -0.082983 -0.057724 -0.087095 -0.082634   \n",
              "7   1.000000 -0.057018 -0.059295 -0.082631 -0.057479 -0.086726 -0.082284   \n",
              "8  -0.057018  1.000000 -0.041262 -0.057502 -0.039999 -0.060351 -0.057260   \n",
              "9  -0.059295 -0.041262  1.000000 -0.059799 -0.041596 -0.062762 -0.059547   \n",
              "10 -0.082631 -0.057502 -0.059799  1.000000 -0.057967 -0.087463 -0.082983   \n",
              "11 -0.057479 -0.039999 -0.041596 -0.057967  1.000000 -0.060840 -0.057724   \n",
              "12 -0.086726 -0.060351 -0.062762 -0.087463 -0.060840  1.000000 -0.087095   \n",
              "13 -0.082284 -0.057260 -0.059547 -0.082983 -0.057724 -0.087095  1.000000   \n",
              "14 -0.057938 -0.040318 -0.041928 -0.058430 -0.040644 -0.061325 -0.058184   \n",
              "15 -0.081235 -0.056530 -0.058788 -0.081925 -0.056988 -0.085985 -0.081581   \n",
              "16 -0.085036 -0.059175 -0.061539 -0.085759 -0.059654 -0.090008 -0.085398   \n",
              "17 -0.060627 -0.042189 -0.043874 -0.061142 -0.042531 -0.064172 -0.060885   \n",
              "18 -0.082284 -0.057260 -0.059547 -0.082983 -0.057724 -0.087095 -0.082634   \n",
              "\n",
              "          14        15        16        17        18  \n",
              "0  -0.088922  0.333274 -0.093295 -0.025495 -0.151026  \n",
              "1  -0.043999  0.004116  0.080055 -0.043771  0.012377  \n",
              "2  -0.109931 -0.154137  0.171982 -0.115034  0.100900  \n",
              "3  -0.065257  0.252834 -0.085083 -0.030837 -0.031101  \n",
              "4  -0.045598 -0.063934 -0.066926 -0.047715 -0.064760  \n",
              "5  -0.047059 -0.065982 -0.069069 -0.049243 -0.066833  \n",
              "6  -0.058184 -0.081581 -0.085398 -0.060885 -0.082634  \n",
              "7  -0.057938 -0.081235 -0.085036 -0.060627 -0.082284  \n",
              "8  -0.040318 -0.056530 -0.059175 -0.042189 -0.057260  \n",
              "9  -0.041928 -0.058788 -0.061539 -0.043874 -0.059547  \n",
              "10 -0.058430 -0.081925 -0.085759 -0.061142 -0.082983  \n",
              "11 -0.040644 -0.056988 -0.059654 -0.042531 -0.057724  \n",
              "12 -0.061325 -0.085985 -0.090008 -0.064172 -0.087095  \n",
              "13 -0.058184 -0.081581 -0.085398 -0.060885 -0.082634  \n",
              "14  1.000000 -0.057443 -0.060130 -0.042870 -0.058184  \n",
              "15 -0.057443  1.000000 -0.084310 -0.060109 -0.081581  \n",
              "16 -0.060130 -0.084310  1.000000 -0.062921 -0.085398  \n",
              "17 -0.042870 -0.060109 -0.062921  1.000000 -0.060885  \n",
              "18 -0.058184 -0.081581 -0.085398 -0.060885  1.000000  "
            ]
          },
          "metadata": {
            "tags": []
          },
          "execution_count": 28
        }
      ]
    },
    {
      "cell_type": "markdown",
      "metadata": {
        "id": "59UQ-svnbFhm"
      },
      "source": [
        "## Train/ test split..."
      ]
    },
    {
      "cell_type": "code",
      "metadata": {
        "id": "MH7XbxUEbHtI"
      },
      "source": [
        "# TEST/ TRAIN SPLIT\n",
        "X_train, X_test, y_train, y_test = train_test_split(X, y, test_size=0.20, random_state=27)\n"
      ],
      "execution_count": null,
      "outputs": []
    },
    {
      "cell_type": "code",
      "metadata": {
        "id": "KJvqSrMYL3by",
        "colab": {
          "base_uri": "https://localhost:8080/",
          "height": 142
        },
        "outputId": "62c0f98d-32b5-4d8e-bd4c-bc162f6cc64c"
      },
      "source": [
        "X_train.head(3)"
      ],
      "execution_count": null,
      "outputs": [
        {
          "output_type": "execute_result",
          "data": {
            "text/html": [
              "<div>\n",
              "<style scoped>\n",
              "    .dataframe tbody tr th:only-of-type {\n",
              "        vertical-align: middle;\n",
              "    }\n",
              "\n",
              "    .dataframe tbody tr th {\n",
              "        vertical-align: top;\n",
              "    }\n",
              "\n",
              "    .dataframe thead th {\n",
              "        text-align: right;\n",
              "    }\n",
              "</style>\n",
              "<table border=\"1\" class=\"dataframe\">\n",
              "  <thead>\n",
              "    <tr style=\"text-align: right;\">\n",
              "      <th></th>\n",
              "      <th>note</th>\n",
              "      <th>velocity</th>\n",
              "      <th>beat_offset</th>\n",
              "      <th>bar_beat_number</th>\n",
              "    </tr>\n",
              "  </thead>\n",
              "  <tbody>\n",
              "    <tr>\n",
              "      <th>1295</th>\n",
              "      <td>snare</td>\n",
              "      <td>113</td>\n",
              "      <td>12</td>\n",
              "      <td>13</td>\n",
              "    </tr>\n",
              "    <tr>\n",
              "      <th>179</th>\n",
              "      <td>hh</td>\n",
              "      <td>43</td>\n",
              "      <td>-6</td>\n",
              "      <td>5</td>\n",
              "    </tr>\n",
              "    <tr>\n",
              "      <th>559</th>\n",
              "      <td>hh</td>\n",
              "      <td>23</td>\n",
              "      <td>-12</td>\n",
              "      <td>6</td>\n",
              "    </tr>\n",
              "  </tbody>\n",
              "</table>\n",
              "</div>"
            ],
            "text/plain": [
              "       note  velocity  beat_offset  bar_beat_number\n",
              "1295  snare       113           12               13\n",
              "179      hh        43           -6                5\n",
              "559      hh        23          -12                6"
            ]
          },
          "metadata": {
            "tags": []
          },
          "execution_count": 30
        }
      ]
    },
    {
      "cell_type": "code",
      "metadata": {
        "colab": {
          "base_uri": "https://localhost:8080/",
          "height": 577
        },
        "id": "YZWV7Mhc6qll",
        "outputId": "fc2a3422-33c0-44a3-bdab-5943413b0540"
      },
      "source": [
        "X_train.describe()\n",
        "X_test.describe()"
      ],
      "execution_count": null,
      "outputs": [
        {
          "output_type": "execute_result",
          "data": {
            "text/html": [
              "<div>\n",
              "<style scoped>\n",
              "    .dataframe tbody tr th:only-of-type {\n",
              "        vertical-align: middle;\n",
              "    }\n",
              "\n",
              "    .dataframe tbody tr th {\n",
              "        vertical-align: top;\n",
              "    }\n",
              "\n",
              "    .dataframe thead th {\n",
              "        text-align: right;\n",
              "    }\n",
              "</style>\n",
              "<table border=\"1\" class=\"dataframe\">\n",
              "  <thead>\n",
              "    <tr style=\"text-align: right;\">\n",
              "      <th></th>\n",
              "      <th>velocity</th>\n",
              "      <th>beat_offset</th>\n",
              "      <th>bar_beat_number</th>\n",
              "    </tr>\n",
              "  </thead>\n",
              "  <tbody>\n",
              "    <tr>\n",
              "      <th>count</th>\n",
              "      <td>649.000000</td>\n",
              "      <td>649.000000</td>\n",
              "      <td>649.000000</td>\n",
              "    </tr>\n",
              "    <tr>\n",
              "      <th>mean</th>\n",
              "      <td>78.468413</td>\n",
              "      <td>-3.531587</td>\n",
              "      <td>8.166410</td>\n",
              "    </tr>\n",
              "    <tr>\n",
              "      <th>std</th>\n",
              "      <td>28.506594</td>\n",
              "      <td>10.911089</td>\n",
              "      <td>4.577863</td>\n",
              "    </tr>\n",
              "    <tr>\n",
              "      <th>min</th>\n",
              "      <td>4.000000</td>\n",
              "      <td>-57.000000</td>\n",
              "      <td>1.000000</td>\n",
              "    </tr>\n",
              "    <tr>\n",
              "      <th>25%</th>\n",
              "      <td>60.000000</td>\n",
              "      <td>-10.000000</td>\n",
              "      <td>5.000000</td>\n",
              "    </tr>\n",
              "    <tr>\n",
              "      <th>50%</th>\n",
              "      <td>78.000000</td>\n",
              "      <td>-3.000000</td>\n",
              "      <td>8.000000</td>\n",
              "    </tr>\n",
              "    <tr>\n",
              "      <th>75%</th>\n",
              "      <td>102.000000</td>\n",
              "      <td>3.000000</td>\n",
              "      <td>12.000000</td>\n",
              "    </tr>\n",
              "    <tr>\n",
              "      <th>max</th>\n",
              "      <td>127.000000</td>\n",
              "      <td>59.000000</td>\n",
              "      <td>16.000000</td>\n",
              "    </tr>\n",
              "  </tbody>\n",
              "</table>\n",
              "</div>"
            ],
            "text/plain": [
              "         velocity  beat_offset  bar_beat_number\n",
              "count  649.000000   649.000000       649.000000\n",
              "mean    78.468413    -3.531587         8.166410\n",
              "std     28.506594    10.911089         4.577863\n",
              "min      4.000000   -57.000000         1.000000\n",
              "25%     60.000000   -10.000000         5.000000\n",
              "50%     78.000000    -3.000000         8.000000\n",
              "75%    102.000000     3.000000        12.000000\n",
              "max    127.000000    59.000000        16.000000"
            ]
          },
          "metadata": {
            "tags": []
          },
          "execution_count": 60
        },
        {
          "output_type": "execute_result",
          "data": {
            "text/html": [
              "<div>\n",
              "<style scoped>\n",
              "    .dataframe tbody tr th:only-of-type {\n",
              "        vertical-align: middle;\n",
              "    }\n",
              "\n",
              "    .dataframe tbody tr th {\n",
              "        vertical-align: top;\n",
              "    }\n",
              "\n",
              "    .dataframe thead th {\n",
              "        text-align: right;\n",
              "    }\n",
              "</style>\n",
              "<table border=\"1\" class=\"dataframe\">\n",
              "  <thead>\n",
              "    <tr style=\"text-align: right;\">\n",
              "      <th></th>\n",
              "      <th>velocity</th>\n",
              "      <th>beat_offset</th>\n",
              "      <th>bar_beat_number</th>\n",
              "    </tr>\n",
              "  </thead>\n",
              "  <tbody>\n",
              "    <tr>\n",
              "      <th>count</th>\n",
              "      <td>163.000000</td>\n",
              "      <td>163.000000</td>\n",
              "      <td>163.000000</td>\n",
              "    </tr>\n",
              "    <tr>\n",
              "      <th>mean</th>\n",
              "      <td>75.705521</td>\n",
              "      <td>-3.098160</td>\n",
              "      <td>8.404908</td>\n",
              "    </tr>\n",
              "    <tr>\n",
              "      <th>std</th>\n",
              "      <td>29.249445</td>\n",
              "      <td>10.837301</td>\n",
              "      <td>4.569948</td>\n",
              "    </tr>\n",
              "    <tr>\n",
              "      <th>min</th>\n",
              "      <td>5.000000</td>\n",
              "      <td>-50.000000</td>\n",
              "      <td>1.000000</td>\n",
              "    </tr>\n",
              "    <tr>\n",
              "      <th>25%</th>\n",
              "      <td>58.500000</td>\n",
              "      <td>-9.000000</td>\n",
              "      <td>5.000000</td>\n",
              "    </tr>\n",
              "    <tr>\n",
              "      <th>50%</th>\n",
              "      <td>74.000000</td>\n",
              "      <td>-3.000000</td>\n",
              "      <td>9.000000</td>\n",
              "    </tr>\n",
              "    <tr>\n",
              "      <th>75%</th>\n",
              "      <td>98.000000</td>\n",
              "      <td>3.000000</td>\n",
              "      <td>11.000000</td>\n",
              "    </tr>\n",
              "    <tr>\n",
              "      <th>max</th>\n",
              "      <td>127.000000</td>\n",
              "      <td>33.000000</td>\n",
              "      <td>16.000000</td>\n",
              "    </tr>\n",
              "  </tbody>\n",
              "</table>\n",
              "</div>"
            ],
            "text/plain": [
              "         velocity  beat_offset  bar_beat_number\n",
              "count  163.000000   163.000000       163.000000\n",
              "mean    75.705521    -3.098160         8.404908\n",
              "std     29.249445    10.837301         4.569948\n",
              "min      5.000000   -50.000000         1.000000\n",
              "25%     58.500000    -9.000000         5.000000\n",
              "50%     74.000000    -3.000000         9.000000\n",
              "75%     98.000000     3.000000        11.000000\n",
              "max    127.000000    33.000000        16.000000"
            ]
          },
          "metadata": {
            "tags": []
          },
          "execution_count": 60
        }
      ]
    },
    {
      "cell_type": "markdown",
      "metadata": {
        "id": "8XFdCcrwOzST"
      },
      "source": [
        "## Some pipelines"
      ]
    },
    {
      "cell_type": "code",
      "metadata": {
        "id": "9WN7AkGUJD_Q"
      },
      "source": [
        "# setup our pre-processing and modelling pipeline\n",
        "pipe_v0 = Pipeline(steps=[('prep',ct_v0), ('knn', KNeighborsClassifier(7))])\n",
        "pipe_v1 = Pipeline(steps=[('prep',ct_v1), ('knn', KNeighborsClassifier(7))])\n",
        "pipe_v2 = Pipeline(steps=[('prep',ct_v2), ('knn', KNeighborsClassifier(7))])\n",
        "pipe_v3 = Pipeline(steps=[('prep',ct_v3), ('knn', KNeighborsClassifier(7))])\n",
        "pipe_v4 = Pipeline(steps=[('prep',ct_v4), ('knn', KNeighborsClassifier(7))])\n"
      ],
      "execution_count": null,
      "outputs": []
    },
    {
      "cell_type": "markdown",
      "metadata": {
        "id": "DLHxPVtEHxVX"
      },
      "source": [
        "# Test pipelines"
      ]
    },
    {
      "cell_type": "markdown",
      "metadata": {
        "id": "2nEqru7CZGvV"
      },
      "source": [
        "## Util functions\n"
      ]
    },
    {
      "cell_type": "code",
      "metadata": {
        "id": "Ygf_kwUR2MwK"
      },
      "source": [
        "\n",
        "def KNN_predict(X_train, y_train, X_test, n=5):\n",
        "  # Fit model, do predictions\n",
        "\n",
        "  KNN_model = KNeighborsClassifier(n)\n",
        "  display(KNN_model)\n",
        "  KNN_model.fit(X_train, y_train)\n",
        "  return KNN_model.predict(X_test)\n",
        "\n",
        "def KNN_results(pred, test, labels):\n",
        "  # evaluate results\n",
        "\n",
        "  print('\\nKNN Accuracy score...')\n",
        "  print('  KNN: {}'.format(accuracy_score(pred, test)))\n",
        "\n",
        "  print('\\nKNN classification report...')\n",
        "  print(classification_report(pred, test))\n",
        "\n",
        "def c_matrix(pred, test, labels):\n",
        "  # plot results\n",
        "\n",
        "  print('\\nConfusion matrix...')\n",
        "  matrix2 = confusion_matrix(pred, test)\n",
        "  m_df = pd.DataFrame(matrix2, index=labels, columns=labels)\n",
        "  _ = plt.figure(figsize=(6, 6))\n",
        "  sns.heatmap(m_df, annot=True, cbar=None, cmap=\"Reds\")\n",
        "  plt.title(\"Confusion Matrix\")\n",
        "  plt.tight_layout()\n",
        "  plt.ylabel(\"Actual\")\n",
        "  plt.xlabel(\"Predicted\")\n",
        "  plt.show()\n",
        "\n"
      ],
      "execution_count": null,
      "outputs": []
    },
    {
      "cell_type": "markdown",
      "metadata": {
        "id": "oPUP9jL7KSGM"
      },
      "source": [
        "## Manual fit model, do predictions"
      ]
    },
    {
      "cell_type": "markdown",
      "metadata": {
        "id": "KHuvjM3BaprE"
      },
      "source": [
        "Testing single model by hand"
      ]
    },
    {
      "cell_type": "code",
      "metadata": {
        "id": "AisUCAVmPjP4",
        "colab": {
          "base_uri": "https://localhost:8080/",
          "height": 198
        },
        "outputId": "8db46d61-92ea-421e-ff17-db1a07e13a3e"
      },
      "source": [
        "print('fitting the pipeline ...')\n",
        "pipe_v3.fit(X_train, y_train)\n",
        "#pipe_v4.fit(X_train, y_train)\n",
        "\n",
        "print('predicting ...')\n",
        "#predictions_1 = pipe_v4.predict(X_test)\n",
        "predictions_1 = pipe_v3.predict(X_test)"
      ],
      "execution_count": null,
      "outputs": [
        {
          "output_type": "stream",
          "text": [
            "fitting the pipeline ...\n"
          ],
          "name": "stdout"
        },
        {
          "output_type": "execute_result",
          "data": {
            "text/html": [
              "<style>div.sk-top-container {color: black;background-color: white;}div.sk-toggleable {background-color: white;}label.sk-toggleable__label {cursor: pointer;display: block;width: 100%;margin-bottom: 0;padding: 0.2em 0.3em;box-sizing: border-box;text-align: center;}div.sk-toggleable__content {max-height: 0;max-width: 0;overflow: hidden;text-align: left;background-color: #f0f8ff;}div.sk-toggleable__content pre {margin: 0.2em;color: black;border-radius: 0.25em;background-color: #f0f8ff;}input.sk-toggleable__control:checked~div.sk-toggleable__content {max-height: 200px;max-width: 100%;overflow: auto;}div.sk-estimator input.sk-toggleable__control:checked~label.sk-toggleable__label {background-color: #d4ebff;}div.sk-label input.sk-toggleable__control:checked~label.sk-toggleable__label {background-color: #d4ebff;}input.sk-hidden--visually {border: 0;clip: rect(1px 1px 1px 1px);clip: rect(1px, 1px, 1px, 1px);height: 1px;margin: -1px;overflow: hidden;padding: 0;position: absolute;width: 1px;}div.sk-estimator {font-family: monospace;background-color: #f0f8ff;margin: 0.25em 0.25em;border: 1px dotted black;border-radius: 0.25em;box-sizing: border-box;}div.sk-estimator:hover {background-color: #d4ebff;}div.sk-parallel-item::after {content: \"\";width: 100%;border-bottom: 1px solid gray;flex-grow: 1;}div.sk-label:hover label.sk-toggleable__label {background-color: #d4ebff;}div.sk-serial::before {content: \"\";position: absolute;border-left: 1px solid gray;box-sizing: border-box;top: 2em;bottom: 0;left: 50%;}div.sk-serial {display: flex;flex-direction: column;align-items: center;background-color: white;}div.sk-item {z-index: 1;}div.sk-parallel {display: flex;align-items: stretch;justify-content: center;background-color: white;}div.sk-parallel-item {display: flex;flex-direction: column;position: relative;background-color: white;}div.sk-parallel-item:first-child::after {align-self: flex-end;width: 50%;}div.sk-parallel-item:last-child::after {align-self: flex-start;width: 50%;}div.sk-parallel-item:only-child::after {width: 0;}div.sk-dashed-wrapped {border: 1px dashed gray;margin: 0.2em;box-sizing: border-box;padding-bottom: 0.1em;background-color: white;position: relative;}div.sk-label label {font-family: monospace;font-weight: bold;background-color: white;display: inline-block;line-height: 1.2em;}div.sk-label-container {position: relative;z-index: 2;text-align: center;}div.sk-container {display: inline-block;position: relative;}</style><div class=\"sk-top-container\"><div class=\"sk-container\"><div class=\"sk-item sk-dashed-wrapped\"><div class=\"sk-label-container\"><div class=\"sk-label sk-toggleable\"><input class=\"sk-toggleable__control sk-hidden--visually\" id=\"7c57d078-1063-4702-8ffe-c6bd5ce70d70\" type=\"checkbox\" ><label class=\"sk-toggleable__label\" for=\"7c57d078-1063-4702-8ffe-c6bd5ce70d70\">Pipeline</label><div class=\"sk-toggleable__content\"><pre>Pipeline(steps=[('prep',\n",
              "                 ColumnTransformer(remainder='passthrough', sparse_threshold=0,\n",
              "                                   transformers=[('t_scaler_mm_1',\n",
              "                                                  MinMaxScaler(), [1, 2]),\n",
              "                                                 ('t_one_hot',\n",
              "                                                  OneHotEncoder(drop='first'),\n",
              "                                                  [0])])),\n",
              "                ('knn', KNeighborsClassifier(n_neighbors=7))])</pre></div></div></div><div class=\"sk-serial\"><div class=\"sk-item sk-dashed-wrapped\"><div class=\"sk-label-container\"><div class=\"sk-label sk-toggleable\"><input class=\"sk-toggleable__control sk-hidden--visually\" id=\"bb9e1e1b-db77-4930-95af-95ee98833140\" type=\"checkbox\" ><label class=\"sk-toggleable__label\" for=\"bb9e1e1b-db77-4930-95af-95ee98833140\">prep: ColumnTransformer</label><div class=\"sk-toggleable__content\"><pre>ColumnTransformer(remainder='passthrough', sparse_threshold=0,\n",
              "                  transformers=[('t_scaler_mm_1', MinMaxScaler(), [1, 2]),\n",
              "                                ('t_one_hot', OneHotEncoder(drop='first'),\n",
              "                                 [0])])</pre></div></div></div><div class=\"sk-parallel\"><div class=\"sk-parallel-item\"><div class=\"sk-item\"><div class=\"sk-label-container\"><div class=\"sk-label sk-toggleable\"><input class=\"sk-toggleable__control sk-hidden--visually\" id=\"355516ab-ffef-4c84-8d08-833708dea065\" type=\"checkbox\" ><label class=\"sk-toggleable__label\" for=\"355516ab-ffef-4c84-8d08-833708dea065\">t_scaler_mm_1</label><div class=\"sk-toggleable__content\"><pre>[1, 2]</pre></div></div></div><div class=\"sk-serial\"><div class=\"sk-item\"><div class=\"sk-estimator sk-toggleable\"><input class=\"sk-toggleable__control sk-hidden--visually\" id=\"9ddf5ef0-f4d3-4b64-a53f-be3f0dfbe88c\" type=\"checkbox\" ><label class=\"sk-toggleable__label\" for=\"9ddf5ef0-f4d3-4b64-a53f-be3f0dfbe88c\">MinMaxScaler</label><div class=\"sk-toggleable__content\"><pre>MinMaxScaler()</pre></div></div></div></div></div></div><div class=\"sk-parallel-item\"><div class=\"sk-item\"><div class=\"sk-label-container\"><div class=\"sk-label sk-toggleable\"><input class=\"sk-toggleable__control sk-hidden--visually\" id=\"ac4f25c9-2886-448e-b129-1bd74cf7dc08\" type=\"checkbox\" ><label class=\"sk-toggleable__label\" for=\"ac4f25c9-2886-448e-b129-1bd74cf7dc08\">t_one_hot</label><div class=\"sk-toggleable__content\"><pre>[0]</pre></div></div></div><div class=\"sk-serial\"><div class=\"sk-item\"><div class=\"sk-estimator sk-toggleable\"><input class=\"sk-toggleable__control sk-hidden--visually\" id=\"b56aba53-af95-460c-b8d8-d4a36f6171ea\" type=\"checkbox\" ><label class=\"sk-toggleable__label\" for=\"b56aba53-af95-460c-b8d8-d4a36f6171ea\">OneHotEncoder</label><div class=\"sk-toggleable__content\"><pre>OneHotEncoder(drop='first')</pre></div></div></div></div></div></div></div></div><div class=\"sk-item\"><div class=\"sk-estimator sk-toggleable\"><input class=\"sk-toggleable__control sk-hidden--visually\" id=\"efa61538-0eec-4555-9083-6d4f2d75f47f\" type=\"checkbox\" ><label class=\"sk-toggleable__label\" for=\"efa61538-0eec-4555-9083-6d4f2d75f47f\">KNeighborsClassifier</label><div class=\"sk-toggleable__content\"><pre>KNeighborsClassifier(n_neighbors=7)</pre></div></div></div></div></div></div></div>"
            ],
            "text/plain": [
              "Pipeline(steps=[('prep',\n",
              "                 ColumnTransformer(remainder='passthrough', sparse_threshold=0,\n",
              "                                   transformers=[('t_scaler_mm_1',\n",
              "                                                  MinMaxScaler(), [1, 2]),\n",
              "                                                 ('t_one_hot',\n",
              "                                                  OneHotEncoder(drop='first'),\n",
              "                                                  [0])])),\n",
              "                ('knn', KNeighborsClassifier(n_neighbors=7))])"
            ]
          },
          "metadata": {
            "tags": []
          },
          "execution_count": 34
        },
        {
          "output_type": "stream",
          "text": [
            "predicting ...\n"
          ],
          "name": "stdout"
        }
      ]
    },
    {
      "cell_type": "markdown",
      "metadata": {
        "id": "GFxhC5v1KWi0"
      },
      "source": [
        "## Evaluate model results"
      ]
    },
    {
      "cell_type": "code",
      "metadata": {
        "id": "5wC7EHjBP1BY",
        "colab": {
          "base_uri": "https://localhost:8080/",
          "height": 761
        },
        "outputId": "8dee7b77-94c7-4365-eea2-9188fe7608b5"
      },
      "source": [
        "# y = list of all y values from dataset\n",
        "classes = np.unique(y)\n",
        "KNN_results(predictions_1, y_test, classes)\n",
        "c_matrix(predictions_1, y_test, classes)"
      ],
      "execution_count": null,
      "outputs": [
        {
          "output_type": "stream",
          "text": [
            "\n",
            "KNN Accuracy score...\n",
            "  KNN: 0.6994047619047619\n",
            "\n",
            "KNN classification report...\n",
            "              precision    recall  f1-score   support\n",
            "\n",
            "    drummer1       0.76      0.66      0.70       108\n",
            "    drummer5       0.70      0.64      0.67        91\n",
            "    drummer7       0.52      0.78      0.62        59\n",
            "    drummer8       0.86      0.77      0.81        78\n",
            "\n",
            "    accuracy                           0.70       336\n",
            "   macro avg       0.71      0.71      0.70       336\n",
            "weighted avg       0.72      0.70      0.70       336\n",
            "\n",
            "\n",
            "Confusion matrix...\n"
          ],
          "name": "stdout"
        },
        {
          "output_type": "display_data",
          "data": {
            "image/png": "[encoded data removed]",
            "text/plain": [
              "<Figure size 432x432 with 1 Axes>"
            ]
          },
          "metadata": {
            "tags": [],
            "needs_background": "light"
          }
        }
      ]
    },
    {
      "cell_type": "code",
      "metadata": {
        "id": "N632ydS7S0Lx"
      },
      "source": [
        ""
      ],
      "execution_count": null,
      "outputs": []
    },
    {
      "cell_type": "markdown",
      "metadata": {
        "id": "lWH12kcMSoRC"
      },
      "source": [
        "# K-fold CV"
      ]
    },
    {
      "cell_type": "code",
      "metadata": {
        "id": "6exPok9QIIAu",
        "colab": {
          "base_uri": "https://localhost:8080/"
        },
        "outputId": "4a1a61aa-1eb6-47b2-d639-9e947de3d012"
      },
      "source": [
        "from sklearn.model_selection import KFold, cross_val_score\n",
        "from sklearn.pipeline import make_pipeline\n",
        "\n",
        "# list of ColumnTransformers setup earlier ..\n",
        "cts = [ct_v0, ct_v1, ct_v2, ct_v3, ct_v4]\n",
        "\n",
        "\n",
        "results = []\n",
        "best_score = 0\n",
        "best_info = ''\n",
        "\n",
        "kf = KFold(n_splits=10, shuffle=True, random_state=27)\n",
        "\n",
        "for idx, ct in enumerate(cts):\n",
        "  print(\"\\n_______________________________________________________\")\n",
        "  print(\"\\n>>>> pipe #{}.. \\n\".format(idx))\n",
        "  \n",
        "  # Calculating error for K values between 1 and 20\n",
        "  for next_k in range(1, 20):\n",
        "    next_pipe = Pipeline(steps=[('prep',ct), ('knn', KNeighborsClassifier(next_k))])\n",
        "    cv_results = cross_val_score(next_pipe, X, y, cv=kf, scoring=\"accuracy\", n_jobs=-1 )\n",
        "    results.append(cv_results)\n",
        "\n",
        "    # print out put of this run.\n",
        "    this_mean = cv_results.mean()\n",
        "    this_run = \"pipe #{}, k={}, mean:{}\".format(idx, next_k, this_mean)\n",
        "    print('\\n\\n ___ '+this_run)\n",
        "    cv_results\n",
        "\n",
        "    # check for best\n",
        "    if this_mean > best_score:\n",
        "      best_score = this_mean\n",
        "      best_info = this_run\n",
        "    \n",
        "print(\"\\n\\nBest score was > {}\".format(best_score))\n",
        "print(best_info)\n",
        "\n"
      ],
      "execution_count": null,
      "outputs": [
        {
          "output_type": "stream",
          "text": [
            "\n",
            "_______________________________________________________\n",
            "\n",
            ">>>> pipe #0.. \n",
            "\n",
            "\n",
            "\n",
            " ___ pipe #0, k=1, mean:0.6517821499857428\n"
          ],
          "name": "stdout"
        },
        {
          "output_type": "execute_result",
          "data": {
            "text/plain": [
              "array([0.64880952, 0.67261905, 0.64285714, 0.63690476, 0.6547619 ,\n",
              "       0.64880952, 0.61904762, 0.67664671, 0.67065868, 0.64670659])"
            ]
          },
          "metadata": {
            "tags": []
          },
          "execution_count": 36
        },
        {
          "output_type": "stream",
          "text": [
            "\n",
            "\n",
            " ___ pipe #0, k=2, mean:0.6314870259481037\n"
          ],
          "name": "stdout"
        },
        {
          "output_type": "execute_result",
          "data": {
            "text/plain": [
              "array([0.61904762, 0.64285714, 0.60714286, 0.64285714, 0.6547619 ,\n",
              "       0.63095238, 0.61904762, 0.66467066, 0.60479042, 0.62874251])"
            ]
          },
          "metadata": {
            "tags": []
          },
          "execution_count": 36
        },
        {
          "output_type": "stream",
          "text": [
            "\n",
            "\n",
            " ___ pipe #0, k=3, mean:0.6517714570858283\n"
          ],
          "name": "stdout"
        },
        {
          "output_type": "execute_result",
          "data": {
            "text/plain": [
              "array([0.63690476, 0.70238095, 0.60714286, 0.625     , 0.67857143,\n",
              "       0.63690476, 0.6547619 , 0.68263473, 0.68263473, 0.61077844])"
            ]
          },
          "metadata": {
            "tags": []
          },
          "execution_count": 36
        },
        {
          "output_type": "stream",
          "text": [
            "\n",
            "\n",
            " ___ pipe #0, k=4, mean:0.6386512688907899\n"
          ],
          "name": "stdout"
        },
        {
          "output_type": "execute_result",
          "data": {
            "text/plain": [
              "array([0.64880952, 0.69047619, 0.56547619, 0.60119048, 0.63095238,\n",
              "       0.64880952, 0.66666667, 0.65868263, 0.64670659, 0.62874251])"
            ]
          },
          "metadata": {
            "tags": []
          },
          "execution_count": 36
        },
        {
          "output_type": "stream",
          "text": [
            "\n",
            "\n",
            " ___ pipe #0, k=5, mean:0.6392750213858\n"
          ],
          "name": "stdout"
        },
        {
          "output_type": "execute_result",
          "data": {
            "text/plain": [
              "array([0.60714286, 0.66071429, 0.55952381, 0.60119048, 0.66071429,\n",
              "       0.67857143, 0.64285714, 0.68862275, 0.64071856, 0.65269461])"
            ]
          },
          "metadata": {
            "tags": []
          },
          "execution_count": 36
        },
        {
          "output_type": "stream",
          "text": [
            "\n",
            "\n",
            " ___ pipe #0, k=6, mean:0.6291132021670943\n"
          ],
          "name": "stdout"
        },
        {
          "output_type": "execute_result",
          "data": {
            "text/plain": [
              "array([0.61904762, 0.66071429, 0.5297619 , 0.63095238, 0.63690476,\n",
              "       0.64880952, 0.6547619 , 0.66467066, 0.61676647, 0.62874251])"
            ]
          },
          "metadata": {
            "tags": []
          },
          "execution_count": 36
        },
        {
          "output_type": "stream",
          "text": [
            "\n",
            "\n",
            " ___ pipe #0, k=7, mean:0.6279191616766469\n"
          ],
          "name": "stdout"
        },
        {
          "output_type": "execute_result",
          "data": {
            "text/plain": [
              "array([0.61904762, 0.64285714, 0.54166667, 0.5952381 , 0.63095238,\n",
              "       0.67857143, 0.66666667, 0.64071856, 0.64071856, 0.62275449])"
            ]
          },
          "metadata": {
            "tags": []
          },
          "execution_count": 36
        },
        {
          "output_type": "stream",
          "text": [
            "\n",
            "\n",
            " ___ pipe #0, k=8, mean:0.6296870544625035\n"
          ],
          "name": "stdout"
        },
        {
          "output_type": "execute_result",
          "data": {
            "text/plain": [
              "array([0.61309524, 0.6547619 , 0.53571429, 0.6547619 , 0.625     ,\n",
              "       0.66666667, 0.67261905, 0.65868263, 0.59281437, 0.62275449])"
            ]
          },
          "metadata": {
            "tags": []
          },
          "execution_count": 36
        },
        {
          "output_type": "stream",
          "text": [
            "\n",
            "\n",
            " ___ pipe #0, k=9, mean:0.6320929569432563\n"
          ],
          "name": "stdout"
        },
        {
          "output_type": "execute_result",
          "data": {
            "text/plain": [
              "array([0.63690476, 0.64880952, 0.5297619 , 0.63690476, 0.61309524,\n",
              "       0.66666667, 0.67261905, 0.65269461, 0.62275449, 0.64071856])"
            ]
          },
          "metadata": {
            "tags": []
          },
          "execution_count": 36
        },
        {
          "output_type": "stream",
          "text": [
            "\n",
            "\n",
            " ___ pipe #0, k=10, mean:0.63267750213858\n"
          ],
          "name": "stdout"
        },
        {
          "output_type": "execute_result",
          "data": {
            "text/plain": [
              "array([0.64880952, 0.66666667, 0.55952381, 0.625     , 0.60119048,\n",
              "       0.63095238, 0.69642857, 0.67065868, 0.5988024 , 0.62874251])"
            ]
          },
          "metadata": {
            "tags": []
          },
          "execution_count": 36
        },
        {
          "output_type": "stream",
          "text": [
            "\n",
            "\n",
            " ___ pipe #0, k=11, mean:0.6249001996007983\n"
          ],
          "name": "stdout"
        },
        {
          "output_type": "execute_result",
          "data": {
            "text/plain": [
              "array([0.66666667, 0.6547619 , 0.54166667, 0.625     , 0.61904762,\n",
              "       0.6547619 , 0.6547619 , 0.62874251, 0.60479042, 0.5988024 ])"
            ]
          },
          "metadata": {
            "tags": []
          },
          "execution_count": 36
        },
        {
          "output_type": "stream",
          "text": [
            "\n",
            "\n",
            " ___ pipe #0, k=12, mean:0.61535500427716\n"
          ],
          "name": "stdout"
        },
        {
          "output_type": "execute_result",
          "data": {
            "text/plain": [
              "array([0.64880952, 0.6547619 , 0.55357143, 0.61904762, 0.58333333,\n",
              "       0.63095238, 0.66666667, 0.61077844, 0.58083832, 0.60479042])"
            ]
          },
          "metadata": {
            "tags": []
          },
          "execution_count": 36
        },
        {
          "output_type": "stream",
          "text": [
            "\n",
            "\n",
            " ___ pipe #0, k=13, mean:0.6117978329056173\n"
          ],
          "name": "stdout"
        },
        {
          "output_type": "execute_result",
          "data": {
            "text/plain": [
              "array([0.66071429, 0.61904762, 0.5297619 , 0.63690476, 0.5952381 ,\n",
              "       0.60119048, 0.6547619 , 0.64670659, 0.5748503 , 0.5988024 ])"
            ]
          },
          "metadata": {
            "tags": []
          },
          "execution_count": 36
        },
        {
          "output_type": "stream",
          "text": [
            "\n",
            "\n",
            " ___ pipe #0, k=14, mean:0.5945181066438552\n"
          ],
          "name": "stdout"
        },
        {
          "output_type": "execute_result",
          "data": {
            "text/plain": [
              "array([0.64880952, 0.5952381 , 0.50595238, 0.61904762, 0.56547619,\n",
              "       0.60119048, 0.61904762, 0.62874251, 0.58083832, 0.58083832])"
            ]
          },
          "metadata": {
            "tags": []
          },
          "execution_count": 36
        },
        {
          "output_type": "stream",
          "text": [
            "\n",
            "\n",
            " ___ pipe #0, k=15, mean:0.5927288280581694\n"
          ],
          "name": "stdout"
        },
        {
          "output_type": "execute_result",
          "data": {
            "text/plain": [
              "array([0.64285714, 0.61904762, 0.52380952, 0.61309524, 0.54166667,\n",
              "       0.5952381 , 0.60714286, 0.62874251, 0.56886228, 0.58682635])"
            ]
          },
          "metadata": {
            "tags": []
          },
          "execution_count": 36
        },
        {
          "output_type": "stream",
          "text": [
            "\n",
            "\n",
            " ___ pipe #0, k=16, mean:0.583176504134588\n"
          ],
          "name": "stdout"
        },
        {
          "output_type": "execute_result",
          "data": {
            "text/plain": [
              "array([0.625     , 0.60714286, 0.54761905, 0.61309524, 0.51785714,\n",
              "       0.58333333, 0.60119048, 0.5988024 , 0.58083832, 0.55688623])"
            ]
          },
          "metadata": {
            "tags": []
          },
          "execution_count": 36
        },
        {
          "output_type": "stream",
          "text": [
            "\n",
            "\n",
            " ___ pipe #0, k=17, mean:0.5748253493013973\n"
          ],
          "name": "stdout"
        },
        {
          "output_type": "execute_result",
          "data": {
            "text/plain": [
              "array([0.56547619, 0.63690476, 0.51785714, 0.60119048, 0.54166667,\n",
              "       0.58333333, 0.5952381 , 0.58682635, 0.55688623, 0.56287425])"
            ]
          },
          "metadata": {
            "tags": []
          },
          "execution_count": 36
        },
        {
          "output_type": "stream",
          "text": [
            "\n",
            "\n",
            " ___ pipe #0, k=18, mean:0.5527409466780724\n"
          ],
          "name": "stdout"
        },
        {
          "output_type": "execute_result",
          "data": {
            "text/plain": [
              "array([0.58333333, 0.55357143, 0.5297619 , 0.58333333, 0.52380952,\n",
              "       0.55952381, 0.58928571, 0.55688623, 0.52095808, 0.52694611])"
            ]
          },
          "metadata": {
            "tags": []
          },
          "execution_count": 36
        },
        {
          "output_type": "stream",
          "text": [
            "\n",
            "\n",
            " ___ pipe #0, k=19, mean:0.5545373538637012\n"
          ],
          "name": "stdout"
        },
        {
          "output_type": "execute_result",
          "data": {
            "text/plain": [
              "array([0.57142857, 0.55952381, 0.53571429, 0.5952381 , 0.50595238,\n",
              "       0.58333333, 0.57142857, 0.5748503 , 0.50898204, 0.53892216])"
            ]
          },
          "metadata": {
            "tags": []
          },
          "execution_count": 36
        },
        {
          "output_type": "stream",
          "text": [
            "\n",
            "_______________________________________________________\n",
            "\n",
            ">>>> pipe #1.. \n",
            "\n",
            "\n",
            "\n",
            " ___ pipe #1, k=1, mean:0.6845309381237525\n"
          ],
          "name": "stdout"
        },
        {
          "output_type": "execute_result",
          "data": {
            "text/plain": [
              "array([0.69047619, 0.71428571, 0.66071429, 0.69047619, 0.73809524,\n",
              "       0.66071429, 0.67857143, 0.68263473, 0.69461078, 0.63473054])"
            ]
          },
          "metadata": {
            "tags": []
          },
          "execution_count": 36
        },
        {
          "output_type": "stream",
          "text": [
            "\n",
            "\n",
            " ___ pipe #1, k=2, mean:0.6696642429426861\n"
          ],
          "name": "stdout"
        },
        {
          "output_type": "execute_result",
          "data": {
            "text/plain": [
              "array([0.63690476, 0.68452381, 0.60714286, 0.70238095, 0.70238095,\n",
              "       0.67261905, 0.6547619 , 0.7245509 , 0.66467066, 0.64670659])"
            ]
          },
          "metadata": {
            "tags": []
          },
          "execution_count": 36
        },
        {
          "output_type": "stream",
          "text": [
            "\n",
            "\n",
            " ___ pipe #1, k=3, mean:0.6869617907043055\n"
          ],
          "name": "stdout"
        },
        {
          "output_type": "execute_result",
          "data": {
            "text/plain": [
              "array([0.67261905, 0.73214286, 0.63690476, 0.69047619, 0.68452381,\n",
              "       0.70833333, 0.64880952, 0.71856287, 0.71257485, 0.66467066])"
            ]
          },
          "metadata": {
            "tags": []
          },
          "execution_count": 36
        },
        {
          "output_type": "stream",
          "text": [
            "\n",
            "\n",
            " ___ pipe #1, k=4, mean:0.6941082121471343\n"
          ],
          "name": "stdout"
        },
        {
          "output_type": "execute_result",
          "data": {
            "text/plain": [
              "array([0.67857143, 0.73809524, 0.66666667, 0.67857143, 0.70833333,\n",
              "       0.69642857, 0.67261905, 0.73053892, 0.67664671, 0.69461078])"
            ]
          },
          "metadata": {
            "tags": []
          },
          "execution_count": 36
        },
        {
          "output_type": "stream",
          "text": [
            "\n",
            "\n",
            " ___ pipe #1, k=5, mean:0.7000534644995723\n"
          ],
          "name": "stdout"
        },
        {
          "output_type": "execute_result",
          "data": {
            "text/plain": [
              "array([0.7202381 , 0.72619048, 0.64285714, 0.70238095, 0.72619048,\n",
              "       0.7202381 , 0.67261905, 0.71257485, 0.70658683, 0.67065868])"
            ]
          },
          "metadata": {
            "tags": []
          },
          "execution_count": 36
        },
        {
          "output_type": "stream",
          "text": [
            "\n",
            "\n",
            " ___ pipe #1, k=6, mean:0.6893213572854291\n"
          ],
          "name": "stdout"
        },
        {
          "output_type": "execute_result",
          "data": {
            "text/plain": [
              "array([0.69642857, 0.72619048, 0.625     , 0.68452381, 0.69642857,\n",
              "       0.71428571, 0.69047619, 0.70658683, 0.68263473, 0.67065868])"
            ]
          },
          "metadata": {
            "tags": []
          },
          "execution_count": 36
        },
        {
          "output_type": "stream",
          "text": [
            "\n",
            "\n",
            " ___ pipe #1, k=7, mean:0.68634873110921\n"
          ],
          "name": "stdout"
        },
        {
          "output_type": "execute_result",
          "data": {
            "text/plain": [
              "array([0.67857143, 0.7202381 , 0.64880952, 0.64880952, 0.70238095,\n",
              "       0.71428571, 0.68452381, 0.7245509 , 0.68263473, 0.65868263])"
            ]
          },
          "metadata": {
            "tags": []
          },
          "execution_count": 36
        },
        {
          "output_type": "stream",
          "text": [
            "\n",
            "\n",
            " ___ pipe #1, k=8, mean:0.6839749073282008\n"
          ],
          "name": "stdout"
        },
        {
          "output_type": "execute_result",
          "data": {
            "text/plain": [
              "array([0.70833333, 0.70238095, 0.61309524, 0.67261905, 0.68452381,\n",
              "       0.67261905, 0.70833333, 0.7005988 , 0.65868263, 0.71856287])"
            ]
          },
          "metadata": {
            "tags": []
          },
          "execution_count": 36
        },
        {
          "output_type": "stream",
          "text": [
            "\n",
            "\n",
            " ___ pipe #1, k=9, mean:0.6875427715996578\n"
          ],
          "name": "stdout"
        },
        {
          "output_type": "execute_result",
          "data": {
            "text/plain": [
              "array([0.71428571, 0.69047619, 0.625     , 0.69642857, 0.69047619,\n",
              "       0.67857143, 0.70833333, 0.70658683, 0.65868263, 0.70658683])"
            ]
          },
          "metadata": {
            "tags": []
          },
          "execution_count": 36
        },
        {
          "output_type": "stream",
          "text": [
            "\n",
            "\n",
            " ___ pipe #1, k=10, mean:0.6839499572284004\n"
          ],
          "name": "stdout"
        },
        {
          "output_type": "execute_result",
          "data": {
            "text/plain": [
              "array([0.70238095, 0.72619048, 0.60119048, 0.67857143, 0.70238095,\n",
              "       0.67857143, 0.71428571, 0.71257485, 0.62874251, 0.69461078])"
            ]
          },
          "metadata": {
            "tags": []
          },
          "execution_count": 36
        },
        {
          "output_type": "stream",
          "text": [
            "\n",
            "\n",
            " ___ pipe #1, k=11, mean:0.6768213572854291\n"
          ],
          "name": "stdout"
        },
        {
          "output_type": "execute_result",
          "data": {
            "text/plain": [
              "array([0.69642857, 0.68452381, 0.60714286, 0.69047619, 0.67261905,\n",
              "       0.66071429, 0.69642857, 0.69461078, 0.67065868, 0.69461078])"
            ]
          },
          "metadata": {
            "tags": []
          },
          "execution_count": 36
        },
        {
          "output_type": "stream",
          "text": [
            "\n",
            "\n",
            " ___ pipe #1, k=12, mean:0.6702594810379241\n"
          ],
          "name": "stdout"
        },
        {
          "output_type": "execute_result",
          "data": {
            "text/plain": [
              "array([0.67857143, 0.67261905, 0.60714286, 0.67857143, 0.67261905,\n",
              "       0.67857143, 0.67857143, 0.69461078, 0.66467066, 0.67664671])"
            ]
          },
          "metadata": {
            "tags": []
          },
          "execution_count": 36
        },
        {
          "output_type": "stream",
          "text": [
            "\n",
            "\n",
            " ___ pipe #1, k=13, mean:0.6613202167094383\n"
          ],
          "name": "stdout"
        },
        {
          "output_type": "execute_result",
          "data": {
            "text/plain": [
              "array([0.67857143, 0.64880952, 0.57738095, 0.68452381, 0.6547619 ,\n",
              "       0.66666667, 0.68452381, 0.68263473, 0.65269461, 0.68263473])"
            ]
          },
          "metadata": {
            "tags": []
          },
          "execution_count": 36
        },
        {
          "output_type": "stream",
          "text": [
            "\n",
            "\n",
            " ___ pipe #1, k=14, mean:0.6571428571428571\n"
          ],
          "name": "stdout"
        },
        {
          "output_type": "execute_result",
          "data": {
            "text/plain": [
              "array([0.68452381, 0.66071429, 0.60714286, 0.67857143, 0.64285714,\n",
              "       0.64880952, 0.64880952, 0.69461078, 0.62275449, 0.68263473])"
            ]
          },
          "metadata": {
            "tags": []
          },
          "execution_count": 36
        },
        {
          "output_type": "stream",
          "text": [
            "\n",
            "\n",
            " ___ pipe #1, k=15, mean:0.6535429141716568\n"
          ],
          "name": "stdout"
        },
        {
          "output_type": "execute_result",
          "data": {
            "text/plain": [
              "array([0.70238095, 0.6547619 , 0.57738095, 0.67857143, 0.64285714,\n",
              "       0.67261905, 0.6547619 , 0.67065868, 0.62874251, 0.65269461])"
            ]
          },
          "metadata": {
            "tags": []
          },
          "execution_count": 36
        },
        {
          "output_type": "stream",
          "text": [
            "\n",
            "\n",
            " ___ pipe #1, k=16, mean:0.6475940975192472\n"
          ],
          "name": "stdout"
        },
        {
          "output_type": "execute_result",
          "data": {
            "text/plain": [
              "array([0.6547619 , 0.66666667, 0.57738095, 0.67857143, 0.63690476,\n",
              "       0.64285714, 0.66071429, 0.67065868, 0.62874251, 0.65868263])"
            ]
          },
          "metadata": {
            "tags": []
          },
          "execution_count": 36
        },
        {
          "output_type": "stream",
          "text": [
            "\n",
            "\n",
            " ___ pipe #1, k=17, mean:0.6440226689478188\n"
          ],
          "name": "stdout"
        },
        {
          "output_type": "execute_result",
          "data": {
            "text/plain": [
              "array([0.67857143, 0.66666667, 0.57738095, 0.6547619 , 0.64880952,\n",
              "       0.61904762, 0.63690476, 0.65269461, 0.64071856, 0.66467066])"
            ]
          },
          "metadata": {
            "tags": []
          },
          "execution_count": 36
        },
        {
          "output_type": "stream",
          "text": [
            "\n",
            "\n",
            " ___ pipe #1, k=18, mean:0.6356822070145423\n"
          ],
          "name": "stdout"
        },
        {
          "output_type": "execute_result",
          "data": {
            "text/plain": [
              "array([0.66071429, 0.66071429, 0.56547619, 0.63095238, 0.64285714,\n",
              "       0.60714286, 0.64285714, 0.67065868, 0.60479042, 0.67065868])"
            ]
          },
          "metadata": {
            "tags": []
          },
          "execution_count": 36
        },
        {
          "output_type": "stream",
          "text": [
            "\n",
            "\n",
            " ___ pipe #1, k=19, mean:0.6356893356144853\n"
          ],
          "name": "stdout"
        },
        {
          "output_type": "execute_result",
          "data": {
            "text/plain": [
              "array([0.67261905, 0.6547619 , 0.55357143, 0.625     , 0.64285714,\n",
              "       0.61904762, 0.63095238, 0.67664671, 0.61077844, 0.67065868])"
            ]
          },
          "metadata": {
            "tags": []
          },
          "execution_count": 36
        },
        {
          "output_type": "stream",
          "text": [
            "\n",
            "_______________________________________________________\n",
            "\n",
            ">>>> pipe #2.. \n",
            "\n",
            "\n",
            "\n",
            " ___ pipe #2, k=1, mean:0.6881130595950955\n"
          ],
          "name": "stdout"
        },
        {
          "output_type": "execute_result",
          "data": {
            "text/plain": [
              "array([0.69047619, 0.72619048, 0.6547619 , 0.70238095, 0.73809524,\n",
              "       0.66666667, 0.67261905, 0.68263473, 0.7005988 , 0.64670659])"
            ]
          },
          "metadata": {
            "tags": []
          },
          "execution_count": 36
        },
        {
          "output_type": "stream",
          "text": [
            "\n",
            "\n",
            " ___ pipe #2, k=2, mean:0.6702594810379242\n"
          ],
          "name": "stdout"
        },
        {
          "output_type": "execute_result",
          "data": {
            "text/plain": [
              "array([0.63690476, 0.69047619, 0.60714286, 0.70833333, 0.70238095,\n",
              "       0.67261905, 0.64880952, 0.71856287, 0.67065868, 0.64670659])"
            ]
          },
          "metadata": {
            "tags": []
          },
          "execution_count": 36
        },
        {
          "output_type": "stream",
          "text": [
            "\n",
            "\n",
            " ___ pipe #2, k=3, mean:0.6863665526090676\n"
          ],
          "name": "stdout"
        },
        {
          "output_type": "execute_result",
          "data": {
            "text/plain": [
              "array([0.67261905, 0.73214286, 0.63690476, 0.69047619, 0.68452381,\n",
              "       0.70833333, 0.64285714, 0.71856287, 0.71257485, 0.66467066])"
            ]
          },
          "metadata": {
            "tags": []
          },
          "execution_count": 36
        },
        {
          "output_type": "stream",
          "text": [
            "\n",
            "\n",
            " ___ pipe #2, k=4, mean:0.6964927288280581\n"
          ],
          "name": "stdout"
        },
        {
          "output_type": "execute_result",
          "data": {
            "text/plain": [
              "array([0.67857143, 0.74404762, 0.66666667, 0.67261905, 0.71428571,\n",
              "       0.70833333, 0.67261905, 0.73053892, 0.67664671, 0.7005988 ])"
            ]
          },
          "metadata": {
            "tags": []
          },
          "execution_count": 36
        },
        {
          "output_type": "stream",
          "text": [
            "\n",
            "\n",
            " ___ pipe #2, k=5, mean:0.70124750499002\n"
          ],
          "name": "stdout"
        },
        {
          "output_type": "execute_result",
          "data": {
            "text/plain": [
              "array([0.7202381 , 0.72619048, 0.64880952, 0.70238095, 0.72619048,\n",
              "       0.7202381 , 0.67261905, 0.71257485, 0.70658683, 0.67664671])"
            ]
          },
          "metadata": {
            "tags": []
          },
          "execution_count": 36
        },
        {
          "output_type": "stream",
          "text": [
            "\n",
            "\n",
            " ___ pipe #2, k=6, mean:0.6893249215854006\n"
          ],
          "name": "stdout"
        },
        {
          "output_type": "execute_result",
          "data": {
            "text/plain": [
              "array([0.69642857, 0.73214286, 0.625     , 0.68452381, 0.69047619,\n",
              "       0.71428571, 0.68452381, 0.70658683, 0.68263473, 0.67664671])"
            ]
          },
          "metadata": {
            "tags": []
          },
          "execution_count": 36
        },
        {
          "output_type": "stream",
          "text": [
            "\n",
            "\n",
            " ___ pipe #2, k=7, mean:0.6869475335044196\n"
          ],
          "name": "stdout"
        },
        {
          "output_type": "execute_result",
          "data": {
            "text/plain": [
              "array([0.67857143, 0.7202381 , 0.64880952, 0.64880952, 0.70238095,\n",
              "       0.71428571, 0.68452381, 0.7245509 , 0.68862275, 0.65868263])"
            ]
          },
          "metadata": {
            "tags": []
          },
          "execution_count": 36
        },
        {
          "output_type": "stream",
          "text": [
            "\n",
            "\n",
            " ___ pipe #2, k=8, mean:0.6839713430282293\n"
          ],
          "name": "stdout"
        },
        {
          "output_type": "execute_result",
          "data": {
            "text/plain": [
              "array([0.70833333, 0.70833333, 0.61309524, 0.67261905, 0.68452381,\n",
              "       0.67261905, 0.70833333, 0.69461078, 0.65868263, 0.71856287])"
            ]
          },
          "metadata": {
            "tags": []
          },
          "execution_count": 36
        },
        {
          "output_type": "stream",
          "text": [
            "\n",
            "\n",
            " ___ pipe #2, k=9, mean:0.6875463358996292\n"
          ],
          "name": "stdout"
        },
        {
          "output_type": "execute_result",
          "data": {
            "text/plain": [
              "array([0.71428571, 0.69047619, 0.61904762, 0.69642857, 0.69047619,\n",
              "       0.67857143, 0.70833333, 0.70658683, 0.65868263, 0.71257485])"
            ]
          },
          "metadata": {
            "tags": []
          },
          "execution_count": 36
        },
        {
          "output_type": "stream",
          "text": [
            "\n",
            "\n",
            " ___ pipe #2, k=10, mean:0.6857428001140576\n"
          ],
          "name": "stdout"
        },
        {
          "output_type": "execute_result",
          "data": {
            "text/plain": [
              "array([0.70238095, 0.72619048, 0.60714286, 0.67857143, 0.70238095,\n",
              "       0.67857143, 0.71428571, 0.71257485, 0.63473054, 0.7005988 ])"
            ]
          },
          "metadata": {
            "tags": []
          },
          "execution_count": 36
        },
        {
          "output_type": "stream",
          "text": [
            "\n",
            "\n",
            " ___ pipe #2, k=11, mean:0.6768249215854005\n"
          ],
          "name": "stdout"
        },
        {
          "output_type": "execute_result",
          "data": {
            "text/plain": [
              "array([0.69047619, 0.68452381, 0.60119048, 0.69047619, 0.67857143,\n",
              "       0.66071429, 0.69642857, 0.69461078, 0.66467066, 0.70658683])"
            ]
          },
          "metadata": {
            "tags": []
          },
          "execution_count": 36
        },
        {
          "output_type": "stream",
          "text": [
            "\n",
            "\n",
            " ___ pipe #2, k=12, mean:0.6702594810379241\n"
          ],
          "name": "stdout"
        },
        {
          "output_type": "execute_result",
          "data": {
            "text/plain": [
              "array([0.67857143, 0.67857143, 0.60119048, 0.67857143, 0.67261905,\n",
              "       0.67857143, 0.67857143, 0.69461078, 0.65868263, 0.68263473])"
            ]
          },
          "metadata": {
            "tags": []
          },
          "execution_count": 36
        },
        {
          "output_type": "stream",
          "text": [
            "\n",
            "\n",
            " ___ pipe #2, k=13, mean:0.6595273738237811\n"
          ],
          "name": "stdout"
        },
        {
          "output_type": "execute_result",
          "data": {
            "text/plain": [
              "array([0.67857143, 0.64285714, 0.58333333, 0.67857143, 0.6547619 ,\n",
              "       0.66666667, 0.68452381, 0.68263473, 0.64071856, 0.68263473])"
            ]
          },
          "metadata": {
            "tags": []
          },
          "execution_count": 36
        },
        {
          "output_type": "stream",
          "text": [
            "\n",
            "\n",
            " ___ pipe #2, k=14, mean:0.6565476190476189\n"
          ],
          "name": "stdout"
        },
        {
          "output_type": "execute_result",
          "data": {
            "text/plain": [
              "array([0.68452381, 0.66071429, 0.60714286, 0.67857143, 0.63690476,\n",
              "       0.64880952, 0.64880952, 0.69461078, 0.62275449, 0.68263473])"
            ]
          },
          "metadata": {
            "tags": []
          },
          "execution_count": 36
        },
        {
          "output_type": "stream",
          "text": [
            "\n",
            "\n",
            " ___ pipe #2, k=15, mean:0.655328628457371\n"
          ],
          "name": "stdout"
        },
        {
          "output_type": "execute_result",
          "data": {
            "text/plain": [
              "array([0.70238095, 0.6547619 , 0.57738095, 0.68452381, 0.64285714,\n",
              "       0.67261905, 0.66666667, 0.67664671, 0.62874251, 0.64670659])"
            ]
          },
          "metadata": {
            "tags": []
          },
          "execution_count": 36
        },
        {
          "output_type": "stream",
          "text": [
            "\n",
            "\n",
            " ___ pipe #2, k=16, mean:0.646998859424009\n"
          ],
          "name": "stdout"
        },
        {
          "output_type": "execute_result",
          "data": {
            "text/plain": [
              "array([0.6547619 , 0.66666667, 0.57738095, 0.67857143, 0.625     ,\n",
              "       0.64285714, 0.66666667, 0.67065868, 0.62874251, 0.65868263])"
            ]
          },
          "metadata": {
            "tags": []
          },
          "execution_count": 36
        },
        {
          "output_type": "stream",
          "text": [
            "\n",
            "\n",
            " ___ pipe #2, k=17, mean:0.6434238665526092\n"
          ],
          "name": "stdout"
        },
        {
          "output_type": "execute_result",
          "data": {
            "text/plain": [
              "array([0.67857143, 0.66666667, 0.57738095, 0.6547619 , 0.63690476,\n",
              "       0.61904762, 0.64880952, 0.65269461, 0.63473054, 0.66467066])"
            ]
          },
          "metadata": {
            "tags": []
          },
          "execution_count": 36
        },
        {
          "output_type": "stream",
          "text": [
            "\n",
            "\n",
            " ___ pipe #2, k=18, mean:0.6350798403193612\n"
          ],
          "name": "stdout"
        },
        {
          "output_type": "execute_result",
          "data": {
            "text/plain": [
              "array([0.66071429, 0.66071429, 0.56547619, 0.63095238, 0.64285714,\n",
              "       0.60714286, 0.64880952, 0.67065868, 0.5988024 , 0.66467066])"
            ]
          },
          "metadata": {
            "tags": []
          },
          "execution_count": 36
        },
        {
          "output_type": "stream",
          "text": [
            "\n",
            "\n",
            " ___ pipe #2, k=19, mean:0.6368798118049616\n"
          ],
          "name": "stdout"
        },
        {
          "output_type": "execute_result",
          "data": {
            "text/plain": [
              "array([0.67261905, 0.64880952, 0.55357143, 0.63095238, 0.64880952,\n",
              "       0.61904762, 0.63690476, 0.67664671, 0.61077844, 0.67065868])"
            ]
          },
          "metadata": {
            "tags": []
          },
          "execution_count": 36
        },
        {
          "output_type": "stream",
          "text": [
            "\n",
            "_______________________________________________________\n",
            "\n",
            ">>>> pipe #3.. \n",
            "\n",
            "\n",
            "\n",
            " ___ pipe #3, k=1, mean:0.6881130595950955\n"
          ],
          "name": "stdout"
        },
        {
          "output_type": "execute_result",
          "data": {
            "text/plain": [
              "array([0.69047619, 0.72619048, 0.64880952, 0.70238095, 0.73809524,\n",
              "       0.66666667, 0.67857143, 0.68263473, 0.7005988 , 0.64670659])"
            ]
          },
          "metadata": {
            "tags": []
          },
          "execution_count": 36
        },
        {
          "output_type": "stream",
          "text": [
            "\n",
            "\n",
            " ___ pipe #3, k=2, mean:0.6714570858283434\n"
          ],
          "name": "stdout"
        },
        {
          "output_type": "execute_result",
          "data": {
            "text/plain": [
              "array([0.63690476, 0.69047619, 0.60714286, 0.70833333, 0.70238095,\n",
              "       0.67261905, 0.64880952, 0.7245509 , 0.67065868, 0.65269461])"
            ]
          },
          "metadata": {
            "tags": []
          },
          "execution_count": 36
        },
        {
          "output_type": "stream",
          "text": [
            "\n",
            "\n",
            " ___ pipe #3, k=3, mean:0.6851760764185914\n"
          ],
          "name": "stdout"
        },
        {
          "output_type": "execute_result",
          "data": {
            "text/plain": [
              "array([0.67857143, 0.73214286, 0.63690476, 0.68452381, 0.68452381,\n",
              "       0.70833333, 0.63095238, 0.71856287, 0.71257485, 0.66467066])"
            ]
          },
          "metadata": {
            "tags": []
          },
          "execution_count": 36
        },
        {
          "output_type": "stream",
          "text": [
            "\n",
            "\n",
            " ___ pipe #3, k=4, mean:0.6947070145423438\n"
          ],
          "name": "stdout"
        },
        {
          "output_type": "execute_result",
          "data": {
            "text/plain": [
              "array([0.67857143, 0.74404762, 0.66071429, 0.66666667, 0.71428571,\n",
              "       0.70238095, 0.67261905, 0.73053892, 0.67664671, 0.7005988 ])"
            ]
          },
          "metadata": {
            "tags": []
          },
          "execution_count": 36
        },
        {
          "output_type": "stream",
          "text": [
            "\n",
            "\n",
            " ___ pipe #3, k=5, mean:0.701842743085258\n"
          ],
          "name": "stdout"
        },
        {
          "output_type": "execute_result",
          "data": {
            "text/plain": [
              "array([0.7202381 , 0.72619048, 0.64880952, 0.70238095, 0.73214286,\n",
              "       0.7202381 , 0.67261905, 0.71257485, 0.70658683, 0.67664671])"
            ]
          },
          "metadata": {
            "tags": []
          },
          "execution_count": 36
        },
        {
          "output_type": "stream",
          "text": [
            "\n",
            "\n",
            " ___ pipe #3, k=6, mean:0.6893249215854006\n"
          ],
          "name": "stdout"
        },
        {
          "output_type": "execute_result",
          "data": {
            "text/plain": [
              "array([0.69642857, 0.73214286, 0.625     , 0.68452381, 0.69047619,\n",
              "       0.71428571, 0.68452381, 0.70658683, 0.68263473, 0.67664671])"
            ]
          },
          "metadata": {
            "tags": []
          },
          "execution_count": 36
        },
        {
          "output_type": "stream",
          "text": [
            "\n",
            "\n",
            " ___ pipe #3, k=7, mean:0.6881380096948959\n"
          ],
          "name": "stdout"
        },
        {
          "output_type": "execute_result",
          "data": {
            "text/plain": [
              "array([0.68452381, 0.7202381 , 0.6547619 , 0.64880952, 0.70238095,\n",
              "       0.71428571, 0.68452381, 0.7245509 , 0.68862275, 0.65868263])"
            ]
          },
          "metadata": {
            "tags": []
          },
          "execution_count": 36
        },
        {
          "output_type": "stream",
          "text": [
            "\n",
            "\n",
            " ___ pipe #3, k=8, mean:0.6833725406330198\n"
          ],
          "name": "stdout"
        },
        {
          "output_type": "execute_result",
          "data": {
            "text/plain": [
              "array([0.70833333, 0.70833333, 0.61309524, 0.67261905, 0.68452381,\n",
              "       0.67261905, 0.70833333, 0.7005988 , 0.65269461, 0.71257485])"
            ]
          },
          "metadata": {
            "tags": []
          },
          "execution_count": 36
        },
        {
          "output_type": "stream",
          "text": [
            "\n",
            "\n",
            " ___ pipe #3, k=9, mean:0.6875463358996292\n"
          ],
          "name": "stdout"
        },
        {
          "output_type": "execute_result",
          "data": {
            "text/plain": [
              "array([0.71428571, 0.69047619, 0.61904762, 0.69642857, 0.69047619,\n",
              "       0.67857143, 0.70833333, 0.70658683, 0.65868263, 0.71257485])"
            ]
          },
          "metadata": {
            "tags": []
          },
          "execution_count": 36
        },
        {
          "output_type": "stream",
          "text": [
            "\n",
            "\n",
            " ___ pipe #3, k=10, mean:0.6857428001140576\n"
          ],
          "name": "stdout"
        },
        {
          "output_type": "execute_result",
          "data": {
            "text/plain": [
              "array([0.70238095, 0.72619048, 0.60714286, 0.67857143, 0.70238095,\n",
              "       0.67857143, 0.71428571, 0.71257485, 0.63473054, 0.7005988 ])"
            ]
          },
          "metadata": {
            "tags": []
          },
          "execution_count": 36
        },
        {
          "output_type": "stream",
          "text": [
            "\n",
            "\n",
            " ___ pipe #3, k=11, mean:0.6768249215854005\n"
          ],
          "name": "stdout"
        },
        {
          "output_type": "execute_result",
          "data": {
            "text/plain": [
              "array([0.69047619, 0.68452381, 0.60119048, 0.69047619, 0.67857143,\n",
              "       0.66071429, 0.69642857, 0.69461078, 0.66467066, 0.70658683])"
            ]
          },
          "metadata": {
            "tags": []
          },
          "execution_count": 36
        },
        {
          "output_type": "stream",
          "text": [
            "\n",
            "\n",
            " ___ pipe #3, k=12, mean:0.6696642429426861\n"
          ],
          "name": "stdout"
        },
        {
          "output_type": "execute_result",
          "data": {
            "text/plain": [
              "array([0.67857143, 0.67261905, 0.60119048, 0.67857143, 0.67261905,\n",
              "       0.67857143, 0.67857143, 0.69461078, 0.65868263, 0.68263473])"
            ]
          },
          "metadata": {
            "tags": []
          },
          "execution_count": 36
        },
        {
          "output_type": "stream",
          "text": [
            "\n",
            "\n",
            " ___ pipe #3, k=13, mean:0.6601226119190191\n"
          ],
          "name": "stdout"
        },
        {
          "output_type": "execute_result",
          "data": {
            "text/plain": [
              "array([0.67857143, 0.64285714, 0.58333333, 0.68452381, 0.6547619 ,\n",
              "       0.66666667, 0.68452381, 0.68263473, 0.64071856, 0.68263473])"
            ]
          },
          "metadata": {
            "tags": []
          },
          "execution_count": 36
        },
        {
          "output_type": "stream",
          "text": [
            "\n",
            "\n",
            " ___ pipe #3, k=14, mean:0.6565476190476189\n"
          ],
          "name": "stdout"
        },
        {
          "output_type": "execute_result",
          "data": {
            "text/plain": [
              "array([0.68452381, 0.66071429, 0.60714286, 0.67857143, 0.63690476,\n",
              "       0.64880952, 0.64880952, 0.69461078, 0.62275449, 0.68263473])"
            ]
          },
          "metadata": {
            "tags": []
          },
          "execution_count": 36
        },
        {
          "output_type": "stream",
          "text": [
            "\n",
            "\n",
            " ___ pipe #3, k=15, mean:0.6559274308525807\n"
          ],
          "name": "stdout"
        },
        {
          "output_type": "execute_result",
          "data": {
            "text/plain": [
              "array([0.70238095, 0.6547619 , 0.57738095, 0.68452381, 0.64285714,\n",
              "       0.67261905, 0.66666667, 0.67664671, 0.62874251, 0.65269461])"
            ]
          },
          "metadata": {
            "tags": []
          },
          "execution_count": 36
        },
        {
          "output_type": "stream",
          "text": [
            "\n",
            "\n",
            " ___ pipe #3, k=16, mean:0.6475940975192472\n"
          ],
          "name": "stdout"
        },
        {
          "output_type": "execute_result",
          "data": {
            "text/plain": [
              "array([0.6547619 , 0.66666667, 0.57738095, 0.67857143, 0.625     ,\n",
              "       0.64285714, 0.67261905, 0.67065868, 0.62874251, 0.65868263])"
            ]
          },
          "metadata": {
            "tags": []
          },
          "execution_count": 36
        },
        {
          "output_type": "stream",
          "text": [
            "\n",
            "\n",
            " ___ pipe #3, k=17, mean:0.6434238665526092\n"
          ],
          "name": "stdout"
        },
        {
          "output_type": "execute_result",
          "data": {
            "text/plain": [
              "array([0.67857143, 0.66666667, 0.57738095, 0.6547619 , 0.63690476,\n",
              "       0.61904762, 0.64880952, 0.65269461, 0.63473054, 0.66467066])"
            ]
          },
          "metadata": {
            "tags": []
          },
          "execution_count": 36
        },
        {
          "output_type": "stream",
          "text": [
            "\n",
            "\n",
            " ___ pipe #3, k=18, mean:0.6356786427145708\n"
          ],
          "name": "stdout"
        },
        {
          "output_type": "execute_result",
          "data": {
            "text/plain": [
              "array([0.66071429, 0.66071429, 0.56547619, 0.63095238, 0.64285714,\n",
              "       0.60714286, 0.64880952, 0.67065868, 0.60479042, 0.66467066])"
            ]
          },
          "metadata": {
            "tags": []
          },
          "execution_count": 36
        },
        {
          "output_type": "stream",
          "text": [
            "\n",
            "\n",
            " ___ pipe #3, k=19, mean:0.6368798118049616\n"
          ],
          "name": "stdout"
        },
        {
          "output_type": "execute_result",
          "data": {
            "text/plain": [
              "array([0.67261905, 0.64880952, 0.55357143, 0.63095238, 0.64880952,\n",
              "       0.61904762, 0.63690476, 0.67664671, 0.61077844, 0.67065868])"
            ]
          },
          "metadata": {
            "tags": []
          },
          "execution_count": 36
        },
        {
          "output_type": "stream",
          "text": [
            "\n",
            "_______________________________________________________\n",
            "\n",
            ">>>> pipe #4.. \n",
            "\n",
            "\n",
            "\n",
            " ___ pipe #4, k=1, mean:0.6583155118334759\n"
          ],
          "name": "stdout"
        },
        {
          "output_type": "execute_result",
          "data": {
            "text/plain": [
              "array([0.66071429, 0.67261905, 0.66666667, 0.66666667, 0.66071429,\n",
              "       0.66071429, 0.625     , 0.65868263, 0.67664671, 0.63473054])"
            ]
          },
          "metadata": {
            "tags": []
          },
          "execution_count": 36
        },
        {
          "output_type": "stream",
          "text": [
            "\n",
            "\n",
            " ___ pipe #4, k=2, mean:0.6350477616196178\n"
          ],
          "name": "stdout"
        },
        {
          "output_type": "execute_result",
          "data": {
            "text/plain": [
              "array([0.61904762, 0.63095238, 0.625     , 0.66071429, 0.66666667,\n",
              "       0.6547619 , 0.61309524, 0.66467066, 0.5988024 , 0.61676647])"
            ]
          },
          "metadata": {
            "tags": []
          },
          "execution_count": 36
        },
        {
          "output_type": "stream",
          "text": [
            "\n",
            "\n",
            " ___ pipe #4, k=3, mean:0.6583368976333048\n"
          ],
          "name": "stdout"
        },
        {
          "output_type": "execute_result",
          "data": {
            "text/plain": [
              "array([0.64285714, 0.69047619, 0.61904762, 0.625     , 0.68452381,\n",
              "       0.66071429, 0.6547619 , 0.68862275, 0.69461078, 0.62275449])"
            ]
          },
          "metadata": {
            "tags": []
          },
          "execution_count": 36
        },
        {
          "output_type": "stream",
          "text": [
            "\n",
            "\n",
            " ___ pipe #4, k=4, mean:0.6493905047048759\n"
          ],
          "name": "stdout"
        },
        {
          "output_type": "execute_result",
          "data": {
            "text/plain": [
              "array([0.6547619 , 0.69047619, 0.5952381 , 0.61309524, 0.63690476,\n",
              "       0.66071429, 0.66666667, 0.66467066, 0.65868263, 0.65269461])"
            ]
          },
          "metadata": {
            "tags": []
          },
          "execution_count": 36
        },
        {
          "output_type": "stream",
          "text": [
            "\n",
            "\n",
            " ___ pipe #4, k=5, mean:0.6476226119190192\n"
          ],
          "name": "stdout"
        },
        {
          "output_type": "execute_result",
          "data": {
            "text/plain": [
              "array([0.63095238, 0.6547619 , 0.58333333, 0.60714286, 0.66666667,\n",
              "       0.67857143, 0.64880952, 0.70658683, 0.64670659, 0.65269461])"
            ]
          },
          "metadata": {
            "tags": []
          },
          "execution_count": 36
        },
        {
          "output_type": "stream",
          "text": [
            "\n",
            "\n",
            " ___ pipe #4, k=6, mean:0.6338929284288566\n"
          ],
          "name": "stdout"
        },
        {
          "output_type": "execute_result",
          "data": {
            "text/plain": [
              "array([0.63690476, 0.6547619 , 0.55952381, 0.63095238, 0.60714286,\n",
              "       0.64285714, 0.66666667, 0.68263473, 0.62275449, 0.63473054])"
            ]
          },
          "metadata": {
            "tags": []
          },
          "execution_count": 36
        },
        {
          "output_type": "stream",
          "text": [
            "\n",
            "\n",
            " ___ pipe #4, k=7, mean:0.6392429426860564\n"
          ],
          "name": "stdout"
        },
        {
          "output_type": "execute_result",
          "data": {
            "text/plain": [
              "array([0.66071429, 0.64285714, 0.55952381, 0.63095238, 0.625     ,\n",
              "       0.67857143, 0.66666667, 0.65868263, 0.65868263, 0.61077844])"
            ]
          },
          "metadata": {
            "tags": []
          },
          "execution_count": 36
        },
        {
          "output_type": "stream",
          "text": [
            "\n",
            "\n",
            " ___ pipe #4, k=8, mean:0.6326596806387225\n"
          ],
          "name": "stdout"
        },
        {
          "output_type": "execute_result",
          "data": {
            "text/plain": [
              "array([0.625     , 0.66666667, 0.55357143, 0.66071429, 0.61904762,\n",
              "       0.66666667, 0.66666667, 0.65868263, 0.60479042, 0.60479042])"
            ]
          },
          "metadata": {
            "tags": []
          },
          "execution_count": 36
        },
        {
          "output_type": "stream",
          "text": [
            "\n",
            "\n",
            " ___ pipe #4, k=9, mean:0.6320858283433133\n"
          ],
          "name": "stdout"
        },
        {
          "output_type": "execute_result",
          "data": {
            "text/plain": [
              "array([0.6547619 , 0.64285714, 0.57142857, 0.61904762, 0.63095238,\n",
              "       0.61309524, 0.68452381, 0.64670659, 0.61077844, 0.64670659])"
            ]
          },
          "metadata": {
            "tags": []
          },
          "execution_count": 36
        },
        {
          "output_type": "stream",
          "text": [
            "\n",
            "\n",
            " ___ pipe #4, k=10, mean:0.6290918163672654\n"
          ],
          "name": "stdout"
        },
        {
          "output_type": "execute_result",
          "data": {
            "text/plain": [
              "array([0.6547619 , 0.64880952, 0.56547619, 0.63690476, 0.60119048,\n",
              "       0.61904762, 0.69047619, 0.64071856, 0.5988024 , 0.63473054])"
            ]
          },
          "metadata": {
            "tags": []
          },
          "execution_count": 36
        },
        {
          "output_type": "stream",
          "text": [
            "\n",
            "\n",
            " ___ pipe #4, k=11, mean:0.6308632734530938\n"
          ],
          "name": "stdout"
        },
        {
          "output_type": "execute_result",
          "data": {
            "text/plain": [
              "array([0.67857143, 0.63690476, 0.57142857, 0.66071429, 0.625     ,\n",
              "       0.64285714, 0.64285714, 0.63473054, 0.61077844, 0.60479042])"
            ]
          },
          "metadata": {
            "tags": []
          },
          "execution_count": 36
        },
        {
          "output_type": "stream",
          "text": [
            "\n",
            "\n",
            " ___ pipe #4, k=12, mean:0.6195466210436271\n"
          ],
          "name": "stdout"
        },
        {
          "output_type": "execute_result",
          "data": {
            "text/plain": [
              "array([0.64285714, 0.61904762, 0.57142857, 0.63095238, 0.61309524,\n",
              "       0.625     , 0.6547619 , 0.61676647, 0.59281437, 0.62874251])"
            ]
          },
          "metadata": {
            "tags": []
          },
          "execution_count": 36
        },
        {
          "output_type": "stream",
          "text": [
            "\n",
            "\n",
            " ___ pipe #4, k=13, mean:0.6141823495865412\n"
          ],
          "name": "stdout"
        },
        {
          "output_type": "execute_result",
          "data": {
            "text/plain": [
              "array([0.64880952, 0.61309524, 0.55952381, 0.63690476, 0.60119048,\n",
              "       0.625     , 0.63095238, 0.65269461, 0.58083832, 0.59281437])"
            ]
          },
          "metadata": {
            "tags": []
          },
          "execution_count": 36
        },
        {
          "output_type": "stream",
          "text": [
            "\n",
            "\n",
            " ___ pipe #4, k=14, mean:0.6088109495295124\n"
          ],
          "name": "stdout"
        },
        {
          "output_type": "execute_result",
          "data": {
            "text/plain": [
              "array([0.67261905, 0.61904762, 0.53571429, 0.625     , 0.58928571,\n",
              "       0.63095238, 0.61309524, 0.62275449, 0.59281437, 0.58682635])"
            ]
          },
          "metadata": {
            "tags": []
          },
          "execution_count": 36
        },
        {
          "output_type": "stream",
          "text": [
            "\n",
            "\n",
            " ___ pipe #4, k=15, mean:0.6052395209580839\n"
          ],
          "name": "stdout"
        },
        {
          "output_type": "execute_result",
          "data": {
            "text/plain": [
              "array([0.66071429, 0.61309524, 0.54761905, 0.63095238, 0.56547619,\n",
              "       0.61904762, 0.61309524, 0.62275449, 0.5988024 , 0.58083832])"
            ]
          },
          "metadata": {
            "tags": []
          },
          "execution_count": 36
        },
        {
          "output_type": "stream",
          "text": [
            "\n",
            "\n",
            " ___ pipe #4, k=16, mean:0.5909110350727118\n"
          ],
          "name": "stdout"
        },
        {
          "output_type": "execute_result",
          "data": {
            "text/plain": [
              "array([0.63095238, 0.58928571, 0.55952381, 0.60119048, 0.55357143,\n",
              "       0.60714286, 0.63690476, 0.61077844, 0.55688623, 0.56287425])"
            ]
          },
          "metadata": {
            "tags": []
          },
          "execution_count": 36
        },
        {
          "output_type": "stream",
          "text": [
            "\n",
            "\n",
            " ___ pipe #4, k=17, mean:0.5873431708012546\n"
          ],
          "name": "stdout"
        },
        {
          "output_type": "execute_result",
          "data": {
            "text/plain": [
              "array([0.60119048, 0.60714286, 0.55952381, 0.60119048, 0.55357143,\n",
              "       0.58333333, 0.63095238, 0.5988024 , 0.58083832, 0.55688623])"
            ]
          },
          "metadata": {
            "tags": []
          },
          "execution_count": 36
        },
        {
          "output_type": "stream",
          "text": [
            "\n",
            "\n",
            " ___ pipe #4, k=18, mean:0.56525876817793\n"
          ],
          "name": "stdout"
        },
        {
          "output_type": "execute_result",
          "data": {
            "text/plain": [
              "array([0.60119048, 0.55952381, 0.53571429, 0.5952381 , 0.54166667,\n",
              "       0.55952381, 0.625     , 0.5748503 , 0.50898204, 0.5508982 ])"
            ]
          },
          "metadata": {
            "tags": []
          },
          "execution_count": 36
        },
        {
          "output_type": "stream",
          "text": [
            "\n",
            "\n",
            " ___ pipe #4, k=19, mean:0.5694361277445109\n"
          ],
          "name": "stdout"
        },
        {
          "output_type": "execute_result",
          "data": {
            "text/plain": [
              "array([0.58333333, 0.60714286, 0.53571429, 0.61309524, 0.5297619 ,\n",
              "       0.55952381, 0.61309524, 0.5988024 , 0.53293413, 0.52095808])"
            ]
          },
          "metadata": {
            "tags": []
          },
          "execution_count": 36
        },
        {
          "output_type": "stream",
          "text": [
            "\n",
            "\n",
            "Best score was > 0.701842743085258\n",
            "pipe #3, k=5, mean:0.701842743085258\n"
          ],
          "name": "stdout"
        }
      ]
    },
    {
      "cell_type": "markdown",
      "metadata": {
        "id": "Sgr7P3oc8n0W"
      },
      "source": [
        "# Stats on data being analysed"
      ]
    },
    {
      "cell_type": "markdown",
      "metadata": {
        "id": "JCyQK62SWfpr"
      },
      "source": [
        "Quick review of stats of the data we're about to use in the model search..."
      ]
    },
    {
      "cell_type": "code",
      "metadata": {
        "colab": {
          "base_uri": "https://localhost:8080/",
          "height": 589
        },
        "id": "B0AONZGHU02Y",
        "outputId": "2a36f67d-bfd4-49cc-8dc7-45d9915fb9bd"
      },
      "source": [
        "print('Observations/ X...')\n",
        "X.describe()\n",
        "print('\\n\\nTargets/ y...')\n",
        "pd.DataFrame(y).describe()\n",
        "print('\\n\\nDrummers: {}'.format(np.unique(y)))\n",
        "print('Beat positions: {}'.format(np.unique(X.bar_beat_number)))"
      ],
      "execution_count": null,
      "outputs": [
        {
          "output_type": "stream",
          "text": [
            "Observations/ X...\n"
          ],
          "name": "stdout"
        },
        {
          "output_type": "execute_result",
          "data": {
            "text/html": [
              "<div>\n",
              "<style scoped>\n",
              "    .dataframe tbody tr th:only-of-type {\n",
              "        vertical-align: middle;\n",
              "    }\n",
              "\n",
              "    .dataframe tbody tr th {\n",
              "        vertical-align: top;\n",
              "    }\n",
              "\n",
              "    .dataframe thead th {\n",
              "        text-align: right;\n",
              "    }\n",
              "</style>\n",
              "<table border=\"1\" class=\"dataframe\">\n",
              "  <thead>\n",
              "    <tr style=\"text-align: right;\">\n",
              "      <th></th>\n",
              "      <th>velocity</th>\n",
              "      <th>beat_offset</th>\n",
              "      <th>bar_beat_number</th>\n",
              "    </tr>\n",
              "  </thead>\n",
              "  <tbody>\n",
              "    <tr>\n",
              "      <th>count</th>\n",
              "      <td>1677.000000</td>\n",
              "      <td>1677.000000</td>\n",
              "      <td>1677.000000</td>\n",
              "    </tr>\n",
              "    <tr>\n",
              "      <th>mean</th>\n",
              "      <td>55.196780</td>\n",
              "      <td>-8.725104</td>\n",
              "      <td>8.616577</td>\n",
              "    </tr>\n",
              "    <tr>\n",
              "      <th>std</th>\n",
              "      <td>32.221221</td>\n",
              "      <td>12.490194</td>\n",
              "      <td>4.697944</td>\n",
              "    </tr>\n",
              "    <tr>\n",
              "      <th>min</th>\n",
              "      <td>5.000000</td>\n",
              "      <td>-60.000000</td>\n",
              "      <td>1.000000</td>\n",
              "    </tr>\n",
              "    <tr>\n",
              "      <th>25%</th>\n",
              "      <td>31.000000</td>\n",
              "      <td>-16.000000</td>\n",
              "      <td>4.000000</td>\n",
              "    </tr>\n",
              "    <tr>\n",
              "      <th>50%</th>\n",
              "      <td>44.000000</td>\n",
              "      <td>-9.000000</td>\n",
              "      <td>9.000000</td>\n",
              "    </tr>\n",
              "    <tr>\n",
              "      <th>75%</th>\n",
              "      <td>75.000000</td>\n",
              "      <td>-1.000000</td>\n",
              "      <td>13.000000</td>\n",
              "    </tr>\n",
              "    <tr>\n",
              "      <th>max</th>\n",
              "      <td>127.000000</td>\n",
              "      <td>59.000000</td>\n",
              "      <td>16.000000</td>\n",
              "    </tr>\n",
              "  </tbody>\n",
              "</table>\n",
              "</div>"
            ],
            "text/plain": [
              "          velocity  beat_offset  bar_beat_number\n",
              "count  1677.000000  1677.000000      1677.000000\n",
              "mean     55.196780    -8.725104         8.616577\n",
              "std      32.221221    12.490194         4.697944\n",
              "min       5.000000   -60.000000         1.000000\n",
              "25%      31.000000   -16.000000         4.000000\n",
              "50%      44.000000    -9.000000         9.000000\n",
              "75%      75.000000    -1.000000        13.000000\n",
              "max     127.000000    59.000000        16.000000"
            ]
          },
          "metadata": {
            "tags": []
          },
          "execution_count": 37
        },
        {
          "output_type": "stream",
          "text": [
            "\n",
            "\n",
            "Targets/ y...\n"
          ],
          "name": "stdout"
        },
        {
          "output_type": "execute_result",
          "data": {
            "text/html": [
              "<div>\n",
              "<style scoped>\n",
              "    .dataframe tbody tr th:only-of-type {\n",
              "        vertical-align: middle;\n",
              "    }\n",
              "\n",
              "    .dataframe tbody tr th {\n",
              "        vertical-align: top;\n",
              "    }\n",
              "\n",
              "    .dataframe thead th {\n",
              "        text-align: right;\n",
              "    }\n",
              "</style>\n",
              "<table border=\"1\" class=\"dataframe\">\n",
              "  <thead>\n",
              "    <tr style=\"text-align: right;\">\n",
              "      <th></th>\n",
              "      <th>0</th>\n",
              "    </tr>\n",
              "  </thead>\n",
              "  <tbody>\n",
              "    <tr>\n",
              "      <th>count</th>\n",
              "      <td>1677</td>\n",
              "    </tr>\n",
              "    <tr>\n",
              "      <th>unique</th>\n",
              "      <td>4</td>\n",
              "    </tr>\n",
              "    <tr>\n",
              "      <th>top</th>\n",
              "      <td>drummer1</td>\n",
              "    </tr>\n",
              "    <tr>\n",
              "      <th>freq</th>\n",
              "      <td>447</td>\n",
              "    </tr>\n",
              "  </tbody>\n",
              "</table>\n",
              "</div>"
            ],
            "text/plain": [
              "               0\n",
              "count       1677\n",
              "unique         4\n",
              "top     drummer1\n",
              "freq         447"
            ]
          },
          "metadata": {
            "tags": []
          },
          "execution_count": 37
        },
        {
          "output_type": "stream",
          "text": [
            "\n",
            "\n",
            "Drummers: ['drummer1' 'drummer5' 'drummer7' 'drummer8']\n",
            "Beat positions: [ 1  2  3  4  5  6  7  8  9 10 11 12 13 14 15 16]\n"
          ],
          "name": "stdout"
        }
      ]
    },
    {
      "cell_type": "markdown",
      "metadata": {
        "id": "SF1oMzRp4zd0"
      },
      "source": [
        "## Total notes per drummer in the data"
      ]
    },
    {
      "cell_type": "code",
      "metadata": {
        "colab": {
          "base_uri": "https://localhost:8080/"
        },
        "id": "-3z43MOi42wl",
        "outputId": "0063763a-4f53-4135-9a2b-32c3d547c9c9"
      },
      "source": [
        "print('DataFrame shape: {}\\n'.format(working_data.shape))\n",
        "print('Total notes per drummer...')\n",
        "working_data.groupby(['drummer_ID'])['drummer_ID'].count() #describe() #['count']\n"
      ],
      "execution_count": null,
      "outputs": [
        {
          "output_type": "stream",
          "text": [
            "DataFrame shape: (1677, 5)\n",
            "\n",
            "Total notes per drummer...\n"
          ],
          "name": "stdout"
        },
        {
          "output_type": "execute_result",
          "data": {
            "text/plain": [
              "drummer_ID\n",
              "drummer1    447\n",
              "drummer5    419\n",
              "drummer7    411\n",
              "drummer8    400\n",
              "Name: drummer_ID, dtype: int64"
            ]
          },
          "metadata": {
            "tags": []
          },
          "execution_count": 38
        }
      ]
    },
    {
      "cell_type": "markdown",
      "metadata": {
        "id": "1FojFjM6K1eY"
      },
      "source": [
        "## Total notes per drummer, per instrument/ hand"
      ]
    },
    {
      "cell_type": "code",
      "metadata": {
        "colab": {
          "base_uri": "https://localhost:8080/"
        },
        "id": "hp3ppPLVK4U_",
        "outputId": "9dad4da1-fe2b-42af-a972-92f80b8e1d93"
      },
      "source": [
        "print('Total notes per drummer, per instrument...')\n",
        "working_data.groupby(['drummer_ID', 'note'])['note'].count() #describe() #['count']\n",
        "#working_data.groupby(['drummer_ID', 'note'])['note'].describe() #['count']"
      ],
      "execution_count": null,
      "outputs": [
        {
          "output_type": "stream",
          "text": [
            "Total notes per drummer, per instrument...\n"
          ],
          "name": "stdout"
        },
        {
          "output_type": "execute_result",
          "data": {
            "text/plain": [
              "drummer_ID  note \n",
              "drummer1    hh       252\n",
              "            kick      80\n",
              "            snare    115\n",
              "drummer5    hh       255\n",
              "            kick     111\n",
              "            snare     53\n",
              "drummer7    hh       256\n",
              "            kick      95\n",
              "            snare     60\n",
              "drummer8    hh       255\n",
              "            kick      96\n",
              "            snare     49\n",
              "Name: note, dtype: int64"
            ]
          },
          "metadata": {
            "tags": []
          },
          "execution_count": 39
        }
      ]
    },
    {
      "cell_type": "markdown",
      "metadata": {
        "id": "-g07JDZAK_sm"
      },
      "source": [
        "## Summary metrics per drummer, per instrument/ hand"
      ]
    },
    {
      "cell_type": "code",
      "metadata": {
        "colab": {
          "base_uri": "https://localhost:8080/",
          "height": 483
        },
        "id": "CB4ZYFYw7u2b",
        "outputId": "83938e8d-4809-45c1-db5f-8c276edaea77"
      },
      "source": [
        "working_data.groupby(['drummer_ID', 'note'])[['velocity', 'beat_offset']].describe() #['count']\n"
      ],
      "execution_count": null,
      "outputs": [
        {
          "output_type": "execute_result",
          "data": {
            "text/html": [
              "<div>\n",
              "<style scoped>\n",
              "    .dataframe tbody tr th:only-of-type {\n",
              "        vertical-align: middle;\n",
              "    }\n",
              "\n",
              "    .dataframe tbody tr th {\n",
              "        vertical-align: top;\n",
              "    }\n",
              "\n",
              "    .dataframe thead tr th {\n",
              "        text-align: left;\n",
              "    }\n",
              "\n",
              "    .dataframe thead tr:last-of-type th {\n",
              "        text-align: right;\n",
              "    }\n",
              "</style>\n",
              "<table border=\"1\" class=\"dataframe\">\n",
              "  <thead>\n",
              "    <tr>\n",
              "      <th></th>\n",
              "      <th></th>\n",
              "      <th colspan=\"8\" halign=\"left\">velocity</th>\n",
              "      <th colspan=\"8\" halign=\"left\">beat_offset</th>\n",
              "    </tr>\n",
              "    <tr>\n",
              "      <th></th>\n",
              "      <th></th>\n",
              "      <th>count</th>\n",
              "      <th>mean</th>\n",
              "      <th>std</th>\n",
              "      <th>min</th>\n",
              "      <th>25%</th>\n",
              "      <th>50%</th>\n",
              "      <th>75%</th>\n",
              "      <th>max</th>\n",
              "      <th>count</th>\n",
              "      <th>mean</th>\n",
              "      <th>std</th>\n",
              "      <th>min</th>\n",
              "      <th>25%</th>\n",
              "      <th>50%</th>\n",
              "      <th>75%</th>\n",
              "      <th>max</th>\n",
              "    </tr>\n",
              "    <tr>\n",
              "      <th>drummer_ID</th>\n",
              "      <th>note</th>\n",
              "      <th></th>\n",
              "      <th></th>\n",
              "      <th></th>\n",
              "      <th></th>\n",
              "      <th></th>\n",
              "      <th></th>\n",
              "      <th></th>\n",
              "      <th></th>\n",
              "      <th></th>\n",
              "      <th></th>\n",
              "      <th></th>\n",
              "      <th></th>\n",
              "      <th></th>\n",
              "      <th></th>\n",
              "      <th></th>\n",
              "      <th></th>\n",
              "    </tr>\n",
              "  </thead>\n",
              "  <tbody>\n",
              "    <tr>\n",
              "      <th rowspan=\"3\" valign=\"top\">drummer1</th>\n",
              "      <th>hh</th>\n",
              "      <td>252.0</td>\n",
              "      <td>35.952381</td>\n",
              "      <td>9.225685</td>\n",
              "      <td>12.0</td>\n",
              "      <td>30.0</td>\n",
              "      <td>36.0</td>\n",
              "      <td>41.00</td>\n",
              "      <td>68.0</td>\n",
              "      <td>252.0</td>\n",
              "      <td>-12.753968</td>\n",
              "      <td>9.298234</td>\n",
              "      <td>-41.0</td>\n",
              "      <td>-19.0</td>\n",
              "      <td>-13.0</td>\n",
              "      <td>-7.0</td>\n",
              "      <td>13.0</td>\n",
              "    </tr>\n",
              "    <tr>\n",
              "      <th>kick</th>\n",
              "      <td>80.0</td>\n",
              "      <td>54.562500</td>\n",
              "      <td>7.287659</td>\n",
              "      <td>25.0</td>\n",
              "      <td>52.0</td>\n",
              "      <td>57.0</td>\n",
              "      <td>58.25</td>\n",
              "      <td>75.0</td>\n",
              "      <td>80.0</td>\n",
              "      <td>-14.125000</td>\n",
              "      <td>12.583267</td>\n",
              "      <td>-44.0</td>\n",
              "      <td>-24.0</td>\n",
              "      <td>-14.0</td>\n",
              "      <td>-6.0</td>\n",
              "      <td>15.0</td>\n",
              "    </tr>\n",
              "    <tr>\n",
              "      <th>snare</th>\n",
              "      <td>115.0</td>\n",
              "      <td>44.452174</td>\n",
              "      <td>32.639241</td>\n",
              "      <td>5.0</td>\n",
              "      <td>25.0</td>\n",
              "      <td>30.0</td>\n",
              "      <td>81.00</td>\n",
              "      <td>121.0</td>\n",
              "      <td>115.0</td>\n",
              "      <td>-13.104348</td>\n",
              "      <td>14.659512</td>\n",
              "      <td>-48.0</td>\n",
              "      <td>-21.0</td>\n",
              "      <td>-13.0</td>\n",
              "      <td>-6.0</td>\n",
              "      <td>58.0</td>\n",
              "    </tr>\n",
              "    <tr>\n",
              "      <th rowspan=\"3\" valign=\"top\">drummer5</th>\n",
              "      <th>hh</th>\n",
              "      <td>255.0</td>\n",
              "      <td>41.039216</td>\n",
              "      <td>18.766448</td>\n",
              "      <td>10.0</td>\n",
              "      <td>26.0</td>\n",
              "      <td>36.0</td>\n",
              "      <td>59.00</td>\n",
              "      <td>88.0</td>\n",
              "      <td>255.0</td>\n",
              "      <td>-13.815686</td>\n",
              "      <td>8.331786</td>\n",
              "      <td>-37.0</td>\n",
              "      <td>-19.0</td>\n",
              "      <td>-14.0</td>\n",
              "      <td>-9.0</td>\n",
              "      <td>15.0</td>\n",
              "    </tr>\n",
              "    <tr>\n",
              "      <th>kick</th>\n",
              "      <td>111.0</td>\n",
              "      <td>28.675676</td>\n",
              "      <td>6.965058</td>\n",
              "      <td>13.0</td>\n",
              "      <td>21.5</td>\n",
              "      <td>31.0</td>\n",
              "      <td>34.00</td>\n",
              "      <td>40.0</td>\n",
              "      <td>111.0</td>\n",
              "      <td>-9.333333</td>\n",
              "      <td>11.171663</td>\n",
              "      <td>-42.0</td>\n",
              "      <td>-16.5</td>\n",
              "      <td>-8.0</td>\n",
              "      <td>-2.0</td>\n",
              "      <td>14.0</td>\n",
              "    </tr>\n",
              "    <tr>\n",
              "      <th>snare</th>\n",
              "      <td>53.0</td>\n",
              "      <td>58.716981</td>\n",
              "      <td>40.465264</td>\n",
              "      <td>5.0</td>\n",
              "      <td>9.0</td>\n",
              "      <td>85.0</td>\n",
              "      <td>93.00</td>\n",
              "      <td>124.0</td>\n",
              "      <td>53.0</td>\n",
              "      <td>-11.358491</td>\n",
              "      <td>23.034334</td>\n",
              "      <td>-60.0</td>\n",
              "      <td>-26.0</td>\n",
              "      <td>-8.0</td>\n",
              "      <td>-2.0</td>\n",
              "      <td>55.0</td>\n",
              "    </tr>\n",
              "    <tr>\n",
              "      <th rowspan=\"3\" valign=\"top\">drummer7</th>\n",
              "      <th>hh</th>\n",
              "      <td>256.0</td>\n",
              "      <td>57.949219</td>\n",
              "      <td>35.628934</td>\n",
              "      <td>7.0</td>\n",
              "      <td>33.0</td>\n",
              "      <td>43.5</td>\n",
              "      <td>71.00</td>\n",
              "      <td>127.0</td>\n",
              "      <td>256.0</td>\n",
              "      <td>-3.324219</td>\n",
              "      <td>10.848347</td>\n",
              "      <td>-32.0</td>\n",
              "      <td>-11.0</td>\n",
              "      <td>-2.5</td>\n",
              "      <td>4.0</td>\n",
              "      <td>24.0</td>\n",
              "    </tr>\n",
              "    <tr>\n",
              "      <th>kick</th>\n",
              "      <td>95.0</td>\n",
              "      <td>35.400000</td>\n",
              "      <td>10.311530</td>\n",
              "      <td>11.0</td>\n",
              "      <td>25.0</td>\n",
              "      <td>39.0</td>\n",
              "      <td>44.00</td>\n",
              "      <td>52.0</td>\n",
              "      <td>95.0</td>\n",
              "      <td>-6.894737</td>\n",
              "      <td>14.802583</td>\n",
              "      <td>-44.0</td>\n",
              "      <td>-17.0</td>\n",
              "      <td>-6.0</td>\n",
              "      <td>2.5</td>\n",
              "      <td>45.0</td>\n",
              "    </tr>\n",
              "    <tr>\n",
              "      <th>snare</th>\n",
              "      <td>60.0</td>\n",
              "      <td>67.133333</td>\n",
              "      <td>32.167183</td>\n",
              "      <td>5.0</td>\n",
              "      <td>62.0</td>\n",
              "      <td>79.5</td>\n",
              "      <td>89.00</td>\n",
              "      <td>107.0</td>\n",
              "      <td>60.0</td>\n",
              "      <td>-5.150000</td>\n",
              "      <td>18.218844</td>\n",
              "      <td>-51.0</td>\n",
              "      <td>-12.0</td>\n",
              "      <td>-4.0</td>\n",
              "      <td>3.0</td>\n",
              "      <td>59.0</td>\n",
              "    </tr>\n",
              "    <tr>\n",
              "      <th rowspan=\"3\" valign=\"top\">drummer8</th>\n",
              "      <th>hh</th>\n",
              "      <td>255.0</td>\n",
              "      <td>93.662745</td>\n",
              "      <td>25.050736</td>\n",
              "      <td>40.0</td>\n",
              "      <td>74.0</td>\n",
              "      <td>93.0</td>\n",
              "      <td>119.50</td>\n",
              "      <td>127.0</td>\n",
              "      <td>255.0</td>\n",
              "      <td>-3.807843</td>\n",
              "      <td>9.536004</td>\n",
              "      <td>-26.0</td>\n",
              "      <td>-11.0</td>\n",
              "      <td>-4.0</td>\n",
              "      <td>2.5</td>\n",
              "      <td>25.0</td>\n",
              "    </tr>\n",
              "    <tr>\n",
              "      <th>kick</th>\n",
              "      <td>96.0</td>\n",
              "      <td>58.364583</td>\n",
              "      <td>13.657556</td>\n",
              "      <td>38.0</td>\n",
              "      <td>44.0</td>\n",
              "      <td>57.5</td>\n",
              "      <td>72.25</td>\n",
              "      <td>85.0</td>\n",
              "      <td>96.0</td>\n",
              "      <td>-5.677083</td>\n",
              "      <td>12.126087</td>\n",
              "      <td>-29.0</td>\n",
              "      <td>-14.0</td>\n",
              "      <td>-5.0</td>\n",
              "      <td>1.0</td>\n",
              "      <td>39.0</td>\n",
              "    </tr>\n",
              "    <tr>\n",
              "      <th>snare</th>\n",
              "      <td>49.0</td>\n",
              "      <td>113.367347</td>\n",
              "      <td>16.430021</td>\n",
              "      <td>16.0</td>\n",
              "      <td>110.0</td>\n",
              "      <td>114.0</td>\n",
              "      <td>122.00</td>\n",
              "      <td>127.0</td>\n",
              "      <td>49.0</td>\n",
              "      <td>-5.897959</td>\n",
              "      <td>10.104135</td>\n",
              "      <td>-31.0</td>\n",
              "      <td>-12.0</td>\n",
              "      <td>-8.0</td>\n",
              "      <td>-1.0</td>\n",
              "      <td>20.0</td>\n",
              "    </tr>\n",
              "  </tbody>\n",
              "</table>\n",
              "</div>"
            ],
            "text/plain": [
              "                 velocity                                                     \\\n",
              "                    count        mean        std   min    25%    50%     75%   \n",
              "drummer_ID note                                                                \n",
              "drummer1   hh       252.0   35.952381   9.225685  12.0   30.0   36.0   41.00   \n",
              "           kick      80.0   54.562500   7.287659  25.0   52.0   57.0   58.25   \n",
              "           snare    115.0   44.452174  32.639241   5.0   25.0   30.0   81.00   \n",
              "drummer5   hh       255.0   41.039216  18.766448  10.0   26.0   36.0   59.00   \n",
              "           kick     111.0   28.675676   6.965058  13.0   21.5   31.0   34.00   \n",
              "           snare     53.0   58.716981  40.465264   5.0    9.0   85.0   93.00   \n",
              "drummer7   hh       256.0   57.949219  35.628934   7.0   33.0   43.5   71.00   \n",
              "           kick      95.0   35.400000  10.311530  11.0   25.0   39.0   44.00   \n",
              "           snare     60.0   67.133333  32.167183   5.0   62.0   79.5   89.00   \n",
              "drummer8   hh       255.0   93.662745  25.050736  40.0   74.0   93.0  119.50   \n",
              "           kick      96.0   58.364583  13.657556  38.0   44.0   57.5   72.25   \n",
              "           snare     49.0  113.367347  16.430021  16.0  110.0  114.0  122.00   \n",
              "\n",
              "                        beat_offset                                          \\\n",
              "                    max       count       mean        std   min   25%   50%   \n",
              "drummer_ID note                                                               \n",
              "drummer1   hh      68.0       252.0 -12.753968   9.298234 -41.0 -19.0 -13.0   \n",
              "           kick    75.0        80.0 -14.125000  12.583267 -44.0 -24.0 -14.0   \n",
              "           snare  121.0       115.0 -13.104348  14.659512 -48.0 -21.0 -13.0   \n",
              "drummer5   hh      88.0       255.0 -13.815686   8.331786 -37.0 -19.0 -14.0   \n",
              "           kick    40.0       111.0  -9.333333  11.171663 -42.0 -16.5  -8.0   \n",
              "           snare  124.0        53.0 -11.358491  23.034334 -60.0 -26.0  -8.0   \n",
              "drummer7   hh     127.0       256.0  -3.324219  10.848347 -32.0 -11.0  -2.5   \n",
              "           kick    52.0        95.0  -6.894737  14.802583 -44.0 -17.0  -6.0   \n",
              "           snare  107.0        60.0  -5.150000  18.218844 -51.0 -12.0  -4.0   \n",
              "drummer8   hh     127.0       255.0  -3.807843   9.536004 -26.0 -11.0  -4.0   \n",
              "           kick    85.0        96.0  -5.677083  12.126087 -29.0 -14.0  -5.0   \n",
              "           snare  127.0        49.0  -5.897959  10.104135 -31.0 -12.0  -8.0   \n",
              "\n",
              "                             \n",
              "                  75%   max  \n",
              "drummer_ID note              \n",
              "drummer1   hh    -7.0  13.0  \n",
              "           kick  -6.0  15.0  \n",
              "           snare -6.0  58.0  \n",
              "drummer5   hh    -9.0  15.0  \n",
              "           kick  -2.0  14.0  \n",
              "           snare -2.0  55.0  \n",
              "drummer7   hh     4.0  24.0  \n",
              "           kick   2.5  45.0  \n",
              "           snare  3.0  59.0  \n",
              "drummer8   hh     2.5  25.0  \n",
              "           kick   1.0  39.0  \n",
              "           snare -1.0  20.0  "
            ]
          },
          "metadata": {
            "tags": []
          },
          "execution_count": 40
        }
      ]
    },
    {
      "cell_type": "markdown",
      "metadata": {
        "id": "KRSKSyDKNu-P"
      },
      "source": [
        "## Check correlations"
      ]
    },
    {
      "cell_type": "code",
      "metadata": {
        "id": "cE9TwJHdPZMa"
      },
      "source": [
        "def plotHeat(corr):\n",
        "  ax = sns.heatmap(\n",
        "    corr, \n",
        "    vmin=-1, vmax=1, center=0,\n",
        "    cmap=sns.diverging_palette(20, 220, n=200),\n",
        "    square=True\n",
        "    )\n",
        "  \n",
        "  ax.set_xticklabels(\n",
        "      ax.get_xticklabels(),\n",
        "      rotation=45,\n",
        "      horizontalalignment='right'\n",
        "  );"
      ],
      "execution_count": null,
      "outputs": []
    },
    {
      "cell_type": "markdown",
      "metadata": {
        "id": "z0TLylQZQdaz"
      },
      "source": [
        "### Working data, no pipe processing..."
      ]
    },
    {
      "cell_type": "code",
      "metadata": {
        "colab": {
          "base_uri": "https://localhost:8080/",
          "height": 418
        },
        "id": "l6_gz-y6QhfM",
        "outputId": "254df2ac-59d1-4f0d-b312-df6a0249d268"
      },
      "source": [
        "sns.set(rc={'figure.figsize':(6,6)})\n",
        "plotHeat(working_data.corr())"
      ],
      "execution_count": null,
      "outputs": [
        {
          "output_type": "display_data",
          "data": {
            "image/png": "[encoded data removed]",
            "text/plain": [
              "<Figure size 432x432 with 2 Axes>"
            ]
          },
          "metadata": {
            "tags": []
          }
        }
      ]
    },
    {
      "cell_type": "code",
      "metadata": {
        "colab": {
          "base_uri": "https://localhost:8080/",
          "height": 565
        },
        "id": "mOUorLHARBUr",
        "outputId": "d14c6736-2246-4809-a703-feb5b7b6b4d4"
      },
      "source": [
        "# Basic correlogram\n",
        "sns.set(rc={'figure.figsize':(8,8)})\n",
        "sns.pairplot(working_data)\n",
        "plt.show()\n"
      ],
      "execution_count": null,
      "outputs": [
        {
          "output_type": "execute_result",
          "data": {
            "text/plain": [
              "<seaborn.axisgrid.PairGrid at 0x7f506f75e898>"
            ]
          },
          "metadata": {
            "tags": []
          },
          "execution_count": 43
        },
        {
          "output_type": "display_data",
          "data": {
            "image/png": "[encoded data removed]",
            "text/plain": [
              "<Figure size 540x540 with 12 Axes>"
            ]
          },
          "metadata": {
            "tags": []
          }
        }
      ]
    },
    {
      "cell_type": "markdown",
      "metadata": {
        "id": "mFV_1jqZQql8"
      },
      "source": [
        "### Data after pipeline processing"
      ]
    },
    {
      "cell_type": "code",
      "metadata": {
        "colab": {
          "base_uri": "https://localhost:8080/",
          "height": 476
        },
        "id": "K8TQWdJsN0Nu",
        "outputId": "7a50eaf9-f888-4367-9d81-1a72658e7209"
      },
      "source": [
        "sns.set(rc={'figure.figsize':(8,8)})\n",
        "plotHeat(pd.DataFrame(output1).corr())\n"
      ],
      "execution_count": null,
      "outputs": [
        {
          "output_type": "display_data",
          "data": {
            "image/png": "[encoded data removed]",
            "text/plain": [
              "<Figure size 576x576 with 2 Axes>"
            ]
          },
          "metadata": {
            "tags": []
          }
        }
      ]
    },
    {
      "cell_type": "code",
      "metadata": {
        "colab": {
          "base_uri": "https://localhost:8080/",
          "height": 367
        },
        "id": "OPs4q2MtPypn",
        "outputId": "c9fdda63-7be1-43d1-bb7b-e226951bd266"
      },
      "source": [
        "sns.set(rc={'figure.figsize':(6,6)})\n",
        "plotHeat(pd.DataFrame(output2).corr())\n"
      ],
      "execution_count": null,
      "outputs": [
        {
          "output_type": "display_data",
          "data": {
            "image/png": "[encoded data removed]",
            "text/plain": [
              "<Figure size 432x432 with 2 Axes>"
            ]
          },
          "metadata": {
            "tags": []
          }
        }
      ]
    },
    {
      "cell_type": "code",
      "metadata": {
        "colab": {
          "base_uri": "https://localhost:8080/",
          "height": 367
        },
        "id": "6-FipHh_P0bn",
        "outputId": "adb04ed5-cdb4-4079-eef3-c33b80fd245e"
      },
      "source": [
        "sns.set(rc={'figure.figsize':(6,6)})\n",
        "plotHeat(pd.DataFrame(output3).corr())"
      ],
      "execution_count": null,
      "outputs": [
        {
          "output_type": "display_data",
          "data": {
            "image/png": "[encoded data removed]",
            "text/plain": [
              "<Figure size 432x432 with 2 Axes>"
            ]
          },
          "metadata": {
            "tags": []
          }
        }
      ]
    },
    {
      "cell_type": "code",
      "metadata": {
        "colab": {
          "base_uri": "https://localhost:8080/",
          "height": 476
        },
        "id": "UVqHkidWlsC6",
        "outputId": "fbaf8fd2-a120-420c-816f-af81b5eeadf4"
      },
      "source": [
        "sns.set(rc={'figure.figsize':(8,8)})\n",
        "plotHeat(pd.DataFrame(output4).corr())"
      ],
      "execution_count": null,
      "outputs": [
        {
          "output_type": "display_data",
          "data": {
            "image/png": "[encoded data removed]",
            "text/plain": [
              "<Figure size 576x576 with 2 Axes>"
            ]
          },
          "metadata": {
            "tags": []
          }
        }
      ]
    },
    {
      "cell_type": "markdown",
      "metadata": {
        "id": "S9CvScyEU4qr"
      },
      "source": [
        "# PCA\n",
        "Appears there are diff types/ modes of PCA depending on when it's applied, e.g. if it's done on raw data or transformed/ scaled data. More info here ...\n",
        "* https://stats.stackexchange.com/a/22126\n",
        "* https://sebastianraschka.com/Articles/2014_about_feature_scaling.html\n"
      ]
    },
    {
      "cell_type": "code",
      "metadata": {
        "id": "jjV_qjkDl2FP"
      },
      "source": [
        "from sklearn.decomposition import PCA\n",
        "\n",
        "pca = PCA(n_components=0.99, whiten=True)\n",
        "#pca = PCA(whiten=True)"
      ],
      "execution_count": null,
      "outputs": []
    },
    {
      "cell_type": "code",
      "metadata": {
        "id": "DJPViyInmaUe"
      },
      "source": [
        "def do_pca(data):\n",
        "  features_pca = pca.fit_transform(data)  \n",
        "  print('orig shape: {}, reduced pca:{}'.format(data.shape, features_pca.shape))\n",
        "  display(pd.DataFrame(features_pca).head())"
      ],
      "execution_count": null,
      "outputs": []
    },
    {
      "cell_type": "code",
      "metadata": {
        "colab": {
          "base_uri": "https://localhost:8080/",
          "height": 853
        },
        "id": "KAb023cznJZr",
        "outputId": "944d0f9b-4480-4f1f-e4df-0113776b0164"
      },
      "source": [
        "do_pca(output1)\n",
        "do_pca(output2)\n",
        "do_pca(output3)\n",
        "do_pca(output4)"
      ],
      "execution_count": null,
      "outputs": [
        {
          "output_type": "stream",
          "text": [
            "orig shape: (1677, 19), reduced pca:(1677, 18)\n"
          ],
          "name": "stdout"
        },
        {
          "output_type": "display_data",
          "data": {
            "text/html": [
              "<div>\n",
              "<style scoped>\n",
              "    .dataframe tbody tr th:only-of-type {\n",
              "        vertical-align: middle;\n",
              "    }\n",
              "\n",
              "    .dataframe tbody tr th {\n",
              "        vertical-align: top;\n",
              "    }\n",
              "\n",
              "    .dataframe thead th {\n",
              "        text-align: right;\n",
              "    }\n",
              "</style>\n",
              "<table border=\"1\" class=\"dataframe\">\n",
              "  <thead>\n",
              "    <tr style=\"text-align: right;\">\n",
              "      <th></th>\n",
              "      <th>0</th>\n",
              "      <th>1</th>\n",
              "      <th>2</th>\n",
              "      <th>3</th>\n",
              "      <th>4</th>\n",
              "      <th>5</th>\n",
              "      <th>6</th>\n",
              "      <th>7</th>\n",
              "      <th>8</th>\n",
              "      <th>9</th>\n",
              "      <th>10</th>\n",
              "      <th>11</th>\n",
              "      <th>12</th>\n",
              "      <th>13</th>\n",
              "      <th>14</th>\n",
              "      <th>15</th>\n",
              "      <th>16</th>\n",
              "      <th>17</th>\n",
              "    </tr>\n",
              "  </thead>\n",
              "  <tbody>\n",
              "    <tr>\n",
              "      <th>0</th>\n",
              "      <td>0.107859</td>\n",
              "      <td>-0.805430</td>\n",
              "      <td>0.300549</td>\n",
              "      <td>-0.024535</td>\n",
              "      <td>0.020466</td>\n",
              "      <td>0.001101</td>\n",
              "      <td>0.001071</td>\n",
              "      <td>-0.008779</td>\n",
              "      <td>0.140050</td>\n",
              "      <td>-0.085904</td>\n",
              "      <td>-0.059846</td>\n",
              "      <td>-0.021998</td>\n",
              "      <td>0.121525</td>\n",
              "      <td>0.141857</td>\n",
              "      <td>0.102653</td>\n",
              "      <td>-0.022569</td>\n",
              "      <td>0.682673</td>\n",
              "      <td>0.605638</td>\n",
              "    </tr>\n",
              "    <tr>\n",
              "      <th>1</th>\n",
              "      <td>-1.334242</td>\n",
              "      <td>0.809544</td>\n",
              "      <td>-0.498475</td>\n",
              "      <td>-0.010254</td>\n",
              "      <td>-0.099750</td>\n",
              "      <td>0.001749</td>\n",
              "      <td>-0.011069</td>\n",
              "      <td>0.000760</td>\n",
              "      <td>-0.402063</td>\n",
              "      <td>0.257860</td>\n",
              "      <td>1.024934</td>\n",
              "      <td>0.752277</td>\n",
              "      <td>0.736586</td>\n",
              "      <td>0.181167</td>\n",
              "      <td>-0.054419</td>\n",
              "      <td>0.549813</td>\n",
              "      <td>-0.408566</td>\n",
              "      <td>0.417683</td>\n",
              "    </tr>\n",
              "    <tr>\n",
              "      <th>2</th>\n",
              "      <td>1.048570</td>\n",
              "      <td>1.201419</td>\n",
              "      <td>1.481103</td>\n",
              "      <td>-0.264891</td>\n",
              "      <td>-0.061396</td>\n",
              "      <td>-0.049264</td>\n",
              "      <td>-0.003128</td>\n",
              "      <td>0.008285</td>\n",
              "      <td>1.383333</td>\n",
              "      <td>-0.273581</td>\n",
              "      <td>-0.611055</td>\n",
              "      <td>0.127371</td>\n",
              "      <td>0.174797</td>\n",
              "      <td>-0.025126</td>\n",
              "      <td>-0.196796</td>\n",
              "      <td>0.803008</td>\n",
              "      <td>0.112633</td>\n",
              "      <td>0.930050</td>\n",
              "    </tr>\n",
              "    <tr>\n",
              "      <th>3</th>\n",
              "      <td>0.144356</td>\n",
              "      <td>-1.061830</td>\n",
              "      <td>0.961405</td>\n",
              "      <td>-0.137762</td>\n",
              "      <td>0.010677</td>\n",
              "      <td>-0.015540</td>\n",
              "      <td>0.007110</td>\n",
              "      <td>-0.014536</td>\n",
              "      <td>1.115460</td>\n",
              "      <td>-2.315043</td>\n",
              "      <td>3.326739</td>\n",
              "      <td>-0.148950</td>\n",
              "      <td>-0.525472</td>\n",
              "      <td>-0.203374</td>\n",
              "      <td>0.102116</td>\n",
              "      <td>-0.682179</td>\n",
              "      <td>0.276790</td>\n",
              "      <td>0.703864</td>\n",
              "    </tr>\n",
              "    <tr>\n",
              "      <th>4</th>\n",
              "      <td>0.324447</td>\n",
              "      <td>-0.913752</td>\n",
              "      <td>0.197185</td>\n",
              "      <td>-0.027106</td>\n",
              "      <td>0.031639</td>\n",
              "      <td>-0.009473</td>\n",
              "      <td>0.009899</td>\n",
              "      <td>0.004702</td>\n",
              "      <td>0.743562</td>\n",
              "      <td>3.796433</td>\n",
              "      <td>1.546943</td>\n",
              "      <td>-0.174885</td>\n",
              "      <td>-0.316164</td>\n",
              "      <td>-0.050151</td>\n",
              "      <td>0.203127</td>\n",
              "      <td>-0.706125</td>\n",
              "      <td>-0.301728</td>\n",
              "      <td>1.050801</td>\n",
              "    </tr>\n",
              "  </tbody>\n",
              "</table>\n",
              "</div>"
            ],
            "text/plain": [
              "         0         1         2         3         4         5         6   \\\n",
              "0  0.107859 -0.805430  0.300549 -0.024535  0.020466  0.001101  0.001071   \n",
              "1 -1.334242  0.809544 -0.498475 -0.010254 -0.099750  0.001749 -0.011069   \n",
              "2  1.048570  1.201419  1.481103 -0.264891 -0.061396 -0.049264 -0.003128   \n",
              "3  0.144356 -1.061830  0.961405 -0.137762  0.010677 -0.015540  0.007110   \n",
              "4  0.324447 -0.913752  0.197185 -0.027106  0.031639 -0.009473  0.009899   \n",
              "\n",
              "         7         8         9         10        11        12        13  \\\n",
              "0 -0.008779  0.140050 -0.085904 -0.059846 -0.021998  0.121525  0.141857   \n",
              "1  0.000760 -0.402063  0.257860  1.024934  0.752277  0.736586  0.181167   \n",
              "2  0.008285  1.383333 -0.273581 -0.611055  0.127371  0.174797 -0.025126   \n",
              "3 -0.014536  1.115460 -2.315043  3.326739 -0.148950 -0.525472 -0.203374   \n",
              "4  0.004702  0.743562  3.796433  1.546943 -0.174885 -0.316164 -0.050151   \n",
              "\n",
              "         14        15        16        17  \n",
              "0  0.102653 -0.022569  0.682673  0.605638  \n",
              "1 -0.054419  0.549813 -0.408566  0.417683  \n",
              "2 -0.196796  0.803008  0.112633  0.930050  \n",
              "3  0.102116 -0.682179  0.276790  0.703864  \n",
              "4  0.203127 -0.706125 -0.301728  1.050801  "
            ]
          },
          "metadata": {
            "tags": []
          }
        },
        {
          "output_type": "stream",
          "text": [
            "orig shape: (1677, 5), reduced pca:(1677, 2)\n"
          ],
          "name": "stdout"
        },
        {
          "output_type": "display_data",
          "data": {
            "text/html": [
              "<div>\n",
              "<style scoped>\n",
              "    .dataframe tbody tr th:only-of-type {\n",
              "        vertical-align: middle;\n",
              "    }\n",
              "\n",
              "    .dataframe tbody tr th {\n",
              "        vertical-align: top;\n",
              "    }\n",
              "\n",
              "    .dataframe thead th {\n",
              "        text-align: right;\n",
              "    }\n",
              "</style>\n",
              "<table border=\"1\" class=\"dataframe\">\n",
              "  <thead>\n",
              "    <tr style=\"text-align: right;\">\n",
              "      <th></th>\n",
              "      <th>0</th>\n",
              "      <th>1</th>\n",
              "    </tr>\n",
              "  </thead>\n",
              "  <tbody>\n",
              "    <tr>\n",
              "      <th>0</th>\n",
              "      <td>1.621249</td>\n",
              "      <td>-0.087699</td>\n",
              "    </tr>\n",
              "    <tr>\n",
              "      <th>1</th>\n",
              "      <td>1.620572</td>\n",
              "      <td>1.674128</td>\n",
              "    </tr>\n",
              "    <tr>\n",
              "      <th>2</th>\n",
              "      <td>1.621315</td>\n",
              "      <td>-1.169400</td>\n",
              "    </tr>\n",
              "    <tr>\n",
              "      <th>3</th>\n",
              "      <td>1.408326</td>\n",
              "      <td>-0.049665</td>\n",
              "    </tr>\n",
              "    <tr>\n",
              "      <th>4</th>\n",
              "      <td>1.195674</td>\n",
              "      <td>-0.200146</td>\n",
              "    </tr>\n",
              "  </tbody>\n",
              "</table>\n",
              "</div>"
            ],
            "text/plain": [
              "          0         1\n",
              "0  1.621249 -0.087699\n",
              "1  1.620572  1.674128\n",
              "2  1.621315 -1.169400\n",
              "3  1.408326 -0.049665\n",
              "4  1.195674 -0.200146"
            ]
          },
          "metadata": {
            "tags": []
          }
        },
        {
          "output_type": "stream",
          "text": [
            "orig shape: (1677, 5), reduced pca:(1677, 2)\n"
          ],
          "name": "stdout"
        },
        {
          "output_type": "display_data",
          "data": {
            "text/html": [
              "<div>\n",
              "<style scoped>\n",
              "    .dataframe tbody tr th:only-of-type {\n",
              "        vertical-align: middle;\n",
              "    }\n",
              "\n",
              "    .dataframe tbody tr th {\n",
              "        vertical-align: top;\n",
              "    }\n",
              "\n",
              "    .dataframe thead th {\n",
              "        text-align: right;\n",
              "    }\n",
              "</style>\n",
              "<table border=\"1\" class=\"dataframe\">\n",
              "  <thead>\n",
              "    <tr style=\"text-align: right;\">\n",
              "      <th></th>\n",
              "      <th>0</th>\n",
              "      <th>1</th>\n",
              "    </tr>\n",
              "  </thead>\n",
              "  <tbody>\n",
              "    <tr>\n",
              "      <th>0</th>\n",
              "      <td>1.621249</td>\n",
              "      <td>-0.087699</td>\n",
              "    </tr>\n",
              "    <tr>\n",
              "      <th>1</th>\n",
              "      <td>1.620572</td>\n",
              "      <td>1.674128</td>\n",
              "    </tr>\n",
              "    <tr>\n",
              "      <th>2</th>\n",
              "      <td>1.621315</td>\n",
              "      <td>-1.169400</td>\n",
              "    </tr>\n",
              "    <tr>\n",
              "      <th>3</th>\n",
              "      <td>1.408326</td>\n",
              "      <td>-0.049665</td>\n",
              "    </tr>\n",
              "    <tr>\n",
              "      <th>4</th>\n",
              "      <td>1.195674</td>\n",
              "      <td>-0.200146</td>\n",
              "    </tr>\n",
              "  </tbody>\n",
              "</table>\n",
              "</div>"
            ],
            "text/plain": [
              "          0         1\n",
              "0  1.621249 -0.087699\n",
              "1  1.620572  1.674128\n",
              "2  1.621315 -1.169400\n",
              "3  1.408326 -0.049665\n",
              "4  1.195674 -0.200146"
            ]
          },
          "metadata": {
            "tags": []
          }
        },
        {
          "output_type": "stream",
          "text": [
            "orig shape: (1677, 19), reduced pca:(1677, 18)\n"
          ],
          "name": "stdout"
        },
        {
          "output_type": "display_data",
          "data": {
            "text/html": [
              "<div>\n",
              "<style scoped>\n",
              "    .dataframe tbody tr th:only-of-type {\n",
              "        vertical-align: middle;\n",
              "    }\n",
              "\n",
              "    .dataframe tbody tr th {\n",
              "        vertical-align: top;\n",
              "    }\n",
              "\n",
              "    .dataframe thead th {\n",
              "        text-align: right;\n",
              "    }\n",
              "</style>\n",
              "<table border=\"1\" class=\"dataframe\">\n",
              "  <thead>\n",
              "    <tr style=\"text-align: right;\">\n",
              "      <th></th>\n",
              "      <th>0</th>\n",
              "      <th>1</th>\n",
              "      <th>2</th>\n",
              "      <th>3</th>\n",
              "      <th>4</th>\n",
              "      <th>5</th>\n",
              "      <th>6</th>\n",
              "      <th>7</th>\n",
              "      <th>8</th>\n",
              "      <th>9</th>\n",
              "      <th>10</th>\n",
              "      <th>11</th>\n",
              "      <th>12</th>\n",
              "      <th>13</th>\n",
              "      <th>14</th>\n",
              "      <th>15</th>\n",
              "      <th>16</th>\n",
              "      <th>17</th>\n",
              "    </tr>\n",
              "  </thead>\n",
              "  <tbody>\n",
              "    <tr>\n",
              "      <th>0</th>\n",
              "      <td>0.051011</td>\n",
              "      <td>1.042790</td>\n",
              "      <td>0.504442</td>\n",
              "      <td>-0.684594</td>\n",
              "      <td>-0.004900</td>\n",
              "      <td>-0.047369</td>\n",
              "      <td>-0.000116</td>\n",
              "      <td>0.027303</td>\n",
              "      <td>0.001482</td>\n",
              "      <td>0.176993</td>\n",
              "      <td>-0.109467</td>\n",
              "      <td>-0.180882</td>\n",
              "      <td>-0.290081</td>\n",
              "      <td>0.013730</td>\n",
              "      <td>-0.079478</td>\n",
              "      <td>-0.039231</td>\n",
              "      <td>-0.022314</td>\n",
              "      <td>-0.499183</td>\n",
              "    </tr>\n",
              "    <tr>\n",
              "      <th>1</th>\n",
              "      <td>-0.477021</td>\n",
              "      <td>0.534517</td>\n",
              "      <td>-1.497926</td>\n",
              "      <td>0.677038</td>\n",
              "      <td>-0.062252</td>\n",
              "      <td>-0.185786</td>\n",
              "      <td>-0.001929</td>\n",
              "      <td>0.040450</td>\n",
              "      <td>0.029700</td>\n",
              "      <td>-0.117987</td>\n",
              "      <td>0.227995</td>\n",
              "      <td>0.721962</td>\n",
              "      <td>-1.117479</td>\n",
              "      <td>0.664452</td>\n",
              "      <td>0.197612</td>\n",
              "      <td>0.301992</td>\n",
              "      <td>0.480281</td>\n",
              "      <td>0.256147</td>\n",
              "    </tr>\n",
              "    <tr>\n",
              "      <th>2</th>\n",
              "      <td>0.332252</td>\n",
              "      <td>1.401410</td>\n",
              "      <td>1.757897</td>\n",
              "      <td>1.557703</td>\n",
              "      <td>-0.147442</td>\n",
              "      <td>-0.091618</td>\n",
              "      <td>-0.050061</td>\n",
              "      <td>0.001672</td>\n",
              "      <td>-0.014401</td>\n",
              "      <td>0.864862</td>\n",
              "      <td>-0.008983</td>\n",
              "      <td>-0.377575</td>\n",
              "      <td>0.346789</td>\n",
              "      <td>0.197839</td>\n",
              "      <td>0.301264</td>\n",
              "      <td>0.513801</td>\n",
              "      <td>0.704735</td>\n",
              "      <td>0.372709</td>\n",
              "    </tr>\n",
              "    <tr>\n",
              "      <th>3</th>\n",
              "      <td>0.359249</td>\n",
              "      <td>1.371517</td>\n",
              "      <td>0.841294</td>\n",
              "      <td>-0.810731</td>\n",
              "      <td>-0.049926</td>\n",
              "      <td>-0.052339</td>\n",
              "      <td>-0.015872</td>\n",
              "      <td>0.025122</td>\n",
              "      <td>-0.021403</td>\n",
              "      <td>0.691317</td>\n",
              "      <td>-1.506664</td>\n",
              "      <td>3.794022</td>\n",
              "      <td>0.180288</td>\n",
              "      <td>-0.170148</td>\n",
              "      <td>-0.125583</td>\n",
              "      <td>-0.271932</td>\n",
              "      <td>-0.625004</td>\n",
              "      <td>-0.239940</td>\n",
              "    </tr>\n",
              "    <tr>\n",
              "      <th>4</th>\n",
              "      <td>-0.675086</td>\n",
              "      <td>0.636865</td>\n",
              "      <td>0.431808</td>\n",
              "      <td>-0.849782</td>\n",
              "      <td>0.000227</td>\n",
              "      <td>-0.014354</td>\n",
              "      <td>-0.009592</td>\n",
              "      <td>0.019888</td>\n",
              "      <td>0.002307</td>\n",
              "      <td>0.358292</td>\n",
              "      <td>4.074553</td>\n",
              "      <td>0.905899</td>\n",
              "      <td>-0.475224</td>\n",
              "      <td>-0.057085</td>\n",
              "      <td>-0.163898</td>\n",
              "      <td>-0.200035</td>\n",
              "      <td>-0.670550</td>\n",
              "      <td>-0.299849</td>\n",
              "    </tr>\n",
              "  </tbody>\n",
              "</table>\n",
              "</div>"
            ],
            "text/plain": [
              "         0         1         2         3         4         5         6   \\\n",
              "0  0.051011  1.042790  0.504442 -0.684594 -0.004900 -0.047369 -0.000116   \n",
              "1 -0.477021  0.534517 -1.497926  0.677038 -0.062252 -0.185786 -0.001929   \n",
              "2  0.332252  1.401410  1.757897  1.557703 -0.147442 -0.091618 -0.050061   \n",
              "3  0.359249  1.371517  0.841294 -0.810731 -0.049926 -0.052339 -0.015872   \n",
              "4 -0.675086  0.636865  0.431808 -0.849782  0.000227 -0.014354 -0.009592   \n",
              "\n",
              "         7         8         9         10        11        12        13  \\\n",
              "0  0.027303  0.001482  0.176993 -0.109467 -0.180882 -0.290081  0.013730   \n",
              "1  0.040450  0.029700 -0.117987  0.227995  0.721962 -1.117479  0.664452   \n",
              "2  0.001672 -0.014401  0.864862 -0.008983 -0.377575  0.346789  0.197839   \n",
              "3  0.025122 -0.021403  0.691317 -1.506664  3.794022  0.180288 -0.170148   \n",
              "4  0.019888  0.002307  0.358292  4.074553  0.905899 -0.475224 -0.057085   \n",
              "\n",
              "         14        15        16        17  \n",
              "0 -0.079478 -0.039231 -0.022314 -0.499183  \n",
              "1  0.197612  0.301992  0.480281  0.256147  \n",
              "2  0.301264  0.513801  0.704735  0.372709  \n",
              "3 -0.125583 -0.271932 -0.625004 -0.239940  \n",
              "4 -0.163898 -0.200035 -0.670550 -0.299849  "
            ]
          },
          "metadata": {
            "tags": []
          }
        }
      ]
    },
    {
      "cell_type": "markdown",
      "metadata": {
        "id": "UjW5HVrYtnVq"
      },
      "source": [
        "# GridSearch"
      ]
    },
    {
      "cell_type": "markdown",
      "metadata": {
        "id": "UiMIcvv6tvyG"
      },
      "source": [
        "Good links!\n",
        "* https://www.featureranking.com/tutorials/machine-learning-tutorials/sk-part-3-cross-validation-and-hyperparameter-tuning/ \n",
        "* https://scikit-learn.org/stable/modules/generated/sklearn.model_selection.GridSearchCV.html\n",
        "* https://scikit-learn.org/stable/modules/compose.html \n",
        "* https://scikit-learn.org/stable/modules/generated/sklearn.neighbors.NearestNeighbors.html#sklearn.neighbors.NearestNeighbors"
      ]
    },
    {
      "cell_type": "markdown",
      "metadata": {
        "id": "3Cfy6qAN5q1s"
      },
      "source": [
        "NOTE: tested initially on this song filter ..\n",
        "* style_filter = \"3_soul-groove3\"   \n",
        "\n",
        ".. where was able to get 0.72 score!!"
      ]
    },
    {
      "cell_type": "code",
      "metadata": {
        "id": "Pykn52VJtqlN",
        "colab": {
          "base_uri": "https://localhost:8080/",
          "height": 35
        },
        "outputId": "ef8bc4f5-ef46-40ef-d11a-b92a6438dbdb"
      },
      "source": [
        "from  sklearn.model_selection import KFold\n",
        "from sklearn.model_selection import GridSearchCV\n",
        "sklearn.__version__  # should be 0.23.2\n"
      ],
      "execution_count": null,
      "outputs": [
        {
          "output_type": "execute_result",
          "data": {
            "application/vnd.google.colaboratory.intrinsic+json": {
              "type": "string"
            },
            "text/plain": [
              "'0.23.2'"
            ]
          },
          "metadata": {
            "tags": []
          },
          "execution_count": 51
        }
      ]
    },
    {
      "cell_type": "markdown",
      "metadata": {
        "id": "iULrI4BasET9"
      },
      "source": [
        "## Setup"
      ]
    },
    {
      "cell_type": "code",
      "metadata": {
        "id": "6TlQYO4Xr8jt"
      },
      "source": [
        "# note: 'grid_cts' is list of ColumnTransformers from earlier.\n",
        "# list of ColumnTransformers setup earlier ..\n",
        "#grid_cts = [ct_v0, ct_v1, ct_v2, ct_v3, ct_v4]\n",
        "grid_cts = [ct_v2, ct_v3]\n",
        "\n",
        "param_grid = dict(knn__n_neighbors=np.arange(1, 20), # knn neighbours\n",
        "    knn__p=[1, 2, 5], # knn distance functions to test\n",
        "    prep=grid_cts, # list of ColTransformers to search\n",
        "    pca=['passthrough', PCA(n_components=0.99, whiten=True)]\n",
        ")\n",
        "\n",
        "my_pipe = Pipeline(steps=[('prep',ct), ('pca', PCA()), ('knn', KNeighborsClassifier())])\n",
        "grid_search = GridSearchCV(my_pipe, param_grid=param_grid, cv=10, verbose=1)\n"
      ],
      "execution_count": null,
      "outputs": []
    },
    {
      "cell_type": "markdown",
      "metadata": {
        "id": "kOBleW0PsFpz"
      },
      "source": [
        "## Do the search grid thing ..."
      ]
    },
    {
      "cell_type": "code",
      "metadata": {
        "id": "l56csAzvfkhv",
        "colab": {
          "base_uri": "https://localhost:8080/",
          "height": 800
        },
        "outputId": "b741fa90-3502-4608-e696-4f3b938aa3f5"
      },
      "source": [
        "print('\\n>>>>FITTING ....\\n')\n",
        "grid_search.fit(X,y)\n",
        "\n",
        "# capture results in df\n",
        "results_df = pd.DataFrame.from_dict(grid_search.cv_results_)\n",
        "# display(results_df)\n",
        "\n",
        "print('\\n___BEST ESTIMATOR\\n')\n",
        "display(grid_search.best_estimator_)\n",
        "\n",
        "print('\\n___BEST SCORE\\n')\n",
        "display(grid_search.best_score_)\n",
        "\n",
        "print('\\n___BEST PARAMS\\n')\n",
        "display(grid_search.best_params_)\n",
        "\n",
        "\n"
      ],
      "execution_count": null,
      "outputs": [
        {
          "output_type": "stream",
          "text": [
            "\n",
            ">>>>FITTING ....\n",
            "\n",
            "Fitting 10 folds for each of 228 candidates, totalling 2280 fits\n"
          ],
          "name": "stdout"
        },
        {
          "output_type": "stream",
          "text": [
            "[Parallel(n_jobs=1)]: Using backend SequentialBackend with 1 concurrent workers.\n",
            "[Parallel(n_jobs=1)]: Done 2280 out of 2280 | elapsed:   51.5s finished\n"
          ],
          "name": "stderr"
        },
        {
          "output_type": "execute_result",
          "data": {
            "text/html": [
              "<style>div.sk-top-container {color: black;background-color: white;}div.sk-toggleable {background-color: white;}label.sk-toggleable__label {cursor: pointer;display: block;width: 100%;margin-bottom: 0;padding: 0.2em 0.3em;box-sizing: border-box;text-align: center;}div.sk-toggleable__content {max-height: 0;max-width: 0;overflow: hidden;text-align: left;background-color: #f0f8ff;}div.sk-toggleable__content pre {margin: 0.2em;color: black;border-radius: 0.25em;background-color: #f0f8ff;}input.sk-toggleable__control:checked~div.sk-toggleable__content {max-height: 200px;max-width: 100%;overflow: auto;}div.sk-estimator input.sk-toggleable__control:checked~label.sk-toggleable__label {background-color: #d4ebff;}div.sk-label input.sk-toggleable__control:checked~label.sk-toggleable__label {background-color: #d4ebff;}input.sk-hidden--visually {border: 0;clip: rect(1px 1px 1px 1px);clip: rect(1px, 1px, 1px, 1px);height: 1px;margin: -1px;overflow: hidden;padding: 0;position: absolute;width: 1px;}div.sk-estimator {font-family: monospace;background-color: #f0f8ff;margin: 0.25em 0.25em;border: 1px dotted black;border-radius: 0.25em;box-sizing: border-box;}div.sk-estimator:hover {background-color: #d4ebff;}div.sk-parallel-item::after {content: \"\";width: 100%;border-bottom: 1px solid gray;flex-grow: 1;}div.sk-label:hover label.sk-toggleable__label {background-color: #d4ebff;}div.sk-serial::before {content: \"\";position: absolute;border-left: 1px solid gray;box-sizing: border-box;top: 2em;bottom: 0;left: 50%;}div.sk-serial {display: flex;flex-direction: column;align-items: center;background-color: white;}div.sk-item {z-index: 1;}div.sk-parallel {display: flex;align-items: stretch;justify-content: center;background-color: white;}div.sk-parallel-item {display: flex;flex-direction: column;position: relative;background-color: white;}div.sk-parallel-item:first-child::after {align-self: flex-end;width: 50%;}div.sk-parallel-item:last-child::after {align-self: flex-start;width: 50%;}div.sk-parallel-item:only-child::after {width: 0;}div.sk-dashed-wrapped {border: 1px dashed gray;margin: 0.2em;box-sizing: border-box;padding-bottom: 0.1em;background-color: white;position: relative;}div.sk-label label {font-family: monospace;font-weight: bold;background-color: white;display: inline-block;line-height: 1.2em;}div.sk-label-container {position: relative;z-index: 2;text-align: center;}div.sk-container {display: inline-block;position: relative;}</style><div class=\"sk-top-container\"><div class=\"sk-container\"><div class=\"sk-item sk-dashed-wrapped\"><div class=\"sk-label-container\"><div class=\"sk-label sk-toggleable\"><input class=\"sk-toggleable__control sk-hidden--visually\" id=\"e7ec8ada-780a-4fc2-86ae-254aee215e61\" type=\"checkbox\" ><label class=\"sk-toggleable__label\" for=\"e7ec8ada-780a-4fc2-86ae-254aee215e61\">GridSearchCV</label><div class=\"sk-toggleable__content\"><pre>GridSearchCV(cv=10,\n",
              "             estimator=Pipeline(steps=[('prep',\n",
              "                                        ColumnTransformer(remainder='passthrough',\n",
              "                                                          sparse_threshold=0,\n",
              "                                                          transformers=[('t_scaler_std',\n",
              "                                                                         StandardScaler(),\n",
              "                                                                         [1,\n",
              "                                                                          2]),\n",
              "                                                                        ('t_one_hot',\n",
              "                                                                         OneHotEncoder(drop='first'),\n",
              "                                                                         [0,\n",
              "                                                                          3])])),\n",
              "                                       ('pca', PCA()),\n",
              "                                       ('knn', KNeighborsClassifier())]),\n",
              "             param_grid={'knn__n_neighbors': array([ 1,  2,  3,  4,  5,  6,  7,  8,  9, 10, 11, 12, 13, 14, 15, 16, 17,\n",
              "       18, 1...\n",
              "                                                    sparse_threshold=0,\n",
              "                                                    transformers=[('t_scaler_mm_1',\n",
              "                                                                   MinMaxScaler(),\n",
              "                                                                   [1]),\n",
              "                                                                  ('t_scaler_mm_2',\n",
              "                                                                   MinMaxScaler(feature_range=(-0.5,\n",
              "                                                                                               0.5)),\n",
              "                                                                   [2]),\n",
              "                                                                  ('t_one_hot',\n",
              "                                                                   OneHotEncoder(drop='first'),\n",
              "                                                                   [0])]),\n",
              "                                  ColumnTransformer(remainder='passthrough',\n",
              "                                                    sparse_threshold=0,\n",
              "                                                    transformers=[('t_scaler_mm_1',\n",
              "                                                                   MinMaxScaler(),\n",
              "                                                                   [1, 2]),\n",
              "                                                                  ('t_one_hot',\n",
              "                                                                   OneHotEncoder(drop='first'),\n",
              "                                                                   [0])])]},\n",
              "             verbose=1)</pre></div></div></div><div class=\"sk-parallel\"><div class=\"sk-parallel-item\"><div class=\"sk-item\"><div class=\"sk-serial\"><div class=\"sk-item\"><div class=\"sk-serial\"><div class=\"sk-item sk-dashed-wrapped\"><div class=\"sk-label-container\"><div class=\"sk-label sk-toggleable\"><input class=\"sk-toggleable__control sk-hidden--visually\" id=\"2af30392-f265-4f38-9e4a-e885ed037650\" type=\"checkbox\" ><label class=\"sk-toggleable__label\" for=\"2af30392-f265-4f38-9e4a-e885ed037650\">prep: ColumnTransformer</label><div class=\"sk-toggleable__content\"><pre>ColumnTransformer(remainder='passthrough', sparse_threshold=0,\n",
              "                  transformers=[('t_scaler_std', StandardScaler(), [1, 2]),\n",
              "                                ('t_one_hot', OneHotEncoder(drop='first'),\n",
              "                                 [0, 3])])</pre></div></div></div><div class=\"sk-parallel\"><div class=\"sk-parallel-item\"><div class=\"sk-item\"><div class=\"sk-label-container\"><div class=\"sk-label sk-toggleable\"><input class=\"sk-toggleable__control sk-hidden--visually\" id=\"275e88ac-ac55-4a90-a948-85ddb862622d\" type=\"checkbox\" ><label class=\"sk-toggleable__label\" for=\"275e88ac-ac55-4a90-a948-85ddb862622d\">t_scaler_std</label><div class=\"sk-toggleable__content\"><pre>[1, 2]</pre></div></div></div><div class=\"sk-serial\"><div class=\"sk-item\"><div class=\"sk-estimator sk-toggleable\"><input class=\"sk-toggleable__control sk-hidden--visually\" id=\"a5478e49-4f94-4fc5-8079-719951d6cfaf\" type=\"checkbox\" ><label class=\"sk-toggleable__label\" for=\"a5478e49-4f94-4fc5-8079-719951d6cfaf\">StandardScaler</label><div class=\"sk-toggleable__content\"><pre>StandardScaler()</pre></div></div></div></div></div></div><div class=\"sk-parallel-item\"><div class=\"sk-item\"><div class=\"sk-label-container\"><div class=\"sk-label sk-toggleable\"><input class=\"sk-toggleable__control sk-hidden--visually\" id=\"e6b83d09-b0a9-40e9-9649-d1f85c323efb\" type=\"checkbox\" ><label class=\"sk-toggleable__label\" for=\"e6b83d09-b0a9-40e9-9649-d1f85c323efb\">t_one_hot</label><div class=\"sk-toggleable__content\"><pre>[0, 3]</pre></div></div></div><div class=\"sk-serial\"><div class=\"sk-item\"><div class=\"sk-estimator sk-toggleable\"><input class=\"sk-toggleable__control sk-hidden--visually\" id=\"cdcda571-2df3-4430-b9f1-41853df1cb3c\" type=\"checkbox\" ><label class=\"sk-toggleable__label\" for=\"cdcda571-2df3-4430-b9f1-41853df1cb3c\">OneHotEncoder</label><div class=\"sk-toggleable__content\"><pre>OneHotEncoder(drop='first')</pre></div></div></div></div></div></div></div></div><div class=\"sk-item\"><div class=\"sk-estimator sk-toggleable\"><input class=\"sk-toggleable__control sk-hidden--visually\" id=\"0f00c0bb-85ad-4a1b-9e4d-d0279c4e3c3f\" type=\"checkbox\" ><label class=\"sk-toggleable__label\" for=\"0f00c0bb-85ad-4a1b-9e4d-d0279c4e3c3f\">PCA</label><div class=\"sk-toggleable__content\"><pre>PCA()</pre></div></div></div><div class=\"sk-item\"><div class=\"sk-estimator sk-toggleable\"><input class=\"sk-toggleable__control sk-hidden--visually\" id=\"852f3bc8-4e78-434a-b9e4-bcebc5d10eed\" type=\"checkbox\" ><label class=\"sk-toggleable__label\" for=\"852f3bc8-4e78-434a-b9e4-bcebc5d10eed\">KNeighborsClassifier</label><div class=\"sk-toggleable__content\"><pre>KNeighborsClassifier()</pre></div></div></div></div></div></div></div></div></div></div></div></div>"
            ],
            "text/plain": [
              "GridSearchCV(cv=10,\n",
              "             estimator=Pipeline(steps=[('prep',\n",
              "                                        ColumnTransformer(remainder='passthrough',\n",
              "                                                          sparse_threshold=0,\n",
              "                                                          transformers=[('t_scaler_std',\n",
              "                                                                         StandardScaler(),\n",
              "                                                                         [1,\n",
              "                                                                          2]),\n",
              "                                                                        ('t_one_hot',\n",
              "                                                                         OneHotEncoder(drop='first'),\n",
              "                                                                         [0,\n",
              "                                                                          3])])),\n",
              "                                       ('pca', PCA()),\n",
              "                                       ('knn', KNeighborsClassifier())]),\n",
              "             param_grid={'knn__n_neighbors': array([ 1,  2,  3,  4,  5,  6,  7,  8,  9, 10, 11, 12, 13, 14, 15, 16, 17,\n",
              "       18, 1...\n",
              "                                                    sparse_threshold=0,\n",
              "                                                    transformers=[('t_scaler_mm_1',\n",
              "                                                                   MinMaxScaler(),\n",
              "                                                                   [1]),\n",
              "                                                                  ('t_scaler_mm_2',\n",
              "                                                                   MinMaxScaler(feature_range=(-0.5,\n",
              "                                                                                               0.5)),\n",
              "                                                                   [2]),\n",
              "                                                                  ('t_one_hot',\n",
              "                                                                   OneHotEncoder(drop='first'),\n",
              "                                                                   [0])]),\n",
              "                                  ColumnTransformer(remainder='passthrough',\n",
              "                                                    sparse_threshold=0,\n",
              "                                                    transformers=[('t_scaler_mm_1',\n",
              "                                                                   MinMaxScaler(),\n",
              "                                                                   [1, 2]),\n",
              "                                                                  ('t_one_hot',\n",
              "                                                                   OneHotEncoder(drop='first'),\n",
              "                                                                   [0])])]},\n",
              "             verbose=1)"
            ]
          },
          "metadata": {
            "tags": []
          },
          "execution_count": 66
        },
        {
          "output_type": "stream",
          "text": [
            "\n",
            "___BEST ESTIMATOR\n",
            "\n"
          ],
          "name": "stdout"
        },
        {
          "output_type": "display_data",
          "data": {
            "text/html": [
              "<style>div.sk-top-container {color: black;background-color: white;}div.sk-toggleable {background-color: white;}label.sk-toggleable__label {cursor: pointer;display: block;width: 100%;margin-bottom: 0;padding: 0.2em 0.3em;box-sizing: border-box;text-align: center;}div.sk-toggleable__content {max-height: 0;max-width: 0;overflow: hidden;text-align: left;background-color: #f0f8ff;}div.sk-toggleable__content pre {margin: 0.2em;color: black;border-radius: 0.25em;background-color: #f0f8ff;}input.sk-toggleable__control:checked~div.sk-toggleable__content {max-height: 200px;max-width: 100%;overflow: auto;}div.sk-estimator input.sk-toggleable__control:checked~label.sk-toggleable__label {background-color: #d4ebff;}div.sk-label input.sk-toggleable__control:checked~label.sk-toggleable__label {background-color: #d4ebff;}input.sk-hidden--visually {border: 0;clip: rect(1px 1px 1px 1px);clip: rect(1px, 1px, 1px, 1px);height: 1px;margin: -1px;overflow: hidden;padding: 0;position: absolute;width: 1px;}div.sk-estimator {font-family: monospace;background-color: #f0f8ff;margin: 0.25em 0.25em;border: 1px dotted black;border-radius: 0.25em;box-sizing: border-box;}div.sk-estimator:hover {background-color: #d4ebff;}div.sk-parallel-item::after {content: \"\";width: 100%;border-bottom: 1px solid gray;flex-grow: 1;}div.sk-label:hover label.sk-toggleable__label {background-color: #d4ebff;}div.sk-serial::before {content: \"\";position: absolute;border-left: 1px solid gray;box-sizing: border-box;top: 2em;bottom: 0;left: 50%;}div.sk-serial {display: flex;flex-direction: column;align-items: center;background-color: white;}div.sk-item {z-index: 1;}div.sk-parallel {display: flex;align-items: stretch;justify-content: center;background-color: white;}div.sk-parallel-item {display: flex;flex-direction: column;position: relative;background-color: white;}div.sk-parallel-item:first-child::after {align-self: flex-end;width: 50%;}div.sk-parallel-item:last-child::after {align-self: flex-start;width: 50%;}div.sk-parallel-item:only-child::after {width: 0;}div.sk-dashed-wrapped {border: 1px dashed gray;margin: 0.2em;box-sizing: border-box;padding-bottom: 0.1em;background-color: white;position: relative;}div.sk-label label {font-family: monospace;font-weight: bold;background-color: white;display: inline-block;line-height: 1.2em;}div.sk-label-container {position: relative;z-index: 2;text-align: center;}div.sk-container {display: inline-block;position: relative;}</style><div class=\"sk-top-container\"><div class=\"sk-container\"><div class=\"sk-item sk-dashed-wrapped\"><div class=\"sk-label-container\"><div class=\"sk-label sk-toggleable\"><input class=\"sk-toggleable__control sk-hidden--visually\" id=\"e4a5bde4-61df-4d21-860e-eea296f0a57d\" type=\"checkbox\" ><label class=\"sk-toggleable__label\" for=\"e4a5bde4-61df-4d21-860e-eea296f0a57d\">Pipeline</label><div class=\"sk-toggleable__content\"><pre>Pipeline(steps=[('prep',\n",
              "                 ColumnTransformer(remainder='passthrough', sparse_threshold=0,\n",
              "                                   transformers=[('t_scaler_mm_1',\n",
              "                                                  MinMaxScaler(), [1]),\n",
              "                                                 ('t_scaler_mm_2',\n",
              "                                                  MinMaxScaler(feature_range=(-0.5,\n",
              "                                                                              0.5)),\n",
              "                                                  [2]),\n",
              "                                                 ('t_one_hot',\n",
              "                                                  OneHotEncoder(drop='first'),\n",
              "                                                  [0])])),\n",
              "                ('pca', PCA(n_components=0.99, whiten=True)),\n",
              "                ('knn', KNeighborsClassifier(n_neighbors=11, p=5))])</pre></div></div></div><div class=\"sk-serial\"><div class=\"sk-item sk-dashed-wrapped\"><div class=\"sk-label-container\"><div class=\"sk-label sk-toggleable\"><input class=\"sk-toggleable__control sk-hidden--visually\" id=\"ee50ce62-c9b2-4ce6-b3bf-a34a563e386d\" type=\"checkbox\" ><label class=\"sk-toggleable__label\" for=\"ee50ce62-c9b2-4ce6-b3bf-a34a563e386d\">prep: ColumnTransformer</label><div class=\"sk-toggleable__content\"><pre>ColumnTransformer(remainder='passthrough', sparse_threshold=0,\n",
              "                  transformers=[('t_scaler_mm_1', MinMaxScaler(), [1]),\n",
              "                                ('t_scaler_mm_2',\n",
              "                                 MinMaxScaler(feature_range=(-0.5, 0.5)), [2]),\n",
              "                                ('t_one_hot', OneHotEncoder(drop='first'),\n",
              "                                 [0])])</pre></div></div></div><div class=\"sk-parallel\"><div class=\"sk-parallel-item\"><div class=\"sk-item\"><div class=\"sk-label-container\"><div class=\"sk-label sk-toggleable\"><input class=\"sk-toggleable__control sk-hidden--visually\" id=\"b8a45f5f-4d0c-4d6c-92f1-c62954447db1\" type=\"checkbox\" ><label class=\"sk-toggleable__label\" for=\"b8a45f5f-4d0c-4d6c-92f1-c62954447db1\">t_scaler_mm_1</label><div class=\"sk-toggleable__content\"><pre>[1]</pre></div></div></div><div class=\"sk-serial\"><div class=\"sk-item\"><div class=\"sk-estimator sk-toggleable\"><input class=\"sk-toggleable__control sk-hidden--visually\" id=\"1996bc43-44f8-44e6-b076-5dd22cba18ba\" type=\"checkbox\" ><label class=\"sk-toggleable__label\" for=\"1996bc43-44f8-44e6-b076-5dd22cba18ba\">MinMaxScaler</label><div class=\"sk-toggleable__content\"><pre>MinMaxScaler()</pre></div></div></div></div></div></div><div class=\"sk-parallel-item\"><div class=\"sk-item\"><div class=\"sk-label-container\"><div class=\"sk-label sk-toggleable\"><input class=\"sk-toggleable__control sk-hidden--visually\" id=\"506a953c-2bee-4939-b2d6-73ceed01a315\" type=\"checkbox\" ><label class=\"sk-toggleable__label\" for=\"506a953c-2bee-4939-b2d6-73ceed01a315\">t_scaler_mm_2</label><div class=\"sk-toggleable__content\"><pre>[2]</pre></div></div></div><div class=\"sk-serial\"><div class=\"sk-item\"><div class=\"sk-estimator sk-toggleable\"><input class=\"sk-toggleable__control sk-hidden--visually\" id=\"6721738a-ed50-4900-ad1d-2a997a95f2ab\" type=\"checkbox\" ><label class=\"sk-toggleable__label\" for=\"6721738a-ed50-4900-ad1d-2a997a95f2ab\">MinMaxScaler</label><div class=\"sk-toggleable__content\"><pre>MinMaxScaler(feature_range=(-0.5, 0.5))</pre></div></div></div></div></div></div><div class=\"sk-parallel-item\"><div class=\"sk-item\"><div class=\"sk-label-container\"><div class=\"sk-label sk-toggleable\"><input class=\"sk-toggleable__control sk-hidden--visually\" id=\"3e81445e-3b95-4d79-b94a-4405983ef1ff\" type=\"checkbox\" ><label class=\"sk-toggleable__label\" for=\"3e81445e-3b95-4d79-b94a-4405983ef1ff\">t_one_hot</label><div class=\"sk-toggleable__content\"><pre>[0]</pre></div></div></div><div class=\"sk-serial\"><div class=\"sk-item\"><div class=\"sk-estimator sk-toggleable\"><input class=\"sk-toggleable__control sk-hidden--visually\" id=\"22188b3d-56f2-4aed-a932-82987f2e4121\" type=\"checkbox\" ><label class=\"sk-toggleable__label\" for=\"22188b3d-56f2-4aed-a932-82987f2e4121\">OneHotEncoder</label><div class=\"sk-toggleable__content\"><pre>OneHotEncoder(drop='first')</pre></div></div></div></div></div></div></div></div><div class=\"sk-item\"><div class=\"sk-estimator sk-toggleable\"><input class=\"sk-toggleable__control sk-hidden--visually\" id=\"6171bfaf-2cf2-443c-8a40-e0e58964868e\" type=\"checkbox\" ><label class=\"sk-toggleable__label\" for=\"6171bfaf-2cf2-443c-8a40-e0e58964868e\">PCA</label><div class=\"sk-toggleable__content\"><pre>PCA(n_components=0.99, whiten=True)</pre></div></div></div><div class=\"sk-item\"><div class=\"sk-estimator sk-toggleable\"><input class=\"sk-toggleable__control sk-hidden--visually\" id=\"b7b64167-cf07-4195-a6b8-195623b37c0c\" type=\"checkbox\" ><label class=\"sk-toggleable__label\" for=\"b7b64167-cf07-4195-a6b8-195623b37c0c\">KNeighborsClassifier</label><div class=\"sk-toggleable__content\"><pre>KNeighborsClassifier(n_neighbors=11, p=5)</pre></div></div></div></div></div></div></div>"
            ],
            "text/plain": [
              "Pipeline(steps=[('prep',\n",
              "                 ColumnTransformer(remainder='passthrough', sparse_threshold=0,\n",
              "                                   transformers=[('t_scaler_mm_1',\n",
              "                                                  MinMaxScaler(), [1]),\n",
              "                                                 ('t_scaler_mm_2',\n",
              "                                                  MinMaxScaler(feature_range=(-0.5,\n",
              "                                                                              0.5)),\n",
              "                                                  [2]),\n",
              "                                                 ('t_one_hot',\n",
              "                                                  OneHotEncoder(drop='first'),\n",
              "                                                  [0])])),\n",
              "                ('pca', PCA(n_components=0.99, whiten=True)),\n",
              "                ('knn', KNeighborsClassifier(n_neighbors=11, p=5))])"
            ]
          },
          "metadata": {
            "tags": []
          }
        },
        {
          "output_type": "stream",
          "text": [
            "\n",
            "___BEST SCORE\n",
            "\n"
          ],
          "name": "stdout"
        },
        {
          "output_type": "display_data",
          "data": {
            "text/plain": [
              "0.5631285757302018"
            ]
          },
          "metadata": {
            "tags": []
          }
        },
        {
          "output_type": "stream",
          "text": [
            "\n",
            "___BEST PARAMS\n",
            "\n"
          ],
          "name": "stdout"
        },
        {
          "output_type": "display_data",
          "data": {
            "text/plain": [
              "{'knn__n_neighbors': 11,\n",
              " 'knn__p': 5,\n",
              " 'pca': PCA(n_components=0.99, whiten=True),\n",
              " 'prep': ColumnTransformer(remainder='passthrough', sparse_threshold=0,\n",
              "                   transformers=[('t_scaler_mm_1', MinMaxScaler(), [1]),\n",
              "                                 ('t_scaler_mm_2',\n",
              "                                  MinMaxScaler(feature_range=(-0.5, 0.5)), [2]),\n",
              "                                 ('t_one_hot', OneHotEncoder(drop='first'),\n",
              "                                  [0])])}"
            ]
          },
          "metadata": {
            "tags": []
          }
        }
      ]
    },
    {
      "cell_type": "markdown",
      "metadata": {
        "id": "XZ6c0-yv8_j3"
      },
      "source": [
        "## Chart results "
      ]
    },
    {
      "cell_type": "code",
      "metadata": {
        "id": "gTuxebfWobca",
        "colab": {
          "base_uri": "https://localhost:8080/",
          "height": 357
        },
        "outputId": "63a73467-b853-4c1d-bbdc-d684726fdfd2"
      },
      "source": [
        "grid_results = pd.DataFrame(grid_search.cv_results_['params'])\n",
        "grid_results['test_score'] = grid_search.cv_results_['mean_test_score']\n",
        "grid_results['metric'] = grid_results['knn__p'].replace([1,2,5], [\"Manhattan\", \"Euclidean\", \"Minkowski\"])\n",
        "grid_results.shape\n",
        "grid_results.head()"
      ],
      "execution_count": null,
      "outputs": [
        {
          "output_type": "execute_result",
          "data": {
            "text/plain": [
              "(228, 6)"
            ]
          },
          "metadata": {
            "tags": []
          },
          "execution_count": 67
        },
        {
          "output_type": "execute_result",
          "data": {
            "text/html": [
              "<div>\n",
              "<style scoped>\n",
              "    .dataframe tbody tr th:only-of-type {\n",
              "        vertical-align: middle;\n",
              "    }\n",
              "\n",
              "    .dataframe tbody tr th {\n",
              "        vertical-align: top;\n",
              "    }\n",
              "\n",
              "    .dataframe thead th {\n",
              "        text-align: right;\n",
              "    }\n",
              "</style>\n",
              "<table border=\"1\" class=\"dataframe\">\n",
              "  <thead>\n",
              "    <tr style=\"text-align: right;\">\n",
              "      <th></th>\n",
              "      <th>knn__n_neighbors</th>\n",
              "      <th>knn__p</th>\n",
              "      <th>pca</th>\n",
              "      <th>prep</th>\n",
              "      <th>test_score</th>\n",
              "      <th>metric</th>\n",
              "    </tr>\n",
              "  </thead>\n",
              "  <tbody>\n",
              "    <tr>\n",
              "      <th>0</th>\n",
              "      <td>1</td>\n",
              "      <td>1</td>\n",
              "      <td>passthrough</td>\n",
              "      <td>ColumnTransformer(remainder='passthrough', sparse_threshold=0,\\n                  transformers=[('t_scaler_mm_1', MinMaxScaler(), [1]),\\n                                ('t_scaler_mm_2',\\n                                 MinMaxScaler(feature_range=(-0.5, 0.5)), [2]),\\n                                ('t_one_hot', OneHotEncoder(drop='first'),\\n                                 [0])])</td>\n",
              "      <td>0.509952</td>\n",
              "      <td>Manhattan</td>\n",
              "    </tr>\n",
              "    <tr>\n",
              "      <th>1</th>\n",
              "      <td>1</td>\n",
              "      <td>1</td>\n",
              "      <td>passthrough</td>\n",
              "      <td>ColumnTransformer(remainder='passthrough', sparse_threshold=0,\\n                  transformers=[('t_scaler_mm_1', MinMaxScaler(), [1, 2]),\\n                                ('t_one_hot', OneHotEncoder(drop='first'),\\n                                 [0])])</td>\n",
              "      <td>0.508717</td>\n",
              "      <td>Manhattan</td>\n",
              "    </tr>\n",
              "    <tr>\n",
              "      <th>2</th>\n",
              "      <td>1</td>\n",
              "      <td>1</td>\n",
              "      <td>PCA(n_components=0.99, whiten=True)</td>\n",
              "      <td>ColumnTransformer(remainder='passthrough', sparse_threshold=0,\\n                  transformers=[('t_scaler_mm_1', MinMaxScaler(), [1]),\\n                                ('t_scaler_mm_2',\\n                                 MinMaxScaler(feature_range=(-0.5, 0.5)), [2]),\\n                                ('t_one_hot', OneHotEncoder(drop='first'),\\n                                 [0])])</td>\n",
              "      <td>0.487865</td>\n",
              "      <td>Manhattan</td>\n",
              "    </tr>\n",
              "    <tr>\n",
              "      <th>3</th>\n",
              "      <td>1</td>\n",
              "      <td>1</td>\n",
              "      <td>PCA(n_components=0.99, whiten=True)</td>\n",
              "      <td>ColumnTransformer(remainder='passthrough', sparse_threshold=0,\\n                  transformers=[('t_scaler_mm_1', MinMaxScaler(), [1, 2]),\\n                                ('t_one_hot', OneHotEncoder(drop='first'),\\n                                 [0])])</td>\n",
              "      <td>0.487865</td>\n",
              "      <td>Manhattan</td>\n",
              "    </tr>\n",
              "    <tr>\n",
              "      <th>4</th>\n",
              "      <td>1</td>\n",
              "      <td>2</td>\n",
              "      <td>passthrough</td>\n",
              "      <td>ColumnTransformer(remainder='passthrough', sparse_threshold=0,\\n                  transformers=[('t_scaler_mm_1', MinMaxScaler(), [1]),\\n                                ('t_scaler_mm_2',\\n                                 MinMaxScaler(feature_range=(-0.5, 0.5)), [2]),\\n                                ('t_one_hot', OneHotEncoder(drop='first'),\\n                                 [0])])</td>\n",
              "      <td>0.502529</td>\n",
              "      <td>Euclidean</td>\n",
              "    </tr>\n",
              "  </tbody>\n",
              "</table>\n",
              "</div>"
            ],
            "text/plain": [
              "   knn__n_neighbors  knn__p                                  pca  \\\n",
              "0                 1       1                          passthrough   \n",
              "1                 1       1                          passthrough   \n",
              "2                 1       1  PCA(n_components=0.99, whiten=True)   \n",
              "3                 1       1  PCA(n_components=0.99, whiten=True)   \n",
              "4                 1       2                          passthrough   \n",
              "\n",
              "                                                                                                                                                                                                                                                                                                                                                                                               prep  \\\n",
              "0  ColumnTransformer(remainder='passthrough', sparse_threshold=0,\\n                  transformers=[('t_scaler_mm_1', MinMaxScaler(), [1]),\\n                                ('t_scaler_mm_2',\\n                                 MinMaxScaler(feature_range=(-0.5, 0.5)), [2]),\\n                                ('t_one_hot', OneHotEncoder(drop='first'),\\n                                 [0])])   \n",
              "1                                                                                                                                   ColumnTransformer(remainder='passthrough', sparse_threshold=0,\\n                  transformers=[('t_scaler_mm_1', MinMaxScaler(), [1, 2]),\\n                                ('t_one_hot', OneHotEncoder(drop='first'),\\n                                 [0])])   \n",
              "2  ColumnTransformer(remainder='passthrough', sparse_threshold=0,\\n                  transformers=[('t_scaler_mm_1', MinMaxScaler(), [1]),\\n                                ('t_scaler_mm_2',\\n                                 MinMaxScaler(feature_range=(-0.5, 0.5)), [2]),\\n                                ('t_one_hot', OneHotEncoder(drop='first'),\\n                                 [0])])   \n",
              "3                                                                                                                                   ColumnTransformer(remainder='passthrough', sparse_threshold=0,\\n                  transformers=[('t_scaler_mm_1', MinMaxScaler(), [1, 2]),\\n                                ('t_one_hot', OneHotEncoder(drop='first'),\\n                                 [0])])   \n",
              "4  ColumnTransformer(remainder='passthrough', sparse_threshold=0,\\n                  transformers=[('t_scaler_mm_1', MinMaxScaler(), [1]),\\n                                ('t_scaler_mm_2',\\n                                 MinMaxScaler(feature_range=(-0.5, 0.5)), [2]),\\n                                ('t_one_hot', OneHotEncoder(drop='first'),\\n                                 [0])])   \n",
              "\n",
              "   test_score     metric  \n",
              "0    0.509952  Manhattan  \n",
              "1    0.508717  Manhattan  \n",
              "2    0.487865  Manhattan  \n",
              "3    0.487865  Manhattan  \n",
              "4    0.502529  Euclidean  "
            ]
          },
          "metadata": {
            "tags": []
          },
          "execution_count": 67
        }
      ]
    },
    {
      "cell_type": "code",
      "metadata": {
        "id": "eqqWZ03cuStm",
        "colab": {
          "base_uri": "https://localhost:8080/",
          "height": 627
        },
        "outputId": "ba6ede72-916b-4909-e148-2d55e6d1c949"
      },
      "source": [
        "\n",
        "import matplotlib.pyplot as plt\n",
        "\n",
        "%matplotlib inline \n",
        "%config InlineBackend.figure_format = 'retina'\n",
        "plt.style.use(\"ggplot\")\n",
        "plt.rcParams[\"figure.figsize\"] = (15,10)\n",
        "\n",
        "for i in [\"Manhattan\", \"Euclidean\", \"Minkowski\"]:\n",
        "    temp = grid_results[grid_results['metric'] == i]\n",
        "    _ = plt.plot(temp['knn__n_neighbors'], temp['test_score'], marker = '.', label = i)\n",
        "    \n",
        "_ = plt.legend()\n",
        "_ = plt.xlabel('Number of Neighbors')\n",
        "_ = plt.ylabel(\"Mean CV Score\")\n",
        "_ = plt.title(\"KNN Performance Comparison\")\n",
        "plt.show()"
      ],
      "execution_count": null,
      "outputs": [
        {
          "output_type": "display_data",
          "data": {
            "image/png": "[encoded data removed]",
            "text/plain": [
              "<Figure size 1080x720 with 1 Axes>"
            ]
          },
          "metadata": {
            "tags": [],
            "image/png": {
              "width": 901,
              "height": 610
            }
          }
        }
      ]
    }
  ]
}