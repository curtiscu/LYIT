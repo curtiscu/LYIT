{
  "nbformat": 4,
  "nbformat_minor": 0,
  "metadata": {
    "colab": {
      "name": "BoxPlotTests.ipynb",
      "provenance": [],
      "collapsed_sections": [],
      "authorship_tag": "ABX9TyNSlGCFJvqoemXnJFzmVKd2",
      "include_colab_link": true
    },
    "kernelspec": {
      "name": "python3",
      "display_name": "Python 3"
    }
  },
  "cells": [
    {
      "cell_type": "markdown",
      "metadata": {
        "id": "view-in-github",
        "colab_type": "text"
      },
      "source": [
        "<a href=\"https://colab.research.google.com/github/curtiscu/LYIT/blob/master/BoxPlotTests.ipynb\" target=\"_parent\"><img src=\"https://colab.research.google.com/assets/colab-badge.svg\" alt=\"Open In Colab\"/></a>"
      ]
    },
    {
      "cell_type": "code",
      "metadata": {
        "id": "fJO_e3dh87ER",
        "colab_type": "code",
        "colab": {}
      },
      "source": [
        "import itertools\n",
        "import pandas as pd\n",
        "import numpy as np\n",
        "from pandas.plotting import boxplot_frame_groupby\n"
      ],
      "execution_count": 5,
      "outputs": []
    },
    {
      "cell_type": "code",
      "metadata": {
        "id": "hz32gFyTjRtI",
        "colab_type": "code",
        "colab": {}
      },
      "source": [
        "# print all cell output\n",
        "from IPython.core.interactiveshell import InteractiveShell\n",
        "InteractiveShell.ast_node_interactivity = \"all\"\n"
      ],
      "execution_count": 15,
      "outputs": []
    },
    {
      "cell_type": "code",
      "metadata": {
        "id": "TvAcaqAwiStv",
        "colab_type": "code",
        "colab": {}
      },
      "source": [
        "\n",
        "tuples = [t for t in itertools.product(range(1000), range(4))]\n",
        "index = pd.MultiIndex.from_tuples(tuples, names=['lvl0', 'lvl1'])\n",
        "data = np.random.randn(len(index),4)\n",
        "df = pd.DataFrame(data, columns=list('ABCD'), index=index)\n",
        "\n",
        "\n"
      ],
      "execution_count": 6,
      "outputs": []
    },
    {
      "cell_type": "code",
      "metadata": {
        "id": "wMjxhAqwiXis",
        "colab_type": "code",
        "colab": {
          "base_uri": "https://localhost:8080/",
          "height": 1000
        },
        "outputId": "84ca6388-eda8-4e0c-b9ee-b4c7e0c37921"
      },
      "source": [
        "df.info()\n",
        "df.head(30)"
      ],
      "execution_count": 21,
      "outputs": [
        {
          "output_type": "stream",
          "text": [
            "<class 'pandas.core.frame.DataFrame'>\n",
            "MultiIndex: 4000 entries, (0, 0) to (999, 3)\n",
            "Data columns (total 4 columns):\n",
            " #   Column  Non-Null Count  Dtype  \n",
            "---  ------  --------------  -----  \n",
            " 0   A       4000 non-null   float64\n",
            " 1   B       4000 non-null   float64\n",
            " 2   C       4000 non-null   float64\n",
            " 3   D       4000 non-null   float64\n",
            "dtypes: float64(4)\n",
            "memory usage: 184.7 KB\n"
          ],
          "name": "stdout"
        },
        {
          "output_type": "execute_result",
          "data": {
            "text/html": [
              "<div>\n",
              "<style scoped>\n",
              "    .dataframe tbody tr th:only-of-type {\n",
              "        vertical-align: middle;\n",
              "    }\n",
              "\n",
              "    .dataframe tbody tr th {\n",
              "        vertical-align: top;\n",
              "    }\n",
              "\n",
              "    .dataframe thead th {\n",
              "        text-align: right;\n",
              "    }\n",
              "</style>\n",
              "<table border=\"1\" class=\"dataframe\">\n",
              "  <thead>\n",
              "    <tr style=\"text-align: right;\">\n",
              "      <th></th>\n",
              "      <th></th>\n",
              "      <th>A</th>\n",
              "      <th>B</th>\n",
              "      <th>C</th>\n",
              "      <th>D</th>\n",
              "    </tr>\n",
              "    <tr>\n",
              "      <th>lvl0</th>\n",
              "      <th>lvl1</th>\n",
              "      <th></th>\n",
              "      <th></th>\n",
              "      <th></th>\n",
              "      <th></th>\n",
              "    </tr>\n",
              "  </thead>\n",
              "  <tbody>\n",
              "    <tr>\n",
              "      <th rowspan=\"4\" valign=\"top\">0</th>\n",
              "      <th>0</th>\n",
              "      <td>-0.457855</td>\n",
              "      <td>-0.466801</td>\n",
              "      <td>0.348080</td>\n",
              "      <td>0.016383</td>\n",
              "    </tr>\n",
              "    <tr>\n",
              "      <th>1</th>\n",
              "      <td>0.341937</td>\n",
              "      <td>-1.073739</td>\n",
              "      <td>-0.959752</td>\n",
              "      <td>2.422257</td>\n",
              "    </tr>\n",
              "    <tr>\n",
              "      <th>2</th>\n",
              "      <td>-1.845020</td>\n",
              "      <td>-0.315304</td>\n",
              "      <td>0.939079</td>\n",
              "      <td>-0.488762</td>\n",
              "    </tr>\n",
              "    <tr>\n",
              "      <th>3</th>\n",
              "      <td>-0.146755</td>\n",
              "      <td>2.969882</td>\n",
              "      <td>-0.715571</td>\n",
              "      <td>-0.090963</td>\n",
              "    </tr>\n",
              "    <tr>\n",
              "      <th rowspan=\"4\" valign=\"top\">1</th>\n",
              "      <th>0</th>\n",
              "      <td>2.396065</td>\n",
              "      <td>0.570916</td>\n",
              "      <td>-1.906507</td>\n",
              "      <td>-0.181079</td>\n",
              "    </tr>\n",
              "    <tr>\n",
              "      <th>1</th>\n",
              "      <td>-0.595790</td>\n",
              "      <td>0.676685</td>\n",
              "      <td>1.441090</td>\n",
              "      <td>-1.284129</td>\n",
              "    </tr>\n",
              "    <tr>\n",
              "      <th>2</th>\n",
              "      <td>-0.143014</td>\n",
              "      <td>-1.816577</td>\n",
              "      <td>0.238654</td>\n",
              "      <td>-1.946453</td>\n",
              "    </tr>\n",
              "    <tr>\n",
              "      <th>3</th>\n",
              "      <td>1.569961</td>\n",
              "      <td>-0.864033</td>\n",
              "      <td>-0.057218</td>\n",
              "      <td>-0.130609</td>\n",
              "    </tr>\n",
              "    <tr>\n",
              "      <th rowspan=\"4\" valign=\"top\">2</th>\n",
              "      <th>0</th>\n",
              "      <td>-0.147260</td>\n",
              "      <td>-0.702719</td>\n",
              "      <td>0.891157</td>\n",
              "      <td>1.425250</td>\n",
              "    </tr>\n",
              "    <tr>\n",
              "      <th>1</th>\n",
              "      <td>0.150283</td>\n",
              "      <td>-0.326545</td>\n",
              "      <td>-0.789057</td>\n",
              "      <td>0.360398</td>\n",
              "    </tr>\n",
              "    <tr>\n",
              "      <th>2</th>\n",
              "      <td>-0.799042</td>\n",
              "      <td>-0.507805</td>\n",
              "      <td>-0.177032</td>\n",
              "      <td>0.256943</td>\n",
              "    </tr>\n",
              "    <tr>\n",
              "      <th>3</th>\n",
              "      <td>0.206476</td>\n",
              "      <td>2.049435</td>\n",
              "      <td>0.290465</td>\n",
              "      <td>-0.309206</td>\n",
              "    </tr>\n",
              "    <tr>\n",
              "      <th rowspan=\"4\" valign=\"top\">3</th>\n",
              "      <th>0</th>\n",
              "      <td>-1.735630</td>\n",
              "      <td>-0.494464</td>\n",
              "      <td>-0.277530</td>\n",
              "      <td>-0.409655</td>\n",
              "    </tr>\n",
              "    <tr>\n",
              "      <th>1</th>\n",
              "      <td>0.849259</td>\n",
              "      <td>-0.523718</td>\n",
              "      <td>-0.617366</td>\n",
              "      <td>1.788549</td>\n",
              "    </tr>\n",
              "    <tr>\n",
              "      <th>2</th>\n",
              "      <td>0.436153</td>\n",
              "      <td>-0.580491</td>\n",
              "      <td>3.084749</td>\n",
              "      <td>-1.002365</td>\n",
              "    </tr>\n",
              "    <tr>\n",
              "      <th>3</th>\n",
              "      <td>-1.325664</td>\n",
              "      <td>0.757253</td>\n",
              "      <td>-0.295437</td>\n",
              "      <td>0.199481</td>\n",
              "    </tr>\n",
              "    <tr>\n",
              "      <th rowspan=\"4\" valign=\"top\">4</th>\n",
              "      <th>0</th>\n",
              "      <td>0.301598</td>\n",
              "      <td>1.295482</td>\n",
              "      <td>0.681560</td>\n",
              "      <td>-0.896673</td>\n",
              "    </tr>\n",
              "    <tr>\n",
              "      <th>1</th>\n",
              "      <td>-1.361453</td>\n",
              "      <td>-1.043944</td>\n",
              "      <td>-0.957181</td>\n",
              "      <td>0.013150</td>\n",
              "    </tr>\n",
              "    <tr>\n",
              "      <th>2</th>\n",
              "      <td>-0.005318</td>\n",
              "      <td>2.109733</td>\n",
              "      <td>0.995841</td>\n",
              "      <td>-0.982972</td>\n",
              "    </tr>\n",
              "    <tr>\n",
              "      <th>3</th>\n",
              "      <td>-0.005904</td>\n",
              "      <td>0.304174</td>\n",
              "      <td>-0.664543</td>\n",
              "      <td>-1.294944</td>\n",
              "    </tr>\n",
              "    <tr>\n",
              "      <th rowspan=\"4\" valign=\"top\">5</th>\n",
              "      <th>0</th>\n",
              "      <td>-1.368547</td>\n",
              "      <td>0.273686</td>\n",
              "      <td>0.645318</td>\n",
              "      <td>0.725417</td>\n",
              "    </tr>\n",
              "    <tr>\n",
              "      <th>1</th>\n",
              "      <td>-1.151534</td>\n",
              "      <td>-2.225667</td>\n",
              "      <td>0.923372</td>\n",
              "      <td>0.604068</td>\n",
              "    </tr>\n",
              "    <tr>\n",
              "      <th>2</th>\n",
              "      <td>0.691180</td>\n",
              "      <td>-1.070524</td>\n",
              "      <td>0.079501</td>\n",
              "      <td>0.237023</td>\n",
              "    </tr>\n",
              "    <tr>\n",
              "      <th>3</th>\n",
              "      <td>0.821367</td>\n",
              "      <td>-0.048328</td>\n",
              "      <td>-1.442182</td>\n",
              "      <td>-0.013362</td>\n",
              "    </tr>\n",
              "    <tr>\n",
              "      <th rowspan=\"4\" valign=\"top\">6</th>\n",
              "      <th>0</th>\n",
              "      <td>0.012449</td>\n",
              "      <td>-1.107258</td>\n",
              "      <td>0.147872</td>\n",
              "      <td>-0.691641</td>\n",
              "    </tr>\n",
              "    <tr>\n",
              "      <th>1</th>\n",
              "      <td>-0.475249</td>\n",
              "      <td>0.539004</td>\n",
              "      <td>-0.894862</td>\n",
              "      <td>-0.749112</td>\n",
              "    </tr>\n",
              "    <tr>\n",
              "      <th>2</th>\n",
              "      <td>-0.159700</td>\n",
              "      <td>0.003381</td>\n",
              "      <td>0.679565</td>\n",
              "      <td>-0.372546</td>\n",
              "    </tr>\n",
              "    <tr>\n",
              "      <th>3</th>\n",
              "      <td>0.338768</td>\n",
              "      <td>1.839571</td>\n",
              "      <td>-0.569295</td>\n",
              "      <td>0.407278</td>\n",
              "    </tr>\n",
              "    <tr>\n",
              "      <th rowspan=\"2\" valign=\"top\">7</th>\n",
              "      <th>0</th>\n",
              "      <td>0.220234</td>\n",
              "      <td>1.063449</td>\n",
              "      <td>1.346294</td>\n",
              "      <td>0.127565</td>\n",
              "    </tr>\n",
              "    <tr>\n",
              "      <th>1</th>\n",
              "      <td>-0.084313</td>\n",
              "      <td>0.260942</td>\n",
              "      <td>0.935429</td>\n",
              "      <td>-0.267894</td>\n",
              "    </tr>\n",
              "  </tbody>\n",
              "</table>\n",
              "</div>"
            ],
            "text/plain": [
              "                  A         B         C         D\n",
              "lvl0 lvl1                                        \n",
              "0    0    -0.457855 -0.466801  0.348080  0.016383\n",
              "     1     0.341937 -1.073739 -0.959752  2.422257\n",
              "     2    -1.845020 -0.315304  0.939079 -0.488762\n",
              "     3    -0.146755  2.969882 -0.715571 -0.090963\n",
              "1    0     2.396065  0.570916 -1.906507 -0.181079\n",
              "     1    -0.595790  0.676685  1.441090 -1.284129\n",
              "     2    -0.143014 -1.816577  0.238654 -1.946453\n",
              "     3     1.569961 -0.864033 -0.057218 -0.130609\n",
              "2    0    -0.147260 -0.702719  0.891157  1.425250\n",
              "     1     0.150283 -0.326545 -0.789057  0.360398\n",
              "     2    -0.799042 -0.507805 -0.177032  0.256943\n",
              "     3     0.206476  2.049435  0.290465 -0.309206\n",
              "3    0    -1.735630 -0.494464 -0.277530 -0.409655\n",
              "     1     0.849259 -0.523718 -0.617366  1.788549\n",
              "     2     0.436153 -0.580491  3.084749 -1.002365\n",
              "     3    -1.325664  0.757253 -0.295437  0.199481\n",
              "4    0     0.301598  1.295482  0.681560 -0.896673\n",
              "     1    -1.361453 -1.043944 -0.957181  0.013150\n",
              "     2    -0.005318  2.109733  0.995841 -0.982972\n",
              "     3    -0.005904  0.304174 -0.664543 -1.294944\n",
              "5    0    -1.368547  0.273686  0.645318  0.725417\n",
              "     1    -1.151534 -2.225667  0.923372  0.604068\n",
              "     2     0.691180 -1.070524  0.079501  0.237023\n",
              "     3     0.821367 -0.048328 -1.442182 -0.013362\n",
              "6    0     0.012449 -1.107258  0.147872 -0.691641\n",
              "     1    -0.475249  0.539004 -0.894862 -0.749112\n",
              "     2    -0.159700  0.003381  0.679565 -0.372546\n",
              "     3     0.338768  1.839571 -0.569295  0.407278\n",
              "7    0     0.220234  1.063449  1.346294  0.127565\n",
              "     1    -0.084313  0.260942  0.935429 -0.267894"
            ]
          },
          "metadata": {
            "tags": []
          },
          "execution_count": 21
        }
      ]
    },
    {
      "cell_type": "code",
      "metadata": {
        "id": "jSylWermm1kt",
        "colab_type": "code",
        "colab": {
          "base_uri": "https://localhost:8080/",
          "height": 287
        },
        "outputId": "155e15f8-9449-45a3-aa27-ca4e7532009b"
      },
      "source": [
        "df.describe()"
      ],
      "execution_count": 27,
      "outputs": [
        {
          "output_type": "execute_result",
          "data": {
            "text/html": [
              "<div>\n",
              "<style scoped>\n",
              "    .dataframe tbody tr th:only-of-type {\n",
              "        vertical-align: middle;\n",
              "    }\n",
              "\n",
              "    .dataframe tbody tr th {\n",
              "        vertical-align: top;\n",
              "    }\n",
              "\n",
              "    .dataframe thead th {\n",
              "        text-align: right;\n",
              "    }\n",
              "</style>\n",
              "<table border=\"1\" class=\"dataframe\">\n",
              "  <thead>\n",
              "    <tr style=\"text-align: right;\">\n",
              "      <th></th>\n",
              "      <th>A</th>\n",
              "      <th>B</th>\n",
              "      <th>C</th>\n",
              "      <th>D</th>\n",
              "    </tr>\n",
              "  </thead>\n",
              "  <tbody>\n",
              "    <tr>\n",
              "      <th>count</th>\n",
              "      <td>4000.000000</td>\n",
              "      <td>4000.000000</td>\n",
              "      <td>4000.000000</td>\n",
              "      <td>4000.000000</td>\n",
              "    </tr>\n",
              "    <tr>\n",
              "      <th>mean</th>\n",
              "      <td>0.016933</td>\n",
              "      <td>0.019129</td>\n",
              "      <td>-0.016275</td>\n",
              "      <td>-0.014532</td>\n",
              "    </tr>\n",
              "    <tr>\n",
              "      <th>std</th>\n",
              "      <td>0.995577</td>\n",
              "      <td>0.991802</td>\n",
              "      <td>0.993412</td>\n",
              "      <td>0.995444</td>\n",
              "    </tr>\n",
              "    <tr>\n",
              "      <th>min</th>\n",
              "      <td>-3.853475</td>\n",
              "      <td>-3.828106</td>\n",
              "      <td>-3.567706</td>\n",
              "      <td>-3.329832</td>\n",
              "    </tr>\n",
              "    <tr>\n",
              "      <th>25%</th>\n",
              "      <td>-0.677125</td>\n",
              "      <td>-0.637681</td>\n",
              "      <td>-0.673993</td>\n",
              "      <td>-0.689171</td>\n",
              "    </tr>\n",
              "    <tr>\n",
              "      <th>50%</th>\n",
              "      <td>0.024164</td>\n",
              "      <td>-0.011366</td>\n",
              "      <td>-0.024198</td>\n",
              "      <td>-0.017696</td>\n",
              "    </tr>\n",
              "    <tr>\n",
              "      <th>75%</th>\n",
              "      <td>0.696837</td>\n",
              "      <td>0.689973</td>\n",
              "      <td>0.659209</td>\n",
              "      <td>0.655533</td>\n",
              "    </tr>\n",
              "    <tr>\n",
              "      <th>max</th>\n",
              "      <td>3.639372</td>\n",
              "      <td>3.599237</td>\n",
              "      <td>3.368178</td>\n",
              "      <td>3.206648</td>\n",
              "    </tr>\n",
              "  </tbody>\n",
              "</table>\n",
              "</div>"
            ],
            "text/plain": [
              "                 A            B            C            D\n",
              "count  4000.000000  4000.000000  4000.000000  4000.000000\n",
              "mean      0.016933     0.019129    -0.016275    -0.014532\n",
              "std       0.995577     0.991802     0.993412     0.995444\n",
              "min      -3.853475    -3.828106    -3.567706    -3.329832\n",
              "25%      -0.677125    -0.637681    -0.673993    -0.689171\n",
              "50%       0.024164    -0.011366    -0.024198    -0.017696\n",
              "75%       0.696837     0.689973     0.659209     0.655533\n",
              "max       3.639372     3.599237     3.368178     3.206648"
            ]
          },
          "metadata": {
            "tags": []
          },
          "execution_count": 27
        }
      ]
    },
    {
      "cell_type": "code",
      "metadata": {
        "id": "1QJF5IdqiUy8",
        "colab_type": "code",
        "colab": {
          "base_uri": "https://localhost:8080/",
          "height": 755
        },
        "outputId": "db22f29f-5f1c-4c6f-a8dd-cf4952e9088c"
      },
      "source": [
        "grouped = df.groupby(level='lvl1')\n",
        "boxplot_frame_groupby(grouped, figsize=(30,15))\n",
        "\n"
      ],
      "execution_count": 26,
      "outputs": [
        {
          "output_type": "execute_result",
          "data": {
            "text/plain": [
              "0         AxesSubplot(0.1,0.559091;0.363636x0.340909)\n",
              "1    AxesSubplot(0.536364,0.559091;0.363636x0.340909)\n",
              "2             AxesSubplot(0.1,0.15;0.363636x0.340909)\n",
              "3        AxesSubplot(0.536364,0.15;0.363636x0.340909)\n",
              "dtype: object"
            ]
          },
          "metadata": {
            "tags": []
          },
          "execution_count": 26
        },
        {
          "output_type": "display_data",
          "data": {
            "image/png": "[encoded data removed]",
            "text/plain": [
              "<Figure size 2160x1080 with 4 Axes>"
            ]
          },
          "metadata": {
            "tags": [],
            "needs_background": "light"
          }
        }
      ]
    },
    {
      "cell_type": "code",
      "metadata": {
        "id": "zM_rmqj1l2jz",
        "colab_type": "code",
        "colab": {
          "base_uri": "https://localhost:8080/",
          "height": 698
        },
        "outputId": "bc361cd7-21a6-4eae-974a-be26fe9f4010"
      },
      "source": [
        "grouped = df.unstack(level='lvl1').groupby(level=0, axis=1)\n",
        "boxplot_frame_groupby(grouped, subplots=False, figsize=(30,15))"
      ],
      "execution_count": 25,
      "outputs": [
        {
          "output_type": "execute_result",
          "data": {
            "text/plain": [
              "<matplotlib.axes._subplots.AxesSubplot at 0x7effbf2c5860>"
            ]
          },
          "metadata": {
            "tags": []
          },
          "execution_count": 25
        },
        {
          "output_type": "display_data",
          "data": {
            "image/png": "[encoded data removed]",
            "text/plain": [
              "<Figure size 2160x1080 with 1 Axes>"
            ]
          },
          "metadata": {
            "tags": [],
            "needs_background": "light"
          }
        }
      ]
    }
  ]
}